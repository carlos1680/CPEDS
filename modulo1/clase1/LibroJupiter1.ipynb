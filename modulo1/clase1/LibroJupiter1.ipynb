{
 "cells": [
  {
   "cell_type": "code",
   "execution_count": 1,
   "metadata": {},
   "outputs": [],
   "source": [
    "###################################################\n",
    "###################################################\n",
    "# Importaciones\n",
    "import pandas       as pd\n",
    "import numpy        as np\n",
    "import matplotlib   as plt\n",
    "import sklearn      as sk\n",
    "import requests     as rq\n",
    "###################################################\n",
    "###################################################"
   ]
  },
  {
   "cell_type": "code",
   "execution_count": 2,
   "metadata": {},
   "outputs": [],
   "source": [
    "###################################################\n",
    "###################################################\n",
    "# Variables\n",
    "url = \"https://raw.githubusercontent.com/datasets/covid-19/main/data/countries-aggregated.csv\"\n",
    "archivo=\"datos.csv\"\n",
    "###################################################\n",
    "###################################################"
   ]
  },
  {
   "cell_type": "code",
   "execution_count": 3,
   "metadata": {},
   "outputs": [],
   "source": [
    "###################################################\n",
    "###################################################\n",
    "# Funciones\n",
    "###################################################\n",
    "#Obtener el archivo y guardarlo\n",
    "def getArchivo(url,archivo):\n",
    "    response = rq.get(url)\n",
    "    # Check if the request was successful (status code 200)\n",
    "    if response.status_code == 200:\n",
    "        # Save the content of the response to a local CSV file\n",
    "        with open(archivo, \"wb\") as f:\n",
    "            f.write(response.content)\n",
    "        print(\"CSV file downloaded successfully\")\n",
    "    else:\n",
    "        print(\"Failed to download CSV file. Status code:\", response.status_code)\n",
    "\n",
    "#Leer un archivo csv y devolver el dataframe\n",
    "def leerArchivo(archivo):\n",
    "    # Read the CSV file into a Pandas DataFrame\n",
    "    df = pd.read_csv(\"downloaded_data.csv\")\n",
    "    return df\n",
    "\n",
    "# Descargar archivo de datos, guardar archivo de datos y devolver dataframe\n",
    "def getDF(url,archivo):\n",
    "    getArchivo(url,archivo)\n",
    "    return (leerArchivo(archivo))"
   ]
  },
  {
   "cell_type": "code",
   "execution_count": 4,
   "metadata": {},
   "outputs": [
    {
     "name": "stdout",
     "output_type": "stream",
     "text": [
      "CSV file downloaded successfully\n",
      "\n",
      "--- HEAD ---\n",
      "         Date      Country  Confirmed  Recovered  Deaths\n",
      "0  2020-01-22  Afghanistan          0          0       0\n",
      "1  2020-01-23  Afghanistan          0          0       0\n",
      "2  2020-01-24  Afghanistan          0          0       0\n",
      "3  2020-01-25  Afghanistan          0          0       0\n",
      "4  2020-01-26  Afghanistan          0          0       0\n",
      "\n",
      "--- DESCRIBE ---\n",
      "          Confirmed     Recovered         Deaths\n",
      "count  1.615680e+05  1.615680e+05  161568.000000\n",
      "mean   7.361569e+05  1.453967e+05   13999.436089\n",
      "std    3.578884e+06  9.748275e+05   59113.581271\n",
      "min    0.000000e+00  0.000000e+00       0.000000\n",
      "25%    1.220000e+03  0.000000e+00      17.000000\n",
      "50%    2.369200e+04  1.260000e+02     365.000000\n",
      "75%    2.558420e+05  1.797225e+04    4509.000000\n",
      "max    8.062512e+07  3.097475e+07  988609.000000\n",
      "\n",
      "--- INFO ---\n",
      "<class 'pandas.core.frame.DataFrame'>\n",
      "RangeIndex: 161568 entries, 0 to 161567\n",
      "Data columns (total 5 columns):\n",
      " #   Column     Non-Null Count   Dtype \n",
      "---  ------     --------------   ----- \n",
      " 0   Date       161568 non-null  object\n",
      " 1   Country    161568 non-null  object\n",
      " 2   Confirmed  161568 non-null  int64 \n",
      " 3   Recovered  161568 non-null  int64 \n",
      " 4   Deaths     161568 non-null  int64 \n",
      "dtypes: int64(3), object(2)\n",
      "memory usage: 6.2+ MB\n",
      "None\n"
     ]
    }
   ],
   "source": [
    "###################################################\n",
    "###################################################\n",
    "\n",
    "dff=getDF(url,archivo)\n",
    "\n",
    "print(\"\\n--- HEAD ---\")\n",
    "print(dff.head())\n",
    "print(\"\\n--- DESCRIBE ---\")\n",
    "print(dff.describe())\n",
    "print(\"\\n--- INFO ---\")\n",
    "print(dff.info())"
   ]
  }
 ],
 "metadata": {
  "kernelspec": {
   "display_name": "Python 3",
   "language": "python",
   "name": "python3"
  },
  "language_info": {
   "codemirror_mode": {
    "name": "ipython",
    "version": 3
   },
   "file_extension": ".py",
   "mimetype": "text/x-python",
   "name": "python",
   "nbconvert_exporter": "python",
   "pygments_lexer": "ipython3",
   "version": "3.10.12"
  }
 },
 "nbformat": 4,
 "nbformat_minor": 2
}
