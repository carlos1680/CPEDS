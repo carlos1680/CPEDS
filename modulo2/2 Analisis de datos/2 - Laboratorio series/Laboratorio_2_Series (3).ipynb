{
 "cells": [
  {
   "cell_type": "markdown",
   "metadata": {
    "id": "pRw9aCmeTseK"
   },
   "source": [
    "## Paquetes y Series"
   ]
  },
  {
   "cell_type": "markdown",
   "metadata": {},
   "source": [
    "Una librería en Python es un conjunto de funciones y herramientas predefinidas que están diseñadas para realizar tareas específicas. Estas librerías están escritas en Python o en otros lenguajes y pueden ser utilizadas por los desarrolladores para facilitar la implementación de ciertas funcionalidades sin tener que escribir todo el código desde cero.\n",
    "\n",
    "Por ejemplo, pandas es una librería en Python que proporciona estructuras de datos y herramientas de análisis de datos. Está diseñada para trabajar con datos tabulares y ofrece funcionalidades para la manipulación, limpieza, visualización y análisis de datos.\n",
    "\n",
    "**En resumen, una librería en Python es un conjunto de funciones y herramientas que se pueden importar y utilizar en un programa para realizar tareas específicas de manera más eficiente.**"
   ]
  },
  {
   "cell_type": "code",
   "execution_count": 1,
   "metadata": {
    "id": "DDzqASMDS1a3"
   },
   "outputs": [],
   "source": [
    "import pandas as pd"
   ]
  },
  {
   "cell_type": "markdown",
   "metadata": {},
   "source": [
    "La serie es una estructura de datos unidimensional en donde cada dato tiene además una etiqueta."
   ]
  },
  {
   "cell_type": "code",
   "execution_count": 2,
   "metadata": {
    "colab": {
     "base_uri": "https://localhost:8080/"
    },
    "id": "PfxKoWtcU-FK",
    "outputId": "e29538d6-45f0-481c-f4ba-01eed27d4121"
   },
   "outputs": [
    {
     "data": {
      "text/plain": [
       "['Chocolate', 'Fresa', 'Vainilla', 'Sambayon']"
      ]
     },
     "execution_count": 2,
     "metadata": {},
     "output_type": "execute_result"
    }
   ],
   "source": [
    "sabores_helados = [\"Chocolate\" , \"Fresa\", \"Vainilla\", \"Sambayon\"]\n",
    "sabores_helados"
   ]
  },
  {
   "cell_type": "markdown",
   "metadata": {},
   "source": [
    "Para crear una serie se usa el constructor pd.Series() que es capaz de convertir a serie distintas estructuras como listas,\n",
    "diccionarios,etc."
   ]
  },
  {
   "cell_type": "code",
   "execution_count": 3,
   "metadata": {
    "colab": {
     "base_uri": "https://localhost:8080/"
    },
    "id": "kWEkH24kVhtN",
    "outputId": "66dd3b3c-d905-4daf-af25-827fca975141"
   },
   "outputs": [
    {
     "data": {
      "text/plain": [
       "0    Chocolate\n",
       "1        Fresa\n",
       "2     Vainilla\n",
       "3     Sambayon\n",
       "dtype: object"
      ]
     },
     "execution_count": 3,
     "metadata": {},
     "output_type": "execute_result"
    }
   ],
   "source": [
    "pd.Series(sabores_helados) "
   ]
  },
  {
   "cell_type": "code",
   "execution_count": 4,
   "metadata": {
    "colab": {
     "base_uri": "https://localhost:8080/"
    },
    "id": "DbxRNopZV1By",
    "outputId": "f8f17f6f-01ed-467a-a319-d2fabf460e27"
   },
   "outputs": [
    {
     "data": {
      "text/plain": [
       "0     1\n",
       "1     2\n",
       "2     3\n",
       "3    65\n",
       "4    34\n",
       "5    11\n",
       "dtype: int64"
      ]
     },
     "execution_count": 4,
     "metadata": {},
     "output_type": "execute_result"
    }
   ],
   "source": [
    "loteria = [1,2,3,65,34,11]\n",
    "\n",
    "pd.Series(loteria)"
   ]
  },
  {
   "cell_type": "code",
   "execution_count": 5,
   "metadata": {
    "colab": {
     "base_uri": "https://localhost:8080/"
    },
    "id": "RWH4EPrJWc8T",
    "outputId": "b4b9b94d-37f5-4570-c20e-bafd32a397ac"
   },
   "outputs": [
    {
     "data": {
      "text/plain": [
       "0     True\n",
       "1    False\n",
       "2     True\n",
       "3     True\n",
       "4    False\n",
       "dtype: bool"
      ]
     },
     "execution_count": 5,
     "metadata": {},
     "output_type": "execute_result"
    }
   ],
   "source": [
    "registros = [True, False, True, True, False]\n",
    "\n",
    "pd.Series(registros)"
   ]
  },
  {
   "cell_type": "markdown",
   "metadata": {
    "id": "k8FLvA5LXNGR"
   },
   "source": [
    "## Atributos de una serie"
   ]
  },
  {
   "cell_type": "code",
   "execution_count": 6,
   "metadata": {},
   "outputs": [
    {
     "data": {
      "text/plain": [
       "leche     2.99\n",
       "pan       4.45\n",
       "fideos    1.36\n",
       "dtype: float64"
      ]
     },
     "execution_count": 6,
     "metadata": {},
     "output_type": "execute_result"
    }
   ],
   "source": [
    "prices = [ 2.99, 4.45, 1.36]\n",
    "product = [\"leche\", \"pan\", \"fideos\"]\n",
    "\n",
    "supermercado = pd.Series(data = prices, index = product )\n",
    "\n",
    "supermercado"
   ]
  },
  {
   "cell_type": "code",
   "execution_count": 7,
   "metadata": {
    "colab": {
     "base_uri": "https://localhost:8080/"
    },
    "id": "XUwc6eOoW61P",
    "outputId": "14bbc48e-1acc-441c-dd20-fb1a41024b69"
   },
   "outputs": [
    {
     "data": {
      "text/plain": [
       "Index(['leche', 'pan', 'fideos'], dtype='object')"
      ]
     },
     "execution_count": 7,
     "metadata": {},
     "output_type": "execute_result"
    }
   ],
   "source": [
    "supermercado.index"
   ]
  },
  {
   "cell_type": "code",
   "execution_count": 8,
   "metadata": {
    "colab": {
     "base_uri": "https://localhost:8080/"
    },
    "id": "E-tDGqPUW65j",
    "outputId": "25093043-4fb0-4c3c-a8ab-b0e98e669415"
   },
   "outputs": [
    {
     "data": {
      "text/plain": [
       "array([2.99, 4.45, 1.36])"
      ]
     },
     "execution_count": 8,
     "metadata": {},
     "output_type": "execute_result"
    }
   ],
   "source": [
    "supermercado.values # Me muestra los valores de la serie"
   ]
  },
  {
   "cell_type": "code",
   "execution_count": 9,
   "metadata": {
    "colab": {
     "base_uri": "https://localhost:8080/"
    },
    "id": "7oeK00_uW6vH",
    "outputId": "ed814af3-c3f8-4bb4-bf7b-752074f807ae"
   },
   "outputs": [
    {
     "data": {
      "text/plain": [
       "dtype('float64')"
      ]
     },
     "execution_count": 9,
     "metadata": {},
     "output_type": "execute_result"
    }
   ],
   "source": [
    "supermercado.dtype"
   ]
  },
  {
   "cell_type": "code",
   "execution_count": 12,
   "metadata": {},
   "outputs": [
    {
     "data": {
      "text/plain": [
       "(3,)"
      ]
     },
     "execution_count": 12,
     "metadata": {},
     "output_type": "execute_result"
    }
   ],
   "source": [
    "supermercado.shape"
   ]
  },
  {
   "cell_type": "code",
   "execution_count": 11,
   "metadata": {},
   "outputs": [
    {
     "data": {
      "text/plain": [
       "3"
      ]
     },
     "execution_count": 11,
     "metadata": {},
     "output_type": "execute_result"
    }
   ],
   "source": [
    "supermercado.size"
   ]
  },
  {
   "cell_type": "code",
   "execution_count": 13,
   "metadata": {},
   "outputs": [
    {
     "data": {
      "text/plain": [
       "1"
      ]
     },
     "execution_count": 13,
     "metadata": {},
     "output_type": "execute_result"
    }
   ],
   "source": [
    "supermercado.ndim"
   ]
  },
  {
   "cell_type": "markdown",
   "metadata": {},
   "source": [
    "La serie tiene, además, un atributo name, atributo que también encontramos en el índice. Una vez los hemos fijado, se muestran junto con la estructura al imprimir la serie"
   ]
  },
  {
   "cell_type": "code",
   "execution_count": 14,
   "metadata": {},
   "outputs": [
    {
     "data": {
      "text/plain": [
       "leche     2.99\n",
       "pan       4.45\n",
       "fideos    1.36\n",
       "Name: Mi lista de supermercado, dtype: float64"
      ]
     },
     "execution_count": 14,
     "metadata": {},
     "output_type": "execute_result"
    }
   ],
   "source": [
    "supermercado.name = \"Mi lista de supermercado\"\n",
    "supermercado.head(4) "
   ]
  },
  {
   "cell_type": "markdown",
   "metadata": {
    "id": "GhVIldoQYSpa"
   },
   "source": [
    "## Selección de registros"
   ]
  },
  {
   "cell_type": "code",
   "execution_count": 15,
   "metadata": {},
   "outputs": [
    {
     "name": "stderr",
     "output_type": "stream",
     "text": [
      "/tmp/ipykernel_25389/4205133078.py:1: FutureWarning: Series.__getitem__ treating keys as positions is deprecated. In a future version, integer keys will always be treated as labels (consistent with DataFrame behavior). To access a value by position, use `ser.iloc[pos]`\n",
      "  supermercado[0]\n"
     ]
    },
    {
     "data": {
      "text/plain": [
       "2.99"
      ]
     },
     "execution_count": 15,
     "metadata": {},
     "output_type": "execute_result"
    }
   ],
   "source": [
    "supermercado[0]"
   ]
  },
  {
   "cell_type": "code",
   "execution_count": 16,
   "metadata": {},
   "outputs": [
    {
     "data": {
      "text/plain": [
       "leche    2.99\n",
       "pan      4.45\n",
       "Name: Mi lista de supermercado, dtype: float64"
      ]
     },
     "execution_count": 16,
     "metadata": {},
     "output_type": "execute_result"
    }
   ],
   "source": [
    "supermercado[0:2]"
   ]
  },
  {
   "cell_type": "code",
   "execution_count": 17,
   "metadata": {},
   "outputs": [
    {
     "data": {
      "text/plain": [
       "2.99"
      ]
     },
     "execution_count": 17,
     "metadata": {},
     "output_type": "execute_result"
    }
   ],
   "source": [
    "supermercado['leche']"
   ]
  },
  {
   "cell_type": "code",
   "execution_count": 18,
   "metadata": {},
   "outputs": [
    {
     "data": {
      "text/plain": [
       "<bound method Series.items of leche     2.99\n",
       "pan       4.45\n",
       "fideos    1.36\n",
       "Name: Mi lista de supermercado, dtype: float64>"
      ]
     },
     "execution_count": 18,
     "metadata": {},
     "output_type": "execute_result"
    }
   ],
   "source": [
    "supermercado.items"
   ]
  },
  {
   "cell_type": "markdown",
   "metadata": {},
   "source": [
    "## Fragmentos de comienzo a fin \n",
    "A nivel exploratorio, es bastante cómodo acceder a una porción inicial (o final) de los datos que manejamos. Esto se puede hacer de forma muy sencilla con series:"
   ]
  },
  {
   "cell_type": "code",
   "execution_count": 19,
   "metadata": {},
   "outputs": [
    {
     "data": {
      "text/plain": [
       "leche     2.99\n",
       "pan       4.45\n",
       "fideos    1.36\n",
       "Name: Mi lista de supermercado, dtype: float64"
      ]
     },
     "execution_count": 19,
     "metadata": {},
     "output_type": "execute_result"
    }
   ],
   "source": [
    "supermercado.head(3) #primeras 3 filas"
   ]
  },
  {
   "cell_type": "code",
   "execution_count": 20,
   "metadata": {},
   "outputs": [
    {
     "data": {
      "text/plain": [
       "leche     2.99\n",
       "pan       4.45\n",
       "fideos    1.36\n",
       "Name: Mi lista de supermercado, dtype: float64"
      ]
     },
     "execution_count": 20,
     "metadata": {},
     "output_type": "execute_result"
    }
   ],
   "source": [
    "supermercado.tail(4) #últimas 4 filas "
   ]
  },
  {
   "cell_type": "markdown",
   "metadata": {},
   "source": [
    "## Operaciones con series"
   ]
  },
  {
   "cell_type": "markdown",
   "metadata": {},
   "source": [
    "**Operaciones logicas:**"
   ]
  },
  {
   "cell_type": "code",
   "execution_count": 21,
   "metadata": {},
   "outputs": [
    {
     "data": {
      "text/plain": [
       "leche      True\n",
       "pan        True\n",
       "fideos    False\n",
       "Name: Mi lista de supermercado, dtype: bool"
      ]
     },
     "execution_count": 21,
     "metadata": {},
     "output_type": "execute_result"
    }
   ],
   "source": [
    "supermercado > 2 "
   ]
  },
  {
   "cell_type": "code",
   "execution_count": 22,
   "metadata": {},
   "outputs": [
    {
     "data": {
      "text/plain": [
       "leche    2.99\n",
       "pan      4.45\n",
       "Name: Mi lista de supermercado, dtype: float64"
      ]
     },
     "execution_count": 22,
     "metadata": {},
     "output_type": "execute_result"
    }
   ],
   "source": [
    "supermercado[supermercado > 2]"
   ]
  },
  {
   "cell_type": "markdown",
   "metadata": {},
   "source": [
    "**Operaciones Aritméticas**:\n",
    "\n",
    "Podemos operar entre series y escalares sin ningún tipo de problema:"
   ]
  },
  {
   "cell_type": "code",
   "execution_count": 23,
   "metadata": {},
   "outputs": [
    {
     "data": {
      "text/plain": [
       "leche     1.495\n",
       "pan       2.225\n",
       "fideos    0.680\n",
       "Name: Mi lista de supermercado, dtype: float64"
      ]
     },
     "execution_count": 23,
     "metadata": {},
     "output_type": "execute_result"
    }
   ],
   "source": [
    "supermercado/2"
   ]
  },
  {
   "cell_type": "code",
   "execution_count": 24,
   "metadata": {},
   "outputs": [],
   "source": [
    "descuentos = [0.15,0.18,0.02]"
   ]
  },
  {
   "cell_type": "code",
   "execution_count": 25,
   "metadata": {},
   "outputs": [
    {
     "data": {
      "text/plain": [
       "leche     0.4485\n",
       "pan       0.8010\n",
       "fideos    0.0272\n",
       "Name: Mi lista de supermercado, dtype: float64"
      ]
     },
     "execution_count": 25,
     "metadata": {},
     "output_type": "execute_result"
    }
   ],
   "source": [
    "supermercado*descuentos"
   ]
  },
  {
   "cell_type": "code",
   "execution_count": 26,
   "metadata": {},
   "outputs": [],
   "source": [
    "prueba_descuento = [0.15,0.18,0.02,0.1]"
   ]
  },
  {
   "cell_type": "code",
   "execution_count": 27,
   "metadata": {},
   "outputs": [
    {
     "ename": "ValueError",
     "evalue": "operands could not be broadcast together with shapes (3,) (4,) ",
     "output_type": "error",
     "traceback": [
      "\u001b[0;31m---------------------------------------------------------------------------\u001b[0m",
      "\u001b[0;31mValueError\u001b[0m                                Traceback (most recent call last)",
      "Cell \u001b[0;32mIn[27], line 1\u001b[0m\n\u001b[0;32m----> 1\u001b[0m \u001b[43msupermercado\u001b[49m\u001b[43m \u001b[49m\u001b[38;5;241;43m*\u001b[39;49m\u001b[43m \u001b[49m\u001b[43mprueba_descuento\u001b[49m\n",
      "File \u001b[0;32m/media/cpiriz/Charly/Personal/django/CPE/CPEDS/env/lib/python3.10/site-packages/pandas/core/ops/common.py:76\u001b[0m, in \u001b[0;36m_unpack_zerodim_and_defer.<locals>.new_method\u001b[0;34m(self, other)\u001b[0m\n\u001b[1;32m     72\u001b[0m             \u001b[38;5;28;01mreturn\u001b[39;00m \u001b[38;5;28mNotImplemented\u001b[39m\n\u001b[1;32m     74\u001b[0m other \u001b[38;5;241m=\u001b[39m item_from_zerodim(other)\n\u001b[0;32m---> 76\u001b[0m \u001b[38;5;28;01mreturn\u001b[39;00m \u001b[43mmethod\u001b[49m\u001b[43m(\u001b[49m\u001b[38;5;28;43mself\u001b[39;49m\u001b[43m,\u001b[49m\u001b[43m \u001b[49m\u001b[43mother\u001b[49m\u001b[43m)\u001b[49m\n",
      "File \u001b[0;32m/media/cpiriz/Charly/Personal/django/CPE/CPEDS/env/lib/python3.10/site-packages/pandas/core/arraylike.py:202\u001b[0m, in \u001b[0;36mOpsMixin.__mul__\u001b[0;34m(self, other)\u001b[0m\n\u001b[1;32m    200\u001b[0m \u001b[38;5;129m@unpack_zerodim_and_defer\u001b[39m(\u001b[38;5;124m\"\u001b[39m\u001b[38;5;124m__mul__\u001b[39m\u001b[38;5;124m\"\u001b[39m)\n\u001b[1;32m    201\u001b[0m \u001b[38;5;28;01mdef\u001b[39;00m \u001b[38;5;21m__mul__\u001b[39m(\u001b[38;5;28mself\u001b[39m, other):\n\u001b[0;32m--> 202\u001b[0m     \u001b[38;5;28;01mreturn\u001b[39;00m \u001b[38;5;28;43mself\u001b[39;49m\u001b[38;5;241;43m.\u001b[39;49m\u001b[43m_arith_method\u001b[49m\u001b[43m(\u001b[49m\u001b[43mother\u001b[49m\u001b[43m,\u001b[49m\u001b[43m \u001b[49m\u001b[43moperator\u001b[49m\u001b[38;5;241;43m.\u001b[39;49m\u001b[43mmul\u001b[49m\u001b[43m)\u001b[49m\n",
      "File \u001b[0;32m/media/cpiriz/Charly/Personal/django/CPE/CPEDS/env/lib/python3.10/site-packages/pandas/core/series.py:6135\u001b[0m, in \u001b[0;36mSeries._arith_method\u001b[0;34m(self, other, op)\u001b[0m\n\u001b[1;32m   6133\u001b[0m \u001b[38;5;28;01mdef\u001b[39;00m \u001b[38;5;21m_arith_method\u001b[39m(\u001b[38;5;28mself\u001b[39m, other, op):\n\u001b[1;32m   6134\u001b[0m     \u001b[38;5;28mself\u001b[39m, other \u001b[38;5;241m=\u001b[39m \u001b[38;5;28mself\u001b[39m\u001b[38;5;241m.\u001b[39m_align_for_op(other)\n\u001b[0;32m-> 6135\u001b[0m     \u001b[38;5;28;01mreturn\u001b[39;00m \u001b[43mbase\u001b[49m\u001b[38;5;241;43m.\u001b[39;49m\u001b[43mIndexOpsMixin\u001b[49m\u001b[38;5;241;43m.\u001b[39;49m\u001b[43m_arith_method\u001b[49m\u001b[43m(\u001b[49m\u001b[38;5;28;43mself\u001b[39;49m\u001b[43m,\u001b[49m\u001b[43m \u001b[49m\u001b[43mother\u001b[49m\u001b[43m,\u001b[49m\u001b[43m \u001b[49m\u001b[43mop\u001b[49m\u001b[43m)\u001b[49m\n",
      "File \u001b[0;32m/media/cpiriz/Charly/Personal/django/CPE/CPEDS/env/lib/python3.10/site-packages/pandas/core/base.py:1382\u001b[0m, in \u001b[0;36mIndexOpsMixin._arith_method\u001b[0;34m(self, other, op)\u001b[0m\n\u001b[1;32m   1379\u001b[0m     rvalues \u001b[38;5;241m=\u001b[39m np\u001b[38;5;241m.\u001b[39marange(rvalues\u001b[38;5;241m.\u001b[39mstart, rvalues\u001b[38;5;241m.\u001b[39mstop, rvalues\u001b[38;5;241m.\u001b[39mstep)\n\u001b[1;32m   1381\u001b[0m \u001b[38;5;28;01mwith\u001b[39;00m np\u001b[38;5;241m.\u001b[39merrstate(\u001b[38;5;28mall\u001b[39m\u001b[38;5;241m=\u001b[39m\u001b[38;5;124m\"\u001b[39m\u001b[38;5;124mignore\u001b[39m\u001b[38;5;124m\"\u001b[39m):\n\u001b[0;32m-> 1382\u001b[0m     result \u001b[38;5;241m=\u001b[39m \u001b[43mops\u001b[49m\u001b[38;5;241;43m.\u001b[39;49m\u001b[43marithmetic_op\u001b[49m\u001b[43m(\u001b[49m\u001b[43mlvalues\u001b[49m\u001b[43m,\u001b[49m\u001b[43m \u001b[49m\u001b[43mrvalues\u001b[49m\u001b[43m,\u001b[49m\u001b[43m \u001b[49m\u001b[43mop\u001b[49m\u001b[43m)\u001b[49m\n\u001b[1;32m   1384\u001b[0m \u001b[38;5;28;01mreturn\u001b[39;00m \u001b[38;5;28mself\u001b[39m\u001b[38;5;241m.\u001b[39m_construct_result(result, name\u001b[38;5;241m=\u001b[39mres_name)\n",
      "File \u001b[0;32m/media/cpiriz/Charly/Personal/django/CPE/CPEDS/env/lib/python3.10/site-packages/pandas/core/ops/array_ops.py:283\u001b[0m, in \u001b[0;36marithmetic_op\u001b[0;34m(left, right, op)\u001b[0m\n\u001b[1;32m    279\u001b[0m     _bool_arith_check(op, left, right)  \u001b[38;5;66;03m# type: ignore[arg-type]\u001b[39;00m\n\u001b[1;32m    281\u001b[0m     \u001b[38;5;66;03m# error: Argument 1 to \"_na_arithmetic_op\" has incompatible type\u001b[39;00m\n\u001b[1;32m    282\u001b[0m     \u001b[38;5;66;03m# \"Union[ExtensionArray, ndarray[Any, Any]]\"; expected \"ndarray[Any, Any]\"\u001b[39;00m\n\u001b[0;32m--> 283\u001b[0m     res_values \u001b[38;5;241m=\u001b[39m \u001b[43m_na_arithmetic_op\u001b[49m\u001b[43m(\u001b[49m\u001b[43mleft\u001b[49m\u001b[43m,\u001b[49m\u001b[43m \u001b[49m\u001b[43mright\u001b[49m\u001b[43m,\u001b[49m\u001b[43m \u001b[49m\u001b[43mop\u001b[49m\u001b[43m)\u001b[49m  \u001b[38;5;66;03m# type: ignore[arg-type]\u001b[39;00m\n\u001b[1;32m    285\u001b[0m \u001b[38;5;28;01mreturn\u001b[39;00m res_values\n",
      "File \u001b[0;32m/media/cpiriz/Charly/Personal/django/CPE/CPEDS/env/lib/python3.10/site-packages/pandas/core/ops/array_ops.py:218\u001b[0m, in \u001b[0;36m_na_arithmetic_op\u001b[0;34m(left, right, op, is_cmp)\u001b[0m\n\u001b[1;32m    215\u001b[0m     func \u001b[38;5;241m=\u001b[39m partial(expressions\u001b[38;5;241m.\u001b[39mevaluate, op)\n\u001b[1;32m    217\u001b[0m \u001b[38;5;28;01mtry\u001b[39;00m:\n\u001b[0;32m--> 218\u001b[0m     result \u001b[38;5;241m=\u001b[39m \u001b[43mfunc\u001b[49m\u001b[43m(\u001b[49m\u001b[43mleft\u001b[49m\u001b[43m,\u001b[49m\u001b[43m \u001b[49m\u001b[43mright\u001b[49m\u001b[43m)\u001b[49m\n\u001b[1;32m    219\u001b[0m \u001b[38;5;28;01mexcept\u001b[39;00m \u001b[38;5;167;01mTypeError\u001b[39;00m:\n\u001b[1;32m    220\u001b[0m     \u001b[38;5;28;01mif\u001b[39;00m \u001b[38;5;129;01mnot\u001b[39;00m is_cmp \u001b[38;5;129;01mand\u001b[39;00m (\n\u001b[1;32m    221\u001b[0m         left\u001b[38;5;241m.\u001b[39mdtype \u001b[38;5;241m==\u001b[39m \u001b[38;5;28mobject\u001b[39m \u001b[38;5;129;01mor\u001b[39;00m \u001b[38;5;28mgetattr\u001b[39m(right, \u001b[38;5;124m\"\u001b[39m\u001b[38;5;124mdtype\u001b[39m\u001b[38;5;124m\"\u001b[39m, \u001b[38;5;28;01mNone\u001b[39;00m) \u001b[38;5;241m==\u001b[39m \u001b[38;5;28mobject\u001b[39m\n\u001b[1;32m    222\u001b[0m     ):\n\u001b[0;32m   (...)\u001b[0m\n\u001b[1;32m    225\u001b[0m         \u001b[38;5;66;03m# Don't do this for comparisons, as that will handle complex numbers\u001b[39;00m\n\u001b[1;32m    226\u001b[0m         \u001b[38;5;66;03m#  incorrectly, see GH#32047\u001b[39;00m\n",
      "File \u001b[0;32m/media/cpiriz/Charly/Personal/django/CPE/CPEDS/env/lib/python3.10/site-packages/pandas/core/computation/expressions.py:242\u001b[0m, in \u001b[0;36mevaluate\u001b[0;34m(op, a, b, use_numexpr)\u001b[0m\n\u001b[1;32m    239\u001b[0m \u001b[38;5;28;01mif\u001b[39;00m op_str \u001b[38;5;129;01mis\u001b[39;00m \u001b[38;5;129;01mnot\u001b[39;00m \u001b[38;5;28;01mNone\u001b[39;00m:\n\u001b[1;32m    240\u001b[0m     \u001b[38;5;28;01mif\u001b[39;00m use_numexpr:\n\u001b[1;32m    241\u001b[0m         \u001b[38;5;66;03m# error: \"None\" not callable\u001b[39;00m\n\u001b[0;32m--> 242\u001b[0m         \u001b[38;5;28;01mreturn\u001b[39;00m \u001b[43m_evaluate\u001b[49m\u001b[43m(\u001b[49m\u001b[43mop\u001b[49m\u001b[43m,\u001b[49m\u001b[43m \u001b[49m\u001b[43mop_str\u001b[49m\u001b[43m,\u001b[49m\u001b[43m \u001b[49m\u001b[43ma\u001b[49m\u001b[43m,\u001b[49m\u001b[43m \u001b[49m\u001b[43mb\u001b[49m\u001b[43m)\u001b[49m  \u001b[38;5;66;03m# type: ignore[misc]\u001b[39;00m\n\u001b[1;32m    243\u001b[0m \u001b[38;5;28;01mreturn\u001b[39;00m _evaluate_standard(op, op_str, a, b)\n",
      "File \u001b[0;32m/media/cpiriz/Charly/Personal/django/CPE/CPEDS/env/lib/python3.10/site-packages/pandas/core/computation/expressions.py:73\u001b[0m, in \u001b[0;36m_evaluate_standard\u001b[0;34m(op, op_str, a, b)\u001b[0m\n\u001b[1;32m     71\u001b[0m \u001b[38;5;28;01mif\u001b[39;00m _TEST_MODE:\n\u001b[1;32m     72\u001b[0m     _store_test_result(\u001b[38;5;28;01mFalse\u001b[39;00m)\n\u001b[0;32m---> 73\u001b[0m \u001b[38;5;28;01mreturn\u001b[39;00m \u001b[43mop\u001b[49m\u001b[43m(\u001b[49m\u001b[43ma\u001b[49m\u001b[43m,\u001b[49m\u001b[43m \u001b[49m\u001b[43mb\u001b[49m\u001b[43m)\u001b[49m\n",
      "\u001b[0;31mValueError\u001b[0m: operands could not be broadcast together with shapes (3,) (4,) "
     ]
    }
   ],
   "source": [
    "supermercado * prueba_descuento"
   ]
  },
  {
   "cell_type": "code",
   "execution_count": null,
   "metadata": {},
   "outputs": [],
   "source": [
    "#ValueError: operands could not be broadcast together with shapes (3,) (4,) "
   ]
  },
  {
   "cell_type": "markdown",
   "metadata": {},
   "source": [
    "📢 Tener en cuenta que las operaciones se realizan entre registros que tienen el mismo índice (etiqueta)"
   ]
  },
  {
   "cell_type": "markdown",
   "metadata": {},
   "source": [
    "## Ordenación"
   ]
  },
  {
   "cell_type": "code",
   "execution_count": 28,
   "metadata": {
    "id": "BpWKiZcpZOzD"
   },
   "outputs": [],
   "source": [
    "pokemon = pd.read_csv(\"pokemon.csv\", \n",
    "                      usecols= [\"Pokemon\"])  "
   ]
  },
  {
   "cell_type": "code",
   "execution_count": 29,
   "metadata": {},
   "outputs": [],
   "source": [
    "pokemon = pokemon.squeeze('columns')\n",
    "# Squeeze es lo que transforma el dataset en una Serie\n",
    "# Los DataFrames con una sola columna o una sola fila se comprimen en una Serie."
   ]
  },
  {
   "cell_type": "code",
   "execution_count": 31,
   "metadata": {},
   "outputs": [],
   "source": [
    "type(pokemon)\n",
    "pokemon= pd.Series(sorted(pokemon))"
   ]
  },
  {
   "cell_type": "code",
   "execution_count": 32,
   "metadata": {},
   "outputs": [
    {
     "data": {
      "text/plain": [
       "0     Abomasnow\n",
       "1          Abra\n",
       "2         Absol\n",
       "3      Accelgor\n",
       "4     Aegislash\n",
       "5    Aerodactyl\n",
       "6        Aggron\n",
       "dtype: object"
      ]
     },
     "execution_count": 32,
     "metadata": {},
     "output_type": "execute_result"
    }
   ],
   "source": [
    "pokemon.sort_index(inplace = True)\n",
    "pokemon.head(7)"
   ]
  },
  {
   "cell_type": "code",
   "execution_count": 49,
   "metadata": {},
   "outputs": [
    {
     "data": {
      "text/plain": [
       "720      Zygarde\n",
       "719     Zweilous\n",
       "718        Zubat\n",
       "717        Zorua\n",
       "716      Zoroark\n",
       "         ...    \n",
       "4      Aegislash\n",
       "3       Accelgor\n",
       "2          Absol\n",
       "1           Abra\n",
       "0      Abomasnow\n",
       "Length: 721, dtype: object"
      ]
     },
     "execution_count": 49,
     "metadata": {},
     "output_type": "execute_result"
    }
   ],
   "source": [
    "pokemon.sort_values(ascending= False,inplace= False)"
   ]
  },
  {
   "cell_type": "markdown",
   "metadata": {},
   "source": [
    "## Contando valores"
   ]
  },
  {
   "cell_type": "code",
   "execution_count": 34,
   "metadata": {
    "colab": {
     "base_uri": "https://localhost:8080/"
    },
    "id": "Smt9ZuqceWnh",
    "outputId": "23fb835e-2eeb-4759-9387-51f556f71cb9"
   },
   "outputs": [],
   "source": [
    "google = pd.read_csv(\"google_stock_price.csv\")\n"
   ]
  },
  {
   "cell_type": "code",
   "execution_count": 35,
   "metadata": {},
   "outputs": [],
   "source": [
    "google = google.squeeze('columns')"
   ]
  },
  {
   "cell_type": "code",
   "execution_count": 36,
   "metadata": {},
   "outputs": [
    {
     "data": {
      "text/plain": [
       "0    50.12\n",
       "1    54.10\n",
       "2    54.65\n",
       "3    52.38\n",
       "4    52.95\n",
       "Name: Stock Price, dtype: float64"
      ]
     },
     "execution_count": 36,
     "metadata": {},
     "output_type": "execute_result"
    }
   ],
   "source": [
    "google.head()"
   ]
  },
  {
   "cell_type": "code",
   "execution_count": 37,
   "metadata": {},
   "outputs": [
    {
     "data": {
      "text/plain": [
       "Stock Price\n",
       "291.21    5\n",
       "307.94    3\n",
       "289.71    3\n",
       "243.26    3\n",
       "194.80    3\n",
       "         ..\n",
       "195.05    1\n",
       "193.26    1\n",
       "185.42    1\n",
       "172.83    1\n",
       "782.22    1\n",
       "Name: count, Length: 2886, dtype: int64"
      ]
     },
     "execution_count": 37,
     "metadata": {},
     "output_type": "execute_result"
    }
   ],
   "source": [
    "google.value_counts()"
   ]
  },
  {
   "cell_type": "code",
   "execution_count": 38,
   "metadata": {},
   "outputs": [
    {
     "data": {
      "text/plain": [
       "3012"
      ]
     },
     "execution_count": 38,
     "metadata": {},
     "output_type": "execute_result"
    }
   ],
   "source": [
    "google.count() #devuelve el número de valores «no nulos» que contiene la serie"
   ]
  },
  {
   "cell_type": "code",
   "execution_count": 39,
   "metadata": {},
   "outputs": [
    {
     "data": {
      "text/plain": [
       "(3012,)"
      ]
     },
     "execution_count": 39,
     "metadata": {},
     "output_type": "execute_result"
    }
   ],
   "source": [
    "google.shape  #hay nulos en la serie?"
   ]
  },
  {
   "cell_type": "markdown",
   "metadata": {},
   "source": [
    "## Funciones estadisticas\n",
    "Existen multitud de funciones estadísticas que podemos aplicar a una serie. Dependiendo del tipo de dato con el que estamos trabajando, serán más útiles unas que otras. Veamos  a modo de ejemplo:"
   ]
  },
  {
   "cell_type": "code",
   "execution_count": 40,
   "metadata": {
    "colab": {
     "base_uri": "https://localhost:8080/"
    },
    "id": "H6sP7NYdYgIF",
    "outputId": "3c2e07bf-9193-4f9b-d6b8-c0c2656df219"
   },
   "outputs": [
    {
     "data": {
      "text/plain": [
       "334.3100929614874"
      ]
     },
     "execution_count": 40,
     "metadata": {},
     "output_type": "execute_result"
    }
   ],
   "source": [
    "google.mean()"
   ]
  },
  {
   "cell_type": "code",
   "execution_count": 41,
   "metadata": {
    "colab": {
     "base_uri": "https://localhost:8080/"
    },
    "id": "EZpWA4myYsBW",
    "outputId": "18a22017-f18c-4cd1-a417-1eba5a7929c9"
   },
   "outputs": [
    {
     "data": {
      "text/plain": [
       "283.315"
      ]
     },
     "execution_count": 41,
     "metadata": {},
     "output_type": "execute_result"
    }
   ],
   "source": [
    "google.median()"
   ]
  },
  {
   "cell_type": "code",
   "execution_count": 42,
   "metadata": {},
   "outputs": [
    {
     "data": {
      "text/plain": [
       "0    291.21\n",
       "Name: Stock Price, dtype: float64"
      ]
     },
     "execution_count": 42,
     "metadata": {},
     "output_type": "execute_result"
    }
   ],
   "source": [
    "google.mode()"
   ]
  },
  {
   "cell_type": "code",
   "execution_count": 43,
   "metadata": {},
   "outputs": [
    {
     "data": {
      "text/plain": [
       "count    3012.000000\n",
       "mean      334.310093\n",
       "std       173.187205\n",
       "min        49.950000\n",
       "25%       218.045000\n",
       "50%       283.315000\n",
       "75%       443.000000\n",
       "max       782.220000\n",
       "Name: Stock Price, dtype: float64"
      ]
     },
     "execution_count": 43,
     "metadata": {},
     "output_type": "execute_result"
    }
   ],
   "source": [
    "google.describe()"
   ]
  },
  {
   "cell_type": "markdown",
   "metadata": {},
   "source": [
    "## Máximos y mínimos"
   ]
  },
  {
   "cell_type": "code",
   "execution_count": 44,
   "metadata": {},
   "outputs": [
    {
     "data": {
      "text/plain": [
       "782.22"
      ]
     },
     "execution_count": 44,
     "metadata": {},
     "output_type": "execute_result"
    }
   ],
   "source": [
    "google.max()"
   ]
  },
  {
   "cell_type": "code",
   "execution_count": 45,
   "metadata": {},
   "outputs": [
    {
     "data": {
      "text/plain": [
       "11"
      ]
     },
     "execution_count": 45,
     "metadata": {},
     "output_type": "execute_result"
    }
   ],
   "source": [
    "google.argmin() #Posición (índice) del valor mínimo"
   ]
  },
  {
   "cell_type": "code",
   "execution_count": 46,
   "metadata": {},
   "outputs": [
    {
     "data": {
      "text/plain": [
       "11    49.95\n",
       "9     50.07\n",
       "0     50.12\n",
       "Name: Stock Price, dtype: float64"
      ]
     },
     "execution_count": 46,
     "metadata": {},
     "output_type": "execute_result"
    }
   ],
   "source": [
    "google.nsmallest(3) # Obtener los n valores menores de una serie"
   ]
  },
  {
   "cell_type": "markdown",
   "metadata": {},
   "source": [
    "## Exportación de series"
   ]
  },
  {
   "cell_type": "code",
   "execution_count": 47,
   "metadata": {},
   "outputs": [
    {
     "data": {
      "text/plain": [
       "[50.12,\n",
       " 54.1,\n",
       " 54.65,\n",
       " 52.38,\n",
       " 52.95,\n",
       " 53.9,\n",
       " 53.02,\n",
       " 50.95,\n",
       " 51.13,\n",
       " 50.07,\n",
       " 50.7,\n",
       " 49.95,\n",
       " 50.74,\n",
       " 51.1,\n",
       " 51.1,\n",
       " 52.61,\n",
       " 53.7,\n",
       " 55.69,\n",
       " 55.94,\n",
       " 56.93,\n",
       " 58.69,\n",
       " 59.62,\n",
       " 58.86,\n",
       " 59.13,\n",
       " 60.35,\n",
       " 59.86,\n",
       " 59.07,\n",
       " 63.37,\n",
       " 65.47,\n",
       " 64.74,\n",
       " 66.22,\n",
       " 67.46,\n",
       " 69.12,\n",
       " 68.47,\n",
       " 69.36,\n",
       " 68.8,\n",
       " 67.56,\n",
       " 68.63,\n",
       " 70.38,\n",
       " 70.93,\n",
       " 71.98,\n",
       " 74.51,\n",
       " 73.9,\n",
       " 70.17,\n",
       " 74.62,\n",
       " 86.13,\n",
       " 93.61,\n",
       " 90.81,\n",
       " 92.89,\n",
       " 96.55,\n",
       " 95.22,\n",
       " 97.92,\n",
       " 97.34,\n",
       " 95.74,\n",
       " 92.26,\n",
       " 84.59,\n",
       " 86.19,\n",
       " 84.27,\n",
       " 83.85,\n",
       " 91.42,\n",
       " 90.91,\n",
       " 92.34,\n",
       " 86.19,\n",
       " 86.16,\n",
       " 83.69,\n",
       " 84.62,\n",
       " 82.47,\n",
       " 83.68,\n",
       " 87.29,\n",
       " 89.61,\n",
       " 90.43,\n",
       " 90.9,\n",
       " 89.89,\n",
       " 89.61,\n",
       " 90.11,\n",
       " 88.06,\n",
       " 85.63,\n",
       " 84.91,\n",
       " 86.63,\n",
       " 85.74,\n",
       " 85.14,\n",
       " 89.26,\n",
       " 89.8,\n",
       " 88.15,\n",
       " 89.95,\n",
       " 92.42,\n",
       " 91.78,\n",
       " 93.06,\n",
       " 93.86,\n",
       " 95.86,\n",
       " 96.28,\n",
       " 96.35,\n",
       " 98.7,\n",
       " 96.3,\n",
       " 101.25,\n",
       " 97.15,\n",
       " 96.66,\n",
       " 94.18,\n",
       " 96.83,\n",
       " 97.43,\n",
       " 96.67,\n",
       " 97.59,\n",
       " 97.57,\n",
       " 99.89,\n",
       " 101.85,\n",
       " 98.55,\n",
       " 96.86,\n",
       " 94.05,\n",
       " 90.27,\n",
       " 88.47,\n",
       " 94.53,\n",
       " 93.95,\n",
       " 95.07,\n",
       " 97.71,\n",
       " 95.85,\n",
       " 102.88,\n",
       " 105.32,\n",
       " 102.08,\n",
       " 97.92,\n",
       " 99.22,\n",
       " 95.69,\n",
       " 93.9,\n",
       " 93.61,\n",
       " 96.4,\n",
       " 97.52,\n",
       " 99.11,\n",
       " 98.85,\n",
       " 98.88,\n",
       " 95.59,\n",
       " 96.88,\n",
       " 94.35,\n",
       " 92.84,\n",
       " 93.9,\n",
       " 92.94,\n",
       " 92.5,\n",
       " 93.41,\n",
       " 92.86,\n",
       " 94.31,\n",
       " 92.51,\n",
       " 90.58,\n",
       " 89.9,\n",
       " 88.81,\n",
       " 87.41,\n",
       " 89.22,\n",
       " 87.71,\n",
       " 89.56,\n",
       " 89.93,\n",
       " 90.35,\n",
       " 89.21,\n",
       " 89.4,\n",
       " 89.54,\n",
       " 90.62,\n",
       " 89.7,\n",
       " 90.13,\n",
       " 90.16,\n",
       " 89.93,\n",
       " 92.55,\n",
       " 94.19,\n",
       " 94.52,\n",
       " 96.78,\n",
       " 95.93,\n",
       " 96.52,\n",
       " 96.88,\n",
       " 96.37,\n",
       " 95.63,\n",
       " 92.41,\n",
       " 93.39,\n",
       " 95.6,\n",
       " 98.95,\n",
       " 102.01,\n",
       " 107.8,\n",
       " 111.65,\n",
       " 109.27,\n",
       " 109.78,\n",
       " 109.62,\n",
       " 109.89,\n",
       " 111.03,\n",
       " 112.98,\n",
       " 114.14,\n",
       " 113.38,\n",
       " 113.9,\n",
       " 112.9,\n",
       " 113.79,\n",
       " 115.53,\n",
       " 114.25,\n",
       " 114.51,\n",
       " 115.41,\n",
       " 116.45,\n",
       " 119.46,\n",
       " 119.47,\n",
       " 120.68,\n",
       " 127.6,\n",
       " 127.87,\n",
       " 130.27,\n",
       " 129.47,\n",
       " 132.87,\n",
       " 138.5,\n",
       " 143.86,\n",
       " 143.81,\n",
       " 139.99,\n",
       " 145.32,\n",
       " 146.41,\n",
       " 139.64,\n",
       " 143.01,\n",
       " 141.11,\n",
       " 141.23,\n",
       " 139.04,\n",
       " 137.26,\n",
       " 138.58,\n",
       " 140.0,\n",
       " 143.21,\n",
       " 143.78,\n",
       " 144.51,\n",
       " 144.71,\n",
       " 148.48,\n",
       " 151.9,\n",
       " 150.85,\n",
       " 146.21,\n",
       " 146.93,\n",
       " 145.48,\n",
       " 147.71,\n",
       " 145.62,\n",
       " 147.62,\n",
       " 147.97,\n",
       " 146.53,\n",
       " 145.75,\n",
       " 149.28,\n",
       " 150.29,\n",
       " 150.44,\n",
       " 149.62,\n",
       " 154.8,\n",
       " 155.84,\n",
       " 156.81,\n",
       " 151.05,\n",
       " 147.78,\n",
       " 147.9,\n",
       " 148.32,\n",
       " 146.6,\n",
       " 143.74,\n",
       " 145.66,\n",
       " 149.45,\n",
       " 148.5,\n",
       " 148.72,\n",
       " 146.03,\n",
       " 145.48,\n",
       " 145.64,\n",
       " 142.7,\n",
       " 141.88,\n",
       " 144.72,\n",
       " 141.86,\n",
       " 142.68,\n",
       " 142.41,\n",
       " 139.86,\n",
       " 139.86,\n",
       " 136.87,\n",
       " 139.65,\n",
       " 141.14,\n",
       " 141.15,\n",
       " 141.65,\n",
       " 144.08,\n",
       " 143.49,\n",
       " 142.86,\n",
       " 142.98,\n",
       " 144.08,\n",
       " 143.41,\n",
       " 147.29,\n",
       " 147.55,\n",
       " 149.4,\n",
       " 154.72,\n",
       " 155.68,\n",
       " 151.35,\n",
       " 151.16,\n",
       " 149.95,\n",
       " 151.74,\n",
       " 153.8,\n",
       " 155.79,\n",
       " 155.53,\n",
       " 157.52,\n",
       " 156.98,\n",
       " 156.81,\n",
       " 152.85,\n",
       " 154.66,\n",
       " 158.07,\n",
       " 159.18,\n",
       " 155.34,\n",
       " 155.2,\n",
       " 156.22,\n",
       " 156.34,\n",
       " 155.17,\n",
       " 152.9,\n",
       " 150.33,\n",
       " 148.57,\n",
       " 147.92,\n",
       " 152.35,\n",
       " 151.49,\n",
       " 154.2,\n",
       " 151.45,\n",
       " 169.78,\n",
       " 174.15,\n",
       " 173.28,\n",
       " 177.54,\n",
       " 176.35,\n",
       " 178.91,\n",
       " 185.88,\n",
       " 189.5,\n",
       " 189.65,\n",
       " 192.78,\n",
       " 195.02,\n",
       " 197.32,\n",
       " 194.76,\n",
       " 189.39,\n",
       " 195.35,\n",
       " 195.0,\n",
       " 198.29,\n",
       " 196.2,\n",
       " 198.88,\n",
       " 201.52,\n",
       " 199.9,\n",
       " 204.48,\n",
       " 208.03,\n",
       " 211.22,\n",
       " 214.1,\n",
       " 211.53,\n",
       " 201.57,\n",
       " 202.25,\n",
       " 206.84,\n",
       " 208.64,\n",
       " 202.72,\n",
       " 202.07,\n",
       " 201.91,\n",
       " 205.12,\n",
       " 204.4,\n",
       " 206.1,\n",
       " 208.54,\n",
       " 209.27,\n",
       " 211.05,\n",
       " 214.86,\n",
       " 212.09,\n",
       " 214.66,\n",
       " 212.95,\n",
       " 215.8,\n",
       " 215.25,\n",
       " 212.11,\n",
       " 213.13,\n",
       " 209.86,\n",
       " 207.22,\n",
       " 217.4,\n",
       " 222.4,\n",
       " 225.39,\n",
       " 232.6,\n",
       " 233.22,\n",
       " 234.65,\n",
       " 235.58,\n",
       " 231.58,\n",
       " 232.89,\n",
       " 233.32,\n",
       " 222.23,\n",
       " 218.0,\n",
       " 199.53,\n",
       " 213.54,\n",
       " 221.29,\n",
       " 216.28,\n",
       " 216.92,\n",
       " 216.53,\n",
       " 213.2,\n",
       " 216.11,\n",
       " 200.69,\n",
       " 197.82,\n",
       " 190.59,\n",
       " 192.36,\n",
       " 183.78,\n",
       " 184.36,\n",
       " 179.21,\n",
       " 181.12,\n",
       " 172.68,\n",
       " 171.49,\n",
       " 171.02,\n",
       " 183.05,\n",
       " 184.19,\n",
       " 183.11,\n",
       " 182.56,\n",
       " 188.85,\n",
       " 188.51,\n",
       " 194.99,\n",
       " 181.13,\n",
       " 182.22,\n",
       " 188.04,\n",
       " 188.9,\n",
       " 183.87,\n",
       " 182.04,\n",
       " 176.76,\n",
       " 171.33,\n",
       " 168.58,\n",
       " 168.36,\n",
       " 175.4,\n",
       " 172.08,\n",
       " 169.22,\n",
       " 169.73,\n",
       " 173.92,\n",
       " 169.79,\n",
       " 169.94,\n",
       " 170.77,\n",
       " 182.72,\n",
       " 184.66,\n",
       " 188.41,\n",
       " 197.29,\n",
       " 194.03,\n",
       " 194.8,\n",
       " 194.66,\n",
       " 201.97,\n",
       " 203.79,\n",
       " 205.38,\n",
       " 202.88,\n",
       " 207.98,\n",
       " 204.63,\n",
       " 204.27,\n",
       " 200.88,\n",
       " 203.21,\n",
       " 201.92,\n",
       " 205.04,\n",
       " 207.29,\n",
       " 218.33,\n",
       " 220.03,\n",
       " 213.37,\n",
       " 212.77,\n",
       " 209.8,\n",
       " 208.76,\n",
       " 199.25,\n",
       " 197.2,\n",
       " 196.89,\n",
       " 197.18,\n",
       " 196.95,\n",
       " 197.19,\n",
       " 204.2,\n",
       " 201.29,\n",
       " 193.31,\n",
       " 186.88,\n",
       " 187.91,\n",
       " 185.46,\n",
       " 187.06,\n",
       " 185.31,\n",
       " 184.82,\n",
       " 185.29,\n",
       " 187.6,\n",
       " 190.43,\n",
       " 191.3,\n",
       " 190.48,\n",
       " 185.78,\n",
       " 185.72,\n",
       " 191.12,\n",
       " 189.53,\n",
       " 187.03,\n",
       " 194.8,\n",
       " 193.06,\n",
       " 196.45,\n",
       " 193.09,\n",
       " 190.58,\n",
       " 193.07,\n",
       " 192.0,\n",
       " 195.3,\n",
       " 195.15,\n",
       " 193.88,\n",
       " 193.39,\n",
       " 200.86,\n",
       " 199.78,\n",
       " 202.23,\n",
       " 201.91,\n",
       " 200.96,\n",
       " 202.85,\n",
       " 208.7,\n",
       " 209.46,\n",
       " 211.39,\n",
       " 210.52,\n",
       " 211.38,\n",
       " 210.01,\n",
       " 208.89,\n",
       " 212.07,\n",
       " 208.42,\n",
       " 204.21,\n",
       " 201.55,\n",
       " 203.74,\n",
       " 201.32,\n",
       " 199.3,\n",
       " 193.37,\n",
       " 194.86,\n",
       " 195.25,\n",
       " 194.49,\n",
       " 192.56,\n",
       " 191.01,\n",
       " 193.87,\n",
       " 193.11,\n",
       " 187.57,\n",
       " 183.43,\n",
       " 187.51,\n",
       " 186.74,\n",
       " 188.79,\n",
       " 190.31,\n",
       " 188.28,\n",
       " 186.91,\n",
       " 184.07,\n",
       " 184.53,\n",
       " 190.29,\n",
       " 193.67,\n",
       " 192.71,\n",
       " 191.49,\n",
       " 188.46,\n",
       " 188.96,\n",
       " 186.53,\n",
       " 186.68,\n",
       " 186.44,\n",
       " 190.28,\n",
       " 189.29,\n",
       " 190.18,\n",
       " 189.08,\n",
       " 189.11,\n",
       " 191.99,\n",
       " 189.88,\n",
       " 189.06,\n",
       " 188.74,\n",
       " 191.85,\n",
       " 195.75,\n",
       " 203.08,\n",
       " 201.79,\n",
       " 204.74,\n",
       " 207.14,\n",
       " 201.7,\n",
       " 198.3,\n",
       " 203.22,\n",
       " 201.69,\n",
       " 201.79,\n",
       " 203.23,\n",
       " 201.26,\n",
       " 201.59,\n",
       " 200.75,\n",
       " 200.52,\n",
       " 201.82,\n",
       " 207.64,\n",
       " 205.7,\n",
       " 210.04,\n",
       " 214.29,\n",
       " 213.11,\n",
       " 213.04,\n",
       " 213.51,\n",
       " 213.44,\n",
       " 210.66,\n",
       " 210.11,\n",
       " 209.44,\n",
       " 212.82,\n",
       " 229.61,\n",
       " 240.15,\n",
       " 236.42,\n",
       " 243.06,\n",
       " 242.31,\n",
       " 237.36,\n",
       " 238.05,\n",
       " 237.96,\n",
       " 233.52,\n",
       " 234.72,\n",
       " 235.66,\n",
       " 238.24,\n",
       " 236.05,\n",
       " 237.26,\n",
       " 236.08,\n",
       " 236.54,\n",
       " 240.27,\n",
       " 244.41,\n",
       " 245.72,\n",
       " 247.7,\n",
       " 249.15,\n",
       " 247.28,\n",
       " 254.57,\n",
       " 253.75,\n",
       " 252.2,\n",
       " 242.13,\n",
       " 244.51,\n",
       " 242.08,\n",
       " 242.16,\n",
       " 240.16,\n",
       " 242.18,\n",
       " 243.26,\n",
       " 244.11,\n",
       " 241.08,\n",
       " 241.81,\n",
       " 241.72,\n",
       " 240.65,\n",
       " 239.26,\n",
       " 240.82,\n",
       " 239.91,\n",
       " 231.17,\n",
       " 234.08,\n",
       " 231.22,\n",
       " 227.87,\n",
       " 227.56,\n",
       " 228.54,\n",
       " 233.78,\n",
       " 231.05,\n",
       " 230.01,\n",
       " 233.56,\n",
       " 241.39,\n",
       " 243.35,\n",
       " 241.55,\n",
       " 242.51,\n",
       " 244.49,\n",
       " 249.61,\n",
       " 252.25,\n",
       " 251.89,\n",
       " 248.39,\n",
       " 243.67,\n",
       " 244.63,\n",
       " 240.18,\n",
       " 239.29,\n",
       " 249.28,\n",
       " 243.8,\n",
       " 247.67,\n",
       " 245.99,\n",
       " 246.91,\n",
       " 250.5,\n",
       " 240.63,\n",
       " 240.51,\n",
       " 233.35,\n",
       " 235.5,\n",
       " 234.77,\n",
       " 235.28,\n",
       " 230.71,\n",
       " 228.92,\n",
       " 229.32,\n",
       " 232.73,\n",
       " 230.5,\n",
       " 234.74,\n",
       " 235.81,\n",
       " 237.69,\n",
       " 237.69,\n",
       " 235.07,\n",
       " 232.23,\n",
       " 224.16,\n",
       " 224.5,\n",
       " 223.89,\n",
       " 219.12,\n",
       " 220.25,\n",
       " 228.55,\n",
       " 227.59,\n",
       " 227.13,\n",
       " 226.25,\n",
       " 227.15,\n",
       " 221.29,\n",
       " 223.78,\n",
       " 222.87,\n",
       " 220.2,\n",
       " 223.39,\n",
       " 222.42,\n",
       " 228.05,\n",
       " 230.79,\n",
       " 230.68,\n",
       " 232.27,\n",
       " 231.58,\n",
       " 230.71,\n",
       " 230.23,\n",
       " 228.85,\n",
       " 229.04,\n",
       " 236.06,\n",
       " 235.27,\n",
       " 235.52,\n",
       " 233.87,\n",
       " 233.02,\n",
       " 232.03,\n",
       " 233.46,\n",
       " 232.91,\n",
       " 236.9,\n",
       " 236.16,\n",
       " 237.77,\n",
       " 235.59,\n",
       " 241.0,\n",
       " 239.3,\n",
       " 238.53,\n",
       " 238.76,\n",
       " 240.35,\n",
       " 239.27,\n",
       " 235.45,\n",
       " 234.27,\n",
       " 232.66,\n",
       " 236.38,\n",
       " 235.32,\n",
       " 233.4,\n",
       " 233.17,\n",
       " 234.39,\n",
       " 230.5,\n",
       " 233.14,\n",
       " 230.66,\n",
       " 228.77,\n",
       " 236.07,\n",
       " 235.24,\n",
       " 234.92,\n",
       " 235.06,\n",
       " 237.69,\n",
       " 236.75,\n",
       " 236.93,\n",
       " 241.52,\n",
       " 243.31,\n",
       " 249.05,\n",
       " 248.71,\n",
       " 249.95,\n",
       " 253.28,\n",
       " 259.16,\n",
       " 258.87,\n",
       " 257.27,\n",
       " 257.49,\n",
       " 255.41,\n",
       " 252.13,\n",
       " 252.37,\n",
       " 251.17,\n",
       " 252.69,\n",
       " 257.34,\n",
       " 256.9,\n",
       " 254.73,\n",
       " 256.8,\n",
       " 262.23,\n",
       " 263.45,\n",
       " 264.86,\n",
       " 262.88,\n",
       " 262.24,\n",
       " 261.09,\n",
       " 264.92,\n",
       " 266.9,\n",
       " 270.54,\n",
       " 269.43,\n",
       " 271.01,\n",
       " 271.4,\n",
       " 271.96,\n",
       " 272.39,\n",
       " 275.8,\n",
       " 276.22,\n",
       " 277.22,\n",
       " 274.48,\n",
       " 274.02,\n",
       " 259.8,\n",
       " 256.0,\n",
       " 256.74,\n",
       " 254.63,\n",
       " 253.75,\n",
       " 255.69,\n",
       " 257.8,\n",
       " 254.74,\n",
       " 256.21,\n",
       " 255.25,\n",
       " 251.25,\n",
       " 254.74,\n",
       " 257.75,\n",
       " 262.63,\n",
       " 257.11,\n",
       " 257.62,\n",
       " 257.49,\n",
       " 254.05,\n",
       " 248.53,\n",
       " 245.51,\n",
       " 249.77,\n",
       " 248.71,\n",
       " 253.05,\n",
       " 256.12,\n",
       " 255.84,\n",
       " 257.24,\n",
       " 256.37,\n",
       " 252.95,\n",
       " 256.18,\n",
       " 255.44,\n",
       " 257.37,\n",
       " 262.31,\n",
       " 263.64,\n",
       " 261.5,\n",
       " 259.42,\n",
       " 256.98,\n",
       " 260.4,\n",
       " 261.06,\n",
       " 262.13,\n",
       " 264.11,\n",
       " 262.39,\n",
       " 267.37,\n",
       " 273.15,\n",
       " 276.14,\n",
       " 279.77,\n",
       " 283.73,\n",
       " 284.22,\n",
       " 283.8,\n",
       " 283.47,\n",
       " 283.35,\n",
       " 290.98,\n",
       " 291.9,\n",
       " 291.72,\n",
       " 289.23,\n",
       " 296.73,\n",
       " 304.51,\n",
       " 307.28,\n",
       " 312.38,\n",
       " 310.69,\n",
       " 318.38,\n",
       " 309.74,\n",
       " 307.69,\n",
       " 316.42,\n",
       " 319.49,\n",
       " 322.03,\n",
       " 325.05,\n",
       " 337.55,\n",
       " 337.57,\n",
       " 333.92,\n",
       " 336.96,\n",
       " 339.28,\n",
       " 347.04,\n",
       " 353.15,\n",
       " 351.25,\n",
       " 355.27,\n",
       " 362.46,\n",
       " 370.52,\n",
       " 366.1,\n",
       " 346.57,\n",
       " 331.65,\n",
       " 315.72,\n",
       " 329.94,\n",
       " 320.52,\n",
       " 314.51,\n",
       " 316.5,\n",
       " 312.61,\n",
       " 323.95,\n",
       " 329.93,\n",
       " 338.01,\n",
       " 332.7,\n",
       " 336.45,\n",
       " 345.78,\n",
       " 348.15,\n",
       " 346.15,\n",
       " 340.42,\n",
       " 341.74,\n",
       " 348.91,\n",
       " 357.27,\n",
       " 357.08,\n",
       " 358.85,\n",
       " 349.25,\n",
       " 349.33,\n",
       " 346.68,\n",
       " 344.64,\n",
       " 334.28,\n",
       " 336.34,\n",
       " 338.35,\n",
       " 344.5,\n",
       " 348.0,\n",
       " 350.01,\n",
       " 355.06,\n",
       " 350.02,\n",
       " 350.91,\n",
       " 345.39,\n",
       " 342.25,\n",
       " 342.32,\n",
       " 328.17,\n",
       " 324.3,\n",
       " 315.52,\n",
       " 326.27,\n",
       " 323.04,\n",
       " 318.81,\n",
       " 326.58,\n",
       " 318.51,\n",
       " 307.67,\n",
       " 300.09,\n",
       " 299.82,\n",
       " 291.88,\n",
       " 274.04,\n",
       " 286.96,\n",
       " 282.92,\n",
       " 277.71,\n",
       " 274.98,\n",
       " 273.86,\n",
       " 281.87,\n",
       " 257.69,\n",
       " 247.47,\n",
       " 253.15,\n",
       " 250.6,\n",
       " 252.22,\n",
       " 258.09,\n",
       " 260.32,\n",
       " 258.79,\n",
       " 267.04,\n",
       " 265.86,\n",
       " 264.56,\n",
       " 254.22,\n",
       " 254.25,\n",
       " 251.18,\n",
       " 253.65,\n",
       " 242.98,\n",
       " 231.86,\n",
       " 236.19,\n",
       " 237.46,\n",
       " 235.35,\n",
       " 228.28,\n",
       " 222.08,\n",
       " 223.63,\n",
       " 216.13,\n",
       " 216.46,\n",
       " 206.6,\n",
       " 219.7,\n",
       " 219.87,\n",
       " 221.28,\n",
       " 218.74,\n",
       " 209.73,\n",
       " 219.36,\n",
       " 215.78,\n",
       " 216.56,\n",
       " 230.05,\n",
       " 225.16,\n",
       " 228.87,\n",
       " 221.82,\n",
       " 218.82,\n",
       " 220.01,\n",
       " 232.62,\n",
       " 232.62,\n",
       " 227.33,\n",
       " 235.31,\n",
       " 238.17,\n",
       " 233.67,\n",
       " 231.86,\n",
       " 234.3,\n",
       " 228.5,\n",
       " 225.6,\n",
       " 223.2,\n",
       " 227.29,\n",
       " 224.55,\n",
       " 269.44,\n",
       " 268.63,\n",
       " 277.22,\n",
       " 272.97,\n",
       " 271.25,\n",
       " 271.76,\n",
       " 275.78,\n",
       " 278.96,\n",
       " 286.86,\n",
       " 296.24,\n",
       " 290.35,\n",
       " 297.15,\n",
       " 292.89,\n",
       " 289.21,\n",
       " 291.21,\n",
       " 286.3,\n",
       " 292.18,\n",
       " 291.21,\n",
       " 287.86,\n",
       " 290.21,\n",
       " 289.74,\n",
       " 288.47,\n",
       " 289.01,\n",
       " 274.72,\n",
       " 274.46,\n",
       " 272.04,\n",
       " 280.17,\n",
       " 283.84,\n",
       " 291.21,\n",
       " 292.61,\n",
       " 287.21,\n",
       " 283.37,\n",
       " 285.82,\n",
       " 292.86,\n",
       " 283.22,\n",
       " 278.66,\n",
       " 276.81,\n",
       " 272.33,\n",
       " 276.2,\n",
       " 285.47,\n",
       " 286.12,\n",
       " 284.45,\n",
       " 280.91,\n",
       " 279.82,\n",
       " 272.94,\n",
       " 272.33,\n",
       " 270.88,\n",
       " 275.22,\n",
       " 264.15,\n",
       " 263.77,\n",
       " 262.95,\n",
       " 267.1,\n",
       " 263.26,\n",
       " 268.23,\n",
       " 271.68,\n",
       " 276.99,\n",
       " 270.5,\n",
       " 270.02,\n",
       " 266.63,\n",
       " 260.55,\n",
       " 257.79,\n",
       " 267.53,\n",
       " 266.45,\n",
       " 240.42,\n",
       " 234.17,\n",
       " 238.32,\n",
       " 244.37,\n",
       " 237.57,\n",
       " 245.74,\n",
       " 238.32,\n",
       " 241.31,\n",
       " 241.11,\n",
       " 236.64,\n",
       " 233.7,\n",
       " 231.27,\n",
       " 239.69,\n",
       " 242.93,\n",
       " 239.32,\n",
       " ...]"
      ]
     },
     "execution_count": 47,
     "metadata": {},
     "output_type": "execute_result"
    }
   ],
   "source": [
    "google.to_list()"
   ]
  },
  {
   "cell_type": "code",
   "execution_count": 48,
   "metadata": {},
   "outputs": [
    {
     "data": {
      "text/html": [
       "<div>\n",
       "<style scoped>\n",
       "    .dataframe tbody tr th:only-of-type {\n",
       "        vertical-align: middle;\n",
       "    }\n",
       "\n",
       "    .dataframe tbody tr th {\n",
       "        vertical-align: top;\n",
       "    }\n",
       "\n",
       "    .dataframe thead th {\n",
       "        text-align: right;\n",
       "    }\n",
       "</style>\n",
       "<table border=\"1\" class=\"dataframe\">\n",
       "  <thead>\n",
       "    <tr style=\"text-align: right;\">\n",
       "      <th></th>\n",
       "      <th>Stock Price</th>\n",
       "    </tr>\n",
       "  </thead>\n",
       "  <tbody>\n",
       "    <tr>\n",
       "      <th>0</th>\n",
       "      <td>50.12</td>\n",
       "    </tr>\n",
       "    <tr>\n",
       "      <th>1</th>\n",
       "      <td>54.10</td>\n",
       "    </tr>\n",
       "    <tr>\n",
       "      <th>2</th>\n",
       "      <td>54.65</td>\n",
       "    </tr>\n",
       "    <tr>\n",
       "      <th>3</th>\n",
       "      <td>52.38</td>\n",
       "    </tr>\n",
       "    <tr>\n",
       "      <th>4</th>\n",
       "      <td>52.95</td>\n",
       "    </tr>\n",
       "    <tr>\n",
       "      <th>...</th>\n",
       "      <td>...</td>\n",
       "    </tr>\n",
       "    <tr>\n",
       "      <th>3007</th>\n",
       "      <td>772.88</td>\n",
       "    </tr>\n",
       "    <tr>\n",
       "      <th>3008</th>\n",
       "      <td>771.07</td>\n",
       "    </tr>\n",
       "    <tr>\n",
       "      <th>3009</th>\n",
       "      <td>773.18</td>\n",
       "    </tr>\n",
       "    <tr>\n",
       "      <th>3010</th>\n",
       "      <td>771.61</td>\n",
       "    </tr>\n",
       "    <tr>\n",
       "      <th>3011</th>\n",
       "      <td>782.22</td>\n",
       "    </tr>\n",
       "  </tbody>\n",
       "</table>\n",
       "<p>3012 rows × 1 columns</p>\n",
       "</div>"
      ],
      "text/plain": [
       "      Stock Price\n",
       "0           50.12\n",
       "1           54.10\n",
       "2           54.65\n",
       "3           52.38\n",
       "4           52.95\n",
       "...           ...\n",
       "3007       772.88\n",
       "3008       771.07\n",
       "3009       773.18\n",
       "3010       771.61\n",
       "3011       782.22\n",
       "\n",
       "[3012 rows x 1 columns]"
      ]
     },
     "execution_count": 48,
     "metadata": {},
     "output_type": "execute_result"
    }
   ],
   "source": [
    "google.to_frame()"
   ]
  },
  {
   "cell_type": "markdown",
   "metadata": {},
   "source": [
    "[Pandas Documentación de Series](https://pandas.pydata.org/pandas-docs/stable/reference/series.html)"
   ]
  }
 ],
 "metadata": {
  "colab": {
   "name": "Laboratorio_2_Series",
   "provenance": []
  },
  "kernelspec": {
   "display_name": "Python 3 (ipykernel)",
   "language": "python",
   "name": "python3"
  },
  "language_info": {
   "codemirror_mode": {
    "name": "ipython",
    "version": 3
   },
   "file_extension": ".py",
   "mimetype": "text/x-python",
   "name": "python",
   "nbconvert_exporter": "python",
   "pygments_lexer": "ipython3",
   "version": "3.10.12"
  }
 },
 "nbformat": 4,
 "nbformat_minor": 1
}
