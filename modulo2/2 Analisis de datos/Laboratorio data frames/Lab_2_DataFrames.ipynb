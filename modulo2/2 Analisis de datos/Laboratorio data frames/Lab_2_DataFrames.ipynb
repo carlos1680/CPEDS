{
  "nbformat": 4,
  "nbformat_minor": 0,
  "metadata": {
    "colab": {
      "name": "Lab_2_DataFrames",
      "provenance": []
    },
    "kernelspec": {
      "name": "python3",
      "display_name": "Python 3"
    },
    "language_info": {
      "name": "python"
    }
  },
  "cells": [
    {
      "cell_type": "markdown",
      "metadata": {
        "id": "HEQFx34Chktv"
      },
      "source": [
        "## Importación y descripción"
      ]
    },
    {
      "cell_type": "code",
      "metadata": {
        "id": "gxbPM_uIfG9N"
      },
      "source": [
        "import pandas as pd"
      ],
      "execution_count": 1,
      "outputs": []
    },
    {
      "cell_type": "code",
      "metadata": {
        "colab": {
          "base_uri": "https://localhost:8080/",
          "height": 264
        },
        "id": "nMlURa8ThoN1",
        "outputId": "46a72f51-940c-4dda-d9aa-55a772fb5dd0"
      },
      "source": [
        "nba = pd.read_csv(\"nba.csv\")\n",
        "nba.head(7)"
      ],
      "execution_count": 3,
      "outputs": [
        {
          "output_type": "execute_result",
          "data": {
            "text/html": [
              "<div>\n",
              "<style scoped>\n",
              "    .dataframe tbody tr th:only-of-type {\n",
              "        vertical-align: middle;\n",
              "    }\n",
              "\n",
              "    .dataframe tbody tr th {\n",
              "        vertical-align: top;\n",
              "    }\n",
              "\n",
              "    .dataframe thead th {\n",
              "        text-align: right;\n",
              "    }\n",
              "</style>\n",
              "<table border=\"1\" class=\"dataframe\">\n",
              "  <thead>\n",
              "    <tr style=\"text-align: right;\">\n",
              "      <th></th>\n",
              "      <th>Name</th>\n",
              "      <th>Team</th>\n",
              "      <th>Number</th>\n",
              "      <th>Position</th>\n",
              "      <th>Age</th>\n",
              "      <th>Height</th>\n",
              "      <th>Weight</th>\n",
              "      <th>College</th>\n",
              "      <th>Salary</th>\n",
              "    </tr>\n",
              "  </thead>\n",
              "  <tbody>\n",
              "    <tr>\n",
              "      <th>0</th>\n",
              "      <td>Avery Bradley</td>\n",
              "      <td>Boston Celtics</td>\n",
              "      <td>0.0</td>\n",
              "      <td>PG</td>\n",
              "      <td>25.0</td>\n",
              "      <td>6-2</td>\n",
              "      <td>180.0</td>\n",
              "      <td>Texas</td>\n",
              "      <td>7730337.0</td>\n",
              "    </tr>\n",
              "    <tr>\n",
              "      <th>1</th>\n",
              "      <td>Jae Crowder</td>\n",
              "      <td>Boston Celtics</td>\n",
              "      <td>99.0</td>\n",
              "      <td>SF</td>\n",
              "      <td>25.0</td>\n",
              "      <td>6-6</td>\n",
              "      <td>235.0</td>\n",
              "      <td>Marquette</td>\n",
              "      <td>6796117.0</td>\n",
              "    </tr>\n",
              "    <tr>\n",
              "      <th>2</th>\n",
              "      <td>John Holland</td>\n",
              "      <td>Boston Celtics</td>\n",
              "      <td>30.0</td>\n",
              "      <td>SG</td>\n",
              "      <td>27.0</td>\n",
              "      <td>6-5</td>\n",
              "      <td>205.0</td>\n",
              "      <td>Boston University</td>\n",
              "      <td>NaN</td>\n",
              "    </tr>\n",
              "    <tr>\n",
              "      <th>3</th>\n",
              "      <td>R.J. Hunter</td>\n",
              "      <td>Boston Celtics</td>\n",
              "      <td>28.0</td>\n",
              "      <td>SG</td>\n",
              "      <td>22.0</td>\n",
              "      <td>6-5</td>\n",
              "      <td>185.0</td>\n",
              "      <td>Georgia State</td>\n",
              "      <td>1148640.0</td>\n",
              "    </tr>\n",
              "    <tr>\n",
              "      <th>4</th>\n",
              "      <td>Jonas Jerebko</td>\n",
              "      <td>Boston Celtics</td>\n",
              "      <td>8.0</td>\n",
              "      <td>PF</td>\n",
              "      <td>29.0</td>\n",
              "      <td>6-10</td>\n",
              "      <td>231.0</td>\n",
              "      <td>NaN</td>\n",
              "      <td>5000000.0</td>\n",
              "    </tr>\n",
              "    <tr>\n",
              "      <th>5</th>\n",
              "      <td>Amir Johnson</td>\n",
              "      <td>Boston Celtics</td>\n",
              "      <td>90.0</td>\n",
              "      <td>PF</td>\n",
              "      <td>29.0</td>\n",
              "      <td>6-9</td>\n",
              "      <td>240.0</td>\n",
              "      <td>NaN</td>\n",
              "      <td>12000000.0</td>\n",
              "    </tr>\n",
              "    <tr>\n",
              "      <th>6</th>\n",
              "      <td>Jordan Mickey</td>\n",
              "      <td>Boston Celtics</td>\n",
              "      <td>55.0</td>\n",
              "      <td>PF</td>\n",
              "      <td>21.0</td>\n",
              "      <td>6-8</td>\n",
              "      <td>235.0</td>\n",
              "      <td>LSU</td>\n",
              "      <td>1170960.0</td>\n",
              "    </tr>\n",
              "  </tbody>\n",
              "</table>\n",
              "</div>"
            ],
            "text/plain": [
              "            Name            Team  Number  ... Weight            College      Salary\n",
              "0  Avery Bradley  Boston Celtics     0.0  ...  180.0              Texas   7730337.0\n",
              "1    Jae Crowder  Boston Celtics    99.0  ...  235.0          Marquette   6796117.0\n",
              "2   John Holland  Boston Celtics    30.0  ...  205.0  Boston University         NaN\n",
              "3    R.J. Hunter  Boston Celtics    28.0  ...  185.0      Georgia State   1148640.0\n",
              "4  Jonas Jerebko  Boston Celtics     8.0  ...  231.0                NaN   5000000.0\n",
              "5   Amir Johnson  Boston Celtics    90.0  ...  240.0                NaN  12000000.0\n",
              "6  Jordan Mickey  Boston Celtics    55.0  ...  235.0                LSU   1170960.0\n",
              "\n",
              "[7 rows x 9 columns]"
            ]
          },
          "metadata": {
            "tags": []
          },
          "execution_count": 3
        }
      ]
    },
    {
      "cell_type": "code",
      "metadata": {
        "colab": {
          "base_uri": "https://localhost:8080/"
        },
        "id": "OqNKHBkXhw3d",
        "outputId": "0f59ca45-2b68-4cb6-e5c0-42ada14a4cdd"
      },
      "source": [
        "nba.shape"
      ],
      "execution_count": 5,
      "outputs": [
        {
          "output_type": "execute_result",
          "data": {
            "text/plain": [
              "(458, 9)"
            ]
          },
          "metadata": {
            "tags": []
          },
          "execution_count": 5
        }
      ]
    },
    {
      "cell_type": "code",
      "metadata": {
        "colab": {
          "base_uri": "https://localhost:8080/"
        },
        "id": "QYeGKEzhiazQ",
        "outputId": "aa7521b4-e117-4ac6-dccb-783f5b909bb4"
      },
      "source": [
        "nba.dtypes"
      ],
      "execution_count": 7,
      "outputs": [
        {
          "output_type": "execute_result",
          "data": {
            "text/plain": [
              "Name         object\n",
              "Team         object\n",
              "Number      float64\n",
              "Position     object\n",
              "Age         float64\n",
              "Height       object\n",
              "Weight      float64\n",
              "College      object\n",
              "Salary      float64\n",
              "dtype: object"
            ]
          },
          "metadata": {
            "tags": []
          },
          "execution_count": 7
        }
      ]
    },
    {
      "cell_type": "code",
      "metadata": {
        "colab": {
          "base_uri": "https://localhost:8080/"
        },
        "id": "YpDKIAkcig1R",
        "outputId": "13516a58-762e-4641-a1f4-c9bf8f47ce8c"
      },
      "source": [
        "nba.dtypes.value_counts()"
      ],
      "execution_count": 9,
      "outputs": [
        {
          "output_type": "execute_result",
          "data": {
            "text/plain": [
              "object     5\n",
              "float64    4\n",
              "dtype: int64"
            ]
          },
          "metadata": {
            "tags": []
          },
          "execution_count": 9
        }
      ]
    },
    {
      "cell_type": "code",
      "metadata": {
        "colab": {
          "base_uri": "https://localhost:8080/"
        },
        "id": "pJX4oX5Ai7fI",
        "outputId": "f77e8153-a521-4927-89f0-660fc23dbc14"
      },
      "source": [
        "nba.columns "
      ],
      "execution_count": 10,
      "outputs": [
        {
          "output_type": "execute_result",
          "data": {
            "text/plain": [
              "Index(['Name', 'Team', 'Number', 'Position', 'Age', 'Height', 'Weight',\n",
              "       'College', 'Salary'],\n",
              "      dtype='object')"
            ]
          },
          "metadata": {
            "tags": []
          },
          "execution_count": 10
        }
      ]
    },
    {
      "cell_type": "code",
      "metadata": {
        "colab": {
          "base_uri": "https://localhost:8080/",
          "height": 202
        },
        "id": "-2XZoMqBjBh4",
        "outputId": "df94cf26-fa87-4eca-a692-5b84fbf9e9d7"
      },
      "source": [
        "nba.columns = ['Name', 'Team', 'Number', 'Position', 'Age', 'Height', 'Weight', 'University', 'Salary']\n",
        "nba.head(5)"
      ],
      "execution_count": 12,
      "outputs": [
        {
          "output_type": "execute_result",
          "data": {
            "text/html": [
              "<div>\n",
              "<style scoped>\n",
              "    .dataframe tbody tr th:only-of-type {\n",
              "        vertical-align: middle;\n",
              "    }\n",
              "\n",
              "    .dataframe tbody tr th {\n",
              "        vertical-align: top;\n",
              "    }\n",
              "\n",
              "    .dataframe thead th {\n",
              "        text-align: right;\n",
              "    }\n",
              "</style>\n",
              "<table border=\"1\" class=\"dataframe\">\n",
              "  <thead>\n",
              "    <tr style=\"text-align: right;\">\n",
              "      <th></th>\n",
              "      <th>Name</th>\n",
              "      <th>Team</th>\n",
              "      <th>Number</th>\n",
              "      <th>Position</th>\n",
              "      <th>Age</th>\n",
              "      <th>Height</th>\n",
              "      <th>Weight</th>\n",
              "      <th>University</th>\n",
              "      <th>Salary</th>\n",
              "    </tr>\n",
              "  </thead>\n",
              "  <tbody>\n",
              "    <tr>\n",
              "      <th>0</th>\n",
              "      <td>Avery Bradley</td>\n",
              "      <td>Boston Celtics</td>\n",
              "      <td>0.0</td>\n",
              "      <td>PG</td>\n",
              "      <td>25.0</td>\n",
              "      <td>6-2</td>\n",
              "      <td>180.0</td>\n",
              "      <td>Texas</td>\n",
              "      <td>7730337.0</td>\n",
              "    </tr>\n",
              "    <tr>\n",
              "      <th>1</th>\n",
              "      <td>Jae Crowder</td>\n",
              "      <td>Boston Celtics</td>\n",
              "      <td>99.0</td>\n",
              "      <td>SF</td>\n",
              "      <td>25.0</td>\n",
              "      <td>6-6</td>\n",
              "      <td>235.0</td>\n",
              "      <td>Marquette</td>\n",
              "      <td>6796117.0</td>\n",
              "    </tr>\n",
              "    <tr>\n",
              "      <th>2</th>\n",
              "      <td>John Holland</td>\n",
              "      <td>Boston Celtics</td>\n",
              "      <td>30.0</td>\n",
              "      <td>SG</td>\n",
              "      <td>27.0</td>\n",
              "      <td>6-5</td>\n",
              "      <td>205.0</td>\n",
              "      <td>Boston University</td>\n",
              "      <td>NaN</td>\n",
              "    </tr>\n",
              "    <tr>\n",
              "      <th>3</th>\n",
              "      <td>R.J. Hunter</td>\n",
              "      <td>Boston Celtics</td>\n",
              "      <td>28.0</td>\n",
              "      <td>SG</td>\n",
              "      <td>22.0</td>\n",
              "      <td>6-5</td>\n",
              "      <td>185.0</td>\n",
              "      <td>Georgia State</td>\n",
              "      <td>1148640.0</td>\n",
              "    </tr>\n",
              "    <tr>\n",
              "      <th>4</th>\n",
              "      <td>Jonas Jerebko</td>\n",
              "      <td>Boston Celtics</td>\n",
              "      <td>8.0</td>\n",
              "      <td>PF</td>\n",
              "      <td>29.0</td>\n",
              "      <td>6-10</td>\n",
              "      <td>231.0</td>\n",
              "      <td>NaN</td>\n",
              "      <td>5000000.0</td>\n",
              "    </tr>\n",
              "  </tbody>\n",
              "</table>\n",
              "</div>"
            ],
            "text/plain": [
              "            Name            Team  Number  ... Weight         University     Salary\n",
              "0  Avery Bradley  Boston Celtics     0.0  ...  180.0              Texas  7730337.0\n",
              "1    Jae Crowder  Boston Celtics    99.0  ...  235.0          Marquette  6796117.0\n",
              "2   John Holland  Boston Celtics    30.0  ...  205.0  Boston University        NaN\n",
              "3    R.J. Hunter  Boston Celtics    28.0  ...  185.0      Georgia State  1148640.0\n",
              "4  Jonas Jerebko  Boston Celtics     8.0  ...  231.0                NaN  5000000.0\n",
              "\n",
              "[5 rows x 9 columns]"
            ]
          },
          "metadata": {
            "tags": []
          },
          "execution_count": 12
        }
      ]
    },
    {
      "cell_type": "code",
      "metadata": {
        "colab": {
          "base_uri": "https://localhost:8080/"
        },
        "id": "oMM2BpKLjKkA",
        "outputId": "e8279f3d-a203-4bba-f783-85f453be86a6"
      },
      "source": [
        "nba.info()"
      ],
      "execution_count": 13,
      "outputs": [
        {
          "output_type": "stream",
          "text": [
            "<class 'pandas.core.frame.DataFrame'>\n",
            "RangeIndex: 458 entries, 0 to 457\n",
            "Data columns (total 9 columns):\n",
            " #   Column      Non-Null Count  Dtype  \n",
            "---  ------      --------------  -----  \n",
            " 0   Name        457 non-null    object \n",
            " 1   Team        457 non-null    object \n",
            " 2   Number      457 non-null    float64\n",
            " 3   Position    457 non-null    object \n",
            " 4   Age         457 non-null    float64\n",
            " 5   Height      457 non-null    object \n",
            " 6   Weight      457 non-null    float64\n",
            " 7   University  373 non-null    object \n",
            " 8   Salary      446 non-null    float64\n",
            "dtypes: float64(4), object(5)\n",
            "memory usage: 32.3+ KB\n"
          ],
          "name": "stdout"
        }
      ]
    },
    {
      "cell_type": "code",
      "metadata": {
        "colab": {
          "base_uri": "https://localhost:8080/",
          "height": 295
        },
        "id": "TI6C8FF_jgGm",
        "outputId": "1f1b8e83-2bc8-4f35-ae49-2ec0357dc2bd"
      },
      "source": [
        "round(nba.describe(), 2)"
      ],
      "execution_count": 15,
      "outputs": [
        {
          "output_type": "execute_result",
          "data": {
            "text/html": [
              "<div>\n",
              "<style scoped>\n",
              "    .dataframe tbody tr th:only-of-type {\n",
              "        vertical-align: middle;\n",
              "    }\n",
              "\n",
              "    .dataframe tbody tr th {\n",
              "        vertical-align: top;\n",
              "    }\n",
              "\n",
              "    .dataframe thead th {\n",
              "        text-align: right;\n",
              "    }\n",
              "</style>\n",
              "<table border=\"1\" class=\"dataframe\">\n",
              "  <thead>\n",
              "    <tr style=\"text-align: right;\">\n",
              "      <th></th>\n",
              "      <th>Number</th>\n",
              "      <th>Age</th>\n",
              "      <th>Weight</th>\n",
              "      <th>Salary</th>\n",
              "    </tr>\n",
              "  </thead>\n",
              "  <tbody>\n",
              "    <tr>\n",
              "      <th>count</th>\n",
              "      <td>457.00</td>\n",
              "      <td>457.00</td>\n",
              "      <td>457.00</td>\n",
              "      <td>446.00</td>\n",
              "    </tr>\n",
              "    <tr>\n",
              "      <th>mean</th>\n",
              "      <td>17.68</td>\n",
              "      <td>26.94</td>\n",
              "      <td>221.52</td>\n",
              "      <td>4842684.11</td>\n",
              "    </tr>\n",
              "    <tr>\n",
              "      <th>std</th>\n",
              "      <td>15.97</td>\n",
              "      <td>4.40</td>\n",
              "      <td>26.37</td>\n",
              "      <td>5229237.60</td>\n",
              "    </tr>\n",
              "    <tr>\n",
              "      <th>min</th>\n",
              "      <td>0.00</td>\n",
              "      <td>19.00</td>\n",
              "      <td>161.00</td>\n",
              "      <td>30888.00</td>\n",
              "    </tr>\n",
              "    <tr>\n",
              "      <th>25%</th>\n",
              "      <td>5.00</td>\n",
              "      <td>24.00</td>\n",
              "      <td>200.00</td>\n",
              "      <td>1044792.25</td>\n",
              "    </tr>\n",
              "    <tr>\n",
              "      <th>50%</th>\n",
              "      <td>13.00</td>\n",
              "      <td>26.00</td>\n",
              "      <td>220.00</td>\n",
              "      <td>2839073.00</td>\n",
              "    </tr>\n",
              "    <tr>\n",
              "      <th>75%</th>\n",
              "      <td>25.00</td>\n",
              "      <td>30.00</td>\n",
              "      <td>240.00</td>\n",
              "      <td>6500000.00</td>\n",
              "    </tr>\n",
              "    <tr>\n",
              "      <th>max</th>\n",
              "      <td>99.00</td>\n",
              "      <td>40.00</td>\n",
              "      <td>307.00</td>\n",
              "      <td>25000000.00</td>\n",
              "    </tr>\n",
              "  </tbody>\n",
              "</table>\n",
              "</div>"
            ],
            "text/plain": [
              "       Number     Age  Weight       Salary\n",
              "count  457.00  457.00  457.00       446.00\n",
              "mean    17.68   26.94  221.52   4842684.11\n",
              "std     15.97    4.40   26.37   5229237.60\n",
              "min      0.00   19.00  161.00     30888.00\n",
              "25%      5.00   24.00  200.00   1044792.25\n",
              "50%     13.00   26.00  220.00   2839073.00\n",
              "75%     25.00   30.00  240.00   6500000.00\n",
              "max     99.00   40.00  307.00  25000000.00"
            ]
          },
          "metadata": {
            "tags": []
          },
          "execution_count": 15
        }
      ]
    },
    {
      "cell_type": "markdown",
      "metadata": {
        "id": "LGRUddrlkS73"
      },
      "source": [
        "## Transformación de tipos de datos"
      ]
    },
    {
      "cell_type": "code",
      "metadata": {
        "colab": {
          "base_uri": "https://localhost:8080/",
          "height": 202
        },
        "id": "VmgoDWpYj8CH",
        "outputId": "982609ac-43e0-40bd-fe02-3d53a5e7f983"
      },
      "source": [
        "sales = pd.read_excel(\"sales.xlsx\", usecols = [1,2,3,4,5,6])\n",
        "sales.head()"
      ],
      "execution_count": 22,
      "outputs": [
        {
          "output_type": "execute_result",
          "data": {
            "text/html": [
              "<div>\n",
              "<style scoped>\n",
              "    .dataframe tbody tr th:only-of-type {\n",
              "        vertical-align: middle;\n",
              "    }\n",
              "\n",
              "    .dataframe tbody tr th {\n",
              "        vertical-align: top;\n",
              "    }\n",
              "\n",
              "    .dataframe thead th {\n",
              "        text-align: right;\n",
              "    }\n",
              "</style>\n",
              "<table border=\"1\" class=\"dataframe\">\n",
              "  <thead>\n",
              "    <tr style=\"text-align: right;\">\n",
              "      <th></th>\n",
              "      <th>first_name</th>\n",
              "      <th>last_name</th>\n",
              "      <th>gender</th>\n",
              "      <th>date</th>\n",
              "      <th>local_num</th>\n",
              "      <th>city</th>\n",
              "    </tr>\n",
              "  </thead>\n",
              "  <tbody>\n",
              "    <tr>\n",
              "      <th>0</th>\n",
              "      <td>Belita</td>\n",
              "      <td>Egdell</td>\n",
              "      <td>Female</td>\n",
              "      <td>13/09/2020</td>\n",
              "      <td>2.54</td>\n",
              "      <td>Åtvidaberg</td>\n",
              "    </tr>\n",
              "    <tr>\n",
              "      <th>1</th>\n",
              "      <td>Roseline</td>\n",
              "      <td>Kalinsky</td>\n",
              "      <td>Bigender</td>\n",
              "      <td>30/07/2020</td>\n",
              "      <td>83.85</td>\n",
              "      <td>Carbajales</td>\n",
              "    </tr>\n",
              "    <tr>\n",
              "      <th>2</th>\n",
              "      <td>Pamela</td>\n",
              "      <td>Pippard</td>\n",
              "      <td>Polygender</td>\n",
              "      <td>14/01/2021</td>\n",
              "      <td>25.04</td>\n",
              "      <td>Starominskaya</td>\n",
              "    </tr>\n",
              "    <tr>\n",
              "      <th>3</th>\n",
              "      <td>Lenard</td>\n",
              "      <td>Skones</td>\n",
              "      <td>Polygender</td>\n",
              "      <td>26/12/2020</td>\n",
              "      <td>38.72</td>\n",
              "      <td>Sabangan</td>\n",
              "    </tr>\n",
              "    <tr>\n",
              "      <th>4</th>\n",
              "      <td>Verne</td>\n",
              "      <td>Shackell</td>\n",
              "      <td>Polygender</td>\n",
              "      <td>12/10/2020</td>\n",
              "      <td>47.91</td>\n",
              "      <td>Cawayan Bugtong</td>\n",
              "    </tr>\n",
              "  </tbody>\n",
              "</table>\n",
              "</div>"
            ],
            "text/plain": [
              "  first_name last_name      gender        date  local_num             city\n",
              "0     Belita    Egdell      Female  13/09/2020       2.54       Åtvidaberg\n",
              "1   Roseline  Kalinsky    Bigender  30/07/2020      83.85       Carbajales\n",
              "2     Pamela   Pippard  Polygender  14/01/2021      25.04    Starominskaya\n",
              "3     Lenard    Skones  Polygender  26/12/2020      38.72         Sabangan\n",
              "4      Verne  Shackell  Polygender  12/10/2020      47.91  Cawayan Bugtong"
            ]
          },
          "metadata": {
            "tags": []
          },
          "execution_count": 22
        }
      ]
    },
    {
      "cell_type": "code",
      "metadata": {
        "colab": {
          "base_uri": "https://localhost:8080/"
        },
        "id": "RbYBINhUmMZ3",
        "outputId": "ec6f4bfc-0245-4b91-a68c-79c807634c0d"
      },
      "source": [
        "sales.info()"
      ],
      "execution_count": 23,
      "outputs": [
        {
          "output_type": "stream",
          "text": [
            "<class 'pandas.core.frame.DataFrame'>\n",
            "RangeIndex: 1000 entries, 0 to 999\n",
            "Data columns (total 6 columns):\n",
            " #   Column      Non-Null Count  Dtype  \n",
            "---  ------      --------------  -----  \n",
            " 0   first_name  1000 non-null   object \n",
            " 1   last_name   1000 non-null   object \n",
            " 2   gender      1000 non-null   object \n",
            " 3   date        1000 non-null   object \n",
            " 4   local_num   1000 non-null   float64\n",
            " 5   city        1000 non-null   object \n",
            "dtypes: float64(1), object(5)\n",
            "memory usage: 47.0+ KB\n"
          ],
          "name": "stdout"
        }
      ]
    },
    {
      "cell_type": "code",
      "metadata": {
        "id": "JgCZFNysknao"
      },
      "source": [
        "sales[\"local_num\"] = sales[\"local_num\"].astype(float)"
      ],
      "execution_count": 26,
      "outputs": []
    },
    {
      "cell_type": "code",
      "metadata": {
        "colab": {
          "base_uri": "https://localhost:8080/",
          "height": 202
        },
        "id": "Khugl3c8l2c7",
        "outputId": "d9e0859c-4f70-4495-9b35-002a73be2252"
      },
      "source": [
        "sales.head()"
      ],
      "execution_count": 27,
      "outputs": [
        {
          "output_type": "execute_result",
          "data": {
            "text/html": [
              "<div>\n",
              "<style scoped>\n",
              "    .dataframe tbody tr th:only-of-type {\n",
              "        vertical-align: middle;\n",
              "    }\n",
              "\n",
              "    .dataframe tbody tr th {\n",
              "        vertical-align: top;\n",
              "    }\n",
              "\n",
              "    .dataframe thead th {\n",
              "        text-align: right;\n",
              "    }\n",
              "</style>\n",
              "<table border=\"1\" class=\"dataframe\">\n",
              "  <thead>\n",
              "    <tr style=\"text-align: right;\">\n",
              "      <th></th>\n",
              "      <th>first_name</th>\n",
              "      <th>last_name</th>\n",
              "      <th>gender</th>\n",
              "      <th>date</th>\n",
              "      <th>local_num</th>\n",
              "      <th>city</th>\n",
              "    </tr>\n",
              "  </thead>\n",
              "  <tbody>\n",
              "    <tr>\n",
              "      <th>0</th>\n",
              "      <td>Belita</td>\n",
              "      <td>Egdell</td>\n",
              "      <td>Female</td>\n",
              "      <td>13/09/2020</td>\n",
              "      <td>2.0</td>\n",
              "      <td>Åtvidaberg</td>\n",
              "    </tr>\n",
              "    <tr>\n",
              "      <th>1</th>\n",
              "      <td>Roseline</td>\n",
              "      <td>Kalinsky</td>\n",
              "      <td>Bigender</td>\n",
              "      <td>30/07/2020</td>\n",
              "      <td>83.0</td>\n",
              "      <td>Carbajales</td>\n",
              "    </tr>\n",
              "    <tr>\n",
              "      <th>2</th>\n",
              "      <td>Pamela</td>\n",
              "      <td>Pippard</td>\n",
              "      <td>Polygender</td>\n",
              "      <td>14/01/2021</td>\n",
              "      <td>25.0</td>\n",
              "      <td>Starominskaya</td>\n",
              "    </tr>\n",
              "    <tr>\n",
              "      <th>3</th>\n",
              "      <td>Lenard</td>\n",
              "      <td>Skones</td>\n",
              "      <td>Polygender</td>\n",
              "      <td>26/12/2020</td>\n",
              "      <td>38.0</td>\n",
              "      <td>Sabangan</td>\n",
              "    </tr>\n",
              "    <tr>\n",
              "      <th>4</th>\n",
              "      <td>Verne</td>\n",
              "      <td>Shackell</td>\n",
              "      <td>Polygender</td>\n",
              "      <td>12/10/2020</td>\n",
              "      <td>47.0</td>\n",
              "      <td>Cawayan Bugtong</td>\n",
              "    </tr>\n",
              "  </tbody>\n",
              "</table>\n",
              "</div>"
            ],
            "text/plain": [
              "  first_name last_name      gender        date  local_num             city\n",
              "0     Belita    Egdell      Female  13/09/2020        2.0       Åtvidaberg\n",
              "1   Roseline  Kalinsky    Bigender  30/07/2020       83.0       Carbajales\n",
              "2     Pamela   Pippard  Polygender  14/01/2021       25.0    Starominskaya\n",
              "3     Lenard    Skones  Polygender  26/12/2020       38.0         Sabangan\n",
              "4      Verne  Shackell  Polygender  12/10/2020       47.0  Cawayan Bugtong"
            ]
          },
          "metadata": {
            "tags": []
          },
          "execution_count": 27
        }
      ]
    },
    {
      "cell_type": "code",
      "metadata": {
        "id": "ZPCTl2iOmTI5"
      },
      "source": [
        "sales[\"gender\"] = sales[\"gender\"].astype('category')"
      ],
      "execution_count": 28,
      "outputs": []
    },
    {
      "cell_type": "code",
      "metadata": {
        "colab": {
          "base_uri": "https://localhost:8080/"
        },
        "id": "XHW1g-ebmjL3",
        "outputId": "47a133cd-df9d-401e-c9ef-b8d40b3a009e"
      },
      "source": [
        "sales.info()"
      ],
      "execution_count": 29,
      "outputs": [
        {
          "output_type": "stream",
          "text": [
            "<class 'pandas.core.frame.DataFrame'>\n",
            "RangeIndex: 1000 entries, 0 to 999\n",
            "Data columns (total 6 columns):\n",
            " #   Column      Non-Null Count  Dtype   \n",
            "---  ------      --------------  -----   \n",
            " 0   first_name  1000 non-null   object  \n",
            " 1   last_name   1000 non-null   object  \n",
            " 2   gender      1000 non-null   category\n",
            " 3   date        1000 non-null   object  \n",
            " 4   local_num   1000 non-null   float64 \n",
            " 5   city        1000 non-null   object  \n",
            "dtypes: category(1), float64(1), object(4)\n",
            "memory usage: 40.5+ KB\n"
          ],
          "name": "stdout"
        }
      ]
    },
    {
      "cell_type": "code",
      "metadata": {
        "colab": {
          "base_uri": "https://localhost:8080/",
          "height": 202
        },
        "id": "_K-IuuKXmkBH",
        "outputId": "f921a9b2-dbc7-4546-881a-bbec9eee7ed2"
      },
      "source": [
        "sales.sort_values(\"city\", ascending=True).head()"
      ],
      "execution_count": 32,
      "outputs": [
        {
          "output_type": "execute_result",
          "data": {
            "text/html": [
              "<div>\n",
              "<style scoped>\n",
              "    .dataframe tbody tr th:only-of-type {\n",
              "        vertical-align: middle;\n",
              "    }\n",
              "\n",
              "    .dataframe tbody tr th {\n",
              "        vertical-align: top;\n",
              "    }\n",
              "\n",
              "    .dataframe thead th {\n",
              "        text-align: right;\n",
              "    }\n",
              "</style>\n",
              "<table border=\"1\" class=\"dataframe\">\n",
              "  <thead>\n",
              "    <tr style=\"text-align: right;\">\n",
              "      <th></th>\n",
              "      <th>first_name</th>\n",
              "      <th>last_name</th>\n",
              "      <th>gender</th>\n",
              "      <th>date</th>\n",
              "      <th>local_num</th>\n",
              "      <th>city</th>\n",
              "    </tr>\n",
              "  </thead>\n",
              "  <tbody>\n",
              "    <tr>\n",
              "      <th>216</th>\n",
              "      <td>Emanuel</td>\n",
              "      <td>Bridgeland</td>\n",
              "      <td>Agender</td>\n",
              "      <td>27/01/2021</td>\n",
              "      <td>74.0</td>\n",
              "      <td>A-da-Gorda</td>\n",
              "    </tr>\n",
              "    <tr>\n",
              "      <th>543</th>\n",
              "      <td>Heidie</td>\n",
              "      <td>Rousby</td>\n",
              "      <td>Genderfluid</td>\n",
              "      <td>11/07/2020</td>\n",
              "      <td>65.0</td>\n",
              "      <td>Aasiaat</td>\n",
              "    </tr>\n",
              "    <tr>\n",
              "      <th>181</th>\n",
              "      <td>Tonnie</td>\n",
              "      <td>Bunworth</td>\n",
              "      <td>Agender</td>\n",
              "      <td>19/10/2020</td>\n",
              "      <td>70.0</td>\n",
              "      <td>Abdurahmoni Jomí</td>\n",
              "    </tr>\n",
              "    <tr>\n",
              "      <th>692</th>\n",
              "      <td>Barth</td>\n",
              "      <td>Stagge</td>\n",
              "      <td>Genderfluid</td>\n",
              "      <td>25/01/2021</td>\n",
              "      <td>11.0</td>\n",
              "      <td>Abelheira</td>\n",
              "    </tr>\n",
              "    <tr>\n",
              "      <th>314</th>\n",
              "      <td>Janette</td>\n",
              "      <td>Thwaites</td>\n",
              "      <td>Male</td>\n",
              "      <td>13/09/2020</td>\n",
              "      <td>98.0</td>\n",
              "      <td>Abelheira</td>\n",
              "    </tr>\n",
              "  </tbody>\n",
              "</table>\n",
              "</div>"
            ],
            "text/plain": [
              "    first_name   last_name  ... local_num              city\n",
              "216    Emanuel  Bridgeland  ...      74.0        A-da-Gorda\n",
              "543     Heidie      Rousby  ...      65.0           Aasiaat\n",
              "181     Tonnie    Bunworth  ...      70.0  Abdurahmoni Jomí\n",
              "692      Barth      Stagge  ...      11.0         Abelheira\n",
              "314    Janette    Thwaites  ...      98.0         Abelheira\n",
              "\n",
              "[5 rows x 6 columns]"
            ]
          },
          "metadata": {
            "tags": []
          },
          "execution_count": 32
        }
      ]
    },
    {
      "cell_type": "code",
      "metadata": {
        "id": "5UP6C5f1nl6L"
      },
      "source": [
        "sales.sort_values([\"gender\", \"local_num\"]).head(15)"
      ],
      "execution_count": null,
      "outputs": []
    },
    {
      "cell_type": "code",
      "metadata": {
        "colab": {
          "base_uri": "https://localhost:8080/"
        },
        "id": "YEyvq1nNoHGP",
        "outputId": "9566120d-1d13-47ce-a9c1-f33549219aef"
      },
      "source": [
        "sales[\"gender\"].value_counts()"
      ],
      "execution_count": 36,
      "outputs": [
        {
          "output_type": "execute_result",
          "data": {
            "text/plain": [
              "Bigender       143\n",
              "Male           142\n",
              "Non-binary     140\n",
              "Genderfluid    130\n",
              "Genderqueer    115\n",
              "Agender        113\n",
              "Female         112\n",
              "Polygender     105\n",
              "Name: gender, dtype: int64"
            ]
          },
          "metadata": {
            "tags": []
          },
          "execution_count": 36
        }
      ]
    },
    {
      "cell_type": "markdown",
      "metadata": {
        "id": "AYbE15XzrCpf"
      },
      "source": [
        "## Fechas"
      ]
    },
    {
      "cell_type": "code",
      "metadata": {
        "id": "Wrw1TgInoLhQ"
      },
      "source": [
        "import datetime as dt"
      ],
      "execution_count": 38,
      "outputs": []
    },
    {
      "cell_type": "code",
      "metadata": {
        "colab": {
          "base_uri": "https://localhost:8080/"
        },
        "id": "uiVyJBugrQb4",
        "outputId": "7ddece8a-2476-4c42-c6d8-3ab919ef9c9f"
      },
      "source": [
        "undia = dt.date(2021,4,14)\n",
        "undia"
      ],
      "execution_count": 39,
      "outputs": [
        {
          "output_type": "execute_result",
          "data": {
            "text/plain": [
              "datetime.date(2021, 4, 14)"
            ]
          },
          "metadata": {
            "tags": []
          },
          "execution_count": 39
        }
      ]
    },
    {
      "cell_type": "code",
      "metadata": {
        "colab": {
          "base_uri": "https://localhost:8080/"
        },
        "id": "eqS_2idjrZbY",
        "outputId": "1aa1049e-e6c8-4829-c8c4-692c001d127f"
      },
      "source": [
        "print(undia.year)\n",
        "print(undia.month)\n",
        "print(undia.day)"
      ],
      "execution_count": 44,
      "outputs": [
        {
          "output_type": "stream",
          "text": [
            "2021\n",
            "4\n",
            "14\n"
          ],
          "name": "stdout"
        }
      ]
    },
    {
      "cell_type": "code",
      "metadata": {
        "colab": {
          "base_uri": "https://localhost:8080/"
        },
        "id": "wBXzSs3orimp",
        "outputId": "98c06315-a4dc-45e6-cadd-df4c18a35a33"
      },
      "source": [
        "un_momento = dt.datetime(2021,4,14,20,19,30)\n",
        "un_momento"
      ],
      "execution_count": 45,
      "outputs": [
        {
          "output_type": "execute_result",
          "data": {
            "text/plain": [
              "datetime.datetime(2021, 4, 14, 20, 19, 30)"
            ]
          },
          "metadata": {
            "tags": []
          },
          "execution_count": 45
        }
      ]
    },
    {
      "cell_type": "code",
      "metadata": {
        "colab": {
          "base_uri": "https://localhost:8080/"
        },
        "id": "-LXk19SHrwOx",
        "outputId": "ee3c464f-55b3-4c89-b691-e30a67726fc5"
      },
      "source": [
        "print(un_momento.hour)\n",
        "print(un_momento.minute)\n",
        "print(un_momento.second)"
      ],
      "execution_count": 50,
      "outputs": [
        {
          "output_type": "stream",
          "text": [
            "20\n",
            "19\n",
            "30\n"
          ],
          "name": "stdout"
        }
      ]
    },
    {
      "cell_type": "code",
      "metadata": {
        "colab": {
          "base_uri": "https://localhost:8080/"
        },
        "id": "OSDBYaf8r71b",
        "outputId": "39930a2a-ff70-4457-9e9f-fdd3e6c37708"
      },
      "source": [
        "print(pd.Timestamp(\"2021-4-14\"))\n",
        "print(pd.Timestamp(\"2021/4/14\"))\n",
        "print(pd.Timestamp(\"2021, 4, 14\"))\n",
        "print(pd.Timestamp(\"14/4/2021\"))\n",
        "print(pd.Timestamp(\"2021-4-14 20:30:45\"))\n",
        "print(pd.Timestamp(\"2021/4/14 8:30:45 PM\"))"
      ],
      "execution_count": 57,
      "outputs": [
        {
          "output_type": "stream",
          "text": [
            "2021-04-14 00:00:00\n",
            "2021-04-14 00:00:00\n",
            "2021-04-14 00:00:00\n",
            "2021-04-14 00:00:00\n",
            "2021-04-14 20:30:45\n",
            "2021-04-14 20:30:45\n"
          ],
          "name": "stdout"
        }
      ]
    },
    {
      "cell_type": "code",
      "metadata": {
        "colab": {
          "base_uri": "https://localhost:8080/"
        },
        "id": "T1eOcNhOsxpg",
        "outputId": "fc9c31c1-f5e9-444b-ac9f-e5ce19a49e27"
      },
      "source": [
        "print(pd.to_datetime(\"2014-5-15\"))\n",
        "print(pd.to_datetime([\"2021/4/14\", \"2014/08/14\", \"2018\", \"December 20th, 1991\"]))"
      ],
      "execution_count": 59,
      "outputs": [
        {
          "output_type": "stream",
          "text": [
            "2014-05-15 00:00:00\n",
            "DatetimeIndex(['2021-04-14', '2014-08-14', '2018-01-01', '1991-12-20'], dtype='datetime64[ns]', freq=None)\n"
          ],
          "name": "stdout"
        }
      ]
    },
    {
      "cell_type": "code",
      "metadata": {
        "colab": {
          "base_uri": "https://localhost:8080/"
        },
        "id": "Ko8G12ggtSsg",
        "outputId": "3d9f8613-410d-48fc-a334-f0624d188cff"
      },
      "source": [
        "times = pd.Series([\"2021/4/14\", \"2014/08/14\", \"2018\", \"December 20th, 1991\"])\n",
        "times"
      ],
      "execution_count": 60,
      "outputs": [
        {
          "output_type": "execute_result",
          "data": {
            "text/plain": [
              "0              2021/4/14\n",
              "1             2014/08/14\n",
              "2                   2018\n",
              "3    December 20th, 1991\n",
              "dtype: object"
            ]
          },
          "metadata": {
            "tags": []
          },
          "execution_count": 60
        }
      ]
    },
    {
      "cell_type": "code",
      "metadata": {
        "colab": {
          "base_uri": "https://localhost:8080/"
        },
        "id": "uapCiGcXtX0e",
        "outputId": "60c16406-67ac-436b-8f74-d2409fd47579"
      },
      "source": [
        "pd.to_datetime(times)"
      ],
      "execution_count": 61,
      "outputs": [
        {
          "output_type": "execute_result",
          "data": {
            "text/plain": [
              "0   2021-04-14\n",
              "1   2014-08-14\n",
              "2   2018-01-01\n",
              "3   1991-12-20\n",
              "dtype: datetime64[ns]"
            ]
          },
          "metadata": {
            "tags": []
          },
          "execution_count": 61
        }
      ]
    },
    {
      "cell_type": "code",
      "metadata": {
        "colab": {
          "base_uri": "https://localhost:8080/"
        },
        "id": "jRPZGQ-wtZi-",
        "outputId": "7f46b945-ad52-44c3-be15-10e8eb838f3a"
      },
      "source": [
        "sales[\"date\"] = pd.to_datetime(sales[\"date\"])\n",
        "sales.info()"
      ],
      "execution_count": 62,
      "outputs": [
        {
          "output_type": "stream",
          "text": [
            "<class 'pandas.core.frame.DataFrame'>\n",
            "RangeIndex: 1000 entries, 0 to 999\n",
            "Data columns (total 6 columns):\n",
            " #   Column      Non-Null Count  Dtype         \n",
            "---  ------      --------------  -----         \n",
            " 0   first_name  1000 non-null   object        \n",
            " 1   last_name   1000 non-null   object        \n",
            " 2   gender      1000 non-null   category      \n",
            " 3   date        1000 non-null   datetime64[ns]\n",
            " 4   local_num   1000 non-null   float64       \n",
            " 5   city        1000 non-null   object        \n",
            "dtypes: category(1), datetime64[ns](1), float64(1), object(3)\n",
            "memory usage: 40.5+ KB\n"
          ],
          "name": "stdout"
        }
      ]
    },
    {
      "cell_type": "code",
      "metadata": {
        "colab": {
          "base_uri": "https://localhost:8080/",
          "height": 202
        },
        "id": "rQi82NIgtmQO",
        "outputId": "a140fe46-4780-4a70-f4d1-307efb36b5c1"
      },
      "source": [
        "sales.head()"
      ],
      "execution_count": 63,
      "outputs": [
        {
          "output_type": "execute_result",
          "data": {
            "text/html": [
              "<div>\n",
              "<style scoped>\n",
              "    .dataframe tbody tr th:only-of-type {\n",
              "        vertical-align: middle;\n",
              "    }\n",
              "\n",
              "    .dataframe tbody tr th {\n",
              "        vertical-align: top;\n",
              "    }\n",
              "\n",
              "    .dataframe thead th {\n",
              "        text-align: right;\n",
              "    }\n",
              "</style>\n",
              "<table border=\"1\" class=\"dataframe\">\n",
              "  <thead>\n",
              "    <tr style=\"text-align: right;\">\n",
              "      <th></th>\n",
              "      <th>first_name</th>\n",
              "      <th>last_name</th>\n",
              "      <th>gender</th>\n",
              "      <th>date</th>\n",
              "      <th>local_num</th>\n",
              "      <th>city</th>\n",
              "    </tr>\n",
              "  </thead>\n",
              "  <tbody>\n",
              "    <tr>\n",
              "      <th>0</th>\n",
              "      <td>Belita</td>\n",
              "      <td>Egdell</td>\n",
              "      <td>Female</td>\n",
              "      <td>2020-09-13</td>\n",
              "      <td>2.0</td>\n",
              "      <td>Åtvidaberg</td>\n",
              "    </tr>\n",
              "    <tr>\n",
              "      <th>1</th>\n",
              "      <td>Roseline</td>\n",
              "      <td>Kalinsky</td>\n",
              "      <td>Bigender</td>\n",
              "      <td>2020-07-30</td>\n",
              "      <td>83.0</td>\n",
              "      <td>Carbajales</td>\n",
              "    </tr>\n",
              "    <tr>\n",
              "      <th>2</th>\n",
              "      <td>Pamela</td>\n",
              "      <td>Pippard</td>\n",
              "      <td>Polygender</td>\n",
              "      <td>2021-01-14</td>\n",
              "      <td>25.0</td>\n",
              "      <td>Starominskaya</td>\n",
              "    </tr>\n",
              "    <tr>\n",
              "      <th>3</th>\n",
              "      <td>Lenard</td>\n",
              "      <td>Skones</td>\n",
              "      <td>Polygender</td>\n",
              "      <td>2020-12-26</td>\n",
              "      <td>38.0</td>\n",
              "      <td>Sabangan</td>\n",
              "    </tr>\n",
              "    <tr>\n",
              "      <th>4</th>\n",
              "      <td>Verne</td>\n",
              "      <td>Shackell</td>\n",
              "      <td>Polygender</td>\n",
              "      <td>2020-12-10</td>\n",
              "      <td>47.0</td>\n",
              "      <td>Cawayan Bugtong</td>\n",
              "    </tr>\n",
              "  </tbody>\n",
              "</table>\n",
              "</div>"
            ],
            "text/plain": [
              "  first_name last_name      gender       date  local_num             city\n",
              "0     Belita    Egdell      Female 2020-09-13        2.0       Åtvidaberg\n",
              "1   Roseline  Kalinsky    Bigender 2020-07-30       83.0       Carbajales\n",
              "2     Pamela   Pippard  Polygender 2021-01-14       25.0    Starominskaya\n",
              "3     Lenard    Skones  Polygender 2020-12-26       38.0         Sabangan\n",
              "4      Verne  Shackell  Polygender 2020-12-10       47.0  Cawayan Bugtong"
            ]
          },
          "metadata": {
            "tags": []
          },
          "execution_count": 63
        }
      ]
    },
    {
      "cell_type": "code",
      "metadata": {
        "colab": {
          "base_uri": "https://localhost:8080/"
        },
        "id": "J93C_UyDtvXf",
        "outputId": "b3fe1af6-ca8e-4615-cb02-3a33198b05f8"
      },
      "source": [
        "pd.read_excel(\"sales.xlsx\", \n",
        "              parse_dates = [\"date\"]).info()"
      ],
      "execution_count": 64,
      "outputs": [
        {
          "output_type": "stream",
          "text": [
            "<class 'pandas.core.frame.DataFrame'>\n",
            "RangeIndex: 1000 entries, 0 to 999\n",
            "Data columns (total 7 columns):\n",
            " #   Column      Non-Null Count  Dtype         \n",
            "---  ------      --------------  -----         \n",
            " 0   id          1000 non-null   int64         \n",
            " 1   first_name  1000 non-null   object        \n",
            " 2   last_name   1000 non-null   object        \n",
            " 3   gender      1000 non-null   object        \n",
            " 4   date        1000 non-null   datetime64[ns]\n",
            " 5   local_num   1000 non-null   float64       \n",
            " 6   city        1000 non-null   object        \n",
            "dtypes: datetime64[ns](1), float64(1), int64(1), object(4)\n",
            "memory usage: 54.8+ KB\n"
          ],
          "name": "stdout"
        }
      ]
    },
    {
      "cell_type": "code",
      "metadata": {
        "colab": {
          "base_uri": "https://localhost:8080/"
        },
        "id": "BupDI3Utucak",
        "outputId": "f2986514-c81c-447b-ace6-8e53136bd7dc"
      },
      "source": [
        "x = pd.to_datetime(\"2021-12-10\")\n",
        "y = pd.to_datetime(\"2021-12-12\")\n",
        "\n",
        "y - x"
      ],
      "execution_count": 65,
      "outputs": [
        {
          "output_type": "execute_result",
          "data": {
            "text/plain": [
              "Timedelta('2 days 00:00:00')"
            ]
          },
          "metadata": {
            "tags": []
          },
          "execution_count": 65
        }
      ]
    },
    {
      "cell_type": "code",
      "metadata": {
        "id": "CuLYYFWMumMu"
      },
      "source": [
        ""
      ],
      "execution_count": null,
      "outputs": []
    }
  ]
}