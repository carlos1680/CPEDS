{
 "cells": [
  {
   "cell_type": "code",
   "execution_count": 1,
   "metadata": {},
   "outputs": [],
   "source": [
    "import pandas as pd"
   ]
  },
  {
   "cell_type": "code",
   "execution_count": 44,
   "metadata": {},
   "outputs": [
    {
     "name": "stdout",
     "output_type": "stream",
     "text": [
      "PRACTICO 2 \n",
      "Parte 1 \n"
     ]
    },
    {
     "data": {
      "text/plain": [
       "Año\n",
       "1910    3.3E+06\n",
       "1911    1.5E+08\n",
       "1912   -6.0E+08\n",
       "1913   -3.5E+09\n",
       "1914   -4.0E+09\n",
       "         ...   \n",
       "2005   -9.5E+09\n",
       "2006   -6.2E+09\n",
       "2007   -1.1E+10\n",
       "2008   -8.0E+09\n",
       "2009   -1.1E+10\n",
       "Name: Dataset para práctico 2, Length: 100, dtype: float64"
      ]
     },
     "execution_count": 44,
     "metadata": {},
     "output_type": "execute_result"
    }
   ],
   "source": [
    "print(\"PRACTICO 2 \")\n",
    "print(\"Parte 1 \")\n",
    "# links: \n",
    "    #https://stackoverflow.co/\n",
    "    #https://chat.openai.com/\n",
    "#Snippets\n",
    "    #df_fechas[\"fecha_final\"] = df_fechas[\"fecha_origen\"] + pd.to_timedelta(df_fechas[\"hora_transaccion\"], 'h')\n",
    "\n",
    "import os\n",
    "miPath= os.path.abspath('')\n",
    "# print(miPath)\n",
    "#rf=pd.read_excel(miPath+\"/resultados_fiscales.xlsx\",thousands=',').squeeze(\"columns\") #importamos y cargamos el dataframe\n",
    "#rf = pd.read_excel(miPath+\"/resultados_fiscales.xlsx\",squeeze=True,index_col=\"Año\",thousands = [\",\"]).astype('int64')\n",
    "rf = pd.read_excel(miPath+\"/resultados_fiscales.xlsx\",index_col=\"Año\",thousands=[\",\"]).squeeze(\"columns\")\n",
    "rf.name = \"Dataset para práctico 2\"\n",
    "rf"
   ]
  },
  {
   "cell_type": "code",
   "execution_count": 46,
   "metadata": {},
   "outputs": [
    {
     "name": "stdout",
     "output_type": "stream",
     "text": [
      "Parte 2 \n",
      "# Muestra en formato decimal\n"
     ]
    },
    {
     "data": {
      "text/plain": [
       "Año\n",
       "1910       3341829.3\n",
       "1911     153352920.3\n",
       "1912    -602800419.4\n",
       "1913   -3455294577.0\n",
       "1914   -4031521611.0\n",
       "Name: Dataset para práctico 2, dtype: float64"
      ]
     },
     "execution_count": 46,
     "metadata": {},
     "output_type": "execute_result"
    }
   ],
   "source": [
    "print(\"Parte 2 \")\n",
    "print(\"# Muestra en formato decimal\")\n",
    "pd.options.display.float_format = '{:.1f}'.format\n",
    "rf.head()"
   ]
  },
  {
   "cell_type": "code",
   "execution_count": 47,
   "metadata": {},
   "outputs": [
    {
     "name": "stdout",
     "output_type": "stream",
     "text": [
      "Parte 2 \n",
      "# Muestra en formato cientifico\n"
     ]
    },
    {
     "data": {
      "text/plain": [
       "Año\n",
       "1910    3.3E+06\n",
       "1911    1.5E+08\n",
       "1912   -6.0E+08\n",
       "1913   -3.5E+09\n",
       "1914   -4.0E+09\n",
       "Name: Dataset para práctico 2, dtype: float64"
      ]
     },
     "execution_count": 47,
     "metadata": {},
     "output_type": "execute_result"
    }
   ],
   "source": [
    "print(\"Parte 2 \")\n",
    "\n",
    "print(\"# Muestra en formato cientifico\")\n",
    "pd.options.display.float_format = '{:.1E}'.format\n",
    "rf.head()"
   ]
  },
  {
   "cell_type": "code",
   "execution_count": 50,
   "metadata": {},
   "outputs": [
    {
     "name": "stdout",
     "output_type": "stream",
     "text": [
      "Parte 3 \n",
      "Cantidad: 100 100\n",
      "Media: -5919392796.965559\n",
      "Mediana: 0    -3.4E+10\n",
      "1    -2.5E+10\n",
      "2    -2.3E+10\n",
      "3    -2.2E+10\n",
      "4    -2.2E+10\n",
      "       ...   \n",
      "95    1.3E+09\n",
      "96    1.5E+09\n",
      "97    2.1E+09\n",
      "98    3.9E+09\n",
      "99    4.5E+09\n",
      "Name: Dataset para práctico 2, Length: 100, dtype: float64\n"
     ]
    }
   ],
   "source": [
    "print(\"Parte 3 \")\n",
    "\n",
    "print(\"Cantidad:\",rf.size, len(rf))\n",
    "print(\"Media:\",rf.mean())\n",
    "print(\"Mediana:\",rf.mode())\n",
    "\n",
    "\n",
    "\n",
    "\n",
    "pd.to_datetime('2018-10-26 12:00:00.0000000011',...                format='%Y-%m-%d %H:%M:%S.%f')Timestamp('2018-10-26 12:00:00.000000001')\n",
    "\n",
    "\n",
    "pd.options.display.float_format = '{:.1f}'.format\n",
    "\n",
    "resultado_fiscal = pd.read_excel(\"resultados_fiscales.xlsx\", \n",
    "              index_col=\"Año\").squeeze()"
   ]
  }
 ],
 "metadata": {
  "kernelspec": {
   "display_name": "env",
   "language": "python",
   "name": "python3"
  },
  "language_info": {
   "codemirror_mode": {
    "name": "ipython",
    "version": 3
   },
   "file_extension": ".py",
   "mimetype": "text/x-python",
   "name": "python",
   "nbconvert_exporter": "python",
   "pygments_lexer": "ipython3",
   "version": "3.10.12"
  }
 },
 "nbformat": 4,
 "nbformat_minor": 2
}
