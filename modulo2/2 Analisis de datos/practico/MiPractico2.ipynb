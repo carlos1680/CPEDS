{
 "cells": [
  {
   "cell_type": "code",
   "execution_count": 1,
   "metadata": {},
   "outputs": [],
   "source": [
    "import pandas as pd"
   ]
  },
  {
   "cell_type": "code",
   "execution_count": 6,
   "metadata": {},
   "outputs": [
    {
     "name": "stdout",
     "output_type": "stream",
     "text": [
      "PRACTICO 2 \n",
      "Parte 1 \n"
     ]
    },
    {
     "data": {
      "text/plain": [
       "Año\n",
       "1910    3.3E+06\n",
       "1911    1.5E+08\n",
       "1912   -6.0E+08\n",
       "1913   -3.5E+09\n",
       "1914   -4.0E+09\n",
       "         ...   \n",
       "2005   -9.5E+09\n",
       "2006   -6.2E+09\n",
       "2007   -1.1E+10\n",
       "2008   -8.0E+09\n",
       "2009   -1.1E+10\n",
       "Name: Dataset para práctico 2, Length: 100, dtype: float64"
      ]
     },
     "execution_count": 6,
     "metadata": {},
     "output_type": "execute_result"
    }
   ],
   "source": [
    "print(\"PRACTICO 2 \")\n",
    "print(\"Parte 1 - 1 \")\n",
    "# links: \n",
    "    #https://stackoverflow.co/\n",
    "    #https://chat.openai.com/\n",
    "#Snippets\n",
    "    #df_fechas[\"fecha_final\"] = df_fechas[\"fecha_origen\"] + pd.to_timedelta(df_fechas[\"hora_transaccion\"], 'h')\n",
    "    \n",
    "    #pd.to_datetime('2018-10-26 12:00:00.0000000011',...                format='%Y-%m-%d %H:%M:%S.%f')\n",
    "    #Timestamp('2018-10-26 12:00:00.000000001')\n",
    "    \n",
    "    #pd.options.display.float_format = '{:.1f}'.format\n",
    "\n",
    "\n",
    "import os\n",
    "miPath= os.path.abspath('')\n",
    "# print(miPath)\n",
    "#rf=pd.read_excel(miPath+\"/resultados_fiscales.xlsx\",thousands=',').squeeze(\"columns\") #importamos y cargamos el dataframe\n",
    "#rf = pd.read_excel(miPath+\"/resultados_fiscales.xlsx\",squeeze=True,index_col=\"Año\",thousands = [\",\"]).astype('int64')\n",
    "rf = pd.read_excel(miPath+\"/resultados_fiscales.xlsx\",index_col=\"Año\",thousands=[\",\"]).squeeze(\"columns\")\n",
    "rf.name = \"Dataset para práctico 2\"\n",
    "rf"
   ]
  },
  {
   "cell_type": "code",
   "execution_count": 4,
   "metadata": {},
   "outputs": [
    {
     "name": "stdout",
     "output_type": "stream",
     "text": [
      "Parte 2 \n",
      "# Muestra en formato decimal\n"
     ]
    },
    {
     "data": {
      "text/plain": [
       "Año\n",
       "1910       3341829.3\n",
       "1911     153352920.3\n",
       "1912    -602800419.4\n",
       "1913   -3455294577.0\n",
       "1914   -4031521611.0\n",
       "Name: Dataset para práctico 2, dtype: float64"
      ]
     },
     "execution_count": 4,
     "metadata": {},
     "output_type": "execute_result"
    }
   ],
   "source": [
    "print(\"Parte 1 - 2 \")\n",
    "print(\"# Muestra en formato decimal\")\n",
    "pd.options.display.float_format = '{:.1f}'.format\n",
    "rf.head()"
   ]
  },
  {
   "cell_type": "code",
   "execution_count": 7,
   "metadata": {},
   "outputs": [
    {
     "name": "stdout",
     "output_type": "stream",
     "text": [
      "Parte 2 \n",
      "# Muestra en formato cientifico\n"
     ]
    },
    {
     "data": {
      "text/plain": [
       "Año\n",
       "1910    3.3E+06\n",
       "1911    1.5E+08\n",
       "1912   -6.0E+08\n",
       "1913   -3.5E+09\n",
       "1914   -4.0E+09\n",
       "Name: Dataset para práctico 2, dtype: float64"
      ]
     },
     "execution_count": 7,
     "metadata": {},
     "output_type": "execute_result"
    }
   ],
   "source": [
    "print(\"Parte 1 - 2 \")\n",
    "\n",
    "print(\"# Muestra en formato cientifico\")\n",
    "pd.options.display.float_format = '{:.1E}'.format\n",
    "rf.head()"
   ]
  },
  {
   "cell_type": "code",
   "execution_count": 13,
   "metadata": {},
   "outputs": [
    {
     "name": "stdout",
     "output_type": "stream",
     "text": [
      "Parte 3 \n",
      "Cantidad: 100 100\n",
      "Media: -5919392796.965559\n",
      "Mediana: -4457752925.5\n"
     ]
    }
   ],
   "source": [
    "print(\"Parte 1 - 3 \")\n",
    "\n",
    "pd.options.display.float_format = '{:.1f}'.format\n",
    "print(\"Cantidad:\",rf.size, len(rf))\n",
    "print(\"Media:\",rf.mean())\n",
    "print(\"Mediana:\",rf.median())\n",
    "\n",
    "\n",
    "\n"
   ]
  },
  {
   "cell_type": "code",
   "execution_count": 14,
   "metadata": {},
   "outputs": [
    {
     "data": {
      "text/plain": [
       "Año\n",
       "1959     4526185464.0\n",
       "1926      913376838.8\n",
       "1924      356186029.8\n",
       "1923     -534822576.4\n",
       "1920     -648921648.1\n",
       "1917     -889128023.3\n",
       "1935    -1407436011.0\n",
       "1916    -2376278621.0\n",
       "1956    -3889722499.0\n",
       "1942    -5137825514.0\n",
       "1987    -5472975733.0\n",
       "1967    -8152016582.0\n",
       "1995    -9379678915.0\n",
       "1983   -15013613296.0\n",
       "Name: Dataset para práctico 2, dtype: float64"
      ]
     },
     "execution_count": 14,
     "metadata": {},
     "output_type": "execute_result"
    }
   ],
   "source": [
    "print(\"Parte 1 - 4\")\n",
    "claves = [1916,1917,1920,1923,1924,1926,1935,1942,1956,1959,1967,1983,1987,1995]\n",
    "rf.get(claves).sort_values(ascending=False)"
   ]
  },
  {
   "cell_type": "code",
   "execution_count": 15,
   "metadata": {},
   "outputs": [
    {
     "name": "stdout",
     "output_type": "stream",
     "text": [
      "Parte 1 - 5\n"
     ]
    },
    {
     "data": {
      "text/plain": [
       "count            100.0\n",
       "mean     -5919392797.0\n",
       "std       6828141173.7\n",
       "min     -34407752167.0\n",
       "25%      -8654238051.0\n",
       "50%      -4457752925.5\n",
       "75%       -865066495.2\n",
       "max       4526185464.0\n",
       "Name: Dataset para práctico 2, dtype: float64"
      ]
     },
     "execution_count": 15,
     "metadata": {},
     "output_type": "execute_result"
    }
   ],
   "source": [
    "print(\"Parte 1 - 5\")\n",
    "rf.describe()\n"
   ]
  },
  {
   "cell_type": "code",
   "execution_count": 16,
   "metadata": {},
   "outputs": [
    {
     "name": "stdout",
     "output_type": "stream",
     "text": [
      "Parte 1 - 6\n",
      "El año que se da el maximo es 1959, y el año que se da el minimo es: 1982\n"
     ]
    }
   ],
   "source": [
    "print(\"Parte 1 - 6\")\n",
    "\n",
    "print(f\"El año que se da el maximo es {rf.idxmax()}, y el año que se da el minimo es: {rf.idxmin()}\")\n",
    "\n"
   ]
  },
  {
   "cell_type": "code",
   "execution_count": 26,
   "metadata": {},
   "outputs": [
    {
     "name": "stdout",
     "output_type": "stream",
     "text": [
      "Parte 2 - 1\n"
     ]
    },
    {
     "data": {
      "text/html": [
       "<div>\n",
       "<style scoped>\n",
       "    .dataframe tbody tr th:only-of-type {\n",
       "        vertical-align: middle;\n",
       "    }\n",
       "\n",
       "    .dataframe tbody tr th {\n",
       "        vertical-align: top;\n",
       "    }\n",
       "\n",
       "    .dataframe thead th {\n",
       "        text-align: right;\n",
       "    }\n",
       "</style>\n",
       "<table border=\"1\" class=\"dataframe\">\n",
       "  <thead>\n",
       "    <tr style=\"text-align: right;\">\n",
       "      <th></th>\n",
       "      <th>name</th>\n",
       "      <th>dpto</th>\n",
       "      <th>date</th>\n",
       "      <th>revenue</th>\n",
       "    </tr>\n",
       "    <tr>\n",
       "      <th>id</th>\n",
       "      <th></th>\n",
       "      <th></th>\n",
       "      <th></th>\n",
       "      <th></th>\n",
       "    </tr>\n",
       "  </thead>\n",
       "  <tbody>\n",
       "    <tr>\n",
       "      <th>1</th>\n",
       "      <td>Caryl Paoletti</td>\n",
       "      <td>Montevideo</td>\n",
       "      <td>2020/10/19</td>\n",
       "      <td>565.9</td>\n",
       "    </tr>\n",
       "    <tr>\n",
       "      <th>2</th>\n",
       "      <td>Pasquale Lightning</td>\n",
       "      <td>Salto</td>\n",
       "      <td>2021/02/01</td>\n",
       "      <td>722.4</td>\n",
       "    </tr>\n",
       "    <tr>\n",
       "      <th>3</th>\n",
       "      <td>Melinde Jearum</td>\n",
       "      <td>Montevideo</td>\n",
       "      <td>2020/09/23</td>\n",
       "      <td>797.9</td>\n",
       "    </tr>\n",
       "    <tr>\n",
       "      <th>4</th>\n",
       "      <td>Jazmin Speir</td>\n",
       "      <td>Montevideo</td>\n",
       "      <td>2021/03/13</td>\n",
       "      <td>346.8</td>\n",
       "    </tr>\n",
       "    <tr>\n",
       "      <th>5</th>\n",
       "      <td>Kirby Liepmann</td>\n",
       "      <td>Montevideo</td>\n",
       "      <td>2021/01/07</td>\n",
       "      <td>1037.0</td>\n",
       "    </tr>\n",
       "  </tbody>\n",
       "</table>\n",
       "</div>"
      ],
      "text/plain": [
       "                  name        dpto        date  revenue\n",
       "id                                                     \n",
       "1       Caryl Paoletti  Montevideo  2020/10/19    565.9\n",
       "2   Pasquale Lightning       Salto  2021/02/01    722.4\n",
       "3       Melinde Jearum  Montevideo  2020/09/23    797.9\n",
       "4         Jazmin Speir  Montevideo  2021/03/13    346.8\n",
       "5       Kirby Liepmann  Montevideo  2021/01/07   1037.0"
      ]
     },
     "execution_count": 26,
     "metadata": {},
     "output_type": "execute_result"
    }
   ],
   "source": [
    "print(\"Parte 2 - 1\")\n",
    "miPath = os.path.abspath('')\n",
    "\n",
    "rf2 = pd.read_csv(miPath+\"/sales_data.csv\", index_col=[\"id\"])\n",
    "rf2.head(5)"
   ]
  },
  {
   "cell_type": "code",
   "execution_count": 27,
   "metadata": {},
   "outputs": [
    {
     "name": "stdout",
     "output_type": "stream",
     "text": [
      "Parte 2 - 2\n",
      "<class 'pandas.core.frame.DataFrame'>\n",
      "Index: 1000 entries, 1 to 1000\n",
      "Data columns (total 4 columns):\n",
      " #   Column   Non-Null Count  Dtype  \n",
      "---  ------   --------------  -----  \n",
      " 0   name     1000 non-null   object \n",
      " 1   dpto     1000 non-null   object \n",
      " 2   date     1000 non-null   object \n",
      " 3   revenue  1000 non-null   float64\n",
      "dtypes: float64(1), object(3)\n",
      "memory usage: 39.1+ KB\n"
     ]
    }
   ],
   "source": [
    "print(\"Parte 2 - 2\")\n",
    "rf2.info()"
   ]
  },
  {
   "cell_type": "code",
   "execution_count": 32,
   "metadata": {},
   "outputs": [
    {
     "name": "stdout",
     "output_type": "stream",
     "text": [
      "Parte 2 - 3\n"
     ]
    },
    {
     "data": {
      "text/html": [
       "<div>\n",
       "<style scoped>\n",
       "    .dataframe tbody tr th:only-of-type {\n",
       "        vertical-align: middle;\n",
       "    }\n",
       "\n",
       "    .dataframe tbody tr th {\n",
       "        vertical-align: top;\n",
       "    }\n",
       "\n",
       "    .dataframe thead th {\n",
       "        text-align: right;\n",
       "    }\n",
       "</style>\n",
       "<table border=\"1\" class=\"dataframe\">\n",
       "  <thead>\n",
       "    <tr style=\"text-align: right;\">\n",
       "      <th></th>\n",
       "      <th>name</th>\n",
       "      <th>dpto</th>\n",
       "      <th>date</th>\n",
       "      <th>revenue</th>\n",
       "    </tr>\n",
       "    <tr>\n",
       "      <th>id</th>\n",
       "      <th></th>\n",
       "      <th></th>\n",
       "      <th></th>\n",
       "      <th></th>\n",
       "    </tr>\n",
       "  </thead>\n",
       "  <tbody>\n",
       "    <tr>\n",
       "      <th>1</th>\n",
       "      <td>Caryl Paoletti</td>\n",
       "      <td>Montevideo</td>\n",
       "      <td>2020-10-19</td>\n",
       "      <td>565</td>\n",
       "    </tr>\n",
       "    <tr>\n",
       "      <th>2</th>\n",
       "      <td>Pasquale Lightning</td>\n",
       "      <td>Salto</td>\n",
       "      <td>2021-02-01</td>\n",
       "      <td>722</td>\n",
       "    </tr>\n",
       "    <tr>\n",
       "      <th>3</th>\n",
       "      <td>Melinde Jearum</td>\n",
       "      <td>Montevideo</td>\n",
       "      <td>2020-09-23</td>\n",
       "      <td>797</td>\n",
       "    </tr>\n",
       "    <tr>\n",
       "      <th>4</th>\n",
       "      <td>Jazmin Speir</td>\n",
       "      <td>Montevideo</td>\n",
       "      <td>2021-03-13</td>\n",
       "      <td>346</td>\n",
       "    </tr>\n",
       "    <tr>\n",
       "      <th>5</th>\n",
       "      <td>Kirby Liepmann</td>\n",
       "      <td>Montevideo</td>\n",
       "      <td>2021-01-07</td>\n",
       "      <td>1037</td>\n",
       "    </tr>\n",
       "  </tbody>\n",
       "</table>\n",
       "</div>"
      ],
      "text/plain": [
       "                  name        dpto       date  revenue\n",
       "id                                                    \n",
       "1       Caryl Paoletti  Montevideo 2020-10-19      565\n",
       "2   Pasquale Lightning       Salto 2021-02-01      722\n",
       "3       Melinde Jearum  Montevideo 2020-09-23      797\n",
       "4         Jazmin Speir  Montevideo 2021-03-13      346\n",
       "5       Kirby Liepmann  Montevideo 2021-01-07     1037"
      ]
     },
     "execution_count": 32,
     "metadata": {},
     "output_type": "execute_result"
    }
   ],
   "source": [
    "print(\"Parte 2 - 3\")\n",
    "rf2[\"dpto\"] = rf2[\"dpto\"].astype(\"category\")\n",
    "rf2[\"date\"] = pd.to_datetime(rf2[\"date\"])\n",
    "rf2[\"revenue\"] = rf2[\"revenue\"].astype(\"int32\")\n",
    "rf2.head()\n"
   ]
  },
  {
   "cell_type": "code",
   "execution_count": 33,
   "metadata": {},
   "outputs": [
    {
     "name": "stdout",
     "output_type": "stream",
     "text": [
      "Parte 2 - 4\n"
     ]
    },
    {
     "data": {
      "text/plain": [
       "dpto\n",
       "Montevideo    363\n",
       "Salto         332\n",
       "Colonia       305\n",
       "Name: count, dtype: int64"
      ]
     },
     "execution_count": 33,
     "metadata": {},
     "output_type": "execute_result"
    }
   ],
   "source": [
    "print(\"Parte 2 - 4\")\n",
    "rf2[\"dpto\"].value_counts()"
   ]
  }
 ],
 "metadata": {
  "kernelspec": {
   "display_name": "env",
   "language": "python",
   "name": "python3"
  },
  "language_info": {
   "codemirror_mode": {
    "name": "ipython",
    "version": 3
   },
   "file_extension": ".py",
   "mimetype": "text/x-python",
   "name": "python",
   "nbconvert_exporter": "python",
   "pygments_lexer": "ipython3",
   "version": "3.12.3"
  }
 },
 "nbformat": 4,
 "nbformat_minor": 2
}
