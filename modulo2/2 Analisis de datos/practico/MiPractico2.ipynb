{
 "cells": [
  {
   "cell_type": "code",
   "execution_count": 2,
   "metadata": {},
   "outputs": [],
   "source": [
    "import pandas as pd"
   ]
  },
  {
   "cell_type": "code",
   "execution_count": 3,
   "metadata": {},
   "outputs": [
    {
     "name": "stdout",
     "output_type": "stream",
     "text": [
      "PRACTICO 2 \n",
      "Parte 1 - 1 \n"
     ]
    },
    {
     "data": {
      "text/plain": [
       "Año\n",
       "1910    3.341829e+06\n",
       "1911    1.533529e+08\n",
       "1912   -6.028004e+08\n",
       "1913   -3.455295e+09\n",
       "1914   -4.031522e+09\n",
       "            ...     \n",
       "2005   -9.521600e+09\n",
       "2006   -6.195813e+09\n",
       "2007   -1.110141e+10\n",
       "2008   -8.009262e+09\n",
       "2009   -1.119253e+10\n",
       "Name: Dataset para práctico 2, Length: 100, dtype: float64"
      ]
     },
     "execution_count": 3,
     "metadata": {},
     "output_type": "execute_result"
    }
   ],
   "source": [
    "print(\"PRACTICO 2 \")\n",
    "print(\"Parte 1 - 1 \")\n",
    "# links: \n",
    "    #https://stackoverflow.co/\n",
    "    #https://chat.openai.com/\n",
    "#Snippets\n",
    "    #df_fechas[\"fecha_final\"] = df_fechas[\"fecha_origen\"] + pd.to_timedelta(df_fechas[\"hora_transaccion\"], 'h')\n",
    "    \n",
    "    #pd.to_datetime('2018-10-26 12:00:00.0000000011',...                format='%Y-%m-%d %H:%M:%S.%f')\n",
    "    #Timestamp('2018-10-26 12:00:00.000000001')\n",
    "    \n",
    "    #pd.options.display.float_format = '{:.1f}'.format\n",
    "\n",
    "\n",
    "import os\n",
    "miPath= os.path.abspath('')\n",
    "# print(miPath)\n",
    "#rf=pd.read_excel(miPath+\"/resultados_fiscales.xlsx\",thousands=',').squeeze(\"columns\") #importamos y cargamos el dataframe\n",
    "#rf = pd.read_excel(miPath+\"/resultados_fiscales.xlsx\",squeeze=True,index_col=\"Año\",thousands = [\",\"]).astype('int64')\n",
    "rf = pd.read_excel(miPath+\"/resultados_fiscales.xlsx\",index_col=\"Año\",thousands=[\",\"]).squeeze(\"columns\")\n",
    "rf.name = \"Dataset para práctico 2\"\n",
    "rf"
   ]
  },
  {
   "cell_type": "code",
   "execution_count": 4,
   "metadata": {},
   "outputs": [
    {
     "name": "stdout",
     "output_type": "stream",
     "text": [
      "Parte 1 - 2 \n",
      "# Muestra en formato decimal\n"
     ]
    },
    {
     "data": {
      "text/plain": [
       "Año\n",
       "1910       3341829.3\n",
       "1911     153352920.3\n",
       "1912    -602800419.4\n",
       "1913   -3455294577.0\n",
       "1914   -4031521611.0\n",
       "Name: Dataset para práctico 2, dtype: float64"
      ]
     },
     "execution_count": 4,
     "metadata": {},
     "output_type": "execute_result"
    }
   ],
   "source": [
    "print(\"Parte 1 - 2 \")\n",
    "print(\"# Muestra en formato decimal\")\n",
    "pd.options.display.float_format = '{:.1f}'.format\n",
    "rf.head()"
   ]
  },
  {
   "cell_type": "code",
   "execution_count": 5,
   "metadata": {},
   "outputs": [
    {
     "name": "stdout",
     "output_type": "stream",
     "text": [
      "Parte 1 - 2 \n",
      "# Muestra en formato cientifico\n"
     ]
    },
    {
     "data": {
      "text/plain": [
       "Año\n",
       "1910    3.3E+06\n",
       "1911    1.5E+08\n",
       "1912   -6.0E+08\n",
       "1913   -3.5E+09\n",
       "1914   -4.0E+09\n",
       "Name: Dataset para práctico 2, dtype: float64"
      ]
     },
     "execution_count": 5,
     "metadata": {},
     "output_type": "execute_result"
    }
   ],
   "source": [
    "print(\"Parte 1 - 2 \")\n",
    "\n",
    "print(\"# Muestra en formato cientifico\")\n",
    "pd.options.display.float_format = '{:.1E}'.format\n",
    "rf.head()"
   ]
  },
  {
   "cell_type": "code",
   "execution_count": 6,
   "metadata": {},
   "outputs": [
    {
     "name": "stdout",
     "output_type": "stream",
     "text": [
      "Parte 1 - 3 \n",
      "Cantidad: 100 100\n",
      "Media: -5919392796.965559\n",
      "Mediana: -4457752925.5\n"
     ]
    }
   ],
   "source": [
    "print(\"Parte 1 - 3 \")\n",
    "\n",
    "pd.options.display.float_format = '{:.1f}'.format\n",
    "print(\"Cantidad:\",rf.size, len(rf))\n",
    "print(\"Media:\",rf.mean())\n",
    "print(\"Mediana:\",rf.median())\n",
    "\n",
    "\n",
    "\n"
   ]
  },
  {
   "cell_type": "code",
   "execution_count": 7,
   "metadata": {},
   "outputs": [
    {
     "name": "stdout",
     "output_type": "stream",
     "text": [
      "Parte 1 - 4\n"
     ]
    },
    {
     "data": {
      "text/plain": [
       "Año\n",
       "1959     4526185464.0\n",
       "1926      913376838.8\n",
       "1924      356186029.8\n",
       "1923     -534822576.4\n",
       "1920     -648921648.1\n",
       "1917     -889128023.3\n",
       "1935    -1407436011.0\n",
       "1916    -2376278621.0\n",
       "1956    -3889722499.0\n",
       "1942    -5137825514.0\n",
       "1987    -5472975733.0\n",
       "1967    -8152016582.0\n",
       "1995    -9379678915.0\n",
       "1983   -15013613296.0\n",
       "Name: Dataset para práctico 2, dtype: float64"
      ]
     },
     "execution_count": 7,
     "metadata": {},
     "output_type": "execute_result"
    }
   ],
   "source": [
    "print(\"Parte 1 - 4\")\n",
    "claves = [1916,1917,1920,1923,1924,1926,1935,1942,1956,1959,1967,1983,1987,1995]\n",
    "rf.get(claves).sort_values(ascending=False)"
   ]
  },
  {
   "cell_type": "code",
   "execution_count": 8,
   "metadata": {},
   "outputs": [
    {
     "name": "stdout",
     "output_type": "stream",
     "text": [
      "Parte 1 - 5\n"
     ]
    },
    {
     "data": {
      "text/plain": [
       "count            100.0\n",
       "mean     -5919392797.0\n",
       "std       6828141173.7\n",
       "min     -34407752167.0\n",
       "25%      -8654238051.0\n",
       "50%      -4457752925.5\n",
       "75%       -865066495.2\n",
       "max       4526185464.0\n",
       "Name: Dataset para práctico 2, dtype: float64"
      ]
     },
     "execution_count": 8,
     "metadata": {},
     "output_type": "execute_result"
    }
   ],
   "source": [
    "print(\"Parte 1 - 5\")\n",
    "rf.describe()\n"
   ]
  },
  {
   "cell_type": "code",
   "execution_count": 9,
   "metadata": {},
   "outputs": [
    {
     "name": "stdout",
     "output_type": "stream",
     "text": [
      "Parte 1 - 6\n",
      "El año que se da el maximo es 1959, y el año que se da el minimo es: 1982\n"
     ]
    }
   ],
   "source": [
    "print(\"Parte 1 - 6\")\n",
    "\n",
    "print(f\"El año que se da el maximo es {rf.idxmax()}, y el año que se da el minimo es: {rf.idxmin()}\")\n",
    "\n"
   ]
  },
  {
   "cell_type": "code",
   "execution_count": 16,
   "metadata": {},
   "outputs": [
    {
     "name": "stdout",
     "output_type": "stream",
     "text": [
      "Parte 1 - 5 Con quintil\n",
      "-9470376920.2\n",
      "-5661747987.2\n",
      "-3135696908.6000004\n",
      "-525432176.77999985\n",
      "4526185464.0\n"
     ]
    }
   ],
   "source": [
    "print(\"Parte 1 - 5 Con quintil\")\n",
    "import numpy as np\n",
    "print(np.percentile(rf,20))\n",
    "print(np.percentile(rf,40))\n",
    "print(np.percentile(rf,60))\n",
    "print(np.percentile(rf,80))\n",
    "print(np.percentile(rf,100))"
   ]
  },
  {
   "cell_type": "code",
   "execution_count": 10,
   "metadata": {},
   "outputs": [
    {
     "name": "stdout",
     "output_type": "stream",
     "text": [
      "Parte 2 - 1\n"
     ]
    },
    {
     "data": {
      "text/html": [
       "<div>\n",
       "<style scoped>\n",
       "    .dataframe tbody tr th:only-of-type {\n",
       "        vertical-align: middle;\n",
       "    }\n",
       "\n",
       "    .dataframe tbody tr th {\n",
       "        vertical-align: top;\n",
       "    }\n",
       "\n",
       "    .dataframe thead th {\n",
       "        text-align: right;\n",
       "    }\n",
       "</style>\n",
       "<table border=\"1\" class=\"dataframe\">\n",
       "  <thead>\n",
       "    <tr style=\"text-align: right;\">\n",
       "      <th></th>\n",
       "      <th>name</th>\n",
       "      <th>dpto</th>\n",
       "      <th>date</th>\n",
       "      <th>revenue</th>\n",
       "    </tr>\n",
       "    <tr>\n",
       "      <th>id</th>\n",
       "      <th></th>\n",
       "      <th></th>\n",
       "      <th></th>\n",
       "      <th></th>\n",
       "    </tr>\n",
       "  </thead>\n",
       "  <tbody>\n",
       "    <tr>\n",
       "      <th>1</th>\n",
       "      <td>Caryl Paoletti</td>\n",
       "      <td>Montevideo</td>\n",
       "      <td>2020/10/19</td>\n",
       "      <td>565.9</td>\n",
       "    </tr>\n",
       "    <tr>\n",
       "      <th>2</th>\n",
       "      <td>Pasquale Lightning</td>\n",
       "      <td>Salto</td>\n",
       "      <td>2021/02/01</td>\n",
       "      <td>722.4</td>\n",
       "    </tr>\n",
       "    <tr>\n",
       "      <th>3</th>\n",
       "      <td>Melinde Jearum</td>\n",
       "      <td>Montevideo</td>\n",
       "      <td>2020/09/23</td>\n",
       "      <td>797.9</td>\n",
       "    </tr>\n",
       "    <tr>\n",
       "      <th>4</th>\n",
       "      <td>Jazmin Speir</td>\n",
       "      <td>Montevideo</td>\n",
       "      <td>2021/03/13</td>\n",
       "      <td>346.8</td>\n",
       "    </tr>\n",
       "    <tr>\n",
       "      <th>5</th>\n",
       "      <td>Kirby Liepmann</td>\n",
       "      <td>Montevideo</td>\n",
       "      <td>2021/01/07</td>\n",
       "      <td>1037.0</td>\n",
       "    </tr>\n",
       "  </tbody>\n",
       "</table>\n",
       "</div>"
      ],
      "text/plain": [
       "                  name        dpto        date  revenue\n",
       "id                                                     \n",
       "1       Caryl Paoletti  Montevideo  2020/10/19    565.9\n",
       "2   Pasquale Lightning       Salto  2021/02/01    722.4\n",
       "3       Melinde Jearum  Montevideo  2020/09/23    797.9\n",
       "4         Jazmin Speir  Montevideo  2021/03/13    346.8\n",
       "5       Kirby Liepmann  Montevideo  2021/01/07   1037.0"
      ]
     },
     "execution_count": 10,
     "metadata": {},
     "output_type": "execute_result"
    }
   ],
   "source": [
    "print(\"Parte 2 - 1\")\n",
    "miPath = os.path.abspath('')\n",
    "\n",
    "rf2 = pd.read_csv(miPath+\"/sales_data.csv\", index_col=[\"id\"])\n",
    "rf2.head(5)"
   ]
  },
  {
   "cell_type": "code",
   "execution_count": 11,
   "metadata": {},
   "outputs": [
    {
     "name": "stdout",
     "output_type": "stream",
     "text": [
      "Parte 2 - 2\n",
      "<class 'pandas.core.frame.DataFrame'>\n",
      "Index: 1000 entries, 1 to 1000\n",
      "Data columns (total 4 columns):\n",
      " #   Column   Non-Null Count  Dtype  \n",
      "---  ------   --------------  -----  \n",
      " 0   name     1000 non-null   object \n",
      " 1   dpto     1000 non-null   object \n",
      " 2   date     1000 non-null   object \n",
      " 3   revenue  1000 non-null   float64\n",
      "dtypes: float64(1), object(3)\n",
      "memory usage: 39.1+ KB\n"
     ]
    }
   ],
   "source": [
    "print(\"Parte 2 - 2\")\n",
    "rf2.info()"
   ]
  },
  {
   "cell_type": "code",
   "execution_count": 12,
   "metadata": {},
   "outputs": [
    {
     "name": "stdout",
     "output_type": "stream",
     "text": [
      "Parte 2 - 3\n"
     ]
    },
    {
     "data": {
      "text/html": [
       "<div>\n",
       "<style scoped>\n",
       "    .dataframe tbody tr th:only-of-type {\n",
       "        vertical-align: middle;\n",
       "    }\n",
       "\n",
       "    .dataframe tbody tr th {\n",
       "        vertical-align: top;\n",
       "    }\n",
       "\n",
       "    .dataframe thead th {\n",
       "        text-align: right;\n",
       "    }\n",
       "</style>\n",
       "<table border=\"1\" class=\"dataframe\">\n",
       "  <thead>\n",
       "    <tr style=\"text-align: right;\">\n",
       "      <th></th>\n",
       "      <th>name</th>\n",
       "      <th>dpto</th>\n",
       "      <th>date</th>\n",
       "      <th>revenue</th>\n",
       "    </tr>\n",
       "    <tr>\n",
       "      <th>id</th>\n",
       "      <th></th>\n",
       "      <th></th>\n",
       "      <th></th>\n",
       "      <th></th>\n",
       "    </tr>\n",
       "  </thead>\n",
       "  <tbody>\n",
       "    <tr>\n",
       "      <th>1</th>\n",
       "      <td>Caryl Paoletti</td>\n",
       "      <td>Montevideo</td>\n",
       "      <td>2020-10-19</td>\n",
       "      <td>565</td>\n",
       "    </tr>\n",
       "    <tr>\n",
       "      <th>2</th>\n",
       "      <td>Pasquale Lightning</td>\n",
       "      <td>Salto</td>\n",
       "      <td>2021-02-01</td>\n",
       "      <td>722</td>\n",
       "    </tr>\n",
       "    <tr>\n",
       "      <th>3</th>\n",
       "      <td>Melinde Jearum</td>\n",
       "      <td>Montevideo</td>\n",
       "      <td>2020-09-23</td>\n",
       "      <td>797</td>\n",
       "    </tr>\n",
       "    <tr>\n",
       "      <th>4</th>\n",
       "      <td>Jazmin Speir</td>\n",
       "      <td>Montevideo</td>\n",
       "      <td>2021-03-13</td>\n",
       "      <td>346</td>\n",
       "    </tr>\n",
       "    <tr>\n",
       "      <th>5</th>\n",
       "      <td>Kirby Liepmann</td>\n",
       "      <td>Montevideo</td>\n",
       "      <td>2021-01-07</td>\n",
       "      <td>1037</td>\n",
       "    </tr>\n",
       "  </tbody>\n",
       "</table>\n",
       "</div>"
      ],
      "text/plain": [
       "                  name        dpto       date  revenue\n",
       "id                                                    \n",
       "1       Caryl Paoletti  Montevideo 2020-10-19      565\n",
       "2   Pasquale Lightning       Salto 2021-02-01      722\n",
       "3       Melinde Jearum  Montevideo 2020-09-23      797\n",
       "4         Jazmin Speir  Montevideo 2021-03-13      346\n",
       "5       Kirby Liepmann  Montevideo 2021-01-07     1037"
      ]
     },
     "execution_count": 12,
     "metadata": {},
     "output_type": "execute_result"
    }
   ],
   "source": [
    "print(\"Parte 2 - 3\")\n",
    "rf2[\"dpto\"] = rf2[\"dpto\"].astype(\"category\")\n",
    "rf2[\"date\"] = pd.to_datetime(rf2[\"date\"])\n",
    "rf2[\"revenue\"] = rf2[\"revenue\"].astype(\"int32\")\n",
    "rf2.head()\n"
   ]
  },
  {
   "cell_type": "code",
   "execution_count": 18,
   "metadata": {},
   "outputs": [
    {
     "data": {
      "text/html": [
       "<div>\n",
       "<style scoped>\n",
       "    .dataframe tbody tr th:only-of-type {\n",
       "        vertical-align: middle;\n",
       "    }\n",
       "\n",
       "    .dataframe tbody tr th {\n",
       "        vertical-align: top;\n",
       "    }\n",
       "\n",
       "    .dataframe thead th {\n",
       "        text-align: right;\n",
       "    }\n",
       "</style>\n",
       "<table border=\"1\" class=\"dataframe\">\n",
       "  <thead>\n",
       "    <tr style=\"text-align: right;\">\n",
       "      <th></th>\n",
       "      <th>name</th>\n",
       "      <th>dpto</th>\n",
       "      <th>date</th>\n",
       "      <th>revenue</th>\n",
       "      <th>año</th>\n",
       "      <th>mes</th>\n",
       "    </tr>\n",
       "    <tr>\n",
       "      <th>id</th>\n",
       "      <th></th>\n",
       "      <th></th>\n",
       "      <th></th>\n",
       "      <th></th>\n",
       "      <th></th>\n",
       "      <th></th>\n",
       "    </tr>\n",
       "  </thead>\n",
       "  <tbody>\n",
       "    <tr>\n",
       "      <th>1</th>\n",
       "      <td>Caryl Paoletti</td>\n",
       "      <td>Montevideo</td>\n",
       "      <td>2020-10-19</td>\n",
       "      <td>565</td>\n",
       "      <td>2020</td>\n",
       "      <td>10</td>\n",
       "    </tr>\n",
       "    <tr>\n",
       "      <th>2</th>\n",
       "      <td>Pasquale Lightning</td>\n",
       "      <td>Salto</td>\n",
       "      <td>2021-02-01</td>\n",
       "      <td>722</td>\n",
       "      <td>2021</td>\n",
       "      <td>2</td>\n",
       "    </tr>\n",
       "    <tr>\n",
       "      <th>3</th>\n",
       "      <td>Melinde Jearum</td>\n",
       "      <td>Montevideo</td>\n",
       "      <td>2020-09-23</td>\n",
       "      <td>797</td>\n",
       "      <td>2020</td>\n",
       "      <td>9</td>\n",
       "    </tr>\n",
       "    <tr>\n",
       "      <th>4</th>\n",
       "      <td>Jazmin Speir</td>\n",
       "      <td>Montevideo</td>\n",
       "      <td>2021-03-13</td>\n",
       "      <td>346</td>\n",
       "      <td>2021</td>\n",
       "      <td>3</td>\n",
       "    </tr>\n",
       "    <tr>\n",
       "      <th>5</th>\n",
       "      <td>Kirby Liepmann</td>\n",
       "      <td>Montevideo</td>\n",
       "      <td>2021-01-07</td>\n",
       "      <td>1037</td>\n",
       "      <td>2021</td>\n",
       "      <td>1</td>\n",
       "    </tr>\n",
       "  </tbody>\n",
       "</table>\n",
       "</div>"
      ],
      "text/plain": [
       "                  name        dpto       date  revenue   año  mes\n",
       "id                                                               \n",
       "1       Caryl Paoletti  Montevideo 2020-10-19      565  2020   10\n",
       "2   Pasquale Lightning       Salto 2021-02-01      722  2021    2\n",
       "3       Melinde Jearum  Montevideo 2020-09-23      797  2020    9\n",
       "4         Jazmin Speir  Montevideo 2021-03-13      346  2021    3\n",
       "5       Kirby Liepmann  Montevideo 2021-01-07     1037  2021    1"
      ]
     },
     "execution_count": 18,
     "metadata": {},
     "output_type": "execute_result"
    }
   ],
   "source": [
    "import datetime as dt\n",
    "# Agrego una columna para separar mes y año\n",
    "rf2[\"año\"] = rf2[\"date\"].dt.year\n",
    "rf2[\"mes\"] = rf2[\"date\"].dt.month\n",
    "rf2.head()"
   ]
  },
  {
   "cell_type": "code",
   "execution_count": 21,
   "metadata": {},
   "outputs": [
    {
     "name": "stdout",
     "output_type": "stream",
     "text": [
      "Parte 2 - 4\n"
     ]
    },
    {
     "ename": "KeyError",
     "evalue": "('dpto', 'año', 'mes')",
     "output_type": "error",
     "traceback": [
      "\u001b[1;31m---------------------------------------------------------------------------\u001b[0m",
      "\u001b[1;31mKeyError\u001b[0m                                  Traceback (most recent call last)",
      "File \u001b[1;32me:\\Personal\\django\\CPE\\CPEDS\\envWindows\\Lib\\site-packages\\pandas\\core\\indexes\\base.py:3805\u001b[0m, in \u001b[0;36mIndex.get_loc\u001b[1;34m(self, key)\u001b[0m\n\u001b[0;32m   3804\u001b[0m \u001b[38;5;28;01mtry\u001b[39;00m:\n\u001b[1;32m-> 3805\u001b[0m     \u001b[38;5;28;01mreturn\u001b[39;00m \u001b[38;5;28;43mself\u001b[39;49m\u001b[38;5;241;43m.\u001b[39;49m\u001b[43m_engine\u001b[49m\u001b[38;5;241;43m.\u001b[39;49m\u001b[43mget_loc\u001b[49m\u001b[43m(\u001b[49m\u001b[43mcasted_key\u001b[49m\u001b[43m)\u001b[49m\n\u001b[0;32m   3806\u001b[0m \u001b[38;5;28;01mexcept\u001b[39;00m \u001b[38;5;167;01mKeyError\u001b[39;00m \u001b[38;5;28;01mas\u001b[39;00m err:\n",
      "File \u001b[1;32mindex.pyx:167\u001b[0m, in \u001b[0;36mpandas._libs.index.IndexEngine.get_loc\u001b[1;34m()\u001b[0m\n",
      "File \u001b[1;32mindex.pyx:196\u001b[0m, in \u001b[0;36mpandas._libs.index.IndexEngine.get_loc\u001b[1;34m()\u001b[0m\n",
      "File \u001b[1;32mpandas\\\\_libs\\\\hashtable_class_helper.pxi:7081\u001b[0m, in \u001b[0;36mpandas._libs.hashtable.PyObjectHashTable.get_item\u001b[1;34m()\u001b[0m\n",
      "File \u001b[1;32mpandas\\\\_libs\\\\hashtable_class_helper.pxi:7089\u001b[0m, in \u001b[0;36mpandas._libs.hashtable.PyObjectHashTable.get_item\u001b[1;34m()\u001b[0m\n",
      "\u001b[1;31mKeyError\u001b[0m: ('dpto', 'año', 'mes')",
      "\nThe above exception was the direct cause of the following exception:\n",
      "\u001b[1;31mKeyError\u001b[0m                                  Traceback (most recent call last)",
      "Cell \u001b[1;32mIn[21], line 2\u001b[0m\n\u001b[0;32m      1\u001b[0m \u001b[38;5;28mprint\u001b[39m(\u001b[38;5;124m\"\u001b[39m\u001b[38;5;124mParte 2 - 4\u001b[39m\u001b[38;5;124m\"\u001b[39m)\n\u001b[1;32m----> 2\u001b[0m \u001b[43mrf2\u001b[49m\u001b[43m[\u001b[49m\u001b[38;5;124;43m\"\u001b[39;49m\u001b[38;5;124;43mdpto\u001b[39;49m\u001b[38;5;124;43m\"\u001b[39;49m\u001b[43m,\u001b[49m\u001b[38;5;124;43m\"\u001b[39;49m\u001b[38;5;124;43maño\u001b[39;49m\u001b[38;5;124;43m\"\u001b[39;49m\u001b[43m,\u001b[49m\u001b[38;5;124;43m\"\u001b[39;49m\u001b[38;5;124;43mmes\u001b[39;49m\u001b[38;5;124;43m\"\u001b[39;49m\u001b[43m]\u001b[49m\u001b[38;5;241m.\u001b[39mvalue_counts()\n\u001b[0;32m      4\u001b[0m \u001b[38;5;66;03m#rf2.value_counts()\u001b[39;00m\n",
      "File \u001b[1;32me:\\Personal\\django\\CPE\\CPEDS\\envWindows\\Lib\\site-packages\\pandas\\core\\frame.py:4102\u001b[0m, in \u001b[0;36mDataFrame.__getitem__\u001b[1;34m(self, key)\u001b[0m\n\u001b[0;32m   4100\u001b[0m \u001b[38;5;28;01mif\u001b[39;00m \u001b[38;5;28mself\u001b[39m\u001b[38;5;241m.\u001b[39mcolumns\u001b[38;5;241m.\u001b[39mnlevels \u001b[38;5;241m>\u001b[39m \u001b[38;5;241m1\u001b[39m:\n\u001b[0;32m   4101\u001b[0m     \u001b[38;5;28;01mreturn\u001b[39;00m \u001b[38;5;28mself\u001b[39m\u001b[38;5;241m.\u001b[39m_getitem_multilevel(key)\n\u001b[1;32m-> 4102\u001b[0m indexer \u001b[38;5;241m=\u001b[39m \u001b[38;5;28;43mself\u001b[39;49m\u001b[38;5;241;43m.\u001b[39;49m\u001b[43mcolumns\u001b[49m\u001b[38;5;241;43m.\u001b[39;49m\u001b[43mget_loc\u001b[49m\u001b[43m(\u001b[49m\u001b[43mkey\u001b[49m\u001b[43m)\u001b[49m\n\u001b[0;32m   4103\u001b[0m \u001b[38;5;28;01mif\u001b[39;00m is_integer(indexer):\n\u001b[0;32m   4104\u001b[0m     indexer \u001b[38;5;241m=\u001b[39m [indexer]\n",
      "File \u001b[1;32me:\\Personal\\django\\CPE\\CPEDS\\envWindows\\Lib\\site-packages\\pandas\\core\\indexes\\base.py:3812\u001b[0m, in \u001b[0;36mIndex.get_loc\u001b[1;34m(self, key)\u001b[0m\n\u001b[0;32m   3807\u001b[0m     \u001b[38;5;28;01mif\u001b[39;00m \u001b[38;5;28misinstance\u001b[39m(casted_key, \u001b[38;5;28mslice\u001b[39m) \u001b[38;5;129;01mor\u001b[39;00m (\n\u001b[0;32m   3808\u001b[0m         \u001b[38;5;28misinstance\u001b[39m(casted_key, abc\u001b[38;5;241m.\u001b[39mIterable)\n\u001b[0;32m   3809\u001b[0m         \u001b[38;5;129;01mand\u001b[39;00m \u001b[38;5;28many\u001b[39m(\u001b[38;5;28misinstance\u001b[39m(x, \u001b[38;5;28mslice\u001b[39m) \u001b[38;5;28;01mfor\u001b[39;00m x \u001b[38;5;129;01min\u001b[39;00m casted_key)\n\u001b[0;32m   3810\u001b[0m     ):\n\u001b[0;32m   3811\u001b[0m         \u001b[38;5;28;01mraise\u001b[39;00m InvalidIndexError(key)\n\u001b[1;32m-> 3812\u001b[0m     \u001b[38;5;28;01mraise\u001b[39;00m \u001b[38;5;167;01mKeyError\u001b[39;00m(key) \u001b[38;5;28;01mfrom\u001b[39;00m \u001b[38;5;21;01merr\u001b[39;00m\n\u001b[0;32m   3813\u001b[0m \u001b[38;5;28;01mexcept\u001b[39;00m \u001b[38;5;167;01mTypeError\u001b[39;00m:\n\u001b[0;32m   3814\u001b[0m     \u001b[38;5;66;03m# If we have a listlike key, _check_indexing_error will raise\u001b[39;00m\n\u001b[0;32m   3815\u001b[0m     \u001b[38;5;66;03m#  InvalidIndexError. Otherwise we fall through and re-raise\u001b[39;00m\n\u001b[0;32m   3816\u001b[0m     \u001b[38;5;66;03m#  the TypeError.\u001b[39;00m\n\u001b[0;32m   3817\u001b[0m     \u001b[38;5;28mself\u001b[39m\u001b[38;5;241m.\u001b[39m_check_indexing_error(key)\n",
      "\u001b[1;31mKeyError\u001b[0m: ('dpto', 'año', 'mes')"
     ]
    }
   ],
   "source": [
    "print(\"Parte 2 - 4\")\n",
    "rf2[\"dpto\",\"año\",\"mes\"].value_counts()\n",
    "\n",
    "#rf2.value_counts()"
   ]
  }
 ],
 "metadata": {
  "kernelspec": {
   "display_name": "env",
   "language": "python",
   "name": "python3"
  },
  "language_info": {
   "codemirror_mode": {
    "name": "ipython",
    "version": 3
   },
   "file_extension": ".py",
   "mimetype": "text/x-python",
   "name": "python",
   "nbconvert_exporter": "python",
   "pygments_lexer": "ipython3",
   "version": "3.12.3"
  }
 },
 "nbformat": 4,
 "nbformat_minor": 2
}
