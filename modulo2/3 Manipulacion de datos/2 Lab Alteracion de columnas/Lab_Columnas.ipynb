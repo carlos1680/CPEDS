{
  "cells": [
    {
      "cell_type": "markdown",
      "metadata": {
        "id": "m-SRalWBSNOD"
      },
      "source": [
        "# Laboratorio: tratamiento de columnas"
      ]
    },
    {
      "cell_type": "code",
      "execution_count": 1,
      "metadata": {
        "id": "XwL9VTJ7PlhY"
      },
      "outputs": [],
      "source": [
        "import pandas as pd\n",
        "import numpy as np\n",
        "import datetime as dt"
      ]
    },
    {
      "cell_type": "code",
      "execution_count": 20,
      "metadata": {
        "colab": {
          "base_uri": "https://localhost:8080/",
          "height": 198
        },
        "id": "7UjKWsyVSRCV",
        "outputId": "24fc6982-2237-46b5-c995-d5cd5ce89e9b"
      },
      "outputs": [
        {
          "data": {
            "text/html": [
              "<div>\n",
              "<style scoped>\n",
              "    .dataframe tbody tr th:only-of-type {\n",
              "        vertical-align: middle;\n",
              "    }\n",
              "\n",
              "    .dataframe tbody tr th {\n",
              "        vertical-align: top;\n",
              "    }\n",
              "\n",
              "    .dataframe thead th {\n",
              "        text-align: right;\n",
              "    }\n",
              "</style>\n",
              "<table border=\"1\" class=\"dataframe\">\n",
              "  <thead>\n",
              "    <tr style=\"text-align: right;\">\n",
              "      <th></th>\n",
              "      <th>Film</th>\n",
              "      <th>Year</th>\n",
              "      <th>Actor</th>\n",
              "      <th>Director</th>\n",
              "      <th>Box Office</th>\n",
              "      <th>Budget</th>\n",
              "      <th>Bond Actor Salary</th>\n",
              "    </tr>\n",
              "  </thead>\n",
              "  <tbody>\n",
              "    <tr>\n",
              "      <th>0</th>\n",
              "      <td>Dr. No</td>\n",
              "      <td>1962</td>\n",
              "      <td>Sean Connery</td>\n",
              "      <td>Terence Young</td>\n",
              "      <td>448.8</td>\n",
              "      <td>7.0</td>\n",
              "      <td>0.6</td>\n",
              "    </tr>\n",
              "    <tr>\n",
              "      <th>1</th>\n",
              "      <td>From Russia with Love</td>\n",
              "      <td>1963</td>\n",
              "      <td>Sean Connery</td>\n",
              "      <td>Terence Young</td>\n",
              "      <td>543.8</td>\n",
              "      <td>12.6</td>\n",
              "      <td>1.6</td>\n",
              "    </tr>\n",
              "    <tr>\n",
              "      <th>2</th>\n",
              "      <td>Goldfinger</td>\n",
              "      <td>1964</td>\n",
              "      <td>Sean Connery</td>\n",
              "      <td>Guy Hamilton</td>\n",
              "      <td>820.4</td>\n",
              "      <td>18.6</td>\n",
              "      <td>3.2</td>\n",
              "    </tr>\n",
              "    <tr>\n",
              "      <th>3</th>\n",
              "      <td>Thunderball</td>\n",
              "      <td>1965</td>\n",
              "      <td>Sean Connery</td>\n",
              "      <td>Terence Young</td>\n",
              "      <td>848.1</td>\n",
              "      <td>41.9</td>\n",
              "      <td>4.7</td>\n",
              "    </tr>\n",
              "    <tr>\n",
              "      <th>4</th>\n",
              "      <td>Casino Royale</td>\n",
              "      <td>1967</td>\n",
              "      <td>David Niven</td>\n",
              "      <td>Ken Hughes</td>\n",
              "      <td>315.0</td>\n",
              "      <td>85.0</td>\n",
              "      <td>NaN</td>\n",
              "    </tr>\n",
              "  </tbody>\n",
              "</table>\n",
              "</div>"
            ],
            "text/plain": [
              "                    Film  Year         Actor       Director  Box Office  \\\n",
              "0                 Dr. No  1962  Sean Connery  Terence Young       448.8   \n",
              "1  From Russia with Love  1963  Sean Connery  Terence Young       543.8   \n",
              "2             Goldfinger  1964  Sean Connery   Guy Hamilton       820.4   \n",
              "3            Thunderball  1965  Sean Connery  Terence Young       848.1   \n",
              "4          Casino Royale  1967   David Niven     Ken Hughes       315.0   \n",
              "\n",
              "   Budget  Bond Actor Salary  \n",
              "0     7.0                0.6  \n",
              "1    12.6                1.6  \n",
              "2    18.6                3.2  \n",
              "3    41.9                4.7  \n",
              "4    85.0                NaN  "
            ]
          },
          "execution_count": 20,
          "metadata": {},
          "output_type": "execute_result"
        }
      ],
      "source": [
        "bond = pd.read_csv(\"jamesbond.csv\")\n",
        "bond.head()"
      ]
    },
    {
      "cell_type": "markdown",
      "metadata": {
        "id": "FzivLTgbXGjF"
      },
      "source": [
        "## Cambio de nombres en las columnas"
      ]
    },
    {
      "cell_type": "code",
      "execution_count": 21,
      "metadata": {
        "colab": {
          "base_uri": "https://localhost:8080/",
          "height": 198
        },
        "id": "NEnYdhL3SV_K",
        "outputId": "44bfdc27-e9ec-4b3b-9145-b1452f277948"
      },
      "outputs": [
        {
          "data": {
            "text/html": [
              "<div>\n",
              "<style scoped>\n",
              "    .dataframe tbody tr th:only-of-type {\n",
              "        vertical-align: middle;\n",
              "    }\n",
              "\n",
              "    .dataframe tbody tr th {\n",
              "        vertical-align: top;\n",
              "    }\n",
              "\n",
              "    .dataframe thead th {\n",
              "        text-align: right;\n",
              "    }\n",
              "</style>\n",
              "<table border=\"1\" class=\"dataframe\">\n",
              "  <thead>\n",
              "    <tr style=\"text-align: right;\">\n",
              "      <th></th>\n",
              "      <th>Movie</th>\n",
              "      <th>Year of release</th>\n",
              "      <th>Actor</th>\n",
              "      <th>Director</th>\n",
              "      <th>Box Office</th>\n",
              "      <th>Budget</th>\n",
              "      <th>Bond Actor Salary</th>\n",
              "    </tr>\n",
              "  </thead>\n",
              "  <tbody>\n",
              "    <tr>\n",
              "      <th>0</th>\n",
              "      <td>Dr. No</td>\n",
              "      <td>1962</td>\n",
              "      <td>Sean Connery</td>\n",
              "      <td>Terence Young</td>\n",
              "      <td>448.8</td>\n",
              "      <td>7.0</td>\n",
              "      <td>0.6</td>\n",
              "    </tr>\n",
              "    <tr>\n",
              "      <th>1</th>\n",
              "      <td>From Russia with Love</td>\n",
              "      <td>1963</td>\n",
              "      <td>Sean Connery</td>\n",
              "      <td>Terence Young</td>\n",
              "      <td>543.8</td>\n",
              "      <td>12.6</td>\n",
              "      <td>1.6</td>\n",
              "    </tr>\n",
              "    <tr>\n",
              "      <th>2</th>\n",
              "      <td>Goldfinger</td>\n",
              "      <td>1964</td>\n",
              "      <td>Sean Connery</td>\n",
              "      <td>Guy Hamilton</td>\n",
              "      <td>820.4</td>\n",
              "      <td>18.6</td>\n",
              "      <td>3.2</td>\n",
              "    </tr>\n",
              "    <tr>\n",
              "      <th>3</th>\n",
              "      <td>Thunderball</td>\n",
              "      <td>1965</td>\n",
              "      <td>Sean Connery</td>\n",
              "      <td>Terence Young</td>\n",
              "      <td>848.1</td>\n",
              "      <td>41.9</td>\n",
              "      <td>4.7</td>\n",
              "    </tr>\n",
              "    <tr>\n",
              "      <th>4</th>\n",
              "      <td>Casino Royale</td>\n",
              "      <td>1967</td>\n",
              "      <td>David Niven</td>\n",
              "      <td>Ken Hughes</td>\n",
              "      <td>315.0</td>\n",
              "      <td>85.0</td>\n",
              "      <td>NaN</td>\n",
              "    </tr>\n",
              "  </tbody>\n",
              "</table>\n",
              "</div>"
            ],
            "text/plain": [
              "                   Movie  Year of release         Actor       Director  \\\n",
              "0                 Dr. No             1962  Sean Connery  Terence Young   \n",
              "1  From Russia with Love             1963  Sean Connery  Terence Young   \n",
              "2             Goldfinger             1964  Sean Connery   Guy Hamilton   \n",
              "3            Thunderball             1965  Sean Connery  Terence Young   \n",
              "4          Casino Royale             1967   David Niven     Ken Hughes   \n",
              "\n",
              "   Box Office  Budget  Bond Actor Salary  \n",
              "0       448.8     7.0                0.6  \n",
              "1       543.8    12.6                1.6  \n",
              "2       820.4    18.6                3.2  \n",
              "3       848.1    41.9                4.7  \n",
              "4       315.0    85.0                NaN  "
            ]
          },
          "execution_count": 21,
          "metadata": {},
          "output_type": "execute_result"
        }
      ],
      "source": [
        "bond.columns = [\"Movie\", \"Year of release\", \"Actor\", \"Director\", \"Box Office\", \"Budget\", \"Bond Actor Salary\"]\n",
        "bond.head()"
      ]
    },
    {
      "cell_type": "code",
      "execution_count": 4,
      "metadata": {
        "colab": {
          "base_uri": "https://localhost:8080/",
          "height": 198
        },
        "id": "PV6l778HS5hw",
        "outputId": "afae31fe-aa51-4364-b87f-a124d1a56c05"
      },
      "outputs": [
        {
          "data": {
            "text/html": [
              "<div>\n",
              "<style scoped>\n",
              "    .dataframe tbody tr th:only-of-type {\n",
              "        vertical-align: middle;\n",
              "    }\n",
              "\n",
              "    .dataframe tbody tr th {\n",
              "        vertical-align: top;\n",
              "    }\n",
              "\n",
              "    .dataframe thead th {\n",
              "        text-align: right;\n",
              "    }\n",
              "</style>\n",
              "<table border=\"1\" class=\"dataframe\">\n",
              "  <thead>\n",
              "    <tr style=\"text-align: right;\">\n",
              "      <th></th>\n",
              "      <th>Movie</th>\n",
              "      <th>Release date</th>\n",
              "      <th>Actor</th>\n",
              "      <th>Director</th>\n",
              "      <th>Revenue</th>\n",
              "      <th>Budget</th>\n",
              "      <th>Bond Actor Salary</th>\n",
              "    </tr>\n",
              "  </thead>\n",
              "  <tbody>\n",
              "    <tr>\n",
              "      <th>0</th>\n",
              "      <td>Dr. No</td>\n",
              "      <td>1962</td>\n",
              "      <td>Sean Connery</td>\n",
              "      <td>Terence Young</td>\n",
              "      <td>448.8</td>\n",
              "      <td>7.0</td>\n",
              "      <td>0.6</td>\n",
              "    </tr>\n",
              "    <tr>\n",
              "      <th>1</th>\n",
              "      <td>From Russia with Love</td>\n",
              "      <td>1963</td>\n",
              "      <td>Sean Connery</td>\n",
              "      <td>Terence Young</td>\n",
              "      <td>543.8</td>\n",
              "      <td>12.6</td>\n",
              "      <td>1.6</td>\n",
              "    </tr>\n",
              "    <tr>\n",
              "      <th>2</th>\n",
              "      <td>Goldfinger</td>\n",
              "      <td>1964</td>\n",
              "      <td>Sean Connery</td>\n",
              "      <td>Guy Hamilton</td>\n",
              "      <td>820.4</td>\n",
              "      <td>18.6</td>\n",
              "      <td>3.2</td>\n",
              "    </tr>\n",
              "    <tr>\n",
              "      <th>3</th>\n",
              "      <td>Thunderball</td>\n",
              "      <td>1965</td>\n",
              "      <td>Sean Connery</td>\n",
              "      <td>Terence Young</td>\n",
              "      <td>848.1</td>\n",
              "      <td>41.9</td>\n",
              "      <td>4.7</td>\n",
              "    </tr>\n",
              "    <tr>\n",
              "      <th>4</th>\n",
              "      <td>Casino Royale</td>\n",
              "      <td>1967</td>\n",
              "      <td>David Niven</td>\n",
              "      <td>Ken Hughes</td>\n",
              "      <td>315.0</td>\n",
              "      <td>85.0</td>\n",
              "      <td>NaN</td>\n",
              "    </tr>\n",
              "  </tbody>\n",
              "</table>\n",
              "</div>"
            ],
            "text/plain": [
              "                   Movie  Release date         Actor       Director  Revenue  \\\n",
              "0                 Dr. No          1962  Sean Connery  Terence Young    448.8   \n",
              "1  From Russia with Love          1963  Sean Connery  Terence Young    543.8   \n",
              "2             Goldfinger          1964  Sean Connery   Guy Hamilton    820.4   \n",
              "3            Thunderball          1965  Sean Connery  Terence Young    848.1   \n",
              "4          Casino Royale          1967   David Niven     Ken Hughes    315.0   \n",
              "\n",
              "   Budget  Bond Actor Salary  \n",
              "0     7.0                0.6  \n",
              "1    12.6                1.6  \n",
              "2    18.6                3.2  \n",
              "3    41.9                4.7  \n",
              "4    85.0                NaN  "
            ]
          },
          "execution_count": 4,
          "metadata": {},
          "output_type": "execute_result"
        }
      ],
      "source": [
        "bond.rename(columns = {\"Year of release\" : \"Release date\", \n",
        "                       \"Box Office\" : \"Revenue\"}, \n",
        "            inplace = True)\n",
        "\n",
        "bond.head()"
      ]
    },
    {
      "cell_type": "markdown",
      "metadata": {
        "id": "9VCdAZZ3XD8N"
      },
      "source": [
        "## Eliminación de columnas"
      ]
    },
    {
      "cell_type": "code",
      "execution_count": 5,
      "metadata": {
        "id": "VJ2EuskQTuXI"
      },
      "outputs": [],
      "source": [
        "bond.drop(labels = [\"Actor\", \"Revenue\", \"Budget\"], axis = \"columns\", inplace = True)"
      ]
    },
    {
      "cell_type": "code",
      "execution_count": 6,
      "metadata": {
        "id": "sVJ7eeiCVWqB"
      },
      "outputs": [],
      "source": [
        "del bond[\"Director\"]"
      ]
    },
    {
      "cell_type": "code",
      "execution_count": 7,
      "metadata": {
        "colab": {
          "base_uri": "https://localhost:8080/",
          "height": 198
        },
        "id": "SVE_xd-bVi1v",
        "outputId": "660d2f5f-6608-4852-94d0-0873bcc48443"
      },
      "outputs": [
        {
          "data": {
            "text/html": [
              "<div>\n",
              "<style scoped>\n",
              "    .dataframe tbody tr th:only-of-type {\n",
              "        vertical-align: middle;\n",
              "    }\n",
              "\n",
              "    .dataframe tbody tr th {\n",
              "        vertical-align: top;\n",
              "    }\n",
              "\n",
              "    .dataframe thead th {\n",
              "        text-align: right;\n",
              "    }\n",
              "</style>\n",
              "<table border=\"1\" class=\"dataframe\">\n",
              "  <thead>\n",
              "    <tr style=\"text-align: right;\">\n",
              "      <th></th>\n",
              "      <th>Movie</th>\n",
              "      <th>Release date</th>\n",
              "      <th>Bond Actor Salary</th>\n",
              "    </tr>\n",
              "  </thead>\n",
              "  <tbody>\n",
              "    <tr>\n",
              "      <th>0</th>\n",
              "      <td>Dr. No</td>\n",
              "      <td>1962</td>\n",
              "      <td>0.6</td>\n",
              "    </tr>\n",
              "    <tr>\n",
              "      <th>1</th>\n",
              "      <td>From Russia with Love</td>\n",
              "      <td>1963</td>\n",
              "      <td>1.6</td>\n",
              "    </tr>\n",
              "    <tr>\n",
              "      <th>2</th>\n",
              "      <td>Goldfinger</td>\n",
              "      <td>1964</td>\n",
              "      <td>3.2</td>\n",
              "    </tr>\n",
              "    <tr>\n",
              "      <th>3</th>\n",
              "      <td>Thunderball</td>\n",
              "      <td>1965</td>\n",
              "      <td>4.7</td>\n",
              "    </tr>\n",
              "    <tr>\n",
              "      <th>4</th>\n",
              "      <td>Casino Royale</td>\n",
              "      <td>1967</td>\n",
              "      <td>NaN</td>\n",
              "    </tr>\n",
              "  </tbody>\n",
              "</table>\n",
              "</div>"
            ],
            "text/plain": [
              "                   Movie  Release date  Bond Actor Salary\n",
              "0                 Dr. No          1962                0.6\n",
              "1  From Russia with Love          1963                1.6\n",
              "2             Goldfinger          1964                3.2\n",
              "3            Thunderball          1965                4.7\n",
              "4          Casino Royale          1967                NaN"
            ]
          },
          "execution_count": 7,
          "metadata": {},
          "output_type": "execute_result"
        }
      ],
      "source": [
        "bond.head()"
      ]
    },
    {
      "cell_type": "markdown",
      "metadata": {
        "id": "uIW4VbWsXBHr"
      },
      "source": [
        "## Insertar valores en un dataset"
      ]
    },
    {
      "cell_type": "code",
      "execution_count": 8,
      "metadata": {
        "colab": {
          "base_uri": "https://localhost:8080/",
          "height": 198
        },
        "id": "_KqOYKypVk8B",
        "outputId": "d4f5d885-489e-45b2-abcb-7b81f75e7de9"
      },
      "outputs": [
        {
          "data": {
            "text/html": [
              "<div>\n",
              "<style scoped>\n",
              "    .dataframe tbody tr th:only-of-type {\n",
              "        vertical-align: middle;\n",
              "    }\n",
              "\n",
              "    .dataframe tbody tr th {\n",
              "        vertical-align: top;\n",
              "    }\n",
              "\n",
              "    .dataframe thead th {\n",
              "        text-align: right;\n",
              "    }\n",
              "</style>\n",
              "<table border=\"1\" class=\"dataframe\">\n",
              "  <thead>\n",
              "    <tr style=\"text-align: right;\">\n",
              "      <th></th>\n",
              "      <th>Movie</th>\n",
              "      <th>Release date</th>\n",
              "      <th>Bond Actor Salary</th>\n",
              "      <th>Actor</th>\n",
              "    </tr>\n",
              "  </thead>\n",
              "  <tbody>\n",
              "    <tr>\n",
              "      <th>0</th>\n",
              "      <td>Dr. No</td>\n",
              "      <td>1962</td>\n",
              "      <td>0.6</td>\n",
              "      <td>NaN</td>\n",
              "    </tr>\n",
              "    <tr>\n",
              "      <th>1</th>\n",
              "      <td>From Russia with Love</td>\n",
              "      <td>1963</td>\n",
              "      <td>1.6</td>\n",
              "      <td>Daniel Blanc</td>\n",
              "    </tr>\n",
              "    <tr>\n",
              "      <th>2</th>\n",
              "      <td>Goldfinger</td>\n",
              "      <td>1964</td>\n",
              "      <td>3.2</td>\n",
              "      <td>NaN</td>\n",
              "    </tr>\n",
              "    <tr>\n",
              "      <th>3</th>\n",
              "      <td>Thunderball</td>\n",
              "      <td>1965</td>\n",
              "      <td>4.7</td>\n",
              "      <td>NaN</td>\n",
              "    </tr>\n",
              "    <tr>\n",
              "      <th>4</th>\n",
              "      <td>Casino Royale</td>\n",
              "      <td>1967</td>\n",
              "      <td>NaN</td>\n",
              "      <td>NaN</td>\n",
              "    </tr>\n",
              "  </tbody>\n",
              "</table>\n",
              "</div>"
            ],
            "text/plain": [
              "                   Movie  Release date  Bond Actor Salary         Actor\n",
              "0                 Dr. No          1962                0.6           NaN\n",
              "1  From Russia with Love          1963                1.6  Daniel Blanc\n",
              "2             Goldfinger          1964                3.2           NaN\n",
              "3            Thunderball          1965                4.7           NaN\n",
              "4          Casino Royale          1967                NaN           NaN"
            ]
          },
          "execution_count": 8,
          "metadata": {},
          "output_type": "execute_result"
        }
      ],
      "source": [
        "bond.loc[1,\"Actor\"] = \"Daniel Blanc\"\n",
        "bond.head()"
      ]
    },
    {
      "cell_type": "markdown",
      "metadata": {
        "id": "QjpoaZ02XJf5"
      },
      "source": [
        "## Obtener subsets"
      ]
    },
    {
      "cell_type": "code",
      "execution_count": 9,
      "metadata": {
        "colab": {
          "base_uri": "https://localhost:8080/",
          "height": 168
        },
        "id": "YjR-rkKgV0yB",
        "outputId": "6f765a70-61c7-40b0-bd91-c351604b4f50"
      },
      "outputs": [
        {
          "data": {
            "text/html": [
              "<div>\n",
              "<style scoped>\n",
              "    .dataframe tbody tr th:only-of-type {\n",
              "        vertical-align: middle;\n",
              "    }\n",
              "\n",
              "    .dataframe tbody tr th {\n",
              "        vertical-align: top;\n",
              "    }\n",
              "\n",
              "    .dataframe thead th {\n",
              "        text-align: right;\n",
              "    }\n",
              "</style>\n",
              "<table border=\"1\" class=\"dataframe\">\n",
              "  <thead>\n",
              "    <tr style=\"text-align: right;\">\n",
              "      <th></th>\n",
              "      <th>Movie</th>\n",
              "      <th>Release date</th>\n",
              "      <th>Bond Actor Salary</th>\n",
              "      <th>Actor</th>\n",
              "    </tr>\n",
              "  </thead>\n",
              "  <tbody>\n",
              "    <tr>\n",
              "      <th>19</th>\n",
              "      <td>Tomorrow Never Dies</td>\n",
              "      <td>1997</td>\n",
              "      <td>10.0</td>\n",
              "      <td>NaN</td>\n",
              "    </tr>\n",
              "    <tr>\n",
              "      <th>9</th>\n",
              "      <td>The Man with the Golden Gun</td>\n",
              "      <td>1974</td>\n",
              "      <td>NaN</td>\n",
              "      <td>NaN</td>\n",
              "    </tr>\n",
              "    <tr>\n",
              "      <th>20</th>\n",
              "      <td>The World Is Not Enough</td>\n",
              "      <td>1999</td>\n",
              "      <td>13.5</td>\n",
              "      <td>NaN</td>\n",
              "    </tr>\n",
              "    <tr>\n",
              "      <th>10</th>\n",
              "      <td>The Spy Who Loved Me</td>\n",
              "      <td>1977</td>\n",
              "      <td>NaN</td>\n",
              "      <td>NaN</td>\n",
              "    </tr>\n",
              "  </tbody>\n",
              "</table>\n",
              "</div>"
            ],
            "text/plain": [
              "                          Movie  Release date  Bond Actor Salary Actor\n",
              "19          Tomorrow Never Dies          1997               10.0   NaN\n",
              "9   The Man with the Golden Gun          1974                NaN   NaN\n",
              "20      The World Is Not Enough          1999               13.5   NaN\n",
              "10         The Spy Who Loved Me          1977                NaN   NaN"
            ]
          },
          "execution_count": 9,
          "metadata": {},
          "output_type": "execute_result"
        }
      ],
      "source": [
        "bond.sample(n = 4, axis = \"rows\")"
      ]
    },
    {
      "cell_type": "code",
      "execution_count": 13,
      "metadata": {
        "colab": {
          "base_uri": "https://localhost:8080/",
          "height": 198
        },
        "id": "MzSjWhY1WaLw",
        "outputId": "8924b0ff-822d-4828-81b7-5ef96dcae5b8"
      },
      "outputs": [
        {
          "data": {
            "text/html": [
              "<div>\n",
              "<style scoped>\n",
              "    .dataframe tbody tr th:only-of-type {\n",
              "        vertical-align: middle;\n",
              "    }\n",
              "\n",
              "    .dataframe tbody tr th {\n",
              "        vertical-align: top;\n",
              "    }\n",
              "\n",
              "    .dataframe thead th {\n",
              "        text-align: right;\n",
              "    }\n",
              "</style>\n",
              "<table border=\"1\" class=\"dataframe\">\n",
              "  <thead>\n",
              "    <tr style=\"text-align: right;\">\n",
              "      <th></th>\n",
              "      <th>Movie</th>\n",
              "      <th>Year of release</th>\n",
              "      <th>Actor</th>\n",
              "      <th>Director</th>\n",
              "      <th>Box Office</th>\n",
              "      <th>Budget</th>\n",
              "      <th>Bond Actor Salary</th>\n",
              "    </tr>\n",
              "  </thead>\n",
              "  <tbody>\n",
              "    <tr>\n",
              "      <th>24</th>\n",
              "      <td>Skyfall</td>\n",
              "      <td>2012</td>\n",
              "      <td>Daniel Craig</td>\n",
              "      <td>Sam Mendes</td>\n",
              "      <td>943.5</td>\n",
              "      <td>170.2</td>\n",
              "      <td>14.5</td>\n",
              "    </tr>\n",
              "    <tr>\n",
              "      <th>3</th>\n",
              "      <td>Thunderball</td>\n",
              "      <td>1965</td>\n",
              "      <td>Sean Connery</td>\n",
              "      <td>Terence Young</td>\n",
              "      <td>848.1</td>\n",
              "      <td>41.9</td>\n",
              "      <td>4.7</td>\n",
              "    </tr>\n",
              "    <tr>\n",
              "      <th>2</th>\n",
              "      <td>Goldfinger</td>\n",
              "      <td>1964</td>\n",
              "      <td>Sean Connery</td>\n",
              "      <td>Guy Hamilton</td>\n",
              "      <td>820.4</td>\n",
              "      <td>18.6</td>\n",
              "      <td>3.2</td>\n",
              "    </tr>\n",
              "    <tr>\n",
              "      <th>25</th>\n",
              "      <td>Spectre</td>\n",
              "      <td>2015</td>\n",
              "      <td>Daniel Craig</td>\n",
              "      <td>Sam Mendes</td>\n",
              "      <td>726.7</td>\n",
              "      <td>206.3</td>\n",
              "      <td>NaN</td>\n",
              "    </tr>\n",
              "    <tr>\n",
              "      <th>22</th>\n",
              "      <td>Casino Royale</td>\n",
              "      <td>2006</td>\n",
              "      <td>Daniel Craig</td>\n",
              "      <td>Martin Campbell</td>\n",
              "      <td>581.5</td>\n",
              "      <td>145.3</td>\n",
              "      <td>3.3</td>\n",
              "    </tr>\n",
              "  </tbody>\n",
              "</table>\n",
              "</div>"
            ],
            "text/plain": [
              "            Movie  Year of release         Actor         Director  Box Office  \\\n",
              "24        Skyfall             2012  Daniel Craig       Sam Mendes       943.5   \n",
              "3     Thunderball             1965  Sean Connery    Terence Young       848.1   \n",
              "2      Goldfinger             1964  Sean Connery     Guy Hamilton       820.4   \n",
              "25        Spectre             2015  Daniel Craig       Sam Mendes       726.7   \n",
              "22  Casino Royale             2006  Daniel Craig  Martin Campbell       581.5   \n",
              "\n",
              "    Budget  Bond Actor Salary  \n",
              "24   170.2               14.5  \n",
              "3     41.9                4.7  \n",
              "2     18.6                3.2  \n",
              "25   206.3                NaN  \n",
              "22   145.3                3.3  "
            ]
          },
          "execution_count": 13,
          "metadata": {},
          "output_type": "execute_result"
        }
      ],
      "source": [
        "bond.nlargest(n = 5, columns = \"Box Office\")"
      ]
    },
    {
      "cell_type": "code",
      "execution_count": 14,
      "metadata": {
        "colab": {
          "base_uri": "https://localhost:8080/",
          "height": 168
        },
        "id": "09USwbZWWt2h",
        "outputId": "807edf3b-257c-4e4a-9254-4d82d26d4ce4"
      },
      "outputs": [
        {
          "data": {
            "text/html": [
              "<div>\n",
              "<style scoped>\n",
              "    .dataframe tbody tr th:only-of-type {\n",
              "        vertical-align: middle;\n",
              "    }\n",
              "\n",
              "    .dataframe tbody tr th {\n",
              "        vertical-align: top;\n",
              "    }\n",
              "\n",
              "    .dataframe thead th {\n",
              "        text-align: right;\n",
              "    }\n",
              "</style>\n",
              "<table border=\"1\" class=\"dataframe\">\n",
              "  <thead>\n",
              "    <tr style=\"text-align: right;\">\n",
              "      <th></th>\n",
              "      <th>Movie</th>\n",
              "      <th>Year of release</th>\n",
              "      <th>Actor</th>\n",
              "      <th>Director</th>\n",
              "      <th>Box Office</th>\n",
              "      <th>Budget</th>\n",
              "      <th>Bond Actor Salary</th>\n",
              "    </tr>\n",
              "  </thead>\n",
              "  <tbody>\n",
              "    <tr>\n",
              "      <th>17</th>\n",
              "      <td>Licence to Kill</td>\n",
              "      <td>1989</td>\n",
              "      <td>Timothy Dalton</td>\n",
              "      <td>John Glen</td>\n",
              "      <td>250.9</td>\n",
              "      <td>56.7</td>\n",
              "      <td>7.9</td>\n",
              "    </tr>\n",
              "    <tr>\n",
              "      <th>15</th>\n",
              "      <td>A View to a Kill</td>\n",
              "      <td>1985</td>\n",
              "      <td>Roger Moore</td>\n",
              "      <td>John Glen</td>\n",
              "      <td>275.2</td>\n",
              "      <td>54.5</td>\n",
              "      <td>9.1</td>\n",
              "    </tr>\n",
              "    <tr>\n",
              "      <th>6</th>\n",
              "      <td>On Her Majesty's Secret Service</td>\n",
              "      <td>1969</td>\n",
              "      <td>George Lazenby</td>\n",
              "      <td>Peter R. Hunt</td>\n",
              "      <td>291.5</td>\n",
              "      <td>37.3</td>\n",
              "      <td>0.6</td>\n",
              "    </tr>\n",
              "    <tr>\n",
              "      <th>16</th>\n",
              "      <td>The Living Daylights</td>\n",
              "      <td>1987</td>\n",
              "      <td>Timothy Dalton</td>\n",
              "      <td>John Glen</td>\n",
              "      <td>313.5</td>\n",
              "      <td>68.8</td>\n",
              "      <td>5.2</td>\n",
              "    </tr>\n",
              "  </tbody>\n",
              "</table>\n",
              "</div>"
            ],
            "text/plain": [
              "                              Movie  Year of release           Actor  \\\n",
              "17                  Licence to Kill             1989  Timothy Dalton   \n",
              "15                 A View to a Kill             1985     Roger Moore   \n",
              "6   On Her Majesty's Secret Service             1969  George Lazenby   \n",
              "16             The Living Daylights             1987  Timothy Dalton   \n",
              "\n",
              "         Director  Box Office  Budget  Bond Actor Salary  \n",
              "17      John Glen       250.9    56.7                7.9  \n",
              "15      John Glen       275.2    54.5                9.1  \n",
              "6   Peter R. Hunt       291.5    37.3                0.6  \n",
              "16      John Glen       313.5    68.8                5.2  "
            ]
          },
          "execution_count": 14,
          "metadata": {},
          "output_type": "execute_result"
        }
      ],
      "source": [
        "bond.nsmallest(n = 4, columns = \"Box Office\")"
      ]
    },
    {
      "cell_type": "markdown",
      "metadata": {
        "id": "sl9WEY4QXMC6"
      },
      "source": [
        "## Apply"
      ]
    },
    {
      "cell_type": "code",
      "execution_count": 15,
      "metadata": {
        "id": "Sf7AMUXmW4mQ"
      },
      "outputs": [],
      "source": [
        "def pasar_a_millones(numero):\n",
        "  return str(numero) + \" millones.\""
      ]
    },
    {
      "cell_type": "code",
      "execution_count": 26,
      "metadata": {
        "colab": {
          "base_uri": "https://localhost:8080/",
          "height": 35
        },
        "id": "nSJIj6fgXr1O",
        "outputId": "c82a83f2-9e44-4c2b-ac86-97980061237a"
      },
      "outputs": [
        {
          "data": {
            "text/plain": [
              "'5 millones.'"
            ]
          },
          "execution_count": 26,
          "metadata": {},
          "output_type": "execute_result"
        }
      ],
      "source": [
        "pasar_a_millones(5)"
      ]
    },
    {
      "cell_type": "code",
      "execution_count": 16,
      "metadata": {
        "id": "et8pUVCoXcHP"
      },
      "outputs": [],
      "source": [
        "columns = [\"Box Office\", \"Budget\", \"Bond Actor Salary\"]\n",
        "for c in columns:\n",
        "  bond[c] = bond[c].apply(pasar_a_millones)"
      ]
    },
    {
      "cell_type": "code",
      "execution_count": 17,
      "metadata": {
        "colab": {
          "base_uri": "https://localhost:8080/",
          "height": 198
        },
        "id": "bstJmtEIX9Sw",
        "outputId": "1a56b982-66bc-4ab8-a549-efda621c7607"
      },
      "outputs": [
        {
          "data": {
            "text/html": [
              "<div>\n",
              "<style scoped>\n",
              "    .dataframe tbody tr th:only-of-type {\n",
              "        vertical-align: middle;\n",
              "    }\n",
              "\n",
              "    .dataframe tbody tr th {\n",
              "        vertical-align: top;\n",
              "    }\n",
              "\n",
              "    .dataframe thead th {\n",
              "        text-align: right;\n",
              "    }\n",
              "</style>\n",
              "<table border=\"1\" class=\"dataframe\">\n",
              "  <thead>\n",
              "    <tr style=\"text-align: right;\">\n",
              "      <th></th>\n",
              "      <th>Movie</th>\n",
              "      <th>Year of release</th>\n",
              "      <th>Actor</th>\n",
              "      <th>Director</th>\n",
              "      <th>Box Office</th>\n",
              "      <th>Budget</th>\n",
              "      <th>Bond Actor Salary</th>\n",
              "    </tr>\n",
              "  </thead>\n",
              "  <tbody>\n",
              "    <tr>\n",
              "      <th>0</th>\n",
              "      <td>Dr. No</td>\n",
              "      <td>1962</td>\n",
              "      <td>Sean Connery</td>\n",
              "      <td>Terence Young</td>\n",
              "      <td>448.8 millones.</td>\n",
              "      <td>7.0 millones.</td>\n",
              "      <td>0.6 millones.</td>\n",
              "    </tr>\n",
              "    <tr>\n",
              "      <th>1</th>\n",
              "      <td>From Russia with Love</td>\n",
              "      <td>1963</td>\n",
              "      <td>Sean Connery</td>\n",
              "      <td>Terence Young</td>\n",
              "      <td>543.8 millones.</td>\n",
              "      <td>12.6 millones.</td>\n",
              "      <td>1.6 millones.</td>\n",
              "    </tr>\n",
              "    <tr>\n",
              "      <th>2</th>\n",
              "      <td>Goldfinger</td>\n",
              "      <td>1964</td>\n",
              "      <td>Sean Connery</td>\n",
              "      <td>Guy Hamilton</td>\n",
              "      <td>820.4 millones.</td>\n",
              "      <td>18.6 millones.</td>\n",
              "      <td>3.2 millones.</td>\n",
              "    </tr>\n",
              "    <tr>\n",
              "      <th>3</th>\n",
              "      <td>Thunderball</td>\n",
              "      <td>1965</td>\n",
              "      <td>Sean Connery</td>\n",
              "      <td>Terence Young</td>\n",
              "      <td>848.1 millones.</td>\n",
              "      <td>41.9 millones.</td>\n",
              "      <td>4.7 millones.</td>\n",
              "    </tr>\n",
              "    <tr>\n",
              "      <th>4</th>\n",
              "      <td>Casino Royale</td>\n",
              "      <td>1967</td>\n",
              "      <td>David Niven</td>\n",
              "      <td>Ken Hughes</td>\n",
              "      <td>315.0 millones.</td>\n",
              "      <td>85.0 millones.</td>\n",
              "      <td>nan millones.</td>\n",
              "    </tr>\n",
              "  </tbody>\n",
              "</table>\n",
              "</div>"
            ],
            "text/plain": [
              "                   Movie  Year of release         Actor       Director  \\\n",
              "0                 Dr. No             1962  Sean Connery  Terence Young   \n",
              "1  From Russia with Love             1963  Sean Connery  Terence Young   \n",
              "2             Goldfinger             1964  Sean Connery   Guy Hamilton   \n",
              "3            Thunderball             1965  Sean Connery  Terence Young   \n",
              "4          Casino Royale             1967   David Niven     Ken Hughes   \n",
              "\n",
              "        Box Office          Budget Bond Actor Salary  \n",
              "0  448.8 millones.   7.0 millones.     0.6 millones.  \n",
              "1  543.8 millones.  12.6 millones.     1.6 millones.  \n",
              "2  820.4 millones.  18.6 millones.     3.2 millones.  \n",
              "3  848.1 millones.  41.9 millones.     4.7 millones.  \n",
              "4  315.0 millones.  85.0 millones.     nan millones.  "
            ]
          },
          "execution_count": 17,
          "metadata": {},
          "output_type": "execute_result"
        }
      ],
      "source": [
        "bond.head()"
      ]
    },
    {
      "cell_type": "code",
      "execution_count": 18,
      "metadata": {
        "colab": {
          "base_uri": "https://localhost:8080/"
        },
        "id": "M0d1BhYMbWw5",
        "outputId": "608ccc37-5abd-4651-cc0e-e421e4c0687c"
      },
      "outputs": [
        {
          "data": {
            "text/plain": [
              "Movie                         Dr. No\n",
              "Year of release                 1962\n",
              "Actor                   Sean Connery\n",
              "Director               Terence Young\n",
              "Box Office           448.8 millones.\n",
              "Budget                 7.0 millones.\n",
              "Bond Actor Salary      0.6 millones.\n",
              "Name: 0, dtype: object"
            ]
          },
          "execution_count": 18,
          "metadata": {},
          "output_type": "execute_result"
        }
      ],
      "source": [
        "bond.iloc[0]"
      ]
    },
    {
      "cell_type": "code",
      "execution_count": 22,
      "metadata": {
        "id": "YwjP4Vh0X-NH"
      },
      "outputs": [
        {
          "data": {
            "text/plain": [
              "0      No idea\n",
              "1      No idea\n",
              "2      No idea\n",
              "3      No idea\n",
              "4      No idea\n",
              "5      No idea\n",
              "6      No idea\n",
              "7      No idea\n",
              "8      No idea\n",
              "9      No idea\n",
              "10          Ok\n",
              "11          Ok\n",
              "12          Ok\n",
              "13     No idea\n",
              "14          Ok\n",
              "15          Ok\n",
              "16     No idea\n",
              "17     No idea\n",
              "18    The best\n",
              "19    The best\n",
              "20    The best\n",
              "21    The best\n",
              "22     No idea\n",
              "23     No idea\n",
              "24     No idea\n",
              "25     No idea\n",
              "dtype: object"
            ]
          },
          "execution_count": 22,
          "metadata": {},
          "output_type": "execute_result"
        }
      ],
      "source": [
        "def buena_pelicula(fila):\n",
        "\n",
        "  #actor = fila[2]\n",
        "  #budget = fila[5]\n",
        "  actor = fila[\"Actor\"]\n",
        "  budget = fila[\"Budget\"]\n",
        "\n",
        "  if actor == \"Pierce Brosnan\":\n",
        "    return \"The best\"\n",
        "  elif actor == \"Roger Moore\" and budget > 40:\n",
        "    return \"Ok\"\n",
        "  else:\n",
        "    return \"No idea\"\n",
        "\n",
        "bond.apply(buena_pelicula, axis = \"columns\")"
      ]
    },
    {
      "cell_type": "code",
      "execution_count": 23,
      "metadata": {
        "id": "ycwYbJjjZG6C"
      },
      "outputs": [],
      "source": [
        "juicios_pelis = bond.apply(buena_pelicula, axis = \"columns\")\n",
        "bond.insert(0, # Lugar en donde inserto la columnas\n",
        "            \"juicio_pelicula\", # Nombre de la columna nueva\n",
        "            juicios_pelis) # Elementos que componen la nueva columna"
      ]
    },
    {
      "cell_type": "code",
      "execution_count": 24,
      "metadata": {
        "colab": {
          "base_uri": "https://localhost:8080/",
          "height": 498
        },
        "id": "J-7j4qpvZrSZ",
        "outputId": "c890c070-b74b-4379-9c81-54cbfb7d9396"
      },
      "outputs": [
        {
          "data": {
            "text/html": [
              "<div>\n",
              "<style scoped>\n",
              "    .dataframe tbody tr th:only-of-type {\n",
              "        vertical-align: middle;\n",
              "    }\n",
              "\n",
              "    .dataframe tbody tr th {\n",
              "        vertical-align: top;\n",
              "    }\n",
              "\n",
              "    .dataframe thead th {\n",
              "        text-align: right;\n",
              "    }\n",
              "</style>\n",
              "<table border=\"1\" class=\"dataframe\">\n",
              "  <thead>\n",
              "    <tr style=\"text-align: right;\">\n",
              "      <th></th>\n",
              "      <th>juicio_pelicula</th>\n",
              "      <th>Movie</th>\n",
              "      <th>Year of release</th>\n",
              "      <th>Actor</th>\n",
              "      <th>Director</th>\n",
              "      <th>Box Office</th>\n",
              "      <th>Budget</th>\n",
              "      <th>Bond Actor Salary</th>\n",
              "    </tr>\n",
              "  </thead>\n",
              "  <tbody>\n",
              "    <tr>\n",
              "      <th>10</th>\n",
              "      <td>Ok</td>\n",
              "      <td>The Spy Who Loved Me</td>\n",
              "      <td>1977</td>\n",
              "      <td>Roger Moore</td>\n",
              "      <td>Lewis Gilbert</td>\n",
              "      <td>533.0</td>\n",
              "      <td>45.1</td>\n",
              "      <td>NaN</td>\n",
              "    </tr>\n",
              "    <tr>\n",
              "      <th>11</th>\n",
              "      <td>Ok</td>\n",
              "      <td>Moonraker</td>\n",
              "      <td>1979</td>\n",
              "      <td>Roger Moore</td>\n",
              "      <td>Lewis Gilbert</td>\n",
              "      <td>535.0</td>\n",
              "      <td>91.5</td>\n",
              "      <td>NaN</td>\n",
              "    </tr>\n",
              "    <tr>\n",
              "      <th>12</th>\n",
              "      <td>Ok</td>\n",
              "      <td>For Your Eyes Only</td>\n",
              "      <td>1981</td>\n",
              "      <td>Roger Moore</td>\n",
              "      <td>John Glen</td>\n",
              "      <td>449.4</td>\n",
              "      <td>60.2</td>\n",
              "      <td>NaN</td>\n",
              "    </tr>\n",
              "    <tr>\n",
              "      <th>14</th>\n",
              "      <td>Ok</td>\n",
              "      <td>Octopussy</td>\n",
              "      <td>1983</td>\n",
              "      <td>Roger Moore</td>\n",
              "      <td>John Glen</td>\n",
              "      <td>373.8</td>\n",
              "      <td>53.9</td>\n",
              "      <td>7.8</td>\n",
              "    </tr>\n",
              "    <tr>\n",
              "      <th>15</th>\n",
              "      <td>Ok</td>\n",
              "      <td>A View to a Kill</td>\n",
              "      <td>1985</td>\n",
              "      <td>Roger Moore</td>\n",
              "      <td>John Glen</td>\n",
              "      <td>275.2</td>\n",
              "      <td>54.5</td>\n",
              "      <td>9.1</td>\n",
              "    </tr>\n",
              "  </tbody>\n",
              "</table>\n",
              "</div>"
            ],
            "text/plain": [
              "   juicio_pelicula                 Movie  Year of release        Actor  \\\n",
              "10              Ok  The Spy Who Loved Me             1977  Roger Moore   \n",
              "11              Ok             Moonraker             1979  Roger Moore   \n",
              "12              Ok    For Your Eyes Only             1981  Roger Moore   \n",
              "14              Ok             Octopussy             1983  Roger Moore   \n",
              "15              Ok      A View to a Kill             1985  Roger Moore   \n",
              "\n",
              "         Director  Box Office  Budget  Bond Actor Salary  \n",
              "10  Lewis Gilbert       533.0    45.1                NaN  \n",
              "11  Lewis Gilbert       535.0    91.5                NaN  \n",
              "12      John Glen       449.4    60.2                NaN  \n",
              "14      John Glen       373.8    53.9                7.8  \n",
              "15      John Glen       275.2    54.5                9.1  "
            ]
          },
          "execution_count": 24,
          "metadata": {},
          "output_type": "execute_result"
        }
      ],
      "source": [
        "bond.query(\"juicio_pelicula =='Ok'\").head(15)"
      ]
    },
    {
      "cell_type": "code",
      "execution_count": 25,
      "metadata": {
        "colab": {
          "base_uri": "https://localhost:8080/",
          "height": 198
        },
        "id": "1468E14qZsBn",
        "outputId": "388c6576-a5ad-41f1-dc18-709bf978a03f"
      },
      "outputs": [
        {
          "data": {
            "text/html": [
              "<div>\n",
              "<style scoped>\n",
              "    .dataframe tbody tr th:only-of-type {\n",
              "        vertical-align: middle;\n",
              "    }\n",
              "\n",
              "    .dataframe tbody tr th {\n",
              "        vertical-align: top;\n",
              "    }\n",
              "\n",
              "    .dataframe thead th {\n",
              "        text-align: right;\n",
              "    }\n",
              "</style>\n",
              "<table border=\"1\" class=\"dataframe\">\n",
              "  <thead>\n",
              "    <tr style=\"text-align: right;\">\n",
              "      <th></th>\n",
              "      <th>juicio_pelicula</th>\n",
              "      <th>Movie</th>\n",
              "      <th>Year of release</th>\n",
              "      <th>Actor</th>\n",
              "      <th>Director</th>\n",
              "      <th>Box Office</th>\n",
              "      <th>Budget</th>\n",
              "      <th>Bond Actor Salary</th>\n",
              "      <th>Budget en dólares</th>\n",
              "    </tr>\n",
              "  </thead>\n",
              "  <tbody>\n",
              "    <tr>\n",
              "      <th>0</th>\n",
              "      <td>No idea</td>\n",
              "      <td>Dr. No</td>\n",
              "      <td>1962</td>\n",
              "      <td>Sean Connery</td>\n",
              "      <td>Terence Young</td>\n",
              "      <td>448.8</td>\n",
              "      <td>7.0</td>\n",
              "      <td>0.6</td>\n",
              "      <td>322.0</td>\n",
              "    </tr>\n",
              "    <tr>\n",
              "      <th>1</th>\n",
              "      <td>No idea</td>\n",
              "      <td>From Russia with Love</td>\n",
              "      <td>1963</td>\n",
              "      <td>Sean Connery</td>\n",
              "      <td>Terence Young</td>\n",
              "      <td>543.8</td>\n",
              "      <td>12.6</td>\n",
              "      <td>1.6</td>\n",
              "      <td>579.6</td>\n",
              "    </tr>\n",
              "    <tr>\n",
              "      <th>2</th>\n",
              "      <td>No idea</td>\n",
              "      <td>Goldfinger</td>\n",
              "      <td>1964</td>\n",
              "      <td>Sean Connery</td>\n",
              "      <td>Guy Hamilton</td>\n",
              "      <td>820.4</td>\n",
              "      <td>18.6</td>\n",
              "      <td>3.2</td>\n",
              "      <td>855.6</td>\n",
              "    </tr>\n",
              "    <tr>\n",
              "      <th>3</th>\n",
              "      <td>No idea</td>\n",
              "      <td>Thunderball</td>\n",
              "      <td>1965</td>\n",
              "      <td>Sean Connery</td>\n",
              "      <td>Terence Young</td>\n",
              "      <td>848.1</td>\n",
              "      <td>41.9</td>\n",
              "      <td>4.7</td>\n",
              "      <td>1927.4</td>\n",
              "    </tr>\n",
              "    <tr>\n",
              "      <th>4</th>\n",
              "      <td>No idea</td>\n",
              "      <td>Casino Royale</td>\n",
              "      <td>1967</td>\n",
              "      <td>David Niven</td>\n",
              "      <td>Ken Hughes</td>\n",
              "      <td>315.0</td>\n",
              "      <td>85.0</td>\n",
              "      <td>NaN</td>\n",
              "      <td>3910.0</td>\n",
              "    </tr>\n",
              "  </tbody>\n",
              "</table>\n",
              "</div>"
            ],
            "text/plain": [
              "  juicio_pelicula                  Movie  Year of release         Actor  \\\n",
              "0         No idea                 Dr. No             1962  Sean Connery   \n",
              "1         No idea  From Russia with Love             1963  Sean Connery   \n",
              "2         No idea             Goldfinger             1964  Sean Connery   \n",
              "3         No idea            Thunderball             1965  Sean Connery   \n",
              "4         No idea          Casino Royale             1967   David Niven   \n",
              "\n",
              "        Director  Box Office  Budget  Bond Actor Salary  Budget en dólares  \n",
              "0  Terence Young       448.8     7.0                0.6              322.0  \n",
              "1  Terence Young       543.8    12.6                1.6              579.6  \n",
              "2   Guy Hamilton       820.4    18.6                3.2              855.6  \n",
              "3  Terence Young       848.1    41.9                4.7             1927.4  \n",
              "4     Ken Hughes       315.0    85.0                NaN             3910.0  "
            ]
          },
          "execution_count": 25,
          "metadata": {},
          "output_type": "execute_result"
        }
      ],
      "source": [
        "bond[\"Budget en dólares\"] = bond[\"Budget\"] * 46\n",
        "bond.head()"
      ]
    },
    {
      "cell_type": "code",
      "execution_count": null,
      "metadata": {
        "id": "JWS2uZOqaoJn"
      },
      "outputs": [],
      "source": []
    }
  ],
  "metadata": {
    "colab": {
      "name": "Lab_Columnas",
      "provenance": []
    },
    "kernelspec": {
      "display_name": "Python 3",
      "name": "python3"
    },
    "language_info": {
      "codemirror_mode": {
        "name": "ipython",
        "version": 3
      },
      "file_extension": ".py",
      "mimetype": "text/x-python",
      "name": "python",
      "nbconvert_exporter": "python",
      "pygments_lexer": "ipython3",
      "version": "3.12.3"
    }
  },
  "nbformat": 4,
  "nbformat_minor": 0
}
