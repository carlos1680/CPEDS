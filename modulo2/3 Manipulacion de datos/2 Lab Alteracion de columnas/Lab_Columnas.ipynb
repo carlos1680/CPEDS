{
  "nbformat": 4,
  "nbformat_minor": 0,
  "metadata": {
    "colab": {
      "name": "Lab_Columnas",
      "provenance": []
    },
    "kernelspec": {
      "name": "python3",
      "display_name": "Python 3"
    },
    "language_info": {
      "name": "python"
    }
  },
  "cells": [
    {
      "cell_type": "markdown",
      "metadata": {
        "id": "m-SRalWBSNOD"
      },
      "source": [
        "# Laboratorio: tratamiento de columnas"
      ]
    },
    {
      "cell_type": "code",
      "metadata": {
        "id": "XwL9VTJ7PlhY"
      },
      "source": [
        "import pandas as pd\n",
        "import numpy as np\n",
        "import datetime as dt"
      ],
      "execution_count": 4,
      "outputs": []
    },
    {
      "cell_type": "code",
      "metadata": {
        "colab": {
          "base_uri": "https://localhost:8080/",
          "height": 198
        },
        "id": "7UjKWsyVSRCV",
        "outputId": "24fc6982-2237-46b5-c995-d5cd5ce89e9b"
      },
      "source": [
        "bond = pd.read_csv(\"jamesbond.csv\")\n",
        "bond.head()"
      ],
      "execution_count": 33,
      "outputs": [
        {
          "output_type": "execute_result",
          "data": {
            "text/html": [
              "<div>\n",
              "<style scoped>\n",
              "    .dataframe tbody tr th:only-of-type {\n",
              "        vertical-align: middle;\n",
              "    }\n",
              "\n",
              "    .dataframe tbody tr th {\n",
              "        vertical-align: top;\n",
              "    }\n",
              "\n",
              "    .dataframe thead th {\n",
              "        text-align: right;\n",
              "    }\n",
              "</style>\n",
              "<table border=\"1\" class=\"dataframe\">\n",
              "  <thead>\n",
              "    <tr style=\"text-align: right;\">\n",
              "      <th></th>\n",
              "      <th>Film</th>\n",
              "      <th>Year</th>\n",
              "      <th>Actor</th>\n",
              "      <th>Director</th>\n",
              "      <th>Box Office</th>\n",
              "      <th>Budget</th>\n",
              "      <th>Bond Actor Salary</th>\n",
              "    </tr>\n",
              "  </thead>\n",
              "  <tbody>\n",
              "    <tr>\n",
              "      <th>0</th>\n",
              "      <td>Dr. No</td>\n",
              "      <td>1962</td>\n",
              "      <td>Sean Connery</td>\n",
              "      <td>Terence Young</td>\n",
              "      <td>448.8</td>\n",
              "      <td>7.0</td>\n",
              "      <td>0.6</td>\n",
              "    </tr>\n",
              "    <tr>\n",
              "      <th>1</th>\n",
              "      <td>From Russia with Love</td>\n",
              "      <td>1963</td>\n",
              "      <td>Sean Connery</td>\n",
              "      <td>Terence Young</td>\n",
              "      <td>543.8</td>\n",
              "      <td>12.6</td>\n",
              "      <td>1.6</td>\n",
              "    </tr>\n",
              "    <tr>\n",
              "      <th>2</th>\n",
              "      <td>Goldfinger</td>\n",
              "      <td>1964</td>\n",
              "      <td>Sean Connery</td>\n",
              "      <td>Guy Hamilton</td>\n",
              "      <td>820.4</td>\n",
              "      <td>18.6</td>\n",
              "      <td>3.2</td>\n",
              "    </tr>\n",
              "    <tr>\n",
              "      <th>3</th>\n",
              "      <td>Thunderball</td>\n",
              "      <td>1965</td>\n",
              "      <td>Sean Connery</td>\n",
              "      <td>Terence Young</td>\n",
              "      <td>848.1</td>\n",
              "      <td>41.9</td>\n",
              "      <td>4.7</td>\n",
              "    </tr>\n",
              "    <tr>\n",
              "      <th>4</th>\n",
              "      <td>Casino Royale</td>\n",
              "      <td>1967</td>\n",
              "      <td>David Niven</td>\n",
              "      <td>Ken Hughes</td>\n",
              "      <td>315.0</td>\n",
              "      <td>85.0</td>\n",
              "      <td>NaN</td>\n",
              "    </tr>\n",
              "  </tbody>\n",
              "</table>\n",
              "</div>"
            ],
            "text/plain": [
              "                    Film  Year  ... Budget Bond Actor Salary\n",
              "0                 Dr. No  1962  ...    7.0               0.6\n",
              "1  From Russia with Love  1963  ...   12.6               1.6\n",
              "2             Goldfinger  1964  ...   18.6               3.2\n",
              "3            Thunderball  1965  ...   41.9               4.7\n",
              "4          Casino Royale  1967  ...   85.0               NaN\n",
              "\n",
              "[5 rows x 7 columns]"
            ]
          },
          "metadata": {
            "tags": []
          },
          "execution_count": 33
        }
      ]
    },
    {
      "cell_type": "markdown",
      "metadata": {
        "id": "FzivLTgbXGjF"
      },
      "source": [
        "## Cambio de nombres en las columnas"
      ]
    },
    {
      "cell_type": "code",
      "metadata": {
        "colab": {
          "base_uri": "https://localhost:8080/",
          "height": 198
        },
        "id": "NEnYdhL3SV_K",
        "outputId": "44bfdc27-e9ec-4b3b-9145-b1452f277948"
      },
      "source": [
        "bond.columns = [\"Movie\", \"Year of release\", \"Actor\", \"Director\", \"Box Office\", \"Budget\", \"Bond Actor Salary\"]\n",
        "bond.head()"
      ],
      "execution_count": 6,
      "outputs": [
        {
          "output_type": "execute_result",
          "data": {
            "text/html": [
              "<div>\n",
              "<style scoped>\n",
              "    .dataframe tbody tr th:only-of-type {\n",
              "        vertical-align: middle;\n",
              "    }\n",
              "\n",
              "    .dataframe tbody tr th {\n",
              "        vertical-align: top;\n",
              "    }\n",
              "\n",
              "    .dataframe thead th {\n",
              "        text-align: right;\n",
              "    }\n",
              "</style>\n",
              "<table border=\"1\" class=\"dataframe\">\n",
              "  <thead>\n",
              "    <tr style=\"text-align: right;\">\n",
              "      <th></th>\n",
              "      <th>Movie</th>\n",
              "      <th>Year of release</th>\n",
              "      <th>Actor</th>\n",
              "      <th>Director</th>\n",
              "      <th>Box Office</th>\n",
              "      <th>Budget</th>\n",
              "      <th>Bond Actor Salary</th>\n",
              "    </tr>\n",
              "  </thead>\n",
              "  <tbody>\n",
              "    <tr>\n",
              "      <th>0</th>\n",
              "      <td>Dr. No</td>\n",
              "      <td>1962</td>\n",
              "      <td>Sean Connery</td>\n",
              "      <td>Terence Young</td>\n",
              "      <td>448.8</td>\n",
              "      <td>7.0</td>\n",
              "      <td>0.6</td>\n",
              "    </tr>\n",
              "    <tr>\n",
              "      <th>1</th>\n",
              "      <td>From Russia with Love</td>\n",
              "      <td>1963</td>\n",
              "      <td>Sean Connery</td>\n",
              "      <td>Terence Young</td>\n",
              "      <td>543.8</td>\n",
              "      <td>12.6</td>\n",
              "      <td>1.6</td>\n",
              "    </tr>\n",
              "    <tr>\n",
              "      <th>2</th>\n",
              "      <td>Goldfinger</td>\n",
              "      <td>1964</td>\n",
              "      <td>Sean Connery</td>\n",
              "      <td>Guy Hamilton</td>\n",
              "      <td>820.4</td>\n",
              "      <td>18.6</td>\n",
              "      <td>3.2</td>\n",
              "    </tr>\n",
              "    <tr>\n",
              "      <th>3</th>\n",
              "      <td>Thunderball</td>\n",
              "      <td>1965</td>\n",
              "      <td>Sean Connery</td>\n",
              "      <td>Terence Young</td>\n",
              "      <td>848.1</td>\n",
              "      <td>41.9</td>\n",
              "      <td>4.7</td>\n",
              "    </tr>\n",
              "    <tr>\n",
              "      <th>4</th>\n",
              "      <td>Casino Royale</td>\n",
              "      <td>1967</td>\n",
              "      <td>David Niven</td>\n",
              "      <td>Ken Hughes</td>\n",
              "      <td>315.0</td>\n",
              "      <td>85.0</td>\n",
              "      <td>NaN</td>\n",
              "    </tr>\n",
              "  </tbody>\n",
              "</table>\n",
              "</div>"
            ],
            "text/plain": [
              "                   Movie  Year of release  ... Budget Bond Actor Salary\n",
              "0                 Dr. No             1962  ...    7.0               0.6\n",
              "1  From Russia with Love             1963  ...   12.6               1.6\n",
              "2             Goldfinger             1964  ...   18.6               3.2\n",
              "3            Thunderball             1965  ...   41.9               4.7\n",
              "4          Casino Royale             1967  ...   85.0               NaN\n",
              "\n",
              "[5 rows x 7 columns]"
            ]
          },
          "metadata": {
            "tags": []
          },
          "execution_count": 6
        }
      ]
    },
    {
      "cell_type": "code",
      "metadata": {
        "colab": {
          "base_uri": "https://localhost:8080/",
          "height": 198
        },
        "id": "PV6l778HS5hw",
        "outputId": "afae31fe-aa51-4364-b87f-a124d1a56c05"
      },
      "source": [
        "bond.rename(columns = {\"Year of release\" : \"Release date\", \n",
        "                       \"Box Office\" : \"Revenue\"}, \n",
        "            inplace = True)\n",
        "\n",
        "bond.head()"
      ],
      "execution_count": 9,
      "outputs": [
        {
          "output_type": "execute_result",
          "data": {
            "text/html": [
              "<div>\n",
              "<style scoped>\n",
              "    .dataframe tbody tr th:only-of-type {\n",
              "        vertical-align: middle;\n",
              "    }\n",
              "\n",
              "    .dataframe tbody tr th {\n",
              "        vertical-align: top;\n",
              "    }\n",
              "\n",
              "    .dataframe thead th {\n",
              "        text-align: right;\n",
              "    }\n",
              "</style>\n",
              "<table border=\"1\" class=\"dataframe\">\n",
              "  <thead>\n",
              "    <tr style=\"text-align: right;\">\n",
              "      <th></th>\n",
              "      <th>Movie</th>\n",
              "      <th>Release date</th>\n",
              "      <th>Actor</th>\n",
              "      <th>Director</th>\n",
              "      <th>Revenue</th>\n",
              "      <th>Budget</th>\n",
              "      <th>Bond Actor Salary</th>\n",
              "    </tr>\n",
              "  </thead>\n",
              "  <tbody>\n",
              "    <tr>\n",
              "      <th>0</th>\n",
              "      <td>Dr. No</td>\n",
              "      <td>1962</td>\n",
              "      <td>Sean Connery</td>\n",
              "      <td>Terence Young</td>\n",
              "      <td>448.8</td>\n",
              "      <td>7.0</td>\n",
              "      <td>0.6</td>\n",
              "    </tr>\n",
              "    <tr>\n",
              "      <th>1</th>\n",
              "      <td>From Russia with Love</td>\n",
              "      <td>1963</td>\n",
              "      <td>Sean Connery</td>\n",
              "      <td>Terence Young</td>\n",
              "      <td>543.8</td>\n",
              "      <td>12.6</td>\n",
              "      <td>1.6</td>\n",
              "    </tr>\n",
              "    <tr>\n",
              "      <th>2</th>\n",
              "      <td>Goldfinger</td>\n",
              "      <td>1964</td>\n",
              "      <td>Sean Connery</td>\n",
              "      <td>Guy Hamilton</td>\n",
              "      <td>820.4</td>\n",
              "      <td>18.6</td>\n",
              "      <td>3.2</td>\n",
              "    </tr>\n",
              "    <tr>\n",
              "      <th>3</th>\n",
              "      <td>Thunderball</td>\n",
              "      <td>1965</td>\n",
              "      <td>Sean Connery</td>\n",
              "      <td>Terence Young</td>\n",
              "      <td>848.1</td>\n",
              "      <td>41.9</td>\n",
              "      <td>4.7</td>\n",
              "    </tr>\n",
              "    <tr>\n",
              "      <th>4</th>\n",
              "      <td>Casino Royale</td>\n",
              "      <td>1967</td>\n",
              "      <td>David Niven</td>\n",
              "      <td>Ken Hughes</td>\n",
              "      <td>315.0</td>\n",
              "      <td>85.0</td>\n",
              "      <td>NaN</td>\n",
              "    </tr>\n",
              "  </tbody>\n",
              "</table>\n",
              "</div>"
            ],
            "text/plain": [
              "                   Movie  Release date  ... Budget Bond Actor Salary\n",
              "0                 Dr. No          1962  ...    7.0               0.6\n",
              "1  From Russia with Love          1963  ...   12.6               1.6\n",
              "2             Goldfinger          1964  ...   18.6               3.2\n",
              "3            Thunderball          1965  ...   41.9               4.7\n",
              "4          Casino Royale          1967  ...   85.0               NaN\n",
              "\n",
              "[5 rows x 7 columns]"
            ]
          },
          "metadata": {
            "tags": []
          },
          "execution_count": 9
        }
      ]
    },
    {
      "cell_type": "markdown",
      "metadata": {
        "id": "9VCdAZZ3XD8N"
      },
      "source": [
        "## Eliminación de columnas"
      ]
    },
    {
      "cell_type": "code",
      "metadata": {
        "id": "VJ2EuskQTuXI"
      },
      "source": [
        "bond.drop(labels = [\"Actor\", \"Revenue\", \"Budget\"], axis = \"columns\", inplace = True)"
      ],
      "execution_count": 22,
      "outputs": []
    },
    {
      "cell_type": "code",
      "metadata": {
        "id": "sVJ7eeiCVWqB"
      },
      "source": [
        "del bond[\"Director\"]"
      ],
      "execution_count": 13,
      "outputs": []
    },
    {
      "cell_type": "code",
      "metadata": {
        "colab": {
          "base_uri": "https://localhost:8080/",
          "height": 198
        },
        "id": "SVE_xd-bVi1v",
        "outputId": "660d2f5f-6608-4852-94d0-0873bcc48443"
      },
      "source": [
        "bond.head()"
      ],
      "execution_count": 23,
      "outputs": [
        {
          "output_type": "execute_result",
          "data": {
            "text/html": [
              "<div>\n",
              "<style scoped>\n",
              "    .dataframe tbody tr th:only-of-type {\n",
              "        vertical-align: middle;\n",
              "    }\n",
              "\n",
              "    .dataframe tbody tr th {\n",
              "        vertical-align: top;\n",
              "    }\n",
              "\n",
              "    .dataframe thead th {\n",
              "        text-align: right;\n",
              "    }\n",
              "</style>\n",
              "<table border=\"1\" class=\"dataframe\">\n",
              "  <thead>\n",
              "    <tr style=\"text-align: right;\">\n",
              "      <th></th>\n",
              "      <th>Movie</th>\n",
              "      <th>Release date</th>\n",
              "      <th>Bond Actor Salary</th>\n",
              "    </tr>\n",
              "  </thead>\n",
              "  <tbody>\n",
              "    <tr>\n",
              "      <th>0</th>\n",
              "      <td>Dr. No</td>\n",
              "      <td>1962</td>\n",
              "      <td>0.6</td>\n",
              "    </tr>\n",
              "    <tr>\n",
              "      <th>1</th>\n",
              "      <td>From Russia with Love</td>\n",
              "      <td>1963</td>\n",
              "      <td>1.6</td>\n",
              "    </tr>\n",
              "    <tr>\n",
              "      <th>2</th>\n",
              "      <td>Goldfinger</td>\n",
              "      <td>1964</td>\n",
              "      <td>3.2</td>\n",
              "    </tr>\n",
              "    <tr>\n",
              "      <th>3</th>\n",
              "      <td>Thunderball</td>\n",
              "      <td>1965</td>\n",
              "      <td>4.7</td>\n",
              "    </tr>\n",
              "    <tr>\n",
              "      <th>4</th>\n",
              "      <td>Casino Royale</td>\n",
              "      <td>1967</td>\n",
              "      <td>NaN</td>\n",
              "    </tr>\n",
              "  </tbody>\n",
              "</table>\n",
              "</div>"
            ],
            "text/plain": [
              "                   Movie  Release date  Bond Actor Salary\n",
              "0                 Dr. No          1962                0.6\n",
              "1  From Russia with Love          1963                1.6\n",
              "2             Goldfinger          1964                3.2\n",
              "3            Thunderball          1965                4.7\n",
              "4          Casino Royale          1967                NaN"
            ]
          },
          "metadata": {
            "tags": []
          },
          "execution_count": 23
        }
      ]
    },
    {
      "cell_type": "markdown",
      "metadata": {
        "id": "uIW4VbWsXBHr"
      },
      "source": [
        "## Insertar valores en un dataset"
      ]
    },
    {
      "cell_type": "code",
      "metadata": {
        "colab": {
          "base_uri": "https://localhost:8080/",
          "height": 198
        },
        "id": "_KqOYKypVk8B",
        "outputId": "d4f5d885-489e-45b2-abcb-7b81f75e7de9"
      },
      "source": [
        "bond.loc[1,\"Actor\"] = \"Daniel Blanc\"\n",
        "bond.head()"
      ],
      "execution_count": 16,
      "outputs": [
        {
          "output_type": "execute_result",
          "data": {
            "text/html": [
              "<div>\n",
              "<style scoped>\n",
              "    .dataframe tbody tr th:only-of-type {\n",
              "        vertical-align: middle;\n",
              "    }\n",
              "\n",
              "    .dataframe tbody tr th {\n",
              "        vertical-align: top;\n",
              "    }\n",
              "\n",
              "    .dataframe thead th {\n",
              "        text-align: right;\n",
              "    }\n",
              "</style>\n",
              "<table border=\"1\" class=\"dataframe\">\n",
              "  <thead>\n",
              "    <tr style=\"text-align: right;\">\n",
              "      <th></th>\n",
              "      <th>Movie</th>\n",
              "      <th>Release date</th>\n",
              "      <th>Actor</th>\n",
              "      <th>Revenue</th>\n",
              "      <th>Budget</th>\n",
              "      <th>Bond Actor Salary</th>\n",
              "    </tr>\n",
              "  </thead>\n",
              "  <tbody>\n",
              "    <tr>\n",
              "      <th>0</th>\n",
              "      <td>Dr. No</td>\n",
              "      <td>1962</td>\n",
              "      <td>Sean Connery</td>\n",
              "      <td>448.8</td>\n",
              "      <td>7.0</td>\n",
              "      <td>0.6</td>\n",
              "    </tr>\n",
              "    <tr>\n",
              "      <th>1</th>\n",
              "      <td>From Russia with Love</td>\n",
              "      <td>1963</td>\n",
              "      <td>Daniel Blanc</td>\n",
              "      <td>543.8</td>\n",
              "      <td>12.6</td>\n",
              "      <td>1.6</td>\n",
              "    </tr>\n",
              "    <tr>\n",
              "      <th>2</th>\n",
              "      <td>Goldfinger</td>\n",
              "      <td>1964</td>\n",
              "      <td>Sean Connery</td>\n",
              "      <td>820.4</td>\n",
              "      <td>18.6</td>\n",
              "      <td>3.2</td>\n",
              "    </tr>\n",
              "    <tr>\n",
              "      <th>3</th>\n",
              "      <td>Thunderball</td>\n",
              "      <td>1965</td>\n",
              "      <td>Sean Connery</td>\n",
              "      <td>848.1</td>\n",
              "      <td>41.9</td>\n",
              "      <td>4.7</td>\n",
              "    </tr>\n",
              "    <tr>\n",
              "      <th>4</th>\n",
              "      <td>Casino Royale</td>\n",
              "      <td>1967</td>\n",
              "      <td>David Niven</td>\n",
              "      <td>315.0</td>\n",
              "      <td>85.0</td>\n",
              "      <td>NaN</td>\n",
              "    </tr>\n",
              "  </tbody>\n",
              "</table>\n",
              "</div>"
            ],
            "text/plain": [
              "                   Movie  Release date  ... Budget  Bond Actor Salary\n",
              "0                 Dr. No          1962  ...    7.0                0.6\n",
              "1  From Russia with Love          1963  ...   12.6                1.6\n",
              "2             Goldfinger          1964  ...   18.6                3.2\n",
              "3            Thunderball          1965  ...   41.9                4.7\n",
              "4          Casino Royale          1967  ...   85.0                NaN\n",
              "\n",
              "[5 rows x 6 columns]"
            ]
          },
          "metadata": {
            "tags": []
          },
          "execution_count": 16
        }
      ]
    },
    {
      "cell_type": "markdown",
      "metadata": {
        "id": "QjpoaZ02XJf5"
      },
      "source": [
        "## Obtener subsets"
      ]
    },
    {
      "cell_type": "code",
      "metadata": {
        "colab": {
          "base_uri": "https://localhost:8080/",
          "height": 168
        },
        "id": "YjR-rkKgV0yB",
        "outputId": "6f765a70-61c7-40b0-bd91-c351604b4f50"
      },
      "source": [
        "bond.sample(n = 4, axis = \"rows\")"
      ],
      "execution_count": 25,
      "outputs": [
        {
          "output_type": "execute_result",
          "data": {
            "text/html": [
              "<div>\n",
              "<style scoped>\n",
              "    .dataframe tbody tr th:only-of-type {\n",
              "        vertical-align: middle;\n",
              "    }\n",
              "\n",
              "    .dataframe tbody tr th {\n",
              "        vertical-align: top;\n",
              "    }\n",
              "\n",
              "    .dataframe thead th {\n",
              "        text-align: right;\n",
              "    }\n",
              "</style>\n",
              "<table border=\"1\" class=\"dataframe\">\n",
              "  <thead>\n",
              "    <tr style=\"text-align: right;\">\n",
              "      <th></th>\n",
              "      <th>Film</th>\n",
              "      <th>Year</th>\n",
              "      <th>Actor</th>\n",
              "      <th>Director</th>\n",
              "      <th>Box Office</th>\n",
              "      <th>Budget</th>\n",
              "      <th>Bond Actor Salary</th>\n",
              "    </tr>\n",
              "  </thead>\n",
              "  <tbody>\n",
              "    <tr>\n",
              "      <th>18</th>\n",
              "      <td>GoldenEye</td>\n",
              "      <td>1995</td>\n",
              "      <td>Pierce Brosnan</td>\n",
              "      <td>Martin Campbell</td>\n",
              "      <td>518.5</td>\n",
              "      <td>76.9</td>\n",
              "      <td>5.1</td>\n",
              "    </tr>\n",
              "    <tr>\n",
              "      <th>11</th>\n",
              "      <td>Moonraker</td>\n",
              "      <td>1979</td>\n",
              "      <td>Roger Moore</td>\n",
              "      <td>Lewis Gilbert</td>\n",
              "      <td>535.0</td>\n",
              "      <td>91.5</td>\n",
              "      <td>NaN</td>\n",
              "    </tr>\n",
              "    <tr>\n",
              "      <th>5</th>\n",
              "      <td>You Only Live Twice</td>\n",
              "      <td>1967</td>\n",
              "      <td>Sean Connery</td>\n",
              "      <td>Lewis Gilbert</td>\n",
              "      <td>514.2</td>\n",
              "      <td>59.9</td>\n",
              "      <td>4.4</td>\n",
              "    </tr>\n",
              "    <tr>\n",
              "      <th>7</th>\n",
              "      <td>Diamonds Are Forever</td>\n",
              "      <td>1971</td>\n",
              "      <td>Sean Connery</td>\n",
              "      <td>Guy Hamilton</td>\n",
              "      <td>442.5</td>\n",
              "      <td>34.7</td>\n",
              "      <td>5.8</td>\n",
              "    </tr>\n",
              "  </tbody>\n",
              "</table>\n",
              "</div>"
            ],
            "text/plain": [
              "                    Film  Year  ... Budget Bond Actor Salary\n",
              "18             GoldenEye  1995  ...   76.9               5.1\n",
              "11             Moonraker  1979  ...   91.5               NaN\n",
              "5    You Only Live Twice  1967  ...   59.9               4.4\n",
              "7   Diamonds Are Forever  1971  ...   34.7               5.8\n",
              "\n",
              "[4 rows x 7 columns]"
            ]
          },
          "metadata": {
            "tags": []
          },
          "execution_count": 25
        }
      ]
    },
    {
      "cell_type": "code",
      "metadata": {
        "colab": {
          "base_uri": "https://localhost:8080/",
          "height": 198
        },
        "id": "MzSjWhY1WaLw",
        "outputId": "8924b0ff-822d-4828-81b7-5ef96dcae5b8"
      },
      "source": [
        "bond.nlargest(n = 5, columns = \"Box Office\")"
      ],
      "execution_count": 26,
      "outputs": [
        {
          "output_type": "execute_result",
          "data": {
            "text/html": [
              "<div>\n",
              "<style scoped>\n",
              "    .dataframe tbody tr th:only-of-type {\n",
              "        vertical-align: middle;\n",
              "    }\n",
              "\n",
              "    .dataframe tbody tr th {\n",
              "        vertical-align: top;\n",
              "    }\n",
              "\n",
              "    .dataframe thead th {\n",
              "        text-align: right;\n",
              "    }\n",
              "</style>\n",
              "<table border=\"1\" class=\"dataframe\">\n",
              "  <thead>\n",
              "    <tr style=\"text-align: right;\">\n",
              "      <th></th>\n",
              "      <th>Film</th>\n",
              "      <th>Year</th>\n",
              "      <th>Actor</th>\n",
              "      <th>Director</th>\n",
              "      <th>Box Office</th>\n",
              "      <th>Budget</th>\n",
              "      <th>Bond Actor Salary</th>\n",
              "    </tr>\n",
              "  </thead>\n",
              "  <tbody>\n",
              "    <tr>\n",
              "      <th>24</th>\n",
              "      <td>Skyfall</td>\n",
              "      <td>2012</td>\n",
              "      <td>Daniel Craig</td>\n",
              "      <td>Sam Mendes</td>\n",
              "      <td>943.5</td>\n",
              "      <td>170.2</td>\n",
              "      <td>14.5</td>\n",
              "    </tr>\n",
              "    <tr>\n",
              "      <th>3</th>\n",
              "      <td>Thunderball</td>\n",
              "      <td>1965</td>\n",
              "      <td>Sean Connery</td>\n",
              "      <td>Terence Young</td>\n",
              "      <td>848.1</td>\n",
              "      <td>41.9</td>\n",
              "      <td>4.7</td>\n",
              "    </tr>\n",
              "    <tr>\n",
              "      <th>2</th>\n",
              "      <td>Goldfinger</td>\n",
              "      <td>1964</td>\n",
              "      <td>Sean Connery</td>\n",
              "      <td>Guy Hamilton</td>\n",
              "      <td>820.4</td>\n",
              "      <td>18.6</td>\n",
              "      <td>3.2</td>\n",
              "    </tr>\n",
              "    <tr>\n",
              "      <th>25</th>\n",
              "      <td>Spectre</td>\n",
              "      <td>2015</td>\n",
              "      <td>Daniel Craig</td>\n",
              "      <td>Sam Mendes</td>\n",
              "      <td>726.7</td>\n",
              "      <td>206.3</td>\n",
              "      <td>NaN</td>\n",
              "    </tr>\n",
              "    <tr>\n",
              "      <th>22</th>\n",
              "      <td>Casino Royale</td>\n",
              "      <td>2006</td>\n",
              "      <td>Daniel Craig</td>\n",
              "      <td>Martin Campbell</td>\n",
              "      <td>581.5</td>\n",
              "      <td>145.3</td>\n",
              "      <td>3.3</td>\n",
              "    </tr>\n",
              "  </tbody>\n",
              "</table>\n",
              "</div>"
            ],
            "text/plain": [
              "             Film  Year         Actor  ... Box Office  Budget  Bond Actor Salary\n",
              "24        Skyfall  2012  Daniel Craig  ...      943.5   170.2               14.5\n",
              "3     Thunderball  1965  Sean Connery  ...      848.1    41.9                4.7\n",
              "2      Goldfinger  1964  Sean Connery  ...      820.4    18.6                3.2\n",
              "25        Spectre  2015  Daniel Craig  ...      726.7   206.3                NaN\n",
              "22  Casino Royale  2006  Daniel Craig  ...      581.5   145.3                3.3\n",
              "\n",
              "[5 rows x 7 columns]"
            ]
          },
          "metadata": {
            "tags": []
          },
          "execution_count": 26
        }
      ]
    },
    {
      "cell_type": "code",
      "metadata": {
        "colab": {
          "base_uri": "https://localhost:8080/",
          "height": 168
        },
        "id": "09USwbZWWt2h",
        "outputId": "807edf3b-257c-4e4a-9254-4d82d26d4ce4"
      },
      "source": [
        "bond.nsmallest(n = 4, columns = \"Box Office\")"
      ],
      "execution_count": 27,
      "outputs": [
        {
          "output_type": "execute_result",
          "data": {
            "text/html": [
              "<div>\n",
              "<style scoped>\n",
              "    .dataframe tbody tr th:only-of-type {\n",
              "        vertical-align: middle;\n",
              "    }\n",
              "\n",
              "    .dataframe tbody tr th {\n",
              "        vertical-align: top;\n",
              "    }\n",
              "\n",
              "    .dataframe thead th {\n",
              "        text-align: right;\n",
              "    }\n",
              "</style>\n",
              "<table border=\"1\" class=\"dataframe\">\n",
              "  <thead>\n",
              "    <tr style=\"text-align: right;\">\n",
              "      <th></th>\n",
              "      <th>Film</th>\n",
              "      <th>Year</th>\n",
              "      <th>Actor</th>\n",
              "      <th>Director</th>\n",
              "      <th>Box Office</th>\n",
              "      <th>Budget</th>\n",
              "      <th>Bond Actor Salary</th>\n",
              "    </tr>\n",
              "  </thead>\n",
              "  <tbody>\n",
              "    <tr>\n",
              "      <th>17</th>\n",
              "      <td>Licence to Kill</td>\n",
              "      <td>1989</td>\n",
              "      <td>Timothy Dalton</td>\n",
              "      <td>John Glen</td>\n",
              "      <td>250.9</td>\n",
              "      <td>56.7</td>\n",
              "      <td>7.9</td>\n",
              "    </tr>\n",
              "    <tr>\n",
              "      <th>15</th>\n",
              "      <td>A View to a Kill</td>\n",
              "      <td>1985</td>\n",
              "      <td>Roger Moore</td>\n",
              "      <td>John Glen</td>\n",
              "      <td>275.2</td>\n",
              "      <td>54.5</td>\n",
              "      <td>9.1</td>\n",
              "    </tr>\n",
              "    <tr>\n",
              "      <th>6</th>\n",
              "      <td>On Her Majesty's Secret Service</td>\n",
              "      <td>1969</td>\n",
              "      <td>George Lazenby</td>\n",
              "      <td>Peter R. Hunt</td>\n",
              "      <td>291.5</td>\n",
              "      <td>37.3</td>\n",
              "      <td>0.6</td>\n",
              "    </tr>\n",
              "    <tr>\n",
              "      <th>16</th>\n",
              "      <td>The Living Daylights</td>\n",
              "      <td>1987</td>\n",
              "      <td>Timothy Dalton</td>\n",
              "      <td>John Glen</td>\n",
              "      <td>313.5</td>\n",
              "      <td>68.8</td>\n",
              "      <td>5.2</td>\n",
              "    </tr>\n",
              "  </tbody>\n",
              "</table>\n",
              "</div>"
            ],
            "text/plain": [
              "                               Film  Year  ... Budget Bond Actor Salary\n",
              "17                  Licence to Kill  1989  ...   56.7               7.9\n",
              "15                 A View to a Kill  1985  ...   54.5               9.1\n",
              "6   On Her Majesty's Secret Service  1969  ...   37.3               0.6\n",
              "16             The Living Daylights  1987  ...   68.8               5.2\n",
              "\n",
              "[4 rows x 7 columns]"
            ]
          },
          "metadata": {
            "tags": []
          },
          "execution_count": 27
        }
      ]
    },
    {
      "cell_type": "markdown",
      "metadata": {
        "id": "sl9WEY4QXMC6"
      },
      "source": [
        "## Apply"
      ]
    },
    {
      "cell_type": "code",
      "metadata": {
        "id": "Sf7AMUXmW4mQ"
      },
      "source": [
        "def pasar_a_millones(numero):\n",
        "  return str(numero) + \" millones.\""
      ],
      "execution_count": 29,
      "outputs": []
    },
    {
      "cell_type": "code",
      "metadata": {
        "colab": {
          "base_uri": "https://localhost:8080/",
          "height": 35
        },
        "id": "nSJIj6fgXr1O",
        "outputId": "c82a83f2-9e44-4c2b-ac86-97980061237a"
      },
      "source": [
        "pasar_a_millones(5)"
      ],
      "execution_count": 30,
      "outputs": [
        {
          "output_type": "execute_result",
          "data": {
            "application/vnd.google.colaboratory.intrinsic+json": {
              "type": "string"
            },
            "text/plain": [
              "'5 millones.'"
            ]
          },
          "metadata": {
            "tags": []
          },
          "execution_count": 30
        }
      ]
    },
    {
      "cell_type": "code",
      "metadata": {
        "id": "et8pUVCoXcHP"
      },
      "source": [
        "columns = [\"Box Office\", \"Budget\", \"Bond Actor Salary\"]\n",
        "for c in columns:\n",
        "  bond[c] = bond[c].apply(pasar_a_millones)"
      ],
      "execution_count": 31,
      "outputs": []
    },
    {
      "cell_type": "code",
      "metadata": {
        "colab": {
          "base_uri": "https://localhost:8080/",
          "height": 198
        },
        "id": "bstJmtEIX9Sw",
        "outputId": "1a56b982-66bc-4ab8-a549-efda621c7607"
      },
      "source": [
        "bond.head()"
      ],
      "execution_count": 32,
      "outputs": [
        {
          "output_type": "execute_result",
          "data": {
            "text/html": [
              "<div>\n",
              "<style scoped>\n",
              "    .dataframe tbody tr th:only-of-type {\n",
              "        vertical-align: middle;\n",
              "    }\n",
              "\n",
              "    .dataframe tbody tr th {\n",
              "        vertical-align: top;\n",
              "    }\n",
              "\n",
              "    .dataframe thead th {\n",
              "        text-align: right;\n",
              "    }\n",
              "</style>\n",
              "<table border=\"1\" class=\"dataframe\">\n",
              "  <thead>\n",
              "    <tr style=\"text-align: right;\">\n",
              "      <th></th>\n",
              "      <th>Film</th>\n",
              "      <th>Year</th>\n",
              "      <th>Actor</th>\n",
              "      <th>Director</th>\n",
              "      <th>Box Office</th>\n",
              "      <th>Budget</th>\n",
              "      <th>Bond Actor Salary</th>\n",
              "    </tr>\n",
              "  </thead>\n",
              "  <tbody>\n",
              "    <tr>\n",
              "      <th>0</th>\n",
              "      <td>Dr. No</td>\n",
              "      <td>1962</td>\n",
              "      <td>Sean Connery</td>\n",
              "      <td>Terence Young</td>\n",
              "      <td>448.8 millones.</td>\n",
              "      <td>7.0 millones.</td>\n",
              "      <td>0.6 millones.</td>\n",
              "    </tr>\n",
              "    <tr>\n",
              "      <th>1</th>\n",
              "      <td>From Russia with Love</td>\n",
              "      <td>1963</td>\n",
              "      <td>Sean Connery</td>\n",
              "      <td>Terence Young</td>\n",
              "      <td>543.8 millones.</td>\n",
              "      <td>12.6 millones.</td>\n",
              "      <td>1.6 millones.</td>\n",
              "    </tr>\n",
              "    <tr>\n",
              "      <th>2</th>\n",
              "      <td>Goldfinger</td>\n",
              "      <td>1964</td>\n",
              "      <td>Sean Connery</td>\n",
              "      <td>Guy Hamilton</td>\n",
              "      <td>820.4 millones.</td>\n",
              "      <td>18.6 millones.</td>\n",
              "      <td>3.2 millones.</td>\n",
              "    </tr>\n",
              "    <tr>\n",
              "      <th>3</th>\n",
              "      <td>Thunderball</td>\n",
              "      <td>1965</td>\n",
              "      <td>Sean Connery</td>\n",
              "      <td>Terence Young</td>\n",
              "      <td>848.1 millones.</td>\n",
              "      <td>41.9 millones.</td>\n",
              "      <td>4.7 millones.</td>\n",
              "    </tr>\n",
              "    <tr>\n",
              "      <th>4</th>\n",
              "      <td>Casino Royale</td>\n",
              "      <td>1967</td>\n",
              "      <td>David Niven</td>\n",
              "      <td>Ken Hughes</td>\n",
              "      <td>315.0 millones.</td>\n",
              "      <td>85.0 millones.</td>\n",
              "      <td>nan millones.</td>\n",
              "    </tr>\n",
              "  </tbody>\n",
              "</table>\n",
              "</div>"
            ],
            "text/plain": [
              "                    Film  Year  ...          Budget Bond Actor Salary\n",
              "0                 Dr. No  1962  ...   7.0 millones.     0.6 millones.\n",
              "1  From Russia with Love  1963  ...  12.6 millones.     1.6 millones.\n",
              "2             Goldfinger  1964  ...  18.6 millones.     3.2 millones.\n",
              "3            Thunderball  1965  ...  41.9 millones.     4.7 millones.\n",
              "4          Casino Royale  1967  ...  85.0 millones.     nan millones.\n",
              "\n",
              "[5 rows x 7 columns]"
            ]
          },
          "metadata": {
            "tags": []
          },
          "execution_count": 32
        }
      ]
    },
    {
      "cell_type": "code",
      "metadata": {
        "colab": {
          "base_uri": "https://localhost:8080/"
        },
        "id": "M0d1BhYMbWw5",
        "outputId": "608ccc37-5abd-4651-cc0e-e421e4c0687c"
      },
      "source": [
        "bond.iloc[0]"
      ],
      "execution_count": 44,
      "outputs": [
        {
          "output_type": "execute_result",
          "data": {
            "text/plain": [
              "juicio_pelicula            No idea\n",
              "Film                        Dr. No\n",
              "Year                          1962\n",
              "Actor                 Sean Connery\n",
              "Director             Terence Young\n",
              "Box Office                   448.8\n",
              "Budget                           7\n",
              "Bond Actor Salary              0.6\n",
              "Budget en dólares              322\n",
              "Name: 0, dtype: object"
            ]
          },
          "metadata": {
            "tags": []
          },
          "execution_count": 44
        }
      ]
    },
    {
      "cell_type": "code",
      "metadata": {
        "id": "YwjP4Vh0X-NH"
      },
      "source": [
        "def buena_pelicula(fila):\n",
        "\n",
        "  actor = fila[2]\n",
        "  budget = fila[5]\n",
        "\n",
        "  if actor == \"Pierce Brosnan\":\n",
        "    return \"The best\"\n",
        "  elif actor == \"Roger Moore\" and budget > 40:\n",
        "    return \"Ok\"\n",
        "  else:\n",
        "    return \"No idea\"\n",
        "\n",
        "bond.apply(buena_pelicula, axis = \"columns\")"
      ],
      "execution_count": null,
      "outputs": []
    },
    {
      "cell_type": "code",
      "metadata": {
        "id": "ycwYbJjjZG6C"
      },
      "source": [
        "juicios_pelis = bond.apply(buena_pelicula, axis = \"columns\")\n",
        "bond.insert(0, # Lugar en donde inserto la columnas\n",
        "            \"juicio_pelicula\", # Nombre de la columna nueva\n",
        "            juicios_pelis) # Elementos que componen la nueva columna"
      ],
      "execution_count": 37,
      "outputs": []
    },
    {
      "cell_type": "code",
      "metadata": {
        "colab": {
          "base_uri": "https://localhost:8080/",
          "height": 498
        },
        "id": "J-7j4qpvZrSZ",
        "outputId": "c890c070-b74b-4379-9c81-54cbfb7d9396"
      },
      "source": [
        "bond.head(15)"
      ],
      "execution_count": 40,
      "outputs": [
        {
          "output_type": "execute_result",
          "data": {
            "text/html": [
              "<div>\n",
              "<style scoped>\n",
              "    .dataframe tbody tr th:only-of-type {\n",
              "        vertical-align: middle;\n",
              "    }\n",
              "\n",
              "    .dataframe tbody tr th {\n",
              "        vertical-align: top;\n",
              "    }\n",
              "\n",
              "    .dataframe thead th {\n",
              "        text-align: right;\n",
              "    }\n",
              "</style>\n",
              "<table border=\"1\" class=\"dataframe\">\n",
              "  <thead>\n",
              "    <tr style=\"text-align: right;\">\n",
              "      <th></th>\n",
              "      <th>juicio_pelicula</th>\n",
              "      <th>Film</th>\n",
              "      <th>Year</th>\n",
              "      <th>Actor</th>\n",
              "      <th>Director</th>\n",
              "      <th>Box Office</th>\n",
              "      <th>Budget</th>\n",
              "      <th>Bond Actor Salary</th>\n",
              "    </tr>\n",
              "  </thead>\n",
              "  <tbody>\n",
              "    <tr>\n",
              "      <th>0</th>\n",
              "      <td>No idea</td>\n",
              "      <td>Dr. No</td>\n",
              "      <td>1962</td>\n",
              "      <td>Sean Connery</td>\n",
              "      <td>Terence Young</td>\n",
              "      <td>448.8</td>\n",
              "      <td>7.0</td>\n",
              "      <td>0.6</td>\n",
              "    </tr>\n",
              "    <tr>\n",
              "      <th>1</th>\n",
              "      <td>No idea</td>\n",
              "      <td>From Russia with Love</td>\n",
              "      <td>1963</td>\n",
              "      <td>Sean Connery</td>\n",
              "      <td>Terence Young</td>\n",
              "      <td>543.8</td>\n",
              "      <td>12.6</td>\n",
              "      <td>1.6</td>\n",
              "    </tr>\n",
              "    <tr>\n",
              "      <th>2</th>\n",
              "      <td>No idea</td>\n",
              "      <td>Goldfinger</td>\n",
              "      <td>1964</td>\n",
              "      <td>Sean Connery</td>\n",
              "      <td>Guy Hamilton</td>\n",
              "      <td>820.4</td>\n",
              "      <td>18.6</td>\n",
              "      <td>3.2</td>\n",
              "    </tr>\n",
              "    <tr>\n",
              "      <th>3</th>\n",
              "      <td>No idea</td>\n",
              "      <td>Thunderball</td>\n",
              "      <td>1965</td>\n",
              "      <td>Sean Connery</td>\n",
              "      <td>Terence Young</td>\n",
              "      <td>848.1</td>\n",
              "      <td>41.9</td>\n",
              "      <td>4.7</td>\n",
              "    </tr>\n",
              "    <tr>\n",
              "      <th>4</th>\n",
              "      <td>No idea</td>\n",
              "      <td>Casino Royale</td>\n",
              "      <td>1967</td>\n",
              "      <td>David Niven</td>\n",
              "      <td>Ken Hughes</td>\n",
              "      <td>315.0</td>\n",
              "      <td>85.0</td>\n",
              "      <td>NaN</td>\n",
              "    </tr>\n",
              "    <tr>\n",
              "      <th>5</th>\n",
              "      <td>No idea</td>\n",
              "      <td>You Only Live Twice</td>\n",
              "      <td>1967</td>\n",
              "      <td>Sean Connery</td>\n",
              "      <td>Lewis Gilbert</td>\n",
              "      <td>514.2</td>\n",
              "      <td>59.9</td>\n",
              "      <td>4.4</td>\n",
              "    </tr>\n",
              "    <tr>\n",
              "      <th>6</th>\n",
              "      <td>No idea</td>\n",
              "      <td>On Her Majesty's Secret Service</td>\n",
              "      <td>1969</td>\n",
              "      <td>George Lazenby</td>\n",
              "      <td>Peter R. Hunt</td>\n",
              "      <td>291.5</td>\n",
              "      <td>37.3</td>\n",
              "      <td>0.6</td>\n",
              "    </tr>\n",
              "    <tr>\n",
              "      <th>7</th>\n",
              "      <td>No idea</td>\n",
              "      <td>Diamonds Are Forever</td>\n",
              "      <td>1971</td>\n",
              "      <td>Sean Connery</td>\n",
              "      <td>Guy Hamilton</td>\n",
              "      <td>442.5</td>\n",
              "      <td>34.7</td>\n",
              "      <td>5.8</td>\n",
              "    </tr>\n",
              "    <tr>\n",
              "      <th>8</th>\n",
              "      <td>No idea</td>\n",
              "      <td>Live and Let Die</td>\n",
              "      <td>1973</td>\n",
              "      <td>Roger Moore</td>\n",
              "      <td>Guy Hamilton</td>\n",
              "      <td>460.3</td>\n",
              "      <td>30.8</td>\n",
              "      <td>NaN</td>\n",
              "    </tr>\n",
              "    <tr>\n",
              "      <th>9</th>\n",
              "      <td>No idea</td>\n",
              "      <td>The Man with the Golden Gun</td>\n",
              "      <td>1974</td>\n",
              "      <td>Roger Moore</td>\n",
              "      <td>Guy Hamilton</td>\n",
              "      <td>334.0</td>\n",
              "      <td>27.7</td>\n",
              "      <td>NaN</td>\n",
              "    </tr>\n",
              "    <tr>\n",
              "      <th>10</th>\n",
              "      <td>Ok</td>\n",
              "      <td>The Spy Who Loved Me</td>\n",
              "      <td>1977</td>\n",
              "      <td>Roger Moore</td>\n",
              "      <td>Lewis Gilbert</td>\n",
              "      <td>533.0</td>\n",
              "      <td>45.1</td>\n",
              "      <td>NaN</td>\n",
              "    </tr>\n",
              "    <tr>\n",
              "      <th>11</th>\n",
              "      <td>Ok</td>\n",
              "      <td>Moonraker</td>\n",
              "      <td>1979</td>\n",
              "      <td>Roger Moore</td>\n",
              "      <td>Lewis Gilbert</td>\n",
              "      <td>535.0</td>\n",
              "      <td>91.5</td>\n",
              "      <td>NaN</td>\n",
              "    </tr>\n",
              "    <tr>\n",
              "      <th>12</th>\n",
              "      <td>Ok</td>\n",
              "      <td>For Your Eyes Only</td>\n",
              "      <td>1981</td>\n",
              "      <td>Roger Moore</td>\n",
              "      <td>John Glen</td>\n",
              "      <td>449.4</td>\n",
              "      <td>60.2</td>\n",
              "      <td>NaN</td>\n",
              "    </tr>\n",
              "    <tr>\n",
              "      <th>13</th>\n",
              "      <td>No idea</td>\n",
              "      <td>Never Say Never Again</td>\n",
              "      <td>1983</td>\n",
              "      <td>Sean Connery</td>\n",
              "      <td>Irvin Kershner</td>\n",
              "      <td>380.0</td>\n",
              "      <td>86.0</td>\n",
              "      <td>NaN</td>\n",
              "    </tr>\n",
              "    <tr>\n",
              "      <th>14</th>\n",
              "      <td>Ok</td>\n",
              "      <td>Octopussy</td>\n",
              "      <td>1983</td>\n",
              "      <td>Roger Moore</td>\n",
              "      <td>John Glen</td>\n",
              "      <td>373.8</td>\n",
              "      <td>53.9</td>\n",
              "      <td>7.8</td>\n",
              "    </tr>\n",
              "  </tbody>\n",
              "</table>\n",
              "</div>"
            ],
            "text/plain": [
              "   juicio_pelicula                             Film  ...  Budget Bond Actor Salary\n",
              "0          No idea                           Dr. No  ...     7.0               0.6\n",
              "1          No idea            From Russia with Love  ...    12.6               1.6\n",
              "2          No idea                       Goldfinger  ...    18.6               3.2\n",
              "3          No idea                      Thunderball  ...    41.9               4.7\n",
              "4          No idea                    Casino Royale  ...    85.0               NaN\n",
              "5          No idea              You Only Live Twice  ...    59.9               4.4\n",
              "6          No idea  On Her Majesty's Secret Service  ...    37.3               0.6\n",
              "7          No idea             Diamonds Are Forever  ...    34.7               5.8\n",
              "8          No idea                 Live and Let Die  ...    30.8               NaN\n",
              "9          No idea      The Man with the Golden Gun  ...    27.7               NaN\n",
              "10              Ok             The Spy Who Loved Me  ...    45.1               NaN\n",
              "11              Ok                        Moonraker  ...    91.5               NaN\n",
              "12              Ok               For Your Eyes Only  ...    60.2               NaN\n",
              "13         No idea            Never Say Never Again  ...    86.0               NaN\n",
              "14              Ok                        Octopussy  ...    53.9               7.8\n",
              "\n",
              "[15 rows x 8 columns]"
            ]
          },
          "metadata": {
            "tags": []
          },
          "execution_count": 40
        }
      ]
    },
    {
      "cell_type": "code",
      "metadata": {
        "colab": {
          "base_uri": "https://localhost:8080/",
          "height": 198
        },
        "id": "1468E14qZsBn",
        "outputId": "388c6576-a5ad-41f1-dc18-709bf978a03f"
      },
      "source": [
        "bond[\"Budget en dólares\"] = bond[\"Budget\"] * 46\n",
        "bond.head()"
      ],
      "execution_count": 42,
      "outputs": [
        {
          "output_type": "execute_result",
          "data": {
            "text/html": [
              "<div>\n",
              "<style scoped>\n",
              "    .dataframe tbody tr th:only-of-type {\n",
              "        vertical-align: middle;\n",
              "    }\n",
              "\n",
              "    .dataframe tbody tr th {\n",
              "        vertical-align: top;\n",
              "    }\n",
              "\n",
              "    .dataframe thead th {\n",
              "        text-align: right;\n",
              "    }\n",
              "</style>\n",
              "<table border=\"1\" class=\"dataframe\">\n",
              "  <thead>\n",
              "    <tr style=\"text-align: right;\">\n",
              "      <th></th>\n",
              "      <th>juicio_pelicula</th>\n",
              "      <th>Film</th>\n",
              "      <th>Year</th>\n",
              "      <th>Actor</th>\n",
              "      <th>Director</th>\n",
              "      <th>Box Office</th>\n",
              "      <th>Budget</th>\n",
              "      <th>Bond Actor Salary</th>\n",
              "      <th>Budget en dólares</th>\n",
              "    </tr>\n",
              "  </thead>\n",
              "  <tbody>\n",
              "    <tr>\n",
              "      <th>0</th>\n",
              "      <td>No idea</td>\n",
              "      <td>Dr. No</td>\n",
              "      <td>1962</td>\n",
              "      <td>Sean Connery</td>\n",
              "      <td>Terence Young</td>\n",
              "      <td>448.8</td>\n",
              "      <td>7.0</td>\n",
              "      <td>0.6</td>\n",
              "      <td>322.0</td>\n",
              "    </tr>\n",
              "    <tr>\n",
              "      <th>1</th>\n",
              "      <td>No idea</td>\n",
              "      <td>From Russia with Love</td>\n",
              "      <td>1963</td>\n",
              "      <td>Sean Connery</td>\n",
              "      <td>Terence Young</td>\n",
              "      <td>543.8</td>\n",
              "      <td>12.6</td>\n",
              "      <td>1.6</td>\n",
              "      <td>579.6</td>\n",
              "    </tr>\n",
              "    <tr>\n",
              "      <th>2</th>\n",
              "      <td>No idea</td>\n",
              "      <td>Goldfinger</td>\n",
              "      <td>1964</td>\n",
              "      <td>Sean Connery</td>\n",
              "      <td>Guy Hamilton</td>\n",
              "      <td>820.4</td>\n",
              "      <td>18.6</td>\n",
              "      <td>3.2</td>\n",
              "      <td>855.6</td>\n",
              "    </tr>\n",
              "    <tr>\n",
              "      <th>3</th>\n",
              "      <td>No idea</td>\n",
              "      <td>Thunderball</td>\n",
              "      <td>1965</td>\n",
              "      <td>Sean Connery</td>\n",
              "      <td>Terence Young</td>\n",
              "      <td>848.1</td>\n",
              "      <td>41.9</td>\n",
              "      <td>4.7</td>\n",
              "      <td>1927.4</td>\n",
              "    </tr>\n",
              "    <tr>\n",
              "      <th>4</th>\n",
              "      <td>No idea</td>\n",
              "      <td>Casino Royale</td>\n",
              "      <td>1967</td>\n",
              "      <td>David Niven</td>\n",
              "      <td>Ken Hughes</td>\n",
              "      <td>315.0</td>\n",
              "      <td>85.0</td>\n",
              "      <td>NaN</td>\n",
              "      <td>3910.0</td>\n",
              "    </tr>\n",
              "  </tbody>\n",
              "</table>\n",
              "</div>"
            ],
            "text/plain": [
              "  juicio_pelicula                   Film  ...  Bond Actor Salary Budget en dólares\n",
              "0         No idea                 Dr. No  ...                0.6             322.0\n",
              "1         No idea  From Russia with Love  ...                1.6             579.6\n",
              "2         No idea             Goldfinger  ...                3.2             855.6\n",
              "3         No idea            Thunderball  ...                4.7            1927.4\n",
              "4         No idea          Casino Royale  ...                NaN            3910.0\n",
              "\n",
              "[5 rows x 9 columns]"
            ]
          },
          "metadata": {
            "tags": []
          },
          "execution_count": 42
        }
      ]
    },
    {
      "cell_type": "code",
      "metadata": {
        "id": "JWS2uZOqaoJn"
      },
      "source": [
        ""
      ],
      "execution_count": null,
      "outputs": []
    }
  ]
}