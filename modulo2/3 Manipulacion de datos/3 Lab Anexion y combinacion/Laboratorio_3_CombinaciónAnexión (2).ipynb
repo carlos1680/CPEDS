{
 "cells": [
  {
   "cell_type": "code",
   "execution_count": null,
   "metadata": {
    "executionInfo": {
     "elapsed": 545,
     "status": "ok",
     "timestamp": 1620066858609,
     "user": {
      "displayName": "Daniel Blanc",
      "photoUrl": "https://lh3.googleusercontent.com/a-/AOh14GjOzaUk5JaDiJFljgw1A79OgwfoRz4PhHeGgGg=s64",
      "userId": "15048843390343866158"
     },
     "user_tz": 180
    },
    "id": "Fw_3r_PWQwuV"
   },
   "outputs": [],
   "source": [
    "import pandas as pd"
   ]
  },
  {
   "cell_type": "code",
   "execution_count": null,
   "metadata": {
    "colab": {
     "base_uri": "https://localhost:8080/",
     "height": 204
    },
    "executionInfo": {
     "elapsed": 1280,
     "status": "ok",
     "timestamp": 1620066860725,
     "user": {
      "displayName": "Daniel Blanc",
      "photoUrl": "https://lh3.googleusercontent.com/a-/AOh14GjOzaUk5JaDiJFljgw1A79OgwfoRz4PhHeGgGg=s64",
      "userId": "15048843390343866158"
     },
     "user_tz": 180
    },
    "id": "9wqjIvnZxymZ",
    "outputId": "60afd4d3-761f-4702-8e91-63b1c152dfcf"
   },
   "outputs": [],
   "source": [
    "semana_1 = pd.read_excel(\"restaurant.xlsx\", sheet_name = 0)\n",
    "semana_1.head()"
   ]
  },
  {
   "cell_type": "code",
   "execution_count": null,
   "metadata": {
    "colab": {
     "base_uri": "https://localhost:8080/",
     "height": 204
    },
    "executionInfo": {
     "elapsed": 558,
     "status": "ok",
     "timestamp": 1620066860979,
     "user": {
      "displayName": "Daniel Blanc",
      "photoUrl": "https://lh3.googleusercontent.com/a-/AOh14GjOzaUk5JaDiJFljgw1A79OgwfoRz4PhHeGgGg=s64",
      "userId": "15048843390343866158"
     },
     "user_tz": 180
    },
    "id": "pzt4BLFKQ54m",
    "outputId": "19fe496d-7cf9-4258-fdb3-d328006cbb7a"
   },
   "outputs": [],
   "source": [
    "semana_2 = pd.read_excel(\"restaurant.xlsx\", sheet_name = 1)\n",
    "semana_2.head()"
   ]
  },
  {
   "cell_type": "code",
   "execution_count": null,
   "metadata": {
    "colab": {
     "base_uri": "https://localhost:8080/",
     "height": 204
    },
    "executionInfo": {
     "elapsed": 1013,
     "status": "ok",
     "timestamp": 1620066862569,
     "user": {
      "displayName": "Daniel Blanc",
      "photoUrl": "https://lh3.googleusercontent.com/a-/AOh14GjOzaUk5JaDiJFljgw1A79OgwfoRz4PhHeGgGg=s64",
      "userId": "15048843390343866158"
     },
     "user_tz": 180
    },
    "id": "msEkYBTnSeq0",
    "outputId": "7f39df82-16c5-4ff6-e1a7-e55bb8120d03"
   },
   "outputs": [],
   "source": [
    "comida = pd.read_excel(\"restaurant.xlsx\", sheet_name = 2)\n",
    "comida.head()"
   ]
  },
  {
   "cell_type": "code",
   "execution_count": null,
   "metadata": {
    "colab": {
     "base_uri": "https://localhost:8080/",
     "height": 204
    },
    "executionInfo": {
     "elapsed": 754,
     "status": "ok",
     "timestamp": 1620066863729,
     "user": {
      "displayName": "Daniel Blanc",
      "photoUrl": "https://lh3.googleusercontent.com/a-/AOh14GjOzaUk5JaDiJFljgw1A79OgwfoRz4PhHeGgGg=s64",
      "userId": "15048843390343866158"
     },
     "user_tz": 180
    },
    "id": "B7XfawjFSt_8",
    "outputId": "597c369c-581e-4881-ad39-935668980260"
   },
   "outputs": [],
   "source": [
    "clientes = pd.read_excel(\"restaurant.xlsx\", sheet_name = 3)\n",
    "clientes.head()"
   ]
  },
  {
   "cell_type": "code",
   "execution_count": null,
   "metadata": {
    "colab": {
     "base_uri": "https://localhost:8080/",
     "height": 419
    },
    "executionInfo": {
     "elapsed": 2525,
     "status": "ok",
     "timestamp": 1619555636811,
     "user": {
      "displayName": "Daniel Blanc",
      "photoUrl": "https://lh3.googleusercontent.com/a-/AOh14GjOzaUk5JaDiJFljgw1A79OgwfoRz4PhHeGgGg=s64",
      "userId": "15048843390343866158"
     },
     "user_tz": 180
    },
    "id": "jsPlvLROSyat",
    "outputId": "7cbbe769-422a-4550-f315-62d67bb811d6"
   },
   "outputs": [],
   "source": [
    "pd.concat([semana_1, semana_2]) # Ver índices"
   ]
  },
  {
   "cell_type": "markdown",
   "metadata": {},
   "source": [
    "El DataFrame contiene todas las filas de semana_1 seguidas de todas las filas de semana_2. La concatenación se realiza en función de las columnas coincidentes"
   ]
  },
  {
   "cell_type": "code",
   "execution_count": null,
   "metadata": {},
   "outputs": [],
   "source": [
    "semana_1.shape"
   ]
  },
  {
   "cell_type": "code",
   "execution_count": null,
   "metadata": {},
   "outputs": [],
   "source": [
    "semana_2.shape"
   ]
  },
  {
   "cell_type": "code",
   "execution_count": null,
   "metadata": {
    "colab": {
     "base_uri": "https://localhost:8080/",
     "height": 419
    },
    "executionInfo": {
     "elapsed": 2522,
     "status": "ok",
     "timestamp": 1619555636812,
     "user": {
      "displayName": "Daniel Blanc",
      "photoUrl": "https://lh3.googleusercontent.com/a-/AOh14GjOzaUk5JaDiJFljgw1A79OgwfoRz4PhHeGgGg=s64",
      "userId": "15048843390343866158"
     },
     "user_tz": 180
    },
    "id": "B7ozaPpmTxGd",
    "outputId": "2cd60f5b-6096-4453-cddc-ae6ad2748e7d"
   },
   "outputs": [],
   "source": [
    "pd.concat([semana_1, semana_2], ignore_index = True) #ignora los índices existentes de los DataFrames originales y crea un nuevo índice que va de 0 hasta la longitud total del DataFrame resultante."
   ]
  },
  {
   "cell_type": "code",
   "execution_count": null,
   "metadata": {
    "colab": {
     "base_uri": "https://localhost:8080/",
     "height": 419
    },
    "executionInfo": {
     "elapsed": 712,
     "status": "ok",
     "timestamp": 1619556447900,
     "user": {
      "displayName": "Daniel Blanc",
      "photoUrl": "https://lh3.googleusercontent.com/a-/AOh14GjOzaUk5JaDiJFljgw1A79OgwfoRz4PhHeGgGg=s64",
      "userId": "15048843390343866158"
     },
     "user_tz": 180
    },
    "id": "W1o00X9XFfB5",
    "outputId": "fa5d9e09-8af5-47e3-fccc-e1998c1fc4e8"
   },
   "outputs": [],
   "source": [
    "semana_1.append(other = semana_2, ignore_index=True)"
   ]
  },
  {
   "cell_type": "code",
   "execution_count": null,
   "metadata": {
    "id": "UGORzN_uLaD-"
   },
   "outputs": [],
   "source": [
    "# caso 155"
   ]
  },
  {
   "cell_type": "code",
   "execution_count": null,
   "metadata": {
    "colab": {
     "base_uri": "https://localhost:8080/",
     "height": 204
    },
    "executionInfo": {
     "elapsed": 2517,
     "status": "ok",
     "timestamp": 1619555636813,
     "user": {
      "displayName": "Daniel Blanc",
      "photoUrl": "https://lh3.googleusercontent.com/a-/AOh14GjOzaUk5JaDiJFljgw1A79OgwfoRz4PhHeGgGg=s64",
      "userId": "15048843390343866158"
     },
     "user_tz": 180
    },
    "id": "XztEsazoT5-N",
    "outputId": "6dd1683e-2cf2-49e6-b52b-4d743ad676da"
   },
   "outputs": [],
   "source": [
    "p = pd.concat([semana_1, semana_2], keys = [\"semana_1\", \"semana_2\"])\n",
    "p.head(255)"
   ]
  },
  {
   "cell_type": "code",
   "execution_count": null,
   "metadata": {},
   "outputs": [],
   "source": [
    "p2 = pd.concat([semana_1, clientes])"
   ]
  },
  {
   "cell_type": "code",
   "execution_count": null,
   "metadata": {},
   "outputs": [],
   "source": [
    "p2.head(20)"
   ]
  },
  {
   "cell_type": "markdown",
   "metadata": {},
   "source": [
    "concat() simplemente pega los objetos uno debajo del otro (para concatenación a lo largo de las filas) o uno al lado del otro (para concatenación a lo largo de las columnas), sin hacer coincidir o alinear los datos basados en alguna clave o índice."
   ]
  },
  {
   "cell_type": "code",
   "execution_count": null,
   "metadata": {
    "colab": {
     "base_uri": "https://localhost:8080/"
    },
    "executionInfo": {
     "elapsed": 2514,
     "status": "ok",
     "timestamp": 1619555636814,
     "user": {
      "displayName": "Daniel Blanc",
      "photoUrl": "https://lh3.googleusercontent.com/a-/AOh14GjOzaUk5JaDiJFljgw1A79OgwfoRz4PhHeGgGg=s64",
      "userId": "15048843390343866158"
     },
     "user_tz": 180
    },
    "id": "OczNVS_nUGWb",
    "outputId": "ab386635-9d7d-4b14-81ef-ff30549dc4e8"
   },
   "outputs": [],
   "source": [
    "p.loc[(\"semana_1\", 4), \"Customer ID\"]"
   ]
  },
  {
   "cell_type": "code",
   "execution_count": null,
   "metadata": {
    "colab": {
     "base_uri": "https://localhost:8080/",
     "height": 419
    },
    "executionInfo": {
     "elapsed": 2508,
     "status": "ok",
     "timestamp": 1619555636815,
     "user": {
      "displayName": "Daniel Blanc",
      "photoUrl": "https://lh3.googleusercontent.com/a-/AOh14GjOzaUk5JaDiJFljgw1A79OgwfoRz4PhHeGgGg=s64",
      "userId": "15048843390343866158"
     },
     "user_tz": 180
    },
    "id": "hZ4k3kXZWZkm",
    "outputId": "905c7ad5-2b30-400d-8c03-e438a1db6786"
   },
   "outputs": [],
   "source": [
    "semana_1.merge(semana_2, how = \"inner\", on = \"Customer ID\") # union por coincidencias "
   ]
  },
  {
   "cell_type": "code",
   "execution_count": null,
   "metadata": {
    "colab": {
     "base_uri": "https://localhost:8080/",
     "height": 419
    },
    "executionInfo": {
     "elapsed": 2505,
     "status": "ok",
     "timestamp": 1619555636816,
     "user": {
      "displayName": "Daniel Blanc",
      "photoUrl": "https://lh3.googleusercontent.com/a-/AOh14GjOzaUk5JaDiJFljgw1A79OgwfoRz4PhHeGgGg=s64",
      "userId": "15048843390343866158"
     },
     "user_tz": 180
    },
    "id": "wjGKZFfXZxnM",
    "outputId": "9241ae74-38e8-4b16-c7e0-b9bca31cb5c6"
   },
   "outputs": [],
   "source": [
    "semana_1.merge(semana_2, how = \"inner\", on = \"Customer ID\", suffixes = [\" - Semana 1\", \" - Semana 2\"])"
   ]
  },
  {
   "cell_type": "code",
   "execution_count": null,
   "metadata": {
    "colab": {
     "base_uri": "https://localhost:8080/",
     "height": 328
    },
    "executionInfo": {
     "elapsed": 605,
     "status": "ok",
     "timestamp": 1619557857998,
     "user": {
      "displayName": "Daniel Blanc",
      "photoUrl": "https://lh3.googleusercontent.com/a-/AOh14GjOzaUk5JaDiJFljgw1A79OgwfoRz4PhHeGgGg=s64",
      "userId": "15048843390343866158"
     },
     "user_tz": 180
    },
    "id": "65HjD6wwKzN3",
    "outputId": "3b4bb941-8813-4ac7-f25e-e0444a4399c8"
   },
   "outputs": [],
   "source": [
    "semana_1.merge(semana_2, how = 'inner', on = ['Customer ID', 'Food ID'])"
   ]
  },
  {
   "cell_type": "code",
   "execution_count": null,
   "metadata": {
    "id": "b0IW6EnVLfxw"
   },
   "outputs": [],
   "source": [
    "# casos duplicados"
   ]
  },
  {
   "cell_type": "code",
   "execution_count": null,
   "metadata": {
    "colab": {
     "base_uri": "https://localhost:8080/",
     "height": 419
    },
    "executionInfo": {
     "elapsed": 711,
     "status": "ok",
     "timestamp": 1619558680842,
     "user": {
      "displayName": "Daniel Blanc",
      "photoUrl": "https://lh3.googleusercontent.com/a-/AOh14GjOzaUk5JaDiJFljgw1A79OgwfoRz4PhHeGgGg=s64",
      "userId": "15048843390343866158"
     },
     "user_tz": 180
    },
    "id": "88C3A8ZWOBVl",
    "outputId": "d26fc5c2-8f60-4fea-bdfc-7a1feadf098d"
   },
   "outputs": [],
   "source": [
    "semana_1.merge(semana_2, how = 'outer', on = ['Customer ID'])"
   ]
  },
  {
   "cell_type": "code",
   "execution_count": null,
   "metadata": {
    "colab": {
     "base_uri": "https://localhost:8080/",
     "height": 419
    },
    "executionInfo": {
     "elapsed": 723,
     "status": "ok",
     "timestamp": 1619558699190,
     "user": {
      "displayName": "Daniel Blanc",
      "photoUrl": "https://lh3.googleusercontent.com/a-/AOh14GjOzaUk5JaDiJFljgw1A79OgwfoRz4PhHeGgGg=s64",
      "userId": "15048843390343866158"
     },
     "user_tz": 180
    },
    "id": "mXLDTnsvOGR6",
    "outputId": "427dec60-cb19-4661-c338-460125661419"
   },
   "outputs": [],
   "source": [
    "semana_1.merge(semana_2, how = 'outer', on = ['Customer ID'], indicator = True)"
   ]
  },
  {
   "cell_type": "markdown",
   "metadata": {},
   "source": [
    "El parámetro indicator=True agrega una columna adicional al resultado del DataFrame fusionado para indicar de qué conjunto de datos proviene cada fila. La columna adicional se llama por defecto _merge."
   ]
  },
  {
   "cell_type": "code",
   "execution_count": null,
   "metadata": {
    "colab": {
     "base_uri": "https://localhost:8080/"
    },
    "executionInfo": {
     "elapsed": 742,
     "status": "ok",
     "timestamp": 1619558817789,
     "user": {
      "displayName": "Daniel Blanc",
      "photoUrl": "https://lh3.googleusercontent.com/a-/AOh14GjOzaUk5JaDiJFljgw1A79OgwfoRz4PhHeGgGg=s64",
      "userId": "15048843390343866158"
     },
     "user_tz": 180
    },
    "id": "8RW4hg1mOgwU",
    "outputId": "43fa449e-41d1-434c-c0bf-8ba4c61c9f5d"
   },
   "outputs": [],
   "source": [
    "union = semana_1.merge(semana_2, how = 'outer', on = ['Customer ID'], indicator = True)\n",
    "union[\"_merge\"].value_counts()"
   ]
  },
  {
   "cell_type": "code",
   "execution_count": null,
   "metadata": {
    "colab": {
     "base_uri": "https://localhost:8080/",
     "height": 419
    },
    "executionInfo": {
     "elapsed": 2503,
     "status": "ok",
     "timestamp": 1619555636817,
     "user": {
      "displayName": "Daniel Blanc",
      "photoUrl": "https://lh3.googleusercontent.com/a-/AOh14GjOzaUk5JaDiJFljgw1A79OgwfoRz4PhHeGgGg=s64",
      "userId": "15048843390343866158"
     },
     "user_tz": 180
    },
    "id": "-ftOSF9GZ8OM",
    "outputId": "f633f510-a225-45fb-97d0-ae38bdec78ba"
   },
   "outputs": [],
   "source": [
    "p.merge(comida, how = \"left\", on = \"Food ID\")"
   ]
  },
  {
   "cell_type": "code",
   "execution_count": null,
   "metadata": {
    "id": "pgCw2obnkiPC"
   },
   "outputs": [],
   "source": [
    "#left_on, right_on, right_index"
   ]
  },
  {
   "cell_type": "markdown",
   "metadata": {},
   "source": [
    "right_index: Este parámetro se utiliza para indicar que la fusión se realizará utilizando el índice del DataFrame derecho. Si right_index=True, el índice del DataFrame derecho se utilizará como clave de fusión."
   ]
  },
  {
   "cell_type": "code",
   "execution_count": null,
   "metadata": {
    "colab": {
     "base_uri": "https://localhost:8080/",
     "height": 419
    },
    "executionInfo": {
     "elapsed": 2499,
     "status": "ok",
     "timestamp": 1619555636818,
     "user": {
      "displayName": "Daniel Blanc",
      "photoUrl": "https://lh3.googleusercontent.com/a-/AOh14GjOzaUk5JaDiJFljgw1A79OgwfoRz4PhHeGgGg=s64",
      "userId": "15048843390343866158"
     },
     "user_tz": 180
    },
    "id": "qQDaGdd_aw7W",
    "outputId": "8a83eb7c-2e20-4b1f-bbb2-4e34e3e2a178"
   },
   "outputs": [],
   "source": [
    "p.merge(comida, how = \"left\", on = \"Food ID\").merge(clientes, how = \"left\", left_on = \"Customer ID\", right_on = \"ID\")\n",
    "# las columnas que usamos para unir no se llaman igual y debemos especificarlo en left_on y right_on"
   ]
  },
  {
   "cell_type": "code",
   "execution_count": null,
   "metadata": {
    "id": "TkBawfo_a6S1"
   },
   "outputs": [],
   "source": [
    "list1 = ['1','2','3','4'] \n",
    "  \n",
    "s = \"-\"\n",
    "  \n",
    "# joins elements of list1 by '-'\n",
    "# and stores in sting s\n",
    "s = s.join(list1)\n",
    "  \n",
    "# join use to join a list of\n",
    "# strings to a separator s\n",
    "print(s)"
   ]
  }
 ],
 "metadata": {
  "colab": {
   "authorship_tag": "ABX9TyP4jOg9yzmhtS6hm3MKBSnz",
   "collapsed_sections": [],
   "name": "Laboratorio_3_Combinación&Anexión",
   "provenance": []
  },
  "kernelspec": {
   "display_name": "Python 3 (ipykernel)",
   "language": "python",
   "name": "python3"
  },
  "language_info": {
   "codemirror_mode": {
    "name": "ipython",
    "version": 3
   },
   "file_extension": ".py",
   "mimetype": "text/x-python",
   "name": "python",
   "nbconvert_exporter": "python",
   "pygments_lexer": "ipython3",
   "version": "3.12.3"
  }
 },
 "nbformat": 4,
 "nbformat_minor": 1
}
