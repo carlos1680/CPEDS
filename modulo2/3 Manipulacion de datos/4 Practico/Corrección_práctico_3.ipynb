{
  "cells": [
    {
      "cell_type": "code",
      "execution_count": 1,
      "metadata": {
        "id": "1PFc0ZxJoiQq"
      },
      "outputs": [],
      "source": [
        "import pandas as pd\n",
        "import numpy as np"
      ]
    },
    {
      "cell_type": "markdown",
      "metadata": {
        "id": "EjIshr2lokb1"
      },
      "source": [
        "# 1 - Obtenga el dataset “data_ventas”."
      ]
    },
    {
      "cell_type": "code",
      "execution_count": 2,
      "metadata": {
        "id": "XLSD2I4momV-"
      },
      "outputs": [],
      "source": [
        "ventas = pd.read_excel('data_ventas.xlsx') # Importamos los datos para utilizarlos"
      ]
    },
    {
      "cell_type": "markdown",
      "metadata": {
        "id": "vtToPf6EvWpi"
      },
      "source": [
        "Inspeccionamos los datos a utilizar y algunas propiedades estadisticas del mismo"
      ]
    },
    {
      "cell_type": "code",
      "execution_count": 3,
      "metadata": {
        "colab": {
          "base_uri": "https://localhost:8080/",
          "height": 206
        },
        "id": "dSbLxTlluCIq",
        "outputId": "1fd51d8b-8b8c-45ab-ff80-56975c1390f5"
      },
      "outputs": [
        {
          "data": {
            "text/html": [
              "<div>\n",
              "<style scoped>\n",
              "    .dataframe tbody tr th:only-of-type {\n",
              "        vertical-align: middle;\n",
              "    }\n",
              "\n",
              "    .dataframe tbody tr th {\n",
              "        vertical-align: top;\n",
              "    }\n",
              "\n",
              "    .dataframe thead th {\n",
              "        text-align: right;\n",
              "    }\n",
              "</style>\n",
              "<table border=\"1\" class=\"dataframe\">\n",
              "  <thead>\n",
              "    <tr style=\"text-align: right;\">\n",
              "      <th></th>\n",
              "      <th>IdVenta</th>\n",
              "      <th>Fecha</th>\n",
              "      <th>Cantidad</th>\n",
              "      <th>Monto</th>\n",
              "      <th>Producto</th>\n",
              "      <th>Color</th>\n",
              "      <th>Departamento</th>\n",
              "      <th>Revenue</th>\n",
              "      <th>Barrio</th>\n",
              "    </tr>\n",
              "  </thead>\n",
              "  <tbody>\n",
              "    <tr>\n",
              "      <th>0</th>\n",
              "      <td>1</td>\n",
              "      <td>2012-03-30</td>\n",
              "      <td>16.0</td>\n",
              "      <td>1600.0</td>\n",
              "      <td>Puerta</td>\n",
              "      <td>Negro</td>\n",
              "      <td>Montevideo</td>\n",
              "      <td>25600.0</td>\n",
              "      <td>1</td>\n",
              "    </tr>\n",
              "    <tr>\n",
              "      <th>1</th>\n",
              "      <td>2</td>\n",
              "      <td>2014-06-16</td>\n",
              "      <td>120.0</td>\n",
              "      <td>2400.0</td>\n",
              "      <td>Ventana</td>\n",
              "      <td>Negro</td>\n",
              "      <td>Durazno</td>\n",
              "      <td>288000.0</td>\n",
              "      <td>Sin datos</td>\n",
              "    </tr>\n",
              "    <tr>\n",
              "      <th>2</th>\n",
              "      <td>3</td>\n",
              "      <td>2014-08-20</td>\n",
              "      <td>61.0</td>\n",
              "      <td>520.0</td>\n",
              "      <td>Puerta</td>\n",
              "      <td>Negro</td>\n",
              "      <td>Paysandú</td>\n",
              "      <td>31720.0</td>\n",
              "      <td>Sin datos</td>\n",
              "    </tr>\n",
              "    <tr>\n",
              "      <th>3</th>\n",
              "      <td>4</td>\n",
              "      <td>2010-02-16</td>\n",
              "      <td>4.0</td>\n",
              "      <td>780.0</td>\n",
              "      <td>Hazada</td>\n",
              "      <td>Rojo</td>\n",
              "      <td>Salto</td>\n",
              "      <td>3120.0</td>\n",
              "      <td>Sin datos</td>\n",
              "    </tr>\n",
              "    <tr>\n",
              "      <th>4</th>\n",
              "      <td>5</td>\n",
              "      <td>2009-06-11</td>\n",
              "      <td>16.0</td>\n",
              "      <td>520.0</td>\n",
              "      <td>Chapa 3,2</td>\n",
              "      <td>Negro</td>\n",
              "      <td>Cerro Largo</td>\n",
              "      <td>8320.0</td>\n",
              "      <td>Sin datos</td>\n",
              "    </tr>\n",
              "  </tbody>\n",
              "</table>\n",
              "</div>"
            ],
            "text/plain": [
              "   IdVenta      Fecha  Cantidad   Monto   Producto  Color Departamento  \\\n",
              "0        1 2012-03-30      16.0  1600.0     Puerta  Negro   Montevideo   \n",
              "1        2 2014-06-16     120.0  2400.0    Ventana  Negro      Durazno   \n",
              "2        3 2014-08-20      61.0   520.0     Puerta  Negro     Paysandú   \n",
              "3        4 2010-02-16       4.0   780.0     Hazada   Rojo        Salto   \n",
              "4        5 2009-06-11      16.0   520.0  Chapa 3,2  Negro  Cerro Largo   \n",
              "\n",
              "    Revenue     Barrio  \n",
              "0   25600.0          1  \n",
              "1  288000.0  Sin datos  \n",
              "2   31720.0  Sin datos  \n",
              "3    3120.0  Sin datos  \n",
              "4    8320.0  Sin datos  "
            ]
          },
          "execution_count": 3,
          "metadata": {},
          "output_type": "execute_result"
        }
      ],
      "source": [
        "ventas.head() # Inspeccionamos los primeros elementos del dataset"
      ]
    },
    {
      "cell_type": "code",
      "execution_count": 4,
      "metadata": {
        "colab": {
          "base_uri": "https://localhost:8080/"
        },
        "id": "S1y8I9LBuEFk",
        "outputId": "87aa7a6a-39ae-4e69-d99d-35a25dfc7ca2"
      },
      "outputs": [
        {
          "name": "stdout",
          "output_type": "stream",
          "text": [
            "<class 'pandas.core.frame.DataFrame'>\n",
            "RangeIndex: 100000 entries, 0 to 99999\n",
            "Data columns (total 9 columns):\n",
            " #   Column        Non-Null Count   Dtype         \n",
            "---  ------        --------------   -----         \n",
            " 0   IdVenta       100000 non-null  int64         \n",
            " 1   Fecha         100000 non-null  datetime64[ns]\n",
            " 2   Cantidad      99988 non-null   float64       \n",
            " 3   Monto         99977 non-null   float64       \n",
            " 4   Producto      100000 non-null  object        \n",
            " 5   Color         100000 non-null  object        \n",
            " 6   Departamento  100000 non-null  object        \n",
            " 7   Revenue       100000 non-null  float64       \n",
            " 8   Barrio        100000 non-null  object        \n",
            "dtypes: datetime64[ns](1), float64(3), int64(1), object(4)\n",
            "memory usage: 6.9+ MB\n"
          ]
        }
      ],
      "source": [
        "ventas.info() # Observamos tipos de datos de las columnas y cantidad de valores nulos"
      ]
    },
    {
      "cell_type": "code",
      "execution_count": 5,
      "metadata": {
        "colab": {
          "base_uri": "https://localhost:8080/",
          "height": 300
        },
        "id": "0OQ0FF6juF9y",
        "outputId": "59ed24bf-480a-4b80-84ba-c8fccc47d425"
      },
      "outputs": [
        {
          "data": {
            "text/html": [
              "<div>\n",
              "<style scoped>\n",
              "    .dataframe tbody tr th:only-of-type {\n",
              "        vertical-align: middle;\n",
              "    }\n",
              "\n",
              "    .dataframe tbody tr th {\n",
              "        vertical-align: top;\n",
              "    }\n",
              "\n",
              "    .dataframe thead th {\n",
              "        text-align: right;\n",
              "    }\n",
              "</style>\n",
              "<table border=\"1\" class=\"dataframe\">\n",
              "  <thead>\n",
              "    <tr style=\"text-align: right;\">\n",
              "      <th></th>\n",
              "      <th>IdVenta</th>\n",
              "      <th>Fecha</th>\n",
              "      <th>Cantidad</th>\n",
              "      <th>Monto</th>\n",
              "      <th>Revenue</th>\n",
              "    </tr>\n",
              "  </thead>\n",
              "  <tbody>\n",
              "    <tr>\n",
              "      <th>count</th>\n",
              "      <td>100000.000000</td>\n",
              "      <td>100000</td>\n",
              "      <td>99988.000000</td>\n",
              "      <td>99977.000000</td>\n",
              "      <td>1.000000e+05</td>\n",
              "    </tr>\n",
              "    <tr>\n",
              "      <th>mean</th>\n",
              "      <td>50000.500000</td>\n",
              "      <td>2011-01-23 00:40:36.480000</td>\n",
              "      <td>72.891747</td>\n",
              "      <td>675.288016</td>\n",
              "      <td>5.480474e+04</td>\n",
              "    </tr>\n",
              "    <tr>\n",
              "      <th>min</th>\n",
              "      <td>1.000000</td>\n",
              "      <td>2007-01-01 00:00:00</td>\n",
              "      <td>1.000000</td>\n",
              "      <td>260.000000</td>\n",
              "      <td>0.000000e+00</td>\n",
              "    </tr>\n",
              "    <tr>\n",
              "      <th>25%</th>\n",
              "      <td>25000.750000</td>\n",
              "      <td>2009-01-09 00:00:00</td>\n",
              "      <td>31.000000</td>\n",
              "      <td>387.000000</td>\n",
              "      <td>1.534000e+04</td>\n",
              "    </tr>\n",
              "    <tr>\n",
              "      <th>50%</th>\n",
              "      <td>50000.500000</td>\n",
              "      <td>2011-01-28 00:00:00</td>\n",
              "      <td>62.000000</td>\n",
              "      <td>400.000000</td>\n",
              "      <td>3.042000e+04</td>\n",
              "    </tr>\n",
              "    <tr>\n",
              "      <th>75%</th>\n",
              "      <td>75000.250000</td>\n",
              "      <td>2013-02-04 00:00:00</td>\n",
              "      <td>93.000000</td>\n",
              "      <td>800.000000</td>\n",
              "      <td>5.280000e+04</td>\n",
              "    </tr>\n",
              "    <tr>\n",
              "      <th>max</th>\n",
              "      <td>100000.000000</td>\n",
              "      <td>2015-02-18 00:00:00</td>\n",
              "      <td>1200.000000</td>\n",
              "      <td>4800.000000</td>\n",
              "      <td>5.760000e+06</td>\n",
              "    </tr>\n",
              "    <tr>\n",
              "      <th>std</th>\n",
              "      <td>28867.657797</td>\n",
              "      <td>NaN</td>\n",
              "      <td>102.278427</td>\n",
              "      <td>448.049767</td>\n",
              "      <td>1.455684e+05</td>\n",
              "    </tr>\n",
              "  </tbody>\n",
              "</table>\n",
              "</div>"
            ],
            "text/plain": [
              "             IdVenta                       Fecha      Cantidad         Monto  \\\n",
              "count  100000.000000                      100000  99988.000000  99977.000000   \n",
              "mean    50000.500000  2011-01-23 00:40:36.480000     72.891747    675.288016   \n",
              "min         1.000000         2007-01-01 00:00:00      1.000000    260.000000   \n",
              "25%     25000.750000         2009-01-09 00:00:00     31.000000    387.000000   \n",
              "50%     50000.500000         2011-01-28 00:00:00     62.000000    400.000000   \n",
              "75%     75000.250000         2013-02-04 00:00:00     93.000000    800.000000   \n",
              "max    100000.000000         2015-02-18 00:00:00   1200.000000   4800.000000   \n",
              "std     28867.657797                         NaN    102.278427    448.049767   \n",
              "\n",
              "            Revenue  \n",
              "count  1.000000e+05  \n",
              "mean   5.480474e+04  \n",
              "min    0.000000e+00  \n",
              "25%    1.534000e+04  \n",
              "50%    3.042000e+04  \n",
              "75%    5.280000e+04  \n",
              "max    5.760000e+06  \n",
              "std    1.455684e+05  "
            ]
          },
          "execution_count": 5,
          "metadata": {},
          "output_type": "execute_result"
        }
      ],
      "source": [
        "# Analizamos parametros de la población analizada para tener una idea sobre los ordenes de magnitud y outliers\n",
        "ventas.describe()"
      ]
    },
    {
      "cell_type": "markdown",
      "metadata": {
        "id": "BTbkihZuond-"
      },
      "source": [
        "## a. Filtre el dataset de modo de trabajar solo con datos de Montevideo\n"
      ]
    },
    {
      "cell_type": "code",
      "execution_count": 6,
      "metadata": {
        "colab": {
          "base_uri": "https://localhost:8080/",
          "height": 206
        },
        "id": "u2JUrK2Et4Wp",
        "outputId": "5471f468-cd74-4fc0-da5d-8be0712cb5d8"
      },
      "outputs": [
        {
          "data": {
            "text/html": [
              "<div>\n",
              "<style scoped>\n",
              "    .dataframe tbody tr th:only-of-type {\n",
              "        vertical-align: middle;\n",
              "    }\n",
              "\n",
              "    .dataframe tbody tr th {\n",
              "        vertical-align: top;\n",
              "    }\n",
              "\n",
              "    .dataframe thead th {\n",
              "        text-align: right;\n",
              "    }\n",
              "</style>\n",
              "<table border=\"1\" class=\"dataframe\">\n",
              "  <thead>\n",
              "    <tr style=\"text-align: right;\">\n",
              "      <th></th>\n",
              "      <th>IdVenta</th>\n",
              "      <th>Fecha</th>\n",
              "      <th>Cantidad</th>\n",
              "      <th>Monto</th>\n",
              "      <th>Producto</th>\n",
              "      <th>Color</th>\n",
              "      <th>Departamento</th>\n",
              "      <th>Revenue</th>\n",
              "      <th>Barrio</th>\n",
              "    </tr>\n",
              "  </thead>\n",
              "  <tbody>\n",
              "    <tr>\n",
              "      <th>0</th>\n",
              "      <td>1</td>\n",
              "      <td>2012-03-30</td>\n",
              "      <td>16.0</td>\n",
              "      <td>1600.0</td>\n",
              "      <td>Puerta</td>\n",
              "      <td>Negro</td>\n",
              "      <td>Montevideo</td>\n",
              "      <td>25600.0</td>\n",
              "      <td>1</td>\n",
              "    </tr>\n",
              "    <tr>\n",
              "      <th>15</th>\n",
              "      <td>16</td>\n",
              "      <td>2010-05-28</td>\n",
              "      <td>118.0</td>\n",
              "      <td>780.0</td>\n",
              "      <td>Chapa 2,3</td>\n",
              "      <td>Negro</td>\n",
              "      <td>Montevideo</td>\n",
              "      <td>92040.0</td>\n",
              "      <td>53</td>\n",
              "    </tr>\n",
              "    <tr>\n",
              "      <th>27</th>\n",
              "      <td>28</td>\n",
              "      <td>2012-10-27</td>\n",
              "      <td>69.0</td>\n",
              "      <td>2400.0</td>\n",
              "      <td>Hazada</td>\n",
              "      <td>Verde</td>\n",
              "      <td>Montevideo</td>\n",
              "      <td>165600.0</td>\n",
              "      <td>21</td>\n",
              "    </tr>\n",
              "    <tr>\n",
              "      <th>53</th>\n",
              "      <td>54</td>\n",
              "      <td>2009-06-22</td>\n",
              "      <td>1190.0</td>\n",
              "      <td>1200.0</td>\n",
              "      <td>Pala Pocera</td>\n",
              "      <td>Negro</td>\n",
              "      <td>Montevideo</td>\n",
              "      <td>1428000.0</td>\n",
              "      <td>47</td>\n",
              "    </tr>\n",
              "    <tr>\n",
              "      <th>55</th>\n",
              "      <td>56</td>\n",
              "      <td>2013-01-25</td>\n",
              "      <td>570.0</td>\n",
              "      <td>2400.0</td>\n",
              "      <td>Hazada</td>\n",
              "      <td>Rojo</td>\n",
              "      <td>Montevideo</td>\n",
              "      <td>1368000.0</td>\n",
              "      <td>78</td>\n",
              "    </tr>\n",
              "  </tbody>\n",
              "</table>\n",
              "</div>"
            ],
            "text/plain": [
              "    IdVenta      Fecha  Cantidad   Monto     Producto  Color Departamento  \\\n",
              "0         1 2012-03-30      16.0  1600.0       Puerta  Negro   Montevideo   \n",
              "15       16 2010-05-28     118.0   780.0    Chapa 2,3  Negro   Montevideo   \n",
              "27       28 2012-10-27      69.0  2400.0       Hazada  Verde   Montevideo   \n",
              "53       54 2009-06-22    1190.0  1200.0  Pala Pocera  Negro   Montevideo   \n",
              "55       56 2013-01-25     570.0  2400.0       Hazada   Rojo   Montevideo   \n",
              "\n",
              "      Revenue Barrio  \n",
              "0     25600.0      1  \n",
              "15    92040.0     53  \n",
              "27   165600.0     21  \n",
              "53  1428000.0     47  \n",
              "55  1368000.0     78  "
            ]
          },
          "execution_count": 6,
          "metadata": {},
          "output_type": "execute_result"
        }
      ],
      "source": [
        "# Utilizamos el comando '.loc[]' para filtrar los datos que nos interesan\n",
        "ventas = ventas.loc[(ventas['Departamento'] == 'Montevideo')]\n",
        "ventas.head()"
      ]
    },
    {
      "cell_type": "markdown",
      "metadata": {
        "id": "padQgl4pvt9G"
      },
      "source": [
        "## b. Elimine la columna “Color”"
      ]
    },
    {
      "cell_type": "code",
      "execution_count": 9,
      "metadata": {
        "id": "5ZCif57qvvi1"
      },
      "outputs": [
        {
          "ename": "KeyError",
          "evalue": "\"['Color'] not found in axis\"",
          "output_type": "error",
          "traceback": [
            "\u001b[1;31m---------------------------------------------------------------------------\u001b[0m",
            "\u001b[1;31mKeyError\u001b[0m                                  Traceback (most recent call last)",
            "Cell \u001b[1;32mIn[9], line 2\u001b[0m\n\u001b[0;32m      1\u001b[0m \u001b[38;5;66;03m# Eliminamos la columna 'Color' debido a que no nos interesa en el análisis\u001b[39;00m\n\u001b[1;32m----> 2\u001b[0m ventas \u001b[38;5;241m=\u001b[39m \u001b[43mventas\u001b[49m\u001b[38;5;241;43m.\u001b[39;49m\u001b[43mdrop\u001b[49m\u001b[43m(\u001b[49m\u001b[43mcolumns\u001b[49m\u001b[43m \u001b[49m\u001b[38;5;241;43m=\u001b[39;49m\u001b[43m \u001b[49m\u001b[38;5;124;43m'\u001b[39;49m\u001b[38;5;124;43mColor\u001b[39;49m\u001b[38;5;124;43m'\u001b[39;49m\u001b[43m)\u001b[49m\n\u001b[0;32m      3\u001b[0m \u001b[38;5;66;03m#del ventas[\"Color\"]\u001b[39;00m\n\u001b[0;32m      4\u001b[0m ventas\u001b[38;5;241m.\u001b[39mhead()\n",
            "File \u001b[1;32mf:\\Personal\\django\\CPE\\CPEDS\\envWindows\\Lib\\site-packages\\pandas\\core\\frame.py:5581\u001b[0m, in \u001b[0;36mDataFrame.drop\u001b[1;34m(self, labels, axis, index, columns, level, inplace, errors)\u001b[0m\n\u001b[0;32m   5433\u001b[0m \u001b[38;5;28;01mdef\u001b[39;00m \u001b[38;5;21mdrop\u001b[39m(\n\u001b[0;32m   5434\u001b[0m     \u001b[38;5;28mself\u001b[39m,\n\u001b[0;32m   5435\u001b[0m     labels: IndexLabel \u001b[38;5;241m|\u001b[39m \u001b[38;5;28;01mNone\u001b[39;00m \u001b[38;5;241m=\u001b[39m \u001b[38;5;28;01mNone\u001b[39;00m,\n\u001b[1;32m   (...)\u001b[0m\n\u001b[0;32m   5442\u001b[0m     errors: IgnoreRaise \u001b[38;5;241m=\u001b[39m \u001b[38;5;124m\"\u001b[39m\u001b[38;5;124mraise\u001b[39m\u001b[38;5;124m\"\u001b[39m,\n\u001b[0;32m   5443\u001b[0m ) \u001b[38;5;241m-\u001b[39m\u001b[38;5;241m>\u001b[39m DataFrame \u001b[38;5;241m|\u001b[39m \u001b[38;5;28;01mNone\u001b[39;00m:\n\u001b[0;32m   5444\u001b[0m \u001b[38;5;250m    \u001b[39m\u001b[38;5;124;03m\"\"\"\u001b[39;00m\n\u001b[0;32m   5445\u001b[0m \u001b[38;5;124;03m    Drop specified labels from rows or columns.\u001b[39;00m\n\u001b[0;32m   5446\u001b[0m \n\u001b[1;32m   (...)\u001b[0m\n\u001b[0;32m   5579\u001b[0m \u001b[38;5;124;03m            weight  1.0     0.8\u001b[39;00m\n\u001b[0;32m   5580\u001b[0m \u001b[38;5;124;03m    \"\"\"\u001b[39;00m\n\u001b[1;32m-> 5581\u001b[0m     \u001b[38;5;28;01mreturn\u001b[39;00m \u001b[38;5;28;43msuper\u001b[39;49m\u001b[43m(\u001b[49m\u001b[43m)\u001b[49m\u001b[38;5;241;43m.\u001b[39;49m\u001b[43mdrop\u001b[49m\u001b[43m(\u001b[49m\n\u001b[0;32m   5582\u001b[0m \u001b[43m        \u001b[49m\u001b[43mlabels\u001b[49m\u001b[38;5;241;43m=\u001b[39;49m\u001b[43mlabels\u001b[49m\u001b[43m,\u001b[49m\n\u001b[0;32m   5583\u001b[0m \u001b[43m        \u001b[49m\u001b[43maxis\u001b[49m\u001b[38;5;241;43m=\u001b[39;49m\u001b[43maxis\u001b[49m\u001b[43m,\u001b[49m\n\u001b[0;32m   5584\u001b[0m \u001b[43m        \u001b[49m\u001b[43mindex\u001b[49m\u001b[38;5;241;43m=\u001b[39;49m\u001b[43mindex\u001b[49m\u001b[43m,\u001b[49m\n\u001b[0;32m   5585\u001b[0m \u001b[43m        \u001b[49m\u001b[43mcolumns\u001b[49m\u001b[38;5;241;43m=\u001b[39;49m\u001b[43mcolumns\u001b[49m\u001b[43m,\u001b[49m\n\u001b[0;32m   5586\u001b[0m \u001b[43m        \u001b[49m\u001b[43mlevel\u001b[49m\u001b[38;5;241;43m=\u001b[39;49m\u001b[43mlevel\u001b[49m\u001b[43m,\u001b[49m\n\u001b[0;32m   5587\u001b[0m \u001b[43m        \u001b[49m\u001b[43minplace\u001b[49m\u001b[38;5;241;43m=\u001b[39;49m\u001b[43minplace\u001b[49m\u001b[43m,\u001b[49m\n\u001b[0;32m   5588\u001b[0m \u001b[43m        \u001b[49m\u001b[43merrors\u001b[49m\u001b[38;5;241;43m=\u001b[39;49m\u001b[43merrors\u001b[49m\u001b[43m,\u001b[49m\n\u001b[0;32m   5589\u001b[0m \u001b[43m    \u001b[49m\u001b[43m)\u001b[49m\n",
            "File \u001b[1;32mf:\\Personal\\django\\CPE\\CPEDS\\envWindows\\Lib\\site-packages\\pandas\\core\\generic.py:4788\u001b[0m, in \u001b[0;36mNDFrame.drop\u001b[1;34m(self, labels, axis, index, columns, level, inplace, errors)\u001b[0m\n\u001b[0;32m   4786\u001b[0m \u001b[38;5;28;01mfor\u001b[39;00m axis, labels \u001b[38;5;129;01min\u001b[39;00m axes\u001b[38;5;241m.\u001b[39mitems():\n\u001b[0;32m   4787\u001b[0m     \u001b[38;5;28;01mif\u001b[39;00m labels \u001b[38;5;129;01mis\u001b[39;00m \u001b[38;5;129;01mnot\u001b[39;00m \u001b[38;5;28;01mNone\u001b[39;00m:\n\u001b[1;32m-> 4788\u001b[0m         obj \u001b[38;5;241m=\u001b[39m \u001b[43mobj\u001b[49m\u001b[38;5;241;43m.\u001b[39;49m\u001b[43m_drop_axis\u001b[49m\u001b[43m(\u001b[49m\u001b[43mlabels\u001b[49m\u001b[43m,\u001b[49m\u001b[43m \u001b[49m\u001b[43maxis\u001b[49m\u001b[43m,\u001b[49m\u001b[43m \u001b[49m\u001b[43mlevel\u001b[49m\u001b[38;5;241;43m=\u001b[39;49m\u001b[43mlevel\u001b[49m\u001b[43m,\u001b[49m\u001b[43m \u001b[49m\u001b[43merrors\u001b[49m\u001b[38;5;241;43m=\u001b[39;49m\u001b[43merrors\u001b[49m\u001b[43m)\u001b[49m\n\u001b[0;32m   4790\u001b[0m \u001b[38;5;28;01mif\u001b[39;00m inplace:\n\u001b[0;32m   4791\u001b[0m     \u001b[38;5;28mself\u001b[39m\u001b[38;5;241m.\u001b[39m_update_inplace(obj)\n",
            "File \u001b[1;32mf:\\Personal\\django\\CPE\\CPEDS\\envWindows\\Lib\\site-packages\\pandas\\core\\generic.py:4830\u001b[0m, in \u001b[0;36mNDFrame._drop_axis\u001b[1;34m(self, labels, axis, level, errors, only_slice)\u001b[0m\n\u001b[0;32m   4828\u001b[0m         new_axis \u001b[38;5;241m=\u001b[39m axis\u001b[38;5;241m.\u001b[39mdrop(labels, level\u001b[38;5;241m=\u001b[39mlevel, errors\u001b[38;5;241m=\u001b[39merrors)\n\u001b[0;32m   4829\u001b[0m     \u001b[38;5;28;01melse\u001b[39;00m:\n\u001b[1;32m-> 4830\u001b[0m         new_axis \u001b[38;5;241m=\u001b[39m \u001b[43maxis\u001b[49m\u001b[38;5;241;43m.\u001b[39;49m\u001b[43mdrop\u001b[49m\u001b[43m(\u001b[49m\u001b[43mlabels\u001b[49m\u001b[43m,\u001b[49m\u001b[43m \u001b[49m\u001b[43merrors\u001b[49m\u001b[38;5;241;43m=\u001b[39;49m\u001b[43merrors\u001b[49m\u001b[43m)\u001b[49m\n\u001b[0;32m   4831\u001b[0m     indexer \u001b[38;5;241m=\u001b[39m axis\u001b[38;5;241m.\u001b[39mget_indexer(new_axis)\n\u001b[0;32m   4833\u001b[0m \u001b[38;5;66;03m# Case for non-unique axis\u001b[39;00m\n\u001b[0;32m   4834\u001b[0m \u001b[38;5;28;01melse\u001b[39;00m:\n",
            "File \u001b[1;32mf:\\Personal\\django\\CPE\\CPEDS\\envWindows\\Lib\\site-packages\\pandas\\core\\indexes\\base.py:7070\u001b[0m, in \u001b[0;36mIndex.drop\u001b[1;34m(self, labels, errors)\u001b[0m\n\u001b[0;32m   7068\u001b[0m \u001b[38;5;28;01mif\u001b[39;00m mask\u001b[38;5;241m.\u001b[39many():\n\u001b[0;32m   7069\u001b[0m     \u001b[38;5;28;01mif\u001b[39;00m errors \u001b[38;5;241m!=\u001b[39m \u001b[38;5;124m\"\u001b[39m\u001b[38;5;124mignore\u001b[39m\u001b[38;5;124m\"\u001b[39m:\n\u001b[1;32m-> 7070\u001b[0m         \u001b[38;5;28;01mraise\u001b[39;00m \u001b[38;5;167;01mKeyError\u001b[39;00m(\u001b[38;5;124mf\u001b[39m\u001b[38;5;124m\"\u001b[39m\u001b[38;5;132;01m{\u001b[39;00mlabels[mask]\u001b[38;5;241m.\u001b[39mtolist()\u001b[38;5;132;01m}\u001b[39;00m\u001b[38;5;124m not found in axis\u001b[39m\u001b[38;5;124m\"\u001b[39m)\n\u001b[0;32m   7071\u001b[0m     indexer \u001b[38;5;241m=\u001b[39m indexer[\u001b[38;5;241m~\u001b[39mmask]\n\u001b[0;32m   7072\u001b[0m \u001b[38;5;28;01mreturn\u001b[39;00m \u001b[38;5;28mself\u001b[39m\u001b[38;5;241m.\u001b[39mdelete(indexer)\n",
            "\u001b[1;31mKeyError\u001b[0m: \"['Color'] not found in axis\""
          ]
        }
      ],
      "source": [
        "# Eliminamos la columna 'Color' debido a que no nos interesa en el análisis\n",
        "ventas = ventas.drop(columns = 'Color')\n",
        "#del ventas[\"Color\"]\n",
        "ventas.head()"
      ]
    },
    {
      "cell_type": "markdown",
      "metadata": {
        "id": "YzFHrhmQwEs7"
      },
      "source": [
        "## c. Identifique los valores faltantes (no necesariamente son valores nulos)"
      ]
    },
    {
      "cell_type": "markdown",
      "metadata": {
        "id": "90f0sh4ozjRU"
      },
      "source": [
        "Aquí comienza el trabajo más arduo del analista de datos, analizar los datos que tiene con rigurosidad. Para comenzar podríamos utilizar algún comando para observar valores nulos."
      ]
    },
    {
      "cell_type": "markdown",
      "metadata": {
        "id": "xAsauLYX3Yym"
      },
      "source": [
        "### I. Valores numericos, reemplace los faltantes por la media del valor de la columna.\n"
      ]
    },
    {
      "cell_type": "code",
      "execution_count": 10,
      "metadata": {
        "colab": {
          "base_uri": "https://localhost:8080/"
        },
        "id": "rkc9UQFv3cKK",
        "outputId": "6159ee11-7e8d-4926-d7d0-36f6111a0149"
      },
      "outputs": [
        {
          "name": "stdout",
          "output_type": "stream",
          "text": [
            "<class 'pandas.core.frame.DataFrame'>\n",
            "Index: 7090 entries, 0 to 99987\n",
            "Data columns (total 8 columns):\n",
            " #   Column        Non-Null Count  Dtype         \n",
            "---  ------        --------------  -----         \n",
            " 0   IdVenta       7090 non-null   int64         \n",
            " 1   Fecha         7090 non-null   datetime64[ns]\n",
            " 2   Cantidad      7078 non-null   float64       \n",
            " 3   Monto         7067 non-null   float64       \n",
            " 4   Producto      7090 non-null   object        \n",
            " 5   Departamento  7090 non-null   object        \n",
            " 6   Revenue       7090 non-null   float64       \n",
            " 7   Barrio        7090 non-null   object        \n",
            "dtypes: datetime64[ns](1), float64(3), int64(1), object(3)\n",
            "memory usage: 498.5+ KB\n"
          ]
        }
      ],
      "source": [
        "# Utilizamos este comando para revisar que columnas son valores numericos\n",
        "ventas.info()"
      ]
    },
    {
      "cell_type": "markdown",
      "metadata": {
        "id": "JaVbcT0k33bH"
      },
      "source": [
        "**Podemos observar que solo existen 4 columnas con valores numericos. La IdVenta no es tan importante para analizar valores nulos, ya que es un entero auto-incremental.**"
      ]
    },
    {
      "cell_type": "code",
      "execution_count": 11,
      "metadata": {
        "colab": {
          "base_uri": "https://localhost:8080/"
        },
        "id": "gjsMHrDv0Haf",
        "outputId": "d3cfb66f-d0c6-489a-85cc-2ad58bb85135"
      },
      "outputs": [
        {
          "data": {
            "text/plain": [
              "IdVenta          0\n",
              "Fecha            0\n",
              "Cantidad        12\n",
              "Monto           23\n",
              "Producto         0\n",
              "Departamento     0\n",
              "Revenue          0\n",
              "Barrio           0\n",
              "dtype: int64"
            ]
          },
          "execution_count": 11,
          "metadata": {},
          "output_type": "execute_result"
        }
      ],
      "source": [
        "ventas.isnull().sum() # Observamos los valores que son nulos en el dataset"
      ]
    },
    {
      "cell_type": "code",
      "execution_count": 12,
      "metadata": {
        "colab": {
          "base_uri": "https://localhost:8080/",
          "height": 50
        },
        "id": "fq-Je2xw0VC5",
        "outputId": "7693957c-d110-46ba-a1bf-8c624cb5937e"
      },
      "outputs": [
        {
          "data": {
            "text/html": [
              "<div>\n",
              "<style scoped>\n",
              "    .dataframe tbody tr th:only-of-type {\n",
              "        vertical-align: middle;\n",
              "    }\n",
              "\n",
              "    .dataframe tbody tr th {\n",
              "        vertical-align: top;\n",
              "    }\n",
              "\n",
              "    .dataframe thead th {\n",
              "        text-align: right;\n",
              "    }\n",
              "</style>\n",
              "<table border=\"1\" class=\"dataframe\">\n",
              "  <thead>\n",
              "    <tr style=\"text-align: right;\">\n",
              "      <th></th>\n",
              "      <th>IdVenta</th>\n",
              "      <th>Fecha</th>\n",
              "      <th>Cantidad</th>\n",
              "      <th>Monto</th>\n",
              "      <th>Producto</th>\n",
              "      <th>Departamento</th>\n",
              "      <th>Revenue</th>\n",
              "      <th>Barrio</th>\n",
              "    </tr>\n",
              "  </thead>\n",
              "  <tbody>\n",
              "    <tr>\n",
              "      <th>87</th>\n",
              "      <td>88</td>\n",
              "      <td>2012-08-04</td>\n",
              "      <td>790.0</td>\n",
              "      <td>NaN</td>\n",
              "      <td>Pala hogar</td>\n",
              "      <td>Montevideo</td>\n",
              "      <td>0.0</td>\n",
              "      <td>13</td>\n",
              "    </tr>\n",
              "    <tr>\n",
              "      <th>193</th>\n",
              "      <td>194</td>\n",
              "      <td>2011-09-17</td>\n",
              "      <td>1140.0</td>\n",
              "      <td>NaN</td>\n",
              "      <td>Pico</td>\n",
              "      <td>Montevideo</td>\n",
              "      <td>0.0</td>\n",
              "      <td>17</td>\n",
              "    </tr>\n",
              "    <tr>\n",
              "      <th>219</th>\n",
              "      <td>220</td>\n",
              "      <td>2014-06-02</td>\n",
              "      <td>70.0</td>\n",
              "      <td>NaN</td>\n",
              "      <td>Pico</td>\n",
              "      <td>Montevideo</td>\n",
              "      <td>0.0</td>\n",
              "      <td>15</td>\n",
              "    </tr>\n",
              "    <tr>\n",
              "      <th>29829</th>\n",
              "      <td>29830</td>\n",
              "      <td>2014-02-13</td>\n",
              "      <td>NaN</td>\n",
              "      <td>800.0</td>\n",
              "      <td>Rastrillo</td>\n",
              "      <td>Montevideo</td>\n",
              "      <td>0.0</td>\n",
              "      <td>37</td>\n",
              "    </tr>\n",
              "    <tr>\n",
              "      <th>29831</th>\n",
              "      <td>29832</td>\n",
              "      <td>2014-01-20</td>\n",
              "      <td>20.0</td>\n",
              "      <td>NaN</td>\n",
              "      <td>Pico</td>\n",
              "      <td>Montevideo</td>\n",
              "      <td>0.0</td>\n",
              "      <td>38</td>\n",
              "    </tr>\n",
              "    <tr>\n",
              "      <th>29893</th>\n",
              "      <td>29894</td>\n",
              "      <td>2007-06-26</td>\n",
              "      <td>71.0</td>\n",
              "      <td>NaN</td>\n",
              "      <td>Pala hogar</td>\n",
              "      <td>Montevideo</td>\n",
              "      <td>0.0</td>\n",
              "      <td>10</td>\n",
              "    </tr>\n",
              "    <tr>\n",
              "      <th>29922</th>\n",
              "      <td>29923</td>\n",
              "      <td>2009-12-11</td>\n",
              "      <td>NaN</td>\n",
              "      <td>800.0</td>\n",
              "      <td>Puerta</td>\n",
              "      <td>Montevideo</td>\n",
              "      <td>0.0</td>\n",
              "      <td>43</td>\n",
              "    </tr>\n",
              "    <tr>\n",
              "      <th>29985</th>\n",
              "      <td>29986</td>\n",
              "      <td>2013-09-28</td>\n",
              "      <td>11.0</td>\n",
              "      <td>NaN</td>\n",
              "      <td>Pala hogar</td>\n",
              "      <td>Montevideo</td>\n",
              "      <td>0.0</td>\n",
              "      <td>30</td>\n",
              "    </tr>\n",
              "    <tr>\n",
              "      <th>30039</th>\n",
              "      <td>30040</td>\n",
              "      <td>2014-12-31</td>\n",
              "      <td>NaN</td>\n",
              "      <td>NaN</td>\n",
              "      <td>Puerta</td>\n",
              "      <td>Montevideo</td>\n",
              "      <td>0.0</td>\n",
              "      <td>71</td>\n",
              "    </tr>\n",
              "    <tr>\n",
              "      <th>30098</th>\n",
              "      <td>30099</td>\n",
              "      <td>2009-03-22</td>\n",
              "      <td>NaN</td>\n",
              "      <td>800.0</td>\n",
              "      <td>Puerta</td>\n",
              "      <td>Montevideo</td>\n",
              "      <td>0.0</td>\n",
              "      <td>43</td>\n",
              "    </tr>\n",
              "    <tr>\n",
              "      <th>30170</th>\n",
              "      <td>30171</td>\n",
              "      <td>2012-07-03</td>\n",
              "      <td>17.0</td>\n",
              "      <td>NaN</td>\n",
              "      <td>Ventana</td>\n",
              "      <td>Montevideo</td>\n",
              "      <td>0.0</td>\n",
              "      <td>34</td>\n",
              "    </tr>\n",
              "    <tr>\n",
              "      <th>58537</th>\n",
              "      <td>58538</td>\n",
              "      <td>2010-07-04</td>\n",
              "      <td>NaN</td>\n",
              "      <td>600.0</td>\n",
              "      <td>Ventana</td>\n",
              "      <td>Montevideo</td>\n",
              "      <td>0.0</td>\n",
              "      <td>76</td>\n",
              "    </tr>\n",
              "    <tr>\n",
              "      <th>58560</th>\n",
              "      <td>58561</td>\n",
              "      <td>2009-06-18</td>\n",
              "      <td>42.0</td>\n",
              "      <td>NaN</td>\n",
              "      <td>Hazada</td>\n",
              "      <td>Montevideo</td>\n",
              "      <td>0.0</td>\n",
              "      <td>43</td>\n",
              "    </tr>\n",
              "    <tr>\n",
              "      <th>58576</th>\n",
              "      <td>58577</td>\n",
              "      <td>2010-05-08</td>\n",
              "      <td>36.0</td>\n",
              "      <td>NaN</td>\n",
              "      <td>Pala Dientes</td>\n",
              "      <td>Montevideo</td>\n",
              "      <td>0.0</td>\n",
              "      <td>11</td>\n",
              "    </tr>\n",
              "    <tr>\n",
              "      <th>58609</th>\n",
              "      <td>58610</td>\n",
              "      <td>2011-02-16</td>\n",
              "      <td>116.0</td>\n",
              "      <td>NaN</td>\n",
              "      <td>Ventana</td>\n",
              "      <td>Montevideo</td>\n",
              "      <td>0.0</td>\n",
              "      <td>9</td>\n",
              "    </tr>\n",
              "    <tr>\n",
              "      <th>58610</th>\n",
              "      <td>58611</td>\n",
              "      <td>2013-09-11</td>\n",
              "      <td>107.0</td>\n",
              "      <td>NaN</td>\n",
              "      <td>Pala Pocera</td>\n",
              "      <td>Montevideo</td>\n",
              "      <td>0.0</td>\n",
              "      <td>63</td>\n",
              "    </tr>\n",
              "    <tr>\n",
              "      <th>58633</th>\n",
              "      <td>58634</td>\n",
              "      <td>2012-05-27</td>\n",
              "      <td>72.0</td>\n",
              "      <td>NaN</td>\n",
              "      <td>Chapa 3,2</td>\n",
              "      <td>Montevideo</td>\n",
              "      <td>0.0</td>\n",
              "      <td>76</td>\n",
              "    </tr>\n",
              "    <tr>\n",
              "      <th>58643</th>\n",
              "      <td>58644</td>\n",
              "      <td>2009-02-06</td>\n",
              "      <td>NaN</td>\n",
              "      <td>NaN</td>\n",
              "      <td>Pala hogar</td>\n",
              "      <td>Montevideo</td>\n",
              "      <td>0.0</td>\n",
              "      <td>81</td>\n",
              "    </tr>\n",
              "    <tr>\n",
              "      <th>58699</th>\n",
              "      <td>58700</td>\n",
              "      <td>2010-05-19</td>\n",
              "      <td>NaN</td>\n",
              "      <td>800.0</td>\n",
              "      <td>Rastrillo</td>\n",
              "      <td>Montevideo</td>\n",
              "      <td>0.0</td>\n",
              "      <td>81</td>\n",
              "    </tr>\n",
              "    <tr>\n",
              "      <th>67211</th>\n",
              "      <td>67212</td>\n",
              "      <td>2014-01-05</td>\n",
              "      <td>NaN</td>\n",
              "      <td>600.0</td>\n",
              "      <td>Pala Dientes</td>\n",
              "      <td>Montevideo</td>\n",
              "      <td>0.0</td>\n",
              "      <td>75</td>\n",
              "    </tr>\n",
              "    <tr>\n",
              "      <th>67276</th>\n",
              "      <td>67277</td>\n",
              "      <td>2008-07-16</td>\n",
              "      <td>NaN</td>\n",
              "      <td>NaN</td>\n",
              "      <td>Pala Pocera</td>\n",
              "      <td>Montevideo</td>\n",
              "      <td>0.0</td>\n",
              "      <td>68</td>\n",
              "    </tr>\n",
              "    <tr>\n",
              "      <th>67284</th>\n",
              "      <td>67285</td>\n",
              "      <td>2011-02-03</td>\n",
              "      <td>115.0</td>\n",
              "      <td>NaN</td>\n",
              "      <td>Pala Pocera</td>\n",
              "      <td>Montevideo</td>\n",
              "      <td>0.0</td>\n",
              "      <td>56</td>\n",
              "    </tr>\n",
              "    <tr>\n",
              "      <th>67288</th>\n",
              "      <td>67289</td>\n",
              "      <td>2010-07-15</td>\n",
              "      <td>63.0</td>\n",
              "      <td>NaN</td>\n",
              "      <td>Pala Dientes</td>\n",
              "      <td>Montevideo</td>\n",
              "      <td>0.0</td>\n",
              "      <td>2</td>\n",
              "    </tr>\n",
              "    <tr>\n",
              "      <th>67323</th>\n",
              "      <td>67324</td>\n",
              "      <td>2012-08-16</td>\n",
              "      <td>45.0</td>\n",
              "      <td>NaN</td>\n",
              "      <td>Ventana</td>\n",
              "      <td>Montevideo</td>\n",
              "      <td>0.0</td>\n",
              "      <td>19</td>\n",
              "    </tr>\n",
              "    <tr>\n",
              "      <th>67374</th>\n",
              "      <td>67375</td>\n",
              "      <td>2013-04-29</td>\n",
              "      <td>NaN</td>\n",
              "      <td>800.0</td>\n",
              "      <td>Rastrillo</td>\n",
              "      <td>Montevideo</td>\n",
              "      <td>0.0</td>\n",
              "      <td>42</td>\n",
              "    </tr>\n",
              "    <tr>\n",
              "      <th>67601</th>\n",
              "      <td>67602</td>\n",
              "      <td>2009-03-05</td>\n",
              "      <td>5.0</td>\n",
              "      <td>NaN</td>\n",
              "      <td>Pico</td>\n",
              "      <td>Montevideo</td>\n",
              "      <td>0.0</td>\n",
              "      <td>73</td>\n",
              "    </tr>\n",
              "    <tr>\n",
              "      <th>67726</th>\n",
              "      <td>67727</td>\n",
              "      <td>2008-02-18</td>\n",
              "      <td>NaN</td>\n",
              "      <td>387.0</td>\n",
              "      <td>Pala hogar</td>\n",
              "      <td>Montevideo</td>\n",
              "      <td>0.0</td>\n",
              "      <td>42</td>\n",
              "    </tr>\n",
              "    <tr>\n",
              "      <th>67782</th>\n",
              "      <td>67783</td>\n",
              "      <td>2008-09-16</td>\n",
              "      <td>41.0</td>\n",
              "      <td>NaN</td>\n",
              "      <td>Pala Dientes</td>\n",
              "      <td>Montevideo</td>\n",
              "      <td>0.0</td>\n",
              "      <td>66</td>\n",
              "    </tr>\n",
              "    <tr>\n",
              "      <th>67785</th>\n",
              "      <td>67786</td>\n",
              "      <td>2007-10-31</td>\n",
              "      <td>94.0</td>\n",
              "      <td>NaN</td>\n",
              "      <td>Ventana</td>\n",
              "      <td>Montevideo</td>\n",
              "      <td>0.0</td>\n",
              "      <td>44</td>\n",
              "    </tr>\n",
              "    <tr>\n",
              "      <th>67796</th>\n",
              "      <td>67797</td>\n",
              "      <td>2014-10-24</td>\n",
              "      <td>NaN</td>\n",
              "      <td>1600.0</td>\n",
              "      <td>Chapa 3,2</td>\n",
              "      <td>Montevideo</td>\n",
              "      <td>0.0</td>\n",
              "      <td>81</td>\n",
              "    </tr>\n",
              "    <tr>\n",
              "      <th>67863</th>\n",
              "      <td>67864</td>\n",
              "      <td>2007-11-18</td>\n",
              "      <td>105.0</td>\n",
              "      <td>NaN</td>\n",
              "      <td>Puerta</td>\n",
              "      <td>Montevideo</td>\n",
              "      <td>0.0</td>\n",
              "      <td>49</td>\n",
              "    </tr>\n",
              "    <tr>\n",
              "      <th>67878</th>\n",
              "      <td>67879</td>\n",
              "      <td>2012-12-13</td>\n",
              "      <td>24.0</td>\n",
              "      <td>NaN</td>\n",
              "      <td>Pala Pocera</td>\n",
              "      <td>Montevideo</td>\n",
              "      <td>0.0</td>\n",
              "      <td>46</td>\n",
              "    </tr>\n",
              "  </tbody>\n",
              "</table>\n",
              "</div>"
            ],
            "text/plain": [
              "       IdVenta      Fecha  Cantidad   Monto      Producto Departamento  \\\n",
              "87          88 2012-08-04     790.0     NaN    Pala hogar   Montevideo   \n",
              "193        194 2011-09-17    1140.0     NaN          Pico   Montevideo   \n",
              "219        220 2014-06-02      70.0     NaN          Pico   Montevideo   \n",
              "29829    29830 2014-02-13       NaN   800.0     Rastrillo   Montevideo   \n",
              "29831    29832 2014-01-20      20.0     NaN          Pico   Montevideo   \n",
              "29893    29894 2007-06-26      71.0     NaN    Pala hogar   Montevideo   \n",
              "29922    29923 2009-12-11       NaN   800.0        Puerta   Montevideo   \n",
              "29985    29986 2013-09-28      11.0     NaN    Pala hogar   Montevideo   \n",
              "30039    30040 2014-12-31       NaN     NaN        Puerta   Montevideo   \n",
              "30098    30099 2009-03-22       NaN   800.0        Puerta   Montevideo   \n",
              "30170    30171 2012-07-03      17.0     NaN       Ventana   Montevideo   \n",
              "58537    58538 2010-07-04       NaN   600.0       Ventana   Montevideo   \n",
              "58560    58561 2009-06-18      42.0     NaN        Hazada   Montevideo   \n",
              "58576    58577 2010-05-08      36.0     NaN  Pala Dientes   Montevideo   \n",
              "58609    58610 2011-02-16     116.0     NaN       Ventana   Montevideo   \n",
              "58610    58611 2013-09-11     107.0     NaN   Pala Pocera   Montevideo   \n",
              "58633    58634 2012-05-27      72.0     NaN     Chapa 3,2   Montevideo   \n",
              "58643    58644 2009-02-06       NaN     NaN    Pala hogar   Montevideo   \n",
              "58699    58700 2010-05-19       NaN   800.0     Rastrillo   Montevideo   \n",
              "67211    67212 2014-01-05       NaN   600.0  Pala Dientes   Montevideo   \n",
              "67276    67277 2008-07-16       NaN     NaN   Pala Pocera   Montevideo   \n",
              "67284    67285 2011-02-03     115.0     NaN   Pala Pocera   Montevideo   \n",
              "67288    67289 2010-07-15      63.0     NaN  Pala Dientes   Montevideo   \n",
              "67323    67324 2012-08-16      45.0     NaN       Ventana   Montevideo   \n",
              "67374    67375 2013-04-29       NaN   800.0     Rastrillo   Montevideo   \n",
              "67601    67602 2009-03-05       5.0     NaN          Pico   Montevideo   \n",
              "67726    67727 2008-02-18       NaN   387.0    Pala hogar   Montevideo   \n",
              "67782    67783 2008-09-16      41.0     NaN  Pala Dientes   Montevideo   \n",
              "67785    67786 2007-10-31      94.0     NaN       Ventana   Montevideo   \n",
              "67796    67797 2014-10-24       NaN  1600.0     Chapa 3,2   Montevideo   \n",
              "67863    67864 2007-11-18     105.0     NaN        Puerta   Montevideo   \n",
              "67878    67879 2012-12-13      24.0     NaN   Pala Pocera   Montevideo   \n",
              "\n",
              "       Revenue Barrio  \n",
              "87         0.0     13  \n",
              "193        0.0     17  \n",
              "219        0.0     15  \n",
              "29829      0.0     37  \n",
              "29831      0.0     38  \n",
              "29893      0.0     10  \n",
              "29922      0.0     43  \n",
              "29985      0.0     30  \n",
              "30039      0.0     71  \n",
              "30098      0.0     43  \n",
              "30170      0.0     34  \n",
              "58537      0.0     76  \n",
              "58560      0.0     43  \n",
              "58576      0.0     11  \n",
              "58609      0.0      9  \n",
              "58610      0.0     63  \n",
              "58633      0.0     76  \n",
              "58643      0.0     81  \n",
              "58699      0.0     81  \n",
              "67211      0.0     75  \n",
              "67276      0.0     68  \n",
              "67284      0.0     56  \n",
              "67288      0.0      2  \n",
              "67323      0.0     19  \n",
              "67374      0.0     42  \n",
              "67601      0.0     73  \n",
              "67726      0.0     42  \n",
              "67782      0.0     66  \n",
              "67785      0.0     44  \n",
              "67796      0.0     81  \n",
              "67863      0.0     49  \n",
              "67878      0.0     46  "
            ]
          },
          "execution_count": 12,
          "metadata": {},
          "output_type": "execute_result"
        }
      ],
      "source": [
        "# Analizamos que sucede cuando las columnas 'Cantidad' y 'Monto' son nulas\n",
        "ventas.loc[(ventas['Cantidad'].isnull()) | (ventas['Monto'].isnull())] # Recordar que el simbolo \"|\" implica \"or\""
      ]
    },
    {
      "cell_type": "markdown",
      "metadata": {
        "id": "bi751oCp1DUH"
      },
      "source": [
        "**Notese el comportamiento de la columna 'Revenue' cuando la cantidad o el monto son valores nulos. Analizamos todos los valores donde Revenue == 0**"
      ]
    },
    {
      "cell_type": "code",
      "execution_count": 20,
      "metadata": {
        "colab": {
          "base_uri": "https://localhost:8080/",
          "height": 1000
        },
        "id": "sslilDP60eIj",
        "outputId": "b3fbcd24-5261-463e-f78f-f1386c7202c5"
      },
      "outputs": [
        {
          "data": {
            "text/html": [
              "<div>\n",
              "<style scoped>\n",
              "    .dataframe tbody tr th:only-of-type {\n",
              "        vertical-align: middle;\n",
              "    }\n",
              "\n",
              "    .dataframe tbody tr th {\n",
              "        vertical-align: top;\n",
              "    }\n",
              "\n",
              "    .dataframe thead th {\n",
              "        text-align: right;\n",
              "    }\n",
              "</style>\n",
              "<table border=\"1\" class=\"dataframe\">\n",
              "  <thead>\n",
              "    <tr style=\"text-align: right;\">\n",
              "      <th></th>\n",
              "      <th>IdVenta</th>\n",
              "      <th>Fecha</th>\n",
              "      <th>Cantidad</th>\n",
              "      <th>Monto</th>\n",
              "      <th>Producto</th>\n",
              "      <th>Departamento</th>\n",
              "      <th>Revenue</th>\n",
              "      <th>Barrio</th>\n",
              "    </tr>\n",
              "  </thead>\n",
              "  <tbody>\n",
              "  </tbody>\n",
              "</table>\n",
              "</div>"
            ],
            "text/plain": [
              "Empty DataFrame\n",
              "Columns: [IdVenta, Fecha, Cantidad, Monto, Producto, Departamento, Revenue, Barrio]\n",
              "Index: []"
            ]
          },
          "execution_count": 20,
          "metadata": {},
          "output_type": "execute_result"
        }
      ],
      "source": [
        "ventas.loc[ventas['Revenue'] == 0] # Vemos que la columna Revenue == 0 SOLO cuando cantidad o monto son NaN."
      ]
    },
    {
      "cell_type": "code",
      "execution_count": 19,
      "metadata": {
        "colab": {
          "base_uri": "https://localhost:8080/",
          "height": 50
        },
        "id": "jWWAlvJL2gFR",
        "outputId": "031fcd31-f664-452e-c6ce-fd6c4077fa98"
      },
      "outputs": [
        {
          "data": {
            "text/html": [
              "<div>\n",
              "<style scoped>\n",
              "    .dataframe tbody tr th:only-of-type {\n",
              "        vertical-align: middle;\n",
              "    }\n",
              "\n",
              "    .dataframe tbody tr th {\n",
              "        vertical-align: top;\n",
              "    }\n",
              "\n",
              "    .dataframe thead th {\n",
              "        text-align: right;\n",
              "    }\n",
              "</style>\n",
              "<table border=\"1\" class=\"dataframe\">\n",
              "  <thead>\n",
              "    <tr style=\"text-align: right;\">\n",
              "      <th></th>\n",
              "      <th>IdVenta</th>\n",
              "      <th>Fecha</th>\n",
              "      <th>Cantidad</th>\n",
              "      <th>Monto</th>\n",
              "      <th>Producto</th>\n",
              "      <th>Departamento</th>\n",
              "      <th>Revenue</th>\n",
              "      <th>Barrio</th>\n",
              "    </tr>\n",
              "  </thead>\n",
              "  <tbody>\n",
              "  </tbody>\n",
              "</table>\n",
              "</div>"
            ],
            "text/plain": [
              "Empty DataFrame\n",
              "Columns: [IdVenta, Fecha, Cantidad, Monto, Producto, Departamento, Revenue, Barrio]\n",
              "Index: []"
            ]
          },
          "execution_count": 19,
          "metadata": {},
          "output_type": "execute_result"
        }
      ],
      "source": [
        "ventas.loc[(ventas['Cantidad'] == 0) | (ventas['Monto'] == 0)] # No existen valores iguales a 0 para las columnas Cantidad y Monto"
      ]
    },
    {
      "cell_type": "code",
      "execution_count": 15,
      "metadata": {
        "colab": {
          "base_uri": "https://localhost:8080/"
        },
        "id": "gniDzt7e6I1L",
        "outputId": "5c825b33-382b-4f56-8fae-695857d84a79"
      },
      "outputs": [],
      "source": [
        "media_cantidad = ventas['Cantidad'].mean(skipna = True)\n",
        "ventas.fillna({'Cantidad': media_cantidad}, inplace = True)\n",
        "media_monto = ventas['Monto'].mean(skipna = True)\n",
        "ventas.fillna({'Monto': media_monto}, inplace = True)\n",
        "\n",
        "# ¿Se puede mejorar esto?\n",
        "# ¿Que hacemos con la columna Revenue?\n",
        "# ¿Hay algún outlier?\n",
        "# ¿Debería preocuparme por los duplicados?"
      ]
    },
    {
      "cell_type": "code",
      "execution_count": 18,
      "metadata": {
        "id": "1jgjaGmgB7la"
      },
      "outputs": [],
      "source": [
        "# Al analizar la columna Revenue = Monto * Cantidad\n",
        "ventas['Revenue'] = ventas['Monto'] * ventas['Cantidad']"
      ]
    },
    {
      "cell_type": "code",
      "execution_count": 21,
      "metadata": {
        "id": "pNNu3CHh97p_"
      },
      "outputs": [
        {
          "name": "stdout",
          "output_type": "stream",
          "text": [
            "Pico\n",
            "Puerta\n",
            "Pala hogar\n",
            "Ventana\n",
            "Pala Pocera\n",
            "Rastrillo\n",
            "Pala Dientes\n",
            "Chapa 3,2\n",
            "Hazada\n",
            "Chapa 2,3\n"
          ]
        }
      ],
      "source": [
        "# ¿Se puede mejorar esto? -> Si, podríamos hacer la media de cada producto, debido a que son productos distintos\n",
        "for columna in ventas['Producto'].value_counts().index:\n",
        "  print(columna)"
      ]
    },
    {
      "cell_type": "code",
      "execution_count": 31,
      "metadata": {
        "colab": {
          "base_uri": "https://localhost:8080/",
          "height": 300
        },
        "id": "mvY6yPU1CIZc",
        "outputId": "43c495f9-d571-4961-8ee2-83eeeb54c064"
      },
      "outputs": [
        {
          "data": {
            "text/html": [
              "<div>\n",
              "<style scoped>\n",
              "    .dataframe tbody tr th:only-of-type {\n",
              "        vertical-align: middle;\n",
              "    }\n",
              "\n",
              "    .dataframe tbody tr th {\n",
              "        vertical-align: top;\n",
              "    }\n",
              "\n",
              "    .dataframe thead th {\n",
              "        text-align: right;\n",
              "    }\n",
              "</style>\n",
              "<table border=\"1\" class=\"dataframe\">\n",
              "  <thead>\n",
              "    <tr style=\"text-align: right;\">\n",
              "      <th></th>\n",
              "      <th>IdVenta</th>\n",
              "      <th>Fecha</th>\n",
              "      <th>Cantidad</th>\n",
              "      <th>Monto</th>\n",
              "      <th>Revenue</th>\n",
              "    </tr>\n",
              "  </thead>\n",
              "  <tbody>\n",
              "    <tr>\n",
              "      <th>count</th>\n",
              "      <td>7090.000000</td>\n",
              "      <td>7090</td>\n",
              "      <td>7090.000000</td>\n",
              "      <td>7090.000000</td>\n",
              "      <td>7.090000e+03</td>\n",
              "    </tr>\n",
              "    <tr>\n",
              "      <th>mean</th>\n",
              "      <td>43777.653315</td>\n",
              "      <td>2011-01-21 18:23:51.875881472</td>\n",
              "      <td>70.580390</td>\n",
              "      <td>676.923235</td>\n",
              "      <td>5.314955e+04</td>\n",
              "    </tr>\n",
              "    <tr>\n",
              "      <th>min</th>\n",
              "      <td>1.000000</td>\n",
              "      <td>2007-01-01 00:00:00</td>\n",
              "      <td>1.000000</td>\n",
              "      <td>260.000000</td>\n",
              "      <td>2.600000e+02</td>\n",
              "    </tr>\n",
              "    <tr>\n",
              "      <th>25%</th>\n",
              "      <td>19888.000000</td>\n",
              "      <td>2008-12-29 06:00:00</td>\n",
              "      <td>31.000000</td>\n",
              "      <td>390.000000</td>\n",
              "      <td>1.534000e+04</td>\n",
              "    </tr>\n",
              "    <tr>\n",
              "      <th>50%</th>\n",
              "      <td>36917.500000</td>\n",
              "      <td>2011-01-30 12:00:00</td>\n",
              "      <td>61.000000</td>\n",
              "      <td>400.000000</td>\n",
              "      <td>3.058650e+04</td>\n",
              "    </tr>\n",
              "    <tr>\n",
              "      <th>75%</th>\n",
              "      <td>67868.500000</td>\n",
              "      <td>2013-01-26 18:00:00</td>\n",
              "      <td>92.000000</td>\n",
              "      <td>800.000000</td>\n",
              "      <td>5.100000e+04</td>\n",
              "    </tr>\n",
              "    <tr>\n",
              "      <th>max</th>\n",
              "      <td>99988.000000</td>\n",
              "      <td>2015-02-18 00:00:00</td>\n",
              "      <td>1200.000000</td>\n",
              "      <td>4800.000000</td>\n",
              "      <td>5.376000e+06</td>\n",
              "    </tr>\n",
              "    <tr>\n",
              "      <th>std</th>\n",
              "      <td>28466.269313</td>\n",
              "      <td>NaN</td>\n",
              "      <td>97.666722</td>\n",
              "      <td>456.037382</td>\n",
              "      <td>1.610991e+05</td>\n",
              "    </tr>\n",
              "  </tbody>\n",
              "</table>\n",
              "</div>"
            ],
            "text/plain": [
              "            IdVenta                          Fecha     Cantidad        Monto  \\\n",
              "count   7090.000000                           7090  7090.000000  7090.000000   \n",
              "mean   43777.653315  2011-01-21 18:23:51.875881472    70.580390   676.923235   \n",
              "min        1.000000            2007-01-01 00:00:00     1.000000   260.000000   \n",
              "25%    19888.000000            2008-12-29 06:00:00    31.000000   390.000000   \n",
              "50%    36917.500000            2011-01-30 12:00:00    61.000000   400.000000   \n",
              "75%    67868.500000            2013-01-26 18:00:00    92.000000   800.000000   \n",
              "max    99988.000000            2015-02-18 00:00:00  1200.000000  4800.000000   \n",
              "std    28466.269313                            NaN    97.666722   456.037382   \n",
              "\n",
              "            Revenue  \n",
              "count  7.090000e+03  \n",
              "mean   5.314955e+04  \n",
              "min    2.600000e+02  \n",
              "25%    1.534000e+04  \n",
              "50%    3.058650e+04  \n",
              "75%    5.100000e+04  \n",
              "max    5.376000e+06  \n",
              "std    1.610991e+05  "
            ]
          },
          "execution_count": 31,
          "metadata": {},
          "output_type": "execute_result"
        }
      ],
      "source": [
        "# Hay algún outlier?\n",
        "ventas.describe()\n",
        "#ventas.loc[(ventas[\"Cantidad\"]==1)].value_counts()"
      ]
    },
    {
      "cell_type": "code",
      "execution_count": 32,
      "metadata": {
        "colab": {
          "base_uri": "https://localhost:8080/",
          "height": 206
        },
        "id": "43Ct5nLHCU0J",
        "outputId": "0c3898eb-b3e4-4b28-8d27-af88a373980a"
      },
      "outputs": [
        {
          "data": {
            "text/html": [
              "<div>\n",
              "<style scoped>\n",
              "    .dataframe tbody tr th:only-of-type {\n",
              "        vertical-align: middle;\n",
              "    }\n",
              "\n",
              "    .dataframe tbody tr th {\n",
              "        vertical-align: top;\n",
              "    }\n",
              "\n",
              "    .dataframe thead th {\n",
              "        text-align: right;\n",
              "    }\n",
              "</style>\n",
              "<table border=\"1\" class=\"dataframe\">\n",
              "  <thead>\n",
              "    <tr style=\"text-align: right;\">\n",
              "      <th></th>\n",
              "      <th>IdVenta</th>\n",
              "      <th>Fecha</th>\n",
              "      <th>Cantidad</th>\n",
              "      <th>Monto</th>\n",
              "      <th>Producto</th>\n",
              "      <th>Departamento</th>\n",
              "      <th>Revenue</th>\n",
              "      <th>Barrio</th>\n",
              "    </tr>\n",
              "  </thead>\n",
              "  <tbody>\n",
              "    <tr>\n",
              "      <th>73</th>\n",
              "      <td>74</td>\n",
              "      <td>2008-03-22</td>\n",
              "      <td>1120.0</td>\n",
              "      <td>4800.0</td>\n",
              "      <td>Pala hogar</td>\n",
              "      <td>Montevideo</td>\n",
              "      <td>5376000.0</td>\n",
              "      <td>76</td>\n",
              "    </tr>\n",
              "    <tr>\n",
              "      <th>161</th>\n",
              "      <td>162</td>\n",
              "      <td>2009-04-03</td>\n",
              "      <td>890.0</td>\n",
              "      <td>4800.0</td>\n",
              "      <td>Hazada</td>\n",
              "      <td>Montevideo</td>\n",
              "      <td>4272000.0</td>\n",
              "      <td>73</td>\n",
              "    </tr>\n",
              "    <tr>\n",
              "      <th>213</th>\n",
              "      <td>214</td>\n",
              "      <td>2009-06-27</td>\n",
              "      <td>340.0</td>\n",
              "      <td>4800.0</td>\n",
              "      <td>Hazada</td>\n",
              "      <td>Montevideo</td>\n",
              "      <td>1632000.0</td>\n",
              "      <td>57</td>\n",
              "    </tr>\n",
              "    <tr>\n",
              "      <th>225</th>\n",
              "      <td>226</td>\n",
              "      <td>2011-10-16</td>\n",
              "      <td>1020.0</td>\n",
              "      <td>4800.0</td>\n",
              "      <td>Rastrillo</td>\n",
              "      <td>Montevideo</td>\n",
              "      <td>4896000.0</td>\n",
              "      <td>57</td>\n",
              "    </tr>\n",
              "    <tr>\n",
              "      <th>1985</th>\n",
              "      <td>1986</td>\n",
              "      <td>2012-12-27</td>\n",
              "      <td>1200.0</td>\n",
              "      <td>900.0</td>\n",
              "      <td>Chapa 3,2</td>\n",
              "      <td>Montevideo</td>\n",
              "      <td>1080000.0</td>\n",
              "      <td>81</td>\n",
              "    </tr>\n",
              "  </tbody>\n",
              "</table>\n",
              "</div>"
            ],
            "text/plain": [
              "      IdVenta      Fecha  Cantidad   Monto    Producto Departamento  \\\n",
              "73         74 2008-03-22    1120.0  4800.0  Pala hogar   Montevideo   \n",
              "161       162 2009-04-03     890.0  4800.0      Hazada   Montevideo   \n",
              "213       214 2009-06-27     340.0  4800.0      Hazada   Montevideo   \n",
              "225       226 2011-10-16    1020.0  4800.0   Rastrillo   Montevideo   \n",
              "1985     1986 2012-12-27    1200.0   900.0   Chapa 3,2   Montevideo   \n",
              "\n",
              "        Revenue Barrio  \n",
              "73    5376000.0     76  \n",
              "161   4272000.0     73  \n",
              "213   1632000.0     57  \n",
              "225   4896000.0     57  \n",
              "1985  1080000.0     81  "
            ]
          },
          "execution_count": 32,
          "metadata": {},
          "output_type": "execute_result"
        }
      ],
      "source": [
        "ventas.loc[(ventas['Monto'] == 4800) | (ventas['Cantidad'] == 1200)] # Identifican algún patron?"
      ]
    },
    {
      "cell_type": "markdown",
      "metadata": {
        "id": "dwvaYR7K7pOA"
      },
      "source": [
        "### II. Cuando sean categóricos, elimínelos. "
      ]
    },
    {
      "cell_type": "code",
      "execution_count": 33,
      "metadata": {
        "id": "py9eqzof7sfc"
      },
      "outputs": [
        {
          "name": "stdout",
          "output_type": "stream",
          "text": [
            "IdVenta\n",
            "1        1\n",
            "56338    1\n",
            "56488    1\n",
            "56464    1\n",
            "56444    1\n",
            "        ..\n",
            "25339    1\n",
            "25328    1\n",
            "25321    1\n",
            "25319    1\n",
            "99988    1\n",
            "Name: count, Length: 7090, dtype: int64\n",
            "Fecha\n",
            "2008-03-11    9\n",
            "2015-02-12    8\n",
            "2012-01-19    8\n",
            "2008-01-08    8\n",
            "2007-11-19    8\n",
            "             ..\n",
            "2011-09-21    1\n",
            "2007-10-14    1\n",
            "2009-08-21    1\n",
            "2007-02-10    1\n",
            "2012-04-08    1\n",
            "Name: count, Length: 2730, dtype: int64\n",
            "Cantidad\n",
            "19.0     83\n",
            "47.0     83\n",
            "93.0     79\n",
            "45.0     76\n",
            "30.0     73\n",
            "         ..\n",
            "200.0     1\n",
            "580.0     1\n",
            "700.0     1\n",
            "320.0     1\n",
            "470.0     1\n",
            "Name: count, Length: 190, dtype: int64\n",
            "Monto\n",
            "400.000000     1234\n",
            "600.000000      958\n",
            "800.000000      924\n",
            "1200.000000     656\n",
            "390.000000      638\n",
            "345.000000      622\n",
            "1600.000000     597\n",
            "387.000000      597\n",
            "260.000000      546\n",
            "2400.000000      64\n",
            "900.000000       45\n",
            "585.000000       25\n",
            "517.500000       24\n",
            "676.923235       23\n",
            "580.500000       23\n",
            "690.000000       21\n",
            "774.000000       19\n",
            "1800.000000      19\n",
            "780.000000       17\n",
            "520.000000       14\n",
            "3200.000000      12\n",
            "3600.000000       5\n",
            "4800.000000       4\n",
            "1170.000000       2\n",
            "1035.000000       1\n",
            "Name: count, dtype: int64\n",
            "Producto\n",
            "Pico            1006\n",
            "Puerta           996\n",
            "Pala hogar       975\n",
            "Ventana          669\n",
            "Pala Pocera      650\n",
            "Rastrillo        635\n",
            "Pala Dientes     631\n",
            "Chapa 3,2        623\n",
            "Hazada           590\n",
            "Chapa 2,3        315\n",
            "Name: count, dtype: int64\n",
            "Departamento\n",
            "Montevideo    7090\n",
            "Name: count, dtype: int64\n",
            "Revenue\n",
            "33600.0      44\n",
            "19200.0      43\n",
            "40800.0      42\n",
            "9600.0       42\n",
            "48000.0      41\n",
            "             ..\n",
            "210600.0      1\n",
            "56700.0       1\n",
            "279000.0      1\n",
            "4272000.0     1\n",
            "49800.0       1\n",
            "Name: count, Length: 980, dtype: int64\n",
            "Barrio\n",
            "Sin datos    252\n",
            "30           110\n",
            "79           109\n",
            "45           102\n",
            "27           100\n",
            "            ... \n",
            "54            69\n",
            "10            68\n",
            "51            67\n",
            "23            67\n",
            "71            66\n",
            "Name: count, Length: 82, dtype: int64\n"
          ]
        }
      ],
      "source": [
        "for columna in ventas.columns:\n",
        "  print(ventas[columna].value_counts()) # Vemos que valores tienen las columnas categóricas"
      ]
    },
    {
      "cell_type": "code",
      "execution_count": null,
      "metadata": {
        "colab": {
          "base_uri": "https://localhost:8080/",
          "height": 49
        },
        "id": "BEKrNjt3Dizt",
        "outputId": "e646d823-9dea-48b2-f95e-b2d605d49669"
      },
      "outputs": [],
      "source": [
        "ventas.loc[(ventas['Barrio'] == 'Sin datos')] # Nos fijamos el DataFrame cuando la columna Barrio == Sin datos, para buscar patrones"
      ]
    },
    {
      "cell_type": "code",
      "execution_count": null,
      "metadata": {
        "id": "zeuBU_lQEWSC"
      },
      "outputs": [],
      "source": [
        "#ventas['Barrio'] = ventas['Barrio'].replace('Sin datos', np.nan) # Reemplazo textual\n",
        "# o\n",
        "ventas.loc[ventas['Barrio'].astype('str').str.contains('sin datos', case=False, na= False), 'Barrio'] = np.nan # Reemplazo 'like'"
      ]
    },
    {
      "cell_type": "code",
      "execution_count": null,
      "metadata": {
        "id": "K_6nXoeDJUWo"
      },
      "outputs": [],
      "source": [
        "ventas = ventas.dropna(subset=['Barrio']) # Elimino las filas con valores NaN\n",
        "ventas.head()"
      ]
    },
    {
      "cell_type": "code",
      "execution_count": null,
      "metadata": {
        "colab": {
          "base_uri": "https://localhost:8080/",
          "height": 49
        },
        "id": "VhlSvt4MExJ5",
        "outputId": "4678dc6e-2d3a-4586-976d-6eab7878e63a"
      },
      "outputs": [],
      "source": [
        "ventas.loc[(ventas['Barrio'].isnull())] # Me fijo si fueron borrados"
      ]
    },
    {
      "cell_type": "markdown",
      "metadata": {
        "id": "VZft2UC7KDCK"
      },
      "source": [
        "## e. Obtenga el dataset “barrios_mdeo”"
      ]
    },
    {
      "cell_type": "code",
      "execution_count": null,
      "metadata": {
        "colab": {
          "base_uri": "https://localhost:8080/",
          "height": 206
        },
        "id": "VFYThXq6KF4t",
        "outputId": "2b05e3d1-19aa-408d-c2c5-c2da3c9fe386"
      },
      "outputs": [],
      "source": [
        "barrios = pd.read_csv('barrios_mdeo.csv', delimiter = ';',encoding = 'latin-1') # Observo un error de UTF-8 y luego de delimitador\n",
        "barrios.head()"
      ]
    },
    {
      "cell_type": "markdown",
      "metadata": {
        "id": "9GlWwNp5OZqh"
      },
      "source": [
        "### I. Combine el dataset con data_ventas, teniendo éste último a la izquierda en un left-join."
      ]
    },
    {
      "cell_type": "code",
      "execution_count": null,
      "metadata": {
        "id": "qJ_sYPeONNh3"
      },
      "outputs": [],
      "source": [
        "barrios.rename(columns={'código':'Barrio'}, inplace=True) # Es más sencillo para agrupar luego"
      ]
    },
    {
      "cell_type": "code",
      "execution_count": null,
      "metadata": {
        "colab": {
          "base_uri": "https://localhost:8080/",
          "height": 206
        },
        "id": "lepDlBPfN6_x",
        "outputId": "9bdc1b9f-ec09-4a4e-e7d2-ec928686d47b"
      },
      "outputs": [],
      "source": [
        "montevideo = ventas.merge(barrios, on='Barrio', how='left') # left-join utilizando la columna 'Barrio' como referencia\n",
        "montevideo.head()"
      ]
    },
    {
      "cell_type": "markdown",
      "metadata": {
        "id": "NY85dfeBOeTR"
      },
      "source": [
        "### II. Elimine las variables que muestran el código de los barrios, quedándose solo con los nombres.\n",
        "product\n"
      ]
    },
    {
      "cell_type": "code",
      "execution_count": null,
      "metadata": {
        "id": "2e-numOcOiw5"
      },
      "outputs": [],
      "source": [
        "montevideo.drop(columns='Barrio', inplace=True) # De no renombrar la columna 'código' deberian eliminarse dos columnas\n",
        "montevideo.head()"
      ]
    },
    {
      "cell_type": "markdown",
      "metadata": {
        "id": "IU7k2oCmO0m0"
      },
      "source": [
        "### iii. Haga un conteo de valores por barrio."
      ]
    },
    {
      "cell_type": "markdown",
      "metadata": {
        "id": "iE63qQN6PR-o"
      },
      "source": [
        "Investigue la forma de exportar a un Excel el conteo"
      ]
    },
    {
      "cell_type": "code",
      "execution_count": null,
      "metadata": {
        "id": "9W31RihnPCLo"
      },
      "outputs": [],
      "source": [
        "montevideo['Lugar'].value_counts().to_excel('Conteo_barrios.xlsx')"
      ]
    },
    {
      "cell_type": "markdown",
      "metadata": {
        "id": "tNe68nPiPYnc"
      },
      "source": [
        "# 2. Obtenga el dataset “registros.xlsx”. El Excel tiene registros por ventas para dos meses, obtenga ambos datasets."
      ]
    },
    {
      "cell_type": "code",
      "execution_count": null,
      "metadata": {
        "id": "Y8C3PijfPgO1"
      },
      "outputs": [],
      "source": [
        "registros_1 = pd.read_excel('registros.xlsx', sheet_name='mes1')\n",
        "registros_2 = pd.read_excel('registros.xlsx', sheet_name='mes2')"
      ]
    },
    {
      "cell_type": "markdown",
      "metadata": {
        "id": "hBqz6CLAPeBW"
      },
      "source": [
        "## a. Genere una dataset final “registros” que sea la anexión de ambos archivos. "
      ]
    },
    {
      "cell_type": "code",
      "execution_count": null,
      "metadata": {
        "colab": {
          "base_uri": "https://localhost:8080/",
          "height": 424
        },
        "id": "OBSMRYk6QAiL",
        "outputId": "a01f7a51-2167-476c-c485-09ae027941e9"
      },
      "outputs": [],
      "source": [
        "registros = pd.concat([registros_1,registros_2], ignore_index=True)\n",
        "registros"
      ]
    },
    {
      "cell_type": "markdown",
      "metadata": {
        "id": "vaKRmgoBQTHs"
      },
      "source": [
        "## b. La columna Id debe ser el index, asegúrese que éste no tenga duplicados."
      ]
    },
    {
      "cell_type": "code",
      "execution_count": null,
      "metadata": {
        "id": "GZT20tw3Rcyy"
      },
      "outputs": [],
      "source": [
        "registros['id'].value_counts() # Vemos que la columna id tiene valores duplicados"
      ]
    },
    {
      "cell_type": "code",
      "execution_count": null,
      "metadata": {
        "id": "mBLJuarPQTtE"
      },
      "outputs": [],
      "source": [
        "registros.drop(columns=['id'], inplace=True) # En este caso si no se utiliza en bases de datos relacionales, es mejor eliminarla"
      ]
    },
    {
      "cell_type": "code",
      "execution_count": null,
      "metadata": {
        "colab": {
          "base_uri": "https://localhost:8080/"
        },
        "id": "NrgeG9NEUgiy",
        "outputId": "3afaee07-72c8-4d32-f2e4-b5f8c62bdb14"
      },
      "outputs": [],
      "source": [
        "registros.head()"
      ]
    },
    {
      "cell_type": "markdown",
      "metadata": {
        "id": "_w966a3VRh4R"
      },
      "source": [
        "## Se necesita obtener el precio de los productos en dólares a valor actual, por tanto, utilice la función\n",
        "read_html (ejemplo), para obtener este dato directamente de la página de cotizaciones del BCU, y\n",
        "genere una columna nueva valor_dolares, utilizando el número obtenido1"
      ]
    },
    {
      "cell_type": "code",
      "execution_count": null,
      "metadata": {
        "id": "5sjEr65hRipA"
      },
      "outputs": [],
      "source": [
        "url = 'https://www.bcu.gub.uy/Estadisticas-e-Indicadores/Paginas/Cotizaciones.aspx'\n",
        "cotizaciones = pd.read_html(url, thousands = '.')\n",
        "cotizacion = cotizaciones[4]"
      ]
    },
    {
      "cell_type": "code",
      "execution_count": null,
      "metadata": {
        "id": "nESAaAv5Tn6L"
      },
      "outputs": [],
      "source": [
        "valor_dolar = cotizacion.loc[0,2]\n",
        "valor_dolar = valor_dolar.replace(',', '.')"
      ]
    },
    {
      "cell_type": "code",
      "execution_count": null,
      "metadata": {
        "id": "K-QEXJphUbWE"
      },
      "outputs": [],
      "source": [
        "registros['valor_dolares'] = registros['value'] / float(valor_dolar)"
      ]
    },
    {
      "cell_type": "code",
      "execution_count": null,
      "metadata": {
        "colab": {
          "base_uri": "https://localhost:8080/",
          "height": 424
        },
        "id": "M-HCeAlcVNW4",
        "outputId": "6e3f21f3-4885-479b-edaf-b41e24283a6d"
      },
      "outputs": [],
      "source": [
        "registros"
      ]
    }
  ],
  "metadata": {
    "colab": {
      "collapsed_sections": [],
      "name": "Corrección_práctico_3.ipynb",
      "provenance": []
    },
    "kernelspec": {
      "display_name": "Python 3",
      "name": "python3"
    },
    "language_info": {
      "codemirror_mode": {
        "name": "ipython",
        "version": 3
      },
      "file_extension": ".py",
      "mimetype": "text/x-python",
      "name": "python",
      "nbconvert_exporter": "python",
      "pygments_lexer": "ipython3",
      "version": "3.12.3"
    }
  },
  "nbformat": 4,
  "nbformat_minor": 0
}
