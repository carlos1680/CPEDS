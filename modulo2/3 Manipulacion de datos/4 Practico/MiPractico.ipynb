{
 "cells": [
  {
   "cell_type": "code",
   "execution_count": 1,
   "metadata": {},
   "outputs": [],
   "source": [
    "import pandas as pd"
   ]
  },
  {
   "cell_type": "code",
   "execution_count": 2,
   "metadata": {},
   "outputs": [
    {
     "name": "stdout",
     "output_type": "stream",
     "text": [
      "Punto 1\n"
     ]
    },
    {
     "data": {
      "text/html": [
       "<div>\n",
       "<style scoped>\n",
       "    .dataframe tbody tr th:only-of-type {\n",
       "        vertical-align: middle;\n",
       "    }\n",
       "\n",
       "    .dataframe tbody tr th {\n",
       "        vertical-align: top;\n",
       "    }\n",
       "\n",
       "    .dataframe thead th {\n",
       "        text-align: right;\n",
       "    }\n",
       "</style>\n",
       "<table border=\"1\" class=\"dataframe\">\n",
       "  <thead>\n",
       "    <tr style=\"text-align: right;\">\n",
       "      <th></th>\n",
       "      <th>IdVenta</th>\n",
       "      <th>Fecha</th>\n",
       "      <th>Cantidad</th>\n",
       "      <th>Monto</th>\n",
       "      <th>Producto</th>\n",
       "      <th>Color</th>\n",
       "      <th>Departamento</th>\n",
       "      <th>Revenue</th>\n",
       "      <th>Barrio</th>\n",
       "    </tr>\n",
       "  </thead>\n",
       "  <tbody>\n",
       "    <tr>\n",
       "      <th>0</th>\n",
       "      <td>1</td>\n",
       "      <td>2012-03-30</td>\n",
       "      <td>16.0</td>\n",
       "      <td>1600.0</td>\n",
       "      <td>Puerta</td>\n",
       "      <td>Negro</td>\n",
       "      <td>Montevideo</td>\n",
       "      <td>25600.0</td>\n",
       "      <td>1</td>\n",
       "    </tr>\n",
       "    <tr>\n",
       "      <th>1</th>\n",
       "      <td>2</td>\n",
       "      <td>2014-06-16</td>\n",
       "      <td>120.0</td>\n",
       "      <td>2400.0</td>\n",
       "      <td>Ventana</td>\n",
       "      <td>Negro</td>\n",
       "      <td>Durazno</td>\n",
       "      <td>288000.0</td>\n",
       "      <td>Sin datos</td>\n",
       "    </tr>\n",
       "    <tr>\n",
       "      <th>2</th>\n",
       "      <td>3</td>\n",
       "      <td>2014-08-20</td>\n",
       "      <td>61.0</td>\n",
       "      <td>520.0</td>\n",
       "      <td>Puerta</td>\n",
       "      <td>Negro</td>\n",
       "      <td>Paysandú</td>\n",
       "      <td>31720.0</td>\n",
       "      <td>Sin datos</td>\n",
       "    </tr>\n",
       "    <tr>\n",
       "      <th>3</th>\n",
       "      <td>4</td>\n",
       "      <td>2010-02-16</td>\n",
       "      <td>4.0</td>\n",
       "      <td>780.0</td>\n",
       "      <td>Hazada</td>\n",
       "      <td>Rojo</td>\n",
       "      <td>Salto</td>\n",
       "      <td>3120.0</td>\n",
       "      <td>Sin datos</td>\n",
       "    </tr>\n",
       "    <tr>\n",
       "      <th>4</th>\n",
       "      <td>5</td>\n",
       "      <td>2009-06-11</td>\n",
       "      <td>16.0</td>\n",
       "      <td>520.0</td>\n",
       "      <td>Chapa 3,2</td>\n",
       "      <td>Negro</td>\n",
       "      <td>Cerro Largo</td>\n",
       "      <td>8320.0</td>\n",
       "      <td>Sin datos</td>\n",
       "    </tr>\n",
       "  </tbody>\n",
       "</table>\n",
       "</div>"
      ],
      "text/plain": [
       "   IdVenta      Fecha  Cantidad   Monto   Producto  Color Departamento  \\\n",
       "0        1 2012-03-30      16.0  1600.0     Puerta  Negro   Montevideo   \n",
       "1        2 2014-06-16     120.0  2400.0    Ventana  Negro      Durazno   \n",
       "2        3 2014-08-20      61.0   520.0     Puerta  Negro     Paysandú   \n",
       "3        4 2010-02-16       4.0   780.0     Hazada   Rojo        Salto   \n",
       "4        5 2009-06-11      16.0   520.0  Chapa 3,2  Negro  Cerro Largo   \n",
       "\n",
       "    Revenue     Barrio  \n",
       "0   25600.0          1  \n",
       "1  288000.0  Sin datos  \n",
       "2   31720.0  Sin datos  \n",
       "3    3120.0  Sin datos  \n",
       "4    8320.0  Sin datos  "
      ]
     },
     "execution_count": 2,
     "metadata": {},
     "output_type": "execute_result"
    }
   ],
   "source": [
    "print(\"Punto 1\")\n",
    "ventas = pd.read_excel('data_ventas.xlsx')\n",
    "ventas.head()"
   ]
  },
  {
   "cell_type": "code",
   "execution_count": null,
   "metadata": {},
   "outputs": [],
   "source": [
    "ventas.info()"
   ]
  },
  {
   "cell_type": "code",
   "execution_count": null,
   "metadata": {},
   "outputs": [],
   "source": [
    "ventas.describe()"
   ]
  },
  {
   "cell_type": "code",
   "execution_count": null,
   "metadata": {},
   "outputs": [],
   "source": [
    "print(\"Punto 1 - a\")\n",
    "#ventas_montevideo= ventas.query(\"Departamento == 'Montevideo'\")\n",
    "ventas_montevideo = ventas.loc[(ventas['Departamento'] == 'Montevideo')]\n",
    "ventas_montevideo.head()\n"
   ]
  },
  {
   "cell_type": "code",
   "execution_count": null,
   "metadata": {},
   "outputs": [],
   "source": [
    "print (\"Punto 1 - b\")\n",
    "#del ventas_montevideo['Color']\n",
    "ventas_montevideo = ventas_montevideo.drop(columns='Color')\n",
    "\n",
    "\n",
    "\n",
    "ventas_montevideo.head()"
   ]
  },
  {
   "cell_type": "code",
   "execution_count": null,
   "metadata": {},
   "outputs": [],
   "source": [
    "print(\"Punto 1 -c \")\n",
    "ventas_montevideo.info()"
   ]
  },
  {
   "cell_type": "code",
   "execution_count": null,
   "metadata": {},
   "outputs": [],
   "source": [
    "ventas_montevideo.isnull().sum()"
   ]
  },
  {
   "cell_type": "code",
   "execution_count": null,
   "metadata": {},
   "outputs": [],
   "source": [
    "\n",
    "print(\"Revision de los datos\")\n",
    "print(\"Buscar que tenga Cantidad o Monto 0\")\n",
    "condicion1 = ventas_montevideo[\"Cantidad\"]==0\n",
    "condicion2 = ventas_montevideo[\"Monto\"]==0\n",
    "ventas_montevideo.loc[condicion1 | condicion2]"
   ]
  },
  {
   "cell_type": "code",
   "execution_count": null,
   "metadata": {},
   "outputs": [],
   "source": [
    "print(\"Buscar que tenga Cantidad o Monto null\")\n",
    "#ventas_montevideo.loc[(ventas_montevideo['Cantidad'].isnull()) | (ventas_montevideo['Monto'].isnull())]\n",
    "condicion3 = ventas_montevideo[\"Cantidad\"].isnull()\n",
    "condicion4 = ventas_montevideo[\"Monto\"].isnull()\n",
    "\n",
    "print(\"Revision de los datos\")\n",
    "print(\"Buscar que tenga cantidad o Monto null\")\n",
    "\n",
    "ventas_montevideo.loc[condicion3 | condicion4]"
   ]
  },
  {
   "cell_type": "code",
   "execution_count": null,
   "metadata": {},
   "outputs": [],
   "source": [
    "ventas_montevideo.loc[condicion3 & (~(condicion4)) & (ventas_montevideo[\"Revenue\"]==0)]"
   ]
  },
  {
   "cell_type": "code",
   "execution_count": null,
   "metadata": {},
   "outputs": [],
   "source": [
    "import numpy as np\n",
    "import math\n",
    "def  mediaCantidad(fila):\n",
    "    if math.isnan(fila[\"Cantidad\"]):\n",
    "        filtroProducto = ventas_montevideo[\"Producto\"] == fila[\"Producto\"]\n",
    "        filtroDepartamento=ventas_montevideo[\"Departamento\"]==fila[\"Departamento\"]\n",
    "        mediaCantidad = ventas_montevideo.loc[(filtroProducto & filtroDepartamento),\"Cantidad\"].mean(skipna=True).astype('float')\n",
    "        return mediaCantidad\n",
    "    else:\n",
    "        return fila[\"Cantidad\"]\n",
    "cantidades = ventas_montevideo.apply(mediaCantidad,axis='columns')\n",
    "cantidades\n",
    "ventas_montevideo[\"Cantidad\"]=cantidades\n",
    "\n"
   ]
  },
  {
   "cell_type": "code",
   "execution_count": null,
   "metadata": {},
   "outputs": [],
   "source": [
    "def  mediaMonto(fila):\n",
    "    if math.isnan(fila[\"Monto\"]):\n",
    "        filtroProducto = ventas_montevideo[\"Producto\"] == fila[\"Producto\"]\n",
    "        filtroDepartamento=ventas_montevideo[\"Departamento\"]==fila[\"Departamento\"]\n",
    "        mediaMonto = ventas_montevideo.loc[(filtroProducto & filtroDepartamento),\"Monto\"].mean(skipna=True).astype('float')\n",
    "        return mediaMonto\n",
    "    else:\n",
    "        \n",
    "        return fila[\"Monto\"]\n",
    "\n",
    "montos = ventas_montevideo.apply(mediaMonto,axis='columns')\n",
    "montos\n",
    "\n",
    "ventas_montevideo[\"Monto\"]=montos\n"
   ]
  },
  {
   "cell_type": "code",
   "execution_count": null,
   "metadata": {},
   "outputs": [],
   "source": [
    "ventas_montevideo[\"Revenue\"]=ventas_montevideo[\"Monto\"]*ventas_montevideo[\"Cantidad\"]"
   ]
  },
  {
   "cell_type": "code",
   "execution_count": null,
   "metadata": {},
   "outputs": [],
   "source": [
    "ventas_montevideo['Fecha'] = pd.to_datetime(ventas_montevideo['Fecha'], format=\"%d/%m/%Y\")\n",
    "moda = ventas_montevideo[\"Fecha\"].mode()\n",
    "moda\n",
    "ventas_montevideo.fillna({'Fecha' : moda}, inplace = True)\n",
    "ventas_montevideo['Fecha'] = ventas_montevideo['Fecha'].dt.strftime('%d/%m/%Y')\n",
    "#ventas_montevideo.describe()\n",
    "#fechasNulas = ventas_montevideo[\"Fecha\"].isna()\n",
    "#fechasNulas.value_counts()\n",
    "ventas_montevideo\n",
    "\n"
   ]
  },
  {
   "cell_type": "code",
   "execution_count": null,
   "metadata": {},
   "outputs": [],
   "source": [
    "import locale\n",
    "\n",
    "# Cambiar el idioma a español\n",
    "locale.setlocale(locale.LC_TIME, \"es_ES\")\n",
    "\n",
    "ventas_montevideo"
   ]
  },
  {
   "cell_type": "code",
   "execution_count": null,
   "metadata": {},
   "outputs": [],
   "source": [
    "## Variables categoricas y numericas\n",
    "df_categoricas = ventas_montevideo.select_dtypes(include=['object','category'],exclude=['datetime'])\n",
    "df_numericas = ventas_montevideo.select_dtypes(include='number')\n",
    "df_categoricas.info()\n",
    "\n",
    "df_numericas.info()\n",
    "\n",
    "for columna in ventas_montevideo.columns:\n",
    "    print(ventas_montevideo[columna].value_counts()) # Vemos que valores tienen las columnas categóricas"
   ]
  },
  {
   "cell_type": "code",
   "execution_count": null,
   "metadata": {},
   "outputs": [],
   "source": [
    "df_categoricas.describe()\n",
    "ventas_montevideo.describe()\n",
    "ventas_montevideo.head()"
   ]
  },
  {
   "cell_type": "code",
   "execution_count": null,
   "metadata": {},
   "outputs": [],
   "source": [
    "# Borrar na\n",
    "#ventas['Barrio'] = ventas['Barrio'].replace('Sin datos', np.nan) # Reemplazo textual\n",
    "# o\n",
    "ventas_montevideo.loc[ventas['Barrio'].str.contains('sin datos', case=False, na= False), 'Barrio'] = np.nan # Reemplazo 'like'\n",
    "ventas_montevideo.dropna(    \n",
    "    axis='index',\n",
    "    how='any',\n",
    "    subset=['Producto','Departamento','Barrio'],\n",
    "    inplace= True,\n",
    "    ignore_index=True\n",
    ")\n",
    "ventas_montevideo.head()\n"
   ]
  }
 ],
 "metadata": {
  "kernelspec": {
   "display_name": "envWindows",
   "language": "python",
   "name": "python3"
  },
  "language_info": {
   "codemirror_mode": {
    "name": "ipython",
    "version": 3
   },
   "file_extension": ".py",
   "mimetype": "text/x-python",
   "name": "python",
   "nbconvert_exporter": "python",
   "pygments_lexer": "ipython3",
   "version": "3.12.3"
  }
 },
 "nbformat": 4,
 "nbformat_minor": 2
}
