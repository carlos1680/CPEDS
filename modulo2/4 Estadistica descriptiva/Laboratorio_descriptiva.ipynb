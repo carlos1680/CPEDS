{
  "nbformat": 4,
  "nbformat_minor": 0,
  "metadata": {
    "colab": {
      "name": "Lab_ED",
      "provenance": []
    },
    "kernelspec": {
      "name": "python3",
      "display_name": "Python 3"
    },
    "language_info": {
      "name": "python"
    }
  },
  "cells": [
    {
      "cell_type": "code",
      "metadata": {
        "colab": {
          "base_uri": "https://localhost:8080/",
          "height": 234
        },
        "id": "J68gFId-jeYc",
        "outputId": "b4c74436-98b3-40e5-cf99-b7014468aabe"
      },
      "source": [
        "import pandas as pd\n",
        "fortune = pd.read_csv(\"fortune1000.csv\", index_col = 'Rank')\n",
        "fortune.head()"
      ],
      "execution_count": 1,
      "outputs": [
        {
          "output_type": "execute_result",
          "data": {
            "text/html": [
              "<div>\n",
              "<style scoped>\n",
              "    .dataframe tbody tr th:only-of-type {\n",
              "        vertical-align: middle;\n",
              "    }\n",
              "\n",
              "    .dataframe tbody tr th {\n",
              "        vertical-align: top;\n",
              "    }\n",
              "\n",
              "    .dataframe thead th {\n",
              "        text-align: right;\n",
              "    }\n",
              "</style>\n",
              "<table border=\"1\" class=\"dataframe\">\n",
              "  <thead>\n",
              "    <tr style=\"text-align: right;\">\n",
              "      <th></th>\n",
              "      <th>Company</th>\n",
              "      <th>Sector</th>\n",
              "      <th>Industry</th>\n",
              "      <th>Location</th>\n",
              "      <th>Revenue</th>\n",
              "      <th>Profits</th>\n",
              "      <th>Employees</th>\n",
              "    </tr>\n",
              "    <tr>\n",
              "      <th>Rank</th>\n",
              "      <th></th>\n",
              "      <th></th>\n",
              "      <th></th>\n",
              "      <th></th>\n",
              "      <th></th>\n",
              "      <th></th>\n",
              "      <th></th>\n",
              "    </tr>\n",
              "  </thead>\n",
              "  <tbody>\n",
              "    <tr>\n",
              "      <th>1</th>\n",
              "      <td>Walmart</td>\n",
              "      <td>Retailing</td>\n",
              "      <td>General Merchandisers</td>\n",
              "      <td>Bentonville, AR</td>\n",
              "      <td>482130</td>\n",
              "      <td>14694</td>\n",
              "      <td>2300000</td>\n",
              "    </tr>\n",
              "    <tr>\n",
              "      <th>2</th>\n",
              "      <td>Exxon Mobil</td>\n",
              "      <td>Energy</td>\n",
              "      <td>Petroleum Refining</td>\n",
              "      <td>Irving, TX</td>\n",
              "      <td>246204</td>\n",
              "      <td>16150</td>\n",
              "      <td>75600</td>\n",
              "    </tr>\n",
              "    <tr>\n",
              "      <th>3</th>\n",
              "      <td>Apple</td>\n",
              "      <td>Technology</td>\n",
              "      <td>Computers, Office Equipment</td>\n",
              "      <td>Cupertino, CA</td>\n",
              "      <td>233715</td>\n",
              "      <td>53394</td>\n",
              "      <td>110000</td>\n",
              "    </tr>\n",
              "    <tr>\n",
              "      <th>4</th>\n",
              "      <td>Berkshire Hathaway</td>\n",
              "      <td>Financials</td>\n",
              "      <td>Insurance: Property and Casualty (Stock)</td>\n",
              "      <td>Omaha, NE</td>\n",
              "      <td>210821</td>\n",
              "      <td>24083</td>\n",
              "      <td>331000</td>\n",
              "    </tr>\n",
              "    <tr>\n",
              "      <th>5</th>\n",
              "      <td>McKesson</td>\n",
              "      <td>Health Care</td>\n",
              "      <td>Wholesalers: Health Care</td>\n",
              "      <td>San Francisco, CA</td>\n",
              "      <td>181241</td>\n",
              "      <td>1476</td>\n",
              "      <td>70400</td>\n",
              "    </tr>\n",
              "  </tbody>\n",
              "</table>\n",
              "</div>"
            ],
            "text/plain": [
              "                 Company       Sector  ... Profits Employees\n",
              "Rank                                   ...                  \n",
              "1                Walmart    Retailing  ...   14694   2300000\n",
              "2            Exxon Mobil       Energy  ...   16150     75600\n",
              "3                  Apple   Technology  ...   53394    110000\n",
              "4     Berkshire Hathaway   Financials  ...   24083    331000\n",
              "5               McKesson  Health Care  ...    1476     70400\n",
              "\n",
              "[5 rows x 7 columns]"
            ]
          },
          "metadata": {
            "tags": []
          },
          "execution_count": 1
        }
      ]
    },
    {
      "cell_type": "markdown",
      "metadata": {
        "id": "f-MzvQ9ikhV2"
      },
      "source": [
        "## Función Groupby"
      ]
    },
    {
      "cell_type": "code",
      "metadata": {
        "id": "MAfnQ985jvbS"
      },
      "source": [
        "sectors = fortune.groupby(\"Sector\")"
      ],
      "execution_count": 3,
      "outputs": []
    },
    {
      "cell_type": "code",
      "metadata": {
        "colab": {
          "base_uri": "https://localhost:8080/"
        },
        "id": "_E8lfiSEkY5B",
        "outputId": "d7dd0824-694c-48fb-b0d3-fe10810936fd"
      },
      "source": [
        "type(fortune)"
      ],
      "execution_count": 4,
      "outputs": [
        {
          "output_type": "execute_result",
          "data": {
            "text/plain": [
              "pandas.core.frame.DataFrame"
            ]
          },
          "metadata": {
            "tags": []
          },
          "execution_count": 4
        }
      ]
    },
    {
      "cell_type": "code",
      "metadata": {
        "colab": {
          "base_uri": "https://localhost:8080/"
        },
        "id": "oOpJDiqrkljK",
        "outputId": "036a505c-1d85-454e-8080-9726b093c01f"
      },
      "source": [
        "type(sectors)"
      ],
      "execution_count": 5,
      "outputs": [
        {
          "output_type": "execute_result",
          "data": {
            "text/plain": [
              "pandas.core.groupby.generic.DataFrameGroupBy"
            ]
          },
          "metadata": {
            "tags": []
          },
          "execution_count": 5
        }
      ]
    },
    {
      "cell_type": "code",
      "metadata": {
        "colab": {
          "base_uri": "https://localhost:8080/"
        },
        "id": "CMNRzlZ8knpR",
        "outputId": "fc956960-1d0a-4624-b65e-7c5548243abd"
      },
      "source": [
        "len(sectors)"
      ],
      "execution_count": 6,
      "outputs": [
        {
          "output_type": "execute_result",
          "data": {
            "text/plain": [
              "21"
            ]
          },
          "metadata": {
            "tags": []
          },
          "execution_count": 6
        }
      ]
    },
    {
      "cell_type": "code",
      "metadata": {
        "colab": {
          "base_uri": "https://localhost:8080/"
        },
        "id": "yJAMkzW1kwqA",
        "outputId": "d1fbcb5c-b00d-4f2a-affc-5fd1b703ac6a"
      },
      "source": [
        "fortune[\"Sector\"].nunique()"
      ],
      "execution_count": 7,
      "outputs": [
        {
          "output_type": "execute_result",
          "data": {
            "text/plain": [
              "21"
            ]
          },
          "metadata": {
            "tags": []
          },
          "execution_count": 7
        }
      ]
    },
    {
      "cell_type": "code",
      "metadata": {
        "id": "2oNglHxMk1T4"
      },
      "source": [
        "sectors.size()"
      ],
      "execution_count": null,
      "outputs": []
    },
    {
      "cell_type": "code",
      "metadata": {
        "id": "anLpSogSlAfe"
      },
      "source": [
        "fortune[\"Sector\"].value_counts()"
      ],
      "execution_count": null,
      "outputs": []
    },
    {
      "cell_type": "markdown",
      "metadata": {
        "id": "MPVfkgDmlSrC"
      },
      "source": [
        "Algunos métodos con el grupby"
      ]
    },
    {
      "cell_type": "code",
      "metadata": {
        "colab": {
          "base_uri": "https://localhost:8080/",
          "height": 234
        },
        "id": "DkxrYLKhlHGg",
        "outputId": "4e9392ac-196a-41f9-c075-9a22c184d95b"
      },
      "source": [
        "sectors.first().head(5)"
      ],
      "execution_count": 15,
      "outputs": [
        {
          "output_type": "execute_result",
          "data": {
            "text/html": [
              "<div>\n",
              "<style scoped>\n",
              "    .dataframe tbody tr th:only-of-type {\n",
              "        vertical-align: middle;\n",
              "    }\n",
              "\n",
              "    .dataframe tbody tr th {\n",
              "        vertical-align: top;\n",
              "    }\n",
              "\n",
              "    .dataframe thead th {\n",
              "        text-align: right;\n",
              "    }\n",
              "</style>\n",
              "<table border=\"1\" class=\"dataframe\">\n",
              "  <thead>\n",
              "    <tr style=\"text-align: right;\">\n",
              "      <th></th>\n",
              "      <th>Company</th>\n",
              "      <th>Industry</th>\n",
              "      <th>Location</th>\n",
              "      <th>Revenue</th>\n",
              "      <th>Profits</th>\n",
              "      <th>Employees</th>\n",
              "    </tr>\n",
              "    <tr>\n",
              "      <th>Sector</th>\n",
              "      <th></th>\n",
              "      <th></th>\n",
              "      <th></th>\n",
              "      <th></th>\n",
              "      <th></th>\n",
              "      <th></th>\n",
              "    </tr>\n",
              "  </thead>\n",
              "  <tbody>\n",
              "    <tr>\n",
              "      <th>Aerospace &amp; Defense</th>\n",
              "      <td>Boeing</td>\n",
              "      <td>Aerospace and Defense</td>\n",
              "      <td>Chicago, IL</td>\n",
              "      <td>96114</td>\n",
              "      <td>5176</td>\n",
              "      <td>161400</td>\n",
              "    </tr>\n",
              "    <tr>\n",
              "      <th>Apparel</th>\n",
              "      <td>Nike</td>\n",
              "      <td>Apparel</td>\n",
              "      <td>Beaverton, OR</td>\n",
              "      <td>30601</td>\n",
              "      <td>3273</td>\n",
              "      <td>62600</td>\n",
              "    </tr>\n",
              "    <tr>\n",
              "      <th>Business Services</th>\n",
              "      <td>ManpowerGroup</td>\n",
              "      <td>Temporary Help</td>\n",
              "      <td>Milwaukee, WI</td>\n",
              "      <td>19330</td>\n",
              "      <td>419</td>\n",
              "      <td>27000</td>\n",
              "    </tr>\n",
              "    <tr>\n",
              "      <th>Chemicals</th>\n",
              "      <td>Dow Chemical</td>\n",
              "      <td>Chemicals</td>\n",
              "      <td>Midland, MI</td>\n",
              "      <td>48778</td>\n",
              "      <td>7685</td>\n",
              "      <td>49495</td>\n",
              "    </tr>\n",
              "    <tr>\n",
              "      <th>Energy</th>\n",
              "      <td>Exxon Mobil</td>\n",
              "      <td>Petroleum Refining</td>\n",
              "      <td>Irving, TX</td>\n",
              "      <td>246204</td>\n",
              "      <td>16150</td>\n",
              "      <td>75600</td>\n",
              "    </tr>\n",
              "  </tbody>\n",
              "</table>\n",
              "</div>"
            ],
            "text/plain": [
              "                           Company               Industry  ... Profits  Employees\n",
              "Sector                                                     ...                   \n",
              "Aerospace & Defense         Boeing  Aerospace and Defense  ...    5176     161400\n",
              "Apparel                       Nike                Apparel  ...    3273      62600\n",
              "Business Services    ManpowerGroup         Temporary Help  ...     419      27000\n",
              "Chemicals             Dow Chemical              Chemicals  ...    7685      49495\n",
              "Energy                 Exxon Mobil     Petroleum Refining  ...   16150      75600\n",
              "\n",
              "[5 rows x 6 columns]"
            ]
          },
          "metadata": {
            "tags": []
          },
          "execution_count": 15
        }
      ]
    },
    {
      "cell_type": "code",
      "metadata": {
        "colab": {
          "base_uri": "https://localhost:8080/",
          "height": 234
        },
        "id": "19rY6iRElp2F",
        "outputId": "c75e9cb4-d2e8-4ede-bcad-3c3a5841a790"
      },
      "source": [
        "sectors.last().head()"
      ],
      "execution_count": 16,
      "outputs": [
        {
          "output_type": "execute_result",
          "data": {
            "text/html": [
              "<div>\n",
              "<style scoped>\n",
              "    .dataframe tbody tr th:only-of-type {\n",
              "        vertical-align: middle;\n",
              "    }\n",
              "\n",
              "    .dataframe tbody tr th {\n",
              "        vertical-align: top;\n",
              "    }\n",
              "\n",
              "    .dataframe thead th {\n",
              "        text-align: right;\n",
              "    }\n",
              "</style>\n",
              "<table border=\"1\" class=\"dataframe\">\n",
              "  <thead>\n",
              "    <tr style=\"text-align: right;\">\n",
              "      <th></th>\n",
              "      <th>Company</th>\n",
              "      <th>Industry</th>\n",
              "      <th>Location</th>\n",
              "      <th>Revenue</th>\n",
              "      <th>Profits</th>\n",
              "      <th>Employees</th>\n",
              "    </tr>\n",
              "    <tr>\n",
              "      <th>Sector</th>\n",
              "      <th></th>\n",
              "      <th></th>\n",
              "      <th></th>\n",
              "      <th></th>\n",
              "      <th></th>\n",
              "      <th></th>\n",
              "    </tr>\n",
              "  </thead>\n",
              "  <tbody>\n",
              "    <tr>\n",
              "      <th>Aerospace &amp; Defense</th>\n",
              "      <td>Delta Tucker Holdings</td>\n",
              "      <td>Aerospace and Defense</td>\n",
              "      <td>McLean, VA</td>\n",
              "      <td>1923</td>\n",
              "      <td>-133</td>\n",
              "      <td>12000</td>\n",
              "    </tr>\n",
              "    <tr>\n",
              "      <th>Apparel</th>\n",
              "      <td>Guess</td>\n",
              "      <td>Apparel</td>\n",
              "      <td>Los Angeles, CA</td>\n",
              "      <td>2204</td>\n",
              "      <td>82</td>\n",
              "      <td>13500</td>\n",
              "    </tr>\n",
              "    <tr>\n",
              "      <th>Business Services</th>\n",
              "      <td>DeVry Education Group</td>\n",
              "      <td>Education</td>\n",
              "      <td>Downers Grove, IL</td>\n",
              "      <td>1910</td>\n",
              "      <td>140</td>\n",
              "      <td>11770</td>\n",
              "    </tr>\n",
              "    <tr>\n",
              "      <th>Chemicals</th>\n",
              "      <td>H.B. Fuller</td>\n",
              "      <td>Chemicals</td>\n",
              "      <td>St. Paul, MN</td>\n",
              "      <td>2084</td>\n",
              "      <td>87</td>\n",
              "      <td>4425</td>\n",
              "    </tr>\n",
              "    <tr>\n",
              "      <th>Energy</th>\n",
              "      <td>Portland General Electric</td>\n",
              "      <td>Utilities: Gas and Electric</td>\n",
              "      <td>Portland, OR</td>\n",
              "      <td>1898</td>\n",
              "      <td>172</td>\n",
              "      <td>2646</td>\n",
              "    </tr>\n",
              "  </tbody>\n",
              "</table>\n",
              "</div>"
            ],
            "text/plain": [
              "                                       Company  ... Employees\n",
              "Sector                                          ...          \n",
              "Aerospace & Defense      Delta Tucker Holdings  ...     12000\n",
              "Apparel                                  Guess  ...     13500\n",
              "Business Services        DeVry Education Group  ...     11770\n",
              "Chemicals                          H.B. Fuller  ...      4425\n",
              "Energy               Portland General Electric  ...      2646\n",
              "\n",
              "[5 rows x 6 columns]"
            ]
          },
          "metadata": {
            "tags": []
          },
          "execution_count": 16
        }
      ]
    },
    {
      "cell_type": "code",
      "metadata": {
        "colab": {
          "base_uri": "https://localhost:8080/"
        },
        "id": "1Jah7e8llW1p",
        "outputId": "60668d01-fb1c-4cbd-8d00-ff4fa2bf4614"
      },
      "source": [
        "sectors.groups"
      ],
      "execution_count": 18,
      "outputs": [
        {
          "output_type": "execute_result",
          "data": {
            "text/plain": [
              "{'Aerospace & Defense': [24, 45, 60, 88, 118, 120, 209, 245, 282, 378, 389, 490, 560, 605, 785, 788, 836, 903, 958, 987], 'Apparel': [91, 231, 340, 354, 448, 547, 575, 597, 683, 695, 726, 794, 877, 882, 917], 'Business Services': [144, 186, 199, 204, 221, 248, 249, 294, 307, 312, 355, 392, 404, 440, 467, 468, 481, 485, 492, 503, 545, 626, 635, 652, 677, 694, 714, 729, 734, 735, 737, 744, 767, 776, 777, 783, 791, 792, 796, 801, 803, 816, 819, 820, 869, 870, 886, 939, 951, 952, 993], 'Chemicals': [56, 101, 182, 189, 206, 253, 262, 277, 288, 296, 316, 538, 549, 555, 566, 580, 613, 624, 654, 668, 717, 720, 724, 758, 761, 829, 865, 898, 934, 949], 'Energy': [2, 14, 30, 32, 42, 65, 90, 95, 98, 104, 115, 117, 121, 162, 163, 165, 166, 175, 178, 188, 190, 192, 193, 198, 214, 216, 217, 223, 225, 229, 243, 246, 247, 257, 272, 274, 279, 289, 319, 322, 324, 343, 348, 349, 350, 363, 364, 384, 387, 388, 394, 402, 403, 410, 425, 437, 438, 445, 458, 475, 483, 493, 507, 522, 541, 548, 556, 558, 569, 571, 579, 598, 600, 606, 633, 650, 656, 662, 679, 692, 696, 703, 703, 706, 711, 715, 732, 742, 743, 745, 754, 772, 784, 798, 802, 810, 817, 826, 843, 850, ...], 'Engineering & Construction': [155, 156, 235, 260, 301, 314, 352, 381, 433, 478, 498, 501, 516, 572, 576, 640, 719, 738, 822, 863, 874, 892, 929, 963, 985, 994], 'Financials': [4, 16, 23, 26, 27, 29, 35, 40, 43, 49, 50, 61, 69, 73, 74, 76, 78, 81, 82, 83, 85, 100, 105, 112, 114, 131, 135, 137, 152, 171, 179, 184, 205, 210, 222, 226, 227, 232, 236, 250, 252, 259, 264, 265, 271, 273, 275, 283, 298, 306, 311, 318, 326, 329, 332, 344, 347, 367, 368, 376, 382, 398, 401, 411, 421, 436, 442, 449, 453, 453, 471, 472, 472, 476, 479, 482, 486, 488, 494, 497, 499, 506, 509, 510, 520, 529, 531, 536, 540, 551, 561, 568, 573, 590, 603, 609, 611, 646, 651, 663, ...], 'Food and Drug Stores': [7, 17, 19, 87, 107, 160, 181, 595, 614, 631, 669, 756, 809, 849, 928], 'Food, Beverages & Tobacco': [41, 44, 62, 66, 84, 94, 106, 149, 153, 161, 176, 207, 215, 242, 266, 304, 336, 337, 362, 397, 413, 429, 452, 456, 460, 535, 542, 567, 574, 587, 608, 615, 636, 664, 686, 702, 770, 787, 795, 804, 889, 902, 954], 'Health Care': [5, 6, 12, 21, 22, 33, 39, 46, 52, 55, 63, 72, 79, 86, 123, 124, 125, 130, 138, 140, 141, 168, 172, 200, 201, 202, 263, 268, 278, 286, 287, 290, 291, 305, 325, 358, 359, 372, 420, 430, 431, 447, 457, 465, 469, 515, 527, 537, 553, 559, 583, 618, 629, 661, 684, 693, 697, 708, 746, 749, 766, 775, 790, 799, 815, 818, 845, 868, 881, 883, 935, 960, 965, 977, 978], 'Hotels, Resturants & Leisure': [109, 146, 195, 218, 241, 254, 309, 371, 444, 466, 534, 546, 557, 562, 585, 731, 763, 764, 779, 797, 895, 915, 918, 941, 999], 'Household Products': [34, 151, 174, 256, 261, 328, 338, 345, 370, 434, 441, 450, 455, 533, 550, 554, 601, 665, 699, 716, 856, 890, 900, 907, 932, 950, 967, 992], 'Industrials': [11, 59, 75, 93, 97, 128, 134, 148, 211, 224, 360, 377, 396, 412, 419, 539, 544, 596, 622, 623, 630, 645, 655, 658, 666, 674, 690, 757, 782, 789, 806, 813, 823, 831, 832, 835, 841, 847, 866, 867, 873, 887, 942, 947, 964, 1000], 'Materials': [126, 127, 170, 244, 251, 303, 321, 341, 356, 373, 375, 383, 417, 418, 426, 435, 446, 480, 489, 514, 518, 577, 586, 616, 617, 620, 625, 628, 637, 639, 641, 660, 667, 687, 691, 751, 774, 793, 857, 885, 911, 982, 986], 'Media': [53, 96, 99, 203, 213, 255, 327, 366, 406, 414, 525, 530, 681, 705, 707, 722, 741, 752, 759, 762, 821, 913, 968, 969, 989], 'Motor Vehicles & Parts': [8, 9, 70, 147, 154, 169, 281, 310, 334, 339, 424, 428, 470, 588, 591, 604, 647, 670, 718, 739, 811, 957, 961, 979], 'Retailing': [1, 15, 28, 38, 47, 71, 89, 103, 111, 132, 136, 139, 143, 145, 177, 180, 191, 196, 197, 228, 234, 237, 238, 240, 258, 267, 269, 280, 293, 297, 299, 302, 330, 342, 346, 361, 365, 374, 379, 380, 393, 415, 427, 439, 495, 500, 502, 511, 512, 517, 523, 582, 592, 602, 607, 610, 621, 643, 644, 648, 657, 675, 689, 721, 748, 771, 773, 807, 812, 824, 825, 827, 840, 876, 894, 899, 922, 937, 940, 973], 'Technology': [3, 18, 20, 25, 31, 36, 51, 54, 77, 110, 113, 133, 150, 157, 158, 164, 173, 194, 219, 220, 230, 233, 284, 295, 300, 308, 313, 331, 385, 386, 400, 408, 409, 422, 451, 462, 464, 487, 491, 504, 505, 508, 513, 519, 524, 532, 543, 552, 563, 565, 584, 589, 593, 594, 612, 632, 634, 638, 649, 659, 673, 676, 678, 682, 688, 700, 725, 733, 736, 753, 760, 769, 778, 805, 830, 834, 842, 854, 864, 871, 888, 891, 893, 896, 904, 905, 906, 909, 912, 914, 919, 927, 931, 943, 944, 946, 956, 970, 971, 975, ...], 'Telecommunications': [10, 13, 37, 116, 159, 187, 292, 333, 399, 443, 461, 496, 526, 619, 786], 'Transportation': [48, 58, 67, 68, 80, 129, 142, 208, 239, 270, 353, 390, 395, 405, 407, 416, 432, 459, 521, 528, 570, 578, 642, 672, 709, 713, 740, 800, 814, 858, 884, 930, 933, 945, 972, 974], 'Wholesalers': [57, 64, 92, 102, 108, 119, 122, 167, 183, 185, 212, 276, 285, 315, 317, 320, 323, 335, 351, 357, 369, 391, 423, 463, 474, 477, 484, 564, 581, 599, 627, 653, 685, 727, 747, 780, 808, 837, 875, 991]}"
            ]
          },
          "metadata": {
            "tags": []
          },
          "execution_count": 18
        }
      ]
    },
    {
      "cell_type": "code",
      "metadata": {
        "id": "2nBCMhUzlgGY"
      },
      "source": [
        "sectors.get_group('Energy')"
      ],
      "execution_count": null,
      "outputs": []
    },
    {
      "cell_type": "markdown",
      "metadata": {
        "id": "QlxAkWgLoWa9"
      },
      "source": [
        "Operaciones con datasets agrupados"
      ]
    },
    {
      "cell_type": "code",
      "metadata": {
        "id": "gNlZzBjamIq5"
      },
      "source": [
        "sectors.max()\n",
        "sectors.min()"
      ],
      "execution_count": null,
      "outputs": []
    },
    {
      "cell_type": "code",
      "metadata": {
        "id": "QhnlPPgfm3P4"
      },
      "source": [
        "sectors.sum()"
      ],
      "execution_count": null,
      "outputs": []
    },
    {
      "cell_type": "code",
      "metadata": {
        "id": "vNeAy4wkngW3"
      },
      "source": [
        "round(sectors.mean(),1)"
      ],
      "execution_count": null,
      "outputs": []
    },
    {
      "cell_type": "code",
      "metadata": {
        "id": "_cUJCNWVnu2I"
      },
      "source": [
        "sectors[\"Revenue\"].sum()"
      ],
      "execution_count": null,
      "outputs": []
    },
    {
      "cell_type": "code",
      "metadata": {
        "id": "4A8A0g4woBnv"
      },
      "source": [
        "sectors[\"Profits\"].min()"
      ],
      "execution_count": null,
      "outputs": []
    },
    {
      "cell_type": "code",
      "metadata": {
        "id": "Bdmk3D9doMG3"
      },
      "source": [
        "sectors[[\"Revenue\", \"Profits\"]].sum()"
      ],
      "execution_count": null,
      "outputs": []
    },
    {
      "cell_type": "markdown",
      "metadata": {
        "id": "Ev3WwkQXo5nT"
      },
      "source": [
        "Agrupación por varias columnas"
      ]
    },
    {
      "cell_type": "code",
      "metadata": {
        "id": "njpQrexWofTg"
      },
      "source": [
        "sectors = fortune.groupby([\"Sector\", \"Industry\"])"
      ],
      "execution_count": 37,
      "outputs": []
    },
    {
      "cell_type": "code",
      "metadata": {
        "colab": {
          "base_uri": "https://localhost:8080/"
        },
        "id": "h7p3yBXepCGQ",
        "outputId": "67fd0b43-5545-4c5c-9910-7c955004d98e"
      },
      "source": [
        "sectors.size().head(10)"
      ],
      "execution_count": 39,
      "outputs": [
        {
          "output_type": "execute_result",
          "data": {
            "text/plain": [
              "Sector               Industry                        \n",
              "Aerospace & Defense  Aerospace and Defense               20\n",
              "Apparel              Apparel                             15\n",
              "Business Services    Advertising, marketing               2\n",
              "                     Diversified Outsourcing Services    14\n",
              "                     Education                            3\n",
              "                     Financial Data Services             19\n",
              "                     Miscellaneous                        3\n",
              "                     Temporary Help                       5\n",
              "                     Waste Management                     5\n",
              "Chemicals            Chemicals                           30\n",
              "dtype: int64"
            ]
          },
          "metadata": {
            "tags": []
          },
          "execution_count": 39
        }
      ]
    },
    {
      "cell_type": "code",
      "metadata": {
        "id": "Bca5WyZRpcpo"
      },
      "source": [
        "sectors.sum()"
      ],
      "execution_count": null,
      "outputs": []
    },
    {
      "cell_type": "code",
      "metadata": {
        "colab": {
          "base_uri": "https://localhost:8080/"
        },
        "id": "dHOWWjWmpkk3",
        "outputId": "76fd38a4-c6b7-44ee-ffa5-a7a22646285e"
      },
      "source": [
        "sectors[\"Revenue\"].mean()"
      ],
      "execution_count": 43,
      "outputs": [
        {
          "output_type": "execute_result",
          "data": {
            "text/plain": [
              "Sector               Industry                                     \n",
              "Aerospace & Defense  Aerospace and Defense                            17897.000000\n",
              "Apparel              Apparel                                           6397.866667\n",
              "Business Services    Advertising, marketing                           11374.000000\n",
              "                     Diversified Outsourcing Services                  4630.642857\n",
              "                     Education                                         2495.000000\n",
              "                                                                          ...     \n",
              "Transportation       Trucking, Truck Leasing                           3994.444444\n",
              "Wholesalers          Miscellaneous                                     8982.000000\n",
              "                     Wholesalers: Diversified                          7045.520000\n",
              "                     Wholesalers: Electronics and Office Equipment    18488.250000\n",
              "                     Wholesalers: Food and Grocery                    18629.000000\n",
              "Name: Revenue, Length: 79, dtype: float64"
            ]
          },
          "metadata": {
            "tags": []
          },
          "execution_count": 43
        }
      ]
    },
    {
      "cell_type": "markdown",
      "metadata": {
        "id": "bIJuiF8kp4tk"
      },
      "source": [
        "Función agg()"
      ]
    },
    {
      "cell_type": "code",
      "metadata": {
        "id": "C3q7eBiYpuDB"
      },
      "source": [
        "sectors = fortune.groupby('Sector')"
      ],
      "execution_count": 44,
      "outputs": []
    },
    {
      "cell_type": "code",
      "metadata": {
        "id": "eGU53rCnqHw5"
      },
      "source": [
        "sectors.agg({\n",
        "    \"Revenue\" : \"sum\",\n",
        "    \"Profits\" : \"sum\",\n",
        "    \"Employees\" : \"mean\"\n",
        "})"
      ],
      "execution_count": null,
      "outputs": []
    },
    {
      "cell_type": "code",
      "metadata": {
        "colab": {
          "base_uri": "https://localhost:8080/",
          "height": 758
        },
        "id": "6YvJIPEpqjBe",
        "outputId": "610942b6-59b5-4611-cea2-bd677a2aabf4"
      },
      "source": [
        "sectors.agg([\"size\", \"sum\", \"median\"])"
      ],
      "execution_count": 47,
      "outputs": [
        {
          "output_type": "execute_result",
          "data": {
            "text/html": [
              "<div>\n",
              "<style scoped>\n",
              "    .dataframe tbody tr th:only-of-type {\n",
              "        vertical-align: middle;\n",
              "    }\n",
              "\n",
              "    .dataframe tbody tr th {\n",
              "        vertical-align: top;\n",
              "    }\n",
              "\n",
              "    .dataframe thead tr th {\n",
              "        text-align: left;\n",
              "    }\n",
              "\n",
              "    .dataframe thead tr:last-of-type th {\n",
              "        text-align: right;\n",
              "    }\n",
              "</style>\n",
              "<table border=\"1\" class=\"dataframe\">\n",
              "  <thead>\n",
              "    <tr>\n",
              "      <th></th>\n",
              "      <th colspan=\"3\" halign=\"left\">Revenue</th>\n",
              "      <th colspan=\"3\" halign=\"left\">Profits</th>\n",
              "      <th colspan=\"3\" halign=\"left\">Employees</th>\n",
              "    </tr>\n",
              "    <tr>\n",
              "      <th></th>\n",
              "      <th>size</th>\n",
              "      <th>sum</th>\n",
              "      <th>median</th>\n",
              "      <th>size</th>\n",
              "      <th>sum</th>\n",
              "      <th>median</th>\n",
              "      <th>size</th>\n",
              "      <th>sum</th>\n",
              "      <th>median</th>\n",
              "    </tr>\n",
              "    <tr>\n",
              "      <th>Sector</th>\n",
              "      <th></th>\n",
              "      <th></th>\n",
              "      <th></th>\n",
              "      <th></th>\n",
              "      <th></th>\n",
              "      <th></th>\n",
              "      <th></th>\n",
              "      <th></th>\n",
              "      <th></th>\n",
              "    </tr>\n",
              "  </thead>\n",
              "  <tbody>\n",
              "    <tr>\n",
              "      <th>Aerospace &amp; Defense</th>\n",
              "      <td>20</td>\n",
              "      <td>357940</td>\n",
              "      <td>6832.0</td>\n",
              "      <td>20</td>\n",
              "      <td>28742</td>\n",
              "      <td>566.5</td>\n",
              "      <td>20</td>\n",
              "      <td>968057</td>\n",
              "      <td>24803.0</td>\n",
              "    </tr>\n",
              "    <tr>\n",
              "      <th>Apparel</th>\n",
              "      <td>15</td>\n",
              "      <td>95968</td>\n",
              "      <td>3963.0</td>\n",
              "      <td>15</td>\n",
              "      <td>8236</td>\n",
              "      <td>233.0</td>\n",
              "      <td>15</td>\n",
              "      <td>346397</td>\n",
              "      <td>13500.0</td>\n",
              "    </tr>\n",
              "    <tr>\n",
              "      <th>Business Services</th>\n",
              "      <td>51</td>\n",
              "      <td>272195</td>\n",
              "      <td>3160.0</td>\n",
              "      <td>51</td>\n",
              "      <td>28227</td>\n",
              "      <td>296.0</td>\n",
              "      <td>51</td>\n",
              "      <td>1361050</td>\n",
              "      <td>13000.0</td>\n",
              "    </tr>\n",
              "    <tr>\n",
              "      <th>Chemicals</th>\n",
              "      <td>30</td>\n",
              "      <td>243897</td>\n",
              "      <td>4224.0</td>\n",
              "      <td>30</td>\n",
              "      <td>22628</td>\n",
              "      <td>367.5</td>\n",
              "      <td>30</td>\n",
              "      <td>463651</td>\n",
              "      <td>7431.5</td>\n",
              "    </tr>\n",
              "    <tr>\n",
              "      <th>Energy</th>\n",
              "      <td>122</td>\n",
              "      <td>1517809</td>\n",
              "      <td>5271.0</td>\n",
              "      <td>122</td>\n",
              "      <td>-73447</td>\n",
              "      <td>188.5</td>\n",
              "      <td>122</td>\n",
              "      <td>1188927</td>\n",
              "      <td>5301.5</td>\n",
              "    </tr>\n",
              "    <tr>\n",
              "      <th>Engineering &amp; Construction</th>\n",
              "      <td>26</td>\n",
              "      <td>153983</td>\n",
              "      <td>4564.5</td>\n",
              "      <td>26</td>\n",
              "      <td>5304</td>\n",
              "      <td>150.5</td>\n",
              "      <td>26</td>\n",
              "      <td>406708</td>\n",
              "      <td>7380.0</td>\n",
              "    </tr>\n",
              "    <tr>\n",
              "      <th>Financials</th>\n",
              "      <td>139</td>\n",
              "      <td>2217159</td>\n",
              "      <td>5674.0</td>\n",
              "      <td>139</td>\n",
              "      <td>260209</td>\n",
              "      <td>583.0</td>\n",
              "      <td>139</td>\n",
              "      <td>3359948</td>\n",
              "      <td>7621.0</td>\n",
              "    </tr>\n",
              "    <tr>\n",
              "      <th>Food and Drug Stores</th>\n",
              "      <td>15</td>\n",
              "      <td>483769</td>\n",
              "      <td>3971.0</td>\n",
              "      <td>15</td>\n",
              "      <td>16759</td>\n",
              "      <td>192.0</td>\n",
              "      <td>15</td>\n",
              "      <td>1395398</td>\n",
              "      <td>20000.0</td>\n",
              "    </tr>\n",
              "    <tr>\n",
              "      <th>Food, Beverages &amp; Tobacco</th>\n",
              "      <td>43</td>\n",
              "      <td>555967</td>\n",
              "      <td>6028.0</td>\n",
              "      <td>43</td>\n",
              "      <td>51417</td>\n",
              "      <td>498.0</td>\n",
              "      <td>43</td>\n",
              "      <td>1211632</td>\n",
              "      <td>11500.0</td>\n",
              "    </tr>\n",
              "    <tr>\n",
              "      <th>Health Care</th>\n",
              "      <td>75</td>\n",
              "      <td>1614707</td>\n",
              "      <td>7098.0</td>\n",
              "      <td>75</td>\n",
              "      <td>106114</td>\n",
              "      <td>346.0</td>\n",
              "      <td>75</td>\n",
              "      <td>2678289</td>\n",
              "      <td>18800.0</td>\n",
              "    </tr>\n",
              "    <tr>\n",
              "      <th>Hotels, Resturants &amp; Leisure</th>\n",
              "      <td>25</td>\n",
              "      <td>169546</td>\n",
              "      <td>4378.0</td>\n",
              "      <td>25</td>\n",
              "      <td>20697</td>\n",
              "      <td>195.0</td>\n",
              "      <td>25</td>\n",
              "      <td>2484245</td>\n",
              "      <td>46500.0</td>\n",
              "    </tr>\n",
              "    <tr>\n",
              "      <th>Household Products</th>\n",
              "      <td>28</td>\n",
              "      <td>234737</td>\n",
              "      <td>4553.0</td>\n",
              "      <td>28</td>\n",
              "      <td>14428</td>\n",
              "      <td>274.0</td>\n",
              "      <td>28</td>\n",
              "      <td>646038</td>\n",
              "      <td>16561.0</td>\n",
              "    </tr>\n",
              "    <tr>\n",
              "      <th>Industrials</th>\n",
              "      <td>46</td>\n",
              "      <td>497581</td>\n",
              "      <td>3451.5</td>\n",
              "      <td>46</td>\n",
              "      <td>20764</td>\n",
              "      <td>215.0</td>\n",
              "      <td>46</td>\n",
              "      <td>1545229</td>\n",
              "      <td>12850.0</td>\n",
              "    </tr>\n",
              "    <tr>\n",
              "      <th>Materials</th>\n",
              "      <td>43</td>\n",
              "      <td>259145</td>\n",
              "      <td>4160.0</td>\n",
              "      <td>43</td>\n",
              "      <td>4428</td>\n",
              "      <td>142.0</td>\n",
              "      <td>43</td>\n",
              "      <td>638123</td>\n",
              "      <td>12000.0</td>\n",
              "    </tr>\n",
              "    <tr>\n",
              "      <th>Media</th>\n",
              "      <td>25</td>\n",
              "      <td>220764</td>\n",
              "      <td>3242.0</td>\n",
              "      <td>25</td>\n",
              "      <td>24347</td>\n",
              "      <td>151.0</td>\n",
              "      <td>25</td>\n",
              "      <td>550314</td>\n",
              "      <td>12200.0</td>\n",
              "    </tr>\n",
              "    <tr>\n",
              "      <th>Motor Vehicles &amp; Parts</th>\n",
              "      <td>24</td>\n",
              "      <td>482540</td>\n",
              "      <td>5752.0</td>\n",
              "      <td>24</td>\n",
              "      <td>25898</td>\n",
              "      <td>233.0</td>\n",
              "      <td>24</td>\n",
              "      <td>1082560</td>\n",
              "      <td>13550.0</td>\n",
              "    </tr>\n",
              "    <tr>\n",
              "      <th>Retailing</th>\n",
              "      <td>80</td>\n",
              "      <td>1465076</td>\n",
              "      <td>6671.5</td>\n",
              "      <td>80</td>\n",
              "      <td>47830</td>\n",
              "      <td>182.0</td>\n",
              "      <td>80</td>\n",
              "      <td>6227629</td>\n",
              "      <td>22704.0</td>\n",
              "    </tr>\n",
              "    <tr>\n",
              "      <th>Technology</th>\n",
              "      <td>102</td>\n",
              "      <td>1377600</td>\n",
              "      <td>4059.5</td>\n",
              "      <td>102</td>\n",
              "      <td>180473</td>\n",
              "      <td>373.0</td>\n",
              "      <td>102</td>\n",
              "      <td>3578949</td>\n",
              "      <td>12905.0</td>\n",
              "    </tr>\n",
              "    <tr>\n",
              "      <th>Telecommunications</th>\n",
              "      <td>15</td>\n",
              "      <td>461834</td>\n",
              "      <td>8229.0</td>\n",
              "      <td>15</td>\n",
              "      <td>48637</td>\n",
              "      <td>747.0</td>\n",
              "      <td>15</td>\n",
              "      <td>832468</td>\n",
              "      <td>18000.0</td>\n",
              "    </tr>\n",
              "    <tr>\n",
              "      <th>Transportation</th>\n",
              "      <td>36</td>\n",
              "      <td>408508</td>\n",
              "      <td>5215.0</td>\n",
              "      <td>36</td>\n",
              "      <td>44169</td>\n",
              "      <td>392.0</td>\n",
              "      <td>36</td>\n",
              "      <td>1536793</td>\n",
              "      <td>16664.0</td>\n",
              "    </tr>\n",
              "    <tr>\n",
              "      <th>Wholesalers</th>\n",
              "      <td>40</td>\n",
              "      <td>444800</td>\n",
              "      <td>7356.0</td>\n",
              "      <td>40</td>\n",
              "      <td>8233</td>\n",
              "      <td>128.0</td>\n",
              "      <td>40</td>\n",
              "      <td>525597</td>\n",
              "      <td>8700.0</td>\n",
              "    </tr>\n",
              "  </tbody>\n",
              "</table>\n",
              "</div>"
            ],
            "text/plain": [
              "                             Revenue           ... Employees         \n",
              "                                size      sum  ...       sum   median\n",
              "Sector                                         ...                   \n",
              "Aerospace & Defense               20   357940  ...    968057  24803.0\n",
              "Apparel                           15    95968  ...    346397  13500.0\n",
              "Business Services                 51   272195  ...   1361050  13000.0\n",
              "Chemicals                         30   243897  ...    463651   7431.5\n",
              "Energy                           122  1517809  ...   1188927   5301.5\n",
              "Engineering & Construction        26   153983  ...    406708   7380.0\n",
              "Financials                       139  2217159  ...   3359948   7621.0\n",
              "Food and Drug Stores              15   483769  ...   1395398  20000.0\n",
              "Food, Beverages & Tobacco         43   555967  ...   1211632  11500.0\n",
              "Health Care                       75  1614707  ...   2678289  18800.0\n",
              "Hotels, Resturants & Leisure      25   169546  ...   2484245  46500.0\n",
              "Household Products                28   234737  ...    646038  16561.0\n",
              "Industrials                       46   497581  ...   1545229  12850.0\n",
              "Materials                         43   259145  ...    638123  12000.0\n",
              "Media                             25   220764  ...    550314  12200.0\n",
              "Motor Vehicles & Parts            24   482540  ...   1082560  13550.0\n",
              "Retailing                         80  1465076  ...   6227629  22704.0\n",
              "Technology                       102  1377600  ...   3578949  12905.0\n",
              "Telecommunications                15   461834  ...    832468  18000.0\n",
              "Transportation                    36   408508  ...   1536793  16664.0\n",
              "Wholesalers                       40   444800  ...    525597   8700.0\n",
              "\n",
              "[21 rows x 9 columns]"
            ]
          },
          "metadata": {
            "tags": []
          },
          "execution_count": 47
        }
      ]
    },
    {
      "cell_type": "code",
      "metadata": {
        "id": "3vAmuX9eqqw5"
      },
      "source": [
        "sectors.agg({\n",
        "    \"Revenue\" : \"sum\",\n",
        "    \"Profits\" : [\"sum\", \"mean\"],\n",
        "    \"Employees\" : [\"size\", \"sum\"]\n",
        "})"
      ],
      "execution_count": null,
      "outputs": []
    },
    {
      "cell_type": "markdown",
      "metadata": {
        "id": "UirDjrkvrkox"
      },
      "source": [
        "## Función pivot_table()"
      ]
    },
    {
      "cell_type": "code",
      "metadata": {
        "id": "IhcgkOwSrmeO"
      },
      "source": [
        "import numpy as np\n",
        "mean_employees = fortune[\"Employees\"].mean()\n",
        "fortune[\"Company_size\"] = np.where(fortune[\"Employees\"] > mean_employees, \"Big\", \"Small\")"
      ],
      "execution_count": 50,
      "outputs": []
    },
    {
      "cell_type": "code",
      "metadata": {
        "colab": {
          "base_uri": "https://localhost:8080/"
        },
        "id": "ANUy-9OMrtn6",
        "outputId": "4db83edb-84ab-4472-e85e-92043458a638"
      },
      "source": [
        "fortune[\"Company_size\"].value_counts()"
      ],
      "execution_count": 53,
      "outputs": [
        {
          "output_type": "execute_result",
          "data": {
            "text/plain": [
              "Small    784\n",
              "Big      216\n",
              "Name: Company_size, dtype: int64"
            ]
          },
          "metadata": {
            "tags": []
          },
          "execution_count": 53
        }
      ]
    },
    {
      "cell_type": "code",
      "metadata": {
        "id": "TMIHrZrDruko"
      },
      "source": [
        "pd.pivot_table(data = fortune,\n",
        "               values = 'Revenue',\n",
        "               index = ['Sector'],\n",
        "               columns = ['Company_size'],\n",
        "               aggfunc = 'size')"
      ],
      "execution_count": null,
      "outputs": []
    },
    {
      "cell_type": "code",
      "metadata": {
        "colab": {
          "base_uri": "https://localhost:8080/",
          "height": 448
        },
        "id": "DNhwLIOIssJv",
        "outputId": "6c1cb6ca-4bb2-47c1-dd0d-1668d55f0a5a"
      },
      "source": [
        "pd.pivot_table(data = fortune,\n",
        "               values = 'Revenue',\n",
        "               index = ['Industry'],\n",
        "               columns = ['Company_size'],\n",
        "               aggfunc = 'size',\n",
        "               fill_value = 0)"
      ],
      "execution_count": 62,
      "outputs": [
        {
          "output_type": "execute_result",
          "data": {
            "text/html": [
              "<div>\n",
              "<style scoped>\n",
              "    .dataframe tbody tr th:only-of-type {\n",
              "        vertical-align: middle;\n",
              "    }\n",
              "\n",
              "    .dataframe tbody tr th {\n",
              "        vertical-align: top;\n",
              "    }\n",
              "\n",
              "    .dataframe thead th {\n",
              "        text-align: right;\n",
              "    }\n",
              "</style>\n",
              "<table border=\"1\" class=\"dataframe\">\n",
              "  <thead>\n",
              "    <tr style=\"text-align: right;\">\n",
              "      <th>Company_size</th>\n",
              "      <th>Big</th>\n",
              "      <th>Small</th>\n",
              "    </tr>\n",
              "    <tr>\n",
              "      <th>Industry</th>\n",
              "      <th></th>\n",
              "      <th></th>\n",
              "    </tr>\n",
              "  </thead>\n",
              "  <tbody>\n",
              "    <tr>\n",
              "      <th>Advertising, marketing</th>\n",
              "      <td>2</td>\n",
              "      <td>0</td>\n",
              "    </tr>\n",
              "    <tr>\n",
              "      <th>Aerospace and Defense</th>\n",
              "      <td>9</td>\n",
              "      <td>11</td>\n",
              "    </tr>\n",
              "    <tr>\n",
              "      <th>Airlines</th>\n",
              "      <td>4</td>\n",
              "      <td>5</td>\n",
              "    </tr>\n",
              "    <tr>\n",
              "      <th>Apparel</th>\n",
              "      <td>3</td>\n",
              "      <td>12</td>\n",
              "    </tr>\n",
              "    <tr>\n",
              "      <th>Automotive Retailing, Services</th>\n",
              "      <td>0</td>\n",
              "      <td>10</td>\n",
              "    </tr>\n",
              "    <tr>\n",
              "      <th>...</th>\n",
              "      <td>...</td>\n",
              "      <td>...</td>\n",
              "    </tr>\n",
              "    <tr>\n",
              "      <th>Waste Management</th>\n",
              "      <td>1</td>\n",
              "      <td>4</td>\n",
              "    </tr>\n",
              "    <tr>\n",
              "      <th>Wholesalers: Diversified</th>\n",
              "      <td>1</td>\n",
              "      <td>24</td>\n",
              "    </tr>\n",
              "    <tr>\n",
              "      <th>Wholesalers: Electronics and Office Equipment</th>\n",
              "      <td>1</td>\n",
              "      <td>7</td>\n",
              "    </tr>\n",
              "    <tr>\n",
              "      <th>Wholesalers: Food and Grocery</th>\n",
              "      <td>1</td>\n",
              "      <td>5</td>\n",
              "    </tr>\n",
              "    <tr>\n",
              "      <th>Wholesalers: Health Care</th>\n",
              "      <td>2</td>\n",
              "      <td>4</td>\n",
              "    </tr>\n",
              "  </tbody>\n",
              "</table>\n",
              "<p>73 rows × 2 columns</p>\n",
              "</div>"
            ],
            "text/plain": [
              "Company_size                                   Big  Small\n",
              "Industry                                                 \n",
              "Advertising, marketing                           2      0\n",
              "Aerospace and Defense                            9     11\n",
              "Airlines                                         4      5\n",
              "Apparel                                          3     12\n",
              "Automotive Retailing, Services                   0     10\n",
              "...                                            ...    ...\n",
              "Waste Management                                 1      4\n",
              "Wholesalers: Diversified                         1     24\n",
              "Wholesalers: Electronics and Office Equipment    1      7\n",
              "Wholesalers: Food and Grocery                    1      5\n",
              "Wholesalers: Health Care                         2      4\n",
              "\n",
              "[73 rows x 2 columns]"
            ]
          },
          "metadata": {
            "tags": []
          },
          "execution_count": 62
        }
      ]
    },
    {
      "cell_type": "code",
      "metadata": {
        "id": "XyqmxbxVtO1P"
      },
      "source": [
        "pd.pivot_table(data = fortune,\n",
        "               values = 'Revenue',\n",
        "               index = ['Sector','Industry'],\n",
        "               columns = ['Company_size'],\n",
        "               aggfunc = [\"sum\", 'size'],\n",
        "               fill_value = 0)"
      ],
      "execution_count": null,
      "outputs": []
    },
    {
      "cell_type": "markdown",
      "metadata": {
        "id": "pucC_wPPtqc5"
      },
      "source": [
        "## Función corr()"
      ]
    },
    {
      "cell_type": "code",
      "metadata": {
        "colab": {
          "base_uri": "https://localhost:8080/",
          "height": 141
        },
        "id": "5GARjRK4ttHt",
        "outputId": "9bcd66e8-5d5b-4ace-f7c0-0cb0b7af17f3"
      },
      "source": [
        "fortune.corr(method = 'pearson')"
      ],
      "execution_count": 64,
      "outputs": [
        {
          "output_type": "execute_result",
          "data": {
            "text/html": [
              "<div>\n",
              "<style scoped>\n",
              "    .dataframe tbody tr th:only-of-type {\n",
              "        vertical-align: middle;\n",
              "    }\n",
              "\n",
              "    .dataframe tbody tr th {\n",
              "        vertical-align: top;\n",
              "    }\n",
              "\n",
              "    .dataframe thead th {\n",
              "        text-align: right;\n",
              "    }\n",
              "</style>\n",
              "<table border=\"1\" class=\"dataframe\">\n",
              "  <thead>\n",
              "    <tr style=\"text-align: right;\">\n",
              "      <th></th>\n",
              "      <th>Revenue</th>\n",
              "      <th>Profits</th>\n",
              "      <th>Employees</th>\n",
              "    </tr>\n",
              "  </thead>\n",
              "  <tbody>\n",
              "    <tr>\n",
              "      <th>Revenue</th>\n",
              "      <td>1.000000</td>\n",
              "      <td>0.615181</td>\n",
              "      <td>0.725757</td>\n",
              "    </tr>\n",
              "    <tr>\n",
              "      <th>Profits</th>\n",
              "      <td>0.615181</td>\n",
              "      <td>1.000000</td>\n",
              "      <td>0.359126</td>\n",
              "    </tr>\n",
              "    <tr>\n",
              "      <th>Employees</th>\n",
              "      <td>0.725757</td>\n",
              "      <td>0.359126</td>\n",
              "      <td>1.000000</td>\n",
              "    </tr>\n",
              "  </tbody>\n",
              "</table>\n",
              "</div>"
            ],
            "text/plain": [
              "            Revenue   Profits  Employees\n",
              "Revenue    1.000000  0.615181   0.725757\n",
              "Profits    0.615181  1.000000   0.359126\n",
              "Employees  0.725757  0.359126   1.000000"
            ]
          },
          "metadata": {
            "tags": []
          },
          "execution_count": 64
        }
      ]
    }
  ]
}