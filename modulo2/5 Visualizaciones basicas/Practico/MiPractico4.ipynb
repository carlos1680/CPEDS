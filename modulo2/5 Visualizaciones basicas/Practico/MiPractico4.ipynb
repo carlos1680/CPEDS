{
 "cells": [
  {
   "cell_type": "code",
   "execution_count": 1,
   "metadata": {},
   "outputs": [],
   "source": [
    "import pandas as pd"
   ]
  },
  {
   "cell_type": "code",
   "execution_count": 2,
   "metadata": {},
   "outputs": [],
   "source": [
    "services = pd.read_excel('data_services.xlsx',parse_dates=[\"date_start\",\"date_end\"],date_format='mixed')"
   ]
  },
  {
   "cell_type": "code",
   "execution_count": 3,
   "metadata": {},
   "outputs": [
    {
     "data": {
      "text/html": [
       "<div>\n",
       "<style scoped>\n",
       "    .dataframe tbody tr th:only-of-type {\n",
       "        vertical-align: middle;\n",
       "    }\n",
       "\n",
       "    .dataframe tbody tr th {\n",
       "        vertical-align: top;\n",
       "    }\n",
       "\n",
       "    .dataframe thead th {\n",
       "        text-align: right;\n",
       "    }\n",
       "</style>\n",
       "<table border=\"1\" class=\"dataframe\">\n",
       "  <thead>\n",
       "    <tr style=\"text-align: right;\">\n",
       "      <th></th>\n",
       "      <th>id</th>\n",
       "      <th>first_name</th>\n",
       "      <th>last_name</th>\n",
       "      <th>gender</th>\n",
       "      <th>dpto</th>\n",
       "      <th>internal_cost</th>\n",
       "      <th>price</th>\n",
       "      <th>service</th>\n",
       "      <th>date_start</th>\n",
       "      <th>date_end</th>\n",
       "    </tr>\n",
       "  </thead>\n",
       "  <tbody>\n",
       "    <tr>\n",
       "      <th>0</th>\n",
       "      <td>1</td>\n",
       "      <td>Silva</td>\n",
       "      <td>Koba</td>\n",
       "      <td>Male</td>\n",
       "      <td>Cerro Largo</td>\n",
       "      <td>66.11</td>\n",
       "      <td>336.92</td>\n",
       "      <td>Análisis</td>\n",
       "      <td>2020-12-30</td>\n",
       "      <td>2021-05-31</td>\n",
       "    </tr>\n",
       "    <tr>\n",
       "      <th>1</th>\n",
       "      <td>2</td>\n",
       "      <td>Chrissy</td>\n",
       "      <td>Fudge</td>\n",
       "      <td>Polygender</td>\n",
       "      <td>Cerro Largo</td>\n",
       "      <td>20.07</td>\n",
       "      <td>52.00</td>\n",
       "      <td>Análisis</td>\n",
       "      <td>2021-01-18</td>\n",
       "      <td>2021-04-12</td>\n",
       "    </tr>\n",
       "    <tr>\n",
       "      <th>2</th>\n",
       "      <td>3</td>\n",
       "      <td>Danell</td>\n",
       "      <td>Waite</td>\n",
       "      <td>Male</td>\n",
       "      <td>Tacuarembó</td>\n",
       "      <td>12.13</td>\n",
       "      <td>316.88</td>\n",
       "      <td>Análisis</td>\n",
       "      <td>2021-01-18</td>\n",
       "      <td>2021-06-20</td>\n",
       "    </tr>\n",
       "    <tr>\n",
       "      <th>3</th>\n",
       "      <td>4</td>\n",
       "      <td>Oralia</td>\n",
       "      <td>Smolan</td>\n",
       "      <td>Polygender</td>\n",
       "      <td>Montevideo</td>\n",
       "      <td>94.64</td>\n",
       "      <td>298.46</td>\n",
       "      <td>Implementación de Software</td>\n",
       "      <td>2021-01-18</td>\n",
       "      <td>2021-07-13</td>\n",
       "    </tr>\n",
       "    <tr>\n",
       "      <th>4</th>\n",
       "      <td>5</td>\n",
       "      <td>Ericha</td>\n",
       "      <td>Ghione</td>\n",
       "      <td>Female</td>\n",
       "      <td>Colonia</td>\n",
       "      <td>132.62</td>\n",
       "      <td>259.76</td>\n",
       "      <td>Visualización</td>\n",
       "      <td>2021-02-25</td>\n",
       "      <td>2021-08-24</td>\n",
       "    </tr>\n",
       "  </tbody>\n",
       "</table>\n",
       "</div>"
      ],
      "text/plain": [
       "   id first_name last_name      gender         dpto  internal_cost   price  \\\n",
       "0   1      Silva      Koba        Male  Cerro Largo          66.11  336.92   \n",
       "1   2    Chrissy     Fudge  Polygender  Cerro Largo          20.07   52.00   \n",
       "2   3     Danell     Waite        Male   Tacuarembó          12.13  316.88   \n",
       "3   4     Oralia    Smolan  Polygender   Montevideo          94.64  298.46   \n",
       "4   5     Ericha    Ghione      Female      Colonia         132.62  259.76   \n",
       "\n",
       "                      service date_start   date_end  \n",
       "0                    Análisis 2020-12-30 2021-05-31  \n",
       "1                    Análisis 2021-01-18 2021-04-12  \n",
       "2                    Análisis 2021-01-18 2021-06-20  \n",
       "3  Implementación de Software 2021-01-18 2021-07-13  \n",
       "4               Visualización 2021-02-25 2021-08-24  "
      ]
     },
     "execution_count": 3,
     "metadata": {},
     "output_type": "execute_result"
    }
   ],
   "source": [
    "services.head()"
   ]
  },
  {
   "cell_type": "code",
   "execution_count": 4,
   "metadata": {},
   "outputs": [
    {
     "name": "stdout",
     "output_type": "stream",
     "text": [
      "<class 'pandas.core.frame.DataFrame'>\n",
      "RangeIndex: 150 entries, 0 to 149\n",
      "Data columns (total 10 columns):\n",
      " #   Column         Non-Null Count  Dtype         \n",
      "---  ------         --------------  -----         \n",
      " 0   id             150 non-null    int64         \n",
      " 1   first_name     138 non-null    object        \n",
      " 2   last_name      150 non-null    object        \n",
      " 3   gender         150 non-null    object        \n",
      " 4   dpto           139 non-null    object        \n",
      " 5   internal_cost  150 non-null    float64       \n",
      " 6   price          150 non-null    float64       \n",
      " 7   service        150 non-null    object        \n",
      " 8   date_start     150 non-null    datetime64[ns]\n",
      " 9   date_end       150 non-null    datetime64[ns]\n",
      "dtypes: datetime64[ns](2), float64(2), int64(1), object(5)\n",
      "memory usage: 11.8+ KB\n"
     ]
    }
   ],
   "source": [
    "services.info()"
   ]
  },
  {
   "cell_type": "code",
   "execution_count": 5,
   "metadata": {},
   "outputs": [],
   "source": [
    "services.fillna({'dpto': \"Extranjero\"},inplace= True)"
   ]
  },
  {
   "cell_type": "code",
   "execution_count": 6,
   "metadata": {},
   "outputs": [
    {
     "data": {
      "text/plain": [
       "0"
      ]
     },
     "execution_count": 6,
     "metadata": {},
     "output_type": "execute_result"
    }
   ],
   "source": [
    "services[\"dpto\"].isnull().sum()"
   ]
  },
  {
   "cell_type": "code",
   "execution_count": 7,
   "metadata": {},
   "outputs": [],
   "source": [
    "#services[\"nombre_completo\"] = services[\"first_name\"].fillna(\"Mr/Ms\")+ \" \" +services[\"last_name\"]\n",
    "services[\"nombre_completo\"]= services[\"first_name\"].fillna(\"Mr/Ms\").str.cat(services[\"last_name\"],sep=' ')\n"
   ]
  },
  {
   "cell_type": "code",
   "execution_count": 8,
   "metadata": {},
   "outputs": [
    {
     "data": {
      "text/html": [
       "<div>\n",
       "<style scoped>\n",
       "    .dataframe tbody tr th:only-of-type {\n",
       "        vertical-align: middle;\n",
       "    }\n",
       "\n",
       "    .dataframe tbody tr th {\n",
       "        vertical-align: top;\n",
       "    }\n",
       "\n",
       "    .dataframe thead th {\n",
       "        text-align: right;\n",
       "    }\n",
       "</style>\n",
       "<table border=\"1\" class=\"dataframe\">\n",
       "  <thead>\n",
       "    <tr style=\"text-align: right;\">\n",
       "      <th></th>\n",
       "      <th>id</th>\n",
       "      <th>first_name</th>\n",
       "      <th>last_name</th>\n",
       "      <th>gender</th>\n",
       "      <th>dpto</th>\n",
       "      <th>internal_cost</th>\n",
       "      <th>price</th>\n",
       "      <th>service</th>\n",
       "      <th>date_start</th>\n",
       "      <th>date_end</th>\n",
       "      <th>nombre_completo</th>\n",
       "    </tr>\n",
       "  </thead>\n",
       "  <tbody>\n",
       "    <tr>\n",
       "      <th>0</th>\n",
       "      <td>1</td>\n",
       "      <td>Silva</td>\n",
       "      <td>Koba</td>\n",
       "      <td>Male</td>\n",
       "      <td>Cerro Largo</td>\n",
       "      <td>66.11</td>\n",
       "      <td>336.92</td>\n",
       "      <td>Análisis</td>\n",
       "      <td>2020-12-30</td>\n",
       "      <td>2021-05-31</td>\n",
       "      <td>Silva Koba</td>\n",
       "    </tr>\n",
       "    <tr>\n",
       "      <th>1</th>\n",
       "      <td>2</td>\n",
       "      <td>Chrissy</td>\n",
       "      <td>Fudge</td>\n",
       "      <td>Polygender</td>\n",
       "      <td>Cerro Largo</td>\n",
       "      <td>20.07</td>\n",
       "      <td>52.00</td>\n",
       "      <td>Análisis</td>\n",
       "      <td>2021-01-18</td>\n",
       "      <td>2021-04-12</td>\n",
       "      <td>Chrissy Fudge</td>\n",
       "    </tr>\n",
       "    <tr>\n",
       "      <th>2</th>\n",
       "      <td>3</td>\n",
       "      <td>Danell</td>\n",
       "      <td>Waite</td>\n",
       "      <td>Male</td>\n",
       "      <td>Tacuarembó</td>\n",
       "      <td>12.13</td>\n",
       "      <td>316.88</td>\n",
       "      <td>Análisis</td>\n",
       "      <td>2021-01-18</td>\n",
       "      <td>2021-06-20</td>\n",
       "      <td>Danell Waite</td>\n",
       "    </tr>\n",
       "    <tr>\n",
       "      <th>3</th>\n",
       "      <td>4</td>\n",
       "      <td>Oralia</td>\n",
       "      <td>Smolan</td>\n",
       "      <td>Polygender</td>\n",
       "      <td>Montevideo</td>\n",
       "      <td>94.64</td>\n",
       "      <td>298.46</td>\n",
       "      <td>Implementación de Software</td>\n",
       "      <td>2021-01-18</td>\n",
       "      <td>2021-07-13</td>\n",
       "      <td>Oralia Smolan</td>\n",
       "    </tr>\n",
       "    <tr>\n",
       "      <th>4</th>\n",
       "      <td>5</td>\n",
       "      <td>Ericha</td>\n",
       "      <td>Ghione</td>\n",
       "      <td>Female</td>\n",
       "      <td>Colonia</td>\n",
       "      <td>132.62</td>\n",
       "      <td>259.76</td>\n",
       "      <td>Visualización</td>\n",
       "      <td>2021-02-25</td>\n",
       "      <td>2021-08-24</td>\n",
       "      <td>Ericha Ghione</td>\n",
       "    </tr>\n",
       "  </tbody>\n",
       "</table>\n",
       "</div>"
      ],
      "text/plain": [
       "   id first_name last_name      gender         dpto  internal_cost   price  \\\n",
       "0   1      Silva      Koba        Male  Cerro Largo          66.11  336.92   \n",
       "1   2    Chrissy     Fudge  Polygender  Cerro Largo          20.07   52.00   \n",
       "2   3     Danell     Waite        Male   Tacuarembó          12.13  316.88   \n",
       "3   4     Oralia    Smolan  Polygender   Montevideo          94.64  298.46   \n",
       "4   5     Ericha    Ghione      Female      Colonia         132.62  259.76   \n",
       "\n",
       "                      service date_start   date_end nombre_completo  \n",
       "0                    Análisis 2020-12-30 2021-05-31      Silva Koba  \n",
       "1                    Análisis 2021-01-18 2021-04-12   Chrissy Fudge  \n",
       "2                    Análisis 2021-01-18 2021-06-20    Danell Waite  \n",
       "3  Implementación de Software 2021-01-18 2021-07-13   Oralia Smolan  \n",
       "4               Visualización 2021-02-25 2021-08-24   Ericha Ghione  "
      ]
     },
     "execution_count": 8,
     "metadata": {},
     "output_type": "execute_result"
    }
   ],
   "source": [
    "services.head()"
   ]
  },
  {
   "cell_type": "code",
   "execution_count": 9,
   "metadata": {},
   "outputs": [],
   "source": [
    "services[\"date_start\"] = pd.to_datetime(services[\"date_start\"],format=\"mixed\")"
   ]
  },
  {
   "cell_type": "code",
   "execution_count": 10,
   "metadata": {},
   "outputs": [],
   "source": [
    "import datetime as dt\n",
    "services[\"tiempo_trabajado\"] = abs((services[\"date_end\"]-services[\"date_start\"])).dt.days"
   ]
  },
  {
   "cell_type": "code",
   "execution_count": 11,
   "metadata": {},
   "outputs": [
    {
     "data": {
      "text/html": [
       "<div>\n",
       "<style scoped>\n",
       "    .dataframe tbody tr th:only-of-type {\n",
       "        vertical-align: middle;\n",
       "    }\n",
       "\n",
       "    .dataframe tbody tr th {\n",
       "        vertical-align: top;\n",
       "    }\n",
       "\n",
       "    .dataframe thead th {\n",
       "        text-align: right;\n",
       "    }\n",
       "</style>\n",
       "<table border=\"1\" class=\"dataframe\">\n",
       "  <thead>\n",
       "    <tr style=\"text-align: right;\">\n",
       "      <th></th>\n",
       "      <th>id</th>\n",
       "      <th>first_name</th>\n",
       "      <th>last_name</th>\n",
       "      <th>gender</th>\n",
       "      <th>dpto</th>\n",
       "      <th>internal_cost</th>\n",
       "      <th>price</th>\n",
       "      <th>service</th>\n",
       "      <th>date_start</th>\n",
       "      <th>date_end</th>\n",
       "      <th>nombre_completo</th>\n",
       "      <th>tiempo_trabajado</th>\n",
       "    </tr>\n",
       "  </thead>\n",
       "  <tbody>\n",
       "    <tr>\n",
       "      <th>0</th>\n",
       "      <td>1</td>\n",
       "      <td>Silva</td>\n",
       "      <td>Koba</td>\n",
       "      <td>Male</td>\n",
       "      <td>Cerro Largo</td>\n",
       "      <td>66.11</td>\n",
       "      <td>336.92</td>\n",
       "      <td>Análisis</td>\n",
       "      <td>2020-12-30</td>\n",
       "      <td>2021-05-31</td>\n",
       "      <td>Silva Koba</td>\n",
       "      <td>152</td>\n",
       "    </tr>\n",
       "    <tr>\n",
       "      <th>1</th>\n",
       "      <td>2</td>\n",
       "      <td>Chrissy</td>\n",
       "      <td>Fudge</td>\n",
       "      <td>Polygender</td>\n",
       "      <td>Cerro Largo</td>\n",
       "      <td>20.07</td>\n",
       "      <td>52.00</td>\n",
       "      <td>Análisis</td>\n",
       "      <td>2021-01-18</td>\n",
       "      <td>2021-04-12</td>\n",
       "      <td>Chrissy Fudge</td>\n",
       "      <td>84</td>\n",
       "    </tr>\n",
       "    <tr>\n",
       "      <th>2</th>\n",
       "      <td>3</td>\n",
       "      <td>Danell</td>\n",
       "      <td>Waite</td>\n",
       "      <td>Male</td>\n",
       "      <td>Tacuarembó</td>\n",
       "      <td>12.13</td>\n",
       "      <td>316.88</td>\n",
       "      <td>Análisis</td>\n",
       "      <td>2021-01-18</td>\n",
       "      <td>2021-06-20</td>\n",
       "      <td>Danell Waite</td>\n",
       "      <td>153</td>\n",
       "    </tr>\n",
       "    <tr>\n",
       "      <th>3</th>\n",
       "      <td>4</td>\n",
       "      <td>Oralia</td>\n",
       "      <td>Smolan</td>\n",
       "      <td>Polygender</td>\n",
       "      <td>Montevideo</td>\n",
       "      <td>94.64</td>\n",
       "      <td>298.46</td>\n",
       "      <td>Implementación de Software</td>\n",
       "      <td>2021-01-18</td>\n",
       "      <td>2021-07-13</td>\n",
       "      <td>Oralia Smolan</td>\n",
       "      <td>176</td>\n",
       "    </tr>\n",
       "    <tr>\n",
       "      <th>4</th>\n",
       "      <td>5</td>\n",
       "      <td>Ericha</td>\n",
       "      <td>Ghione</td>\n",
       "      <td>Female</td>\n",
       "      <td>Colonia</td>\n",
       "      <td>132.62</td>\n",
       "      <td>259.76</td>\n",
       "      <td>Visualización</td>\n",
       "      <td>2021-02-25</td>\n",
       "      <td>2021-08-24</td>\n",
       "      <td>Ericha Ghione</td>\n",
       "      <td>180</td>\n",
       "    </tr>\n",
       "  </tbody>\n",
       "</table>\n",
       "</div>"
      ],
      "text/plain": [
       "   id first_name last_name      gender         dpto  internal_cost   price  \\\n",
       "0   1      Silva      Koba        Male  Cerro Largo          66.11  336.92   \n",
       "1   2    Chrissy     Fudge  Polygender  Cerro Largo          20.07   52.00   \n",
       "2   3     Danell     Waite        Male   Tacuarembó          12.13  316.88   \n",
       "3   4     Oralia    Smolan  Polygender   Montevideo          94.64  298.46   \n",
       "4   5     Ericha    Ghione      Female      Colonia         132.62  259.76   \n",
       "\n",
       "                      service date_start   date_end nombre_completo  \\\n",
       "0                    Análisis 2020-12-30 2021-05-31      Silva Koba   \n",
       "1                    Análisis 2021-01-18 2021-04-12   Chrissy Fudge   \n",
       "2                    Análisis 2021-01-18 2021-06-20    Danell Waite   \n",
       "3  Implementación de Software 2021-01-18 2021-07-13   Oralia Smolan   \n",
       "4               Visualización 2021-02-25 2021-08-24   Ericha Ghione   \n",
       "\n",
       "   tiempo_trabajado  \n",
       "0               152  \n",
       "1                84  \n",
       "2               153  \n",
       "3               176  \n",
       "4               180  "
      ]
     },
     "execution_count": 11,
     "metadata": {},
     "output_type": "execute_result"
    }
   ],
   "source": [
    "services.head()"
   ]
  },
  {
   "cell_type": "code",
   "execution_count": 12,
   "metadata": {},
   "outputs": [],
   "source": [
    "services[\"beneficios\"] = services[\"price\"]-services[\"internal_cost\"]"
   ]
  },
  {
   "cell_type": "code",
   "execution_count": 13,
   "metadata": {},
   "outputs": [
    {
     "data": {
      "text/plain": [
       "19582.38"
      ]
     },
     "execution_count": 13,
     "metadata": {},
     "output_type": "execute_result"
    }
   ],
   "source": [
    "services[\"beneficios\"].sum()"
   ]
  },
  {
   "cell_type": "code",
   "execution_count": 14,
   "metadata": {},
   "outputs": [],
   "source": [
    "services[\"mes\"] = services[\"date_end\"].dt.month\n",
    "\n",
    "services[\"año\"] = services[\"date_end\"].dt.year"
   ]
  },
  {
   "cell_type": "code",
   "execution_count": 15,
   "metadata": {},
   "outputs": [
    {
     "data": {
      "text/html": [
       "<div>\n",
       "<style scoped>\n",
       "    .dataframe tbody tr th:only-of-type {\n",
       "        vertical-align: middle;\n",
       "    }\n",
       "\n",
       "    .dataframe tbody tr th {\n",
       "        vertical-align: top;\n",
       "    }\n",
       "\n",
       "    .dataframe thead tr th {\n",
       "        text-align: left;\n",
       "    }\n",
       "\n",
       "    .dataframe thead tr:last-of-type th {\n",
       "        text-align: right;\n",
       "    }\n",
       "</style>\n",
       "<table border=\"1\" class=\"dataframe\">\n",
       "  <thead>\n",
       "    <tr>\n",
       "      <th></th>\n",
       "      <th></th>\n",
       "      <th colspan=\"2\" halign=\"left\">beneficios</th>\n",
       "    </tr>\n",
       "    <tr>\n",
       "      <th></th>\n",
       "      <th></th>\n",
       "      <th>sum</th>\n",
       "      <th>mean</th>\n",
       "    </tr>\n",
       "    <tr>\n",
       "      <th>año</th>\n",
       "      <th>mes</th>\n",
       "      <th></th>\n",
       "      <th></th>\n",
       "    </tr>\n",
       "  </thead>\n",
       "  <tbody>\n",
       "    <tr>\n",
       "      <th rowspan=\"8\" valign=\"top\">2021</th>\n",
       "      <th>1</th>\n",
       "      <td>713.04</td>\n",
       "      <td>142.608000</td>\n",
       "    </tr>\n",
       "    <tr>\n",
       "      <th>2</th>\n",
       "      <td>2672.78</td>\n",
       "      <td>133.639000</td>\n",
       "    </tr>\n",
       "    <tr>\n",
       "      <th>3</th>\n",
       "      <td>3606.36</td>\n",
       "      <td>138.706154</td>\n",
       "    </tr>\n",
       "    <tr>\n",
       "      <th>4</th>\n",
       "      <td>1453.43</td>\n",
       "      <td>80.746111</td>\n",
       "    </tr>\n",
       "    <tr>\n",
       "      <th>5</th>\n",
       "      <td>5536.27</td>\n",
       "      <td>145.691316</td>\n",
       "    </tr>\n",
       "    <tr>\n",
       "      <th>6</th>\n",
       "      <td>3322.91</td>\n",
       "      <td>151.041364</td>\n",
       "    </tr>\n",
       "    <tr>\n",
       "      <th>7</th>\n",
       "      <td>1516.88</td>\n",
       "      <td>108.348571</td>\n",
       "    </tr>\n",
       "    <tr>\n",
       "      <th>8</th>\n",
       "      <td>760.71</td>\n",
       "      <td>108.672857</td>\n",
       "    </tr>\n",
       "  </tbody>\n",
       "</table>\n",
       "</div>"
      ],
      "text/plain": [
       "         beneficios            \n",
       "                sum        mean\n",
       "año  mes                       \n",
       "2021 1       713.04  142.608000\n",
       "     2      2672.78  133.639000\n",
       "     3      3606.36  138.706154\n",
       "     4      1453.43   80.746111\n",
       "     5      5536.27  145.691316\n",
       "     6      3322.91  151.041364\n",
       "     7      1516.88  108.348571\n",
       "     8       760.71  108.672857"
      ]
     },
     "execution_count": 15,
     "metadata": {},
     "output_type": "execute_result"
    }
   ],
   "source": [
    "services.groupby(['año',\"mes\"]).agg(\n",
    "    {\n",
    "        'beneficios':['sum','mean']\n",
    "    }\n",
    ")"
   ]
  },
  {
   "cell_type": "code",
   "execution_count": 16,
   "metadata": {},
   "outputs": [
    {
     "data": {
      "text/html": [
       "<div>\n",
       "<style scoped>\n",
       "    .dataframe tbody tr th:only-of-type {\n",
       "        vertical-align: middle;\n",
       "    }\n",
       "\n",
       "    .dataframe tbody tr th {\n",
       "        vertical-align: top;\n",
       "    }\n",
       "\n",
       "    .dataframe thead tr th {\n",
       "        text-align: left;\n",
       "    }\n",
       "\n",
       "    .dataframe thead tr:last-of-type th {\n",
       "        text-align: right;\n",
       "    }\n",
       "</style>\n",
       "<table border=\"1\" class=\"dataframe\">\n",
       "  <thead>\n",
       "    <tr>\n",
       "      <th></th>\n",
       "      <th colspan=\"2\" halign=\"left\">beneficios</th>\n",
       "    </tr>\n",
       "    <tr>\n",
       "      <th></th>\n",
       "      <th>sum</th>\n",
       "      <th>mean</th>\n",
       "    </tr>\n",
       "    <tr>\n",
       "      <th>service</th>\n",
       "      <th></th>\n",
       "      <th></th>\n",
       "    </tr>\n",
       "  </thead>\n",
       "  <tbody>\n",
       "    <tr>\n",
       "      <th>Análisis</th>\n",
       "      <td>4084.33</td>\n",
       "      <td>120.127353</td>\n",
       "    </tr>\n",
       "    <tr>\n",
       "      <th>Capacitación</th>\n",
       "      <td>5194.19</td>\n",
       "      <td>140.383514</td>\n",
       "    </tr>\n",
       "    <tr>\n",
       "      <th>Implementación de Software</th>\n",
       "      <td>5137.55</td>\n",
       "      <td>131.732051</td>\n",
       "    </tr>\n",
       "    <tr>\n",
       "      <th>Visualización</th>\n",
       "      <td>5166.31</td>\n",
       "      <td>129.157750</td>\n",
       "    </tr>\n",
       "  </tbody>\n",
       "</table>\n",
       "</div>"
      ],
      "text/plain": [
       "                           beneficios            \n",
       "                                  sum        mean\n",
       "service                                          \n",
       "Análisis                      4084.33  120.127353\n",
       "Capacitación                  5194.19  140.383514\n",
       "Implementación de Software    5137.55  131.732051\n",
       "Visualización                 5166.31  129.157750"
      ]
     },
     "execution_count": 16,
     "metadata": {},
     "output_type": "execute_result"
    }
   ],
   "source": [
    "services.groupby(['service']).agg(\n",
    "    {\n",
    "        'beneficios': ['sum', 'mean']\n",
    "    }\n",
    ")"
   ]
  },
  {
   "cell_type": "code",
   "execution_count": 17,
   "metadata": {},
   "outputs": [
    {
     "data": {
      "text/html": [
       "<div>\n",
       "<style scoped>\n",
       "    .dataframe tbody tr th:only-of-type {\n",
       "        vertical-align: middle;\n",
       "    }\n",
       "\n",
       "    .dataframe tbody tr th {\n",
       "        vertical-align: top;\n",
       "    }\n",
       "\n",
       "    .dataframe thead th {\n",
       "        text-align: right;\n",
       "    }\n",
       "</style>\n",
       "<table border=\"1\" class=\"dataframe\">\n",
       "  <thead>\n",
       "    <tr style=\"text-align: right;\">\n",
       "      <th></th>\n",
       "      <th>internal_cost</th>\n",
       "    </tr>\n",
       "    <tr>\n",
       "      <th>service</th>\n",
       "      <th></th>\n",
       "    </tr>\n",
       "  </thead>\n",
       "  <tbody>\n",
       "    <tr>\n",
       "      <th>Capacitación</th>\n",
       "      <td>90.042703</td>\n",
       "    </tr>\n",
       "    <tr>\n",
       "      <th>Análisis</th>\n",
       "      <td>80.720588</td>\n",
       "    </tr>\n",
       "    <tr>\n",
       "      <th>Visualización</th>\n",
       "      <td>73.782500</td>\n",
       "    </tr>\n",
       "    <tr>\n",
       "      <th>Implementación de Software</th>\n",
       "      <td>71.052821</td>\n",
       "    </tr>\n",
       "  </tbody>\n",
       "</table>\n",
       "</div>"
      ],
      "text/plain": [
       "                            internal_cost\n",
       "service                                  \n",
       "Capacitación                    90.042703\n",
       "Análisis                        80.720588\n",
       "Visualización                   73.782500\n",
       "Implementación de Software      71.052821"
      ]
     },
     "execution_count": 17,
     "metadata": {},
     "output_type": "execute_result"
    }
   ],
   "source": [
    "services.groupby('service').agg(\n",
    "    {\n",
    "        'internal_cost': 'mean'\n",
    "    }\n",
    ").sort_values(by='internal_cost', ascending=False)"
   ]
  },
  {
   "cell_type": "code",
   "execution_count": 18,
   "metadata": {},
   "outputs": [],
   "source": [
    "services[\"ratio\"]=services[\"internal_cost\"]/services[\"price\"]\n"
   ]
  },
  {
   "cell_type": "code",
   "execution_count": 19,
   "metadata": {},
   "outputs": [
    {
     "data": {
      "text/html": [
       "<div>\n",
       "<style scoped>\n",
       "    .dataframe tbody tr th:only-of-type {\n",
       "        vertical-align: middle;\n",
       "    }\n",
       "\n",
       "    .dataframe tbody tr th {\n",
       "        vertical-align: top;\n",
       "    }\n",
       "\n",
       "    .dataframe thead th {\n",
       "        text-align: right;\n",
       "    }\n",
       "</style>\n",
       "<table border=\"1\" class=\"dataframe\">\n",
       "  <thead>\n",
       "    <tr style=\"text-align: right;\">\n",
       "      <th></th>\n",
       "      <th>ratio</th>\n",
       "    </tr>\n",
       "    <tr>\n",
       "      <th>service</th>\n",
       "      <th></th>\n",
       "    </tr>\n",
       "  </thead>\n",
       "  <tbody>\n",
       "    <tr>\n",
       "      <th>Análisis</th>\n",
       "      <td>0.608850</td>\n",
       "    </tr>\n",
       "    <tr>\n",
       "      <th>Implementación de Software</th>\n",
       "      <td>0.483264</td>\n",
       "    </tr>\n",
       "    <tr>\n",
       "      <th>Capacitación</th>\n",
       "      <td>0.480105</td>\n",
       "    </tr>\n",
       "    <tr>\n",
       "      <th>Visualización</th>\n",
       "      <td>0.447544</td>\n",
       "    </tr>\n",
       "  </tbody>\n",
       "</table>\n",
       "</div>"
      ],
      "text/plain": [
       "                               ratio\n",
       "service                             \n",
       "Análisis                    0.608850\n",
       "Implementación de Software  0.483264\n",
       "Capacitación                0.480105\n",
       "Visualización               0.447544"
      ]
     },
     "execution_count": 19,
     "metadata": {},
     "output_type": "execute_result"
    }
   ],
   "source": [
    "services.groupby('service').agg(\n",
    "    {\n",
    "        'ratio': 'mean'\n",
    "    }\n",
    ").sort_values(by='ratio', ascending=False)"
   ]
  },
  {
   "cell_type": "code",
   "execution_count": 20,
   "metadata": {},
   "outputs": [
    {
     "data": {
      "text/html": [
       "<div>\n",
       "<style scoped>\n",
       "    .dataframe tbody tr th:only-of-type {\n",
       "        vertical-align: middle;\n",
       "    }\n",
       "\n",
       "    .dataframe tbody tr th {\n",
       "        vertical-align: top;\n",
       "    }\n",
       "\n",
       "    .dataframe thead th {\n",
       "        text-align: right;\n",
       "    }\n",
       "</style>\n",
       "<table border=\"1\" class=\"dataframe\">\n",
       "  <thead>\n",
       "    <tr style=\"text-align: right;\">\n",
       "      <th></th>\n",
       "      <th>tiempo_trabajado</th>\n",
       "    </tr>\n",
       "    <tr>\n",
       "      <th>service</th>\n",
       "      <th></th>\n",
       "    </tr>\n",
       "  </thead>\n",
       "  <tbody>\n",
       "    <tr>\n",
       "      <th>Implementación de Software</th>\n",
       "      <td>140.307692</td>\n",
       "    </tr>\n",
       "    <tr>\n",
       "      <th>Visualización</th>\n",
       "      <td>128.850000</td>\n",
       "    </tr>\n",
       "    <tr>\n",
       "      <th>Capacitación</th>\n",
       "      <td>123.594595</td>\n",
       "    </tr>\n",
       "    <tr>\n",
       "      <th>Análisis</th>\n",
       "      <td>105.794118</td>\n",
       "    </tr>\n",
       "  </tbody>\n",
       "</table>\n",
       "</div>"
      ],
      "text/plain": [
       "                            tiempo_trabajado\n",
       "service                                     \n",
       "Implementación de Software        140.307692\n",
       "Visualización                     128.850000\n",
       "Capacitación                      123.594595\n",
       "Análisis                          105.794118"
      ]
     },
     "execution_count": 20,
     "metadata": {},
     "output_type": "execute_result"
    }
   ],
   "source": [
    "#vi. ¿Cuál es el servicio que en promedio lleva más tiempo realizar?\n",
    "services.groupby('service').agg(\n",
    "    {\n",
    "        'tiempo_trabajado': 'mean'\n",
    "    }\n",
    ").sort_values(by='tiempo_trabajado', ascending=False)"
   ]
  },
  {
   "cell_type": "code",
   "execution_count": 21,
   "metadata": {},
   "outputs": [
    {
     "data": {
      "text/plain": [
       "<Axes: xlabel='dpto'>"
      ]
     },
     "execution_count": 21,
     "metadata": {},
     "output_type": "execute_result"
    },
    {
     "data": {
      "image/png": "[encoded data removed]",
      "text/plain": [
       "<Figure size 640x480 with 1 Axes>"
      ]
     },
     "metadata": {},
     "output_type": "display_data"
    }
   ],
   "source": [
    "#Una visualización que muestre el total beneficio por departamento en un gráfico de barras verticales.\n",
    "services.groupby(['dpto']).agg(\n",
    "    {\n",
    "        'beneficios': 'sum'\n",
    "    }\n",
    ").plot(kind = \"bar\")"
   ]
  },
  {
   "cell_type": "code",
   "execution_count": 24,
   "metadata": {},
   "outputs": [
    {
     "data": {
      "text/plain": [
       "<Axes: ylabel='gender'>"
      ]
     },
     "execution_count": 24,
     "metadata": {},
     "output_type": "execute_result"
    },
    {
     "data": {
      "image/png": "[encoded data removed]",
      "text/plain": [
       "<Figure size 640x480 with 1 Axes>"
      ]
     },
     "metadata": {},
     "output_type": "display_data"
    }
   ],
   "source": [
    "#ii. Una gráfica de barras horizontales que muestre el total beneficio por el género del cliente.\n",
    "services.groupby(['gender']).agg(\n",
    "    {\n",
    "        'beneficios': 'sum'\n",
    "    }\n",
    ").sort_values(by='beneficios', ascending=False).plot(kind = \"barh\")"
   ]
  },
  {
   "cell_type": "code",
   "execution_count": 23,
   "metadata": {},
   "outputs": [
    {
     "data": {
      "text/plain": [
       "<Axes: xlabel='date_end'>"
      ]
     },
     "execution_count": 23,
     "metadata": {},
     "output_type": "execute_result"
    },
    {
     "data": {
      "image/png": "[encoded data removed]",
      "text/plain": [
       "<Figure size 640x480 with 1 Axes>"
      ]
     },
     "metadata": {},
     "output_type": "display_data"
    }
   ],
   "source": [
    "#iii. Una gráfica que muestre la evolución de los beneficios, mediante la fecha de finalización.\n",
    "services.groupby(['date_end']).agg(\n",
    "    {\n",
    "        'beneficios': 'sum'\n",
    "    }\n",
    ").plot()"
   ]
  }
 ],
 "metadata": {
  "kernelspec": {
   "display_name": "envWindows",
   "language": "python",
   "name": "python3"
  },
  "language_info": {
   "codemirror_mode": {
    "name": "ipython",
    "version": 3
   },
   "file_extension": ".py",
   "mimetype": "text/x-python",
   "name": "python",
   "nbconvert_exporter": "python",
   "pygments_lexer": "ipython3",
   "version": "3.12.3"
  }
 },
 "nbformat": 4,
 "nbformat_minor": 2
}
