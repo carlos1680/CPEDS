{
  "nbformat": 4,
  "nbformat_minor": 0,
  "metadata": {
    "colab": {
      "name": "Practico_4_solución",
      "provenance": [],
      "collapsed_sections": []
    },
    "kernelspec": {
      "name": "python3",
      "display_name": "Python 3"
    },
    "language_info": {
      "name": "python"
    }
  },
  "cells": [
    {
      "cell_type": "markdown",
      "metadata": {
        "id": "ReHJ7XD2yu9N"
      },
      "source": [
        "Obtenga el dataset “data_services”."
      ]
    },
    {
      "cell_type": "code",
      "metadata": {
        "colab": {
          "base_uri": "https://localhost:8080/",
          "height": 204
        },
        "id": "c8O_J6SEynhU",
        "outputId": "d955f217-1d58-4fe2-9f0d-b1d513b9df1a"
      },
      "source": [
        "import pandas as pd\n",
        "df = pd.read_excel(\"data_services.xlsx\", parse_dates = [\"date_start\", \"date_end\"])\n",
        "df.head()"
      ],
      "execution_count": 3,
      "outputs": [
        {
          "output_type": "execute_result",
          "data": {
            "text/html": [
              "<div>\n",
              "<style scoped>\n",
              "    .dataframe tbody tr th:only-of-type {\n",
              "        vertical-align: middle;\n",
              "    }\n",
              "\n",
              "    .dataframe tbody tr th {\n",
              "        vertical-align: top;\n",
              "    }\n",
              "\n",
              "    .dataframe thead th {\n",
              "        text-align: right;\n",
              "    }\n",
              "</style>\n",
              "<table border=\"1\" class=\"dataframe\">\n",
              "  <thead>\n",
              "    <tr style=\"text-align: right;\">\n",
              "      <th></th>\n",
              "      <th>id</th>\n",
              "      <th>first_name</th>\n",
              "      <th>last_name</th>\n",
              "      <th>gender</th>\n",
              "      <th>dpto</th>\n",
              "      <th>internal_cost</th>\n",
              "      <th>price</th>\n",
              "      <th>service</th>\n",
              "      <th>date_start</th>\n",
              "      <th>date_end</th>\n",
              "    </tr>\n",
              "  </thead>\n",
              "  <tbody>\n",
              "    <tr>\n",
              "      <th>0</th>\n",
              "      <td>1</td>\n",
              "      <td>Silva</td>\n",
              "      <td>Koba</td>\n",
              "      <td>Male</td>\n",
              "      <td>Cerro Largo</td>\n",
              "      <td>66.11</td>\n",
              "      <td>336.92</td>\n",
              "      <td>Análisis</td>\n",
              "      <td>2020-12-30</td>\n",
              "      <td>2021-05-31</td>\n",
              "    </tr>\n",
              "    <tr>\n",
              "      <th>1</th>\n",
              "      <td>2</td>\n",
              "      <td>Chrissy</td>\n",
              "      <td>Fudge</td>\n",
              "      <td>Polygender</td>\n",
              "      <td>Cerro Largo</td>\n",
              "      <td>20.07</td>\n",
              "      <td>52.00</td>\n",
              "      <td>Análisis</td>\n",
              "      <td>2021-01-18</td>\n",
              "      <td>2021-04-12</td>\n",
              "    </tr>\n",
              "    <tr>\n",
              "      <th>2</th>\n",
              "      <td>3</td>\n",
              "      <td>Danell</td>\n",
              "      <td>Waite</td>\n",
              "      <td>Male</td>\n",
              "      <td>Tacuarembó</td>\n",
              "      <td>12.13</td>\n",
              "      <td>316.88</td>\n",
              "      <td>Análisis</td>\n",
              "      <td>2021-01-18</td>\n",
              "      <td>2021-06-20</td>\n",
              "    </tr>\n",
              "    <tr>\n",
              "      <th>3</th>\n",
              "      <td>4</td>\n",
              "      <td>Oralia</td>\n",
              "      <td>Smolan</td>\n",
              "      <td>Polygender</td>\n",
              "      <td>Montevideo</td>\n",
              "      <td>94.64</td>\n",
              "      <td>298.46</td>\n",
              "      <td>Implementación de Software</td>\n",
              "      <td>2021-01-18</td>\n",
              "      <td>2021-07-13</td>\n",
              "    </tr>\n",
              "    <tr>\n",
              "      <th>4</th>\n",
              "      <td>5</td>\n",
              "      <td>Ericha</td>\n",
              "      <td>Ghione</td>\n",
              "      <td>Female</td>\n",
              "      <td>Colonia</td>\n",
              "      <td>132.62</td>\n",
              "      <td>259.76</td>\n",
              "      <td>Visualización</td>\n",
              "      <td>2021-02-25</td>\n",
              "      <td>2021-08-24</td>\n",
              "    </tr>\n",
              "  </tbody>\n",
              "</table>\n",
              "</div>"
            ],
            "text/plain": [
              "   id first_name last_name  ...                     service date_start   date_end\n",
              "0   1      Silva      Koba  ...                    Análisis 2020-12-30 2021-05-31\n",
              "1   2    Chrissy     Fudge  ...                    Análisis 2021-01-18 2021-04-12\n",
              "2   3     Danell     Waite  ...                    Análisis 2021-01-18 2021-06-20\n",
              "3   4     Oralia    Smolan  ...  Implementación de Software 2021-01-18 2021-07-13\n",
              "4   5     Ericha    Ghione  ...               Visualización 2021-02-25 2021-08-24\n",
              "\n",
              "[5 rows x 10 columns]"
            ]
          },
          "metadata": {
            "tags": []
          },
          "execution_count": 3
        }
      ]
    },
    {
      "cell_type": "markdown",
      "metadata": {
        "id": "vcHxEgfizEK7"
      },
      "source": [
        "En la columna dpto se encuentran como faltantes los datos de los trabajos que fueron realizados al\n",
        "exterior. Por tanto, completar esos datos faltantes con una categoría que sea “Extranjero”."
      ]
    },
    {
      "cell_type": "code",
      "metadata": {
        "colab": {
          "base_uri": "https://localhost:8080/"
        },
        "id": "YZIZ2E7uy317",
        "outputId": "a728e7d8-18cf-4cd0-ddc1-eadbfd42200a"
      },
      "source": [
        "df[\"dpto\"].fillna('Extranjero', inplace = True)\n",
        "df.dpto.unique()"
      ],
      "execution_count": 5,
      "outputs": [
        {
          "output_type": "execute_result",
          "data": {
            "text/plain": [
              "array(['Cerro Largo', 'Tacuarembó', 'Montevideo', 'Colonia', 'Extranjero',\n",
              "       'Salto'], dtype=object)"
            ]
          },
          "metadata": {
            "tags": []
          },
          "execution_count": 5
        }
      ]
    },
    {
      "cell_type": "markdown",
      "metadata": {
        "id": "BysrfJe5zTR4"
      },
      "source": [
        "Obtener una columna denominada “nombre_completo” que sea la concatenación de las columnas\n",
        "first_name y last_name. En aquellos casos que no se cuente con el nombre de pila, sustituir por\n",
        "“Mr/Ms”."
      ]
    },
    {
      "cell_type": "code",
      "metadata": {
        "colab": {
          "base_uri": "https://localhost:8080/",
          "height": 204
        },
        "id": "_jkly02gzFoJ",
        "outputId": "dd747a1f-8132-4963-a331-d3d0a3456238"
      },
      "source": [
        "df.first_name.fillna('Mr/Ms', inplace = True)\n",
        "\n",
        "nueva_col = []\n",
        "for i in range(len(df.first_name)):\n",
        "    item = df.first_name[i] + ' ' + df.last_name[i]\n",
        "    nueva_col.append(item)\n",
        "\n",
        "df[\"nombre_completo\"] = nueva_col\n",
        "df.head()"
      ],
      "execution_count": 39,
      "outputs": [
        {
          "output_type": "execute_result",
          "data": {
            "text/html": [
              "<div>\n",
              "<style scoped>\n",
              "    .dataframe tbody tr th:only-of-type {\n",
              "        vertical-align: middle;\n",
              "    }\n",
              "\n",
              "    .dataframe tbody tr th {\n",
              "        vertical-align: top;\n",
              "    }\n",
              "\n",
              "    .dataframe thead th {\n",
              "        text-align: right;\n",
              "    }\n",
              "</style>\n",
              "<table border=\"1\" class=\"dataframe\">\n",
              "  <thead>\n",
              "    <tr style=\"text-align: right;\">\n",
              "      <th></th>\n",
              "      <th>id</th>\n",
              "      <th>first_name</th>\n",
              "      <th>last_name</th>\n",
              "      <th>gender</th>\n",
              "      <th>dpto</th>\n",
              "      <th>internal_cost</th>\n",
              "      <th>price</th>\n",
              "      <th>service</th>\n",
              "      <th>date_start</th>\n",
              "      <th>date_end</th>\n",
              "      <th>nombre_completo</th>\n",
              "    </tr>\n",
              "  </thead>\n",
              "  <tbody>\n",
              "    <tr>\n",
              "      <th>0</th>\n",
              "      <td>1</td>\n",
              "      <td>Silva</td>\n",
              "      <td>Koba</td>\n",
              "      <td>Male</td>\n",
              "      <td>Cerro Largo</td>\n",
              "      <td>66.11</td>\n",
              "      <td>336.92</td>\n",
              "      <td>Análisis</td>\n",
              "      <td>2020-12-30</td>\n",
              "      <td>2021-05-31</td>\n",
              "      <td>Silva Koba</td>\n",
              "    </tr>\n",
              "    <tr>\n",
              "      <th>1</th>\n",
              "      <td>2</td>\n",
              "      <td>Chrissy</td>\n",
              "      <td>Fudge</td>\n",
              "      <td>Polygender</td>\n",
              "      <td>Cerro Largo</td>\n",
              "      <td>20.07</td>\n",
              "      <td>52.00</td>\n",
              "      <td>Análisis</td>\n",
              "      <td>2021-01-18</td>\n",
              "      <td>2021-04-12</td>\n",
              "      <td>Chrissy Fudge</td>\n",
              "    </tr>\n",
              "    <tr>\n",
              "      <th>2</th>\n",
              "      <td>3</td>\n",
              "      <td>Danell</td>\n",
              "      <td>Waite</td>\n",
              "      <td>Male</td>\n",
              "      <td>Tacuarembó</td>\n",
              "      <td>12.13</td>\n",
              "      <td>316.88</td>\n",
              "      <td>Análisis</td>\n",
              "      <td>2021-01-18</td>\n",
              "      <td>2021-06-20</td>\n",
              "      <td>Danell Waite</td>\n",
              "    </tr>\n",
              "    <tr>\n",
              "      <th>3</th>\n",
              "      <td>4</td>\n",
              "      <td>Oralia</td>\n",
              "      <td>Smolan</td>\n",
              "      <td>Polygender</td>\n",
              "      <td>Montevideo</td>\n",
              "      <td>94.64</td>\n",
              "      <td>298.46</td>\n",
              "      <td>Implementación de Software</td>\n",
              "      <td>2021-01-18</td>\n",
              "      <td>2021-07-13</td>\n",
              "      <td>Oralia Smolan</td>\n",
              "    </tr>\n",
              "    <tr>\n",
              "      <th>4</th>\n",
              "      <td>5</td>\n",
              "      <td>Ericha</td>\n",
              "      <td>Ghione</td>\n",
              "      <td>Female</td>\n",
              "      <td>Colonia</td>\n",
              "      <td>132.62</td>\n",
              "      <td>259.76</td>\n",
              "      <td>Visualización</td>\n",
              "      <td>2021-02-25</td>\n",
              "      <td>2021-08-24</td>\n",
              "      <td>Ericha Ghione</td>\n",
              "    </tr>\n",
              "  </tbody>\n",
              "</table>\n",
              "</div>"
            ],
            "text/plain": [
              "   id first_name last_name  ... date_start   date_end  nombre_completo\n",
              "0   1      Silva      Koba  ... 2020-12-30 2021-05-31       Silva Koba\n",
              "1   2    Chrissy     Fudge  ... 2021-01-18 2021-04-12    Chrissy Fudge\n",
              "2   3     Danell     Waite  ... 2021-01-18 2021-06-20     Danell Waite\n",
              "3   4     Oralia    Smolan  ... 2021-01-18 2021-07-13    Oralia Smolan\n",
              "4   5     Ericha    Ghione  ... 2021-02-25 2021-08-24    Ericha Ghione\n",
              "\n",
              "[5 rows x 11 columns]"
            ]
          },
          "metadata": {
            "tags": []
          },
          "execution_count": 39
        }
      ]
    },
    {
      "cell_type": "code",
      "metadata": {
        "id": "sc2tJHyP2Zy0"
      },
      "source": [
        "df.drop([\"first_name\", \"last_name\"], axis = 'columns', inplace = True)"
      ],
      "execution_count": 41,
      "outputs": []
    },
    {
      "cell_type": "markdown",
      "metadata": {
        "id": "qv5LGIV12l8h"
      },
      "source": [
        "Genere una columna que se denomina “tiempo_trabajo” que sea la diferencia de días entre el inicio y el\n",
        "fin de cada proyecto."
      ]
    },
    {
      "cell_type": "code",
      "metadata": {
        "colab": {
          "base_uri": "https://localhost:8080/",
          "height": 204
        },
        "id": "wYBG1CuP2k-Z",
        "outputId": "6095d20b-14b7-4f90-e8e2-bc0164e828c2"
      },
      "source": [
        "dates_dif = []\n",
        "\n",
        "for f in range(len(df.date_start)):\n",
        "  item = df.date_end[f] - df.date_start[f]\n",
        "  dates_dif.append(item.days)\n",
        "\n",
        "df[\"tiempo_trabajo\"] = dates_dif\n",
        "df.head()"
      ],
      "execution_count": 46,
      "outputs": [
        {
          "output_type": "execute_result",
          "data": {
            "text/html": [
              "<div>\n",
              "<style scoped>\n",
              "    .dataframe tbody tr th:only-of-type {\n",
              "        vertical-align: middle;\n",
              "    }\n",
              "\n",
              "    .dataframe tbody tr th {\n",
              "        vertical-align: top;\n",
              "    }\n",
              "\n",
              "    .dataframe thead th {\n",
              "        text-align: right;\n",
              "    }\n",
              "</style>\n",
              "<table border=\"1\" class=\"dataframe\">\n",
              "  <thead>\n",
              "    <tr style=\"text-align: right;\">\n",
              "      <th></th>\n",
              "      <th>id</th>\n",
              "      <th>gender</th>\n",
              "      <th>dpto</th>\n",
              "      <th>internal_cost</th>\n",
              "      <th>price</th>\n",
              "      <th>service</th>\n",
              "      <th>date_start</th>\n",
              "      <th>date_end</th>\n",
              "      <th>nombre_completo</th>\n",
              "      <th>tiempo_trabajo</th>\n",
              "    </tr>\n",
              "  </thead>\n",
              "  <tbody>\n",
              "    <tr>\n",
              "      <th>0</th>\n",
              "      <td>1</td>\n",
              "      <td>Male</td>\n",
              "      <td>Cerro Largo</td>\n",
              "      <td>66.11</td>\n",
              "      <td>336.92</td>\n",
              "      <td>Análisis</td>\n",
              "      <td>2020-12-30</td>\n",
              "      <td>2021-05-31</td>\n",
              "      <td>Silva Koba</td>\n",
              "      <td>152</td>\n",
              "    </tr>\n",
              "    <tr>\n",
              "      <th>1</th>\n",
              "      <td>2</td>\n",
              "      <td>Polygender</td>\n",
              "      <td>Cerro Largo</td>\n",
              "      <td>20.07</td>\n",
              "      <td>52.00</td>\n",
              "      <td>Análisis</td>\n",
              "      <td>2021-01-18</td>\n",
              "      <td>2021-04-12</td>\n",
              "      <td>Chrissy Fudge</td>\n",
              "      <td>84</td>\n",
              "    </tr>\n",
              "    <tr>\n",
              "      <th>2</th>\n",
              "      <td>3</td>\n",
              "      <td>Male</td>\n",
              "      <td>Tacuarembó</td>\n",
              "      <td>12.13</td>\n",
              "      <td>316.88</td>\n",
              "      <td>Análisis</td>\n",
              "      <td>2021-01-18</td>\n",
              "      <td>2021-06-20</td>\n",
              "      <td>Danell Waite</td>\n",
              "      <td>153</td>\n",
              "    </tr>\n",
              "    <tr>\n",
              "      <th>3</th>\n",
              "      <td>4</td>\n",
              "      <td>Polygender</td>\n",
              "      <td>Montevideo</td>\n",
              "      <td>94.64</td>\n",
              "      <td>298.46</td>\n",
              "      <td>Implementación de Software</td>\n",
              "      <td>2021-01-18</td>\n",
              "      <td>2021-07-13</td>\n",
              "      <td>Oralia Smolan</td>\n",
              "      <td>176</td>\n",
              "    </tr>\n",
              "    <tr>\n",
              "      <th>4</th>\n",
              "      <td>5</td>\n",
              "      <td>Female</td>\n",
              "      <td>Colonia</td>\n",
              "      <td>132.62</td>\n",
              "      <td>259.76</td>\n",
              "      <td>Visualización</td>\n",
              "      <td>2021-02-25</td>\n",
              "      <td>2021-08-24</td>\n",
              "      <td>Ericha Ghione</td>\n",
              "      <td>180</td>\n",
              "    </tr>\n",
              "  </tbody>\n",
              "</table>\n",
              "</div>"
            ],
            "text/plain": [
              "   id      gender         dpto  ...   date_end  nombre_completo tiempo_trabajo\n",
              "0   1        Male  Cerro Largo  ... 2021-05-31       Silva Koba            152\n",
              "1   2  Polygender  Cerro Largo  ... 2021-04-12    Chrissy Fudge             84\n",
              "2   3        Male   Tacuarembó  ... 2021-06-20     Danell Waite            153\n",
              "3   4  Polygender   Montevideo  ... 2021-07-13    Oralia Smolan            176\n",
              "4   5      Female      Colonia  ... 2021-08-24    Ericha Ghione            180\n",
              "\n",
              "[5 rows x 10 columns]"
            ]
          },
          "metadata": {
            "tags": []
          },
          "execution_count": 46
        }
      ]
    },
    {
      "cell_type": "markdown",
      "metadata": {
        "id": "BMHdOQG63nMM"
      },
      "source": [
        "Genere una columna que se denomine “beneficios” que sea la diferencia entre el costo del servicio y el\n",
        "precio solicitado al cliente."
      ]
    },
    {
      "cell_type": "code",
      "metadata": {
        "colab": {
          "base_uri": "https://localhost:8080/",
          "height": 204
        },
        "id": "FPU_Xo_922YY",
        "outputId": "7f064489-f827-423e-f0ca-4867775f1dd5"
      },
      "source": [
        "df['beneficios'] = df.price - df.internal_cost\n",
        "df.head()"
      ],
      "execution_count": 48,
      "outputs": [
        {
          "output_type": "execute_result",
          "data": {
            "text/html": [
              "<div>\n",
              "<style scoped>\n",
              "    .dataframe tbody tr th:only-of-type {\n",
              "        vertical-align: middle;\n",
              "    }\n",
              "\n",
              "    .dataframe tbody tr th {\n",
              "        vertical-align: top;\n",
              "    }\n",
              "\n",
              "    .dataframe thead th {\n",
              "        text-align: right;\n",
              "    }\n",
              "</style>\n",
              "<table border=\"1\" class=\"dataframe\">\n",
              "  <thead>\n",
              "    <tr style=\"text-align: right;\">\n",
              "      <th></th>\n",
              "      <th>id</th>\n",
              "      <th>gender</th>\n",
              "      <th>dpto</th>\n",
              "      <th>internal_cost</th>\n",
              "      <th>price</th>\n",
              "      <th>service</th>\n",
              "      <th>date_start</th>\n",
              "      <th>date_end</th>\n",
              "      <th>nombre_completo</th>\n",
              "      <th>tiempo_trabajo</th>\n",
              "      <th>beneficios</th>\n",
              "    </tr>\n",
              "  </thead>\n",
              "  <tbody>\n",
              "    <tr>\n",
              "      <th>0</th>\n",
              "      <td>1</td>\n",
              "      <td>Male</td>\n",
              "      <td>Cerro Largo</td>\n",
              "      <td>66.11</td>\n",
              "      <td>336.92</td>\n",
              "      <td>Análisis</td>\n",
              "      <td>2020-12-30</td>\n",
              "      <td>2021-05-31</td>\n",
              "      <td>Silva Koba</td>\n",
              "      <td>152</td>\n",
              "      <td>270.81</td>\n",
              "    </tr>\n",
              "    <tr>\n",
              "      <th>1</th>\n",
              "      <td>2</td>\n",
              "      <td>Polygender</td>\n",
              "      <td>Cerro Largo</td>\n",
              "      <td>20.07</td>\n",
              "      <td>52.00</td>\n",
              "      <td>Análisis</td>\n",
              "      <td>2021-01-18</td>\n",
              "      <td>2021-04-12</td>\n",
              "      <td>Chrissy Fudge</td>\n",
              "      <td>84</td>\n",
              "      <td>31.93</td>\n",
              "    </tr>\n",
              "    <tr>\n",
              "      <th>2</th>\n",
              "      <td>3</td>\n",
              "      <td>Male</td>\n",
              "      <td>Tacuarembó</td>\n",
              "      <td>12.13</td>\n",
              "      <td>316.88</td>\n",
              "      <td>Análisis</td>\n",
              "      <td>2021-01-18</td>\n",
              "      <td>2021-06-20</td>\n",
              "      <td>Danell Waite</td>\n",
              "      <td>153</td>\n",
              "      <td>304.75</td>\n",
              "    </tr>\n",
              "    <tr>\n",
              "      <th>3</th>\n",
              "      <td>4</td>\n",
              "      <td>Polygender</td>\n",
              "      <td>Montevideo</td>\n",
              "      <td>94.64</td>\n",
              "      <td>298.46</td>\n",
              "      <td>Implementación de Software</td>\n",
              "      <td>2021-01-18</td>\n",
              "      <td>2021-07-13</td>\n",
              "      <td>Oralia Smolan</td>\n",
              "      <td>176</td>\n",
              "      <td>203.82</td>\n",
              "    </tr>\n",
              "    <tr>\n",
              "      <th>4</th>\n",
              "      <td>5</td>\n",
              "      <td>Female</td>\n",
              "      <td>Colonia</td>\n",
              "      <td>132.62</td>\n",
              "      <td>259.76</td>\n",
              "      <td>Visualización</td>\n",
              "      <td>2021-02-25</td>\n",
              "      <td>2021-08-24</td>\n",
              "      <td>Ericha Ghione</td>\n",
              "      <td>180</td>\n",
              "      <td>127.14</td>\n",
              "    </tr>\n",
              "  </tbody>\n",
              "</table>\n",
              "</div>"
            ],
            "text/plain": [
              "   id      gender         dpto  ...  nombre_completo  tiempo_trabajo beneficios\n",
              "0   1        Male  Cerro Largo  ...       Silva Koba             152     270.81\n",
              "1   2  Polygender  Cerro Largo  ...    Chrissy Fudge              84      31.93\n",
              "2   3        Male   Tacuarembó  ...     Danell Waite             153     304.75\n",
              "3   4  Polygender   Montevideo  ...    Oralia Smolan             176     203.82\n",
              "4   5      Female      Colonia  ...    Ericha Ghione             180     127.14\n",
              "\n",
              "[5 rows x 11 columns]"
            ]
          },
          "metadata": {
            "tags": []
          },
          "execution_count": 48
        }
      ]
    },
    {
      "cell_type": "markdown",
      "metadata": {
        "id": "W7xRHVye4J7g"
      },
      "source": [
        "i. ¿Cuál es el total de ganancia que se ha obtenido en este período?"
      ]
    },
    {
      "cell_type": "code",
      "metadata": {
        "colab": {
          "base_uri": "https://localhost:8080/"
        },
        "id": "3Hs8XAxZ3uko",
        "outputId": "8d75a636-890a-4db8-9dd4-f95583a060d2"
      },
      "source": [
        "df.beneficios.sum()"
      ],
      "execution_count": 49,
      "outputs": [
        {
          "output_type": "execute_result",
          "data": {
            "text/plain": [
              "19582.38"
            ]
          },
          "metadata": {
            "tags": []
          },
          "execution_count": 49
        }
      ]
    },
    {
      "cell_type": "markdown",
      "metadata": {
        "id": "hQU_huXk4PBh"
      },
      "source": [
        "ii. ¿Cuál es la ganancia total para cada mes y el promedio por mes?"
      ]
    },
    {
      "cell_type": "code",
      "metadata": {
        "colab": {
          "base_uri": "https://localhost:8080/"
        },
        "id": "ZAeFZJtB4Mih",
        "outputId": "25ed7f03-b287-49d4-bea5-b78336fb38f9"
      },
      "source": [
        "df.date_end[0].month\n",
        "df.date_end[0].year"
      ],
      "execution_count": 52,
      "outputs": [
        {
          "output_type": "execute_result",
          "data": {
            "text/plain": [
              "2021"
            ]
          },
          "metadata": {
            "tags": []
          },
          "execution_count": 52
        }
      ]
    },
    {
      "cell_type": "code",
      "metadata": {
        "colab": {
          "base_uri": "https://localhost:8080/",
          "height": 309
        },
        "id": "PGe8tNs54Wsv",
        "outputId": "e0e65ad6-3071-4b40-f030-26bbfdd396f1"
      },
      "source": [
        "date_end_meses = []\n",
        "date_end_año = []\n",
        "\n",
        "for i in range(len(df.date_end)):\n",
        "  date_end_meses.append(df.date_end[i].month)\n",
        "  date_end_año.append(df.date_end[i].year)\n",
        "\n",
        "df[\"date_end_meses\"] = date_end_meses\n",
        "df[\"date_end_año\"] = date_end_año\n",
        "\n",
        "df.head()"
      ],
      "execution_count": 54,
      "outputs": [
        {
          "output_type": "execute_result",
          "data": {
            "text/html": [
              "<div>\n",
              "<style scoped>\n",
              "    .dataframe tbody tr th:only-of-type {\n",
              "        vertical-align: middle;\n",
              "    }\n",
              "\n",
              "    .dataframe tbody tr th {\n",
              "        vertical-align: top;\n",
              "    }\n",
              "\n",
              "    .dataframe thead th {\n",
              "        text-align: right;\n",
              "    }\n",
              "</style>\n",
              "<table border=\"1\" class=\"dataframe\">\n",
              "  <thead>\n",
              "    <tr style=\"text-align: right;\">\n",
              "      <th></th>\n",
              "      <th>id</th>\n",
              "      <th>gender</th>\n",
              "      <th>dpto</th>\n",
              "      <th>internal_cost</th>\n",
              "      <th>price</th>\n",
              "      <th>service</th>\n",
              "      <th>date_start</th>\n",
              "      <th>date_end</th>\n",
              "      <th>nombre_completo</th>\n",
              "      <th>tiempo_trabajo</th>\n",
              "      <th>beneficios</th>\n",
              "      <th>date_end_meses</th>\n",
              "      <th>date_end_año</th>\n",
              "    </tr>\n",
              "  </thead>\n",
              "  <tbody>\n",
              "    <tr>\n",
              "      <th>0</th>\n",
              "      <td>1</td>\n",
              "      <td>Male</td>\n",
              "      <td>Cerro Largo</td>\n",
              "      <td>66.11</td>\n",
              "      <td>336.92</td>\n",
              "      <td>Análisis</td>\n",
              "      <td>2020-12-30</td>\n",
              "      <td>2021-05-31</td>\n",
              "      <td>Silva Koba</td>\n",
              "      <td>152</td>\n",
              "      <td>270.81</td>\n",
              "      <td>5</td>\n",
              "      <td>2021</td>\n",
              "    </tr>\n",
              "    <tr>\n",
              "      <th>1</th>\n",
              "      <td>2</td>\n",
              "      <td>Polygender</td>\n",
              "      <td>Cerro Largo</td>\n",
              "      <td>20.07</td>\n",
              "      <td>52.00</td>\n",
              "      <td>Análisis</td>\n",
              "      <td>2021-01-18</td>\n",
              "      <td>2021-04-12</td>\n",
              "      <td>Chrissy Fudge</td>\n",
              "      <td>84</td>\n",
              "      <td>31.93</td>\n",
              "      <td>4</td>\n",
              "      <td>2021</td>\n",
              "    </tr>\n",
              "    <tr>\n",
              "      <th>2</th>\n",
              "      <td>3</td>\n",
              "      <td>Male</td>\n",
              "      <td>Tacuarembó</td>\n",
              "      <td>12.13</td>\n",
              "      <td>316.88</td>\n",
              "      <td>Análisis</td>\n",
              "      <td>2021-01-18</td>\n",
              "      <td>2021-06-20</td>\n",
              "      <td>Danell Waite</td>\n",
              "      <td>153</td>\n",
              "      <td>304.75</td>\n",
              "      <td>6</td>\n",
              "      <td>2021</td>\n",
              "    </tr>\n",
              "    <tr>\n",
              "      <th>3</th>\n",
              "      <td>4</td>\n",
              "      <td>Polygender</td>\n",
              "      <td>Montevideo</td>\n",
              "      <td>94.64</td>\n",
              "      <td>298.46</td>\n",
              "      <td>Implementación de Software</td>\n",
              "      <td>2021-01-18</td>\n",
              "      <td>2021-07-13</td>\n",
              "      <td>Oralia Smolan</td>\n",
              "      <td>176</td>\n",
              "      <td>203.82</td>\n",
              "      <td>7</td>\n",
              "      <td>2021</td>\n",
              "    </tr>\n",
              "    <tr>\n",
              "      <th>4</th>\n",
              "      <td>5</td>\n",
              "      <td>Female</td>\n",
              "      <td>Colonia</td>\n",
              "      <td>132.62</td>\n",
              "      <td>259.76</td>\n",
              "      <td>Visualización</td>\n",
              "      <td>2021-02-25</td>\n",
              "      <td>2021-08-24</td>\n",
              "      <td>Ericha Ghione</td>\n",
              "      <td>180</td>\n",
              "      <td>127.14</td>\n",
              "      <td>8</td>\n",
              "      <td>2021</td>\n",
              "    </tr>\n",
              "  </tbody>\n",
              "</table>\n",
              "</div>"
            ],
            "text/plain": [
              "   id      gender         dpto  ...  beneficios  date_end_meses date_end_año\n",
              "0   1        Male  Cerro Largo  ...      270.81               5         2021\n",
              "1   2  Polygender  Cerro Largo  ...       31.93               4         2021\n",
              "2   3        Male   Tacuarembó  ...      304.75               6         2021\n",
              "3   4  Polygender   Montevideo  ...      203.82               7         2021\n",
              "4   5      Female      Colonia  ...      127.14               8         2021\n",
              "\n",
              "[5 rows x 13 columns]"
            ]
          },
          "metadata": {
            "tags": []
          },
          "execution_count": 54
        }
      ]
    },
    {
      "cell_type": "code",
      "metadata": {
        "colab": {
          "base_uri": "https://localhost:8080/",
          "height": 359
        },
        "id": "TcRX-izK480J",
        "outputId": "08767725-cf17-478e-fcc8-88de2cf8659d"
      },
      "source": [
        "df.groupby([\"date_end_año\", \"date_end_meses\"]).agg({\n",
        "    \"beneficios\" : [\"sum\", \"mean\"]\n",
        "})"
      ],
      "execution_count": 55,
      "outputs": [
        {
          "output_type": "execute_result",
          "data": {
            "text/html": [
              "<div>\n",
              "<style scoped>\n",
              "    .dataframe tbody tr th:only-of-type {\n",
              "        vertical-align: middle;\n",
              "    }\n",
              "\n",
              "    .dataframe tbody tr th {\n",
              "        vertical-align: top;\n",
              "    }\n",
              "\n",
              "    .dataframe thead tr th {\n",
              "        text-align: left;\n",
              "    }\n",
              "\n",
              "    .dataframe thead tr:last-of-type th {\n",
              "        text-align: right;\n",
              "    }\n",
              "</style>\n",
              "<table border=\"1\" class=\"dataframe\">\n",
              "  <thead>\n",
              "    <tr>\n",
              "      <th></th>\n",
              "      <th></th>\n",
              "      <th colspan=\"2\" halign=\"left\">beneficios</th>\n",
              "    </tr>\n",
              "    <tr>\n",
              "      <th></th>\n",
              "      <th></th>\n",
              "      <th>sum</th>\n",
              "      <th>mean</th>\n",
              "    </tr>\n",
              "    <tr>\n",
              "      <th>date_end_año</th>\n",
              "      <th>date_end_meses</th>\n",
              "      <th></th>\n",
              "      <th></th>\n",
              "    </tr>\n",
              "  </thead>\n",
              "  <tbody>\n",
              "    <tr>\n",
              "      <th rowspan=\"8\" valign=\"top\">2021</th>\n",
              "      <th>1</th>\n",
              "      <td>713.04</td>\n",
              "      <td>142.608000</td>\n",
              "    </tr>\n",
              "    <tr>\n",
              "      <th>2</th>\n",
              "      <td>2672.78</td>\n",
              "      <td>133.639000</td>\n",
              "    </tr>\n",
              "    <tr>\n",
              "      <th>3</th>\n",
              "      <td>3606.36</td>\n",
              "      <td>138.706154</td>\n",
              "    </tr>\n",
              "    <tr>\n",
              "      <th>4</th>\n",
              "      <td>1453.43</td>\n",
              "      <td>80.746111</td>\n",
              "    </tr>\n",
              "    <tr>\n",
              "      <th>5</th>\n",
              "      <td>5536.27</td>\n",
              "      <td>145.691316</td>\n",
              "    </tr>\n",
              "    <tr>\n",
              "      <th>6</th>\n",
              "      <td>3322.91</td>\n",
              "      <td>151.041364</td>\n",
              "    </tr>\n",
              "    <tr>\n",
              "      <th>7</th>\n",
              "      <td>1516.88</td>\n",
              "      <td>108.348571</td>\n",
              "    </tr>\n",
              "    <tr>\n",
              "      <th>8</th>\n",
              "      <td>760.71</td>\n",
              "      <td>108.672857</td>\n",
              "    </tr>\n",
              "  </tbody>\n",
              "</table>\n",
              "</div>"
            ],
            "text/plain": [
              "                            beneficios            \n",
              "                                   sum        mean\n",
              "date_end_año date_end_meses                       \n",
              "2021         1                  713.04  142.608000\n",
              "             2                 2672.78  133.639000\n",
              "             3                 3606.36  138.706154\n",
              "             4                 1453.43   80.746111\n",
              "             5                 5536.27  145.691316\n",
              "             6                 3322.91  151.041364\n",
              "             7                 1516.88  108.348571\n",
              "             8                  760.71  108.672857"
            ]
          },
          "metadata": {
            "tags": []
          },
          "execution_count": 55
        }
      ]
    },
    {
      "cell_type": "markdown",
      "metadata": {
        "id": "nRwH791_5bE_"
      },
      "source": [
        "iii. ¿Cuál servicio ha dado más ganancia y cuál en promedio?"
      ]
    },
    {
      "cell_type": "code",
      "metadata": {
        "colab": {
          "base_uri": "https://localhost:8080/",
          "height": 235
        },
        "id": "rFXkNMUk5LDj",
        "outputId": "f37b832e-546c-41d0-d9ef-483888f5b514"
      },
      "source": [
        "df.groupby(\"service\").agg({\n",
        "    \"beneficios\" : [\"sum\", \"mean\"]\n",
        "})"
      ],
      "execution_count": 56,
      "outputs": [
        {
          "output_type": "execute_result",
          "data": {
            "text/html": [
              "<div>\n",
              "<style scoped>\n",
              "    .dataframe tbody tr th:only-of-type {\n",
              "        vertical-align: middle;\n",
              "    }\n",
              "\n",
              "    .dataframe tbody tr th {\n",
              "        vertical-align: top;\n",
              "    }\n",
              "\n",
              "    .dataframe thead tr th {\n",
              "        text-align: left;\n",
              "    }\n",
              "\n",
              "    .dataframe thead tr:last-of-type th {\n",
              "        text-align: right;\n",
              "    }\n",
              "</style>\n",
              "<table border=\"1\" class=\"dataframe\">\n",
              "  <thead>\n",
              "    <tr>\n",
              "      <th></th>\n",
              "      <th colspan=\"2\" halign=\"left\">beneficios</th>\n",
              "    </tr>\n",
              "    <tr>\n",
              "      <th></th>\n",
              "      <th>sum</th>\n",
              "      <th>mean</th>\n",
              "    </tr>\n",
              "    <tr>\n",
              "      <th>service</th>\n",
              "      <th></th>\n",
              "      <th></th>\n",
              "    </tr>\n",
              "  </thead>\n",
              "  <tbody>\n",
              "    <tr>\n",
              "      <th>Análisis</th>\n",
              "      <td>4084.33</td>\n",
              "      <td>120.127353</td>\n",
              "    </tr>\n",
              "    <tr>\n",
              "      <th>Capacitación</th>\n",
              "      <td>5194.19</td>\n",
              "      <td>140.383514</td>\n",
              "    </tr>\n",
              "    <tr>\n",
              "      <th>Implementación de Software</th>\n",
              "      <td>5137.55</td>\n",
              "      <td>131.732051</td>\n",
              "    </tr>\n",
              "    <tr>\n",
              "      <th>Visualización</th>\n",
              "      <td>5166.31</td>\n",
              "      <td>129.157750</td>\n",
              "    </tr>\n",
              "  </tbody>\n",
              "</table>\n",
              "</div>"
            ],
            "text/plain": [
              "                           beneficios            \n",
              "                                  sum        mean\n",
              "service                                          \n",
              "Análisis                      4084.33  120.127353\n",
              "Capacitación                  5194.19  140.383514\n",
              "Implementación de Software    5137.55  131.732051\n",
              "Visualización                 5166.31  129.157750"
            ]
          },
          "metadata": {
            "tags": []
          },
          "execution_count": 56
        }
      ]
    },
    {
      "cell_type": "markdown",
      "metadata": {
        "id": "c7xvpA1e5dnS"
      },
      "source": [
        "iv. ¿Cuál servicio es el más costoso en promedio?"
      ]
    },
    {
      "cell_type": "code",
      "metadata": {
        "colab": {
          "base_uri": "https://localhost:8080/",
          "height": 204
        },
        "id": "sq2WLFxO5Xe_",
        "outputId": "c0ed1a86-0f52-4489-c477-4a177916d7c2"
      },
      "source": [
        "df.groupby(\"service\").agg({\n",
        "    \"internal_cost\" : \"mean\"\n",
        "})"
      ],
      "execution_count": 57,
      "outputs": [
        {
          "output_type": "execute_result",
          "data": {
            "text/html": [
              "<div>\n",
              "<style scoped>\n",
              "    .dataframe tbody tr th:only-of-type {\n",
              "        vertical-align: middle;\n",
              "    }\n",
              "\n",
              "    .dataframe tbody tr th {\n",
              "        vertical-align: top;\n",
              "    }\n",
              "\n",
              "    .dataframe thead th {\n",
              "        text-align: right;\n",
              "    }\n",
              "</style>\n",
              "<table border=\"1\" class=\"dataframe\">\n",
              "  <thead>\n",
              "    <tr style=\"text-align: right;\">\n",
              "      <th></th>\n",
              "      <th>internal_cost</th>\n",
              "    </tr>\n",
              "    <tr>\n",
              "      <th>service</th>\n",
              "      <th></th>\n",
              "    </tr>\n",
              "  </thead>\n",
              "  <tbody>\n",
              "    <tr>\n",
              "      <th>Análisis</th>\n",
              "      <td>80.720588</td>\n",
              "    </tr>\n",
              "    <tr>\n",
              "      <th>Capacitación</th>\n",
              "      <td>90.042703</td>\n",
              "    </tr>\n",
              "    <tr>\n",
              "      <th>Implementación de Software</th>\n",
              "      <td>71.052821</td>\n",
              "    </tr>\n",
              "    <tr>\n",
              "      <th>Visualización</th>\n",
              "      <td>73.782500</td>\n",
              "    </tr>\n",
              "  </tbody>\n",
              "</table>\n",
              "</div>"
            ],
            "text/plain": [
              "                            internal_cost\n",
              "service                                  \n",
              "Análisis                        80.720588\n",
              "Capacitación                    90.042703\n",
              "Implementación de Software      71.052821\n",
              "Visualización                   73.782500"
            ]
          },
          "metadata": {
            "tags": []
          },
          "execution_count": 57
        }
      ]
    },
    {
      "cell_type": "markdown",
      "metadata": {
        "id": "01onGLvZ5r8b"
      },
      "source": [
        "¿Cómo es la relación entre costo – precio entre los servicios? Genere una tabla que ordene de\n",
        "mayor diferencia costo-precio a menor. Es decir, cuál tiende a dar mayor y menor beneficio."
      ]
    },
    {
      "cell_type": "code",
      "metadata": {
        "colab": {
          "base_uri": "https://localhost:8080/",
          "height": 204
        },
        "id": "0vDv2mZT5hsJ",
        "outputId": "dcb3a08d-ae1c-44f4-bdec-115c7d1e1b42"
      },
      "source": [
        "df[\"relacion_costo\"] = df.internal_cost / df.price\n",
        "\n",
        "df.groupby(\"service\").agg({\n",
        "    \"relacion_costo\" : \"mean\"\n",
        "}).sort_values(by = \"relacion_costo\", ascending = False)"
      ],
      "execution_count": 62,
      "outputs": [
        {
          "output_type": "execute_result",
          "data": {
            "text/html": [
              "<div>\n",
              "<style scoped>\n",
              "    .dataframe tbody tr th:only-of-type {\n",
              "        vertical-align: middle;\n",
              "    }\n",
              "\n",
              "    .dataframe tbody tr th {\n",
              "        vertical-align: top;\n",
              "    }\n",
              "\n",
              "    .dataframe thead th {\n",
              "        text-align: right;\n",
              "    }\n",
              "</style>\n",
              "<table border=\"1\" class=\"dataframe\">\n",
              "  <thead>\n",
              "    <tr style=\"text-align: right;\">\n",
              "      <th></th>\n",
              "      <th>relacion_costo</th>\n",
              "    </tr>\n",
              "    <tr>\n",
              "      <th>service</th>\n",
              "      <th></th>\n",
              "    </tr>\n",
              "  </thead>\n",
              "  <tbody>\n",
              "    <tr>\n",
              "      <th>Análisis</th>\n",
              "      <td>0.608850</td>\n",
              "    </tr>\n",
              "    <tr>\n",
              "      <th>Implementación de Software</th>\n",
              "      <td>0.483264</td>\n",
              "    </tr>\n",
              "    <tr>\n",
              "      <th>Capacitación</th>\n",
              "      <td>0.480105</td>\n",
              "    </tr>\n",
              "    <tr>\n",
              "      <th>Visualización</th>\n",
              "      <td>0.447544</td>\n",
              "    </tr>\n",
              "  </tbody>\n",
              "</table>\n",
              "</div>"
            ],
            "text/plain": [
              "                            relacion_costo\n",
              "service                                   \n",
              "Análisis                          0.608850\n",
              "Implementación de Software        0.483264\n",
              "Capacitación                      0.480105\n",
              "Visualización                     0.447544"
            ]
          },
          "metadata": {
            "tags": []
          },
          "execution_count": 62
        }
      ]
    },
    {
      "cell_type": "markdown",
      "metadata": {
        "id": "CLU7M3iD6Skl"
      },
      "source": [
        "vi. ¿Cuál es el servicio que en promedio lleva más tiempo realizar?"
      ]
    },
    {
      "cell_type": "code",
      "metadata": {
        "colab": {
          "base_uri": "https://localhost:8080/",
          "height": 204
        },
        "id": "Kvq1lhV6501Q",
        "outputId": "381b4d21-5346-485b-dda7-66c9cada9423"
      },
      "source": [
        "df.groupby(\"service\").agg({\n",
        "    \"tiempo_trabajo\" : \"mean\"\n",
        "})"
      ],
      "execution_count": 63,
      "outputs": [
        {
          "output_type": "execute_result",
          "data": {
            "text/html": [
              "<div>\n",
              "<style scoped>\n",
              "    .dataframe tbody tr th:only-of-type {\n",
              "        vertical-align: middle;\n",
              "    }\n",
              "\n",
              "    .dataframe tbody tr th {\n",
              "        vertical-align: top;\n",
              "    }\n",
              "\n",
              "    .dataframe thead th {\n",
              "        text-align: right;\n",
              "    }\n",
              "</style>\n",
              "<table border=\"1\" class=\"dataframe\">\n",
              "  <thead>\n",
              "    <tr style=\"text-align: right;\">\n",
              "      <th></th>\n",
              "      <th>tiempo_trabajo</th>\n",
              "    </tr>\n",
              "    <tr>\n",
              "      <th>service</th>\n",
              "      <th></th>\n",
              "    </tr>\n",
              "  </thead>\n",
              "  <tbody>\n",
              "    <tr>\n",
              "      <th>Análisis</th>\n",
              "      <td>64.500000</td>\n",
              "    </tr>\n",
              "    <tr>\n",
              "      <th>Capacitación</th>\n",
              "      <td>121.000000</td>\n",
              "    </tr>\n",
              "    <tr>\n",
              "      <th>Implementación de Software</th>\n",
              "      <td>116.410256</td>\n",
              "    </tr>\n",
              "    <tr>\n",
              "      <th>Visualización</th>\n",
              "      <td>99.150000</td>\n",
              "    </tr>\n",
              "  </tbody>\n",
              "</table>\n",
              "</div>"
            ],
            "text/plain": [
              "                            tiempo_trabajo\n",
              "service                                   \n",
              "Análisis                         64.500000\n",
              "Capacitación                    121.000000\n",
              "Implementación de Software      116.410256\n",
              "Visualización                    99.150000"
            ]
          },
          "metadata": {
            "tags": []
          },
          "execution_count": 63
        }
      ]
    },
    {
      "cell_type": "markdown",
      "metadata": {
        "id": "VkQuDOV36boK"
      },
      "source": [
        "i. Una visualización que muestre el total beneficio por departamento en un gráfico de barras\n",
        "verticales."
      ]
    },
    {
      "cell_type": "code",
      "metadata": {
        "colab": {
          "base_uri": "https://localhost:8080/",
          "height": 347
        },
        "id": "7_r8fSoR6XLq",
        "outputId": "f16ef4d8-13a4-439b-f705-b85481d92e6e"
      },
      "source": [
        "df.groupby(\"dpto\").agg({\n",
        "    \"beneficios\" : \"sum\"\n",
        "}).sort_values(by = 'beneficios', ascending = False).plot(kind = \"bar\")"
      ],
      "execution_count": 68,
      "outputs": [
        {
          "output_type": "execute_result",
          "data": {
            "text/plain": [
              "<matplotlib.axes._subplots.AxesSubplot at 0x7fc0922976d0>"
            ]
          },
          "metadata": {
            "tags": []
          },
          "execution_count": 68
        },
        {
          "output_type": "display_data",
          "data": {
            "image/png": "[encoded data removed]",
            "text/plain": [
              "<Figure size 432x288 with 1 Axes>"
            ]
          },
          "metadata": {
            "tags": [],
            "needs_background": "light"
          }
        }
      ]
    },
    {
      "cell_type": "markdown",
      "metadata": {
        "id": "2qnIHgkk6qcU"
      },
      "source": [
        "ii. Una gráfica de barras horizontales que muestre el total beneficio por el género del cliente."
      ]
    },
    {
      "cell_type": "code",
      "metadata": {
        "colab": {
          "base_uri": "https://localhost:8080/",
          "height": 282
        },
        "id": "zJ-0GX7A6iL_",
        "outputId": "885dd7bd-b9c4-4f9e-c982-baec8a5f6a1a"
      },
      "source": [
        "df.groupby(\"gender\").agg({\n",
        "    \"beneficios\" : \"sum\"\n",
        "}).sort_values(by = 'beneficios', ascending = True).plot(kind = \"barh\")"
      ],
      "execution_count": 70,
      "outputs": [
        {
          "output_type": "execute_result",
          "data": {
            "text/plain": [
              "<matplotlib.axes._subplots.AxesSubplot at 0x7fc0921741d0>"
            ]
          },
          "metadata": {
            "tags": []
          },
          "execution_count": 70
        },
        {
          "output_type": "display_data",
          "data": {
            "image/png": "[encoded data removed]",
            "text/plain": [
              "<Figure size 432x288 with 1 Axes>"
            ]
          },
          "metadata": {
            "tags": [],
            "needs_background": "light"
          }
        }
      ]
    },
    {
      "cell_type": "markdown",
      "metadata": {
        "id": "gkSVbuqS7JE0"
      },
      "source": [
        "iii. Una gráfica que muestre la evolución de los beneficios, mediante la fecha de finalización."
      ]
    },
    {
      "cell_type": "code",
      "metadata": {
        "colab": {
          "base_uri": "https://localhost:8080/",
          "height": 295
        },
        "id": "e40sbj2I6wAm",
        "outputId": "c4d0a867-142a-4d0c-82c8-380e2ac60f42"
      },
      "source": [
        "df.groupby(\"date_end\").agg({\n",
        "    \"beneficios\" : \"sum\"\n",
        "}).plot()"
      ],
      "execution_count": 72,
      "outputs": [
        {
          "output_type": "execute_result",
          "data": {
            "text/plain": [
              "<matplotlib.axes._subplots.AxesSubplot at 0x7fc0920d2dd0>"
            ]
          },
          "metadata": {
            "tags": []
          },
          "execution_count": 72
        },
        {
          "output_type": "display_data",
          "data": {
            "image/png": "[encoded data removed]",
            "text/plain": [
              "<Figure size 432x288 with 1 Axes>"
            ]
          },
          "metadata": {
            "tags": [],
            "needs_background": "light"
          }
        }
      ]
    }
  ]
}