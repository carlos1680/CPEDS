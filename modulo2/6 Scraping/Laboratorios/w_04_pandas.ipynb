{
 "metadata": {
  "language_info": {
   "codemirror_mode": {
    "name": "ipython",
    "version": 3
   },
   "file_extension": ".py",
   "mimetype": "text/x-python",
   "name": "python",
   "nbconvert_exporter": "python",
   "pygments_lexer": "ipython3",
   "version": "3.7.9"
  },
  "orig_nbformat": 2,
  "kernelspec": {
   "name": "python379jvsc74a57bd062b65a3e32fd75c6613f438e3e64606454bf9518010d2b50fe61db1c37149f34",
   "display_name": "Python 3.7.9 64-bit ('Scrapping-CfF0pIyJ')"
  }
 },
 "nbformat": 4,
 "nbformat_minor": 2,
 "cells": [
  {
   "source": [
    "w_04 | Web scraping con Pandas\n",
    "===="
   ],
   "cell_type": "markdown",
   "metadata": {}
  },
  {
   "source": [
    "A veces Pandas es suficiente. Esto depende de que el HTML defina correctamente las tablas que necesitamos, y que el proceso de llevar los datos a la forma que necesitamos no sea demasiado complejo.\n",
    "\n",
    "Hagamos una prueba. Cabe destacar que estoy definiendo el motor para procesar el HTML porque no tengo instalado ``lxml``, que es el primero que Pandas intenta usar si no se especifica."
   ],
   "cell_type": "markdown",
   "metadata": {}
  },
  {
   "cell_type": "code",
   "execution_count": null,
   "metadata": {},
   "outputs": [],
   "source": [
    "import pandas as pd\n",
    "\n",
    "url = \"https://es.tradingeconomics.com/uruguay/indicators\"\n",
    "\n",
    "tables = pd.read_html(url, flavor=\"bs4\")\n",
    "print(f\"Cantidad de tablas: {len(tables)}\")"
   ]
  },
  {
   "source": [
    "Pandas encuentra 12 tablas porque a pesar de que están ubicadas en distintas secciones, en el HTML está todo en el mismo lugar. Revisemos una al azar para ver cómo se procesó por defecto."
   ],
   "cell_type": "markdown",
   "metadata": {}
  },
  {
   "cell_type": "code",
   "execution_count": null,
   "metadata": {},
   "outputs": [],
   "source": [
    "tables[1].info()\n",
    "tables[1].head()"
   ]
  },
  {
   "source": [
    "Aunque sobre una columna al final y que las fechas no están formateadas, el resultado es más que aceptable. Podemos revisar otra al azar."
   ],
   "cell_type": "markdown",
   "metadata": {}
  },
  {
   "source": [
    "tables[6].info()\n",
    "tables[6].head()"
   ],
   "cell_type": "code",
   "metadata": {},
   "execution_count": null,
   "outputs": []
  },
  {
   "source": [
    "Puede no interesarnos tener todas las tablas y para eso ``read_html()`` permite filtrar."
   ],
   "cell_type": "markdown",
   "metadata": {}
  },
  {
   "cell_type": "code",
   "execution_count": null,
   "metadata": {},
   "outputs": [],
   "source": [
    "tabla_salud = pd.read_html(url, match=\"Salud\", flavor=\"bs4\")\n",
    "print(f\"Cantidad de tablas: {len(tabla_salud)}\")\n",
    "tabla_salud[0]\n",
    "  "
   ]
  },
  {
   "cell_type": "code",
   "execution_count": null,
   "metadata": {},
   "outputs": [],
   "source": []
  }
 ]
}