{
 "metadata": {
  "language_info": {
   "codemirror_mode": {
    "name": "ipython",
    "version": 3
   },
   "file_extension": ".py",
   "mimetype": "text/x-python",
   "name": "python",
   "nbconvert_exporter": "python",
   "pygments_lexer": "ipython3",
   "version": "3.7.9"
  },
  "orig_nbformat": 2,
  "kernelspec": {
   "name": "python379jvsc74a57bd062b65a3e32fd75c6613f438e3e64606454bf9518010d2b50fe61db1c37149f34",
   "display_name": "Python 3.7.9 64-bit ('Scrapping-CfF0pIyJ': pipenv)"
  }
 },
 "nbformat": 4,
 "nbformat_minor": 2,
 "cells": [
  {
   "source": [
    "w_02 | Descargar archivos programáticamente con `requests`\n",
    "===="
   ],
   "cell_type": "markdown",
   "metadata": {}
  },
  {
   "source": [
    "Lo primero que vamos a hacer es importar los paquetes necesarios. El foco para esta parte son `requests` y `re`, pero voy a explicar los usos de los restantes también.\n",
    "\n",
    "A esta altura debería estar razonablemente claro para qué usamos `requests`. Para el resto:\n",
    "\n",
    "* `re` es el paquete standar de RegEx de Python, que permite trabajar con expresiones regulares de texto.\n",
    "* `pathlib` es un paquete estándar para manejar paths de manera de que el código funcione en cualquier sistema operativo, superando el drama de forward y backward slashes dependiendo de la plataforma. Recomiendo siempre usarlo para evitar dolores de cabeza."
   ],
   "cell_type": "markdown",
   "metadata": {}
  },
  {
   "cell_type": "code",
   "execution_count": null,
   "metadata": {},
   "outputs": [],
   "source": [
    "import re\n",
    "from pathlib import Path\n",
    "\n",
    "import requests"
   ]
  },
  {
   "source": [
    "Lo que vamos a hacer es descargar los datos de proyectos recomendados por la COMAP para que su inversión sea promovida por el Poder Ejecutivo en el marco de la Ley de Inversiones. Estos datos están contenidos en PDFs por año en la web de la COMAP.\n",
    "\n",
    "Empecemos por 2020. Para ello definimos la URL relevante y vamos a hacerle un `get()` para acceder."
   ],
   "cell_type": "markdown",
   "metadata": {}
  },
  {
   "cell_type": "code",
   "execution_count": null,
   "metadata": {},
   "outputs": [],
   "source": [
    "url_2020 = \"https://www.gub.uy/ministerio-economia-finanzas/sites/ministerio-economia-finanzas/files/2021-01/comap_setiembre-2020.pdf\"\n",
    "r_2020 = requests.get(url_2020)\n",
    "r_2020.status_code"
   ]
  },
  {
   "source": [
    "El status_code 200 indica que se pudo acceder de manera exitosa.\n",
    "\n",
    "Recordar que `get()` devuelve un `Response` object. En este caso, este objeto es un PDF. Para descargarlo vamos a \"escribir\" su contenido en un archivo, pero antes tenemos que crear una carpeta en donde guardar el PDF.\n",
    "\n",
    "El objeto `Path()` es el constructor de rutas de `pathlib`. La gracia es que no hay necesidad de lidiar con idiosincracias del sistema operativo y simplemente podemos definir la ruta con argumentos del objeto. Cada argumento es un nivel adicional de carpetas; partimos de la raíz y vamos agregando niveles. Cabe destacar que `Path()` no crea la ruta, sino que simplemente es una referencia a ella.\n",
    "\n",
    "Para crearla corremos el método `mkdir()` sobre el `Path` creado."
   ],
   "cell_type": "markdown",
   "metadata": {}
  },
  {
   "cell_type": "code",
   "execution_count": null,
   "metadata": {},
   "outputs": [],
   "source": [
    "download_dir = Path(\"02_w\", \"data\", \"comap_pdfs\")\n",
    "download_dir.mkdir(parents=True, exist_ok=True)"
   ]
  },
  {
   "source": [
    "Ya con la carpeta creada podemos escribir los contenidos de la respuesta en un archivo, valiéndonos de un context manager.\n",
    "\n",
    "Los context managers de Python se encargan de abrir y cerrar archivos una vez que ya fueron utilizados."
   ],
   "cell_type": "markdown",
   "metadata": {}
  },
  {
   "cell_type": "code",
   "execution_count": null,
   "metadata": {},
   "outputs": [],
   "source": [
    "path_2020 = Path(download_dir, \"2020-set.pdf\")\n",
    "with open(path_2020, \"wb\") as f:\n",
    "    f.write(r_2020.content)"
   ]
  },
  {
   "source": [
    "Eso es el proceso para un PDF. Pero hay varios, uno por cada año, con URLs no uniformes.\n",
    "\n",
    "Para encontrar todas las URLs relevantes vamos a usar un RegEx simple: en la página de descargas buscamos todas las instancias de texto que empiece con \"https\" y termine con \"pdf\", sin importar qué haya en el medio.\n",
    "\n",
    "Como resultado obtenemos una lista con todos los matches."
   ],
   "cell_type": "markdown",
   "metadata": {}
  },
  {
   "cell_type": "code",
   "execution_count": null,
   "metadata": {},
   "outputs": [],
   "source": [
    "url = \"https://www.gub.uy/ministerio-economia-finanzas/datos-y-estadisticas/estadisticas/estadisticas-proyectos-enviados-poder-ejecutivo-recomendacion-aprobacion-comap\"\n",
    "r = requests.get(url)\n",
    "pdfs = re.findall(\"http[A-z0-9\\.\\/:-]+pdf\", r.text)\n",
    "pdfs"
   ]
  },
  {
   "source": [
    "Como en la lista de PDFs aparece 2020, que ya descargamos, primero vamos a excluirlo. Siguiente, vamos a crear una lista de nombres para uniformizarlos (2019.pdf, 2018.pdf, ..., 2009.pdf).\n",
    "\n",
    "Luego repetimos el paso para escribir el contenido en un for loop, pero tenemos que\n",
    "* Iterar sobre la lista de PDFs y los nombres en paralelo, para lo cual usamos `zip()`.\n",
    "* Hacer un request en cada iteración.\n",
    "* Crear un nuevo path en cada iteración, incorporando el nombre correspondiente.\n",
    "* Finalmente escribir el contenido en el path correspondiente."
   ],
   "cell_type": "markdown",
   "metadata": {}
  },
  {
   "cell_type": "code",
   "execution_count": null,
   "metadata": {},
   "outputs": [],
   "source": [
    "pdfs = pdfs[1:]\n",
    "filenames = [f\"{x}.pdf\" for x in range(2009, 2020)][::-1]\n",
    "\n",
    "for pdf, filename in zip(pdfs, filenames):\n",
    "    r_pdf = requests.get(pdf)\n",
    "    path_pdf = Path(download_dir, filename)\n",
    "    with open(path_pdf, \"wb\") as f:\n",
    "        f.write(r_pdf.content)"
   ]
  },
  {
   "source": [
    "Ese es el proceso usual para descargar archivos usando `requests`. En este caso eran PDFs, pero puede ser cualquier tipo de archivo."
   ],
   "cell_type": "markdown",
   "metadata": {}
  },
  {
   "cell_type": "code",
   "execution_count": null,
   "metadata": {},
   "outputs": [],
   "source": []
  }
 ]
}