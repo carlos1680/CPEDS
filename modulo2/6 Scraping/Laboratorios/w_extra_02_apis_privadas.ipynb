{
 "metadata": {
  "language_info": {
   "codemirror_mode": {
    "name": "ipython",
    "version": 3
   },
   "file_extension": ".py",
   "mimetype": "text/x-python",
   "name": "python",
   "nbconvert_exporter": "python",
   "pygments_lexer": "ipython3",
   "version": "3.7.9"
  },
  "orig_nbformat": 2,
  "kernelspec": {
   "name": "python379jvsc74a57bd062b65a3e32fd75c6613f438e3e64606454bf9518010d2b50fe61db1c37149f34",
   "display_name": "Python 3.7.9 64-bit ('Scrapping-CfF0pIyJ')"
  }
 },
 "nbformat": 4,
 "nbformat_minor": 2,
 "cells": [
  {
   "source": [
    "w_03 | Detección de APIs privadas\n",
    "===="
   ],
   "cell_type": "markdown",
   "metadata": {}
  },
  {
   "source": [
    "Supongamos que queremos bajar el tipo de cambio diario del Banco Central porque nuestro negocio tiene operaciones en dólares. Si vamos al [BCU](https://www.bcu.gub.uy/Estadisticas-e-Indicadores/Paginas/Cotizaciones.aspx) pasan dos cosas:\n",
    "\n",
    "1. Hay un captcha.\n",
    "2. La interfaz no nos deja descargar más que un año de datos para una moneda, o más de un mes para un conjunto de monedas.\n",
    "\n",
    "Esto no es para nada cómodo si pretendemos hacer este proceso de manera frecuente o si necesitamos construir una serie de datos larga.\n",
    "\n",
    "Probablemente haya alguna API corriendo por detrás que deberíamos poder encontrar y explotar. Así que abrimos el panel de desarrollador, seleccionamos un rango de fechas y algunas monedas y ejecutamos la consulta de Excel o la de Mostrar.\n",
    "\n",
    "![](https://drive.google.com/uc?export=view&id=14Y4q0_-7offYl8ljtulR_XsGmoJzbyhW)\n",
    "\n",
    "Eso inmediatamente va a generar cambios en el panel de desarrollador, específicamente en la pestaña Network. Lo que sigue es un poco artesanal, pero consiste en encontrar la consulta que específicamente refiere a la generación de los datos.\n",
    "\n",
    "En este caso corrí específicamente la consulta de Mostrar. Al abrirla tenemos que registrar el protocolo, headers y cualquier payload que se haya enviado.\n",
    "\n",
    "![](https://drive.google.com/uc?export=view&id=1wIoM8_eu1k2zIs4E3ki4x43lpsPIXsKA)\n",
    "\n",
    "![](https://drive.google.com/uc?export=view&id=1kVCikF9lEWjswg9Gqw9EB2aiqTFE5E33)\n",
    "\n",
    "Así que ya sabemos el protocolo, los headers y los datos que se envían al servidor. Ahora hay que transformar eso en un request y ver qué devuelve el servidor."
   ],
   "cell_type": "markdown",
   "metadata": {}
  },
  {
   "source": [
    "import requests\n",
    "import pandas as pd\n",
    "from pprint import pprint\n",
    "\n",
    "url = \"https://www.bcu.gub.uy/_layouts/15/BCU.Cotizaciones/handler/CotizacionesHandler.ashx?op=getcotizaciones\"\n",
    "payload = {\"KeyValuePairs\":\n",
    "            {\"Monedas\":[{\"Val\":\"501\",\"Text\":\"PESO ARG.BILLETE\"}, {\"Val\":\"1001\",\"Text\":\"REAL BILLETE\"}, {\"Val\":\"2230\",\"Text\":\"DLS.PROMED.FONDO\"}],\n",
    "             \"FechaDesde\":\"01/04/2021\",\n",
    "             \"FechaHasta\":\"20/04/2021\",\n",
    "             \"Grupo\":\"2\"}}\n",
    "r = requests.post(url, json=payload)\n",
    "r.text"
   ],
   "cell_type": "code",
   "metadata": {},
   "execution_count": null,
   "outputs": []
  },
  {
   "source": [
    "Algunos comentarios:\n",
    "\n",
    "1. No pasamos directamente el diccionario al argumento ``data`` de ``get()``, sino que lo hicimos a ``json``. Podríamos haber codificado el diccionario en JSON usando la librería standard de Python, pero esto nos ahorra un paso. No todas las payloads tienen que enviarse en JSON, eso depende del servidor.\n",
    "2. La respuesta tiene toda la pinta de ser un JSON, así que podemos decodificarlo directamente con ``requests`` para que nos quede un diccionario."
   ],
   "cell_type": "markdown",
   "metadata": {}
  },
  {
   "cell_type": "code",
   "execution_count": null,
   "metadata": {},
   "outputs": [],
   "source": [
    "pprint(r.json())"
   ]
  },
  {
   "source": [
    "Lo cual parece estar bien, pero no es útil desde un punto de vista de análisis de datos. Necesitamos meterlo en una extructura tabular, para lo cual directamente vamos a tirarle el diccionario al constructor de ``pd.DataFrame``.\n",
    "\n",
    "Notar que ingresamos a la key \"cotizacionesoutlist\" y luego a \"Cotizaciones\" para que nos devuelva registros individuales."
   ],
   "cell_type": "markdown",
   "metadata": {}
  },
  {
   "cell_type": "code",
   "execution_count": null,
   "metadata": {},
   "outputs": [],
   "source": [
    "df = pd.DataFrame(r.json()[\"cotizacionesoutlist\"][\"Cotizaciones\"])\n",
    "df.head(10)"
   ]
  },
  {
   "source": [
    "Eso es todo, descubrimos la API del Banco Central para consultar monedas. Dado que sabemos la estructura que toma el payload, podemos ir variando fechas para construir la base de datos mes a mes, lo que esquiva la restricción que la web impone."
   ],
   "cell_type": "markdown",
   "metadata": {}
  }
 ]
}