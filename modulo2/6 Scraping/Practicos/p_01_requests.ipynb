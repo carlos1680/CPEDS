{
 "metadata": {
  "language_info": {
   "codemirror_mode": {
    "name": "ipython",
    "version": 3
   },
   "file_extension": ".py",
   "mimetype": "text/x-python",
   "name": "python",
   "nbconvert_exporter": "python",
   "pygments_lexer": "ipython3",
   "version": "3.7.9"
  },
  "orig_nbformat": 2,
  "kernelspec": {
   "name": "python379jvsc74a57bd062b65a3e32fd75c6613f438e3e64606454bf9518010d2b50fe61db1c37149f34",
   "display_name": "Python 3.7.9 64-bit ('Scrapping-CfF0pIyJ': pipenv)"
  }
 },
 "nbformat": 4,
 "nbformat_minor": 2,
 "cells": [
  {
   "source": [
    "p_01 | `requests`\n",
    "===="
   ],
   "cell_type": "markdown",
   "metadata": {}
  },
  {
   "source": [
    "Ejercicio 1\n",
    "----\n",
    "\n",
    "1. Reconstuir la siguiente URL usando el parámetro `params` de `requests.get()`: http://comtrade.un.org/api/get/plus?max=5000&type=C&freq=A&px=H5&ps=2020&r=858&p=0&rg=2&cc=AG2. Este es el servicio de Naciones Unidas que provee estadísticas de comercio internacional, y lo que estamos consultando son las exportaciones de Uruguay al mundo en 2020 para el nivel de agregación de productos 2.\n",
    "2. Cambiar los parámetros para consultar datos para los últimos 4 años (parámetro \"ps\") y Argentina como contrapartida (parámetro \"p\" igual a 32). Es válido consultar la [documentación de la API](https://comtrade.un.org/Data/Doc/API) para evacuar dudas.\n",
    "3. Decodificar la response JSON que devuelve la API y construir un DataFrame. Recordar que la función `json()` de `requests` devuelve un diccionario estándar de Python, y que la clase `DataFrame` admite diccionarios como argumentos."
   ],
   "cell_type": "markdown",
   "metadata": {}
  },
  {
   "source": [
    "\n",
    "Ejercicio 2\n",
    "----\n",
    "\n",
    "Descargue las primeras 10 imágenes de la categoría que prefiera de https://unsplash.com/, utilizando un context manager para manejar la apertura y cierre de archivos.\n",
    "\n",
    "Para obtener los links de descarga, use la función `unsplash_get_download_urls()` definida en el siguiente bloque, a la que deberá proveerle una URL correspondiente a una categoría de Unsplash."
   ],
   "cell_type": "markdown",
   "metadata": {}
  },
  {
   "cell_type": "code",
   "execution_count": null,
   "metadata": {},
   "outputs": [],
   "source": [
    "from typing import List\n",
    "\n",
    "import requests\n",
    "from bs4 import BeautifulSoup\n",
    "\n",
    "def unsplash_get_download_urls(url: str) -> List[str]:\n",
    "    r = requests.get(url)\n",
    "    soup = BeautifulSoup(r.text)\n",
    "    downloads = soup.find_all(\"a\", title=\"Download photo\")\n",
    "    return [download.get(\"href\") for download in downloads]"
   ]
  },
  {
   "cell_type": "code",
   "execution_count": null,
   "metadata": {},
   "outputs": [],
   "source": []
  }
 ]
}