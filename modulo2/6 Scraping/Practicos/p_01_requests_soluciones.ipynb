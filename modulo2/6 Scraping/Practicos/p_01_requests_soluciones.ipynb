{
 "metadata": {
  "language_info": {
   "codemirror_mode": {
    "name": "ipython",
    "version": 3
   },
   "file_extension": ".py",
   "mimetype": "text/x-python",
   "name": "python",
   "nbconvert_exporter": "python",
   "pygments_lexer": "ipython3",
   "version": "3.7.9"
  },
  "orig_nbformat": 2,
  "kernelspec": {
   "name": "python379jvsc74a57bd062b65a3e32fd75c6613f438e3e64606454bf9518010d2b50fe61db1c37149f34",
   "display_name": "Python 3.7.9 64-bit ('Scrapping-CfF0pIyJ': pipenv)"
  }
 },
 "nbformat": 4,
 "nbformat_minor": 2,
 "cells": [
  {
   "source": [
    "p_01 | `requests`\n",
    "===="
   ],
   "cell_type": "markdown",
   "metadata": {}
  },
  {
   "source": [
    "Ejercicio 1\n",
    "----\n",
    "\n",
    "1. Reconstuir la siguiente URL usando el parámetro `params` de `requests.get()`: http://comtrade.un.org/api/get/plus?max=5000&type=C&freq=A&px=H5&ps=2020&r=858&p=0&rg=2&cc=AG2. Este es el servicio de Naciones Unidas que provee estadísticas de comercio internacional, y lo que estamos consultando son las exportaciones de Uruguay al mundo en 2020 para el nivel de agregación de productos 2.\n",
    "2. Cambiar los parámetros para consultar datos para los últimos 4 años (parámetro \"ps\") y Argentina como contrapartida (parámetro \"p\" igual a 32). Es válido consultar la [documentación de la API](https://comtrade.un.org/Data/Doc/API) para evacuar dudas.\n",
    "3. Decodificar la response JSON que devuelve la API y construir un DataFrame. Recordar que la función `json()` de `requests` devuelve un diccionario estándar de Python, y que la clase `DataFrame` admite diccionarios como argumentos."
   ],
   "cell_type": "markdown",
   "metadata": {}
  },
  {
   "cell_type": "code",
   "execution_count": 1,
   "metadata": {},
   "outputs": [
    {
     "output_type": "execute_result",
     "data": {
      "text/plain": [
       "'https://comtrade.un.org/api/get/plus?max=5000&type=C&freq=A&px=H5&ps=2020&r=858&p=0&rg=2&cc=AG2'"
      ]
     },
     "metadata": {},
     "execution_count": 1
    }
   ],
   "source": [
    "# Ejercicio 1 | Solución 1\n",
    "import requests\n",
    "\n",
    "base_url = \"https://comtrade.un.org/api/get/plus?\"\n",
    "params = {\"max\": \"5000\", \"type\": \"C\", \"freq\": \"A\", \"px\": \"H5\", \"ps\": \"2020\", \"r\": \"858\", \"p\": \"0\", \"rg\": \"2\", \"cc\": \"AG2\"}\n",
    "r = requests.get(base_url, params=params)\n",
    "r.url"
   ]
  },
  {
   "cell_type": "code",
   "execution_count": 1,
   "metadata": {},
   "outputs": [
    {
     "output_type": "execute_result",
     "data": {
      "text/plain": [
       "'https://comtrade.un.org/api/get/plus?max=5000&type=C&freq=A&px=H5&ps=2020&r=858&p=0&rg=2&cc=AG2'"
      ]
     },
     "metadata": {},
     "execution_count": 1
    }
   ],
   "source": [
    "import requests\n",
    "items= {'max':'5000','type': 'C', 'freq':'A','px':'H5','ps':'2020','r':'858','p':'0','rg':'2','cc':'AG2'}\n",
    "data = requests.get('https://comtrade.un.org/api/get/plus?',params=items)\n",
    "data.url\n"
   ]
  },
  {
   "cell_type": "code",
   "execution_count": 2,
   "metadata": {},
   "outputs": [
    {
     "output_type": "execute_result",
     "data": {
      "text/plain": [
       "'https://comtrade.un.org/api/get/plus?max=5000&type=C&freq=A&px=H5&ps=2017%2C2018%2C2019%2C2020&r=858&p=32&rg=2&cc=AG2'"
      ]
     },
     "metadata": {},
     "execution_count": 2
    }
   ],
   "source": [
    "# Ejercicio 1 | Solución 2\n",
    "\n",
    "params = {\"max\": \"5000\", \"type\": \"C\", \"freq\": \"A\", \"px\": \"H5\", \"ps\": \"2017,2018,2019,2020\", \"r\": \"858\", \"p\": \"32\", \"rg\": \"2\", \"cc\": \"AG2\"}\n",
    "r = requests.get(base_url, params=params)\n",
    "r.url"
   ]
  },
  {
   "cell_type": "code",
   "execution_count": 3,
   "metadata": {
    "tags": []
   },
   "outputs": [
    {
     "output_type": "stream",
     "name": "stdout",
     "text": [
      "dict_keys(['validation', 'dataset'])\n"
     ]
    },
    {
     "output_type": "execute_result",
     "data": {
      "text/plain": [
       "  pfCode    yr  period periodDesc  aggrLevel  IsLeaf  rgCode rgDesc  rtCode  \\\n",
       "0     H5  2017    2017       2017          2       0       0      X     858   \n",
       "1     H5  2017    2017       2017          2       0       0      X     858   \n",
       "2     H5  2017    2017       2017          2       0       0      X     858   \n",
       "3     H5  2017    2017       2017          2       0       0      X     858   \n",
       "4     H5  2017    2017       2017          2       0       0      X     858   \n",
       "\n",
       "   rtTitle  ... qtAltCode  qtAltDesc TradeQuantity AltQuantity  NetWeight  \\\n",
       "0  Uruguay  ...        -1        N/A             0         0.0        NaN   \n",
       "1  Uruguay  ...        -1        N/A             0         0.0        NaN   \n",
       "2  Uruguay  ...        -1        N/A             0         0.0        NaN   \n",
       "3  Uruguay  ...        -1        N/A             0         0.0        NaN   \n",
       "4  Uruguay  ...        -1        N/A             0         0.0        NaN   \n",
       "\n",
       "  GrossWeight TradeValue CIFValue  FOBValue estCode  \n",
       "0         NaN     230256      NaN  230256.0       0  \n",
       "1         NaN     230256      NaN  230256.0       0  \n",
       "2         NaN     226248      NaN  226248.0       0  \n",
       "3         NaN     226248      NaN  226248.0       0  \n",
       "4         NaN       4008      NaN    4008.0       0  \n",
       "\n",
       "[5 rows x 35 columns]"
      ],
      "text/html": "<div>\n<style scoped>\n    .dataframe tbody tr th:only-of-type {\n        vertical-align: middle;\n    }\n\n    .dataframe tbody tr th {\n        vertical-align: top;\n    }\n\n    .dataframe thead th {\n        text-align: right;\n    }\n</style>\n<table border=\"1\" class=\"dataframe\">\n  <thead>\n    <tr style=\"text-align: right;\">\n      <th></th>\n      <th>pfCode</th>\n      <th>yr</th>\n      <th>period</th>\n      <th>periodDesc</th>\n      <th>aggrLevel</th>\n      <th>IsLeaf</th>\n      <th>rgCode</th>\n      <th>rgDesc</th>\n      <th>rtCode</th>\n      <th>rtTitle</th>\n      <th>...</th>\n      <th>qtAltCode</th>\n      <th>qtAltDesc</th>\n      <th>TradeQuantity</th>\n      <th>AltQuantity</th>\n      <th>NetWeight</th>\n      <th>GrossWeight</th>\n      <th>TradeValue</th>\n      <th>CIFValue</th>\n      <th>FOBValue</th>\n      <th>estCode</th>\n    </tr>\n  </thead>\n  <tbody>\n    <tr>\n      <th>0</th>\n      <td>H5</td>\n      <td>2017</td>\n      <td>2017</td>\n      <td>2017</td>\n      <td>2</td>\n      <td>0</td>\n      <td>0</td>\n      <td>X</td>\n      <td>858</td>\n      <td>Uruguay</td>\n      <td>...</td>\n      <td>-1</td>\n      <td>N/A</td>\n      <td>0</td>\n      <td>0.0</td>\n      <td>NaN</td>\n      <td>NaN</td>\n      <td>230256</td>\n      <td>NaN</td>\n      <td>230256.0</td>\n      <td>0</td>\n    </tr>\n    <tr>\n      <th>1</th>\n      <td>H5</td>\n      <td>2017</td>\n      <td>2017</td>\n      <td>2017</td>\n      <td>2</td>\n      <td>0</td>\n      <td>0</td>\n      <td>X</td>\n      <td>858</td>\n      <td>Uruguay</td>\n      <td>...</td>\n      <td>-1</td>\n      <td>N/A</td>\n      <td>0</td>\n      <td>0.0</td>\n      <td>NaN</td>\n      <td>NaN</td>\n      <td>230256</td>\n      <td>NaN</td>\n      <td>230256.0</td>\n      <td>0</td>\n    </tr>\n    <tr>\n      <th>2</th>\n      <td>H5</td>\n      <td>2017</td>\n      <td>2017</td>\n      <td>2017</td>\n      <td>2</td>\n      <td>0</td>\n      <td>0</td>\n      <td>X</td>\n      <td>858</td>\n      <td>Uruguay</td>\n      <td>...</td>\n      <td>-1</td>\n      <td>N/A</td>\n      <td>0</td>\n      <td>0.0</td>\n      <td>NaN</td>\n      <td>NaN</td>\n      <td>226248</td>\n      <td>NaN</td>\n      <td>226248.0</td>\n      <td>0</td>\n    </tr>\n    <tr>\n      <th>3</th>\n      <td>H5</td>\n      <td>2017</td>\n      <td>2017</td>\n      <td>2017</td>\n      <td>2</td>\n      <td>0</td>\n      <td>0</td>\n      <td>X</td>\n      <td>858</td>\n      <td>Uruguay</td>\n      <td>...</td>\n      <td>-1</td>\n      <td>N/A</td>\n      <td>0</td>\n      <td>0.0</td>\n      <td>NaN</td>\n      <td>NaN</td>\n      <td>226248</td>\n      <td>NaN</td>\n      <td>226248.0</td>\n      <td>0</td>\n    </tr>\n    <tr>\n      <th>4</th>\n      <td>H5</td>\n      <td>2017</td>\n      <td>2017</td>\n      <td>2017</td>\n      <td>2</td>\n      <td>0</td>\n      <td>0</td>\n      <td>X</td>\n      <td>858</td>\n      <td>Uruguay</td>\n      <td>...</td>\n      <td>-1</td>\n      <td>N/A</td>\n      <td>0</td>\n      <td>0.0</td>\n      <td>NaN</td>\n      <td>NaN</td>\n      <td>4008</td>\n      <td>NaN</td>\n      <td>4008.0</td>\n      <td>0</td>\n    </tr>\n  </tbody>\n</table>\n<p>5 rows × 35 columns</p>\n</div>"
     },
     "metadata": {},
     "execution_count": 3
    }
   ],
   "source": [
    "# Ejercicio 1 | Solución 3\n",
    "import pandas as pd\n",
    "\n",
    "decoded = r.json()\n",
    "print(decoded.keys())\n",
    "df = pd.DataFrame(decoded[\"dataset\"])\n",
    "df.head(5)"
   ]
  },
  {
   "source": [
    "\n",
    "Ejercicio 2\n",
    "----\n",
    "\n",
    "Descargue las primeras 10 imágenes de la categoría que prefiera de https://unsplash.com/, utilizando un context manager para manejar la apertura y cierre de archivos.\n",
    "\n",
    "Para obtener los links de descarga, use la función `unsplash_get_download_urls()` definida en el siguiente bloque, a la que deberá proveerle una URL correspondiente a una categoría de Unsplash."
   ],
   "cell_type": "markdown",
   "metadata": {}
  },
  {
   "cell_type": "code",
   "execution_count": 4,
   "metadata": {},
   "outputs": [],
   "source": [
    "from typing import List\n",
    "\n",
    "from bs4 import BeautifulSoup\n",
    "\n",
    "def unsplash_get_download_urls(url: str) -> List[str]:\n",
    "    r = requests.get(url)\n",
    "    soup = BeautifulSoup(r.text)\n",
    "    downloads = soup.find_all(\"a\", title=\"Download photo\")\n",
    "    return [download.get(\"href\") for download in downloads]"
   ]
  },
  {
   "cell_type": "code",
   "execution_count": 5,
   "metadata": {},
   "outputs": [],
   "source": [
    "# Ejercicio 2 | Solución\n",
    "\n",
    "photo_urls = unsplash_get_download_urls(\"https://unsplash.com/t/people\")\n",
    "with requests.Session() as s:\n",
    "    for i, url in enumerate(photo_urls[:10]):\n",
    "        r = s.get(url)\n",
    "        with open(f\"{i}.png\", \"wb\") as f:\n",
    "            f.write(r.content)"
   ]
  },
  {
   "cell_type": "code",
   "execution_count": null,
   "metadata": {},
   "outputs": [],
   "source": []
  }
 ]
}