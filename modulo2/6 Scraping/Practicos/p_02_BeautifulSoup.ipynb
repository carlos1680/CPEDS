{
 "metadata": {
  "language_info": {
   "codemirror_mode": {
    "name": "ipython",
    "version": 3
   },
   "file_extension": ".py",
   "mimetype": "text/x-python",
   "name": "python",
   "nbconvert_exporter": "python",
   "pygments_lexer": "ipython3",
   "version": "3.7.9"
  },
  "orig_nbformat": 2,
  "kernelspec": {
   "name": "python379jvsc74a57bd062b65a3e32fd75c6613f438e3e64606454bf9518010d2b50fe61db1c37149f34",
   "display_name": "Python 3.7.9 64-bit ('Scrapping-CfF0pIyJ': pipenv)"
  }
 },
 "nbformat": 4,
 "nbformat_minor": 2,
 "cells": [
  {
   "source": [
    "p_02 | `BeautifulSoup`\n",
    "===="
   ],
   "cell_type": "markdown",
   "metadata": {}
  },
  {
   "source": [
    "Ejercicio 1\n",
    "----\n",
    "\n",
    "1. De [esta URL](https://autos.mercadolibre.com.uy/usado/dueno/2016-2019/auto_NoIndex_True_VEHICLE*BODY*TYPE_479344) (solo la primera página) extraer la siguiente información para cada publicación y construir un DataFrame. Agregar una columna con la URL de la publicación correspondiente.\n",
    "    1. Nombre (Marca, modelo, etc.)\n",
    "    2. Año\n",
    "    3. Kilometraje\n",
    "    4. Ubicación\n",
    "    5. Precio\n",
    "2. Descargar la imagen correspondiente a cada publicación (solo la que aparece en la búsqueda). El nombre del archivo debe referenciar la publicación (ya sea por marca-modelo o por un identificador común). No sobreescribir la `request` original.\n",
    "3. Ingresar a cada publicación y crear un DataFrame a partir de la tabla de \"Características principales\" (reutilizar la `request` original). Cada una de las características debe ser una columna, y cada fila un auto. Concatenar este DataFrame con el original, haciendo las modificaciones necesarias para que no haya columnas repetidas."
   ],
   "cell_type": "markdown",
   "metadata": {}
  },
  {
   "cell_type": "code",
   "execution_count": null,
   "metadata": {},
   "outputs": [],
   "source": []
  }
 ]
}