{
 "metadata": {
  "language_info": {
   "codemirror_mode": {
    "name": "ipython",
    "version": 3
   },
   "file_extension": ".py",
   "mimetype": "text/x-python",
   "name": "python",
   "nbconvert_exporter": "python",
   "pygments_lexer": "ipython3",
   "version": "3.7.9"
  },
  "orig_nbformat": 2,
  "kernelspec": {
   "name": "python379jvsc74a57bd062b65a3e32fd75c6613f438e3e64606454bf9518010d2b50fe61db1c37149f34",
   "display_name": "Python 3.7.9 64-bit ('Scrapping-CfF0pIyJ': pipenv)"
  }
 },
 "nbformat": 4,
 "nbformat_minor": 2,
 "cells": [
  {
   "source": [
    "p_02 | `BeautifulSoup`\n",
    "===="
   ],
   "cell_type": "markdown",
   "metadata": {}
  },
  {
   "source": [
    "Ejercicio 1\n",
    "----\n",
    "\n",
    "1. De [esta URL](https://autos.mercadolibre.com.uy/usado/dueno/2016-2019/auto_NoIndex_True_VEHICLE*BODY*TYPE_479344) (solo la primera página) extraer la siguiente información para cada publicación y construir un DataFrame. Agregar una columna con la URL de la publicación correspondiente.\n",
    "    1. Nombre (Marca, modelo, etc.)\n",
    "    2. Año\n",
    "    3. Kilometraje\n",
    "    4. Ubicación\n",
    "    5. Precio\n",
    "2. Descargar la imagen correspondiente a cada publicación (solo la que aparece en la búsqueda). El nombre del archivo debe referenciar la publicación (ya sea por marca-modelo o por un identificador común). No sobreescribir la `request` original.\n",
    "3. Ingresar a cada publicación y crear un DataFrame a partir de la tabla de \"Características principales\" (reutilizar la `request` original). Cada una de las características debe ser una columna, y cada fila un auto. Concatenar este DataFrame con el original, haciendo las modificaciones necesarias para que no haya columnas repetidas."
   ],
   "cell_type": "markdown",
   "metadata": {}
  },
  {
   "cell_type": "code",
   "execution_count": 6,
   "metadata": {},
   "outputs": [
    {
     "output_type": "execute_result",
     "data": {
      "text/plain": [
       "                                   Auto   Año Kilometraje  Precio  \\\n",
       "0  Chevrolet Cruze 5 1.4 Ltz Plus 153cv  2017  147.000 Km  22.500   \n",
       "1        Volkswagen Gol 1.6 Power 101cv  2018   35.000 Km  13.800   \n",
       "2    Mini Cooper Countryman 2.0 S 192cv  2018   47.000 Km  41.900   \n",
       "3                   Suzuki Swift 1.2 Go  2018   70.000 Km  11.700   \n",
       "4              Geely Lc 1.0 Gl Full Gc2  2017   87.750 Km   7.300   \n",
       "\n",
       "               Ubicación                                                URL  \n",
       "0        Rivera - Rivera  https://auto.mercadolibre.com.uy/MLU-479553723...  \n",
       "1    Malvin - Montevideo  https://auto.mercadolibre.com.uy/MLU-479540109...  \n",
       "2  Carrasco - Montevideo  https://auto.mercadolibre.com.uy/MLU-479316295...  \n",
       "3   Cerrito - Montevideo  https://auto.mercadolibre.com.uy/MLU-478794828...  \n",
       "4    Malvin - Montevideo  https://auto.mercadolibre.com.uy/MLU-479306530...  "
      ],
      "text/html": "<div>\n<style scoped>\n    .dataframe tbody tr th:only-of-type {\n        vertical-align: middle;\n    }\n\n    .dataframe tbody tr th {\n        vertical-align: top;\n    }\n\n    .dataframe thead th {\n        text-align: right;\n    }\n</style>\n<table border=\"1\" class=\"dataframe\">\n  <thead>\n    <tr style=\"text-align: right;\">\n      <th></th>\n      <th>Auto</th>\n      <th>Año</th>\n      <th>Kilometraje</th>\n      <th>Precio</th>\n      <th>Ubicación</th>\n      <th>URL</th>\n    </tr>\n  </thead>\n  <tbody>\n    <tr>\n      <th>0</th>\n      <td>Chevrolet Cruze 5 1.4 Ltz Plus 153cv</td>\n      <td>2017</td>\n      <td>147.000 Km</td>\n      <td>22.500</td>\n      <td>Rivera - Rivera</td>\n      <td>https://auto.mercadolibre.com.uy/MLU-479553723...</td>\n    </tr>\n    <tr>\n      <th>1</th>\n      <td>Volkswagen Gol 1.6 Power 101cv</td>\n      <td>2018</td>\n      <td>35.000 Km</td>\n      <td>13.800</td>\n      <td>Malvin - Montevideo</td>\n      <td>https://auto.mercadolibre.com.uy/MLU-479540109...</td>\n    </tr>\n    <tr>\n      <th>2</th>\n      <td>Mini Cooper Countryman 2.0 S 192cv</td>\n      <td>2018</td>\n      <td>47.000 Km</td>\n      <td>41.900</td>\n      <td>Carrasco - Montevideo</td>\n      <td>https://auto.mercadolibre.com.uy/MLU-479316295...</td>\n    </tr>\n    <tr>\n      <th>3</th>\n      <td>Suzuki Swift 1.2 Go</td>\n      <td>2018</td>\n      <td>70.000 Km</td>\n      <td>11.700</td>\n      <td>Cerrito - Montevideo</td>\n      <td>https://auto.mercadolibre.com.uy/MLU-478794828...</td>\n    </tr>\n    <tr>\n      <th>4</th>\n      <td>Geely Lc 1.0 Gl Full Gc2</td>\n      <td>2017</td>\n      <td>87.750 Km</td>\n      <td>7.300</td>\n      <td>Malvin - Montevideo</td>\n      <td>https://auto.mercadolibre.com.uy/MLU-479306530...</td>\n    </tr>\n  </tbody>\n</table>\n</div>"
     },
     "metadata": {},
     "execution_count": 6
    }
   ],
   "source": [
    "# Ejercicio 1 | Solución 1\n",
    "\n",
    "import requests\n",
    "from bs4 import BeautifulSoup\n",
    "import pandas as pd\n",
    "\n",
    "base_url = \"https://autos.mercadolibre.com.uy/usado/dueno/2016-2019/auto_NoIndex_True_VEHICLE*BODY*TYPE_479344\"\n",
    "r = requests.get(base_url)\n",
    "soup = BeautifulSoup(r.text)\n",
    "urls = [u.get(\"href\") for u in soup.find_all(\"a\", class_=\"ui-search-result__content ui-search-link\")]\n",
    "titles = [t.text for t in soup.find_all(\"h2\", class_=\"ui-search-item__title ui-search-item__group__element\")]\n",
    "attributes = soup.find_all(\"ul\", class_=\"ui-search-card-attributes ui-search-item__group__element\")\n",
    "years = [a.contents[0].text for a in attributes]\n",
    "kms = [a.contents[1].text for a in attributes]\n",
    "prices = [s.text for s in soup.find_all(\"span\", class_=\"price-tag-fraction\")]\n",
    "locations = [l.text for l in soup.find_all(\"span\", class_=\"ui-search-item__group__element ui-search-item__location\")]\n",
    "data = {\"Auto\": titles, \"Año\": years, \"Kilometraje\": kms, \"Precio\": prices[1:], \"Ubicación\": locations, \"URL\": urls}\n",
    "df = pd.DataFrame(data)\n",
    "df.head()\n"
   ]
  },
  {
   "cell_type": "code",
   "execution_count": 2,
   "metadata": {},
   "outputs": [
    {
     "output_type": "execute_result",
     "data": {
      "text/plain": [
       "['Audi A3 1.2 Tfsi Attraction 105 Hp 5p.jpg',\n",
       " 'Audi S3 2.0 Tfsi Stronic Quattro 300cv.jpg',\n",
       " 'Chevrolet Cruze 5 1.4 Ltz Plus 153cv.jpg',\n",
       " 'Chevrolet Onix 1.0 Joy 78cv.jpg',\n",
       " 'Chevrolet Onix 1.0 Lt 78cv.jpg',\n",
       " 'Chevrolet Onix 1.4 Activ.jpg',\n",
       " 'Chevrolet Onix Joy 1.0 Financio100%.jpg',\n",
       " 'Citroën C3 1.2 Puretech 82 Feel Europa.jpg',\n",
       " 'Citroën C3 1.2 Puretech 82 Shine Europa.jpg',\n",
       " 'Citroën C3 Aircross 1.2 Pure Tech 110 5v Feel Europa.jpg',\n",
       " 'Citroën Ds3 1,2.jpg',\n",
       " 'Fiat 500l 1.4 Pop Star 105cv.jpg',\n",
       " 'Fiat Mobi 1.0 Easy On.jpg',\n",
       " 'Fiat Uno 1.4 Way Lx.jpg',\n",
       " 'Ford Fiesta S Plus.jpg',\n",
       " 'Geely Lc 1.0 Gl Full Gc2.jpg',\n",
       " 'Honda Civic 1.5 Ex-t 2017.jpg',\n",
       " 'Honda Fit 1.5 Ex-l At 120cv.jpg',\n",
       " 'Kia Picanto 1.0 Ex Plus 5p.jpg',\n",
       " 'Kia Picanto 1.2 Ex 85cv 5mt.jpg',\n",
       " 'Kia Sportage 2.0 Ex 2wd 163cv Mt.jpg',\n",
       " 'Mini Cooper Countryman 2.0 S 192cv.jpg',\n",
       " 'Nissan March 1.6 Advance At.jpg',\n",
       " 'Nissan March 1.6 Advance Mt.jpg',\n",
       " 'Peugeot 208 1.0 Access 5p.jpg',\n",
       " 'Peugeot 208 1.6 Allure.jpg',\n",
       " 'Peugeot 308 1.6t Allure 5p Aut.jpg',\n",
       " 'Renault Clio 0.9 Iv Fase Ii Turbo Dynamique.jpg',\n",
       " 'Renault Clio 1.2 Iv Fase Ii Expression.jpg',\n",
       " 'Renault Kwid 1.0 Sce 66cv Zen.jpg',\n",
       " 'Renault Kwid Life 1.0 Financio.jpg',\n",
       " 'Renault Sandero 1.6 Authentique 90cv.jpg',\n",
       " 'Renault Sandero 1.6 Privilege 105cv.jpg',\n",
       " 'Suzuki Alto 0.8 800.jpg',\n",
       " 'Suzuki Celerio 1.0 Gl 5p.jpg',\n",
       " 'Suzuki Swift 1.2 Go.jpg',\n",
       " 'Volkswagen Gol 1.6 Power 101cv.jpg',\n",
       " 'Volkswagen The Beetle 1.4 Design Dsg.jpg',\n",
       " 'Volkswagen Up! 1.0 High Up! 75cv.jpg',\n",
       " 'Volkswagen Up! 1.0 Move Up! 75cv.jpg']"
      ]
     },
     "metadata": {},
     "execution_count": 2
    }
   ],
   "source": [
    "# Ejercicio 1 | Solución 2\n",
    "from pathlib import Path\n",
    "\n",
    "img_urls = [img.get(\"data-src\") for img in soup.find_all(\"img\", class_=\"ui-search-result-image__element\")]\n",
    "filenames = df[\"Auto\"].to_list()\n",
    "\n",
    "with requests.Session() as s:\n",
    "    for url, filename in zip(img_urls, filenames):\n",
    "        r_img = s.get(url)\n",
    "        with open(f\"{filename}.jpg\", \"wb\") as f:\n",
    "            f.write(r_img.content)\n",
    "\n",
    "[x.name for x in Path(\".\").glob(\"*.jpg\")]"
   ]
  },
  {
   "cell_type": "code",
   "execution_count": 4,
   "metadata": {},
   "outputs": [
    {
     "output_type": "execute_result",
     "data": {
      "text/plain": [
       "                                   Auto   Año Kilometraje  \\\n",
       "0  Chevrolet Cruze 5 1.4 Ltz Plus 153cv  2017  147.000 Km   \n",
       "1        Volkswagen Gol 1.6 Power 101cv  2018   35.000 Km   \n",
       "2    Mini Cooper Countryman 2.0 S 192cv  2018   47.000 Km   \n",
       "3                   Suzuki Swift 1.2 Go  2018   70.000 Km   \n",
       "4              Geely Lc 1.0 Gl Full Gc2  2017   87.750 Km   \n",
       "\n",
       "               Ubicación                                               URLs  \\\n",
       "0        Rivera - Rivera  https://auto.mercadolibre.com.uy/MLU-479553723...   \n",
       "1    Malvin - Montevideo  https://auto.mercadolibre.com.uy/MLU-479540109...   \n",
       "2  Carrasco - Montevideo  https://auto.mercadolibre.com.uy/MLU-479316295...   \n",
       "3   Cerrito - Montevideo  https://auto.mercadolibre.com.uy/MLU-478794828...   \n",
       "4    Malvin - Montevideo  https://auto.mercadolibre.com.uy/MLU-479306530...   \n",
       "\n",
       "        Marca             Modelo     Color Tipo de combustible Puertas  \\\n",
       "0   Chevrolet            Cruze 5  Plateado               Nafta       5   \n",
       "1  Volkswagen                Gol  Plateado               Nafta       5   \n",
       "2        Mini  Cooper Countryman    Blanco               Nafta       5   \n",
       "3      Suzuki              Swift  Plateado               Nafta       5   \n",
       "4       Geely     LC 1.0 GL FULL    Blanco               Nafta       5   \n",
       "\n",
       "  Transmisión      Motor Tipo de carrocería  \n",
       "0  Automática        1.4          Hatchback  \n",
       "1      Manual        1.6          Hatchback  \n",
       "2      Manual        2.0          Hatchback  \n",
       "3      Manual        1.2          Hatchback  \n",
       "4      Manual  1.000 cm3          Hatchback  "
      ],
      "text/html": "<div>\n<style scoped>\n    .dataframe tbody tr th:only-of-type {\n        vertical-align: middle;\n    }\n\n    .dataframe tbody tr th {\n        vertical-align: top;\n    }\n\n    .dataframe thead th {\n        text-align: right;\n    }\n</style>\n<table border=\"1\" class=\"dataframe\">\n  <thead>\n    <tr style=\"text-align: right;\">\n      <th></th>\n      <th>Auto</th>\n      <th>Año</th>\n      <th>Kilometraje</th>\n      <th>Ubicación</th>\n      <th>URLs</th>\n      <th>Marca</th>\n      <th>Modelo</th>\n      <th>Color</th>\n      <th>Tipo de combustible</th>\n      <th>Puertas</th>\n      <th>Transmisión</th>\n      <th>Motor</th>\n      <th>Tipo de carrocería</th>\n    </tr>\n  </thead>\n  <tbody>\n    <tr>\n      <th>0</th>\n      <td>Chevrolet Cruze 5 1.4 Ltz Plus 153cv</td>\n      <td>2017</td>\n      <td>147.000 Km</td>\n      <td>Rivera - Rivera</td>\n      <td>https://auto.mercadolibre.com.uy/MLU-479553723...</td>\n      <td>Chevrolet</td>\n      <td>Cruze 5</td>\n      <td>Plateado</td>\n      <td>Nafta</td>\n      <td>5</td>\n      <td>Automática</td>\n      <td>1.4</td>\n      <td>Hatchback</td>\n    </tr>\n    <tr>\n      <th>1</th>\n      <td>Volkswagen Gol 1.6 Power 101cv</td>\n      <td>2018</td>\n      <td>35.000 Km</td>\n      <td>Malvin - Montevideo</td>\n      <td>https://auto.mercadolibre.com.uy/MLU-479540109...</td>\n      <td>Volkswagen</td>\n      <td>Gol</td>\n      <td>Plateado</td>\n      <td>Nafta</td>\n      <td>5</td>\n      <td>Manual</td>\n      <td>1.6</td>\n      <td>Hatchback</td>\n    </tr>\n    <tr>\n      <th>2</th>\n      <td>Mini Cooper Countryman 2.0 S 192cv</td>\n      <td>2018</td>\n      <td>47.000 Km</td>\n      <td>Carrasco - Montevideo</td>\n      <td>https://auto.mercadolibre.com.uy/MLU-479316295...</td>\n      <td>Mini</td>\n      <td>Cooper Countryman</td>\n      <td>Blanco</td>\n      <td>Nafta</td>\n      <td>5</td>\n      <td>Manual</td>\n      <td>2.0</td>\n      <td>Hatchback</td>\n    </tr>\n    <tr>\n      <th>3</th>\n      <td>Suzuki Swift 1.2 Go</td>\n      <td>2018</td>\n      <td>70.000 Km</td>\n      <td>Cerrito - Montevideo</td>\n      <td>https://auto.mercadolibre.com.uy/MLU-478794828...</td>\n      <td>Suzuki</td>\n      <td>Swift</td>\n      <td>Plateado</td>\n      <td>Nafta</td>\n      <td>5</td>\n      <td>Manual</td>\n      <td>1.2</td>\n      <td>Hatchback</td>\n    </tr>\n    <tr>\n      <th>4</th>\n      <td>Geely Lc 1.0 Gl Full Gc2</td>\n      <td>2017</td>\n      <td>87.750 Km</td>\n      <td>Malvin - Montevideo</td>\n      <td>https://auto.mercadolibre.com.uy/MLU-479306530...</td>\n      <td>Geely</td>\n      <td>LC 1.0 GL FULL</td>\n      <td>Blanco</td>\n      <td>Nafta</td>\n      <td>5</td>\n      <td>Manual</td>\n      <td>1.000 cm3</td>\n      <td>Hatchback</td>\n    </tr>\n  </tbody>\n</table>\n</div>"
     },
     "metadata": {},
     "execution_count": 4
    }
   ],
   "source": [
    "# Ejercicio 1 | Solución 3\n",
    "\n",
    "tables = []\n",
    "with requests.Session() as s:\n",
    "    for url in urls:\n",
    "        r_post = s.get(url)\n",
    "        table = pd.read_html(r_post.text, attrs={\"class\": \"andes-table\"}, flavor=\"html5lib\", index_col=0)[0]\n",
    "        tables.append(table)\n",
    "full_table = pd.concat(tables, axis=1).T.reset_index(drop=True).drop([\"Año\", \"Kilómetros\"], axis=1)\n",
    "final = pd.concat([df, full_table], axis=1)\n",
    "final.head()\n"
   ]
  },
  {
   "cell_type": "code",
   "execution_count": null,
   "metadata": {},
   "outputs": [],
   "source": []
  }
 ]
}