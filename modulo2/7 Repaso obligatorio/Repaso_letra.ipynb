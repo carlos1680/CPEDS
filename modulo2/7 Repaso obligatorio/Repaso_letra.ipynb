{
  "nbformat": 4,
  "nbformat_minor": 0,
  "metadata": {
    "colab": {
      "name": "Repaso_letra",
      "provenance": [],
      "collapsed_sections": []
    },
    "kernelspec": {
      "name": "python3",
      "display_name": "Python 3"
    },
    "language_info": {
      "name": "python"
    }
  },
  "cells": [
    {
      "cell_type": "markdown",
      "metadata": {
        "id": "5UiWCBRSF0VM"
      },
      "source": [
        "# Repaso para el obligatorio\n",
        "---\n",
        "\n",
        "Para este ejercicio se trabajará con un dataset que muestra las ventas de un producto a distintos países. Lamentablemente la información llega en un formato inadecuado para su análisis y tendremos que buscar la forma de acoplarla. Para completar esta actividad, debe realizar lo siguiente:\n",
        "\n",
        "*  Obtenga el dataset repaso_data.xlsx\n",
        "*  La columna code corresponde a tres elementos: \n",
        "  - Costo de producto\n",
        "  - Cantidad de productos\n",
        "  - Precio de venta del producto.  \n",
        "A partir de esto, genere tres columnas: costo, cantidad, precio. \n",
        "*  Genere una columna 'ganancia' que sea la diferencia entre el costo por cantidad y el precio por cantidad. \n",
        "*  Genere una tabla que muestre la cantidad total de ganancia por país\n",
        "  - Obtenga los 10 países con mayores ganancias y grafíquelos en un gráfico de barras horizontales. \n",
        "*  Genere una tabla que muestre el promedio de ganancia por país.\n",
        "  - Obtenga los 5 países con mayores promedios y grafíquelos en un gráfico de torta. \n"
      ]
    },
    {
      "cell_type": "code",
      "metadata": {
        "id": "UfYwDZ_eF1mf"
      },
      "source": [
        ""
      ],
      "execution_count": null,
      "outputs": []
    }
  ]
}