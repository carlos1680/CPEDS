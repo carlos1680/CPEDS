{
 "cells": [
  {
   "cell_type": "markdown",
   "metadata": {
    "id": "gMirF7YlLw4m"
   },
   "source": [
    "## Introducción a Python"
   ]
  },
  {
   "cell_type": "markdown",
   "metadata": {},
   "source": [
    "El documento que estás leyendo no es una página web estática, sino un entorno interactivo que te permite escribir y ejecutar código.\n",
    "\n",
    "**¿Qué es una Notebook?**\n",
    "Una notebook es un tipo de documento (archivo) que nos permite alternar bloques de texto con bloques de código ejecutable. **A cada bloque dentro del notebook lo denominamos celda.**\n",
    "\n",
    "Una celda puede ser del tipo texto (como el bloque en donde está escrito este contenido) o del tipo código (donde vamos a escribir nuestros programas).\n",
    "\n",
    "**¿Cómo se ejecuta una celda de tipo código?**\n",
    "Una opción es presionando Ctrl+Enter (o si tenés MAC, Cmd+Enter)\n",
    "Otra forma de ejecutarlo es presionando el botón que aparece en la esquina superior izquierda del cuadro de texto con el código (parecido a play).\n",
    "Siempre de arriba hacia abajo (mantenerse ordenado, por cuestiones de reproducibilidad)."
   ]
  },
  {
   "cell_type": "markdown",
   "metadata": {
    "id": "l2z5acAYMmnC"
   },
   "source": [
    "En este módulo se conoceran los fundamentos de Python como lenguaje de programación. Los temas a tratar son:\n",
    "\n",
    "* Variables\n",
    "* Tipos de datos\n",
    "* Condicionales y bucles\n",
    "* Funciones\n",
    "* Clases"
   ]
  },
  {
   "cell_type": "markdown",
   "metadata": {},
   "source": [
    "## Variables "
   ]
  },
  {
   "cell_type": "markdown",
   "metadata": {},
   "source": [
    "Una variable es una forma de identificar un dato que se encuentra almacenado en la memoria del ordenador. Imagina que una variable es un contenedor en el que se almacena un dato, el cuál, puede cambiar durante el flujo del programa. Una variable nos permite acceder fácilmente a dicho dato para ser manipulado y transformado.\n",
    "\n",
    "Para crear una variable en Python se le debe proporcionar un nombre y asignarle un valor utilizando el símbolo =\n",
    "\n",
    "A este operador lo llamamos operador de asignación."
   ]
  },
  {
   "cell_type": "code",
   "execution_count": 1,
   "metadata": {},
   "outputs": [],
   "source": [
    "var = \"Hola mundo\"  #  si necesitamos guardar texto se indica con: \"texto\" o 'texto'."
   ]
  },
  {
   "cell_type": "code",
   "execution_count": 2,
   "metadata": {},
   "outputs": [
    {
     "name": "stdout",
     "output_type": "stream",
     "text": [
      "Belen\n"
     ]
    }
   ],
   "source": [
    "mi_nombre = 'Belen'\n",
    "print(mi_nombre)"
   ]
  },
  {
   "cell_type": "code",
   "execution_count": 3,
   "metadata": {},
   "outputs": [
    {
     "data": {
      "text/plain": [
       "'Belen'"
      ]
     },
     "execution_count": 3,
     "metadata": {},
     "output_type": "execute_result"
    }
   ],
   "source": [
    "mi_nombre"
   ]
  },
  {
   "cell_type": "markdown",
   "metadata": {},
   "source": [
    "Los nombres de variables válidas en Python deben ajustarse a las siguientes tres simples reglas:\n",
    "\n",
    "- El nombre de una variable NO puede comenzar por un número(para que el lenguaje no lo confunda con un número, justamente). Debe empezar por una letra (a-z, A-Z) o un guión bajo (_).\n",
    "\n",
    "- Los restantes caracteres pueden ser alfanuméricos o _\n",
    "\n",
    "- No se pueden utilizar palabras reservadas por Python como nombres de variables. Por ejemplo: print, if, else, for, entre otras. Esto es porque Python las usa para otros fines y ya tienen un significado especial.\n",
    "\n",
    "Los programadores generalmente escogen nombres significativos para sus variables — que especifiquen para qué se usa la variable"
   ]
  },
  {
   "cell_type": "markdown",
   "metadata": {
    "id": "S_K01YRqM9Nh"
   },
   "source": [
    "## Tipos de datos"
   ]
  },
  {
   "cell_type": "markdown",
   "metadata": {
    "id": "0TXwGgeWOTWw"
   },
   "source": [
    "En esta sección se verán los distintos tipos de datos disponibles en Python."
   ]
  },
  {
   "cell_type": "markdown",
   "metadata": {},
   "source": [
    "Los tipos de dato permiten clasificar la información que contiene una variable. \n",
    "\n",
    "Siempre que creamos una variable tendrá un tipo de dato ─que es inferido por Python─ asignado según el valor que le demos.\n",
    "\n",
    "Tipado dinámico La característica de tipado dinámico se refiere a que no es necesario declarar el tipo de dato que va a contener una determinada variable, sino que su tipo se determinará en tiempo de ejecución según el tipo del valor al que se asigne, y el tipo de esta variable puede cambiar si se le asigna un valor de otro tipo."
   ]
  },
  {
   "cell_type": "code",
   "execution_count": null,
   "metadata": {
    "colab": {
     "base_uri": "https://localhost:8080/"
    },
    "executionInfo": {
     "elapsed": 895,
     "status": "ok",
     "timestamp": 1617662779808,
     "user": {
      "displayName": "Daniel Blanc",
      "photoUrl": "https://lh3.googleusercontent.com/a-/AOh14GjOzaUk5JaDiJFljgw1A79OgwfoRz4PhHeGgGg=s64",
      "userId": "15048843390343866158"
     },
     "user_tz": 180
    },
    "id": "VnSFJxmjMHCO",
    "outputId": "0f49c7d4-7131-4808-ae27-8ff56e32b23c"
   },
   "outputs": [
    {
     "data": {
      "text/plain": [
       "30"
      ]
     },
     "execution_count": 1,
     "metadata": {
      "tags": []
     },
     "output_type": "execute_result"
    }
   ],
   "source": [
    "10 + 20 # Shift + Enter = Correr código + Crear nueva celda de código"
   ]
  },
  {
   "cell_type": "code",
   "execution_count": 4,
   "metadata": {},
   "outputs": [
    {
     "data": {
      "text/plain": [
       "60"
      ]
     },
     "execution_count": 4,
     "metadata": {},
     "output_type": "execute_result"
    }
   ],
   "source": [
    "50 + 10"
   ]
  },
  {
   "cell_type": "code",
   "execution_count": null,
   "metadata": {
    "colab": {
     "base_uri": "https://localhost:8080/"
    },
    "executionInfo": {
     "elapsed": 828,
     "status": "ok",
     "timestamp": 1617662809817,
     "user": {
      "displayName": "Daniel Blanc",
      "photoUrl": "https://lh3.googleusercontent.com/a-/AOh14GjOzaUk5JaDiJFljgw1A79OgwfoRz4PhHeGgGg=s64",
      "userId": "15048843390343866158"
     },
     "user_tz": 180
    },
    "id": "Km9JlRnYNx28",
    "outputId": "ffb1296d-6bd7-478c-aebc-4c9c6acf44be"
   },
   "outputs": [
    {
     "data": {
      "text/plain": [
       "20"
      ]
     },
     "execution_count": 2,
     "metadata": {
      "tags": []
     },
     "output_type": "execute_result"
    }
   ],
   "source": [
    "50 - 30 # Ctrl + Enter = Correr código"
   ]
  },
  {
   "cell_type": "markdown",
   "metadata": {
    "id": "KpEUaQl0TxCm"
   },
   "source": [
    "Los cuatro principales tipos de datos en Python:\n",
    "*  Enteros\n",
    "*  Decimales\n",
    "*  Texto\n",
    "*  Booleanos"
   ]
  },
  {
   "cell_type": "code",
   "execution_count": 26,
   "metadata": {
    "id": "jtePY3JJRaOq"
   },
   "outputs": [],
   "source": [
    "a = 10\n",
    "b = 10.5\n",
    "c = 'hola'\n",
    "d = False"
   ]
  },
  {
   "cell_type": "code",
   "execution_count": 27,
   "metadata": {
    "colab": {
     "base_uri": "https://localhost:8080/"
    },
    "executionInfo": {
     "elapsed": 951,
     "status": "ok",
     "timestamp": 1617664331049,
     "user": {
      "displayName": "Daniel Blanc",
      "photoUrl": "https://lh3.googleusercontent.com/a-/AOh14GjOzaUk5JaDiJFljgw1A79OgwfoRz4PhHeGgGg=s64",
      "userId": "15048843390343866158"
     },
     "user_tz": 180
    },
    "id": "fipD4w0WRoli",
    "outputId": "5f09651f-fcab-4da5-c768-19281c777465"
   },
   "outputs": [
    {
     "name": "stdout",
     "output_type": "stream",
     "text": [
      "<class 'int'> <class 'float'> <class 'str'> <class 'bool'>\n"
     ]
    }
   ],
   "source": [
    "print(type(a), type(b), type(c), type(d))"
   ]
  },
  {
   "cell_type": "code",
   "execution_count": 7,
   "metadata": {},
   "outputs": [
    {
     "data": {
      "text/plain": [
       "10"
      ]
     },
     "execution_count": 7,
     "metadata": {},
     "output_type": "execute_result"
    }
   ],
   "source": [
    "int(b)  #convertir un flotante en un entero"
   ]
  },
  {
   "cell_type": "code",
   "execution_count": 10,
   "metadata": {},
   "outputs": [
    {
     "data": {
      "text/plain": [
       "'10.5'"
      ]
     },
     "execution_count": 10,
     "metadata": {},
     "output_type": "execute_result"
    }
   ],
   "source": [
    "str(b)"
   ]
  },
  {
   "cell_type": "code",
   "execution_count": 8,
   "metadata": {},
   "outputs": [
    {
     "data": {
      "text/plain": [
       "'10'"
      ]
     },
     "execution_count": 8,
     "metadata": {},
     "output_type": "execute_result"
    }
   ],
   "source": [
    "str(10) #convertir entero a cadena"
   ]
  },
  {
   "cell_type": "markdown",
   "metadata": {},
   "source": [
    "## Colecciones"
   ]
  },
  {
   "cell_type": "markdown",
   "metadata": {},
   "source": [
    "Una colección permite agrupar varios objetos bajo un mismo nombre."
   ]
  },
  {
   "cell_type": "markdown",
   "metadata": {
    "id": "yKYDyWtKUQRK"
   },
   "source": [
    "## Listas"
   ]
  },
  {
   "cell_type": "markdown",
   "metadata": {},
   "source": [
    "Las LISTAS son colecciones ordenadas(pueden ser indexadas) de objetos que pueden contener ítems de diferentes tipos de datos."
   ]
  },
  {
   "cell_type": "code",
   "execution_count": 22,
   "metadata": {
    "id": "VQQoZQPLRq2q"
   },
   "outputs": [],
   "source": [
    "numeros = [1,2,3,4,5]\n",
    "palabras = [\"Hola\", \"Adios\", \"Saludos\"]\n",
    "booleanos = [True, False, True, True]\n",
    "combinados = [1, \"Dos\", False]"
   ]
  },
  {
   "cell_type": "code",
   "execution_count": null,
   "metadata": {
    "colab": {
     "base_uri": "https://localhost:8080/"
    },
    "executionInfo": {
     "elapsed": 966,
     "status": "ok",
     "timestamp": 1617664708270,
     "user": {
      "displayName": "Daniel Blanc",
      "photoUrl": "https://lh3.googleusercontent.com/a-/AOh14GjOzaUk5JaDiJFljgw1A79OgwfoRz4PhHeGgGg=s64",
      "userId": "15048843390343866158"
     },
     "user_tz": 180
    },
    "id": "h5On47EgULAA",
    "outputId": "e3bcfc52-38af-42dd-9117-1efeac262bb9"
   },
   "outputs": [
    {
     "data": {
      "text/plain": [
       "list"
      ]
     },
     "execution_count": 27,
     "metadata": {
      "tags": []
     },
     "output_type": "execute_result"
    }
   ],
   "source": [
    "type(combinados)"
   ]
  },
  {
   "cell_type": "code",
   "execution_count": null,
   "metadata": {
    "colab": {
     "base_uri": "https://localhost:8080/"
    },
    "executionInfo": {
     "elapsed": 966,
     "status": "ok",
     "timestamp": 1617664766884,
     "user": {
      "displayName": "Daniel Blanc",
      "photoUrl": "https://lh3.googleusercontent.com/a-/AOh14GjOzaUk5JaDiJFljgw1A79OgwfoRz4PhHeGgGg=s64",
      "userId": "15048843390343866158"
     },
     "user_tz": 180
    },
    "id": "tt8uQ-_0Ucui",
    "outputId": "d91d2405-cd9b-4d84-a6b9-8c3cc6d0aada"
   },
   "outputs": [
    {
     "data": {
      "text/plain": [
       "3"
      ]
     },
     "execution_count": 29,
     "metadata": {
      "tags": []
     },
     "output_type": "execute_result"
    }
   ],
   "source": [
    "len(palabras) # Nos muestra el total de elementos en una lista"
   ]
  },
  {
   "cell_type": "code",
   "execution_count": null,
   "metadata": {
    "colab": {
     "base_uri": "https://localhost:8080/"
    },
    "executionInfo": {
     "elapsed": 974,
     "status": "ok",
     "timestamp": 1617664803958,
     "user": {
      "displayName": "Daniel Blanc",
      "photoUrl": "https://lh3.googleusercontent.com/a-/AOh14GjOzaUk5JaDiJFljgw1A79OgwfoRz4PhHeGgGg=s64",
      "userId": "15048843390343866158"
     },
     "user_tz": 180
    },
    "id": "xRa1NLWQVUCh",
    "outputId": "cd30dd67-765b-4265-cdf0-aaca87b05980"
   },
   "outputs": [
    {
     "data": {
      "text/plain": [
       "4"
      ]
     },
     "execution_count": 30,
     "metadata": {
      "tags": []
     },
     "output_type": "execute_result"
    }
   ],
   "source": [
    "len(c) # El total de caracteres en un texto"
   ]
  },
  {
   "cell_type": "code",
   "execution_count": 3,
   "metadata": {},
   "outputs": [
    {
     "data": {
      "text/plain": [
       "4"
      ]
     },
     "execution_count": 3,
     "metadata": {},
     "output_type": "execute_result"
    }
   ],
   "source": [
    "len(palabras[0]) # Hola tiene 4 caracteres"
   ]
  },
  {
   "cell_type": "code",
   "execution_count": null,
   "metadata": {
    "colab": {
     "base_uri": "https://localhost:8080/"
    },
    "executionInfo": {
     "elapsed": 903,
     "status": "ok",
     "timestamp": 1617664917353,
     "user": {
      "displayName": "Daniel Blanc",
      "photoUrl": "https://lh3.googleusercontent.com/a-/AOh14GjOzaUk5JaDiJFljgw1A79OgwfoRz4PhHeGgGg=s64",
      "userId": "15048843390343866158"
     },
     "user_tz": 180
    },
    "id": "bxl7mpbeVgAH",
    "outputId": "8bc0ac70-5a84-4197-80e6-45f3ab790d09"
   },
   "outputs": [
    {
     "data": {
      "text/plain": [
       "15"
      ]
     },
     "execution_count": 33,
     "metadata": {
      "tags": []
     },
     "output_type": "execute_result"
    }
   ],
   "source": [
    "sum(numeros) "
   ]
  },
  {
   "cell_type": "code",
   "execution_count": 4,
   "metadata": {},
   "outputs": [],
   "source": [
    "palabras = [\"Hola\", \"Adios\", \"Saludos\"]"
   ]
  },
  {
   "cell_type": "code",
   "execution_count": 5,
   "metadata": {},
   "outputs": [
    {
     "data": {
      "text/plain": [
       "'Adios'"
      ]
     },
     "execution_count": 5,
     "metadata": {},
     "output_type": "execute_result"
    }
   ],
   "source": [
    "palabras[1]"
   ]
  },
  {
   "cell_type": "code",
   "execution_count": 6,
   "metadata": {},
   "outputs": [
    {
     "data": {
      "text/plain": [
       "['Hola', 'Adios']"
      ]
     },
     "execution_count": 6,
     "metadata": {},
     "output_type": "execute_result"
    }
   ],
   "source": [
    "palabras[0:2]"
   ]
  },
  {
   "cell_type": "code",
   "execution_count": 7,
   "metadata": {
    "colab": {
     "base_uri": "https://localhost:8080/"
    },
    "executionInfo": {
     "elapsed": 1174,
     "status": "ok",
     "timestamp": 1617665296386,
     "user": {
      "displayName": "Daniel Blanc",
      "photoUrl": "https://lh3.googleusercontent.com/a-/AOh14GjOzaUk5JaDiJFljgw1A79OgwfoRz4PhHeGgGg=s64",
      "userId": "15048843390343866158"
     },
     "user_tz": 180
    },
    "id": "QS11WYouVx2j",
    "outputId": "3f20897e-9755-40e1-c3dc-41a52cbd1b84"
   },
   "outputs": [
    {
     "data": {
      "text/plain": [
       "[]"
      ]
     },
     "execution_count": 7,
     "metadata": {},
     "output_type": "execute_result"
    }
   ],
   "source": [
    "palabras[-3:-1] # Slicing"
   ]
  },
  {
   "cell_type": "code",
   "execution_count": null,
   "metadata": {
    "colab": {
     "base_uri": "https://localhost:8080/"
    },
    "executionInfo": {
     "elapsed": 1113,
     "status": "ok",
     "timestamp": 1617665376928,
     "user": {
      "displayName": "Daniel Blanc",
      "photoUrl": "https://lh3.googleusercontent.com/a-/AOh14GjOzaUk5JaDiJFljgw1A79OgwfoRz4PhHeGgGg=s64",
      "userId": "15048843390343866158"
     },
     "user_tz": 180
    },
    "id": "PX0W8JOAWIWJ",
    "outputId": "64911d49-09d3-4471-bb94-40985baaff44"
   },
   "outputs": [
    {
     "data": {
      "text/plain": [
       "1"
      ]
     },
     "execution_count": 46,
     "metadata": {
      "tags": []
     },
     "output_type": "execute_result"
    }
   ],
   "source": [
    "palabras.index('Adios') # Búsqueda del índice de un elemento dentro de una lista."
   ]
  },
  {
   "cell_type": "code",
   "execution_count": null,
   "metadata": {
    "colab": {
     "base_uri": "https://localhost:8080/",
     "height": 35
    },
    "executionInfo": {
     "elapsed": 843,
     "status": "ok",
     "timestamp": 1617665506112,
     "user": {
      "displayName": "Daniel Blanc",
      "photoUrl": "https://lh3.googleusercontent.com/a-/AOh14GjOzaUk5JaDiJFljgw1A79OgwfoRz4PhHeGgGg=s64",
      "userId": "15048843390343866158"
     },
     "user_tz": 180
    },
    "id": "ENrOk2CGXT6w",
    "outputId": "8fb55a1a-f7fe-4379-9a64-e81c998045a2"
   },
   "outputs": [
    {
     "data": {
      "application/vnd.google.colaboratory.intrinsic+json": {
       "type": "string"
      },
      "text/plain": [
       "'Adi'"
      ]
     },
     "execution_count": 49,
     "metadata": {
      "tags": []
     },
     "output_type": "execute_result"
    }
   ],
   "source": [
    "palabras[1][0:3] #se tiene en cuenta el limite inferior y se excluye el superior"
   ]
  },
  {
   "cell_type": "code",
   "execution_count": 9,
   "metadata": {
    "colab": {
     "base_uri": "https://localhost:8080/"
    },
    "executionInfo": {
     "elapsed": 1027,
     "status": "ok",
     "timestamp": 1617665639909,
     "user": {
      "displayName": "Daniel Blanc",
      "photoUrl": "https://lh3.googleusercontent.com/a-/AOh14GjOzaUk5JaDiJFljgw1A79OgwfoRz4PhHeGgGg=s64",
      "userId": "15048843390343866158"
     },
     "user_tz": 180
    },
    "id": "6qbwfNLsX5_S",
    "outputId": "b6ab90f5-dc47-45e3-f112-b3e93eba1a7b"
   },
   "outputs": [
    {
     "data": {
      "text/plain": [
       "['Hola', [1, 2, 3, 4, 5], True]"
      ]
     },
     "execution_count": 9,
     "metadata": {},
     "output_type": "execute_result"
    }
   ],
   "source": [
    "arreglo = [\"Hola\", [1,2,3,4,5], True] # Podemos hacer listas con listas como elementos, listas anidadas\n",
    "arreglo"
   ]
  },
  {
   "cell_type": "code",
   "execution_count": 10,
   "metadata": {},
   "outputs": [],
   "source": [
    "Stella = [\"Hola\", numeros , True]"
   ]
  },
  {
   "cell_type": "code",
   "execution_count": 11,
   "metadata": {},
   "outputs": [
    {
     "name": "stdout",
     "output_type": "stream",
     "text": [
      "['Hola', [1, 2, 3, 4, 5], True]\n"
     ]
    }
   ],
   "source": [
    "print(Stella)"
   ]
  },
  {
   "cell_type": "code",
   "execution_count": 12,
   "metadata": {},
   "outputs": [
    {
     "data": {
      "text/plain": [
       "4"
      ]
     },
     "execution_count": 12,
     "metadata": {},
     "output_type": "execute_result"
    }
   ],
   "source": [
    "Stella[1][3]"
   ]
  },
  {
   "cell_type": "code",
   "execution_count": null,
   "metadata": {},
   "outputs": [],
   "source": [
    "lista_gabi = [1,2,3,4,5]"
   ]
  },
  {
   "cell_type": "code",
   "execution_count": null,
   "metadata": {
    "colab": {
     "base_uri": "https://localhost:8080/"
    },
    "executionInfo": {
     "elapsed": 971,
     "status": "ok",
     "timestamp": 1617665730158,
     "user": {
      "displayName": "Daniel Blanc",
      "photoUrl": "https://lh3.googleusercontent.com/a-/AOh14GjOzaUk5JaDiJFljgw1A79OgwfoRz4PhHeGgGg=s64",
      "userId": "15048843390343866158"
     },
     "user_tz": 180
    },
    "id": "U8z-enoKYaTK",
    "outputId": "3562e61c-b6b7-44e1-994f-57734639ea07"
   },
   "outputs": [
    {
     "data": {
      "text/plain": [
       "4"
      ]
     },
     "execution_count": 55,
     "metadata": {
      "tags": []
     },
     "output_type": "execute_result"
    }
   ],
   "source": [
    "arreglo[1][3]"
   ]
  },
  {
   "cell_type": "code",
   "execution_count": null,
   "metadata": {
    "colab": {
     "base_uri": "https://localhost:8080/",
     "height": 169
    },
    "executionInfo": {
     "elapsed": 969,
     "status": "error",
     "timestamp": 1617665766812,
     "user": {
      "displayName": "Daniel Blanc",
      "photoUrl": "https://lh3.googleusercontent.com/a-/AOh14GjOzaUk5JaDiJFljgw1A79OgwfoRz4PhHeGgGg=s64",
      "userId": "15048843390343866158"
     },
     "user_tz": 180
    },
    "id": "YJow2pLgYgyZ",
    "outputId": "af4d91c9-83e0-4376-b316-2a3c88e423ca"
   },
   "outputs": [
    {
     "ename": "TypeError",
     "evalue": "ignored",
     "output_type": "error",
     "traceback": [
      "\u001b[0;31m---------------------------------------------------------------------------\u001b[0m",
      "\u001b[0;31mTypeError\u001b[0m                                 Traceback (most recent call last)",
      "\u001b[0;32m<ipython-input-57-8b63835f9d06>\u001b[0m in \u001b[0;36m<module>\u001b[0;34m()\u001b[0m\n\u001b[0;32m----> 1\u001b[0;31m \u001b[0marreglo\u001b[0m\u001b[0;34m[\u001b[0m\u001b[0;34m[\u001b[0m\u001b[0;36m0\u001b[0m\u001b[0;34m,\u001b[0m\u001b[0;36m2\u001b[0m\u001b[0;34m]\u001b[0m\u001b[0;34m]\u001b[0m\u001b[0;34m\u001b[0m\u001b[0;34m\u001b[0m\u001b[0m\n\u001b[0m",
      "\u001b[0;31mTypeError\u001b[0m: list indices must be integers or slices, not list"
     ]
    }
   ],
   "source": [
    "arreglo[0,2] # Los elementos dentro de una lista deben llamarse a través de slicers o enteros"
   ]
  },
  {
   "cell_type": "code",
   "execution_count": 23,
   "metadata": {
    "colab": {
     "base_uri": "https://localhost:8080/"
    },
    "executionInfo": {
     "elapsed": 1189,
     "status": "ok",
     "timestamp": 1617665908276,
     "user": {
      "displayName": "Daniel Blanc",
      "photoUrl": "https://lh3.googleusercontent.com/a-/AOh14GjOzaUk5JaDiJFljgw1A79OgwfoRz4PhHeGgGg=s64",
      "userId": "15048843390343866158"
     },
     "user_tz": 180
    },
    "id": "fGPDFzVIZGLA",
    "outputId": "3f75c74c-1ed7-4821-83dc-e98305395777"
   },
   "outputs": [
    {
     "data": {
      "text/plain": [
       "['Hola', 'Adios', 'Saludos', 'Instituto']"
      ]
     },
     "execution_count": 23,
     "metadata": {},
     "output_type": "execute_result"
    }
   ],
   "source": [
    "# Método para agregar elementos a una lista\n",
    "palabras.append(\"Instituto\")\n",
    "palabras"
   ]
  },
  {
   "cell_type": "code",
   "execution_count": 24,
   "metadata": {},
   "outputs": [
    {
     "data": {
      "text/plain": [
       "['Hola', 'Adios', 'Saludos', 'Instituto', 'CPE']"
      ]
     },
     "execution_count": 24,
     "metadata": {},
     "output_type": "execute_result"
    }
   ],
   "source": [
    "palabras.append(\"CPE\")\n",
    "palabras"
   ]
  },
  {
   "cell_type": "code",
   "execution_count": 25,
   "metadata": {
    "colab": {
     "base_uri": "https://localhost:8080/"
    },
    "executionInfo": {
     "elapsed": 949,
     "status": "ok",
     "timestamp": 1617666314534,
     "user": {
      "displayName": "Daniel Blanc",
      "photoUrl": "https://lh3.googleusercontent.com/a-/AOh14GjOzaUk5JaDiJFljgw1A79OgwfoRz4PhHeGgGg=s64",
      "userId": "15048843390343866158"
     },
     "user_tz": 180
    },
    "id": "b_g7_SYMbIOi",
    "outputId": "0b583880-bcb5-46d6-a466-889e522175cd"
   },
   "outputs": [
    {
     "data": {
      "text/plain": [
       "['Facundo', 'Hola', 'Adios', 'Saludos', 'Instituto', 'CPE']"
      ]
     },
     "execution_count": 25,
     "metadata": {},
     "output_type": "execute_result"
    }
   ],
   "source": [
    "palabras.insert(0, \"Facundo\")\n",
    "palabras"
   ]
  },
  {
   "cell_type": "code",
   "execution_count": 26,
   "metadata": {},
   "outputs": [
    {
     "data": {
      "text/plain": [
       "['Facundo', 'Hola', 'Lunes', 'Adios', 'Saludos', 'Instituto', 'CPE']"
      ]
     },
     "execution_count": 26,
     "metadata": {},
     "output_type": "execute_result"
    }
   ],
   "source": [
    "palabras.insert(2,'Lunes')\n",
    "palabras"
   ]
  },
  {
   "cell_type": "code",
   "execution_count": 29,
   "metadata": {
    "colab": {
     "base_uri": "https://localhost:8080/"
    },
    "executionInfo": {
     "elapsed": 982,
     "status": "ok",
     "timestamp": 1617666591738,
     "user": {
      "displayName": "Daniel Blanc",
      "photoUrl": "https://lh3.googleusercontent.com/a-/AOh14GjOzaUk5JaDiJFljgw1A79OgwfoRz4PhHeGgGg=s64",
      "userId": "15048843390343866158"
     },
     "user_tz": 180
    },
    "id": "sfp54CbAcOtH",
    "outputId": "5ed626c2-5e8d-47ae-ab32-50de25aa3c3e"
   },
   "outputs": [
    {
     "name": "stdout",
     "output_type": "stream",
     "text": [
      "[1, 2, 3, 5]\n"
     ]
    }
   ],
   "source": [
    "numeros.remove(4)\n",
    "print(numeros)"
   ]
  },
  {
   "cell_type": "markdown",
   "metadata": {
    "id": "5Vp72fZeZ_O8"
   },
   "source": [
    "## Diccionarios"
   ]
  },
  {
   "cell_type": "markdown",
   "metadata": {},
   "source": [
    "Son colecciones en donde cada elemento consta de dos partes: una clave y un valor.\n",
    "\n",
    "Los valores pueden ser cualquier tipo de dato, mientras las claves tienen que ser obligadamente un tipo de dato inmutable. Podemos utilizar cualquier objeto inmutable como clave de un diccionario, esto incluye números, strings, tuplas. \n",
    "\n",
    "Además, las claves no se pueden repetir."
   ]
  },
  {
   "cell_type": "code",
   "execution_count": 8,
   "metadata": {
    "id": "GVMpenDfZgZK"
   },
   "outputs": [],
   "source": [
    "menu = {\n",
    "    \"Milanesa\" : [250, 180],\n",
    "    \"Pizza\" : 180,\n",
    "    \"Coca\" : 150\n",
    "}"
   ]
  },
  {
   "cell_type": "code",
   "execution_count": 9,
   "metadata": {
    "colab": {
     "base_uri": "https://localhost:8080/"
    },
    "executionInfo": {
     "elapsed": 870,
     "status": "ok",
     "timestamp": 1617666359464,
     "user": {
      "displayName": "Daniel Blanc",
      "photoUrl": "https://lh3.googleusercontent.com/a-/AOh14GjOzaUk5JaDiJFljgw1A79OgwfoRz4PhHeGgGg=s64",
      "userId": "15048843390343866158"
     },
     "user_tz": 180
    },
    "id": "0-lkj0dwaUX3",
    "outputId": "fd5bde63-dfa6-4b06-9b4f-e5e41c41f399"
   },
   "outputs": [
    {
     "data": {
      "text/plain": [
       "250"
      ]
     },
     "execution_count": 9,
     "metadata": {},
     "output_type": "execute_result"
    }
   ],
   "source": [
    "menu[\"Milanesa\"][0] "
   ]
  },
  {
   "cell_type": "code",
   "execution_count": 10,
   "metadata": {
    "colab": {
     "base_uri": "https://localhost:8080/",
     "height": 35
    },
    "executionInfo": {
     "elapsed": 870,
     "status": "ok",
     "timestamp": 1617666815547,
     "user": {
      "displayName": "Daniel Blanc",
      "photoUrl": "https://lh3.googleusercontent.com/a-/AOh14GjOzaUk5JaDiJFljgw1A79OgwfoRz4PhHeGgGg=s64",
      "userId": "15048843390343866158"
     },
     "user_tz": 180
    },
    "id": "ANyh8W9Ub-cI",
    "outputId": "10d21eb0-6cfa-4346-d11b-7cab4466b46a"
   },
   "outputs": [
    {
     "data": {
      "text/plain": [
       "'Pizza'"
      ]
     },
     "execution_count": 10,
     "metadata": {},
     "output_type": "execute_result"
    }
   ],
   "source": [
    "list(menu)[1]"
   ]
  },
  {
   "cell_type": "code",
   "execution_count": 11,
   "metadata": {},
   "outputs": [
    {
     "data": {
      "text/plain": [
       "dict_keys(['Milanesa', 'Pizza', 'Coca'])"
      ]
     },
     "execution_count": 11,
     "metadata": {},
     "output_type": "execute_result"
    }
   ],
   "source": [
    "menu.keys() # metodo ver las claves de un diccionario"
   ]
  },
  {
   "cell_type": "code",
   "execution_count": 12,
   "metadata": {},
   "outputs": [
    {
     "data": {
      "text/plain": [
       "dict_values([[250, 180], 180, 150])"
      ]
     },
     "execution_count": 12,
     "metadata": {},
     "output_type": "execute_result"
    }
   ],
   "source": [
    "menu.values() # ver los valores de un diccionario"
   ]
  },
  {
   "cell_type": "code",
   "execution_count": 13,
   "metadata": {},
   "outputs": [
    {
     "data": {
      "text/plain": [
       "dict_items([('Milanesa', [250, 180]), ('Pizza', 180), ('Coca', 150)])"
      ]
     },
     "execution_count": 13,
     "metadata": {},
     "output_type": "execute_result"
    }
   ],
   "source": [
    "menu.items() #ver todos los pares de elementos del diccionario"
   ]
  },
  {
   "cell_type": "code",
   "execution_count": 14,
   "metadata": {},
   "outputs": [],
   "source": [
    "menu[\"tarta\"] = 255 #crear nuevos pares clave-valor"
   ]
  },
  {
   "cell_type": "code",
   "execution_count": 15,
   "metadata": {},
   "outputs": [
    {
     "data": {
      "text/plain": [
       "{'Milanesa': [250, 180], 'Pizza': 180, 'Coca': 150, 'tarta': 255}"
      ]
     },
     "execution_count": 15,
     "metadata": {},
     "output_type": "execute_result"
    }
   ],
   "source": [
    "menu"
   ]
  },
  {
   "cell_type": "markdown",
   "metadata": {
    "id": "B5GLJKtgY5W5"
   },
   "source": [
    "## Condicionales"
   ]
  },
  {
   "cell_type": "markdown",
   "metadata": {},
   "source": [
    "El código de un programa es ejecutado por Python de izquierda a derecha y de arriba hacia abajo. Los condicionales nos permiten diferir la ejecución de una porción de código -es decir, una o más líneas- según se cumpla una condición u otra; o, lo que es lo mismo, hacer que un bloque de código se ejecute únicamente cuando se cumpla una condición."
   ]
  },
  {
   "cell_type": "code",
   "execution_count": 1,
   "metadata": {
    "colab": {
     "base_uri": "https://localhost:8080/"
    },
    "executionInfo": {
     "elapsed": 680,
     "status": "ok",
     "timestamp": 1617833581901,
     "user": {
      "displayName": "Daniel Blanc",
      "photoUrl": "https://lh3.googleusercontent.com/a-/AOh14GjOzaUk5JaDiJFljgw1A79OgwfoRz4PhHeGgGg=s64",
      "userId": "15048843390343866158"
     },
     "user_tz": 180
    },
    "id": "AtFaU58LZL1f",
    "outputId": "33fb213b-6cd1-48b7-ff33-9ff50e2bf3d7"
   },
   "outputs": [
    {
     "data": {
      "text/plain": [
       "True"
      ]
     },
     "execution_count": 1,
     "metadata": {
      "tags": []
     },
     "output_type": "execute_result"
    }
   ],
   "source": [
    "2 > 1"
   ]
  },
  {
   "cell_type": "code",
   "execution_count": 30,
   "metadata": {},
   "outputs": [
    {
     "name": "stdout",
     "output_type": "stream",
     "text": [
      "30\n"
     ]
    }
   ],
   "source": [
    "edad = int(input())"
   ]
  },
  {
   "cell_type": "code",
   "execution_count": 31,
   "metadata": {
    "colab": {
     "base_uri": "https://localhost:8080/"
    },
    "executionInfo": {
     "elapsed": 2455,
     "status": "ok",
     "timestamp": 1617834435820,
     "user": {
      "displayName": "Daniel Blanc",
      "photoUrl": "https://lh3.googleusercontent.com/a-/AOh14GjOzaUk5JaDiJFljgw1A79OgwfoRz4PhHeGgGg=s64",
      "userId": "15048843390343866158"
     },
     "user_tz": 180
    },
    "id": "csGwL5bXY9Ud",
    "outputId": "70d0505d-e68f-4b69-99e7-c132358955f5"
   },
   "outputs": [
    {
     "name": "stdout",
     "output_type": "stream",
     "text": [
      "30\n",
      "Puede votar\n",
      "Fin\n"
     ]
    }
   ],
   "source": [
    "edad = int(input())\n",
    "\n",
    "if edad >= 18:\n",
    "    print('Puede votar')\n",
    "elif edad > 0:\n",
    "    print('No puede votar')\n",
    "else:\n",
    "    print('Error')\n",
    "    \n",
    "\n",
    "\n",
    "print(\"Fin\")"
   ]
  },
  {
   "cell_type": "markdown",
   "metadata": {},
   "source": [
    "**Se acuerdan de la indentación?? La condición debe tener aplicada una sangría, la cual es necesaria para poder diferenciar el bloque que se encuentra dentro del condicional del resto del código.**"
   ]
  },
  {
   "cell_type": "markdown",
   "metadata": {
    "id": "-W7A3c47dLAn"
   },
   "source": [
    "## Bucles (for y while)"
   ]
  },
  {
   "cell_type": "markdown",
   "metadata": {},
   "source": [
    "Los bucles son otra herramienta que permiten modificar el flujo de un programa.\n",
    "\n",
    "Mientras que los condicionales nos permiten ejecutar distintos fragmentos de código dependiendo de ciertas condiciones, los bucles nos permiten ejecutar un mismo fragmento de código un cierto número de veces, mientras se cumpla una determinada condición."
   ]
  },
  {
   "cell_type": "markdown",
   "metadata": {
    "id": "xNULeM8Mgz7o"
   },
   "source": [
    "### Bucle For"
   ]
  },
  {
   "cell_type": "markdown",
   "metadata": {},
   "source": [
    "Es un bucle con un numero determinado de iteraciones, ya que permite iterar sobre cada uno de los elementos de un iterable, como una lista, por ejemplo. En cada paso de la iteración se tiene en cuenta a un único elemento del objeto iterable, sobre el cuál se pueden aplicar una serie de operaciones.\n",
    "\n",
    "💡 Un iterable es un objeto que se puede iterar sobre él, es decir, que permite recorrer sus elementos uno a uno. Los tipos de datos string, lista, tupla, diccionario son objetos iterables."
   ]
  },
  {
   "cell_type": "code",
   "execution_count": 6,
   "metadata": {
    "colab": {
     "base_uri": "https://localhost:8080/"
    },
    "executionInfo": {
     "elapsed": 671,
     "status": "ok",
     "timestamp": 1617834764014,
     "user": {
      "displayName": "Daniel Blanc",
      "photoUrl": "https://lh3.googleusercontent.com/a-/AOh14GjOzaUk5JaDiJFljgw1A79OgwfoRz4PhHeGgGg=s64",
      "userId": "15048843390343866158"
     },
     "user_tz": 180
    },
    "id": "pkJfIMClcuEs",
    "outputId": "54558827-667c-4210-a42b-c57ef36b5d5f"
   },
   "outputs": [
    {
     "name": "stdout",
     "output_type": "stream",
     "text": [
      "True\n",
      "True\n",
      "True\n",
      "False\n",
      "False\n",
      "False\n",
      "False\n"
     ]
    }
   ],
   "source": [
    "for i in range(0,7):  # el extremo superior se toma uno menos \n",
    "    print(i < 3)"
   ]
  },
  {
   "cell_type": "code",
   "execution_count": 7,
   "metadata": {
    "colab": {
     "base_uri": "https://localhost:8080/"
    },
    "executionInfo": {
     "elapsed": 618,
     "status": "ok",
     "timestamp": 1617834873058,
     "user": {
      "displayName": "Daniel Blanc",
      "photoUrl": "https://lh3.googleusercontent.com/a-/AOh14GjOzaUk5JaDiJFljgw1A79OgwfoRz4PhHeGgGg=s64",
      "userId": "15048843390343866158"
     },
     "user_tz": 180
    },
    "id": "CyX71qSxd9RE",
    "outputId": "5d83eec6-f75c-4c91-fbbc-861dc6709d7e"
   },
   "outputs": [
    {
     "name": "stdout",
     "output_type": "stream",
     "text": [
      "José\n",
      "Luis\n",
      "Marcelo\n",
      "Sebastián\n",
      "Camila\n"
     ]
    }
   ],
   "source": [
    "estudiantes = [\"José\", \"Luis\", \"Marcelo\", \"Sebastián\", \"Camila\"] # recorrer \n",
    "\n",
    "for i in range(len(estudiantes)):\n",
    "  print(estudiantes[i]) # con cada valor que tome i"
   ]
  },
  {
   "cell_type": "code",
   "execution_count": 8,
   "metadata": {
    "colab": {
     "base_uri": "https://localhost:8080/"
    },
    "executionInfo": {
     "elapsed": 738,
     "status": "ok",
     "timestamp": 1617834932643,
     "user": {
      "displayName": "Daniel Blanc",
      "photoUrl": "https://lh3.googleusercontent.com/a-/AOh14GjOzaUk5JaDiJFljgw1A79OgwfoRz4PhHeGgGg=s64",
      "userId": "15048843390343866158"
     },
     "user_tz": 180
    },
    "id": "ggbQk5qCechE",
    "outputId": "c7860345-3344-4154-96e8-222e2bb995f1"
   },
   "outputs": [
    {
     "name": "stdout",
     "output_type": "stream",
     "text": [
      "José\n",
      "Luis\n",
      "Marcelo\n",
      "Sebastián\n",
      "Camila\n",
      "El bucle ya no tiene más elementos\n"
     ]
    }
   ],
   "source": [
    "for i in estudiantes:\n",
    "  print(i)\n",
    "else:      # La cláusula else se ejecutará cuando el iterador emita una excepción debido a que no quedan más elementos.\n",
    "    print(\"El bucle ya no tiene más elementos\")"
   ]
  },
  {
   "cell_type": "code",
   "execution_count": 9,
   "metadata": {
    "colab": {
     "base_uri": "https://localhost:8080/"
    },
    "executionInfo": {
     "elapsed": 578,
     "status": "ok",
     "timestamp": 1617835038465,
     "user": {
      "displayName": "Daniel Blanc",
      "photoUrl": "https://lh3.googleusercontent.com/a-/AOh14GjOzaUk5JaDiJFljgw1A79OgwfoRz4PhHeGgGg=s64",
      "userId": "15048843390343866158"
     },
     "user_tz": 180
    },
    "id": "iphb9mXEexm6",
    "outputId": "ba1c90a5-8f44-46c6-aa5a-69de5654d976"
   },
   "outputs": [
    {
     "name": "stdout",
     "output_type": "stream",
     "text": [
      "9\n",
      "10\n",
      "7\n",
      "17\n"
     ]
    }
   ],
   "source": [
    "numeros = [4, 5, 2, 12]\n",
    "\n",
    "for i in numeros:\n",
    "     print(i + 5)"
   ]
  },
  {
   "cell_type": "markdown",
   "metadata": {
    "id": "mvKQnQsbgxi_"
   },
   "source": [
    "### Bucle while"
   ]
  },
  {
   "cell_type": "markdown",
   "metadata": {},
   "source": [
    "El bucle while en particular repite una porción de código siempre que una expresión sea verdadera.\n",
    "\n",
    "Si la expresión siempre es verdadera el bucle se repetira infinitamente, y para que un bucle sea útil debe terminar en algún momento. Hay dos formas de conseguirlo:\n",
    "\n",
    "- Que la condición se vuelva falsa (deja de ejecutarse)\n",
    "\n",
    "- Ejecutar una instrucción para forzar al bucle a que termine. Cuando Python se encuentra con la instrucción break dentro de un bucle, éste termina abruptamente. Break aborta el bucle, independientemente que la condición sea verdadera."
   ]
  },
  {
   "cell_type": "code",
   "execution_count": 10,
   "metadata": {
    "colab": {
     "base_uri": "https://localhost:8080/"
    },
    "executionInfo": {
     "elapsed": 1175,
     "status": "ok",
     "timestamp": 1617835860842,
     "user": {
      "displayName": "Daniel Blanc",
      "photoUrl": "https://lh3.googleusercontent.com/a-/AOh14GjOzaUk5JaDiJFljgw1A79OgwfoRz4PhHeGgGg=s64",
      "userId": "15048843390343866158"
     },
     "user_tz": 180
    },
    "id": "aGkPk7l0hv63",
    "outputId": "0ab258cc-7fe1-41a4-d332-7b2c656d4672"
   },
   "outputs": [
    {
     "name": "stdout",
     "output_type": "stream",
     "text": [
      "0\n",
      "1\n",
      "2\n",
      "3\n",
      "4\n"
     ]
    }
   ],
   "source": [
    "n = 0\n",
    "\n",
    "while n < 5:\n",
    "  print(n)\n",
    "  n += 1 #esto equivale: n = n + 1"
   ]
  },
  {
   "cell_type": "code",
   "execution_count": null,
   "metadata": {
    "id": "4Ky1n6Lgg5yg"
   },
   "outputs": [],
   "source": [
    "# que pasa si ejecuto este codigo??\n",
    "contador = 1\n",
    "\n",
    "while contador > 0:\n",
    "  print(contador)\n",
    "  contador += 1\n",
    "    "
   ]
  },
  {
   "cell_type": "markdown",
   "metadata": {},
   "source": [
    "👉 Si decidió ejecutarlo va a colgar por primera vez un programa! En la solapa 'Entorno de ejecucion' seleccione 'Interrumpir ejecucion'. Lo que sucuede es que la condición del while será siempre cierta, por ende nuestro programa se quedará repitiendo el bloque de codigo dentro del loop indefinidamente."
   ]
  },
  {
   "cell_type": "markdown",
   "metadata": {
    "id": "st-EQ69xieyV"
   },
   "source": [
    "## Funciones"
   ]
  },
  {
   "cell_type": "markdown",
   "metadata": {},
   "source": [
    "Las funciones nos permiten agrupar una o más líneas de código bajo un mismo nombre. \n",
    "Son un \"pedazo de código\" reutilizable que se crean con el objetivo de no repetir las mismas instrucciones más de una vez dentro de un programa."
   ]
  },
  {
   "cell_type": "markdown",
   "metadata": {},
   "source": [
    "**Funciones incorporadas:** Python ofrece un conjunto de funciones incorporadas que vienen incluidas en el lenguaje y están disponibles para su uso directo. Estas funciones están disponibles sin necesidad de importar módulos adicionales. Algunos ejemplos de funciones incorporadas en Python son print(), len(), range(), type(), entre otras. Podemos utilizar estas funciones directamente en tu código sin necesidad de definirlas previamente.\n",
    "\n",
    "**Funciones definidas por el usuario:** Además de las funciones incorporadas, en Python podemos crear nuestras propias funciones personalizadas para realizar tareas específicas."
   ]
  },
  {
   "cell_type": "code",
   "execution_count": 11,
   "metadata": {
    "executionInfo": {
     "elapsed": 1621,
     "status": "ok",
     "timestamp": 1617836115364,
     "user": {
      "displayName": "Daniel Blanc",
      "photoUrl": "https://lh3.googleusercontent.com/a-/AOh14GjOzaUk5JaDiJFljgw1A79OgwfoRz4PhHeGgGg=s64",
      "userId": "15048843390343866158"
     },
     "user_tz": 180
    },
    "id": "hDyXecRfigly"
   },
   "outputs": [],
   "source": [
    "def saludo_cpe():\n",
    "  return print(\"CPE te da la bienvenida al curso Análisis de datos con Python\")"
   ]
  },
  {
   "cell_type": "code",
   "execution_count": 12,
   "metadata": {
    "colab": {
     "base_uri": "https://localhost:8080/"
    },
    "executionInfo": {
     "elapsed": 553,
     "status": "ok",
     "timestamp": 1617836132719,
     "user": {
      "displayName": "Daniel Blanc",
      "photoUrl": "https://lh3.googleusercontent.com/a-/AOh14GjOzaUk5JaDiJFljgw1A79OgwfoRz4PhHeGgGg=s64",
      "userId": "15048843390343866158"
     },
     "user_tz": 180
    },
    "id": "xSsFIF8YjBBf",
    "outputId": "99827009-137b-4667-db6b-2d082e841473"
   },
   "outputs": [
    {
     "name": "stdout",
     "output_type": "stream",
     "text": [
      "CPE te da la bienvenida al curso Análisis de datos con Python\n"
     ]
    }
   ],
   "source": [
    "saludo_cpe()"
   ]
  },
  {
   "cell_type": "code",
   "execution_count": 13,
   "metadata": {
    "executionInfo": {
     "elapsed": 585,
     "status": "ok",
     "timestamp": 1617836212001,
     "user": {
      "displayName": "Daniel Blanc",
      "photoUrl": "https://lh3.googleusercontent.com/a-/AOh14GjOzaUk5JaDiJFljgw1A79OgwfoRz4PhHeGgGg=s64",
      "userId": "15048843390343866158"
     },
     "user_tz": 180
    },
    "id": "Z1jzGMmKjJe8"
   },
   "outputs": [],
   "source": [
    "def suma_cpe(x,y): # Los elementos dentro del paréntesis de denominan Parámetros\n",
    "  return x + y"
   ]
  },
  {
   "cell_type": "code",
   "execution_count": 14,
   "metadata": {
    "colab": {
     "base_uri": "https://localhost:8080/"
    },
    "executionInfo": {
     "elapsed": 606,
     "status": "ok",
     "timestamp": 1617836327404,
     "user": {
      "displayName": "Daniel Blanc",
      "photoUrl": "https://lh3.googleusercontent.com/a-/AOh14GjOzaUk5JaDiJFljgw1A79OgwfoRz4PhHeGgGg=s64",
      "userId": "15048843390343866158"
     },
     "user_tz": 180
    },
    "id": "6kxmgz8SjYyH",
    "outputId": "083d80b3-1fce-4c2f-b11e-1bd6406756e2"
   },
   "outputs": [
    {
     "data": {
      "text/plain": [
       "158.98"
      ]
     },
     "execution_count": 14,
     "metadata": {},
     "output_type": "execute_result"
    }
   ],
   "source": [
    "suma_cpe(100,58.98) # Los elementos ingresados al llamar la función se denominan Argumentos"
   ]
  },
  {
   "cell_type": "code",
   "execution_count": 15,
   "metadata": {},
   "outputs": [
    {
     "data": {
      "text/plain": [
       "10"
      ]
     },
     "execution_count": 15,
     "metadata": {},
     "output_type": "execute_result"
    }
   ],
   "source": [
    "suma_cpe(5,5) "
   ]
  },
  {
   "cell_type": "code",
   "execution_count": 16,
   "metadata": {
    "executionInfo": {
     "elapsed": 596,
     "status": "ok",
     "timestamp": 1617836454198,
     "user": {
      "displayName": "Daniel Blanc",
      "photoUrl": "https://lh3.googleusercontent.com/a-/AOh14GjOzaUk5JaDiJFljgw1A79OgwfoRz4PhHeGgGg=s64",
      "userId": "15048843390343866158"
     },
     "user_tz": 180
    },
    "id": "z7sisIGFj3tS"
   },
   "outputs": [],
   "source": [
    "def puedoVotar(edad):\n",
    "    \n",
    "  if edad >= 18:        # dejamos sangría\n",
    "    puedoVotar = True\n",
    "  elif edad > 0:\n",
    "    puedoVotar = False\n",
    "  else: \n",
    "    puedoVotar = \"Error\"\n",
    "\n",
    "  return puedoVotar"
   ]
  },
  {
   "cell_type": "code",
   "execution_count": 18,
   "metadata": {
    "colab": {
     "base_uri": "https://localhost:8080/",
     "height": 35
    },
    "executionInfo": {
     "elapsed": 545,
     "status": "ok",
     "timestamp": 1617836481307,
     "user": {
      "displayName": "Daniel Blanc",
      "photoUrl": "https://lh3.googleusercontent.com/a-/AOh14GjOzaUk5JaDiJFljgw1A79OgwfoRz4PhHeGgGg=s64",
      "userId": "15048843390343866158"
     },
     "user_tz": 180
    },
    "id": "utCgJrcAkTmN",
    "outputId": "7bc65ad3-40fc-4ce2-d767-c6f23b861e1c"
   },
   "outputs": [
    {
     "data": {
      "text/plain": [
       "True"
      ]
     },
     "execution_count": 18,
     "metadata": {},
     "output_type": "execute_result"
    }
   ],
   "source": [
    "puedoVotar(30)"
   ]
  },
  {
   "cell_type": "markdown",
   "metadata": {
    "id": "-LKbbeySlHYE"
   },
   "source": [
    "## Clases"
   ]
  },
  {
   "cell_type": "markdown",
   "metadata": {},
   "source": [
    "La Programación Orientada a Objetos (POO u OOP según sus siglas en inglés) es un paradigma de programación en el que los conceptos del mundo real relevantes para nuestro problema se modelan a través de clases y objetos, y en el que nuestro programa consiste en una serie de interacciones entre estos objetos.\n"
   ]
  },
  {
   "cell_type": "markdown",
   "metadata": {},
   "source": [
    "Para entender este paradigma primero tenemos que comprender qué es una clase y qué es un objeto. Un objeto es una entidad que agrupa un estado y una funcionalidad relacionadas. El estado del objeto se define a través de variables llamadas atributos, mientras que la funcionalidad se modela a través de funciones a las que se les conoce con el nombre de métodos del objeto.\n",
    "\n",
    "Un ejemplo de objeto podría ser un coche, en el que tendríamos atributos como la marca, el número de puertas o el tipo de carburante y métodos como arrancar y parar. O bien cualquier otra combinación de atributos y métodos según lo que fuera relevante para nuestro programa.\n",
    "\n",
    "\n",
    "Una clase, por otro lado, no es más que una plantilla genérica a partir de la cuál instanciar los objetos; plantilla que es la que define qué atributos y métodos tendrán los objetos de esa clase."
   ]
  },
  {
   "cell_type": "markdown",
   "metadata": {},
   "source": [
    "En python todo es objetos, y todos los objetos tienen un constructor. \n",
    "\n",
    "**__init__** es el constructor de una clase \n",
    "\n",
    "\n",
    "**self** todos los métodos de una clase deben tener self al inicio, nos permitirá acceder a los valores particulares de cada uno de los atributos de ese objeto "
   ]
  },
  {
   "attachments": {
    "Captura%20de%20pantalla%202024-01-21%20190447.png": {
     "image/png": "[encoded data removed]"
    }
   },
   "cell_type": "markdown",
   "metadata": {},
   "source": [
    "![Captura%20de%20pantalla%202024-01-21%20190447.png](attachment:Captura%20de%20pantalla%202024-01-21%20190447.png)"
   ]
  },
  {
   "cell_type": "code",
   "execution_count": 32,
   "metadata": {
    "executionInfo": {
     "elapsed": 563,
     "status": "ok",
     "timestamp": 1617837109199,
     "user": {
      "displayName": "Daniel Blanc",
      "photoUrl": "https://lh3.googleusercontent.com/a-/AOh14GjOzaUk5JaDiJFljgw1A79OgwfoRz4PhHeGgGg=s64",
      "userId": "15048843390343866158"
     },
     "user_tz": 180
    },
    "id": "Fe4mTo_ilJDs"
   },
   "outputs": [
    {
     "name": "stdout",
     "output_type": "stream",
     "text": [
      "Nombre del perro: Fido\n",
      "Edad del perro: 3\n",
      "Fido está ladrando: ¡Guau, guau!\n"
     ]
    }
   ],
   "source": [
    "class Perro:\n",
    "    def __init__(self, nombre, edad):\n",
    "        self.nombre = nombre\n",
    "        self.edad = edad\n",
    "\n",
    "    def ladrar(self):\n",
    "        print(f\"{self.nombre} está ladrando: ¡Guau, guau!\")\n",
    "\n",
    "# Crear una instancia de la clase Perro\n",
    "mi_perro = Perro(nombre=\"Fido\", edad=3)\n",
    "\n",
    "# Acceder a los atributos de la instancia\n",
    "print(f\"Nombre del perro: {mi_perro.nombre}\")\n",
    "print(f\"Edad del perro: {mi_perro.edad}\")\n",
    "\n",
    "# Llamar al método ladrar de la instancia\n",
    "mi_perro.ladrar()\n"
   ]
  },
  {
   "cell_type": "markdown",
   "metadata": {},
   "source": [
    "En este ejemplo:\n",
    "\n",
    "La clase Perro tiene un método especial llamado __init__, que se llama cuando se crea una nueva instancia de la clase. Este método inicializa los atributos de la instancia (nombre y edad en este caso).\n",
    "\n",
    "La clase tiene también un método llamado ladrar, que simplemente imprime un mensaje indicando que el perro está ladrando.\n",
    "\n",
    "Creamos una instancia de la clase llamada mi_perro con el nombre \"Fido\" y la edad 3.\n",
    "\n",
    "Accedemos a los atributos (nombre y edad) de la instancia y llamamos al método ladrar."
   ]
  }
 ],
 "metadata": {
  "colab": {
   "authorship_tag": "ABX9TyOiyz65lTPWJhuI1lT81lGl",
   "collapsed_sections": [],
   "name": "Laboratorio_1",
   "provenance": []
  },
  "kernelspec": {
   "display_name": "Python 3 (ipykernel)",
   "language": "python",
   "name": "python3"
  },
  "language_info": {
   "codemirror_mode": {
    "name": "ipython",
    "version": 3
   },
   "file_extension": ".py",
   "mimetype": "text/x-python",
   "name": "python",
   "nbconvert_exporter": "python",
   "pygments_lexer": "ipython3",
   "version": "3.11.4"
  }
 },
 "nbformat": 4,
 "nbformat_minor": 1
}
