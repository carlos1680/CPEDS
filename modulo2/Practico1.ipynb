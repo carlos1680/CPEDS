{
 "cells": [
  {
   "cell_type": "markdown",
   "metadata": {},
   "source": [
    "PRACTICO I"
   ]
  },
  {
   "cell_type": "markdown",
   "metadata": {},
   "source": [
    "Ejecicio 1\n",
    "Dada la lista x=[2,4,6,20,30,7,8,22,11,13,45,60,51,32,1] utilizar condicionales y bucles para obtener el valor \n",
    "máximo de ese vector y la posición en la que se encuentra"
   ]
  },
  {
   "cell_type": "code",
   "execution_count": 4,
   "metadata": {},
   "outputs": [
    {
     "name": "stdout",
     "output_type": "stream",
     "text": [
      "El maximo es 60 y su indice es 11.\n"
     ]
    }
   ],
   "source": [
    "x = [2,4,6,20,30,7,8,22,11,13,45,60,51,32,1]\n",
    "maximo=x[0]\n",
    "indiceMaximo=0\n",
    "for e in x:\n",
    "    if e>maximo:\n",
    "        maximo=e\n",
    "        indiceMaximo = x.index(e)\n",
    "print(f\"El maximo es {maximo} y su indice es {indiceMaximo}.\")"
   ]
  },
  {
   "cell_type": "markdown",
   "metadata": {},
   "source": [
    "Ejercicio 2\n",
    "Utilizar condicionales y bucles para calcular el factorial de un numero, por ejemplo 8!"
   ]
  },
  {
   "cell_type": "code",
   "execution_count": 6,
   "metadata": {},
   "outputs": [
    {
     "name": "stdout",
     "output_type": "stream",
     "text": [
      "El resultado del factorial de 8 es 40320\n"
     ]
    }
   ],
   "source": [
    "numero=int(input(\"Ingrese un numero entero positivo: \"))\n",
    "resultado=1\n",
    "condicion=numero\n",
    "if numero != 1:\n",
    "    while(condicion>1):\n",
    "        resultado *= condicion\n",
    "        condicion -= 1\n",
    "print(f\"El resultado del factorial de {numero} es {resultado}\")\n",
    "    "
   ]
  },
  {
   "cell_type": "markdown",
   "metadata": {},
   "source": [
    "Ejercicio 3\n",
    "\n",
    "Crear una función que dado dos vectores numéricos realice el siguiente cálculo: contar cuantos números \n",
    "negativos aparecerán como resultado de multiplicar un vector por el otro. \n",
    "Aplicarla a los vectores x= (1, 3, -2, 5, -10, -20), y= (-3, 4, -5, 6, 15, 5)"
   ]
  },
  {
   "cell_type": "code",
   "execution_count": 7,
   "metadata": {},
   "outputs": [
    {
     "name": "stdout",
     "output_type": "stream",
     "text": [
      "La cantidad de numeros negativos del producto de componentes en los vectores es: 18.\n"
     ]
    }
   ],
   "source": [
    "x= (1, 3, -2, 5, -10, -20)\n",
    "y= (-3, 4, -5, 6, 15, 5)\n",
    "def contarNegativos(x,y):\n",
    "    cantidad=0\n",
    "    for i in x:\n",
    "        for j in y:\n",
    "            if i*j<0:\n",
    "                cantidad += 1\n",
    "    return cantidad\n",
    "\n",
    "print(f\"La cantidad de numeros negativos del producto de componentes en los vectores es: {contarNegativos(x,y)}.\")"
   ]
  },
  {
   "cell_type": "markdown",
   "metadata": {},
   "source": [
    "Ejercicio 4\n",
    "\n",
    "Crear una función que dado un vector x y un numero natural n sume las primeras n componentes del vector y\n",
    "devuelva el valor de la suma. Aplicarla al vector del ejercicio 1"
   ]
  },
  {
   "cell_type": "code",
   "execution_count": 10,
   "metadata": {},
   "outputs": [
    {
     "name": "stdout",
     "output_type": "stream",
     "text": [
      "Debe ingresar un valor valido\n",
      "La suma de los primeros 0 es: 0\n"
     ]
    }
   ],
   "source": [
    "x = [2, 4,6,20,30,7,8,22,11,13,45,60,51,32,1]\n",
    "n= int(input(\"Ingrese cuantos numeros quiere sumar: \"))\n",
    "def sumarPrimerosNumeros(x,n):\n",
    "    resultado = 0\n",
    "    if(n>len(x)+1) or n<1:\n",
    "        print(\"Debe ingresar un valor valido\")\n",
    "    else:\n",
    "        for i in range(0,n):\n",
    "            resultado += x[i]\n",
    "    return resultado\n",
    "\n",
    "print(f\"La suma de los primeros {n} es: {sumarPrimerosNumeros(x,n)}\")"
   ]
  },
  {
   "cell_type": "markdown",
   "metadata": {},
   "source": [
    "Ejercicio 5\n",
    "Considere la lista e = [2,6,8,1,4,8,7,3,9,6,1,4,15] que simboliza la cantidad de años de educación de una \n",
    "población. Crear una función que me devuelva un vector con el nivel educativo de cada individuo separado en \n",
    "3 categorías: Bajo (entre 0 y 6 años de educación), Medio (entre 7 y 12 años de educación) y Alto (mas de 12 \n",
    "años de educación) \n"
   ]
  },
  {
   "cell_type": "code",
   "execution_count": 12,
   "metadata": {},
   "outputs": [
    {
     "name": "stdout",
     "output_type": "stream",
     "text": [
      "Los resultados de los valores educativos para la poblacion son: ('Bajo', 'Bajo', 'Medio', 'Bajo', 'Bajo', 'Medio', 'Medio', 'Bajo', 'Medio', 'Bajo', 'Bajo', 'Bajo', 'Alto')\n"
     ]
    }
   ],
   "source": [
    "e = [2, 6,8,1,4,8,7,3,9,6,1,4,15]\n",
    "\n",
    "def nivelEducativo(x):\n",
    "    bajo = [0,1,2,3,4,5,6]\n",
    "    medio = [7,8,9,10,11,12]\n",
    "    \n",
    "    listaEducacion=[]\n",
    "    for v in x:\n",
    "        if v in bajo:\n",
    "            listaEducacion.append(\"Bajo\")\n",
    "        elif v in medio:\n",
    "            listaEducacion.append(\"Medio\")\n",
    "        elif v>12:\n",
    "            listaEducacion.append(\"Alto\")\n",
    "        else:\n",
    "            print(f\"Valor erroneo: {v}\")\n",
    "    return tuple(listaEducacion)\n",
    "print(f\"Los resultados de los valores educativos para la poblacion son: {nivelEducativo(e)}\")\n",
    "        "
   ]
  }
 ],
 "metadata": {
  "kernelspec": {
   "display_name": "CPEenv",
   "language": "python",
   "name": "python3"
  },
  "language_info": {
   "codemirror_mode": {
    "name": "ipython",
    "version": 3
   },
   "file_extension": ".py",
   "mimetype": "text/x-python",
   "name": "python",
   "nbconvert_exporter": "python",
   "pygments_lexer": "ipython3",
   "version": "3.12.3"
  }
 },
 "nbformat": 4,
 "nbformat_minor": 2
}
