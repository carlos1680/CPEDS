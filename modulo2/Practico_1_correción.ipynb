{
  "cells": [
    {
      "cell_type": "markdown",
      "metadata": {
        "id": "4_Zej8oGw5s1"
      },
      "source": [
        "### Ejercicio 1:\n",
        "Dado el vector x=(2,4,6,20,30,7,8,22,11,13,45,60,51,32,1) utilizar condicionales y bucles para obtener el valor máximo de ese vector y la posición en la que se encuentra\n"
      ]
    },
    {
      "cell_type": "markdown",
      "metadata": {
        "id": "gwDv-dPsJdVh"
      },
      "source": [
        "Opción 1"
      ]
    },
    {
      "cell_type": "code",
      "execution_count": null,
      "metadata": {
        "colab": {
          "base_uri": "https://localhost:8080/"
        },
        "id": "IhMYSnSRwy2N",
        "outputId": "8dd795e7-f2f8-4fee-de8b-e563040f2d13"
      },
      "outputs": [
        {
          "name": "stdout",
          "output_type": "stream",
          "text": [
            "El valor máximo es 60 y la posición es 11\n"
          ]
        }
      ],
      "source": [
        "x=[2,4,6,20,30,7,8,22,11,13,45,60,51,32,1]\n",
        "maximo = x[0]\n",
        "posicion = 0\n",
        "\n",
        "for i in range(len(x)):\n",
        "  if x[i] > maximo:\n",
        "    maximo = x[i]\n",
        "    posicion = i\n",
        "\n",
        "print(f\"El valor máximo es {maximo} y la posición es {posicion}\")"
      ]
    },
    {
      "cell_type": "markdown",
      "metadata": {
        "id": "nMuW945lJgoG"
      },
      "source": [
        "Opción 2"
      ]
    },
    {
      "cell_type": "code",
      "execution_count": null,
      "metadata": {
        "id": "LvXOjlHUJiWh"
      },
      "outputs": [],
      "source": [
        "x=[2,4,6,20,30,60, 7,8,22,11,13,45,60,51,32,1]\n",
        "\n",
        "maximo = x[0] \n",
        "\n",
        "for numero in x: \n",
        "  if numero > maximo:\n",
        "    maximo = numero\n",
        "posicion = x.index(maximo)\n",
        "\n",
        "print('El valor máximo es: '+str(maximo)+' y la posición del elemento es: '+ str(posicion))"
      ]
    },
    {
      "cell_type": "markdown",
      "metadata": {
        "id": "bSEvqSUOxveV"
      },
      "source": [
        "### Ejercicio 2:\n",
        "Utilizar condicionales y bucles para calcular el factorial de un numero, por ejemplo 8!\n"
      ]
    },
    {
      "cell_type": "markdown",
      "metadata": {
        "id": "jTTvbY4HfG1v"
      },
      "source": [
        "Opción 1"
      ]
    },
    {
      "cell_type": "code",
      "execution_count": null,
      "metadata": {
        "colab": {
          "base_uri": "https://localhost:8080/"
        },
        "id": "B384O2JyxcZt",
        "outputId": "b4aea29a-431d-484c-bf33-d89e0bf09c34"
      },
      "outputs": [
        {
          "name": "stdout",
          "output_type": "stream",
          "text": [
            "8\n",
            "7\n",
            "6\n",
            "5\n",
            "4\n",
            "3\n",
            "2\n",
            "1\n"
          ]
        },
        {
          "data": {
            "text/plain": [
              "40320"
            ]
          },
          "execution_count": 9,
          "metadata": {
            "tags": []
          },
          "output_type": "execute_result"
        }
      ],
      "source": [
        "# 8*7*6...\n",
        "fact = 1\n",
        "n = 8\n",
        "while n >= 1:\n",
        "  fact = fact*n\n",
        "  print(n)\n",
        "  n -= 1\n",
        "\n",
        "fact"
      ]
    },
    {
      "cell_type": "markdown",
      "metadata": {
        "id": "TGpWpNyefM9F"
      },
      "source": [
        "Opción 2"
      ]
    },
    {
      "cell_type": "code",
      "execution_count": null,
      "metadata": {
        "id": "JHHiD9WqJy8g"
      },
      "outputs": [],
      "source": [
        "n = 8\n",
        "factorial = 1\n",
        "for numero in range(1, n+1):\n",
        "  \n",
        "  factorial = factorial * numero\n",
        "\n",
        "print(factorial)\n"
      ]
    },
    {
      "cell_type": "markdown",
      "metadata": {
        "id": "po21VqOMJ2fc"
      },
      "source": [
        "Opción 3"
      ]
    },
    {
      "cell_type": "code",
      "execution_count": null,
      "metadata": {
        "colab": {
          "base_uri": "https://localhost:8080/"
        },
        "id": "Fl-bCBwQr_Ng",
        "outputId": "a4e3f8c0-94ff-4f2f-a03c-7701113c6518"
      },
      "outputs": [
        {
          "name": "stdout",
          "output_type": "stream",
          "text": [
            "40320\n"
          ]
        }
      ],
      "source": [
        "n = 0\n",
        "factorial = 1\n",
        "while n < 8:\n",
        "  n += 1\n",
        "  factorial = n * factorial \n",
        "print(factorial)\n"
      ]
    },
    {
      "cell_type": "markdown",
      "metadata": {
        "id": "d_8UWEKZfQjV"
      },
      "source": [
        "Opción 4"
      ]
    },
    {
      "cell_type": "code",
      "execution_count": null,
      "metadata": {
        "colab": {
          "base_uri": "https://localhost:8080/"
        },
        "id": "fhIlTvm_LI8t",
        "outputId": "e9904c0d-5e9b-4a06-ed9a-0733d24dfb6e"
      },
      "outputs": [
        {
          "name": "stdout",
          "output_type": "stream",
          "text": [
            "Ingrese un número entero positivo: 8\n",
            "8! = 40320\n"
          ]
        }
      ],
      "source": [
        "numero = int(input(\"Ingrese un número entero positivo: \"))\n",
        "\n",
        "if numero >= 0:\n",
        "  factorial = 1\n",
        "\n",
        "  if numero == 0 or numero == 1:\n",
        "    factorial = 1\n",
        "  else:\n",
        "    for i in range (1, numero + 1):\n",
        "      factorial *= i\n",
        "  \n",
        "  print(f'{numero}! = {factorial}')\n",
        "else:\n",
        "  print(\"Ha escrito un valor negativo. La función factorial no está definida para números negativos.\")\n"
      ]
    },
    {
      "cell_type": "markdown",
      "metadata": {
        "id": "EHCImkXIfbwh"
      },
      "source": [
        "Opción 5"
      ]
    },
    {
      "cell_type": "code",
      "execution_count": null,
      "metadata": {
        "colab": {
          "base_uri": "https://localhost:8080/"
        },
        "id": "I1Z6quuGsouH",
        "outputId": "829cc875-dbec-4c69-cdc6-a18d43d43061"
      },
      "outputs": [
        {
          "name": "stdout",
          "output_type": "stream",
          "text": [
            "Ingrese número a factorizar: 8\n",
            "Factorial de  8 : 40320\n"
          ]
        }
      ],
      "source": [
        "numero=int(input(\"Ingrese número a factorizar: \"))\n",
        "resultado=int(numero)\n",
        "for i in range (1,numero):\n",
        "  resultado=resultado*(numero-i)\n",
        "print(\"Factorial de \", numero, \":\",resultado)\n"
      ]
    },
    {
      "cell_type": "markdown",
      "metadata": {
        "id": "lnKkN5E1ySGH"
      },
      "source": [
        "### Ejercicio 3:\n",
        "Crear una función que dado dos vectores numéricos realice el siguiente cálculo: contar cuantos números negativos aparecerán como resultado de multiplicar un vector por el otro.\n",
        "Aplicarla a los vectores x= (1, 3, -2, 5, -10, -20), y= (-3, 4, -5, 6, 15, 5)\n"
      ]
    },
    {
      "cell_type": "markdown",
      "metadata": {
        "id": "mcyHvMuxfhja"
      },
      "source": [
        "Opción 1"
      ]
    },
    {
      "cell_type": "code",
      "execution_count": null,
      "metadata": {
        "id": "Xe7ZqKCDyPbV"
      },
      "outputs": [],
      "source": [
        "def negativos(x, y):\n",
        "  producto = 0\n",
        "  cont = 0\n",
        "  for i in range(len(x)):\n",
        "    producto = x[i] * y[i]\n",
        "    if producto < 0:\n",
        "      cont = cont + 1\n",
        "  return cont"
      ]
    },
    {
      "cell_type": "code",
      "execution_count": null,
      "metadata": {
        "id": "2Ra2zU-0yvYr"
      },
      "outputs": [],
      "source": [
        "x = [1, 3, -2, 5, -10, -20]\n",
        "y= (-3, 4, -5, 6, 15, 5)"
      ]
    },
    {
      "cell_type": "code",
      "execution_count": null,
      "metadata": {
        "colab": {
          "base_uri": "https://localhost:8080/"
        },
        "id": "Ym_pHzeDy470",
        "outputId": "1202d9c1-4202-4669-b105-bffbcacdeedf"
      },
      "outputs": [
        {
          "data": {
            "text/plain": [
              "3"
            ]
          },
          "execution_count": 20,
          "metadata": {
            "tags": []
          },
          "output_type": "execute_result"
        }
      ],
      "source": [
        "negativos(x,y)"
      ]
    },
    {
      "cell_type": "markdown",
      "metadata": {
        "id": "TGpn_jY6fjKF"
      },
      "source": [
        "Opción 2"
      ]
    },
    {
      "cell_type": "code",
      "execution_count": null,
      "metadata": {
        "id": "5uVdoHMtKGDv"
      },
      "outputs": [],
      "source": [
        "x= (1, 3, -2, 5, -10, -20)\n",
        "y= (-3, 4, -5, 6, 15, 5)\n",
        "\n",
        "def cantidad_negativos(vector1, vector2):\n",
        "  cantidad_negativo = 0\n",
        "  for numero1, numero2 in zip(vector1, vector2): \n",
        "    producto = numero1 * numero2\n",
        "    if producto < 0:\n",
        "      cantidad_negativo +=  1\n",
        "  return cantidad_negativo\n",
        "\n",
        "negativos = cantidad_negativos(x,y)\n",
        "print(negativos)"
      ]
    },
    {
      "cell_type": "markdown",
      "metadata": {
        "id": "j5SJqiF3frIM"
      },
      "source": [
        "Opción 3"
      ]
    },
    {
      "cell_type": "code",
      "execution_count": null,
      "metadata": {
        "colab": {
          "base_uri": "https://localhost:8080/"
        },
        "id": "udiFIK4ItOli",
        "outputId": "98bc0896-801f-4b45-b268-20cdf42fb39e"
      },
      "outputs": [
        {
          "name": "stdout",
          "output_type": "stream",
          "text": [
            "3\n"
          ]
        }
      ],
      "source": [
        "x= [1, 3, -2, 5, -10, -20]\n",
        "y= [-3, 4, -5, 6, 15, 5]\n",
        "n=0\n",
        "for i in range(0,len(x)):\n",
        "\n",
        "  if x[i] > 0 and y[i] <0:\n",
        "    n += 1\n",
        "  elif x[i] < 0 and y[i] >0:\n",
        "    n += 1\n",
        "print(n)\n"
      ]
    },
    {
      "cell_type": "markdown",
      "metadata": {
        "id": "t3l-fBxmKf8i"
      },
      "source": [
        "Opción 4"
      ]
    },
    {
      "cell_type": "code",
      "execution_count": null,
      "metadata": {
        "colab": {
          "base_uri": "https://localhost:8080/",
          "height": 35
        },
        "id": "vcLZDmjrNYHD",
        "outputId": "5d9c892e-6c57-4956-b4b0-40d008b0ecfe"
      },
      "outputs": [
        {
          "data": {
            "application/vnd.google.colaboratory.intrinsic+json": {
              "type": "string"
            },
            "text/plain": [
              "'Total negatives: 3'"
            ]
          },
          "execution_count": 16,
          "metadata": {
            "tags": []
          },
          "output_type": "execute_result"
        }
      ],
      "source": [
        "x= [1, 3, -2, 5, -10, -20]\n",
        "y= [-3, 4, -5, 6, 15, 5]\n",
        "\n",
        "\n",
        "def con_neg(x,y):\n",
        "  result = 0\n",
        "  review = ''\n",
        "  \n",
        "  for i in range(len(x)):\n",
        "     if x[i] * y[i] > 0:\n",
        "       result\n",
        "     elif x[i] * y[i] < 0:\n",
        "       result = result + 1\n",
        "     else:\n",
        "       result \n",
        "       review = ' and '+ str(x[i]) + ' * ' + str(y[i]) + ' gave an error'\n",
        "\n",
        "  return \"Total negatives: \" + str(result) + str(review)\n",
        "    \n",
        "con_neg(x,y)\n"
      ]
    },
    {
      "cell_type": "markdown",
      "metadata": {
        "id": "ZktlrDWpzI37"
      },
      "source": [
        "### Ejercicio 4:\n",
        "Crear una función que dado un vector x y un numero natural n sume las primeras n componentes del vector y devuelva el valor de la suma. Aplicarla al vector del ejercicio 1\n"
      ]
    },
    {
      "cell_type": "markdown",
      "metadata": {
        "id": "NQi5j6w2fuFp"
      },
      "source": [
        "Opción 1"
      ]
    },
    {
      "cell_type": "code",
      "execution_count": null,
      "metadata": {
        "id": "sNp_dTR_y6Yb"
      },
      "outputs": [],
      "source": [
        "x=[2,4,6,20,30,7,8,22,11,13,45,60,51,32,1]\n",
        "\n",
        "def sumador(x, n):\n",
        "  suma = 0\n",
        "  i = 0\n",
        "  while i < n:\n",
        "    suma += x[i]\n",
        "    i += 1\n",
        "  return suma"
      ]
    },
    {
      "cell_type": "code",
      "execution_count": null,
      "metadata": {
        "colab": {
          "base_uri": "https://localhost:8080/"
        },
        "id": "DwY9p3Rbz0n3",
        "outputId": "e00c2d6d-5891-4659-8cc4-7e56f542145e"
      },
      "outputs": [
        {
          "data": {
            "text/plain": [
              "32"
            ]
          },
          "execution_count": 23,
          "metadata": {
            "tags": []
          },
          "output_type": "execute_result"
        }
      ],
      "source": [
        "sumador(x, 4)"
      ]
    },
    {
      "cell_type": "markdown",
      "metadata": {
        "id": "IvrOXa04fvTt"
      },
      "source": [
        "Opción 2"
      ]
    },
    {
      "cell_type": "code",
      "execution_count": null,
      "metadata": {
        "colab": {
          "base_uri": "https://localhost:8080/"
        },
        "id": "9F2nTI9xt8PH",
        "outputId": "468368ab-c984-4675-d7e4-3d1501ee381a"
      },
      "outputs": [
        {
          "data": {
            "text/plain": [
              "32"
            ]
          },
          "execution_count": 25,
          "metadata": {
            "tags": []
          },
          "output_type": "execute_result"
        }
      ],
      "source": [
        "def sumar_vector(x,n):\n",
        "  suma = 0\n",
        "  for i in x[:n]:\n",
        "    suma += i\n",
        "  return  suma\n",
        "\n",
        "x=[2,4,6,20,30,7,8,22,11,13,45,60,51,32,1]\n",
        "n = 4\n",
        "sumar_vector(x,n)\n"
      ]
    },
    {
      "cell_type": "markdown",
      "metadata": {
        "id": "sUIwhipjz9Kt"
      },
      "source": [
        "### Ejercicio 5:\n",
        "Considere la lista e = [2,6,8,1,4,8,7,3,9,6,1,4,15] que simboliza la cantidad de años de educación de una población. Crear una función que me devuelva un vector con el nivel educativo de cada individuo separado en 3 categorías: Bajo (entre 0 y 6 años de educación), Medio (entre 7 y 12 años de educación) y Alto (más de 12 años de educación)\n"
      ]
    },
    {
      "cell_type": "markdown",
      "metadata": {
        "id": "JRo8T4RpKUf6"
      },
      "source": [
        "Opción 1"
      ]
    },
    {
      "cell_type": "code",
      "execution_count": null,
      "metadata": {
        "id": "5Qb0aUtnz2qj"
      },
      "outputs": [],
      "source": [
        "e = [2,6,8,1,4,8,7,3,9,6,1,4,15]\n",
        "def nivel(x):\n",
        "  niveles = []\n",
        "  for i in range(len(x)):\n",
        "    if x[i] <= 6:\n",
        "      niveles.append(\"Bajo\")\n",
        "    elif x[i] > 6 and x[i] <= 12:\n",
        "      niveles.append(\"Medio\")\n",
        "    else:\n",
        "      niveles.append(\"Alto\")\n",
        "  return niveles"
      ]
    },
    {
      "cell_type": "code",
      "execution_count": null,
      "metadata": {
        "colab": {
          "base_uri": "https://localhost:8080/"
        },
        "id": "12Rc6tlI07cK",
        "outputId": "2877e3f1-159d-4862-e52c-7039ee03c3c8"
      },
      "outputs": [
        {
          "data": {
            "text/plain": [
              "['Bajo',\n",
              " 'Bajo',\n",
              " 'Medio',\n",
              " 'Bajo',\n",
              " 'Bajo',\n",
              " 'Medio',\n",
              " 'Medio',\n",
              " 'Bajo',\n",
              " 'Medio',\n",
              " 'Bajo',\n",
              " 'Bajo',\n",
              " 'Bajo',\n",
              " 'Alto']"
            ]
          },
          "execution_count": 29,
          "metadata": {
            "tags": []
          },
          "output_type": "execute_result"
        }
      ],
      "source": [
        "nivel(e)"
      ]
    },
    {
      "cell_type": "markdown",
      "metadata": {
        "id": "V5VNyZHrKWLn"
      },
      "source": [
        "Opción 2"
      ]
    },
    {
      "cell_type": "code",
      "execution_count": null,
      "metadata": {
        "id": "pJjK01LdKXBs"
      },
      "outputs": [],
      "source": [
        "años_edu = [2,6,8,1,4,8,7,3,9,6,1,4,15]\n",
        "\n",
        "def niveles(lista):\n",
        "  niveles_educativos = []\n",
        "  \n",
        "  for numero in lista:\n",
        "    if numero <= 6:\n",
        "      niveles_educativos.append('Bajo')\n",
        "    elif numero > 6 and numero <= 12:\n",
        "      niveles_educativos.append('Medio')\n",
        "    else:\n",
        "      niveles_educativos.append('Alto')\n",
        "\n",
        "  return niveles_educativos"
      ]
    },
    {
      "cell_type": "code",
      "execution_count": null,
      "metadata": {
        "id": "_TQeNNKJKYyw"
      },
      "outputs": [],
      "source": [
        "niveles(años_edu)"
      ]
    }
  ],
  "metadata": {
    "colab": {
      "collapsed_sections": [],
      "name": "Practico_1_correción.ipynb",
      "provenance": []
    },
    "kernelspec": {
      "display_name": "Python 3",
      "name": "python3"
    },
    "language_info": {
      "name": "python"
    }
  },
  "nbformat": 4,
  "nbformat_minor": 0
}
