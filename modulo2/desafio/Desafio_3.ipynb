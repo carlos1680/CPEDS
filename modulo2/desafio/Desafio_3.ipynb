{
  "cells": [
    {
      "cell_type": "markdown",
      "metadata": {
        "id": "l8eMKTQHgFQG"
      },
      "source": [
        "# Desafío 3\n",
        "Generar una función que tome un dataset, identifique qué variables son fechas, y genere una columna nueva para cada una, en donde se muestre la distancia en términos de días, con la fecha de hoy."
      ]
    },
    {
      "cell_type": "code",
      "execution_count": null,
      "metadata": {},
      "outputs": [
        {
          "ename": "",
          "evalue": "",
          "output_type": "error",
          "traceback": [
            "\u001b[1;31mLa ejecución de celdas con 'envWindows (Python 3.12.3)' requiere el paquete ipykernel.\n",
            "\u001b[1;31mEjecute el siguiente comando para instalar 'ipykernel' en el entorno de Python. comando \n",
            "\u001b[1;31m: 'f:/Personal/django/CPE/CPEDS/envWindows/Scripts/python.exe -m pip install ipykernel -U --force-reinstall'"
          ]
        }
      ],
      "source": [
        "import pandas as pd\n",
        "import numpy as np"
      ]
    },
    {
      "cell_type": "code",
      "execution_count": null,
      "metadata": {
        "colab": {
          "base_uri": "https://localhost:8080/",
          "height": 202
        },
        "id": "TnGnWeScf-ER",
        "outputId": "2b8d1a06-1d2f-427b-c142-42f566ae0da9"
      },
      "outputs": [
        {
          "data": {
            "text/html": [
              "<div>\n",
              "<style scoped>\n",
              "    .dataframe tbody tr th:only-of-type {\n",
              "        vertical-align: middle;\n",
              "    }\n",
              "\n",
              "    .dataframe tbody tr th {\n",
              "        vertical-align: top;\n",
              "    }\n",
              "\n",
              "    .dataframe thead th {\n",
              "        text-align: right;\n",
              "    }\n",
              "</style>\n",
              "<table border=\"1\" class=\"dataframe\">\n",
              "  <thead>\n",
              "    <tr style=\"text-align: right;\">\n",
              "      <th></th>\n",
              "      <th>id</th>\n",
              "      <th>date</th>\n",
              "      <th>revenue</th>\n",
              "      <th>product</th>\n",
              "    </tr>\n",
              "  </thead>\n",
              "  <tbody>\n",
              "    <tr>\n",
              "      <th>0</th>\n",
              "      <td>1</td>\n",
              "      <td>2020-06-01</td>\n",
              "      <td>7189</td>\n",
              "      <td>desk</td>\n",
              "    </tr>\n",
              "    <tr>\n",
              "      <th>1</th>\n",
              "      <td>2</td>\n",
              "      <td>2020-07-22</td>\n",
              "      <td>11318</td>\n",
              "      <td>chair</td>\n",
              "    </tr>\n",
              "    <tr>\n",
              "      <th>2</th>\n",
              "      <td>3</td>\n",
              "      <td>2020-09-11</td>\n",
              "      <td>4638</td>\n",
              "      <td>pencil</td>\n",
              "    </tr>\n",
              "    <tr>\n",
              "      <th>3</th>\n",
              "      <td>4</td>\n",
              "      <td>2020-08-03</td>\n",
              "      <td>4076</td>\n",
              "      <td>chair</td>\n",
              "    </tr>\n",
              "    <tr>\n",
              "      <th>4</th>\n",
              "      <td>5</td>\n",
              "      <td>2020-06-27</td>\n",
              "      <td>10232</td>\n",
              "      <td>pencil</td>\n",
              "    </tr>\n",
              "  </tbody>\n",
              "</table>\n",
              "</div>"
            ],
            "text/plain": [
              "   id       date  revenue product\n",
              "0   1 2020-06-01     7189    desk\n",
              "1   2 2020-07-22    11318   chair\n",
              "2   3 2020-09-11     4638  pencil\n",
              "3   4 2020-08-03     4076   chair\n",
              "4   5 2020-06-27    10232  pencil"
            ]
          },
          "execution_count": 44,
          "metadata": {
            "tags": []
          },
          "output_type": "execute_result"
        }
      ],
      "source": [
        "import pandas as pd\n",
        "datos = pd.read_csv(\"data_desafio_3.csv\", parse_dates = [\"date\"])\n",
        "datos.head()"
      ]
    },
    {
      "cell_type": "markdown",
      "metadata": {
        "id": "eur-2ns9lVSH"
      },
      "source": [
        "Paso 1: identificar las columnas en formato fecha"
      ]
    },
    {
      "cell_type": "code",
      "execution_count": null,
      "metadata": {
        "colab": {
          "base_uri": "https://localhost:8080/"
        },
        "id": "Oo9cpMbmlf-M",
        "outputId": "6693b5d5-41e9-4622-8e8f-317624e6858a"
      },
      "outputs": [
        {
          "name": "stdout",
          "output_type": "stream",
          "text": [
            "\n",
            "El dataset contiene 1 columnas con formato fecha. \n",
            "Estas son: ['date']. \n",
            "Por otro lado, contiene 3 columnas con otro formato. \n",
            "Estas son: ['id', 'revenue', 'product']\n",
            "\n"
          ]
        }
      ],
      "source": [
        "dates = []\n",
        "no_dates = []\n",
        "\n",
        "for i in range(len(data.columns)):\n",
        "  if data[data.columns[i]].dtype == 'datetime64[ns]':\n",
        "    dates.append(data.columns[i])\n",
        "  else:\n",
        "    no_dates.append(data.columns[i])\n",
        "\n",
        "print(f\"\"\"\n",
        "El dataset contiene {len(dates)} columnas con formato fecha. \n",
        "Estas son: {dates}. \n",
        "Por otro lado, contiene {len(no_dates)} columnas con otro formato. \n",
        "Estas son: {no_dates}\n",
        "\"\"\")"
      ]
    },
    {
      "cell_type": "markdown",
      "metadata": {
        "id": "0juU0DGepDwM"
      },
      "source": [
        "Paso 2: cómo encontrar la diferencia en días entre dos columnas con fechas."
      ]
    },
    {
      "cell_type": "code",
      "execution_count": null,
      "metadata": {
        "colab": {
          "base_uri": "https://localhost:8080/"
        },
        "id": "0E0atSFrrJo8",
        "outputId": "f274489b-bfb2-4c01-dd4c-16144cdfb45a"
      },
      "outputs": [
        {
          "data": {
            "text/plain": [
              "0      338\n",
              "1      287\n",
              "2      236\n",
              "3      275\n",
              "4      312\n",
              "      ... \n",
              "195    142\n",
              "196    209\n",
              "197    184\n",
              "198    178\n",
              "199     29\n",
              "Length: 200, dtype: int64"
            ]
          },
          "execution_count": 38,
          "metadata": {
            "tags": []
          },
          "output_type": "execute_result"
        }
      ],
      "source": [
        "from datetime import datetime as dt\n",
        "\n",
        "dias = []\n",
        "\n",
        "for i in range(len(data[\"date\"])):\n",
        "  a = dt.today() - data[\"date\"][i] \n",
        "  dias.append(a.days)\n",
        "\n",
        "dates_dif = pd.Series(dias, dtype = 'int')\n",
        "dates_dif"
      ]
    },
    {
      "cell_type": "markdown",
      "metadata": {
        "id": "ltMsNEU1s6X0"
      },
      "source": [
        "Paso 3: insertar la serie generada al dataset original"
      ]
    },
    {
      "cell_type": "code",
      "execution_count": null,
      "metadata": {
        "colab": {
          "base_uri": "https://localhost:8080/",
          "height": 202
        },
        "id": "gOrajoEbtCTp",
        "outputId": "394ceb16-b97e-4bac-cf61-ed6d9d50dcfc"
      },
      "outputs": [
        {
          "data": {
            "text/html": [
              "<div>\n",
              "<style scoped>\n",
              "    .dataframe tbody tr th:only-of-type {\n",
              "        vertical-align: middle;\n",
              "    }\n",
              "\n",
              "    .dataframe tbody tr th {\n",
              "        vertical-align: top;\n",
              "    }\n",
              "\n",
              "    .dataframe thead th {\n",
              "        text-align: right;\n",
              "    }\n",
              "</style>\n",
              "<table border=\"1\" class=\"dataframe\">\n",
              "  <thead>\n",
              "    <tr style=\"text-align: right;\">\n",
              "      <th></th>\n",
              "      <th>id</th>\n",
              "      <th>date</th>\n",
              "      <th>revenue</th>\n",
              "      <th>product</th>\n",
              "      <th>dates_dif</th>\n",
              "    </tr>\n",
              "  </thead>\n",
              "  <tbody>\n",
              "    <tr>\n",
              "      <th>0</th>\n",
              "      <td>1</td>\n",
              "      <td>2020-06-01</td>\n",
              "      <td>7189</td>\n",
              "      <td>desk</td>\n",
              "      <td>338</td>\n",
              "    </tr>\n",
              "    <tr>\n",
              "      <th>1</th>\n",
              "      <td>2</td>\n",
              "      <td>2020-07-22</td>\n",
              "      <td>11318</td>\n",
              "      <td>chair</td>\n",
              "      <td>287</td>\n",
              "    </tr>\n",
              "    <tr>\n",
              "      <th>2</th>\n",
              "      <td>3</td>\n",
              "      <td>2020-09-11</td>\n",
              "      <td>4638</td>\n",
              "      <td>pencil</td>\n",
              "      <td>236</td>\n",
              "    </tr>\n",
              "    <tr>\n",
              "      <th>3</th>\n",
              "      <td>4</td>\n",
              "      <td>2020-08-03</td>\n",
              "      <td>4076</td>\n",
              "      <td>chair</td>\n",
              "      <td>275</td>\n",
              "    </tr>\n",
              "    <tr>\n",
              "      <th>4</th>\n",
              "      <td>5</td>\n",
              "      <td>2020-06-27</td>\n",
              "      <td>10232</td>\n",
              "      <td>pencil</td>\n",
              "      <td>312</td>\n",
              "    </tr>\n",
              "  </tbody>\n",
              "</table>\n",
              "</div>"
            ],
            "text/plain": [
              "   id       date  revenue product  dates_dif\n",
              "0   1 2020-06-01     7189    desk        338\n",
              "1   2 2020-07-22    11318   chair        287\n",
              "2   3 2020-09-11     4638  pencil        236\n",
              "3   4 2020-08-03     4076   chair        275\n",
              "4   5 2020-06-27    10232  pencil        312"
            ]
          },
          "execution_count": 43,
          "metadata": {
            "tags": []
          },
          "output_type": "execute_result"
        }
      ],
      "source": [
        "data[\"dates_dif\"] = dates_dif\n",
        "data.head()"
      ]
    },
    {
      "cell_type": "markdown",
      "metadata": {
        "id": "SndJkLuFtyhy"
      },
      "source": [
        "Paso 4: generar una función estandarizada"
      ]
    },
    {
      "cell_type": "code",
      "execution_count": null,
      "metadata": {
        "id": "KWYy96_etYy8"
      },
      "outputs": [],
      "source": [
        "def diferencia_de_fechas(data):\n",
        "  dates = []\n",
        "  no_dates = []\n",
        "\n",
        "  for i in range(len(data.columns)):\n",
        "    if data[data.columns[i]].dtype == 'datetime64[ns]':\n",
        "      dates.append(data.columns[i])\n",
        "    else:\n",
        "      no_dates.append(data.columns[i])\n",
        "\n",
        "  print(f\"\"\"\n",
        "  El dataset contiene {len(dates)} columnas con formato fecha. \n",
        "  Estas son: {dates}. \n",
        "  Por otro lado, contiene {len(no_dates)} columnas con otro formato. \n",
        "  Estas son: {no_dates}\n",
        "  \"\"\")\n",
        "\n",
        "  \n",
        "  for d in range(len(dates)):\n",
        "    dias = []\n",
        "    for i in range(len(data[dates[d]])):\n",
        "      a = dt.today() - data[dates[d]][i]\n",
        "      dias.append(a.days)\n",
        "\n",
        "    dates_dif = pd.Series(dias, dtype = 'int')\n",
        "    \n",
        "    nombre = dates[d] + ' - Diferencia de días con hoy'\n",
        "\n",
        "    data[nombre] = dates_dif\n",
        "\n",
        "  return data.head()"
      ]
    },
    {
      "cell_type": "code",
      "execution_count": null,
      "metadata": {
        "colab": {
          "base_uri": "https://localhost:8080/",
          "height": 306
        },
        "id": "HGQlRAhUuXZN",
        "outputId": "a7245136-357c-4b5c-fde6-47bd4789151a"
      },
      "outputs": [
        {
          "name": "stdout",
          "output_type": "stream",
          "text": [
            "\n",
            "  El dataset contiene 2 columnas con formato fecha. \n",
            "  Estas son: ['date', 'new_date']. \n",
            "  Por otro lado, contiene 5 columnas con otro formato. \n",
            "  Estas son: ['id', 'revenue', 'product', 'date - Diferencia de días con hoy', 'new_date - Diferencia de días con hoy']\n",
            "  \n"
          ]
        },
        {
          "data": {
            "text/html": [
              "<div>\n",
              "<style scoped>\n",
              "    .dataframe tbody tr th:only-of-type {\n",
              "        vertical-align: middle;\n",
              "    }\n",
              "\n",
              "    .dataframe tbody tr th {\n",
              "        vertical-align: top;\n",
              "    }\n",
              "\n",
              "    .dataframe thead th {\n",
              "        text-align: right;\n",
              "    }\n",
              "</style>\n",
              "<table border=\"1\" class=\"dataframe\">\n",
              "  <thead>\n",
              "    <tr style=\"text-align: right;\">\n",
              "      <th></th>\n",
              "      <th>id</th>\n",
              "      <th>date</th>\n",
              "      <th>revenue</th>\n",
              "      <th>product</th>\n",
              "      <th>date - Diferencia de días con hoy</th>\n",
              "      <th>new_date</th>\n",
              "      <th>new_date - Diferencia de días con hoy</th>\n",
              "    </tr>\n",
              "  </thead>\n",
              "  <tbody>\n",
              "    <tr>\n",
              "      <th>0</th>\n",
              "      <td>1</td>\n",
              "      <td>2020-06-01</td>\n",
              "      <td>7189</td>\n",
              "      <td>desk</td>\n",
              "      <td>338</td>\n",
              "      <td>2020-01-01</td>\n",
              "      <td>490</td>\n",
              "    </tr>\n",
              "    <tr>\n",
              "      <th>1</th>\n",
              "      <td>2</td>\n",
              "      <td>2020-07-22</td>\n",
              "      <td>11318</td>\n",
              "      <td>chair</td>\n",
              "      <td>287</td>\n",
              "      <td>2020-01-01</td>\n",
              "      <td>490</td>\n",
              "    </tr>\n",
              "    <tr>\n",
              "      <th>2</th>\n",
              "      <td>3</td>\n",
              "      <td>2020-09-11</td>\n",
              "      <td>4638</td>\n",
              "      <td>pencil</td>\n",
              "      <td>236</td>\n",
              "      <td>2020-01-01</td>\n",
              "      <td>490</td>\n",
              "    </tr>\n",
              "    <tr>\n",
              "      <th>3</th>\n",
              "      <td>4</td>\n",
              "      <td>2020-08-03</td>\n",
              "      <td>4076</td>\n",
              "      <td>chair</td>\n",
              "      <td>275</td>\n",
              "      <td>2020-01-01</td>\n",
              "      <td>490</td>\n",
              "    </tr>\n",
              "    <tr>\n",
              "      <th>4</th>\n",
              "      <td>5</td>\n",
              "      <td>2020-06-27</td>\n",
              "      <td>10232</td>\n",
              "      <td>pencil</td>\n",
              "      <td>312</td>\n",
              "      <td>2020-01-01</td>\n",
              "      <td>490</td>\n",
              "    </tr>\n",
              "  </tbody>\n",
              "</table>\n",
              "</div>"
            ],
            "text/plain": [
              "   id       date  ...   new_date new_date - Diferencia de días con hoy\n",
              "0   1 2020-06-01  ... 2020-01-01                                   490\n",
              "1   2 2020-07-22  ... 2020-01-01                                   490\n",
              "2   3 2020-09-11  ... 2020-01-01                                   490\n",
              "3   4 2020-08-03  ... 2020-01-01                                   490\n",
              "4   5 2020-06-27  ... 2020-01-01                                   490\n",
              "\n",
              "[5 rows x 7 columns]"
            ]
          },
          "execution_count": 65,
          "metadata": {
            "tags": []
          },
          "output_type": "execute_result"
        }
      ],
      "source": [
        "diferencia_de_fechas(datos)"
      ]
    }
  ],
  "metadata": {
    "colab": {
      "collapsed_sections": [],
      "name": "Desafio_3",
      "provenance": []
    },
    "kernelspec": {
      "display_name": "Python 3",
      "name": "python3"
    },
    "language_info": {
      "name": "python",
      "version": "3.12.3"
    }
  },
  "nbformat": 4,
  "nbformat_minor": 0
}
