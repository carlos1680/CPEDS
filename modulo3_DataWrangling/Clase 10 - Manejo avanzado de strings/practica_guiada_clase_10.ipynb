{
  "cells": [
    {
      "cell_type": "code",
      "execution_count": 1,
      "metadata": {
        "id": "MQX2jxVv4PpO"
      },
      "outputs": [],
      "source": [
        "import pandas as pd"
      ]
    },
    {
      "cell_type": "markdown",
      "metadata": {
        "id": "Gos0trzGSeDv"
      },
      "source": [
        "# 1 -  Fuzzy Matching\n",
        "\n",
        "Utilizaremos los conceptos de fuzzy matching para mejorar una variable categórica"
      ]
    },
    {
      "cell_type": "code",
      "execution_count": 2,
      "metadata": {
        "colab": {
          "base_uri": "https://localhost:8080/"
        },
        "id": "Y0b-CesX4S2X",
        "outputId": "685efe82-1384-4948-e3a8-0e720401da04"
      },
      "outputs": [],
      "source": [
        "#Primero instalemos fuzzywuzzy\n",
        "#!pip install fuzzywuzzy"
      ]
    },
    {
      "cell_type": "code",
      "execution_count": 3,
      "metadata": {
        "colab": {
          "base_uri": "https://localhost:8080/"
        },
        "id": "7Nr3opu0kJMd",
        "outputId": "38eaef16-65ab-4088-f094-52491e933c31"
      },
      "outputs": [],
      "source": [
        "#from google.colab import drive\n",
        "#drive.mount('/content/drive')"
      ]
    },
    {
      "cell_type": "code",
      "execution_count": 4,
      "metadata": {
        "id": "Z-xIexnsSlvg"
      },
      "outputs": [
        {
          "name": "stderr",
          "output_type": "stream",
          "text": [
            "f:\\Personal\\django\\CPE\\CPEDS\\envWindows\\Lib\\site-packages\\fuzzywuzzy\\fuzz.py:11: UserWarning: Using slow pure-python SequenceMatcher. Install python-Levenshtein to remove this warning\n",
            "  warnings.warn('Using slow pure-python SequenceMatcher. Install python-Levenshtein to remove this warning')\n"
          ]
        }
      ],
      "source": [
        "from fuzzywuzzy import fuzz\n",
        "from fuzzywuzzy import process\n",
        "\n",
        "# Leemos un archivo con información de los departamentos de Uruguay\n",
        "fuzzy = pd.read_csv(\"../DataSets/Ejercicio_Fuzzy.csv\", encoding = \"ISO-8859-1\")"
      ]
    },
    {
      "cell_type": "code",
      "execution_count": 5,
      "metadata": {
        "colab": {
          "base_uri": "https://localhost:8080/",
          "height": 237
        },
        "id": "TtiFrb0pVHIx",
        "outputId": "c0cd736f-9045-44a4-aa2b-aece44538e27"
      },
      "outputs": [
        {
          "data": {
            "text/html": [
              "<div>\n",
              "<style scoped>\n",
              "    .dataframe tbody tr th:only-of-type {\n",
              "        vertical-align: middle;\n",
              "    }\n",
              "\n",
              "    .dataframe tbody tr th {\n",
              "        vertical-align: top;\n",
              "    }\n",
              "\n",
              "    .dataframe thead th {\n",
              "        text-align: right;\n",
              "    }\n",
              "</style>\n",
              "<table border=\"1\" class=\"dataframe\">\n",
              "  <thead>\n",
              "    <tr style=\"text-align: right;\">\n",
              "      <th></th>\n",
              "      <th>Id</th>\n",
              "      <th>Departamento</th>\n",
              "      <th>Valor</th>\n",
              "    </tr>\n",
              "  </thead>\n",
              "  <tbody>\n",
              "    <tr>\n",
              "      <th>70</th>\n",
              "      <td>71</td>\n",
              "      <td>Paysandu</td>\n",
              "      <td>89</td>\n",
              "    </tr>\n",
              "    <tr>\n",
              "      <th>67</th>\n",
              "      <td>68</td>\n",
              "      <td>Rivera</td>\n",
              "      <td>35</td>\n",
              "    </tr>\n",
              "    <tr>\n",
              "      <th>14</th>\n",
              "      <td>15</td>\n",
              "      <td>Treinta y Tres</td>\n",
              "      <td>49</td>\n",
              "    </tr>\n",
              "    <tr>\n",
              "      <th>37</th>\n",
              "      <td>38</td>\n",
              "      <td>Soriano</td>\n",
              "      <td>55</td>\n",
              "    </tr>\n",
              "    <tr>\n",
              "      <th>63</th>\n",
              "      <td>64</td>\n",
              "      <td>Canelons</td>\n",
              "      <td>52</td>\n",
              "    </tr>\n",
              "    <tr>\n",
              "      <th>66</th>\n",
              "      <td>67</td>\n",
              "      <td>Rivera</td>\n",
              "      <td>47</td>\n",
              "    </tr>\n",
              "  </tbody>\n",
              "</table>\n",
              "</div>"
            ],
            "text/plain": [
              "    Id    Departamento  Valor\n",
              "70  71        Paysandu     89\n",
              "67  68          Rivera     35\n",
              "14  15  Treinta y Tres     49\n",
              "37  38         Soriano     55\n",
              "63  64        Canelons     52\n",
              "66  67          Rivera     47"
            ]
          },
          "execution_count": 5,
          "metadata": {},
          "output_type": "execute_result"
        }
      ],
      "source": [
        "fuzzy.sample(6)"
      ]
    },
    {
      "cell_type": "markdown",
      "metadata": {
        "id": "8y0DsHnZbQzw"
      },
      "source": [
        "Tenemos un dataset de ejemplo con un campo \"Departamento\" ingresado de forma manual, con errores de tipeo"
      ]
    },
    {
      "cell_type": "code",
      "execution_count": 6,
      "metadata": {
        "colab": {
          "base_uri": "https://localhost:8080/"
        },
        "id": "M-3-_Hg3VMFf",
        "outputId": "4fa70e54-a817-4cc5-93a7-3d38fd473e4d"
      },
      "outputs": [
        {
          "data": {
            "text/plain": [
              "0         Montevideo\n",
              "1          Canelones\n",
              "2           San Jose\n",
              "3            Soriano\n",
              "4            Durazno\n",
              "5        Cerro Largo\n",
              "6           C. Largo\n",
              "7            S. Jos\n",
              "8           San Jos\n",
              "9             Mvdeo.\n",
              "10           Montev.\n",
              "11           Colonia\n",
              "12           durazno\n",
              "14    Treinta y Tres\n",
              "15      Treintaytres\n",
              "16         Rio Negro\n",
              "18          R. negro\n",
              "19         Maldonado\n",
              "21    Trainta y trs\n",
              "22         maldonado\n",
              "23             Rocha\n",
              "24        Tacuarmebo\n",
              "25       Tamcuaremb¢\n",
              "26          Canelons\n",
              "27           Artigas\n",
              "28             Salto\n",
              "29            Rivera\n",
              "32          Paysand£\n",
              "33          Paysandu\n",
              "75           Florida\n",
              "76             Flors\n",
              "77            Flores\n",
              "79         Lavalleja\n",
              "Name: Departamento, dtype: object"
            ]
          },
          "execution_count": 6,
          "metadata": {},
          "output_type": "execute_result"
        }
      ],
      "source": [
        "fuzzy['Departamento'].drop_duplicates()"
      ]
    },
    {
      "cell_type": "markdown",
      "metadata": {
        "id": "c5u3lbQk6OCP"
      },
      "source": [
        "De la librería fuzzywuzzy usaremos las funciones:\n",
        "\n",
        "\n",
        "`ratio(string_1, string_2)`: calcula el ratio de coincidencia entre string_1 y string_2 usando la distancia de Levenshtein\n",
        "\n",
        "`partial_ratio(string_1, string_2)`: calcula el ratio de coincidencia tomando al string más corto como substring y buscando coincidencias parciales\n",
        "\n"
      ]
    },
    {
      "cell_type": "code",
      "execution_count": 7,
      "metadata": {
        "colab": {
          "base_uri": "https://localhost:8080/"
        },
        "id": "gRWIs5ksW9iG",
        "outputId": "3f8a0bb9-13c4-49ee-dc7b-823546f65ab3"
      },
      "outputs": [
        {
          "data": {
            "text/plain": [
              "100"
            ]
          },
          "execution_count": 7,
          "metadata": {},
          "output_type": "execute_result"
        }
      ],
      "source": [
        "# Ratio entre strings iguales\n",
        "fuzz.ratio('durazno','durazno')"
      ]
    },
    {
      "cell_type": "code",
      "execution_count": 8,
      "metadata": {
        "colab": {
          "base_uri": "https://localhost:8080/"
        },
        "id": "pWZ5ej4g8Fni",
        "outputId": "5304759d-5b2d-4de2-a9c1-b71d5944dfd1"
      },
      "outputs": [
        {
          "data": {
            "text/plain": [
              "86"
            ]
          },
          "execution_count": 8,
          "metadata": {},
          "output_type": "execute_result"
        }
      ],
      "source": [
        "# Ratio entre strings levemente distintos\n",
        "fuzz.ratio('Durazno','durazno')"
      ]
    },
    {
      "cell_type": "code",
      "execution_count": 9,
      "metadata": {
        "colab": {
          "base_uri": "https://localhost:8080/"
        },
        "id": "sab4o7KhXCEr",
        "outputId": "34f600b1-786b-4240-ce93-f663c217a6a8"
      },
      "outputs": [
        {
          "data": {
            "text/plain": [
              "40"
            ]
          },
          "execution_count": 9,
          "metadata": {},
          "output_type": "execute_result"
        }
      ],
      "source": [
        "# Ratio entre strings muy distintos\n",
        "fuzz.ratio('durazno','Yo vivo en durazno hace años')"
      ]
    },
    {
      "cell_type": "code",
      "execution_count": 10,
      "metadata": {
        "colab": {
          "base_uri": "https://localhost:8080/"
        },
        "id": "RhVVEyUo9Aci",
        "outputId": "0c731066-9215-4d25-a68f-4eb43115facb"
      },
      "outputs": [
        {
          "data": {
            "text/plain": [
              "100"
            ]
          },
          "execution_count": 10,
          "metadata": {},
          "output_type": "execute_result"
        }
      ],
      "source": [
        "# Ratio parcial entre strings muy distintos\n",
        "fuzz.partial_ratio('durazno','Yo vivo en durazno hace años')"
      ]
    },
    {
      "cell_type": "markdown",
      "metadata": {
        "id": "_JYey_rr9KZe"
      },
      "source": [
        "Obtenemos una lista con los valores verdaderos de los departamentos."
      ]
    },
    {
      "cell_type": "code",
      "execution_count": 11,
      "metadata": {
        "id": "CZXydfbY9ywY"
      },
      "outputs": [],
      "source": [
        "departamentos = [\n",
        "    'Montevideo',\n",
        "    'Treinta y Trés',\n",
        "    'Colonia',\n",
        "    'Artigas',\n",
        "    'Canelones',\n",
        "    'Cerro Largo',\n",
        "    'Durazno',\n",
        "    'Flores',\n",
        "    'Florida',\n",
        "    'Lavalleja',\n",
        "    'Maldonado',\n",
        "    'Paysandú',\n",
        "    'Río Negro',\n",
        "    'Rivera',\n",
        "    'Rocha',\n",
        "    'Salto',\n",
        "    'San José',\n",
        "    'Soriano',\n",
        "    'Tacuarembó'\n",
        "]"
      ]
    },
    {
      "cell_type": "markdown",
      "metadata": {
        "id": "qERFyHeeA_FM"
      },
      "source": [
        "Busquemos encontrar el valor más próximo para uno de los valores de nuestro dataset.\n",
        "En general es un buen procedimiento utilizar las técnicas de manipulación de strings como quitar eliminar espacios en blanco, llevar todo el texto a minuscula, etc. previo a usar las funciones de fuzzy matching funciones."
      ]
    },
    {
      "cell_type": "code",
      "execution_count": 12,
      "metadata": {
        "colab": {
          "base_uri": "https://localhost:8080/",
          "height": 36
        },
        "id": "pGbE7vd9BBpt",
        "outputId": "99f8c48d-c3d1-4961-f890-650fd3d05000"
      },
      "outputs": [
        {
          "data": {
            "text/plain": [
              "'Flors'"
            ]
          },
          "execution_count": 12,
          "metadata": {},
          "output_type": "execute_result"
        }
      ],
      "source": [
        "fuzzy.loc[76,'Departamento']"
      ]
    },
    {
      "cell_type": "code",
      "execution_count": 13,
      "metadata": {
        "colab": {
          "base_uri": "https://localhost:8080/",
          "height": 36
        },
        "id": "PJOE-k9SDME3",
        "outputId": "cf5a93ee-e01d-4931-b66a-af8e52c6758f"
      },
      "outputs": [
        {
          "data": {
            "text/plain": [
              "'flors'"
            ]
          },
          "execution_count": 13,
          "metadata": {},
          "output_type": "execute_result"
        }
      ],
      "source": [
        "depto = fuzzy.loc[76,'Departamento'].lower()\n",
        "depto"
      ]
    },
    {
      "cell_type": "code",
      "execution_count": 14,
      "metadata": {
        "colab": {
          "base_uri": "https://localhost:8080/"
        },
        "id": "TJRe5NEfDWGi",
        "outputId": "a7abb089-1836-4c69-e6f9-c5fde174202c"
      },
      "outputs": [
        {
          "name": "stdout",
          "output_type": "stream",
          "text": [
            "Para el valor flors, el valor correcto es flores con un puntaje de 91\n"
          ]
        }
      ],
      "source": [
        "max_coincidencia = 0\n",
        "# Recorremos la lista de departamentos\n",
        "for valor_correcto in departamentos:\n",
        "  # Llevamos a minuscula\n",
        "  valor_correcto = valor_correcto.lower()\n",
        "  # Obtenemos el ratio de coincidencia\n",
        "  coincidencia = fuzz.ratio(depto, valor_correcto)\n",
        "  # Si el puntaje de la coincidencia es mayor que la vigente\n",
        "  if coincidencia > max_coincidencia:\n",
        "    # Guardar el valor correcto\n",
        "    correccion = valor_correcto\n",
        "    # Reemplazar el puntaje\n",
        "    max_coincidencia = coincidencia\n",
        "\n",
        "print(f\"Para el valor {depto}, el valor correcto es {correccion} con un puntaje de {max_coincidencia}\")"
      ]
    },
    {
      "cell_type": "code",
      "execution_count": 15,
      "metadata": {
        "colab": {
          "base_uri": "https://localhost:8080/"
        },
        "id": "CuMrbDa0-ePL",
        "outputId": "9457628a-2d39-420a-c5ec-652380df687e"
      },
      "outputs": [
        {
          "name": "stdout",
          "output_type": "stream",
          "text": [
            "Para el valor san jose, el valor correcto es san josé con un puntaje de 88\n",
            "Para el valor c. largo, el valor correcto es cerro largo con un puntaje de 74\n",
            "Para el valor s. jos, el valor correcto es san josé con un puntaje de 67\n",
            "Para el valor san jos, el valor correcto es san josé con un puntaje de 88\n",
            "Para el valor mvdeo., el valor correcto es montevideo con un puntaje de 62\n",
            "Para el valor montev., el valor correcto es montevideo con un puntaje de 71\n",
            "Para el valor treinta y tres, el valor correcto es treinta y trés con un puntaje de 93\n",
            "Para el valor treintaytres, el valor correcto es treinta y trés con un puntaje de 85\n",
            "Para el valor rio negro, el valor correcto es río negro con un puntaje de 89\n",
            "Para el valor r. negro, el valor correcto es río negro con un puntaje de 82\n",
            "Para el valor trainta y trs, el valor correcto es treinta y trés con un puntaje de 86\n",
            "Para el valor tacuarmebo, el valor correcto es tacuarembó con un puntaje de 80\n",
            "Para el valor tamcuaremb¢, el valor correcto es tacuarembó con un puntaje de 86\n",
            "Para el valor canelons, el valor correcto es canelones con un puntaje de 94\n",
            "Para el valor paysand£, el valor correcto es paysandú con un puntaje de 88\n",
            "Para el valor paysandu, el valor correcto es paysandú con un puntaje de 88\n",
            "Para el valor san jose, el valor correcto es san josé con un puntaje de 88\n",
            "Para el valor c. largo, el valor correcto es cerro largo con un puntaje de 74\n",
            "Para el valor s. jos, el valor correcto es san josé con un puntaje de 67\n",
            "Para el valor san jos, el valor correcto es san josé con un puntaje de 88\n",
            "Para el valor mvdeo., el valor correcto es montevideo con un puntaje de 62\n",
            "Para el valor montev., el valor correcto es montevideo con un puntaje de 71\n",
            "Para el valor treinta y tres, el valor correcto es treinta y trés con un puntaje de 93\n",
            "Para el valor treintaytres, el valor correcto es treinta y trés con un puntaje de 85\n",
            "Para el valor treinta y tres, el valor correcto es treinta y trés con un puntaje de 93\n",
            "Para el valor treintaytres, el valor correcto es treinta y trés con un puntaje de 85\n",
            "Para el valor rio negro, el valor correcto es río negro con un puntaje de 89\n",
            "Para el valor r. negro, el valor correcto es río negro con un puntaje de 82\n",
            "Para el valor trainta y trs, el valor correcto es treinta y trés con un puntaje de 86\n",
            "Para el valor tacuarmebo, el valor correcto es tacuarembó con un puntaje de 80\n",
            "Para el valor tamcuaremb¢, el valor correcto es tacuarembó con un puntaje de 86\n",
            "Para el valor canelons, el valor correcto es canelones con un puntaje de 94\n",
            "Para el valor paysand£, el valor correcto es paysandú con un puntaje de 88\n",
            "Para el valor paysandu, el valor correcto es paysandú con un puntaje de 88\n",
            "Para el valor san jose, el valor correcto es san josé con un puntaje de 88\n",
            "Para el valor flors, el valor correcto es flores con un puntaje de 91\n",
            "Para el valor san jose, el valor correcto es san josé con un puntaje de 88\n"
          ]
        }
      ],
      "source": [
        "for _,row in fuzzy.iterrows():\n",
        "  depto = row['Departamento'].lower()\n",
        "  max_coincidencia = 0\n",
        "  # Recorremos la lista de departamentos\n",
        "  for valor_correcto in departamentos:\n",
        "    # Llevamos a minuscula\n",
        "    valor_correcto = valor_correcto.lower()\n",
        "    # Obtenemos el ratio de coincidencia\n",
        "    coincidencia = fuzz.ratio(depto, valor_correcto)\n",
        "    # Si el puntaje de la coincidencia es mayor que la vigente\n",
        "    if coincidencia > max_coincidencia:\n",
        "      # Guardar el valor correcto\n",
        "      correccion = valor_correcto\n",
        "      # Reemplazar el puntaje\n",
        "      max_coincidencia = coincidencia\n",
        "  if max_coincidencia < 100:\n",
        "    print(f\"Para el valor {depto}, el valor correcto es {correccion} con un puntaje de {max_coincidencia}\")"
      ]
    },
    {
      "cell_type": "markdown",
      "metadata": {
        "id": "u0uplZ8fHHTI"
      },
      "source": [
        "# 2 - Ejercicios con expresiones regulares"
      ]
    },
    {
      "cell_type": "code",
      "execution_count": 16,
      "metadata": {
        "id": "X45sjO9KpPtP"
      },
      "outputs": [],
      "source": [
        "entrevistas_dict = {'nombre':['Pedro', 'Celeste', 'Mariela', 'Jorge', 'Matías'],\n",
        " 'fecha_nacimiento':['22-03-1994', 'Nací el 15-05-1997', '03-11-91', 'fecha nacimiento: 10-10-1998', '03-01-1999'],\n",
        " 'titulo_maximo': ['Lic. Administracion', 'Ingeniera en sistemas', 'Licenciada en Economía', 'Ing. industrial', 'Biología'],\n",
        " 'idiomas':['español', 'español, ingles', 'español', 'español, ingles y portugues', '4']}"
      ]
    },
    {
      "cell_type": "code",
      "execution_count": 17,
      "metadata": {
        "id": "9WMBdDAaoOJ0"
      },
      "outputs": [],
      "source": [
        "entrevistas = pd.DataFrame(entrevistas_dict)"
      ]
    },
    {
      "cell_type": "code",
      "execution_count": 18,
      "metadata": {
        "colab": {
          "base_uri": "https://localhost:8080/",
          "height": 206
        },
        "id": "vvvsi3h2oYa7",
        "outputId": "9fb53ede-a21a-45a0-c88b-c4c20e6bd7c4"
      },
      "outputs": [
        {
          "data": {
            "text/html": [
              "<div>\n",
              "<style scoped>\n",
              "    .dataframe tbody tr th:only-of-type {\n",
              "        vertical-align: middle;\n",
              "    }\n",
              "\n",
              "    .dataframe tbody tr th {\n",
              "        vertical-align: top;\n",
              "    }\n",
              "\n",
              "    .dataframe thead th {\n",
              "        text-align: right;\n",
              "    }\n",
              "</style>\n",
              "<table border=\"1\" class=\"dataframe\">\n",
              "  <thead>\n",
              "    <tr style=\"text-align: right;\">\n",
              "      <th></th>\n",
              "      <th>nombre</th>\n",
              "      <th>fecha_nacimiento</th>\n",
              "      <th>titulo_maximo</th>\n",
              "      <th>idiomas</th>\n",
              "    </tr>\n",
              "  </thead>\n",
              "  <tbody>\n",
              "    <tr>\n",
              "      <th>0</th>\n",
              "      <td>Pedro</td>\n",
              "      <td>22-03-1994</td>\n",
              "      <td>Lic. Administracion</td>\n",
              "      <td>español</td>\n",
              "    </tr>\n",
              "    <tr>\n",
              "      <th>1</th>\n",
              "      <td>Celeste</td>\n",
              "      <td>Nací el 15-05-1997</td>\n",
              "      <td>Ingeniera en sistemas</td>\n",
              "      <td>español, ingles</td>\n",
              "    </tr>\n",
              "    <tr>\n",
              "      <th>2</th>\n",
              "      <td>Mariela</td>\n",
              "      <td>03-11-91</td>\n",
              "      <td>Licenciada en Economía</td>\n",
              "      <td>español</td>\n",
              "    </tr>\n",
              "    <tr>\n",
              "      <th>3</th>\n",
              "      <td>Jorge</td>\n",
              "      <td>fecha nacimiento: 10-10-1998</td>\n",
              "      <td>Ing. industrial</td>\n",
              "      <td>español, ingles y portugues</td>\n",
              "    </tr>\n",
              "    <tr>\n",
              "      <th>4</th>\n",
              "      <td>Matías</td>\n",
              "      <td>03-01-1999</td>\n",
              "      <td>Biología</td>\n",
              "      <td>4</td>\n",
              "    </tr>\n",
              "  </tbody>\n",
              "</table>\n",
              "</div>"
            ],
            "text/plain": [
              "    nombre              fecha_nacimiento           titulo_maximo  \\\n",
              "0    Pedro                    22-03-1994     Lic. Administracion   \n",
              "1  Celeste            Nací el 15-05-1997   Ingeniera en sistemas   \n",
              "2  Mariela                      03-11-91  Licenciada en Economía   \n",
              "3    Jorge  fecha nacimiento: 10-10-1998         Ing. industrial   \n",
              "4   Matías                    03-01-1999                Biología   \n",
              "\n",
              "                       idiomas  \n",
              "0                      español  \n",
              "1              español, ingles  \n",
              "2                      español  \n",
              "3  español, ingles y portugues  \n",
              "4                            4  "
            ]
          },
          "execution_count": 18,
          "metadata": {},
          "output_type": "execute_result"
        }
      ],
      "source": [
        "entrevistas"
      ]
    },
    {
      "cell_type": "markdown",
      "metadata": {
        "id": "meKYD919rHOJ"
      },
      "source": [
        "Supongamos que queremos crear una variable limpia con la fecha de nacimiento"
      ]
    },
    {
      "cell_type": "code",
      "execution_count": 19,
      "metadata": {
        "colab": {
          "base_uri": "https://localhost:8080/"
        },
        "id": "wTYVjbQyDxq2",
        "outputId": "de279e1d-ec3c-4f1a-f6b2-0db2920ffa04"
      },
      "outputs": [
        {
          "name": "stderr",
          "output_type": "stream",
          "text": [
            "<>:2: SyntaxWarning: invalid escape sequence '\\d'\n",
            "<>:2: SyntaxWarning: invalid escape sequence '\\d'\n",
            "C:\\Users\\carlos\\AppData\\Local\\Temp\\ipykernel_1112\\1126923243.py:2: SyntaxWarning: invalid escape sequence '\\d'\n",
            "  entrevistas['fecha_nacimiento'].str.findall(pat=\"\\d{2}-\\d{2}-\\d{2,4}\")\n"
          ]
        },
        {
          "data": {
            "text/plain": [
              "0    [22-03-1994]\n",
              "1    [15-05-1997]\n",
              "2      [03-11-91]\n",
              "3    [10-10-1998]\n",
              "4    [03-01-1999]\n",
              "Name: fecha_nacimiento, dtype: object"
            ]
          },
          "execution_count": 19,
          "metadata": {},
          "output_type": "execute_result"
        }
      ],
      "source": [
        "# Usamos el método findall \n",
        "entrevistas['fecha_nacimiento'].str.findall(pat=\"\\d{2}-\\d{2}-\\d{2,4}\")"
      ]
    },
    {
      "cell_type": "markdown",
      "metadata": {
        "id": "ggXGJaxxwJE9"
      },
      "source": [
        "Ahora queremos crear una variable que nos indique si la persona estudió ingeniería "
      ]
    },
    {
      "cell_type": "code",
      "execution_count": 20,
      "metadata": {
        "colab": {
          "base_uri": "https://localhost:8080/"
        },
        "id": "a5761c__vZV-",
        "outputId": "52e67d6b-c430-4fe9-a4d7-e9d6e6824ada"
      },
      "outputs": [
        {
          "data": {
            "text/plain": [
              "0    False\n",
              "1     True\n",
              "2    False\n",
              "3     True\n",
              "4    False\n",
              "Name: titulo_maximo, dtype: bool"
            ]
          },
          "execution_count": 20,
          "metadata": {},
          "output_type": "execute_result"
        }
      ],
      "source": [
        "#Usamos el método contains\n",
        "entrevistas['titulo_maximo'].str.contains(pat='Ing|ingenier')"
      ]
    },
    {
      "cell_type": "markdown",
      "metadata": {
        "id": "1eFD1lCbwaMH"
      },
      "source": [
        "Podemos simplificar aún más la expresión regular"
      ]
    },
    {
      "cell_type": "code",
      "execution_count": 21,
      "metadata": {
        "colab": {
          "base_uri": "https://localhost:8080/"
        },
        "id": "8unU6AkKuoFD",
        "outputId": "060a07f1-5ad5-4bf3-a2e7-6be7c3c1ef9b"
      },
      "outputs": [
        {
          "data": {
            "text/plain": [
              "0    False\n",
              "1     True\n",
              "2    False\n",
              "3     True\n",
              "4    False\n",
              "Name: titulo_maximo, dtype: bool"
            ]
          },
          "execution_count": 21,
          "metadata": {},
          "output_type": "execute_result"
        }
      ],
      "source": [
        "entrevistas['titulo_maximo'].str.contains(pat='I|ing')"
      ]
    },
    {
      "cell_type": "markdown",
      "metadata": {
        "id": "30v9lEY5wemH"
      },
      "source": [
        "Ahora queremos analizar la variable de idiomas. En primer lugar queremos controlar que las personas hayan puesto un listado de idiomas y no otro dato"
      ]
    },
    {
      "cell_type": "code",
      "execution_count": 22,
      "metadata": {
        "colab": {
          "base_uri": "https://localhost:8080/"
        },
        "id": "IU0EETTtwqPJ",
        "outputId": "a65c3862-22d9-49ff-cf96-728ce459a864"
      },
      "outputs": [
        {
          "name": "stderr",
          "output_type": "stream",
          "text": [
            "<>:1: SyntaxWarning: invalid escape sequence '\\d'\n",
            "<>:1: SyntaxWarning: invalid escape sequence '\\d'\n",
            "C:\\Users\\carlos\\AppData\\Local\\Temp\\ipykernel_1112\\2084411510.py:1: SyntaxWarning: invalid escape sequence '\\d'\n",
            "  entrevistas['idiomas'].str.contains(pat=\"\\d\")\n"
          ]
        },
        {
          "data": {
            "text/plain": [
              "0    False\n",
              "1    False\n",
              "2    False\n",
              "3    False\n",
              "4     True\n",
              "Name: idiomas, dtype: bool"
            ]
          },
          "execution_count": 22,
          "metadata": {},
          "output_type": "execute_result"
        }
      ],
      "source": [
        "entrevistas['idiomas'].str.contains(pat=\"\\d\")"
      ]
    },
    {
      "cell_type": "markdown",
      "metadata": {
        "id": "1X7EAiSOwuBD"
      },
      "source": [
        "Vemos que el último registro tiene un dato numérico, el cual no nos sirve para este análisis que queremos realizar. Procedemos a generar una variable con la lista de idiomas"
      ]
    },
    {
      "cell_type": "code",
      "execution_count": 23,
      "metadata": {
        "colab": {
          "base_uri": "https://localhost:8080/"
        },
        "id": "8OMwzY5dIcHG",
        "outputId": "c1a9bb67-9e66-4722-c470-e0a7c6be10f5"
      },
      "outputs": [
        {
          "data": {
            "text/plain": [
              "0                          [español]\n",
              "1                 [español,  ingles]\n",
              "2                          [español]\n",
              "3    [español,  ingles ,  portugues]\n",
              "4                                [4]\n",
              "Name: idiomas, dtype: object"
            ]
          },
          "execution_count": 23,
          "metadata": {},
          "output_type": "execute_result"
        }
      ],
      "source": [
        "entrevistas['idiomas'].str.split(pat=\"[,y]\")"
      ]
    },
    {
      "cell_type": "markdown",
      "metadata": {
        "id": "KA-D--juxAaf"
      },
      "source": [
        "Si quisieramos generar una columna por cada elemento podemos utilizar el argumento `expand=True`"
      ]
    },
    {
      "cell_type": "code",
      "execution_count": 24,
      "metadata": {
        "colab": {
          "base_uri": "https://localhost:8080/",
          "height": 206
        },
        "id": "g63PFLyjt91j",
        "outputId": "fc73bfdb-5055-478d-e9d3-1045506093b7"
      },
      "outputs": [
        {
          "data": {
            "text/html": [
              "<div>\n",
              "<style scoped>\n",
              "    .dataframe tbody tr th:only-of-type {\n",
              "        vertical-align: middle;\n",
              "    }\n",
              "\n",
              "    .dataframe tbody tr th {\n",
              "        vertical-align: top;\n",
              "    }\n",
              "\n",
              "    .dataframe thead th {\n",
              "        text-align: right;\n",
              "    }\n",
              "</style>\n",
              "<table border=\"1\" class=\"dataframe\">\n",
              "  <thead>\n",
              "    <tr style=\"text-align: right;\">\n",
              "      <th></th>\n",
              "      <th>0</th>\n",
              "      <th>1</th>\n",
              "      <th>2</th>\n",
              "    </tr>\n",
              "  </thead>\n",
              "  <tbody>\n",
              "    <tr>\n",
              "      <th>0</th>\n",
              "      <td>español</td>\n",
              "      <td>None</td>\n",
              "      <td>None</td>\n",
              "    </tr>\n",
              "    <tr>\n",
              "      <th>1</th>\n",
              "      <td>español</td>\n",
              "      <td>ingles</td>\n",
              "      <td>None</td>\n",
              "    </tr>\n",
              "    <tr>\n",
              "      <th>2</th>\n",
              "      <td>español</td>\n",
              "      <td>None</td>\n",
              "      <td>None</td>\n",
              "    </tr>\n",
              "    <tr>\n",
              "      <th>3</th>\n",
              "      <td>español</td>\n",
              "      <td>ingles</td>\n",
              "      <td>portugues</td>\n",
              "    </tr>\n",
              "    <tr>\n",
              "      <th>4</th>\n",
              "      <td>4</td>\n",
              "      <td>None</td>\n",
              "      <td>None</td>\n",
              "    </tr>\n",
              "  </tbody>\n",
              "</table>\n",
              "</div>"
            ],
            "text/plain": [
              "         0         1           2\n",
              "0  español      None        None\n",
              "1  español    ingles        None\n",
              "2  español      None        None\n",
              "3  español   ingles    portugues\n",
              "4        4      None        None"
            ]
          },
          "execution_count": 24,
          "metadata": {},
          "output_type": "execute_result"
        }
      ],
      "source": [
        "entrevistas['idiomas'].str.split(pat=\"[,y]\", expand=True)"
      ]
    },
    {
      "cell_type": "markdown",
      "metadata": {
        "id": "TkfoCof6ZL0X"
      },
      "source": [
        "# 3 - Entrada y salida de datos\n",
        "\n",
        "Vimos que existe una gran cantidad de formatos de archivos y pandas brinda métodos para leer y escribir en cada uno de ellos.\n",
        "\n",
        "Uno de los formatos más utilizados es el csv. Observemos algunos de los parámetros más usuales al leer un archivo"
      ]
    },
    {
      "cell_type": "code",
      "execution_count": 25,
      "metadata": {
        "colab": {
          "base_uri": "https://localhost:8080/",
          "height": 281
        },
        "id": "F855yOZ82NMB",
        "outputId": "19f2415f-7249-4092-b50a-9bcf3a6d385b"
      },
      "outputs": [
        {
          "ename": "FileNotFoundError",
          "evalue": "[Errno 2] No such file or directory: '/content/sample_data/california_housing_train.csv'",
          "output_type": "error",
          "traceback": [
            "\u001b[1;31m---------------------------------------------------------------------------\u001b[0m",
            "\u001b[1;31mFileNotFoundError\u001b[0m                         Traceback (most recent call last)",
            "Cell \u001b[1;32mIn[25], line 2\u001b[0m\n\u001b[0;32m      1\u001b[0m \u001b[38;5;66;03m# Leemos el archivo de ejemplo que viene en google colab\u001b[39;00m\n\u001b[1;32m----> 2\u001b[0m housing_df \u001b[38;5;241m=\u001b[39m \u001b[43mpd\u001b[49m\u001b[38;5;241;43m.\u001b[39;49m\u001b[43mread_csv\u001b[49m\u001b[43m(\u001b[49m\u001b[38;5;124;43m\"\u001b[39;49m\u001b[38;5;124;43m/content/sample_data/california_housing_train.csv\u001b[39;49m\u001b[38;5;124;43m\"\u001b[39;49m\u001b[43m)\u001b[49m\n\u001b[0;32m      3\u001b[0m housing_df\u001b[38;5;241m.\u001b[39msample(\u001b[38;5;241m6\u001b[39m)\n",
            "File \u001b[1;32mf:\\Personal\\django\\CPE\\CPEDS\\envWindows\\Lib\\site-packages\\pandas\\io\\parsers\\readers.py:1026\u001b[0m, in \u001b[0;36mread_csv\u001b[1;34m(filepath_or_buffer, sep, delimiter, header, names, index_col, usecols, dtype, engine, converters, true_values, false_values, skipinitialspace, skiprows, skipfooter, nrows, na_values, keep_default_na, na_filter, verbose, skip_blank_lines, parse_dates, infer_datetime_format, keep_date_col, date_parser, date_format, dayfirst, cache_dates, iterator, chunksize, compression, thousands, decimal, lineterminator, quotechar, quoting, doublequote, escapechar, comment, encoding, encoding_errors, dialect, on_bad_lines, delim_whitespace, low_memory, memory_map, float_precision, storage_options, dtype_backend)\u001b[0m\n\u001b[0;32m   1013\u001b[0m kwds_defaults \u001b[38;5;241m=\u001b[39m _refine_defaults_read(\n\u001b[0;32m   1014\u001b[0m     dialect,\n\u001b[0;32m   1015\u001b[0m     delimiter,\n\u001b[1;32m   (...)\u001b[0m\n\u001b[0;32m   1022\u001b[0m     dtype_backend\u001b[38;5;241m=\u001b[39mdtype_backend,\n\u001b[0;32m   1023\u001b[0m )\n\u001b[0;32m   1024\u001b[0m kwds\u001b[38;5;241m.\u001b[39mupdate(kwds_defaults)\n\u001b[1;32m-> 1026\u001b[0m \u001b[38;5;28;01mreturn\u001b[39;00m \u001b[43m_read\u001b[49m\u001b[43m(\u001b[49m\u001b[43mfilepath_or_buffer\u001b[49m\u001b[43m,\u001b[49m\u001b[43m \u001b[49m\u001b[43mkwds\u001b[49m\u001b[43m)\u001b[49m\n",
            "File \u001b[1;32mf:\\Personal\\django\\CPE\\CPEDS\\envWindows\\Lib\\site-packages\\pandas\\io\\parsers\\readers.py:620\u001b[0m, in \u001b[0;36m_read\u001b[1;34m(filepath_or_buffer, kwds)\u001b[0m\n\u001b[0;32m    617\u001b[0m _validate_names(kwds\u001b[38;5;241m.\u001b[39mget(\u001b[38;5;124m\"\u001b[39m\u001b[38;5;124mnames\u001b[39m\u001b[38;5;124m\"\u001b[39m, \u001b[38;5;28;01mNone\u001b[39;00m))\n\u001b[0;32m    619\u001b[0m \u001b[38;5;66;03m# Create the parser.\u001b[39;00m\n\u001b[1;32m--> 620\u001b[0m parser \u001b[38;5;241m=\u001b[39m \u001b[43mTextFileReader\u001b[49m\u001b[43m(\u001b[49m\u001b[43mfilepath_or_buffer\u001b[49m\u001b[43m,\u001b[49m\u001b[43m \u001b[49m\u001b[38;5;241;43m*\u001b[39;49m\u001b[38;5;241;43m*\u001b[39;49m\u001b[43mkwds\u001b[49m\u001b[43m)\u001b[49m\n\u001b[0;32m    622\u001b[0m \u001b[38;5;28;01mif\u001b[39;00m chunksize \u001b[38;5;129;01mor\u001b[39;00m iterator:\n\u001b[0;32m    623\u001b[0m     \u001b[38;5;28;01mreturn\u001b[39;00m parser\n",
            "File \u001b[1;32mf:\\Personal\\django\\CPE\\CPEDS\\envWindows\\Lib\\site-packages\\pandas\\io\\parsers\\readers.py:1620\u001b[0m, in \u001b[0;36mTextFileReader.__init__\u001b[1;34m(self, f, engine, **kwds)\u001b[0m\n\u001b[0;32m   1617\u001b[0m     \u001b[38;5;28mself\u001b[39m\u001b[38;5;241m.\u001b[39moptions[\u001b[38;5;124m\"\u001b[39m\u001b[38;5;124mhas_index_names\u001b[39m\u001b[38;5;124m\"\u001b[39m] \u001b[38;5;241m=\u001b[39m kwds[\u001b[38;5;124m\"\u001b[39m\u001b[38;5;124mhas_index_names\u001b[39m\u001b[38;5;124m\"\u001b[39m]\n\u001b[0;32m   1619\u001b[0m \u001b[38;5;28mself\u001b[39m\u001b[38;5;241m.\u001b[39mhandles: IOHandles \u001b[38;5;241m|\u001b[39m \u001b[38;5;28;01mNone\u001b[39;00m \u001b[38;5;241m=\u001b[39m \u001b[38;5;28;01mNone\u001b[39;00m\n\u001b[1;32m-> 1620\u001b[0m \u001b[38;5;28mself\u001b[39m\u001b[38;5;241m.\u001b[39m_engine \u001b[38;5;241m=\u001b[39m \u001b[38;5;28;43mself\u001b[39;49m\u001b[38;5;241;43m.\u001b[39;49m\u001b[43m_make_engine\u001b[49m\u001b[43m(\u001b[49m\u001b[43mf\u001b[49m\u001b[43m,\u001b[49m\u001b[43m \u001b[49m\u001b[38;5;28;43mself\u001b[39;49m\u001b[38;5;241;43m.\u001b[39;49m\u001b[43mengine\u001b[49m\u001b[43m)\u001b[49m\n",
            "File \u001b[1;32mf:\\Personal\\django\\CPE\\CPEDS\\envWindows\\Lib\\site-packages\\pandas\\io\\parsers\\readers.py:1880\u001b[0m, in \u001b[0;36mTextFileReader._make_engine\u001b[1;34m(self, f, engine)\u001b[0m\n\u001b[0;32m   1878\u001b[0m     \u001b[38;5;28;01mif\u001b[39;00m \u001b[38;5;124m\"\u001b[39m\u001b[38;5;124mb\u001b[39m\u001b[38;5;124m\"\u001b[39m \u001b[38;5;129;01mnot\u001b[39;00m \u001b[38;5;129;01min\u001b[39;00m mode:\n\u001b[0;32m   1879\u001b[0m         mode \u001b[38;5;241m+\u001b[39m\u001b[38;5;241m=\u001b[39m \u001b[38;5;124m\"\u001b[39m\u001b[38;5;124mb\u001b[39m\u001b[38;5;124m\"\u001b[39m\n\u001b[1;32m-> 1880\u001b[0m \u001b[38;5;28mself\u001b[39m\u001b[38;5;241m.\u001b[39mhandles \u001b[38;5;241m=\u001b[39m \u001b[43mget_handle\u001b[49m\u001b[43m(\u001b[49m\n\u001b[0;32m   1881\u001b[0m \u001b[43m    \u001b[49m\u001b[43mf\u001b[49m\u001b[43m,\u001b[49m\n\u001b[0;32m   1882\u001b[0m \u001b[43m    \u001b[49m\u001b[43mmode\u001b[49m\u001b[43m,\u001b[49m\n\u001b[0;32m   1883\u001b[0m \u001b[43m    \u001b[49m\u001b[43mencoding\u001b[49m\u001b[38;5;241;43m=\u001b[39;49m\u001b[38;5;28;43mself\u001b[39;49m\u001b[38;5;241;43m.\u001b[39;49m\u001b[43moptions\u001b[49m\u001b[38;5;241;43m.\u001b[39;49m\u001b[43mget\u001b[49m\u001b[43m(\u001b[49m\u001b[38;5;124;43m\"\u001b[39;49m\u001b[38;5;124;43mencoding\u001b[39;49m\u001b[38;5;124;43m\"\u001b[39;49m\u001b[43m,\u001b[49m\u001b[43m \u001b[49m\u001b[38;5;28;43;01mNone\u001b[39;49;00m\u001b[43m)\u001b[49m\u001b[43m,\u001b[49m\n\u001b[0;32m   1884\u001b[0m \u001b[43m    \u001b[49m\u001b[43mcompression\u001b[49m\u001b[38;5;241;43m=\u001b[39;49m\u001b[38;5;28;43mself\u001b[39;49m\u001b[38;5;241;43m.\u001b[39;49m\u001b[43moptions\u001b[49m\u001b[38;5;241;43m.\u001b[39;49m\u001b[43mget\u001b[49m\u001b[43m(\u001b[49m\u001b[38;5;124;43m\"\u001b[39;49m\u001b[38;5;124;43mcompression\u001b[39;49m\u001b[38;5;124;43m\"\u001b[39;49m\u001b[43m,\u001b[49m\u001b[43m \u001b[49m\u001b[38;5;28;43;01mNone\u001b[39;49;00m\u001b[43m)\u001b[49m\u001b[43m,\u001b[49m\n\u001b[0;32m   1885\u001b[0m \u001b[43m    \u001b[49m\u001b[43mmemory_map\u001b[49m\u001b[38;5;241;43m=\u001b[39;49m\u001b[38;5;28;43mself\u001b[39;49m\u001b[38;5;241;43m.\u001b[39;49m\u001b[43moptions\u001b[49m\u001b[38;5;241;43m.\u001b[39;49m\u001b[43mget\u001b[49m\u001b[43m(\u001b[49m\u001b[38;5;124;43m\"\u001b[39;49m\u001b[38;5;124;43mmemory_map\u001b[39;49m\u001b[38;5;124;43m\"\u001b[39;49m\u001b[43m,\u001b[49m\u001b[43m \u001b[49m\u001b[38;5;28;43;01mFalse\u001b[39;49;00m\u001b[43m)\u001b[49m\u001b[43m,\u001b[49m\n\u001b[0;32m   1886\u001b[0m \u001b[43m    \u001b[49m\u001b[43mis_text\u001b[49m\u001b[38;5;241;43m=\u001b[39;49m\u001b[43mis_text\u001b[49m\u001b[43m,\u001b[49m\n\u001b[0;32m   1887\u001b[0m \u001b[43m    \u001b[49m\u001b[43merrors\u001b[49m\u001b[38;5;241;43m=\u001b[39;49m\u001b[38;5;28;43mself\u001b[39;49m\u001b[38;5;241;43m.\u001b[39;49m\u001b[43moptions\u001b[49m\u001b[38;5;241;43m.\u001b[39;49m\u001b[43mget\u001b[49m\u001b[43m(\u001b[49m\u001b[38;5;124;43m\"\u001b[39;49m\u001b[38;5;124;43mencoding_errors\u001b[39;49m\u001b[38;5;124;43m\"\u001b[39;49m\u001b[43m,\u001b[49m\u001b[43m \u001b[49m\u001b[38;5;124;43m\"\u001b[39;49m\u001b[38;5;124;43mstrict\u001b[39;49m\u001b[38;5;124;43m\"\u001b[39;49m\u001b[43m)\u001b[49m\u001b[43m,\u001b[49m\n\u001b[0;32m   1888\u001b[0m \u001b[43m    \u001b[49m\u001b[43mstorage_options\u001b[49m\u001b[38;5;241;43m=\u001b[39;49m\u001b[38;5;28;43mself\u001b[39;49m\u001b[38;5;241;43m.\u001b[39;49m\u001b[43moptions\u001b[49m\u001b[38;5;241;43m.\u001b[39;49m\u001b[43mget\u001b[49m\u001b[43m(\u001b[49m\u001b[38;5;124;43m\"\u001b[39;49m\u001b[38;5;124;43mstorage_options\u001b[39;49m\u001b[38;5;124;43m\"\u001b[39;49m\u001b[43m,\u001b[49m\u001b[43m \u001b[49m\u001b[38;5;28;43;01mNone\u001b[39;49;00m\u001b[43m)\u001b[49m\u001b[43m,\u001b[49m\n\u001b[0;32m   1889\u001b[0m \u001b[43m\u001b[49m\u001b[43m)\u001b[49m\n\u001b[0;32m   1890\u001b[0m \u001b[38;5;28;01massert\u001b[39;00m \u001b[38;5;28mself\u001b[39m\u001b[38;5;241m.\u001b[39mhandles \u001b[38;5;129;01mis\u001b[39;00m \u001b[38;5;129;01mnot\u001b[39;00m \u001b[38;5;28;01mNone\u001b[39;00m\n\u001b[0;32m   1891\u001b[0m f \u001b[38;5;241m=\u001b[39m \u001b[38;5;28mself\u001b[39m\u001b[38;5;241m.\u001b[39mhandles\u001b[38;5;241m.\u001b[39mhandle\n",
            "File \u001b[1;32mf:\\Personal\\django\\CPE\\CPEDS\\envWindows\\Lib\\site-packages\\pandas\\io\\common.py:873\u001b[0m, in \u001b[0;36mget_handle\u001b[1;34m(path_or_buf, mode, encoding, compression, memory_map, is_text, errors, storage_options)\u001b[0m\n\u001b[0;32m    868\u001b[0m \u001b[38;5;28;01melif\u001b[39;00m \u001b[38;5;28misinstance\u001b[39m(handle, \u001b[38;5;28mstr\u001b[39m):\n\u001b[0;32m    869\u001b[0m     \u001b[38;5;66;03m# Check whether the filename is to be opened in binary mode.\u001b[39;00m\n\u001b[0;32m    870\u001b[0m     \u001b[38;5;66;03m# Binary mode does not support 'encoding' and 'newline'.\u001b[39;00m\n\u001b[0;32m    871\u001b[0m     \u001b[38;5;28;01mif\u001b[39;00m ioargs\u001b[38;5;241m.\u001b[39mencoding \u001b[38;5;129;01mand\u001b[39;00m \u001b[38;5;124m\"\u001b[39m\u001b[38;5;124mb\u001b[39m\u001b[38;5;124m\"\u001b[39m \u001b[38;5;129;01mnot\u001b[39;00m \u001b[38;5;129;01min\u001b[39;00m ioargs\u001b[38;5;241m.\u001b[39mmode:\n\u001b[0;32m    872\u001b[0m         \u001b[38;5;66;03m# Encoding\u001b[39;00m\n\u001b[1;32m--> 873\u001b[0m         handle \u001b[38;5;241m=\u001b[39m \u001b[38;5;28;43mopen\u001b[39;49m\u001b[43m(\u001b[49m\n\u001b[0;32m    874\u001b[0m \u001b[43m            \u001b[49m\u001b[43mhandle\u001b[49m\u001b[43m,\u001b[49m\n\u001b[0;32m    875\u001b[0m \u001b[43m            \u001b[49m\u001b[43mioargs\u001b[49m\u001b[38;5;241;43m.\u001b[39;49m\u001b[43mmode\u001b[49m\u001b[43m,\u001b[49m\n\u001b[0;32m    876\u001b[0m \u001b[43m            \u001b[49m\u001b[43mencoding\u001b[49m\u001b[38;5;241;43m=\u001b[39;49m\u001b[43mioargs\u001b[49m\u001b[38;5;241;43m.\u001b[39;49m\u001b[43mencoding\u001b[49m\u001b[43m,\u001b[49m\n\u001b[0;32m    877\u001b[0m \u001b[43m            \u001b[49m\u001b[43merrors\u001b[49m\u001b[38;5;241;43m=\u001b[39;49m\u001b[43merrors\u001b[49m\u001b[43m,\u001b[49m\n\u001b[0;32m    878\u001b[0m \u001b[43m            \u001b[49m\u001b[43mnewline\u001b[49m\u001b[38;5;241;43m=\u001b[39;49m\u001b[38;5;124;43m\"\u001b[39;49m\u001b[38;5;124;43m\"\u001b[39;49m\u001b[43m,\u001b[49m\n\u001b[0;32m    879\u001b[0m \u001b[43m        \u001b[49m\u001b[43m)\u001b[49m\n\u001b[0;32m    880\u001b[0m     \u001b[38;5;28;01melse\u001b[39;00m:\n\u001b[0;32m    881\u001b[0m         \u001b[38;5;66;03m# Binary mode\u001b[39;00m\n\u001b[0;32m    882\u001b[0m         handle \u001b[38;5;241m=\u001b[39m \u001b[38;5;28mopen\u001b[39m(handle, ioargs\u001b[38;5;241m.\u001b[39mmode)\n",
            "\u001b[1;31mFileNotFoundError\u001b[0m: [Errno 2] No such file or directory: '/content/sample_data/california_housing_train.csv'"
          ]
        }
      ],
      "source": [
        "# Leemos el archivo de ejemplo que viene en google colab\n",
        "housing_df = pd.read_csv(\"/content/sample_data/california_housing_train.csv\")\n",
        "housing_df.sample(6)"
      ]
    },
    {
      "cell_type": "code",
      "execution_count": null,
      "metadata": {
        "colab": {
          "base_uri": "https://localhost:8080/"
        },
        "id": "Y2tXte-U3Upu",
        "outputId": "8a599648-78b7-4f6b-e170-8ff58660f0b4"
      },
      "outputs": [],
      "source": [
        "housing_df.info()"
      ]
    },
    {
      "cell_type": "code",
      "execution_count": null,
      "metadata": {
        "colab": {
          "base_uri": "https://localhost:8080/",
          "height": 269
        },
        "id": "8g-vyjhs3cJI",
        "outputId": "491649ec-c974-41a4-dab7-5cc001990431"
      },
      "outputs": [],
      "source": [
        "# Especificamos una columna de indice\n",
        "housing_df = pd.read_csv(\"/content/sample_data/california_housing_train.csv\", index_col='longitude')\n",
        "housing_df.head(6)"
      ]
    },
    {
      "cell_type": "code",
      "execution_count": null,
      "metadata": {
        "colab": {
          "base_uri": "https://localhost:8080/",
          "height": 237
        },
        "id": "4swFFrB93y42",
        "outputId": "ec3c5ec8-52aa-4872-9190-23837c52afc8"
      },
      "outputs": [],
      "source": [
        "# Especificamos una fila como nombre de columnas\n",
        "housing_df = pd.read_csv(\"/content/sample_data/california_housing_train.csv\", header=1)\n",
        "housing_df.sample(6)"
      ]
    },
    {
      "cell_type": "code",
      "execution_count": null,
      "metadata": {
        "colab": {
          "base_uri": "https://localhost:8080/"
        },
        "id": "atAeyey94WH2",
        "outputId": "55151d7b-f240-4097-e724-dba3249f8a77"
      },
      "outputs": [],
      "source": [
        "# Indicamos que lea las primeras 1000 filas\n",
        "housing_df = pd.read_csv(\"/content/sample_data/california_housing_train.csv\", nrows=1000)\n",
        "housing_df.info()"
      ]
    },
    {
      "cell_type": "markdown",
      "metadata": {
        "id": "GuZEzUSs4i3o"
      },
      "source": [
        "Hemos viste que podemos leer archivos pasando una URL en la función correspondiente. \n",
        "Una función muy útil para leer tablas desde ciertos sitios web es `pandas.read_html(io, match)`:\n",
        "\n",
        "*   **io**: dirección o nombre del archivo\n",
        "*   **match**: string o regex para encontrar tablas particulares\n",
        "\n",
        "La función devuelve una lista de DataFrames con todas las tablas en el html.\n",
        "\n"
      ]
    },
    {
      "cell_type": "code",
      "execution_count": null,
      "metadata": {
        "id": "yOi9pjhV5JAS"
      },
      "outputs": [],
      "source": [
        "? pd.read_html()"
      ]
    },
    {
      "cell_type": "markdown",
      "metadata": {
        "id": "gtJtNrzk6VO6"
      },
      "source": [
        "Veamos un caso de análisis para la página de Wikipedia de la [Copa Mundial de Fútbol](https://es.wikipedia.org/wiki/Copa_Mundial_de_F%C3%BAtbol) "
      ]
    },
    {
      "cell_type": "code",
      "execution_count": null,
      "metadata": {
        "colab": {
          "base_uri": "https://localhost:8080/"
        },
        "id": "xH_JjVaViB6U",
        "outputId": "46d76d49-6328-43fa-f497-4441d266f09a"
      },
      "outputs": [],
      "source": [
        "#Busquemos ahora tablas dentro de una pagina web de wikipedia\n",
        "mundial = pd.read_html('https://es.wikipedia.org/wiki/Copa_Mundial_de_F%C3%BAtbol')\n",
        "print(f'Total de tablas en la pagina: {len(mundial)}')"
      ]
    },
    {
      "cell_type": "code",
      "execution_count": null,
      "metadata": {
        "colab": {
          "base_uri": "https://localhost:8080/",
          "height": 457
        },
        "id": "OCr9gXLT7Wsg",
        "outputId": "f747edda-3eac-4c08-bde9-d26891c6d1d0"
      },
      "outputs": [],
      "source": [
        "# Veamos la quinta tabla: tabla de goleadores del mundial\n",
        "mundial[4]"
      ]
    },
    {
      "cell_type": "markdown",
      "metadata": {
        "id": "2HPxUz3D7voB"
      },
      "source": [
        "Podemos utilizar el argumento match para obtener un subconjunto de las tablas"
      ]
    },
    {
      "cell_type": "code",
      "execution_count": null,
      "metadata": {
        "colab": {
          "base_uri": "https://localhost:8080/"
        },
        "id": "fbVk3GgInLfl",
        "outputId": "2f8e09bc-861b-4419-a126-9f135360803f"
      },
      "outputs": [],
      "source": [
        "#Traigamos la tabla del balon de oro\n",
        "tabla_balon_oro = pd.read_html('https://es.wikipedia.org/wiki/Copa_Mundial_de_F%C3%BAtbol',match='Oro')\n",
        "print(f'Total de tablas en la pagina: {len(tabla_balon_oro)}')"
      ]
    },
    {
      "cell_type": "code",
      "execution_count": null,
      "metadata": {
        "colab": {
          "base_uri": "https://localhost:8080/",
          "height": 363
        },
        "id": "WPzJCmITmgLW",
        "outputId": "e1f24555-91ee-4bc4-a519-df3e7f1dda5c"
      },
      "outputs": [],
      "source": [
        "df = tabla_balon_oro[0]\n",
        "df"
      ]
    },
    {
      "cell_type": "markdown",
      "metadata": {
        "id": "3A8Sjz2BX3KE"
      },
      "source": [
        "## 4 - Conexion con una **API**\n",
        "\n",
        "Veamos un muy breve ejemplo de interacción con una API\n",
        "\n"
      ]
    },
    {
      "cell_type": "code",
      "execution_count": null,
      "metadata": {
        "id": "FuJdblBVX8Qf"
      },
      "outputs": [],
      "source": [
        "# Cargamos el módulo requests\n",
        "import requests"
      ]
    },
    {
      "cell_type": "code",
      "execution_count": null,
      "metadata": {
        "id": "18jPqW6EYQhB"
      },
      "outputs": [],
      "source": [
        "# Vamos a consultar la api de Github de pandas\n",
        "url = \"https://api.github.com/repos/pandas-dev/pandas/issues\"\n",
        "# Realizamos una operacion GET a la url\n",
        "r = requests.get(url)"
      ]
    },
    {
      "cell_type": "code",
      "execution_count": null,
      "metadata": {
        "colab": {
          "base_uri": "https://localhost:8080/"
        },
        "id": "r5mkTDhlbnc0",
        "outputId": "7d0769e4-e219-4630-cadd-bd2ae9283e33"
      },
      "outputs": [],
      "source": [
        "r.json()[0:2]"
      ]
    },
    {
      "cell_type": "code",
      "execution_count": null,
      "metadata": {
        "colab": {
          "base_uri": "https://localhost:8080/",
          "height": 1000
        },
        "id": "bxvsfeKfZd7w",
        "outputId": "2c4392d1-c7cf-4b2a-9a28-2d7ea7c690bf"
      },
      "outputs": [],
      "source": [
        "# Podemos construir un dataframe con esta respuesta\n",
        "pd.DataFrame(r.json())"
      ]
    }
  ],
  "metadata": {
    "colab": {
      "collapsed_sections": [],
      "name": "practica_guiada_clase_10.ipynb",
      "provenance": []
    },
    "kernelspec": {
      "display_name": "Python 3",
      "name": "python3"
    },
    "language_info": {
      "codemirror_mode": {
        "name": "ipython",
        "version": 3
      },
      "file_extension": ".py",
      "mimetype": "text/x-python",
      "name": "python",
      "nbconvert_exporter": "python",
      "pygments_lexer": "ipython3",
      "version": "3.12.3"
    }
  },
  "nbformat": 4,
  "nbformat_minor": 0
}
