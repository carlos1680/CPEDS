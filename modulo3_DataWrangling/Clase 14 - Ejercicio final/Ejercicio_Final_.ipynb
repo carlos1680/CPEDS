{
  "nbformat": 4,
  "nbformat_minor": 0,
  "metadata": {
    "colab": {
      "name": "Ejercicio Final .ipynb",
      "provenance": [],
      "collapsed_sections": []
    },
    "kernelspec": {
      "name": "python3",
      "display_name": "Python 3"
    },
    "language_info": {
      "name": "python"
    }
  },
  "cells": [
    {
      "cell_type": "code",
      "metadata": {
        "id": "2YzYDy3Rwg5C"
      },
      "source": [
        "import pandas as pd\n",
        "import numpy as np\n",
        "import matplotlib.pyplot as plt\n",
        "import seaborn as sns"
      ],
      "execution_count": null,
      "outputs": []
    },
    {
      "cell_type": "code",
      "source": [
        "pd.options.display.float_format = '{:.2f}'.format\n",
        "pd.options.display.max_columns = 100"
      ],
      "metadata": {
        "id": "SyMYzVBeWa8k"
      },
      "execution_count": null,
      "outputs": []
    },
    {
      "cell_type": "code",
      "source": [
        "from google.colab import drive\n",
        "drive.mount('/content/drive')"
      ],
      "metadata": {
        "colab": {
          "base_uri": "https://localhost:8080/"
        },
        "id": "gmmv5bVJSudg",
        "outputId": "51d8a2d5-6cc5-4c22-e31a-989864fbda65"
      },
      "execution_count": null,
      "outputs": [
        {
          "output_type": "stream",
          "name": "stdout",
          "text": [
            "Mounted at /content/drive\n"
          ]
        }
      ]
    },
    {
      "cell_type": "markdown",
      "source": [
        "# 1.- Preparacion\n",
        "\n",
        "Vamos a usar dos datasets de Kaggle con datos sobre los jugadores de furbol de la la Premier League (liga de futbol de Inglaterra):\n",
        "- https://www.kaggle.com/datasets/rishikeshkanabar/premier-league-player-statistics-updated-daily?resource=download\n",
        "- https://www.kaggle.com/datasets/themlphdstudent/premier-league-player-stats-data"
      ],
      "metadata": {
        "id": "YlrFbi5oTpLN"
      }
    },
    {
      "cell_type": "code",
      "source": [
        "df_stats_2020 = pd.read_csv('/content/drive/MyDrive/Curso CPE Data Wrangling/Clases/Clases 14 y 15 - Repaso/premier_league_stats_2020.csv')\n",
        "df_stats = pd.read_csv('/content/drive/MyDrive/Curso CPE Data Wrangling/Clases/Clases 14 y 15 - Repaso/premier_league_stats.csv')\n",
        "\n",
        "#df_stats_2020 = pd.read_csv('sample_data/premier_league_stats_2020.csv')\n",
        "#df_stats = pd.read_csv('sample_data/premier_league_stats.csv')\n"
      ],
      "metadata": {
        "id": "zmBUvybkTH31"
      },
      "execution_count": null,
      "outputs": []
    },
    {
      "cell_type": "code",
      "source": [
        "df_stats.head()"
      ],
      "metadata": {
        "colab": {
          "base_uri": "https://localhost:8080/",
          "height": 206
        },
        "id": "4U7MNh2RRmpp",
        "outputId": "157b84a9-25f6-4f47-f56d-1f342f0f3c8a"
      },
      "execution_count": null,
      "outputs": [
        {
          "output_type": "execute_result",
          "data": {
            "text/plain": [
              "   Rank                     PLAYER             TEAM  GP  GS   MIN   G  ASST  \\\n",
              "0     1                Jamie Vardy   Leicester City  35  34  3034  23     5   \n",
              "1     2                 Danny Ings      Southampton  38  32  2812  22     2   \n",
              "2     3  Pierre-Emerick Aubameyang          Arsenal  36  35  3138  22     3   \n",
              "3     4  Raheem Shaquille Sterling  Manchester City  33  30  2660  20     1   \n",
              "4     5        Mohamed Salah Ghaly        Liverpool  34  33  2884  19    10   \n",
              "\n",
              "   SHOTS  SOG  \n",
              "0     71   43  \n",
              "1     66   38  \n",
              "2     70   42  \n",
              "3     68   38  \n",
              "4     95   59  "
            ],
            "text/html": [
              "\n",
              "  <div id=\"df-ba0a37c6-5d44-49e7-8609-19328c5965fd\">\n",
              "    <div class=\"colab-df-container\">\n",
              "      <div>\n",
              "<style scoped>\n",
              "    .dataframe tbody tr th:only-of-type {\n",
              "        vertical-align: middle;\n",
              "    }\n",
              "\n",
              "    .dataframe tbody tr th {\n",
              "        vertical-align: top;\n",
              "    }\n",
              "\n",
              "    .dataframe thead th {\n",
              "        text-align: right;\n",
              "    }\n",
              "</style>\n",
              "<table border=\"1\" class=\"dataframe\">\n",
              "  <thead>\n",
              "    <tr style=\"text-align: right;\">\n",
              "      <th></th>\n",
              "      <th>Rank</th>\n",
              "      <th>PLAYER</th>\n",
              "      <th>TEAM</th>\n",
              "      <th>GP</th>\n",
              "      <th>GS</th>\n",
              "      <th>MIN</th>\n",
              "      <th>G</th>\n",
              "      <th>ASST</th>\n",
              "      <th>SHOTS</th>\n",
              "      <th>SOG</th>\n",
              "    </tr>\n",
              "  </thead>\n",
              "  <tbody>\n",
              "    <tr>\n",
              "      <th>0</th>\n",
              "      <td>1</td>\n",
              "      <td>Jamie Vardy</td>\n",
              "      <td>Leicester City</td>\n",
              "      <td>35</td>\n",
              "      <td>34</td>\n",
              "      <td>3034</td>\n",
              "      <td>23</td>\n",
              "      <td>5</td>\n",
              "      <td>71</td>\n",
              "      <td>43</td>\n",
              "    </tr>\n",
              "    <tr>\n",
              "      <th>1</th>\n",
              "      <td>2</td>\n",
              "      <td>Danny Ings</td>\n",
              "      <td>Southampton</td>\n",
              "      <td>38</td>\n",
              "      <td>32</td>\n",
              "      <td>2812</td>\n",
              "      <td>22</td>\n",
              "      <td>2</td>\n",
              "      <td>66</td>\n",
              "      <td>38</td>\n",
              "    </tr>\n",
              "    <tr>\n",
              "      <th>2</th>\n",
              "      <td>3</td>\n",
              "      <td>Pierre-Emerick Aubameyang</td>\n",
              "      <td>Arsenal</td>\n",
              "      <td>36</td>\n",
              "      <td>35</td>\n",
              "      <td>3138</td>\n",
              "      <td>22</td>\n",
              "      <td>3</td>\n",
              "      <td>70</td>\n",
              "      <td>42</td>\n",
              "    </tr>\n",
              "    <tr>\n",
              "      <th>3</th>\n",
              "      <td>4</td>\n",
              "      <td>Raheem Shaquille Sterling</td>\n",
              "      <td>Manchester City</td>\n",
              "      <td>33</td>\n",
              "      <td>30</td>\n",
              "      <td>2660</td>\n",
              "      <td>20</td>\n",
              "      <td>1</td>\n",
              "      <td>68</td>\n",
              "      <td>38</td>\n",
              "    </tr>\n",
              "    <tr>\n",
              "      <th>4</th>\n",
              "      <td>5</td>\n",
              "      <td>Mohamed Salah Ghaly</td>\n",
              "      <td>Liverpool</td>\n",
              "      <td>34</td>\n",
              "      <td>33</td>\n",
              "      <td>2884</td>\n",
              "      <td>19</td>\n",
              "      <td>10</td>\n",
              "      <td>95</td>\n",
              "      <td>59</td>\n",
              "    </tr>\n",
              "  </tbody>\n",
              "</table>\n",
              "</div>\n",
              "      <button class=\"colab-df-convert\" onclick=\"convertToInteractive('df-ba0a37c6-5d44-49e7-8609-19328c5965fd')\"\n",
              "              title=\"Convert this dataframe to an interactive table.\"\n",
              "              style=\"display:none;\">\n",
              "        \n",
              "  <svg xmlns=\"http://www.w3.org/2000/svg\" height=\"24px\"viewBox=\"0 0 24 24\"\n",
              "       width=\"24px\">\n",
              "    <path d=\"M0 0h24v24H0V0z\" fill=\"none\"/>\n",
              "    <path d=\"M18.56 5.44l.94 2.06.94-2.06 2.06-.94-2.06-.94-.94-2.06-.94 2.06-2.06.94zm-11 1L8.5 8.5l.94-2.06 2.06-.94-2.06-.94L8.5 2.5l-.94 2.06-2.06.94zm10 10l.94 2.06.94-2.06 2.06-.94-2.06-.94-.94-2.06-.94 2.06-2.06.94z\"/><path d=\"M17.41 7.96l-1.37-1.37c-.4-.4-.92-.59-1.43-.59-.52 0-1.04.2-1.43.59L10.3 9.45l-7.72 7.72c-.78.78-.78 2.05 0 2.83L4 21.41c.39.39.9.59 1.41.59.51 0 1.02-.2 1.41-.59l7.78-7.78 2.81-2.81c.8-.78.8-2.07 0-2.86zM5.41 20L4 18.59l7.72-7.72 1.47 1.35L5.41 20z\"/>\n",
              "  </svg>\n",
              "      </button>\n",
              "      \n",
              "  <style>\n",
              "    .colab-df-container {\n",
              "      display:flex;\n",
              "      flex-wrap:wrap;\n",
              "      gap: 12px;\n",
              "    }\n",
              "\n",
              "    .colab-df-convert {\n",
              "      background-color: #E8F0FE;\n",
              "      border: none;\n",
              "      border-radius: 50%;\n",
              "      cursor: pointer;\n",
              "      display: none;\n",
              "      fill: #1967D2;\n",
              "      height: 32px;\n",
              "      padding: 0 0 0 0;\n",
              "      width: 32px;\n",
              "    }\n",
              "\n",
              "    .colab-df-convert:hover {\n",
              "      background-color: #E2EBFA;\n",
              "      box-shadow: 0px 1px 2px rgba(60, 64, 67, 0.3), 0px 1px 3px 1px rgba(60, 64, 67, 0.15);\n",
              "      fill: #174EA6;\n",
              "    }\n",
              "\n",
              "    [theme=dark] .colab-df-convert {\n",
              "      background-color: #3B4455;\n",
              "      fill: #D2E3FC;\n",
              "    }\n",
              "\n",
              "    [theme=dark] .colab-df-convert:hover {\n",
              "      background-color: #434B5C;\n",
              "      box-shadow: 0px 1px 3px 1px rgba(0, 0, 0, 0.15);\n",
              "      filter: drop-shadow(0px 1px 2px rgba(0, 0, 0, 0.3));\n",
              "      fill: #FFFFFF;\n",
              "    }\n",
              "  </style>\n",
              "\n",
              "      <script>\n",
              "        const buttonEl =\n",
              "          document.querySelector('#df-ba0a37c6-5d44-49e7-8609-19328c5965fd button.colab-df-convert');\n",
              "        buttonEl.style.display =\n",
              "          google.colab.kernel.accessAllowed ? 'block' : 'none';\n",
              "\n",
              "        async function convertToInteractive(key) {\n",
              "          const element = document.querySelector('#df-ba0a37c6-5d44-49e7-8609-19328c5965fd');\n",
              "          const dataTable =\n",
              "            await google.colab.kernel.invokeFunction('convertToInteractive',\n",
              "                                                     [key], {});\n",
              "          if (!dataTable) return;\n",
              "\n",
              "          const docLinkHtml = 'Like what you see? Visit the ' +\n",
              "            '<a target=\"_blank\" href=https://colab.research.google.com/notebooks/data_table.ipynb>data table notebook</a>'\n",
              "            + ' to learn more about interactive tables.';\n",
              "          element.innerHTML = '';\n",
              "          dataTable['output_type'] = 'display_data';\n",
              "          await google.colab.output.renderOutput(dataTable, element);\n",
              "          const docLink = document.createElement('div');\n",
              "          docLink.innerHTML = docLinkHtml;\n",
              "          element.appendChild(docLink);\n",
              "        }\n",
              "      </script>\n",
              "    </div>\n",
              "  </div>\n",
              "  "
            ]
          },
          "metadata": {},
          "execution_count": 7
        }
      ]
    },
    {
      "cell_type": "code",
      "source": [
        "len(df_stats)"
      ],
      "metadata": {
        "colab": {
          "base_uri": "https://localhost:8080/"
        },
        "id": "O24gCDw1X4Ej",
        "outputId": "5a021d42-ef49-4689-eb89-34720ee92aaf"
      },
      "execution_count": null,
      "outputs": [
        {
          "output_type": "execute_result",
          "data": {
            "text/plain": [
              "540"
            ]
          },
          "metadata": {},
          "execution_count": 8
        }
      ]
    },
    {
      "cell_type": "code",
      "source": [
        "df_stats_2020.head()"
      ],
      "metadata": {
        "colab": {
          "base_uri": "https://localhost:8080/",
          "height": 426
        },
        "id": "YucUJzn_RmuD",
        "outputId": "c909aac0-4632-4bb7-f8b7-6fa57d1a5eb8"
      },
      "execution_count": null,
      "outputs": [
        {
          "output_type": "execute_result",
          "data": {
            "text/plain": [
              "                   Name  Jersey Number     Club    Position Nationality   Age  \\\n",
              "0            Bernd Leno           1.00  Arsenal  Goalkeeper     Germany 28.00   \n",
              "1            Matt Macey          33.00  Arsenal  Goalkeeper     England 26.00   \n",
              "2  Rúnar Alex Rúnarsson          13.00  Arsenal  Goalkeeper     Iceland 25.00   \n",
              "3       Héctor Bellerín           2.00  Arsenal    Defender       Spain 25.00   \n",
              "4        Kieran Tierney           3.00  Arsenal    Defender    Scotland 23.00   \n",
              "\n",
              "   Appearances  Wins  Losses  Goals  Goals per match  Headed goals  \\\n",
              "0           64    28      16      0              NaN           NaN   \n",
              "1            0     0       0      0              NaN           NaN   \n",
              "2            0     0       0      0              NaN           NaN   \n",
              "3          160    90      37      7              NaN          0.00   \n",
              "4           16     7       5      1              NaN          0.00   \n",
              "\n",
              "   Goals with right foot  Goals with left foot  Penalties scored  \\\n",
              "0                    NaN                   NaN               NaN   \n",
              "1                    NaN                   NaN               NaN   \n",
              "2                    NaN                   NaN               NaN   \n",
              "3                   4.00                  3.00               NaN   \n",
              "4                   0.00                  1.00               NaN   \n",
              "\n",
              "   Freekicks scored  Shots  Shots on target Shooting accuracy %  Hit woodwork  \\\n",
              "0               NaN    NaN              NaN                 NaN           NaN   \n",
              "1               NaN    NaN              NaN                 NaN           NaN   \n",
              "2               NaN    NaN              NaN                 NaN           NaN   \n",
              "3               NaN    NaN              NaN                 NaN          3.00   \n",
              "4               NaN    NaN              NaN                 NaN          0.00   \n",
              "\n",
              "   Big chances missed  Clean sheets  Goals conceded  Tackles Tackle success %  \\\n",
              "0                 NaN         14.00           82.00      NaN              NaN   \n",
              "1                 NaN          0.00            0.00      NaN              NaN   \n",
              "2                 NaN          0.00            0.00      NaN              NaN   \n",
              "3                 NaN         53.00          166.00   214.00              78%   \n",
              "4                 NaN          2.00           16.00    21.00              81%   \n",
              "\n",
              "   Last man tackles  Blocked shots  Interceptions  Clearances  \\\n",
              "0               NaN            NaN            NaN         NaN   \n",
              "1               NaN            NaN            NaN         NaN   \n",
              "2               NaN            NaN            NaN         NaN   \n",
              "3              1.00          32.00         208.00      304.00   \n",
              "4              0.00           1.00          12.00       32.00   \n",
              "\n",
              "   Headed Clearance  Clearances off line  Recoveries  Duels won  Duels lost  \\\n",
              "0               NaN                  NaN         NaN        NaN         NaN   \n",
              "1               NaN                  NaN         NaN        NaN         NaN   \n",
              "2               NaN                  NaN         NaN        NaN         NaN   \n",
              "3            143.00                 3.00      732.00     611.00      709.00   \n",
              "4             12.00                 0.00       63.00      55.00       38.00   \n",
              "\n",
              "   Successful 50/50s  Aerial battles won  Aerial battles lost  Own goals  \\\n",
              "0                NaN                 NaN                  NaN       0.00   \n",
              "1                NaN                 NaN                  NaN       0.00   \n",
              "2                NaN                 NaN                  NaN       0.00   \n",
              "3             196.00              161.00               215.00       1.00   \n",
              "4              12.00               10.00                16.00       0.00   \n",
              "\n",
              "   Errors leading to goal  Assists  Passes  Passes per match  \\\n",
              "0                    7.00        0    1783             27.86   \n",
              "1                    0.00        0       0              0.00   \n",
              "2                    0.00        0       0              0.00   \n",
              "3                    1.00       18    7125             44.53   \n",
              "4                    0.00        1     519             32.44   \n",
              "\n",
              "   Big chances created  Crosses Cross accuracy %  Through balls  \\\n",
              "0                  NaN      NaN              NaN            NaN   \n",
              "1                  NaN      NaN              NaN            NaN   \n",
              "2                  NaN      NaN              NaN            NaN   \n",
              "3                28.00   389.00              16%          31.00   \n",
              "4                 1.00    45.00              18%           0.00   \n",
              "\n",
              "   Accurate long balls  Saves  Penalties saved  Punches  High Claims  Catches  \\\n",
              "0               234.00 222.00             1.00    34.00        26.00    17.00   \n",
              "1                 0.00   0.00             0.00     0.00         0.00     0.00   \n",
              "2                 0.00   0.00             0.00     0.00         0.00     0.00   \n",
              "3               144.00    NaN              NaN      NaN          NaN      NaN   \n",
              "4                22.00    NaN              NaN      NaN          NaN      NaN   \n",
              "\n",
              "   Sweeper clearances  Throw outs  Goal Kicks  Yellow cards  Red cards  Fouls  \\\n",
              "0               28.00      375.00      489.00             2          0      0   \n",
              "1                0.00        0.00        0.00             0          0      0   \n",
              "2                0.00        0.00        0.00             0          0      0   \n",
              "3                 NaN         NaN         NaN            23          0    125   \n",
              "4                 NaN         NaN         NaN             2          0      9   \n",
              "\n",
              "   Offsides  \n",
              "0       NaN  \n",
              "1       NaN  \n",
              "2       NaN  \n",
              "3      8.00  \n",
              "4      0.00  "
            ],
            "text/html": [
              "\n",
              "  <div id=\"df-3772e632-7657-4f87-a296-832850d04cbd\">\n",
              "    <div class=\"colab-df-container\">\n",
              "      <div>\n",
              "<style scoped>\n",
              "    .dataframe tbody tr th:only-of-type {\n",
              "        vertical-align: middle;\n",
              "    }\n",
              "\n",
              "    .dataframe tbody tr th {\n",
              "        vertical-align: top;\n",
              "    }\n",
              "\n",
              "    .dataframe thead th {\n",
              "        text-align: right;\n",
              "    }\n",
              "</style>\n",
              "<table border=\"1\" class=\"dataframe\">\n",
              "  <thead>\n",
              "    <tr style=\"text-align: right;\">\n",
              "      <th></th>\n",
              "      <th>Name</th>\n",
              "      <th>Jersey Number</th>\n",
              "      <th>Club</th>\n",
              "      <th>Position</th>\n",
              "      <th>Nationality</th>\n",
              "      <th>Age</th>\n",
              "      <th>Appearances</th>\n",
              "      <th>Wins</th>\n",
              "      <th>Losses</th>\n",
              "      <th>Goals</th>\n",
              "      <th>Goals per match</th>\n",
              "      <th>Headed goals</th>\n",
              "      <th>Goals with right foot</th>\n",
              "      <th>Goals with left foot</th>\n",
              "      <th>Penalties scored</th>\n",
              "      <th>Freekicks scored</th>\n",
              "      <th>Shots</th>\n",
              "      <th>Shots on target</th>\n",
              "      <th>Shooting accuracy %</th>\n",
              "      <th>Hit woodwork</th>\n",
              "      <th>Big chances missed</th>\n",
              "      <th>Clean sheets</th>\n",
              "      <th>Goals conceded</th>\n",
              "      <th>Tackles</th>\n",
              "      <th>Tackle success %</th>\n",
              "      <th>Last man tackles</th>\n",
              "      <th>Blocked shots</th>\n",
              "      <th>Interceptions</th>\n",
              "      <th>Clearances</th>\n",
              "      <th>Headed Clearance</th>\n",
              "      <th>Clearances off line</th>\n",
              "      <th>Recoveries</th>\n",
              "      <th>Duels won</th>\n",
              "      <th>Duels lost</th>\n",
              "      <th>Successful 50/50s</th>\n",
              "      <th>Aerial battles won</th>\n",
              "      <th>Aerial battles lost</th>\n",
              "      <th>Own goals</th>\n",
              "      <th>Errors leading to goal</th>\n",
              "      <th>Assists</th>\n",
              "      <th>Passes</th>\n",
              "      <th>Passes per match</th>\n",
              "      <th>Big chances created</th>\n",
              "      <th>Crosses</th>\n",
              "      <th>Cross accuracy %</th>\n",
              "      <th>Through balls</th>\n",
              "      <th>Accurate long balls</th>\n",
              "      <th>Saves</th>\n",
              "      <th>Penalties saved</th>\n",
              "      <th>Punches</th>\n",
              "      <th>High Claims</th>\n",
              "      <th>Catches</th>\n",
              "      <th>Sweeper clearances</th>\n",
              "      <th>Throw outs</th>\n",
              "      <th>Goal Kicks</th>\n",
              "      <th>Yellow cards</th>\n",
              "      <th>Red cards</th>\n",
              "      <th>Fouls</th>\n",
              "      <th>Offsides</th>\n",
              "    </tr>\n",
              "  </thead>\n",
              "  <tbody>\n",
              "    <tr>\n",
              "      <th>0</th>\n",
              "      <td>Bernd Leno</td>\n",
              "      <td>1.00</td>\n",
              "      <td>Arsenal</td>\n",
              "      <td>Goalkeeper</td>\n",
              "      <td>Germany</td>\n",
              "      <td>28.00</td>\n",
              "      <td>64</td>\n",
              "      <td>28</td>\n",
              "      <td>16</td>\n",
              "      <td>0</td>\n",
              "      <td>NaN</td>\n",
              "      <td>NaN</td>\n",
              "      <td>NaN</td>\n",
              "      <td>NaN</td>\n",
              "      <td>NaN</td>\n",
              "      <td>NaN</td>\n",
              "      <td>NaN</td>\n",
              "      <td>NaN</td>\n",
              "      <td>NaN</td>\n",
              "      <td>NaN</td>\n",
              "      <td>NaN</td>\n",
              "      <td>14.00</td>\n",
              "      <td>82.00</td>\n",
              "      <td>NaN</td>\n",
              "      <td>NaN</td>\n",
              "      <td>NaN</td>\n",
              "      <td>NaN</td>\n",
              "      <td>NaN</td>\n",
              "      <td>NaN</td>\n",
              "      <td>NaN</td>\n",
              "      <td>NaN</td>\n",
              "      <td>NaN</td>\n",
              "      <td>NaN</td>\n",
              "      <td>NaN</td>\n",
              "      <td>NaN</td>\n",
              "      <td>NaN</td>\n",
              "      <td>NaN</td>\n",
              "      <td>0.00</td>\n",
              "      <td>7.00</td>\n",
              "      <td>0</td>\n",
              "      <td>1783</td>\n",
              "      <td>27.86</td>\n",
              "      <td>NaN</td>\n",
              "      <td>NaN</td>\n",
              "      <td>NaN</td>\n",
              "      <td>NaN</td>\n",
              "      <td>234.00</td>\n",
              "      <td>222.00</td>\n",
              "      <td>1.00</td>\n",
              "      <td>34.00</td>\n",
              "      <td>26.00</td>\n",
              "      <td>17.00</td>\n",
              "      <td>28.00</td>\n",
              "      <td>375.00</td>\n",
              "      <td>489.00</td>\n",
              "      <td>2</td>\n",
              "      <td>0</td>\n",
              "      <td>0</td>\n",
              "      <td>NaN</td>\n",
              "    </tr>\n",
              "    <tr>\n",
              "      <th>1</th>\n",
              "      <td>Matt Macey</td>\n",
              "      <td>33.00</td>\n",
              "      <td>Arsenal</td>\n",
              "      <td>Goalkeeper</td>\n",
              "      <td>England</td>\n",
              "      <td>26.00</td>\n",
              "      <td>0</td>\n",
              "      <td>0</td>\n",
              "      <td>0</td>\n",
              "      <td>0</td>\n",
              "      <td>NaN</td>\n",
              "      <td>NaN</td>\n",
              "      <td>NaN</td>\n",
              "      <td>NaN</td>\n",
              "      <td>NaN</td>\n",
              "      <td>NaN</td>\n",
              "      <td>NaN</td>\n",
              "      <td>NaN</td>\n",
              "      <td>NaN</td>\n",
              "      <td>NaN</td>\n",
              "      <td>NaN</td>\n",
              "      <td>0.00</td>\n",
              "      <td>0.00</td>\n",
              "      <td>NaN</td>\n",
              "      <td>NaN</td>\n",
              "      <td>NaN</td>\n",
              "      <td>NaN</td>\n",
              "      <td>NaN</td>\n",
              "      <td>NaN</td>\n",
              "      <td>NaN</td>\n",
              "      <td>NaN</td>\n",
              "      <td>NaN</td>\n",
              "      <td>NaN</td>\n",
              "      <td>NaN</td>\n",
              "      <td>NaN</td>\n",
              "      <td>NaN</td>\n",
              "      <td>NaN</td>\n",
              "      <td>0.00</td>\n",
              "      <td>0.00</td>\n",
              "      <td>0</td>\n",
              "      <td>0</td>\n",
              "      <td>0.00</td>\n",
              "      <td>NaN</td>\n",
              "      <td>NaN</td>\n",
              "      <td>NaN</td>\n",
              "      <td>NaN</td>\n",
              "      <td>0.00</td>\n",
              "      <td>0.00</td>\n",
              "      <td>0.00</td>\n",
              "      <td>0.00</td>\n",
              "      <td>0.00</td>\n",
              "      <td>0.00</td>\n",
              "      <td>0.00</td>\n",
              "      <td>0.00</td>\n",
              "      <td>0.00</td>\n",
              "      <td>0</td>\n",
              "      <td>0</td>\n",
              "      <td>0</td>\n",
              "      <td>NaN</td>\n",
              "    </tr>\n",
              "    <tr>\n",
              "      <th>2</th>\n",
              "      <td>Rúnar Alex Rúnarsson</td>\n",
              "      <td>13.00</td>\n",
              "      <td>Arsenal</td>\n",
              "      <td>Goalkeeper</td>\n",
              "      <td>Iceland</td>\n",
              "      <td>25.00</td>\n",
              "      <td>0</td>\n",
              "      <td>0</td>\n",
              "      <td>0</td>\n",
              "      <td>0</td>\n",
              "      <td>NaN</td>\n",
              "      <td>NaN</td>\n",
              "      <td>NaN</td>\n",
              "      <td>NaN</td>\n",
              "      <td>NaN</td>\n",
              "      <td>NaN</td>\n",
              "      <td>NaN</td>\n",
              "      <td>NaN</td>\n",
              "      <td>NaN</td>\n",
              "      <td>NaN</td>\n",
              "      <td>NaN</td>\n",
              "      <td>0.00</td>\n",
              "      <td>0.00</td>\n",
              "      <td>NaN</td>\n",
              "      <td>NaN</td>\n",
              "      <td>NaN</td>\n",
              "      <td>NaN</td>\n",
              "      <td>NaN</td>\n",
              "      <td>NaN</td>\n",
              "      <td>NaN</td>\n",
              "      <td>NaN</td>\n",
              "      <td>NaN</td>\n",
              "      <td>NaN</td>\n",
              "      <td>NaN</td>\n",
              "      <td>NaN</td>\n",
              "      <td>NaN</td>\n",
              "      <td>NaN</td>\n",
              "      <td>0.00</td>\n",
              "      <td>0.00</td>\n",
              "      <td>0</td>\n",
              "      <td>0</td>\n",
              "      <td>0.00</td>\n",
              "      <td>NaN</td>\n",
              "      <td>NaN</td>\n",
              "      <td>NaN</td>\n",
              "      <td>NaN</td>\n",
              "      <td>0.00</td>\n",
              "      <td>0.00</td>\n",
              "      <td>0.00</td>\n",
              "      <td>0.00</td>\n",
              "      <td>0.00</td>\n",
              "      <td>0.00</td>\n",
              "      <td>0.00</td>\n",
              "      <td>0.00</td>\n",
              "      <td>0.00</td>\n",
              "      <td>0</td>\n",
              "      <td>0</td>\n",
              "      <td>0</td>\n",
              "      <td>NaN</td>\n",
              "    </tr>\n",
              "    <tr>\n",
              "      <th>3</th>\n",
              "      <td>Héctor Bellerín</td>\n",
              "      <td>2.00</td>\n",
              "      <td>Arsenal</td>\n",
              "      <td>Defender</td>\n",
              "      <td>Spain</td>\n",
              "      <td>25.00</td>\n",
              "      <td>160</td>\n",
              "      <td>90</td>\n",
              "      <td>37</td>\n",
              "      <td>7</td>\n",
              "      <td>NaN</td>\n",
              "      <td>0.00</td>\n",
              "      <td>4.00</td>\n",
              "      <td>3.00</td>\n",
              "      <td>NaN</td>\n",
              "      <td>NaN</td>\n",
              "      <td>NaN</td>\n",
              "      <td>NaN</td>\n",
              "      <td>NaN</td>\n",
              "      <td>3.00</td>\n",
              "      <td>NaN</td>\n",
              "      <td>53.00</td>\n",
              "      <td>166.00</td>\n",
              "      <td>214.00</td>\n",
              "      <td>78%</td>\n",
              "      <td>1.00</td>\n",
              "      <td>32.00</td>\n",
              "      <td>208.00</td>\n",
              "      <td>304.00</td>\n",
              "      <td>143.00</td>\n",
              "      <td>3.00</td>\n",
              "      <td>732.00</td>\n",
              "      <td>611.00</td>\n",
              "      <td>709.00</td>\n",
              "      <td>196.00</td>\n",
              "      <td>161.00</td>\n",
              "      <td>215.00</td>\n",
              "      <td>1.00</td>\n",
              "      <td>1.00</td>\n",
              "      <td>18</td>\n",
              "      <td>7125</td>\n",
              "      <td>44.53</td>\n",
              "      <td>28.00</td>\n",
              "      <td>389.00</td>\n",
              "      <td>16%</td>\n",
              "      <td>31.00</td>\n",
              "      <td>144.00</td>\n",
              "      <td>NaN</td>\n",
              "      <td>NaN</td>\n",
              "      <td>NaN</td>\n",
              "      <td>NaN</td>\n",
              "      <td>NaN</td>\n",
              "      <td>NaN</td>\n",
              "      <td>NaN</td>\n",
              "      <td>NaN</td>\n",
              "      <td>23</td>\n",
              "      <td>0</td>\n",
              "      <td>125</td>\n",
              "      <td>8.00</td>\n",
              "    </tr>\n",
              "    <tr>\n",
              "      <th>4</th>\n",
              "      <td>Kieran Tierney</td>\n",
              "      <td>3.00</td>\n",
              "      <td>Arsenal</td>\n",
              "      <td>Defender</td>\n",
              "      <td>Scotland</td>\n",
              "      <td>23.00</td>\n",
              "      <td>16</td>\n",
              "      <td>7</td>\n",
              "      <td>5</td>\n",
              "      <td>1</td>\n",
              "      <td>NaN</td>\n",
              "      <td>0.00</td>\n",
              "      <td>0.00</td>\n",
              "      <td>1.00</td>\n",
              "      <td>NaN</td>\n",
              "      <td>NaN</td>\n",
              "      <td>NaN</td>\n",
              "      <td>NaN</td>\n",
              "      <td>NaN</td>\n",
              "      <td>0.00</td>\n",
              "      <td>NaN</td>\n",
              "      <td>2.00</td>\n",
              "      <td>16.00</td>\n",
              "      <td>21.00</td>\n",
              "      <td>81%</td>\n",
              "      <td>0.00</td>\n",
              "      <td>1.00</td>\n",
              "      <td>12.00</td>\n",
              "      <td>32.00</td>\n",
              "      <td>12.00</td>\n",
              "      <td>0.00</td>\n",
              "      <td>63.00</td>\n",
              "      <td>55.00</td>\n",
              "      <td>38.00</td>\n",
              "      <td>12.00</td>\n",
              "      <td>10.00</td>\n",
              "      <td>16.00</td>\n",
              "      <td>0.00</td>\n",
              "      <td>0.00</td>\n",
              "      <td>1</td>\n",
              "      <td>519</td>\n",
              "      <td>32.44</td>\n",
              "      <td>1.00</td>\n",
              "      <td>45.00</td>\n",
              "      <td>18%</td>\n",
              "      <td>0.00</td>\n",
              "      <td>22.00</td>\n",
              "      <td>NaN</td>\n",
              "      <td>NaN</td>\n",
              "      <td>NaN</td>\n",
              "      <td>NaN</td>\n",
              "      <td>NaN</td>\n",
              "      <td>NaN</td>\n",
              "      <td>NaN</td>\n",
              "      <td>NaN</td>\n",
              "      <td>2</td>\n",
              "      <td>0</td>\n",
              "      <td>9</td>\n",
              "      <td>0.00</td>\n",
              "    </tr>\n",
              "  </tbody>\n",
              "</table>\n",
              "</div>\n",
              "      <button class=\"colab-df-convert\" onclick=\"convertToInteractive('df-3772e632-7657-4f87-a296-832850d04cbd')\"\n",
              "              title=\"Convert this dataframe to an interactive table.\"\n",
              "              style=\"display:none;\">\n",
              "        \n",
              "  <svg xmlns=\"http://www.w3.org/2000/svg\" height=\"24px\"viewBox=\"0 0 24 24\"\n",
              "       width=\"24px\">\n",
              "    <path d=\"M0 0h24v24H0V0z\" fill=\"none\"/>\n",
              "    <path d=\"M18.56 5.44l.94 2.06.94-2.06 2.06-.94-2.06-.94-.94-2.06-.94 2.06-2.06.94zm-11 1L8.5 8.5l.94-2.06 2.06-.94-2.06-.94L8.5 2.5l-.94 2.06-2.06.94zm10 10l.94 2.06.94-2.06 2.06-.94-2.06-.94-.94-2.06-.94 2.06-2.06.94z\"/><path d=\"M17.41 7.96l-1.37-1.37c-.4-.4-.92-.59-1.43-.59-.52 0-1.04.2-1.43.59L10.3 9.45l-7.72 7.72c-.78.78-.78 2.05 0 2.83L4 21.41c.39.39.9.59 1.41.59.51 0 1.02-.2 1.41-.59l7.78-7.78 2.81-2.81c.8-.78.8-2.07 0-2.86zM5.41 20L4 18.59l7.72-7.72 1.47 1.35L5.41 20z\"/>\n",
              "  </svg>\n",
              "      </button>\n",
              "      \n",
              "  <style>\n",
              "    .colab-df-container {\n",
              "      display:flex;\n",
              "      flex-wrap:wrap;\n",
              "      gap: 12px;\n",
              "    }\n",
              "\n",
              "    .colab-df-convert {\n",
              "      background-color: #E8F0FE;\n",
              "      border: none;\n",
              "      border-radius: 50%;\n",
              "      cursor: pointer;\n",
              "      display: none;\n",
              "      fill: #1967D2;\n",
              "      height: 32px;\n",
              "      padding: 0 0 0 0;\n",
              "      width: 32px;\n",
              "    }\n",
              "\n",
              "    .colab-df-convert:hover {\n",
              "      background-color: #E2EBFA;\n",
              "      box-shadow: 0px 1px 2px rgba(60, 64, 67, 0.3), 0px 1px 3px 1px rgba(60, 64, 67, 0.15);\n",
              "      fill: #174EA6;\n",
              "    }\n",
              "\n",
              "    [theme=dark] .colab-df-convert {\n",
              "      background-color: #3B4455;\n",
              "      fill: #D2E3FC;\n",
              "    }\n",
              "\n",
              "    [theme=dark] .colab-df-convert:hover {\n",
              "      background-color: #434B5C;\n",
              "      box-shadow: 0px 1px 3px 1px rgba(0, 0, 0, 0.15);\n",
              "      filter: drop-shadow(0px 1px 2px rgba(0, 0, 0, 0.3));\n",
              "      fill: #FFFFFF;\n",
              "    }\n",
              "  </style>\n",
              "\n",
              "      <script>\n",
              "        const buttonEl =\n",
              "          document.querySelector('#df-3772e632-7657-4f87-a296-832850d04cbd button.colab-df-convert');\n",
              "        buttonEl.style.display =\n",
              "          google.colab.kernel.accessAllowed ? 'block' : 'none';\n",
              "\n",
              "        async function convertToInteractive(key) {\n",
              "          const element = document.querySelector('#df-3772e632-7657-4f87-a296-832850d04cbd');\n",
              "          const dataTable =\n",
              "            await google.colab.kernel.invokeFunction('convertToInteractive',\n",
              "                                                     [key], {});\n",
              "          if (!dataTable) return;\n",
              "\n",
              "          const docLinkHtml = 'Like what you see? Visit the ' +\n",
              "            '<a target=\"_blank\" href=https://colab.research.google.com/notebooks/data_table.ipynb>data table notebook</a>'\n",
              "            + ' to learn more about interactive tables.';\n",
              "          element.innerHTML = '';\n",
              "          dataTable['output_type'] = 'display_data';\n",
              "          await google.colab.output.renderOutput(dataTable, element);\n",
              "          const docLink = document.createElement('div');\n",
              "          docLink.innerHTML = docLinkHtml;\n",
              "          element.appendChild(docLink);\n",
              "        }\n",
              "      </script>\n",
              "    </div>\n",
              "  </div>\n",
              "  "
            ]
          },
          "metadata": {},
          "execution_count": 9
        }
      ]
    },
    {
      "cell_type": "code",
      "source": [
        "len(df_stats_2020)"
      ],
      "metadata": {
        "colab": {
          "base_uri": "https://localhost:8080/"
        },
        "id": "bp3bPz77TmV_",
        "outputId": "e0345ec5-1b09-4d4d-994a-078ff3f3341d"
      },
      "execution_count": null,
      "outputs": [
        {
          "output_type": "execute_result",
          "data": {
            "text/plain": [
              "571"
            ]
          },
          "metadata": {},
          "execution_count": 10
        }
      ]
    },
    {
      "cell_type": "markdown",
      "source": [
        "## 1.1.-\n",
        "\n",
        "Primero vamos a enriquecer el dataset **df_stats** con informacion del dataset **df_stats_2020** siempre que se pueda hacer un *match* por nombre. Solo nos vamos a quedar con esos casos, eliminaremos el resto. Nos interesa saber la posicion, nacionalidad y edad de los jugadores."
      ],
      "metadata": {
        "id": "J9iUe9LtbjhE"
      }
    },
    {
      "cell_type": "code",
      "source": [
        "df_2 = pd.merge(left = df_stats, \n",
        "                right = df_stats_2020[['Name', 'Position', 'Nationality', 'Age']], \n",
        "                how='left', \n",
        "                left_on='PLAYER', \n",
        "                right_on = 'Name')\n",
        "df_2 = df_2.dropna(subset=['Name'])\n",
        "print(len(df_2))\n",
        "df_2.head()"
      ],
      "metadata": {
        "colab": {
          "base_uri": "https://localhost:8080/",
          "height": 223
        },
        "id": "8QUvDqc9Rm_X",
        "outputId": "67f414b3-7e60-46ba-de6f-6b74299af0cb"
      },
      "execution_count": null,
      "outputs": [
        {
          "output_type": "stream",
          "name": "stdout",
          "text": [
            "315\n"
          ]
        },
        {
          "output_type": "execute_result",
          "data": {
            "text/plain": [
              "   Rank                     PLAYER               TEAM  GP  GS   MIN   G  ASST  \\\n",
              "0     1                Jamie Vardy     Leicester City  35  34  3034  23     5   \n",
              "1     2                 Danny Ings        Southampton  38  32  2812  22     2   \n",
              "2     3  Pierre-Emerick Aubameyang            Arsenal  36  35  3138  22     3   \n",
              "5     6                 Sadio Mané          Liverpool  35  31  2753  18     7   \n",
              "6     7                 Harry Kane  Tottenham Hotspur  29  29  2589  18     2   \n",
              "\n",
              "   SHOTS  SOG                       Name Position Nationality   Age  \n",
              "0     71   43                Jamie Vardy  Forward     England 33.00  \n",
              "1     66   38                 Danny Ings  Forward     England 28.00  \n",
              "2     70   42  Pierre-Emerick Aubameyang  Forward       Gabon 31.00  \n",
              "5     66   36                 Sadio Mané  Forward     Senegal 28.00  \n",
              "6     62   37                 Harry Kane  Forward     England 27.00  "
            ],
            "text/html": [
              "\n",
              "  <div id=\"df-fc410000-a09c-46ee-a823-245b7cec83cf\">\n",
              "    <div class=\"colab-df-container\">\n",
              "      <div>\n",
              "<style scoped>\n",
              "    .dataframe tbody tr th:only-of-type {\n",
              "        vertical-align: middle;\n",
              "    }\n",
              "\n",
              "    .dataframe tbody tr th {\n",
              "        vertical-align: top;\n",
              "    }\n",
              "\n",
              "    .dataframe thead th {\n",
              "        text-align: right;\n",
              "    }\n",
              "</style>\n",
              "<table border=\"1\" class=\"dataframe\">\n",
              "  <thead>\n",
              "    <tr style=\"text-align: right;\">\n",
              "      <th></th>\n",
              "      <th>Rank</th>\n",
              "      <th>PLAYER</th>\n",
              "      <th>TEAM</th>\n",
              "      <th>GP</th>\n",
              "      <th>GS</th>\n",
              "      <th>MIN</th>\n",
              "      <th>G</th>\n",
              "      <th>ASST</th>\n",
              "      <th>SHOTS</th>\n",
              "      <th>SOG</th>\n",
              "      <th>Name</th>\n",
              "      <th>Position</th>\n",
              "      <th>Nationality</th>\n",
              "      <th>Age</th>\n",
              "    </tr>\n",
              "  </thead>\n",
              "  <tbody>\n",
              "    <tr>\n",
              "      <th>0</th>\n",
              "      <td>1</td>\n",
              "      <td>Jamie Vardy</td>\n",
              "      <td>Leicester City</td>\n",
              "      <td>35</td>\n",
              "      <td>34</td>\n",
              "      <td>3034</td>\n",
              "      <td>23</td>\n",
              "      <td>5</td>\n",
              "      <td>71</td>\n",
              "      <td>43</td>\n",
              "      <td>Jamie Vardy</td>\n",
              "      <td>Forward</td>\n",
              "      <td>England</td>\n",
              "      <td>33.00</td>\n",
              "    </tr>\n",
              "    <tr>\n",
              "      <th>1</th>\n",
              "      <td>2</td>\n",
              "      <td>Danny Ings</td>\n",
              "      <td>Southampton</td>\n",
              "      <td>38</td>\n",
              "      <td>32</td>\n",
              "      <td>2812</td>\n",
              "      <td>22</td>\n",
              "      <td>2</td>\n",
              "      <td>66</td>\n",
              "      <td>38</td>\n",
              "      <td>Danny Ings</td>\n",
              "      <td>Forward</td>\n",
              "      <td>England</td>\n",
              "      <td>28.00</td>\n",
              "    </tr>\n",
              "    <tr>\n",
              "      <th>2</th>\n",
              "      <td>3</td>\n",
              "      <td>Pierre-Emerick Aubameyang</td>\n",
              "      <td>Arsenal</td>\n",
              "      <td>36</td>\n",
              "      <td>35</td>\n",
              "      <td>3138</td>\n",
              "      <td>22</td>\n",
              "      <td>3</td>\n",
              "      <td>70</td>\n",
              "      <td>42</td>\n",
              "      <td>Pierre-Emerick Aubameyang</td>\n",
              "      <td>Forward</td>\n",
              "      <td>Gabon</td>\n",
              "      <td>31.00</td>\n",
              "    </tr>\n",
              "    <tr>\n",
              "      <th>5</th>\n",
              "      <td>6</td>\n",
              "      <td>Sadio Mané</td>\n",
              "      <td>Liverpool</td>\n",
              "      <td>35</td>\n",
              "      <td>31</td>\n",
              "      <td>2753</td>\n",
              "      <td>18</td>\n",
              "      <td>7</td>\n",
              "      <td>66</td>\n",
              "      <td>36</td>\n",
              "      <td>Sadio Mané</td>\n",
              "      <td>Forward</td>\n",
              "      <td>Senegal</td>\n",
              "      <td>28.00</td>\n",
              "    </tr>\n",
              "    <tr>\n",
              "      <th>6</th>\n",
              "      <td>7</td>\n",
              "      <td>Harry Kane</td>\n",
              "      <td>Tottenham Hotspur</td>\n",
              "      <td>29</td>\n",
              "      <td>29</td>\n",
              "      <td>2589</td>\n",
              "      <td>18</td>\n",
              "      <td>2</td>\n",
              "      <td>62</td>\n",
              "      <td>37</td>\n",
              "      <td>Harry Kane</td>\n",
              "      <td>Forward</td>\n",
              "      <td>England</td>\n",
              "      <td>27.00</td>\n",
              "    </tr>\n",
              "  </tbody>\n",
              "</table>\n",
              "</div>\n",
              "      <button class=\"colab-df-convert\" onclick=\"convertToInteractive('df-fc410000-a09c-46ee-a823-245b7cec83cf')\"\n",
              "              title=\"Convert this dataframe to an interactive table.\"\n",
              "              style=\"display:none;\">\n",
              "        \n",
              "  <svg xmlns=\"http://www.w3.org/2000/svg\" height=\"24px\"viewBox=\"0 0 24 24\"\n",
              "       width=\"24px\">\n",
              "    <path d=\"M0 0h24v24H0V0z\" fill=\"none\"/>\n",
              "    <path d=\"M18.56 5.44l.94 2.06.94-2.06 2.06-.94-2.06-.94-.94-2.06-.94 2.06-2.06.94zm-11 1L8.5 8.5l.94-2.06 2.06-.94-2.06-.94L8.5 2.5l-.94 2.06-2.06.94zm10 10l.94 2.06.94-2.06 2.06-.94-2.06-.94-.94-2.06-.94 2.06-2.06.94z\"/><path d=\"M17.41 7.96l-1.37-1.37c-.4-.4-.92-.59-1.43-.59-.52 0-1.04.2-1.43.59L10.3 9.45l-7.72 7.72c-.78.78-.78 2.05 0 2.83L4 21.41c.39.39.9.59 1.41.59.51 0 1.02-.2 1.41-.59l7.78-7.78 2.81-2.81c.8-.78.8-2.07 0-2.86zM5.41 20L4 18.59l7.72-7.72 1.47 1.35L5.41 20z\"/>\n",
              "  </svg>\n",
              "      </button>\n",
              "      \n",
              "  <style>\n",
              "    .colab-df-container {\n",
              "      display:flex;\n",
              "      flex-wrap:wrap;\n",
              "      gap: 12px;\n",
              "    }\n",
              "\n",
              "    .colab-df-convert {\n",
              "      background-color: #E8F0FE;\n",
              "      border: none;\n",
              "      border-radius: 50%;\n",
              "      cursor: pointer;\n",
              "      display: none;\n",
              "      fill: #1967D2;\n",
              "      height: 32px;\n",
              "      padding: 0 0 0 0;\n",
              "      width: 32px;\n",
              "    }\n",
              "\n",
              "    .colab-df-convert:hover {\n",
              "      background-color: #E2EBFA;\n",
              "      box-shadow: 0px 1px 2px rgba(60, 64, 67, 0.3), 0px 1px 3px 1px rgba(60, 64, 67, 0.15);\n",
              "      fill: #174EA6;\n",
              "    }\n",
              "\n",
              "    [theme=dark] .colab-df-convert {\n",
              "      background-color: #3B4455;\n",
              "      fill: #D2E3FC;\n",
              "    }\n",
              "\n",
              "    [theme=dark] .colab-df-convert:hover {\n",
              "      background-color: #434B5C;\n",
              "      box-shadow: 0px 1px 3px 1px rgba(0, 0, 0, 0.15);\n",
              "      filter: drop-shadow(0px 1px 2px rgba(0, 0, 0, 0.3));\n",
              "      fill: #FFFFFF;\n",
              "    }\n",
              "  </style>\n",
              "\n",
              "      <script>\n",
              "        const buttonEl =\n",
              "          document.querySelector('#df-fc410000-a09c-46ee-a823-245b7cec83cf button.colab-df-convert');\n",
              "        buttonEl.style.display =\n",
              "          google.colab.kernel.accessAllowed ? 'block' : 'none';\n",
              "\n",
              "        async function convertToInteractive(key) {\n",
              "          const element = document.querySelector('#df-fc410000-a09c-46ee-a823-245b7cec83cf');\n",
              "          const dataTable =\n",
              "            await google.colab.kernel.invokeFunction('convertToInteractive',\n",
              "                                                     [key], {});\n",
              "          if (!dataTable) return;\n",
              "\n",
              "          const docLinkHtml = 'Like what you see? Visit the ' +\n",
              "            '<a target=\"_blank\" href=https://colab.research.google.com/notebooks/data_table.ipynb>data table notebook</a>'\n",
              "            + ' to learn more about interactive tables.';\n",
              "          element.innerHTML = '';\n",
              "          dataTable['output_type'] = 'display_data';\n",
              "          await google.colab.output.renderOutput(dataTable, element);\n",
              "          const docLink = document.createElement('div');\n",
              "          docLink.innerHTML = docLinkHtml;\n",
              "          element.appendChild(docLink);\n",
              "        }\n",
              "      </script>\n",
              "    </div>\n",
              "  </div>\n",
              "  "
            ]
          },
          "metadata": {},
          "execution_count": 11
        }
      ]
    },
    {
      "cell_type": "markdown",
      "source": [
        "Vemos que se pierden registros. Esto se debe a que algunos nombres estan escritos diferente (con tilde o incluyen segundos nombres).\n",
        "\n",
        "## 1.2.-\n",
        "\n",
        "Vamos a filtrar de **df_stats_2020** aquellos jugadores que no han jugado en la temporada (sin *Appearances*)."
      ],
      "metadata": {
        "id": "X26KTsSfeAwL"
      }
    },
    {
      "cell_type": "code",
      "source": [
        "df = df_stats_2020[df_stats_2020.Appearances > 0]\n",
        "print(len(df))"
      ],
      "metadata": {
        "colab": {
          "base_uri": "https://localhost:8080/"
        },
        "id": "Q_UkB0YQeAAD",
        "outputId": "4bbf47a5-9a9f-4525-b34a-f53a10120268"
      },
      "execution_count": null,
      "outputs": [
        {
          "output_type": "stream",
          "name": "stdout",
          "text": [
            "481\n"
          ]
        }
      ]
    },
    {
      "cell_type": "markdown",
      "metadata": {
        "id": "2Arlsz2FxWPP"
      },
      "source": [
        "Vamos a avanzar con el segundo dataset (**df**) para el resto de la practica."
      ]
    },
    {
      "cell_type": "markdown",
      "metadata": {
        "id": "U4sSYLQ893oo"
      },
      "source": [
        "# 2.- Analisis de faltantes"
      ]
    },
    {
      "cell_type": "markdown",
      "metadata": {
        "id": "XVt8YRUR1gs-"
      },
      "source": [
        "## 2.1.- Eliminar columnas\n",
        "Observar la cantidad de valores faltantes en cada variable y eliminar aquellas que tienen mas de un 75% de valores faltantes"
      ]
    },
    {
      "cell_type": "code",
      "metadata": {
        "id": "-r6981eh97Lb",
        "colab": {
          "base_uri": "https://localhost:8080/"
        },
        "outputId": "02e0b9f8-c8ac-4229-c007-d31200f1917b"
      },
      "source": [
        "porcentaje_faltantes = df.isnull().sum()/df.shape[0]\n",
        "porcentaje_faltantes"
      ],
      "execution_count": null,
      "outputs": [
        {
          "output_type": "execute_result",
          "data": {
            "text/plain": [
              "Name                     0.00\n",
              "Jersey Number            0.01\n",
              "Club                     0.00\n",
              "Position                 0.00\n",
              "Nationality              0.00\n",
              "Age                      0.00\n",
              "Appearances              0.00\n",
              "Wins                     0.00\n",
              "Losses                   0.00\n",
              "Goals                    0.00\n",
              "Goals per match          0.42\n",
              "Headed goals             0.10\n",
              "Goals with right foot    0.10\n",
              "Goals with left foot     0.10\n",
              "Penalties scored         0.42\n",
              "Freekicks scored         0.42\n",
              "Shots                    0.42\n",
              "Shots on target          0.42\n",
              "Shooting accuracy %      0.42\n",
              "Hit woodwork             0.10\n",
              "Big chances missed       0.42\n",
              "Clean sheets             0.58\n",
              "Goals conceded           0.58\n",
              "Tackles                  0.10\n",
              "Tackle success %         0.31\n",
              "Last man tackles         0.68\n",
              "Blocked shots            0.10\n",
              "Interceptions            0.10\n",
              "Clearances               0.10\n",
              "Headed Clearance         0.10\n",
              "Clearances off line      0.68\n",
              "Recoveries               0.31\n",
              "Duels won                0.31\n",
              "Duels lost               0.31\n",
              "Successful 50/50s        0.31\n",
              "Aerial battles won       0.31\n",
              "Aerial battles lost      0.31\n",
              "Own goals                0.58\n",
              "Errors leading to goal   0.21\n",
              "Assists                  0.00\n",
              "Passes                   0.00\n",
              "Passes per match         0.00\n",
              "Big chances created      0.10\n",
              "Crosses                  0.10\n",
              "Cross accuracy %         0.31\n",
              "Through balls            0.31\n",
              "Accurate long balls      0.21\n",
              "Saves                    0.90\n",
              "Penalties saved          0.90\n",
              "Punches                  0.90\n",
              "High Claims              0.90\n",
              "Catches                  0.90\n",
              "Sweeper clearances       0.90\n",
              "Throw outs               0.90\n",
              "Goal Kicks               0.90\n",
              "Yellow cards             0.00\n",
              "Red cards                0.00\n",
              "Fouls                    0.00\n",
              "Offsides                 0.10\n",
              "dtype: float64"
            ]
          },
          "metadata": {},
          "execution_count": 13
        }
      ]
    },
    {
      "cell_type": "code",
      "metadata": {
        "id": "ivU3Kcd4-RLv",
        "colab": {
          "base_uri": "https://localhost:8080/"
        },
        "outputId": "b4713efb-765a-442c-ed7e-30c4899cb2c6"
      },
      "source": [
        "variables_muchos_faltantes = porcentaje_faltantes[porcentaje_faltantes > 0.75].index.to_list()\n",
        "variables_muchos_faltantes"
      ],
      "execution_count": null,
      "outputs": [
        {
          "output_type": "execute_result",
          "data": {
            "text/plain": [
              "['Saves',\n",
              " 'Penalties saved',\n",
              " 'Punches',\n",
              " 'High Claims',\n",
              " 'Catches',\n",
              " 'Sweeper clearances',\n",
              " 'Throw outs',\n",
              " 'Goal Kicks']"
            ]
          },
          "metadata": {},
          "execution_count": 14
        }
      ]
    },
    {
      "cell_type": "code",
      "source": [
        "# Vamos a conservar la variables \"Saves\" para mas adelante\n",
        "variables_muchos_faltantes.remove('Saves')\n",
        "variables_muchos_faltantes"
      ],
      "metadata": {
        "colab": {
          "base_uri": "https://localhost:8080/"
        },
        "id": "klxIFUWdnJOu",
        "outputId": "912c7df5-de1b-48cd-c883-22f9a6f502d7"
      },
      "execution_count": null,
      "outputs": [
        {
          "output_type": "execute_result",
          "data": {
            "text/plain": [
              "['Penalties saved',\n",
              " 'Punches',\n",
              " 'High Claims',\n",
              " 'Catches',\n",
              " 'Sweeper clearances',\n",
              " 'Throw outs',\n",
              " 'Goal Kicks']"
            ]
          },
          "metadata": {},
          "execution_count": 15
        }
      ]
    },
    {
      "cell_type": "code",
      "metadata": {
        "id": "w4G4DMob-rnw"
      },
      "source": [
        "df = df.drop(columns=variables_muchos_faltantes)"
      ],
      "execution_count": null,
      "outputs": []
    },
    {
      "cell_type": "code",
      "metadata": {
        "id": "Cwu1MCJg-uHY",
        "colab": {
          "base_uri": "https://localhost:8080/"
        },
        "outputId": "819a8b9e-7014-4d58-ecd1-fa0a34d48366"
      },
      "source": [
        "df.shape"
      ],
      "execution_count": null,
      "outputs": [
        {
          "output_type": "execute_result",
          "data": {
            "text/plain": [
              "(481, 52)"
            ]
          },
          "metadata": {},
          "execution_count": 17
        }
      ]
    },
    {
      "cell_type": "markdown",
      "metadata": {
        "id": "yXoiofmR1Xhh"
      },
      "source": [
        "## 2.2.- Imputar valores faltantes  \n",
        "\n",
        "Vamos a imputar:\n",
        "- Age (edad): promedio general\n",
        "- Goals per match (goles por partido): cociente entre Goals y Appearences\n",
        "- Shots: medida de agregacion por posicion del jugador"
      ]
    },
    {
      "cell_type": "markdown",
      "source": [
        "### 2.2.1.- Age"
      ],
      "metadata": {
        "id": "h7SL3aqNz0l7"
      }
    },
    {
      "cell_type": "code",
      "source": [
        "round(df['Age'].mean())"
      ],
      "metadata": {
        "colab": {
          "base_uri": "https://localhost:8080/"
        },
        "id": "7MnT3lXd0OsD",
        "outputId": "f7182d13-1ea1-4ab5-89f7-23864f848d4a"
      },
      "execution_count": null,
      "outputs": [
        {
          "output_type": "execute_result",
          "data": {
            "text/plain": [
              "27"
            ]
          },
          "metadata": {},
          "execution_count": 18
        }
      ]
    },
    {
      "cell_type": "code",
      "source": [
        "df['Age'].fillna(round(df['Age'].mean()), inplace=True)"
      ],
      "metadata": {
        "id": "XA9_eGhE0BXG"
      },
      "execution_count": null,
      "outputs": []
    },
    {
      "cell_type": "markdown",
      "source": [
        "### 2.2.2.- Goals per match\n",
        "\n",
        "Revisamos la columna"
      ],
      "metadata": {
        "id": "zMp4ZfUi0bJX"
      }
    },
    {
      "cell_type": "code",
      "source": [
        "df[['Goals','Appearances','Goals per match']].head(20)"
      ],
      "metadata": {
        "colab": {
          "base_uri": "https://localhost:8080/",
          "height": 676
        },
        "id": "BtlYWD1fDIYg",
        "outputId": "ceb4feb8-69a0-4c54-fcfb-eda75804df9d"
      },
      "execution_count": null,
      "outputs": [
        {
          "output_type": "execute_result",
          "data": {
            "text/plain": [
              "    Goals  Appearances  Goals per match\n",
              "0       0           64              NaN\n",
              "3       7          160              NaN\n",
              "4       1           16              NaN\n",
              "6       3           44              NaN\n",
              "7       0           41              NaN\n",
              "8       7           99              NaN\n",
              "9       6          139              NaN\n",
              "10     13          194              NaN\n",
              "11      2           78              NaN\n",
              "12      1            2              NaN\n",
              "13     33          184             0.18\n",
              "14      3           63             0.05\n",
              "15      1           54             0.02\n",
              "16      0           47            47.00\n",
              "17      1           33             0.03\n",
              "18      0           57            57.00\n",
              "19      0            2             2.00\n",
              "20      8          132             0.06\n",
              "21      1           28             0.04\n",
              "22      0           26            26.00"
            ],
            "text/html": [
              "\n",
              "  <div id=\"df-81436d34-8ccd-4ebe-9d32-fd9cd8c10d66\">\n",
              "    <div class=\"colab-df-container\">\n",
              "      <div>\n",
              "<style scoped>\n",
              "    .dataframe tbody tr th:only-of-type {\n",
              "        vertical-align: middle;\n",
              "    }\n",
              "\n",
              "    .dataframe tbody tr th {\n",
              "        vertical-align: top;\n",
              "    }\n",
              "\n",
              "    .dataframe thead th {\n",
              "        text-align: right;\n",
              "    }\n",
              "</style>\n",
              "<table border=\"1\" class=\"dataframe\">\n",
              "  <thead>\n",
              "    <tr style=\"text-align: right;\">\n",
              "      <th></th>\n",
              "      <th>Goals</th>\n",
              "      <th>Appearances</th>\n",
              "      <th>Goals per match</th>\n",
              "    </tr>\n",
              "  </thead>\n",
              "  <tbody>\n",
              "    <tr>\n",
              "      <th>0</th>\n",
              "      <td>0</td>\n",
              "      <td>64</td>\n",
              "      <td>NaN</td>\n",
              "    </tr>\n",
              "    <tr>\n",
              "      <th>3</th>\n",
              "      <td>7</td>\n",
              "      <td>160</td>\n",
              "      <td>NaN</td>\n",
              "    </tr>\n",
              "    <tr>\n",
              "      <th>4</th>\n",
              "      <td>1</td>\n",
              "      <td>16</td>\n",
              "      <td>NaN</td>\n",
              "    </tr>\n",
              "    <tr>\n",
              "      <th>6</th>\n",
              "      <td>3</td>\n",
              "      <td>44</td>\n",
              "      <td>NaN</td>\n",
              "    </tr>\n",
              "    <tr>\n",
              "      <th>7</th>\n",
              "      <td>0</td>\n",
              "      <td>41</td>\n",
              "      <td>NaN</td>\n",
              "    </tr>\n",
              "    <tr>\n",
              "      <th>8</th>\n",
              "      <td>7</td>\n",
              "      <td>99</td>\n",
              "      <td>NaN</td>\n",
              "    </tr>\n",
              "    <tr>\n",
              "      <th>9</th>\n",
              "      <td>6</td>\n",
              "      <td>139</td>\n",
              "      <td>NaN</td>\n",
              "    </tr>\n",
              "    <tr>\n",
              "      <th>10</th>\n",
              "      <td>13</td>\n",
              "      <td>194</td>\n",
              "      <td>NaN</td>\n",
              "    </tr>\n",
              "    <tr>\n",
              "      <th>11</th>\n",
              "      <td>2</td>\n",
              "      <td>78</td>\n",
              "      <td>NaN</td>\n",
              "    </tr>\n",
              "    <tr>\n",
              "      <th>12</th>\n",
              "      <td>1</td>\n",
              "      <td>2</td>\n",
              "      <td>NaN</td>\n",
              "    </tr>\n",
              "    <tr>\n",
              "      <th>13</th>\n",
              "      <td>33</td>\n",
              "      <td>184</td>\n",
              "      <td>0.18</td>\n",
              "    </tr>\n",
              "    <tr>\n",
              "      <th>14</th>\n",
              "      <td>3</td>\n",
              "      <td>63</td>\n",
              "      <td>0.05</td>\n",
              "    </tr>\n",
              "    <tr>\n",
              "      <th>15</th>\n",
              "      <td>1</td>\n",
              "      <td>54</td>\n",
              "      <td>0.02</td>\n",
              "    </tr>\n",
              "    <tr>\n",
              "      <th>16</th>\n",
              "      <td>0</td>\n",
              "      <td>47</td>\n",
              "      <td>47.00</td>\n",
              "    </tr>\n",
              "    <tr>\n",
              "      <th>17</th>\n",
              "      <td>1</td>\n",
              "      <td>33</td>\n",
              "      <td>0.03</td>\n",
              "    </tr>\n",
              "    <tr>\n",
              "      <th>18</th>\n",
              "      <td>0</td>\n",
              "      <td>57</td>\n",
              "      <td>57.00</td>\n",
              "    </tr>\n",
              "    <tr>\n",
              "      <th>19</th>\n",
              "      <td>0</td>\n",
              "      <td>2</td>\n",
              "      <td>2.00</td>\n",
              "    </tr>\n",
              "    <tr>\n",
              "      <th>20</th>\n",
              "      <td>8</td>\n",
              "      <td>132</td>\n",
              "      <td>0.06</td>\n",
              "    </tr>\n",
              "    <tr>\n",
              "      <th>21</th>\n",
              "      <td>1</td>\n",
              "      <td>28</td>\n",
              "      <td>0.04</td>\n",
              "    </tr>\n",
              "    <tr>\n",
              "      <th>22</th>\n",
              "      <td>0</td>\n",
              "      <td>26</td>\n",
              "      <td>26.00</td>\n",
              "    </tr>\n",
              "  </tbody>\n",
              "</table>\n",
              "</div>\n",
              "      <button class=\"colab-df-convert\" onclick=\"convertToInteractive('df-81436d34-8ccd-4ebe-9d32-fd9cd8c10d66')\"\n",
              "              title=\"Convert this dataframe to an interactive table.\"\n",
              "              style=\"display:none;\">\n",
              "        \n",
              "  <svg xmlns=\"http://www.w3.org/2000/svg\" height=\"24px\"viewBox=\"0 0 24 24\"\n",
              "       width=\"24px\">\n",
              "    <path d=\"M0 0h24v24H0V0z\" fill=\"none\"/>\n",
              "    <path d=\"M18.56 5.44l.94 2.06.94-2.06 2.06-.94-2.06-.94-.94-2.06-.94 2.06-2.06.94zm-11 1L8.5 8.5l.94-2.06 2.06-.94-2.06-.94L8.5 2.5l-.94 2.06-2.06.94zm10 10l.94 2.06.94-2.06 2.06-.94-2.06-.94-.94-2.06-.94 2.06-2.06.94z\"/><path d=\"M17.41 7.96l-1.37-1.37c-.4-.4-.92-.59-1.43-.59-.52 0-1.04.2-1.43.59L10.3 9.45l-7.72 7.72c-.78.78-.78 2.05 0 2.83L4 21.41c.39.39.9.59 1.41.59.51 0 1.02-.2 1.41-.59l7.78-7.78 2.81-2.81c.8-.78.8-2.07 0-2.86zM5.41 20L4 18.59l7.72-7.72 1.47 1.35L5.41 20z\"/>\n",
              "  </svg>\n",
              "      </button>\n",
              "      \n",
              "  <style>\n",
              "    .colab-df-container {\n",
              "      display:flex;\n",
              "      flex-wrap:wrap;\n",
              "      gap: 12px;\n",
              "    }\n",
              "\n",
              "    .colab-df-convert {\n",
              "      background-color: #E8F0FE;\n",
              "      border: none;\n",
              "      border-radius: 50%;\n",
              "      cursor: pointer;\n",
              "      display: none;\n",
              "      fill: #1967D2;\n",
              "      height: 32px;\n",
              "      padding: 0 0 0 0;\n",
              "      width: 32px;\n",
              "    }\n",
              "\n",
              "    .colab-df-convert:hover {\n",
              "      background-color: #E2EBFA;\n",
              "      box-shadow: 0px 1px 2px rgba(60, 64, 67, 0.3), 0px 1px 3px 1px rgba(60, 64, 67, 0.15);\n",
              "      fill: #174EA6;\n",
              "    }\n",
              "\n",
              "    [theme=dark] .colab-df-convert {\n",
              "      background-color: #3B4455;\n",
              "      fill: #D2E3FC;\n",
              "    }\n",
              "\n",
              "    [theme=dark] .colab-df-convert:hover {\n",
              "      background-color: #434B5C;\n",
              "      box-shadow: 0px 1px 3px 1px rgba(0, 0, 0, 0.15);\n",
              "      filter: drop-shadow(0px 1px 2px rgba(0, 0, 0, 0.3));\n",
              "      fill: #FFFFFF;\n",
              "    }\n",
              "  </style>\n",
              "\n",
              "      <script>\n",
              "        const buttonEl =\n",
              "          document.querySelector('#df-81436d34-8ccd-4ebe-9d32-fd9cd8c10d66 button.colab-df-convert');\n",
              "        buttonEl.style.display =\n",
              "          google.colab.kernel.accessAllowed ? 'block' : 'none';\n",
              "\n",
              "        async function convertToInteractive(key) {\n",
              "          const element = document.querySelector('#df-81436d34-8ccd-4ebe-9d32-fd9cd8c10d66');\n",
              "          const dataTable =\n",
              "            await google.colab.kernel.invokeFunction('convertToInteractive',\n",
              "                                                     [key], {});\n",
              "          if (!dataTable) return;\n",
              "\n",
              "          const docLinkHtml = 'Like what you see? Visit the ' +\n",
              "            '<a target=\"_blank\" href=https://colab.research.google.com/notebooks/data_table.ipynb>data table notebook</a>'\n",
              "            + ' to learn more about interactive tables.';\n",
              "          element.innerHTML = '';\n",
              "          dataTable['output_type'] = 'display_data';\n",
              "          await google.colab.output.renderOutput(dataTable, element);\n",
              "          const docLink = document.createElement('div');\n",
              "          docLink.innerHTML = docLinkHtml;\n",
              "          element.appendChild(docLink);\n",
              "        }\n",
              "      </script>\n",
              "    </div>\n",
              "  </div>\n",
              "  "
            ]
          },
          "metadata": {},
          "execution_count": 20
        }
      ]
    },
    {
      "cell_type": "markdown",
      "source": [
        "Vemos que ademas de tener datos faltantes, pareceria estar mal calculada (esto es un ejemplo de *sanity check*). Vamos a corregir y quitar de esta forma los faltantes."
      ],
      "metadata": {
        "id": "TDt_vwR2DNJG"
      }
    },
    {
      "cell_type": "code",
      "source": [
        "df['Goals per match 2'] = round(df['Goals']/df['Appearances'],2)\n",
        "df[['Goals','Appearances','Goals per match', 'Goals per match 2']].head(20)"
      ],
      "metadata": {
        "colab": {
          "base_uri": "https://localhost:8080/",
          "height": 676
        },
        "id": "lTPRY_r60evm",
        "outputId": "083fd308-3896-46bd-acab-ed77e589a3a7"
      },
      "execution_count": null,
      "outputs": [
        {
          "output_type": "execute_result",
          "data": {
            "text/plain": [
              "    Goals  Appearances  Goals per match  Goals per match 2\n",
              "0       0           64              NaN               0.00\n",
              "3       7          160              NaN               0.04\n",
              "4       1           16              NaN               0.06\n",
              "6       3           44              NaN               0.07\n",
              "7       0           41              NaN               0.00\n",
              "8       7           99              NaN               0.07\n",
              "9       6          139              NaN               0.04\n",
              "10     13          194              NaN               0.07\n",
              "11      2           78              NaN               0.03\n",
              "12      1            2              NaN               0.50\n",
              "13     33          184             0.18               0.18\n",
              "14      3           63             0.05               0.05\n",
              "15      1           54             0.02               0.02\n",
              "16      0           47            47.00               0.00\n",
              "17      1           33             0.03               0.03\n",
              "18      0           57            57.00               0.00\n",
              "19      0            2             2.00               0.00\n",
              "20      8          132             0.06               0.06\n",
              "21      1           28             0.04               0.04\n",
              "22      0           26            26.00               0.00"
            ],
            "text/html": [
              "\n",
              "  <div id=\"df-87319b1d-f35e-4b2f-ad52-ae77b1e68d78\">\n",
              "    <div class=\"colab-df-container\">\n",
              "      <div>\n",
              "<style scoped>\n",
              "    .dataframe tbody tr th:only-of-type {\n",
              "        vertical-align: middle;\n",
              "    }\n",
              "\n",
              "    .dataframe tbody tr th {\n",
              "        vertical-align: top;\n",
              "    }\n",
              "\n",
              "    .dataframe thead th {\n",
              "        text-align: right;\n",
              "    }\n",
              "</style>\n",
              "<table border=\"1\" class=\"dataframe\">\n",
              "  <thead>\n",
              "    <tr style=\"text-align: right;\">\n",
              "      <th></th>\n",
              "      <th>Goals</th>\n",
              "      <th>Appearances</th>\n",
              "      <th>Goals per match</th>\n",
              "      <th>Goals per match 2</th>\n",
              "    </tr>\n",
              "  </thead>\n",
              "  <tbody>\n",
              "    <tr>\n",
              "      <th>0</th>\n",
              "      <td>0</td>\n",
              "      <td>64</td>\n",
              "      <td>NaN</td>\n",
              "      <td>0.00</td>\n",
              "    </tr>\n",
              "    <tr>\n",
              "      <th>3</th>\n",
              "      <td>7</td>\n",
              "      <td>160</td>\n",
              "      <td>NaN</td>\n",
              "      <td>0.04</td>\n",
              "    </tr>\n",
              "    <tr>\n",
              "      <th>4</th>\n",
              "      <td>1</td>\n",
              "      <td>16</td>\n",
              "      <td>NaN</td>\n",
              "      <td>0.06</td>\n",
              "    </tr>\n",
              "    <tr>\n",
              "      <th>6</th>\n",
              "      <td>3</td>\n",
              "      <td>44</td>\n",
              "      <td>NaN</td>\n",
              "      <td>0.07</td>\n",
              "    </tr>\n",
              "    <tr>\n",
              "      <th>7</th>\n",
              "      <td>0</td>\n",
              "      <td>41</td>\n",
              "      <td>NaN</td>\n",
              "      <td>0.00</td>\n",
              "    </tr>\n",
              "    <tr>\n",
              "      <th>8</th>\n",
              "      <td>7</td>\n",
              "      <td>99</td>\n",
              "      <td>NaN</td>\n",
              "      <td>0.07</td>\n",
              "    </tr>\n",
              "    <tr>\n",
              "      <th>9</th>\n",
              "      <td>6</td>\n",
              "      <td>139</td>\n",
              "      <td>NaN</td>\n",
              "      <td>0.04</td>\n",
              "    </tr>\n",
              "    <tr>\n",
              "      <th>10</th>\n",
              "      <td>13</td>\n",
              "      <td>194</td>\n",
              "      <td>NaN</td>\n",
              "      <td>0.07</td>\n",
              "    </tr>\n",
              "    <tr>\n",
              "      <th>11</th>\n",
              "      <td>2</td>\n",
              "      <td>78</td>\n",
              "      <td>NaN</td>\n",
              "      <td>0.03</td>\n",
              "    </tr>\n",
              "    <tr>\n",
              "      <th>12</th>\n",
              "      <td>1</td>\n",
              "      <td>2</td>\n",
              "      <td>NaN</td>\n",
              "      <td>0.50</td>\n",
              "    </tr>\n",
              "    <tr>\n",
              "      <th>13</th>\n",
              "      <td>33</td>\n",
              "      <td>184</td>\n",
              "      <td>0.18</td>\n",
              "      <td>0.18</td>\n",
              "    </tr>\n",
              "    <tr>\n",
              "      <th>14</th>\n",
              "      <td>3</td>\n",
              "      <td>63</td>\n",
              "      <td>0.05</td>\n",
              "      <td>0.05</td>\n",
              "    </tr>\n",
              "    <tr>\n",
              "      <th>15</th>\n",
              "      <td>1</td>\n",
              "      <td>54</td>\n",
              "      <td>0.02</td>\n",
              "      <td>0.02</td>\n",
              "    </tr>\n",
              "    <tr>\n",
              "      <th>16</th>\n",
              "      <td>0</td>\n",
              "      <td>47</td>\n",
              "      <td>47.00</td>\n",
              "      <td>0.00</td>\n",
              "    </tr>\n",
              "    <tr>\n",
              "      <th>17</th>\n",
              "      <td>1</td>\n",
              "      <td>33</td>\n",
              "      <td>0.03</td>\n",
              "      <td>0.03</td>\n",
              "    </tr>\n",
              "    <tr>\n",
              "      <th>18</th>\n",
              "      <td>0</td>\n",
              "      <td>57</td>\n",
              "      <td>57.00</td>\n",
              "      <td>0.00</td>\n",
              "    </tr>\n",
              "    <tr>\n",
              "      <th>19</th>\n",
              "      <td>0</td>\n",
              "      <td>2</td>\n",
              "      <td>2.00</td>\n",
              "      <td>0.00</td>\n",
              "    </tr>\n",
              "    <tr>\n",
              "      <th>20</th>\n",
              "      <td>8</td>\n",
              "      <td>132</td>\n",
              "      <td>0.06</td>\n",
              "      <td>0.06</td>\n",
              "    </tr>\n",
              "    <tr>\n",
              "      <th>21</th>\n",
              "      <td>1</td>\n",
              "      <td>28</td>\n",
              "      <td>0.04</td>\n",
              "      <td>0.04</td>\n",
              "    </tr>\n",
              "    <tr>\n",
              "      <th>22</th>\n",
              "      <td>0</td>\n",
              "      <td>26</td>\n",
              "      <td>26.00</td>\n",
              "      <td>0.00</td>\n",
              "    </tr>\n",
              "  </tbody>\n",
              "</table>\n",
              "</div>\n",
              "      <button class=\"colab-df-convert\" onclick=\"convertToInteractive('df-87319b1d-f35e-4b2f-ad52-ae77b1e68d78')\"\n",
              "              title=\"Convert this dataframe to an interactive table.\"\n",
              "              style=\"display:none;\">\n",
              "        \n",
              "  <svg xmlns=\"http://www.w3.org/2000/svg\" height=\"24px\"viewBox=\"0 0 24 24\"\n",
              "       width=\"24px\">\n",
              "    <path d=\"M0 0h24v24H0V0z\" fill=\"none\"/>\n",
              "    <path d=\"M18.56 5.44l.94 2.06.94-2.06 2.06-.94-2.06-.94-.94-2.06-.94 2.06-2.06.94zm-11 1L8.5 8.5l.94-2.06 2.06-.94-2.06-.94L8.5 2.5l-.94 2.06-2.06.94zm10 10l.94 2.06.94-2.06 2.06-.94-2.06-.94-.94-2.06-.94 2.06-2.06.94z\"/><path d=\"M17.41 7.96l-1.37-1.37c-.4-.4-.92-.59-1.43-.59-.52 0-1.04.2-1.43.59L10.3 9.45l-7.72 7.72c-.78.78-.78 2.05 0 2.83L4 21.41c.39.39.9.59 1.41.59.51 0 1.02-.2 1.41-.59l7.78-7.78 2.81-2.81c.8-.78.8-2.07 0-2.86zM5.41 20L4 18.59l7.72-7.72 1.47 1.35L5.41 20z\"/>\n",
              "  </svg>\n",
              "      </button>\n",
              "      \n",
              "  <style>\n",
              "    .colab-df-container {\n",
              "      display:flex;\n",
              "      flex-wrap:wrap;\n",
              "      gap: 12px;\n",
              "    }\n",
              "\n",
              "    .colab-df-convert {\n",
              "      background-color: #E8F0FE;\n",
              "      border: none;\n",
              "      border-radius: 50%;\n",
              "      cursor: pointer;\n",
              "      display: none;\n",
              "      fill: #1967D2;\n",
              "      height: 32px;\n",
              "      padding: 0 0 0 0;\n",
              "      width: 32px;\n",
              "    }\n",
              "\n",
              "    .colab-df-convert:hover {\n",
              "      background-color: #E2EBFA;\n",
              "      box-shadow: 0px 1px 2px rgba(60, 64, 67, 0.3), 0px 1px 3px 1px rgba(60, 64, 67, 0.15);\n",
              "      fill: #174EA6;\n",
              "    }\n",
              "\n",
              "    [theme=dark] .colab-df-convert {\n",
              "      background-color: #3B4455;\n",
              "      fill: #D2E3FC;\n",
              "    }\n",
              "\n",
              "    [theme=dark] .colab-df-convert:hover {\n",
              "      background-color: #434B5C;\n",
              "      box-shadow: 0px 1px 3px 1px rgba(0, 0, 0, 0.15);\n",
              "      filter: drop-shadow(0px 1px 2px rgba(0, 0, 0, 0.3));\n",
              "      fill: #FFFFFF;\n",
              "    }\n",
              "  </style>\n",
              "\n",
              "      <script>\n",
              "        const buttonEl =\n",
              "          document.querySelector('#df-87319b1d-f35e-4b2f-ad52-ae77b1e68d78 button.colab-df-convert');\n",
              "        buttonEl.style.display =\n",
              "          google.colab.kernel.accessAllowed ? 'block' : 'none';\n",
              "\n",
              "        async function convertToInteractive(key) {\n",
              "          const element = document.querySelector('#df-87319b1d-f35e-4b2f-ad52-ae77b1e68d78');\n",
              "          const dataTable =\n",
              "            await google.colab.kernel.invokeFunction('convertToInteractive',\n",
              "                                                     [key], {});\n",
              "          if (!dataTable) return;\n",
              "\n",
              "          const docLinkHtml = 'Like what you see? Visit the ' +\n",
              "            '<a target=\"_blank\" href=https://colab.research.google.com/notebooks/data_table.ipynb>data table notebook</a>'\n",
              "            + ' to learn more about interactive tables.';\n",
              "          element.innerHTML = '';\n",
              "          dataTable['output_type'] = 'display_data';\n",
              "          await google.colab.output.renderOutput(dataTable, element);\n",
              "          const docLink = document.createElement('div');\n",
              "          docLink.innerHTML = docLinkHtml;\n",
              "          element.appendChild(docLink);\n",
              "        }\n",
              "      </script>\n",
              "    </div>\n",
              "  </div>\n",
              "  "
            ]
          },
          "metadata": {},
          "execution_count": 21
        }
      ]
    },
    {
      "cell_type": "markdown",
      "source": [
        "### 2.2.3.- Shots\n",
        "\n",
        "Vamos a usar la mediana por posicion del jugador (*Position*)."
      ],
      "metadata": {
        "id": "cILteeQJDsqJ"
      }
    },
    {
      "cell_type": "code",
      "source": [
        "df.groupby('Position').agg({'Shots': ['mean', 'median', 'min', 'max']})"
      ],
      "metadata": {
        "colab": {
          "base_uri": "https://localhost:8080/",
          "height": 237
        },
        "id": "fLFuIzSG0e9m",
        "outputId": "f5115f50-4c9e-4b81-e301-0398b47334e7"
      },
      "execution_count": null,
      "outputs": [
        {
          "output_type": "execute_result",
          "data": {
            "text/plain": [
              "            Shots                   \n",
              "             mean median  min    max\n",
              "Position                            \n",
              "Defender    16.33  20.00 1.00  28.00\n",
              "Forward    162.29  71.00 0.00 996.00\n",
              "Goalkeeper    NaN    NaN  NaN    NaN\n",
              "Midfielder  86.56  44.50 0.00 603.00"
            ],
            "text/html": [
              "\n",
              "  <div id=\"df-828b77c1-861d-4b7c-9b05-57c39d84504d\">\n",
              "    <div class=\"colab-df-container\">\n",
              "      <div>\n",
              "<style scoped>\n",
              "    .dataframe tbody tr th:only-of-type {\n",
              "        vertical-align: middle;\n",
              "    }\n",
              "\n",
              "    .dataframe tbody tr th {\n",
              "        vertical-align: top;\n",
              "    }\n",
              "\n",
              "    .dataframe thead tr th {\n",
              "        text-align: left;\n",
              "    }\n",
              "\n",
              "    .dataframe thead tr:last-of-type th {\n",
              "        text-align: right;\n",
              "    }\n",
              "</style>\n",
              "<table border=\"1\" class=\"dataframe\">\n",
              "  <thead>\n",
              "    <tr>\n",
              "      <th></th>\n",
              "      <th colspan=\"4\" halign=\"left\">Shots</th>\n",
              "    </tr>\n",
              "    <tr>\n",
              "      <th></th>\n",
              "      <th>mean</th>\n",
              "      <th>median</th>\n",
              "      <th>min</th>\n",
              "      <th>max</th>\n",
              "    </tr>\n",
              "    <tr>\n",
              "      <th>Position</th>\n",
              "      <th></th>\n",
              "      <th></th>\n",
              "      <th></th>\n",
              "      <th></th>\n",
              "    </tr>\n",
              "  </thead>\n",
              "  <tbody>\n",
              "    <tr>\n",
              "      <th>Defender</th>\n",
              "      <td>16.33</td>\n",
              "      <td>20.00</td>\n",
              "      <td>1.00</td>\n",
              "      <td>28.00</td>\n",
              "    </tr>\n",
              "    <tr>\n",
              "      <th>Forward</th>\n",
              "      <td>162.29</td>\n",
              "      <td>71.00</td>\n",
              "      <td>0.00</td>\n",
              "      <td>996.00</td>\n",
              "    </tr>\n",
              "    <tr>\n",
              "      <th>Goalkeeper</th>\n",
              "      <td>NaN</td>\n",
              "      <td>NaN</td>\n",
              "      <td>NaN</td>\n",
              "      <td>NaN</td>\n",
              "    </tr>\n",
              "    <tr>\n",
              "      <th>Midfielder</th>\n",
              "      <td>86.56</td>\n",
              "      <td>44.50</td>\n",
              "      <td>0.00</td>\n",
              "      <td>603.00</td>\n",
              "    </tr>\n",
              "  </tbody>\n",
              "</table>\n",
              "</div>\n",
              "      <button class=\"colab-df-convert\" onclick=\"convertToInteractive('df-828b77c1-861d-4b7c-9b05-57c39d84504d')\"\n",
              "              title=\"Convert this dataframe to an interactive table.\"\n",
              "              style=\"display:none;\">\n",
              "        \n",
              "  <svg xmlns=\"http://www.w3.org/2000/svg\" height=\"24px\"viewBox=\"0 0 24 24\"\n",
              "       width=\"24px\">\n",
              "    <path d=\"M0 0h24v24H0V0z\" fill=\"none\"/>\n",
              "    <path d=\"M18.56 5.44l.94 2.06.94-2.06 2.06-.94-2.06-.94-.94-2.06-.94 2.06-2.06.94zm-11 1L8.5 8.5l.94-2.06 2.06-.94-2.06-.94L8.5 2.5l-.94 2.06-2.06.94zm10 10l.94 2.06.94-2.06 2.06-.94-2.06-.94-.94-2.06-.94 2.06-2.06.94z\"/><path d=\"M17.41 7.96l-1.37-1.37c-.4-.4-.92-.59-1.43-.59-.52 0-1.04.2-1.43.59L10.3 9.45l-7.72 7.72c-.78.78-.78 2.05 0 2.83L4 21.41c.39.39.9.59 1.41.59.51 0 1.02-.2 1.41-.59l7.78-7.78 2.81-2.81c.8-.78.8-2.07 0-2.86zM5.41 20L4 18.59l7.72-7.72 1.47 1.35L5.41 20z\"/>\n",
              "  </svg>\n",
              "      </button>\n",
              "      \n",
              "  <style>\n",
              "    .colab-df-container {\n",
              "      display:flex;\n",
              "      flex-wrap:wrap;\n",
              "      gap: 12px;\n",
              "    }\n",
              "\n",
              "    .colab-df-convert {\n",
              "      background-color: #E8F0FE;\n",
              "      border: none;\n",
              "      border-radius: 50%;\n",
              "      cursor: pointer;\n",
              "      display: none;\n",
              "      fill: #1967D2;\n",
              "      height: 32px;\n",
              "      padding: 0 0 0 0;\n",
              "      width: 32px;\n",
              "    }\n",
              "\n",
              "    .colab-df-convert:hover {\n",
              "      background-color: #E2EBFA;\n",
              "      box-shadow: 0px 1px 2px rgba(60, 64, 67, 0.3), 0px 1px 3px 1px rgba(60, 64, 67, 0.15);\n",
              "      fill: #174EA6;\n",
              "    }\n",
              "\n",
              "    [theme=dark] .colab-df-convert {\n",
              "      background-color: #3B4455;\n",
              "      fill: #D2E3FC;\n",
              "    }\n",
              "\n",
              "    [theme=dark] .colab-df-convert:hover {\n",
              "      background-color: #434B5C;\n",
              "      box-shadow: 0px 1px 3px 1px rgba(0, 0, 0, 0.15);\n",
              "      filter: drop-shadow(0px 1px 2px rgba(0, 0, 0, 0.3));\n",
              "      fill: #FFFFFF;\n",
              "    }\n",
              "  </style>\n",
              "\n",
              "      <script>\n",
              "        const buttonEl =\n",
              "          document.querySelector('#df-828b77c1-861d-4b7c-9b05-57c39d84504d button.colab-df-convert');\n",
              "        buttonEl.style.display =\n",
              "          google.colab.kernel.accessAllowed ? 'block' : 'none';\n",
              "\n",
              "        async function convertToInteractive(key) {\n",
              "          const element = document.querySelector('#df-828b77c1-861d-4b7c-9b05-57c39d84504d');\n",
              "          const dataTable =\n",
              "            await google.colab.kernel.invokeFunction('convertToInteractive',\n",
              "                                                     [key], {});\n",
              "          if (!dataTable) return;\n",
              "\n",
              "          const docLinkHtml = 'Like what you see? Visit the ' +\n",
              "            '<a target=\"_blank\" href=https://colab.research.google.com/notebooks/data_table.ipynb>data table notebook</a>'\n",
              "            + ' to learn more about interactive tables.';\n",
              "          element.innerHTML = '';\n",
              "          dataTable['output_type'] = 'display_data';\n",
              "          await google.colab.output.renderOutput(dataTable, element);\n",
              "          const docLink = document.createElement('div');\n",
              "          docLink.innerHTML = docLinkHtml;\n",
              "          element.appendChild(docLink);\n",
              "        }\n",
              "      </script>\n",
              "    </div>\n",
              "  </div>\n",
              "  "
            ]
          },
          "metadata": {},
          "execution_count": 22
        }
      ]
    },
    {
      "cell_type": "code",
      "source": [
        "# Veamos el valor del máximo tirador\n",
        "df[df.Shots == 996]"
      ],
      "metadata": {
        "colab": {
          "base_uri": "https://localhost:8080/",
          "height": 214
        },
        "id": "5M40SucbC_Ju",
        "outputId": "8535b915-a66e-430c-b897-c89fa3428bee"
      },
      "execution_count": null,
      "outputs": [
        {
          "output_type": "execute_result",
          "data": {
            "text/plain": [
              "              Name  Jersey Number             Club Position Nationality   Age  \\\n",
              "344  Sergio Agüero          10.00  Manchester-City  Forward   Argentina 32.00   \n",
              "\n",
              "     Appearances  Wins  Losses  Goals  Goals per match  Headed goals  \\\n",
              "344          263   177      44    180             0.68         18.00   \n",
              "\n",
              "     Goals with right foot  Goals with left foot  Penalties scored  \\\n",
              "344                 127.00                 34.00             26.00   \n",
              "\n",
              "     Freekicks scored  Shots  Shots on target Shooting accuracy %  \\\n",
              "344              0.00 996.00           411.00                 41%   \n",
              "\n",
              "     Hit woodwork  Big chances missed  Clean sheets  Goals conceded  Tackles  \\\n",
              "344         34.00              126.00           NaN             NaN   150.00   \n",
              "\n",
              "    Tackle success %  Last man tackles  Blocked shots  Interceptions  \\\n",
              "344              NaN               NaN         230.00          73.00   \n",
              "\n",
              "     Clearances  Headed Clearance  Clearances off line  Recoveries  Duels won  \\\n",
              "344       14.00              3.00                  NaN         NaN        NaN   \n",
              "\n",
              "     Duels lost  Successful 50/50s  Aerial battles won  Aerial battles lost  \\\n",
              "344         NaN                NaN                 NaN                  NaN   \n",
              "\n",
              "     Own goals  Errors leading to goal  Assists  Passes  Passes per match  \\\n",
              "344        NaN                     NaN       46    6134             23.32   \n",
              "\n",
              "     Big chances created  Crosses Cross accuracy %  Through balls  \\\n",
              "344                59.00   176.00              NaN            NaN   \n",
              "\n",
              "     Accurate long balls  Saves  Yellow cards  Red cards  Fouls  Offsides  \\\n",
              "344                  NaN    NaN            23          1    167    194.00   \n",
              "\n",
              "     Goals per match 2  \n",
              "344               0.68  "
            ],
            "text/html": [
              "\n",
              "  <div id=\"df-20f16241-389d-4c7e-9922-25e7de1bc77a\">\n",
              "    <div class=\"colab-df-container\">\n",
              "      <div>\n",
              "<style scoped>\n",
              "    .dataframe tbody tr th:only-of-type {\n",
              "        vertical-align: middle;\n",
              "    }\n",
              "\n",
              "    .dataframe tbody tr th {\n",
              "        vertical-align: top;\n",
              "    }\n",
              "\n",
              "    .dataframe thead th {\n",
              "        text-align: right;\n",
              "    }\n",
              "</style>\n",
              "<table border=\"1\" class=\"dataframe\">\n",
              "  <thead>\n",
              "    <tr style=\"text-align: right;\">\n",
              "      <th></th>\n",
              "      <th>Name</th>\n",
              "      <th>Jersey Number</th>\n",
              "      <th>Club</th>\n",
              "      <th>Position</th>\n",
              "      <th>Nationality</th>\n",
              "      <th>Age</th>\n",
              "      <th>Appearances</th>\n",
              "      <th>Wins</th>\n",
              "      <th>Losses</th>\n",
              "      <th>Goals</th>\n",
              "      <th>Goals per match</th>\n",
              "      <th>Headed goals</th>\n",
              "      <th>Goals with right foot</th>\n",
              "      <th>Goals with left foot</th>\n",
              "      <th>Penalties scored</th>\n",
              "      <th>Freekicks scored</th>\n",
              "      <th>Shots</th>\n",
              "      <th>Shots on target</th>\n",
              "      <th>Shooting accuracy %</th>\n",
              "      <th>Hit woodwork</th>\n",
              "      <th>Big chances missed</th>\n",
              "      <th>Clean sheets</th>\n",
              "      <th>Goals conceded</th>\n",
              "      <th>Tackles</th>\n",
              "      <th>Tackle success %</th>\n",
              "      <th>Last man tackles</th>\n",
              "      <th>Blocked shots</th>\n",
              "      <th>Interceptions</th>\n",
              "      <th>Clearances</th>\n",
              "      <th>Headed Clearance</th>\n",
              "      <th>Clearances off line</th>\n",
              "      <th>Recoveries</th>\n",
              "      <th>Duels won</th>\n",
              "      <th>Duels lost</th>\n",
              "      <th>Successful 50/50s</th>\n",
              "      <th>Aerial battles won</th>\n",
              "      <th>Aerial battles lost</th>\n",
              "      <th>Own goals</th>\n",
              "      <th>Errors leading to goal</th>\n",
              "      <th>Assists</th>\n",
              "      <th>Passes</th>\n",
              "      <th>Passes per match</th>\n",
              "      <th>Big chances created</th>\n",
              "      <th>Crosses</th>\n",
              "      <th>Cross accuracy %</th>\n",
              "      <th>Through balls</th>\n",
              "      <th>Accurate long balls</th>\n",
              "      <th>Saves</th>\n",
              "      <th>Yellow cards</th>\n",
              "      <th>Red cards</th>\n",
              "      <th>Fouls</th>\n",
              "      <th>Offsides</th>\n",
              "      <th>Goals per match 2</th>\n",
              "    </tr>\n",
              "  </thead>\n",
              "  <tbody>\n",
              "    <tr>\n",
              "      <th>344</th>\n",
              "      <td>Sergio Agüero</td>\n",
              "      <td>10.00</td>\n",
              "      <td>Manchester-City</td>\n",
              "      <td>Forward</td>\n",
              "      <td>Argentina</td>\n",
              "      <td>32.00</td>\n",
              "      <td>263</td>\n",
              "      <td>177</td>\n",
              "      <td>44</td>\n",
              "      <td>180</td>\n",
              "      <td>0.68</td>\n",
              "      <td>18.00</td>\n",
              "      <td>127.00</td>\n",
              "      <td>34.00</td>\n",
              "      <td>26.00</td>\n",
              "      <td>0.00</td>\n",
              "      <td>996.00</td>\n",
              "      <td>411.00</td>\n",
              "      <td>41%</td>\n",
              "      <td>34.00</td>\n",
              "      <td>126.00</td>\n",
              "      <td>NaN</td>\n",
              "      <td>NaN</td>\n",
              "      <td>150.00</td>\n",
              "      <td>NaN</td>\n",
              "      <td>NaN</td>\n",
              "      <td>230.00</td>\n",
              "      <td>73.00</td>\n",
              "      <td>14.00</td>\n",
              "      <td>3.00</td>\n",
              "      <td>NaN</td>\n",
              "      <td>NaN</td>\n",
              "      <td>NaN</td>\n",
              "      <td>NaN</td>\n",
              "      <td>NaN</td>\n",
              "      <td>NaN</td>\n",
              "      <td>NaN</td>\n",
              "      <td>NaN</td>\n",
              "      <td>NaN</td>\n",
              "      <td>46</td>\n",
              "      <td>6134</td>\n",
              "      <td>23.32</td>\n",
              "      <td>59.00</td>\n",
              "      <td>176.00</td>\n",
              "      <td>NaN</td>\n",
              "      <td>NaN</td>\n",
              "      <td>NaN</td>\n",
              "      <td>NaN</td>\n",
              "      <td>23</td>\n",
              "      <td>1</td>\n",
              "      <td>167</td>\n",
              "      <td>194.00</td>\n",
              "      <td>0.68</td>\n",
              "    </tr>\n",
              "  </tbody>\n",
              "</table>\n",
              "</div>\n",
              "      <button class=\"colab-df-convert\" onclick=\"convertToInteractive('df-20f16241-389d-4c7e-9922-25e7de1bc77a')\"\n",
              "              title=\"Convert this dataframe to an interactive table.\"\n",
              "              style=\"display:none;\">\n",
              "        \n",
              "  <svg xmlns=\"http://www.w3.org/2000/svg\" height=\"24px\"viewBox=\"0 0 24 24\"\n",
              "       width=\"24px\">\n",
              "    <path d=\"M0 0h24v24H0V0z\" fill=\"none\"/>\n",
              "    <path d=\"M18.56 5.44l.94 2.06.94-2.06 2.06-.94-2.06-.94-.94-2.06-.94 2.06-2.06.94zm-11 1L8.5 8.5l.94-2.06 2.06-.94-2.06-.94L8.5 2.5l-.94 2.06-2.06.94zm10 10l.94 2.06.94-2.06 2.06-.94-2.06-.94-.94-2.06-.94 2.06-2.06.94z\"/><path d=\"M17.41 7.96l-1.37-1.37c-.4-.4-.92-.59-1.43-.59-.52 0-1.04.2-1.43.59L10.3 9.45l-7.72 7.72c-.78.78-.78 2.05 0 2.83L4 21.41c.39.39.9.59 1.41.59.51 0 1.02-.2 1.41-.59l7.78-7.78 2.81-2.81c.8-.78.8-2.07 0-2.86zM5.41 20L4 18.59l7.72-7.72 1.47 1.35L5.41 20z\"/>\n",
              "  </svg>\n",
              "      </button>\n",
              "      \n",
              "  <style>\n",
              "    .colab-df-container {\n",
              "      display:flex;\n",
              "      flex-wrap:wrap;\n",
              "      gap: 12px;\n",
              "    }\n",
              "\n",
              "    .colab-df-convert {\n",
              "      background-color: #E8F0FE;\n",
              "      border: none;\n",
              "      border-radius: 50%;\n",
              "      cursor: pointer;\n",
              "      display: none;\n",
              "      fill: #1967D2;\n",
              "      height: 32px;\n",
              "      padding: 0 0 0 0;\n",
              "      width: 32px;\n",
              "    }\n",
              "\n",
              "    .colab-df-convert:hover {\n",
              "      background-color: #E2EBFA;\n",
              "      box-shadow: 0px 1px 2px rgba(60, 64, 67, 0.3), 0px 1px 3px 1px rgba(60, 64, 67, 0.15);\n",
              "      fill: #174EA6;\n",
              "    }\n",
              "\n",
              "    [theme=dark] .colab-df-convert {\n",
              "      background-color: #3B4455;\n",
              "      fill: #D2E3FC;\n",
              "    }\n",
              "\n",
              "    [theme=dark] .colab-df-convert:hover {\n",
              "      background-color: #434B5C;\n",
              "      box-shadow: 0px 1px 3px 1px rgba(0, 0, 0, 0.15);\n",
              "      filter: drop-shadow(0px 1px 2px rgba(0, 0, 0, 0.3));\n",
              "      fill: #FFFFFF;\n",
              "    }\n",
              "  </style>\n",
              "\n",
              "      <script>\n",
              "        const buttonEl =\n",
              "          document.querySelector('#df-20f16241-389d-4c7e-9922-25e7de1bc77a button.colab-df-convert');\n",
              "        buttonEl.style.display =\n",
              "          google.colab.kernel.accessAllowed ? 'block' : 'none';\n",
              "\n",
              "        async function convertToInteractive(key) {\n",
              "          const element = document.querySelector('#df-20f16241-389d-4c7e-9922-25e7de1bc77a');\n",
              "          const dataTable =\n",
              "            await google.colab.kernel.invokeFunction('convertToInteractive',\n",
              "                                                     [key], {});\n",
              "          if (!dataTable) return;\n",
              "\n",
              "          const docLinkHtml = 'Like what you see? Visit the ' +\n",
              "            '<a target=\"_blank\" href=https://colab.research.google.com/notebooks/data_table.ipynb>data table notebook</a>'\n",
              "            + ' to learn more about interactive tables.';\n",
              "          element.innerHTML = '';\n",
              "          dataTable['output_type'] = 'display_data';\n",
              "          await google.colab.output.renderOutput(dataTable, element);\n",
              "          const docLink = document.createElement('div');\n",
              "          docLink.innerHTML = docLinkHtml;\n",
              "          element.appendChild(docLink);\n",
              "        }\n",
              "      </script>\n",
              "    </div>\n",
              "  </div>\n",
              "  "
            ]
          },
          "metadata": {},
          "execution_count": 23
        }
      ]
    },
    {
      "cell_type": "markdown",
      "source": [
        "Vamos a usar la mediana para todas las posiciones menos para los arqueros (*Goalkeeper*) a quienes les inputaremos un 0."
      ],
      "metadata": {
        "id": "1EPfuJ_3EiOr"
      }
    },
    {
      "cell_type": "code",
      "source": [
        "df.loc[(df.Position == 'Goalkeeper') & (df.Shots.isnull()), 'Shots'] = 0"
      ],
      "metadata": {
        "id": "3X0PYdJqTw6-"
      },
      "execution_count": null,
      "outputs": []
    },
    {
      "cell_type": "code",
      "source": [
        "df.groupby('Position').agg({'Shots': ['mean', 'median', 'min', 'max']})"
      ],
      "metadata": {
        "colab": {
          "base_uri": "https://localhost:8080/",
          "height": 237
        },
        "id": "K76mJu2Y0fBQ",
        "outputId": "a3992a71-588e-4944-ecb8-4c005ed38fdd"
      },
      "execution_count": null,
      "outputs": [
        {
          "output_type": "execute_result",
          "data": {
            "text/plain": [
              "            Shots                   \n",
              "             mean median  min    max\n",
              "Position                            \n",
              "Defender    16.33  20.00 1.00  28.00\n",
              "Forward    162.29  71.00 0.00 996.00\n",
              "Goalkeeper   0.00   0.00 0.00   0.00\n",
              "Midfielder  86.56  44.50 0.00 603.00"
            ],
            "text/html": [
              "\n",
              "  <div id=\"df-06090294-a40e-4c75-9696-c6c0fc056b00\">\n",
              "    <div class=\"colab-df-container\">\n",
              "      <div>\n",
              "<style scoped>\n",
              "    .dataframe tbody tr th:only-of-type {\n",
              "        vertical-align: middle;\n",
              "    }\n",
              "\n",
              "    .dataframe tbody tr th {\n",
              "        vertical-align: top;\n",
              "    }\n",
              "\n",
              "    .dataframe thead tr th {\n",
              "        text-align: left;\n",
              "    }\n",
              "\n",
              "    .dataframe thead tr:last-of-type th {\n",
              "        text-align: right;\n",
              "    }\n",
              "</style>\n",
              "<table border=\"1\" class=\"dataframe\">\n",
              "  <thead>\n",
              "    <tr>\n",
              "      <th></th>\n",
              "      <th colspan=\"4\" halign=\"left\">Shots</th>\n",
              "    </tr>\n",
              "    <tr>\n",
              "      <th></th>\n",
              "      <th>mean</th>\n",
              "      <th>median</th>\n",
              "      <th>min</th>\n",
              "      <th>max</th>\n",
              "    </tr>\n",
              "    <tr>\n",
              "      <th>Position</th>\n",
              "      <th></th>\n",
              "      <th></th>\n",
              "      <th></th>\n",
              "      <th></th>\n",
              "    </tr>\n",
              "  </thead>\n",
              "  <tbody>\n",
              "    <tr>\n",
              "      <th>Defender</th>\n",
              "      <td>16.33</td>\n",
              "      <td>20.00</td>\n",
              "      <td>1.00</td>\n",
              "      <td>28.00</td>\n",
              "    </tr>\n",
              "    <tr>\n",
              "      <th>Forward</th>\n",
              "      <td>162.29</td>\n",
              "      <td>71.00</td>\n",
              "      <td>0.00</td>\n",
              "      <td>996.00</td>\n",
              "    </tr>\n",
              "    <tr>\n",
              "      <th>Goalkeeper</th>\n",
              "      <td>0.00</td>\n",
              "      <td>0.00</td>\n",
              "      <td>0.00</td>\n",
              "      <td>0.00</td>\n",
              "    </tr>\n",
              "    <tr>\n",
              "      <th>Midfielder</th>\n",
              "      <td>86.56</td>\n",
              "      <td>44.50</td>\n",
              "      <td>0.00</td>\n",
              "      <td>603.00</td>\n",
              "    </tr>\n",
              "  </tbody>\n",
              "</table>\n",
              "</div>\n",
              "      <button class=\"colab-df-convert\" onclick=\"convertToInteractive('df-06090294-a40e-4c75-9696-c6c0fc056b00')\"\n",
              "              title=\"Convert this dataframe to an interactive table.\"\n",
              "              style=\"display:none;\">\n",
              "        \n",
              "  <svg xmlns=\"http://www.w3.org/2000/svg\" height=\"24px\"viewBox=\"0 0 24 24\"\n",
              "       width=\"24px\">\n",
              "    <path d=\"M0 0h24v24H0V0z\" fill=\"none\"/>\n",
              "    <path d=\"M18.56 5.44l.94 2.06.94-2.06 2.06-.94-2.06-.94-.94-2.06-.94 2.06-2.06.94zm-11 1L8.5 8.5l.94-2.06 2.06-.94-2.06-.94L8.5 2.5l-.94 2.06-2.06.94zm10 10l.94 2.06.94-2.06 2.06-.94-2.06-.94-.94-2.06-.94 2.06-2.06.94z\"/><path d=\"M17.41 7.96l-1.37-1.37c-.4-.4-.92-.59-1.43-.59-.52 0-1.04.2-1.43.59L10.3 9.45l-7.72 7.72c-.78.78-.78 2.05 0 2.83L4 21.41c.39.39.9.59 1.41.59.51 0 1.02-.2 1.41-.59l7.78-7.78 2.81-2.81c.8-.78.8-2.07 0-2.86zM5.41 20L4 18.59l7.72-7.72 1.47 1.35L5.41 20z\"/>\n",
              "  </svg>\n",
              "      </button>\n",
              "      \n",
              "  <style>\n",
              "    .colab-df-container {\n",
              "      display:flex;\n",
              "      flex-wrap:wrap;\n",
              "      gap: 12px;\n",
              "    }\n",
              "\n",
              "    .colab-df-convert {\n",
              "      background-color: #E8F0FE;\n",
              "      border: none;\n",
              "      border-radius: 50%;\n",
              "      cursor: pointer;\n",
              "      display: none;\n",
              "      fill: #1967D2;\n",
              "      height: 32px;\n",
              "      padding: 0 0 0 0;\n",
              "      width: 32px;\n",
              "    }\n",
              "\n",
              "    .colab-df-convert:hover {\n",
              "      background-color: #E2EBFA;\n",
              "      box-shadow: 0px 1px 2px rgba(60, 64, 67, 0.3), 0px 1px 3px 1px rgba(60, 64, 67, 0.15);\n",
              "      fill: #174EA6;\n",
              "    }\n",
              "\n",
              "    [theme=dark] .colab-df-convert {\n",
              "      background-color: #3B4455;\n",
              "      fill: #D2E3FC;\n",
              "    }\n",
              "\n",
              "    [theme=dark] .colab-df-convert:hover {\n",
              "      background-color: #434B5C;\n",
              "      box-shadow: 0px 1px 3px 1px rgba(0, 0, 0, 0.15);\n",
              "      filter: drop-shadow(0px 1px 2px rgba(0, 0, 0, 0.3));\n",
              "      fill: #FFFFFF;\n",
              "    }\n",
              "  </style>\n",
              "\n",
              "      <script>\n",
              "        const buttonEl =\n",
              "          document.querySelector('#df-06090294-a40e-4c75-9696-c6c0fc056b00 button.colab-df-convert');\n",
              "        buttonEl.style.display =\n",
              "          google.colab.kernel.accessAllowed ? 'block' : 'none';\n",
              "\n",
              "        async function convertToInteractive(key) {\n",
              "          const element = document.querySelector('#df-06090294-a40e-4c75-9696-c6c0fc056b00');\n",
              "          const dataTable =\n",
              "            await google.colab.kernel.invokeFunction('convertToInteractive',\n",
              "                                                     [key], {});\n",
              "          if (!dataTable) return;\n",
              "\n",
              "          const docLinkHtml = 'Like what you see? Visit the ' +\n",
              "            '<a target=\"_blank\" href=https://colab.research.google.com/notebooks/data_table.ipynb>data table notebook</a>'\n",
              "            + ' to learn more about interactive tables.';\n",
              "          element.innerHTML = '';\n",
              "          dataTable['output_type'] = 'display_data';\n",
              "          await google.colab.output.renderOutput(dataTable, element);\n",
              "          const docLink = document.createElement('div');\n",
              "          docLink.innerHTML = docLinkHtml;\n",
              "          element.appendChild(docLink);\n",
              "        }\n",
              "      </script>\n",
              "    </div>\n",
              "  </div>\n",
              "  "
            ]
          },
          "metadata": {},
          "execution_count": 25
        }
      ]
    },
    {
      "cell_type": "code",
      "metadata": {
        "id": "cJkpGLhlGF-a"
      },
      "source": [
        "df['Shots'].fillna(df.groupby('Position')['Shots'].transform('median'), inplace=True)"
      ],
      "execution_count": null,
      "outputs": []
    },
    {
      "cell_type": "markdown",
      "source": [
        "Verificamos si resolvimos los faltantes."
      ],
      "metadata": {
        "id": "BGUjlcVkWWPb"
      }
    },
    {
      "cell_type": "code",
      "metadata": {
        "id": "CDX-KmaK-19b",
        "colab": {
          "base_uri": "https://localhost:8080/"
        },
        "outputId": "8003a680-7fda-404a-e97d-835283eff83c"
      },
      "source": [
        "porcentaje_faltantes = df.isnull().sum()/df.shape[0]\n",
        "porcentaje_faltantes"
      ],
      "execution_count": null,
      "outputs": [
        {
          "output_type": "execute_result",
          "data": {
            "text/plain": [
              "Name                     0.00\n",
              "Jersey Number            0.01\n",
              "Club                     0.00\n",
              "Position                 0.00\n",
              "Nationality              0.00\n",
              "Age                      0.00\n",
              "Appearances              0.00\n",
              "Wins                     0.00\n",
              "Losses                   0.00\n",
              "Goals                    0.00\n",
              "Goals per match          0.42\n",
              "Headed goals             0.10\n",
              "Goals with right foot    0.10\n",
              "Goals with left foot     0.10\n",
              "Penalties scored         0.42\n",
              "Freekicks scored         0.42\n",
              "Shots                    0.00\n",
              "Shots on target          0.42\n",
              "Shooting accuracy %      0.42\n",
              "Hit woodwork             0.10\n",
              "Big chances missed       0.42\n",
              "Clean sheets             0.58\n",
              "Goals conceded           0.58\n",
              "Tackles                  0.10\n",
              "Tackle success %         0.31\n",
              "Last man tackles         0.68\n",
              "Blocked shots            0.10\n",
              "Interceptions            0.10\n",
              "Clearances               0.10\n",
              "Headed Clearance         0.10\n",
              "Clearances off line      0.68\n",
              "Recoveries               0.31\n",
              "Duels won                0.31\n",
              "Duels lost               0.31\n",
              "Successful 50/50s        0.31\n",
              "Aerial battles won       0.31\n",
              "Aerial battles lost      0.31\n",
              "Own goals                0.58\n",
              "Errors leading to goal   0.21\n",
              "Assists                  0.00\n",
              "Passes                   0.00\n",
              "Passes per match         0.00\n",
              "Big chances created      0.10\n",
              "Crosses                  0.10\n",
              "Cross accuracy %         0.31\n",
              "Through balls            0.31\n",
              "Accurate long balls      0.21\n",
              "Saves                    0.90\n",
              "Yellow cards             0.00\n",
              "Red cards                0.00\n",
              "Fouls                    0.00\n",
              "Offsides                 0.10\n",
              "Goals per match 2        0.00\n",
              "dtype: float64"
            ]
          },
          "metadata": {},
          "execution_count": 27
        }
      ]
    },
    {
      "cell_type": "markdown",
      "source": [
        "# 3.- Feature Engineering\n",
        "\n",
        "\n"
      ],
      "metadata": {
        "id": "YqMTzGPUQRaE"
      }
    },
    {
      "cell_type": "markdown",
      "source": [
        "## 3.1.- Discretizacion\n",
        "\n",
        "- Crear variables discretizando:\n",
        "  - victorias(*Wins*): armar intervalos de igual ancho y de igual frecuencia y comparar\n",
        "  - pases: discretizar por deciles \n",
        "\n",
        "**Victorias**\n",
        "\n",
        "Empezamos binarizando por *igual ancho* de intervalo"
      ],
      "metadata": {
        "id": "Ty7Tp2t4Zdbw"
      }
    },
    {
      "cell_type": "code",
      "source": [
        "df['wins_bin_1'] = pd.cut(x=df.Wins, bins=10)\n",
        "\n",
        "# Guardamos los bins para comparar \n",
        "_ , bins_igual_ancho = pd.cut(x=df.Wins, bins=10, retbins=True)"
      ],
      "metadata": {
        "id": "-zBm-NWsYfYI"
      },
      "execution_count": null,
      "outputs": []
    },
    {
      "cell_type": "code",
      "source": [
        "bins_igual_ancho"
      ],
      "metadata": {
        "colab": {
          "base_uri": "https://localhost:8080/"
        },
        "id": "eJVD1FujG-Nc",
        "outputId": "b131a6ea-7135-45bc-8ad7-1169fc482e0a"
      },
      "execution_count": null,
      "outputs": [
        {
          "output_type": "execute_result",
          "data": {
            "text/plain": [
              "array([ -0.272,  27.2  ,  54.4  ,  81.6  , 108.8  , 136.   , 163.2  ,\n",
              "       190.4  , 217.6  , 244.8  , 272.   ])"
            ]
          },
          "metadata": {},
          "execution_count": 29
        }
      ]
    },
    {
      "cell_type": "markdown",
      "source": [
        "Ahora construimos los intervalos de igual *frecuencia*."
      ],
      "metadata": {
        "id": "iamLe6fTCFeE"
      }
    },
    {
      "cell_type": "code",
      "source": [
        "df['wins_bin_2'] = pd.qcut(x=df.Wins, q=10,duplicates='drop')\n",
        "\n",
        "# Guardamos los bins para comparar \n",
        "_ , bins_igual_frecuencia = pd.qcut(x=df.Wins, q=10, duplicates='drop', retbins=True)"
      ],
      "metadata": {
        "id": "CdTRfnO6Yfbd"
      },
      "execution_count": null,
      "outputs": []
    },
    {
      "cell_type": "code",
      "source": [
        "bins_igual_frecuencia"
      ],
      "metadata": {
        "colab": {
          "base_uri": "https://localhost:8080/"
        },
        "id": "CvkOd1fwHAPM",
        "outputId": "447de7c1-67ad-4b29-e637-f40750a5f954"
      },
      "execution_count": null,
      "outputs": [
        {
          "output_type": "execute_result",
          "data": {
            "text/plain": [
              "array([  0.,   1.,   4.,   8.,  12.,  20.,  28.,  41.,  57.,  91., 272.])"
            ]
          },
          "metadata": {},
          "execution_count": 31
        }
      ]
    },
    {
      "cell_type": "markdown",
      "source": [
        "Vamos a comparar los las binarizaciones graficamente:"
      ],
      "metadata": {
        "id": "ErF47f5yCt3Z"
      }
    },
    {
      "cell_type": "code",
      "source": [
        "# binarizacion por ANCHO\n",
        "grp_1 = df.groupby(by='wins_bin_1', as_index=False).agg(func={'Name':'count'})\n",
        "grp_1.columns = ['wins_bin_1', 'count']\n",
        "sns.barplot(x=\"wins_bin_1\", y=\"count\", data=grp_1)\n",
        "plt.xticks(rotation=45)"
      ],
      "metadata": {
        "colab": {
          "base_uri": "https://localhost:8080/",
          "height": 363
        },
        "id": "758J30T9IFrn",
        "outputId": "56489084-5af1-4a6f-e1b2-fe774a637b62"
      },
      "execution_count": null,
      "outputs": [
        {
          "output_type": "execute_result",
          "data": {
            "text/plain": [
              "(array([0, 1, 2, 3, 4, 5, 6, 7, 8, 9]),\n",
              " <a list of 10 Text major ticklabel objects>)"
            ]
          },
          "metadata": {},
          "execution_count": 30
        },
        {
          "output_type": "display_data",
          "data": {
            "text/plain": [
              "<Figure size 432x288 with 1 Axes>"
            ],
            "image/png": "[encoded data removed]"
          },
          "metadata": {
            "needs_background": "light"
          }
        }
      ]
    },
    {
      "cell_type": "code",
      "source": [
        "# binarizacion por FRECUENCIA\n",
        "grp_2 = df.groupby(by='wins_bin_2', as_index=False).agg(func={'Name':'count'})\n",
        "grp_2.columns = ['wins_bin_2', 'count']\n",
        "sns.barplot(x=\"wins_bin_2\", y=\"count\", data=grp_2)\n",
        "plt.xticks(rotation=45)"
      ],
      "metadata": {
        "colab": {
          "base_uri": "https://localhost:8080/",
          "height": 358
        },
        "id": "yIVr1PYPIA7W",
        "outputId": "63f46b90-f3b5-4580-fa52-54fdbe3bfc02"
      },
      "execution_count": null,
      "outputs": [
        {
          "output_type": "execute_result",
          "data": {
            "text/plain": [
              "(array([0, 1, 2, 3, 4, 5, 6, 7, 8, 9]),\n",
              " <a list of 10 Text major ticklabel objects>)"
            ]
          },
          "metadata": {},
          "execution_count": 31
        },
        {
          "output_type": "display_data",
          "data": {
            "text/plain": [
              "<Figure size 432x288 with 1 Axes>"
            ],
            "image/png": "[encoded data removed]"
          },
          "metadata": {
            "needs_background": "light"
          }
        }
      ]
    },
    {
      "cell_type": "markdown",
      "source": [
        "Los intervalos de igual ancho se encuentran definidos por aproximadamente 27 victorias pero tienen una cantidad variable de observaciones. \n",
        "\n",
        "Los intervalos de igual frecuencia (en este caso deciles) tienen una longitud variable, pero en cada uno de ellos se encuentra aproximadamente el 10% de los jugadores\n",
        "\n",
        "\n",
        "Vamos a discretizar ahora la variable de pases (*Passes*) en cuartiles."
      ],
      "metadata": {
        "id": "7lQkchq0F1Bc"
      }
    },
    {
      "cell_type": "code",
      "source": [
        "df['passes_bin'] = pd.qcut(x=df.Passes, q=4, duplicates='drop')\n",
        "_ , bins_passes = pd.qcut(x=df.Passes, q=4, duplicates='drop', retbins=True)"
      ],
      "metadata": {
        "id": "y-psFaWxF0J8"
      },
      "execution_count": null,
      "outputs": []
    },
    {
      "cell_type": "code",
      "source": [
        "bins_passes"
      ],
      "metadata": {
        "colab": {
          "base_uri": "https://localhost:8080/"
        },
        "id": "AxP9ykfmXF1k",
        "outputId": "f24055fb-249e-450e-a597-8d7e91c7fc6b"
      },
      "execution_count": null,
      "outputs": [
        {
          "output_type": "execute_result",
          "data": {
            "text/plain": [
              "array([    0.,   357.,  1530.,  4019., 17932.])"
            ]
          },
          "metadata": {},
          "execution_count": 33
        }
      ]
    },
    {
      "cell_type": "markdown",
      "source": [
        "## 3.2.- Reescalamiento\n",
        "\n",
        "Vamos a analizar los perfiles de las posiciones de los jugadores basandonos en la cantidad de goles pases. Vamos a dejar afuera a los arqueros"
      ],
      "metadata": {
        "id": "AcUpcHS6ZjVV"
      }
    },
    {
      "cell_type": "code",
      "source": [
        "sub_df = df[df.Position != 'Goalkeeper'][['Name', 'Position', 'Goals', 'Interceptions', 'Assists', 'Passes']]\n",
        "sub_df.describe()"
      ],
      "metadata": {
        "colab": {
          "base_uri": "https://localhost:8080/",
          "height": 300
        },
        "id": "-BqTCdD_bac_",
        "outputId": "132ecb47-30cc-4e8d-ecb5-b790a123072c"
      },
      "execution_count": null,
      "outputs": [
        {
          "output_type": "execute_result",
          "data": {
            "text/plain": [
              "       Goals  Interceptions  Assists   Passes\n",
              "count 435.00         435.00   435.00   435.00\n",
              "mean    9.62          83.97     6.91  2824.85\n",
              "std    18.68         113.20    10.68  3319.72\n",
              "min     0.00           0.00     0.00     1.00\n",
              "25%     0.00           8.00     0.00   358.00\n",
              "50%     3.00          37.00     3.00  1559.00\n",
              "75%     9.00         113.50     9.00  4291.00\n",
              "max   180.00         618.00    84.00 17932.00"
            ],
            "text/html": [
              "\n",
              "  <div id=\"df-00c8a2b0-6e8e-4d6a-ad90-ddc85a058b03\">\n",
              "    <div class=\"colab-df-container\">\n",
              "      <div>\n",
              "<style scoped>\n",
              "    .dataframe tbody tr th:only-of-type {\n",
              "        vertical-align: middle;\n",
              "    }\n",
              "\n",
              "    .dataframe tbody tr th {\n",
              "        vertical-align: top;\n",
              "    }\n",
              "\n",
              "    .dataframe thead th {\n",
              "        text-align: right;\n",
              "    }\n",
              "</style>\n",
              "<table border=\"1\" class=\"dataframe\">\n",
              "  <thead>\n",
              "    <tr style=\"text-align: right;\">\n",
              "      <th></th>\n",
              "      <th>Goals</th>\n",
              "      <th>Interceptions</th>\n",
              "      <th>Assists</th>\n",
              "      <th>Passes</th>\n",
              "    </tr>\n",
              "  </thead>\n",
              "  <tbody>\n",
              "    <tr>\n",
              "      <th>count</th>\n",
              "      <td>435.00</td>\n",
              "      <td>435.00</td>\n",
              "      <td>435.00</td>\n",
              "      <td>435.00</td>\n",
              "    </tr>\n",
              "    <tr>\n",
              "      <th>mean</th>\n",
              "      <td>9.62</td>\n",
              "      <td>83.97</td>\n",
              "      <td>6.91</td>\n",
              "      <td>2824.85</td>\n",
              "    </tr>\n",
              "    <tr>\n",
              "      <th>std</th>\n",
              "      <td>18.68</td>\n",
              "      <td>113.20</td>\n",
              "      <td>10.68</td>\n",
              "      <td>3319.72</td>\n",
              "    </tr>\n",
              "    <tr>\n",
              "      <th>min</th>\n",
              "      <td>0.00</td>\n",
              "      <td>0.00</td>\n",
              "      <td>0.00</td>\n",
              "      <td>1.00</td>\n",
              "    </tr>\n",
              "    <tr>\n",
              "      <th>25%</th>\n",
              "      <td>0.00</td>\n",
              "      <td>8.00</td>\n",
              "      <td>0.00</td>\n",
              "      <td>358.00</td>\n",
              "    </tr>\n",
              "    <tr>\n",
              "      <th>50%</th>\n",
              "      <td>3.00</td>\n",
              "      <td>37.00</td>\n",
              "      <td>3.00</td>\n",
              "      <td>1559.00</td>\n",
              "    </tr>\n",
              "    <tr>\n",
              "      <th>75%</th>\n",
              "      <td>9.00</td>\n",
              "      <td>113.50</td>\n",
              "      <td>9.00</td>\n",
              "      <td>4291.00</td>\n",
              "    </tr>\n",
              "    <tr>\n",
              "      <th>max</th>\n",
              "      <td>180.00</td>\n",
              "      <td>618.00</td>\n",
              "      <td>84.00</td>\n",
              "      <td>17932.00</td>\n",
              "    </tr>\n",
              "  </tbody>\n",
              "</table>\n",
              "</div>\n",
              "      <button class=\"colab-df-convert\" onclick=\"convertToInteractive('df-00c8a2b0-6e8e-4d6a-ad90-ddc85a058b03')\"\n",
              "              title=\"Convert this dataframe to an interactive table.\"\n",
              "              style=\"display:none;\">\n",
              "        \n",
              "  <svg xmlns=\"http://www.w3.org/2000/svg\" height=\"24px\"viewBox=\"0 0 24 24\"\n",
              "       width=\"24px\">\n",
              "    <path d=\"M0 0h24v24H0V0z\" fill=\"none\"/>\n",
              "    <path d=\"M18.56 5.44l.94 2.06.94-2.06 2.06-.94-2.06-.94-.94-2.06-.94 2.06-2.06.94zm-11 1L8.5 8.5l.94-2.06 2.06-.94-2.06-.94L8.5 2.5l-.94 2.06-2.06.94zm10 10l.94 2.06.94-2.06 2.06-.94-2.06-.94-.94-2.06-.94 2.06-2.06.94z\"/><path d=\"M17.41 7.96l-1.37-1.37c-.4-.4-.92-.59-1.43-.59-.52 0-1.04.2-1.43.59L10.3 9.45l-7.72 7.72c-.78.78-.78 2.05 0 2.83L4 21.41c.39.39.9.59 1.41.59.51 0 1.02-.2 1.41-.59l7.78-7.78 2.81-2.81c.8-.78.8-2.07 0-2.86zM5.41 20L4 18.59l7.72-7.72 1.47 1.35L5.41 20z\"/>\n",
              "  </svg>\n",
              "      </button>\n",
              "      \n",
              "  <style>\n",
              "    .colab-df-container {\n",
              "      display:flex;\n",
              "      flex-wrap:wrap;\n",
              "      gap: 12px;\n",
              "    }\n",
              "\n",
              "    .colab-df-convert {\n",
              "      background-color: #E8F0FE;\n",
              "      border: none;\n",
              "      border-radius: 50%;\n",
              "      cursor: pointer;\n",
              "      display: none;\n",
              "      fill: #1967D2;\n",
              "      height: 32px;\n",
              "      padding: 0 0 0 0;\n",
              "      width: 32px;\n",
              "    }\n",
              "\n",
              "    .colab-df-convert:hover {\n",
              "      background-color: #E2EBFA;\n",
              "      box-shadow: 0px 1px 2px rgba(60, 64, 67, 0.3), 0px 1px 3px 1px rgba(60, 64, 67, 0.15);\n",
              "      fill: #174EA6;\n",
              "    }\n",
              "\n",
              "    [theme=dark] .colab-df-convert {\n",
              "      background-color: #3B4455;\n",
              "      fill: #D2E3FC;\n",
              "    }\n",
              "\n",
              "    [theme=dark] .colab-df-convert:hover {\n",
              "      background-color: #434B5C;\n",
              "      box-shadow: 0px 1px 3px 1px rgba(0, 0, 0, 0.15);\n",
              "      filter: drop-shadow(0px 1px 2px rgba(0, 0, 0, 0.3));\n",
              "      fill: #FFFFFF;\n",
              "    }\n",
              "  </style>\n",
              "\n",
              "      <script>\n",
              "        const buttonEl =\n",
              "          document.querySelector('#df-00c8a2b0-6e8e-4d6a-ad90-ddc85a058b03 button.colab-df-convert');\n",
              "        buttonEl.style.display =\n",
              "          google.colab.kernel.accessAllowed ? 'block' : 'none';\n",
              "\n",
              "        async function convertToInteractive(key) {\n",
              "          const element = document.querySelector('#df-00c8a2b0-6e8e-4d6a-ad90-ddc85a058b03');\n",
              "          const dataTable =\n",
              "            await google.colab.kernel.invokeFunction('convertToInteractive',\n",
              "                                                     [key], {});\n",
              "          if (!dataTable) return;\n",
              "\n",
              "          const docLinkHtml = 'Like what you see? Visit the ' +\n",
              "            '<a target=\"_blank\" href=https://colab.research.google.com/notebooks/data_table.ipynb>data table notebook</a>'\n",
              "            + ' to learn more about interactive tables.';\n",
              "          element.innerHTML = '';\n",
              "          dataTable['output_type'] = 'display_data';\n",
              "          await google.colab.output.renderOutput(dataTable, element);\n",
              "          const docLink = document.createElement('div');\n",
              "          docLink.innerHTML = docLinkHtml;\n",
              "          element.appendChild(docLink);\n",
              "        }\n",
              "      </script>\n",
              "    </div>\n",
              "  </div>\n",
              "  "
            ]
          },
          "metadata": {},
          "execution_count": 34
        }
      ]
    },
    {
      "cell_type": "code",
      "source": [
        "sns.scatterplot(data=sub_df, x=\"Goals\", y=\"Passes\", hue='Position')"
      ],
      "metadata": {
        "colab": {
          "base_uri": "https://localhost:8080/",
          "height": 296
        },
        "id": "1ieerL04djHN",
        "outputId": "53bcf2d6-830b-4a2a-b797-0ac0591a78d8"
      },
      "execution_count": null,
      "outputs": [
        {
          "output_type": "execute_result",
          "data": {
            "text/plain": [
              "<matplotlib.axes._subplots.AxesSubplot at 0x7fa558afdd90>"
            ]
          },
          "metadata": {},
          "execution_count": 35
        },
        {
          "output_type": "display_data",
          "data": {
            "text/plain": [
              "<Figure size 432x288 with 1 Axes>"
            ],
            "image/png": "[encoded data removed]"
          },
          "metadata": {
            "needs_background": "light"
          }
        }
      ]
    },
    {
      "cell_type": "markdown",
      "source": [
        "Veamos que pasa si re-escalamos las variables"
      ],
      "metadata": {
        "id": "XNHk6mKIhA_W"
      }
    },
    {
      "cell_type": "code",
      "source": [
        "min_goals = sub_df['Goals'].min()\n",
        "max_goals = sub_df['Goals'].max()\n",
        "rango_goals = max_goals - min_goals\n",
        "\n",
        "min_pass = sub_df['Passes'].min()\n",
        "max_pass = sub_df['Passes'].max()\n",
        "rango_pass = max_pass - min_pass"
      ],
      "metadata": {
        "id": "xvlAHDzcd7Wx"
      },
      "execution_count": null,
      "outputs": []
    },
    {
      "cell_type": "code",
      "source": [
        "sub_df['goals_norm'] = (sub_df['Goals'] - min_goals)/ rango_goals\n",
        "sub_df['pass_norm'] = (sub_df['Passes'] - min_pass)/ rango_pass"
      ],
      "metadata": {
        "id": "evSCWjKVYfeb"
      },
      "execution_count": null,
      "outputs": []
    },
    {
      "cell_type": "code",
      "source": [
        "sns.scatterplot(data=sub_df, x=\"goals_norm\", y=\"pass_norm\", hue='Position')"
      ],
      "metadata": {
        "id": "kM4d8g6YYfhs",
        "colab": {
          "base_uri": "https://localhost:8080/",
          "height": 297
        },
        "outputId": "67fd0279-e4c1-47b1-d55d-8f7cbbb45c21"
      },
      "execution_count": null,
      "outputs": [
        {
          "output_type": "execute_result",
          "data": {
            "text/plain": [
              "<matplotlib.axes._subplots.AxesSubplot at 0x7fa558ad9e90>"
            ]
          },
          "metadata": {},
          "execution_count": 38
        },
        {
          "output_type": "display_data",
          "data": {
            "text/plain": [
              "<Figure size 432x288 with 1 Axes>"
            ],
            "image/png": "[encoded data removed]"
          },
          "metadata": {
            "needs_background": "light"
          }
        }
      ]
    },
    {
      "cell_type": "markdown",
      "source": [
        "Como podemos ver, la distribución no ha cambiado pero si los valores de las variables. Ahora todos se encuentran entre cero y uno."
      ],
      "metadata": {
        "id": "F1g2laAMhEt7"
      }
    },
    {
      "cell_type": "markdown",
      "source": [
        "# 4.- Outliers\n",
        "\n",
        "Nuestro objetivo va a ser buscar los mejores jugadores para cada posicion. Lo vamos a hacer buscando a aquellos jugadores excepcionales que se destaquen por una cantidad fuera de lo comun en:\n",
        "- atajadas (*Saves*) para los arqueros\n",
        "- goles (*Goals*) para los delanteros\n",
        "- asistencias (*Assists*) y pases (*Passes*) para los mediocampistas\n",
        "- intercepciones (*Interceptions*) y recuperos (*Recoveries*) para los defensores"
      ],
      "metadata": {
        "id": "u_iFcot1hl3r"
      }
    },
    {
      "cell_type": "code",
      "source": [
        "out_df = df[['Name', 'Position', 'Saves', 'Goals', 'Assists', 'Passes', 'Interceptions', 'Recoveries']]"
      ],
      "metadata": {
        "id": "wHW136yb7-zg"
      },
      "execution_count": null,
      "outputs": []
    },
    {
      "cell_type": "markdown",
      "source": [
        "## 4.1.- Outliers univariados\n",
        "\n",
        "Empezamos por la deteccion de outliers univariados para el caso de los arqueros. Vamos a usar el criterio del boxplot\n"
      ],
      "metadata": {
        "id": "vWEnFDI4jkdp"
      }
    },
    {
      "cell_type": "code",
      "source": [
        "# Función para detectar outliers\n",
        "def detect_outlier(df, variable, posicion, limit):\n",
        "  q1 = np.quantile(df[df.Position == posicion][variable], 0.25)\n",
        "  q3 = np.quantile(df[df.Position == posicion][variable], 0.75)\n",
        "  rango_iq = q3-q1  \n",
        "\n",
        "  jugadores_out = []\n",
        "\n",
        "  for i in df[df.Position == posicion].index:\n",
        "    jugador = out_df.loc[i]\n",
        "    if abs(jugador[variable]) > limit*rango_iq+rango_iq:\n",
        "      jugadores_out.append(jugador.Name)\n",
        "\n",
        "  return jugadores_out"
      ],
      "metadata": {
        "id": "kIT0pRsxhmMJ"
      },
      "execution_count": null,
      "outputs": []
    },
    {
      "cell_type": "markdown",
      "source": [
        "Vemos primero los **arqueros**"
      ],
      "metadata": {
        "id": "nx8X2qmr6nXL"
      }
    },
    {
      "cell_type": "code",
      "source": [
        "arqueros_out_15 = detect_outlier(out_df, 'Saves', 'Goalkeeper', 1.5)\n",
        "arqueros_out_15"
      ],
      "metadata": {
        "colab": {
          "base_uri": "https://localhost:8080/"
        },
        "id": "25Iprt4Q4O70",
        "outputId": "739f1047-3b82-4f28-e12d-622a61c60105"
      },
      "execution_count": null,
      "outputs": [
        {
          "output_type": "execute_result",
          "data": {
            "text/plain": [
              "['David de Gea', 'Joe Hart', 'Lukasz Fabianski']"
            ]
          },
          "metadata": {},
          "execution_count": 41
        }
      ]
    },
    {
      "cell_type": "code",
      "source": [
        "arqueros_out_3 = detect_outlier(out_df, 'Saves', 'Goalkeeper', 3)\n",
        "arqueros_out_3"
      ],
      "metadata": {
        "colab": {
          "base_uri": "https://localhost:8080/"
        },
        "id": "yZ36BM-P4aCF",
        "outputId": "5075fcba-f94f-4716-ff4b-634ce2bfe451"
      },
      "execution_count": null,
      "outputs": [
        {
          "output_type": "execute_result",
          "data": {
            "text/plain": [
              "[]"
            ]
          },
          "metadata": {},
          "execution_count": 42
        }
      ]
    },
    {
      "cell_type": "code",
      "source": [
        "out_df.head()"
      ],
      "metadata": {
        "colab": {
          "base_uri": "https://localhost:8080/",
          "height": 206
        },
        "id": "7b_H2c27FgHf",
        "outputId": "89b61aae-c2e8-48e5-8385-733279f3893d"
      },
      "execution_count": null,
      "outputs": [
        {
          "output_type": "execute_result",
          "data": {
            "text/plain": [
              "              Name    Position  Saves  Goals  Assists  Passes  Interceptions  \\\n",
              "0       Bernd Leno  Goalkeeper 222.00      0        0    1783            NaN   \n",
              "3  Héctor Bellerín    Defender    NaN      7       18    7125         208.00   \n",
              "4   Kieran Tierney    Defender    NaN      1        1     519          12.00   \n",
              "6         Sokratis    Defender    NaN      3        2    2416          43.00   \n",
              "7      Rob Holding    Defender    NaN      0        0    2200          54.00   \n",
              "\n",
              "   Recoveries  \n",
              "0         NaN  \n",
              "3      732.00  \n",
              "4       63.00  \n",
              "6      173.00  \n",
              "7      192.00  "
            ],
            "text/html": [
              "\n",
              "  <div id=\"df-be2a6c21-97fb-4f9e-a676-ff3a7af25bac\">\n",
              "    <div class=\"colab-df-container\">\n",
              "      <div>\n",
              "<style scoped>\n",
              "    .dataframe tbody tr th:only-of-type {\n",
              "        vertical-align: middle;\n",
              "    }\n",
              "\n",
              "    .dataframe tbody tr th {\n",
              "        vertical-align: top;\n",
              "    }\n",
              "\n",
              "    .dataframe thead th {\n",
              "        text-align: right;\n",
              "    }\n",
              "</style>\n",
              "<table border=\"1\" class=\"dataframe\">\n",
              "  <thead>\n",
              "    <tr style=\"text-align: right;\">\n",
              "      <th></th>\n",
              "      <th>Name</th>\n",
              "      <th>Position</th>\n",
              "      <th>Saves</th>\n",
              "      <th>Goals</th>\n",
              "      <th>Assists</th>\n",
              "      <th>Passes</th>\n",
              "      <th>Interceptions</th>\n",
              "      <th>Recoveries</th>\n",
              "    </tr>\n",
              "  </thead>\n",
              "  <tbody>\n",
              "    <tr>\n",
              "      <th>0</th>\n",
              "      <td>Bernd Leno</td>\n",
              "      <td>Goalkeeper</td>\n",
              "      <td>222.00</td>\n",
              "      <td>0</td>\n",
              "      <td>0</td>\n",
              "      <td>1783</td>\n",
              "      <td>NaN</td>\n",
              "      <td>NaN</td>\n",
              "    </tr>\n",
              "    <tr>\n",
              "      <th>3</th>\n",
              "      <td>Héctor Bellerín</td>\n",
              "      <td>Defender</td>\n",
              "      <td>NaN</td>\n",
              "      <td>7</td>\n",
              "      <td>18</td>\n",
              "      <td>7125</td>\n",
              "      <td>208.00</td>\n",
              "      <td>732.00</td>\n",
              "    </tr>\n",
              "    <tr>\n",
              "      <th>4</th>\n",
              "      <td>Kieran Tierney</td>\n",
              "      <td>Defender</td>\n",
              "      <td>NaN</td>\n",
              "      <td>1</td>\n",
              "      <td>1</td>\n",
              "      <td>519</td>\n",
              "      <td>12.00</td>\n",
              "      <td>63.00</td>\n",
              "    </tr>\n",
              "    <tr>\n",
              "      <th>6</th>\n",
              "      <td>Sokratis</td>\n",
              "      <td>Defender</td>\n",
              "      <td>NaN</td>\n",
              "      <td>3</td>\n",
              "      <td>2</td>\n",
              "      <td>2416</td>\n",
              "      <td>43.00</td>\n",
              "      <td>173.00</td>\n",
              "    </tr>\n",
              "    <tr>\n",
              "      <th>7</th>\n",
              "      <td>Rob Holding</td>\n",
              "      <td>Defender</td>\n",
              "      <td>NaN</td>\n",
              "      <td>0</td>\n",
              "      <td>0</td>\n",
              "      <td>2200</td>\n",
              "      <td>54.00</td>\n",
              "      <td>192.00</td>\n",
              "    </tr>\n",
              "  </tbody>\n",
              "</table>\n",
              "</div>\n",
              "      <button class=\"colab-df-convert\" onclick=\"convertToInteractive('df-be2a6c21-97fb-4f9e-a676-ff3a7af25bac')\"\n",
              "              title=\"Convert this dataframe to an interactive table.\"\n",
              "              style=\"display:none;\">\n",
              "        \n",
              "  <svg xmlns=\"http://www.w3.org/2000/svg\" height=\"24px\"viewBox=\"0 0 24 24\"\n",
              "       width=\"24px\">\n",
              "    <path d=\"M0 0h24v24H0V0z\" fill=\"none\"/>\n",
              "    <path d=\"M18.56 5.44l.94 2.06.94-2.06 2.06-.94-2.06-.94-.94-2.06-.94 2.06-2.06.94zm-11 1L8.5 8.5l.94-2.06 2.06-.94-2.06-.94L8.5 2.5l-.94 2.06-2.06.94zm10 10l.94 2.06.94-2.06 2.06-.94-2.06-.94-.94-2.06-.94 2.06-2.06.94z\"/><path d=\"M17.41 7.96l-1.37-1.37c-.4-.4-.92-.59-1.43-.59-.52 0-1.04.2-1.43.59L10.3 9.45l-7.72 7.72c-.78.78-.78 2.05 0 2.83L4 21.41c.39.39.9.59 1.41.59.51 0 1.02-.2 1.41-.59l7.78-7.78 2.81-2.81c.8-.78.8-2.07 0-2.86zM5.41 20L4 18.59l7.72-7.72 1.47 1.35L5.41 20z\"/>\n",
              "  </svg>\n",
              "      </button>\n",
              "      \n",
              "  <style>\n",
              "    .colab-df-container {\n",
              "      display:flex;\n",
              "      flex-wrap:wrap;\n",
              "      gap: 12px;\n",
              "    }\n",
              "\n",
              "    .colab-df-convert {\n",
              "      background-color: #E8F0FE;\n",
              "      border: none;\n",
              "      border-radius: 50%;\n",
              "      cursor: pointer;\n",
              "      display: none;\n",
              "      fill: #1967D2;\n",
              "      height: 32px;\n",
              "      padding: 0 0 0 0;\n",
              "      width: 32px;\n",
              "    }\n",
              "\n",
              "    .colab-df-convert:hover {\n",
              "      background-color: #E2EBFA;\n",
              "      box-shadow: 0px 1px 2px rgba(60, 64, 67, 0.3), 0px 1px 3px 1px rgba(60, 64, 67, 0.15);\n",
              "      fill: #174EA6;\n",
              "    }\n",
              "\n",
              "    [theme=dark] .colab-df-convert {\n",
              "      background-color: #3B4455;\n",
              "      fill: #D2E3FC;\n",
              "    }\n",
              "\n",
              "    [theme=dark] .colab-df-convert:hover {\n",
              "      background-color: #434B5C;\n",
              "      box-shadow: 0px 1px 3px 1px rgba(0, 0, 0, 0.15);\n",
              "      filter: drop-shadow(0px 1px 2px rgba(0, 0, 0, 0.3));\n",
              "      fill: #FFFFFF;\n",
              "    }\n",
              "  </style>\n",
              "\n",
              "      <script>\n",
              "        const buttonEl =\n",
              "          document.querySelector('#df-be2a6c21-97fb-4f9e-a676-ff3a7af25bac button.colab-df-convert');\n",
              "        buttonEl.style.display =\n",
              "          google.colab.kernel.accessAllowed ? 'block' : 'none';\n",
              "\n",
              "        async function convertToInteractive(key) {\n",
              "          const element = document.querySelector('#df-be2a6c21-97fb-4f9e-a676-ff3a7af25bac');\n",
              "          const dataTable =\n",
              "            await google.colab.kernel.invokeFunction('convertToInteractive',\n",
              "                                                     [key], {});\n",
              "          if (!dataTable) return;\n",
              "\n",
              "          const docLinkHtml = 'Like what you see? Visit the ' +\n",
              "            '<a target=\"_blank\" href=https://colab.research.google.com/notebooks/data_table.ipynb>data table notebook</a>'\n",
              "            + ' to learn more about interactive tables.';\n",
              "          element.innerHTML = '';\n",
              "          dataTable['output_type'] = 'display_data';\n",
              "          await google.colab.output.renderOutput(dataTable, element);\n",
              "          const docLink = document.createElement('div');\n",
              "          docLink.innerHTML = docLinkHtml;\n",
              "          element.appendChild(docLink);\n",
              "        }\n",
              "      </script>\n",
              "    </div>\n",
              "  </div>\n",
              "  "
            ]
          },
          "metadata": {},
          "execution_count": 43
        }
      ]
    },
    {
      "cell_type": "code",
      "source": [
        "df[df.Name.isin(arqueros_out_15)][['Name', 'Club', 'Saves']]"
      ],
      "metadata": {
        "colab": {
          "base_uri": "https://localhost:8080/",
          "height": 143
        },
        "id": "1hA2GTZp5reu",
        "outputId": "8955ea43-329a-4b3c-cc79-0b1cebcd0fed"
      },
      "execution_count": null,
      "outputs": [
        {
          "output_type": "execute_result",
          "data": {
            "text/plain": [
              "                 Name               Club  Saves\n",
              "347      David de Gea  Manchester-United 870.00\n",
              "462          Joe Hart  Tottenham-Hotspur 941.00\n",
              "520  Lukasz Fabianski    West-Ham-United 807.00"
            ],
            "text/html": [
              "\n",
              "  <div id=\"df-33a38e8e-e96a-474a-a252-999ce4a19575\">\n",
              "    <div class=\"colab-df-container\">\n",
              "      <div>\n",
              "<style scoped>\n",
              "    .dataframe tbody tr th:only-of-type {\n",
              "        vertical-align: middle;\n",
              "    }\n",
              "\n",
              "    .dataframe tbody tr th {\n",
              "        vertical-align: top;\n",
              "    }\n",
              "\n",
              "    .dataframe thead th {\n",
              "        text-align: right;\n",
              "    }\n",
              "</style>\n",
              "<table border=\"1\" class=\"dataframe\">\n",
              "  <thead>\n",
              "    <tr style=\"text-align: right;\">\n",
              "      <th></th>\n",
              "      <th>Name</th>\n",
              "      <th>Club</th>\n",
              "      <th>Saves</th>\n",
              "    </tr>\n",
              "  </thead>\n",
              "  <tbody>\n",
              "    <tr>\n",
              "      <th>347</th>\n",
              "      <td>David de Gea</td>\n",
              "      <td>Manchester-United</td>\n",
              "      <td>870.00</td>\n",
              "    </tr>\n",
              "    <tr>\n",
              "      <th>462</th>\n",
              "      <td>Joe Hart</td>\n",
              "      <td>Tottenham-Hotspur</td>\n",
              "      <td>941.00</td>\n",
              "    </tr>\n",
              "    <tr>\n",
              "      <th>520</th>\n",
              "      <td>Lukasz Fabianski</td>\n",
              "      <td>West-Ham-United</td>\n",
              "      <td>807.00</td>\n",
              "    </tr>\n",
              "  </tbody>\n",
              "</table>\n",
              "</div>\n",
              "      <button class=\"colab-df-convert\" onclick=\"convertToInteractive('df-33a38e8e-e96a-474a-a252-999ce4a19575')\"\n",
              "              title=\"Convert this dataframe to an interactive table.\"\n",
              "              style=\"display:none;\">\n",
              "        \n",
              "  <svg xmlns=\"http://www.w3.org/2000/svg\" height=\"24px\"viewBox=\"0 0 24 24\"\n",
              "       width=\"24px\">\n",
              "    <path d=\"M0 0h24v24H0V0z\" fill=\"none\"/>\n",
              "    <path d=\"M18.56 5.44l.94 2.06.94-2.06 2.06-.94-2.06-.94-.94-2.06-.94 2.06-2.06.94zm-11 1L8.5 8.5l.94-2.06 2.06-.94-2.06-.94L8.5 2.5l-.94 2.06-2.06.94zm10 10l.94 2.06.94-2.06 2.06-.94-2.06-.94-.94-2.06-.94 2.06-2.06.94z\"/><path d=\"M17.41 7.96l-1.37-1.37c-.4-.4-.92-.59-1.43-.59-.52 0-1.04.2-1.43.59L10.3 9.45l-7.72 7.72c-.78.78-.78 2.05 0 2.83L4 21.41c.39.39.9.59 1.41.59.51 0 1.02-.2 1.41-.59l7.78-7.78 2.81-2.81c.8-.78.8-2.07 0-2.86zM5.41 20L4 18.59l7.72-7.72 1.47 1.35L5.41 20z\"/>\n",
              "  </svg>\n",
              "      </button>\n",
              "      \n",
              "  <style>\n",
              "    .colab-df-container {\n",
              "      display:flex;\n",
              "      flex-wrap:wrap;\n",
              "      gap: 12px;\n",
              "    }\n",
              "\n",
              "    .colab-df-convert {\n",
              "      background-color: #E8F0FE;\n",
              "      border: none;\n",
              "      border-radius: 50%;\n",
              "      cursor: pointer;\n",
              "      display: none;\n",
              "      fill: #1967D2;\n",
              "      height: 32px;\n",
              "      padding: 0 0 0 0;\n",
              "      width: 32px;\n",
              "    }\n",
              "\n",
              "    .colab-df-convert:hover {\n",
              "      background-color: #E2EBFA;\n",
              "      box-shadow: 0px 1px 2px rgba(60, 64, 67, 0.3), 0px 1px 3px 1px rgba(60, 64, 67, 0.15);\n",
              "      fill: #174EA6;\n",
              "    }\n",
              "\n",
              "    [theme=dark] .colab-df-convert {\n",
              "      background-color: #3B4455;\n",
              "      fill: #D2E3FC;\n",
              "    }\n",
              "\n",
              "    [theme=dark] .colab-df-convert:hover {\n",
              "      background-color: #434B5C;\n",
              "      box-shadow: 0px 1px 3px 1px rgba(0, 0, 0, 0.15);\n",
              "      filter: drop-shadow(0px 1px 2px rgba(0, 0, 0, 0.3));\n",
              "      fill: #FFFFFF;\n",
              "    }\n",
              "  </style>\n",
              "\n",
              "      <script>\n",
              "        const buttonEl =\n",
              "          document.querySelector('#df-33a38e8e-e96a-474a-a252-999ce4a19575 button.colab-df-convert');\n",
              "        buttonEl.style.display =\n",
              "          google.colab.kernel.accessAllowed ? 'block' : 'none';\n",
              "\n",
              "        async function convertToInteractive(key) {\n",
              "          const element = document.querySelector('#df-33a38e8e-e96a-474a-a252-999ce4a19575');\n",
              "          const dataTable =\n",
              "            await google.colab.kernel.invokeFunction('convertToInteractive',\n",
              "                                                     [key], {});\n",
              "          if (!dataTable) return;\n",
              "\n",
              "          const docLinkHtml = 'Like what you see? Visit the ' +\n",
              "            '<a target=\"_blank\" href=https://colab.research.google.com/notebooks/data_table.ipynb>data table notebook</a>'\n",
              "            + ' to learn more about interactive tables.';\n",
              "          element.innerHTML = '';\n",
              "          dataTable['output_type'] = 'display_data';\n",
              "          await google.colab.output.renderOutput(dataTable, element);\n",
              "          const docLink = document.createElement('div');\n",
              "          docLink.innerHTML = docLinkHtml;\n",
              "          element.appendChild(docLink);\n",
              "        }\n",
              "      </script>\n",
              "    </div>\n",
              "  </div>\n",
              "  "
            ]
          },
          "metadata": {},
          "execution_count": 44
        }
      ]
    },
    {
      "cell_type": "code",
      "source": [
        "sns.boxplot(y='Saves', data=out_df[out_df.Position == 'Goalkeeper'])"
      ],
      "metadata": {
        "colab": {
          "base_uri": "https://localhost:8080/",
          "height": 269
        },
        "id": "a0VtKYtN4zKU",
        "outputId": "0581ce46-d052-400b-8b77-a497acd9fe67"
      },
      "execution_count": null,
      "outputs": [
        {
          "output_type": "execute_result",
          "data": {
            "text/plain": [
              "<matplotlib.axes._subplots.AxesSubplot at 0x7fa5589d3950>"
            ]
          },
          "metadata": {},
          "execution_count": 45
        },
        {
          "output_type": "display_data",
          "data": {
            "text/plain": [
              "<Figure size 432x288 with 1 Axes>"
            ],
            "image/png": "[encoded data removed]"
          },
          "metadata": {
            "needs_background": "light"
          }
        }
      ]
    },
    {
      "cell_type": "markdown",
      "source": [
        "Repetimos el analisis para los **delanteros**"
      ],
      "metadata": {
        "id": "5L89RD5G6rGs"
      }
    },
    {
      "cell_type": "code",
      "source": [
        "forward_out_15 = detect_outlier(out_df, 'Goals', 'Forward', 1.5)\n",
        "forward_out_15"
      ],
      "metadata": {
        "colab": {
          "base_uri": "https://localhost:8080/"
        },
        "id": "rKhwozXK4zXK",
        "outputId": "5b210184-6694-435c-f6f1-3ed8d482bc0d"
      },
      "execution_count": null,
      "outputs": [
        {
          "output_type": "execute_result",
          "data": {
            "text/plain": [
              "['Jamie Vardy', 'Sergio Agüero', 'Harry Kane']"
            ]
          },
          "metadata": {},
          "execution_count": 46
        }
      ]
    },
    {
      "cell_type": "code",
      "source": [
        "forward_out_3 = detect_outlier(out_df, 'Goals', 'Forward', 3)\n",
        "forward_out_3"
      ],
      "metadata": {
        "colab": {
          "base_uri": "https://localhost:8080/"
        },
        "id": "ImfXCG3ZyVYR",
        "outputId": "d8e81cb8-d601-441a-9048-a435c3476dec"
      },
      "execution_count": null,
      "outputs": [
        {
          "output_type": "execute_result",
          "data": {
            "text/plain": [
              "['Sergio Agüero', 'Harry Kane']"
            ]
          },
          "metadata": {},
          "execution_count": 47
        }
      ]
    },
    {
      "cell_type": "code",
      "source": [
        "df[df.Name.isin(forward_out_15)][['Name', 'Club', 'Goals']]"
      ],
      "metadata": {
        "colab": {
          "base_uri": "https://localhost:8080/",
          "height": 143
        },
        "id": "lw2ErTLW0Vvs",
        "outputId": "1f50b308-f915-4411-aa5d-ee111d952065"
      },
      "execution_count": null,
      "outputs": [
        {
          "output_type": "execute_result",
          "data": {
            "text/plain": [
              "              Name               Club  Goals\n",
              "281    Jamie Vardy     Leicester-City    105\n",
              "344  Sergio Agüero    Manchester-City    180\n",
              "489     Harry Kane  Tottenham-Hotspur    144"
            ],
            "text/html": [
              "\n",
              "  <div id=\"df-35ae8470-65f3-4aed-8e73-0be14eae1d56\">\n",
              "    <div class=\"colab-df-container\">\n",
              "      <div>\n",
              "<style scoped>\n",
              "    .dataframe tbody tr th:only-of-type {\n",
              "        vertical-align: middle;\n",
              "    }\n",
              "\n",
              "    .dataframe tbody tr th {\n",
              "        vertical-align: top;\n",
              "    }\n",
              "\n",
              "    .dataframe thead th {\n",
              "        text-align: right;\n",
              "    }\n",
              "</style>\n",
              "<table border=\"1\" class=\"dataframe\">\n",
              "  <thead>\n",
              "    <tr style=\"text-align: right;\">\n",
              "      <th></th>\n",
              "      <th>Name</th>\n",
              "      <th>Club</th>\n",
              "      <th>Goals</th>\n",
              "    </tr>\n",
              "  </thead>\n",
              "  <tbody>\n",
              "    <tr>\n",
              "      <th>281</th>\n",
              "      <td>Jamie Vardy</td>\n",
              "      <td>Leicester-City</td>\n",
              "      <td>105</td>\n",
              "    </tr>\n",
              "    <tr>\n",
              "      <th>344</th>\n",
              "      <td>Sergio Agüero</td>\n",
              "      <td>Manchester-City</td>\n",
              "      <td>180</td>\n",
              "    </tr>\n",
              "    <tr>\n",
              "      <th>489</th>\n",
              "      <td>Harry Kane</td>\n",
              "      <td>Tottenham-Hotspur</td>\n",
              "      <td>144</td>\n",
              "    </tr>\n",
              "  </tbody>\n",
              "</table>\n",
              "</div>\n",
              "      <button class=\"colab-df-convert\" onclick=\"convertToInteractive('df-35ae8470-65f3-4aed-8e73-0be14eae1d56')\"\n",
              "              title=\"Convert this dataframe to an interactive table.\"\n",
              "              style=\"display:none;\">\n",
              "        \n",
              "  <svg xmlns=\"http://www.w3.org/2000/svg\" height=\"24px\"viewBox=\"0 0 24 24\"\n",
              "       width=\"24px\">\n",
              "    <path d=\"M0 0h24v24H0V0z\" fill=\"none\"/>\n",
              "    <path d=\"M18.56 5.44l.94 2.06.94-2.06 2.06-.94-2.06-.94-.94-2.06-.94 2.06-2.06.94zm-11 1L8.5 8.5l.94-2.06 2.06-.94-2.06-.94L8.5 2.5l-.94 2.06-2.06.94zm10 10l.94 2.06.94-2.06 2.06-.94-2.06-.94-.94-2.06-.94 2.06-2.06.94z\"/><path d=\"M17.41 7.96l-1.37-1.37c-.4-.4-.92-.59-1.43-.59-.52 0-1.04.2-1.43.59L10.3 9.45l-7.72 7.72c-.78.78-.78 2.05 0 2.83L4 21.41c.39.39.9.59 1.41.59.51 0 1.02-.2 1.41-.59l7.78-7.78 2.81-2.81c.8-.78.8-2.07 0-2.86zM5.41 20L4 18.59l7.72-7.72 1.47 1.35L5.41 20z\"/>\n",
              "  </svg>\n",
              "      </button>\n",
              "      \n",
              "  <style>\n",
              "    .colab-df-container {\n",
              "      display:flex;\n",
              "      flex-wrap:wrap;\n",
              "      gap: 12px;\n",
              "    }\n",
              "\n",
              "    .colab-df-convert {\n",
              "      background-color: #E8F0FE;\n",
              "      border: none;\n",
              "      border-radius: 50%;\n",
              "      cursor: pointer;\n",
              "      display: none;\n",
              "      fill: #1967D2;\n",
              "      height: 32px;\n",
              "      padding: 0 0 0 0;\n",
              "      width: 32px;\n",
              "    }\n",
              "\n",
              "    .colab-df-convert:hover {\n",
              "      background-color: #E2EBFA;\n",
              "      box-shadow: 0px 1px 2px rgba(60, 64, 67, 0.3), 0px 1px 3px 1px rgba(60, 64, 67, 0.15);\n",
              "      fill: #174EA6;\n",
              "    }\n",
              "\n",
              "    [theme=dark] .colab-df-convert {\n",
              "      background-color: #3B4455;\n",
              "      fill: #D2E3FC;\n",
              "    }\n",
              "\n",
              "    [theme=dark] .colab-df-convert:hover {\n",
              "      background-color: #434B5C;\n",
              "      box-shadow: 0px 1px 3px 1px rgba(0, 0, 0, 0.15);\n",
              "      filter: drop-shadow(0px 1px 2px rgba(0, 0, 0, 0.3));\n",
              "      fill: #FFFFFF;\n",
              "    }\n",
              "  </style>\n",
              "\n",
              "      <script>\n",
              "        const buttonEl =\n",
              "          document.querySelector('#df-35ae8470-65f3-4aed-8e73-0be14eae1d56 button.colab-df-convert');\n",
              "        buttonEl.style.display =\n",
              "          google.colab.kernel.accessAllowed ? 'block' : 'none';\n",
              "\n",
              "        async function convertToInteractive(key) {\n",
              "          const element = document.querySelector('#df-35ae8470-65f3-4aed-8e73-0be14eae1d56');\n",
              "          const dataTable =\n",
              "            await google.colab.kernel.invokeFunction('convertToInteractive',\n",
              "                                                     [key], {});\n",
              "          if (!dataTable) return;\n",
              "\n",
              "          const docLinkHtml = 'Like what you see? Visit the ' +\n",
              "            '<a target=\"_blank\" href=https://colab.research.google.com/notebooks/data_table.ipynb>data table notebook</a>'\n",
              "            + ' to learn more about interactive tables.';\n",
              "          element.innerHTML = '';\n",
              "          dataTable['output_type'] = 'display_data';\n",
              "          await google.colab.output.renderOutput(dataTable, element);\n",
              "          const docLink = document.createElement('div');\n",
              "          docLink.innerHTML = docLinkHtml;\n",
              "          element.appendChild(docLink);\n",
              "        }\n",
              "      </script>\n",
              "    </div>\n",
              "  </div>\n",
              "  "
            ]
          },
          "metadata": {},
          "execution_count": 48
        }
      ]
    },
    {
      "cell_type": "code",
      "source": [
        "sns.boxplot(y='Goals', data=out_df[out_df.Position == 'Forward'])"
      ],
      "metadata": {
        "colab": {
          "base_uri": "https://localhost:8080/",
          "height": 269
        },
        "id": "xgcGZdxw12KA",
        "outputId": "34d40081-6f39-44d2-90d5-bf7141c02b70"
      },
      "execution_count": null,
      "outputs": [
        {
          "output_type": "execute_result",
          "data": {
            "text/plain": [
              "<matplotlib.axes._subplots.AxesSubplot at 0x7fa558943a10>"
            ]
          },
          "metadata": {},
          "execution_count": 49
        },
        {
          "output_type": "display_data",
          "data": {
            "text/plain": [
              "<Figure size 432x288 with 1 Axes>"
            ],
            "image/png": "[encoded data removed]"
          },
          "metadata": {
            "needs_background": "light"
          }
        }
      ]
    },
    {
      "cell_type": "markdown",
      "source": [
        "## 4.2.- Outliers multivariados\n",
        "\n",
        "Primero vamos a usar el criterio del *Z-score*. Para eso vamos a normalizar la variable."
      ],
      "metadata": {
        "id": "d9_ZiOHF7dHN"
      }
    },
    {
      "cell_type": "code",
      "source": [
        "# Funcion para estandarizar\n",
        "def estandarizar_var(X):\n",
        "  promedio = np.mean(X)\n",
        "  desvio = np.std(X)\n",
        "  X_estandarizada = (X-promedio)/desvio\n",
        "  return X_estandarizada"
      ],
      "metadata": {
        "id": "ZYasDhC6l8t_"
      },
      "execution_count": null,
      "outputs": []
    },
    {
      "cell_type": "code",
      "source": [
        "# Variables relevantes\n",
        "lista_variables = ['Saves', 'Goals', 'Assists', 'Passes', 'Interceptions', 'Recoveries']"
      ],
      "metadata": {
        "id": "tc827Dgnv-uQ"
      },
      "execution_count": null,
      "outputs": []
    },
    {
      "cell_type": "code",
      "source": [
        "out_df_est = out_df.loc[:,lista_variables].apply(estandarizar_var)\n",
        "out_df_est['Name'] = out_df.Name\n",
        "out_df_est['Position'] = out_df.Position\n",
        "out_df_est.head()"
      ],
      "metadata": {
        "colab": {
          "base_uri": "https://localhost:8080/",
          "height": 206
        },
        "id": "Hz-7cykwhmPG",
        "outputId": "430d518b-9b8d-415b-c6e7-2748998590ea"
      },
      "execution_count": null,
      "outputs": [
        {
          "output_type": "execute_result",
          "data": {
            "text/plain": [
              "   Saves  Goals  Assists  Passes  Interceptions  Recoveries             Name  \\\n",
              "0  -0.01  -0.48    -0.61   -0.30            NaN         NaN       Bernd Leno   \n",
              "3    NaN  -0.09     1.14    1.36           1.10        0.85  Héctor Bellerín   \n",
              "4    NaN  -0.43    -0.51   -0.69          -0.64       -0.78   Kieran Tierney   \n",
              "6    NaN  -0.32    -0.41   -0.10          -0.36       -0.51         Sokratis   \n",
              "7    NaN  -0.48    -0.61   -0.17          -0.27       -0.47      Rob Holding   \n",
              "\n",
              "     Position  \n",
              "0  Goalkeeper  \n",
              "3    Defender  \n",
              "4    Defender  \n",
              "6    Defender  \n",
              "7    Defender  "
            ],
            "text/html": [
              "\n",
              "  <div id=\"df-a0d35849-29c1-415a-91aa-7fb083630017\">\n",
              "    <div class=\"colab-df-container\">\n",
              "      <div>\n",
              "<style scoped>\n",
              "    .dataframe tbody tr th:only-of-type {\n",
              "        vertical-align: middle;\n",
              "    }\n",
              "\n",
              "    .dataframe tbody tr th {\n",
              "        vertical-align: top;\n",
              "    }\n",
              "\n",
              "    .dataframe thead th {\n",
              "        text-align: right;\n",
              "    }\n",
              "</style>\n",
              "<table border=\"1\" class=\"dataframe\">\n",
              "  <thead>\n",
              "    <tr style=\"text-align: right;\">\n",
              "      <th></th>\n",
              "      <th>Saves</th>\n",
              "      <th>Goals</th>\n",
              "      <th>Assists</th>\n",
              "      <th>Passes</th>\n",
              "      <th>Interceptions</th>\n",
              "      <th>Recoveries</th>\n",
              "      <th>Name</th>\n",
              "      <th>Position</th>\n",
              "    </tr>\n",
              "  </thead>\n",
              "  <tbody>\n",
              "    <tr>\n",
              "      <th>0</th>\n",
              "      <td>-0.01</td>\n",
              "      <td>-0.48</td>\n",
              "      <td>-0.61</td>\n",
              "      <td>-0.30</td>\n",
              "      <td>NaN</td>\n",
              "      <td>NaN</td>\n",
              "      <td>Bernd Leno</td>\n",
              "      <td>Goalkeeper</td>\n",
              "    </tr>\n",
              "    <tr>\n",
              "      <th>3</th>\n",
              "      <td>NaN</td>\n",
              "      <td>-0.09</td>\n",
              "      <td>1.14</td>\n",
              "      <td>1.36</td>\n",
              "      <td>1.10</td>\n",
              "      <td>0.85</td>\n",
              "      <td>Héctor Bellerín</td>\n",
              "      <td>Defender</td>\n",
              "    </tr>\n",
              "    <tr>\n",
              "      <th>4</th>\n",
              "      <td>NaN</td>\n",
              "      <td>-0.43</td>\n",
              "      <td>-0.51</td>\n",
              "      <td>-0.69</td>\n",
              "      <td>-0.64</td>\n",
              "      <td>-0.78</td>\n",
              "      <td>Kieran Tierney</td>\n",
              "      <td>Defender</td>\n",
              "    </tr>\n",
              "    <tr>\n",
              "      <th>6</th>\n",
              "      <td>NaN</td>\n",
              "      <td>-0.32</td>\n",
              "      <td>-0.41</td>\n",
              "      <td>-0.10</td>\n",
              "      <td>-0.36</td>\n",
              "      <td>-0.51</td>\n",
              "      <td>Sokratis</td>\n",
              "      <td>Defender</td>\n",
              "    </tr>\n",
              "    <tr>\n",
              "      <th>7</th>\n",
              "      <td>NaN</td>\n",
              "      <td>-0.48</td>\n",
              "      <td>-0.61</td>\n",
              "      <td>-0.17</td>\n",
              "      <td>-0.27</td>\n",
              "      <td>-0.47</td>\n",
              "      <td>Rob Holding</td>\n",
              "      <td>Defender</td>\n",
              "    </tr>\n",
              "  </tbody>\n",
              "</table>\n",
              "</div>\n",
              "      <button class=\"colab-df-convert\" onclick=\"convertToInteractive('df-a0d35849-29c1-415a-91aa-7fb083630017')\"\n",
              "              title=\"Convert this dataframe to an interactive table.\"\n",
              "              style=\"display:none;\">\n",
              "        \n",
              "  <svg xmlns=\"http://www.w3.org/2000/svg\" height=\"24px\"viewBox=\"0 0 24 24\"\n",
              "       width=\"24px\">\n",
              "    <path d=\"M0 0h24v24H0V0z\" fill=\"none\"/>\n",
              "    <path d=\"M18.56 5.44l.94 2.06.94-2.06 2.06-.94-2.06-.94-.94-2.06-.94 2.06-2.06.94zm-11 1L8.5 8.5l.94-2.06 2.06-.94-2.06-.94L8.5 2.5l-.94 2.06-2.06.94zm10 10l.94 2.06.94-2.06 2.06-.94-2.06-.94-.94-2.06-.94 2.06-2.06.94z\"/><path d=\"M17.41 7.96l-1.37-1.37c-.4-.4-.92-.59-1.43-.59-.52 0-1.04.2-1.43.59L10.3 9.45l-7.72 7.72c-.78.78-.78 2.05 0 2.83L4 21.41c.39.39.9.59 1.41.59.51 0 1.02-.2 1.41-.59l7.78-7.78 2.81-2.81c.8-.78.8-2.07 0-2.86zM5.41 20L4 18.59l7.72-7.72 1.47 1.35L5.41 20z\"/>\n",
              "  </svg>\n",
              "      </button>\n",
              "      \n",
              "  <style>\n",
              "    .colab-df-container {\n",
              "      display:flex;\n",
              "      flex-wrap:wrap;\n",
              "      gap: 12px;\n",
              "    }\n",
              "\n",
              "    .colab-df-convert {\n",
              "      background-color: #E8F0FE;\n",
              "      border: none;\n",
              "      border-radius: 50%;\n",
              "      cursor: pointer;\n",
              "      display: none;\n",
              "      fill: #1967D2;\n",
              "      height: 32px;\n",
              "      padding: 0 0 0 0;\n",
              "      width: 32px;\n",
              "    }\n",
              "\n",
              "    .colab-df-convert:hover {\n",
              "      background-color: #E2EBFA;\n",
              "      box-shadow: 0px 1px 2px rgba(60, 64, 67, 0.3), 0px 1px 3px 1px rgba(60, 64, 67, 0.15);\n",
              "      fill: #174EA6;\n",
              "    }\n",
              "\n",
              "    [theme=dark] .colab-df-convert {\n",
              "      background-color: #3B4455;\n",
              "      fill: #D2E3FC;\n",
              "    }\n",
              "\n",
              "    [theme=dark] .colab-df-convert:hover {\n",
              "      background-color: #434B5C;\n",
              "      box-shadow: 0px 1px 3px 1px rgba(0, 0, 0, 0.15);\n",
              "      filter: drop-shadow(0px 1px 2px rgba(0, 0, 0, 0.3));\n",
              "      fill: #FFFFFF;\n",
              "    }\n",
              "  </style>\n",
              "\n",
              "      <script>\n",
              "        const buttonEl =\n",
              "          document.querySelector('#df-a0d35849-29c1-415a-91aa-7fb083630017 button.colab-df-convert');\n",
              "        buttonEl.style.display =\n",
              "          google.colab.kernel.accessAllowed ? 'block' : 'none';\n",
              "\n",
              "        async function convertToInteractive(key) {\n",
              "          const element = document.querySelector('#df-a0d35849-29c1-415a-91aa-7fb083630017');\n",
              "          const dataTable =\n",
              "            await google.colab.kernel.invokeFunction('convertToInteractive',\n",
              "                                                     [key], {});\n",
              "          if (!dataTable) return;\n",
              "\n",
              "          const docLinkHtml = 'Like what you see? Visit the ' +\n",
              "            '<a target=\"_blank\" href=https://colab.research.google.com/notebooks/data_table.ipynb>data table notebook</a>'\n",
              "            + ' to learn more about interactive tables.';\n",
              "          element.innerHTML = '';\n",
              "          dataTable['output_type'] = 'display_data';\n",
              "          await google.colab.output.renderOutput(dataTable, element);\n",
              "          const docLink = document.createElement('div');\n",
              "          docLink.innerHTML = docLinkHtml;\n",
              "          element.appendChild(docLink);\n",
              "        }\n",
              "      </script>\n",
              "    </div>\n",
              "  </div>\n",
              "  "
            ]
          },
          "metadata": {},
          "execution_count": 52
        }
      ]
    },
    {
      "cell_type": "markdown",
      "source": [
        "Analizamos los **mediocampistas** mirando pases y asistencias. Vamos a verificar primero la distribucion de las variables."
      ],
      "metadata": {
        "id": "U4gU75KW9BCR"
      }
    },
    {
      "cell_type": "code",
      "source": [
        "sns.histplot(data=out_df_est[out_df_est['Position'] == 'Midfielder'], x=\"Passes\", bins = 20, kde=True)"
      ],
      "metadata": {
        "colab": {
          "base_uri": "https://localhost:8080/",
          "height": 296
        },
        "id": "nCAPeZssIxkd",
        "outputId": "57aad730-6c8b-4b40-9d87-9871bccf5e43"
      },
      "execution_count": null,
      "outputs": [
        {
          "output_type": "execute_result",
          "data": {
            "text/plain": [
              "<matplotlib.axes._subplots.AxesSubplot at 0x7fa5587bd2d0>"
            ]
          },
          "metadata": {},
          "execution_count": 55
        },
        {
          "output_type": "display_data",
          "data": {
            "text/plain": [
              "<Figure size 432x288 with 1 Axes>"
            ],
            "image/png": "[encoded data removed]"
          },
          "metadata": {
            "needs_background": "light"
          }
        }
      ]
    },
    {
      "cell_type": "code",
      "source": [
        "sns.histplot(data=out_df_est[out_df_est['Position'] == 'Midfielder'], x=\"Assists\", bins = 20, kde=True)"
      ],
      "metadata": {
        "colab": {
          "base_uri": "https://localhost:8080/",
          "height": 296
        },
        "id": "Nce7E7eeI67D",
        "outputId": "f01b0f56-a302-499e-e552-56c7634924d0"
      },
      "execution_count": null,
      "outputs": [
        {
          "output_type": "execute_result",
          "data": {
            "text/plain": [
              "<matplotlib.axes._subplots.AxesSubplot at 0x7fa558766810>"
            ]
          },
          "metadata": {},
          "execution_count": 56
        },
        {
          "output_type": "display_data",
          "data": {
            "text/plain": [
              "<Figure size 432x288 with 1 Axes>"
            ],
            "image/png": "[encoded data removed]"
          },
          "metadata": {
            "needs_background": "light"
          }
        }
      ]
    },
    {
      "cell_type": "markdown",
      "source": [
        "Como podemos ver, las variables no tienen distribucion normal, por lo que no vamos a poder usar el criterio del Z-Score.\n",
        "\n",
        "Vamos a buscar el 5% de los jugadores con mayor cantidad de pases y el 5% de los jugadores con mas asistencias.\n",
        "\n"
      ],
      "metadata": {
        "id": "rhrEKNA0KIMC"
      }
    },
    {
      "cell_type": "code",
      "source": [
        "midfielders = out_df[out_df_est['Position'] == 'Midfielder'][['Name', 'Passes', 'Assists']]"
      ],
      "metadata": {
        "id": "YadMp4i5Kzf_"
      },
      "execution_count": null,
      "outputs": []
    },
    {
      "cell_type": "code",
      "source": [
        "pd.qcut(x=midfielders.Passes, q=20, duplicates='drop')"
      ],
      "metadata": {
        "colab": {
          "base_uri": "https://localhost:8080/"
        },
        "id": "_OH-siJPQ0ad",
        "outputId": "76431b14-5dc9-40a2-ef76-f3168d98ba3b"
      },
      "execution_count": null,
      "outputs": [
        {
          "output_type": "execute_result",
          "data": {
            "text/plain": [
              "13     (10190.6, 17932.0]\n",
              "14      (2203.4, 2757.95]\n",
              "15      (1475.0, 1872.25]\n",
              "16      (2203.4, 2757.95]\n",
              "17        (335.75, 518.3]\n",
              "              ...        \n",
              "560       (103.75, 200.8]\n",
              "561     (2203.4, 2757.95]\n",
              "562     (3387.3, 4096.75]\n",
              "563     (1872.25, 2203.4]\n",
              "564         (2.999, 21.7]\n",
              "Name: Passes, Length: 178, dtype: category\n",
              "Categories (20, interval[float64, right]): [(2.999, 21.7] < (21.7, 61.2] < (61.2, 103.75] <\n",
              "                                            (103.75, 200.8] ... (5503.0, 6588.8] <\n",
              "                                            (6588.8, 8044.4] < (8044.4, 10190.6] <\n",
              "                                            (10190.6, 17932.0]]"
            ]
          },
          "metadata": {},
          "execution_count": 91
        }
      ]
    },
    {
      "cell_type": "code",
      "source": [
        "midfielders['passes_c'] = pd.qcut(x=midfielders.Passes, q=20, duplicates='drop', labels=np.arange(0,100, 5))"
      ],
      "metadata": {
        "id": "GsGpbhqKO1KG"
      },
      "execution_count": null,
      "outputs": []
    },
    {
      "cell_type": "code",
      "source": [
        "pd.qcut(x=midfielders.Assists, q=20, duplicates='drop')"
      ],
      "metadata": {
        "colab": {
          "base_uri": "https://localhost:8080/"
        },
        "id": "6oimR1rhQ9ar",
        "outputId": "ee223e01-546b-4cc6-bf2c-019fe84a826a"
      },
      "execution_count": null,
      "outputs": [
        {
          "output_type": "execute_result",
          "data": {
            "text/plain": [
              "13     (28.75, 84.0]\n",
              "14        (2.0, 3.0]\n",
              "15        (2.0, 3.0]\n",
              "16        (2.0, 3.0]\n",
              "17     (-0.001, 1.0]\n",
              "           ...      \n",
              "560       (1.0, 2.0]\n",
              "561    (-0.001, 1.0]\n",
              "562     (13.0, 18.0]\n",
              "563    (-0.001, 1.0]\n",
              "564    (-0.001, 1.0]\n",
              "Name: Assists, Length: 178, dtype: category\n",
              "Categories (13, interval[float64, right]): [(-0.001, 1.0] < (1.0, 2.0] < (2.0, 3.0] < (3.0, 4.0] < ... <\n",
              "                                            (13.0, 18.0] < (18.0, 22.3] < (22.3, 28.75] <\n",
              "                                            (28.75, 84.0]]"
            ]
          },
          "metadata": {},
          "execution_count": 92
        }
      ]
    },
    {
      "cell_type": "markdown",
      "source": [
        "Como la variable no tiene los suficientes valores unicos, nos genera una menor cantidad de bines, en este caso 13. Vamos a usar el valor limite inferior del bin superior (28.75) para buscar los valores que nos interesan."
      ],
      "metadata": {
        "id": "7hiXjGt3Q_2_"
      }
    },
    {
      "cell_type": "code",
      "source": [
        "midfielders['assists_c'] = np.where(midfielders.Assists >= 28.75, 'bin superior', 'bines inferiores')\n",
        "midfielders.head(10)"
      ],
      "metadata": {
        "colab": {
          "base_uri": "https://localhost:8080/",
          "height": 363
        },
        "id": "EQ7_MBaqNEf9",
        "outputId": "edb5f009-492d-47e7-ac02-f9e8bba4e664"
      },
      "execution_count": null,
      "outputs": [
        {
          "output_type": "execute_result",
          "data": {
            "text/plain": [
              "                      Name  Passes  Assists passes_c         assists_c\n",
              "13              Mesut Özil   11186       54       95      bin superior\n",
              "14          Lucas Torreira    2493        3       60  bines inferiores\n",
              "15  Ainsley Maitland-Niles    1867        3       50  bines inferiores\n",
              "16          Mohamed Elneny    2532        3       60  bines inferiores\n",
              "17          Joseph Willock     398        1       25  bines inferiores\n",
              "18        Matteo Guendouzi    2750        1       60  bines inferiores\n",
              "19        Emile Smith Rowe      35        0        5  bines inferiores\n",
              "20            Granit Xhaka    9739       13       90  bines inferiores\n",
              "21             Bukayo Saka     716        5       30  bines inferiores\n",
              "22           Dani Ceballos    1372        3       45  bines inferiores"
            ],
            "text/html": [
              "\n",
              "  <div id=\"df-5988aebe-9fca-4657-a6a0-a0a926b28ddf\">\n",
              "    <div class=\"colab-df-container\">\n",
              "      <div>\n",
              "<style scoped>\n",
              "    .dataframe tbody tr th:only-of-type {\n",
              "        vertical-align: middle;\n",
              "    }\n",
              "\n",
              "    .dataframe tbody tr th {\n",
              "        vertical-align: top;\n",
              "    }\n",
              "\n",
              "    .dataframe thead th {\n",
              "        text-align: right;\n",
              "    }\n",
              "</style>\n",
              "<table border=\"1\" class=\"dataframe\">\n",
              "  <thead>\n",
              "    <tr style=\"text-align: right;\">\n",
              "      <th></th>\n",
              "      <th>Name</th>\n",
              "      <th>Passes</th>\n",
              "      <th>Assists</th>\n",
              "      <th>passes_c</th>\n",
              "      <th>assists_c</th>\n",
              "    </tr>\n",
              "  </thead>\n",
              "  <tbody>\n",
              "    <tr>\n",
              "      <th>13</th>\n",
              "      <td>Mesut Özil</td>\n",
              "      <td>11186</td>\n",
              "      <td>54</td>\n",
              "      <td>95</td>\n",
              "      <td>bin superior</td>\n",
              "    </tr>\n",
              "    <tr>\n",
              "      <th>14</th>\n",
              "      <td>Lucas Torreira</td>\n",
              "      <td>2493</td>\n",
              "      <td>3</td>\n",
              "      <td>60</td>\n",
              "      <td>bines inferiores</td>\n",
              "    </tr>\n",
              "    <tr>\n",
              "      <th>15</th>\n",
              "      <td>Ainsley Maitland-Niles</td>\n",
              "      <td>1867</td>\n",
              "      <td>3</td>\n",
              "      <td>50</td>\n",
              "      <td>bines inferiores</td>\n",
              "    </tr>\n",
              "    <tr>\n",
              "      <th>16</th>\n",
              "      <td>Mohamed Elneny</td>\n",
              "      <td>2532</td>\n",
              "      <td>3</td>\n",
              "      <td>60</td>\n",
              "      <td>bines inferiores</td>\n",
              "    </tr>\n",
              "    <tr>\n",
              "      <th>17</th>\n",
              "      <td>Joseph Willock</td>\n",
              "      <td>398</td>\n",
              "      <td>1</td>\n",
              "      <td>25</td>\n",
              "      <td>bines inferiores</td>\n",
              "    </tr>\n",
              "    <tr>\n",
              "      <th>18</th>\n",
              "      <td>Matteo Guendouzi</td>\n",
              "      <td>2750</td>\n",
              "      <td>1</td>\n",
              "      <td>60</td>\n",
              "      <td>bines inferiores</td>\n",
              "    </tr>\n",
              "    <tr>\n",
              "      <th>19</th>\n",
              "      <td>Emile Smith Rowe</td>\n",
              "      <td>35</td>\n",
              "      <td>0</td>\n",
              "      <td>5</td>\n",
              "      <td>bines inferiores</td>\n",
              "    </tr>\n",
              "    <tr>\n",
              "      <th>20</th>\n",
              "      <td>Granit Xhaka</td>\n",
              "      <td>9739</td>\n",
              "      <td>13</td>\n",
              "      <td>90</td>\n",
              "      <td>bines inferiores</td>\n",
              "    </tr>\n",
              "    <tr>\n",
              "      <th>21</th>\n",
              "      <td>Bukayo Saka</td>\n",
              "      <td>716</td>\n",
              "      <td>5</td>\n",
              "      <td>30</td>\n",
              "      <td>bines inferiores</td>\n",
              "    </tr>\n",
              "    <tr>\n",
              "      <th>22</th>\n",
              "      <td>Dani Ceballos</td>\n",
              "      <td>1372</td>\n",
              "      <td>3</td>\n",
              "      <td>45</td>\n",
              "      <td>bines inferiores</td>\n",
              "    </tr>\n",
              "  </tbody>\n",
              "</table>\n",
              "</div>\n",
              "      <button class=\"colab-df-convert\" onclick=\"convertToInteractive('df-5988aebe-9fca-4657-a6a0-a0a926b28ddf')\"\n",
              "              title=\"Convert this dataframe to an interactive table.\"\n",
              "              style=\"display:none;\">\n",
              "        \n",
              "  <svg xmlns=\"http://www.w3.org/2000/svg\" height=\"24px\"viewBox=\"0 0 24 24\"\n",
              "       width=\"24px\">\n",
              "    <path d=\"M0 0h24v24H0V0z\" fill=\"none\"/>\n",
              "    <path d=\"M18.56 5.44l.94 2.06.94-2.06 2.06-.94-2.06-.94-.94-2.06-.94 2.06-2.06.94zm-11 1L8.5 8.5l.94-2.06 2.06-.94-2.06-.94L8.5 2.5l-.94 2.06-2.06.94zm10 10l.94 2.06.94-2.06 2.06-.94-2.06-.94-.94-2.06-.94 2.06-2.06.94z\"/><path d=\"M17.41 7.96l-1.37-1.37c-.4-.4-.92-.59-1.43-.59-.52 0-1.04.2-1.43.59L10.3 9.45l-7.72 7.72c-.78.78-.78 2.05 0 2.83L4 21.41c.39.39.9.59 1.41.59.51 0 1.02-.2 1.41-.59l7.78-7.78 2.81-2.81c.8-.78.8-2.07 0-2.86zM5.41 20L4 18.59l7.72-7.72 1.47 1.35L5.41 20z\"/>\n",
              "  </svg>\n",
              "      </button>\n",
              "      \n",
              "  <style>\n",
              "    .colab-df-container {\n",
              "      display:flex;\n",
              "      flex-wrap:wrap;\n",
              "      gap: 12px;\n",
              "    }\n",
              "\n",
              "    .colab-df-convert {\n",
              "      background-color: #E8F0FE;\n",
              "      border: none;\n",
              "      border-radius: 50%;\n",
              "      cursor: pointer;\n",
              "      display: none;\n",
              "      fill: #1967D2;\n",
              "      height: 32px;\n",
              "      padding: 0 0 0 0;\n",
              "      width: 32px;\n",
              "    }\n",
              "\n",
              "    .colab-df-convert:hover {\n",
              "      background-color: #E2EBFA;\n",
              "      box-shadow: 0px 1px 2px rgba(60, 64, 67, 0.3), 0px 1px 3px 1px rgba(60, 64, 67, 0.15);\n",
              "      fill: #174EA6;\n",
              "    }\n",
              "\n",
              "    [theme=dark] .colab-df-convert {\n",
              "      background-color: #3B4455;\n",
              "      fill: #D2E3FC;\n",
              "    }\n",
              "\n",
              "    [theme=dark] .colab-df-convert:hover {\n",
              "      background-color: #434B5C;\n",
              "      box-shadow: 0px 1px 3px 1px rgba(0, 0, 0, 0.15);\n",
              "      filter: drop-shadow(0px 1px 2px rgba(0, 0, 0, 0.3));\n",
              "      fill: #FFFFFF;\n",
              "    }\n",
              "  </style>\n",
              "\n",
              "      <script>\n",
              "        const buttonEl =\n",
              "          document.querySelector('#df-5988aebe-9fca-4657-a6a0-a0a926b28ddf button.colab-df-convert');\n",
              "        buttonEl.style.display =\n",
              "          google.colab.kernel.accessAllowed ? 'block' : 'none';\n",
              "\n",
              "        async function convertToInteractive(key) {\n",
              "          const element = document.querySelector('#df-5988aebe-9fca-4657-a6a0-a0a926b28ddf');\n",
              "          const dataTable =\n",
              "            await google.colab.kernel.invokeFunction('convertToInteractive',\n",
              "                                                     [key], {});\n",
              "          if (!dataTable) return;\n",
              "\n",
              "          const docLinkHtml = 'Like what you see? Visit the ' +\n",
              "            '<a target=\"_blank\" href=https://colab.research.google.com/notebooks/data_table.ipynb>data table notebook</a>'\n",
              "            + ' to learn more about interactive tables.';\n",
              "          element.innerHTML = '';\n",
              "          dataTable['output_type'] = 'display_data';\n",
              "          await google.colab.output.renderOutput(dataTable, element);\n",
              "          const docLink = document.createElement('div');\n",
              "          docLink.innerHTML = docLinkHtml;\n",
              "          element.appendChild(docLink);\n",
              "        }\n",
              "      </script>\n",
              "    </div>\n",
              "  </div>\n",
              "  "
            ]
          },
          "metadata": {},
          "execution_count": 90
        }
      ]
    },
    {
      "cell_type": "markdown",
      "source": [
        "Nos vamos a quedar con los jugadores del bin 95 de pases y del bin superior de asistencias."
      ],
      "metadata": {
        "id": "mNic3pHSRKtG"
      }
    },
    {
      "cell_type": "code",
      "source": [
        "midfielders_out = midfielders[(midfielders.passes_c == 95) & (midfielders.assists_c == 'bin superior')]\n",
        "midfielders_out"
      ],
      "metadata": {
        "colab": {
          "base_uri": "https://localhost:8080/",
          "height": 206
        },
        "id": "M4F11SYHRRMO",
        "outputId": "77f0eb48-a43a-4109-8b07-a7308ba0dca0"
      },
      "execution_count": null,
      "outputs": [
        {
          "output_type": "execute_result",
          "data": {
            "text/plain": [
              "                 Name  Passes  Assists passes_c     assists_c\n",
              "13         Mesut Özil   11186       54       95  bin superior\n",
              "302      James Milner   16171       84       95  bin superior\n",
              "304  Jordan Henderson   17932       46       95  bin superior\n",
              "365         Juan Mata   11379       52       95  bin superior\n",
              "537        Mark Noble   17862       35       95  bin superior"
            ],
            "text/html": [
              "\n",
              "  <div id=\"df-99d046da-39b3-4716-9a03-478fa960e442\">\n",
              "    <div class=\"colab-df-container\">\n",
              "      <div>\n",
              "<style scoped>\n",
              "    .dataframe tbody tr th:only-of-type {\n",
              "        vertical-align: middle;\n",
              "    }\n",
              "\n",
              "    .dataframe tbody tr th {\n",
              "        vertical-align: top;\n",
              "    }\n",
              "\n",
              "    .dataframe thead th {\n",
              "        text-align: right;\n",
              "    }\n",
              "</style>\n",
              "<table border=\"1\" class=\"dataframe\">\n",
              "  <thead>\n",
              "    <tr style=\"text-align: right;\">\n",
              "      <th></th>\n",
              "      <th>Name</th>\n",
              "      <th>Passes</th>\n",
              "      <th>Assists</th>\n",
              "      <th>passes_c</th>\n",
              "      <th>assists_c</th>\n",
              "    </tr>\n",
              "  </thead>\n",
              "  <tbody>\n",
              "    <tr>\n",
              "      <th>13</th>\n",
              "      <td>Mesut Özil</td>\n",
              "      <td>11186</td>\n",
              "      <td>54</td>\n",
              "      <td>95</td>\n",
              "      <td>bin superior</td>\n",
              "    </tr>\n",
              "    <tr>\n",
              "      <th>302</th>\n",
              "      <td>James Milner</td>\n",
              "      <td>16171</td>\n",
              "      <td>84</td>\n",
              "      <td>95</td>\n",
              "      <td>bin superior</td>\n",
              "    </tr>\n",
              "    <tr>\n",
              "      <th>304</th>\n",
              "      <td>Jordan Henderson</td>\n",
              "      <td>17932</td>\n",
              "      <td>46</td>\n",
              "      <td>95</td>\n",
              "      <td>bin superior</td>\n",
              "    </tr>\n",
              "    <tr>\n",
              "      <th>365</th>\n",
              "      <td>Juan Mata</td>\n",
              "      <td>11379</td>\n",
              "      <td>52</td>\n",
              "      <td>95</td>\n",
              "      <td>bin superior</td>\n",
              "    </tr>\n",
              "    <tr>\n",
              "      <th>537</th>\n",
              "      <td>Mark Noble</td>\n",
              "      <td>17862</td>\n",
              "      <td>35</td>\n",
              "      <td>95</td>\n",
              "      <td>bin superior</td>\n",
              "    </tr>\n",
              "  </tbody>\n",
              "</table>\n",
              "</div>\n",
              "      <button class=\"colab-df-convert\" onclick=\"convertToInteractive('df-99d046da-39b3-4716-9a03-478fa960e442')\"\n",
              "              title=\"Convert this dataframe to an interactive table.\"\n",
              "              style=\"display:none;\">\n",
              "        \n",
              "  <svg xmlns=\"http://www.w3.org/2000/svg\" height=\"24px\"viewBox=\"0 0 24 24\"\n",
              "       width=\"24px\">\n",
              "    <path d=\"M0 0h24v24H0V0z\" fill=\"none\"/>\n",
              "    <path d=\"M18.56 5.44l.94 2.06.94-2.06 2.06-.94-2.06-.94-.94-2.06-.94 2.06-2.06.94zm-11 1L8.5 8.5l.94-2.06 2.06-.94-2.06-.94L8.5 2.5l-.94 2.06-2.06.94zm10 10l.94 2.06.94-2.06 2.06-.94-2.06-.94-.94-2.06-.94 2.06-2.06.94z\"/><path d=\"M17.41 7.96l-1.37-1.37c-.4-.4-.92-.59-1.43-.59-.52 0-1.04.2-1.43.59L10.3 9.45l-7.72 7.72c-.78.78-.78 2.05 0 2.83L4 21.41c.39.39.9.59 1.41.59.51 0 1.02-.2 1.41-.59l7.78-7.78 2.81-2.81c.8-.78.8-2.07 0-2.86zM5.41 20L4 18.59l7.72-7.72 1.47 1.35L5.41 20z\"/>\n",
              "  </svg>\n",
              "      </button>\n",
              "      \n",
              "  <style>\n",
              "    .colab-df-container {\n",
              "      display:flex;\n",
              "      flex-wrap:wrap;\n",
              "      gap: 12px;\n",
              "    }\n",
              "\n",
              "    .colab-df-convert {\n",
              "      background-color: #E8F0FE;\n",
              "      border: none;\n",
              "      border-radius: 50%;\n",
              "      cursor: pointer;\n",
              "      display: none;\n",
              "      fill: #1967D2;\n",
              "      height: 32px;\n",
              "      padding: 0 0 0 0;\n",
              "      width: 32px;\n",
              "    }\n",
              "\n",
              "    .colab-df-convert:hover {\n",
              "      background-color: #E2EBFA;\n",
              "      box-shadow: 0px 1px 2px rgba(60, 64, 67, 0.3), 0px 1px 3px 1px rgba(60, 64, 67, 0.15);\n",
              "      fill: #174EA6;\n",
              "    }\n",
              "\n",
              "    [theme=dark] .colab-df-convert {\n",
              "      background-color: #3B4455;\n",
              "      fill: #D2E3FC;\n",
              "    }\n",
              "\n",
              "    [theme=dark] .colab-df-convert:hover {\n",
              "      background-color: #434B5C;\n",
              "      box-shadow: 0px 1px 3px 1px rgba(0, 0, 0, 0.15);\n",
              "      filter: drop-shadow(0px 1px 2px rgba(0, 0, 0, 0.3));\n",
              "      fill: #FFFFFF;\n",
              "    }\n",
              "  </style>\n",
              "\n",
              "      <script>\n",
              "        const buttonEl =\n",
              "          document.querySelector('#df-99d046da-39b3-4716-9a03-478fa960e442 button.colab-df-convert');\n",
              "        buttonEl.style.display =\n",
              "          google.colab.kernel.accessAllowed ? 'block' : 'none';\n",
              "\n",
              "        async function convertToInteractive(key) {\n",
              "          const element = document.querySelector('#df-99d046da-39b3-4716-9a03-478fa960e442');\n",
              "          const dataTable =\n",
              "            await google.colab.kernel.invokeFunction('convertToInteractive',\n",
              "                                                     [key], {});\n",
              "          if (!dataTable) return;\n",
              "\n",
              "          const docLinkHtml = 'Like what you see? Visit the ' +\n",
              "            '<a target=\"_blank\" href=https://colab.research.google.com/notebooks/data_table.ipynb>data table notebook</a>'\n",
              "            + ' to learn more about interactive tables.';\n",
              "          element.innerHTML = '';\n",
              "          dataTable['output_type'] = 'display_data';\n",
              "          await google.colab.output.renderOutput(dataTable, element);\n",
              "          const docLink = document.createElement('div');\n",
              "          docLink.innerHTML = docLinkHtml;\n",
              "          element.appendChild(docLink);\n",
              "        }\n",
              "      </script>\n",
              "    </div>\n",
              "  </div>\n",
              "  "
            ]
          },
          "metadata": {},
          "execution_count": 93
        }
      ]
    },
    {
      "cell_type": "markdown",
      "source": [
        "Veamos como se ven graficamente estos jugadores"
      ],
      "metadata": {
        "id": "Jir-Puk4Rf42"
      }
    },
    {
      "cell_type": "code",
      "source": [
        "midfielders.plot.scatter(x='Passes', y='Assists')\n",
        "plt.vlines(x=10190.6, ymin=midfielders.Assists.min(),\n",
        "           ymax=midfielders.Assists.max(), linestyles='dashed')\n",
        "plt.hlines(y=28.75, xmin=midfielders.Passes.min(),\n",
        "           xmax=midfielders.Passes.max(), linestyles='dashed')\n",
        "plt.show()"
      ],
      "metadata": {
        "colab": {
          "base_uri": "https://localhost:8080/",
          "height": 279
        },
        "id": "uBeMqZCj8Qrt",
        "outputId": "4ef6ab13-5671-4beb-cbd4-4a49f7e12911"
      },
      "execution_count": null,
      "outputs": [
        {
          "output_type": "display_data",
          "data": {
            "text/plain": [
              "<Figure size 432x288 with 1 Axes>"
            ],
            "image/png": "[encoded data removed]"
          },
          "metadata": {
            "needs_background": "light"
          }
        }
      ]
    },
    {
      "cell_type": "markdown",
      "source": [
        "Vamos a analizar ahora a los **defensores** teniendo en cuenta las intercepciones (Interceptions) y los recuperos (Recoveries)."
      ],
      "metadata": {
        "id": "me0fYqY1R-g_"
      }
    },
    {
      "cell_type": "code",
      "source": [
        "sns.histplot(data=out_df_est[out_df_est['Position'] == 'Defender'], x=\"Interceptions\", bins = 20, kde=True)"
      ],
      "metadata": {
        "colab": {
          "base_uri": "https://localhost:8080/",
          "height": 299
        },
        "id": "LphCi4XS8Qu7",
        "outputId": "5550a9ad-9f22-4eea-fac9-cc0dbc9c2bff"
      },
      "execution_count": null,
      "outputs": [
        {
          "output_type": "execute_result",
          "data": {
            "text/plain": [
              "<matplotlib.axes._subplots.AxesSubplot at 0x7fa556120190>"
            ]
          },
          "metadata": {},
          "execution_count": 98
        },
        {
          "output_type": "display_data",
          "data": {
            "text/plain": [
              "<Figure size 432x288 with 1 Axes>"
            ],
            "image/png": "[encoded data removed]"
          },
          "metadata": {
            "needs_background": "light"
          }
        }
      ]
    },
    {
      "cell_type": "code",
      "source": [
        "sns.histplot(data=out_df_est[out_df_est['Position'] == 'Defender'], x=\"Recoveries\", bins = 20, kde=True)"
      ],
      "metadata": {
        "colab": {
          "base_uri": "https://localhost:8080/",
          "height": 296
        },
        "id": "x3TLd6j-8QyZ",
        "outputId": "1e826040-4eff-4648-90a5-053cf8ad600a"
      },
      "execution_count": null,
      "outputs": [
        {
          "output_type": "execute_result",
          "data": {
            "text/plain": [
              "<matplotlib.axes._subplots.AxesSubplot at 0x7fa5560d8110>"
            ]
          },
          "metadata": {},
          "execution_count": 99
        },
        {
          "output_type": "display_data",
          "data": {
            "text/plain": [
              "<Figure size 432x288 with 1 Axes>"
            ],
            "image/png": "[encoded data removed]"
          },
          "metadata": {
            "needs_background": "light"
          }
        }
      ]
    },
    {
      "cell_type": "markdown",
      "source": [
        "Vemos que sucede lo mismo que con los mediocampistas, por lo que procederemos con el mismo criterio."
      ],
      "metadata": {
        "id": "6nknQG3UUivI"
      }
    },
    {
      "cell_type": "code",
      "source": [
        "defenders = out_df[out_df_est['Position'] == 'Defender'][['Name', 'Interceptions', 'Recoveries']]"
      ],
      "metadata": {
        "id": "0SgZOTbdVmGt"
      },
      "execution_count": null,
      "outputs": []
    },
    {
      "cell_type": "code",
      "source": [
        "pd.qcut(x=defenders.Interceptions, q=20, duplicates='drop')"
      ],
      "metadata": {
        "colab": {
          "base_uri": "https://localhost:8080/"
        },
        "id": "_hnLj3tW-Wbf",
        "outputId": "0f2eab08-218a-4667-a5aa-d9e2372bcf0b"
      },
      "execution_count": null,
      "outputs": [
        {
          "output_type": "execute_result",
          "data": {
            "text/plain": [
              "3      (196.25, 233.0]\n",
              "4         (8.25, 12.0]\n",
              "6         (41.0, 48.0]\n",
              "7         (48.0, 57.0]\n",
              "8      (165.5, 196.25]\n",
              "            ...       \n",
              "553     (107.0, 121.5]\n",
              "554      (23.75, 28.0]\n",
              "555        (3.0, 8.25]\n",
              "556      (-0.001, 2.0]\n",
              "557      (-0.001, 2.0]\n",
              "Name: Interceptions, Length: 156, dtype: category\n",
              "Categories (20, interval[float64, right]): [(-0.001, 2.0] < (2.0, 3.0] < (3.0, 8.25] < (8.25, 12.0] <\n",
              "                                            ... < (233.0, 274.25] < (274.25, 321.5] <\n",
              "                                            (321.5, 395.75] < (395.75, 618.0]]"
            ]
          },
          "metadata": {},
          "execution_count": 103
        }
      ]
    },
    {
      "cell_type": "code",
      "source": [
        "defenders['interceptions_c'] = pd.qcut(x=defenders.Interceptions, q=20, duplicates='drop', labels=np.arange(0,100, 5))\n"
      ],
      "metadata": {
        "id": "jWT_5kVE8Q10"
      },
      "execution_count": null,
      "outputs": []
    },
    {
      "cell_type": "code",
      "source": [
        "pd.qcut(x=defenders.Recoveries, q=20, duplicates='drop')"
      ],
      "metadata": {
        "id": "UFSEwXfohmVU",
        "colab": {
          "base_uri": "https://localhost:8080/"
        },
        "outputId": "746d4427-78d6-4c51-8456-8d5c536f227f"
      },
      "execution_count": null,
      "outputs": [
        {
          "output_type": "execute_result",
          "data": {
            "text/plain": [
              "3      (717.0, 829.25]\n",
              "4         (53.0, 93.0]\n",
              "6       (167.5, 178.0]\n",
              "7       (178.0, 198.0]\n",
              "8      (448.75, 525.5]\n",
              "            ...       \n",
              "553    (275.5, 329.25]\n",
              "554      (93.0, 112.5]\n",
              "555        (4.75, 9.5]\n",
              "556     (-0.001, 4.75]\n",
              "557     (-0.001, 4.75]\n",
              "Name: Recoveries, Length: 156, dtype: category\n",
              "Categories (20, interval[float64, right]): [(-0.001, 4.75] < (4.75, 9.5] < (9.5, 17.25] <\n",
              "                                            (17.25, 53.0] ... (717.0, 829.25] < (829.25, 897.0] <\n",
              "                                            (897.0, 1133.0] < (1133.0, 1626.0]]"
            ]
          },
          "metadata": {},
          "execution_count": 106
        }
      ]
    },
    {
      "cell_type": "code",
      "source": [
        "defenders['recoveries_c'] = pd.qcut(x=defenders.Recoveries, q=20, duplicates='drop', labels=np.arange(0,100, 5))\n",
        "defenders.head(10)"
      ],
      "metadata": {
        "colab": {
          "base_uri": "https://localhost:8080/",
          "height": 363
        },
        "id": "ROV0Y6gw_9yr",
        "outputId": "f4ebc295-94d8-40cd-9f33-bb7070581e8c"
      },
      "execution_count": null,
      "outputs": [
        {
          "output_type": "execute_result",
          "data": {
            "text/plain": [
              "                 Name  Interceptions  Recoveries interceptions_c recoveries_c\n",
              "3     Héctor Bellerín         208.00      732.00              75           80\n",
              "4      Kieran Tierney          12.00       63.00              15           20\n",
              "6            Sokratis          43.00      173.00              35           35\n",
              "7         Rob Holding          54.00      192.00              40           40\n",
              "8    Shkodran Mustafi         195.00      455.00              70           65\n",
              "9      Calum Chambers         247.00      735.00              80           80\n",
              "10         David Luiz         344.00     1042.00              90           90\n",
              "11     Sead Kolasinac          72.00      365.00              50           55\n",
              "12  Gabriel Magalhães           2.00        6.00               0            5\n",
              "35        Neil Taylor         241.00      614.00              80           70"
            ],
            "text/html": [
              "\n",
              "  <div id=\"df-f9ffe955-32c3-4de5-9674-179ab59cf2bb\">\n",
              "    <div class=\"colab-df-container\">\n",
              "      <div>\n",
              "<style scoped>\n",
              "    .dataframe tbody tr th:only-of-type {\n",
              "        vertical-align: middle;\n",
              "    }\n",
              "\n",
              "    .dataframe tbody tr th {\n",
              "        vertical-align: top;\n",
              "    }\n",
              "\n",
              "    .dataframe thead th {\n",
              "        text-align: right;\n",
              "    }\n",
              "</style>\n",
              "<table border=\"1\" class=\"dataframe\">\n",
              "  <thead>\n",
              "    <tr style=\"text-align: right;\">\n",
              "      <th></th>\n",
              "      <th>Name</th>\n",
              "      <th>Interceptions</th>\n",
              "      <th>Recoveries</th>\n",
              "      <th>interceptions_c</th>\n",
              "      <th>recoveries_c</th>\n",
              "    </tr>\n",
              "  </thead>\n",
              "  <tbody>\n",
              "    <tr>\n",
              "      <th>3</th>\n",
              "      <td>Héctor Bellerín</td>\n",
              "      <td>208.00</td>\n",
              "      <td>732.00</td>\n",
              "      <td>75</td>\n",
              "      <td>80</td>\n",
              "    </tr>\n",
              "    <tr>\n",
              "      <th>4</th>\n",
              "      <td>Kieran Tierney</td>\n",
              "      <td>12.00</td>\n",
              "      <td>63.00</td>\n",
              "      <td>15</td>\n",
              "      <td>20</td>\n",
              "    </tr>\n",
              "    <tr>\n",
              "      <th>6</th>\n",
              "      <td>Sokratis</td>\n",
              "      <td>43.00</td>\n",
              "      <td>173.00</td>\n",
              "      <td>35</td>\n",
              "      <td>35</td>\n",
              "    </tr>\n",
              "    <tr>\n",
              "      <th>7</th>\n",
              "      <td>Rob Holding</td>\n",
              "      <td>54.00</td>\n",
              "      <td>192.00</td>\n",
              "      <td>40</td>\n",
              "      <td>40</td>\n",
              "    </tr>\n",
              "    <tr>\n",
              "      <th>8</th>\n",
              "      <td>Shkodran Mustafi</td>\n",
              "      <td>195.00</td>\n",
              "      <td>455.00</td>\n",
              "      <td>70</td>\n",
              "      <td>65</td>\n",
              "    </tr>\n",
              "    <tr>\n",
              "      <th>9</th>\n",
              "      <td>Calum Chambers</td>\n",
              "      <td>247.00</td>\n",
              "      <td>735.00</td>\n",
              "      <td>80</td>\n",
              "      <td>80</td>\n",
              "    </tr>\n",
              "    <tr>\n",
              "      <th>10</th>\n",
              "      <td>David Luiz</td>\n",
              "      <td>344.00</td>\n",
              "      <td>1042.00</td>\n",
              "      <td>90</td>\n",
              "      <td>90</td>\n",
              "    </tr>\n",
              "    <tr>\n",
              "      <th>11</th>\n",
              "      <td>Sead Kolasinac</td>\n",
              "      <td>72.00</td>\n",
              "      <td>365.00</td>\n",
              "      <td>50</td>\n",
              "      <td>55</td>\n",
              "    </tr>\n",
              "    <tr>\n",
              "      <th>12</th>\n",
              "      <td>Gabriel Magalhães</td>\n",
              "      <td>2.00</td>\n",
              "      <td>6.00</td>\n",
              "      <td>0</td>\n",
              "      <td>5</td>\n",
              "    </tr>\n",
              "    <tr>\n",
              "      <th>35</th>\n",
              "      <td>Neil Taylor</td>\n",
              "      <td>241.00</td>\n",
              "      <td>614.00</td>\n",
              "      <td>80</td>\n",
              "      <td>70</td>\n",
              "    </tr>\n",
              "  </tbody>\n",
              "</table>\n",
              "</div>\n",
              "      <button class=\"colab-df-convert\" onclick=\"convertToInteractive('df-f9ffe955-32c3-4de5-9674-179ab59cf2bb')\"\n",
              "              title=\"Convert this dataframe to an interactive table.\"\n",
              "              style=\"display:none;\">\n",
              "        \n",
              "  <svg xmlns=\"http://www.w3.org/2000/svg\" height=\"24px\"viewBox=\"0 0 24 24\"\n",
              "       width=\"24px\">\n",
              "    <path d=\"M0 0h24v24H0V0z\" fill=\"none\"/>\n",
              "    <path d=\"M18.56 5.44l.94 2.06.94-2.06 2.06-.94-2.06-.94-.94-2.06-.94 2.06-2.06.94zm-11 1L8.5 8.5l.94-2.06 2.06-.94-2.06-.94L8.5 2.5l-.94 2.06-2.06.94zm10 10l.94 2.06.94-2.06 2.06-.94-2.06-.94-.94-2.06-.94 2.06-2.06.94z\"/><path d=\"M17.41 7.96l-1.37-1.37c-.4-.4-.92-.59-1.43-.59-.52 0-1.04.2-1.43.59L10.3 9.45l-7.72 7.72c-.78.78-.78 2.05 0 2.83L4 21.41c.39.39.9.59 1.41.59.51 0 1.02-.2 1.41-.59l7.78-7.78 2.81-2.81c.8-.78.8-2.07 0-2.86zM5.41 20L4 18.59l7.72-7.72 1.47 1.35L5.41 20z\"/>\n",
              "  </svg>\n",
              "      </button>\n",
              "      \n",
              "  <style>\n",
              "    .colab-df-container {\n",
              "      display:flex;\n",
              "      flex-wrap:wrap;\n",
              "      gap: 12px;\n",
              "    }\n",
              "\n",
              "    .colab-df-convert {\n",
              "      background-color: #E8F0FE;\n",
              "      border: none;\n",
              "      border-radius: 50%;\n",
              "      cursor: pointer;\n",
              "      display: none;\n",
              "      fill: #1967D2;\n",
              "      height: 32px;\n",
              "      padding: 0 0 0 0;\n",
              "      width: 32px;\n",
              "    }\n",
              "\n",
              "    .colab-df-convert:hover {\n",
              "      background-color: #E2EBFA;\n",
              "      box-shadow: 0px 1px 2px rgba(60, 64, 67, 0.3), 0px 1px 3px 1px rgba(60, 64, 67, 0.15);\n",
              "      fill: #174EA6;\n",
              "    }\n",
              "\n",
              "    [theme=dark] .colab-df-convert {\n",
              "      background-color: #3B4455;\n",
              "      fill: #D2E3FC;\n",
              "    }\n",
              "\n",
              "    [theme=dark] .colab-df-convert:hover {\n",
              "      background-color: #434B5C;\n",
              "      box-shadow: 0px 1px 3px 1px rgba(0, 0, 0, 0.15);\n",
              "      filter: drop-shadow(0px 1px 2px rgba(0, 0, 0, 0.3));\n",
              "      fill: #FFFFFF;\n",
              "    }\n",
              "  </style>\n",
              "\n",
              "      <script>\n",
              "        const buttonEl =\n",
              "          document.querySelector('#df-f9ffe955-32c3-4de5-9674-179ab59cf2bb button.colab-df-convert');\n",
              "        buttonEl.style.display =\n",
              "          google.colab.kernel.accessAllowed ? 'block' : 'none';\n",
              "\n",
              "        async function convertToInteractive(key) {\n",
              "          const element = document.querySelector('#df-f9ffe955-32c3-4de5-9674-179ab59cf2bb');\n",
              "          const dataTable =\n",
              "            await google.colab.kernel.invokeFunction('convertToInteractive',\n",
              "                                                     [key], {});\n",
              "          if (!dataTable) return;\n",
              "\n",
              "          const docLinkHtml = 'Like what you see? Visit the ' +\n",
              "            '<a target=\"_blank\" href=https://colab.research.google.com/notebooks/data_table.ipynb>data table notebook</a>'\n",
              "            + ' to learn more about interactive tables.';\n",
              "          element.innerHTML = '';\n",
              "          dataTable['output_type'] = 'display_data';\n",
              "          await google.colab.output.renderOutput(dataTable, element);\n",
              "          const docLink = document.createElement('div');\n",
              "          docLink.innerHTML = docLinkHtml;\n",
              "          element.appendChild(docLink);\n",
              "        }\n",
              "      </script>\n",
              "    </div>\n",
              "  </div>\n",
              "  "
            ]
          },
          "metadata": {},
          "execution_count": 108
        }
      ]
    },
    {
      "cell_type": "code",
      "source": [
        "defenders_out = defenders[(defenders.interceptions_c == 95) & (defenders.recoveries_c == 95)]\n",
        "defenders_out"
      ],
      "metadata": {
        "colab": {
          "base_uri": "https://localhost:8080/",
          "height": 237
        },
        "id": "QOGKwQc8_97t",
        "outputId": "396ca4d7-22d4-49e6-e256-f6225647eb5f"
      },
      "execution_count": null,
      "outputs": [
        {
          "output_type": "execute_result",
          "data": {
            "text/plain": [
              "                  Name  Interceptions  Recoveries interceptions_c recoveries_c\n",
              "99       Phil Bardsley         423.00     1154.00              95           95\n",
              "122  César Azpilicueta         475.00     1376.00              95           95\n",
              "151        Gary Cahill         452.00     1441.00              95           95\n",
              "261        Jonny Evans         585.00     1587.00              95           95\n",
              "324        Kyle Walker         498.00     1592.00              95           95\n",
              "419      Phil Jagielka         618.00     1626.00              95           95"
            ],
            "text/html": [
              "\n",
              "  <div id=\"df-92bb25b7-4535-4d53-84c9-bc3dbe05775c\">\n",
              "    <div class=\"colab-df-container\">\n",
              "      <div>\n",
              "<style scoped>\n",
              "    .dataframe tbody tr th:only-of-type {\n",
              "        vertical-align: middle;\n",
              "    }\n",
              "\n",
              "    .dataframe tbody tr th {\n",
              "        vertical-align: top;\n",
              "    }\n",
              "\n",
              "    .dataframe thead th {\n",
              "        text-align: right;\n",
              "    }\n",
              "</style>\n",
              "<table border=\"1\" class=\"dataframe\">\n",
              "  <thead>\n",
              "    <tr style=\"text-align: right;\">\n",
              "      <th></th>\n",
              "      <th>Name</th>\n",
              "      <th>Interceptions</th>\n",
              "      <th>Recoveries</th>\n",
              "      <th>interceptions_c</th>\n",
              "      <th>recoveries_c</th>\n",
              "    </tr>\n",
              "  </thead>\n",
              "  <tbody>\n",
              "    <tr>\n",
              "      <th>99</th>\n",
              "      <td>Phil Bardsley</td>\n",
              "      <td>423.00</td>\n",
              "      <td>1154.00</td>\n",
              "      <td>95</td>\n",
              "      <td>95</td>\n",
              "    </tr>\n",
              "    <tr>\n",
              "      <th>122</th>\n",
              "      <td>César Azpilicueta</td>\n",
              "      <td>475.00</td>\n",
              "      <td>1376.00</td>\n",
              "      <td>95</td>\n",
              "      <td>95</td>\n",
              "    </tr>\n",
              "    <tr>\n",
              "      <th>151</th>\n",
              "      <td>Gary Cahill</td>\n",
              "      <td>452.00</td>\n",
              "      <td>1441.00</td>\n",
              "      <td>95</td>\n",
              "      <td>95</td>\n",
              "    </tr>\n",
              "    <tr>\n",
              "      <th>261</th>\n",
              "      <td>Jonny Evans</td>\n",
              "      <td>585.00</td>\n",
              "      <td>1587.00</td>\n",
              "      <td>95</td>\n",
              "      <td>95</td>\n",
              "    </tr>\n",
              "    <tr>\n",
              "      <th>324</th>\n",
              "      <td>Kyle Walker</td>\n",
              "      <td>498.00</td>\n",
              "      <td>1592.00</td>\n",
              "      <td>95</td>\n",
              "      <td>95</td>\n",
              "    </tr>\n",
              "    <tr>\n",
              "      <th>419</th>\n",
              "      <td>Phil Jagielka</td>\n",
              "      <td>618.00</td>\n",
              "      <td>1626.00</td>\n",
              "      <td>95</td>\n",
              "      <td>95</td>\n",
              "    </tr>\n",
              "  </tbody>\n",
              "</table>\n",
              "</div>\n",
              "      <button class=\"colab-df-convert\" onclick=\"convertToInteractive('df-92bb25b7-4535-4d53-84c9-bc3dbe05775c')\"\n",
              "              title=\"Convert this dataframe to an interactive table.\"\n",
              "              style=\"display:none;\">\n",
              "        \n",
              "  <svg xmlns=\"http://www.w3.org/2000/svg\" height=\"24px\"viewBox=\"0 0 24 24\"\n",
              "       width=\"24px\">\n",
              "    <path d=\"M0 0h24v24H0V0z\" fill=\"none\"/>\n",
              "    <path d=\"M18.56 5.44l.94 2.06.94-2.06 2.06-.94-2.06-.94-.94-2.06-.94 2.06-2.06.94zm-11 1L8.5 8.5l.94-2.06 2.06-.94-2.06-.94L8.5 2.5l-.94 2.06-2.06.94zm10 10l.94 2.06.94-2.06 2.06-.94-2.06-.94-.94-2.06-.94 2.06-2.06.94z\"/><path d=\"M17.41 7.96l-1.37-1.37c-.4-.4-.92-.59-1.43-.59-.52 0-1.04.2-1.43.59L10.3 9.45l-7.72 7.72c-.78.78-.78 2.05 0 2.83L4 21.41c.39.39.9.59 1.41.59.51 0 1.02-.2 1.41-.59l7.78-7.78 2.81-2.81c.8-.78.8-2.07 0-2.86zM5.41 20L4 18.59l7.72-7.72 1.47 1.35L5.41 20z\"/>\n",
              "  </svg>\n",
              "      </button>\n",
              "      \n",
              "  <style>\n",
              "    .colab-df-container {\n",
              "      display:flex;\n",
              "      flex-wrap:wrap;\n",
              "      gap: 12px;\n",
              "    }\n",
              "\n",
              "    .colab-df-convert {\n",
              "      background-color: #E8F0FE;\n",
              "      border: none;\n",
              "      border-radius: 50%;\n",
              "      cursor: pointer;\n",
              "      display: none;\n",
              "      fill: #1967D2;\n",
              "      height: 32px;\n",
              "      padding: 0 0 0 0;\n",
              "      width: 32px;\n",
              "    }\n",
              "\n",
              "    .colab-df-convert:hover {\n",
              "      background-color: #E2EBFA;\n",
              "      box-shadow: 0px 1px 2px rgba(60, 64, 67, 0.3), 0px 1px 3px 1px rgba(60, 64, 67, 0.15);\n",
              "      fill: #174EA6;\n",
              "    }\n",
              "\n",
              "    [theme=dark] .colab-df-convert {\n",
              "      background-color: #3B4455;\n",
              "      fill: #D2E3FC;\n",
              "    }\n",
              "\n",
              "    [theme=dark] .colab-df-convert:hover {\n",
              "      background-color: #434B5C;\n",
              "      box-shadow: 0px 1px 3px 1px rgba(0, 0, 0, 0.15);\n",
              "      filter: drop-shadow(0px 1px 2px rgba(0, 0, 0, 0.3));\n",
              "      fill: #FFFFFF;\n",
              "    }\n",
              "  </style>\n",
              "\n",
              "      <script>\n",
              "        const buttonEl =\n",
              "          document.querySelector('#df-92bb25b7-4535-4d53-84c9-bc3dbe05775c button.colab-df-convert');\n",
              "        buttonEl.style.display =\n",
              "          google.colab.kernel.accessAllowed ? 'block' : 'none';\n",
              "\n",
              "        async function convertToInteractive(key) {\n",
              "          const element = document.querySelector('#df-92bb25b7-4535-4d53-84c9-bc3dbe05775c');\n",
              "          const dataTable =\n",
              "            await google.colab.kernel.invokeFunction('convertToInteractive',\n",
              "                                                     [key], {});\n",
              "          if (!dataTable) return;\n",
              "\n",
              "          const docLinkHtml = 'Like what you see? Visit the ' +\n",
              "            '<a target=\"_blank\" href=https://colab.research.google.com/notebooks/data_table.ipynb>data table notebook</a>'\n",
              "            + ' to learn more about interactive tables.';\n",
              "          element.innerHTML = '';\n",
              "          dataTable['output_type'] = 'display_data';\n",
              "          await google.colab.output.renderOutput(dataTable, element);\n",
              "          const docLink = document.createElement('div');\n",
              "          docLink.innerHTML = docLinkHtml;\n",
              "          element.appendChild(docLink);\n",
              "        }\n",
              "      </script>\n",
              "    </div>\n",
              "  </div>\n",
              "  "
            ]
          },
          "metadata": {},
          "execution_count": 109
        }
      ]
    },
    {
      "cell_type": "code",
      "source": [
        "defenders.plot.scatter(x='Interceptions', y='Recoveries')\n",
        "plt.vlines(x=395.75, ymin=defenders.Recoveries.min(),\n",
        "           ymax=defenders.Recoveries.max(), linestyles='dashed')\n",
        "plt.hlines(y=1133.0, xmin=defenders.Interceptions.min(),\n",
        "           xmax=defenders.Interceptions.max(), linestyles='dashed')\n",
        "plt.show()"
      ],
      "metadata": {
        "colab": {
          "base_uri": "https://localhost:8080/",
          "height": 279
        },
        "id": "b5btwOcE_-B-",
        "outputId": "2e9d52fb-be4b-4b6a-b52d-c2917ac104a8"
      },
      "execution_count": null,
      "outputs": [
        {
          "output_type": "display_data",
          "data": {
            "text/plain": [
              "<Figure size 432x288 with 1 Axes>"
            ],
            "image/png": "[encoded data removed]"
          },
          "metadata": {
            "needs_background": "light"
          }
        }
      ]
    },
    {
      "cell_type": "markdown",
      "source": [
        "# 5.- Correlacion entre variables\n",
        "\n",
        "Vamos a analizar si existe alguna correlacion entre las variables. Vamos a usar un subset de las mismas.\n"
      ],
      "metadata": {
        "id": "y2AFciU7Emhy"
      }
    },
    {
      "cell_type": "code",
      "source": [
        "# Creamos variables por partido\n",
        "cols = [\"Wins\", \"Shots\", \"Tackles\", \"Interceptions\",  \n",
        "        \"Passes\", \"Crosses\", \"Yellow cards\"]\n",
        "for col in cols:\n",
        "  clean_name = col.lower().replace(\" \",\"_\")\n",
        "  df[clean_name + \"_per_match\"] = df[col] / df[\"Appearances\"]"
      ],
      "metadata": {
        "id": "0nwRTOm3EqEv"
      },
      "execution_count": null,
      "outputs": []
    },
    {
      "cell_type": "code",
      "source": [
        "df.iloc[:5,-10:]"
      ],
      "metadata": {
        "id": "rcEI5BSEEqH8",
        "colab": {
          "base_uri": "https://localhost:8080/",
          "height": 270
        },
        "outputId": "aac5a7f0-43d6-463e-8ce9-0ec9e922e3fb"
      },
      "execution_count": null,
      "outputs": [
        {
          "output_type": "execute_result",
          "data": {
            "text/plain": [
              "   wins_per_match  shots_per_match  clean_sheets_per_match  tackles_per_match  \\\n",
              "0            0.44             0.00                    0.22                NaN   \n",
              "3            0.56             0.12                    0.33               1.34   \n",
              "4            0.44             1.25                    0.12               1.31   \n",
              "6            0.48             0.45                    0.20               1.52   \n",
              "7            0.61             0.49                    0.24               1.22   \n",
              "\n",
              "   interceptions_per_match  recoveries_per_match  duels_won_per_match  \\\n",
              "0                      NaN                   NaN                  NaN   \n",
              "3                     1.30                  4.58                 3.82   \n",
              "4                     0.75                  3.94                 3.44   \n",
              "6                     0.98                  3.93                 5.16   \n",
              "7                     1.32                  4.68                 4.29   \n",
              "\n",
              "   passes_per_match  crosses_per_match  yellow_cards_per_match  \n",
              "0             27.86                NaN                    0.03  \n",
              "3             44.53               2.43                    0.14  \n",
              "4             32.44               2.81                    0.12  \n",
              "6             54.91               0.02                    0.41  \n",
              "7             53.66               0.07                    0.20  "
            ],
            "text/html": [
              "\n",
              "  <div id=\"df-96d74c55-c037-4363-8da6-19c7dea9235c\">\n",
              "    <div class=\"colab-df-container\">\n",
              "      <div>\n",
              "<style scoped>\n",
              "    .dataframe tbody tr th:only-of-type {\n",
              "        vertical-align: middle;\n",
              "    }\n",
              "\n",
              "    .dataframe tbody tr th {\n",
              "        vertical-align: top;\n",
              "    }\n",
              "\n",
              "    .dataframe thead th {\n",
              "        text-align: right;\n",
              "    }\n",
              "</style>\n",
              "<table border=\"1\" class=\"dataframe\">\n",
              "  <thead>\n",
              "    <tr style=\"text-align: right;\">\n",
              "      <th></th>\n",
              "      <th>wins_per_match</th>\n",
              "      <th>shots_per_match</th>\n",
              "      <th>clean_sheets_per_match</th>\n",
              "      <th>tackles_per_match</th>\n",
              "      <th>interceptions_per_match</th>\n",
              "      <th>recoveries_per_match</th>\n",
              "      <th>duels_won_per_match</th>\n",
              "      <th>passes_per_match</th>\n",
              "      <th>crosses_per_match</th>\n",
              "      <th>yellow_cards_per_match</th>\n",
              "    </tr>\n",
              "  </thead>\n",
              "  <tbody>\n",
              "    <tr>\n",
              "      <th>0</th>\n",
              "      <td>0.44</td>\n",
              "      <td>0.00</td>\n",
              "      <td>0.22</td>\n",
              "      <td>NaN</td>\n",
              "      <td>NaN</td>\n",
              "      <td>NaN</td>\n",
              "      <td>NaN</td>\n",
              "      <td>27.86</td>\n",
              "      <td>NaN</td>\n",
              "      <td>0.03</td>\n",
              "    </tr>\n",
              "    <tr>\n",
              "      <th>3</th>\n",
              "      <td>0.56</td>\n",
              "      <td>0.12</td>\n",
              "      <td>0.33</td>\n",
              "      <td>1.34</td>\n",
              "      <td>1.30</td>\n",
              "      <td>4.58</td>\n",
              "      <td>3.82</td>\n",
              "      <td>44.53</td>\n",
              "      <td>2.43</td>\n",
              "      <td>0.14</td>\n",
              "    </tr>\n",
              "    <tr>\n",
              "      <th>4</th>\n",
              "      <td>0.44</td>\n",
              "      <td>1.25</td>\n",
              "      <td>0.12</td>\n",
              "      <td>1.31</td>\n",
              "      <td>0.75</td>\n",
              "      <td>3.94</td>\n",
              "      <td>3.44</td>\n",
              "      <td>32.44</td>\n",
              "      <td>2.81</td>\n",
              "      <td>0.12</td>\n",
              "    </tr>\n",
              "    <tr>\n",
              "      <th>6</th>\n",
              "      <td>0.48</td>\n",
              "      <td>0.45</td>\n",
              "      <td>0.20</td>\n",
              "      <td>1.52</td>\n",
              "      <td>0.98</td>\n",
              "      <td>3.93</td>\n",
              "      <td>5.16</td>\n",
              "      <td>54.91</td>\n",
              "      <td>0.02</td>\n",
              "      <td>0.41</td>\n",
              "    </tr>\n",
              "    <tr>\n",
              "      <th>7</th>\n",
              "      <td>0.61</td>\n",
              "      <td>0.49</td>\n",
              "      <td>0.24</td>\n",
              "      <td>1.22</td>\n",
              "      <td>1.32</td>\n",
              "      <td>4.68</td>\n",
              "      <td>4.29</td>\n",
              "      <td>53.66</td>\n",
              "      <td>0.07</td>\n",
              "      <td>0.20</td>\n",
              "    </tr>\n",
              "  </tbody>\n",
              "</table>\n",
              "</div>\n",
              "      <button class=\"colab-df-convert\" onclick=\"convertToInteractive('df-96d74c55-c037-4363-8da6-19c7dea9235c')\"\n",
              "              title=\"Convert this dataframe to an interactive table.\"\n",
              "              style=\"display:none;\">\n",
              "        \n",
              "  <svg xmlns=\"http://www.w3.org/2000/svg\" height=\"24px\"viewBox=\"0 0 24 24\"\n",
              "       width=\"24px\">\n",
              "    <path d=\"M0 0h24v24H0V0z\" fill=\"none\"/>\n",
              "    <path d=\"M18.56 5.44l.94 2.06.94-2.06 2.06-.94-2.06-.94-.94-2.06-.94 2.06-2.06.94zm-11 1L8.5 8.5l.94-2.06 2.06-.94-2.06-.94L8.5 2.5l-.94 2.06-2.06.94zm10 10l.94 2.06.94-2.06 2.06-.94-2.06-.94-.94-2.06-.94 2.06-2.06.94z\"/><path d=\"M17.41 7.96l-1.37-1.37c-.4-.4-.92-.59-1.43-.59-.52 0-1.04.2-1.43.59L10.3 9.45l-7.72 7.72c-.78.78-.78 2.05 0 2.83L4 21.41c.39.39.9.59 1.41.59.51 0 1.02-.2 1.41-.59l7.78-7.78 2.81-2.81c.8-.78.8-2.07 0-2.86zM5.41 20L4 18.59l7.72-7.72 1.47 1.35L5.41 20z\"/>\n",
              "  </svg>\n",
              "      </button>\n",
              "      \n",
              "  <style>\n",
              "    .colab-df-container {\n",
              "      display:flex;\n",
              "      flex-wrap:wrap;\n",
              "      gap: 12px;\n",
              "    }\n",
              "\n",
              "    .colab-df-convert {\n",
              "      background-color: #E8F0FE;\n",
              "      border: none;\n",
              "      border-radius: 50%;\n",
              "      cursor: pointer;\n",
              "      display: none;\n",
              "      fill: #1967D2;\n",
              "      height: 32px;\n",
              "      padding: 0 0 0 0;\n",
              "      width: 32px;\n",
              "    }\n",
              "\n",
              "    .colab-df-convert:hover {\n",
              "      background-color: #E2EBFA;\n",
              "      box-shadow: 0px 1px 2px rgba(60, 64, 67, 0.3), 0px 1px 3px 1px rgba(60, 64, 67, 0.15);\n",
              "      fill: #174EA6;\n",
              "    }\n",
              "\n",
              "    [theme=dark] .colab-df-convert {\n",
              "      background-color: #3B4455;\n",
              "      fill: #D2E3FC;\n",
              "    }\n",
              "\n",
              "    [theme=dark] .colab-df-convert:hover {\n",
              "      background-color: #434B5C;\n",
              "      box-shadow: 0px 1px 3px 1px rgba(0, 0, 0, 0.15);\n",
              "      filter: drop-shadow(0px 1px 2px rgba(0, 0, 0, 0.3));\n",
              "      fill: #FFFFFF;\n",
              "    }\n",
              "  </style>\n",
              "\n",
              "      <script>\n",
              "        const buttonEl =\n",
              "          document.querySelector('#df-96d74c55-c037-4363-8da6-19c7dea9235c button.colab-df-convert');\n",
              "        buttonEl.style.display =\n",
              "          google.colab.kernel.accessAllowed ? 'block' : 'none';\n",
              "\n",
              "        async function convertToInteractive(key) {\n",
              "          const element = document.querySelector('#df-96d74c55-c037-4363-8da6-19c7dea9235c');\n",
              "          const dataTable =\n",
              "            await google.colab.kernel.invokeFunction('convertToInteractive',\n",
              "                                                     [key], {});\n",
              "          if (!dataTable) return;\n",
              "\n",
              "          const docLinkHtml = 'Like what you see? Visit the ' +\n",
              "            '<a target=\"_blank\" href=https://colab.research.google.com/notebooks/data_table.ipynb>data table notebook</a>'\n",
              "            + ' to learn more about interactive tables.';\n",
              "          element.innerHTML = '';\n",
              "          dataTable['output_type'] = 'display_data';\n",
              "          await google.colab.output.renderOutput(dataTable, element);\n",
              "          const docLink = document.createElement('div');\n",
              "          docLink.innerHTML = docLinkHtml;\n",
              "          element.appendChild(docLink);\n",
              "        }\n",
              "      </script>\n",
              "    </div>\n",
              "  </div>\n",
              "  "
            ]
          },
          "metadata": {},
          "execution_count": 100
        }
      ]
    },
    {
      "cell_type": "code",
      "source": [
        "# Eliminamos aqueros\n",
        "sub_df = df.query(\"Position != 'Goalkeeper'\").copy()"
      ],
      "metadata": {
        "id": "q0PoEEDAsKL6"
      },
      "execution_count": null,
      "outputs": []
    },
    {
      "cell_type": "code",
      "source": [
        "# Evaluamos correlaciones con la edad\n",
        "per_match_columns = [c for c in df.columns if c.endswith(\"_per_match\")]\n",
        "corr_matrix = sub_df[[\"Age\"] + per_match_columns].corr()"
      ],
      "metadata": {
        "id": "5wHyHoetEqKz"
      },
      "execution_count": null,
      "outputs": []
    },
    {
      "cell_type": "code",
      "source": [
        "corr_matrix"
      ],
      "metadata": {
        "colab": {
          "base_uri": "https://localhost:8080/",
          "height": 490
        },
        "id": "VG9G_f1hnwhb",
        "outputId": "c668951b-ea6b-45be-db7a-4f93117795fc"
      },
      "execution_count": null,
      "outputs": [
        {
          "output_type": "execute_result",
          "data": {
            "text/plain": [
              "                          Age  fouls_per_match  wins_per_match  \\\n",
              "Age                      1.00             0.23           -0.05   \n",
              "fouls_per_match          0.23             1.00           -0.01   \n",
              "wins_per_match          -0.05            -0.01            1.00   \n",
              "shots_per_match         -0.15             0.02           -0.01   \n",
              "clean_sheets_per_match   0.18            -0.03            0.54   \n",
              "tackles_per_match        0.21             0.30            0.03   \n",
              "interceptions_per_match  0.29             0.29            0.02   \n",
              "recoveries_per_match     0.35             0.46            0.02   \n",
              "duels_won_per_match      0.23             0.46           -0.08   \n",
              "passes_per_match         0.22             0.30            0.31   \n",
              "crosses_per_match        0.13             0.05            0.03   \n",
              "yellow_cards_per_match   0.19             0.42           -0.07   \n",
              "\n",
              "                         shots_per_match  clean_sheets_per_match  \\\n",
              "Age                                -0.15                    0.18   \n",
              "fouls_per_match                     0.02                   -0.03   \n",
              "wins_per_match                     -0.01                    0.54   \n",
              "shots_per_match                     1.00                   -0.16   \n",
              "clean_sheets_per_match             -0.16                    1.00   \n",
              "tackles_per_match                   0.01                   -0.02   \n",
              "interceptions_per_match             0.03                    0.21   \n",
              "recoveries_per_match               -0.16                    0.37   \n",
              "duels_won_per_match                 0.02                    0.05   \n",
              "passes_per_match                    0.07                    0.48   \n",
              "crosses_per_match                   0.04                    0.17   \n",
              "yellow_cards_per_match              0.18                    0.24   \n",
              "\n",
              "                         tackles_per_match  interceptions_per_match  \\\n",
              "Age                                   0.21                     0.29   \n",
              "fouls_per_match                       0.30                     0.29   \n",
              "wins_per_match                        0.03                     0.02   \n",
              "shots_per_match                       0.01                     0.03   \n",
              "clean_sheets_per_match               -0.02                     0.21   \n",
              "tackles_per_match                     1.00                     0.65   \n",
              "interceptions_per_match               0.65                     1.00   \n",
              "recoveries_per_match                  0.60                     0.57   \n",
              "duels_won_per_match                   0.67                     0.55   \n",
              "passes_per_match                      0.55                     0.59   \n",
              "crosses_per_match                     0.15                     0.10   \n",
              "yellow_cards_per_match                0.26                     0.42   \n",
              "\n",
              "                         recoveries_per_match  duels_won_per_match  \\\n",
              "Age                                      0.35                 0.23   \n",
              "fouls_per_match                          0.46                 0.46   \n",
              "wins_per_match                           0.02                -0.08   \n",
              "shots_per_match                         -0.16                 0.02   \n",
              "clean_sheets_per_match                   0.37                 0.05   \n",
              "tackles_per_match                        0.60                 0.67   \n",
              "interceptions_per_match                  0.57                 0.55   \n",
              "recoveries_per_match                     1.00                 0.58   \n",
              "duels_won_per_match                      0.58                 1.00   \n",
              "passes_per_match                         0.70                 0.44   \n",
              "crosses_per_match                        0.09                 0.00   \n",
              "yellow_cards_per_match                   0.32                 0.16   \n",
              "\n",
              "                         passes_per_match  crosses_per_match  \\\n",
              "Age                                  0.22               0.13   \n",
              "fouls_per_match                      0.30               0.05   \n",
              "wins_per_match                       0.31               0.03   \n",
              "shots_per_match                      0.07               0.04   \n",
              "clean_sheets_per_match               0.48               0.17   \n",
              "tackles_per_match                    0.55               0.15   \n",
              "interceptions_per_match              0.59               0.10   \n",
              "recoveries_per_match                 0.70               0.09   \n",
              "duels_won_per_match                  0.44               0.00   \n",
              "passes_per_match                     1.00               0.11   \n",
              "crosses_per_match                    0.11               1.00   \n",
              "yellow_cards_per_match               0.31               0.14   \n",
              "\n",
              "                         yellow_cards_per_match  \n",
              "Age                                        0.19  \n",
              "fouls_per_match                            0.42  \n",
              "wins_per_match                            -0.07  \n",
              "shots_per_match                            0.18  \n",
              "clean_sheets_per_match                     0.24  \n",
              "tackles_per_match                          0.26  \n",
              "interceptions_per_match                    0.42  \n",
              "recoveries_per_match                       0.32  \n",
              "duels_won_per_match                        0.16  \n",
              "passes_per_match                           0.31  \n",
              "crosses_per_match                          0.14  \n",
              "yellow_cards_per_match                     1.00  "
            ],
            "text/html": [
              "\n",
              "  <div id=\"df-c8b49655-6092-4e1c-962d-3925f4c66b77\">\n",
              "    <div class=\"colab-df-container\">\n",
              "      <div>\n",
              "<style scoped>\n",
              "    .dataframe tbody tr th:only-of-type {\n",
              "        vertical-align: middle;\n",
              "    }\n",
              "\n",
              "    .dataframe tbody tr th {\n",
              "        vertical-align: top;\n",
              "    }\n",
              "\n",
              "    .dataframe thead th {\n",
              "        text-align: right;\n",
              "    }\n",
              "</style>\n",
              "<table border=\"1\" class=\"dataframe\">\n",
              "  <thead>\n",
              "    <tr style=\"text-align: right;\">\n",
              "      <th></th>\n",
              "      <th>Age</th>\n",
              "      <th>fouls_per_match</th>\n",
              "      <th>wins_per_match</th>\n",
              "      <th>shots_per_match</th>\n",
              "      <th>clean_sheets_per_match</th>\n",
              "      <th>tackles_per_match</th>\n",
              "      <th>interceptions_per_match</th>\n",
              "      <th>recoveries_per_match</th>\n",
              "      <th>duels_won_per_match</th>\n",
              "      <th>passes_per_match</th>\n",
              "      <th>crosses_per_match</th>\n",
              "      <th>yellow_cards_per_match</th>\n",
              "    </tr>\n",
              "  </thead>\n",
              "  <tbody>\n",
              "    <tr>\n",
              "      <th>Age</th>\n",
              "      <td>1.00</td>\n",
              "      <td>0.23</td>\n",
              "      <td>-0.05</td>\n",
              "      <td>-0.15</td>\n",
              "      <td>0.18</td>\n",
              "      <td>0.21</td>\n",
              "      <td>0.29</td>\n",
              "      <td>0.35</td>\n",
              "      <td>0.23</td>\n",
              "      <td>0.22</td>\n",
              "      <td>0.13</td>\n",
              "      <td>0.19</td>\n",
              "    </tr>\n",
              "    <tr>\n",
              "      <th>fouls_per_match</th>\n",
              "      <td>0.23</td>\n",
              "      <td>1.00</td>\n",
              "      <td>-0.01</td>\n",
              "      <td>0.02</td>\n",
              "      <td>-0.03</td>\n",
              "      <td>0.30</td>\n",
              "      <td>0.29</td>\n",
              "      <td>0.46</td>\n",
              "      <td>0.46</td>\n",
              "      <td>0.30</td>\n",
              "      <td>0.05</td>\n",
              "      <td>0.42</td>\n",
              "    </tr>\n",
              "    <tr>\n",
              "      <th>wins_per_match</th>\n",
              "      <td>-0.05</td>\n",
              "      <td>-0.01</td>\n",
              "      <td>1.00</td>\n",
              "      <td>-0.01</td>\n",
              "      <td>0.54</td>\n",
              "      <td>0.03</td>\n",
              "      <td>0.02</td>\n",
              "      <td>0.02</td>\n",
              "      <td>-0.08</td>\n",
              "      <td>0.31</td>\n",
              "      <td>0.03</td>\n",
              "      <td>-0.07</td>\n",
              "    </tr>\n",
              "    <tr>\n",
              "      <th>shots_per_match</th>\n",
              "      <td>-0.15</td>\n",
              "      <td>0.02</td>\n",
              "      <td>-0.01</td>\n",
              "      <td>1.00</td>\n",
              "      <td>-0.16</td>\n",
              "      <td>0.01</td>\n",
              "      <td>0.03</td>\n",
              "      <td>-0.16</td>\n",
              "      <td>0.02</td>\n",
              "      <td>0.07</td>\n",
              "      <td>0.04</td>\n",
              "      <td>0.18</td>\n",
              "    </tr>\n",
              "    <tr>\n",
              "      <th>clean_sheets_per_match</th>\n",
              "      <td>0.18</td>\n",
              "      <td>-0.03</td>\n",
              "      <td>0.54</td>\n",
              "      <td>-0.16</td>\n",
              "      <td>1.00</td>\n",
              "      <td>-0.02</td>\n",
              "      <td>0.21</td>\n",
              "      <td>0.37</td>\n",
              "      <td>0.05</td>\n",
              "      <td>0.48</td>\n",
              "      <td>0.17</td>\n",
              "      <td>0.24</td>\n",
              "    </tr>\n",
              "    <tr>\n",
              "      <th>tackles_per_match</th>\n",
              "      <td>0.21</td>\n",
              "      <td>0.30</td>\n",
              "      <td>0.03</td>\n",
              "      <td>0.01</td>\n",
              "      <td>-0.02</td>\n",
              "      <td>1.00</td>\n",
              "      <td>0.65</td>\n",
              "      <td>0.60</td>\n",
              "      <td>0.67</td>\n",
              "      <td>0.55</td>\n",
              "      <td>0.15</td>\n",
              "      <td>0.26</td>\n",
              "    </tr>\n",
              "    <tr>\n",
              "      <th>interceptions_per_match</th>\n",
              "      <td>0.29</td>\n",
              "      <td>0.29</td>\n",
              "      <td>0.02</td>\n",
              "      <td>0.03</td>\n",
              "      <td>0.21</td>\n",
              "      <td>0.65</td>\n",
              "      <td>1.00</td>\n",
              "      <td>0.57</td>\n",
              "      <td>0.55</td>\n",
              "      <td>0.59</td>\n",
              "      <td>0.10</td>\n",
              "      <td>0.42</td>\n",
              "    </tr>\n",
              "    <tr>\n",
              "      <th>recoveries_per_match</th>\n",
              "      <td>0.35</td>\n",
              "      <td>0.46</td>\n",
              "      <td>0.02</td>\n",
              "      <td>-0.16</td>\n",
              "      <td>0.37</td>\n",
              "      <td>0.60</td>\n",
              "      <td>0.57</td>\n",
              "      <td>1.00</td>\n",
              "      <td>0.58</td>\n",
              "      <td>0.70</td>\n",
              "      <td>0.09</td>\n",
              "      <td>0.32</td>\n",
              "    </tr>\n",
              "    <tr>\n",
              "      <th>duels_won_per_match</th>\n",
              "      <td>0.23</td>\n",
              "      <td>0.46</td>\n",
              "      <td>-0.08</td>\n",
              "      <td>0.02</td>\n",
              "      <td>0.05</td>\n",
              "      <td>0.67</td>\n",
              "      <td>0.55</td>\n",
              "      <td>0.58</td>\n",
              "      <td>1.00</td>\n",
              "      <td>0.44</td>\n",
              "      <td>0.00</td>\n",
              "      <td>0.16</td>\n",
              "    </tr>\n",
              "    <tr>\n",
              "      <th>passes_per_match</th>\n",
              "      <td>0.22</td>\n",
              "      <td>0.30</td>\n",
              "      <td>0.31</td>\n",
              "      <td>0.07</td>\n",
              "      <td>0.48</td>\n",
              "      <td>0.55</td>\n",
              "      <td>0.59</td>\n",
              "      <td>0.70</td>\n",
              "      <td>0.44</td>\n",
              "      <td>1.00</td>\n",
              "      <td>0.11</td>\n",
              "      <td>0.31</td>\n",
              "    </tr>\n",
              "    <tr>\n",
              "      <th>crosses_per_match</th>\n",
              "      <td>0.13</td>\n",
              "      <td>0.05</td>\n",
              "      <td>0.03</td>\n",
              "      <td>0.04</td>\n",
              "      <td>0.17</td>\n",
              "      <td>0.15</td>\n",
              "      <td>0.10</td>\n",
              "      <td>0.09</td>\n",
              "      <td>0.00</td>\n",
              "      <td>0.11</td>\n",
              "      <td>1.00</td>\n",
              "      <td>0.14</td>\n",
              "    </tr>\n",
              "    <tr>\n",
              "      <th>yellow_cards_per_match</th>\n",
              "      <td>0.19</td>\n",
              "      <td>0.42</td>\n",
              "      <td>-0.07</td>\n",
              "      <td>0.18</td>\n",
              "      <td>0.24</td>\n",
              "      <td>0.26</td>\n",
              "      <td>0.42</td>\n",
              "      <td>0.32</td>\n",
              "      <td>0.16</td>\n",
              "      <td>0.31</td>\n",
              "      <td>0.14</td>\n",
              "      <td>1.00</td>\n",
              "    </tr>\n",
              "  </tbody>\n",
              "</table>\n",
              "</div>\n",
              "      <button class=\"colab-df-convert\" onclick=\"convertToInteractive('df-c8b49655-6092-4e1c-962d-3925f4c66b77')\"\n",
              "              title=\"Convert this dataframe to an interactive table.\"\n",
              "              style=\"display:none;\">\n",
              "        \n",
              "  <svg xmlns=\"http://www.w3.org/2000/svg\" height=\"24px\"viewBox=\"0 0 24 24\"\n",
              "       width=\"24px\">\n",
              "    <path d=\"M0 0h24v24H0V0z\" fill=\"none\"/>\n",
              "    <path d=\"M18.56 5.44l.94 2.06.94-2.06 2.06-.94-2.06-.94-.94-2.06-.94 2.06-2.06.94zm-11 1L8.5 8.5l.94-2.06 2.06-.94-2.06-.94L8.5 2.5l-.94 2.06-2.06.94zm10 10l.94 2.06.94-2.06 2.06-.94-2.06-.94-.94-2.06-.94 2.06-2.06.94z\"/><path d=\"M17.41 7.96l-1.37-1.37c-.4-.4-.92-.59-1.43-.59-.52 0-1.04.2-1.43.59L10.3 9.45l-7.72 7.72c-.78.78-.78 2.05 0 2.83L4 21.41c.39.39.9.59 1.41.59.51 0 1.02-.2 1.41-.59l7.78-7.78 2.81-2.81c.8-.78.8-2.07 0-2.86zM5.41 20L4 18.59l7.72-7.72 1.47 1.35L5.41 20z\"/>\n",
              "  </svg>\n",
              "      </button>\n",
              "      \n",
              "  <style>\n",
              "    .colab-df-container {\n",
              "      display:flex;\n",
              "      flex-wrap:wrap;\n",
              "      gap: 12px;\n",
              "    }\n",
              "\n",
              "    .colab-df-convert {\n",
              "      background-color: #E8F0FE;\n",
              "      border: none;\n",
              "      border-radius: 50%;\n",
              "      cursor: pointer;\n",
              "      display: none;\n",
              "      fill: #1967D2;\n",
              "      height: 32px;\n",
              "      padding: 0 0 0 0;\n",
              "      width: 32px;\n",
              "    }\n",
              "\n",
              "    .colab-df-convert:hover {\n",
              "      background-color: #E2EBFA;\n",
              "      box-shadow: 0px 1px 2px rgba(60, 64, 67, 0.3), 0px 1px 3px 1px rgba(60, 64, 67, 0.15);\n",
              "      fill: #174EA6;\n",
              "    }\n",
              "\n",
              "    [theme=dark] .colab-df-convert {\n",
              "      background-color: #3B4455;\n",
              "      fill: #D2E3FC;\n",
              "    }\n",
              "\n",
              "    [theme=dark] .colab-df-convert:hover {\n",
              "      background-color: #434B5C;\n",
              "      box-shadow: 0px 1px 3px 1px rgba(0, 0, 0, 0.15);\n",
              "      filter: drop-shadow(0px 1px 2px rgba(0, 0, 0, 0.3));\n",
              "      fill: #FFFFFF;\n",
              "    }\n",
              "  </style>\n",
              "\n",
              "      <script>\n",
              "        const buttonEl =\n",
              "          document.querySelector('#df-c8b49655-6092-4e1c-962d-3925f4c66b77 button.colab-df-convert');\n",
              "        buttonEl.style.display =\n",
              "          google.colab.kernel.accessAllowed ? 'block' : 'none';\n",
              "\n",
              "        async function convertToInteractive(key) {\n",
              "          const element = document.querySelector('#df-c8b49655-6092-4e1c-962d-3925f4c66b77');\n",
              "          const dataTable =\n",
              "            await google.colab.kernel.invokeFunction('convertToInteractive',\n",
              "                                                     [key], {});\n",
              "          if (!dataTable) return;\n",
              "\n",
              "          const docLinkHtml = 'Like what you see? Visit the ' +\n",
              "            '<a target=\"_blank\" href=https://colab.research.google.com/notebooks/data_table.ipynb>data table notebook</a>'\n",
              "            + ' to learn more about interactive tables.';\n",
              "          element.innerHTML = '';\n",
              "          dataTable['output_type'] = 'display_data';\n",
              "          await google.colab.output.renderOutput(dataTable, element);\n",
              "          const docLink = document.createElement('div');\n",
              "          docLink.innerHTML = docLinkHtml;\n",
              "          element.appendChild(docLink);\n",
              "        }\n",
              "      </script>\n",
              "    </div>\n",
              "  </div>\n",
              "  "
            ]
          },
          "metadata": {},
          "execution_count": 108
        }
      ]
    },
    {
      "cell_type": "code",
      "source": [
        "corr_matrix[\"Age\"].sort_values()"
      ],
      "metadata": {
        "colab": {
          "base_uri": "https://localhost:8080/"
        },
        "id": "f-WEwmEfozK-",
        "outputId": "4efe6774-b789-4fbb-8998-9b96b86b61eb"
      },
      "execution_count": null,
      "outputs": [
        {
          "output_type": "execute_result",
          "data": {
            "text/plain": [
              "shots_per_match           -0.15\n",
              "wins_per_match            -0.05\n",
              "crosses_per_match          0.13\n",
              "clean_sheets_per_match     0.18\n",
              "yellow_cards_per_match     0.19\n",
              "tackles_per_match          0.21\n",
              "passes_per_match           0.22\n",
              "fouls_per_match            0.23\n",
              "duels_won_per_match        0.23\n",
              "interceptions_per_match    0.29\n",
              "recoveries_per_match       0.35\n",
              "Age                        1.00\n",
              "Name: Age, dtype: float64"
            ]
          },
          "metadata": {},
          "execution_count": 109
        }
      ]
    },
    {
      "cell_type": "code",
      "source": [
        "# Tambien podemos hacer el analisis por posicion\n",
        "position_corr = sub_df[[\"Position\",\"Age\"] + per_match_columns].groupby(\"Position\").corr()"
      ],
      "metadata": {
        "id": "TOYwyk0epnlr"
      },
      "execution_count": null,
      "outputs": []
    },
    {
      "cell_type": "code",
      "source": [
        "# Transformamos los resultados que obtuvimos\n",
        "df_results = position_corr.reset_index().rename(\n",
        "    columns={\"level_1\":\"variable\", \"Age\":\"corr\"})\n",
        "df_results = df_results[[\"variable\", \"Position\", \"corr\"]]\n",
        "df_results[\"abs_corr\"] = abs(df_results[\"corr\"])"
      ],
      "metadata": {
        "id": "9SdAa5DSptYm"
      },
      "execution_count": null,
      "outputs": []
    },
    {
      "cell_type": "code",
      "source": [
        "# buscamos resultados interesantes\n",
        "df_results.sort_values(\"abs_corr\", ascending=False).head(10)"
      ],
      "metadata": {
        "colab": {
          "base_uri": "https://localhost:8080/",
          "height": 363
        },
        "id": "fKtAn0vjqUEs",
        "outputId": "81b54772-54b0-4027-87a5-472a83b9ca09"
      },
      "execution_count": null,
      "outputs": [
        {
          "output_type": "execute_result",
          "data": {
            "text/plain": [
              "                   variable    Position   Age  abs_corr\n",
              "0                       Age    Defender  1.00      1.00\n",
              "28   clean_sheets_per_match  Midfielder -1.00      1.00\n",
              "24                      Age  Midfielder  1.00      1.00\n",
              "12                      Age     Forward  1.00      1.00\n",
              "20      duels_won_per_match     Forward  0.89      0.89\n",
              "19     recoveries_per_match     Forward  0.78      0.78\n",
              "30  interceptions_per_match  Midfielder  0.43      0.43\n",
              "15          shots_per_match     Forward  0.42      0.42\n",
              "33         passes_per_match  Midfielder  0.42      0.42\n",
              "31     recoveries_per_match  Midfielder  0.41      0.41"
            ],
            "text/html": [
              "\n",
              "  <div id=\"df-7054a52b-c732-40f5-9655-161f860584d1\">\n",
              "    <div class=\"colab-df-container\">\n",
              "      <div>\n",
              "<style scoped>\n",
              "    .dataframe tbody tr th:only-of-type {\n",
              "        vertical-align: middle;\n",
              "    }\n",
              "\n",
              "    .dataframe tbody tr th {\n",
              "        vertical-align: top;\n",
              "    }\n",
              "\n",
              "    .dataframe thead th {\n",
              "        text-align: right;\n",
              "    }\n",
              "</style>\n",
              "<table border=\"1\" class=\"dataframe\">\n",
              "  <thead>\n",
              "    <tr style=\"text-align: right;\">\n",
              "      <th></th>\n",
              "      <th>variable</th>\n",
              "      <th>Position</th>\n",
              "      <th>Age</th>\n",
              "      <th>abs_corr</th>\n",
              "    </tr>\n",
              "  </thead>\n",
              "  <tbody>\n",
              "    <tr>\n",
              "      <th>0</th>\n",
              "      <td>Age</td>\n",
              "      <td>Defender</td>\n",
              "      <td>1.00</td>\n",
              "      <td>1.00</td>\n",
              "    </tr>\n",
              "    <tr>\n",
              "      <th>28</th>\n",
              "      <td>clean_sheets_per_match</td>\n",
              "      <td>Midfielder</td>\n",
              "      <td>-1.00</td>\n",
              "      <td>1.00</td>\n",
              "    </tr>\n",
              "    <tr>\n",
              "      <th>24</th>\n",
              "      <td>Age</td>\n",
              "      <td>Midfielder</td>\n",
              "      <td>1.00</td>\n",
              "      <td>1.00</td>\n",
              "    </tr>\n",
              "    <tr>\n",
              "      <th>12</th>\n",
              "      <td>Age</td>\n",
              "      <td>Forward</td>\n",
              "      <td>1.00</td>\n",
              "      <td>1.00</td>\n",
              "    </tr>\n",
              "    <tr>\n",
              "      <th>20</th>\n",
              "      <td>duels_won_per_match</td>\n",
              "      <td>Forward</td>\n",
              "      <td>0.89</td>\n",
              "      <td>0.89</td>\n",
              "    </tr>\n",
              "    <tr>\n",
              "      <th>19</th>\n",
              "      <td>recoveries_per_match</td>\n",
              "      <td>Forward</td>\n",
              "      <td>0.78</td>\n",
              "      <td>0.78</td>\n",
              "    </tr>\n",
              "    <tr>\n",
              "      <th>30</th>\n",
              "      <td>interceptions_per_match</td>\n",
              "      <td>Midfielder</td>\n",
              "      <td>0.43</td>\n",
              "      <td>0.43</td>\n",
              "    </tr>\n",
              "    <tr>\n",
              "      <th>15</th>\n",
              "      <td>shots_per_match</td>\n",
              "      <td>Forward</td>\n",
              "      <td>0.42</td>\n",
              "      <td>0.42</td>\n",
              "    </tr>\n",
              "    <tr>\n",
              "      <th>33</th>\n",
              "      <td>passes_per_match</td>\n",
              "      <td>Midfielder</td>\n",
              "      <td>0.42</td>\n",
              "      <td>0.42</td>\n",
              "    </tr>\n",
              "    <tr>\n",
              "      <th>31</th>\n",
              "      <td>recoveries_per_match</td>\n",
              "      <td>Midfielder</td>\n",
              "      <td>0.41</td>\n",
              "      <td>0.41</td>\n",
              "    </tr>\n",
              "  </tbody>\n",
              "</table>\n",
              "</div>\n",
              "      <button class=\"colab-df-convert\" onclick=\"convertToInteractive('df-7054a52b-c732-40f5-9655-161f860584d1')\"\n",
              "              title=\"Convert this dataframe to an interactive table.\"\n",
              "              style=\"display:none;\">\n",
              "        \n",
              "  <svg xmlns=\"http://www.w3.org/2000/svg\" height=\"24px\"viewBox=\"0 0 24 24\"\n",
              "       width=\"24px\">\n",
              "    <path d=\"M0 0h24v24H0V0z\" fill=\"none\"/>\n",
              "    <path d=\"M18.56 5.44l.94 2.06.94-2.06 2.06-.94-2.06-.94-.94-2.06-.94 2.06-2.06.94zm-11 1L8.5 8.5l.94-2.06 2.06-.94-2.06-.94L8.5 2.5l-.94 2.06-2.06.94zm10 10l.94 2.06.94-2.06 2.06-.94-2.06-.94-.94-2.06-.94 2.06-2.06.94z\"/><path d=\"M17.41 7.96l-1.37-1.37c-.4-.4-.92-.59-1.43-.59-.52 0-1.04.2-1.43.59L10.3 9.45l-7.72 7.72c-.78.78-.78 2.05 0 2.83L4 21.41c.39.39.9.59 1.41.59.51 0 1.02-.2 1.41-.59l7.78-7.78 2.81-2.81c.8-.78.8-2.07 0-2.86zM5.41 20L4 18.59l7.72-7.72 1.47 1.35L5.41 20z\"/>\n",
              "  </svg>\n",
              "      </button>\n",
              "      \n",
              "  <style>\n",
              "    .colab-df-container {\n",
              "      display:flex;\n",
              "      flex-wrap:wrap;\n",
              "      gap: 12px;\n",
              "    }\n",
              "\n",
              "    .colab-df-convert {\n",
              "      background-color: #E8F0FE;\n",
              "      border: none;\n",
              "      border-radius: 50%;\n",
              "      cursor: pointer;\n",
              "      display: none;\n",
              "      fill: #1967D2;\n",
              "      height: 32px;\n",
              "      padding: 0 0 0 0;\n",
              "      width: 32px;\n",
              "    }\n",
              "\n",
              "    .colab-df-convert:hover {\n",
              "      background-color: #E2EBFA;\n",
              "      box-shadow: 0px 1px 2px rgba(60, 64, 67, 0.3), 0px 1px 3px 1px rgba(60, 64, 67, 0.15);\n",
              "      fill: #174EA6;\n",
              "    }\n",
              "\n",
              "    [theme=dark] .colab-df-convert {\n",
              "      background-color: #3B4455;\n",
              "      fill: #D2E3FC;\n",
              "    }\n",
              "\n",
              "    [theme=dark] .colab-df-convert:hover {\n",
              "      background-color: #434B5C;\n",
              "      box-shadow: 0px 1px 3px 1px rgba(0, 0, 0, 0.15);\n",
              "      filter: drop-shadow(0px 1px 2px rgba(0, 0, 0, 0.3));\n",
              "      fill: #FFFFFF;\n",
              "    }\n",
              "  </style>\n",
              "\n",
              "      <script>\n",
              "        const buttonEl =\n",
              "          document.querySelector('#df-7054a52b-c732-40f5-9655-161f860584d1 button.colab-df-convert');\n",
              "        buttonEl.style.display =\n",
              "          google.colab.kernel.accessAllowed ? 'block' : 'none';\n",
              "\n",
              "        async function convertToInteractive(key) {\n",
              "          const element = document.querySelector('#df-7054a52b-c732-40f5-9655-161f860584d1');\n",
              "          const dataTable =\n",
              "            await google.colab.kernel.invokeFunction('convertToInteractive',\n",
              "                                                     [key], {});\n",
              "          if (!dataTable) return;\n",
              "\n",
              "          const docLinkHtml = 'Like what you see? Visit the ' +\n",
              "            '<a target=\"_blank\" href=https://colab.research.google.com/notebooks/data_table.ipynb>data table notebook</a>'\n",
              "            + ' to learn more about interactive tables.';\n",
              "          element.innerHTML = '';\n",
              "          dataTable['output_type'] = 'display_data';\n",
              "          await google.colab.output.renderOutput(dataTable, element);\n",
              "          const docLink = document.createElement('div');\n",
              "          docLink.innerHTML = docLinkHtml;\n",
              "          element.appendChild(docLink);\n",
              "        }\n",
              "      </script>\n",
              "    </div>\n",
              "  </div>\n",
              "  "
            ]
          },
          "metadata": {},
          "execution_count": 127
        }
      ]
    },
    {
      "cell_type": "code",
      "source": [
        "# Graficamos\n",
        "sub_df[sub_df['Position'] == 'Forward'].plot.scatter(x='Age', y='shots_per_match')\n",
        "plt.show()\n",
        "sub_df[sub_df['Position'] == 'Midfielder'].plot.scatter(x='Age', y='interceptions_per_match')\n",
        "plt.show()"
      ],
      "metadata": {
        "colab": {
          "base_uri": "https://localhost:8080/",
          "height": 541
        },
        "id": "djuuiOBHrOzA",
        "outputId": "2a452223-40b0-403e-a87a-5ab6efb30543"
      },
      "execution_count": null,
      "outputs": [
        {
          "output_type": "display_data",
          "data": {
            "text/plain": [
              "<Figure size 432x288 with 1 Axes>"
            ],
            "image/png": "[encoded data removed]"
          },
          "metadata": {
            "needs_background": "light"
          }
        },
        {
          "output_type": "display_data",
          "data": {
            "text/plain": [
              "<Figure size 432x288 with 1 Axes>"
            ],
            "image/png": "[encoded data removed]"
          },
          "metadata": {
            "needs_background": "light"
          }
        }
      ]
    },
    {
      "cell_type": "markdown",
      "source": [
        "# 6.- Exploratorios\n",
        "\n",
        "Vamos a realizar un analisis expliratorio sobre las posiciones de los jugadores y los equipos para poder sacar conclusiones sobre los mismos."
      ],
      "metadata": {
        "id": "_IuCwJsCCE1K"
      }
    },
    {
      "cell_type": "markdown",
      "source": [
        "## 6.1. Posiciones"
      ],
      "metadata": {
        "id": "VC2tCScTD2R_"
      }
    },
    {
      "cell_type": "code",
      "source": [
        "# Eliminamos arqueros\n",
        "sub_df = df.query(\"Position != 'Goalkeeper'\").copy()"
      ],
      "metadata": {
        "id": "ONFZ2D3fjPZ5"
      },
      "execution_count": null,
      "outputs": []
    },
    {
      "cell_type": "code",
      "source": [
        "# Distribucion de los fouls por posicion\n",
        "sns.histplot(data=sub_df, x=\"fouls_per_match\", hue='Position', element=\"step\")"
      ],
      "metadata": {
        "colab": {
          "base_uri": "https://localhost:8080/",
          "height": 298
        },
        "id": "BZIrdzO7jXLo",
        "outputId": "a8c59ed9-e8db-4b48-89df-897b4c37027e"
      },
      "execution_count": null,
      "outputs": [
        {
          "output_type": "execute_result",
          "data": {
            "text/plain": [
              "<matplotlib.axes._subplots.AxesSubplot at 0x7f6836b55ed0>"
            ]
          },
          "metadata": {},
          "execution_count": 89
        },
        {
          "output_type": "display_data",
          "data": {
            "text/plain": [
              "<Figure size 432x288 with 1 Axes>"
            ],
            "image/png": "[encoded data removed]"
          },
          "metadata": {
            "needs_background": "light"
          }
        }
      ]
    },
    {
      "cell_type": "code",
      "source": [
        "# Distribucion de los fouls por posicion\n",
        "sns.boxplot(data=sub_df, x=\"fouls_per_match\", y='Position',)"
      ],
      "metadata": {
        "colab": {
          "base_uri": "https://localhost:8080/",
          "height": 298
        },
        "id": "ahXhXeoulSEX",
        "outputId": "cd2acd44-3d96-4053-ddb5-f96237404c4a"
      },
      "execution_count": null,
      "outputs": [
        {
          "output_type": "execute_result",
          "data": {
            "text/plain": [
              "<matplotlib.axes._subplots.AxesSubplot at 0x7f6836922f90>"
            ]
          },
          "metadata": {},
          "execution_count": 94
        },
        {
          "output_type": "display_data",
          "data": {
            "text/plain": [
              "<Figure size 432x288 with 1 Axes>"
            ],
            "image/png": "[encoded data removed]"
          },
          "metadata": {
            "needs_background": "light"
          }
        }
      ]
    },
    {
      "cell_type": "code",
      "source": [
        "# Visualizacion alternativa\n",
        "x_max = df[\"fouls_per_match\"].max()\n",
        "for pos in sub_df[\"Position\"].unique():\n",
        "  sub_df.query(\"Position == @pos\")[\"fouls_per_match\"].plot.hist(\n",
        "    bins=10, alpha=0.2, edgecolor=\"black\", linewidth=2, figsize=(10,2))\n",
        "  plt.xlim(0, x_max)\n",
        "  plt.ylim(0, 70)\n",
        "  plt.title(pos)\n",
        "  plt.show()"
      ],
      "metadata": {
        "id": "e-8hVmLSEA9U",
        "colab": {
          "base_uri": "https://localhost:8080/",
          "height": 485
        },
        "outputId": "aef7a0d5-9ec5-4f31-f9a6-30a1a021f3b9"
      },
      "execution_count": null,
      "outputs": [
        {
          "output_type": "display_data",
          "data": {
            "text/plain": [
              "<Figure size 720x144 with 1 Axes>"
            ],
            "image/png": "[encoded data removed]"
          },
          "metadata": {
            "needs_background": "light"
          }
        },
        {
          "output_type": "display_data",
          "data": {
            "text/plain": [
              "<Figure size 720x144 with 1 Axes>"
            ],
            "image/png": "[encoded data removed]"
          },
          "metadata": {
            "needs_background": "light"
          }
        },
        {
          "output_type": "display_data",
          "data": {
            "text/plain": [
              "<Figure size 720x144 with 1 Axes>"
            ],
            "image/png": "[encoded data removed]"
          },
          "metadata": {
            "needs_background": "light"
          }
        }
      ]
    },
    {
      "cell_type": "markdown",
      "source": [
        "## 6.2. Equipos"
      ],
      "metadata": {
        "id": "jDH2bgg0Xego"
      }
    },
    {
      "cell_type": "code",
      "source": [
        "clubs = df.groupby('Club').agg({'Name': 'count',\n",
        "                        'Age': 'mean', \n",
        "                        'Wins': ['mean', 'median'],\n",
        "                        'Losses': ['mean', 'median'],\n",
        "                        'Goals': 'sum'}).reset_index()\n",
        "\n",
        "clubs.columns.droplevel()\n",
        "clubs.columns = ['club', 'palyers', 'age_mean', 'wins_mean', 'wins_median', 'losses_mean', 'losses_median', 'goals_sum']                        \n",
        "clubs.head()"
      ],
      "metadata": {
        "id": "xLZ-FaWcEA6V",
        "colab": {
          "base_uri": "https://localhost:8080/",
          "height": 206
        },
        "outputId": "3ab8c04c-9d52-407f-e0c8-d618b5dfd89a"
      },
      "execution_count": null,
      "outputs": [
        {
          "output_type": "execute_result",
          "data": {
            "text/plain": [
              "                       club  palyers  age_mean  wins_mean  wins_median  \\\n",
              "0                   Arsenal       27     25.30      37.22        26.00   \n",
              "1               Aston-Villa       26     26.38      10.88         7.00   \n",
              "2  Brighton-and-Hove-Albion       21     25.71      16.57        10.00   \n",
              "3                   Burnley       20     28.45      38.25        36.00   \n",
              "4                   Chelsea       24     25.17      42.62        31.50   \n",
              "\n",
              "   losses_mean  losses_median  goals_sum  \n",
              "0        18.59          15.00        231  \n",
              "1        19.50          12.50         49  \n",
              "2        23.95          16.00         90  \n",
              "3        53.40          47.00        180  \n",
              "4        22.29          18.00        219  "
            ],
            "text/html": [
              "\n",
              "  <div id=\"df-5850b0ef-56f8-4335-851f-aca9158baa82\">\n",
              "    <div class=\"colab-df-container\">\n",
              "      <div>\n",
              "<style scoped>\n",
              "    .dataframe tbody tr th:only-of-type {\n",
              "        vertical-align: middle;\n",
              "    }\n",
              "\n",
              "    .dataframe tbody tr th {\n",
              "        vertical-align: top;\n",
              "    }\n",
              "\n",
              "    .dataframe thead th {\n",
              "        text-align: right;\n",
              "    }\n",
              "</style>\n",
              "<table border=\"1\" class=\"dataframe\">\n",
              "  <thead>\n",
              "    <tr style=\"text-align: right;\">\n",
              "      <th></th>\n",
              "      <th>club</th>\n",
              "      <th>palyers</th>\n",
              "      <th>age_mean</th>\n",
              "      <th>wins_mean</th>\n",
              "      <th>wins_median</th>\n",
              "      <th>losses_mean</th>\n",
              "      <th>losses_median</th>\n",
              "      <th>goals_sum</th>\n",
              "    </tr>\n",
              "  </thead>\n",
              "  <tbody>\n",
              "    <tr>\n",
              "      <th>0</th>\n",
              "      <td>Arsenal</td>\n",
              "      <td>27</td>\n",
              "      <td>25.30</td>\n",
              "      <td>37.22</td>\n",
              "      <td>26.00</td>\n",
              "      <td>18.59</td>\n",
              "      <td>15.00</td>\n",
              "      <td>231</td>\n",
              "    </tr>\n",
              "    <tr>\n",
              "      <th>1</th>\n",
              "      <td>Aston-Villa</td>\n",
              "      <td>26</td>\n",
              "      <td>26.38</td>\n",
              "      <td>10.88</td>\n",
              "      <td>7.00</td>\n",
              "      <td>19.50</td>\n",
              "      <td>12.50</td>\n",
              "      <td>49</td>\n",
              "    </tr>\n",
              "    <tr>\n",
              "      <th>2</th>\n",
              "      <td>Brighton-and-Hove-Albion</td>\n",
              "      <td>21</td>\n",
              "      <td>25.71</td>\n",
              "      <td>16.57</td>\n",
              "      <td>10.00</td>\n",
              "      <td>23.95</td>\n",
              "      <td>16.00</td>\n",
              "      <td>90</td>\n",
              "    </tr>\n",
              "    <tr>\n",
              "      <th>3</th>\n",
              "      <td>Burnley</td>\n",
              "      <td>20</td>\n",
              "      <td>28.45</td>\n",
              "      <td>38.25</td>\n",
              "      <td>36.00</td>\n",
              "      <td>53.40</td>\n",
              "      <td>47.00</td>\n",
              "      <td>180</td>\n",
              "    </tr>\n",
              "    <tr>\n",
              "      <th>4</th>\n",
              "      <td>Chelsea</td>\n",
              "      <td>24</td>\n",
              "      <td>25.17</td>\n",
              "      <td>42.62</td>\n",
              "      <td>31.50</td>\n",
              "      <td>22.29</td>\n",
              "      <td>18.00</td>\n",
              "      <td>219</td>\n",
              "    </tr>\n",
              "  </tbody>\n",
              "</table>\n",
              "</div>\n",
              "      <button class=\"colab-df-convert\" onclick=\"convertToInteractive('df-5850b0ef-56f8-4335-851f-aca9158baa82')\"\n",
              "              title=\"Convert this dataframe to an interactive table.\"\n",
              "              style=\"display:none;\">\n",
              "        \n",
              "  <svg xmlns=\"http://www.w3.org/2000/svg\" height=\"24px\"viewBox=\"0 0 24 24\"\n",
              "       width=\"24px\">\n",
              "    <path d=\"M0 0h24v24H0V0z\" fill=\"none\"/>\n",
              "    <path d=\"M18.56 5.44l.94 2.06.94-2.06 2.06-.94-2.06-.94-.94-2.06-.94 2.06-2.06.94zm-11 1L8.5 8.5l.94-2.06 2.06-.94-2.06-.94L8.5 2.5l-.94 2.06-2.06.94zm10 10l.94 2.06.94-2.06 2.06-.94-2.06-.94-.94-2.06-.94 2.06-2.06.94z\"/><path d=\"M17.41 7.96l-1.37-1.37c-.4-.4-.92-.59-1.43-.59-.52 0-1.04.2-1.43.59L10.3 9.45l-7.72 7.72c-.78.78-.78 2.05 0 2.83L4 21.41c.39.39.9.59 1.41.59.51 0 1.02-.2 1.41-.59l7.78-7.78 2.81-2.81c.8-.78.8-2.07 0-2.86zM5.41 20L4 18.59l7.72-7.72 1.47 1.35L5.41 20z\"/>\n",
              "  </svg>\n",
              "      </button>\n",
              "      \n",
              "  <style>\n",
              "    .colab-df-container {\n",
              "      display:flex;\n",
              "      flex-wrap:wrap;\n",
              "      gap: 12px;\n",
              "    }\n",
              "\n",
              "    .colab-df-convert {\n",
              "      background-color: #E8F0FE;\n",
              "      border: none;\n",
              "      border-radius: 50%;\n",
              "      cursor: pointer;\n",
              "      display: none;\n",
              "      fill: #1967D2;\n",
              "      height: 32px;\n",
              "      padding: 0 0 0 0;\n",
              "      width: 32px;\n",
              "    }\n",
              "\n",
              "    .colab-df-convert:hover {\n",
              "      background-color: #E2EBFA;\n",
              "      box-shadow: 0px 1px 2px rgba(60, 64, 67, 0.3), 0px 1px 3px 1px rgba(60, 64, 67, 0.15);\n",
              "      fill: #174EA6;\n",
              "    }\n",
              "\n",
              "    [theme=dark] .colab-df-convert {\n",
              "      background-color: #3B4455;\n",
              "      fill: #D2E3FC;\n",
              "    }\n",
              "\n",
              "    [theme=dark] .colab-df-convert:hover {\n",
              "      background-color: #434B5C;\n",
              "      box-shadow: 0px 1px 3px 1px rgba(0, 0, 0, 0.15);\n",
              "      filter: drop-shadow(0px 1px 2px rgba(0, 0, 0, 0.3));\n",
              "      fill: #FFFFFF;\n",
              "    }\n",
              "  </style>\n",
              "\n",
              "      <script>\n",
              "        const buttonEl =\n",
              "          document.querySelector('#df-5850b0ef-56f8-4335-851f-aca9158baa82 button.colab-df-convert');\n",
              "        buttonEl.style.display =\n",
              "          google.colab.kernel.accessAllowed ? 'block' : 'none';\n",
              "\n",
              "        async function convertToInteractive(key) {\n",
              "          const element = document.querySelector('#df-5850b0ef-56f8-4335-851f-aca9158baa82');\n",
              "          const dataTable =\n",
              "            await google.colab.kernel.invokeFunction('convertToInteractive',\n",
              "                                                     [key], {});\n",
              "          if (!dataTable) return;\n",
              "\n",
              "          const docLinkHtml = 'Like what you see? Visit the ' +\n",
              "            '<a target=\"_blank\" href=https://colab.research.google.com/notebooks/data_table.ipynb>data table notebook</a>'\n",
              "            + ' to learn more about interactive tables.';\n",
              "          element.innerHTML = '';\n",
              "          dataTable['output_type'] = 'display_data';\n",
              "          await google.colab.output.renderOutput(dataTable, element);\n",
              "          const docLink = document.createElement('div');\n",
              "          docLink.innerHTML = docLinkHtml;\n",
              "          element.appendChild(docLink);\n",
              "        }\n",
              "      </script>\n",
              "    </div>\n",
              "  </div>\n",
              "  "
            ]
          },
          "metadata": {},
          "execution_count": 46
        }
      ]
    },
    {
      "cell_type": "code",
      "source": [
        "# grafico de barras victorias y derrotas\n",
        "clubs_melt = pd.melt(clubs, id_vars=['club'], value_vars=['wins_median', 'losses_median'])\n",
        "clubs_melt.columns = ['club', 'indicador', 'partidos']\n",
        "clubs_melt.head()"
      ],
      "metadata": {
        "colab": {
          "base_uri": "https://localhost:8080/",
          "height": 206
        },
        "id": "ia_NFCbIbSAi",
        "outputId": "e140ef30-8d6b-4d36-a452-78ebe3c801bd"
      },
      "execution_count": null,
      "outputs": [
        {
          "output_type": "execute_result",
          "data": {
            "text/plain": [
              "                       club    indicador  partidos\n",
              "0                   Arsenal  wins_median     26.00\n",
              "1               Aston-Villa  wins_median      7.00\n",
              "2  Brighton-and-Hove-Albion  wins_median     10.00\n",
              "3                   Burnley  wins_median     36.00\n",
              "4                   Chelsea  wins_median     31.50"
            ],
            "text/html": [
              "\n",
              "  <div id=\"df-2139b107-0a10-41f8-80f5-cd64602d605b\">\n",
              "    <div class=\"colab-df-container\">\n",
              "      <div>\n",
              "<style scoped>\n",
              "    .dataframe tbody tr th:only-of-type {\n",
              "        vertical-align: middle;\n",
              "    }\n",
              "\n",
              "    .dataframe tbody tr th {\n",
              "        vertical-align: top;\n",
              "    }\n",
              "\n",
              "    .dataframe thead th {\n",
              "        text-align: right;\n",
              "    }\n",
              "</style>\n",
              "<table border=\"1\" class=\"dataframe\">\n",
              "  <thead>\n",
              "    <tr style=\"text-align: right;\">\n",
              "      <th></th>\n",
              "      <th>club</th>\n",
              "      <th>indicador</th>\n",
              "      <th>partidos</th>\n",
              "    </tr>\n",
              "  </thead>\n",
              "  <tbody>\n",
              "    <tr>\n",
              "      <th>0</th>\n",
              "      <td>Arsenal</td>\n",
              "      <td>wins_median</td>\n",
              "      <td>26.00</td>\n",
              "    </tr>\n",
              "    <tr>\n",
              "      <th>1</th>\n",
              "      <td>Aston-Villa</td>\n",
              "      <td>wins_median</td>\n",
              "      <td>7.00</td>\n",
              "    </tr>\n",
              "    <tr>\n",
              "      <th>2</th>\n",
              "      <td>Brighton-and-Hove-Albion</td>\n",
              "      <td>wins_median</td>\n",
              "      <td>10.00</td>\n",
              "    </tr>\n",
              "    <tr>\n",
              "      <th>3</th>\n",
              "      <td>Burnley</td>\n",
              "      <td>wins_median</td>\n",
              "      <td>36.00</td>\n",
              "    </tr>\n",
              "    <tr>\n",
              "      <th>4</th>\n",
              "      <td>Chelsea</td>\n",
              "      <td>wins_median</td>\n",
              "      <td>31.50</td>\n",
              "    </tr>\n",
              "  </tbody>\n",
              "</table>\n",
              "</div>\n",
              "      <button class=\"colab-df-convert\" onclick=\"convertToInteractive('df-2139b107-0a10-41f8-80f5-cd64602d605b')\"\n",
              "              title=\"Convert this dataframe to an interactive table.\"\n",
              "              style=\"display:none;\">\n",
              "        \n",
              "  <svg xmlns=\"http://www.w3.org/2000/svg\" height=\"24px\"viewBox=\"0 0 24 24\"\n",
              "       width=\"24px\">\n",
              "    <path d=\"M0 0h24v24H0V0z\" fill=\"none\"/>\n",
              "    <path d=\"M18.56 5.44l.94 2.06.94-2.06 2.06-.94-2.06-.94-.94-2.06-.94 2.06-2.06.94zm-11 1L8.5 8.5l.94-2.06 2.06-.94-2.06-.94L8.5 2.5l-.94 2.06-2.06.94zm10 10l.94 2.06.94-2.06 2.06-.94-2.06-.94-.94-2.06-.94 2.06-2.06.94z\"/><path d=\"M17.41 7.96l-1.37-1.37c-.4-.4-.92-.59-1.43-.59-.52 0-1.04.2-1.43.59L10.3 9.45l-7.72 7.72c-.78.78-.78 2.05 0 2.83L4 21.41c.39.39.9.59 1.41.59.51 0 1.02-.2 1.41-.59l7.78-7.78 2.81-2.81c.8-.78.8-2.07 0-2.86zM5.41 20L4 18.59l7.72-7.72 1.47 1.35L5.41 20z\"/>\n",
              "  </svg>\n",
              "      </button>\n",
              "      \n",
              "  <style>\n",
              "    .colab-df-container {\n",
              "      display:flex;\n",
              "      flex-wrap:wrap;\n",
              "      gap: 12px;\n",
              "    }\n",
              "\n",
              "    .colab-df-convert {\n",
              "      background-color: #E8F0FE;\n",
              "      border: none;\n",
              "      border-radius: 50%;\n",
              "      cursor: pointer;\n",
              "      display: none;\n",
              "      fill: #1967D2;\n",
              "      height: 32px;\n",
              "      padding: 0 0 0 0;\n",
              "      width: 32px;\n",
              "    }\n",
              "\n",
              "    .colab-df-convert:hover {\n",
              "      background-color: #E2EBFA;\n",
              "      box-shadow: 0px 1px 2px rgba(60, 64, 67, 0.3), 0px 1px 3px 1px rgba(60, 64, 67, 0.15);\n",
              "      fill: #174EA6;\n",
              "    }\n",
              "\n",
              "    [theme=dark] .colab-df-convert {\n",
              "      background-color: #3B4455;\n",
              "      fill: #D2E3FC;\n",
              "    }\n",
              "\n",
              "    [theme=dark] .colab-df-convert:hover {\n",
              "      background-color: #434B5C;\n",
              "      box-shadow: 0px 1px 3px 1px rgba(0, 0, 0, 0.15);\n",
              "      filter: drop-shadow(0px 1px 2px rgba(0, 0, 0, 0.3));\n",
              "      fill: #FFFFFF;\n",
              "    }\n",
              "  </style>\n",
              "\n",
              "      <script>\n",
              "        const buttonEl =\n",
              "          document.querySelector('#df-2139b107-0a10-41f8-80f5-cd64602d605b button.colab-df-convert');\n",
              "        buttonEl.style.display =\n",
              "          google.colab.kernel.accessAllowed ? 'block' : 'none';\n",
              "\n",
              "        async function convertToInteractive(key) {\n",
              "          const element = document.querySelector('#df-2139b107-0a10-41f8-80f5-cd64602d605b');\n",
              "          const dataTable =\n",
              "            await google.colab.kernel.invokeFunction('convertToInteractive',\n",
              "                                                     [key], {});\n",
              "          if (!dataTable) return;\n",
              "\n",
              "          const docLinkHtml = 'Like what you see? Visit the ' +\n",
              "            '<a target=\"_blank\" href=https://colab.research.google.com/notebooks/data_table.ipynb>data table notebook</a>'\n",
              "            + ' to learn more about interactive tables.';\n",
              "          element.innerHTML = '';\n",
              "          dataTable['output_type'] = 'display_data';\n",
              "          await google.colab.output.renderOutput(dataTable, element);\n",
              "          const docLink = document.createElement('div');\n",
              "          docLink.innerHTML = docLinkHtml;\n",
              "          element.appendChild(docLink);\n",
              "        }\n",
              "      </script>\n",
              "    </div>\n",
              "  </div>\n",
              "  "
            ]
          },
          "metadata": {},
          "execution_count": 52
        }
      ]
    },
    {
      "cell_type": "code",
      "source": [
        "sns.barplot(x=\"club\", y=\"partidos\", hue=\"indicador\", data=clubs_melt)\n",
        "plt.xticks(rotation=90)"
      ],
      "metadata": {
        "colab": {
          "base_uri": "https://localhost:8080/",
          "height": 440
        },
        "id": "fCvXr797bb2F",
        "outputId": "00301fa0-fc57-44f3-8811-04fab1863926"
      },
      "execution_count": null,
      "outputs": [
        {
          "output_type": "execute_result",
          "data": {
            "text/plain": [
              "(array([ 0,  1,  2,  3,  4,  5,  6,  7,  8,  9, 10, 11, 12, 13, 14, 15, 16,\n",
              "        17, 18, 19]), <a list of 20 Text major ticklabel objects>)"
            ]
          },
          "metadata": {},
          "execution_count": 53
        },
        {
          "output_type": "display_data",
          "data": {
            "text/plain": [
              "<Figure size 432x288 with 1 Axes>"
            ],
            "image/png": "[encoded data removed]"
          },
          "metadata": {
            "needs_background": "light"
          }
        }
      ]
    }
  ]
}