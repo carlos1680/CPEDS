{
  "cells": [
    {
      "cell_type": "code",
      "execution_count": 1,
      "metadata": {
        "id": "4RY-VPZnVprF"
      },
      "outputs": [],
      "source": [
        "import pandas as pd\n",
        "import datetime as dt\n",
        "import numpy as np\n",
        "\n",
        "pd.options.mode.chained_assignment = None  # default='warn'"
      ]
    },
    {
      "cell_type": "markdown",
      "metadata": {
        "id": "cM-alay_VwA6"
      },
      "source": [
        "# Consigna\n",
        "\n",
        "Vamos a trabajar con una base de datos elaborada por [Sysarmy](https://sysarmy.com/es/) (una comunidad de profesionales en el área de sistemas) que contiene los resultados de una encuesta se sueldos realizada en 2020. La encuesta tiene algunso campos tipificados y otros campos de texto libre.\n",
        "\n",
        "Queremos analizar los resultados de esta encuesta. Nos interesan especialmente aquellas respuestas vinculadas a profesionales que trabajan con datos y que poseen título universitario (para eliminar algunos casos con comportamiento atípico). Los objetivos de esta práctica serán:\n",
        "\n",
        "1. Construir una variable que nos indique hace cuánto tiempo fue respondida la encuesta.\n",
        "\n",
        "2. Encontrar el salario promedio para los trabajos vinculados a datos. Puede ser general o abierto por las distintas variantes.\n",
        "\n",
        "3. Contabilizar cuantos lenguajes de programación maneja la persona.\n"
      ]
    },
    {
      "cell_type": "code",
      "execution_count": 2,
      "metadata": {
        "colab": {
          "base_uri": "https://localhost:8080/",
          "height": 469
        },
        "id": "SHc35xxCX6r2",
        "outputId": "c2ba7baf-c7d2-4204-99f4-b86e52436407"
      },
      "outputs": [
        {
          "data": {
            "text/html": [
              "<div>\n",
              "<style scoped>\n",
              "    .dataframe tbody tr th:only-of-type {\n",
              "        vertical-align: middle;\n",
              "    }\n",
              "\n",
              "    .dataframe tbody tr th {\n",
              "        vertical-align: top;\n",
              "    }\n",
              "\n",
              "    .dataframe thead th {\n",
              "        text-align: right;\n",
              "    }\n",
              "</style>\n",
              "<table border=\"1\" class=\"dataframe\">\n",
              "  <thead>\n",
              "    <tr style=\"text-align: right;\">\n",
              "      <th></th>\n",
              "      <th>timestamp</th>\n",
              "      <th>me_identifico</th>\n",
              "      <th>tengo</th>\n",
              "      <th>estoy_trabajando_en</th>\n",
              "      <th>donde_estas_trabajando</th>\n",
              "      <th>anos_de_experiencia</th>\n",
              "      <th>anos_en_la_empresa_actual</th>\n",
              "      <th>anos_en_el_puesto_actual</th>\n",
              "      <th>gente_a_cargo</th>\n",
              "      <th>nivel_de_estudios_alcanzado</th>\n",
              "      <th>...</th>\n",
              "      <th>sos_miembro_de_alguna_comunidad_it</th>\n",
              "      <th>cantidad_de_empleados</th>\n",
              "      <th>actividad_principal</th>\n",
              "      <th>la_recomendas_como_un_buen_lugar_para_trabajar</th>\n",
              "      <th>como_calificas_las_politicas_de_diversidad_e_inclusion</th>\n",
              "      <th>a_cuantos_kilometros_de_tu_casa_queda_la_oficina</th>\n",
              "      <th>beneficios_extra</th>\n",
              "      <th>habias_respondido_nuestra_encuesta_en_ediciones_anteriores</th>\n",
              "      <th>cuales_consideras_que_son_las_mejores_empresas_de_it_para_trabajar_en_este_momentoen_tu_ciudad</th>\n",
              "      <th>sueldo_dolarizado</th>\n",
              "    </tr>\n",
              "  </thead>\n",
              "  <tbody>\n",
              "    <tr>\n",
              "      <th>0</th>\n",
              "      <td>1/31/2020 6:50:26</td>\n",
              "      <td>Hombre</td>\n",
              "      <td>32</td>\n",
              "      <td>Argentina</td>\n",
              "      <td>Ciudad Autónoma de Buenos Aires</td>\n",
              "      <td>10</td>\n",
              "      <td>3</td>\n",
              "      <td>1</td>\n",
              "      <td>0</td>\n",
              "      <td>Secundario</td>\n",
              "      <td>...</td>\n",
              "      <td>NaN</td>\n",
              "      <td>10001+</td>\n",
              "      <td>Producto basado en Software</td>\n",
              "      <td>8</td>\n",
              "      <td>10</td>\n",
              "      <td>6</td>\n",
              "      <td>Capacitaciones y/o cursos, Comidas pagas / sub...</td>\n",
              "      <td>No</td>\n",
              "      <td>cognizant</td>\n",
              "      <td>False</td>\n",
              "    </tr>\n",
              "    <tr>\n",
              "      <th>1</th>\n",
              "      <td>1/28/2020 9:27:48</td>\n",
              "      <td>Hombre</td>\n",
              "      <td>30</td>\n",
              "      <td>Argentina</td>\n",
              "      <td>Ciudad Autónoma de Buenos Aires</td>\n",
              "      <td>3</td>\n",
              "      <td>3</td>\n",
              "      <td>3</td>\n",
              "      <td>0</td>\n",
              "      <td>Terciario</td>\n",
              "      <td>...</td>\n",
              "      <td>NaN</td>\n",
              "      <td>51-100</td>\n",
              "      <td>Otras industrias</td>\n",
              "      <td>7</td>\n",
              "      <td>3</td>\n",
              "      <td>35</td>\n",
              "      <td>Capacitaciones y/o cursos</td>\n",
              "      <td>No</td>\n",
              "      <td>mercadolibre</td>\n",
              "      <td>False</td>\n",
              "    </tr>\n",
              "    <tr>\n",
              "      <th>2</th>\n",
              "      <td>1/29/2020 16:54:29</td>\n",
              "      <td>Mujer</td>\n",
              "      <td>40</td>\n",
              "      <td>Argentina</td>\n",
              "      <td>Ciudad Autónoma de Buenos Aires</td>\n",
              "      <td>15</td>\n",
              "      <td>3</td>\n",
              "      <td>3</td>\n",
              "      <td>1</td>\n",
              "      <td>Universitario</td>\n",
              "      <td>...</td>\n",
              "      <td>NaN</td>\n",
              "      <td>11-50</td>\n",
              "      <td>Servicios / Consultoría de Software / Digital</td>\n",
              "      <td>8</td>\n",
              "      <td>8</td>\n",
              "      <td>30</td>\n",
              "      <td>Abono de celular y/o Internet, Capacitaciones ...</td>\n",
              "      <td>No</td>\n",
              "      <td>NaN</td>\n",
              "      <td>False</td>\n",
              "    </tr>\n",
              "    <tr>\n",
              "      <th>3</th>\n",
              "      <td>2/1/2020 5:46:25</td>\n",
              "      <td>Mujer</td>\n",
              "      <td>36</td>\n",
              "      <td>Argentina</td>\n",
              "      <td>Ciudad Autónoma de Buenos Aires</td>\n",
              "      <td>10</td>\n",
              "      <td>3</td>\n",
              "      <td>3</td>\n",
              "      <td>0</td>\n",
              "      <td>Universitario</td>\n",
              "      <td>...</td>\n",
              "      <td>NaN</td>\n",
              "      <td>51-100</td>\n",
              "      <td>Otras industrias</td>\n",
              "      <td>7</td>\n",
              "      <td>5</td>\n",
              "      <td>4</td>\n",
              "      <td>Viáticos</td>\n",
              "      <td>No</td>\n",
              "      <td>NaN</td>\n",
              "      <td>False</td>\n",
              "    </tr>\n",
              "    <tr>\n",
              "      <th>4</th>\n",
              "      <td>2/1/2020 17:51:21</td>\n",
              "      <td>Hombre</td>\n",
              "      <td>29</td>\n",
              "      <td>Argentina</td>\n",
              "      <td>Ciudad Autónoma de Buenos Aires</td>\n",
              "      <td>10</td>\n",
              "      <td>2</td>\n",
              "      <td>2</td>\n",
              "      <td>0</td>\n",
              "      <td>Universitario</td>\n",
              "      <td>...</td>\n",
              "      <td>NaN</td>\n",
              "      <td>11-50</td>\n",
              "      <td>Otras industrias</td>\n",
              "      <td>5</td>\n",
              "      <td>8</td>\n",
              "      <td>7</td>\n",
              "      <td>Ninguna de las anteriores</td>\n",
              "      <td>No</td>\n",
              "      <td>NaN</td>\n",
              "      <td>False</td>\n",
              "    </tr>\n",
              "  </tbody>\n",
              "</table>\n",
              "<p>5 rows × 53 columns</p>\n",
              "</div>"
            ],
            "text/plain": [
              "            timestamp me_identifico  tengo estoy_trabajando_en  \\\n",
              "0   1/31/2020 6:50:26        Hombre     32           Argentina   \n",
              "1   1/28/2020 9:27:48        Hombre     30           Argentina   \n",
              "2  1/29/2020 16:54:29         Mujer     40           Argentina   \n",
              "3    2/1/2020 5:46:25         Mujer     36           Argentina   \n",
              "4   2/1/2020 17:51:21        Hombre     29           Argentina   \n",
              "\n",
              "            donde_estas_trabajando  anos_de_experiencia  \\\n",
              "0  Ciudad Autónoma de Buenos Aires                   10   \n",
              "1  Ciudad Autónoma de Buenos Aires                    3   \n",
              "2  Ciudad Autónoma de Buenos Aires                   15   \n",
              "3  Ciudad Autónoma de Buenos Aires                   10   \n",
              "4  Ciudad Autónoma de Buenos Aires                   10   \n",
              "\n",
              "   anos_en_la_empresa_actual  anos_en_el_puesto_actual gente_a_cargo  \\\n",
              "0                          3                         1             0   \n",
              "1                          3                         3             0   \n",
              "2                          3                         3             1   \n",
              "3                          3                         3             0   \n",
              "4                          2                         2             0   \n",
              "\n",
              "  nivel_de_estudios_alcanzado  ... sos_miembro_de_alguna_comunidad_it  \\\n",
              "0                  Secundario  ...                                NaN   \n",
              "1                   Terciario  ...                                NaN   \n",
              "2               Universitario  ...                                NaN   \n",
              "3               Universitario  ...                                NaN   \n",
              "4               Universitario  ...                                NaN   \n",
              "\n",
              "  cantidad_de_empleados                            actividad_principal  \\\n",
              "0                10001+                    Producto basado en Software   \n",
              "1                51-100                               Otras industrias   \n",
              "2                 11-50  Servicios / Consultoría de Software / Digital   \n",
              "3                51-100                               Otras industrias   \n",
              "4                 11-50                               Otras industrias   \n",
              "\n",
              "  la_recomendas_como_un_buen_lugar_para_trabajar  \\\n",
              "0                                              8   \n",
              "1                                              7   \n",
              "2                                              8   \n",
              "3                                              7   \n",
              "4                                              5   \n",
              "\n",
              "  como_calificas_las_politicas_de_diversidad_e_inclusion  \\\n",
              "0                                                 10       \n",
              "1                                                  3       \n",
              "2                                                  8       \n",
              "3                                                  5       \n",
              "4                                                  8       \n",
              "\n",
              "  a_cuantos_kilometros_de_tu_casa_queda_la_oficina  \\\n",
              "0                                                6   \n",
              "1                                               35   \n",
              "2                                               30   \n",
              "3                                                4   \n",
              "4                                                7   \n",
              "\n",
              "                                    beneficios_extra  \\\n",
              "0  Capacitaciones y/o cursos, Comidas pagas / sub...   \n",
              "1                          Capacitaciones y/o cursos   \n",
              "2  Abono de celular y/o Internet, Capacitaciones ...   \n",
              "3                                           Viáticos   \n",
              "4                          Ninguna de las anteriores   \n",
              "\n",
              "  habias_respondido_nuestra_encuesta_en_ediciones_anteriores  \\\n",
              "0                                                 No           \n",
              "1                                                 No           \n",
              "2                                                 No           \n",
              "3                                                 No           \n",
              "4                                                 No           \n",
              "\n",
              "  cuales_consideras_que_son_las_mejores_empresas_de_it_para_trabajar_en_este_momentoen_tu_ciudad  \\\n",
              "0                                         cognizant                                                \n",
              "1                                       mercadolibre                                               \n",
              "2                                                NaN                                               \n",
              "3                                                NaN                                               \n",
              "4                                                NaN                                               \n",
              "\n",
              "  sueldo_dolarizado  \n",
              "0             False  \n",
              "1             False  \n",
              "2             False  \n",
              "3             False  \n",
              "4             False  \n",
              "\n",
              "[5 rows x 53 columns]"
            ]
          },
          "execution_count": 2,
          "metadata": {},
          "output_type": "execute_result"
        }
      ],
      "source": [
        "sueldos = pd.read_csv(\"https://raw.githubusercontent.com/eea-uba/EEA-2020/master/Fuentes/encuesta_sueldos_sysarmy_1s2020.csv\")\n",
        "sueldos.head()"
      ]
    },
    {
      "cell_type": "code",
      "execution_count": 3,
      "metadata": {
        "colab": {
          "base_uri": "https://localhost:8080/"
        },
        "id": "v5nTk_BAODt2",
        "outputId": "44aac03c-cb6a-447e-b81d-03cd8ace57a7"
      },
      "outputs": [
        {
          "name": "stdout",
          "output_type": "stream",
          "text": [
            "<class 'pandas.core.frame.DataFrame'>\n",
            "RangeIndex: 5982 entries, 0 to 5981\n",
            "Data columns (total 53 columns):\n",
            " #   Column                                                                                          Non-Null Count  Dtype  \n",
            "---  ------                                                                                          --------------  -----  \n",
            " 0   timestamp                                                                                       5982 non-null   object \n",
            " 1   me_identifico                                                                                   5982 non-null   object \n",
            " 2   tengo                                                                                           5982 non-null   int64  \n",
            " 3   estoy_trabajando_en                                                                             5982 non-null   object \n",
            " 4   donde_estas_trabajando                                                                          5982 non-null   object \n",
            " 5   anos_de_experiencia                                                                             5982 non-null   int64  \n",
            " 6   anos_en_la_empresa_actual                                                                       5982 non-null   int64  \n",
            " 7   anos_en_el_puesto_actual                                                                        5982 non-null   int64  \n",
            " 8   gente_a_cargo                                                                                   5982 non-null   object \n",
            " 9   nivel_de_estudios_alcanzado                                                                     5982 non-null   object \n",
            " 10  estado                                                                                          5982 non-null   object \n",
            " 11  carrera                                                                                         5644 non-null   object \n",
            " 12  universidad                                                                                     5356 non-null   object \n",
            " 13  realizaste_cursos_de_especializacion                                                            5982 non-null   object \n",
            " 14  contribuis_a_proyectos_open_source                                                              5982 non-null   object \n",
            " 15  programas_como_hobbie                                                                           5982 non-null   object \n",
            " 16  trabajo_de                                                                                      5982 non-null   object \n",
            " 17  plataformas                                                                                     4884 non-null   object \n",
            " 18  lenguajes_de_programacion                                                                       4880 non-null   object \n",
            " 19  frameworksherramientas_y_librerias                                                              3663 non-null   object \n",
            " 20  bases_de_datos                                                                                  4499 non-null   object \n",
            " 21  qa_testing                                                                                      2179 non-null   object \n",
            " 22  ides                                                                                            4278 non-null   object \n",
            " 23  que_so_usas_en_tu_laptoppc_para_trabajar                                                        5982 non-null   object \n",
            " 24  y_en_tu_celular                                                                                 5982 non-null   object \n",
            " 25  tenes_guardias                                                                                  5982 non-null   object \n",
            " 26  cuanto_cobras_por_guardia                                                                       5982 non-null   int64  \n",
            " 27  porcentajebruto_o_neto                                                                          5982 non-null   object \n",
            " 28  tipo_de_contrato                                                                                5982 non-null   object \n",
            " 29  salario_mensual_bruto_en_tu_moneda_local                                                        5982 non-null   int64  \n",
            " 30  salario_mensual_neto_en_tu_moneda_local                                                         5768 non-null   float64\n",
            " 31  que_tan_conforme_estas_con_tu_sueldo                                                            5982 non-null   int64  \n",
            " 32  como_crees_que_esta_tu_sueldo_con_respecto_al_ultimo_semestre                                   5982 non-null   int64  \n",
            " 33  recibis_algun_tipo_de_bono                                                                      5982 non-null   object \n",
            " 34  a_que_esta_atado_el_bono                                                                        5982 non-null   object \n",
            " 35  tuviste_ajustes_por_inflacion_en_2019                                                           5982 non-null   object \n",
            " 36  de_que_fue_el_ajuste_total                                                                      5982 non-null   int64  \n",
            " 37  en_que_mes_fue_el_ultimo_ajuste                                                                 5982 non-null   int64  \n",
            " 38  sufriste_o_presenciaste_situaciones_de_violencia_laboral                                        5932 non-null   object \n",
            " 39  orientacion_sexual                                                                              5870 non-null   object \n",
            " 40  tenes_algun_tipo_de_discapacidad                                                                420 non-null    object \n",
            " 41  sentis_que_esto_te_dificulto_el_conseguir_trabajo                                               2963 non-null   object \n",
            " 42  a_que_eventos_de_tecnologia_asististe_en_el_ultimo_ano                                          2118 non-null   object \n",
            " 43  sos_miembro_de_alguna_comunidad_it                                                              1470 non-null   object \n",
            " 44  cantidad_de_empleados                                                                           5982 non-null   object \n",
            " 45  actividad_principal                                                                             5982 non-null   object \n",
            " 46  la_recomendas_como_un_buen_lugar_para_trabajar                                                  5982 non-null   int64  \n",
            " 47  como_calificas_las_politicas_de_diversidad_e_inclusion                                          5982 non-null   int64  \n",
            " 48  a_cuantos_kilometros_de_tu_casa_queda_la_oficina                                                5982 non-null   int64  \n",
            " 49  beneficios_extra                                                                                5982 non-null   object \n",
            " 50  habias_respondido_nuestra_encuesta_en_ediciones_anteriores                                      5982 non-null   object \n",
            " 51  cuales_consideras_que_son_las_mejores_empresas_de_it_para_trabajar_en_este_momentoen_tu_ciudad  1688 non-null   object \n",
            " 52  sueldo_dolarizado                                                                               5982 non-null   bool   \n",
            "dtypes: bool(1), float64(1), int64(13), object(38)\n",
            "memory usage: 2.4+ MB\n"
          ]
        }
      ],
      "source": [
        "# observamos faltantes y tipos de datos\n",
        "sueldos.info()"
      ]
    },
    {
      "cell_type": "code",
      "execution_count": 4,
      "metadata": {
        "id": "_6uugvp-PavZ"
      },
      "outputs": [],
      "source": [
        "# Antes de comenzar, filtramos solo los registros con educacion universitaria\n",
        "sueldos = sueldos[sueldos.nivel_de_estudios_alcanzado == 'Universitario']"
      ]
    },
    {
      "cell_type": "markdown",
      "metadata": {
        "id": "R5cwReOINa4X"
      },
      "source": [
        "## 1) Fecha de encuesta\n",
        "\n",
        "Pista: la función **datetime.datetime.now()** nos devuelve fecha y hora actuales."
      ]
    },
    {
      "cell_type": "code",
      "execution_count": 5,
      "metadata": {
        "colab": {
          "base_uri": "https://localhost:8080/"
        },
        "id": "Xssmp5Y4Pfic",
        "outputId": "dc5fd691-7b88-45be-866f-183ee11ac6ac"
      },
      "outputs": [
        {
          "data": {
            "text/plain": [
              "2    1/29/2020 16:54:29\n",
              "3      2/1/2020 5:46:25\n",
              "4     2/1/2020 17:51:21\n",
              "5     2/1/2020 23:13:41\n",
              "9    1/31/2020 15:35:31\n",
              "Name: timestamp, dtype: object"
            ]
          },
          "execution_count": 5,
          "metadata": {},
          "output_type": "execute_result"
        }
      ],
      "source": [
        "sueldos.timestamp.head()"
      ]
    },
    {
      "cell_type": "code",
      "execution_count": 6,
      "metadata": {
        "colab": {
          "base_uri": "https://localhost:8080/"
        },
        "id": "_1wgLuxXOVEV",
        "outputId": "00f5e01b-6543-493e-8cda-24efc12c0dd9"
      },
      "outputs": [
        {
          "data": {
            "text/plain": [
              "2   2020-01-29 16:54:29\n",
              "3   2020-02-01 05:46:25\n",
              "4   2020-02-01 17:51:21\n",
              "5   2020-02-01 23:13:41\n",
              "9   2020-01-31 15:35:31\n",
              "Name: fecha_de_respuesta, dtype: datetime64[ns]"
            ]
          },
          "execution_count": 6,
          "metadata": {},
          "output_type": "execute_result"
        }
      ],
      "source": [
        "# convertimos la variable datestamp a date\n",
        "sueldos['fecha_de_respuesta'] = pd.to_datetime(sueldos.timestamp, format=\"%m/%d/%Y %H:%M:%S\")\n",
        "sueldos.fecha_de_respuesta.head()"
      ]
    },
    {
      "cell_type": "code",
      "execution_count": 7,
      "metadata": {
        "colab": {
          "base_uri": "https://localhost:8080/"
        },
        "id": "s_4e2mSHOVB9",
        "outputId": "da35a5be-fac3-4b5a-dcc1-61561fe4f8e2"
      },
      "outputs": [
        {
          "data": {
            "text/plain": [
              "2   1604 days 04:55:51.392359\n",
              "3   1601 days 16:03:55.392359\n",
              "4   1601 days 03:58:59.392359\n",
              "5   1600 days 22:36:39.392359\n",
              "9   1602 days 06:14:49.392359\n",
              "Name: dias_desde_respuesta, dtype: timedelta64[ns]"
            ]
          },
          "execution_count": 7,
          "metadata": {},
          "output_type": "execute_result"
        }
      ],
      "source": [
        "# generamos la variable de antiguedad (diferencia con hoy)\n",
        "today = dt.datetime.now()\n",
        "\n",
        "sueldos['dias_desde_respuesta'] = (today - sueldos.fecha_de_respuesta)\n",
        "sueldos.dias_desde_respuesta.head()"
      ]
    },
    {
      "cell_type": "markdown",
      "metadata": {
        "id": "oS1VrQ0xRVwz"
      },
      "source": [
        "## 2) Trabajo con datos"
      ]
    },
    {
      "cell_type": "code",
      "execution_count": 8,
      "metadata": {
        "colab": {
          "base_uri": "https://localhost:8080/"
        },
        "id": "OHoDATeaOU_S",
        "outputId": "29d7cc33-2653-41ce-bfdb-30b2422a7ac1"
      },
      "outputs": [
        {
          "data": {
            "text/plain": [
              "array(['Abogada', 'Abogado', 'Account Manager-Sales', 'Adm',\n",
              "       'Administración', 'Administrador de Infraestructura',\n",
              "       'Administrativa', 'Administrativa contable',\n",
              "       'Administrative Assistant', 'Administrativo',\n",
              "       'Administrativo en farmacia', 'Analista',\n",
              "       'Analista de Operaciones de Servicios',\n",
              "       'Analista de prevención de lavado de activos',\n",
              "       'Analista de Soporte', 'Analista Funciona ERP',\n",
              "       'Functional Analyst', 'Developer', 'Analista SAP',\n",
              "       'Analista Senior.', 'Analyst support', 'Anlytics Engineer',\n",
              "       'Application Support', 'Applications Support Analyst', 'Architect',\n",
              "       'Asistente de Sistemas', 'Assistant', 'Atención al cliente',\n",
              "       'Atención al publico', 'Auditor de TI', 'Auditoria',\n",
              "       'BI Analyst / Data Analyst', 'Data Scientist / Data Engineer',\n",
              "       'DBA Especializado / Gurú', 'DBA', 'BI Sr. Manager',\n",
              "       'Business Analyst', 'Cadete', 'Cajera', 'Cajero', 'Call center',\n",
              "       'Captador de donaciones', 'Chef de Cocina', 'Colorista',\n",
              "       'Compliance Infosec', 'Comprador especializado', 'Conract center',\n",
              "       'Consultant', 'Consultora de Infosec', 'Contador', 'Coordinador',\n",
              "       'Coordinador de Soporte de Aplicaciones', 'Coordinador de taller',\n",
              "       'Cordinador', 'Country Support Coordinator', 'CTO',\n",
              "       'Customer Experience Diseño de experiencia', 'Data entry',\n",
              "       'Data Entry and Management', 'Delivery Manager', 'Designer',\n",
              "       'Designer / ui / developer', 'Designer/Developer',\n",
              "       'Developer + contribuciones de Arquitectura + ir a los clientes etc..',\n",
              "       'Developer, designer, architect, dba, analyst', 'DEvops',\n",
              "       'DevOps / Pre-Sales / Consultant (el rol es un mix)',\n",
              "       'DevOps Engineer', 'DevOps Specialist', 'DevsecOps',\n",
              "       'Digital Marketing Specialist', 'Digitalización y almacenamiento',\n",
              "       'Doctor', 'Educación en programación', 'Empleada', 'Empleado',\n",
              "       'Enterprise Architecture', 'Executive assistant', 'Finance',\n",
              "       'Freelance', 'Fullstack', 'Gerente de IT', 'Gestion de proyectos',\n",
              "       'GRC', 'HelpDesk', 'Hfc', 'IAM', 'IAM epv', 'Implementador',\n",
              "       'Incident Manager', 'Infosec', 'Infra', 'Infraestructura.',\n",
              "       'Ingeniería', 'Ingeniero', 'Ingeniero integrador', 'Intern',\n",
              "       'investigacion cientifica', 'IoT Developer', 'IT Business Partner',\n",
              "       'IT Desktop', 'IT Infrastructure', 'IT Operations',\n",
              "       'IT site / user Support', 'IT support', 'It support',\n",
              "       'IT Support Analyst', 'Jefe', 'Jefe de departamento',\n",
              "       'Jefe de presupuesto', 'jefe sistemas', 'Kyc',\n",
              "       'L2 Technical Support', 'Lider Data Analyst QA - TESTER',\n",
              "       'Limpieza', 'Limpieza en restaurante', 'lingüista computacional',\n",
              "       'Lucho constantemente contra el desorden en los repositorios de pibes que no saben usar Git ni el framework con el que laburamos',\n",
              "       'Machine Learning Engineer', 'Manager', 'Manager / Director',\n",
              "       'Manufactura', 'Media Buyer',\n",
              "       'Mezcla de desarrollador, arquitecto de aplicaciones, devops, etc',\n",
              "       'Middleware', 'Mobile Developer',\n",
              "       'Navaja Suiza Informática (dev, ops, admin, soporte, backup, tester, dba, etc)',\n",
              "       'Networking', 'Networking/Designer/Designer/Networking/Networking',\n",
              "       'NLP', 'o', 'operador', 'Operational Risk Auditor',\n",
              "       'Operations Manager', 'Operator', 'Pentester', 'Pl', 'PLC',\n",
              "       'PM y Technical Leader', 'Problem Management',\n",
              "       'Procesamiento y análisis de datos', 'Produccion',\n",
              "       'Product analyst', 'Product Analyst', 'Product designer',\n",
              "       'Product leader', 'Product Manager', 'Product Owner',\n",
              "       'Product Infosec', 'Docentea de programación',\n",
              "       'Developer y generador de contenido para plataforma de educacion',\n",
              "       'Programmer Analyst', 'Project Leader', 'Project Manager',\n",
              "       'Prototipos de VR y AR para Hololens.',\n",
              "       'Proyecto completo. (Análisis, arquitectura, desarrollo, dba, pruebas, despliegue)',\n",
              "       'Proyecto Leader', 'Proyectos Audiovisuales', 'QA / Tester',\n",
              "       'QA / Tester - Coordinador', 'QA Automation',\n",
              "       'Quality Assurance Analyst', 'Recepcionista', 'Recruiter / HR',\n",
              "       'Research', 'research', 'Researcher', 'Riesgos de seguridad',\n",
              "       'Risk Analyst', 'RPA Developer', 'RPA Technical Leader',\n",
              "       'Sales / Pre-Sales', 'SAP Basis', 'Scrum Master',\n",
              "       'Scrun Master, Proyect Manager yDdeveloper', 'Secretaria',\n",
              "       'secretaria', 'Soporte', 'Soporte 3 nivel',\n",
              "       'Soporte de aplicaciones - Tester', 'Soporte Gestión Documental',\n",
              "       'Technical Support', 'Storage / Backup', 'Supervisor Logístico',\n",
              "       'Supervisor People Systems', 'Supervisor soporte admin clientes',\n",
              "       'Supply chain', 'SysAdmin / DevOps / SRE', 'Team Lead',\n",
              "       'Technical Leader', 'Team Manager', 'Technical Account Manager',\n",
              "       'Technical Writer', 'Technical Writer & Trainer', 'Técnico',\n",
              "       'Translator', 'UI', 'Unity Lead Developer', 'UX',\n",
              "       'UX Designer y Frontend Developer', 'UX developer trainee',\n",
              "       'Vendedor', 'Voip', 'VP / C-Level', 'Y'], dtype=object)"
            ]
          },
          "execution_count": 8,
          "metadata": {},
          "output_type": "execute_result"
        }
      ],
      "source": [
        "sueldos.trabajo_de.unique()"
      ]
    },
    {
      "cell_type": "code",
      "execution_count": 9,
      "metadata": {
        "id": "4Vs9fW19OU8f"
      },
      "outputs": [],
      "source": [
        "# llevamos todo a minuscula\n",
        "sueldos['trabajo_de'] = sueldos.trabajo_de.str.lower()"
      ]
    },
    {
      "cell_type": "code",
      "execution_count": 10,
      "metadata": {
        "id": "z8Pj8vdLOU56"
      },
      "outputs": [],
      "source": [
        "# creo una variable binaria para ver si trabaja con datos\n",
        "sueldos['trabajo_con_datos'] = sueldos.trabajo_de.str.contains('data')"
      ]
    },
    {
      "cell_type": "code",
      "execution_count": 11,
      "metadata": {
        "colab": {
          "base_uri": "https://localhost:8080/"
        },
        "id": "V23TwjvaOU3T",
        "outputId": "e78b0ff4-3520-4edd-f152-4bf7832e9db0"
      },
      "outputs": [
        {
          "data": {
            "text/plain": [
              "array(['bi analyst / data analyst', 'data scientist / data engineer',\n",
              "       'data entry', 'data entry and management',\n",
              "       'lider data analyst qa - tester'], dtype=object)"
            ]
          },
          "execution_count": 11,
          "metadata": {},
          "output_type": "execute_result"
        }
      ],
      "source": [
        "# Verificamos nuestro filtro\n",
        "sueldos[sueldos['trabajo_con_datos'] == True].trabajo_de.unique()"
      ]
    },
    {
      "cell_type": "code",
      "execution_count": 12,
      "metadata": {
        "id": "RiIMVr_rOU0I"
      },
      "outputs": [],
      "source": [
        "# Filtramos los profesionales de datos\n",
        "sueldos_data = sueldos[sueldos['trabajo_con_datos'] == True]"
      ]
    },
    {
      "cell_type": "code",
      "execution_count": 13,
      "metadata": {
        "id": "H8oobavkS9iw"
      },
      "outputs": [],
      "source": [
        "# Normalizamos el puesto de 'data entry' y 'data analyst\n",
        "sueldos_data['trabajo_de'] = sueldos_data.trabajo_de.str.replace('data entry and management', 'data entry')\n",
        "sueldos_data['trabajo_de'] = sueldos_data.trabajo_de.str.replace('lider data analyst qa - tester', 'bi analyst / data analyst')"
      ]
    },
    {
      "cell_type": "code",
      "execution_count": 14,
      "metadata": {
        "colab": {
          "base_uri": "https://localhost:8080/"
        },
        "id": "jwiunGOPS9f7",
        "outputId": "2a28768e-9427-4ec2-f998-ec355237fd80"
      },
      "outputs": [
        {
          "data": {
            "text/plain": [
              "array(['bi analyst / data analyst', 'data scientist / data engineer',\n",
              "       'data entry'], dtype=object)"
            ]
          },
          "execution_count": 14,
          "metadata": {},
          "output_type": "execute_result"
        }
      ],
      "source": [
        "sueldos_data.trabajo_de.unique()"
      ]
    },
    {
      "cell_type": "code",
      "execution_count": 15,
      "metadata": {
        "colab": {
          "base_uri": "https://localhost:8080/"
        },
        "id": "ltkpbUbOS9dM",
        "outputId": "ce3dcd64-2227-49ec-c4de-851d4edb073c"
      },
      "outputs": [
        {
          "data": {
            "text/plain": [
              "128527.74056603774"
            ]
          },
          "execution_count": 15,
          "metadata": {},
          "output_type": "execute_result"
        }
      ],
      "source": [
        "# Ahora vemos el salario promedio\n",
        "np.mean(sueldos_data.salario_mensual_bruto_en_tu_moneda_local)"
      ]
    },
    {
      "cell_type": "code",
      "execution_count": 16,
      "metadata": {
        "colab": {
          "base_uri": "https://localhost:8080/",
          "height": 206
        },
        "id": "LNfTPCnWS9aI",
        "outputId": "5f6e9ce4-b696-49ee-9612-238793d12647"
      },
      "outputs": [
        {
          "name": "stderr",
          "output_type": "stream",
          "text": [
            "C:\\Users\\carlos\\AppData\\Local\\Temp\\ipykernel_14888\\3497278532.py:1: FutureWarning: The provided callable <function mean at 0x00000249FEBE1B20> is currently using SeriesGroupBy.mean. In a future version of pandas, the provided callable will be used directly. To keep current behavior pass the string \"mean\" instead.\n",
            "  sueldos_data.groupby('trabajo_de').agg({'salario_mensual_bruto_en_tu_moneda_local': [np.mean, np.median]})\n",
            "C:\\Users\\carlos\\AppData\\Local\\Temp\\ipykernel_14888\\3497278532.py:1: FutureWarning: The provided callable <function median at 0x00000249FED09E40> is currently using SeriesGroupBy.median. In a future version of pandas, the provided callable will be used directly. To keep current behavior pass the string \"median\" instead.\n",
            "  sueldos_data.groupby('trabajo_de').agg({'salario_mensual_bruto_en_tu_moneda_local': [np.mean, np.median]})\n"
          ]
        },
        {
          "data": {
            "text/html": [
              "<div>\n",
              "<style scoped>\n",
              "    .dataframe tbody tr th:only-of-type {\n",
              "        vertical-align: middle;\n",
              "    }\n",
              "\n",
              "    .dataframe tbody tr th {\n",
              "        vertical-align: top;\n",
              "    }\n",
              "\n",
              "    .dataframe thead tr th {\n",
              "        text-align: left;\n",
              "    }\n",
              "\n",
              "    .dataframe thead tr:last-of-type th {\n",
              "        text-align: right;\n",
              "    }\n",
              "</style>\n",
              "<table border=\"1\" class=\"dataframe\">\n",
              "  <thead>\n",
              "    <tr>\n",
              "      <th></th>\n",
              "      <th colspan=\"2\" halign=\"left\">salario_mensual_bruto_en_tu_moneda_local</th>\n",
              "    </tr>\n",
              "    <tr>\n",
              "      <th></th>\n",
              "      <th>mean</th>\n",
              "      <th>median</th>\n",
              "    </tr>\n",
              "    <tr>\n",
              "      <th>trabajo_de</th>\n",
              "      <th></th>\n",
              "      <th></th>\n",
              "    </tr>\n",
              "  </thead>\n",
              "  <tbody>\n",
              "    <tr>\n",
              "      <th>bi analyst / data analyst</th>\n",
              "      <td>154215.290323</td>\n",
              "      <td>61250.0</td>\n",
              "    </tr>\n",
              "    <tr>\n",
              "      <th>data entry</th>\n",
              "      <td>22000.000000</td>\n",
              "      <td>22000.0</td>\n",
              "    </tr>\n",
              "    <tr>\n",
              "      <th>data scientist / data engineer</th>\n",
              "      <td>93967.267442</td>\n",
              "      <td>80000.0</td>\n",
              "    </tr>\n",
              "  </tbody>\n",
              "</table>\n",
              "</div>"
            ],
            "text/plain": [
              "                               salario_mensual_bruto_en_tu_moneda_local  \\\n",
              "                                                                   mean   \n",
              "trabajo_de                                                                \n",
              "bi analyst / data analyst                                 154215.290323   \n",
              "data entry                                                 22000.000000   \n",
              "data scientist / data engineer                             93967.267442   \n",
              "\n",
              "                                         \n",
              "                                 median  \n",
              "trabajo_de                               \n",
              "bi analyst / data analyst       61250.0  \n",
              "data entry                      22000.0  \n",
              "data scientist / data engineer  80000.0  "
            ]
          },
          "execution_count": 16,
          "metadata": {},
          "output_type": "execute_result"
        }
      ],
      "source": [
        "sueldos_data.groupby('trabajo_de').agg({'salario_mensual_bruto_en_tu_moneda_local': [np.mean, np.median]})"
      ]
    },
    {
      "cell_type": "markdown",
      "metadata": {
        "id": "XFdzuX8AVT1o"
      },
      "source": [
        "## 3) Lenguajes de programación"
      ]
    },
    {
      "cell_type": "code",
      "execution_count": 17,
      "metadata": {
        "colab": {
          "base_uri": "https://localhost:8080/"
        },
        "id": "1BcjbQNMOUqd",
        "outputId": "dd2be25a-b4e0-4ba3-b183-dd1f4b869fd8"
      },
      "outputs": [
        {
          "data": {
            "text/plain": [
              "240                                    Java, SQL, VBA\n",
              "242                                               SQL\n",
              "244     .NET, C#, CSS, HTML, PHP, Python, R, SQL, VBA\n",
              "245                  Assembler, C#, COBOL, HTML, Java\n",
              "247                                       Python, SQL\n",
              "                            ...                      \n",
              "904                                               NaN\n",
              "906                     HTML, Javascript, Python, SQL\n",
              "908                                               SQL\n",
              "912                                               SQL\n",
              "3704                          HTML, Java, Python, SQL\n",
              "Name: lenguajes_de_programacion, Length: 212, dtype: object"
            ]
          },
          "execution_count": 17,
          "metadata": {},
          "output_type": "execute_result"
        }
      ],
      "source": [
        "sueldos_data.lenguajes_de_programacion"
      ]
    },
    {
      "cell_type": "code",
      "execution_count": 18,
      "metadata": {
        "id": "_dx5fzFGV1lK"
      },
      "outputs": [],
      "source": [
        "sueldos_data['lenguajes_de_programacion_split'] = sueldos_data.lenguajes_de_programacion.str.split(',')"
      ]
    },
    {
      "cell_type": "code",
      "execution_count": 19,
      "metadata": {
        "id": "d_tvT9PaXhBs"
      },
      "outputs": [],
      "source": [
        "sueldos_data['cantidad_lenguajes'] = sueldos_data.lenguajes_de_programacion_split.str.len()"
      ]
    },
    {
      "cell_type": "code",
      "execution_count": 20,
      "metadata": {
        "colab": {
          "base_uri": "https://localhost:8080/",
          "height": 206
        },
        "id": "OreOOFqIYEXI",
        "outputId": "68d40591-0f89-4b27-c366-93a5db620e86"
      },
      "outputs": [
        {
          "name": "stderr",
          "output_type": "stream",
          "text": [
            "C:\\Users\\carlos\\AppData\\Local\\Temp\\ipykernel_14888\\335890869.py:1: FutureWarning: The provided callable <function nanmean at 0x00000249FED113A0> is currently using SeriesGroupBy.mean. In a future version of pandas, the provided callable will be used directly. To keep current behavior pass the string \"mean\" instead.\n",
            "  sueldos_data.groupby('trabajo_de').agg({'cantidad_lenguajes': [np.nanmean, np.median]})\n",
            "C:\\Users\\carlos\\AppData\\Local\\Temp\\ipykernel_14888\\335890869.py:1: FutureWarning: The provided callable <function median at 0x00000249FED09E40> is currently using SeriesGroupBy.median. In a future version of pandas, the provided callable will be used directly. To keep current behavior pass the string \"median\" instead.\n",
            "  sueldos_data.groupby('trabajo_de').agg({'cantidad_lenguajes': [np.nanmean, np.median]})\n"
          ]
        },
        {
          "data": {
            "text/html": [
              "<div>\n",
              "<style scoped>\n",
              "    .dataframe tbody tr th:only-of-type {\n",
              "        vertical-align: middle;\n",
              "    }\n",
              "\n",
              "    .dataframe tbody tr th {\n",
              "        vertical-align: top;\n",
              "    }\n",
              "\n",
              "    .dataframe thead tr th {\n",
              "        text-align: left;\n",
              "    }\n",
              "\n",
              "    .dataframe thead tr:last-of-type th {\n",
              "        text-align: right;\n",
              "    }\n",
              "</style>\n",
              "<table border=\"1\" class=\"dataframe\">\n",
              "  <thead>\n",
              "    <tr>\n",
              "      <th></th>\n",
              "      <th colspan=\"2\" halign=\"left\">cantidad_lenguajes</th>\n",
              "    </tr>\n",
              "    <tr>\n",
              "      <th></th>\n",
              "      <th>nanmean</th>\n",
              "      <th>median</th>\n",
              "    </tr>\n",
              "    <tr>\n",
              "      <th>trabajo_de</th>\n",
              "      <th></th>\n",
              "      <th></th>\n",
              "    </tr>\n",
              "  </thead>\n",
              "  <tbody>\n",
              "    <tr>\n",
              "      <th>bi analyst / data analyst</th>\n",
              "      <td>2.271845</td>\n",
              "      <td>2.0</td>\n",
              "    </tr>\n",
              "    <tr>\n",
              "      <th>data entry</th>\n",
              "      <td>NaN</td>\n",
              "      <td>NaN</td>\n",
              "    </tr>\n",
              "    <tr>\n",
              "      <th>data scientist / data engineer</th>\n",
              "      <td>3.059524</td>\n",
              "      <td>3.0</td>\n",
              "    </tr>\n",
              "  </tbody>\n",
              "</table>\n",
              "</div>"
            ],
            "text/plain": [
              "                               cantidad_lenguajes       \n",
              "                                          nanmean median\n",
              "trabajo_de                                              \n",
              "bi analyst / data analyst                2.271845    2.0\n",
              "data entry                                    NaN    NaN\n",
              "data scientist / data engineer           3.059524    3.0"
            ]
          },
          "execution_count": 20,
          "metadata": {},
          "output_type": "execute_result"
        }
      ],
      "source": [
        "sueldos_data.groupby('trabajo_de').agg({'cantidad_lenguajes': [np.nanmean, np.median]})"
      ]
    }
  ],
  "metadata": {
    "colab": {
      "name": "CLASE 3 - Manejo de formato de datos - práctica individual - RESUELTO.ipynb",
      "provenance": [],
      "toc_visible": true
    },
    "kernelspec": {
      "display_name": "Python 3",
      "name": "python3"
    },
    "language_info": {
      "codemirror_mode": {
        "name": "ipython",
        "version": 3
      },
      "file_extension": ".py",
      "mimetype": "text/x-python",
      "name": "python",
      "nbconvert_exporter": "python",
      "pygments_lexer": "ipython3",
      "version": "3.12.3"
    }
  },
  "nbformat": 4,
  "nbformat_minor": 0
}
