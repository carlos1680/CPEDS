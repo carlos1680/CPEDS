{
  "nbformat": 4,
  "nbformat_minor": 0,
  "metadata": {
    "colab": {
      "name": "CLASE 3 - Manejo de formato de datos - práctica individual - RESUELTO.ipynb",
      "provenance": [],
      "toc_visible": true
    },
    "kernelspec": {
      "name": "python3",
      "display_name": "Python 3"
    },
    "language_info": {
      "name": "python"
    }
  },
  "cells": [
    {
      "cell_type": "code",
      "metadata": {
        "id": "4RY-VPZnVprF"
      },
      "source": [
        "import pandas as pd\n",
        "import datetime as dt\n",
        "import numpy as np\n",
        "\n",
        "pd.options.mode.chained_assignment = None  # default='warn'"
      ],
      "execution_count": null,
      "outputs": []
    },
    {
      "cell_type": "markdown",
      "metadata": {
        "id": "cM-alay_VwA6"
      },
      "source": [
        "# Consigna\n",
        "\n",
        "Vamos a trabajar con una base de datos elaborada por [Sysarmy](https://sysarmy.com/es/) (una comunidad de profesionales en el área de sistemas) que contiene los resultados de una encuesta se sueldos realizada en 2020. La encuesta tiene algunso campos tipificados y otros campos de texto libre.\n",
        "\n",
        "Queremos analizar los resultados de esta encuesta. Nos interesan especialmente aquellas respuestas vinculadas a profesionales que trabajan con datos y que poseen título universitario (para eliminar algunos casos con comportamiento atípico). Los objetivos de esta práctica serán:\n",
        "\n",
        "1. Construir una variable que nos indique hace cuánto tiempo fue respondida la encuesta.\n",
        "\n",
        "2. Encontrar el salario promedio para los trabajos vinculados a datos. Puede ser general o abierto por las distintas variantes.\n",
        "\n",
        "3. Contabilizar cuantos lenguajes de programación maneja la persona.\n"
      ]
    },
    {
      "cell_type": "code",
      "metadata": {
        "colab": {
          "base_uri": "https://localhost:8080/",
          "height": 469
        },
        "id": "SHc35xxCX6r2",
        "outputId": "c2ba7baf-c7d2-4204-99f4-b86e52436407"
      },
      "source": [
        "sueldos = pd.read_csv(\"https://raw.githubusercontent.com/eea-uba/EEA-2020/master/Fuentes/encuesta_sueldos_sysarmy_1s2020.csv\")\n",
        "sueldos.head()"
      ],
      "execution_count": null,
      "outputs": [
        {
          "output_type": "execute_result",
          "data": {
            "text/html": [
              "<div>\n",
              "<style scoped>\n",
              "    .dataframe tbody tr th:only-of-type {\n",
              "        vertical-align: middle;\n",
              "    }\n",
              "\n",
              "    .dataframe tbody tr th {\n",
              "        vertical-align: top;\n",
              "    }\n",
              "\n",
              "    .dataframe thead th {\n",
              "        text-align: right;\n",
              "    }\n",
              "</style>\n",
              "<table border=\"1\" class=\"dataframe\">\n",
              "  <thead>\n",
              "    <tr style=\"text-align: right;\">\n",
              "      <th></th>\n",
              "      <th>timestamp</th>\n",
              "      <th>me_identifico</th>\n",
              "      <th>tengo</th>\n",
              "      <th>estoy_trabajando_en</th>\n",
              "      <th>donde_estas_trabajando</th>\n",
              "      <th>anos_de_experiencia</th>\n",
              "      <th>anos_en_la_empresa_actual</th>\n",
              "      <th>anos_en_el_puesto_actual</th>\n",
              "      <th>gente_a_cargo</th>\n",
              "      <th>nivel_de_estudios_alcanzado</th>\n",
              "      <th>estado</th>\n",
              "      <th>carrera</th>\n",
              "      <th>universidad</th>\n",
              "      <th>realizaste_cursos_de_especializacion</th>\n",
              "      <th>contribuis_a_proyectos_open_source</th>\n",
              "      <th>programas_como_hobbie</th>\n",
              "      <th>trabajo_de</th>\n",
              "      <th>plataformas</th>\n",
              "      <th>lenguajes_de_programacion</th>\n",
              "      <th>frameworksherramientas_y_librerias</th>\n",
              "      <th>bases_de_datos</th>\n",
              "      <th>qa_testing</th>\n",
              "      <th>ides</th>\n",
              "      <th>que_so_usas_en_tu_laptoppc_para_trabajar</th>\n",
              "      <th>y_en_tu_celular</th>\n",
              "      <th>tenes_guardias</th>\n",
              "      <th>cuanto_cobras_por_guardia</th>\n",
              "      <th>porcentajebruto_o_neto</th>\n",
              "      <th>tipo_de_contrato</th>\n",
              "      <th>salario_mensual_bruto_en_tu_moneda_local</th>\n",
              "      <th>salario_mensual_neto_en_tu_moneda_local</th>\n",
              "      <th>que_tan_conforme_estas_con_tu_sueldo</th>\n",
              "      <th>como_crees_que_esta_tu_sueldo_con_respecto_al_ultimo_semestre</th>\n",
              "      <th>recibis_algun_tipo_de_bono</th>\n",
              "      <th>a_que_esta_atado_el_bono</th>\n",
              "      <th>tuviste_ajustes_por_inflacion_en_2019</th>\n",
              "      <th>de_que_fue_el_ajuste_total</th>\n",
              "      <th>en_que_mes_fue_el_ultimo_ajuste</th>\n",
              "      <th>sufriste_o_presenciaste_situaciones_de_violencia_laboral</th>\n",
              "      <th>orientacion_sexual</th>\n",
              "      <th>tenes_algun_tipo_de_discapacidad</th>\n",
              "      <th>sentis_que_esto_te_dificulto_el_conseguir_trabajo</th>\n",
              "      <th>a_que_eventos_de_tecnologia_asististe_en_el_ultimo_ano</th>\n",
              "      <th>sos_miembro_de_alguna_comunidad_it</th>\n",
              "      <th>cantidad_de_empleados</th>\n",
              "      <th>actividad_principal</th>\n",
              "      <th>la_recomendas_como_un_buen_lugar_para_trabajar</th>\n",
              "      <th>como_calificas_las_politicas_de_diversidad_e_inclusion</th>\n",
              "      <th>a_cuantos_kilometros_de_tu_casa_queda_la_oficina</th>\n",
              "      <th>beneficios_extra</th>\n",
              "      <th>habias_respondido_nuestra_encuesta_en_ediciones_anteriores</th>\n",
              "      <th>cuales_consideras_que_son_las_mejores_empresas_de_it_para_trabajar_en_este_momentoen_tu_ciudad</th>\n",
              "      <th>sueldo_dolarizado</th>\n",
              "    </tr>\n",
              "  </thead>\n",
              "  <tbody>\n",
              "    <tr>\n",
              "      <th>0</th>\n",
              "      <td>1/31/2020 6:50:26</td>\n",
              "      <td>Hombre</td>\n",
              "      <td>32</td>\n",
              "      <td>Argentina</td>\n",
              "      <td>Ciudad Autónoma de Buenos Aires</td>\n",
              "      <td>10</td>\n",
              "      <td>3</td>\n",
              "      <td>1</td>\n",
              "      <td>0</td>\n",
              "      <td>Secundario</td>\n",
              "      <td>Completado</td>\n",
              "      <td>0</td>\n",
              "      <td>0</td>\n",
              "      <td>Sí, de forma particular</td>\n",
              "      <td>Sí</td>\n",
              "      <td>No</td>\n",
              "      <td>0</td>\n",
              "      <td>Linux</td>\n",
              "      <td>Bash/Shell, SQL</td>\n",
              "      <td>NaN</td>\n",
              "      <td>MySQL, Oracle</td>\n",
              "      <td>NaN</td>\n",
              "      <td>Nano, Notepad++</td>\n",
              "      <td>Windows</td>\n",
              "      <td>No tengo celular / no es Smartphone</td>\n",
              "      <td>No</td>\n",
              "      <td>0</td>\n",
              "      <td>Porcentaje de mi sueldo</td>\n",
              "      <td>Full-Time</td>\n",
              "      <td>45</td>\n",
              "      <td>40.0</td>\n",
              "      <td>2</td>\n",
              "      <td>2</td>\n",
              "      <td>No</td>\n",
              "      <td>No recibo bono</td>\n",
              "      <td>Dos</td>\n",
              "      <td>10</td>\n",
              "      <td>1</td>\n",
              "      <td>Jamás</td>\n",
              "      <td>Homosexual</td>\n",
              "      <td>NaN</td>\n",
              "      <td>NaN</td>\n",
              "      <td>NaN</td>\n",
              "      <td>NaN</td>\n",
              "      <td>10001+</td>\n",
              "      <td>Producto basado en Software</td>\n",
              "      <td>8</td>\n",
              "      <td>10</td>\n",
              "      <td>6</td>\n",
              "      <td>Capacitaciones y/o cursos, Comidas pagas / sub...</td>\n",
              "      <td>No</td>\n",
              "      <td>cognizant</td>\n",
              "      <td>False</td>\n",
              "    </tr>\n",
              "    <tr>\n",
              "      <th>1</th>\n",
              "      <td>1/28/2020 9:27:48</td>\n",
              "      <td>Hombre</td>\n",
              "      <td>30</td>\n",
              "      <td>Argentina</td>\n",
              "      <td>Ciudad Autónoma de Buenos Aires</td>\n",
              "      <td>3</td>\n",
              "      <td>3</td>\n",
              "      <td>3</td>\n",
              "      <td>0</td>\n",
              "      <td>Terciario</td>\n",
              "      <td>Completado</td>\n",
              "      <td>Diseño Gráfico</td>\n",
              "      <td>antonio berni</td>\n",
              "      <td>Sí, de forma particular, Sí, los pagó un emple...</td>\n",
              "      <td>No</td>\n",
              "      <td>Sí</td>\n",
              "      <td>Technical Support</td>\n",
              "      <td>Windows Server</td>\n",
              "      <td>CSS, HTML, Javascript</td>\n",
              "      <td>Bootstrap</td>\n",
              "      <td>NaN</td>\n",
              "      <td>NaN</td>\n",
              "      <td>Visual Studio Code</td>\n",
              "      <td>Windows</td>\n",
              "      <td>Android</td>\n",
              "      <td>No</td>\n",
              "      <td>0</td>\n",
              "      <td>Porcentaje de mi sueldo</td>\n",
              "      <td>Full-Time</td>\n",
              "      <td>48000</td>\n",
              "      <td>40000.0</td>\n",
              "      <td>1</td>\n",
              "      <td>1</td>\n",
              "      <td>No</td>\n",
              "      <td>No recibo bono</td>\n",
              "      <td>Dos</td>\n",
              "      <td>10</td>\n",
              "      <td>7</td>\n",
              "      <td>Jamás</td>\n",
              "      <td>Heterosexual</td>\n",
              "      <td>NaN</td>\n",
              "      <td>No</td>\n",
              "      <td>NaN</td>\n",
              "      <td>NaN</td>\n",
              "      <td>51-100</td>\n",
              "      <td>Otras industrias</td>\n",
              "      <td>7</td>\n",
              "      <td>3</td>\n",
              "      <td>35</td>\n",
              "      <td>Capacitaciones y/o cursos</td>\n",
              "      <td>No</td>\n",
              "      <td>mercadolibre</td>\n",
              "      <td>False</td>\n",
              "    </tr>\n",
              "    <tr>\n",
              "      <th>2</th>\n",
              "      <td>1/29/2020 16:54:29</td>\n",
              "      <td>Mujer</td>\n",
              "      <td>40</td>\n",
              "      <td>Argentina</td>\n",
              "      <td>Ciudad Autónoma de Buenos Aires</td>\n",
              "      <td>15</td>\n",
              "      <td>3</td>\n",
              "      <td>3</td>\n",
              "      <td>1</td>\n",
              "      <td>Universitario</td>\n",
              "      <td>Completado</td>\n",
              "      <td>Derecho</td>\n",
              "      <td>UBA - Universidad de Buenos Aires</td>\n",
              "      <td>No</td>\n",
              "      <td>No</td>\n",
              "      <td>No</td>\n",
              "      <td>Abogada</td>\n",
              "      <td>NaN</td>\n",
              "      <td>NaN</td>\n",
              "      <td>NaN</td>\n",
              "      <td>NaN</td>\n",
              "      <td>NaN</td>\n",
              "      <td>NaN</td>\n",
              "      <td>Windows</td>\n",
              "      <td>Android</td>\n",
              "      <td>No</td>\n",
              "      <td>0</td>\n",
              "      <td>Bruto</td>\n",
              "      <td>Full-Time</td>\n",
              "      <td>42000</td>\n",
              "      <td>35000.0</td>\n",
              "      <td>3</td>\n",
              "      <td>2</td>\n",
              "      <td>No</td>\n",
              "      <td>No recibo bono</td>\n",
              "      <td>Dos</td>\n",
              "      <td>10</td>\n",
              "      <td>10</td>\n",
              "      <td>En mi trabajo actual</td>\n",
              "      <td>Heterosexual</td>\n",
              "      <td>NaN</td>\n",
              "      <td>No</td>\n",
              "      <td>NaN</td>\n",
              "      <td>NaN</td>\n",
              "      <td>11-50</td>\n",
              "      <td>Servicios / Consultoría de Software / Digital</td>\n",
              "      <td>8</td>\n",
              "      <td>8</td>\n",
              "      <td>30</td>\n",
              "      <td>Abono de celular y/o Internet, Capacitaciones ...</td>\n",
              "      <td>No</td>\n",
              "      <td>NaN</td>\n",
              "      <td>False</td>\n",
              "    </tr>\n",
              "    <tr>\n",
              "      <th>3</th>\n",
              "      <td>2/1/2020 5:46:25</td>\n",
              "      <td>Mujer</td>\n",
              "      <td>36</td>\n",
              "      <td>Argentina</td>\n",
              "      <td>Ciudad Autónoma de Buenos Aires</td>\n",
              "      <td>10</td>\n",
              "      <td>3</td>\n",
              "      <td>3</td>\n",
              "      <td>0</td>\n",
              "      <td>Universitario</td>\n",
              "      <td>Completado</td>\n",
              "      <td>Derecho</td>\n",
              "      <td>UNC - Universidad Nacional de Córdoba</td>\n",
              "      <td>No</td>\n",
              "      <td>No</td>\n",
              "      <td>No</td>\n",
              "      <td>Abogado</td>\n",
              "      <td>Lex doctor</td>\n",
              "      <td>Ninguno</td>\n",
              "      <td>Ninguno</td>\n",
              "      <td>Ninguno</td>\n",
              "      <td>Ninguno</td>\n",
              "      <td>Ninguno</td>\n",
              "      <td>Windows</td>\n",
              "      <td>Android</td>\n",
              "      <td>No</td>\n",
              "      <td>0</td>\n",
              "      <td>Neto</td>\n",
              "      <td>Full-Time</td>\n",
              "      <td>75000</td>\n",
              "      <td>60000.0</td>\n",
              "      <td>3</td>\n",
              "      <td>3</td>\n",
              "      <td>No</td>\n",
              "      <td>No recibo bono</td>\n",
              "      <td>No</td>\n",
              "      <td>0</td>\n",
              "      <td>0</td>\n",
              "      <td>Jamás</td>\n",
              "      <td>Heterosexual</td>\n",
              "      <td>NaN</td>\n",
              "      <td>NaN</td>\n",
              "      <td>NaN</td>\n",
              "      <td>NaN</td>\n",
              "      <td>51-100</td>\n",
              "      <td>Otras industrias</td>\n",
              "      <td>7</td>\n",
              "      <td>5</td>\n",
              "      <td>4</td>\n",
              "      <td>Viáticos</td>\n",
              "      <td>No</td>\n",
              "      <td>NaN</td>\n",
              "      <td>False</td>\n",
              "    </tr>\n",
              "    <tr>\n",
              "      <th>4</th>\n",
              "      <td>2/1/2020 17:51:21</td>\n",
              "      <td>Hombre</td>\n",
              "      <td>29</td>\n",
              "      <td>Argentina</td>\n",
              "      <td>Ciudad Autónoma de Buenos Aires</td>\n",
              "      <td>10</td>\n",
              "      <td>2</td>\n",
              "      <td>2</td>\n",
              "      <td>0</td>\n",
              "      <td>Universitario</td>\n",
              "      <td>Completado</td>\n",
              "      <td>Licenciatura en Marketing</td>\n",
              "      <td>IUEAN - Instituto Universitario Escuela Argent...</td>\n",
              "      <td>No</td>\n",
              "      <td>No</td>\n",
              "      <td>No</td>\n",
              "      <td>Account Manager-Sales</td>\n",
              "      <td>Springserve, Pulse Point, Improve Digital, Mob...</td>\n",
              "      <td>NaN</td>\n",
              "      <td>NaN</td>\n",
              "      <td>NaN</td>\n",
              "      <td>NaN</td>\n",
              "      <td>NaN</td>\n",
              "      <td>Windows</td>\n",
              "      <td>Android</td>\n",
              "      <td>No</td>\n",
              "      <td>0</td>\n",
              "      <td>Neto</td>\n",
              "      <td>Full-Time</td>\n",
              "      <td>40000</td>\n",
              "      <td>34000.0</td>\n",
              "      <td>1</td>\n",
              "      <td>1</td>\n",
              "      <td>Menos de un sueldo</td>\n",
              "      <td>Performance individual</td>\n",
              "      <td>Uno</td>\n",
              "      <td>24</td>\n",
              "      <td>5</td>\n",
              "      <td>Jamás</td>\n",
              "      <td>Heterosexual</td>\n",
              "      <td>NaN</td>\n",
              "      <td>NaN</td>\n",
              "      <td>NaN</td>\n",
              "      <td>NaN</td>\n",
              "      <td>11-50</td>\n",
              "      <td>Otras industrias</td>\n",
              "      <td>5</td>\n",
              "      <td>8</td>\n",
              "      <td>7</td>\n",
              "      <td>Ninguna de las anteriores</td>\n",
              "      <td>No</td>\n",
              "      <td>NaN</td>\n",
              "      <td>False</td>\n",
              "    </tr>\n",
              "  </tbody>\n",
              "</table>\n",
              "</div>"
            ],
            "text/plain": [
              "            timestamp  ... sueldo_dolarizado\n",
              "0   1/31/2020 6:50:26  ...             False\n",
              "1   1/28/2020 9:27:48  ...             False\n",
              "2  1/29/2020 16:54:29  ...             False\n",
              "3    2/1/2020 5:46:25  ...             False\n",
              "4   2/1/2020 17:51:21  ...             False\n",
              "\n",
              "[5 rows x 53 columns]"
            ]
          },
          "metadata": {
            "tags": []
          },
          "execution_count": 42
        }
      ]
    },
    {
      "cell_type": "code",
      "metadata": {
        "colab": {
          "base_uri": "https://localhost:8080/"
        },
        "id": "v5nTk_BAODt2",
        "outputId": "44aac03c-cb6a-447e-b81d-03cd8ace57a7"
      },
      "source": [
        "# observamos faltantes y tipos de datos\n",
        "sueldos.info()"
      ],
      "execution_count": null,
      "outputs": [
        {
          "output_type": "stream",
          "text": [
            "<class 'pandas.core.frame.DataFrame'>\n",
            "RangeIndex: 5982 entries, 0 to 5981\n",
            "Data columns (total 53 columns):\n",
            " #   Column                                                                                          Non-Null Count  Dtype  \n",
            "---  ------                                                                                          --------------  -----  \n",
            " 0   timestamp                                                                                       5982 non-null   object \n",
            " 1   me_identifico                                                                                   5982 non-null   object \n",
            " 2   tengo                                                                                           5982 non-null   int64  \n",
            " 3   estoy_trabajando_en                                                                             5982 non-null   object \n",
            " 4   donde_estas_trabajando                                                                          5982 non-null   object \n",
            " 5   anos_de_experiencia                                                                             5982 non-null   int64  \n",
            " 6   anos_en_la_empresa_actual                                                                       5982 non-null   int64  \n",
            " 7   anos_en_el_puesto_actual                                                                        5982 non-null   int64  \n",
            " 8   gente_a_cargo                                                                                   5982 non-null   object \n",
            " 9   nivel_de_estudios_alcanzado                                                                     5982 non-null   object \n",
            " 10  estado                                                                                          5982 non-null   object \n",
            " 11  carrera                                                                                         5644 non-null   object \n",
            " 12  universidad                                                                                     5356 non-null   object \n",
            " 13  realizaste_cursos_de_especializacion                                                            5982 non-null   object \n",
            " 14  contribuis_a_proyectos_open_source                                                              5982 non-null   object \n",
            " 15  programas_como_hobbie                                                                           5982 non-null   object \n",
            " 16  trabajo_de                                                                                      5982 non-null   object \n",
            " 17  plataformas                                                                                     4884 non-null   object \n",
            " 18  lenguajes_de_programacion                                                                       4880 non-null   object \n",
            " 19  frameworksherramientas_y_librerias                                                              3663 non-null   object \n",
            " 20  bases_de_datos                                                                                  4499 non-null   object \n",
            " 21  qa_testing                                                                                      2179 non-null   object \n",
            " 22  ides                                                                                            4278 non-null   object \n",
            " 23  que_so_usas_en_tu_laptoppc_para_trabajar                                                        5982 non-null   object \n",
            " 24  y_en_tu_celular                                                                                 5982 non-null   object \n",
            " 25  tenes_guardias                                                                                  5982 non-null   object \n",
            " 26  cuanto_cobras_por_guardia                                                                       5982 non-null   int64  \n",
            " 27  porcentajebruto_o_neto                                                                          5982 non-null   object \n",
            " 28  tipo_de_contrato                                                                                5982 non-null   object \n",
            " 29  salario_mensual_bruto_en_tu_moneda_local                                                        5982 non-null   int64  \n",
            " 30  salario_mensual_neto_en_tu_moneda_local                                                         5768 non-null   float64\n",
            " 31  que_tan_conforme_estas_con_tu_sueldo                                                            5982 non-null   int64  \n",
            " 32  como_crees_que_esta_tu_sueldo_con_respecto_al_ultimo_semestre                                   5982 non-null   int64  \n",
            " 33  recibis_algun_tipo_de_bono                                                                      5982 non-null   object \n",
            " 34  a_que_esta_atado_el_bono                                                                        5982 non-null   object \n",
            " 35  tuviste_ajustes_por_inflacion_en_2019                                                           5982 non-null   object \n",
            " 36  de_que_fue_el_ajuste_total                                                                      5982 non-null   int64  \n",
            " 37  en_que_mes_fue_el_ultimo_ajuste                                                                 5982 non-null   int64  \n",
            " 38  sufriste_o_presenciaste_situaciones_de_violencia_laboral                                        5932 non-null   object \n",
            " 39  orientacion_sexual                                                                              5870 non-null   object \n",
            " 40  tenes_algun_tipo_de_discapacidad                                                                420 non-null    object \n",
            " 41  sentis_que_esto_te_dificulto_el_conseguir_trabajo                                               2963 non-null   object \n",
            " 42  a_que_eventos_de_tecnologia_asististe_en_el_ultimo_ano                                          2121 non-null   object \n",
            " 43  sos_miembro_de_alguna_comunidad_it                                                              1471 non-null   object \n",
            " 44  cantidad_de_empleados                                                                           5982 non-null   object \n",
            " 45  actividad_principal                                                                             5982 non-null   object \n",
            " 46  la_recomendas_como_un_buen_lugar_para_trabajar                                                  5982 non-null   int64  \n",
            " 47  como_calificas_las_politicas_de_diversidad_e_inclusion                                          5982 non-null   int64  \n",
            " 48  a_cuantos_kilometros_de_tu_casa_queda_la_oficina                                                5982 non-null   int64  \n",
            " 49  beneficios_extra                                                                                5982 non-null   object \n",
            " 50  habias_respondido_nuestra_encuesta_en_ediciones_anteriores                                      5982 non-null   object \n",
            " 51  cuales_consideras_que_son_las_mejores_empresas_de_it_para_trabajar_en_este_momentoen_tu_ciudad  1688 non-null   object \n",
            " 52  sueldo_dolarizado                                                                               5982 non-null   bool   \n",
            "dtypes: bool(1), float64(1), int64(13), object(38)\n",
            "memory usage: 2.4+ MB\n"
          ],
          "name": "stdout"
        }
      ]
    },
    {
      "cell_type": "code",
      "metadata": {
        "id": "_6uugvp-PavZ"
      },
      "source": [
        "# Antes de comenzar, filtramos solo los registros con educacion universitaria\n",
        "sueldos = sueldos[sueldos.nivel_de_estudios_alcanzado == 'Universitario']"
      ],
      "execution_count": null,
      "outputs": []
    },
    {
      "cell_type": "markdown",
      "metadata": {
        "id": "R5cwReOINa4X"
      },
      "source": [
        "## 1) Fecha de encuesta\n",
        "\n",
        "Pista: la función **datetime.datetime.now()** nos devuelve fecha y hora actuales."
      ]
    },
    {
      "cell_type": "code",
      "metadata": {
        "colab": {
          "base_uri": "https://localhost:8080/"
        },
        "id": "Xssmp5Y4Pfic",
        "outputId": "dc5fd691-7b88-45be-866f-183ee11ac6ac"
      },
      "source": [
        "sueldos.timestamp.head()"
      ],
      "execution_count": null,
      "outputs": [
        {
          "output_type": "execute_result",
          "data": {
            "text/plain": [
              "2    1/29/2020 16:54:29\n",
              "3      2/1/2020 5:46:25\n",
              "4     2/1/2020 17:51:21\n",
              "5     2/1/2020 23:13:41\n",
              "9    1/31/2020 15:35:31\n",
              "Name: timestamp, dtype: object"
            ]
          },
          "metadata": {
            "tags": []
          },
          "execution_count": 45
        }
      ]
    },
    {
      "cell_type": "code",
      "metadata": {
        "colab": {
          "base_uri": "https://localhost:8080/"
        },
        "id": "_1wgLuxXOVEV",
        "outputId": "00f5e01b-6543-493e-8cda-24efc12c0dd9"
      },
      "source": [
        "# convertimos la variable datestamp a date\n",
        "sueldos['fecha_de_respuesta'] = pd.to_datetime(sueldos.timestamp, format=\"%m/%d/%Y %H:%M:%S\")\n",
        "sueldos.fecha_de_respuesta.head()"
      ],
      "execution_count": null,
      "outputs": [
        {
          "output_type": "execute_result",
          "data": {
            "text/plain": [
              "2   2020-01-29 16:54:29\n",
              "3   2020-02-01 05:46:25\n",
              "4   2020-02-01 17:51:21\n",
              "5   2020-02-01 23:13:41\n",
              "9   2020-01-31 15:35:31\n",
              "Name: fecha_de_respuesta, dtype: datetime64[ns]"
            ]
          },
          "metadata": {
            "tags": []
          },
          "execution_count": 46
        }
      ]
    },
    {
      "cell_type": "code",
      "metadata": {
        "colab": {
          "base_uri": "https://localhost:8080/"
        },
        "id": "s_4e2mSHOVB9",
        "outputId": "da35a5be-fac3-4b5a-dcc1-61561fe4f8e2"
      },
      "source": [
        "# generamos la variable de antiguedad (diferencia con hoy)\n",
        "today = dt.datetime.now()\n",
        "\n",
        "sueldos['dias_desde_respuesta'] = (today - sueldos.fecha_de_respuesta)\n",
        "sueldos.dias_desde_respuesta.head()"
      ],
      "execution_count": null,
      "outputs": [
        {
          "output_type": "execute_result",
          "data": {
            "text/plain": [
              "2   500 days 19:25:46.884654\n",
              "3   498 days 06:33:50.884654\n",
              "4   497 days 18:28:54.884654\n",
              "5   497 days 13:06:34.884654\n",
              "9   498 days 20:44:44.884654\n",
              "Name: dias_desde_respuesta, dtype: timedelta64[ns]"
            ]
          },
          "metadata": {
            "tags": []
          },
          "execution_count": 47
        }
      ]
    },
    {
      "cell_type": "markdown",
      "metadata": {
        "id": "oS1VrQ0xRVwz"
      },
      "source": [
        "## 2) Trabajo con datos"
      ]
    },
    {
      "cell_type": "code",
      "metadata": {
        "colab": {
          "base_uri": "https://localhost:8080/"
        },
        "id": "OHoDATeaOU_S",
        "outputId": "29d7cc33-2653-41ce-bfdb-30b2422a7ac1"
      },
      "source": [
        "sueldos.trabajo_de.unique()"
      ],
      "execution_count": null,
      "outputs": [
        {
          "output_type": "execute_result",
          "data": {
            "text/plain": [
              "array(['Abogada', 'Abogado', 'Account Manager-Sales', 'Adm',\n",
              "       'Administración', 'Administrador de Infraestructura',\n",
              "       'Administrativa', 'Administrativa contable',\n",
              "       'Administrative Assistant', 'Administrativo',\n",
              "       'Administrativo en farmacia', 'Analista',\n",
              "       'Analista de Operaciones de Servicios',\n",
              "       'Analista de prevención de lavado de activos',\n",
              "       'Analista de Soporte', 'Analista Funciona ERP',\n",
              "       'Functional Analyst', 'Developer', 'Analista SAP',\n",
              "       'Analista Senior.', 'Analyst support', 'Anlytics Engineer',\n",
              "       'Application Support', 'Applications Support Analyst', 'Architect',\n",
              "       'Asistente de Sistemas', 'Assistant', 'Atención al cliente',\n",
              "       'Atención al publico', 'Auditor de TI', 'Auditoria',\n",
              "       'BI Analyst / Data Analyst', 'Data Scientist / Data Engineer',\n",
              "       'DBA Especializado / Gurú', 'DBA', 'BI Sr. Manager',\n",
              "       'Business Analyst', 'Cadete', 'Cajera', 'Cajero', 'Call center',\n",
              "       'Captador de donaciones', 'Chef de Cocina', 'Colorista',\n",
              "       'Compliance Infosec', 'Comprador especializado', 'Conract center',\n",
              "       'Consultant', 'Consultora de Infosec', 'Contador', 'Coordinador',\n",
              "       'Coordinador de Soporte de Aplicaciones', 'Coordinador de taller',\n",
              "       'Cordinador', 'Country Support Coordinator', 'CTO',\n",
              "       'Customer Experience Diseño de experiencia', 'Data entry',\n",
              "       'Data Entry and Management', 'Delivery Manager', 'Designer',\n",
              "       'Designer / ui / developer', 'Designer/Developer',\n",
              "       'Developer + contribuciones de Arquitectura + ir a los clientes etc..',\n",
              "       'Developer, designer, architect, dba, analyst', 'DEvops',\n",
              "       'DevOps / Pre-Sales / Consultant (el rol es un mix)',\n",
              "       'DevOps Engineer', 'DevOps Specialist', 'DevsecOps',\n",
              "       'Digital Marketing Specialist', 'Digitalización y almacenamiento',\n",
              "       'Doctor', 'Educación en programación', 'Empleada', 'Empleado',\n",
              "       'Enterprise Architecture', 'Executive assistant', 'Finance',\n",
              "       'Freelance', 'Fullstack', 'Gerente de IT', 'Gestion de proyectos',\n",
              "       'GRC', 'HelpDesk', 'Hfc', 'IAM', 'IAM epv', 'Implementador',\n",
              "       'Incident Manager', 'Infosec', 'Infra', 'Infraestructura.',\n",
              "       'Ingeniería', 'Ingeniero', 'Ingeniero integrador', 'Intern',\n",
              "       'investigacion cientifica', 'IoT Developer', 'IT Business Partner',\n",
              "       'IT Desktop', 'IT Infrastructure', 'IT Operations',\n",
              "       'IT site / user Support', 'IT support', 'It support',\n",
              "       'IT Support Analyst', 'Jefe', 'Jefe de departamento',\n",
              "       'Jefe de presupuesto', 'jefe sistemas', 'Kyc',\n",
              "       'L2 Technical Support', 'Lider Data Analyst QA - TESTER',\n",
              "       'Limpieza', 'Limpieza en restaurante', 'lingüista computacional',\n",
              "       'Lucho constantemente contra el desorden en los repositorios de pibes que no saben usar Git ni el framework con el que laburamos',\n",
              "       'Machine Learning Engineer', 'Manager', 'Manager / Director',\n",
              "       'Manufactura', 'Media Buyer',\n",
              "       'Mezcla de desarrollador, arquitecto de aplicaciones, devops, etc',\n",
              "       'Middleware', 'Mobile Developer',\n",
              "       'Navaja Suiza Informática (dev, ops, admin, soporte, backup, tester, dba, etc)',\n",
              "       'Networking', 'Networking/Designer/Designer/Networking/Networking',\n",
              "       'NLP', 'o', 'operador', 'Operational Risk Auditor',\n",
              "       'Operations Manager', 'Operator', 'Pentester', 'Pl', 'PLC',\n",
              "       'PM y Technical Leader', 'Problem Management',\n",
              "       'Procesamiento y análisis de datos', 'Produccion',\n",
              "       'Product analyst', 'Product Analyst', 'Product designer',\n",
              "       'Product leader', 'Product Manager', 'Product Owner',\n",
              "       'Product Infosec', 'Docentea de programación',\n",
              "       'Developer y generador de contenido para plataforma de educacion',\n",
              "       'Programmer Analyst', 'Project Leader', 'Project Manager',\n",
              "       'Prototipos de VR y AR para Hololens.',\n",
              "       'Proyecto completo. (Análisis, arquitectura, desarrollo, dba, pruebas, despliegue)',\n",
              "       'Proyecto Leader', 'Proyectos Audiovisuales', 'QA / Tester',\n",
              "       'QA / Tester - Coordinador', 'QA Automation',\n",
              "       'Quality Assurance Analyst', 'Recepcionista', 'Recruiter / HR',\n",
              "       'Research', 'research', 'Researcher', 'Riesgos de seguridad',\n",
              "       'Risk Analyst', 'RPA Developer', 'RPA Technical Leader',\n",
              "       'Sales / Pre-Sales', 'SAP Basis', 'Scrum Master',\n",
              "       'Scrun Master, Proyect Manager yDdeveloper', 'Secretaria',\n",
              "       'secretaria', 'Soporte', 'Soporte 3 nivel',\n",
              "       'Soporte de aplicaciones - Tester', 'Soporte Gestión Documental',\n",
              "       'Technical Support', 'Storage / Backup', 'Supervisor Logístico',\n",
              "       'Supervisor People Systems', 'Supervisor soporte admin clientes',\n",
              "       'Supply chain', 'SysAdmin / DevOps / SRE', 'Team Lead',\n",
              "       'Technical Leader', 'Team Manager', 'Technical Account Manager',\n",
              "       'Technical Writer', 'Technical Writer & Trainer', 'Técnico',\n",
              "       'Translator', 'UI', 'Unity Lead Developer', 'UX',\n",
              "       'UX Designer y Frontend Developer', 'UX developer trainee',\n",
              "       'Vendedor', 'Voip', 'VP / C-Level', 'Y'], dtype=object)"
            ]
          },
          "metadata": {
            "tags": []
          },
          "execution_count": 48
        }
      ]
    },
    {
      "cell_type": "code",
      "metadata": {
        "id": "4Vs9fW19OU8f"
      },
      "source": [
        "# llevamos todo a minuscula\n",
        "sueldos['trabajo_de'] = sueldos.trabajo_de.str.lower()"
      ],
      "execution_count": null,
      "outputs": []
    },
    {
      "cell_type": "code",
      "metadata": {
        "id": "z8Pj8vdLOU56"
      },
      "source": [
        "# creo una variable binaria para ver si trabaja con datos\n",
        "sueldos['trabajo_con_datos'] = sueldos.trabajo_de.str.contains('data')"
      ],
      "execution_count": null,
      "outputs": []
    },
    {
      "cell_type": "code",
      "metadata": {
        "colab": {
          "base_uri": "https://localhost:8080/"
        },
        "id": "V23TwjvaOU3T",
        "outputId": "e78b0ff4-3520-4edd-f152-4bf7832e9db0"
      },
      "source": [
        "# Verificamos nuestro filtro\n",
        "sueldos[sueldos['trabajo_con_datos'] == True].trabajo_de.unique()"
      ],
      "execution_count": null,
      "outputs": [
        {
          "output_type": "execute_result",
          "data": {
            "text/plain": [
              "array(['bi analyst / data analyst', 'data scientist / data engineer',\n",
              "       'data entry', 'data entry and management',\n",
              "       'lider data analyst qa - tester'], dtype=object)"
            ]
          },
          "metadata": {
            "tags": []
          },
          "execution_count": 51
        }
      ]
    },
    {
      "cell_type": "code",
      "metadata": {
        "id": "RiIMVr_rOU0I"
      },
      "source": [
        "# Filtramos los profesionales de datos\n",
        "sueldos_data = sueldos[sueldos['trabajo_con_datos'] == True]"
      ],
      "execution_count": null,
      "outputs": []
    },
    {
      "cell_type": "code",
      "metadata": {
        "id": "H8oobavkS9iw"
      },
      "source": [
        "# Normalizamos el puesto de 'data entry' y 'data analyst\n",
        "sueldos_data['trabajo_de'] = sueldos_data.trabajo_de.str.replace('data entry and management', 'data entry')\n",
        "sueldos_data['trabajo_de'] = sueldos_data.trabajo_de.str.replace('lider data analyst qa - tester', 'bi analyst / data analyst')"
      ],
      "execution_count": null,
      "outputs": []
    },
    {
      "cell_type": "code",
      "metadata": {
        "colab": {
          "base_uri": "https://localhost:8080/"
        },
        "id": "jwiunGOPS9f7",
        "outputId": "2a28768e-9427-4ec2-f998-ec355237fd80"
      },
      "source": [
        "sueldos_data.trabajo_de.unique()"
      ],
      "execution_count": null,
      "outputs": [
        {
          "output_type": "execute_result",
          "data": {
            "text/plain": [
              "array(['bi analyst / data analyst', 'data scientist / data engineer',\n",
              "       'data entry'], dtype=object)"
            ]
          },
          "metadata": {
            "tags": []
          },
          "execution_count": 54
        }
      ]
    },
    {
      "cell_type": "code",
      "metadata": {
        "colab": {
          "base_uri": "https://localhost:8080/"
        },
        "id": "ltkpbUbOS9dM",
        "outputId": "ce3dcd64-2227-49ec-c4de-851d4edb073c"
      },
      "source": [
        "# Ahora vemos el salario promedio\n",
        "np.mean(sueldos_data.salario_mensual_bruto_en_tu_moneda_local)"
      ],
      "execution_count": null,
      "outputs": [
        {
          "output_type": "execute_result",
          "data": {
            "text/plain": [
              "128527.74056603774"
            ]
          },
          "metadata": {
            "tags": []
          },
          "execution_count": 60
        }
      ]
    },
    {
      "cell_type": "code",
      "metadata": {
        "colab": {
          "base_uri": "https://localhost:8080/",
          "height": 206
        },
        "id": "LNfTPCnWS9aI",
        "outputId": "5f6e9ce4-b696-49ee-9612-238793d12647"
      },
      "source": [
        "sueldos_data.groupby('trabajo_de').agg({'salario_mensual_bruto_en_tu_moneda_local': [np.mean, np.median]})"
      ],
      "execution_count": null,
      "outputs": [
        {
          "output_type": "execute_result",
          "data": {
            "text/html": [
              "<div>\n",
              "<style scoped>\n",
              "    .dataframe tbody tr th:only-of-type {\n",
              "        vertical-align: middle;\n",
              "    }\n",
              "\n",
              "    .dataframe tbody tr th {\n",
              "        vertical-align: top;\n",
              "    }\n",
              "\n",
              "    .dataframe thead tr th {\n",
              "        text-align: left;\n",
              "    }\n",
              "\n",
              "    .dataframe thead tr:last-of-type th {\n",
              "        text-align: right;\n",
              "    }\n",
              "</style>\n",
              "<table border=\"1\" class=\"dataframe\">\n",
              "  <thead>\n",
              "    <tr>\n",
              "      <th></th>\n",
              "      <th colspan=\"2\" halign=\"left\">salario_mensual_bruto_en_tu_moneda_local</th>\n",
              "    </tr>\n",
              "    <tr>\n",
              "      <th></th>\n",
              "      <th>mean</th>\n",
              "      <th>median</th>\n",
              "    </tr>\n",
              "    <tr>\n",
              "      <th>trabajo_de</th>\n",
              "      <th></th>\n",
              "      <th></th>\n",
              "    </tr>\n",
              "  </thead>\n",
              "  <tbody>\n",
              "    <tr>\n",
              "      <th>bi analyst / data analyst</th>\n",
              "      <td>154215.290323</td>\n",
              "      <td>61250</td>\n",
              "    </tr>\n",
              "    <tr>\n",
              "      <th>data entry</th>\n",
              "      <td>22000.000000</td>\n",
              "      <td>22000</td>\n",
              "    </tr>\n",
              "    <tr>\n",
              "      <th>data scientist / data engineer</th>\n",
              "      <td>93967.267442</td>\n",
              "      <td>80000</td>\n",
              "    </tr>\n",
              "  </tbody>\n",
              "</table>\n",
              "</div>"
            ],
            "text/plain": [
              "                               salario_mensual_bruto_en_tu_moneda_local       \n",
              "                                                                   mean median\n",
              "trabajo_de                                                                    \n",
              "bi analyst / data analyst                                 154215.290323  61250\n",
              "data entry                                                 22000.000000  22000\n",
              "data scientist / data engineer                             93967.267442  80000"
            ]
          },
          "metadata": {
            "tags": []
          },
          "execution_count": 64
        }
      ]
    },
    {
      "cell_type": "markdown",
      "metadata": {
        "id": "XFdzuX8AVT1o"
      },
      "source": [
        "## 3) Lenguajes de programación"
      ]
    },
    {
      "cell_type": "code",
      "metadata": {
        "colab": {
          "base_uri": "https://localhost:8080/"
        },
        "id": "1BcjbQNMOUqd",
        "outputId": "dd2be25a-b4e0-4ba3-b183-dd1f4b869fd8"
      },
      "source": [
        "sueldos_data.lenguajes_de_programacion"
      ],
      "execution_count": null,
      "outputs": [
        {
          "output_type": "execute_result",
          "data": {
            "text/plain": [
              "240                                    Java, SQL, VBA\n",
              "242                                               SQL\n",
              "244     .NET, C#, CSS, HTML, PHP, Python, R, SQL, VBA\n",
              "245                  Assembler, C#, COBOL, HTML, Java\n",
              "247                                       Python, SQL\n",
              "                            ...                      \n",
              "904                                               NaN\n",
              "906                     HTML, Javascript, Python, SQL\n",
              "908                                               SQL\n",
              "912                                               SQL\n",
              "3704                          HTML, Java, Python, SQL\n",
              "Name: lenguajes_de_programacion, Length: 212, dtype: object"
            ]
          },
          "metadata": {
            "tags": []
          },
          "execution_count": 65
        }
      ]
    },
    {
      "cell_type": "code",
      "metadata": {
        "id": "_dx5fzFGV1lK"
      },
      "source": [
        "sueldos_data['lenguajes_de_programacion_split'] = sueldos_data.lenguajes_de_programacion.str.split(',')"
      ],
      "execution_count": null,
      "outputs": []
    },
    {
      "cell_type": "code",
      "metadata": {
        "id": "d_tvT9PaXhBs"
      },
      "source": [
        "sueldos_data['cantidad_lenguajes'] = sueldos_data.lenguajes_de_programacion_split.str.len()"
      ],
      "execution_count": null,
      "outputs": []
    },
    {
      "cell_type": "code",
      "metadata": {
        "colab": {
          "base_uri": "https://localhost:8080/",
          "height": 206
        },
        "id": "OreOOFqIYEXI",
        "outputId": "68d40591-0f89-4b27-c366-93a5db620e86"
      },
      "source": [
        "sueldos_data.groupby('trabajo_de').agg({'cantidad_lenguajes': [np.nanmean, np.median]})"
      ],
      "execution_count": null,
      "outputs": [
        {
          "output_type": "execute_result",
          "data": {
            "text/html": [
              "<div>\n",
              "<style scoped>\n",
              "    .dataframe tbody tr th:only-of-type {\n",
              "        vertical-align: middle;\n",
              "    }\n",
              "\n",
              "    .dataframe tbody tr th {\n",
              "        vertical-align: top;\n",
              "    }\n",
              "\n",
              "    .dataframe thead tr th {\n",
              "        text-align: left;\n",
              "    }\n",
              "\n",
              "    .dataframe thead tr:last-of-type th {\n",
              "        text-align: right;\n",
              "    }\n",
              "</style>\n",
              "<table border=\"1\" class=\"dataframe\">\n",
              "  <thead>\n",
              "    <tr>\n",
              "      <th></th>\n",
              "      <th colspan=\"2\" halign=\"left\">cantidad_lenguajes</th>\n",
              "    </tr>\n",
              "    <tr>\n",
              "      <th></th>\n",
              "      <th>nanmean</th>\n",
              "      <th>median</th>\n",
              "    </tr>\n",
              "    <tr>\n",
              "      <th>trabajo_de</th>\n",
              "      <th></th>\n",
              "      <th></th>\n",
              "    </tr>\n",
              "  </thead>\n",
              "  <tbody>\n",
              "    <tr>\n",
              "      <th>bi analyst / data analyst</th>\n",
              "      <td>2.271845</td>\n",
              "      <td>2.0</td>\n",
              "    </tr>\n",
              "    <tr>\n",
              "      <th>data entry</th>\n",
              "      <td>NaN</td>\n",
              "      <td>NaN</td>\n",
              "    </tr>\n",
              "    <tr>\n",
              "      <th>data scientist / data engineer</th>\n",
              "      <td>3.059524</td>\n",
              "      <td>3.0</td>\n",
              "    </tr>\n",
              "  </tbody>\n",
              "</table>\n",
              "</div>"
            ],
            "text/plain": [
              "                               cantidad_lenguajes       \n",
              "                                          nanmean median\n",
              "trabajo_de                                              \n",
              "bi analyst / data analyst                2.271845    2.0\n",
              "data entry                                    NaN    NaN\n",
              "data scientist / data engineer           3.059524    3.0"
            ]
          },
          "metadata": {
            "tags": []
          },
          "execution_count": 77
        }
      ]
    }
  ]
}