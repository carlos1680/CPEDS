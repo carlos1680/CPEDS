{
  "nbformat": 4,
  "nbformat_minor": 0,
  "metadata": {
    "colab": {
      "name": "discretizacion_practica_resuelta.ipynb",
      "provenance": [],
      "collapsed_sections": []
    },
    "kernelspec": {
      "name": "python3",
      "display_name": "Python 3"
    },
    "language_info": {
      "name": "python"
    }
  },
  "cells": [
    {
      "cell_type": "code",
      "metadata": {
        "id": "3mQlBALNv6Gr"
      },
      "source": [
        "import pandas as pd\n",
        "import numpy as np\n",
        "import seaborn as sns\n",
        "pd.options.display.float_format = '{:.2f}'.format\n",
        "pd.options.mode.chained_assignment = None"
      ],
      "execution_count": null,
      "outputs": []
    },
    {
      "cell_type": "markdown",
      "metadata": {
        "id": "wV-T3zcMzk_W"
      },
      "source": [
        "# 1. Dataset"
      ]
    },
    {
      "cell_type": "code",
      "metadata": {
        "id": "NtooRDF0wEvp"
      },
      "source": [
        "# Cargamos el dataset desde el link\n",
        "nba = pd.read_csv('/content/drive/MyDrive/Curso CPE Data Wrangling/Clases/datasets/estadisticas_nba.csv')"
      ],
      "execution_count": null,
      "outputs": []
    },
    {
      "cell_type": "code",
      "metadata": {
        "colab": {
          "base_uri": "https://localhost:8080/",
          "height": 363
        },
        "id": "R85QqRfowdzU",
        "outputId": "63f02a96-d4f1-46a9-e668-6ac3c5e07672"
      },
      "source": [
        "nba.head(10)"
      ],
      "execution_count": null,
      "outputs": [
        {
          "output_type": "execute_result",
          "data": {
            "text/html": [
              "<div>\n",
              "<style scoped>\n",
              "    .dataframe tbody tr th:only-of-type {\n",
              "        vertical-align: middle;\n",
              "    }\n",
              "\n",
              "    .dataframe tbody tr th {\n",
              "        vertical-align: top;\n",
              "    }\n",
              "\n",
              "    .dataframe thead th {\n",
              "        text-align: right;\n",
              "    }\n",
              "</style>\n",
              "<table border=\"1\" class=\"dataframe\">\n",
              "  <thead>\n",
              "    <tr style=\"text-align: right;\">\n",
              "      <th></th>\n",
              "      <th>player</th>\n",
              "      <th>position</th>\n",
              "      <th>age</th>\n",
              "      <th>team_id</th>\n",
              "      <th>g</th>\n",
              "      <th>mp_per_g</th>\n",
              "      <th>trb_per_g</th>\n",
              "      <th>ast_per_g</th>\n",
              "      <th>stl_per_g</th>\n",
              "      <th>blk_per_g</th>\n",
              "      <th>pts_per_g</th>\n",
              "    </tr>\n",
              "  </thead>\n",
              "  <tbody>\n",
              "    <tr>\n",
              "      <th>129</th>\n",
              "      <td>Hamidou Diallo</td>\n",
              "      <td>SF</td>\n",
              "      <td>21</td>\n",
              "      <td>OKC</td>\n",
              "      <td>46</td>\n",
              "      <td>19.50</td>\n",
              "      <td>3.60</td>\n",
              "      <td>0.80</td>\n",
              "      <td>0.80</td>\n",
              "      <td>0.20</td>\n",
              "      <td>6.90</td>\n",
              "    </tr>\n",
              "    <tr>\n",
              "      <th>210</th>\n",
              "      <td>John Henson</td>\n",
              "      <td>C</td>\n",
              "      <td>29</td>\n",
              "      <td>TOT</td>\n",
              "      <td>40</td>\n",
              "      <td>15.00</td>\n",
              "      <td>4.10</td>\n",
              "      <td>1.40</td>\n",
              "      <td>0.60</td>\n",
              "      <td>1.10</td>\n",
              "      <td>5.50</td>\n",
              "    </tr>\n",
              "    <tr>\n",
              "      <th>370</th>\n",
              "      <td>Jaylen Nowell</td>\n",
              "      <td>SG</td>\n",
              "      <td>20</td>\n",
              "      <td>MIN</td>\n",
              "      <td>15</td>\n",
              "      <td>10.10</td>\n",
              "      <td>0.90</td>\n",
              "      <td>1.30</td>\n",
              "      <td>0.20</td>\n",
              "      <td>0.10</td>\n",
              "      <td>3.80</td>\n",
              "    </tr>\n",
              "    <tr>\n",
              "      <th>97</th>\n",
              "      <td>Zylan Cheatham</td>\n",
              "      <td>PF</td>\n",
              "      <td>24</td>\n",
              "      <td>NOP</td>\n",
              "      <td>4</td>\n",
              "      <td>12.80</td>\n",
              "      <td>2.30</td>\n",
              "      <td>0.80</td>\n",
              "      <td>0.30</td>\n",
              "      <td>0.30</td>\n",
              "      <td>3.00</td>\n",
              "    </tr>\n",
              "    <tr>\n",
              "      <th>409</th>\n",
              "      <td>Bobby Portis</td>\n",
              "      <td>PF</td>\n",
              "      <td>24</td>\n",
              "      <td>NYK</td>\n",
              "      <td>66</td>\n",
              "      <td>21.10</td>\n",
              "      <td>5.10</td>\n",
              "      <td>1.50</td>\n",
              "      <td>0.50</td>\n",
              "      <td>0.30</td>\n",
              "      <td>10.10</td>\n",
              "    </tr>\n",
              "    <tr>\n",
              "      <th>398</th>\n",
              "      <td>Gary Payton II</td>\n",
              "      <td>SF</td>\n",
              "      <td>27</td>\n",
              "      <td>WAS</td>\n",
              "      <td>29</td>\n",
              "      <td>14.90</td>\n",
              "      <td>2.80</td>\n",
              "      <td>1.70</td>\n",
              "      <td>1.10</td>\n",
              "      <td>0.20</td>\n",
              "      <td>3.90</td>\n",
              "    </tr>\n",
              "    <tr>\n",
              "      <th>314</th>\n",
              "      <td>Cody Martin</td>\n",
              "      <td>SF</td>\n",
              "      <td>24</td>\n",
              "      <td>CHO</td>\n",
              "      <td>48</td>\n",
              "      <td>18.80</td>\n",
              "      <td>3.30</td>\n",
              "      <td>2.00</td>\n",
              "      <td>0.80</td>\n",
              "      <td>0.20</td>\n",
              "      <td>5.00</td>\n",
              "    </tr>\n",
              "    <tr>\n",
              "      <th>223</th>\n",
              "      <td>Justin Holiday</td>\n",
              "      <td>SF</td>\n",
              "      <td>30</td>\n",
              "      <td>IND</td>\n",
              "      <td>73</td>\n",
              "      <td>25.00</td>\n",
              "      <td>3.30</td>\n",
              "      <td>1.30</td>\n",
              "      <td>1.20</td>\n",
              "      <td>0.60</td>\n",
              "      <td>8.30</td>\n",
              "    </tr>\n",
              "    <tr>\n",
              "      <th>497</th>\n",
              "      <td>Derrick Walton</td>\n",
              "      <td>PG</td>\n",
              "      <td>24</td>\n",
              "      <td>TOT</td>\n",
              "      <td>26</td>\n",
              "      <td>9.50</td>\n",
              "      <td>0.60</td>\n",
              "      <td>1.00</td>\n",
              "      <td>0.30</td>\n",
              "      <td>0.00</td>\n",
              "      <td>2.00</td>\n",
              "    </tr>\n",
              "    <tr>\n",
              "      <th>244</th>\n",
              "      <td>Jaren Jackson Jr.</td>\n",
              "      <td>C</td>\n",
              "      <td>20</td>\n",
              "      <td>MEM</td>\n",
              "      <td>57</td>\n",
              "      <td>28.50</td>\n",
              "      <td>4.60</td>\n",
              "      <td>1.40</td>\n",
              "      <td>0.70</td>\n",
              "      <td>1.60</td>\n",
              "      <td>17.40</td>\n",
              "    </tr>\n",
              "  </tbody>\n",
              "</table>\n",
              "</div>"
            ],
            "text/plain": [
              "                player position  age  ... stl_per_g  blk_per_g  pts_per_g\n",
              "129     Hamidou Diallo       SF   21  ...      0.80       0.20       6.90\n",
              "210        John Henson        C   29  ...      0.60       1.10       5.50\n",
              "370      Jaylen Nowell       SG   20  ...      0.20       0.10       3.80\n",
              "97      Zylan Cheatham       PF   24  ...      0.30       0.30       3.00\n",
              "409       Bobby Portis       PF   24  ...      0.50       0.30      10.10\n",
              "398     Gary Payton II       SF   27  ...      1.10       0.20       3.90\n",
              "314        Cody Martin       SF   24  ...      0.80       0.20       5.00\n",
              "223     Justin Holiday       SF   30  ...      1.20       0.60       8.30\n",
              "497     Derrick Walton       PG   24  ...      0.30       0.00       2.00\n",
              "244  Jaren Jackson Jr.        C   20  ...      0.70       1.60      17.40\n",
              "\n",
              "[10 rows x 11 columns]"
            ]
          },
          "metadata": {
            "tags": []
          },
          "execution_count": 19
        }
      ]
    },
    {
      "cell_type": "markdown",
      "metadata": {
        "id": "hy8BpgbWs2_3"
      },
      "source": [
        "El dataset contiene las siguientes variables:\n",
        "\n",
        "* **player**: nombre del jugador\n",
        "* **position**: posicion que juega el jugador\n",
        "* **age**: edad\n",
        "* **team_id**: equipo\n",
        "* **g**: cantidad de partidos jugados\n",
        "* **mp_per_g**: minutos por partido\n",
        "* **trb_per_g**: rebotes por partido\n",
        "* **ast_per_g**: asistencias por partido\n",
        "* **stl_per_g**:robos por partido\n",
        "* **blk_per_g**:tapas/bloqueos por partido\n",
        "* **pts_per_g**:puntos por partido"
      ]
    },
    {
      "cell_type": "markdown",
      "metadata": {
        "id": "EApLYuUDvPVs"
      },
      "source": [
        "Conozcamos la distribucion de las variables numericas del dataset"
      ]
    },
    {
      "cell_type": "code",
      "metadata": {
        "colab": {
          "base_uri": "https://localhost:8080/",
          "height": 300
        },
        "id": "H3qpwwisz79l",
        "outputId": "aa9706b9-3935-412f-ca51-175efd46645d"
      },
      "source": [
        "nba.describe()"
      ],
      "execution_count": null,
      "outputs": [
        {
          "output_type": "execute_result",
          "data": {
            "text/html": [
              "<div>\n",
              "<style scoped>\n",
              "    .dataframe tbody tr th:only-of-type {\n",
              "        vertical-align: middle;\n",
              "    }\n",
              "\n",
              "    .dataframe tbody tr th {\n",
              "        vertical-align: top;\n",
              "    }\n",
              "\n",
              "    .dataframe thead th {\n",
              "        text-align: right;\n",
              "    }\n",
              "</style>\n",
              "<table border=\"1\" class=\"dataframe\">\n",
              "  <thead>\n",
              "    <tr style=\"text-align: right;\">\n",
              "      <th></th>\n",
              "      <th>age</th>\n",
              "      <th>g</th>\n",
              "      <th>mp_per_g</th>\n",
              "      <th>trb_per_g</th>\n",
              "      <th>ast_per_g</th>\n",
              "      <th>stl_per_g</th>\n",
              "      <th>blk_per_g</th>\n",
              "      <th>pts_per_g</th>\n",
              "    </tr>\n",
              "  </thead>\n",
              "  <tbody>\n",
              "    <tr>\n",
              "      <th>count</th>\n",
              "      <td>529.00</td>\n",
              "      <td>529.00</td>\n",
              "      <td>529.00</td>\n",
              "      <td>529.00</td>\n",
              "      <td>529.00</td>\n",
              "      <td>529.00</td>\n",
              "      <td>529.00</td>\n",
              "      <td>529.00</td>\n",
              "    </tr>\n",
              "    <tr>\n",
              "      <th>mean</th>\n",
              "      <td>25.56</td>\n",
              "      <td>42.33</td>\n",
              "      <td>19.51</td>\n",
              "      <td>3.63</td>\n",
              "      <td>1.92</td>\n",
              "      <td>0.62</td>\n",
              "      <td>0.40</td>\n",
              "      <td>8.73</td>\n",
              "    </tr>\n",
              "    <tr>\n",
              "      <th>std</th>\n",
              "      <td>4.12</td>\n",
              "      <td>22.63</td>\n",
              "      <td>9.21</td>\n",
              "      <td>2.48</td>\n",
              "      <td>1.76</td>\n",
              "      <td>0.40</td>\n",
              "      <td>0.41</td>\n",
              "      <td>6.37</td>\n",
              "    </tr>\n",
              "    <tr>\n",
              "      <th>min</th>\n",
              "      <td>19.00</td>\n",
              "      <td>1.00</td>\n",
              "      <td>1.00</td>\n",
              "      <td>0.00</td>\n",
              "      <td>0.00</td>\n",
              "      <td>0.00</td>\n",
              "      <td>0.00</td>\n",
              "      <td>0.00</td>\n",
              "    </tr>\n",
              "    <tr>\n",
              "      <th>25%</th>\n",
              "      <td>22.00</td>\n",
              "      <td>22.00</td>\n",
              "      <td>12.00</td>\n",
              "      <td>1.90</td>\n",
              "      <td>0.80</td>\n",
              "      <td>0.30</td>\n",
              "      <td>0.10</td>\n",
              "      <td>3.90</td>\n",
              "    </tr>\n",
              "    <tr>\n",
              "      <th>50%</th>\n",
              "      <td>25.00</td>\n",
              "      <td>48.00</td>\n",
              "      <td>18.90</td>\n",
              "      <td>3.20</td>\n",
              "      <td>1.40</td>\n",
              "      <td>0.60</td>\n",
              "      <td>0.30</td>\n",
              "      <td>7.00</td>\n",
              "    </tr>\n",
              "    <tr>\n",
              "      <th>75%</th>\n",
              "      <td>28.00</td>\n",
              "      <td>62.00</td>\n",
              "      <td>27.80</td>\n",
              "      <td>4.70</td>\n",
              "      <td>2.40</td>\n",
              "      <td>0.90</td>\n",
              "      <td>0.50</td>\n",
              "      <td>11.90</td>\n",
              "    </tr>\n",
              "    <tr>\n",
              "      <th>max</th>\n",
              "      <td>43.00</td>\n",
              "      <td>74.00</td>\n",
              "      <td>37.50</td>\n",
              "      <td>15.20</td>\n",
              "      <td>10.20</td>\n",
              "      <td>2.10</td>\n",
              "      <td>2.90</td>\n",
              "      <td>34.30</td>\n",
              "    </tr>\n",
              "  </tbody>\n",
              "</table>\n",
              "</div>"
            ],
            "text/plain": [
              "         age      g  mp_per_g  ...  stl_per_g  blk_per_g  pts_per_g\n",
              "count 529.00 529.00    529.00  ...     529.00     529.00     529.00\n",
              "mean   25.56  42.33     19.51  ...       0.62       0.40       8.73\n",
              "std     4.12  22.63      9.21  ...       0.40       0.41       6.37\n",
              "min    19.00   1.00      1.00  ...       0.00       0.00       0.00\n",
              "25%    22.00  22.00     12.00  ...       0.30       0.10       3.90\n",
              "50%    25.00  48.00     18.90  ...       0.60       0.30       7.00\n",
              "75%    28.00  62.00     27.80  ...       0.90       0.50      11.90\n",
              "max    43.00  74.00     37.50  ...       2.10       2.90      34.30\n",
              "\n",
              "[8 rows x 8 columns]"
            ]
          },
          "metadata": {
            "tags": []
          },
          "execution_count": 21
        }
      ]
    },
    {
      "cell_type": "markdown",
      "metadata": {
        "id": "WRYCIvkmxbjO"
      },
      "source": [
        "# 2. Discretización\n",
        "\n",
        "Se nos solicita realizar un analisis de ciertas categorías de jugadores en base a las siguiente logica:\n",
        "\n",
        "A) Para la edad: los jugadores de menos de 22 años son novatos, los que tienen entre 22 y 25 años son jovenes, los que tienen entre 25 y 33 años son adultos y los que tiene 33 años o más son veteranos\n",
        "\n",
        "B) Para los puntos por partido dividirlos en 4 categorías de tal manera que aproximadamente el 25% de los jugadores quede en cada grupo \n",
        "\n",
        "C) Para la cantidad de partidos dividirlos en 3 grupos a intervalos regulares de partidos\n",
        "\n"
      ]
    },
    {
      "cell_type": "markdown",
      "metadata": {
        "id": "VGtuBHOey1x7"
      },
      "source": [
        "## 2.1 Edad\n",
        "\n",
        "Las categorías son:\n",
        "\n",
        "* novato: hasta 22 años\n",
        "* joven: desde 22 hasta 25 años\n",
        "* adulto: desde 25 hasta 33 años\n",
        "* veterano: desde 33 años"
      ]
    },
    {
      "cell_type": "markdown",
      "metadata": {
        "id": "dKqb-D_y7aRf"
      },
      "source": [
        "¿Qué función debemos usar? ¿Qué argumentos debemos definir?"
      ]
    },
    {
      "cell_type": "code",
      "metadata": {
        "id": "5otyB8EMz-xP"
      },
      "source": [
        "# Definimos los limites de los intervalos\n",
        "bins_edad = [18, 22, 25, 33, np.inf]\n",
        "# Lista de categorías\n",
        "etiquetas_edad =  ['novato','joven', 'adulto', 'veterano']"
      ],
      "execution_count": null,
      "outputs": []
    },
    {
      "cell_type": "code",
      "metadata": {
        "id": "K132ehGWstnG",
        "colab": {
          "base_uri": "https://localhost:8080/"
        },
        "outputId": "db96e02f-8f18-4cae-9806-56bb3fee8cab"
      },
      "source": [
        "# Discretizamos la variable de edad\n",
        "pd.cut(x=nba['age'],bins=bins_edad, labels=etiquetas_edad)"
      ],
      "execution_count": null,
      "outputs": [
        {
          "output_type": "execute_result",
          "data": {
            "text/plain": [
              "0        adulto\n",
              "1        novato\n",
              "2      veterano\n",
              "3         joven\n",
              "4        novato\n",
              "         ...   \n",
              "524      novato\n",
              "525      adulto\n",
              "526      adulto\n",
              "527       joven\n",
              "528      novato\n",
              "Name: age, Length: 529, dtype: category\n",
              "Categories (4, object): ['novato' < 'joven' < 'adulto' < 'veterano']"
            ]
          },
          "metadata": {
            "tags": []
          },
          "execution_count": 26
        }
      ]
    },
    {
      "cell_type": "markdown",
      "metadata": {
        "id": "C_Zu2yp3m55p"
      },
      "source": [
        "Ahora que ya tenemos nuestras categorías, podemos crear una nueva variable con la población discretizada"
      ]
    },
    {
      "cell_type": "code",
      "metadata": {
        "id": "RRKLdgdYnFmO"
      },
      "source": [
        "# Creamos la nueva variable\n",
        "nba['cat_edad'] = pd.cut(x=nba['age'],bins=bins_edad, labels=etiquetas_edad)"
      ],
      "execution_count": null,
      "outputs": []
    },
    {
      "cell_type": "code",
      "metadata": {
        "colab": {
          "base_uri": "https://localhost:8080/",
          "height": 363
        },
        "id": "HG2hGDPmrGwj",
        "outputId": "7e0316c6-1a8f-422f-9f55-ac5c3676b735"
      },
      "source": [
        "# Observamos la nueva columna\n",
        "nba.sample(10)"
      ],
      "execution_count": null,
      "outputs": [
        {
          "output_type": "execute_result",
          "data": {
            "text/html": [
              "<div>\n",
              "<style scoped>\n",
              "    .dataframe tbody tr th:only-of-type {\n",
              "        vertical-align: middle;\n",
              "    }\n",
              "\n",
              "    .dataframe tbody tr th {\n",
              "        vertical-align: top;\n",
              "    }\n",
              "\n",
              "    .dataframe thead th {\n",
              "        text-align: right;\n",
              "    }\n",
              "</style>\n",
              "<table border=\"1\" class=\"dataframe\">\n",
              "  <thead>\n",
              "    <tr style=\"text-align: right;\">\n",
              "      <th></th>\n",
              "      <th>player</th>\n",
              "      <th>position</th>\n",
              "      <th>age</th>\n",
              "      <th>team_id</th>\n",
              "      <th>g</th>\n",
              "      <th>mp_per_g</th>\n",
              "      <th>trb_per_g</th>\n",
              "      <th>ast_per_g</th>\n",
              "      <th>stl_per_g</th>\n",
              "      <th>blk_per_g</th>\n",
              "      <th>pts_per_g</th>\n",
              "      <th>cat_edad</th>\n",
              "    </tr>\n",
              "  </thead>\n",
              "  <tbody>\n",
              "    <tr>\n",
              "      <th>434</th>\n",
              "      <td>D'Angelo Russell</td>\n",
              "      <td>PG</td>\n",
              "      <td>23</td>\n",
              "      <td>TOT</td>\n",
              "      <td>45</td>\n",
              "      <td>32.30</td>\n",
              "      <td>3.90</td>\n",
              "      <td>6.30</td>\n",
              "      <td>1.10</td>\n",
              "      <td>0.30</td>\n",
              "      <td>23.10</td>\n",
              "      <td>joven</td>\n",
              "    </tr>\n",
              "    <tr>\n",
              "      <th>255</th>\n",
              "      <td>Cameron Johnson</td>\n",
              "      <td>PF</td>\n",
              "      <td>23</td>\n",
              "      <td>PHO</td>\n",
              "      <td>57</td>\n",
              "      <td>22.00</td>\n",
              "      <td>3.30</td>\n",
              "      <td>1.20</td>\n",
              "      <td>0.60</td>\n",
              "      <td>0.40</td>\n",
              "      <td>8.80</td>\n",
              "      <td>joven</td>\n",
              "    </tr>\n",
              "    <tr>\n",
              "      <th>386</th>\n",
              "      <td>Kelly Oubre Jr.</td>\n",
              "      <td>SF</td>\n",
              "      <td>24</td>\n",
              "      <td>PHO</td>\n",
              "      <td>56</td>\n",
              "      <td>34.50</td>\n",
              "      <td>6.40</td>\n",
              "      <td>1.50</td>\n",
              "      <td>1.30</td>\n",
              "      <td>0.70</td>\n",
              "      <td>18.70</td>\n",
              "      <td>joven</td>\n",
              "    </tr>\n",
              "    <tr>\n",
              "      <th>183</th>\n",
              "      <td>Josh Gray</td>\n",
              "      <td>PG</td>\n",
              "      <td>26</td>\n",
              "      <td>NOP</td>\n",
              "      <td>2</td>\n",
              "      <td>11.50</td>\n",
              "      <td>1.00</td>\n",
              "      <td>1.00</td>\n",
              "      <td>0.00</td>\n",
              "      <td>0.00</td>\n",
              "      <td>1.00</td>\n",
              "      <td>adulto</td>\n",
              "    </tr>\n",
              "    <tr>\n",
              "      <th>31</th>\n",
              "      <td>Aron Baynes</td>\n",
              "      <td>C</td>\n",
              "      <td>33</td>\n",
              "      <td>PHO</td>\n",
              "      <td>42</td>\n",
              "      <td>22.20</td>\n",
              "      <td>5.60</td>\n",
              "      <td>1.60</td>\n",
              "      <td>0.20</td>\n",
              "      <td>0.50</td>\n",
              "      <td>11.50</td>\n",
              "      <td>adulto</td>\n",
              "    </tr>\n",
              "    <tr>\n",
              "      <th>357</th>\n",
              "      <td>Jamal Murray</td>\n",
              "      <td>PG</td>\n",
              "      <td>22</td>\n",
              "      <td>DEN</td>\n",
              "      <td>59</td>\n",
              "      <td>32.30</td>\n",
              "      <td>4.00</td>\n",
              "      <td>4.80</td>\n",
              "      <td>1.10</td>\n",
              "      <td>0.30</td>\n",
              "      <td>18.50</td>\n",
              "      <td>novato</td>\n",
              "    </tr>\n",
              "    <tr>\n",
              "      <th>528</th>\n",
              "      <td>Ivica Zubac</td>\n",
              "      <td>C</td>\n",
              "      <td>22</td>\n",
              "      <td>LAC</td>\n",
              "      <td>72</td>\n",
              "      <td>18.40</td>\n",
              "      <td>7.50</td>\n",
              "      <td>1.10</td>\n",
              "      <td>0.20</td>\n",
              "      <td>0.90</td>\n",
              "      <td>8.30</td>\n",
              "      <td>novato</td>\n",
              "    </tr>\n",
              "    <tr>\n",
              "      <th>280</th>\n",
              "      <td>Rodions Kurucs</td>\n",
              "      <td>PF</td>\n",
              "      <td>21</td>\n",
              "      <td>BRK</td>\n",
              "      <td>47</td>\n",
              "      <td>14.60</td>\n",
              "      <td>2.90</td>\n",
              "      <td>1.10</td>\n",
              "      <td>0.50</td>\n",
              "      <td>0.10</td>\n",
              "      <td>4.60</td>\n",
              "      <td>novato</td>\n",
              "    </tr>\n",
              "    <tr>\n",
              "      <th>175</th>\n",
              "      <td>Rudy Gobert</td>\n",
              "      <td>C</td>\n",
              "      <td>27</td>\n",
              "      <td>UTA</td>\n",
              "      <td>68</td>\n",
              "      <td>34.30</td>\n",
              "      <td>13.50</td>\n",
              "      <td>1.50</td>\n",
              "      <td>0.80</td>\n",
              "      <td>2.00</td>\n",
              "      <td>15.10</td>\n",
              "      <td>adulto</td>\n",
              "    </tr>\n",
              "    <tr>\n",
              "      <th>504</th>\n",
              "      <td>Quinndary Weatherspoon</td>\n",
              "      <td>SG</td>\n",
              "      <td>23</td>\n",
              "      <td>SAS</td>\n",
              "      <td>11</td>\n",
              "      <td>7.10</td>\n",
              "      <td>0.60</td>\n",
              "      <td>1.00</td>\n",
              "      <td>0.30</td>\n",
              "      <td>0.10</td>\n",
              "      <td>1.10</td>\n",
              "      <td>joven</td>\n",
              "    </tr>\n",
              "  </tbody>\n",
              "</table>\n",
              "</div>"
            ],
            "text/plain": [
              "                     player position  age  ... blk_per_g  pts_per_g  cat_edad\n",
              "434        D'Angelo Russell       PG   23  ...      0.30      23.10     joven\n",
              "255         Cameron Johnson       PF   23  ...      0.40       8.80     joven\n",
              "386         Kelly Oubre Jr.       SF   24  ...      0.70      18.70     joven\n",
              "183               Josh Gray       PG   26  ...      0.00       1.00    adulto\n",
              "31              Aron Baynes        C   33  ...      0.50      11.50    adulto\n",
              "357            Jamal Murray       PG   22  ...      0.30      18.50    novato\n",
              "528             Ivica Zubac        C   22  ...      0.90       8.30    novato\n",
              "280          Rodions Kurucs       PF   21  ...      0.10       4.60    novato\n",
              "175             Rudy Gobert        C   27  ...      2.00      15.10    adulto\n",
              "504  Quinndary Weatherspoon       SG   23  ...      0.10       1.10     joven\n",
              "\n",
              "[10 rows x 12 columns]"
            ]
          },
          "metadata": {
            "tags": []
          },
          "execution_count": 28
        }
      ]
    },
    {
      "cell_type": "markdown",
      "metadata": {
        "id": "K0B8Zwtrraqp"
      },
      "source": [
        "## 2.2 Puntos por partido\n",
        "\n",
        "Hay que dividirlos en 4 categorías de tal manera que aproximadamente el 25% de los jugadores quede en cada grupo\n",
        "\n",
        "¿Qué función debemos usar? ¿Qué argumentos debemos definir?"
      ]
    },
    {
      "cell_type": "code",
      "metadata": {
        "colab": {
          "base_uri": "https://localhost:8080/"
        },
        "id": "EqNnd-o80ob5",
        "outputId": "b3f0ceb6-2cf5-436a-af84-210d72b3cb3f"
      },
      "source": [
        "# Discretizamos la variable de puntos por partido\n",
        "pd.qcut(x=nba['pts_per_g'], q=4)"
      ],
      "execution_count": null,
      "outputs": [
        {
          "output_type": "execute_result",
          "data": {
            "text/plain": [
              "0        (7.0, 11.9]\n",
              "1       (11.9, 34.3]\n",
              "2       (11.9, 34.3]\n",
              "3      (-0.001, 3.9]\n",
              "4         (3.9, 7.0]\n",
              "           ...      \n",
              "524     (11.9, 34.3]\n",
              "525      (7.0, 11.9]\n",
              "526    (-0.001, 3.9]\n",
              "527       (3.9, 7.0]\n",
              "528      (7.0, 11.9]\n",
              "Name: pts_per_g, Length: 529, dtype: category\n",
              "Categories (4, interval[float64]): [(-0.001, 3.9] < (3.9, 7.0] < (7.0, 11.9] < (11.9, 34.3]]"
            ]
          },
          "metadata": {
            "tags": []
          },
          "execution_count": 30
        }
      ]
    },
    {
      "cell_type": "markdown",
      "metadata": {
        "id": "WHlIrAYLEmxs"
      },
      "source": [
        "¿Qué observamos en estos intervalos?\n",
        "\n",
        "La gran mayoría de los jugadores realizan pocos puntos por partido, un 75% de los jugadores realizan menos de 12 puntos por partido con un 50% haciendo hasta 7 puntos por partido"
      ]
    },
    {
      "cell_type": "code",
      "metadata": {
        "id": "TMD-stjOGbum"
      },
      "source": [
        "# Definamos una lista de etiquetas para facilitar analisis posterior\n",
        "etiquetas_puntos = ['muy_pocos_puntos', 'pocos_puntos', 'anotador_casual', 'goleador']"
      ],
      "execution_count": null,
      "outputs": []
    },
    {
      "cell_type": "code",
      "metadata": {
        "id": "9LkndQibFIN5"
      },
      "source": [
        "# Creamos la nueva variable\n",
        "nba['cat_puntos'] = pd.qcut(x=nba['pts_per_g'],q=4, labels=etiquetas_puntos)"
      ],
      "execution_count": null,
      "outputs": []
    },
    {
      "cell_type": "code",
      "metadata": {
        "colab": {
          "base_uri": "https://localhost:8080/",
          "height": 363
        },
        "id": "RwWUL9MHyhk5",
        "outputId": "3229e09a-a018-4d55-893f-518950331d65"
      },
      "source": [
        "# Observemos nuestros datos\n",
        "nba.sample(10)"
      ],
      "execution_count": null,
      "outputs": [
        {
          "output_type": "execute_result",
          "data": {
            "text/html": [
              "<div>\n",
              "<style scoped>\n",
              "    .dataframe tbody tr th:only-of-type {\n",
              "        vertical-align: middle;\n",
              "    }\n",
              "\n",
              "    .dataframe tbody tr th {\n",
              "        vertical-align: top;\n",
              "    }\n",
              "\n",
              "    .dataframe thead th {\n",
              "        text-align: right;\n",
              "    }\n",
              "</style>\n",
              "<table border=\"1\" class=\"dataframe\">\n",
              "  <thead>\n",
              "    <tr style=\"text-align: right;\">\n",
              "      <th></th>\n",
              "      <th>player</th>\n",
              "      <th>position</th>\n",
              "      <th>age</th>\n",
              "      <th>team_id</th>\n",
              "      <th>g</th>\n",
              "      <th>mp_per_g</th>\n",
              "      <th>trb_per_g</th>\n",
              "      <th>ast_per_g</th>\n",
              "      <th>stl_per_g</th>\n",
              "      <th>blk_per_g</th>\n",
              "      <th>pts_per_g</th>\n",
              "      <th>cat_edad</th>\n",
              "      <th>cat_puntos</th>\n",
              "    </tr>\n",
              "  </thead>\n",
              "  <tbody>\n",
              "    <tr>\n",
              "      <th>335</th>\n",
              "      <td>Khris Middleton</td>\n",
              "      <td>SF</td>\n",
              "      <td>28</td>\n",
              "      <td>MIL</td>\n",
              "      <td>62</td>\n",
              "      <td>29.90</td>\n",
              "      <td>6.20</td>\n",
              "      <td>4.30</td>\n",
              "      <td>0.90</td>\n",
              "      <td>0.10</td>\n",
              "      <td>20.90</td>\n",
              "      <td>adulto</td>\n",
              "      <td>goleador</td>\n",
              "    </tr>\n",
              "    <tr>\n",
              "      <th>283</th>\n",
              "      <td>Jeremy Lamb</td>\n",
              "      <td>SG</td>\n",
              "      <td>27</td>\n",
              "      <td>IND</td>\n",
              "      <td>46</td>\n",
              "      <td>28.10</td>\n",
              "      <td>4.30</td>\n",
              "      <td>2.10</td>\n",
              "      <td>1.20</td>\n",
              "      <td>0.50</td>\n",
              "      <td>12.50</td>\n",
              "      <td>adulto</td>\n",
              "      <td>goleador</td>\n",
              "    </tr>\n",
              "    <tr>\n",
              "      <th>454</th>\n",
              "      <td>Dennis Smith Jr.</td>\n",
              "      <td>PG</td>\n",
              "      <td>22</td>\n",
              "      <td>NYK</td>\n",
              "      <td>34</td>\n",
              "      <td>15.80</td>\n",
              "      <td>2.30</td>\n",
              "      <td>2.90</td>\n",
              "      <td>0.80</td>\n",
              "      <td>0.20</td>\n",
              "      <td>5.50</td>\n",
              "      <td>novato</td>\n",
              "      <td>pocos_puntos</td>\n",
              "    </tr>\n",
              "    <tr>\n",
              "      <th>274</th>\n",
              "      <td>Brandon Knight</td>\n",
              "      <td>SG-PG</td>\n",
              "      <td>28</td>\n",
              "      <td>TOT</td>\n",
              "      <td>25</td>\n",
              "      <td>18.50</td>\n",
              "      <td>1.60</td>\n",
              "      <td>2.80</td>\n",
              "      <td>0.40</td>\n",
              "      <td>0.10</td>\n",
              "      <td>7.30</td>\n",
              "      <td>adulto</td>\n",
              "      <td>anotador_casual</td>\n",
              "    </tr>\n",
              "    <tr>\n",
              "      <th>352</th>\n",
              "      <td>Monte Morris</td>\n",
              "      <td>PG</td>\n",
              "      <td>24</td>\n",
              "      <td>DEN</td>\n",
              "      <td>73</td>\n",
              "      <td>22.40</td>\n",
              "      <td>1.90</td>\n",
              "      <td>3.50</td>\n",
              "      <td>0.80</td>\n",
              "      <td>0.20</td>\n",
              "      <td>9.00</td>\n",
              "      <td>joven</td>\n",
              "      <td>anotador_casual</td>\n",
              "    </tr>\n",
              "    <tr>\n",
              "      <th>128</th>\n",
              "      <td>Cheick Diallo</td>\n",
              "      <td>C</td>\n",
              "      <td>23</td>\n",
              "      <td>PHO</td>\n",
              "      <td>47</td>\n",
              "      <td>10.20</td>\n",
              "      <td>2.80</td>\n",
              "      <td>0.50</td>\n",
              "      <td>0.20</td>\n",
              "      <td>0.30</td>\n",
              "      <td>4.70</td>\n",
              "      <td>joven</td>\n",
              "      <td>pocos_puntos</td>\n",
              "    </tr>\n",
              "    <tr>\n",
              "      <th>22</th>\n",
              "      <td>Marvin Bagley III</td>\n",
              "      <td>C</td>\n",
              "      <td>20</td>\n",
              "      <td>SAC</td>\n",
              "      <td>13</td>\n",
              "      <td>25.70</td>\n",
              "      <td>7.50</td>\n",
              "      <td>0.80</td>\n",
              "      <td>0.50</td>\n",
              "      <td>0.90</td>\n",
              "      <td>14.20</td>\n",
              "      <td>novato</td>\n",
              "      <td>goleador</td>\n",
              "    </tr>\n",
              "    <tr>\n",
              "      <th>521</th>\n",
              "      <td>Delon Wright</td>\n",
              "      <td>PG</td>\n",
              "      <td>27</td>\n",
              "      <td>DAL</td>\n",
              "      <td>73</td>\n",
              "      <td>21.50</td>\n",
              "      <td>3.80</td>\n",
              "      <td>3.30</td>\n",
              "      <td>1.20</td>\n",
              "      <td>0.30</td>\n",
              "      <td>6.90</td>\n",
              "      <td>adulto</td>\n",
              "      <td>pocos_puntos</td>\n",
              "    </tr>\n",
              "    <tr>\n",
              "      <th>174</th>\n",
              "      <td>Shai Gilgeous-Alexander</td>\n",
              "      <td>SG</td>\n",
              "      <td>21</td>\n",
              "      <td>OKC</td>\n",
              "      <td>70</td>\n",
              "      <td>34.70</td>\n",
              "      <td>5.90</td>\n",
              "      <td>3.30</td>\n",
              "      <td>1.10</td>\n",
              "      <td>0.70</td>\n",
              "      <td>19.00</td>\n",
              "      <td>novato</td>\n",
              "      <td>goleador</td>\n",
              "    </tr>\n",
              "    <tr>\n",
              "      <th>466</th>\n",
              "      <td>Daniel Theis</td>\n",
              "      <td>C</td>\n",
              "      <td>27</td>\n",
              "      <td>BOS</td>\n",
              "      <td>65</td>\n",
              "      <td>24.10</td>\n",
              "      <td>6.60</td>\n",
              "      <td>1.70</td>\n",
              "      <td>0.60</td>\n",
              "      <td>1.30</td>\n",
              "      <td>9.20</td>\n",
              "      <td>adulto</td>\n",
              "      <td>anotador_casual</td>\n",
              "    </tr>\n",
              "  </tbody>\n",
              "</table>\n",
              "</div>"
            ],
            "text/plain": [
              "                      player position  age  ... pts_per_g  cat_edad       cat_puntos\n",
              "335          Khris Middleton       SF   28  ...     20.90    adulto         goleador\n",
              "283              Jeremy Lamb       SG   27  ...     12.50    adulto         goleador\n",
              "454         Dennis Smith Jr.       PG   22  ...      5.50    novato     pocos_puntos\n",
              "274           Brandon Knight    SG-PG   28  ...      7.30    adulto  anotador_casual\n",
              "352             Monte Morris       PG   24  ...      9.00     joven  anotador_casual\n",
              "128            Cheick Diallo        C   23  ...      4.70     joven     pocos_puntos\n",
              "22         Marvin Bagley III        C   20  ...     14.20    novato         goleador\n",
              "521             Delon Wright       PG   27  ...      6.90    adulto     pocos_puntos\n",
              "174  Shai Gilgeous-Alexander       SG   21  ...     19.00    novato         goleador\n",
              "466             Daniel Theis        C   27  ...      9.20    adulto  anotador_casual\n",
              "\n",
              "[10 rows x 13 columns]"
            ]
          },
          "metadata": {
            "tags": []
          },
          "execution_count": 37
        }
      ]
    },
    {
      "cell_type": "markdown",
      "metadata": {
        "id": "vARjfI_ry0YK"
      },
      "source": [
        "## 2.3 Cantidad de partidos\n",
        "\n",
        "Hay que dividirlos en 3 grupos a intervalos regulares de partidos\n",
        "\n",
        "¿Qué función debemos usar? ¿Qué argumentos debemos definir?"
      ]
    },
    {
      "cell_type": "code",
      "metadata": {
        "id": "jb8meWi-0Gj4",
        "colab": {
          "base_uri": "https://localhost:8080/"
        },
        "outputId": "2b27e742-eec1-41ef-e5fa-47eec0eccce2"
      },
      "source": [
        "# Discretizamos la variable de cantidad de partidos\n",
        "pd.cut(x=nba['g'], bins=3)"
      ],
      "execution_count": null,
      "outputs": [
        {
          "output_type": "execute_result",
          "data": {
            "text/plain": [
              "0        (49.667, 74.0]\n",
              "1        (49.667, 74.0]\n",
              "2        (49.667, 74.0]\n",
              "3       (0.927, 25.333]\n",
              "4      (25.333, 49.667]\n",
              "             ...       \n",
              "524      (49.667, 74.0]\n",
              "525      (49.667, 74.0]\n",
              "526     (0.927, 25.333]\n",
              "527     (0.927, 25.333]\n",
              "528      (49.667, 74.0]\n",
              "Name: g, Length: 529, dtype: category\n",
              "Categories (3, interval[float64]): [(0.927, 25.333] < (25.333, 49.667] < (49.667, 74.0]]"
            ]
          },
          "metadata": {
            "tags": []
          },
          "execution_count": 34
        }
      ]
    },
    {
      "cell_type": "markdown",
      "metadata": {
        "id": "N2fM--D6E9BK"
      },
      "source": [
        "¿Qué observamos en estos intervalos?\n",
        "\n",
        "Cada intervalo se define por 25 partidos\n",
        "\n"
      ]
    },
    {
      "cell_type": "code",
      "metadata": {
        "id": "wz11WA-qzCTW"
      },
      "source": [
        "# Definamos una lista de etiquetas para facilitar analisis posterior\n",
        "etiquetas_partidos = ['partidos_bajo', 'partidos_medio', 'partidos_alto']"
      ],
      "execution_count": null,
      "outputs": []
    },
    {
      "cell_type": "code",
      "metadata": {
        "id": "JamZ0Z4jFZk0"
      },
      "source": [
        "# Creamos la nueva variable\n",
        "nba['cat_partidos'] = pd.cut(x=nba['g'],bins=3, labels=etiquetas_partidos)"
      ],
      "execution_count": null,
      "outputs": []
    },
    {
      "cell_type": "code",
      "metadata": {
        "id": "ZtezgW1q1o_4",
        "colab": {
          "base_uri": "https://localhost:8080/",
          "height": 363
        },
        "outputId": "15099722-0904-490e-ff67-3d69ce278902"
      },
      "source": [
        "# Observemos nuestros datos\n",
        "nba.sample(10)"
      ],
      "execution_count": null,
      "outputs": [
        {
          "output_type": "execute_result",
          "data": {
            "text/html": [
              "<div>\n",
              "<style scoped>\n",
              "    .dataframe tbody tr th:only-of-type {\n",
              "        vertical-align: middle;\n",
              "    }\n",
              "\n",
              "    .dataframe tbody tr th {\n",
              "        vertical-align: top;\n",
              "    }\n",
              "\n",
              "    .dataframe thead th {\n",
              "        text-align: right;\n",
              "    }\n",
              "</style>\n",
              "<table border=\"1\" class=\"dataframe\">\n",
              "  <thead>\n",
              "    <tr style=\"text-align: right;\">\n",
              "      <th></th>\n",
              "      <th>player</th>\n",
              "      <th>position</th>\n",
              "      <th>age</th>\n",
              "      <th>team_id</th>\n",
              "      <th>g</th>\n",
              "      <th>mp_per_g</th>\n",
              "      <th>trb_per_g</th>\n",
              "      <th>ast_per_g</th>\n",
              "      <th>stl_per_g</th>\n",
              "      <th>blk_per_g</th>\n",
              "      <th>pts_per_g</th>\n",
              "      <th>cat_edad</th>\n",
              "      <th>cat_puntos</th>\n",
              "      <th>cat_partidos</th>\n",
              "    </tr>\n",
              "  </thead>\n",
              "  <tbody>\n",
              "    <tr>\n",
              "      <th>197</th>\n",
              "      <td>James Harden</td>\n",
              "      <td>SG</td>\n",
              "      <td>30</td>\n",
              "      <td>HOU</td>\n",
              "      <td>68</td>\n",
              "      <td>36.50</td>\n",
              "      <td>6.60</td>\n",
              "      <td>7.50</td>\n",
              "      <td>1.80</td>\n",
              "      <td>0.90</td>\n",
              "      <td>34.30</td>\n",
              "      <td>adulto</td>\n",
              "      <td>goleador</td>\n",
              "      <td>partidos_alto</td>\n",
              "    </tr>\n",
              "    <tr>\n",
              "      <th>136</th>\n",
              "      <td>Sekou Doumbouya</td>\n",
              "      <td>PF</td>\n",
              "      <td>19</td>\n",
              "      <td>DET</td>\n",
              "      <td>38</td>\n",
              "      <td>19.80</td>\n",
              "      <td>3.10</td>\n",
              "      <td>0.50</td>\n",
              "      <td>0.50</td>\n",
              "      <td>0.20</td>\n",
              "      <td>6.40</td>\n",
              "      <td>novato</td>\n",
              "      <td>pocos_puntos</td>\n",
              "      <td>partidos_medio</td>\n",
              "    </tr>\n",
              "    <tr>\n",
              "      <th>203</th>\n",
              "      <td>Tobias Harris</td>\n",
              "      <td>PF</td>\n",
              "      <td>27</td>\n",
              "      <td>PHI</td>\n",
              "      <td>72</td>\n",
              "      <td>34.30</td>\n",
              "      <td>6.90</td>\n",
              "      <td>3.20</td>\n",
              "      <td>0.70</td>\n",
              "      <td>0.60</td>\n",
              "      <td>19.60</td>\n",
              "      <td>adulto</td>\n",
              "      <td>goleador</td>\n",
              "      <td>partidos_alto</td>\n",
              "    </tr>\n",
              "    <tr>\n",
              "      <th>365</th>\n",
              "      <td>Malik Newman</td>\n",
              "      <td>SG</td>\n",
              "      <td>22</td>\n",
              "      <td>CLE</td>\n",
              "      <td>1</td>\n",
              "      <td>4.00</td>\n",
              "      <td>0.00</td>\n",
              "      <td>0.00</td>\n",
              "      <td>0.00</td>\n",
              "      <td>0.00</td>\n",
              "      <td>2.00</td>\n",
              "      <td>novato</td>\n",
              "      <td>muy_pocos_puntos</td>\n",
              "      <td>partidos_bajo</td>\n",
              "    </tr>\n",
              "    <tr>\n",
              "      <th>284</th>\n",
              "      <td>Romeo Langford</td>\n",
              "      <td>SG</td>\n",
              "      <td>20</td>\n",
              "      <td>BOS</td>\n",
              "      <td>32</td>\n",
              "      <td>11.60</td>\n",
              "      <td>1.30</td>\n",
              "      <td>0.40</td>\n",
              "      <td>0.30</td>\n",
              "      <td>0.30</td>\n",
              "      <td>2.50</td>\n",
              "      <td>novato</td>\n",
              "      <td>muy_pocos_puntos</td>\n",
              "      <td>partidos_medio</td>\n",
              "    </tr>\n",
              "    <tr>\n",
              "      <th>528</th>\n",
              "      <td>Ivica Zubac</td>\n",
              "      <td>C</td>\n",
              "      <td>22</td>\n",
              "      <td>LAC</td>\n",
              "      <td>72</td>\n",
              "      <td>18.40</td>\n",
              "      <td>7.50</td>\n",
              "      <td>1.10</td>\n",
              "      <td>0.20</td>\n",
              "      <td>0.90</td>\n",
              "      <td>8.30</td>\n",
              "      <td>novato</td>\n",
              "      <td>anotador_casual</td>\n",
              "      <td>partidos_alto</td>\n",
              "    </tr>\n",
              "    <tr>\n",
              "      <th>305</th>\n",
              "      <td>Daryl Macon</td>\n",
              "      <td>PG</td>\n",
              "      <td>24</td>\n",
              "      <td>MIA</td>\n",
              "      <td>4</td>\n",
              "      <td>3.50</td>\n",
              "      <td>0.00</td>\n",
              "      <td>0.30</td>\n",
              "      <td>0.00</td>\n",
              "      <td>0.00</td>\n",
              "      <td>0.80</td>\n",
              "      <td>joven</td>\n",
              "      <td>muy_pocos_puntos</td>\n",
              "      <td>partidos_bajo</td>\n",
              "    </tr>\n",
              "    <tr>\n",
              "      <th>250</th>\n",
              "      <td>Amile Jefferson</td>\n",
              "      <td>PF</td>\n",
              "      <td>26</td>\n",
              "      <td>ORL</td>\n",
              "      <td>18</td>\n",
              "      <td>4.10</td>\n",
              "      <td>1.30</td>\n",
              "      <td>0.20</td>\n",
              "      <td>0.10</td>\n",
              "      <td>0.20</td>\n",
              "      <td>0.80</td>\n",
              "      <td>adulto</td>\n",
              "      <td>muy_pocos_puntos</td>\n",
              "      <td>partidos_bajo</td>\n",
              "    </tr>\n",
              "    <tr>\n",
              "      <th>193</th>\n",
              "      <td>Devon Hall</td>\n",
              "      <td>PG</td>\n",
              "      <td>24</td>\n",
              "      <td>OKC</td>\n",
              "      <td>11</td>\n",
              "      <td>7.40</td>\n",
              "      <td>0.60</td>\n",
              "      <td>1.20</td>\n",
              "      <td>0.40</td>\n",
              "      <td>0.10</td>\n",
              "      <td>1.80</td>\n",
              "      <td>joven</td>\n",
              "      <td>muy_pocos_puntos</td>\n",
              "      <td>partidos_bajo</td>\n",
              "    </tr>\n",
              "    <tr>\n",
              "      <th>255</th>\n",
              "      <td>Cameron Johnson</td>\n",
              "      <td>PF</td>\n",
              "      <td>23</td>\n",
              "      <td>PHO</td>\n",
              "      <td>57</td>\n",
              "      <td>22.00</td>\n",
              "      <td>3.30</td>\n",
              "      <td>1.20</td>\n",
              "      <td>0.60</td>\n",
              "      <td>0.40</td>\n",
              "      <td>8.80</td>\n",
              "      <td>joven</td>\n",
              "      <td>anotador_casual</td>\n",
              "      <td>partidos_alto</td>\n",
              "    </tr>\n",
              "  </tbody>\n",
              "</table>\n",
              "</div>"
            ],
            "text/plain": [
              "              player position  age  ... cat_edad        cat_puntos    cat_partidos\n",
              "197     James Harden       SG   30  ...   adulto          goleador   partidos_alto\n",
              "136  Sekou Doumbouya       PF   19  ...   novato      pocos_puntos  partidos_medio\n",
              "203    Tobias Harris       PF   27  ...   adulto          goleador   partidos_alto\n",
              "365     Malik Newman       SG   22  ...   novato  muy_pocos_puntos   partidos_bajo\n",
              "284   Romeo Langford       SG   20  ...   novato  muy_pocos_puntos  partidos_medio\n",
              "528      Ivica Zubac        C   22  ...   novato   anotador_casual   partidos_alto\n",
              "305      Daryl Macon       PG   24  ...    joven  muy_pocos_puntos   partidos_bajo\n",
              "250  Amile Jefferson       PF   26  ...   adulto  muy_pocos_puntos   partidos_bajo\n",
              "193       Devon Hall       PG   24  ...    joven  muy_pocos_puntos   partidos_bajo\n",
              "255  Cameron Johnson       PF   23  ...    joven   anotador_casual   partidos_alto\n",
              "\n",
              "[10 rows x 14 columns]"
            ]
          },
          "metadata": {
            "tags": []
          },
          "execution_count": 41
        }
      ]
    },
    {
      "cell_type": "markdown",
      "metadata": {
        "id": "DpbyKEDdHqOq"
      },
      "source": [
        "# 3 Análisis de los datos\n",
        "\n",
        "Ahora que tenemos las variables con las categorías necesarias necesitamos hacer algunos analisis para responder a ciertas preguntas"
      ]
    },
    {
      "cell_type": "markdown",
      "metadata": {
        "id": "zN05aha7ICIf"
      },
      "source": [
        "### ¿Cuántos jugadores hay en cada posición?"
      ]
    },
    {
      "cell_type": "code",
      "metadata": {
        "colab": {
          "base_uri": "https://localhost:8080/"
        },
        "id": "oA-GsQlHHhVm",
        "outputId": "a5435769-6966-46c4-8e13-a1097faf6d0a"
      },
      "source": [
        "nba.groupby('position').size().sort_values(ascending=False)"
      ],
      "execution_count": null,
      "outputs": [
        {
          "output_type": "execute_result",
          "data": {
            "text/plain": [
              "position\n",
              "SG       118\n",
              "C        107\n",
              "PF       105\n",
              "PG        91\n",
              "SF        89\n",
              "PF-C       5\n",
              "SF-PF      3\n",
              "PF-SF      3\n",
              "SG-PG      2\n",
              "SF-SG      2\n",
              "SG-SF      1\n",
              "SF-C       1\n",
              "PG-SG      1\n",
              "C-PF       1\n",
              "dtype: int64"
            ]
          },
          "metadata": {
            "tags": []
          },
          "execution_count": 45
        }
      ]
    },
    {
      "cell_type": "markdown",
      "metadata": {
        "id": "co541zczIZxk"
      },
      "source": [
        "### ¿Cuántos jugadores hay en cada categoría de edad? ¿Y en cada categoría de partidos jugados?"
      ]
    },
    {
      "cell_type": "code",
      "metadata": {
        "colab": {
          "base_uri": "https://localhost:8080/"
        },
        "id": "FkPh9gJPJ1k5",
        "outputId": "60046300-7df0-4a0f-964a-4dbf6a3a5b5c"
      },
      "source": [
        "nba.groupby('cat_edad').size()"
      ],
      "execution_count": null,
      "outputs": [
        {
          "output_type": "execute_result",
          "data": {
            "text/plain": [
              "cat_edad\n",
              "novato      142\n",
              "joven       152\n",
              "adulto      211\n",
              "veterano     24\n",
              "dtype: int64"
            ]
          },
          "metadata": {
            "tags": []
          },
          "execution_count": 47
        }
      ]
    },
    {
      "cell_type": "code",
      "metadata": {
        "colab": {
          "base_uri": "https://localhost:8080/"
        },
        "id": "ppo1cp_NIHt6",
        "outputId": "b32f2829-4ec4-4e1a-f307-1fe8be4d6086"
      },
      "source": [
        "nba.groupby(['cat_partidos']).size()"
      ],
      "execution_count": null,
      "outputs": [
        {
          "output_type": "execute_result",
          "data": {
            "text/plain": [
              "cat_partidos\n",
              "partidos_bajo     148\n",
              "partidos_medio    122\n",
              "partidos_alto     259\n",
              "dtype: int64"
            ]
          },
          "metadata": {
            "tags": []
          },
          "execution_count": 48
        }
      ]
    },
    {
      "cell_type": "markdown",
      "metadata": {
        "id": "gZjBn7_9I9Cc"
      },
      "source": [
        "### ¿Cuántos jugadores hay en cada grupo conformado por la categoría de edad y de puntos?"
      ]
    },
    {
      "cell_type": "code",
      "metadata": {
        "colab": {
          "base_uri": "https://localhost:8080/"
        },
        "id": "vNYB4uyaJKnb",
        "outputId": "b6b9c35e-ec8c-47b8-fba7-cc450aa3310f"
      },
      "source": [
        "nba.groupby(['cat_edad', 'cat_puntos']).size()"
      ],
      "execution_count": null,
      "outputs": [
        {
          "output_type": "execute_result",
          "data": {
            "text/plain": [
              "cat_edad  cat_puntos      \n",
              "novato    muy_pocos_puntos    47\n",
              "          pocos_puntos        37\n",
              "          anotador_casual     31\n",
              "          goleador            27\n",
              "joven     muy_pocos_puntos    47\n",
              "          pocos_puntos        37\n",
              "          anotador_casual     32\n",
              "          goleador            36\n",
              "adulto    muy_pocos_puntos    33\n",
              "          pocos_puntos        51\n",
              "          anotador_casual     64\n",
              "          goleador            63\n",
              "veterano  muy_pocos_puntos     7\n",
              "          pocos_puntos         7\n",
              "          anotador_casual      5\n",
              "          goleador             5\n",
              "dtype: int64"
            ]
          },
          "metadata": {
            "tags": []
          },
          "execution_count": 49
        }
      ]
    },
    {
      "cell_type": "markdown",
      "metadata": {
        "id": "g6JshCZjJgEE"
      },
      "source": [
        "## Opcionales"
      ]
    },
    {
      "cell_type": "markdown",
      "metadata": {
        "id": "nKx5AbBLJjRq"
      },
      "source": [
        "### Observemos graficamente la cantidad de jugadores por categoria de edad y de puntos"
      ]
    },
    {
      "cell_type": "code",
      "metadata": {
        "colab": {
          "base_uri": "https://localhost:8080/",
          "height": 297
        },
        "id": "blwmnO2sOS3B",
        "outputId": "3a2ada60-841e-41a0-c702-88731a98e540"
      },
      "source": [
        "# Graficamos\n",
        "cantidad_edad_puntos = nba.groupby(['cat_edad', 'cat_puntos']).agg(cantidad=('player', 'count')).reset_index()\n",
        "sns.barplot(x='cat_edad', y='cantidad', hue='cat_puntos', data=cantidad_edad_puntos)"
      ],
      "execution_count": null,
      "outputs": [
        {
          "output_type": "execute_result",
          "data": {
            "text/plain": [
              "<matplotlib.axes._subplots.AxesSubplot at 0x7fdf5b62c7d0>"
            ]
          },
          "metadata": {
            "tags": []
          },
          "execution_count": 51
        },
        {
          "output_type": "display_data",
          "data": {
            "image/png": "[encoded data removed]",
            "text/plain": [
              "<Figure size 432x288 with 1 Axes>"
            ]
          },
          "metadata": {
            "tags": [],
            "needs_background": "light"
          }
        }
      ]
    },
    {
      "cell_type": "markdown",
      "metadata": {
        "id": "LndPj-CiKDHP"
      },
      "source": [
        "### Evaluar cómo quedan los intervalos de puntos por partido si creamos los intervalos con el criterio de igual ancho \n",
        "\n",
        "¿Difieren mucho de los creados con el criterio anterior?"
      ]
    },
    {
      "cell_type": "code",
      "metadata": {
        "colab": {
          "base_uri": "https://localhost:8080/"
        },
        "id": "bZ79qcZwIVNN",
        "outputId": "ee874012-e268-4bcf-e104-33fe003ec2be"
      },
      "source": [
        "# Discretizamos la variable de puntos por partido\n",
        "pd.cut(x=nba['pts_per_g'], bins=4)"
      ],
      "execution_count": null,
      "outputs": [
        {
          "output_type": "execute_result",
          "data": {
            "text/plain": [
              "0        (8.575, 17.15]\n",
              "1        (8.575, 17.15]\n",
              "2       (17.15, 25.725]\n",
              "3      (-0.0343, 8.575]\n",
              "4      (-0.0343, 8.575]\n",
              "             ...       \n",
              "524      (25.725, 34.3]\n",
              "525      (8.575, 17.15]\n",
              "526    (-0.0343, 8.575]\n",
              "527    (-0.0343, 8.575]\n",
              "528    (-0.0343, 8.575]\n",
              "Name: pts_per_g, Length: 529, dtype: category\n",
              "Categories (4, interval[float64]): [(-0.0343, 8.575] < (8.575, 17.15] < (17.15, 25.725] <\n",
              "                                    (25.725, 34.3]]"
            ]
          },
          "metadata": {
            "tags": []
          },
          "execution_count": 52
        }
      ]
    },
    {
      "cell_type": "markdown",
      "metadata": {
        "id": "guQFFratMsrY"
      },
      "source": [
        "Vemos que los intervalos se separan cada 8.5 puntos aproximadamente"
      ]
    },
    {
      "cell_type": "markdown",
      "metadata": {
        "id": "DEEBV0n5MH-Z"
      },
      "source": [
        "### Evaluar cómo quedan los intervalos de puntos por partido si creamos los intervalos creando un histograma utilizando los métodos de sturges y de la raiz cuadrada \n",
        "\n",
        "¿Difieren mucho de los creados con el criterio anterior?\n"
      ]
    },
    {
      "cell_type": "code",
      "metadata": {
        "colab": {
          "base_uri": "https://localhost:8080/"
        },
        "id": "0g61Q0RMMGye",
        "outputId": "e67a0ca9-c56c-4112-ca31-959a7cd28d81"
      },
      "source": [
        "np.histogram(a=nba['pts_per_g'], bins='sturges')"
      ],
      "execution_count": null,
      "outputs": [
        {
          "output_type": "execute_result",
          "data": {
            "text/plain": [
              "(array([100, 130, 108,  75,  40,  29,  24,   9,   8,   5,   1]),\n",
              " array([ 0.        ,  3.11818182,  6.23636364,  9.35454545, 12.47272727,\n",
              "        15.59090909, 18.70909091, 21.82727273, 24.94545455, 28.06363636,\n",
              "        31.18181818, 34.3       ]))"
            ]
          },
          "metadata": {
            "tags": []
          },
          "execution_count": 53
        }
      ]
    },
    {
      "cell_type": "code",
      "metadata": {
        "colab": {
          "base_uri": "https://localhost:8080/"
        },
        "id": "roK99ezFMkmm",
        "outputId": "a600e8b5-16e3-45f5-c852-2a392d21419b"
      },
      "source": [
        "np.histogram(a=nba['pts_per_g'], bins='sqrt')"
      ],
      "execution_count": null,
      "outputs": [
        {
          "output_type": "execute_result",
          "data": {
            "text/plain": [
              "(array([32, 57, 59, 71, 64, 39, 42, 34, 24, 19, 19, 10, 17, 14,  7,  6,  2,\n",
              "         4,  3,  3,  2,  0,  1]),\n",
              " array([ 0.        ,  1.49130435,  2.9826087 ,  4.47391304,  5.96521739,\n",
              "         7.45652174,  8.94782609, 10.43913043, 11.93043478, 13.42173913,\n",
              "        14.91304348, 16.40434783, 17.89565217, 19.38695652, 20.87826087,\n",
              "        22.36956522, 23.86086957, 25.35217391, 26.84347826, 28.33478261,\n",
              "        29.82608696, 31.3173913 , 32.80869565, 34.3       ]))"
            ]
          },
          "metadata": {
            "tags": []
          },
          "execution_count": 54
        }
      ]
    },
    {
      "cell_type": "markdown",
      "metadata": {
        "id": "2hkQi8yTM9MZ"
      },
      "source": [
        "Ambos métodos construyen una cantidad de intervalos mucho más grande que la que habíamos propuesto originalmente nosotros"
      ]
    }
  ]
}