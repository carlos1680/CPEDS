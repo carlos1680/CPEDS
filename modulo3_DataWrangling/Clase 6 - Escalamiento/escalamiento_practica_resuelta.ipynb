{
  "cells": [
    {
      "cell_type": "code",
      "execution_count": 1,
      "metadata": {
        "id": "3mQlBALNv6Gr"
      },
      "outputs": [],
      "source": [
        "import pandas as pd\n",
        "import numpy as np\n",
        "import matplotlib.pyplot as plt\n",
        "pd.options.display.float_format = '{:.5f}'.format\n",
        "pd.options.mode.chained_assignment = None"
      ]
    },
    {
      "cell_type": "markdown",
      "metadata": {
        "id": "wV-T3zcMzk_W"
      },
      "source": [
        "# 1. Dataset\n",
        "\n",
        "Vamos a trabajar con el dataset de estadísticas de la NBA.\n",
        "\n",
        "El dataset contiene las siguientes variables:\n",
        "\n",
        "* **player**: nombre del jugador\n",
        "* **position**: posicion que juega el jugador\n",
        "* **age**: edad\n",
        "* **team_id**: equipo\n",
        "* **g**: cantidad de partidos jugados\n",
        "* **mp_per_g**: minutos por partido\n",
        "* **trb_per_g**: rebotes por partido\n",
        "* **ast_per_g**: asistencias por partido\n",
        "* **stl_per_g**:robos por partido\n",
        "* **blk_per_g**:tapas/bloqueos por partido\n",
        "* **pts_per_g**:puntos por partido"
      ]
    },
    {
      "cell_type": "code",
      "execution_count": 4,
      "metadata": {
        "colab": {
          "base_uri": "https://localhost:8080/",
          "height": 363
        },
        "id": "NtooRDF0wEvp",
        "outputId": "66f826af-009f-4679-87fd-048158d7377d"
      },
      "outputs": [
        {
          "data": {
            "text/html": [
              "<div>\n",
              "<style scoped>\n",
              "    .dataframe tbody tr th:only-of-type {\n",
              "        vertical-align: middle;\n",
              "    }\n",
              "\n",
              "    .dataframe tbody tr th {\n",
              "        vertical-align: top;\n",
              "    }\n",
              "\n",
              "    .dataframe thead th {\n",
              "        text-align: right;\n",
              "    }\n",
              "</style>\n",
              "<table border=\"1\" class=\"dataframe\">\n",
              "  <thead>\n",
              "    <tr style=\"text-align: right;\">\n",
              "      <th></th>\n",
              "      <th>player</th>\n",
              "      <th>position</th>\n",
              "      <th>age</th>\n",
              "      <th>team_id</th>\n",
              "      <th>g</th>\n",
              "      <th>mp_per_g</th>\n",
              "      <th>trb_per_g</th>\n",
              "      <th>ast_per_g</th>\n",
              "      <th>stl_per_g</th>\n",
              "      <th>blk_per_g</th>\n",
              "      <th>pts_per_g</th>\n",
              "    </tr>\n",
              "  </thead>\n",
              "  <tbody>\n",
              "    <tr>\n",
              "      <th>431</th>\n",
              "      <td>Terrence Ross</td>\n",
              "      <td>SG</td>\n",
              "      <td>28</td>\n",
              "      <td>ORL</td>\n",
              "      <td>69</td>\n",
              "      <td>27.40000</td>\n",
              "      <td>3.20000</td>\n",
              "      <td>1.20000</td>\n",
              "      <td>1.10000</td>\n",
              "      <td>0.30000</td>\n",
              "      <td>14.70000</td>\n",
              "    </tr>\n",
              "    <tr>\n",
              "      <th>181</th>\n",
              "      <td>Jerami Grant</td>\n",
              "      <td>PF</td>\n",
              "      <td>25</td>\n",
              "      <td>DEN</td>\n",
              "      <td>71</td>\n",
              "      <td>26.60000</td>\n",
              "      <td>3.50000</td>\n",
              "      <td>1.20000</td>\n",
              "      <td>0.70000</td>\n",
              "      <td>0.80000</td>\n",
              "      <td>12.00000</td>\n",
              "    </tr>\n",
              "    <tr>\n",
              "      <th>107</th>\n",
              "      <td>John Collins</td>\n",
              "      <td>PF</td>\n",
              "      <td>22</td>\n",
              "      <td>ATL</td>\n",
              "      <td>41</td>\n",
              "      <td>33.20000</td>\n",
              "      <td>10.10000</td>\n",
              "      <td>1.50000</td>\n",
              "      <td>0.80000</td>\n",
              "      <td>1.60000</td>\n",
              "      <td>21.60000</td>\n",
              "    </tr>\n",
              "    <tr>\n",
              "      <th>87</th>\n",
              "      <td>DeMarre Carroll</td>\n",
              "      <td>SF-C</td>\n",
              "      <td>33</td>\n",
              "      <td>TOT</td>\n",
              "      <td>24</td>\n",
              "      <td>12.10000</td>\n",
              "      <td>2.30000</td>\n",
              "      <td>1.00000</td>\n",
              "      <td>0.30000</td>\n",
              "      <td>0.20000</td>\n",
              "      <td>3.60000</td>\n",
              "    </tr>\n",
              "    <tr>\n",
              "      <th>374</th>\n",
              "      <td>David Nwaba</td>\n",
              "      <td>SF</td>\n",
              "      <td>27</td>\n",
              "      <td>BRK</td>\n",
              "      <td>20</td>\n",
              "      <td>13.40000</td>\n",
              "      <td>2.30000</td>\n",
              "      <td>0.40000</td>\n",
              "      <td>0.60000</td>\n",
              "      <td>0.60000</td>\n",
              "      <td>5.20000</td>\n",
              "    </tr>\n",
              "    <tr>\n",
              "      <th>292</th>\n",
              "      <td>Alex Len</td>\n",
              "      <td>C</td>\n",
              "      <td>26</td>\n",
              "      <td>TOT</td>\n",
              "      <td>55</td>\n",
              "      <td>17.60000</td>\n",
              "      <td>5.80000</td>\n",
              "      <td>0.90000</td>\n",
              "      <td>0.40000</td>\n",
              "      <td>0.90000</td>\n",
              "      <td>8.00000</td>\n",
              "    </tr>\n",
              "    <tr>\n",
              "      <th>343</th>\n",
              "      <td>Naz Mitrou-Long</td>\n",
              "      <td>SG</td>\n",
              "      <td>26</td>\n",
              "      <td>IND</td>\n",
              "      <td>5</td>\n",
              "      <td>9.40000</td>\n",
              "      <td>1.40000</td>\n",
              "      <td>1.60000</td>\n",
              "      <td>0.20000</td>\n",
              "      <td>0.20000</td>\n",
              "      <td>2.80000</td>\n",
              "    </tr>\n",
              "    <tr>\n",
              "      <th>331</th>\n",
              "      <td>Jordan McRae</td>\n",
              "      <td>SG</td>\n",
              "      <td>28</td>\n",
              "      <td>TOT</td>\n",
              "      <td>37</td>\n",
              "      <td>21.20000</td>\n",
              "      <td>3.40000</td>\n",
              "      <td>2.50000</td>\n",
              "      <td>0.60000</td>\n",
              "      <td>0.40000</td>\n",
              "      <td>11.50000</td>\n",
              "    </tr>\n",
              "    <tr>\n",
              "      <th>301</th>\n",
              "      <td>Kevin Love</td>\n",
              "      <td>PF</td>\n",
              "      <td>31</td>\n",
              "      <td>CLE</td>\n",
              "      <td>56</td>\n",
              "      <td>31.80000</td>\n",
              "      <td>9.80000</td>\n",
              "      <td>3.20000</td>\n",
              "      <td>0.60000</td>\n",
              "      <td>0.30000</td>\n",
              "      <td>17.60000</td>\n",
              "    </tr>\n",
              "    <tr>\n",
              "      <th>427</th>\n",
              "      <td>Mitchell Robinson</td>\n",
              "      <td>C</td>\n",
              "      <td>21</td>\n",
              "      <td>NYK</td>\n",
              "      <td>61</td>\n",
              "      <td>23.10000</td>\n",
              "      <td>7.00000</td>\n",
              "      <td>0.60000</td>\n",
              "      <td>0.90000</td>\n",
              "      <td>2.00000</td>\n",
              "      <td>9.70000</td>\n",
              "    </tr>\n",
              "  </tbody>\n",
              "</table>\n",
              "</div>"
            ],
            "text/plain": [
              "                player position  age team_id   g  mp_per_g  trb_per_g  \\\n",
              "431      Terrence Ross       SG   28     ORL  69  27.40000    3.20000   \n",
              "181       Jerami Grant       PF   25     DEN  71  26.60000    3.50000   \n",
              "107       John Collins       PF   22     ATL  41  33.20000   10.10000   \n",
              "87     DeMarre Carroll     SF-C   33     TOT  24  12.10000    2.30000   \n",
              "374        David Nwaba       SF   27     BRK  20  13.40000    2.30000   \n",
              "292           Alex Len        C   26     TOT  55  17.60000    5.80000   \n",
              "343    Naz Mitrou-Long       SG   26     IND   5   9.40000    1.40000   \n",
              "331       Jordan McRae       SG   28     TOT  37  21.20000    3.40000   \n",
              "301         Kevin Love       PF   31     CLE  56  31.80000    9.80000   \n",
              "427  Mitchell Robinson        C   21     NYK  61  23.10000    7.00000   \n",
              "\n",
              "     ast_per_g  stl_per_g  blk_per_g  pts_per_g  \n",
              "431    1.20000    1.10000    0.30000   14.70000  \n",
              "181    1.20000    0.70000    0.80000   12.00000  \n",
              "107    1.50000    0.80000    1.60000   21.60000  \n",
              "87     1.00000    0.30000    0.20000    3.60000  \n",
              "374    0.40000    0.60000    0.60000    5.20000  \n",
              "292    0.90000    0.40000    0.90000    8.00000  \n",
              "343    1.60000    0.20000    0.20000    2.80000  \n",
              "331    2.50000    0.60000    0.40000   11.50000  \n",
              "301    3.20000    0.60000    0.30000   17.60000  \n",
              "427    0.60000    0.90000    2.00000    9.70000  "
            ]
          },
          "execution_count": 4,
          "metadata": {},
          "output_type": "execute_result"
        }
      ],
      "source": [
        "# Cargamos el dataset desde el link\n",
        "#nba = pd.read_csv('/content/drive/MyDrive/Curso CPE Data Wrangling/Clases/datasets/estadisticas_nba.csv')\n",
        "nba = pd.read_csv('../DataSets/estadisticas_nba.csv')\n",
        "# Vemos 10 registros al azar\n",
        "nba.sample(10)"
      ]
    },
    {
      "cell_type": "markdown",
      "metadata": {
        "id": "cbQG7HgOWEWc"
      },
      "source": [
        "# 2. Objetivo: crear un análisis de similitud de jugadores\n",
        "\n",
        "Queremos poder comparar que tan parecidos son dos jugadores en base a ciertas variables de interés: su edad, minutos por partido, puntos por partido y rebotes por partido\n",
        "\n",
        "Para ello, vamos a utilizar la distancia euclidea para medir la similitud"
      ]
    },
    {
      "cell_type": "markdown",
      "metadata": {
        "id": "1s0oUm3KeQ9U"
      },
      "source": [
        "## 2.1 Distancia euclidea\n",
        "\n",
        "Para ello vamos a utilizar la distancia euclidea entre los puntos.\n",
        "\n",
        "La fórmula para calcular la distancia euclidea entre dos puntos $(x_1, y_1)$ y $(x_2, y_2)$es:\n",
        "\n",
        "$d=\\sqrt{(x_1 - x_2)^2+(y_1 - y_2)^2}$\n",
        "\n",
        "En términos gráficos:\n",
        "\n",
        "<div>\n",
        "<img src=\"https://upload.wikimedia.org/wikipedia/commons/thumb/6/67/Distance_Formula.svg/1200px-Distance_Formula.svg.png\" width=\"500\"/>\n",
        "<div>\n",
        "\n",
        "---\n",
        "\n",
        "El cálculo de la distancia euclidea como código lo hacemos de la siguiente manera:\n",
        "\n",
        "```\n",
        "distancia = np.sqrt(np.sum(np.square(punto1 - punto2)))\n",
        "```\n",
        "\n",
        "\n",
        "\n",
        "\n",
        "\n",
        "\n"
      ]
    },
    {
      "cell_type": "markdown",
      "metadata": {
        "id": "Me1Gv12wgYRS"
      },
      "source": [
        "## 2.2 Escala de las variables\n",
        "\n",
        "Evaluemos la escala de las variables y su distribución"
      ]
    },
    {
      "cell_type": "markdown",
      "metadata": {
        "id": "FA68MRszeG3h"
      },
      "source": [
        "Primero, observemos los estadísticos descriptivos de las variables"
      ]
    },
    {
      "cell_type": "code",
      "execution_count": 5,
      "metadata": {
        "colab": {
          "base_uri": "https://localhost:8080/",
          "height": 300
        },
        "id": "H3qpwwisz79l",
        "outputId": "821eff8a-bd07-47e1-9227-e746b67f585f"
      },
      "outputs": [
        {
          "data": {
            "text/html": [
              "<div>\n",
              "<style scoped>\n",
              "    .dataframe tbody tr th:only-of-type {\n",
              "        vertical-align: middle;\n",
              "    }\n",
              "\n",
              "    .dataframe tbody tr th {\n",
              "        vertical-align: top;\n",
              "    }\n",
              "\n",
              "    .dataframe thead th {\n",
              "        text-align: right;\n",
              "    }\n",
              "</style>\n",
              "<table border=\"1\" class=\"dataframe\">\n",
              "  <thead>\n",
              "    <tr style=\"text-align: right;\">\n",
              "      <th></th>\n",
              "      <th>age</th>\n",
              "      <th>g</th>\n",
              "      <th>mp_per_g</th>\n",
              "      <th>trb_per_g</th>\n",
              "      <th>ast_per_g</th>\n",
              "      <th>stl_per_g</th>\n",
              "      <th>blk_per_g</th>\n",
              "      <th>pts_per_g</th>\n",
              "    </tr>\n",
              "  </thead>\n",
              "  <tbody>\n",
              "    <tr>\n",
              "      <th>count</th>\n",
              "      <td>529.00000</td>\n",
              "      <td>529.00000</td>\n",
              "      <td>529.00000</td>\n",
              "      <td>529.00000</td>\n",
              "      <td>529.00000</td>\n",
              "      <td>529.00000</td>\n",
              "      <td>529.00000</td>\n",
              "      <td>529.00000</td>\n",
              "    </tr>\n",
              "    <tr>\n",
              "      <th>mean</th>\n",
              "      <td>25.56144</td>\n",
              "      <td>42.33081</td>\n",
              "      <td>19.51304</td>\n",
              "      <td>3.63270</td>\n",
              "      <td>1.92363</td>\n",
              "      <td>0.62193</td>\n",
              "      <td>0.39905</td>\n",
              "      <td>8.72647</td>\n",
              "    </tr>\n",
              "    <tr>\n",
              "      <th>std</th>\n",
              "      <td>4.11949</td>\n",
              "      <td>22.63332</td>\n",
              "      <td>9.21021</td>\n",
              "      <td>2.48097</td>\n",
              "      <td>1.76254</td>\n",
              "      <td>0.40280</td>\n",
              "      <td>0.41187</td>\n",
              "      <td>6.36797</td>\n",
              "    </tr>\n",
              "    <tr>\n",
              "      <th>min</th>\n",
              "      <td>19.00000</td>\n",
              "      <td>1.00000</td>\n",
              "      <td>1.00000</td>\n",
              "      <td>0.00000</td>\n",
              "      <td>0.00000</td>\n",
              "      <td>0.00000</td>\n",
              "      <td>0.00000</td>\n",
              "      <td>0.00000</td>\n",
              "    </tr>\n",
              "    <tr>\n",
              "      <th>25%</th>\n",
              "      <td>22.00000</td>\n",
              "      <td>22.00000</td>\n",
              "      <td>12.00000</td>\n",
              "      <td>1.90000</td>\n",
              "      <td>0.80000</td>\n",
              "      <td>0.30000</td>\n",
              "      <td>0.10000</td>\n",
              "      <td>3.90000</td>\n",
              "    </tr>\n",
              "    <tr>\n",
              "      <th>50%</th>\n",
              "      <td>25.00000</td>\n",
              "      <td>48.00000</td>\n",
              "      <td>18.90000</td>\n",
              "      <td>3.20000</td>\n",
              "      <td>1.40000</td>\n",
              "      <td>0.60000</td>\n",
              "      <td>0.30000</td>\n",
              "      <td>7.00000</td>\n",
              "    </tr>\n",
              "    <tr>\n",
              "      <th>75%</th>\n",
              "      <td>28.00000</td>\n",
              "      <td>62.00000</td>\n",
              "      <td>27.80000</td>\n",
              "      <td>4.70000</td>\n",
              "      <td>2.40000</td>\n",
              "      <td>0.90000</td>\n",
              "      <td>0.50000</td>\n",
              "      <td>11.90000</td>\n",
              "    </tr>\n",
              "    <tr>\n",
              "      <th>max</th>\n",
              "      <td>43.00000</td>\n",
              "      <td>74.00000</td>\n",
              "      <td>37.50000</td>\n",
              "      <td>15.20000</td>\n",
              "      <td>10.20000</td>\n",
              "      <td>2.10000</td>\n",
              "      <td>2.90000</td>\n",
              "      <td>34.30000</td>\n",
              "    </tr>\n",
              "  </tbody>\n",
              "</table>\n",
              "</div>"
            ],
            "text/plain": [
              "            age         g  mp_per_g  trb_per_g  ast_per_g  stl_per_g  \\\n",
              "count 529.00000 529.00000 529.00000  529.00000  529.00000  529.00000   \n",
              "mean   25.56144  42.33081  19.51304    3.63270    1.92363    0.62193   \n",
              "std     4.11949  22.63332   9.21021    2.48097    1.76254    0.40280   \n",
              "min    19.00000   1.00000   1.00000    0.00000    0.00000    0.00000   \n",
              "25%    22.00000  22.00000  12.00000    1.90000    0.80000    0.30000   \n",
              "50%    25.00000  48.00000  18.90000    3.20000    1.40000    0.60000   \n",
              "75%    28.00000  62.00000  27.80000    4.70000    2.40000    0.90000   \n",
              "max    43.00000  74.00000  37.50000   15.20000   10.20000    2.10000   \n",
              "\n",
              "       blk_per_g  pts_per_g  \n",
              "count  529.00000  529.00000  \n",
              "mean     0.39905    8.72647  \n",
              "std      0.41187    6.36797  \n",
              "min      0.00000    0.00000  \n",
              "25%      0.10000    3.90000  \n",
              "50%      0.30000    7.00000  \n",
              "75%      0.50000   11.90000  \n",
              "max      2.90000   34.30000  "
            ]
          },
          "execution_count": 5,
          "metadata": {},
          "output_type": "execute_result"
        }
      ],
      "source": [
        "nba.describe()"
      ]
    },
    {
      "cell_type": "markdown",
      "metadata": {
        "id": "nb-dQkdBvtnJ"
      },
      "source": [
        "¿Qué observamos con estos datos?\n",
        "\n",
        "Las variables son todas no negativas pero como se refieren a atributos distintos se encuentran medidas en unidades distintas."
      ]
    },
    {
      "cell_type": "markdown",
      "metadata": {
        "id": "fmFUg4RPintu"
      },
      "source": [
        "# 3 Escalamiento\n",
        "\n",
        "Como ya vimos, al tener distintas unidades de medida va a ser necesario realizar un escalamiento para poder medir la distancia.\n",
        "\n",
        "Para poder decidir qué método nos conviene utilizar debemos ver la distribución de las variables"
      ]
    },
    {
      "cell_type": "markdown",
      "metadata": {
        "id": "9xZo7f8MjMcl"
      },
      "source": [
        "## 3.1 Distribución de las variables"
      ]
    },
    {
      "cell_type": "code",
      "execution_count": 6,
      "metadata": {
        "colab": {
          "base_uri": "https://localhost:8080/",
          "height": 281
        },
        "id": "1f7-fLuJvrj1",
        "outputId": "ecedaa00-d767-4464-cb63-911f7d764250"
      },
      "outputs": [
        {
          "data": {
            "image/png": "[encoded data removed]",
            "text/plain": [
              "<Figure size 640x480 with 1 Axes>"
            ]
          },
          "metadata": {},
          "output_type": "display_data"
        }
      ],
      "source": [
        "# Distribución de la edad\n",
        "plt.hist(nba['age'], bins=40, ec='black')\n",
        "plt.title(\"Distribución de edad\")\n",
        "plt.show()"
      ]
    },
    {
      "cell_type": "code",
      "execution_count": 7,
      "metadata": {
        "colab": {
          "base_uri": "https://localhost:8080/",
          "height": 281
        },
        "id": "WDnLtiloxLAE",
        "outputId": "e59321d5-1661-45a7-aa21-da8f8de5c87e"
      },
      "outputs": [
        {
          "data": {
            "image/png": "[encoded data removed]",
            "text/plain": [
              "<Figure size 640x480 with 1 Axes>"
            ]
          },
          "metadata": {},
          "output_type": "display_data"
        }
      ],
      "source": [
        "# Distribucion de los minutos por partido\n",
        "plt.hist(nba['mp_per_g'], bins=40, ec='black', color=\"orange\")\n",
        "plt.title(\"Distribución de minutos por partido\")\n",
        "plt.show()"
      ]
    },
    {
      "cell_type": "code",
      "execution_count": 8,
      "metadata": {
        "colab": {
          "base_uri": "https://localhost:8080/",
          "height": 281
        },
        "id": "c_edA5yNkTdT",
        "outputId": "8de94764-6c8d-4d72-aa0b-857d4850e673"
      },
      "outputs": [
        {
          "data": {
            "image/png": "[encoded data removed]",
            "text/plain": [
              "<Figure size 640x480 with 1 Axes>"
            ]
          },
          "metadata": {},
          "output_type": "display_data"
        }
      ],
      "source": [
        "# Distribucion de los puntos por partido\n",
        "plt.hist(nba['pts_per_g'], bins=40, ec='black', color=\"green\")\n",
        "plt.title(\"Distribución de puntos por partido\")\n",
        "plt.show()"
      ]
    },
    {
      "cell_type": "code",
      "execution_count": 9,
      "metadata": {
        "colab": {
          "base_uri": "https://localhost:8080/",
          "height": 281
        },
        "id": "v4eRqi3OuFgi",
        "outputId": "a80b954d-db03-4921-b6f1-69df00378385"
      },
      "outputs": [
        {
          "data": {
            "image/png": "[encoded data removed]",
            "text/plain": [
              "<Figure size 640x480 with 1 Axes>"
            ]
          },
          "metadata": {},
          "output_type": "display_data"
        }
      ],
      "source": [
        "# Distribucion de los rebotes por partido\n",
        "plt.hist(nba['trb_per_g'], bins=40, ec='black', color=\"firebrick\")\n",
        "plt.title(\"Distribución de rebotes por partido\")\n",
        "plt.show()"
      ]
    },
    {
      "cell_type": "markdown",
      "metadata": {
        "id": "w58Z2yLU0VZh"
      },
      "source": [
        "¿Qué distribución tiene cada variable?\n",
        "\n",
        "* **Edad**: Tiene una forma de campana aunque más tirada hacia la izquierda\n",
        "* **Minutos por partido**: Esta centrada y con una leve forma de campana\n",
        "* **Puntos por partido**: Tiene una forma de campana aunque más tirada hacia la izquierda\n",
        "* **Rebotes por partido**: Tiene una forma de campana aunque más tirada hacia la izquierda\n",
        "\n",
        "Es posible realizar una estandarización o normalización."
      ]
    },
    {
      "cell_type": "markdown",
      "metadata": {
        "id": "iwSQZ58RyhJg"
      },
      "source": [
        "### ¿Es posible aplicar normalización en unas variables y estandarización en otras?\n",
        "\n",
        "No, seguiríamos teniendo problemas con las distinas escalas que se obtienen luego de los distintos procesos."
      ]
    },
    {
      "cell_type": "markdown",
      "metadata": {
        "id": "WRYCIvkmxbjO"
      },
      "source": [
        "## 3.2 Estandarización \n",
        "\n",
        "La fórmula para estandarizar una variable es:\n",
        "\n",
        "$ x_e = \\frac{x-\\overline{X}}{\\sigma_X}$\n",
        "\n",
        "¿Qué datos necesitamos para normalizar una variable?\n",
        "\n",
        "El promedio y el desvío. Vamos a utilizar las funciones `numpy.mean()` y `numpy.std()`\n"
      ]
    },
    {
      "cell_type": "markdown",
      "metadata": {
        "id": "IJUjmqAw2Ttg"
      },
      "source": [
        "### 3.2.1 Definición de la función\n",
        "\n",
        "En el trabajo anterior repetimos muchas veces las mismas operaciones para normalizar las variables. Para evitar repetir los pasos de la estandarización, armemos una función llamada `estandarizar_var(X)` la cual toma una variable X y la devuelve estandarizada"
      ]
    },
    {
      "cell_type": "code",
      "execution_count": 10,
      "metadata": {
        "id": "8kCwtjZ_2ZAy"
      },
      "outputs": [],
      "source": [
        "def estandarizar_var(X):\n",
        "  promedio = np.mean(X)\n",
        "  desvio = np.std(X)\n",
        "  X_estandarizada = (X-promedio)/desvio\n",
        "  return X_estandarizada"
      ]
    },
    {
      "cell_type": "markdown",
      "metadata": {
        "id": "Be8V5_x7C6GS"
      },
      "source": [
        "### 3.2.1 Estandarización de las variables\n"
      ]
    },
    {
      "cell_type": "code",
      "execution_count": 11,
      "metadata": {
        "id": "BQY0oUv8Gsmi"
      },
      "outputs": [],
      "source": [
        "# Edad\n",
        "edad_estand = estandarizar_var(nba['age'])\n",
        "# Minutos por partido\n",
        "mp_estand = estandarizar_var(nba['mp_per_g'])\n",
        "# Puntos por partido\n",
        "pts_estand = estandarizar_var(nba['pts_per_g'])\n",
        "# Rebotes por partido\n",
        "trb_estand = estandarizar_var(nba['trb_per_g'])"
      ]
    },
    {
      "cell_type": "markdown",
      "metadata": {
        "id": "xAxQas_NH12h"
      },
      "source": [
        "Crear un dataframe con las variables estandarizadas y el nombre del jugador y su posición"
      ]
    },
    {
      "cell_type": "code",
      "execution_count": 12,
      "metadata": {
        "colab": {
          "base_uri": "https://localhost:8080/"
        },
        "id": "A2QRGpZMGqFA",
        "outputId": "fddb7908-ab33-42ac-d0b3-05925b6627af"
      },
      "outputs": [
        {
          "data": {
            "text/html": [
              "<div>\n",
              "<style scoped>\n",
              "    .dataframe tbody tr th:only-of-type {\n",
              "        vertical-align: middle;\n",
              "    }\n",
              "\n",
              "    .dataframe tbody tr th {\n",
              "        vertical-align: top;\n",
              "    }\n",
              "\n",
              "    .dataframe thead th {\n",
              "        text-align: right;\n",
              "    }\n",
              "</style>\n",
              "<table border=\"1\" class=\"dataframe\">\n",
              "  <thead>\n",
              "    <tr style=\"text-align: right;\">\n",
              "      <th></th>\n",
              "      <th>jugador</th>\n",
              "      <th>posicion</th>\n",
              "      <th>age</th>\n",
              "      <th>mp_per_g</th>\n",
              "      <th>pts_per_g</th>\n",
              "      <th>trb_per_g</th>\n",
              "    </tr>\n",
              "  </thead>\n",
              "  <tbody>\n",
              "    <tr>\n",
              "      <th>0</th>\n",
              "      <td>Steven Adams</td>\n",
              "      <td>C</td>\n",
              "      <td>0.10656</td>\n",
              "      <td>0.78106</td>\n",
              "      <td>0.34165</td>\n",
              "      <td>2.28647</td>\n",
              "    </tr>\n",
              "    <tr>\n",
              "      <th>1</th>\n",
              "      <td>Bam Adebayo</td>\n",
              "      <td>PF</td>\n",
              "      <td>-0.86535</td>\n",
              "      <td>1.53094</td>\n",
              "      <td>1.12757</td>\n",
              "      <td>2.64958</td>\n",
              "    </tr>\n",
              "    <tr>\n",
              "      <th>2</th>\n",
              "      <td>LaMarcus Aldridge</td>\n",
              "      <td>C</td>\n",
              "      <td>2.05039</td>\n",
              "      <td>1.47660</td>\n",
              "      <td>1.59912</td>\n",
              "      <td>1.51992</td>\n",
              "    </tr>\n",
              "    <tr>\n",
              "      <th>3</th>\n",
              "      <td>Kyle Alexander</td>\n",
              "      <td>C</td>\n",
              "      <td>-0.62237</td>\n",
              "      <td>-1.41423</td>\n",
              "      <td>-1.21448</td>\n",
              "      <td>-0.86044</td>\n",
              "    </tr>\n",
              "    <tr>\n",
              "      <th>4</th>\n",
              "      <td>Nickeil Alexander-Walker</td>\n",
              "      <td>SG</td>\n",
              "      <td>-1.10833</td>\n",
              "      <td>-0.75129</td>\n",
              "      <td>-0.47571</td>\n",
              "      <td>-0.73940</td>\n",
              "    </tr>\n",
              "  </tbody>\n",
              "</table>\n",
              "</div>"
            ],
            "text/plain": [
              "                    jugador posicion      age  mp_per_g  pts_per_g  trb_per_g\n",
              "0              Steven Adams        C  0.10656   0.78106    0.34165    2.28647\n",
              "1               Bam Adebayo       PF -0.86535   1.53094    1.12757    2.64958\n",
              "2         LaMarcus Aldridge        C  2.05039   1.47660    1.59912    1.51992\n",
              "3            Kyle Alexander        C -0.62237  -1.41423   -1.21448   -0.86044\n",
              "4  Nickeil Alexander-Walker       SG -1.10833  -0.75129   -0.47571   -0.73940"
            ]
          },
          "execution_count": 12,
          "metadata": {},
          "output_type": "execute_result"
        }
      ],
      "source": [
        "nba_estand = pd.DataFrame({'jugador':nba['player'], 'posicion':nba['position'], 'age':edad_estand,\n",
        "                                 'mp_per_g': mp_estand, 'pts_per_g': pts_estand, 'trb_per_g': trb_estand})\n",
        "nba_estand.head()"
      ]
    },
    {
      "cell_type": "code",
      "execution_count": 13,
      "metadata": {
        "colab": {
          "base_uri": "https://localhost:8080/"
        },
        "id": "Mno1kMaKGCqq",
        "outputId": "82e8e6ed-a489-4608-b632-695d6ff69818"
      },
      "outputs": [
        {
          "data": {
            "text/html": [
              "<div>\n",
              "<style scoped>\n",
              "    .dataframe tbody tr th:only-of-type {\n",
              "        vertical-align: middle;\n",
              "    }\n",
              "\n",
              "    .dataframe tbody tr th {\n",
              "        vertical-align: top;\n",
              "    }\n",
              "\n",
              "    .dataframe thead th {\n",
              "        text-align: right;\n",
              "    }\n",
              "</style>\n",
              "<table border=\"1\" class=\"dataframe\">\n",
              "  <thead>\n",
              "    <tr style=\"text-align: right;\">\n",
              "      <th></th>\n",
              "      <th>age</th>\n",
              "      <th>mp_per_g</th>\n",
              "      <th>pts_per_g</th>\n",
              "      <th>trb_per_g</th>\n",
              "    </tr>\n",
              "  </thead>\n",
              "  <tbody>\n",
              "    <tr>\n",
              "      <th>0</th>\n",
              "      <td>0.10656</td>\n",
              "      <td>0.78106</td>\n",
              "      <td>0.34165</td>\n",
              "      <td>2.28647</td>\n",
              "    </tr>\n",
              "    <tr>\n",
              "      <th>1</th>\n",
              "      <td>-0.86535</td>\n",
              "      <td>1.53094</td>\n",
              "      <td>1.12757</td>\n",
              "      <td>2.64958</td>\n",
              "    </tr>\n",
              "    <tr>\n",
              "      <th>2</th>\n",
              "      <td>2.05039</td>\n",
              "      <td>1.47660</td>\n",
              "      <td>1.59912</td>\n",
              "      <td>1.51992</td>\n",
              "    </tr>\n",
              "    <tr>\n",
              "      <th>3</th>\n",
              "      <td>-0.62237</td>\n",
              "      <td>-1.41423</td>\n",
              "      <td>-1.21448</td>\n",
              "      <td>-0.86044</td>\n",
              "    </tr>\n",
              "    <tr>\n",
              "      <th>4</th>\n",
              "      <td>-1.10833</td>\n",
              "      <td>-0.75129</td>\n",
              "      <td>-0.47571</td>\n",
              "      <td>-0.73940</td>\n",
              "    </tr>\n",
              "  </tbody>\n",
              "</table>\n",
              "</div>"
            ],
            "text/plain": [
              "       age  mp_per_g  pts_per_g  trb_per_g\n",
              "0  0.10656   0.78106    0.34165    2.28647\n",
              "1 -0.86535   1.53094    1.12757    2.64958\n",
              "2  2.05039   1.47660    1.59912    1.51992\n",
              "3 -0.62237  -1.41423   -1.21448   -0.86044\n",
              "4 -1.10833  -0.75129   -0.47571   -0.73940"
            ]
          },
          "execution_count": 13,
          "metadata": {},
          "output_type": "execute_result"
        }
      ],
      "source": [
        "#Podemos aplicar la función sobre las variables con la función apply\n",
        "nba_estandarizadas = nba.loc[:,['age', 'mp_per_g', 'pts_per_g', 'trb_per_g']].apply(estandarizar_var)\n",
        "nba_estandarizadas.head()"
      ]
    },
    {
      "cell_type": "markdown",
      "metadata": {
        "id": "6cPals5c-lD5"
      },
      "source": [
        "Observemos los estadisticos descriptivos principales para nuestro nuevo dataset"
      ]
    },
    {
      "cell_type": "code",
      "execution_count": 14,
      "metadata": {
        "colab": {
          "base_uri": "https://localhost:8080/"
        },
        "id": "lP3QNggCI6gs",
        "outputId": "ce9c7f05-9571-4bae-a167-df1364e2c664"
      },
      "outputs": [
        {
          "data": {
            "text/html": [
              "<div>\n",
              "<style scoped>\n",
              "    .dataframe tbody tr th:only-of-type {\n",
              "        vertical-align: middle;\n",
              "    }\n",
              "\n",
              "    .dataframe tbody tr th {\n",
              "        vertical-align: top;\n",
              "    }\n",
              "\n",
              "    .dataframe thead th {\n",
              "        text-align: right;\n",
              "    }\n",
              "</style>\n",
              "<table border=\"1\" class=\"dataframe\">\n",
              "  <thead>\n",
              "    <tr style=\"text-align: right;\">\n",
              "      <th></th>\n",
              "      <th>age</th>\n",
              "      <th>mp_per_g</th>\n",
              "      <th>pts_per_g</th>\n",
              "      <th>trb_per_g</th>\n",
              "    </tr>\n",
              "  </thead>\n",
              "  <tbody>\n",
              "    <tr>\n",
              "      <th>count</th>\n",
              "      <td>529.00000</td>\n",
              "      <td>529.00000</td>\n",
              "      <td>529.00000</td>\n",
              "      <td>529.00000</td>\n",
              "    </tr>\n",
              "    <tr>\n",
              "      <th>mean</th>\n",
              "      <td>-0.00000</td>\n",
              "      <td>-0.00000</td>\n",
              "      <td>0.00000</td>\n",
              "      <td>0.00000</td>\n",
              "    </tr>\n",
              "    <tr>\n",
              "      <th>std</th>\n",
              "      <td>1.00095</td>\n",
              "      <td>1.00095</td>\n",
              "      <td>1.00095</td>\n",
              "      <td>1.00095</td>\n",
              "    </tr>\n",
              "    <tr>\n",
              "      <th>min</th>\n",
              "      <td>-1.59429</td>\n",
              "      <td>-2.01196</td>\n",
              "      <td>-1.37166</td>\n",
              "      <td>-1.46561</td>\n",
              "    </tr>\n",
              "    <tr>\n",
              "      <th>25%</th>\n",
              "      <td>-0.86535</td>\n",
              "      <td>-0.81650</td>\n",
              "      <td>-0.75865</td>\n",
              "      <td>-0.69906</td>\n",
              "    </tr>\n",
              "    <tr>\n",
              "      <th>50%</th>\n",
              "      <td>-0.13642</td>\n",
              "      <td>-0.06662</td>\n",
              "      <td>-0.27137</td>\n",
              "      <td>-0.17457</td>\n",
              "    </tr>\n",
              "    <tr>\n",
              "      <th>75%</th>\n",
              "      <td>0.59252</td>\n",
              "      <td>0.90061</td>\n",
              "      <td>0.49883</td>\n",
              "      <td>0.43060</td>\n",
              "    </tr>\n",
              "    <tr>\n",
              "      <th>max</th>\n",
              "      <td>4.23719</td>\n",
              "      <td>1.95478</td>\n",
              "      <td>4.01976</td>\n",
              "      <td>4.66683</td>\n",
              "    </tr>\n",
              "  </tbody>\n",
              "</table>\n",
              "</div>"
            ],
            "text/plain": [
              "            age  mp_per_g  pts_per_g  trb_per_g\n",
              "count 529.00000 529.00000  529.00000  529.00000\n",
              "mean   -0.00000  -0.00000    0.00000    0.00000\n",
              "std     1.00095   1.00095    1.00095    1.00095\n",
              "min    -1.59429  -2.01196   -1.37166   -1.46561\n",
              "25%    -0.86535  -0.81650   -0.75865   -0.69906\n",
              "50%    -0.13642  -0.06662   -0.27137   -0.17457\n",
              "75%     0.59252   0.90061    0.49883    0.43060\n",
              "max     4.23719   1.95478    4.01976    4.66683"
            ]
          },
          "execution_count": 14,
          "metadata": {},
          "output_type": "execute_result"
        }
      ],
      "source": [
        "nba_estand.describe()"
      ]
    },
    {
      "cell_type": "markdown",
      "metadata": {
        "id": "-zSSt8U-I_Z5"
      },
      "source": [
        "Vemos que el promedio de las variables es igual a cero y su desvío es igual uno. Esto se debe al proceso de estandarización"
      ]
    },
    {
      "cell_type": "markdown",
      "metadata": {
        "id": "I9vOBJrG72Zx"
      },
      "source": [
        "# 4. Medicion de distancia\n",
        "\n",
        "Ahora que contamos con las variables escaladas podemos realizar nuestra medición de distancia entre jugadores.\n",
        "\n",
        "Pero también para evitar realizar muchos pasos de manera repetida vamos a realizar una función que nos permita calcular la distancia entre dos jugadores en base a las variables que queramos.\n",
        "\n",
        "La función se va a llamar `medir_distancias(df, jugador_1, jugador_2, lista_variables)` y tomara como variables el dataset, el nombre del jugador 1 y del jugador 2 y con que variables queremos compararlos."
      ]
    },
    {
      "cell_type": "code",
      "execution_count": 15,
      "metadata": {
        "id": "9UJ8fC2Qmh81"
      },
      "outputs": [],
      "source": [
        "def medir_distancias(df, jugador_1, jugador_2, lista_variables):\n",
        "  # Obtener los puntos\n",
        "  punto1 = df.loc[df['jugador']==jugador_1, lista_variables].values\n",
        "  punto2 = df.loc[df['jugador']==jugador_2, lista_variables].values\n",
        "  # Calculamos la distancia\n",
        "  distancia = np.sqrt(np.sum(np.square(punto1 - punto2)))\n",
        "\n",
        "  return distancia\n"
      ]
    },
    {
      "cell_type": "markdown",
      "metadata": {
        "id": "uwfeCNasrj-W"
      },
      "source": [
        "## 4.1 Comparación de jugadores\n",
        "\n",
        "Comparemos a LeBron James contra James Harden, Stephen Curry, Rudy Gobert, Rajon Rondo y Kyle Kuzma en base a los minutos, puntos y rebotes"
      ]
    },
    {
      "cell_type": "code",
      "execution_count": 16,
      "metadata": {
        "colab": {
          "base_uri": "https://localhost:8080/"
        },
        "id": "vsqfS3PQq3qF",
        "outputId": "aac46141-70c3-4379-cefd-41f66fd23a7e"
      },
      "outputs": [
        {
          "data": {
            "text/plain": [
              "1.5094014997790397"
            ]
          },
          "execution_count": 16,
          "metadata": {},
          "output_type": "execute_result"
        }
      ],
      "source": [
        "medir_distancias(nba_estand, 'LeBron James', 'James Harden', ['mp_per_g', 'pts_per_g', 'trb_per_g'])"
      ]
    },
    {
      "cell_type": "markdown",
      "metadata": {
        "id": "v_jEOV2Btt6f"
      },
      "source": [
        "En lugar de escribir 5 veces la funcion, podemos utilizar un loop"
      ]
    },
    {
      "cell_type": "code",
      "execution_count": 17,
      "metadata": {
        "colab": {
          "base_uri": "https://localhost:8080/"
        },
        "id": "loonRmMFsIf7",
        "outputId": "208195aa-85d7-4d00-9946-41783b0454ed"
      },
      "outputs": [
        {
          "name": "stdout",
          "output_type": "stream",
          "text": [
            "La distancia entre LeBron James y James Harden es: 1.5094014997790397\n",
            "La distancia entre LeBron James y Stephen Curry es: 1.4651928476511646\n",
            "La distancia entre LeBron James y Rudy Gobert es: 2.803575986134848\n",
            "La distancia entre LeBron James y Rajon Rondo es: 3.7791960807511074\n",
            "La distancia entre LeBron James y Kyle Kuzma es: 2.5925935000478666\n"
          ]
        }
      ],
      "source": [
        "# Definimos la lista de comparacion\n",
        "lista_comparacion = [\"James Harden\", \"Stephen Curry\", \"Rudy Gobert\", \"Rajon Rondo\", \"Kyle Kuzma\"]\n",
        "\n",
        "# Definimos el loop\n",
        "for jugador in lista_comparacion:\n",
        "  distancia = medir_distancias(nba_estand, 'LeBron James', jugador, ['mp_per_g', 'pts_per_g', 'trb_per_g'])\n",
        "  print(f\"La distancia entre LeBron James y {jugador} es: {distancia}\")"
      ]
    },
    {
      "cell_type": "markdown",
      "metadata": {
        "id": "MMtAOqnhvnpL"
      },
      "source": [
        "Ahora propongan una nueva comparacion con otras variables y si quieren para otros jugadores"
      ]
    },
    {
      "cell_type": "markdown",
      "metadata": {
        "id": "ORtvpp1L0Yb_"
      },
      "source": [
        "## Opcionales\n",
        "\n",
        "## Estandarizacion con normalización \n",
        "\n",
        "Ahora realicemos una funcion para normalizar las mismas 4 variables y medir las distancias con las variables normalizadas\n",
        "\n",
        "La fórmula para normalizar una variable es:\n",
        "\n",
        "$ x_e = \\frac{x-min(X)}{max(X)-min(X)}$\n",
        "\n",
        "¿Qué datos necesitamos para normalizar una variable?\n",
        "\n",
        "El mínimo y máximo"
      ]
    },
    {
      "cell_type": "markdown",
      "metadata": {
        "id": "nX4b51DwwQ97"
      },
      "source": [
        "### Definir una funcion para normalizar variables"
      ]
    },
    {
      "cell_type": "code",
      "execution_count": 18,
      "metadata": {
        "id": "biU8HjxexAad"
      },
      "outputs": [],
      "source": [
        "def normalizar_var(X):\n",
        "  minimo = min(X)\n",
        "  maximo = max(X)\n",
        "  rango = maximo-minimo\n",
        "  X_normalizada = (X-minimo)/rango\n",
        "  return X_normalizada"
      ]
    },
    {
      "cell_type": "markdown",
      "metadata": {
        "id": "2I-kvpy5xB6u"
      },
      "source": [
        "### Crear un dataframe con las variables normalizadas y el nombre del jugador y su posición"
      ]
    },
    {
      "cell_type": "code",
      "execution_count": 19,
      "metadata": {
        "colab": {
          "base_uri": "https://localhost:8080/",
          "height": 206
        },
        "id": "9anuNnV9xJBT",
        "outputId": "b7217e47-8be9-4565-fed4-ccce52d772af"
      },
      "outputs": [
        {
          "data": {
            "text/html": [
              "<div>\n",
              "<style scoped>\n",
              "    .dataframe tbody tr th:only-of-type {\n",
              "        vertical-align: middle;\n",
              "    }\n",
              "\n",
              "    .dataframe tbody tr th {\n",
              "        vertical-align: top;\n",
              "    }\n",
              "\n",
              "    .dataframe thead th {\n",
              "        text-align: right;\n",
              "    }\n",
              "</style>\n",
              "<table border=\"1\" class=\"dataframe\">\n",
              "  <thead>\n",
              "    <tr style=\"text-align: right;\">\n",
              "      <th></th>\n",
              "      <th>age</th>\n",
              "      <th>mp_per_g</th>\n",
              "      <th>pts_per_g</th>\n",
              "      <th>trb_per_g</th>\n",
              "    </tr>\n",
              "  </thead>\n",
              "  <tbody>\n",
              "    <tr>\n",
              "      <th>0</th>\n",
              "      <td>0.29167</td>\n",
              "      <td>0.70411</td>\n",
              "      <td>0.31778</td>\n",
              "      <td>0.61184</td>\n",
              "    </tr>\n",
              "    <tr>\n",
              "      <th>1</th>\n",
              "      <td>0.12500</td>\n",
              "      <td>0.89315</td>\n",
              "      <td>0.46356</td>\n",
              "      <td>0.67105</td>\n",
              "    </tr>\n",
              "    <tr>\n",
              "      <th>2</th>\n",
              "      <td>0.62500</td>\n",
              "      <td>0.87945</td>\n",
              "      <td>0.55102</td>\n",
              "      <td>0.48684</td>\n",
              "    </tr>\n",
              "    <tr>\n",
              "      <th>3</th>\n",
              "      <td>0.16667</td>\n",
              "      <td>0.15068</td>\n",
              "      <td>0.02915</td>\n",
              "      <td>0.09868</td>\n",
              "    </tr>\n",
              "    <tr>\n",
              "      <th>4</th>\n",
              "      <td>0.08333</td>\n",
              "      <td>0.31781</td>\n",
              "      <td>0.16618</td>\n",
              "      <td>0.11842</td>\n",
              "    </tr>\n",
              "  </tbody>\n",
              "</table>\n",
              "</div>"
            ],
            "text/plain": [
              "      age  mp_per_g  pts_per_g  trb_per_g\n",
              "0 0.29167   0.70411    0.31778    0.61184\n",
              "1 0.12500   0.89315    0.46356    0.67105\n",
              "2 0.62500   0.87945    0.55102    0.48684\n",
              "3 0.16667   0.15068    0.02915    0.09868\n",
              "4 0.08333   0.31781    0.16618    0.11842"
            ]
          },
          "execution_count": 19,
          "metadata": {},
          "output_type": "execute_result"
        }
      ],
      "source": [
        "#Podemos aplicar la función sobre las variables con la función apply\n",
        "nba_normalizadas = nba.loc[:,['age', 'mp_per_g', 'pts_per_g', 'trb_per_g']].apply(normalizar_var)\n",
        "nba_normalizadas.head()"
      ]
    },
    {
      "cell_type": "code",
      "execution_count": 20,
      "metadata": {
        "id": "MnB2UC7ixcP4"
      },
      "outputs": [],
      "source": [
        "# Agregamos el jugador y posicion\n",
        "nba_normalizadas['jugador'] = nba.player\n",
        "nba_normalizadas['posicion'] = nba.position"
      ]
    },
    {
      "cell_type": "markdown",
      "metadata": {
        "id": "NQUK2dhOx0vg"
      },
      "source": [
        "### Comparar a LeBron James contra James Harden, Stephen Curry, Rudy Gobert, Rajon Rondo y Kyle Kuzma en base a los minutos, puntos y rebotes"
      ]
    },
    {
      "cell_type": "code",
      "execution_count": 21,
      "metadata": {
        "colab": {
          "base_uri": "https://localhost:8080/"
        },
        "id": "67PwDmDnxtvo",
        "outputId": "cf406b5f-cd92-4163-a132-8e794daee5c5"
      },
      "outputs": [
        {
          "name": "stdout",
          "output_type": "stream",
          "text": [
            "La distancia entre LeBron James y James Harden es: 0.27891083271707096\n",
            "La distancia entre LeBron James y Stephen Curry es: 0.2849200224297243\n",
            "La distancia entre LeBron James y Rudy Gobert es: 0.4786701325040268\n",
            "La distancia entre LeBron James y Rajon Rondo es: 0.7283550607248114\n",
            "La distancia entre LeBron James y Kyle Kuzma es: 0.4991204359549616\n"
          ]
        }
      ],
      "source": [
        "# Definimos la lista de comparacion\n",
        "lista_comparacion = [\"James Harden\", \"Stephen Curry\", \"Rudy Gobert\", \"Rajon Rondo\", \"Kyle Kuzma\"]\n",
        "\n",
        "# Definimos el loop\n",
        "for jugador in lista_comparacion:\n",
        "  distancia = medir_distancias(nba_normalizadas, 'LeBron James', jugador, ['mp_per_g', 'pts_per_g', 'trb_per_g'])\n",
        "  print(f\"La distancia entre LeBron James y {jugador} es: {distancia}\")"
      ]
    },
    {
      "cell_type": "markdown",
      "metadata": {
        "id": "oQW6aQfKyZ4x"
      },
      "source": [
        "Observamos que segun esta forma de escalar el jugador mas parecido a LeBron es James Harden mientras que con la estandarizacion el más parecido es Stephen Curry"
      ]
    }
  ],
  "metadata": {
    "colab": {
      "collapsed_sections": [
        "wV-T3zcMzk_W",
        "WRYCIvkmxbjO",
        "VGtuBHOey1x7",
        "K0B8Zwtrraqp",
        "QkHGqnj7raj8",
        "GMJkrdpFu93Q",
        "HKkl-uSLvu6v",
        "vARjfI_ry0YK",
        "DpbyKEDdHqOq"
      ],
      "name": "escalamiento_practica_resuelta.ipynb",
      "provenance": []
    },
    "kernelspec": {
      "display_name": "Python 3",
      "name": "python3"
    },
    "language_info": {
      "codemirror_mode": {
        "name": "ipython",
        "version": 3
      },
      "file_extension": ".py",
      "mimetype": "text/x-python",
      "name": "python",
      "nbconvert_exporter": "python",
      "pygments_lexer": "ipython3",
      "version": "3.12.3"
    }
  },
  "nbformat": 4,
  "nbformat_minor": 0
}
