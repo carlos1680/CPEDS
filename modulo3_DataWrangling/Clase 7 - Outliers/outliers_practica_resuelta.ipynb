{
  "nbformat": 4,
  "nbformat_minor": 0,
  "metadata": {
    "colab": {
      "name": "outliers_practica_resuelta.ipynb",
      "provenance": [],
      "collapsed_sections": [
        "wV-T3zcMzk_W",
        "WRYCIvkmxbjO",
        "VGtuBHOey1x7",
        "K0B8Zwtrraqp",
        "QkHGqnj7raj8",
        "GMJkrdpFu93Q",
        "HKkl-uSLvu6v",
        "vARjfI_ry0YK",
        "DpbyKEDdHqOq"
      ]
    },
    "kernelspec": {
      "name": "python3",
      "display_name": "Python 3"
    },
    "language_info": {
      "name": "python"
    }
  },
  "cells": [
    {
      "cell_type": "code",
      "metadata": {
        "id": "3mQlBALNv6Gr"
      },
      "source": [
        "import pandas as pd\n",
        "import numpy as np\n",
        "import matplotlib.pyplot as plt\n",
        "import seaborn as sns\n",
        "pd.options.display.float_format = '{:.5f}'.format\n",
        "pd.options.mode.chained_assignment = None"
      ],
      "execution_count": null,
      "outputs": []
    },
    {
      "cell_type": "markdown",
      "metadata": {
        "id": "wV-T3zcMzk_W"
      },
      "source": [
        "# 1. Dataset\n",
        "\n",
        "Vamos a trabajar con un dataset información de distintos modelos de autos\n",
        "\n",
        "El dataset contiene las siguientes variables:\n",
        "\n",
        "* **mpg**: millas por galon\n",
        "* **cylinders**: cantidad de cilindros\n",
        "* **displacement**: cilindrada (volumen util de los cilindros)\n",
        "* **horsepower**: caballos de fuerza\n",
        "* **weight**: peso\n",
        "* **acceleration**: aceleración\n",
        "* **model_year**: año del modelo\n",
        "* **origin**: país de origen\n",
        "* **name**:nombre del modelo"
      ]
    },
    {
      "cell_type": "code",
      "metadata": {
        "id": "NtooRDF0wEvp",
        "colab": {
          "base_uri": "https://localhost:8080/",
          "height": 363
        },
        "outputId": "1b7e95fa-ede1-49f7-8aef-8bce51f11c5c"
      },
      "source": [
        "# Cargamos el dataset desde el link\n",
        "autos = sns.load_dataset('mpg')\n",
        "# Vemos 10 registros al azar\n",
        "autos.sample(10)"
      ],
      "execution_count": null,
      "outputs": [
        {
          "output_type": "execute_result",
          "data": {
            "text/html": [
              "<div>\n",
              "<style scoped>\n",
              "    .dataframe tbody tr th:only-of-type {\n",
              "        vertical-align: middle;\n",
              "    }\n",
              "\n",
              "    .dataframe tbody tr th {\n",
              "        vertical-align: top;\n",
              "    }\n",
              "\n",
              "    .dataframe thead th {\n",
              "        text-align: right;\n",
              "    }\n",
              "</style>\n",
              "<table border=\"1\" class=\"dataframe\">\n",
              "  <thead>\n",
              "    <tr style=\"text-align: right;\">\n",
              "      <th></th>\n",
              "      <th>mpg</th>\n",
              "      <th>cylinders</th>\n",
              "      <th>displacement</th>\n",
              "      <th>horsepower</th>\n",
              "      <th>weight</th>\n",
              "      <th>acceleration</th>\n",
              "      <th>model_year</th>\n",
              "      <th>origin</th>\n",
              "      <th>name</th>\n",
              "    </tr>\n",
              "  </thead>\n",
              "  <tbody>\n",
              "    <tr>\n",
              "      <th>286</th>\n",
              "      <td>17.60000</td>\n",
              "      <td>8</td>\n",
              "      <td>302.00000</td>\n",
              "      <td>129.00000</td>\n",
              "      <td>3725</td>\n",
              "      <td>13.40000</td>\n",
              "      <td>79</td>\n",
              "      <td>usa</td>\n",
              "      <td>ford ltd landau</td>\n",
              "    </tr>\n",
              "    <tr>\n",
              "      <th>70</th>\n",
              "      <td>13.00000</td>\n",
              "      <td>8</td>\n",
              "      <td>400.00000</td>\n",
              "      <td>190.00000</td>\n",
              "      <td>4422</td>\n",
              "      <td>12.50000</td>\n",
              "      <td>72</td>\n",
              "      <td>usa</td>\n",
              "      <td>chrysler newport royal</td>\n",
              "    </tr>\n",
              "    <tr>\n",
              "      <th>109</th>\n",
              "      <td>21.00000</td>\n",
              "      <td>4</td>\n",
              "      <td>140.00000</td>\n",
              "      <td>72.00000</td>\n",
              "      <td>2401</td>\n",
              "      <td>19.50000</td>\n",
              "      <td>73</td>\n",
              "      <td>usa</td>\n",
              "      <td>chevrolet vega</td>\n",
              "    </tr>\n",
              "    <tr>\n",
              "      <th>121</th>\n",
              "      <td>15.00000</td>\n",
              "      <td>8</td>\n",
              "      <td>318.00000</td>\n",
              "      <td>150.00000</td>\n",
              "      <td>3399</td>\n",
              "      <td>11.00000</td>\n",
              "      <td>73</td>\n",
              "      <td>usa</td>\n",
              "      <td>dodge dart custom</td>\n",
              "    </tr>\n",
              "    <tr>\n",
              "      <th>336</th>\n",
              "      <td>23.60000</td>\n",
              "      <td>4</td>\n",
              "      <td>140.00000</td>\n",
              "      <td>nan</td>\n",
              "      <td>2905</td>\n",
              "      <td>14.30000</td>\n",
              "      <td>80</td>\n",
              "      <td>usa</td>\n",
              "      <td>ford mustang cobra</td>\n",
              "    </tr>\n",
              "    <tr>\n",
              "      <th>241</th>\n",
              "      <td>22.00000</td>\n",
              "      <td>6</td>\n",
              "      <td>146.00000</td>\n",
              "      <td>97.00000</td>\n",
              "      <td>2815</td>\n",
              "      <td>14.50000</td>\n",
              "      <td>77</td>\n",
              "      <td>japan</td>\n",
              "      <td>datsun 810</td>\n",
              "    </tr>\n",
              "    <tr>\n",
              "      <th>330</th>\n",
              "      <td>40.90000</td>\n",
              "      <td>4</td>\n",
              "      <td>85.00000</td>\n",
              "      <td>nan</td>\n",
              "      <td>1835</td>\n",
              "      <td>17.30000</td>\n",
              "      <td>80</td>\n",
              "      <td>europe</td>\n",
              "      <td>renault lecar deluxe</td>\n",
              "    </tr>\n",
              "    <tr>\n",
              "      <th>133</th>\n",
              "      <td>16.00000</td>\n",
              "      <td>6</td>\n",
              "      <td>250.00000</td>\n",
              "      <td>100.00000</td>\n",
              "      <td>3781</td>\n",
              "      <td>17.00000</td>\n",
              "      <td>74</td>\n",
              "      <td>usa</td>\n",
              "      <td>chevrolet chevelle malibu classic</td>\n",
              "    </tr>\n",
              "    <tr>\n",
              "      <th>306</th>\n",
              "      <td>28.80000</td>\n",
              "      <td>6</td>\n",
              "      <td>173.00000</td>\n",
              "      <td>115.00000</td>\n",
              "      <td>2595</td>\n",
              "      <td>11.30000</td>\n",
              "      <td>79</td>\n",
              "      <td>usa</td>\n",
              "      <td>chevrolet citation</td>\n",
              "    </tr>\n",
              "    <tr>\n",
              "      <th>195</th>\n",
              "      <td>29.00000</td>\n",
              "      <td>4</td>\n",
              "      <td>85.00000</td>\n",
              "      <td>52.00000</td>\n",
              "      <td>2035</td>\n",
              "      <td>22.20000</td>\n",
              "      <td>76</td>\n",
              "      <td>usa</td>\n",
              "      <td>chevrolet chevette</td>\n",
              "    </tr>\n",
              "  </tbody>\n",
              "</table>\n",
              "</div>"
            ],
            "text/plain": [
              "         mpg  cylinders  ...  origin                               name\n",
              "286 17.60000          8  ...     usa                    ford ltd landau\n",
              "70  13.00000          8  ...     usa             chrysler newport royal\n",
              "109 21.00000          4  ...     usa                     chevrolet vega\n",
              "121 15.00000          8  ...     usa                  dodge dart custom\n",
              "336 23.60000          4  ...     usa                 ford mustang cobra\n",
              "241 22.00000          6  ...   japan                         datsun 810\n",
              "330 40.90000          4  ...  europe               renault lecar deluxe\n",
              "133 16.00000          6  ...     usa  chevrolet chevelle malibu classic\n",
              "306 28.80000          6  ...     usa                 chevrolet citation\n",
              "195 29.00000          4  ...     usa                 chevrolet chevette\n",
              "\n",
              "[10 rows x 9 columns]"
            ]
          },
          "metadata": {
            "tags": []
          },
          "execution_count": 2
        }
      ]
    },
    {
      "cell_type": "code",
      "metadata": {
        "colab": {
          "base_uri": "https://localhost:8080/"
        },
        "id": "FjefrvDify6d",
        "outputId": "a635f7a4-9ec9-406b-858f-4bcc5d489f5b"
      },
      "source": [
        "# Cantidad de registros\n",
        "autos.shape"
      ],
      "execution_count": null,
      "outputs": [
        {
          "output_type": "execute_result",
          "data": {
            "text/plain": [
              "(398, 9)"
            ]
          },
          "metadata": {
            "tags": []
          },
          "execution_count": 5
        }
      ]
    },
    {
      "cell_type": "markdown",
      "metadata": {
        "id": "cbQG7HgOWEWc"
      },
      "source": [
        "# 2. Objetivo: detectar autos atípicos\n",
        "\n",
        "Nuestro cliente es una concesionaria que se especializa en autos antiguos y quiere saber cuales de estos autos son atípicos en las variables de mpg, horsepower, weight y acceleration"
      ]
    },
    {
      "cell_type": "code",
      "metadata": {
        "id": "e3WRILWh5x87"
      },
      "source": [
        "# Variables relevantes\n",
        "lista_variables = ['mpg', 'horsepower', 'weight', 'acceleration']"
      ],
      "execution_count": null,
      "outputs": []
    },
    {
      "cell_type": "markdown",
      "metadata": {
        "id": "Me1Gv12wgYRS"
      },
      "source": [
        "## 2.1 Escala de las variables\n",
        "\n",
        "Evaluemos la escala de las variables y su distribución"
      ]
    },
    {
      "cell_type": "markdown",
      "metadata": {
        "id": "FA68MRszeG3h"
      },
      "source": [
        "Primero, observemos los estadísticos descriptivos de las variables"
      ]
    },
    {
      "cell_type": "code",
      "metadata": {
        "colab": {
          "base_uri": "https://localhost:8080/",
          "height": 300
        },
        "id": "H3qpwwisz79l",
        "outputId": "1b071bee-0ec9-4c62-d0d5-4916e8a12c18"
      },
      "source": [
        "# Observar la distribución de las variables\n",
        "autos[lista_variables].describe()"
      ],
      "execution_count": null,
      "outputs": [
        {
          "output_type": "execute_result",
          "data": {
            "text/html": [
              "<div>\n",
              "<style scoped>\n",
              "    .dataframe tbody tr th:only-of-type {\n",
              "        vertical-align: middle;\n",
              "    }\n",
              "\n",
              "    .dataframe tbody tr th {\n",
              "        vertical-align: top;\n",
              "    }\n",
              "\n",
              "    .dataframe thead th {\n",
              "        text-align: right;\n",
              "    }\n",
              "</style>\n",
              "<table border=\"1\" class=\"dataframe\">\n",
              "  <thead>\n",
              "    <tr style=\"text-align: right;\">\n",
              "      <th></th>\n",
              "      <th>mpg</th>\n",
              "      <th>horsepower</th>\n",
              "      <th>weight</th>\n",
              "      <th>acceleration</th>\n",
              "    </tr>\n",
              "  </thead>\n",
              "  <tbody>\n",
              "    <tr>\n",
              "      <th>count</th>\n",
              "      <td>398.00000</td>\n",
              "      <td>392.00000</td>\n",
              "      <td>398.00000</td>\n",
              "      <td>398.00000</td>\n",
              "    </tr>\n",
              "    <tr>\n",
              "      <th>mean</th>\n",
              "      <td>23.51457</td>\n",
              "      <td>104.46939</td>\n",
              "      <td>2970.42462</td>\n",
              "      <td>15.56809</td>\n",
              "    </tr>\n",
              "    <tr>\n",
              "      <th>std</th>\n",
              "      <td>7.81598</td>\n",
              "      <td>38.49116</td>\n",
              "      <td>846.84177</td>\n",
              "      <td>2.75769</td>\n",
              "    </tr>\n",
              "    <tr>\n",
              "      <th>min</th>\n",
              "      <td>9.00000</td>\n",
              "      <td>46.00000</td>\n",
              "      <td>1613.00000</td>\n",
              "      <td>8.00000</td>\n",
              "    </tr>\n",
              "    <tr>\n",
              "      <th>25%</th>\n",
              "      <td>17.50000</td>\n",
              "      <td>75.00000</td>\n",
              "      <td>2223.75000</td>\n",
              "      <td>13.82500</td>\n",
              "    </tr>\n",
              "    <tr>\n",
              "      <th>50%</th>\n",
              "      <td>23.00000</td>\n",
              "      <td>93.50000</td>\n",
              "      <td>2803.50000</td>\n",
              "      <td>15.50000</td>\n",
              "    </tr>\n",
              "    <tr>\n",
              "      <th>75%</th>\n",
              "      <td>29.00000</td>\n",
              "      <td>126.00000</td>\n",
              "      <td>3608.00000</td>\n",
              "      <td>17.17500</td>\n",
              "    </tr>\n",
              "    <tr>\n",
              "      <th>max</th>\n",
              "      <td>46.60000</td>\n",
              "      <td>230.00000</td>\n",
              "      <td>5140.00000</td>\n",
              "      <td>24.80000</td>\n",
              "    </tr>\n",
              "  </tbody>\n",
              "</table>\n",
              "</div>"
            ],
            "text/plain": [
              "            mpg  horsepower     weight  acceleration\n",
              "count 398.00000   392.00000  398.00000     398.00000\n",
              "mean   23.51457   104.46939 2970.42462      15.56809\n",
              "std     7.81598    38.49116  846.84177       2.75769\n",
              "min     9.00000    46.00000 1613.00000       8.00000\n",
              "25%    17.50000    75.00000 2223.75000      13.82500\n",
              "50%    23.00000    93.50000 2803.50000      15.50000\n",
              "75%    29.00000   126.00000 3608.00000      17.17500\n",
              "max    46.60000   230.00000 5140.00000      24.80000"
            ]
          },
          "metadata": {
            "tags": []
          },
          "execution_count": 4
        }
      ]
    },
    {
      "cell_type": "code",
      "metadata": {
        "id": "qwfQqTSqNnk0"
      },
      "source": [
        "autos = autos[autos['horsepower'].isnull()]"
      ],
      "execution_count": null,
      "outputs": []
    },
    {
      "cell_type": "code",
      "metadata": {
        "id": "hM8MxVvpPSTG",
        "outputId": "7cf6b693-855e-4e55-e5fa-2ecb0604f694",
        "colab": {
          "base_uri": "https://localhost:8080/",
          "height": 237
        }
      },
      "source": [
        "autos"
      ],
      "execution_count": null,
      "outputs": [
        {
          "output_type": "execute_result",
          "data": {
            "text/html": [
              "<div>\n",
              "<style scoped>\n",
              "    .dataframe tbody tr th:only-of-type {\n",
              "        vertical-align: middle;\n",
              "    }\n",
              "\n",
              "    .dataframe tbody tr th {\n",
              "        vertical-align: top;\n",
              "    }\n",
              "\n",
              "    .dataframe thead th {\n",
              "        text-align: right;\n",
              "    }\n",
              "</style>\n",
              "<table border=\"1\" class=\"dataframe\">\n",
              "  <thead>\n",
              "    <tr style=\"text-align: right;\">\n",
              "      <th></th>\n",
              "      <th>mpg</th>\n",
              "      <th>cylinders</th>\n",
              "      <th>displacement</th>\n",
              "      <th>horsepower</th>\n",
              "      <th>weight</th>\n",
              "      <th>acceleration</th>\n",
              "      <th>model_year</th>\n",
              "      <th>origin</th>\n",
              "      <th>name</th>\n",
              "    </tr>\n",
              "  </thead>\n",
              "  <tbody>\n",
              "    <tr>\n",
              "      <th>32</th>\n",
              "      <td>25.00000</td>\n",
              "      <td>4</td>\n",
              "      <td>98.00000</td>\n",
              "      <td>nan</td>\n",
              "      <td>2046</td>\n",
              "      <td>19.00000</td>\n",
              "      <td>71</td>\n",
              "      <td>usa</td>\n",
              "      <td>ford pinto</td>\n",
              "    </tr>\n",
              "    <tr>\n",
              "      <th>126</th>\n",
              "      <td>21.00000</td>\n",
              "      <td>6</td>\n",
              "      <td>200.00000</td>\n",
              "      <td>nan</td>\n",
              "      <td>2875</td>\n",
              "      <td>17.00000</td>\n",
              "      <td>74</td>\n",
              "      <td>usa</td>\n",
              "      <td>ford maverick</td>\n",
              "    </tr>\n",
              "    <tr>\n",
              "      <th>330</th>\n",
              "      <td>40.90000</td>\n",
              "      <td>4</td>\n",
              "      <td>85.00000</td>\n",
              "      <td>nan</td>\n",
              "      <td>1835</td>\n",
              "      <td>17.30000</td>\n",
              "      <td>80</td>\n",
              "      <td>europe</td>\n",
              "      <td>renault lecar deluxe</td>\n",
              "    </tr>\n",
              "    <tr>\n",
              "      <th>336</th>\n",
              "      <td>23.60000</td>\n",
              "      <td>4</td>\n",
              "      <td>140.00000</td>\n",
              "      <td>nan</td>\n",
              "      <td>2905</td>\n",
              "      <td>14.30000</td>\n",
              "      <td>80</td>\n",
              "      <td>usa</td>\n",
              "      <td>ford mustang cobra</td>\n",
              "    </tr>\n",
              "    <tr>\n",
              "      <th>354</th>\n",
              "      <td>34.50000</td>\n",
              "      <td>4</td>\n",
              "      <td>100.00000</td>\n",
              "      <td>nan</td>\n",
              "      <td>2320</td>\n",
              "      <td>15.80000</td>\n",
              "      <td>81</td>\n",
              "      <td>europe</td>\n",
              "      <td>renault 18i</td>\n",
              "    </tr>\n",
              "    <tr>\n",
              "      <th>374</th>\n",
              "      <td>23.00000</td>\n",
              "      <td>4</td>\n",
              "      <td>151.00000</td>\n",
              "      <td>nan</td>\n",
              "      <td>3035</td>\n",
              "      <td>20.50000</td>\n",
              "      <td>82</td>\n",
              "      <td>usa</td>\n",
              "      <td>amc concord dl</td>\n",
              "    </tr>\n",
              "  </tbody>\n",
              "</table>\n",
              "</div>"
            ],
            "text/plain": [
              "         mpg  cylinders  displacement  ...  model_year  origin                  name\n",
              "32  25.00000          4      98.00000  ...          71     usa            ford pinto\n",
              "126 21.00000          6     200.00000  ...          74     usa         ford maverick\n",
              "330 40.90000          4      85.00000  ...          80  europe  renault lecar deluxe\n",
              "336 23.60000          4     140.00000  ...          80     usa    ford mustang cobra\n",
              "354 34.50000          4     100.00000  ...          81  europe           renault 18i\n",
              "374 23.00000          4     151.00000  ...          82     usa        amc concord dl\n",
              "\n",
              "[6 rows x 9 columns]"
            ]
          },
          "metadata": {
            "tags": []
          },
          "execution_count": 19
        }
      ]
    },
    {
      "cell_type": "markdown",
      "metadata": {
        "id": "nb-dQkdBvtnJ"
      },
      "source": [
        "¿Qué observamos con estos datos?\n",
        "\n",
        "Son todas variables que se miden en unidades distintas. Las variables de peso y caballos de fuerza parecen tener un rango bastante amplio.\n",
        "\n"
      ]
    },
    {
      "cell_type": "markdown",
      "metadata": {
        "id": "9xZo7f8MjMcl"
      },
      "source": [
        "# 3. Detección de outliers univariados\n",
        "\n",
        "El método para detectar outliers que hemos visto consiste en estandarizar la variable y catalogar como outlier a aquellas observaciones cuyo z-score que superen, en valor absoluto, un límite (usualmente de 3).\n",
        "\n",
        "Entonces el primer paso será estandarizar las variables con la fórmula:\n",
        "\n",
        "$ x_e = \\frac{x-\\overline{X}}{\\sigma_X}$\n"
      ]
    },
    {
      "cell_type": "code",
      "metadata": {
        "id": "itwm0GIuTgM3"
      },
      "source": [
        "# Funcion para estandarizar\n",
        "def estandarizar_var(X):\n",
        "  promedio = np.mean(X)\n",
        "  desvio = np.std(X)\n",
        "  X_estandarizada = (X-promedio)/desvio\n",
        "  return X_estandarizada"
      ],
      "execution_count": null,
      "outputs": []
    },
    {
      "cell_type": "code",
      "metadata": {
        "colab": {
          "base_uri": "https://localhost:8080/",
          "height": 206
        },
        "id": "fGCkpfXfTXIl",
        "outputId": "31fadd0f-4499-429c-95be-994687e5b5bb"
      },
      "source": [
        "#Aplicar la función sobre las variables \n",
        "autos_estandarizadas = autos.loc[:,lista_variables].apply(estandarizar_var)\n",
        "autos_estandarizadas['name'] = autos.name\n",
        "autos_estandarizadas.head()"
      ],
      "execution_count": null,
      "outputs": [
        {
          "output_type": "execute_result",
          "data": {
            "text/html": [
              "<div>\n",
              "<style scoped>\n",
              "    .dataframe tbody tr th:only-of-type {\n",
              "        vertical-align: middle;\n",
              "    }\n",
              "\n",
              "    .dataframe tbody tr th {\n",
              "        vertical-align: top;\n",
              "    }\n",
              "\n",
              "    .dataframe thead th {\n",
              "        text-align: right;\n",
              "    }\n",
              "</style>\n",
              "<table border=\"1\" class=\"dataframe\">\n",
              "  <thead>\n",
              "    <tr style=\"text-align: right;\">\n",
              "      <th></th>\n",
              "      <th>mpg</th>\n",
              "      <th>horsepower</th>\n",
              "      <th>weight</th>\n",
              "      <th>acceleration</th>\n",
              "      <th>name</th>\n",
              "    </tr>\n",
              "  </thead>\n",
              "  <tbody>\n",
              "    <tr>\n",
              "      <th>0</th>\n",
              "      <td>-0.70644</td>\n",
              "      <td>0.66413</td>\n",
              "      <td>0.63087</td>\n",
              "      <td>-1.29550</td>\n",
              "      <td>chevrolet chevelle malibu</td>\n",
              "    </tr>\n",
              "    <tr>\n",
              "      <th>1</th>\n",
              "      <td>-1.09075</td>\n",
              "      <td>1.57459</td>\n",
              "      <td>0.85433</td>\n",
              "      <td>-1.47704</td>\n",
              "      <td>buick skylark 320</td>\n",
              "    </tr>\n",
              "    <tr>\n",
              "      <th>2</th>\n",
              "      <td>-0.70644</td>\n",
              "      <td>1.18440</td>\n",
              "      <td>0.55047</td>\n",
              "      <td>-1.65858</td>\n",
              "      <td>plymouth satellite</td>\n",
              "    </tr>\n",
              "    <tr>\n",
              "      <th>3</th>\n",
              "      <td>-0.96265</td>\n",
              "      <td>1.18440</td>\n",
              "      <td>0.54692</td>\n",
              "      <td>-1.29550</td>\n",
              "      <td>amc rebel sst</td>\n",
              "    </tr>\n",
              "    <tr>\n",
              "      <th>4</th>\n",
              "      <td>-0.83454</td>\n",
              "      <td>0.92426</td>\n",
              "      <td>0.56584</td>\n",
              "      <td>-1.84012</td>\n",
              "      <td>ford torino</td>\n",
              "    </tr>\n",
              "  </tbody>\n",
              "</table>\n",
              "</div>"
            ],
            "text/plain": [
              "       mpg  horsepower  weight  acceleration                       name\n",
              "0 -0.70644     0.66413 0.63087      -1.29550  chevrolet chevelle malibu\n",
              "1 -1.09075     1.57459 0.85433      -1.47704          buick skylark 320\n",
              "2 -0.70644     1.18440 0.55047      -1.65858         plymouth satellite\n",
              "3 -0.96265     1.18440 0.54692      -1.29550              amc rebel sst\n",
              "4 -0.83454     0.92426 0.56584      -1.84012                ford torino"
            ]
          },
          "metadata": {
            "tags": []
          },
          "execution_count": 9
        }
      ]
    },
    {
      "cell_type": "markdown",
      "metadata": {
        "id": "kdb13h-MRAX4"
      },
      "source": [
        "## 3.1 Gráficos\n",
        "\n",
        "Realizamos los histogramas de las variables para observar su distribución"
      ]
    },
    {
      "cell_type": "code",
      "metadata": {
        "colab": {
          "base_uri": "https://localhost:8080/",
          "height": 1000
        },
        "id": "onnq8e1PBvhj",
        "outputId": "97d710f2-5bc2-42b7-8118-ce295c048763"
      },
      "source": [
        "# Realizamos un loop sobre las variables\n",
        "for variable in lista_variables:\n",
        "  # Histograma de la variable\n",
        "  plt.hist(autos_estandarizadas[variable], bins=40, ec='black')\n",
        "  # Titulo del gráfico\n",
        "  plt.title(f\"Distribución de {variable}\")\n",
        "  plt.show()"
      ],
      "execution_count": null,
      "outputs": [
        {
          "output_type": "display_data",
          "data": {
            "image/png": "[encoded data removed]",
            "text/plain": [
              "<Figure size 432x288 with 1 Axes>"
            ]
          },
          "metadata": {
            "tags": [],
            "needs_background": "light"
          }
        },
        {
          "output_type": "display_data",
          "data": {
            "image/png": "[encoded data removed]",
            "text/plain": [
              "<Figure size 432x288 with 1 Axes>"
            ]
          },
          "metadata": {
            "tags": [],
            "needs_background": "light"
          }
        },
        {
          "output_type": "display_data",
          "data": {
            "image/png": "[encoded data removed]",
            "text/plain": [
              "<Figure size 432x288 with 1 Axes>"
            ]
          },
          "metadata": {
            "tags": [],
            "needs_background": "light"
          }
        },
        {
          "output_type": "display_data",
          "data": {
            "image/png": "[encoded data removed]",
            "text/plain": [
              "<Figure size 432x288 with 1 Axes>"
            ]
          },
          "metadata": {
            "tags": [],
            "needs_background": "light"
          }
        }
      ]
    },
    {
      "cell_type": "markdown",
      "metadata": {
        "id": "w58Z2yLU0VZh"
      },
      "source": [
        "¿Qué observamos en estos gráficos?\n",
        "\n",
        "La variable de aceleración tiene una distribución que se aproxima a una normal, las otras 3 variables no parecen aproximarse mucho a distribuciones normales. "
      ]
    },
    {
      "cell_type": "markdown",
      "metadata": {
        "id": "gYUuxO50Fi3j"
      },
      "source": [
        "## 3.2 Criterio analitico\n",
        "\n",
        "El cliente considera que para detectar autos atipicos en determinadas variables debe usarse un valor de 2.5.\n",
        "\n",
        "Ahora hay que proceder a detectar cuáles autos son outliers en estas 4 variables. El resultado que se presenta debe incluir el nombre/modelo del auto y el valor real de la variable analizada (no el valor estandarizado)"
      ]
    },
    {
      "cell_type": "code",
      "metadata": {
        "id": "eXa29zVWphCN"
      },
      "source": [
        "# Función para detectar outliers\n",
        "def detectar_outliers(df_estandarizado, valor_limite, variable):\n",
        "  outliers = df_estandarizado.loc[np.abs(df_estandarizado[variable])>valor_limite, 'name'].to_list()\n",
        "  return outliers"
      ],
      "execution_count": null,
      "outputs": []
    },
    {
      "cell_type": "code",
      "metadata": {
        "id": "SF8QWdIAbJVg"
      },
      "source": [
        "# Función para devolver el auto con el valor de la variable\n",
        "def detectar_outliers_estadisticas(df, df_estandarizado, valor_limite, variable):\n",
        "  outliers = detectar_outliers(df_estandarizado, valor_limite, variable)\n",
        "  df_outliers = df.loc[df['name'].isin(outliers), ['name',variable]]\n",
        "  return df_outliers"
      ],
      "execution_count": null,
      "outputs": []
    },
    {
      "cell_type": "markdown",
      "metadata": {
        "id": "EmrYHQyr3V4J"
      },
      "source": [
        "Detección de los outliers"
      ]
    },
    {
      "cell_type": "code",
      "metadata": {
        "colab": {
          "base_uri": "https://localhost:8080/",
          "height": 237
        },
        "id": "MuRka-Vvb60D",
        "outputId": "43be75c4-ff3f-4ebc-d51a-55a282cbcb64"
      },
      "source": [
        "# Outliers de mpg\n",
        "detectar_outliers_estadisticas(autos, autos_estandarizadas, 2.5, 'mpg')"
      ],
      "execution_count": null,
      "outputs": [
        {
          "output_type": "execute_result",
          "data": {
            "text/html": [
              "<div>\n",
              "<style scoped>\n",
              "    .dataframe tbody tr th:only-of-type {\n",
              "        vertical-align: middle;\n",
              "    }\n",
              "\n",
              "    .dataframe tbody tr th {\n",
              "        vertical-align: top;\n",
              "    }\n",
              "\n",
              "    .dataframe thead th {\n",
              "        text-align: right;\n",
              "    }\n",
              "</style>\n",
              "<table border=\"1\" class=\"dataframe\">\n",
              "  <thead>\n",
              "    <tr style=\"text-align: right;\">\n",
              "      <th></th>\n",
              "      <th>name</th>\n",
              "      <th>mpg</th>\n",
              "    </tr>\n",
              "  </thead>\n",
              "  <tbody>\n",
              "    <tr>\n",
              "      <th>244</th>\n",
              "      <td>volkswagen rabbit custom diesel</td>\n",
              "      <td>43.10000</td>\n",
              "    </tr>\n",
              "    <tr>\n",
              "      <th>322</th>\n",
              "      <td>mazda glc</td>\n",
              "      <td>46.60000</td>\n",
              "    </tr>\n",
              "    <tr>\n",
              "      <th>325</th>\n",
              "      <td>vw rabbit c (diesel)</td>\n",
              "      <td>44.30000</td>\n",
              "    </tr>\n",
              "    <tr>\n",
              "      <th>326</th>\n",
              "      <td>vw dasher (diesel)</td>\n",
              "      <td>43.40000</td>\n",
              "    </tr>\n",
              "    <tr>\n",
              "      <th>329</th>\n",
              "      <td>honda civic 1500 gl</td>\n",
              "      <td>44.60000</td>\n",
              "    </tr>\n",
              "    <tr>\n",
              "      <th>394</th>\n",
              "      <td>vw pickup</td>\n",
              "      <td>44.00000</td>\n",
              "    </tr>\n",
              "  </tbody>\n",
              "</table>\n",
              "</div>"
            ],
            "text/plain": [
              "                                name      mpg\n",
              "244  volkswagen rabbit custom diesel 43.10000\n",
              "322                        mazda glc 46.60000\n",
              "325             vw rabbit c (diesel) 44.30000\n",
              "326               vw dasher (diesel) 43.40000\n",
              "329              honda civic 1500 gl 44.60000\n",
              "394                        vw pickup 44.00000"
            ]
          },
          "metadata": {
            "tags": []
          },
          "execution_count": 13
        }
      ]
    },
    {
      "cell_type": "code",
      "metadata": {
        "colab": {
          "base_uri": "https://localhost:8080/",
          "height": 426
        },
        "id": "CaVaAwTfcHsZ",
        "outputId": "dbd90a5f-dae3-4d7e-8854-2203bb9c74c6"
      },
      "source": [
        "# Outliers de acceleration\n",
        "detectar_outliers_estadisticas(autos, autos_estandarizadas, 2.5, 'acceleration')"
      ],
      "execution_count": null,
      "outputs": [
        {
          "output_type": "execute_result",
          "data": {
            "text/html": [
              "<div>\n",
              "<style scoped>\n",
              "    .dataframe tbody tr th:only-of-type {\n",
              "        vertical-align: middle;\n",
              "    }\n",
              "\n",
              "    .dataframe tbody tr th {\n",
              "        vertical-align: top;\n",
              "    }\n",
              "\n",
              "    .dataframe thead th {\n",
              "        text-align: right;\n",
              "    }\n",
              "</style>\n",
              "<table border=\"1\" class=\"dataframe\">\n",
              "  <thead>\n",
              "    <tr style=\"text-align: right;\">\n",
              "      <th></th>\n",
              "      <th>name</th>\n",
              "      <th>acceleration</th>\n",
              "    </tr>\n",
              "  </thead>\n",
              "  <tbody>\n",
              "    <tr>\n",
              "      <th>7</th>\n",
              "      <td>plymouth fury iii</td>\n",
              "      <td>8.50000</td>\n",
              "    </tr>\n",
              "    <tr>\n",
              "      <th>9</th>\n",
              "      <td>amc ambassador dpl</td>\n",
              "      <td>8.50000</td>\n",
              "    </tr>\n",
              "    <tr>\n",
              "      <th>11</th>\n",
              "      <td>plymouth 'cuda 340</td>\n",
              "      <td>8.00000</td>\n",
              "    </tr>\n",
              "    <tr>\n",
              "      <th>20</th>\n",
              "      <td>peugeot 504</td>\n",
              "      <td>17.50000</td>\n",
              "    </tr>\n",
              "    <tr>\n",
              "      <th>41</th>\n",
              "      <td>plymouth fury iii</td>\n",
              "      <td>13.00000</td>\n",
              "    </tr>\n",
              "    <tr>\n",
              "      <th>59</th>\n",
              "      <td>volkswagen type 3</td>\n",
              "      <td>23.50000</td>\n",
              "    </tr>\n",
              "    <tr>\n",
              "      <th>64</th>\n",
              "      <td>plymouth fury iii</td>\n",
              "      <td>13.50000</td>\n",
              "    </tr>\n",
              "    <tr>\n",
              "      <th>178</th>\n",
              "      <td>peugeot 504</td>\n",
              "      <td>17.00000</td>\n",
              "    </tr>\n",
              "    <tr>\n",
              "      <th>209</th>\n",
              "      <td>peugeot 504</td>\n",
              "      <td>21.90000</td>\n",
              "    </tr>\n",
              "    <tr>\n",
              "      <th>299</th>\n",
              "      <td>peugeot 504</td>\n",
              "      <td>24.80000</td>\n",
              "    </tr>\n",
              "    <tr>\n",
              "      <th>326</th>\n",
              "      <td>vw dasher (diesel)</td>\n",
              "      <td>23.70000</td>\n",
              "    </tr>\n",
              "    <tr>\n",
              "      <th>394</th>\n",
              "      <td>vw pickup</td>\n",
              "      <td>24.60000</td>\n",
              "    </tr>\n",
              "  </tbody>\n",
              "</table>\n",
              "</div>"
            ],
            "text/plain": [
              "                   name  acceleration\n",
              "7     plymouth fury iii       8.50000\n",
              "9    amc ambassador dpl       8.50000\n",
              "11   plymouth 'cuda 340       8.00000\n",
              "20          peugeot 504      17.50000\n",
              "41    plymouth fury iii      13.00000\n",
              "59    volkswagen type 3      23.50000\n",
              "64    plymouth fury iii      13.50000\n",
              "178         peugeot 504      17.00000\n",
              "209         peugeot 504      21.90000\n",
              "299         peugeot 504      24.80000\n",
              "326  vw dasher (diesel)      23.70000\n",
              "394           vw pickup      24.60000"
            ]
          },
          "metadata": {
            "tags": []
          },
          "execution_count": 14
        }
      ]
    },
    {
      "cell_type": "code",
      "metadata": {
        "colab": {
          "base_uri": "https://localhost:8080/",
          "height": 614
        },
        "id": "p4SIPIp-27a0",
        "outputId": "15fb0f59-00d9-4823-b68c-8d0c45385bcd"
      },
      "source": [
        "# Outliers de horsepower\n",
        "detectar_outliers_estadisticas(autos, autos_estandarizadas, 2.5, 'horsepower')"
      ],
      "execution_count": null,
      "outputs": [
        {
          "output_type": "execute_result",
          "data": {
            "text/html": [
              "<div>\n",
              "<style scoped>\n",
              "    .dataframe tbody tr th:only-of-type {\n",
              "        vertical-align: middle;\n",
              "    }\n",
              "\n",
              "    .dataframe tbody tr th {\n",
              "        vertical-align: top;\n",
              "    }\n",
              "\n",
              "    .dataframe thead th {\n",
              "        text-align: right;\n",
              "    }\n",
              "</style>\n",
              "<table border=\"1\" class=\"dataframe\">\n",
              "  <thead>\n",
              "    <tr style=\"text-align: right;\">\n",
              "      <th></th>\n",
              "      <th>name</th>\n",
              "      <th>horsepower</th>\n",
              "    </tr>\n",
              "  </thead>\n",
              "  <tbody>\n",
              "    <tr>\n",
              "      <th>6</th>\n",
              "      <td>chevrolet impala</td>\n",
              "      <td>220.00000</td>\n",
              "    </tr>\n",
              "    <tr>\n",
              "      <th>7</th>\n",
              "      <td>plymouth fury iii</td>\n",
              "      <td>215.00000</td>\n",
              "    </tr>\n",
              "    <tr>\n",
              "      <th>8</th>\n",
              "      <td>pontiac catalina</td>\n",
              "      <td>225.00000</td>\n",
              "    </tr>\n",
              "    <tr>\n",
              "      <th>13</th>\n",
              "      <td>buick estate wagon (sw)</td>\n",
              "      <td>225.00000</td>\n",
              "    </tr>\n",
              "    <tr>\n",
              "      <th>25</th>\n",
              "      <td>ford f250</td>\n",
              "      <td>215.00000</td>\n",
              "    </tr>\n",
              "    <tr>\n",
              "      <th>27</th>\n",
              "      <td>dodge d200</td>\n",
              "      <td>210.00000</td>\n",
              "    </tr>\n",
              "    <tr>\n",
              "      <th>38</th>\n",
              "      <td>chevrolet impala</td>\n",
              "      <td>165.00000</td>\n",
              "    </tr>\n",
              "    <tr>\n",
              "      <th>41</th>\n",
              "      <td>plymouth fury iii</td>\n",
              "      <td>150.00000</td>\n",
              "    </tr>\n",
              "    <tr>\n",
              "      <th>62</th>\n",
              "      <td>chevrolet impala</td>\n",
              "      <td>165.00000</td>\n",
              "    </tr>\n",
              "    <tr>\n",
              "      <th>63</th>\n",
              "      <td>pontiac catalina</td>\n",
              "      <td>175.00000</td>\n",
              "    </tr>\n",
              "    <tr>\n",
              "      <th>64</th>\n",
              "      <td>plymouth fury iii</td>\n",
              "      <td>150.00000</td>\n",
              "    </tr>\n",
              "    <tr>\n",
              "      <th>67</th>\n",
              "      <td>mercury marquis</td>\n",
              "      <td>208.00000</td>\n",
              "    </tr>\n",
              "    <tr>\n",
              "      <th>94</th>\n",
              "      <td>chrysler new yorker brougham</td>\n",
              "      <td>215.00000</td>\n",
              "    </tr>\n",
              "    <tr>\n",
              "      <th>95</th>\n",
              "      <td>buick electra 225 custom</td>\n",
              "      <td>225.00000</td>\n",
              "    </tr>\n",
              "    <tr>\n",
              "      <th>103</th>\n",
              "      <td>chevrolet impala</td>\n",
              "      <td>150.00000</td>\n",
              "    </tr>\n",
              "    <tr>\n",
              "      <th>116</th>\n",
              "      <td>pontiac grand prix</td>\n",
              "      <td>230.00000</td>\n",
              "    </tr>\n",
              "    <tr>\n",
              "      <th>156</th>\n",
              "      <td>pontiac catalina</td>\n",
              "      <td>170.00000</td>\n",
              "    </tr>\n",
              "    <tr>\n",
              "      <th>289</th>\n",
              "      <td>buick estate wagon (sw)</td>\n",
              "      <td>155.00000</td>\n",
              "    </tr>\n",
              "  </tbody>\n",
              "</table>\n",
              "</div>"
            ],
            "text/plain": [
              "                             name  horsepower\n",
              "6                chevrolet impala   220.00000\n",
              "7               plymouth fury iii   215.00000\n",
              "8                pontiac catalina   225.00000\n",
              "13        buick estate wagon (sw)   225.00000\n",
              "25                      ford f250   215.00000\n",
              "27                     dodge d200   210.00000\n",
              "38               chevrolet impala   165.00000\n",
              "41              plymouth fury iii   150.00000\n",
              "62               chevrolet impala   165.00000\n",
              "63               pontiac catalina   175.00000\n",
              "64              plymouth fury iii   150.00000\n",
              "67                mercury marquis   208.00000\n",
              "94   chrysler new yorker brougham   215.00000\n",
              "95       buick electra 225 custom   225.00000\n",
              "103              chevrolet impala   150.00000\n",
              "116            pontiac grand prix   230.00000\n",
              "156              pontiac catalina   170.00000\n",
              "289       buick estate wagon (sw)   155.00000"
            ]
          },
          "metadata": {
            "tags": []
          },
          "execution_count": 15
        }
      ]
    },
    {
      "cell_type": "code",
      "metadata": {
        "colab": {
          "base_uri": "https://localhost:8080/",
          "height": 80
        },
        "id": "2MkZ4YiiQSCg",
        "outputId": "57225295-5fb4-47b2-c39b-f34d979e4064"
      },
      "source": [
        "# Outliers de weight\n",
        "detectar_outliers_estadisticas(autos, autos_estandarizadas, 2.5, 'weight')"
      ],
      "execution_count": null,
      "outputs": [
        {
          "output_type": "execute_result",
          "data": {
            "text/html": [
              "<div>\n",
              "<style scoped>\n",
              "    .dataframe tbody tr th:only-of-type {\n",
              "        vertical-align: middle;\n",
              "    }\n",
              "\n",
              "    .dataframe tbody tr th {\n",
              "        vertical-align: top;\n",
              "    }\n",
              "\n",
              "    .dataframe thead th {\n",
              "        text-align: right;\n",
              "    }\n",
              "</style>\n",
              "<table border=\"1\" class=\"dataframe\">\n",
              "  <thead>\n",
              "    <tr style=\"text-align: right;\">\n",
              "      <th></th>\n",
              "      <th>name</th>\n",
              "      <th>weight</th>\n",
              "    </tr>\n",
              "  </thead>\n",
              "  <tbody>\n",
              "    <tr>\n",
              "      <th>44</th>\n",
              "      <td>pontiac safari (sw)</td>\n",
              "      <td>5140</td>\n",
              "    </tr>\n",
              "  </tbody>\n",
              "</table>\n",
              "</div>"
            ],
            "text/plain": [
              "                   name  weight\n",
              "44  pontiac safari (sw)    5140"
            ]
          },
          "metadata": {
            "tags": []
          },
          "execution_count": 16
        }
      ]
    },
    {
      "cell_type": "markdown",
      "metadata": {
        "id": "oQC6fsdrtD5P"
      },
      "source": [
        "# Opcional - Realizar un analisis multivariado\n",
        "\n",
        "Buscar dos variables y realizar un analisis multivariado cruzando las dos variables y detectando los outliers de cada grupo!"
      ]
    }
  ]
}