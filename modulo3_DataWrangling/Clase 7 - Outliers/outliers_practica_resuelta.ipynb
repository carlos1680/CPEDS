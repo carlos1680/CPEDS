{
  "cells": [
    {
      "cell_type": "code",
      "execution_count": 1,
      "metadata": {
        "id": "3mQlBALNv6Gr"
      },
      "outputs": [],
      "source": [
        "import pandas as pd\n",
        "import numpy as np\n",
        "import matplotlib.pyplot as plt\n",
        "import seaborn as sns\n",
        "pd.options.display.float_format = '{:.5f}'.format\n",
        "pd.options.mode.chained_assignment = None"
      ]
    },
    {
      "cell_type": "markdown",
      "metadata": {
        "id": "wV-T3zcMzk_W"
      },
      "source": [
        "# 1. Dataset\n",
        "\n",
        "Vamos a trabajar con un dataset información de distintos modelos de autos\n",
        "\n",
        "El dataset contiene las siguientes variables:\n",
        "\n",
        "* **mpg**: millas por galon\n",
        "* **cylinders**: cantidad de cilindros\n",
        "* **displacement**: cilindrada (volumen util de los cilindros)\n",
        "* **horsepower**: caballos de fuerza\n",
        "* **weight**: peso\n",
        "* **acceleration**: aceleración\n",
        "* **model_year**: año del modelo\n",
        "* **origin**: país de origen\n",
        "* **name**:nombre del modelo"
      ]
    },
    {
      "cell_type": "code",
      "execution_count": 2,
      "metadata": {
        "colab": {
          "base_uri": "https://localhost:8080/",
          "height": 363
        },
        "id": "NtooRDF0wEvp",
        "outputId": "1b7e95fa-ede1-49f7-8aef-8bce51f11c5c"
      },
      "outputs": [
        {
          "data": {
            "text/html": [
              "<div>\n",
              "<style scoped>\n",
              "    .dataframe tbody tr th:only-of-type {\n",
              "        vertical-align: middle;\n",
              "    }\n",
              "\n",
              "    .dataframe tbody tr th {\n",
              "        vertical-align: top;\n",
              "    }\n",
              "\n",
              "    .dataframe thead th {\n",
              "        text-align: right;\n",
              "    }\n",
              "</style>\n",
              "<table border=\"1\" class=\"dataframe\">\n",
              "  <thead>\n",
              "    <tr style=\"text-align: right;\">\n",
              "      <th></th>\n",
              "      <th>mpg</th>\n",
              "      <th>cylinders</th>\n",
              "      <th>displacement</th>\n",
              "      <th>horsepower</th>\n",
              "      <th>weight</th>\n",
              "      <th>acceleration</th>\n",
              "      <th>model_year</th>\n",
              "      <th>origin</th>\n",
              "      <th>name</th>\n",
              "    </tr>\n",
              "  </thead>\n",
              "  <tbody>\n",
              "    <tr>\n",
              "      <th>54</th>\n",
              "      <td>35.00000</td>\n",
              "      <td>4</td>\n",
              "      <td>72.00000</td>\n",
              "      <td>69.00000</td>\n",
              "      <td>1613</td>\n",
              "      <td>18.00000</td>\n",
              "      <td>71</td>\n",
              "      <td>japan</td>\n",
              "      <td>datsun 1200</td>\n",
              "    </tr>\n",
              "    <tr>\n",
              "      <th>52</th>\n",
              "      <td>30.00000</td>\n",
              "      <td>4</td>\n",
              "      <td>88.00000</td>\n",
              "      <td>76.00000</td>\n",
              "      <td>2065</td>\n",
              "      <td>14.50000</td>\n",
              "      <td>71</td>\n",
              "      <td>europe</td>\n",
              "      <td>fiat 124b</td>\n",
              "    </tr>\n",
              "    <tr>\n",
              "      <th>24</th>\n",
              "      <td>21.00000</td>\n",
              "      <td>6</td>\n",
              "      <td>199.00000</td>\n",
              "      <td>90.00000</td>\n",
              "      <td>2648</td>\n",
              "      <td>15.00000</td>\n",
              "      <td>70</td>\n",
              "      <td>usa</td>\n",
              "      <td>amc gremlin</td>\n",
              "    </tr>\n",
              "    <tr>\n",
              "      <th>128</th>\n",
              "      <td>15.00000</td>\n",
              "      <td>6</td>\n",
              "      <td>250.00000</td>\n",
              "      <td>100.00000</td>\n",
              "      <td>3336</td>\n",
              "      <td>17.00000</td>\n",
              "      <td>74</td>\n",
              "      <td>usa</td>\n",
              "      <td>chevrolet nova</td>\n",
              "    </tr>\n",
              "    <tr>\n",
              "      <th>136</th>\n",
              "      <td>16.00000</td>\n",
              "      <td>8</td>\n",
              "      <td>302.00000</td>\n",
              "      <td>140.00000</td>\n",
              "      <td>4141</td>\n",
              "      <td>14.00000</td>\n",
              "      <td>74</td>\n",
              "      <td>usa</td>\n",
              "      <td>ford gran torino</td>\n",
              "    </tr>\n",
              "    <tr>\n",
              "      <th>356</th>\n",
              "      <td>32.40000</td>\n",
              "      <td>4</td>\n",
              "      <td>108.00000</td>\n",
              "      <td>75.00000</td>\n",
              "      <td>2350</td>\n",
              "      <td>16.80000</td>\n",
              "      <td>81</td>\n",
              "      <td>japan</td>\n",
              "      <td>toyota corolla</td>\n",
              "    </tr>\n",
              "    <tr>\n",
              "      <th>317</th>\n",
              "      <td>34.30000</td>\n",
              "      <td>4</td>\n",
              "      <td>97.00000</td>\n",
              "      <td>78.00000</td>\n",
              "      <td>2188</td>\n",
              "      <td>15.80000</td>\n",
              "      <td>80</td>\n",
              "      <td>europe</td>\n",
              "      <td>audi 4000</td>\n",
              "    </tr>\n",
              "    <tr>\n",
              "      <th>33</th>\n",
              "      <td>19.00000</td>\n",
              "      <td>6</td>\n",
              "      <td>232.00000</td>\n",
              "      <td>100.00000</td>\n",
              "      <td>2634</td>\n",
              "      <td>13.00000</td>\n",
              "      <td>71</td>\n",
              "      <td>usa</td>\n",
              "      <td>amc gremlin</td>\n",
              "    </tr>\n",
              "    <tr>\n",
              "      <th>164</th>\n",
              "      <td>21.00000</td>\n",
              "      <td>6</td>\n",
              "      <td>231.00000</td>\n",
              "      <td>110.00000</td>\n",
              "      <td>3039</td>\n",
              "      <td>15.00000</td>\n",
              "      <td>75</td>\n",
              "      <td>usa</td>\n",
              "      <td>buick skyhawk</td>\n",
              "    </tr>\n",
              "    <tr>\n",
              "      <th>331</th>\n",
              "      <td>33.80000</td>\n",
              "      <td>4</td>\n",
              "      <td>97.00000</td>\n",
              "      <td>67.00000</td>\n",
              "      <td>2145</td>\n",
              "      <td>18.00000</td>\n",
              "      <td>80</td>\n",
              "      <td>japan</td>\n",
              "      <td>subaru dl</td>\n",
              "    </tr>\n",
              "  </tbody>\n",
              "</table>\n",
              "</div>"
            ],
            "text/plain": [
              "         mpg  cylinders  displacement  horsepower  weight  acceleration  \\\n",
              "54  35.00000          4      72.00000    69.00000    1613      18.00000   \n",
              "52  30.00000          4      88.00000    76.00000    2065      14.50000   \n",
              "24  21.00000          6     199.00000    90.00000    2648      15.00000   \n",
              "128 15.00000          6     250.00000   100.00000    3336      17.00000   \n",
              "136 16.00000          8     302.00000   140.00000    4141      14.00000   \n",
              "356 32.40000          4     108.00000    75.00000    2350      16.80000   \n",
              "317 34.30000          4      97.00000    78.00000    2188      15.80000   \n",
              "33  19.00000          6     232.00000   100.00000    2634      13.00000   \n",
              "164 21.00000          6     231.00000   110.00000    3039      15.00000   \n",
              "331 33.80000          4      97.00000    67.00000    2145      18.00000   \n",
              "\n",
              "     model_year  origin              name  \n",
              "54           71   japan       datsun 1200  \n",
              "52           71  europe         fiat 124b  \n",
              "24           70     usa       amc gremlin  \n",
              "128          74     usa    chevrolet nova  \n",
              "136          74     usa  ford gran torino  \n",
              "356          81   japan    toyota corolla  \n",
              "317          80  europe         audi 4000  \n",
              "33           71     usa       amc gremlin  \n",
              "164          75     usa     buick skyhawk  \n",
              "331          80   japan         subaru dl  "
            ]
          },
          "execution_count": 2,
          "metadata": {},
          "output_type": "execute_result"
        }
      ],
      "source": [
        "# Cargamos el dataset desde el link\n",
        "autos = sns.load_dataset('mpg')\n",
        "# Vemos 10 registros al azar\n",
        "autos.sample(10)"
      ]
    },
    {
      "cell_type": "code",
      "execution_count": 3,
      "metadata": {
        "colab": {
          "base_uri": "https://localhost:8080/"
        },
        "id": "FjefrvDify6d",
        "outputId": "a635f7a4-9ec9-406b-858f-4bcc5d489f5b"
      },
      "outputs": [
        {
          "data": {
            "text/plain": [
              "(398, 9)"
            ]
          },
          "execution_count": 3,
          "metadata": {},
          "output_type": "execute_result"
        }
      ],
      "source": [
        "# Cantidad de registros\n",
        "autos.shape"
      ]
    },
    {
      "cell_type": "markdown",
      "metadata": {
        "id": "cbQG7HgOWEWc"
      },
      "source": [
        "# 2. Objetivo: detectar autos atípicos\n",
        "\n",
        "Nuestro cliente es una concesionaria que se especializa en autos antiguos y quiere saber cuales de estos autos son atípicos en las variables de mpg, horsepower, weight y acceleration"
      ]
    },
    {
      "cell_type": "code",
      "execution_count": 4,
      "metadata": {
        "id": "e3WRILWh5x87"
      },
      "outputs": [],
      "source": [
        "# Variables relevantes\n",
        "lista_variables = ['mpg', 'horsepower', 'weight', 'acceleration']"
      ]
    },
    {
      "cell_type": "markdown",
      "metadata": {
        "id": "Me1Gv12wgYRS"
      },
      "source": [
        "## 2.1 Escala de las variables\n",
        "\n",
        "Evaluemos la escala de las variables y su distribución"
      ]
    },
    {
      "cell_type": "markdown",
      "metadata": {
        "id": "FA68MRszeG3h"
      },
      "source": [
        "Primero, observemos los estadísticos descriptivos de las variables"
      ]
    },
    {
      "cell_type": "code",
      "execution_count": 5,
      "metadata": {
        "colab": {
          "base_uri": "https://localhost:8080/",
          "height": 300
        },
        "id": "H3qpwwisz79l",
        "outputId": "1b071bee-0ec9-4c62-d0d5-4916e8a12c18"
      },
      "outputs": [
        {
          "data": {
            "text/html": [
              "<div>\n",
              "<style scoped>\n",
              "    .dataframe tbody tr th:only-of-type {\n",
              "        vertical-align: middle;\n",
              "    }\n",
              "\n",
              "    .dataframe tbody tr th {\n",
              "        vertical-align: top;\n",
              "    }\n",
              "\n",
              "    .dataframe thead th {\n",
              "        text-align: right;\n",
              "    }\n",
              "</style>\n",
              "<table border=\"1\" class=\"dataframe\">\n",
              "  <thead>\n",
              "    <tr style=\"text-align: right;\">\n",
              "      <th></th>\n",
              "      <th>mpg</th>\n",
              "      <th>horsepower</th>\n",
              "      <th>weight</th>\n",
              "      <th>acceleration</th>\n",
              "    </tr>\n",
              "  </thead>\n",
              "  <tbody>\n",
              "    <tr>\n",
              "      <th>count</th>\n",
              "      <td>398.00000</td>\n",
              "      <td>392.00000</td>\n",
              "      <td>398.00000</td>\n",
              "      <td>398.00000</td>\n",
              "    </tr>\n",
              "    <tr>\n",
              "      <th>mean</th>\n",
              "      <td>23.51457</td>\n",
              "      <td>104.46939</td>\n",
              "      <td>2970.42462</td>\n",
              "      <td>15.56809</td>\n",
              "    </tr>\n",
              "    <tr>\n",
              "      <th>std</th>\n",
              "      <td>7.81598</td>\n",
              "      <td>38.49116</td>\n",
              "      <td>846.84177</td>\n",
              "      <td>2.75769</td>\n",
              "    </tr>\n",
              "    <tr>\n",
              "      <th>min</th>\n",
              "      <td>9.00000</td>\n",
              "      <td>46.00000</td>\n",
              "      <td>1613.00000</td>\n",
              "      <td>8.00000</td>\n",
              "    </tr>\n",
              "    <tr>\n",
              "      <th>25%</th>\n",
              "      <td>17.50000</td>\n",
              "      <td>75.00000</td>\n",
              "      <td>2223.75000</td>\n",
              "      <td>13.82500</td>\n",
              "    </tr>\n",
              "    <tr>\n",
              "      <th>50%</th>\n",
              "      <td>23.00000</td>\n",
              "      <td>93.50000</td>\n",
              "      <td>2803.50000</td>\n",
              "      <td>15.50000</td>\n",
              "    </tr>\n",
              "    <tr>\n",
              "      <th>75%</th>\n",
              "      <td>29.00000</td>\n",
              "      <td>126.00000</td>\n",
              "      <td>3608.00000</td>\n",
              "      <td>17.17500</td>\n",
              "    </tr>\n",
              "    <tr>\n",
              "      <th>max</th>\n",
              "      <td>46.60000</td>\n",
              "      <td>230.00000</td>\n",
              "      <td>5140.00000</td>\n",
              "      <td>24.80000</td>\n",
              "    </tr>\n",
              "  </tbody>\n",
              "</table>\n",
              "</div>"
            ],
            "text/plain": [
              "            mpg  horsepower     weight  acceleration\n",
              "count 398.00000   392.00000  398.00000     398.00000\n",
              "mean   23.51457   104.46939 2970.42462      15.56809\n",
              "std     7.81598    38.49116  846.84177       2.75769\n",
              "min     9.00000    46.00000 1613.00000       8.00000\n",
              "25%    17.50000    75.00000 2223.75000      13.82500\n",
              "50%    23.00000    93.50000 2803.50000      15.50000\n",
              "75%    29.00000   126.00000 3608.00000      17.17500\n",
              "max    46.60000   230.00000 5140.00000      24.80000"
            ]
          },
          "execution_count": 5,
          "metadata": {},
          "output_type": "execute_result"
        }
      ],
      "source": [
        "# Observar la distribución de las variables\n",
        "autos[lista_variables].describe()"
      ]
    },
    {
      "cell_type": "code",
      "execution_count": 6,
      "metadata": {
        "id": "qwfQqTSqNnk0"
      },
      "outputs": [],
      "source": [
        "autos = autos[autos['horsepower'].isnull()]"
      ]
    },
    {
      "cell_type": "code",
      "execution_count": 7,
      "metadata": {
        "colab": {
          "base_uri": "https://localhost:8080/",
          "height": 237
        },
        "id": "hM8MxVvpPSTG",
        "outputId": "7cf6b693-855e-4e55-e5fa-2ecb0604f694"
      },
      "outputs": [
        {
          "data": {
            "text/html": [
              "<div>\n",
              "<style scoped>\n",
              "    .dataframe tbody tr th:only-of-type {\n",
              "        vertical-align: middle;\n",
              "    }\n",
              "\n",
              "    .dataframe tbody tr th {\n",
              "        vertical-align: top;\n",
              "    }\n",
              "\n",
              "    .dataframe thead th {\n",
              "        text-align: right;\n",
              "    }\n",
              "</style>\n",
              "<table border=\"1\" class=\"dataframe\">\n",
              "  <thead>\n",
              "    <tr style=\"text-align: right;\">\n",
              "      <th></th>\n",
              "      <th>mpg</th>\n",
              "      <th>cylinders</th>\n",
              "      <th>displacement</th>\n",
              "      <th>horsepower</th>\n",
              "      <th>weight</th>\n",
              "      <th>acceleration</th>\n",
              "      <th>model_year</th>\n",
              "      <th>origin</th>\n",
              "      <th>name</th>\n",
              "    </tr>\n",
              "  </thead>\n",
              "  <tbody>\n",
              "    <tr>\n",
              "      <th>32</th>\n",
              "      <td>25.00000</td>\n",
              "      <td>4</td>\n",
              "      <td>98.00000</td>\n",
              "      <td>NaN</td>\n",
              "      <td>2046</td>\n",
              "      <td>19.00000</td>\n",
              "      <td>71</td>\n",
              "      <td>usa</td>\n",
              "      <td>ford pinto</td>\n",
              "    </tr>\n",
              "    <tr>\n",
              "      <th>126</th>\n",
              "      <td>21.00000</td>\n",
              "      <td>6</td>\n",
              "      <td>200.00000</td>\n",
              "      <td>NaN</td>\n",
              "      <td>2875</td>\n",
              "      <td>17.00000</td>\n",
              "      <td>74</td>\n",
              "      <td>usa</td>\n",
              "      <td>ford maverick</td>\n",
              "    </tr>\n",
              "    <tr>\n",
              "      <th>330</th>\n",
              "      <td>40.90000</td>\n",
              "      <td>4</td>\n",
              "      <td>85.00000</td>\n",
              "      <td>NaN</td>\n",
              "      <td>1835</td>\n",
              "      <td>17.30000</td>\n",
              "      <td>80</td>\n",
              "      <td>europe</td>\n",
              "      <td>renault lecar deluxe</td>\n",
              "    </tr>\n",
              "    <tr>\n",
              "      <th>336</th>\n",
              "      <td>23.60000</td>\n",
              "      <td>4</td>\n",
              "      <td>140.00000</td>\n",
              "      <td>NaN</td>\n",
              "      <td>2905</td>\n",
              "      <td>14.30000</td>\n",
              "      <td>80</td>\n",
              "      <td>usa</td>\n",
              "      <td>ford mustang cobra</td>\n",
              "    </tr>\n",
              "    <tr>\n",
              "      <th>354</th>\n",
              "      <td>34.50000</td>\n",
              "      <td>4</td>\n",
              "      <td>100.00000</td>\n",
              "      <td>NaN</td>\n",
              "      <td>2320</td>\n",
              "      <td>15.80000</td>\n",
              "      <td>81</td>\n",
              "      <td>europe</td>\n",
              "      <td>renault 18i</td>\n",
              "    </tr>\n",
              "    <tr>\n",
              "      <th>374</th>\n",
              "      <td>23.00000</td>\n",
              "      <td>4</td>\n",
              "      <td>151.00000</td>\n",
              "      <td>NaN</td>\n",
              "      <td>3035</td>\n",
              "      <td>20.50000</td>\n",
              "      <td>82</td>\n",
              "      <td>usa</td>\n",
              "      <td>amc concord dl</td>\n",
              "    </tr>\n",
              "  </tbody>\n",
              "</table>\n",
              "</div>"
            ],
            "text/plain": [
              "         mpg  cylinders  displacement  horsepower  weight  acceleration  \\\n",
              "32  25.00000          4      98.00000         NaN    2046      19.00000   \n",
              "126 21.00000          6     200.00000         NaN    2875      17.00000   \n",
              "330 40.90000          4      85.00000         NaN    1835      17.30000   \n",
              "336 23.60000          4     140.00000         NaN    2905      14.30000   \n",
              "354 34.50000          4     100.00000         NaN    2320      15.80000   \n",
              "374 23.00000          4     151.00000         NaN    3035      20.50000   \n",
              "\n",
              "     model_year  origin                  name  \n",
              "32           71     usa            ford pinto  \n",
              "126          74     usa         ford maverick  \n",
              "330          80  europe  renault lecar deluxe  \n",
              "336          80     usa    ford mustang cobra  \n",
              "354          81  europe           renault 18i  \n",
              "374          82     usa        amc concord dl  "
            ]
          },
          "execution_count": 7,
          "metadata": {},
          "output_type": "execute_result"
        }
      ],
      "source": [
        "autos"
      ]
    },
    {
      "cell_type": "markdown",
      "metadata": {
        "id": "nb-dQkdBvtnJ"
      },
      "source": [
        "¿Qué observamos con estos datos?\n",
        "\n",
        "Son todas variables que se miden en unidades distintas. Las variables de peso y caballos de fuerza parecen tener un rango bastante amplio.\n",
        "\n"
      ]
    },
    {
      "cell_type": "markdown",
      "metadata": {
        "id": "9xZo7f8MjMcl"
      },
      "source": [
        "# 3. Detección de outliers univariados\n",
        "\n",
        "El método para detectar outliers que hemos visto consiste en estandarizar la variable y catalogar como outlier a aquellas observaciones cuyo z-score que superen, en valor absoluto, un límite (usualmente de 3).\n",
        "\n",
        "Entonces el primer paso será estandarizar las variables con la fórmula:\n",
        "\n",
        "$ x_e = \\frac{x-\\overline{X}}{\\sigma_X}$\n"
      ]
    },
    {
      "cell_type": "code",
      "execution_count": 8,
      "metadata": {
        "id": "itwm0GIuTgM3"
      },
      "outputs": [],
      "source": [
        "# Funcion para estandarizar\n",
        "def estandarizar_var(X):\n",
        "  promedio = np.mean(X)\n",
        "  desvio = np.std(X)\n",
        "  X_estandarizada = (X-promedio)/desvio\n",
        "  return X_estandarizada"
      ]
    },
    {
      "cell_type": "code",
      "execution_count": 9,
      "metadata": {
        "colab": {
          "base_uri": "https://localhost:8080/",
          "height": 206
        },
        "id": "fGCkpfXfTXIl",
        "outputId": "31fadd0f-4499-429c-95be-994687e5b5bb"
      },
      "outputs": [
        {
          "data": {
            "text/html": [
              "<div>\n",
              "<style scoped>\n",
              "    .dataframe tbody tr th:only-of-type {\n",
              "        vertical-align: middle;\n",
              "    }\n",
              "\n",
              "    .dataframe tbody tr th {\n",
              "        vertical-align: top;\n",
              "    }\n",
              "\n",
              "    .dataframe thead th {\n",
              "        text-align: right;\n",
              "    }\n",
              "</style>\n",
              "<table border=\"1\" class=\"dataframe\">\n",
              "  <thead>\n",
              "    <tr style=\"text-align: right;\">\n",
              "      <th></th>\n",
              "      <th>mpg</th>\n",
              "      <th>horsepower</th>\n",
              "      <th>weight</th>\n",
              "      <th>acceleration</th>\n",
              "      <th>name</th>\n",
              "    </tr>\n",
              "  </thead>\n",
              "  <tbody>\n",
              "    <tr>\n",
              "      <th>32</th>\n",
              "      <td>-0.41668</td>\n",
              "      <td>NaN</td>\n",
              "      <td>-0.99198</td>\n",
              "      <td>0.83357</td>\n",
              "      <td>ford pinto</td>\n",
              "    </tr>\n",
              "    <tr>\n",
              "      <th>126</th>\n",
              "      <td>-0.97225</td>\n",
              "      <td>NaN</td>\n",
              "      <td>0.80879</td>\n",
              "      <td>-0.15681</td>\n",
              "      <td>ford maverick</td>\n",
              "    </tr>\n",
              "    <tr>\n",
              "      <th>330</th>\n",
              "      <td>1.79172</td>\n",
              "      <td>NaN</td>\n",
              "      <td>-1.45032</td>\n",
              "      <td>-0.00825</td>\n",
              "      <td>renault lecar deluxe</td>\n",
              "    </tr>\n",
              "    <tr>\n",
              "      <th>336</th>\n",
              "      <td>-0.61113</td>\n",
              "      <td>NaN</td>\n",
              "      <td>0.87396</td>\n",
              "      <td>-1.49383</td>\n",
              "      <td>ford mustang cobra</td>\n",
              "    </tr>\n",
              "    <tr>\n",
              "      <th>354</th>\n",
              "      <td>0.90281</td>\n",
              "      <td>NaN</td>\n",
              "      <td>-0.39679</td>\n",
              "      <td>-0.75104</td>\n",
              "      <td>renault 18i</td>\n",
              "    </tr>\n",
              "  </tbody>\n",
              "</table>\n",
              "</div>"
            ],
            "text/plain": [
              "         mpg  horsepower   weight  acceleration                  name\n",
              "32  -0.41668         NaN -0.99198       0.83357            ford pinto\n",
              "126 -0.97225         NaN  0.80879      -0.15681         ford maverick\n",
              "330  1.79172         NaN -1.45032      -0.00825  renault lecar deluxe\n",
              "336 -0.61113         NaN  0.87396      -1.49383    ford mustang cobra\n",
              "354  0.90281         NaN -0.39679      -0.75104           renault 18i"
            ]
          },
          "execution_count": 9,
          "metadata": {},
          "output_type": "execute_result"
        }
      ],
      "source": [
        "#Aplicar la función sobre las variables \n",
        "autos_estandarizadas = autos.loc[:,lista_variables].apply(estandarizar_var)\n",
        "autos_estandarizadas['name'] = autos.name\n",
        "autos_estandarizadas.head()"
      ]
    },
    {
      "cell_type": "markdown",
      "metadata": {
        "id": "kdb13h-MRAX4"
      },
      "source": [
        "## 3.1 Gráficos\n",
        "\n",
        "Realizamos los histogramas de las variables para observar su distribución"
      ]
    },
    {
      "cell_type": "code",
      "execution_count": 10,
      "metadata": {
        "colab": {
          "base_uri": "https://localhost:8080/",
          "height": 1000
        },
        "id": "onnq8e1PBvhj",
        "outputId": "97d710f2-5bc2-42b7-8118-ce295c048763"
      },
      "outputs": [
        {
          "data": {
            "image/png": "[encoded data removed]",
            "text/plain": [
              "<Figure size 640x480 with 1 Axes>"
            ]
          },
          "metadata": {},
          "output_type": "display_data"
        },
        {
          "name": "stderr",
          "output_type": "stream",
          "text": [
            "f:\\Personal\\django\\CPE\\CPEDS\\envWindows\\Lib\\site-packages\\matplotlib\\axes\\_axes.py:6834: RuntimeWarning: All-NaN slice encountered\n",
            "  xmin = min(xmin, np.nanmin(xi))\n",
            "f:\\Personal\\django\\CPE\\CPEDS\\envWindows\\Lib\\site-packages\\matplotlib\\axes\\_axes.py:6835: RuntimeWarning: All-NaN slice encountered\n",
            "  xmax = max(xmax, np.nanmax(xi))\n"
          ]
        },
        {
          "ename": "ValueError",
          "evalue": "autodetected range of [nan, nan] is not finite",
          "output_type": "error",
          "traceback": [
            "\u001b[1;31m---------------------------------------------------------------------------\u001b[0m",
            "\u001b[1;31mValueError\u001b[0m                                Traceback (most recent call last)",
            "Cell \u001b[1;32mIn[10], line 4\u001b[0m\n\u001b[0;32m      1\u001b[0m \u001b[38;5;66;03m# Realizamos un loop sobre las variables\u001b[39;00m\n\u001b[0;32m      2\u001b[0m \u001b[38;5;28;01mfor\u001b[39;00m variable \u001b[38;5;129;01min\u001b[39;00m lista_variables:\n\u001b[0;32m      3\u001b[0m   \u001b[38;5;66;03m# Histograma de la variable\u001b[39;00m\n\u001b[1;32m----> 4\u001b[0m   \u001b[43mplt\u001b[49m\u001b[38;5;241;43m.\u001b[39;49m\u001b[43mhist\u001b[49m\u001b[43m(\u001b[49m\u001b[43mautos_estandarizadas\u001b[49m\u001b[43m[\u001b[49m\u001b[43mvariable\u001b[49m\u001b[43m]\u001b[49m\u001b[43m,\u001b[49m\u001b[43m \u001b[49m\u001b[43mbins\u001b[49m\u001b[38;5;241;43m=\u001b[39;49m\u001b[38;5;241;43m40\u001b[39;49m\u001b[43m,\u001b[49m\u001b[43m \u001b[49m\u001b[43mec\u001b[49m\u001b[38;5;241;43m=\u001b[39;49m\u001b[38;5;124;43m'\u001b[39;49m\u001b[38;5;124;43mblack\u001b[39;49m\u001b[38;5;124;43m'\u001b[39;49m\u001b[43m)\u001b[49m\n\u001b[0;32m      5\u001b[0m   \u001b[38;5;66;03m# Titulo del gráfico\u001b[39;00m\n\u001b[0;32m      6\u001b[0m   plt\u001b[38;5;241m.\u001b[39mtitle(\u001b[38;5;124mf\u001b[39m\u001b[38;5;124m\"\u001b[39m\u001b[38;5;124mDistribución de \u001b[39m\u001b[38;5;132;01m{\u001b[39;00mvariable\u001b[38;5;132;01m}\u001b[39;00m\u001b[38;5;124m\"\u001b[39m)\n",
            "File \u001b[1;32mf:\\Personal\\django\\CPE\\CPEDS\\envWindows\\Lib\\site-packages\\matplotlib\\pyplot.py:3236\u001b[0m, in \u001b[0;36mhist\u001b[1;34m(x, bins, range, density, weights, cumulative, bottom, histtype, align, orientation, rwidth, log, color, label, stacked, data, **kwargs)\u001b[0m\n\u001b[0;32m   3211\u001b[0m \u001b[38;5;129m@_copy_docstring_and_deprecators\u001b[39m(Axes\u001b[38;5;241m.\u001b[39mhist)\n\u001b[0;32m   3212\u001b[0m \u001b[38;5;28;01mdef\u001b[39;00m \u001b[38;5;21mhist\u001b[39m(\n\u001b[0;32m   3213\u001b[0m     x: ArrayLike \u001b[38;5;241m|\u001b[39m Sequence[ArrayLike],\n\u001b[1;32m   (...)\u001b[0m\n\u001b[0;32m   3234\u001b[0m     BarContainer \u001b[38;5;241m|\u001b[39m Polygon \u001b[38;5;241m|\u001b[39m \u001b[38;5;28mlist\u001b[39m[BarContainer \u001b[38;5;241m|\u001b[39m Polygon],\n\u001b[0;32m   3235\u001b[0m ]:\n\u001b[1;32m-> 3236\u001b[0m     \u001b[38;5;28;01mreturn\u001b[39;00m \u001b[43mgca\u001b[49m\u001b[43m(\u001b[49m\u001b[43m)\u001b[49m\u001b[38;5;241;43m.\u001b[39;49m\u001b[43mhist\u001b[49m\u001b[43m(\u001b[49m\n\u001b[0;32m   3237\u001b[0m \u001b[43m        \u001b[49m\u001b[43mx\u001b[49m\u001b[43m,\u001b[49m\n\u001b[0;32m   3238\u001b[0m \u001b[43m        \u001b[49m\u001b[43mbins\u001b[49m\u001b[38;5;241;43m=\u001b[39;49m\u001b[43mbins\u001b[49m\u001b[43m,\u001b[49m\n\u001b[0;32m   3239\u001b[0m \u001b[43m        \u001b[49m\u001b[38;5;28;43mrange\u001b[39;49m\u001b[38;5;241;43m=\u001b[39;49m\u001b[38;5;28;43mrange\u001b[39;49m\u001b[43m,\u001b[49m\n\u001b[0;32m   3240\u001b[0m \u001b[43m        \u001b[49m\u001b[43mdensity\u001b[49m\u001b[38;5;241;43m=\u001b[39;49m\u001b[43mdensity\u001b[49m\u001b[43m,\u001b[49m\n\u001b[0;32m   3241\u001b[0m \u001b[43m        \u001b[49m\u001b[43mweights\u001b[49m\u001b[38;5;241;43m=\u001b[39;49m\u001b[43mweights\u001b[49m\u001b[43m,\u001b[49m\n\u001b[0;32m   3242\u001b[0m \u001b[43m        \u001b[49m\u001b[43mcumulative\u001b[49m\u001b[38;5;241;43m=\u001b[39;49m\u001b[43mcumulative\u001b[49m\u001b[43m,\u001b[49m\n\u001b[0;32m   3243\u001b[0m \u001b[43m        \u001b[49m\u001b[43mbottom\u001b[49m\u001b[38;5;241;43m=\u001b[39;49m\u001b[43mbottom\u001b[49m\u001b[43m,\u001b[49m\n\u001b[0;32m   3244\u001b[0m \u001b[43m        \u001b[49m\u001b[43mhisttype\u001b[49m\u001b[38;5;241;43m=\u001b[39;49m\u001b[43mhisttype\u001b[49m\u001b[43m,\u001b[49m\n\u001b[0;32m   3245\u001b[0m \u001b[43m        \u001b[49m\u001b[43malign\u001b[49m\u001b[38;5;241;43m=\u001b[39;49m\u001b[43malign\u001b[49m\u001b[43m,\u001b[49m\n\u001b[0;32m   3246\u001b[0m \u001b[43m        \u001b[49m\u001b[43morientation\u001b[49m\u001b[38;5;241;43m=\u001b[39;49m\u001b[43morientation\u001b[49m\u001b[43m,\u001b[49m\n\u001b[0;32m   3247\u001b[0m \u001b[43m        \u001b[49m\u001b[43mrwidth\u001b[49m\u001b[38;5;241;43m=\u001b[39;49m\u001b[43mrwidth\u001b[49m\u001b[43m,\u001b[49m\n\u001b[0;32m   3248\u001b[0m \u001b[43m        \u001b[49m\u001b[43mlog\u001b[49m\u001b[38;5;241;43m=\u001b[39;49m\u001b[43mlog\u001b[49m\u001b[43m,\u001b[49m\n\u001b[0;32m   3249\u001b[0m \u001b[43m        \u001b[49m\u001b[43mcolor\u001b[49m\u001b[38;5;241;43m=\u001b[39;49m\u001b[43mcolor\u001b[49m\u001b[43m,\u001b[49m\n\u001b[0;32m   3250\u001b[0m \u001b[43m        \u001b[49m\u001b[43mlabel\u001b[49m\u001b[38;5;241;43m=\u001b[39;49m\u001b[43mlabel\u001b[49m\u001b[43m,\u001b[49m\n\u001b[0;32m   3251\u001b[0m \u001b[43m        \u001b[49m\u001b[43mstacked\u001b[49m\u001b[38;5;241;43m=\u001b[39;49m\u001b[43mstacked\u001b[49m\u001b[43m,\u001b[49m\n\u001b[0;32m   3252\u001b[0m \u001b[43m        \u001b[49m\u001b[38;5;241;43m*\u001b[39;49m\u001b[38;5;241;43m*\u001b[39;49m\u001b[43m(\u001b[49m\u001b[43m{\u001b[49m\u001b[38;5;124;43m\"\u001b[39;49m\u001b[38;5;124;43mdata\u001b[39;49m\u001b[38;5;124;43m\"\u001b[39;49m\u001b[43m:\u001b[49m\u001b[43m \u001b[49m\u001b[43mdata\u001b[49m\u001b[43m}\u001b[49m\u001b[43m \u001b[49m\u001b[38;5;28;43;01mif\u001b[39;49;00m\u001b[43m \u001b[49m\u001b[43mdata\u001b[49m\u001b[43m \u001b[49m\u001b[38;5;129;43;01mis\u001b[39;49;00m\u001b[43m \u001b[49m\u001b[38;5;129;43;01mnot\u001b[39;49;00m\u001b[43m \u001b[49m\u001b[38;5;28;43;01mNone\u001b[39;49;00m\u001b[43m \u001b[49m\u001b[38;5;28;43;01melse\u001b[39;49;00m\u001b[43m \u001b[49m\u001b[43m{\u001b[49m\u001b[43m}\u001b[49m\u001b[43m)\u001b[49m\u001b[43m,\u001b[49m\n\u001b[0;32m   3253\u001b[0m \u001b[43m        \u001b[49m\u001b[38;5;241;43m*\u001b[39;49m\u001b[38;5;241;43m*\u001b[39;49m\u001b[43mkwargs\u001b[49m\u001b[43m,\u001b[49m\n\u001b[0;32m   3254\u001b[0m \u001b[43m    \u001b[49m\u001b[43m)\u001b[49m\n",
            "File \u001b[1;32mf:\\Personal\\django\\CPE\\CPEDS\\envWindows\\Lib\\site-packages\\matplotlib\\__init__.py:1478\u001b[0m, in \u001b[0;36m_preprocess_data.<locals>.inner\u001b[1;34m(ax, data, *args, **kwargs)\u001b[0m\n\u001b[0;32m   1475\u001b[0m \u001b[38;5;129m@functools\u001b[39m\u001b[38;5;241m.\u001b[39mwraps(func)\n\u001b[0;32m   1476\u001b[0m \u001b[38;5;28;01mdef\u001b[39;00m \u001b[38;5;21minner\u001b[39m(ax, \u001b[38;5;241m*\u001b[39margs, data\u001b[38;5;241m=\u001b[39m\u001b[38;5;28;01mNone\u001b[39;00m, \u001b[38;5;241m*\u001b[39m\u001b[38;5;241m*\u001b[39mkwargs):\n\u001b[0;32m   1477\u001b[0m     \u001b[38;5;28;01mif\u001b[39;00m data \u001b[38;5;129;01mis\u001b[39;00m \u001b[38;5;28;01mNone\u001b[39;00m:\n\u001b[1;32m-> 1478\u001b[0m         \u001b[38;5;28;01mreturn\u001b[39;00m \u001b[43mfunc\u001b[49m\u001b[43m(\u001b[49m\u001b[43max\u001b[49m\u001b[43m,\u001b[49m\u001b[43m \u001b[49m\u001b[38;5;241;43m*\u001b[39;49m\u001b[38;5;28;43mmap\u001b[39;49m\u001b[43m(\u001b[49m\u001b[43msanitize_sequence\u001b[49m\u001b[43m,\u001b[49m\u001b[43m \u001b[49m\u001b[43margs\u001b[49m\u001b[43m)\u001b[49m\u001b[43m,\u001b[49m\u001b[43m \u001b[49m\u001b[38;5;241;43m*\u001b[39;49m\u001b[38;5;241;43m*\u001b[39;49m\u001b[43mkwargs\u001b[49m\u001b[43m)\u001b[49m\n\u001b[0;32m   1480\u001b[0m     bound \u001b[38;5;241m=\u001b[39m new_sig\u001b[38;5;241m.\u001b[39mbind(ax, \u001b[38;5;241m*\u001b[39margs, \u001b[38;5;241m*\u001b[39m\u001b[38;5;241m*\u001b[39mkwargs)\n\u001b[0;32m   1481\u001b[0m     auto_label \u001b[38;5;241m=\u001b[39m (bound\u001b[38;5;241m.\u001b[39marguments\u001b[38;5;241m.\u001b[39mget(label_namer)\n\u001b[0;32m   1482\u001b[0m                   \u001b[38;5;129;01mor\u001b[39;00m bound\u001b[38;5;241m.\u001b[39mkwargs\u001b[38;5;241m.\u001b[39mget(label_namer))\n",
            "File \u001b[1;32mf:\\Personal\\django\\CPE\\CPEDS\\envWindows\\Lib\\site-packages\\matplotlib\\axes\\_axes.py:6862\u001b[0m, in \u001b[0;36mAxes.hist\u001b[1;34m(self, x, bins, range, density, weights, cumulative, bottom, histtype, align, orientation, rwidth, log, color, label, stacked, **kwargs)\u001b[0m\n\u001b[0;32m   6858\u001b[0m \u001b[38;5;66;03m# Loop through datasets\u001b[39;00m\n\u001b[0;32m   6859\u001b[0m \u001b[38;5;28;01mfor\u001b[39;00m i \u001b[38;5;129;01min\u001b[39;00m \u001b[38;5;28mrange\u001b[39m(nx):\n\u001b[0;32m   6860\u001b[0m     \u001b[38;5;66;03m# this will automatically overwrite bins,\u001b[39;00m\n\u001b[0;32m   6861\u001b[0m     \u001b[38;5;66;03m# so that each histogram uses the same bins\u001b[39;00m\n\u001b[1;32m-> 6862\u001b[0m     m, bins \u001b[38;5;241m=\u001b[39m \u001b[43mnp\u001b[49m\u001b[38;5;241;43m.\u001b[39;49m\u001b[43mhistogram\u001b[49m\u001b[43m(\u001b[49m\u001b[43mx\u001b[49m\u001b[43m[\u001b[49m\u001b[43mi\u001b[49m\u001b[43m]\u001b[49m\u001b[43m,\u001b[49m\u001b[43m \u001b[49m\u001b[43mbins\u001b[49m\u001b[43m,\u001b[49m\u001b[43m \u001b[49m\u001b[43mweights\u001b[49m\u001b[38;5;241;43m=\u001b[39;49m\u001b[43mw\u001b[49m\u001b[43m[\u001b[49m\u001b[43mi\u001b[49m\u001b[43m]\u001b[49m\u001b[43m,\u001b[49m\u001b[43m \u001b[49m\u001b[38;5;241;43m*\u001b[39;49m\u001b[38;5;241;43m*\u001b[39;49m\u001b[43mhist_kwargs\u001b[49m\u001b[43m)\u001b[49m\n\u001b[0;32m   6863\u001b[0m     tops\u001b[38;5;241m.\u001b[39mappend(m)\n\u001b[0;32m   6864\u001b[0m tops \u001b[38;5;241m=\u001b[39m np\u001b[38;5;241m.\u001b[39marray(tops, \u001b[38;5;28mfloat\u001b[39m)  \u001b[38;5;66;03m# causes problems later if it's an int\u001b[39;00m\n",
            "File \u001b[1;32mf:\\Personal\\django\\CPE\\CPEDS\\envWindows\\Lib\\site-packages\\numpy\\lib\\histograms.py:780\u001b[0m, in \u001b[0;36mhistogram\u001b[1;34m(a, bins, range, density, weights)\u001b[0m\n\u001b[0;32m    680\u001b[0m \u001b[38;5;250m\u001b[39m\u001b[38;5;124mr\u001b[39m\u001b[38;5;124;03m\"\"\"\u001b[39;00m\n\u001b[0;32m    681\u001b[0m \u001b[38;5;124;03mCompute the histogram of a dataset.\u001b[39;00m\n\u001b[0;32m    682\u001b[0m \n\u001b[1;32m   (...)\u001b[0m\n\u001b[0;32m    776\u001b[0m \n\u001b[0;32m    777\u001b[0m \u001b[38;5;124;03m\"\"\"\u001b[39;00m\n\u001b[0;32m    778\u001b[0m a, weights \u001b[38;5;241m=\u001b[39m _ravel_and_check_weights(a, weights)\n\u001b[1;32m--> 780\u001b[0m bin_edges, uniform_bins \u001b[38;5;241m=\u001b[39m \u001b[43m_get_bin_edges\u001b[49m\u001b[43m(\u001b[49m\u001b[43ma\u001b[49m\u001b[43m,\u001b[49m\u001b[43m \u001b[49m\u001b[43mbins\u001b[49m\u001b[43m,\u001b[49m\u001b[43m \u001b[49m\u001b[38;5;28;43mrange\u001b[39;49m\u001b[43m,\u001b[49m\u001b[43m \u001b[49m\u001b[43mweights\u001b[49m\u001b[43m)\u001b[49m\n\u001b[0;32m    782\u001b[0m \u001b[38;5;66;03m# Histogram is an integer or a float array depending on the weights.\u001b[39;00m\n\u001b[0;32m    783\u001b[0m \u001b[38;5;28;01mif\u001b[39;00m weights \u001b[38;5;129;01mis\u001b[39;00m \u001b[38;5;28;01mNone\u001b[39;00m:\n",
            "File \u001b[1;32mf:\\Personal\\django\\CPE\\CPEDS\\envWindows\\Lib\\site-packages\\numpy\\lib\\histograms.py:426\u001b[0m, in \u001b[0;36m_get_bin_edges\u001b[1;34m(a, bins, range, weights)\u001b[0m\n\u001b[0;32m    423\u001b[0m     \u001b[38;5;28;01mif\u001b[39;00m n_equal_bins \u001b[38;5;241m<\u001b[39m \u001b[38;5;241m1\u001b[39m:\n\u001b[0;32m    424\u001b[0m         \u001b[38;5;28;01mraise\u001b[39;00m \u001b[38;5;167;01mValueError\u001b[39;00m(\u001b[38;5;124m'\u001b[39m\u001b[38;5;124m`bins` must be positive, when an integer\u001b[39m\u001b[38;5;124m'\u001b[39m)\n\u001b[1;32m--> 426\u001b[0m     first_edge, last_edge \u001b[38;5;241m=\u001b[39m \u001b[43m_get_outer_edges\u001b[49m\u001b[43m(\u001b[49m\u001b[43ma\u001b[49m\u001b[43m,\u001b[49m\u001b[43m \u001b[49m\u001b[38;5;28;43mrange\u001b[39;49m\u001b[43m)\u001b[49m\n\u001b[0;32m    428\u001b[0m \u001b[38;5;28;01melif\u001b[39;00m np\u001b[38;5;241m.\u001b[39mndim(bins) \u001b[38;5;241m==\u001b[39m \u001b[38;5;241m1\u001b[39m:\n\u001b[0;32m    429\u001b[0m     bin_edges \u001b[38;5;241m=\u001b[39m np\u001b[38;5;241m.\u001b[39masarray(bins)\n",
            "File \u001b[1;32mf:\\Personal\\django\\CPE\\CPEDS\\envWindows\\Lib\\site-packages\\numpy\\lib\\histograms.py:323\u001b[0m, in \u001b[0;36m_get_outer_edges\u001b[1;34m(a, range)\u001b[0m\n\u001b[0;32m    321\u001b[0m     first_edge, last_edge \u001b[38;5;241m=\u001b[39m a\u001b[38;5;241m.\u001b[39mmin(), a\u001b[38;5;241m.\u001b[39mmax()\n\u001b[0;32m    322\u001b[0m     \u001b[38;5;28;01mif\u001b[39;00m \u001b[38;5;129;01mnot\u001b[39;00m (np\u001b[38;5;241m.\u001b[39misfinite(first_edge) \u001b[38;5;129;01mand\u001b[39;00m np\u001b[38;5;241m.\u001b[39misfinite(last_edge)):\n\u001b[1;32m--> 323\u001b[0m         \u001b[38;5;28;01mraise\u001b[39;00m \u001b[38;5;167;01mValueError\u001b[39;00m(\n\u001b[0;32m    324\u001b[0m             \u001b[38;5;124m\"\u001b[39m\u001b[38;5;124mautodetected range of [\u001b[39m\u001b[38;5;132;01m{}\u001b[39;00m\u001b[38;5;124m, \u001b[39m\u001b[38;5;132;01m{}\u001b[39;00m\u001b[38;5;124m] is not finite\u001b[39m\u001b[38;5;124m\"\u001b[39m\u001b[38;5;241m.\u001b[39mformat(first_edge, last_edge))\n\u001b[0;32m    326\u001b[0m \u001b[38;5;66;03m# expand empty range to avoid divide by zero\u001b[39;00m\n\u001b[0;32m    327\u001b[0m \u001b[38;5;28;01mif\u001b[39;00m first_edge \u001b[38;5;241m==\u001b[39m last_edge:\n",
            "\u001b[1;31mValueError\u001b[0m: autodetected range of [nan, nan] is not finite"
          ]
        },
        {
          "data": {
            "image/png": "[encoded data removed]",
            "text/plain": [
              "<Figure size 640x480 with 1 Axes>"
            ]
          },
          "metadata": {},
          "output_type": "display_data"
        }
      ],
      "source": [
        "# Realizamos un loop sobre las variables\n",
        "for variable in lista_variables:\n",
        "  # Histograma de la variable\n",
        "  plt.hist(autos_estandarizadas[variable], bins=40, ec='black')\n",
        "  # Titulo del gráfico\n",
        "  plt.title(f\"Distribución de {variable}\")\n",
        "  plt.show()"
      ]
    },
    {
      "cell_type": "markdown",
      "metadata": {
        "id": "w58Z2yLU0VZh"
      },
      "source": [
        "¿Qué observamos en estos gráficos?\n",
        "\n",
        "La variable de aceleración tiene una distribución que se aproxima a una normal, las otras 3 variables no parecen aproximarse mucho a distribuciones normales. "
      ]
    },
    {
      "cell_type": "markdown",
      "metadata": {
        "id": "gYUuxO50Fi3j"
      },
      "source": [
        "## 3.2 Criterio analitico\n",
        "\n",
        "El cliente considera que para detectar autos atipicos en determinadas variables debe usarse un valor de 2.5.\n",
        "\n",
        "Ahora hay que proceder a detectar cuáles autos son outliers en estas 4 variables. El resultado que se presenta debe incluir el nombre/modelo del auto y el valor real de la variable analizada (no el valor estandarizado)"
      ]
    },
    {
      "cell_type": "code",
      "execution_count": null,
      "metadata": {
        "id": "eXa29zVWphCN"
      },
      "outputs": [],
      "source": [
        "# Función para detectar outliers\n",
        "def detectar_outliers(df_estandarizado, valor_limite, variable):\n",
        "  outliers = df_estandarizado.loc[np.abs(df_estandarizado[variable])>valor_limite, 'name'].to_list()\n",
        "  return outliers"
      ]
    },
    {
      "cell_type": "code",
      "execution_count": null,
      "metadata": {
        "id": "SF8QWdIAbJVg"
      },
      "outputs": [],
      "source": [
        "# Función para devolver el auto con el valor de la variable\n",
        "def detectar_outliers_estadisticas(df, df_estandarizado, valor_limite, variable):\n",
        "  outliers = detectar_outliers(df_estandarizado, valor_limite, variable)\n",
        "  df_outliers = df.loc[df['name'].isin(outliers), ['name',variable]]\n",
        "  return df_outliers"
      ]
    },
    {
      "cell_type": "markdown",
      "metadata": {
        "id": "EmrYHQyr3V4J"
      },
      "source": [
        "Detección de los outliers"
      ]
    },
    {
      "cell_type": "code",
      "execution_count": null,
      "metadata": {
        "colab": {
          "base_uri": "https://localhost:8080/",
          "height": 237
        },
        "id": "MuRka-Vvb60D",
        "outputId": "43be75c4-ff3f-4ebc-d51a-55a282cbcb64"
      },
      "outputs": [
        {
          "data": {
            "text/html": [
              "<div>\n",
              "<style scoped>\n",
              "    .dataframe tbody tr th:only-of-type {\n",
              "        vertical-align: middle;\n",
              "    }\n",
              "\n",
              "    .dataframe tbody tr th {\n",
              "        vertical-align: top;\n",
              "    }\n",
              "\n",
              "    .dataframe thead th {\n",
              "        text-align: right;\n",
              "    }\n",
              "</style>\n",
              "<table border=\"1\" class=\"dataframe\">\n",
              "  <thead>\n",
              "    <tr style=\"text-align: right;\">\n",
              "      <th></th>\n",
              "      <th>name</th>\n",
              "      <th>mpg</th>\n",
              "    </tr>\n",
              "  </thead>\n",
              "  <tbody>\n",
              "    <tr>\n",
              "      <th>244</th>\n",
              "      <td>volkswagen rabbit custom diesel</td>\n",
              "      <td>43.10000</td>\n",
              "    </tr>\n",
              "    <tr>\n",
              "      <th>322</th>\n",
              "      <td>mazda glc</td>\n",
              "      <td>46.60000</td>\n",
              "    </tr>\n",
              "    <tr>\n",
              "      <th>325</th>\n",
              "      <td>vw rabbit c (diesel)</td>\n",
              "      <td>44.30000</td>\n",
              "    </tr>\n",
              "    <tr>\n",
              "      <th>326</th>\n",
              "      <td>vw dasher (diesel)</td>\n",
              "      <td>43.40000</td>\n",
              "    </tr>\n",
              "    <tr>\n",
              "      <th>329</th>\n",
              "      <td>honda civic 1500 gl</td>\n",
              "      <td>44.60000</td>\n",
              "    </tr>\n",
              "    <tr>\n",
              "      <th>394</th>\n",
              "      <td>vw pickup</td>\n",
              "      <td>44.00000</td>\n",
              "    </tr>\n",
              "  </tbody>\n",
              "</table>\n",
              "</div>"
            ],
            "text/plain": [
              "                                name      mpg\n",
              "244  volkswagen rabbit custom diesel 43.10000\n",
              "322                        mazda glc 46.60000\n",
              "325             vw rabbit c (diesel) 44.30000\n",
              "326               vw dasher (diesel) 43.40000\n",
              "329              honda civic 1500 gl 44.60000\n",
              "394                        vw pickup 44.00000"
            ]
          },
          "execution_count": 13,
          "metadata": {
            "tags": []
          },
          "output_type": "execute_result"
        }
      ],
      "source": [
        "# Outliers de mpg\n",
        "detectar_outliers_estadisticas(autos, autos_estandarizadas, 2.5, 'mpg')"
      ]
    },
    {
      "cell_type": "code",
      "execution_count": null,
      "metadata": {
        "colab": {
          "base_uri": "https://localhost:8080/",
          "height": 426
        },
        "id": "CaVaAwTfcHsZ",
        "outputId": "dbd90a5f-dae3-4d7e-8854-2203bb9c74c6"
      },
      "outputs": [
        {
          "data": {
            "text/html": [
              "<div>\n",
              "<style scoped>\n",
              "    .dataframe tbody tr th:only-of-type {\n",
              "        vertical-align: middle;\n",
              "    }\n",
              "\n",
              "    .dataframe tbody tr th {\n",
              "        vertical-align: top;\n",
              "    }\n",
              "\n",
              "    .dataframe thead th {\n",
              "        text-align: right;\n",
              "    }\n",
              "</style>\n",
              "<table border=\"1\" class=\"dataframe\">\n",
              "  <thead>\n",
              "    <tr style=\"text-align: right;\">\n",
              "      <th></th>\n",
              "      <th>name</th>\n",
              "      <th>acceleration</th>\n",
              "    </tr>\n",
              "  </thead>\n",
              "  <tbody>\n",
              "    <tr>\n",
              "      <th>7</th>\n",
              "      <td>plymouth fury iii</td>\n",
              "      <td>8.50000</td>\n",
              "    </tr>\n",
              "    <tr>\n",
              "      <th>9</th>\n",
              "      <td>amc ambassador dpl</td>\n",
              "      <td>8.50000</td>\n",
              "    </tr>\n",
              "    <tr>\n",
              "      <th>11</th>\n",
              "      <td>plymouth 'cuda 340</td>\n",
              "      <td>8.00000</td>\n",
              "    </tr>\n",
              "    <tr>\n",
              "      <th>20</th>\n",
              "      <td>peugeot 504</td>\n",
              "      <td>17.50000</td>\n",
              "    </tr>\n",
              "    <tr>\n",
              "      <th>41</th>\n",
              "      <td>plymouth fury iii</td>\n",
              "      <td>13.00000</td>\n",
              "    </tr>\n",
              "    <tr>\n",
              "      <th>59</th>\n",
              "      <td>volkswagen type 3</td>\n",
              "      <td>23.50000</td>\n",
              "    </tr>\n",
              "    <tr>\n",
              "      <th>64</th>\n",
              "      <td>plymouth fury iii</td>\n",
              "      <td>13.50000</td>\n",
              "    </tr>\n",
              "    <tr>\n",
              "      <th>178</th>\n",
              "      <td>peugeot 504</td>\n",
              "      <td>17.00000</td>\n",
              "    </tr>\n",
              "    <tr>\n",
              "      <th>209</th>\n",
              "      <td>peugeot 504</td>\n",
              "      <td>21.90000</td>\n",
              "    </tr>\n",
              "    <tr>\n",
              "      <th>299</th>\n",
              "      <td>peugeot 504</td>\n",
              "      <td>24.80000</td>\n",
              "    </tr>\n",
              "    <tr>\n",
              "      <th>326</th>\n",
              "      <td>vw dasher (diesel)</td>\n",
              "      <td>23.70000</td>\n",
              "    </tr>\n",
              "    <tr>\n",
              "      <th>394</th>\n",
              "      <td>vw pickup</td>\n",
              "      <td>24.60000</td>\n",
              "    </tr>\n",
              "  </tbody>\n",
              "</table>\n",
              "</div>"
            ],
            "text/plain": [
              "                   name  acceleration\n",
              "7     plymouth fury iii       8.50000\n",
              "9    amc ambassador dpl       8.50000\n",
              "11   plymouth 'cuda 340       8.00000\n",
              "20          peugeot 504      17.50000\n",
              "41    plymouth fury iii      13.00000\n",
              "59    volkswagen type 3      23.50000\n",
              "64    plymouth fury iii      13.50000\n",
              "178         peugeot 504      17.00000\n",
              "209         peugeot 504      21.90000\n",
              "299         peugeot 504      24.80000\n",
              "326  vw dasher (diesel)      23.70000\n",
              "394           vw pickup      24.60000"
            ]
          },
          "execution_count": 14,
          "metadata": {
            "tags": []
          },
          "output_type": "execute_result"
        }
      ],
      "source": [
        "# Outliers de acceleration\n",
        "detectar_outliers_estadisticas(autos, autos_estandarizadas, 2.5, 'acceleration')"
      ]
    },
    {
      "cell_type": "code",
      "execution_count": null,
      "metadata": {
        "colab": {
          "base_uri": "https://localhost:8080/",
          "height": 614
        },
        "id": "p4SIPIp-27a0",
        "outputId": "15fb0f59-00d9-4823-b68c-8d0c45385bcd"
      },
      "outputs": [
        {
          "data": {
            "text/html": [
              "<div>\n",
              "<style scoped>\n",
              "    .dataframe tbody tr th:only-of-type {\n",
              "        vertical-align: middle;\n",
              "    }\n",
              "\n",
              "    .dataframe tbody tr th {\n",
              "        vertical-align: top;\n",
              "    }\n",
              "\n",
              "    .dataframe thead th {\n",
              "        text-align: right;\n",
              "    }\n",
              "</style>\n",
              "<table border=\"1\" class=\"dataframe\">\n",
              "  <thead>\n",
              "    <tr style=\"text-align: right;\">\n",
              "      <th></th>\n",
              "      <th>name</th>\n",
              "      <th>horsepower</th>\n",
              "    </tr>\n",
              "  </thead>\n",
              "  <tbody>\n",
              "    <tr>\n",
              "      <th>6</th>\n",
              "      <td>chevrolet impala</td>\n",
              "      <td>220.00000</td>\n",
              "    </tr>\n",
              "    <tr>\n",
              "      <th>7</th>\n",
              "      <td>plymouth fury iii</td>\n",
              "      <td>215.00000</td>\n",
              "    </tr>\n",
              "    <tr>\n",
              "      <th>8</th>\n",
              "      <td>pontiac catalina</td>\n",
              "      <td>225.00000</td>\n",
              "    </tr>\n",
              "    <tr>\n",
              "      <th>13</th>\n",
              "      <td>buick estate wagon (sw)</td>\n",
              "      <td>225.00000</td>\n",
              "    </tr>\n",
              "    <tr>\n",
              "      <th>25</th>\n",
              "      <td>ford f250</td>\n",
              "      <td>215.00000</td>\n",
              "    </tr>\n",
              "    <tr>\n",
              "      <th>27</th>\n",
              "      <td>dodge d200</td>\n",
              "      <td>210.00000</td>\n",
              "    </tr>\n",
              "    <tr>\n",
              "      <th>38</th>\n",
              "      <td>chevrolet impala</td>\n",
              "      <td>165.00000</td>\n",
              "    </tr>\n",
              "    <tr>\n",
              "      <th>41</th>\n",
              "      <td>plymouth fury iii</td>\n",
              "      <td>150.00000</td>\n",
              "    </tr>\n",
              "    <tr>\n",
              "      <th>62</th>\n",
              "      <td>chevrolet impala</td>\n",
              "      <td>165.00000</td>\n",
              "    </tr>\n",
              "    <tr>\n",
              "      <th>63</th>\n",
              "      <td>pontiac catalina</td>\n",
              "      <td>175.00000</td>\n",
              "    </tr>\n",
              "    <tr>\n",
              "      <th>64</th>\n",
              "      <td>plymouth fury iii</td>\n",
              "      <td>150.00000</td>\n",
              "    </tr>\n",
              "    <tr>\n",
              "      <th>67</th>\n",
              "      <td>mercury marquis</td>\n",
              "      <td>208.00000</td>\n",
              "    </tr>\n",
              "    <tr>\n",
              "      <th>94</th>\n",
              "      <td>chrysler new yorker brougham</td>\n",
              "      <td>215.00000</td>\n",
              "    </tr>\n",
              "    <tr>\n",
              "      <th>95</th>\n",
              "      <td>buick electra 225 custom</td>\n",
              "      <td>225.00000</td>\n",
              "    </tr>\n",
              "    <tr>\n",
              "      <th>103</th>\n",
              "      <td>chevrolet impala</td>\n",
              "      <td>150.00000</td>\n",
              "    </tr>\n",
              "    <tr>\n",
              "      <th>116</th>\n",
              "      <td>pontiac grand prix</td>\n",
              "      <td>230.00000</td>\n",
              "    </tr>\n",
              "    <tr>\n",
              "      <th>156</th>\n",
              "      <td>pontiac catalina</td>\n",
              "      <td>170.00000</td>\n",
              "    </tr>\n",
              "    <tr>\n",
              "      <th>289</th>\n",
              "      <td>buick estate wagon (sw)</td>\n",
              "      <td>155.00000</td>\n",
              "    </tr>\n",
              "  </tbody>\n",
              "</table>\n",
              "</div>"
            ],
            "text/plain": [
              "                             name  horsepower\n",
              "6                chevrolet impala   220.00000\n",
              "7               plymouth fury iii   215.00000\n",
              "8                pontiac catalina   225.00000\n",
              "13        buick estate wagon (sw)   225.00000\n",
              "25                      ford f250   215.00000\n",
              "27                     dodge d200   210.00000\n",
              "38               chevrolet impala   165.00000\n",
              "41              plymouth fury iii   150.00000\n",
              "62               chevrolet impala   165.00000\n",
              "63               pontiac catalina   175.00000\n",
              "64              plymouth fury iii   150.00000\n",
              "67                mercury marquis   208.00000\n",
              "94   chrysler new yorker brougham   215.00000\n",
              "95       buick electra 225 custom   225.00000\n",
              "103              chevrolet impala   150.00000\n",
              "116            pontiac grand prix   230.00000\n",
              "156              pontiac catalina   170.00000\n",
              "289       buick estate wagon (sw)   155.00000"
            ]
          },
          "execution_count": 15,
          "metadata": {
            "tags": []
          },
          "output_type": "execute_result"
        }
      ],
      "source": [
        "# Outliers de horsepower\n",
        "detectar_outliers_estadisticas(autos, autos_estandarizadas, 2.5, 'horsepower')"
      ]
    },
    {
      "cell_type": "code",
      "execution_count": null,
      "metadata": {
        "colab": {
          "base_uri": "https://localhost:8080/",
          "height": 80
        },
        "id": "2MkZ4YiiQSCg",
        "outputId": "57225295-5fb4-47b2-c39b-f34d979e4064"
      },
      "outputs": [
        {
          "data": {
            "text/html": [
              "<div>\n",
              "<style scoped>\n",
              "    .dataframe tbody tr th:only-of-type {\n",
              "        vertical-align: middle;\n",
              "    }\n",
              "\n",
              "    .dataframe tbody tr th {\n",
              "        vertical-align: top;\n",
              "    }\n",
              "\n",
              "    .dataframe thead th {\n",
              "        text-align: right;\n",
              "    }\n",
              "</style>\n",
              "<table border=\"1\" class=\"dataframe\">\n",
              "  <thead>\n",
              "    <tr style=\"text-align: right;\">\n",
              "      <th></th>\n",
              "      <th>name</th>\n",
              "      <th>weight</th>\n",
              "    </tr>\n",
              "  </thead>\n",
              "  <tbody>\n",
              "    <tr>\n",
              "      <th>44</th>\n",
              "      <td>pontiac safari (sw)</td>\n",
              "      <td>5140</td>\n",
              "    </tr>\n",
              "  </tbody>\n",
              "</table>\n",
              "</div>"
            ],
            "text/plain": [
              "                   name  weight\n",
              "44  pontiac safari (sw)    5140"
            ]
          },
          "execution_count": 16,
          "metadata": {
            "tags": []
          },
          "output_type": "execute_result"
        }
      ],
      "source": [
        "# Outliers de weight\n",
        "detectar_outliers_estadisticas(autos, autos_estandarizadas, 2.5, 'weight')"
      ]
    },
    {
      "cell_type": "markdown",
      "metadata": {
        "id": "oQC6fsdrtD5P"
      },
      "source": [
        "# Opcional - Realizar un analisis multivariado\n",
        "\n",
        "Buscar dos variables y realizar un analisis multivariado cruzando las dos variables y detectando los outliers de cada grupo!"
      ]
    }
  ],
  "metadata": {
    "colab": {
      "collapsed_sections": [
        "wV-T3zcMzk_W",
        "WRYCIvkmxbjO",
        "VGtuBHOey1x7",
        "K0B8Zwtrraqp",
        "QkHGqnj7raj8",
        "GMJkrdpFu93Q",
        "HKkl-uSLvu6v",
        "vARjfI_ry0YK",
        "DpbyKEDdHqOq"
      ],
      "name": "outliers_practica_resuelta.ipynb",
      "provenance": []
    },
    "kernelspec": {
      "display_name": "Python 3",
      "name": "python3"
    },
    "language_info": {
      "codemirror_mode": {
        "name": "ipython",
        "version": 3
      },
      "file_extension": ".py",
      "mimetype": "text/x-python",
      "name": "python",
      "nbconvert_exporter": "python",
      "pygments_lexer": "ipython3",
      "version": "3.12.3"
    }
  },
  "nbformat": 4,
  "nbformat_minor": 0
}
