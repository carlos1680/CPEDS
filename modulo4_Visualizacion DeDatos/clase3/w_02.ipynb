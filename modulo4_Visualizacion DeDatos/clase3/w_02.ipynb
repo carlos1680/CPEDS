{
  "cells": [
    {
      "cell_type": "markdown",
      "metadata": {
        "id": "E5s91Zl4Ekdq"
      },
      "source": [
        "# w_02 | Matplotlib"
      ]
    },
    {
      "cell_type": "markdown",
      "metadata": {
        "id": "u1ewKUeVEkds"
      },
      "source": [
        "* Matplotlib tiene dos interfaces \"oficiales\"."
      ]
    },
    {
      "cell_type": "markdown",
      "metadata": {
        "id": "6fUY-LHmEkds"
      },
      "source": [
        "* Object oriented programming.\n",
        "    * Todo es un objeto.\n",
        "    * Podemos llamar métodos sobre esos objetos para modificarlos."
      ]
    },
    {
      "cell_type": "code",
      "execution_count": null,
      "metadata": {
        "id": "A7flxc8wEkdt"
      },
      "outputs": [],
      "source": [
        "import numpy as np\n",
        "import matplotlib.pyplot as plt\n",
        "\n",
        "x = np.linspace(0, 2, 100)\n",
        "\n",
        "fig, ax = plt.subplots() # Crear figura y axes\n",
        "ax.plot(x, x, label='Lineal') # Graficar datos en el ax\n",
        "ax.plot(x, x**2, label='Cuadrático') # Una línea más\n",
        "ax.plot(x, x**3, label='Cúbico') # Otra\n",
        "ax.set_xlabel('x label') # Agregar etiquetas a los ejes\n",
        "ax.set_ylabel('y label')\n",
        "ax.set_title(\"Subplot\") # Agregar un título al eje.\n",
        "ax.legend() # Agregar leyenda.\n",
        "fig.suptitle(\"Figure\") # Agregar un título a toda la figure.\n",
        "plt.show()"
      ]
    },
    {
      "cell_type": "markdown",
      "metadata": {
        "id": "VQ2m2xX9Ekdu"
      },
      "source": [
        "* pyplot:\n",
        "    * Los axes se definen implícitamente\n",
        "    * Las funciones parten del módulo `matplotlib.pyplot` y refieren al último figure/ax creado."
      ]
    },
    {
      "cell_type": "code",
      "execution_count": null,
      "metadata": {
        "id": "tSP_U7LUEkdu"
      },
      "outputs": [],
      "source": [
        "plt.plot(x, x, label='Lineal')\n",
        "plt.plot(x, x**2, label='Cuadrática')\n",
        "plt.plot(x, x**3, label='Cúbico')\n",
        "plt.xlabel('x label')\n",
        "plt.ylabel('y label')\n",
        "plt.title(\"Subplot\")\n",
        "plt.legend()\n",
        "plt.suptitle(\"Figure\")\n",
        "plt.show()"
      ]
    },
    {
      "cell_type": "markdown",
      "source": [
        "* Aunque producen el mismo resultado, su \"filosofía\" es distinta.\n",
        "    * El OOP-approach crea los objetos y los va modificando.\n",
        "        * Comparable a crear un `DataFrame` e irlo modificando con `inplace=True`.\n",
        "    * El pyplot-approach siempre \"sabe\" a qué gráfico nos referimos, y aplica los cambios sobre él mediante funciones.\n",
        "\n",
        "* En este curso vamos a intentar guiarnos por el primero.\n",
        "    * Es más flexible.\n",
        "    * Es más fácil de entender qué estamos modificando.\n",
        "\n",
        "\n",
        "* El flujo de trabajo usual es el siguiente\n",
        "    * Crear `Figure` y `Axes` con `plt.subplots()`\n",
        "        * El nombre de la función es confusa porque pareciera que se refiere a varios gráficos, pero puede ser solo 1.\n",
        "        * Si quisiéramos definir solo la `Figure` usaríamos `plt.figure()`.\n",
        "    * Agregar información a los `axes` y modificar a gusto.\n",
        "    * Modificar `figure` a gusto.\n",
        "    * `plt.show()`"
      ],
      "metadata": {
        "id": "5iSWGv6xbkuf"
      }
    },
    {
      "cell_type": "markdown",
      "source": [
        "Podemos graficar de manera individual cada una de las funciones planteadas."
      ],
      "metadata": {
        "id": "tDCxgJQjFQal"
      }
    },
    {
      "cell_type": "code",
      "source": [
        "# Crear una matriz de subplots con 3 filas y 1 columna\n",
        "fig, axes = plt.subplots(nrows=1, ncols=3)\n",
        "\n",
        "# Graficar datos en el primer subplot (fila 0)\n",
        "axes[0].plot(x, x, label='Lineal')\n",
        "axes[0].set_ylabel('y label')\n",
        "axes[0].set_title('Función Lineal')\n",
        "axes[0].legend()\n",
        "\n",
        "# Graficar datos en el segundo subplot (fila 1)\n",
        "axes[1].plot(x, x**2, label='Cuadrático')\n",
        "axes[1].set_ylabel('y label')\n",
        "axes[1].set_xlabel('x label')\n",
        "axes[1].set_title('Función Cuadrática')\n",
        "axes[1].legend()\n",
        "\n",
        "# Graficar datos en el tercer subplot (fila 2)\n",
        "axes[2].plot(x, x**3, label='Cúbico')\n",
        "axes[2].set_ylabel('y label')\n",
        "axes[2].set_title('Función Cúbica')\n",
        "axes[2].legend()\n",
        "\n",
        "plt.tight_layout()\n",
        "plt.show()"
      ],
      "metadata": {
        "id": "hwqOvmTyFKJ7"
      },
      "execution_count": null,
      "outputs": []
    },
    {
      "cell_type": "markdown",
      "source": [
        "Así como también de forma mas eficiente."
      ],
      "metadata": {
        "id": "MlUGu9vbFfxa"
      }
    },
    {
      "cell_type": "code",
      "source": [
        "import numpy as np\n",
        "import matplotlib.pyplot as plt\n",
        "\n",
        "x = np.linspace(0, 2, 100)\n",
        "\n",
        "# Crear una matriz de subplots con 3 filas y 1 columna\n",
        "fig, axes = plt.subplots(nrows=1, ncols=3)\n",
        "\n",
        "# Listas de nombres de ejes, títulos y funciones\n",
        "name_label = ['Lineal','Cuadrático','Cúbico']\n",
        "name_title = ['Función Lineal','Función Cuadrática','Función Cúbica']\n",
        "funciones = [x,x**2,x**3]\n",
        "\n",
        "for i in range(len(axes)):\n",
        "  axes[i].plot(x, funciones[i], label=name_label[i])\n",
        "  if i == 1:\n",
        "    axes[i].set_xlabel('x label')\n",
        "  axes[i].set_ylabel('y label')\n",
        "  axes[i].set_title(name_title[i])\n",
        "  axes[i].legend()\n",
        "\n",
        "# Ajustar la disposición de los subplots y agregar un título a toda la figura\n",
        "fig.suptitle('Gráficas de Funciones')\n",
        "plt.tight_layout()\n",
        "plt.show()"
      ],
      "metadata": {
        "id": "waYuyk9ZFd2M"
      },
      "execution_count": null,
      "outputs": []
    },
    {
      "cell_type": "markdown",
      "metadata": {
        "id": "30emJHb7Ekdv"
      },
      "source": [
        "* Leamos algunos datos."
      ]
    },
    {
      "cell_type": "code",
      "execution_count": null,
      "metadata": {
        "id": "iFNbJ7xEEkdv"
      },
      "outputs": [],
      "source": [
        "import pandas as pd\n",
        "url = \"https://catalogodatos.gub.uy/dataset/45cad49d-9dfa-4ce5-afe4-6ba2849a907c/resource/6a32347d-335e-4500-b56d-166b8a733502/download/ingei.xlsx\"\n",
        "data = pd.read_excel(url)"
      ]
    },
    {
      "cell_type": "code",
      "execution_count": null,
      "metadata": {
        "id": "TtTJZq6MEkdv"
      },
      "outputs": [],
      "source": [
        "data.info()"
      ]
    },
    {
      "cell_type": "code",
      "execution_count": null,
      "metadata": {
        "id": "EgjRbR6_Ekdv"
      },
      "outputs": [],
      "source": [
        "data.head()"
      ]
    },
    {
      "cell_type": "markdown",
      "metadata": {
        "id": "emCwX-knEkdv"
      },
      "source": [
        "* Y un primer dataset para graficar."
      ]
    },
    {
      "cell_type": "markdown",
      "source": [
        "1. `data.groupby([\"Año\", \"Sector\"])`: Esta línea agrupa los datos del DataFrame data por las columnas \"Año\" y \"Sector\". La función groupby() se utiliza para dividir los datos en grupos basados en los valores únicos de las columnas especificadas. En este caso, queremos agrupar los datos por el año y el sector.\n",
        "\n",
        "2. `.agg({\"Gg Gas\": \"sum\"})`: Después de agrupar los datos, la función agg() se utiliza para realizar una agregación en cada grupo. En este caso, estamos agregando la columna \"Gg Gas\" calculando la suma de sus valores dentro de cada grupo. El resultado de esta operación será un DataFrame con los valores totales de \"Gg Gas\" para cada combinación única de año y sector.\n",
        "\n",
        "3. `.reset_index()`: El método reset_index() se utiliza para restablecer el índice del DataFrame resultante, de modo que los índices del grupo se convierten en columnas nuevamente. Esto es útil para realizar operaciones adicionales después de la agregación.\n",
        "\n",
        "4. `.pivot(index=\"Año\", columns=\"Sector\", values=\"Gg Gas\")`: Finalmente, el método pivot() se utiliza para transformar el DataFrame resultante de la agregación en una tabla pivote. En esta tabla, los valores de la columna \"Sector\" se convierten en columnas y los valores de la columna \"Año\" se convierten en índices (filas). El valor que se utiliza para rellenar la tabla es el total de \"Gg Gas\" que se calculó en la operación de agregación anterior."
      ],
      "metadata": {
        "id": "VSooA0-PhT7Y"
      }
    },
    {
      "cell_type": "code",
      "execution_count": null,
      "metadata": {
        "id": "-5H0jo8YEkdv"
      },
      "outputs": [],
      "source": [
        "data_años = data.groupby([\"Año\", \"Sector\"]).agg({\"Gg Gas\": \"sum\"}).reset_index().pivot(index=\"Año\", columns=\"Sector\", values=\"Gg Gas\")\n",
        "data_años.columns = [\"Energía\", \"Industria\", \"Agricultura\", \"Desechos\", \"Otros\"]\n",
        "data_años.tail()"
      ]
    },
    {
      "cell_type": "markdown",
      "metadata": {
        "id": "_Hp-YK__Ekdw"
      },
      "source": [
        "* El método `plot()` de `Axes` grafica líneas por defecto.\n",
        "    * Toma argumentos x e y de iguales dimensiones.\n",
        "        * Quiere decir que no podemos graficar todas las series de una vez.\n",
        "        * En estos casos se llama repetidas veces al método para agregar distintas series."
      ]
    },
    {
      "cell_type": "code",
      "execution_count": null,
      "metadata": {
        "id": "Drge2cx7Ekdw"
      },
      "outputs": [],
      "source": [
        "plt.style.use(\"seaborn-whitegrid\")\n",
        "fig, ax = plt.subplots()\n",
        "for col in data_años.columns:\n",
        "    ax.plot(data_años.index, data_años[col])\n",
        "ax.legend(data_años.columns, bbox_to_anchor=(0, -0.1), loc=\"upper left\", ncol=3)\n",
        "fig.suptitle(\"Emisión/remoción de GEI por sector\")\n",
        "plt.show()"
      ]
    },
    {
      "cell_type": "markdown",
      "source": [
        "* La leyenda se tiene que agregar explícitamente.\n",
        "    * La ubicación por defecto puede no ser óptima.\n",
        "        * El parámetro `loc` de `legend()` ofrece posiciones por defecto como \"upper right\", pero para ubicar la leyenda por fuera es necesario usar el parámetro `bbox_to_anchor`, que define el punto de referencia."
      ],
      "metadata": {
        "id": "Kq0TEgMh2Vbc"
      }
    },
    {
      "cell_type": "markdown",
      "metadata": {
        "id": "7qcX5z7gEkdw"
      },
      "source": [
        "* Podemos combinar tipos de gráficos."
      ]
    },
    {
      "cell_type": "code",
      "execution_count": null,
      "metadata": {
        "id": "lxgI53-hEkdw"
      },
      "outputs": [],
      "source": [
        "fig, ax = plt.subplots(1, 2, figsize=(12, 6))\n",
        "for col in data_años.columns:\n",
        "    ax[0].plot(data_años.index, data_años[col])\n",
        "ax[0].legend(data_años.columns, bbox_to_anchor=(0, -0.1), loc=\"upper left\", ncol=3)\n",
        "ax[0].set_title(\"1990-2017\")\n",
        "ax[1].bar(height=data_años.iloc[-1], x=data_años.columns)\n",
        "ax[1].set_xticklabels(data_años.columns, rotation=90)\n",
        "ax[1].set_title(\"2019\")\n",
        "fig.suptitle(\"Emisión/remoción de GEI por sector\")\n",
        "fig.tight_layout()\n",
        "plt.show()"
      ]
    },
    {
      "cell_type": "markdown",
      "metadata": {
        "id": "Iq2WNBY9Ekdw"
      },
      "source": [
        "* Notar que ahora tenemos dos `axes` y que podemos indexarlos como una lista.\n",
        "    * El código del gráfico anterior cambia para referenciar al primer `axes`.\n",
        "* Sobre el segundo `axes` llamamos el método `bar()` que crea un gráfico de barras verticales (`barh()` es el correspondiente horizontal).\n",
        "    * Los parámetros clave son `height`, que define el alto de las barras (usualmente el dato a graficar) y `x`.\n",
        "    * Para cambiar la dirección de las etiquetas fue necesario llamar al método `set_xticklabels()`.\n",
        "        * El método exige redefinir las etiquetas, pero permite cambiar la rotación y otros aspectos."
      ]
    },
    {
      "cell_type": "markdown",
      "metadata": {
        "id": "RvzypU9rEkdw"
      },
      "source": [
        "* Es posible combinar las dos interfaces de MPL.\n",
        "    * En este caso, cambiar la rotación de las etiquetas es mucho más simple usando `pyplot`."
      ]
    },
    {
      "cell_type": "code",
      "execution_count": null,
      "metadata": {
        "id": "ey2k9AIfEkdw"
      },
      "outputs": [],
      "source": [
        "fig, ax = plt.subplots(1, 2, figsize=(12, 6))\n",
        "for col in data_años.columns:\n",
        "    ax[0].plot(data_años.index, data_años[col])\n",
        "ax[0].legend(data_años.columns, bbox_to_anchor=(0, -0.1), loc=\"upper left\", ncol=3)\n",
        "ax[0].set_title(\"1990-2017\")\n",
        "ax[1].bar(height=data_años.iloc[-1], x=data_años.columns)\n",
        "plt.xticks(rotation=90)\n",
        "ax[1].set_title(\"2019\")\n",
        "fig.suptitle(\"Emisión/remoción de GEI por sector\")\n",
        "fig.tight_layout()\n",
        "plt.show()"
      ]
    },
    {
      "cell_type": "markdown",
      "metadata": {
        "id": "CPXRzgHcEkdx"
      },
      "source": [
        "* Notar que no se le define a `plt.xticks()` el `axes` que debe modificar."
      ]
    },
    {
      "cell_type": "markdown",
      "metadata": {
        "id": "kuNIHnEVEkdx"
      },
      "source": [
        "* El hecho de que podamos llamar varios métodos de gráficos sobre un mismo `axes` abre algunas posibilidades."
      ]
    },
    {
      "cell_type": "code",
      "execution_count": null,
      "metadata": {
        "id": "DB8eyIvHEkdx"
      },
      "outputs": [],
      "source": [
        "fig, ax = plt.subplots()\n",
        "for col in data_años.columns:\n",
        "    ax.plot(data_años.index,data_años[col])\n",
        "ax.bar(height=data_años.sum(axis=1), x=data_años.index)\n",
        "ax.legend(list(data_años.columns) + [\"Total\"], loc=\"upper left\", bbox_to_anchor=(0, -0.1), ncol=2)\n",
        "plt.show()"
      ]
    },
    {
      "cell_type": "markdown",
      "metadata": {
        "id": "PxA-S2GVEkdx"
      },
      "source": [
        "* Es posible definir disposiciones más complejas con `plt.subplot2grid()`\n",
        "    * Su primer argumento es el tamaño de la grilla, y el segundo la ubicación del gráfico.\n",
        "    * `colspan` y `rowspan` indican cuántas columnas y filas ocupa a apartir de su ubicación."
      ]
    },
    {
      "cell_type": "code",
      "execution_count": null,
      "metadata": {
        "id": "co_64DQaEkdx"
      },
      "outputs": [],
      "source": [
        "gridsize = (2, 2)\n",
        "fig = plt.figure(figsize=(12, 8))\n",
        "ax1 = plt.subplot2grid(gridsize, (0, 0), colspan=3)\n",
        "ax2 = plt.subplot2grid(gridsize, (1, 0))\n",
        "ax3 = plt.subplot2grid(gridsize, (1, 1))\n",
        "plt.show()"
      ]
    },
    {
      "cell_type": "markdown",
      "metadata": {
        "id": "q8AJmzaeEkdx"
      },
      "source": [
        "* Antes de armar el gráfico vamos a crear otro corte de la información."
      ]
    },
    {
      "cell_type": "code",
      "execution_count": null,
      "metadata": {
        "id": "O0ZfykZfEkdx"
      },
      "outputs": [],
      "source": [
        "data_sub = data.groupby([\"Año\", \"Sector\", \"Subcategoría\"]).agg({\"Gg Gas\": \"sum\"}).reset_index()\n",
        "agro = data_sub.query(\"Sector == '3 - Agricultura, Silvicultura y Otros Usos de la Tierra'\").pivot(index=\"Año\", columns=\"Subcategoría\", values=\"Gg Gas\")\n",
        "energia = data_sub.query(\"Sector == '1 - Energía'\").pivot(index=\"Año\", columns=\"Subcategoría\", values=\"Gg Gas\")\n",
        "energia.head()"
      ]
    },
    {
      "cell_type": "markdown",
      "metadata": {
        "id": "5Wgi_yAIEkdx"
      },
      "source": [
        "* Una vez definido el grid podemos agregar información a los `Axes` como siempre.\n",
        "* Tenemos que definir un nuevo color cycle para la gráfica de agro con `set_prop_cycle()`, porque sino se empiezan a repetir.\n",
        "    * Tomamos los colores de uno de los colormaps incluidos.\n",
        "* Usamos gráficos de barras apilados simplemente iterando.\n",
        "* Las leyendas no son muy explicativas. Podríamos definirlas a mano."
      ]
    },
    {
      "cell_type": "markdown",
      "source": [
        "1. `gridsize = (2, 2)`: Aquí se define el tamaño de la cuadrícula para la disposición de las subtramas. La cuadrícula tiene dos filas y dos columnas, por lo que habrá espacio para cuatro subtramas en total.\n",
        "\n",
        "2. `fig = plt.figure(figsize=(12, 10))`: Se crea la figura principal con un tamaño de 12 pulgadas de ancho y 10 pulgadas de alto.\n",
        "\n",
        "3. `ax1 = plt.subplot2grid(gridsize, (0, 0), colspan=3)`: Se crea la primera subtrama en la posición (0, 0) de la cuadrícula con una extensión de 3 columnas de ancho. La variable ax1 se utiliza para referenciar esta subtrama.\n",
        "\n",
        "4. `ax2 = plt.subplot2grid(gridsize, (1, 0))`: Se crea la segunda subtrama en la posición (1, 0) de la cuadrícula. La variable ax2 se utiliza para referenciar esta subtrama.\n",
        "\n",
        "5. `ax3 = plt.subplot2grid(gridsize, (1, 1))`: Se crea la tercera subtrama en la posición (1, 1) de la cuadrícula. La variable ax3 se utiliza para referenciar esta subtrama."
      ],
      "metadata": {
        "id": "HvB5z9mg7I-4"
      }
    },
    {
      "cell_type": "code",
      "execution_count": null,
      "metadata": {
        "id": "PnMbolPOEkdy"
      },
      "outputs": [],
      "source": [
        "plt.style.use('seaborn')\n",
        "\n",
        "gridsize = (2, 2)\n",
        "fig = plt.figure(figsize=(12, 10))\n",
        "ax1 = plt.subplot2grid(gridsize, (0, 0), colspan=3)\n",
        "ax2 = plt.subplot2grid(gridsize, (1, 0))\n",
        "ax3 = plt.subplot2grid(gridsize, (1, 1))\n",
        "\n",
        "for col in data_años.columns:\n",
        "    ax1.plot(data_años.index, data_años[col])\n",
        "ax1.legend(data_años.columns, loc=\"upper left\", ncol=5)\n",
        "cm = plt.get_cmap(\"tab20c\")\n",
        "ax2.set_prop_cycle(color=cm.colors)\n",
        "\n",
        "for col in agro.columns:\n",
        "    ax2.bar(agro.index, agro[col])\n",
        "ax2.legend(agro.columns.str[:5], loc=\"lower left\", ncol=5)\n",
        "ax2.set_title(\"Agro\")\n",
        "\n",
        "for col in energia.columns:\n",
        "    ax3.bar(energia.index, energia[col])\n",
        "ax3.legend(energia.columns.str[:5], loc=\"upper left\", ncol=3)\n",
        "ax3.set_title(\"Energía\")\n",
        "\n",
        "fig.suptitle(\"Emisión/remoción de GEI por sector\", size=18)\n",
        "fig.tight_layout()\n",
        "plt.show()"
      ]
    },
    {
      "cell_type": "markdown",
      "metadata": {
        "id": "MyE8ZmaNEkdy"
      },
      "source": [
        "* MPL tiene varios tipos de gráficos convencionales.\n",
        "    * Se puede ver una galería [en su web](https://matplotlib.org/stable/gallery/index.html).\n",
        "* Veamos algunos ejemplos más allá de líneas y barras."
      ]
    },
    {
      "cell_type": "markdown",
      "metadata": {
        "id": "HESe8vigEkdy"
      },
      "source": [
        "* Un histograma muestra la distribución de una variable.\n",
        "* Se organiza en \"bins\", que agrupan observaciones en determinado rango.\n",
        "* Para este ejemplo también usamos `Axes.axvline()` para crear líneas verticales a la altura de la media de cada subcategoría, y `Axes.text()` para agregar una etiqueta."
      ]
    },
    {
      "cell_type": "code",
      "execution_count": null,
      "metadata": {
        "id": "gE06765zEkdy"
      },
      "outputs": [],
      "source": [
        "agro = data.loc[data[\"Sector\"] == \"3 - Agricultura, Silvicultura y Otros Usos de la Tierra\"]\n",
        "unique = agro[\"Subcategoría\"].unique()\n",
        "\n",
        "with plt.style.context(\"ggplot\"):\n",
        "    fig, axes = plt.subplots(2, 3, figsize=(10, 6))\n",
        "    for ax, sub in zip(axes.flatten(), unique):\n",
        "        sub_mean = agro.loc[agro[\"Subcategoría\"] == sub, \"Gg Gas\"].mean()\n",
        "        ax.hist(agro.loc[agro[\"Subcategoría\"] == sub, \"Gg Gas\"], bins=\"auto\")\n",
        "        ax.axvline(sub_mean)\n",
        "        ax.text(x=sub_mean, y=0, s=\"Media\", size=10)\n",
        "        ax.set_title(sub, size=10, loc=\"left\")\n",
        "fig.suptitle(\"Sector agro: distribución de GEI por subcategoría\")\n",
        "fig.tight_layout()\n",
        "plt.show()"
      ]
    },
    {
      "cell_type": "markdown",
      "metadata": {
        "id": "AwWwftj-Ekdy"
      },
      "source": [
        "* Un boxplot muestra la distribución de una variable.\n",
        "    * El rectángulo cubre el rango intercuartil (25% a 75% de las observaciones está ahí)\n",
        "    * Dentro del rectángulo está la mediana, que parte las observaciones en dos mitades.\n",
        "    * Los bigotes van hasta Q1(Q3) -(+) 1.5 del rango intercuartil.\n",
        "        * Si no hay observaciones que los superen, el bigote se fija en el máximo(mínimo)\n",
        "        * Las observaciones más allá de los bigotes se consideran outliers."
      ]
    },
    {
      "cell_type": "markdown",
      "metadata": {
        "id": "i6hRD9F4Ekdy"
      },
      "source": [
        "![](https://miro.medium.com/max/1838/1*2c21SkzJMf3frPXPAR_gZA.png)"
      ]
    },
    {
      "cell_type": "markdown",
      "metadata": {
        "id": "dqatdwbiEkdy"
      },
      "source": [
        "* Vamos a armar un boxplot para cada uno de los sectores en el año 2017.\n",
        "* Necesitamos tener un array con todos los datos por sector."
      ]
    },
    {
      "cell_type": "code",
      "execution_count": null,
      "metadata": {
        "id": "rPWWsxLqEkdy"
      },
      "outputs": [],
      "source": [
        "pivot = data.loc[data[\"Año\"] == 2017, :].pivot(columns=\"Sector\", values=\"Gg Gas\")\n",
        "pivot.head()"
      ]
    },
    {
      "cell_type": "code",
      "execution_count": null,
      "metadata": {
        "id": "EiY1PJKYEkdz"
      },
      "outputs": [],
      "source": [
        "fig, ax = plt.subplots()\n",
        "data_box = []\n",
        "labels = []\n",
        "for col in pivot.columns:\n",
        "    aux = pivot[col].dropna()\n",
        "    data_box.append(aux)\n",
        "    labels.append(col)\n",
        "    print(f\"{col} tiene {len(aux)} datos\")\n",
        "ax.boxplot(data_box, labels=labels, vert=False)\n",
        "ax.set_xlim(-10, 50)\n",
        "plt.show()"
      ]
    },
    {
      "cell_type": "markdown",
      "metadata": {
        "id": "V4qcBNF8Ekdz"
      },
      "source": [
        "* Un scatterplot muestra la relación entre dos variables. Es funcionalmente igual a un gráfico de líneas, pero estas relaciones suelen mostrarse con puntos.\n",
        "* Usamos otro dataset para este gráfico."
      ]
    },
    {
      "cell_type": "code",
      "execution_count": null,
      "metadata": {
        "id": "NE5B9xSvEkdz"
      },
      "outputs": [],
      "source": [
        "inc = pd.read_csv(\"https://catalogodatos.gub.uy/dataset/239103c3-a3f4-4d3c-93f6-008198eeda62/resource/e45a435f-0968-4868-9759-2038840b836d/download/inc-ofrecimientostierra-datos-v20210804.csv\", sep=\";\", error_bad_lines=False, decimal=\",\")\n",
        "inc.head()"
      ]
    },
    {
      "cell_type": "code",
      "execution_count": null,
      "metadata": {
        "id": "yiwZCChTEkdz"
      },
      "outputs": [],
      "source": [
        "fig, ax = plt.subplots(1, 2, sharey=True, sharex=True)\n",
        "ax[0].scatter(inc[\"Superficie total(ha)\"], inc[\"Precio total\"])\n",
        "ax[0].set_xlabel(\"Superficie\")\n",
        "ax[0].set_ylabel(\"Precio\")\n",
        "ax[1].scatter(inc[\"Superficie CONEAT 100 (ha)\"], inc[\"Precio total\"])\n",
        "ax[1].set_xlabel(\"Superficie (CONEAT 100)\")\n",
        "fig.suptitle(\"Relación entre precio y hectáreas\")\n",
        "plt.show()"
      ]
    },
    {
      "cell_type": "markdown",
      "metadata": {
        "id": "ZGeKKdjlEkdz"
      },
      "source": [
        "# Fin"
      ]
    }
  ],
  "metadata": {
    "celltoolbar": "Slideshow",
    "interpreter": {
      "hash": "4b834d68c192bbe56cdabf8892ea496e9e3665fbf6a173e251d996706d79f6cc"
    },
    "kernelspec": {
      "display_name": "Python 3 (ipykernel)",
      "language": "python",
      "name": "python3"
    },
    "language_info": {
      "codemirror_mode": {
        "name": "ipython",
        "version": 3
      },
      "file_extension": ".py",
      "mimetype": "text/x-python",
      "name": "python",
      "nbconvert_exporter": "python",
      "pygments_lexer": "ipython3",
      "version": "3.7.9"
    },
    "rise": {
      "scroll": true,
      "theme": "simple"
    },
    "colab": {
      "provenance": []
    }
  },
  "nbformat": 4,
  "nbformat_minor": 0
}