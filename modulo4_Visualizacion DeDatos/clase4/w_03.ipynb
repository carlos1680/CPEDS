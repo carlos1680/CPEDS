{
  "cells": [
    {
      "cell_type": "markdown",
      "metadata": {
        "id": "fwlq1cB186oF"
      },
      "source": [
        "# w_03 | Seaborn"
      ]
    },
    {
      "cell_type": "markdown",
      "metadata": {
        "id": "WD1_4Uxw86oI"
      },
      "source": [
        "* Vamos a recorrer sistemáticamente las distintas categorías de la API de Seaborn.\n",
        "* Traemos un dataset e importamos las librerías necesarias\n",
        "    * Todo Seaborn se suele usar desde el módulo principal que se le asigna el alias `sns`"
      ]
    },
    {
      "cell_type": "code",
      "execution_count": 2,
      "metadata": {
        "id": "d5vovOcy86oI"
      },
      "outputs": [
        {
          "ename": "ParserError",
          "evalue": "Error tokenizing data. C error: Expected 17 fields in line 50, saw 19\n",
          "output_type": "error",
          "traceback": [
            "\u001b[1;31m---------------------------------------------------------------------------\u001b[0m",
            "\u001b[1;31mParserError\u001b[0m                               Traceback (most recent call last)",
            "Cell \u001b[1;32mIn[2], line 5\u001b[0m\n\u001b[0;32m      2\u001b[0m \u001b[38;5;28;01mimport\u001b[39;00m \u001b[38;5;21;01mseaborn\u001b[39;00m \u001b[38;5;28;01mas\u001b[39;00m \u001b[38;5;21;01msns\u001b[39;00m\n\u001b[0;32m      3\u001b[0m \u001b[38;5;28;01mimport\u001b[39;00m \u001b[38;5;21;01mnumpy\u001b[39;00m \u001b[38;5;28;01mas\u001b[39;00m \u001b[38;5;21;01mnp\u001b[39;00m\n\u001b[1;32m----> 5\u001b[0m inc \u001b[38;5;241m=\u001b[39m \u001b[43mpd\u001b[49m\u001b[38;5;241;43m.\u001b[39;49m\u001b[43mread_csv\u001b[49m\u001b[43m(\u001b[49m\u001b[38;5;124;43m\"\u001b[39;49m\u001b[38;5;124;43mhttps://catalogodatos.gub.uy/dataset/239103c3-a3f4-4d3c-93f6-008198eeda62/resource/e45a435f-0968-4868-9759-2038840b836d/download/inc-ofrecimientostierra-datos-v20210804.csv\u001b[39;49m\u001b[38;5;124;43m\"\u001b[39;49m\u001b[43m,\u001b[49m\u001b[43m \u001b[49m\u001b[43msep\u001b[49m\u001b[38;5;241;43m=\u001b[39;49m\u001b[38;5;124;43m\"\u001b[39;49m\u001b[38;5;124;43m;\u001b[39;49m\u001b[38;5;124;43m\"\u001b[39;49m\u001b[43m,\u001b[49m\u001b[43m \u001b[49m\u001b[43mdecimal\u001b[49m\u001b[38;5;241;43m=\u001b[39;49m\u001b[38;5;124;43m\"\u001b[39;49m\u001b[38;5;124;43m,\u001b[39;49m\u001b[38;5;124;43m\"\u001b[39;49m\u001b[43m)\u001b[49m\n\u001b[0;32m      6\u001b[0m inc[\u001b[38;5;124m\"\u001b[39m\u001b[38;5;124mFecha\u001b[39m\u001b[38;5;124m\"\u001b[39m] \u001b[38;5;241m=\u001b[39m pd\u001b[38;5;241m.\u001b[39mto_datetime(inc[\u001b[38;5;124m\"\u001b[39m\u001b[38;5;124mFecha ingreso trámite\u001b[39m\u001b[38;5;124m\"\u001b[39m], errors\u001b[38;5;241m=\u001b[39m\u001b[38;5;124m\"\u001b[39m\u001b[38;5;124mcoerce\u001b[39m\u001b[38;5;124m\"\u001b[39m)\n\u001b[0;32m      7\u001b[0m inc[[\u001b[38;5;124m\"\u001b[39m\u001b[38;5;124mDepartamento\u001b[39m\u001b[38;5;124m\"\u001b[39m, \u001b[38;5;124m\"\u001b[39m\u001b[38;5;124maux\u001b[39m\u001b[38;5;124m\"\u001b[39m]] \u001b[38;5;241m=\u001b[39m inc[\u001b[38;5;124m\"\u001b[39m\u001b[38;5;124mPadrones\u001b[39m\u001b[38;5;124m\"\u001b[39m]\u001b[38;5;241m.\u001b[39mstr\u001b[38;5;241m.\u001b[39msplit(\u001b[38;5;124m\"\u001b[39m\u001b[38;5;124m->\u001b[39m\u001b[38;5;124m\"\u001b[39m, expand\u001b[38;5;241m=\u001b[39m\u001b[38;5;28;01mTrue\u001b[39;00m)\u001b[38;5;241m.\u001b[39miloc[:, :\u001b[38;5;241m2\u001b[39m]\n",
            "File \u001b[1;32mc:\\CPE\\CPEDS\\envWindows\\Lib\\site-packages\\pandas\\io\\parsers\\readers.py:1026\u001b[0m, in \u001b[0;36mread_csv\u001b[1;34m(filepath_or_buffer, sep, delimiter, header, names, index_col, usecols, dtype, engine, converters, true_values, false_values, skipinitialspace, skiprows, skipfooter, nrows, na_values, keep_default_na, na_filter, verbose, skip_blank_lines, parse_dates, infer_datetime_format, keep_date_col, date_parser, date_format, dayfirst, cache_dates, iterator, chunksize, compression, thousands, decimal, lineterminator, quotechar, quoting, doublequote, escapechar, comment, encoding, encoding_errors, dialect, on_bad_lines, delim_whitespace, low_memory, memory_map, float_precision, storage_options, dtype_backend)\u001b[0m\n\u001b[0;32m   1013\u001b[0m kwds_defaults \u001b[38;5;241m=\u001b[39m _refine_defaults_read(\n\u001b[0;32m   1014\u001b[0m     dialect,\n\u001b[0;32m   1015\u001b[0m     delimiter,\n\u001b[1;32m   (...)\u001b[0m\n\u001b[0;32m   1022\u001b[0m     dtype_backend\u001b[38;5;241m=\u001b[39mdtype_backend,\n\u001b[0;32m   1023\u001b[0m )\n\u001b[0;32m   1024\u001b[0m kwds\u001b[38;5;241m.\u001b[39mupdate(kwds_defaults)\n\u001b[1;32m-> 1026\u001b[0m \u001b[38;5;28;01mreturn\u001b[39;00m \u001b[43m_read\u001b[49m\u001b[43m(\u001b[49m\u001b[43mfilepath_or_buffer\u001b[49m\u001b[43m,\u001b[49m\u001b[43m \u001b[49m\u001b[43mkwds\u001b[49m\u001b[43m)\u001b[49m\n",
            "File \u001b[1;32mc:\\CPE\\CPEDS\\envWindows\\Lib\\site-packages\\pandas\\io\\parsers\\readers.py:626\u001b[0m, in \u001b[0;36m_read\u001b[1;34m(filepath_or_buffer, kwds)\u001b[0m\n\u001b[0;32m    623\u001b[0m     \u001b[38;5;28;01mreturn\u001b[39;00m parser\n\u001b[0;32m    625\u001b[0m \u001b[38;5;28;01mwith\u001b[39;00m parser:\n\u001b[1;32m--> 626\u001b[0m     \u001b[38;5;28;01mreturn\u001b[39;00m \u001b[43mparser\u001b[49m\u001b[38;5;241;43m.\u001b[39;49m\u001b[43mread\u001b[49m\u001b[43m(\u001b[49m\u001b[43mnrows\u001b[49m\u001b[43m)\u001b[49m\n",
            "File \u001b[1;32mc:\\CPE\\CPEDS\\envWindows\\Lib\\site-packages\\pandas\\io\\parsers\\readers.py:1923\u001b[0m, in \u001b[0;36mTextFileReader.read\u001b[1;34m(self, nrows)\u001b[0m\n\u001b[0;32m   1916\u001b[0m nrows \u001b[38;5;241m=\u001b[39m validate_integer(\u001b[38;5;124m\"\u001b[39m\u001b[38;5;124mnrows\u001b[39m\u001b[38;5;124m\"\u001b[39m, nrows)\n\u001b[0;32m   1917\u001b[0m \u001b[38;5;28;01mtry\u001b[39;00m:\n\u001b[0;32m   1918\u001b[0m     \u001b[38;5;66;03m# error: \"ParserBase\" has no attribute \"read\"\u001b[39;00m\n\u001b[0;32m   1919\u001b[0m     (\n\u001b[0;32m   1920\u001b[0m         index,\n\u001b[0;32m   1921\u001b[0m         columns,\n\u001b[0;32m   1922\u001b[0m         col_dict,\n\u001b[1;32m-> 1923\u001b[0m     ) \u001b[38;5;241m=\u001b[39m \u001b[38;5;28;43mself\u001b[39;49m\u001b[38;5;241;43m.\u001b[39;49m\u001b[43m_engine\u001b[49m\u001b[38;5;241;43m.\u001b[39;49m\u001b[43mread\u001b[49m\u001b[43m(\u001b[49m\u001b[43m  \u001b[49m\u001b[38;5;66;43;03m# type: ignore[attr-defined]\u001b[39;49;00m\n\u001b[0;32m   1924\u001b[0m \u001b[43m        \u001b[49m\u001b[43mnrows\u001b[49m\n\u001b[0;32m   1925\u001b[0m \u001b[43m    \u001b[49m\u001b[43m)\u001b[49m\n\u001b[0;32m   1926\u001b[0m \u001b[38;5;28;01mexcept\u001b[39;00m \u001b[38;5;167;01mException\u001b[39;00m:\n\u001b[0;32m   1927\u001b[0m     \u001b[38;5;28mself\u001b[39m\u001b[38;5;241m.\u001b[39mclose()\n",
            "File \u001b[1;32mc:\\CPE\\CPEDS\\envWindows\\Lib\\site-packages\\pandas\\io\\parsers\\c_parser_wrapper.py:234\u001b[0m, in \u001b[0;36mCParserWrapper.read\u001b[1;34m(self, nrows)\u001b[0m\n\u001b[0;32m    232\u001b[0m \u001b[38;5;28;01mtry\u001b[39;00m:\n\u001b[0;32m    233\u001b[0m     \u001b[38;5;28;01mif\u001b[39;00m \u001b[38;5;28mself\u001b[39m\u001b[38;5;241m.\u001b[39mlow_memory:\n\u001b[1;32m--> 234\u001b[0m         chunks \u001b[38;5;241m=\u001b[39m \u001b[38;5;28;43mself\u001b[39;49m\u001b[38;5;241;43m.\u001b[39;49m\u001b[43m_reader\u001b[49m\u001b[38;5;241;43m.\u001b[39;49m\u001b[43mread_low_memory\u001b[49m\u001b[43m(\u001b[49m\u001b[43mnrows\u001b[49m\u001b[43m)\u001b[49m\n\u001b[0;32m    235\u001b[0m         \u001b[38;5;66;03m# destructive to chunks\u001b[39;00m\n\u001b[0;32m    236\u001b[0m         data \u001b[38;5;241m=\u001b[39m _concatenate_chunks(chunks)\n",
            "File \u001b[1;32mparsers.pyx:838\u001b[0m, in \u001b[0;36mpandas._libs.parsers.TextReader.read_low_memory\u001b[1;34m()\u001b[0m\n",
            "File \u001b[1;32mparsers.pyx:905\u001b[0m, in \u001b[0;36mpandas._libs.parsers.TextReader._read_rows\u001b[1;34m()\u001b[0m\n",
            "File \u001b[1;32mparsers.pyx:874\u001b[0m, in \u001b[0;36mpandas._libs.parsers.TextReader._tokenize_rows\u001b[1;34m()\u001b[0m\n",
            "File \u001b[1;32mparsers.pyx:891\u001b[0m, in \u001b[0;36mpandas._libs.parsers.TextReader._check_tokenize_status\u001b[1;34m()\u001b[0m\n",
            "File \u001b[1;32mparsers.pyx:2061\u001b[0m, in \u001b[0;36mpandas._libs.parsers.raise_parser_error\u001b[1;34m()\u001b[0m\n",
            "\u001b[1;31mParserError\u001b[0m: Error tokenizing data. C error: Expected 17 fields in line 50, saw 19\n"
          ]
        }
      ],
      "source": [
        "import pandas as pd\n",
        "import seaborn as sns\n",
        "import numpy as np\n",
        "\n",
        "inc = pd.read_csv(\"https://catalogodatos.gub.uy/dataset/239103c3-a3f4-4d3c-93f6-008198eeda62/resource/e45a435f-0968-4868-9759-2038840b836d/download/inc-ofrecimientostierra-datos-v20210804.csv\", sep=\";\", decimal=\",\")\n",
        "inc[\"Fecha\"] = pd.to_datetime(inc[\"Fecha ingreso trámite\"], errors=\"coerce\")\n",
        "inc[[\"Departamento\", \"aux\"]] = inc[\"Padrones\"].str.split(\"->\", expand=True).iloc[:, :2]\n",
        "inc[\"Rural\"] = inc[\"aux\"].str.split(\":\", expand=True).iloc[:, 0]\n",
        "inc.drop([\"aux\", \"Tipo de negocio.1\", \"aux\", \"Fecha ingreso trámite\", \"Padrones\", \"Multa por incumplimiento\"], axis=1, inplace=True)\n",
        "inc = inc.loc[inc[\"Moneda\"] == \"U$S\", :]\n",
        "inc = inc.loc[inc[\"Fecha\"] > \"2008-01-01\", :]\n",
        "inc.rename({\"Precio total\": \"Precio\", \"Superficie total(ha)\": \"Sup\", \"Superficie CONEAT 100 (ha)\": \"Sup CONEAT\"}, inplace=True, axis=1)\n",
        "inc[\"Sup CONEAT\"].replace(0, np.nan, inplace=True)\n",
        "inc[\"Precio\"] = inc[\"Precio\"] / 1000\n",
        "inc[\"Calidad\"] = inc[\"Sup CONEAT\"] / inc[\"Sup\"]\n",
        "inc[\"Calidad\"] = inc[\"Calidad\"].where(inc[\"Calidad\"] < 5, pd.NA)\n",
        "inc[\"PPH\"] = inc[\"Precio\"] / inc[\"Sup\"] * 1000\n",
        "inc.head()"
      ]
    },
    {
      "cell_type": "code",
      "execution_count": null,
      "metadata": {
        "id": "6G6JBT0w86oL"
      },
      "outputs": [],
      "source": [
        "inc.shape"
      ]
    },
    {
      "cell_type": "code",
      "execution_count": null,
      "metadata": {
        "id": "6ND4bLoS86oL"
      },
      "outputs": [],
      "source": [
        "inc.info()"
      ]
    },
    {
      "cell_type": "markdown",
      "metadata": {
        "id": "VLGR32k886oL"
      },
      "source": [
        "* `sns.scatterplot()` in `sns.lineplot()` muestran relaciones entre variables continuas.\n",
        "* Continua refiere a que no hay saltos discretos en la distribución de la variable."
      ]
    },
    {
      "cell_type": "code",
      "execution_count": null,
      "metadata": {
        "id": "JfzV-8kE86oM"
      },
      "outputs": [],
      "source": [
        "sns.set_style(style=\"darkgrid\", rc={\"figure.figsize\": (12, 6)})\n",
        "\n",
        "sns.lineplot(data=inc, x=\"Fecha\", y=\"Precio\")"
      ]
    },
    {
      "cell_type": "markdown",
      "metadata": {
        "id": "zd_O1JNB86oM"
      },
      "source": [
        "* Notar 3 parámetros clave\n",
        "    * `data` refiere a los datos a graficar. Esto en general debería ser un `pandas.DataFrame`, pero pero puede ser un `dict`, numpy arrays o incluso listas.\n",
        "    * `x` e `y` refiere a qué graficar en cada eje.\n",
        "        * Se refiere a ellos por el nombre de la columna en el caso de que `data` sea un df.\n",
        "    * Seaborn asume que la data es wide-form cuando `x` e `y` no están asignados."
      ]
    },
    {
      "cell_type": "markdown",
      "metadata": {
        "id": "4HwTavKH86oM"
      },
      "source": [
        "* Cuando hay varios valores para un mismo `x`,  Seaborn las agrega y muestra un intervalo de confianza."
      ]
    },
    {
      "cell_type": "code",
      "execution_count": null,
      "metadata": {
        "id": "6FxT19qo86oN"
      },
      "outputs": [],
      "source": [
        "sns.lineplot(data=inc.loc[inc[\"Fecha\"] > \"2020-01-01\"], x=\"Fecha\", y=\"Precio\")"
      ]
    },
    {
      "cell_type": "markdown",
      "metadata": {
        "id": "s8EAtLh986oN"
      },
      "source": [
        "* También se puede definir que en lugar de mostrar un intervalo de confianza se muestre el desvío estándar."
      ]
    },
    {
      "cell_type": "code",
      "execution_count": null,
      "metadata": {
        "id": "tHThYE8F86oN"
      },
      "outputs": [],
      "source": [
        "sns.lineplot(data=inc.loc[inc[\"Fecha\"] > \"2020-01-01\"], x=\"Fecha\", y=\"Precio\", errorbar='sd' )"
      ]
    },
    {
      "cell_type": "markdown",
      "metadata": {
        "id": "lsWnONjh86oO"
      },
      "source": [
        "* Podemos definir cómo agrega observaciones.\n",
        "    * O que no las agregue con `estimator=None`\n",
        "\n",
        "El parámetro estimator en la función sns.lineplot() de Seaborn controla cómo se calcula y muestra el valor central de la distribución de los datos cuando estás trazando una línea. En otras palabras, determina cómo se representa la tendencia general de los datos en el gráfico de líneas."
      ]
    },
    {
      "cell_type": "code",
      "execution_count": null,
      "metadata": {
        "id": "Zfj7CpcZ86oO"
      },
      "outputs": [],
      "source": [
        "sns.lineplot(data=inc.loc[inc[\"Fecha\"] > \"2020-01-01\"], x=\"Fecha\", y=\"Precio\", estimator=\"sum\")"
      ]
    },
    {
      "cell_type": "markdown",
      "metadata": {
        "id": "Q69-Zhgd86oO"
      },
      "source": [
        "* Por defecto `x` e `y` son ordenados antes de graficar.\n",
        "    * El ordenamiento de los ejes se puede desactivar.Esto significa que los puntos se conectarán en el orden en que aparecen en el conjunto de datos, sin importar si están en orden cronológico o no"
      ]
    },
    {
      "cell_type": "code",
      "execution_count": null,
      "metadata": {
        "id": "-O6rs0_m86oO"
      },
      "outputs": [],
      "source": [
        "sns.lineplot(data=inc, x=\"Fecha\", y=\"Precio\", sort=False)"
      ]
    },
    {
      "cell_type": "markdown",
      "metadata": {
        "id": "IHjk5oLK86oO"
      },
      "source": [
        "* Como vimos, `hue`, `style` y `size` permiten agregar dimensiones.\n",
        "* En el siguiente paso pasamos a usar `seaborn.scatterplot()`."
      ]
    },
    {
      "cell_type": "markdown",
      "metadata": {
        "id": "dtFd533pvwzn"
      },
      "source": [
        "* `hue=\"Departamento\"`: Esta opción permite codificar una tercera variable categórica (\"Departamento\") utilizando colores diferentes para cada categoría. Cada punto en el gráfico estará coloreado según el valor de la columna \"Departamento\".\n",
        "\n",
        "* `size=\"Estado de ocupación\"`: Esta opción permite ajustar el tamaño de los puntos en función de otra variable categórica (\"Estado de ocupación\"). Los puntos tendrán tamaños diferentes según el valor de esta columna.\n",
        "\n",
        "* `style=\"Tipo de negocio\"`: Esto permite asignar diferentes estilos a los puntos en función de otra variable categórica (\"Tipo de negocio\"). Los puntos pueden tener formas diferentes para cada valor de esta columna."
      ]
    },
    {
      "cell_type": "code",
      "execution_count": null,
      "metadata": {
        "id": "1zVCG0ev86oP"
      },
      "outputs": [],
      "source": [
        "sns.scatterplot(data=inc, x=\"Sup\", y=\"Precio\", hue=\"Departamento\",\n",
        "                size=\"Estado de ocupación\", style=\"Tipo de negocio\")"
      ]
    },
    {
      "cell_type": "markdown",
      "metadata": {
        "id": "TETKLOzl86oP"
      },
      "source": [
        "* Esta leyenda es difícil de ubicar porque tiene muchas categorías.\n",
        "* En estos casos podemos optar por moverla manualmente, o usar funciones a nivel de figura.\n",
        "    * En la siguiente celda usamos `seaborn.relplot`, que es la función de figuras correspondiente a gráficos relacionales.\n",
        "    * Por defecto la leyenda se ubica por fuera de la gráfica.\n",
        "    * Las funciones de figura permiten definir `height` y `aspect` para controlar las dimensiones."
      ]
    },
    {
      "cell_type": "markdown",
      "metadata": {
        "id": "2YEo3U2Gwdps"
      },
      "source": [
        "El parámetro aspect está configurado como 1.2, lo que significa que el ancho del gráfico será 1.2 veces más grande que su altura"
      ]
    },
    {
      "cell_type": "code",
      "execution_count": null,
      "metadata": {
        "id": "IOqAGpIN86oP"
      },
      "outputs": [],
      "source": [
        "sns.relplot(data=inc, x=\"Sup\", y=\"Precio\", hue=\"Departamento\",\n",
        "                size=\"Estado de ocupación\", style=\"Tipo de negocio\", kind=\"scatter\",height=8, aspect=1.2)"
      ]
    },
    {
      "cell_type": "markdown",
      "metadata": {
        "id": "Dzls7GCO86oP"
      },
      "source": [
        "* Para mover la leyenda vamos a usar MPL.\n",
        "    * Podemos usar ambas interfaces."
      ]
    },
    {
      "cell_type": "code",
      "execution_count": null,
      "metadata": {
        "id": "mf2xCa0U86oQ"
      },
      "outputs": [],
      "source": [
        "import matplotlib.pyplot as plt\n",
        "\n",
        "g = sns.scatterplot(data=inc, x=\"Sup\", y=\"Precio\", hue=\"Departamento\",\n",
        "                size=\"Estado de ocupación\", style=\"Tipo de negocio\")\n",
        "g.legend(loc=\"upper left\", bbox_to_anchor=(0, -0.1), ncol=4)"
      ]
    },
    {
      "cell_type": "code",
      "execution_count": null,
      "metadata": {
        "id": "3rH-eYym86oQ"
      },
      "outputs": [],
      "source": [
        "import matplotlib.pyplot as plt\n",
        "\n",
        "sns.scatterplot(data=inc, x=\"Sup\", y=\"Precio\", hue=\"Departamento\",\n",
        "                size=\"Estado de ocupación\", style=\"Tipo de negocio\")\n",
        "plt.legend(loc=\"upper left\", bbox_to_anchor=(0, -0.1), ncol=4)"
      ]
    },
    {
      "cell_type": "markdown",
      "metadata": {
        "id": "eB9pPqICx5W_"
      },
      "source": [
        "* Funciones de nivel de eje (`axes-level functions`): Estas funciones, como `sns.scatterplot()`, `sns.lineplot()`, etc., devuelven un objeto de tipo \"ejes\" que representa un solo eje del gráfico. Puedes acceder directamente a los métodos y propiedades del objeto \"ejes\" para personalizar el gráfico de manera detallada. Por ejemplo, puedes agregar leyendas, títulos y personalizar los ejes.\n",
        "\n",
        "* Funciones de nivel de figura (`figure-level functions`): Estas funciones, como `sns.relplot()`, sns.catplot(), etc., crean una figura completa que contiene uno o más ejes. Estas funciones generalmente tienen un alto nivel de automatización y permiten crear tipos de gráficos más complejos. Sin embargo, debido a esta automatización, a veces ciertas personalizaciones detalladas no son directamente accesibles."
      ]
    },
    {
      "cell_type": "markdown",
      "metadata": {
        "id": "twVg3aNt86oQ"
      },
      "source": [
        "* Notar que si llamamos una `figure-level function`, los axes no están disponibles a primer nivel. Esto quiere decir que cuando usas una función de nivel de figura como `sns.relplot()`, los objetos de \"ejes\" no están directamente disponibles a nivel superior (primer nivel). En otras palabras, no puedes acceder y personalizar los ejes individualmente como lo harías con las funciones de nivel de eje."
      ]
    },
    {
      "cell_type": "code",
      "execution_count": null,
      "metadata": {
        "id": "FuxQ_dj086oR"
      },
      "outputs": [],
      "source": [
        "import traceback\n",
        "\n",
        "g = sns.relplot(data=inc, x=\"Sup\", y=\"Precio\", hue=\"Departamento\",\n",
        "                size=\"Estado de ocupación\", style=\"Tipo de negocio\", kind=\"scatter\", height=8, aspect=1.2)\n",
        "try:\n",
        "    g.legend(loc=\"upper left\", bbox_to_anchor=(0, -0.1), ncol=4)\n",
        "except TypeError:\n",
        "    traceback.print_exc()"
      ]
    },
    {
      "cell_type": "markdown",
      "metadata": {
        "id": "0aj_Pil186oR"
      },
      "source": [
        "* Pero podemos acceder a los axes para hacer modificaciones.\n",
        "    * En este ejemplo mostramos como acceder al axes y definir una nueva leyenda.\n",
        "    * Para que no queden leyendas duplicadas definimos `legend=False` en `relplot`, pero eso nos hace perder los datos de las leyendas."
      ]
    },
    {
      "cell_type": "code",
      "execution_count": null,
      "metadata": {
        "id": "-DubkVAe86oR"
      },
      "outputs": [],
      "source": [
        "g = sns.relplot(data=inc, x=\"Sup\", y=\"Precio\", hue=\"Departamento\",\n",
        "                size=\"Estado de ocupación\", style=\"Tipo de negocio\", kind=\"scatter\", height=8, aspect=1.2, legend=False)\n",
        "g.ax.legend([\"Prueba de leyenda\"], loc=\"upper left\", bbox_to_anchor=(0, -0.1), ncol=4)"
      ]
    },
    {
      "cell_type": "markdown",
      "metadata": {
        "id": "DGde0WEq86oR"
      },
      "source": [
        "* Cuando usamos figure-level functions podemos especificar qué tipo de gráfico hacer con el parámetro `kind`, como `kind=scatter`."
      ]
    },
    {
      "cell_type": "markdown",
      "metadata": {
        "id": "fU4JrGNn86oR"
      },
      "source": [
        "* Es posible definir los colores con `palette`. Acepta algunos strings dados, y colormaps de MPL."
      ]
    },
    {
      "cell_type": "code",
      "execution_count": null,
      "metadata": {
        "id": "rMrOoDnl86oS"
      },
      "outputs": [],
      "source": [
        "sns.relplot(data=inc, x=\"Sup\", y=\"Precio\", hue=\"Departamento\",\n",
        "                size=\"Estado de ocupación\", style=\"Tipo de negocio\", kind=\"scatter\", height=8, aspect=1.2, palette=\"tab20c\")"
      ]
    },
    {
      "cell_type": "markdown",
      "metadata": {
        "id": "V9mmWthS86oS"
      },
      "source": [
        "* Los gráficos a nivel de axes aceptan un parámetro `ax`, lo que implica que podemos combinarlo con MPL fácilmente."
      ]
    },
    {
      "cell_type": "code",
      "execution_count": null,
      "metadata": {
        "id": "5VtPb3J_86oS"
      },
      "outputs": [],
      "source": [
        "fig, axs = plt.subplots(1, 3)\n",
        "for ax, estado in zip(axs, inc[\"Estado de ocupación\"].unique()):\n",
        "    sns.lineplot(ax=ax, data=inc.loc[inc[\"Estado de ocupación\"] == estado, :], x=\"Fecha\", y=\"Precio\")\n",
        "    ax.set_title(estado)"
      ]
    },
    {
      "cell_type": "markdown",
      "metadata": {
        "id": "EgY39jI786oS"
      },
      "source": [
        "* Pero muchas veces es más fácil usar `col` con figure-level functions.\n",
        "* `col_wrap` define el máximo de gráficos por fila.\n",
        "* Hay parámetros análogos para filas."
      ]
    },
    {
      "cell_type": "code",
      "execution_count": null,
      "metadata": {
        "id": "payFtqtB86oT"
      },
      "outputs": [],
      "source": [
        "sns.relplot(data=inc, x=\"Fecha\", y=\"Precio\", col=\"Estado de ocupación\", col_wrap=4, kind=\"line\",height=4)"
      ]
    },
    {
      "cell_type": "markdown",
      "metadata": {
        "id": "LSHgl6cC86oT"
      },
      "source": [
        "* Así como podemos graficar relaciones entre variables, podemos verificar distribuciones.\n",
        "* Eso se hace con las funciones `displot()` (a nivel de figura, y con la posibilidad de armar grids), `histplot()` para histogramas y `kdeplot()` para kernel distributions (como un histograma).\n"
      ]
    },
    {
      "cell_type": "code",
      "execution_count": null,
      "metadata": {
        "id": "04a3PfwW86oT"
      },
      "outputs": [],
      "source": [
        "sns.displot(data=inc, x=\"Precio\", kind=\"hist\", hue=\"Estado de ocupación\", col=\"Departamento\", col_wrap=4)"
      ]
    },
    {
      "cell_type": "markdown",
      "metadata": {
        "id": "WZEwGJYv86oT"
      },
      "source": [
        "* Finalmente, las funciones `catplot()` se usan para gráficar cuando alguna de los ejes tiene variables categóricas.\n",
        "* En este grupo entran `barplot()`, `boxplot()` y `violinplot`."
      ]
    },
    {
      "cell_type": "markdown",
      "metadata": {
        "id": "OGR99sHR86oT"
      },
      "source": [
        "* `countplot()` merece una mención especial, dado que funciona como un gráfico de barras que automáticamente cuenta observaciones."
      ]
    },
    {
      "cell_type": "code",
      "execution_count": null,
      "metadata": {
        "id": "VkAjEzMx86oU"
      },
      "outputs": [],
      "source": [
        "sns.countplot(data=inc, x=\"Estado de ocupación\")"
      ]
    },
    {
      "cell_type": "code",
      "execution_count": null,
      "metadata": {
        "id": "hhJ3nC7L86ob"
      },
      "outputs": [],
      "source": [
        "sns.violinplot(data=inc, x=\"Estado de ocupación\", y=\"Precio\")"
      ]
    },
    {
      "cell_type": "markdown",
      "metadata": {
        "id": "obSIKiy186ob"
      },
      "source": [
        "* La fortaleza de Seaborn es que nos permite cambiar entre tipos de gráficas muy rápido sin cambiar los parámetros."
      ]
    },
    {
      "cell_type": "code",
      "execution_count": null,
      "metadata": {
        "id": "YPJdKFV-86ob"
      },
      "outputs": [],
      "source": [
        "sns.boxplot(data=inc, x=\"Estado de ocupación\", y=\"Precio\")"
      ]
    },
    {
      "cell_type": "markdown",
      "metadata": {
        "id": "Av-zx_If86oc"
      },
      "source": [
        "* `pairplot()` es un tipo de gráfica que no entra en la lógica de las anteriores, pero ayuda a reconocer un dataset muy rápido."
      ]
    },
    {
      "cell_type": "code",
      "execution_count": null,
      "metadata": {
        "id": "NZomOZmA86oc"
      },
      "outputs": [],
      "source": [
        "sns.pairplot(data=inc, hue=\"Estado de ocupación\")"
      ]
    },
    {
      "cell_type": "markdown",
      "metadata": {
        "id": "5-dw1Dir86oc"
      },
      "source": [
        "# Fin"
      ]
    }
  ],
  "metadata": {
    "celltoolbar": "Slideshow",
    "colab": {
      "provenance": []
    },
    "interpreter": {
      "hash": "4b834d68c192bbe56cdabf8892ea496e9e3665fbf6a173e251d996706d79f6cc"
    },
    "kernelspec": {
      "display_name": "Python 3 (ipykernel)",
      "language": "python",
      "name": "python3"
    },
    "language_info": {
      "codemirror_mode": {
        "name": "ipython",
        "version": 3
      },
      "file_extension": ".py",
      "mimetype": "text/x-python",
      "name": "python",
      "nbconvert_exporter": "python",
      "pygments_lexer": "ipython3",
      "version": "3.12.3"
    },
    "rise": {
      "scroll": true,
      "theme": "simple"
    }
  },
  "nbformat": 4,
  "nbformat_minor": 0
}
