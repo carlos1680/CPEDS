{
 "cells": [
  {
   "cell_type": "markdown",
   "metadata": {
    "id": "X714__CTbNHU"
   },
   "source": [
    "# Importamos las librerías que vamos a necesitar"
   ]
  },
  {
   "cell_type": "code",
   "execution_count": 1,
   "metadata": {
    "id": "9KDSuuLnbNHc",
    "scrolled": true
   },
   "outputs": [],
   "source": [
    "import pandas as pd\n",
    "import datetime\n",
    "import math\n",
    "import numpy as np\n",
    "import matplotlib.pyplot as plt\n",
    "import matplotlib.mlab as mlab\n",
    "\n",
    "%matplotlib inline"
   ]
  },
  {
   "cell_type": "markdown",
   "metadata": {
    "id": "9lgichD3bNHf"
   },
   "source": [
    "# Análisis exploratorio\n",
    "## Leer e inspeccionar el conjunto de datos"
   ]
  },
  {
   "cell_type": "code",
   "execution_count": 2,
   "metadata": {
    "id": "s1Pl2DhxbNHg",
    "scrolled": true
   },
   "outputs": [],
   "source": [
    "# No es un archivo CSV sino una hoja de Excel\n",
    "cs_df = pd.read_excel(io=r'2 - MLII - Clase 11 - Datos.xlsx')"
   ]
  },
  {
   "cell_type": "code",
   "execution_count": 3,
   "metadata": {
    "id": "x0-oS5FobNHh",
    "outputId": "acdc85ca-1fb8-400b-d16e-e6f9a3b49bfc",
    "scrolled": true
   },
   "outputs": [
    {
     "data": {
      "text/html": [
       "<div>\n",
       "<style scoped>\n",
       "    .dataframe tbody tr th:only-of-type {\n",
       "        vertical-align: middle;\n",
       "    }\n",
       "\n",
       "    .dataframe tbody tr th {\n",
       "        vertical-align: top;\n",
       "    }\n",
       "\n",
       "    .dataframe thead th {\n",
       "        text-align: right;\n",
       "    }\n",
       "</style>\n",
       "<table border=\"1\" class=\"dataframe\">\n",
       "  <thead>\n",
       "    <tr style=\"text-align: right;\">\n",
       "      <th></th>\n",
       "      <th>InvoiceNo</th>\n",
       "      <th>StockCode</th>\n",
       "      <th>Description</th>\n",
       "      <th>Quantity</th>\n",
       "      <th>InvoiceDate</th>\n",
       "      <th>UnitPrice</th>\n",
       "      <th>CustomerID</th>\n",
       "      <th>Country</th>\n",
       "    </tr>\n",
       "  </thead>\n",
       "  <tbody>\n",
       "    <tr>\n",
       "      <th>0</th>\n",
       "      <td>536365</td>\n",
       "      <td>85123A</td>\n",
       "      <td>WHITE HANGING HEART T-LIGHT HOLDER</td>\n",
       "      <td>6</td>\n",
       "      <td>2010-12-01 08:26:00</td>\n",
       "      <td>2.55</td>\n",
       "      <td>17850.0</td>\n",
       "      <td>United Kingdom</td>\n",
       "    </tr>\n",
       "    <tr>\n",
       "      <th>1</th>\n",
       "      <td>536365</td>\n",
       "      <td>71053</td>\n",
       "      <td>WHITE METAL LANTERN</td>\n",
       "      <td>6</td>\n",
       "      <td>2010-12-01 08:26:00</td>\n",
       "      <td>3.39</td>\n",
       "      <td>17850.0</td>\n",
       "      <td>United Kingdom</td>\n",
       "    </tr>\n",
       "    <tr>\n",
       "      <th>2</th>\n",
       "      <td>536365</td>\n",
       "      <td>84406B</td>\n",
       "      <td>CREAM CUPID HEARTS COAT HANGER</td>\n",
       "      <td>8</td>\n",
       "      <td>2010-12-01 08:26:00</td>\n",
       "      <td>2.75</td>\n",
       "      <td>17850.0</td>\n",
       "      <td>United Kingdom</td>\n",
       "    </tr>\n",
       "    <tr>\n",
       "      <th>3</th>\n",
       "      <td>536365</td>\n",
       "      <td>84029G</td>\n",
       "      <td>KNITTED UNION FLAG HOT WATER BOTTLE</td>\n",
       "      <td>6</td>\n",
       "      <td>2010-12-01 08:26:00</td>\n",
       "      <td>3.39</td>\n",
       "      <td>17850.0</td>\n",
       "      <td>United Kingdom</td>\n",
       "    </tr>\n",
       "    <tr>\n",
       "      <th>4</th>\n",
       "      <td>536365</td>\n",
       "      <td>84029E</td>\n",
       "      <td>RED WOOLLY HOTTIE WHITE HEART.</td>\n",
       "      <td>6</td>\n",
       "      <td>2010-12-01 08:26:00</td>\n",
       "      <td>3.39</td>\n",
       "      <td>17850.0</td>\n",
       "      <td>United Kingdom</td>\n",
       "    </tr>\n",
       "  </tbody>\n",
       "</table>\n",
       "</div>"
      ],
      "text/plain": [
       "  InvoiceNo StockCode                          Description  Quantity  \\\n",
       "0    536365    85123A   WHITE HANGING HEART T-LIGHT HOLDER         6   \n",
       "1    536365     71053                  WHITE METAL LANTERN         6   \n",
       "2    536365    84406B       CREAM CUPID HEARTS COAT HANGER         8   \n",
       "3    536365    84029G  KNITTED UNION FLAG HOT WATER BOTTLE         6   \n",
       "4    536365    84029E       RED WOOLLY HOTTIE WHITE HEART.         6   \n",
       "\n",
       "          InvoiceDate  UnitPrice  CustomerID         Country  \n",
       "0 2010-12-01 08:26:00       2.55     17850.0  United Kingdom  \n",
       "1 2010-12-01 08:26:00       3.39     17850.0  United Kingdom  \n",
       "2 2010-12-01 08:26:00       2.75     17850.0  United Kingdom  \n",
       "3 2010-12-01 08:26:00       3.39     17850.0  United Kingdom  \n",
       "4 2010-12-01 08:26:00       3.39     17850.0  United Kingdom  "
      ]
     },
     "execution_count": 3,
     "metadata": {},
     "output_type": "execute_result"
    }
   ],
   "source": [
    "cs_df.head()"
   ]
  },
  {
   "cell_type": "markdown",
   "metadata": {
    "id": "I_7Jvepvd2Nf"
   },
   "source": [
    "- InvoiceNo: Un identificador único para la factura. Un número de factura compartido entre\n",
    "filas significa que esas transacciones se realizaron en una sola factura (múltiples\n",
    "compras).\n",
    "- StockCode: Identificador de los artículos contenidos en una factura.\n",
    "- Description: Descripción textual de cada uno de los artículos de stock.\n",
    "- Quantity: La cantidad del artículo comprado.\n",
    "- InvoiceDate: Fecha de la compra.\n",
    "- UnitPrice: Valor de cada artículo.\n",
    "- CustomerID: Identificador del cliente que realiza la compra.\n",
    "- Country: País del cliente.\n"
   ]
  },
  {
   "cell_type": "markdown",
   "metadata": {
    "id": "ZqTZKLmobNHj"
   },
   "source": [
    "Número de transacciones"
   ]
  },
  {
   "cell_type": "code",
   "execution_count": 4,
   "metadata": {
    "id": "F0KjDyPmbNHk",
    "outputId": "cbfa0833-3334-4435-fe97-69c230320d2c",
    "scrolled": true
   },
   "outputs": [
    {
     "data": {
      "text/plain": [
       "(541909, 8)"
      ]
     },
     "execution_count": 4,
     "metadata": {},
     "output_type": "execute_result"
    }
   ],
   "source": [
    "cs_df.shape"
   ]
  },
  {
   "cell_type": "markdown",
   "metadata": {
    "id": "xYEtYxunbNHl"
   },
   "source": [
    "## Mayores ventas por país"
   ]
  },
  {
   "cell_type": "code",
   "execution_count": 5,
   "metadata": {
    "id": "18mCqNaobNHm",
    "outputId": "4e41f885-5d38-4156-9627-d51e4de3d529"
   },
   "outputs": [
    {
     "data": {
      "text/html": [
       "<div>\n",
       "<style scoped>\n",
       "    .dataframe tbody tr th:only-of-type {\n",
       "        vertical-align: middle;\n",
       "    }\n",
       "\n",
       "    .dataframe tbody tr th {\n",
       "        vertical-align: top;\n",
       "    }\n",
       "\n",
       "    .dataframe thead th {\n",
       "        text-align: right;\n",
       "    }\n",
       "</style>\n",
       "<table border=\"1\" class=\"dataframe\">\n",
       "  <thead>\n",
       "    <tr style=\"text-align: right;\">\n",
       "      <th></th>\n",
       "      <th>Country</th>\n",
       "      <th>count</th>\n",
       "    </tr>\n",
       "  </thead>\n",
       "  <tbody>\n",
       "    <tr>\n",
       "      <th>0</th>\n",
       "      <td>United Kingdom</td>\n",
       "      <td>495478</td>\n",
       "    </tr>\n",
       "    <tr>\n",
       "      <th>1</th>\n",
       "      <td>Germany</td>\n",
       "      <td>9495</td>\n",
       "    </tr>\n",
       "    <tr>\n",
       "      <th>2</th>\n",
       "      <td>France</td>\n",
       "      <td>8557</td>\n",
       "    </tr>\n",
       "    <tr>\n",
       "      <th>3</th>\n",
       "      <td>EIRE</td>\n",
       "      <td>8196</td>\n",
       "    </tr>\n",
       "    <tr>\n",
       "      <th>4</th>\n",
       "      <td>Spain</td>\n",
       "      <td>2533</td>\n",
       "    </tr>\n",
       "    <tr>\n",
       "      <th>5</th>\n",
       "      <td>Netherlands</td>\n",
       "      <td>2371</td>\n",
       "    </tr>\n",
       "    <tr>\n",
       "      <th>6</th>\n",
       "      <td>Belgium</td>\n",
       "      <td>2069</td>\n",
       "    </tr>\n",
       "    <tr>\n",
       "      <th>7</th>\n",
       "      <td>Switzerland</td>\n",
       "      <td>2002</td>\n",
       "    </tr>\n",
       "    <tr>\n",
       "      <th>8</th>\n",
       "      <td>Portugal</td>\n",
       "      <td>1519</td>\n",
       "    </tr>\n",
       "    <tr>\n",
       "      <th>9</th>\n",
       "      <td>Australia</td>\n",
       "      <td>1259</td>\n",
       "    </tr>\n",
       "  </tbody>\n",
       "</table>\n",
       "</div>"
      ],
      "text/plain": [
       "          Country   count\n",
       "0  United Kingdom  495478\n",
       "1         Germany    9495\n",
       "2          France    8557\n",
       "3            EIRE    8196\n",
       "4           Spain    2533\n",
       "5     Netherlands    2371\n",
       "6         Belgium    2069\n",
       "7     Switzerland    2002\n",
       "8        Portugal    1519\n",
       "9       Australia    1259"
      ]
     },
     "execution_count": 5,
     "metadata": {},
     "output_type": "execute_result"
    }
   ],
   "source": [
    "cs_df.Country.value_counts().reset_index().head(n=10)"
   ]
  },
  {
   "cell_type": "markdown",
   "metadata": {
    "id": "AOT1hfjkbNHn"
   },
   "source": [
    "A continuación, podríamos estar interesados en saber cuántos clientes únicos tiene el minorista y el número de pedidos que realizan. También nos interesa saber qué porcentaje de pedidos es realizado por los 10 principales clientes del minorista. Esta información es interesante ya que nos diría si labase de usuarios de la empresa está distribuida de forma relativamente uniforme."
   ]
  },
  {
   "cell_type": "code",
   "execution_count": 6,
   "metadata": {
    "id": "WcntUpAGbNHq",
    "outputId": "25bb186d-21fb-4e44-f618-3857d5f2c3b6",
    "scrolled": true
   },
   "outputs": [
    {
     "data": {
      "text/plain": [
       "(4373,)"
      ]
     },
     "execution_count": 6,
     "metadata": {},
     "output_type": "execute_result"
    }
   ],
   "source": [
    "cs_df.CustomerID.unique().shape"
   ]
  },
  {
   "cell_type": "code",
   "execution_count": 7,
   "metadata": {
    "id": "mY06m4T9bNHr",
    "outputId": "45712849-f944-46d9-a839-2b654c9a89a4"
   },
   "outputs": [
    {
     "data": {
      "text/plain": [
       "CustomerID\n",
       "17841.0    1.962249\n",
       "14911.0    3.413228\n",
       "14096.0    4.673708\n",
       "12748.0    5.814728\n",
       "14606.0    6.498553\n",
       "15311.0    7.110850\n",
       "14646.0    7.623350\n",
       "13089.0    8.079807\n",
       "13263.0    8.492020\n",
       "14298.0    8.895138\n",
       "15039.0    9.265809\n",
       "14156.0    9.614850\n",
       "18118.0    9.930462\n",
       "Name: count, dtype: float64"
      ]
     },
     "execution_count": 7,
     "metadata": {},
     "output_type": "execute_result"
    }
   ],
   "source": [
    "(cs_df.CustomerID.value_counts()/sum(cs_df.CustomerID.value_counts())*100).head(n=13).cumsum()"
   ]
  },
  {
   "cell_type": "markdown",
   "metadata": {
    "id": "iY7FkkTmbNHs"
   },
   "source": [
    "## Calidad de datos\n",
    "\n"
   ]
  },
  {
   "cell_type": "markdown",
   "metadata": {
    "id": "_M9Tie6nbNHs"
   },
   "source": [
    "\n",
    "\n",
    "Número de artículos únicos"
   ]
  },
  {
   "cell_type": "code",
   "execution_count": 8,
   "metadata": {
    "id": "mTy_cHCsbNHt",
    "outputId": "58085ec4-8ae1-4e72-f66d-39c318727a54",
    "scrolled": true
   },
   "outputs": [
    {
     "data": {
      "text/plain": [
       "(4070,)"
      ]
     },
     "execution_count": 8,
     "metadata": {},
     "output_type": "execute_result"
    }
   ],
   "source": [
    "cs_df.StockCode.unique().shape"
   ]
  },
  {
   "cell_type": "markdown",
   "metadata": {
    "id": "W5bZcg9obNHt"
   },
   "source": [
    "Descripción de los artículos: Vemos que las descripciones son más que los códigos de stock por lo que debe haber algún código de stock que tenga más de una descripción"
   ]
  },
  {
   "cell_type": "code",
   "execution_count": 9,
   "metadata": {
    "id": "lcur40lZbNHv",
    "outputId": "319f00f2-5aba-432d-f4f6-ed456e13dd3d",
    "scrolled": true
   },
   "outputs": [
    {
     "data": {
      "text/plain": [
       "(4224,)"
      ]
     },
     "execution_count": 9,
     "metadata": {},
     "output_type": "execute_result"
    }
   ],
   "source": [
    "cs_df.Description.unique().shape"
   ]
  },
  {
   "cell_type": "code",
   "execution_count": 10,
   "metadata": {
    "id": "KEqt2QOVbNHw",
    "outputId": "5eff450b-0d76-422a-a69b-7c466963a605",
    "scrolled": true
   },
   "outputs": [
    {
     "data": {
      "text/plain": [
       "InvoiceNo              object\n",
       "StockCode              object\n",
       "Description            object\n",
       "Quantity                int64\n",
       "InvoiceDate    datetime64[ns]\n",
       "UnitPrice             float64\n",
       "CustomerID            float64\n",
       "Country                object\n",
       "dtype: object"
      ]
     },
     "execution_count": 10,
     "metadata": {},
     "output_type": "execute_result"
    }
   ],
   "source": [
    "cs_df.dtypes"
   ]
  },
  {
   "cell_type": "code",
   "execution_count": 11,
   "metadata": {
    "id": "PN_JwKbnbNHw",
    "scrolled": true
   },
   "outputs": [],
   "source": [
    "cat_des_df = cs_df.groupby([\"StockCode\",\"Description\"]).count().reset_index()"
   ]
  },
  {
   "cell_type": "markdown",
   "metadata": {
    "id": "iUMbamBibNHx"
   },
   "source": [
    "Códigos de stock que tienen más de una descripción"
   ]
  },
  {
   "cell_type": "code",
   "execution_count": 12,
   "metadata": {
    "id": "scQ7tSJibNHx",
    "outputId": "d965a58e-b653-4ef0-cd36-aac0b255607e",
    "scrolled": true
   },
   "outputs": [
    {
     "data": {
      "text/html": [
       "<div>\n",
       "<style scoped>\n",
       "    .dataframe tbody tr th:only-of-type {\n",
       "        vertical-align: middle;\n",
       "    }\n",
       "\n",
       "    .dataframe tbody tr th {\n",
       "        vertical-align: top;\n",
       "    }\n",
       "\n",
       "    .dataframe thead th {\n",
       "        text-align: right;\n",
       "    }\n",
       "</style>\n",
       "<table border=\"1\" class=\"dataframe\">\n",
       "  <thead>\n",
       "    <tr style=\"text-align: right;\">\n",
       "      <th></th>\n",
       "      <th>StockCode</th>\n",
       "      <th>count</th>\n",
       "    </tr>\n",
       "  </thead>\n",
       "  <tbody>\n",
       "    <tr>\n",
       "      <th>0</th>\n",
       "      <td>20713</td>\n",
       "      <td>8</td>\n",
       "    </tr>\n",
       "    <tr>\n",
       "      <th>1</th>\n",
       "      <td>23084</td>\n",
       "      <td>7</td>\n",
       "    </tr>\n",
       "    <tr>\n",
       "      <th>2</th>\n",
       "      <td>21830</td>\n",
       "      <td>6</td>\n",
       "    </tr>\n",
       "    <tr>\n",
       "      <th>3</th>\n",
       "      <td>85175</td>\n",
       "      <td>6</td>\n",
       "    </tr>\n",
       "    <tr>\n",
       "      <th>4</th>\n",
       "      <td>85172</td>\n",
       "      <td>5</td>\n",
       "    </tr>\n",
       "  </tbody>\n",
       "</table>\n",
       "</div>"
      ],
      "text/plain": [
       "  StockCode  count\n",
       "0     20713      8\n",
       "1     23084      7\n",
       "2     21830      6\n",
       "3     85175      6\n",
       "4     85172      5"
      ]
     },
     "execution_count": 12,
     "metadata": {},
     "output_type": "execute_result"
    }
   ],
   "source": [
    "cat_des_df.StockCode.value_counts()[cat_des_df.StockCode.value_counts()>1].reset_index().head()"
   ]
  },
  {
   "cell_type": "markdown",
   "metadata": {
    "id": "ynhGo3CrbNHx"
   },
   "source": [
    "Ejemplo de uno de esos códigos"
   ]
  },
  {
   "cell_type": "code",
   "execution_count": 13,
   "metadata": {
    "id": "jVT_b685bNHy",
    "outputId": "c1156ff4-e210-4da5-cbcf-8c172e51b366",
    "scrolled": true
   },
   "outputs": [
    {
     "ename": "KeyError",
     "evalue": "'index'",
     "output_type": "error",
     "traceback": [
      "\u001b[1;31m---------------------------------------------------------------------------\u001b[0m",
      "\u001b[1;31mKeyError\u001b[0m                                  Traceback (most recent call last)",
      "File \u001b[1;32mc:\\CPE\\CPEDS\\envWindows\\Lib\\site-packages\\pandas\\core\\indexes\\base.py:3805\u001b[0m, in \u001b[0;36mIndex.get_loc\u001b[1;34m(self, key)\u001b[0m\n\u001b[0;32m   3804\u001b[0m \u001b[38;5;28;01mtry\u001b[39;00m:\n\u001b[1;32m-> 3805\u001b[0m     \u001b[38;5;28;01mreturn\u001b[39;00m \u001b[38;5;28;43mself\u001b[39;49m\u001b[38;5;241;43m.\u001b[39;49m\u001b[43m_engine\u001b[49m\u001b[38;5;241;43m.\u001b[39;49m\u001b[43mget_loc\u001b[49m\u001b[43m(\u001b[49m\u001b[43mcasted_key\u001b[49m\u001b[43m)\u001b[49m\n\u001b[0;32m   3806\u001b[0m \u001b[38;5;28;01mexcept\u001b[39;00m \u001b[38;5;167;01mKeyError\u001b[39;00m \u001b[38;5;28;01mas\u001b[39;00m err:\n",
      "File \u001b[1;32mindex.pyx:167\u001b[0m, in \u001b[0;36mpandas._libs.index.IndexEngine.get_loc\u001b[1;34m()\u001b[0m\n",
      "File \u001b[1;32mindex.pyx:196\u001b[0m, in \u001b[0;36mpandas._libs.index.IndexEngine.get_loc\u001b[1;34m()\u001b[0m\n",
      "File \u001b[1;32mpandas\\\\_libs\\\\hashtable_class_helper.pxi:7081\u001b[0m, in \u001b[0;36mpandas._libs.hashtable.PyObjectHashTable.get_item\u001b[1;34m()\u001b[0m\n",
      "File \u001b[1;32mpandas\\\\_libs\\\\hashtable_class_helper.pxi:7089\u001b[0m, in \u001b[0;36mpandas._libs.hashtable.PyObjectHashTable.get_item\u001b[1;34m()\u001b[0m\n",
      "\u001b[1;31mKeyError\u001b[0m: 'index'",
      "\nThe above exception was the direct cause of the following exception:\n",
      "\u001b[1;31mKeyError\u001b[0m                                  Traceback (most recent call last)",
      "Cell \u001b[1;32mIn[13], line 1\u001b[0m\n\u001b[1;32m----> 1\u001b[0m cs_df[cs_df[\u001b[38;5;124m'\u001b[39m\u001b[38;5;124mStockCode\u001b[39m\u001b[38;5;124m'\u001b[39m] \u001b[38;5;241m==\u001b[39m \u001b[43mcat_des_df\u001b[49m\u001b[38;5;241;43m.\u001b[39;49m\u001b[43mStockCode\u001b[49m\u001b[38;5;241;43m.\u001b[39;49m\u001b[43mvalue_counts\u001b[49m\u001b[43m(\u001b[49m\u001b[43m)\u001b[49m\u001b[43m[\u001b[49m\u001b[43mcat_des_df\u001b[49m\u001b[38;5;241;43m.\u001b[39;49m\u001b[43mStockCode\u001b[49m\u001b[38;5;241;43m.\u001b[39;49m\u001b[43mvalue_counts\u001b[49m\u001b[43m(\u001b[49m\u001b[43m)\u001b[49m\u001b[38;5;241;43m>\u001b[39;49m\u001b[38;5;241;43m1\u001b[39;49m\u001b[43m]\u001b[49m\n\u001b[0;32m      2\u001b[0m \u001b[43m      \u001b[49m\u001b[38;5;241;43m.\u001b[39;49m\u001b[43mreset_index\u001b[49m\u001b[43m(\u001b[49m\u001b[43m)\u001b[49m\u001b[43m[\u001b[49m\u001b[38;5;124;43m'\u001b[39;49m\u001b[38;5;124;43mindex\u001b[39;49m\u001b[38;5;124;43m'\u001b[39;49m\u001b[43m]\u001b[49m[\u001b[38;5;241m5\u001b[39m]][\u001b[38;5;124m'\u001b[39m\u001b[38;5;124mDescription\u001b[39m\u001b[38;5;124m'\u001b[39m]\u001b[38;5;241m.\u001b[39munique()\n",
      "File \u001b[1;32mc:\\CPE\\CPEDS\\envWindows\\Lib\\site-packages\\pandas\\core\\frame.py:4102\u001b[0m, in \u001b[0;36mDataFrame.__getitem__\u001b[1;34m(self, key)\u001b[0m\n\u001b[0;32m   4100\u001b[0m \u001b[38;5;28;01mif\u001b[39;00m \u001b[38;5;28mself\u001b[39m\u001b[38;5;241m.\u001b[39mcolumns\u001b[38;5;241m.\u001b[39mnlevels \u001b[38;5;241m>\u001b[39m \u001b[38;5;241m1\u001b[39m:\n\u001b[0;32m   4101\u001b[0m     \u001b[38;5;28;01mreturn\u001b[39;00m \u001b[38;5;28mself\u001b[39m\u001b[38;5;241m.\u001b[39m_getitem_multilevel(key)\n\u001b[1;32m-> 4102\u001b[0m indexer \u001b[38;5;241m=\u001b[39m \u001b[38;5;28;43mself\u001b[39;49m\u001b[38;5;241;43m.\u001b[39;49m\u001b[43mcolumns\u001b[49m\u001b[38;5;241;43m.\u001b[39;49m\u001b[43mget_loc\u001b[49m\u001b[43m(\u001b[49m\u001b[43mkey\u001b[49m\u001b[43m)\u001b[49m\n\u001b[0;32m   4103\u001b[0m \u001b[38;5;28;01mif\u001b[39;00m is_integer(indexer):\n\u001b[0;32m   4104\u001b[0m     indexer \u001b[38;5;241m=\u001b[39m [indexer]\n",
      "File \u001b[1;32mc:\\CPE\\CPEDS\\envWindows\\Lib\\site-packages\\pandas\\core\\indexes\\base.py:3812\u001b[0m, in \u001b[0;36mIndex.get_loc\u001b[1;34m(self, key)\u001b[0m\n\u001b[0;32m   3807\u001b[0m     \u001b[38;5;28;01mif\u001b[39;00m \u001b[38;5;28misinstance\u001b[39m(casted_key, \u001b[38;5;28mslice\u001b[39m) \u001b[38;5;129;01mor\u001b[39;00m (\n\u001b[0;32m   3808\u001b[0m         \u001b[38;5;28misinstance\u001b[39m(casted_key, abc\u001b[38;5;241m.\u001b[39mIterable)\n\u001b[0;32m   3809\u001b[0m         \u001b[38;5;129;01mand\u001b[39;00m \u001b[38;5;28many\u001b[39m(\u001b[38;5;28misinstance\u001b[39m(x, \u001b[38;5;28mslice\u001b[39m) \u001b[38;5;28;01mfor\u001b[39;00m x \u001b[38;5;129;01min\u001b[39;00m casted_key)\n\u001b[0;32m   3810\u001b[0m     ):\n\u001b[0;32m   3811\u001b[0m         \u001b[38;5;28;01mraise\u001b[39;00m InvalidIndexError(key)\n\u001b[1;32m-> 3812\u001b[0m     \u001b[38;5;28;01mraise\u001b[39;00m \u001b[38;5;167;01mKeyError\u001b[39;00m(key) \u001b[38;5;28;01mfrom\u001b[39;00m \u001b[38;5;21;01merr\u001b[39;00m\n\u001b[0;32m   3813\u001b[0m \u001b[38;5;28;01mexcept\u001b[39;00m \u001b[38;5;167;01mTypeError\u001b[39;00m:\n\u001b[0;32m   3814\u001b[0m     \u001b[38;5;66;03m# If we have a listlike key, _check_indexing_error will raise\u001b[39;00m\n\u001b[0;32m   3815\u001b[0m     \u001b[38;5;66;03m#  InvalidIndexError. Otherwise we fall through and re-raise\u001b[39;00m\n\u001b[0;32m   3816\u001b[0m     \u001b[38;5;66;03m#  the TypeError.\u001b[39;00m\n\u001b[0;32m   3817\u001b[0m     \u001b[38;5;28mself\u001b[39m\u001b[38;5;241m.\u001b[39m_check_indexing_error(key)\n",
      "\u001b[1;31mKeyError\u001b[0m: 'index'"
     ]
    }
   ],
   "source": [
    "cs_df[cs_df['StockCode'] == cat_des_df.StockCode.value_counts()[cat_des_df.StockCode.value_counts()>1]\n",
    "      .reset_index()['index'][5]]['Description'].unique()"
   ]
  },
  {
   "cell_type": "code",
   "execution_count": null,
   "metadata": {
    "id": "YvAiijfSbNHz",
    "scrolled": true
   },
   "outputs": [],
   "source": [
    "cs_df['invdatetime'] = pd.to_datetime(cs_df.InvoiceDate) # paso los valores de fecha al formato correcto"
   ]
  },
  {
   "cell_type": "code",
   "execution_count": null,
   "metadata": {
    "id": "PasDGOLCbNHz",
    "outputId": "61df5546-65f0-4dc3-9f27-1b37492cff7f"
   },
   "outputs": [],
   "source": [
    "cs_df.Quantity.describe()"
   ]
  },
  {
   "cell_type": "code",
   "execution_count": null,
   "metadata": {
    "id": "1ZzKRcxPbNH0",
    "outputId": "bd5b12bf-5470-4335-a9ea-d0c8bbb4d018"
   },
   "outputs": [],
   "source": [
    "cs_df.UnitPrice.describe()"
   ]
  },
  {
   "cell_type": "markdown",
   "metadata": {
    "id": "k5omwpgHgvj9"
   },
   "source": [
    "Podemos observar en el resultado anterior que ambos atributos tienen valores negativos,\n",
    "lo que puede significar que podemos tener algunas transacciones de retorno en nuestros datos también. Este escenario es bastante común\n",
    "para cualquier minorista, pero tenemos que manejarlos antes de proceder a nuestro análisis. Estos son algunos de los\n",
    "problemas de calidad de datos que encontramos en nuestro conjunto de datos. En el mundo real, los conjuntos de datos suelen estar desordenados y tienen problemas considerables, por lo que siempre es una buena práctica verificar explícitamente la información antes de realizar cualquier tipo de análisis.\n"
   ]
  },
  {
   "cell_type": "markdown",
   "metadata": {
    "id": "PJRXvwxBhquR"
   },
   "source": [
    "## Estrategia de agrupación (clustering)\n",
    "Ahora que tenemos alguna información sobre lo que es la segmentación de clientes, varias estrategias y cómo puede\n",
    "ser útil, podemos empezar con el proceso de búsqueda de segmentos de clientes en nuestro conjunto de datos de venta online.\n",
    "\n",
    "El conjunto de datos que tenemos consiste únicamente en las transacciones de venta de los clientes y ninguna otra información sobre ellos, es decir, ningún otro atributo adicional. Por lo general, en las organizaciones más grandes solemos tener más atributos\n",
    "de información sobre los clientes que pueden ayudar a la agrupación. Sin embargo, será interesante\n",
    "trabajar con este conjunto de datos de atributos limitados. \n",
    "\n",
    "Utilizaremos un modelo basado en el valor monetario, la frecuencia y el comportamiento reciente de los clientes (RFM).\n",
    "\n",
    "El modelo RFM es un modelo popular en marketing y segmentación de clientes para determinar el valor de un cliente. Toma las transacciones de un cliente y calcula tres importantes atributos informativos:\n",
    "\n",
    "- Recencia: El valor de lo reciente que ha sido la compra de un cliente en el establecimiento\n",
    "- Frecuencia: La frecuencia de las transacciones del cliente en el establecimiento\n",
    "- Valor monetario: El valor en dólares (o libras en nuestro caso) de todas las transacciones que\n",
    "el cliente realizó en el establecimiento\n",
    "\n",
    "Una combinación de estos tres valores puede servir para asignar un valor al cliente. Podemos pensar directamente\n",
    "en algunos segmentos deseables que querríamos en dicho modelo. Por ejemplo, un cliente de alto valor es aquel\n",
    "que compra con frecuencia, que acaba de comprar algo recientemente y que gasta una cantidad elevada cada vez que compra o va de compras."
   ]
  },
  {
   "cell_type": "markdown",
   "metadata": {
    "id": "kAB_-A3ibNH0"
   },
   "source": [
    "# Limpieza de datos"
   ]
  },
  {
   "cell_type": "code",
   "execution_count": null,
   "metadata": {
    "id": "ZT7S7WwkbNH1",
    "scrolled": true
   },
   "outputs": [],
   "source": [
    "# Separo los datos para un país\n",
    "cs_df = cs_df[cs_df.Country == 'United Kingdom']\n",
    "\n",
    "# Creo un nuevo atributo para el monto total\n",
    "cs_df['amount'] = cs_df.Quantity*cs_df.UnitPrice\n",
    "\n",
    "# Remuevo transacciones negativas o devoluciones\n",
    "cs_df = cs_df[~(cs_df.amount<0)]\n",
    "cs_df.head()\n",
    "cs_df = cs_df[~(cs_df.CustomerID.isnull())]"
   ]
  },
  {
   "cell_type": "code",
   "execution_count": null,
   "metadata": {
    "id": "bQlzkySFbNH1",
    "outputId": "b7c7d670-13ae-48e8-eff2-3f66697f17cf"
   },
   "outputs": [],
   "source": [
    "cs_df.shape"
   ]
  },
  {
   "cell_type": "markdown",
   "metadata": {
    "id": "zTx99pYybNH2"
   },
   "source": [
    "## Construyo la característica \"Recencia\""
   ]
  },
  {
   "cell_type": "code",
   "execution_count": null,
   "metadata": {
    "id": "EcqnoWowbNH2",
    "outputId": "e5041ee3-d690-4f4c-dca8-0292b17b6571",
    "scrolled": true
   },
   "outputs": [],
   "source": [
    "cs_df.InvoiceDate.max()"
   ]
  },
  {
   "cell_type": "code",
   "execution_count": null,
   "metadata": {
    "id": "KCYEujOTbNH2",
    "outputId": "9ce74376-b19f-4d52-ec59-19e9294c216a",
    "scrolled": true
   },
   "outputs": [],
   "source": [
    "cs_df.InvoiceDate.min()"
   ]
  },
  {
   "cell_type": "code",
   "execution_count": null,
   "metadata": {
    "id": "zemklqFtbNH3",
    "scrolled": true
   },
   "outputs": [],
   "source": [
    "refrence_date = cs_df.InvoiceDate.max()\n",
    "refrence_date = refrence_date + datetime.timedelta(days = 1)"
   ]
  },
  {
   "cell_type": "code",
   "execution_count": null,
   "metadata": {
    "id": "dgTK1bB9bNH4",
    "scrolled": true
   },
   "outputs": [],
   "source": [
    "cs_df['days_since_last_purchase'] = refrence_date - cs_df.InvoiceDate\n",
    "cs_df['days_since_last_purchase_num'] = cs_df['days_since_last_purchase'].astype('timedelta64[D]')\n"
   ]
  },
  {
   "cell_type": "markdown",
   "metadata": {
    "id": "WKYSSyF-bNH4"
   },
   "source": [
    "Período de tiempo de las transacciones\n"
   ]
  },
  {
   "cell_type": "code",
   "execution_count": null,
   "metadata": {},
   "outputs": [],
   "source": [
    "customer_history_df = cs_df.groupby([\"CustomerID\"])[['days_since_last_purchase_num']].min().reset_index()"
   ]
  },
  {
   "cell_type": "code",
   "execution_count": null,
   "metadata": {},
   "outputs": [],
   "source": [
    "customer_history_df.rename(columns={'days_since_last_purchase_num':'recency'}, inplace=True)\n"
   ]
  },
  {
   "cell_type": "code",
   "execution_count": null,
   "metadata": {},
   "outputs": [],
   "source": [
    "customer_history_df.recency.describe()"
   ]
  },
  {
   "cell_type": "code",
   "execution_count": null,
   "metadata": {
    "id": "Mo7zuc86bNH5",
    "outputId": "12857783-e8d8-4a7c-ec0f-39854d7fbafd",
    "scrolled": true
   },
   "outputs": [],
   "source": [
    "customer_history_df.head()"
   ]
  },
  {
   "cell_type": "code",
   "execution_count": null,
   "metadata": {
    "id": "vjueplfQbNH6",
    "outputId": "7c5b0c04-59b1-48e4-e66d-97efc35d5443",
    "scrolled": true
   },
   "outputs": [],
   "source": [
    "x = customer_history_df.recency\n",
    "mu = np.mean(customer_history_df.recency)\n",
    "sigma = math.sqrt(np.var(customer_history_df.recency))\n",
    "n, bins, patches = plt.hist(x, 1000, facecolor='green', alpha=0.75)\n",
    "\n",
    "plt.xlabel('Recency in days')\n",
    "plt.ylabel('Number of transactions')\n",
    "plt.title(r'$\\mathrm{Histogram\\ of\\ sales\\ recency}\\ $')\n",
    "plt.grid(True)"
   ]
  },
  {
   "cell_type": "markdown",
   "metadata": {
    "id": "C_raBeZgbNH7"
   },
   "source": [
    "# Construyo las características \"Frecuencia\" y \"Valor monetario\"\n",
    "\n"
   ]
  },
  {
   "cell_type": "code",
   "execution_count": null,
   "metadata": {
    "id": "nzGDqPIbbNH7",
    "scrolled": true
   },
   "outputs": [],
   "source": [
    "customer_monetary_val = cs_df[['CustomerID', 'amount']].groupby(\"CustomerID\").sum().reset_index()\n",
    "customer_history_df = customer_history_df.merge(customer_monetary_val, how='outer')\n"
   ]
  },
  {
   "cell_type": "code",
   "execution_count": null,
   "metadata": {},
   "outputs": [],
   "source": [
    "customer_history_df.amount = customer_history_df.amount+0.001\n",
    "customer_freq = cs_df[['CustomerID', 'amount']].groupby(\"CustomerID\").count().reset_index()\n",
    "customer_freq.rename(columns={'amount':'frequency'},inplace=True)\n",
    "customer_history_df = customer_history_df.merge(customer_freq, how='outer')"
   ]
  },
  {
   "cell_type": "code",
   "execution_count": null,
   "metadata": {
    "id": "XNIib0iGbNH8",
    "outputId": "25a316d4-67c2-4a30-f864-44f390828124",
    "scrolled": true
   },
   "outputs": [],
   "source": [
    "customer_history_df.head()"
   ]
  },
  {
   "cell_type": "markdown",
   "metadata": {
    "id": "QZSEHngVk6uE"
   },
   "source": [
    "# Preprocesamiento de datos\n",
    "Una vez que hayamos creado nuestro *dataframe* de valor del cliente, realizaremos un preprocesamiento de los datos. \n",
    "Para nuestro clustering, utilizaremos el algoritmo de clustering K-means, del que ya hablamos anteriormente.\n",
    "Uno de los requisitos para el buen funcionamiento del algoritmo es el centrado de la media de los valores de las variables. Esto significa que sustituiremos el valor real de la variable por un\n",
    "valor estandarizado, de modo que la variable tenga una media de 1 y una varianza de 0. Esto garantiza que todas las variables\n",
    "están en el mismo rango y la diferencia de rangos de valores no hace que el algoritmo no funcione bien.\n",
    "\n",
    "Otro problema sobre el que se puede investigar es el enorme rango de valores que puede tomar cada variable. Este\n",
    "problema es particularmente notable para la variable de la cantidad monetaria. Para solucionar este problema, vamos a\n",
    "transformar todas las variables en la escala logarítmica. Esta transformación, junto con la normalización, garantizará\n",
    "que la entrada a nuestro algoritmo sea un conjunto homogéneo de valores escalados y transformados.\n",
    "\n",
    "Un punto importante sobre el paso de preprocesamiento de datos es que a veces necesitamos que sea reversible. En\n",
    "nuestro caso, tendremos los resultados de la agrupación en términos de la variable transformada y escalada. Pero para hacer inferencias en términos de los datos originales, tendremos que invertir la transformación de todas las variables para obtener\n",
    "las cifras reales del RFM. Esto puede hacerse utilizando las capacidades de preprocesamiento de Python."
   ]
  },
  {
   "cell_type": "code",
   "execution_count": null,
   "metadata": {
    "id": "y4m0shYpbNH8",
    "scrolled": true
   },
   "outputs": [],
   "source": [
    "from sklearn import preprocessing\n",
    "import math\n",
    "\n",
    "customer_history_df['recency_log'] = customer_history_df['recency'].apply(math.log)\n",
    "customer_history_df['frequency_log'] = customer_history_df['frequency'].apply(math.log)\n",
    "customer_history_df['amount_log'] = customer_history_df['amount'].apply(math.log)\n",
    "feature_vector = ['amount_log', 'recency_log','frequency_log']\n",
    "\n",
    "X_subset = customer_history_df[feature_vector].to_numpy()\n",
    "\n",
    "scaler = preprocessing.StandardScaler().fit(X_subset) # usar esto hace la transformación fácilmente reversible\n",
    "X_scaled = scaler.transform(X_subset)"
   ]
  },
  {
   "cell_type": "markdown",
   "metadata": {
    "id": "8y4HwaIHbNH9"
   },
   "source": [
    "# Visualización de la Recencia contra el Valor monetario (log)"
   ]
  },
  {
   "cell_type": "code",
   "execution_count": null,
   "metadata": {
    "id": "hQa4OqAEbNH9",
    "outputId": "009b8341-1262-477b-f50b-48adf740bf60",
    "scrolled": true
   },
   "outputs": [],
   "source": [
    "plt.scatter(customer_history_df.recency_log, customer_history_df.amount_log, alpha=0.5)"
   ]
  },
  {
   "cell_type": "markdown",
   "metadata": {
    "id": "IrpOZCz_bNH9"
   },
   "source": [
    "# Visualización de la distribución de \"Valor monetario\" (log)\n",
    "\n"
   ]
  },
  {
   "cell_type": "code",
   "execution_count": null,
   "metadata": {
    "id": "mzSMvq3UbNH-",
    "outputId": "2c5a23b9-fba9-4f0e-886a-9f73a4af549c",
    "scrolled": true
   },
   "outputs": [],
   "source": [
    "x = customer_history_df.amount_log\n",
    "n, bins, patches = plt.hist(x, 1000, facecolor='green', alpha=0.75)\n",
    "\n",
    "plt.xlabel('Log of Sales Amount')\n",
    "plt.ylabel('Probability')\n",
    "plt.title(r'$\\mathrm{Histogram\\ of\\ Log\\ transformed\\ Customer\\ Monetary\\ value}\\ $')\n",
    "plt.grid(True)\n",
    "#plt.show()"
   ]
  },
  {
   "cell_type": "code",
   "execution_count": null,
   "metadata": {
    "id": "1gTQWD_abNH_",
    "outputId": "14673502-ba34-4137-f3b5-da697a1305b4",
    "scrolled": true
   },
   "outputs": [],
   "source": [
    "customer_history_df.head()"
   ]
  },
  {
   "cell_type": "code",
   "execution_count": null,
   "metadata": {
    "id": "qPIsqgTkbNIA",
    "outputId": "419077af-5881-4086-8338-da819a6d9d38"
   },
   "outputs": [],
   "source": [
    "from mpl_toolkits.mplot3d import Axes3D\n",
    "\n",
    "fig = plt.figure(figsize=(8, 6))\n",
    "ax = fig.add_subplot(111, projection='3d')\n",
    "\n",
    "xs =customer_history_df.recency_log\n",
    "ys = customer_history_df.frequency_log\n",
    "zs = customer_history_df.amount_log\n",
    "ax.scatter(xs, ys, zs, s=5)\n",
    "\n",
    "ax.set_xlabel('Recency')\n",
    "ax.set_ylabel('Frequency')\n",
    "ax.set_zlabel('Monetary')\n",
    "\n",
    "#plt.show()"
   ]
  },
  {
   "cell_type": "markdown",
   "metadata": {
    "id": "AjrSIi5hbNIA"
   },
   "source": [
    "# Analizamos segmentos de clientes con clustering\n",
    "\n"
   ]
  },
  {
   "cell_type": "markdown",
   "metadata": {
    "id": "MC0NHvSzmKbY"
   },
   "source": [
    "# Clustering K-Means\n",
    "El clustering K-means pertenece a la familia de algoritmos de clustering basados en particiones. Los\n",
    "pasos que ocurren en el algoritmo K-means para la partición de los datos son los siguientes:\n",
    "\n",
    "1. El algoritmo comienza con inicializaciones de puntos aleatorios del número requerido de\n",
    "centros. La \"K\" en K-means representa el número de clusters.\n",
    "2. En el siguiente paso, cada uno de los puntos de datos se asigna al centro más cercano a él. La métrica de distancia utilizada en el clustering de K-means es la distancia euclidiana normal.\n",
    "3. Una vez asignados los puntos de datos, se recalculan los centros promediando las\n",
    "dimensiones de los puntos pertenecientes al cluster.\n",
    "4. El proceso se repite con nuevos centros hasta que se llega a un punto en el que las\n",
    "asignaciones se vuelvan estables. En este caso, el algoritmo termina."
   ]
  },
  {
   "cell_type": "code",
   "execution_count": null,
   "metadata": {
    "id": "dwZ7klZjbNIB",
    "outputId": "bcb0a94d-0dbd-47ea-b47a-f6dc3b9cc565"
   },
   "outputs": [],
   "source": [
    "from sklearn.cluster import KMeans\n",
    "from sklearn.metrics import silhouette_samples, silhouette_score\n",
    "import matplotlib.cm as cm\n",
    "\n",
    "X = X_scaled\n",
    "\n",
    "cluster_centers = dict()\n",
    "\n",
    "for n_clusters in range(3,6,2):\n",
    "    fig, (ax1, ax2) = plt.subplots(1, 2)\n",
    "    #ax2 = plt.subplot(111, projection='3d')\n",
    "    fig.set_size_inches(18, 7)\n",
    "    ax1.set_xlim([-0.1, 1])\n",
    "    ax1.set_ylim([0, len(X) + (n_clusters + 1) * 10])\n",
    "\n",
    "    clusterer = KMeans(n_clusters=n_clusters, random_state=10)\n",
    "    cluster_labels = clusterer.fit_predict(X)\n",
    "\n",
    "    silhouette_avg = silhouette_score(X, cluster_labels)\n",
    "    cluster_centers.update({n_clusters :{\n",
    "                                        'cluster_center':clusterer.cluster_centers_,\n",
    "                                        'silhouette_score':silhouette_avg,\n",
    "                                        'labels':cluster_labels}\n",
    "                           })\n",
    "\n",
    "    sample_silhouette_values = silhouette_samples(X, cluster_labels)\n",
    "    y_lower = 10\n",
    "    for i in range(n_clusters):\n",
    "        ith_cluster_silhouette_values = \\\n",
    "            sample_silhouette_values[cluster_labels == i]\n",
    "\n",
    "        ith_cluster_silhouette_values.sort()\n",
    "\n",
    "        size_cluster_i = ith_cluster_silhouette_values.shape[0]\n",
    "        y_upper = y_lower + size_cluster_i\n",
    "\n",
    "        cmap = cm.get_cmap(\"Spectral\")\n",
    "        color = cmap(float(i) / n_clusters)\n",
    "        \n",
    "        ax1.fill_betweenx(np.arange(y_lower, y_upper),\n",
    "                          0, ith_cluster_silhouette_values,\n",
    "                          facecolor=color, edgecolor=color, alpha=0.7)\n",
    "\n",
    "        ax1.text(-0.05, y_lower + 0.5 * size_cluster_i, str(i))\n",
    "        y_lower = y_upper + 10  # 10 for the 0 samples\n",
    "\n",
    "    ax1.set_title(\"The silhouette plot for the various clusters.\")\n",
    "    ax1.set_xlabel(\"The silhouette coefficient values\")\n",
    "    ax1.set_ylabel(\"Cluster label\")\n",
    "    ax1.axvline(x=silhouette_avg, color=\"red\", linestyle=\"--\")\n",
    "    ax1.set_yticks([])\n",
    "    ax1.set_xticks([-0.1, 0, 0.2, 0.4, 0.6, 0.8, 1])\n",
    "    \n",
    "    colors = cmap(cluster_labels.astype(float) / n_clusters)\n",
    "    feature1 = 0\n",
    "    feature2 = 2\n",
    "    ax2.scatter(X[:, feature1], X[:, feature2], marker='.', s=30, lw=0, alpha=0.7,\n",
    "                c=colors, edgecolor='k')\n",
    "    \n",
    "    centers = clusterer.cluster_centers_\n",
    "    ax2.scatter(centers[:, feature1], centers[:, feature2], marker='o',\n",
    "                c=\"white\", alpha=1, s=200, edgecolor='k')\n",
    "    for i, c in enumerate(centers):\n",
    "        ax2.scatter(c[feature1], c[feature2], marker='$%d$' % i, alpha=1,\n",
    "                    s=50, edgecolor='k')\n",
    "    ax2.set_title(\"The visualization of the clustered data.\")\n",
    "    ax2.set_xlabel(\"Feature space for the 1st feature i.e. monetary value\")\n",
    "    ax2.set_ylabel(\"Feature space for the 2nd feature i.e. frequency\")\n",
    "    plt.suptitle((\"Silhouette analysis for KMeans clustering on sample data \"\n",
    "                  \"with n_clusters = %d\" % n_clusters),\n",
    "                 fontsize=14, fontweight='bold')\n",
    "    #plt.show()"
   ]
  },
  {
   "cell_type": "code",
   "execution_count": null,
   "metadata": {
    "id": "Ut-oR6xEbNIC",
    "outputId": "0f04d2ae-0c48-4410-f188-7eb2ddae4507"
   },
   "outputs": [],
   "source": [
    "for i in range(3,6,2):\n",
    "    print(\"for {} number of clusters\".format(i))\n",
    "    cent_transformed = scaler.inverse_transform(cluster_centers[i]['cluster_center'])\n",
    "    print(pd.DataFrame(np.exp(cent_transformed),columns=feature_vector))\n",
    "    print(\"Silhouette score for cluster {} is {}\". format(i, cluster_centers[i]['silhouette_score']))\n",
    "    print()"
   ]
  },
  {
   "cell_type": "markdown",
   "metadata": {
    "id": "DvT0rndjpZHl"
   },
   "source": [
    "Si observamos los resultados del proceso de agrupación, podemos deducir algunas ideas interesantes. Consideremos\n",
    "la configuración de tres clústeres y tratemos de entender las siguientes ideas.\n",
    "- Obtenemos tres clusters con marcadas diferencias en el valor monetario del cliente.\n",
    "- El clúster 2 es el clúster de los clientes de alto valor que compran con frecuencia y es sin duda\n",
    "un segmento importante para cada negocio.\n",
    "- Del mismo modo, obtenemos grupos de clientes con un gasto bajo y medio en\n",
    "clusters con etiquetas 1 y 0, respectivamente.\n",
    "- La frecuencia y la recurrencia se correlacionan perfectamente con el valor monetario según la tendencia\n",
    "(Alta Monetaria-Baja Recencia-Alta Frecuencia).\n",
    "\n",
    "Los resultados de la configuración de cinco clusters son más sorprendentes. Cuando buscamos más segmentos, descubrimos que nuestra base de clientes de alto valor se compone de dos subgrupos:\n",
    "\n",
    "- Los que compran a menudo y con un importe elevado (representados por el cluster 0).\n",
    "- Los que tienen un gasto decente pero no son tan frecuentes (representados por el clúster 1).\n",
    "\n",
    "Esto entra en conflicto directo con el resultado que obtenemos de la matriz de puntuación de silhouette, que dice que la segmentación de cinco\n",
    "clústeres es menos óptimos que los segmentos de tres clústeres. \n",
    "\n",
    "Por supuesto, recuerde que no siempre debe perseguir estrictamente las métricas matemáticas en todo momento y pensar también en los aspectos comerciales. \n"
   ]
  },
  {
   "cell_type": "markdown",
   "metadata": {
    "id": "XN6aSVxhbNID"
   },
   "source": [
    "# Asignar etiquetas de cluster"
   ]
  },
  {
   "cell_type": "code",
   "execution_count": null,
   "metadata": {
    "id": "YqDd8JYLbNID"
   },
   "outputs": [],
   "source": [
    "labels = cluster_centers[5]['labels']   \n",
    "customer_history_df['num_cluster5_labels'] = labels\n",
    "labels = cluster_centers[3]['labels']\n",
    "customer_history_df['num_cluster3_labels'] = labels"
   ]
  },
  {
   "cell_type": "code",
   "execution_count": null,
   "metadata": {
    "id": "FvUAO4IxbNIE",
    "outputId": "4b03392b-942f-486e-eaf7-4f1ce188ffcb"
   },
   "outputs": [],
   "source": [
    "customer_history_df.head()"
   ]
  },
  {
   "cell_type": "markdown",
   "metadata": {
    "id": "iAsdf14NbNIE"
   },
   "source": [
    "# Visualizar la segmentación (¿qué conclusiones podemos sacar?\n"
   ]
  },
  {
   "cell_type": "code",
   "execution_count": null,
   "metadata": {
    "id": "DOLassYKbNIE",
    "outputId": "28222748-1145-469e-b0b6-0e3d37cdb59b"
   },
   "outputs": [],
   "source": [
    "import plotly as py\n",
    "import plotly.graph_objs as go\n",
    "py.offline.init_notebook_mode()\n",
    "\n",
    "x_data = ['Cluster 1','Cluster 2','Cluster 3','Cluster 4', 'Cluster 5']\n",
    "cutoff_quantile = 100\n",
    "field_to_plot = 'recency'\n",
    "\n",
    "y0 = customer_history_df[customer_history_df['num_cluster5_labels']==0][field_to_plot].values\n",
    "y0 = y0[y0<np.percentile(y0, cutoff_quantile)]\n",
    "y1 = customer_history_df[customer_history_df['num_cluster5_labels']==1][field_to_plot].values\n",
    "y1 = y1[y1<np.percentile(y1, cutoff_quantile)]\n",
    "y2 = customer_history_df[customer_history_df['num_cluster5_labels']==2][field_to_plot].values\n",
    "y2 = y2[y2<np.percentile(y2, cutoff_quantile)]\n",
    "y3 = customer_history_df[customer_history_df['num_cluster5_labels']==3][field_to_plot].values\n",
    "y3 = y3[y3<np.percentile(y3, cutoff_quantile)]\n",
    "y4 = customer_history_df[customer_history_df['num_cluster5_labels']==4][field_to_plot].values\n",
    "y4 = y4[y4<np.percentile(y4, cutoff_quantile)]\n",
    "y_data = [y0,y1,y2,y3,y4]\n",
    "\n",
    "colors = ['rgba(93, 164, 214, 0.5)', 'rgba(255, 144, 14, 0.5)', 'rgba(44, 160, 101, 0.5)', 'rgba(255, 65, 54, 0.5)', 'rgba(207, 114, 255, 0.5)', 'rgba(127, 96, 0, 0.5)']\n",
    "traces = []\n",
    "\n",
    "for xd, yd, cls in zip(x_data, y_data, colors):\n",
    "        traces.append(go.Box(\n",
    "            y=yd,\n",
    "            name=xd,\n",
    "            boxpoints=False,\n",
    "            jitter=0.5,\n",
    "            whiskerwidth=0.2,\n",
    "            fillcolor=cls,\n",
    "            marker=dict(\n",
    "                size=2,\n",
    "            ),\n",
    "            line=dict(width=1),\n",
    "        ))\n",
    "\n",
    "layout = go.Layout(\n",
    "    title='Difference in sales {} from cluster to cluster'.format(field_to_plot),\n",
    "    yaxis=dict(\n",
    "        autorange=True,\n",
    "        showgrid=True,\n",
    "        zeroline=True,\n",
    "        dtick=50,\n",
    "        gridcolor='black',\n",
    "        gridwidth=0.1,\n",
    "        zerolinecolor='rgb(255, 255, 255)',\n",
    "        zerolinewidth=2,\n",
    "    ),\n",
    "    margin=dict(\n",
    "        l=40,\n",
    "        r=30,\n",
    "        b=80,\n",
    "        t=100,\n",
    "    ),\n",
    "    paper_bgcolor='white',\n",
    "    plot_bgcolor='white',\n",
    "    showlegend=False\n",
    ")\n",
    "\n",
    "fig = go.Figure(data=traces, layout=layout)\n",
    "py.offline.iplot(fig)"
   ]
  },
  {
   "cell_type": "code",
   "execution_count": null,
   "metadata": {
    "id": "rPBWHBRvbNIF",
    "outputId": "1363eb65-5dba-4c4a-b14d-5dd72284380d"
   },
   "outputs": [],
   "source": [
    "x_data = ['Cluster 1','Cluster 2','Cluster 3','Cluster 4', 'Cluster 5']\n",
    "cutoff_quantile = 80\n",
    "field_to_plot = 'amount'\n",
    "y0 = customer_history_df[customer_history_df['num_cluster5_labels']==0][field_to_plot].values\n",
    "y0 = y0[y0<np.percentile(y0, cutoff_quantile)]\n",
    "y1 = customer_history_df[customer_history_df['num_cluster5_labels']==1][field_to_plot].values\n",
    "y1 = y1[y1<np.percentile(y1, cutoff_quantile)]\n",
    "y2 = customer_history_df[customer_history_df['num_cluster5_labels']==2][field_to_plot].values\n",
    "y2 = y2[y2<np.percentile(y2, cutoff_quantile)]\n",
    "y3 = customer_history_df[customer_history_df['num_cluster5_labels']==3][field_to_plot].values\n",
    "y3 = y3[y3<np.percentile(y3, cutoff_quantile)]\n",
    "y4 = customer_history_df[customer_history_df['num_cluster5_labels']==4][field_to_plot].values\n",
    "y4 = y4[y4<np.percentile(y4, cutoff_quantile)]\n",
    "y_data = [y0,y1,y2,y3,y4]\n",
    "\n",
    "colors = ['rgba(93, 164, 214, 0.5)', 'rgba(255, 144, 14, 0.5)', 'rgba(44, 160, 101, 0.5)', 'rgba(255, 65, 54, 0.5)', 'rgba(207, 114, 255, 0.5)', 'rgba(127, 96, 0, 0.5)']\n",
    "traces = []\n",
    "\n",
    "for xd, yd, cls in zip(x_data, y_data, colors):\n",
    "        traces.append(go.Box(\n",
    "            y=yd,\n",
    "            name=xd,\n",
    "            boxpoints=False,\n",
    "            jitter=0.5,\n",
    "            whiskerwidth=0.2,\n",
    "            fillcolor=cls,\n",
    "            marker=dict(\n",
    "                size=2,\n",
    "            ),\n",
    "            line=dict(width=1),\n",
    "        ))\n",
    "\n",
    "layout = go.Layout(\n",
    "    title='Difference in sales {} from cluster to cluster'.format(field_to_plot),\n",
    "    yaxis=dict(\n",
    "        autorange=True,\n",
    "        showgrid=True,\n",
    "        zeroline=True,\n",
    "        dtick=1000,\n",
    "        gridcolor='black',\n",
    "        gridwidth=0.1,\n",
    "        zerolinecolor='rgb(255, 255, 255)',\n",
    "        zerolinewidth=2,\n",
    "    ),\n",
    "    margin=dict(\n",
    "        l=40,\n",
    "        r=30,\n",
    "        b=80,\n",
    "        t=100,\n",
    "    ),\n",
    "    paper_bgcolor='white',\n",
    "    plot_bgcolor='white',\n",
    "    showlegend=False\n",
    ")\n",
    "\n",
    "fig = go.Figure(data=traces, layout=layout)\n",
    "py.offline.iplot(fig)"
   ]
  },
  {
   "cell_type": "code",
   "execution_count": null,
   "metadata": {
    "id": "mRJIQmEpbNIG",
    "outputId": "d5139111-c511-4a60-9ebb-8a2e52bea814"
   },
   "outputs": [],
   "source": [
    "x_data = ['Cluster 1','Cluster 2','Cluster 3','Cluster 4', 'Cluster 5']\n",
    "cutoff_quantile = 80\n",
    "field_to_plot = 'frequency'\n",
    "y0 = customer_history_df[customer_history_df['num_cluster5_labels']==0][field_to_plot].values\n",
    "y0 = y0[y0<np.percentile(y0, cutoff_quantile)]\n",
    "y1 = customer_history_df[customer_history_df['num_cluster5_labels']==1][field_to_plot].values\n",
    "y1 = y1[y1<np.percentile(y1, cutoff_quantile)]\n",
    "y2 = customer_history_df[customer_history_df['num_cluster5_labels']==2][field_to_plot].values\n",
    "y2 = y2[y2<np.percentile(y2, cutoff_quantile)]\n",
    "y3 = customer_history_df[customer_history_df['num_cluster5_labels']==3][field_to_plot].values\n",
    "y3 = y3[y3<np.percentile(y3, cutoff_quantile)]\n",
    "y4 = customer_history_df[customer_history_df['num_cluster5_labels']==4][field_to_plot].values\n",
    "y4 = y4[y4<np.percentile(y4, cutoff_quantile)]\n",
    "y_data = [y0,y1,y2,y3,y4]\n",
    "\n",
    "colors = ['rgba(93, 164, 214, 0.5)', 'rgba(255, 144, 14, 0.5)', 'rgba(44, 160, 101, 0.5)', 'rgba(255, 65, 54, 0.5)', 'rgba(207, 114, 255, 0.5)', 'rgba(127, 96, 0, 0.5)']\n",
    "traces = []\n",
    "\n",
    "for xd, yd, cls in zip(x_data, y_data, colors):\n",
    "        traces.append(go.Box(\n",
    "            y=yd,\n",
    "            name=xd,\n",
    "            boxpoints=False,\n",
    "            jitter=0.5,\n",
    "            whiskerwidth=0.2,\n",
    "            fillcolor=cls,\n",
    "            marker=dict(\n",
    "                size=2,\n",
    "            ),\n",
    "            line=dict(width=1),\n",
    "        ))\n",
    "\n",
    "layout = go.Layout(\n",
    "    title='Difference in sales {} from cluster to cluster'.format(field_to_plot),\n",
    "    yaxis=dict(\n",
    "        autorange=True,\n",
    "        showgrid=True,\n",
    "        zeroline=True,\n",
    "        dtick=100,\n",
    "        gridcolor='black',\n",
    "        gridwidth=0.1,\n",
    "        zerolinecolor='rgb(255, 255, 255)',\n",
    "        zerolinewidth=2,\n",
    "    ),\n",
    "    margin=dict(\n",
    "        l=40,\n",
    "        r=30,\n",
    "        b=80,\n",
    "        t=100,\n",
    "    ),\n",
    "    paper_bgcolor='white',\n",
    "    plot_bgcolor='white',\n",
    "    showlegend=False\n",
    ")\n",
    "\n",
    "fig = go.Figure(data=traces, layout=layout)\n",
    "py.offline.iplot(fig)"
   ]
  },
  {
   "cell_type": "code",
   "execution_count": null,
   "metadata": {
    "id": "W5XdtmrXbNIG",
    "outputId": "1a33d05d-e4bf-417f-96aa-282a2f7531ab"
   },
   "outputs": [],
   "source": [
    "x_data = ['Cluster 1','Cluster 2','Cluster 3']\n",
    "cutoff_quantile = 100\n",
    "field_to_plot = 'recency'\n",
    "y0 = customer_history_df[customer_history_df['num_cluster3_labels']==0][field_to_plot].values\n",
    "y0 = y0[y0<np.percentile(y0, cutoff_quantile)]\n",
    "y1 = customer_history_df[customer_history_df['num_cluster3_labels']==1][field_to_plot].values\n",
    "y1 = y1[y1<np.percentile(y1, cutoff_quantile)]\n",
    "y2 = customer_history_df[customer_history_df['num_cluster3_labels']==2][field_to_plot].values\n",
    "y2 = y2[y2<np.percentile(y2, cutoff_quantile)]\n",
    "\n",
    "y_data = [y0,y1,y2]\n",
    "\n",
    "colors = ['rgba(93, 164, 214, 0.5)', 'rgba(255, 144, 14, 0.5)', 'rgba(44, 160, 101, 0.5)', 'rgba(255, 65, 54, 0.5)', 'rgba(207, 114, 255, 0.5)', 'rgba(127, 96, 0, 0.5)']\n",
    "traces = []\n",
    "\n",
    "for xd, yd, cls in zip(x_data, y_data, colors):\n",
    "        traces.append(go.Box(\n",
    "            y=yd,\n",
    "            name=xd,\n",
    "            boxpoints=False,\n",
    "            jitter=0.5,\n",
    "            whiskerwidth=0.2,\n",
    "            fillcolor=cls,\n",
    "            marker=dict(\n",
    "                size=2,\n",
    "            ),\n",
    "            line=dict(width=1),\n",
    "        ))\n",
    "\n",
    "layout = go.Layout(\n",
    "    title='Difference in sales {} from cluster to cluster'.format(field_to_plot),\n",
    "    yaxis=dict(\n",
    "        autorange=True,\n",
    "        showgrid=True,\n",
    "        zeroline=True,\n",
    "        dtick=50,\n",
    "        gridcolor='black',\n",
    "        gridwidth=0.1,\n",
    "        zerolinecolor='rgb(255, 255, 255)',\n",
    "        zerolinewidth=2,\n",
    "    ),\n",
    "    margin=dict(\n",
    "        l=40,\n",
    "        r=30,\n",
    "        b=80,\n",
    "        t=100,\n",
    "    ),\n",
    "    plot_bgcolor='white',\n",
    "    showlegend=False\n",
    ")\n",
    "\n",
    "fig = go.Figure(data=traces, layout=layout)\n",
    "py.offline.iplot(fig)"
   ]
  },
  {
   "cell_type": "code",
   "execution_count": null,
   "metadata": {
    "id": "Yavu-zlbbNIH",
    "outputId": "4908ddfc-577b-43f2-8f2e-06c7d9c3dfac"
   },
   "outputs": [],
   "source": [
    "x_data = ['Cluster 1','Cluster 2','Cluster 3']\n",
    "cutoff_quantile = 80\n",
    "field_to_plot = 'amount'\n",
    "y0 = customer_history_df[customer_history_df['num_cluster3_labels']==0][field_to_plot].values\n",
    "y0 = y0[y0<np.percentile(y0, cutoff_quantile)]\n",
    "y1 = customer_history_df[customer_history_df['num_cluster3_labels']==1][field_to_plot].values\n",
    "y1 = y1[y1<np.percentile(y1, cutoff_quantile)]\n",
    "y2 = customer_history_df[customer_history_df['num_cluster3_labels']==2][field_to_plot].values\n",
    "y2 = y2[y2<np.percentile(y2, cutoff_quantile)]\n",
    "\n",
    "y_data = [y0,y1,y2]\n",
    "\n",
    "colors = ['rgba(93, 164, 214, 0.5)', 'rgba(255, 144, 14, 0.5)', 'rgba(44, 160, 101, 0.5)', 'rgba(255, 65, 54, 0.5)', 'rgba(207, 114, 255, 0.5)', 'rgba(127, 96, 0, 0.5)']\n",
    "traces = []\n",
    "\n",
    "for xd, yd, cls in zip(x_data, y_data, colors):\n",
    "        traces.append(go.Box(\n",
    "            y=yd,\n",
    "            name=xd,\n",
    "            boxpoints=False,\n",
    "            jitter=0.5,\n",
    "            whiskerwidth=0.2,\n",
    "            fillcolor=cls,\n",
    "            marker=dict(\n",
    "                size=2,\n",
    "            ),\n",
    "            line=dict(width=1),\n",
    "        ))\n",
    "\n",
    "layout = go.Layout(\n",
    "    title='Difference in sales {} from cluster to cluster'.format(field_to_plot),\n",
    "    yaxis=dict(        \n",
    "        dtick=1000,\n",
    "    )\n",
    ")\n",
    "\n",
    "fig = go.Figure(data=traces, layout=layout)\n",
    "py.offline.iplot(fig)"
   ]
  },
  {
   "cell_type": "code",
   "execution_count": null,
   "metadata": {
    "id": "k50YPR1ebNII",
    "outputId": "e3d9b839-f0ab-4733-8a0a-80204daf7016"
   },
   "outputs": [],
   "source": [
    "x_data = ['Cluster 1','Cluster 2','Cluster 3']\n",
    "cutoff_quantile = 90\n",
    "field_to_plot = 'frequency'\n",
    "y0 = customer_history_df[customer_history_df['num_cluster3_labels']==0][field_to_plot].values\n",
    "y0 = y0[y0<np.percentile(y0, cutoff_quantile)]\n",
    "y1 = customer_history_df[customer_history_df['num_cluster3_labels']==1][field_to_plot].values\n",
    "y1 = y1[y1<np.percentile(y1, cutoff_quantile)]\n",
    "y2 = customer_history_df[customer_history_df['num_cluster3_labels']==2][field_to_plot].values\n",
    "y2 = y2[y2<np.percentile(y2, cutoff_quantile)]\n",
    "\n",
    "y_data = [y0,y1,y2]\n",
    "\n",
    "colors = ['rgba(93, 164, 214, 0.5)', 'rgba(255, 144, 14, 0.5)', 'rgba(44, 160, 101, 0.5)', 'rgba(255, 65, 54, 0.5)', 'rgba(207, 114, 255, 0.5)', 'rgba(127, 96, 0, 0.5)']\n",
    "traces = []\n",
    "\n",
    "for xd, yd, cls in zip(x_data, y_data, colors):\n",
    "        traces.append(go.Box(\n",
    "            y=yd,\n",
    "            name=xd,\n",
    "            boxpoints=False,\n",
    "            jitter=0.5,\n",
    "            whiskerwidth=0.2,\n",
    "            fillcolor=cls,\n",
    "            marker=dict(\n",
    "                size=2,\n",
    "            ),\n",
    "            line=dict(width=1),\n",
    "        ))\n",
    "\n",
    "layout = go.Layout(\n",
    "    title='Difference in sales {} from cluster to cluster'.format(field_to_plot),\n",
    "    yaxis=dict(\n",
    "        autorange=True,\n",
    "        showgrid=True,\n",
    "        zeroline=True,\n",
    "        dtick=100,\n",
    "        gridcolor='black',\n",
    "        gridwidth=0.1,\n",
    "        zerolinecolor='rgb(255, 255, 255)',\n",
    "        zerolinewidth=2,\n",
    "    ),\n",
    "    margin=dict(\n",
    "        l=40,\n",
    "        r=30,\n",
    "        b=80,\n",
    "        t=100,\n",
    "    ),\n",
    "    paper_bgcolor='white',\n",
    "    plot_bgcolor='white',\n",
    "    showlegend=False\n",
    ")\n",
    "\n",
    "fig = go.Figure(data=traces, layout=layout)\n",
    "py.offline.iplot(fig)"
   ]
  }
 ],
 "metadata": {
  "colab": {
   "name": "MLII - Clase 11 - Práctica",
   "provenance": []
  },
  "kernelspec": {
   "display_name": "envWindows",
   "language": "python",
   "name": "python3"
  },
  "language_info": {
   "codemirror_mode": {
    "name": "ipython",
    "version": 3
   },
   "file_extension": ".py",
   "mimetype": "text/x-python",
   "name": "python",
   "nbconvert_exporter": "python",
   "pygments_lexer": "ipython3",
   "version": "3.12.3"
  }
 },
 "nbformat": 4,
 "nbformat_minor": 1
}
