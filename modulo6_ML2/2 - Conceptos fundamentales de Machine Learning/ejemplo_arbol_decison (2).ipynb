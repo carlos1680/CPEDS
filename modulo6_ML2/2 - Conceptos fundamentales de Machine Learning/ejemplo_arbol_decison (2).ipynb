{
 "cells": [
  {
   "cell_type": "markdown",
   "metadata": {
    "id": "pEXqkyuZDlx6"
   },
   "source": [
    "## Machine Learning o Aprendizaje Automático\n",
    "\n",
    "\"El aprendizaje automático es un subcampo de la informática que brinda a las computadoras la capacidad de aprender sin ser programadas explícitamente“ - Arthur Samuel\n",
    "\n",
    "Use Machine Learning para las siguientes situaciones:\n",
    "\n",
    "*   Cuando el desarrollador (humano) no puede codificar las reglas\n",
    "*   Cuando el esfuerzo humano no puede escalar al volumen de datos mientras que una máquina sí puede.\n",
    "\n"
   ]
  },
  {
   "cell_type": "markdown",
   "metadata": {
    "id": "_tsj0CfI4sfF"
   },
   "source": [
    "\n",
    "\n",
    "---\n",
    "# Aprendizaje supervisado - Ejemplo - Arbol de decisión\n"
   ]
  },
  {
   "cell_type": "markdown",
   "metadata": {
    "id": "X7YtEX6BvRnF"
   },
   "source": [
    "Leemos los datos desde un archivo CSV"
   ]
  },
  {
   "cell_type": "markdown",
   "metadata": {
    "colab": {
     "base_uri": "https://localhost:8080/",
     "height": 74
    },
    "executionInfo": {
     "elapsed": 10898,
     "status": "ok",
     "timestamp": 1666737657771,
     "user": {
      "displayName": "Julio Rodriguez Martino",
      "userId": "05816779020109732306"
     },
     "user_tz": 180
    },
    "id": "930SpLvVtd3y",
    "outputId": "2ed27f0f-415a-4869-f942-b99b218aac1a"
   },
   "source": [
    "from google.colab import files\n",
    "data_to_load = files.upload()\n"
   ]
  },
  {
   "cell_type": "markdown",
   "metadata": {
    "id": "PNQnL6rK7Ffe"
   },
   "source": [
    "Convertimos los datos en un *dataframe* de pandas. Este formato es muy útil para realizar todo tipo de operaciones sobre los datos"
   ]
  },
  {
   "cell_type": "code",
   "execution_count": 2,
   "metadata": {
    "executionInfo": {
     "elapsed": 1081,
     "status": "ok",
     "timestamp": 1666737661061,
     "user": {
      "displayName": "Julio Rodriguez Martino",
      "userId": "05816779020109732306"
     },
     "user_tz": 180
    },
    "id": "olyDggvwudBn"
   },
   "outputs": [],
   "source": [
    "import io\n",
    "import pandas as pd\n",
    "\n",
    "df = pd.read_csv('3 arbol de decision.csv')\n",
    "\n",
    "# df = pd.read_csv(io.BytesIO(data_to_load['arbol de decision.csv']))"
   ]
  },
  {
   "cell_type": "code",
   "execution_count": 3,
   "metadata": {
    "colab": {
     "base_uri": "https://localhost:8080/",
     "height": 489
    },
    "executionInfo": {
     "elapsed": 284,
     "status": "ok",
     "timestamp": 1666737681938,
     "user": {
      "displayName": "Julio Rodriguez Martino",
      "userId": "05816779020109732306"
     },
     "user_tz": 180
    },
    "id": "Ww8x2aPLNuL6",
    "outputId": "10d4d32e-0233-4763-de2e-5ee25da9ac61"
   },
   "outputs": [
    {
     "data": {
      "text/html": [
       "<div>\n",
       "<style scoped>\n",
       "    .dataframe tbody tr th:only-of-type {\n",
       "        vertical-align: middle;\n",
       "    }\n",
       "\n",
       "    .dataframe tbody tr th {\n",
       "        vertical-align: top;\n",
       "    }\n",
       "\n",
       "    .dataframe thead th {\n",
       "        text-align: right;\n",
       "    }\n",
       "</style>\n",
       "<table border=\"1\" class=\"dataframe\">\n",
       "  <thead>\n",
       "    <tr style=\"text-align: right;\">\n",
       "      <th></th>\n",
       "      <th>ID</th>\n",
       "      <th>Temperatura</th>\n",
       "      <th>Humedad</th>\n",
       "      <th>Ventoso</th>\n",
       "      <th>Pronóstico</th>\n",
       "      <th>Salir a entrenar</th>\n",
       "    </tr>\n",
       "  </thead>\n",
       "  <tbody>\n",
       "    <tr>\n",
       "      <th>0</th>\n",
       "      <td>1</td>\n",
       "      <td>Cálido</td>\n",
       "      <td>Alta</td>\n",
       "      <td>No</td>\n",
       "      <td>Lluvia</td>\n",
       "      <td>No</td>\n",
       "    </tr>\n",
       "    <tr>\n",
       "      <th>1</th>\n",
       "      <td>2</td>\n",
       "      <td>Cálido</td>\n",
       "      <td>Alta</td>\n",
       "      <td>Sí</td>\n",
       "      <td>Lluvia</td>\n",
       "      <td>No</td>\n",
       "    </tr>\n",
       "    <tr>\n",
       "      <th>2</th>\n",
       "      <td>3</td>\n",
       "      <td>Cálido</td>\n",
       "      <td>Alta</td>\n",
       "      <td>No</td>\n",
       "      <td>Nublado</td>\n",
       "      <td>Si</td>\n",
       "    </tr>\n",
       "    <tr>\n",
       "      <th>3</th>\n",
       "      <td>4</td>\n",
       "      <td>Templado</td>\n",
       "      <td>Alta</td>\n",
       "      <td>No</td>\n",
       "      <td>Soleado</td>\n",
       "      <td>Si</td>\n",
       "    </tr>\n",
       "    <tr>\n",
       "      <th>4</th>\n",
       "      <td>5</td>\n",
       "      <td>Fresco</td>\n",
       "      <td>Normal</td>\n",
       "      <td>No</td>\n",
       "      <td>Soleado</td>\n",
       "      <td>Si</td>\n",
       "    </tr>\n",
       "    <tr>\n",
       "      <th>5</th>\n",
       "      <td>6</td>\n",
       "      <td>Fresco</td>\n",
       "      <td>Normal</td>\n",
       "      <td>Sí</td>\n",
       "      <td>Soleado</td>\n",
       "      <td>No</td>\n",
       "    </tr>\n",
       "    <tr>\n",
       "      <th>6</th>\n",
       "      <td>7</td>\n",
       "      <td>Fresco</td>\n",
       "      <td>Normal</td>\n",
       "      <td>Sí</td>\n",
       "      <td>Nublado</td>\n",
       "      <td>Si</td>\n",
       "    </tr>\n",
       "    <tr>\n",
       "      <th>7</th>\n",
       "      <td>8</td>\n",
       "      <td>Templado</td>\n",
       "      <td>Alta</td>\n",
       "      <td>No</td>\n",
       "      <td>Lluvia</td>\n",
       "      <td>No</td>\n",
       "    </tr>\n",
       "    <tr>\n",
       "      <th>8</th>\n",
       "      <td>9</td>\n",
       "      <td>Fresco</td>\n",
       "      <td>Normal</td>\n",
       "      <td>No</td>\n",
       "      <td>Lluvia</td>\n",
       "      <td>Si</td>\n",
       "    </tr>\n",
       "    <tr>\n",
       "      <th>9</th>\n",
       "      <td>10</td>\n",
       "      <td>Templado</td>\n",
       "      <td>Normal</td>\n",
       "      <td>No</td>\n",
       "      <td>Soleado</td>\n",
       "      <td>Si</td>\n",
       "    </tr>\n",
       "    <tr>\n",
       "      <th>10</th>\n",
       "      <td>11</td>\n",
       "      <td>Templado</td>\n",
       "      <td>Normal</td>\n",
       "      <td>Sí</td>\n",
       "      <td>Lluvia</td>\n",
       "      <td>Si</td>\n",
       "    </tr>\n",
       "    <tr>\n",
       "      <th>11</th>\n",
       "      <td>12</td>\n",
       "      <td>Templado</td>\n",
       "      <td>Alta</td>\n",
       "      <td>Sí</td>\n",
       "      <td>Nublado</td>\n",
       "      <td>Si</td>\n",
       "    </tr>\n",
       "    <tr>\n",
       "      <th>12</th>\n",
       "      <td>13</td>\n",
       "      <td>Cálido</td>\n",
       "      <td>Normal</td>\n",
       "      <td>No</td>\n",
       "      <td>Nublado</td>\n",
       "      <td>Si</td>\n",
       "    </tr>\n",
       "    <tr>\n",
       "      <th>13</th>\n",
       "      <td>14</td>\n",
       "      <td>Templado</td>\n",
       "      <td>Alta</td>\n",
       "      <td>Sí</td>\n",
       "      <td>Soleado</td>\n",
       "      <td>No</td>\n",
       "    </tr>\n",
       "  </tbody>\n",
       "</table>\n",
       "</div>"
      ],
      "text/plain": [
       "    ID Temperatura Humedad Ventoso Pronóstico Salir a entrenar\n",
       "0    1      Cálido    Alta      No     Lluvia               No\n",
       "1    2      Cálido    Alta      Sí     Lluvia               No\n",
       "2    3      Cálido    Alta      No    Nublado               Si\n",
       "3    4    Templado    Alta      No    Soleado               Si\n",
       "4    5      Fresco  Normal      No    Soleado               Si\n",
       "5    6      Fresco  Normal      Sí    Soleado               No\n",
       "6    7      Fresco  Normal      Sí    Nublado               Si\n",
       "7    8    Templado    Alta      No     Lluvia               No\n",
       "8    9      Fresco  Normal      No     Lluvia               Si\n",
       "9   10    Templado  Normal      No    Soleado               Si\n",
       "10  11    Templado  Normal      Sí     Lluvia               Si\n",
       "11  12    Templado    Alta      Sí    Nublado               Si\n",
       "12  13      Cálido  Normal      No    Nublado               Si\n",
       "13  14    Templado    Alta      Sí    Soleado               No"
      ]
     },
     "execution_count": 3,
     "metadata": {},
     "output_type": "execute_result"
    }
   ],
   "source": [
    "df"
   ]
  },
  {
   "cell_type": "markdown",
   "metadata": {
    "id": "-txcFZxO7Y0c"
   },
   "source": [
    "Ya que nuestros modelos sólo comprenden números, convertimos las categorías"
   ]
  },
  {
   "cell_type": "code",
   "execution_count": 4,
   "metadata": {
    "executionInfo": {
     "elapsed": 269,
     "status": "ok",
     "timestamp": 1666737807214,
     "user": {
      "displayName": "Julio Rodriguez Martino",
      "userId": "05816779020109732306"
     },
     "user_tz": 180
    },
    "id": "jndalQ0-O0Br"
   },
   "outputs": [
    {
     "name": "stderr",
     "output_type": "stream",
     "text": [
      "C:\\Users\\carlos\\AppData\\Local\\Temp\\ipykernel_16656\\2546430153.py:1: FutureWarning: Downcasting behavior in `replace` is deprecated and will be removed in a future version. To retain the old behavior, explicitly call `result.infer_objects(copy=False)`. To opt-in to the future behavior, set `pd.set_option('future.no_silent_downcasting', True)`\n",
      "  df['Temperatura_num'] = df['Temperatura'].replace(['Cálido','Templado','Fresco'],[2,1,0])\n"
     ]
    }
   ],
   "source": [
    "df['Temperatura_num'] = df['Temperatura'].replace(['Cálido','Templado','Fresco'],[2,1,0])"
   ]
  },
  {
   "cell_type": "code",
   "execution_count": 5,
   "metadata": {
    "colab": {
     "base_uri": "https://localhost:8080/",
     "height": 489
    },
    "executionInfo": {
     "elapsed": 292,
     "status": "ok",
     "timestamp": 1666737810262,
     "user": {
      "displayName": "Julio Rodriguez Martino",
      "userId": "05816779020109732306"
     },
     "user_tz": 180
    },
    "id": "FOyB7YzJPyv9",
    "outputId": "746ca92e-1a61-46d6-a6b0-24059988082f"
   },
   "outputs": [
    {
     "data": {
      "text/html": [
       "<div>\n",
       "<style scoped>\n",
       "    .dataframe tbody tr th:only-of-type {\n",
       "        vertical-align: middle;\n",
       "    }\n",
       "\n",
       "    .dataframe tbody tr th {\n",
       "        vertical-align: top;\n",
       "    }\n",
       "\n",
       "    .dataframe thead th {\n",
       "        text-align: right;\n",
       "    }\n",
       "</style>\n",
       "<table border=\"1\" class=\"dataframe\">\n",
       "  <thead>\n",
       "    <tr style=\"text-align: right;\">\n",
       "      <th></th>\n",
       "      <th>ID</th>\n",
       "      <th>Temperatura</th>\n",
       "      <th>Humedad</th>\n",
       "      <th>Ventoso</th>\n",
       "      <th>Pronóstico</th>\n",
       "      <th>Salir a entrenar</th>\n",
       "      <th>Temperatura_num</th>\n",
       "    </tr>\n",
       "  </thead>\n",
       "  <tbody>\n",
       "    <tr>\n",
       "      <th>0</th>\n",
       "      <td>1</td>\n",
       "      <td>Cálido</td>\n",
       "      <td>Alta</td>\n",
       "      <td>No</td>\n",
       "      <td>Lluvia</td>\n",
       "      <td>No</td>\n",
       "      <td>2</td>\n",
       "    </tr>\n",
       "    <tr>\n",
       "      <th>1</th>\n",
       "      <td>2</td>\n",
       "      <td>Cálido</td>\n",
       "      <td>Alta</td>\n",
       "      <td>Sí</td>\n",
       "      <td>Lluvia</td>\n",
       "      <td>No</td>\n",
       "      <td>2</td>\n",
       "    </tr>\n",
       "    <tr>\n",
       "      <th>2</th>\n",
       "      <td>3</td>\n",
       "      <td>Cálido</td>\n",
       "      <td>Alta</td>\n",
       "      <td>No</td>\n",
       "      <td>Nublado</td>\n",
       "      <td>Si</td>\n",
       "      <td>2</td>\n",
       "    </tr>\n",
       "    <tr>\n",
       "      <th>3</th>\n",
       "      <td>4</td>\n",
       "      <td>Templado</td>\n",
       "      <td>Alta</td>\n",
       "      <td>No</td>\n",
       "      <td>Soleado</td>\n",
       "      <td>Si</td>\n",
       "      <td>1</td>\n",
       "    </tr>\n",
       "    <tr>\n",
       "      <th>4</th>\n",
       "      <td>5</td>\n",
       "      <td>Fresco</td>\n",
       "      <td>Normal</td>\n",
       "      <td>No</td>\n",
       "      <td>Soleado</td>\n",
       "      <td>Si</td>\n",
       "      <td>0</td>\n",
       "    </tr>\n",
       "    <tr>\n",
       "      <th>5</th>\n",
       "      <td>6</td>\n",
       "      <td>Fresco</td>\n",
       "      <td>Normal</td>\n",
       "      <td>Sí</td>\n",
       "      <td>Soleado</td>\n",
       "      <td>No</td>\n",
       "      <td>0</td>\n",
       "    </tr>\n",
       "    <tr>\n",
       "      <th>6</th>\n",
       "      <td>7</td>\n",
       "      <td>Fresco</td>\n",
       "      <td>Normal</td>\n",
       "      <td>Sí</td>\n",
       "      <td>Nublado</td>\n",
       "      <td>Si</td>\n",
       "      <td>0</td>\n",
       "    </tr>\n",
       "    <tr>\n",
       "      <th>7</th>\n",
       "      <td>8</td>\n",
       "      <td>Templado</td>\n",
       "      <td>Alta</td>\n",
       "      <td>No</td>\n",
       "      <td>Lluvia</td>\n",
       "      <td>No</td>\n",
       "      <td>1</td>\n",
       "    </tr>\n",
       "    <tr>\n",
       "      <th>8</th>\n",
       "      <td>9</td>\n",
       "      <td>Fresco</td>\n",
       "      <td>Normal</td>\n",
       "      <td>No</td>\n",
       "      <td>Lluvia</td>\n",
       "      <td>Si</td>\n",
       "      <td>0</td>\n",
       "    </tr>\n",
       "    <tr>\n",
       "      <th>9</th>\n",
       "      <td>10</td>\n",
       "      <td>Templado</td>\n",
       "      <td>Normal</td>\n",
       "      <td>No</td>\n",
       "      <td>Soleado</td>\n",
       "      <td>Si</td>\n",
       "      <td>1</td>\n",
       "    </tr>\n",
       "    <tr>\n",
       "      <th>10</th>\n",
       "      <td>11</td>\n",
       "      <td>Templado</td>\n",
       "      <td>Normal</td>\n",
       "      <td>Sí</td>\n",
       "      <td>Lluvia</td>\n",
       "      <td>Si</td>\n",
       "      <td>1</td>\n",
       "    </tr>\n",
       "    <tr>\n",
       "      <th>11</th>\n",
       "      <td>12</td>\n",
       "      <td>Templado</td>\n",
       "      <td>Alta</td>\n",
       "      <td>Sí</td>\n",
       "      <td>Nublado</td>\n",
       "      <td>Si</td>\n",
       "      <td>1</td>\n",
       "    </tr>\n",
       "    <tr>\n",
       "      <th>12</th>\n",
       "      <td>13</td>\n",
       "      <td>Cálido</td>\n",
       "      <td>Normal</td>\n",
       "      <td>No</td>\n",
       "      <td>Nublado</td>\n",
       "      <td>Si</td>\n",
       "      <td>2</td>\n",
       "    </tr>\n",
       "    <tr>\n",
       "      <th>13</th>\n",
       "      <td>14</td>\n",
       "      <td>Templado</td>\n",
       "      <td>Alta</td>\n",
       "      <td>Sí</td>\n",
       "      <td>Soleado</td>\n",
       "      <td>No</td>\n",
       "      <td>1</td>\n",
       "    </tr>\n",
       "  </tbody>\n",
       "</table>\n",
       "</div>"
      ],
      "text/plain": [
       "    ID Temperatura Humedad Ventoso Pronóstico Salir a entrenar  \\\n",
       "0    1      Cálido    Alta      No     Lluvia               No   \n",
       "1    2      Cálido    Alta      Sí     Lluvia               No   \n",
       "2    3      Cálido    Alta      No    Nublado               Si   \n",
       "3    4    Templado    Alta      No    Soleado               Si   \n",
       "4    5      Fresco  Normal      No    Soleado               Si   \n",
       "5    6      Fresco  Normal      Sí    Soleado               No   \n",
       "6    7      Fresco  Normal      Sí    Nublado               Si   \n",
       "7    8    Templado    Alta      No     Lluvia               No   \n",
       "8    9      Fresco  Normal      No     Lluvia               Si   \n",
       "9   10    Templado  Normal      No    Soleado               Si   \n",
       "10  11    Templado  Normal      Sí     Lluvia               Si   \n",
       "11  12    Templado    Alta      Sí    Nublado               Si   \n",
       "12  13      Cálido  Normal      No    Nublado               Si   \n",
       "13  14    Templado    Alta      Sí    Soleado               No   \n",
       "\n",
       "    Temperatura_num  \n",
       "0                 2  \n",
       "1                 2  \n",
       "2                 2  \n",
       "3                 1  \n",
       "4                 0  \n",
       "5                 0  \n",
       "6                 0  \n",
       "7                 1  \n",
       "8                 0  \n",
       "9                 1  \n",
       "10                1  \n",
       "11                1  \n",
       "12                2  \n",
       "13                1  "
      ]
     },
     "execution_count": 5,
     "metadata": {},
     "output_type": "execute_result"
    }
   ],
   "source": [
    "df"
   ]
  },
  {
   "cell_type": "code",
   "execution_count": 6,
   "metadata": {
    "executionInfo": {
     "elapsed": 298,
     "status": "ok",
     "timestamp": 1666737869334,
     "user": {
      "displayName": "Julio Rodriguez Martino",
      "userId": "05816779020109732306"
     },
     "user_tz": 180
    },
    "id": "55EvjNy7QQAG"
   },
   "outputs": [
    {
     "name": "stderr",
     "output_type": "stream",
     "text": [
      "C:\\Users\\carlos\\AppData\\Local\\Temp\\ipykernel_16656\\1021923729.py:1: FutureWarning: Downcasting behavior in `replace` is deprecated and will be removed in a future version. To retain the old behavior, explicitly call `result.infer_objects(copy=False)`. To opt-in to the future behavior, set `pd.set_option('future.no_silent_downcasting', True)`\n",
      "  df['Humedad_num'] = df['Humedad'].replace(['Alta','Normal'],[1,0])\n",
      "C:\\Users\\carlos\\AppData\\Local\\Temp\\ipykernel_16656\\1021923729.py:2: FutureWarning: Downcasting behavior in `replace` is deprecated and will be removed in a future version. To retain the old behavior, explicitly call `result.infer_objects(copy=False)`. To opt-in to the future behavior, set `pd.set_option('future.no_silent_downcasting', True)`\n",
      "  df['Ventoso_num'] = df['Ventoso'].replace(['No','Sí'],[0,1])\n",
      "C:\\Users\\carlos\\AppData\\Local\\Temp\\ipykernel_16656\\1021923729.py:3: FutureWarning: Downcasting behavior in `replace` is deprecated and will be removed in a future version. To retain the old behavior, explicitly call `result.infer_objects(copy=False)`. To opt-in to the future behavior, set `pd.set_option('future.no_silent_downcasting', True)`\n",
      "  df['Pronostico_num'] = df['Pronóstico'].replace(['Lluvia','Nublado','Soleado'],[2,1,0])\n",
      "C:\\Users\\carlos\\AppData\\Local\\Temp\\ipykernel_16656\\1021923729.py:4: FutureWarning: Downcasting behavior in `replace` is deprecated and will be removed in a future version. To retain the old behavior, explicitly call `result.infer_objects(copy=False)`. To opt-in to the future behavior, set `pd.set_option('future.no_silent_downcasting', True)`\n",
      "  df['Entrenar_num'] = df['Salir a entrenar'].replace(['No','Si'],[0,1])\n"
     ]
    }
   ],
   "source": [
    "df['Humedad_num'] = df['Humedad'].replace(['Alta','Normal'],[1,0])\n",
    "df['Ventoso_num'] = df['Ventoso'].replace(['No','Sí'],[0,1])\n",
    "df['Pronostico_num'] = df['Pronóstico'].replace(['Lluvia','Nublado','Soleado'],[2,1,0])\n",
    "df['Entrenar_num'] = df['Salir a entrenar'].replace(['No','Si'],[0,1])\n"
   ]
  },
  {
   "cell_type": "code",
   "execution_count": 7,
   "metadata": {
    "colab": {
     "base_uri": "https://localhost:8080/",
     "height": 489
    },
    "executionInfo": {
     "elapsed": 551,
     "status": "ok",
     "timestamp": 1666737872115,
     "user": {
      "displayName": "Julio Rodriguez Martino",
      "userId": "05816779020109732306"
     },
     "user_tz": 180
    },
    "id": "a7UPWs_dSdIy",
    "outputId": "9101815d-6a15-409f-fe20-26cf00420b9f"
   },
   "outputs": [
    {
     "data": {
      "text/html": [
       "<div>\n",
       "<style scoped>\n",
       "    .dataframe tbody tr th:only-of-type {\n",
       "        vertical-align: middle;\n",
       "    }\n",
       "\n",
       "    .dataframe tbody tr th {\n",
       "        vertical-align: top;\n",
       "    }\n",
       "\n",
       "    .dataframe thead th {\n",
       "        text-align: right;\n",
       "    }\n",
       "</style>\n",
       "<table border=\"1\" class=\"dataframe\">\n",
       "  <thead>\n",
       "    <tr style=\"text-align: right;\">\n",
       "      <th></th>\n",
       "      <th>ID</th>\n",
       "      <th>Temperatura</th>\n",
       "      <th>Humedad</th>\n",
       "      <th>Ventoso</th>\n",
       "      <th>Pronóstico</th>\n",
       "      <th>Salir a entrenar</th>\n",
       "      <th>Temperatura_num</th>\n",
       "      <th>Humedad_num</th>\n",
       "      <th>Ventoso_num</th>\n",
       "      <th>Pronostico_num</th>\n",
       "      <th>Entrenar_num</th>\n",
       "    </tr>\n",
       "  </thead>\n",
       "  <tbody>\n",
       "    <tr>\n",
       "      <th>0</th>\n",
       "      <td>1</td>\n",
       "      <td>Cálido</td>\n",
       "      <td>Alta</td>\n",
       "      <td>No</td>\n",
       "      <td>Lluvia</td>\n",
       "      <td>No</td>\n",
       "      <td>2</td>\n",
       "      <td>1</td>\n",
       "      <td>0</td>\n",
       "      <td>2</td>\n",
       "      <td>0</td>\n",
       "    </tr>\n",
       "    <tr>\n",
       "      <th>1</th>\n",
       "      <td>2</td>\n",
       "      <td>Cálido</td>\n",
       "      <td>Alta</td>\n",
       "      <td>Sí</td>\n",
       "      <td>Lluvia</td>\n",
       "      <td>No</td>\n",
       "      <td>2</td>\n",
       "      <td>1</td>\n",
       "      <td>1</td>\n",
       "      <td>2</td>\n",
       "      <td>0</td>\n",
       "    </tr>\n",
       "    <tr>\n",
       "      <th>2</th>\n",
       "      <td>3</td>\n",
       "      <td>Cálido</td>\n",
       "      <td>Alta</td>\n",
       "      <td>No</td>\n",
       "      <td>Nublado</td>\n",
       "      <td>Si</td>\n",
       "      <td>2</td>\n",
       "      <td>1</td>\n",
       "      <td>0</td>\n",
       "      <td>1</td>\n",
       "      <td>1</td>\n",
       "    </tr>\n",
       "    <tr>\n",
       "      <th>3</th>\n",
       "      <td>4</td>\n",
       "      <td>Templado</td>\n",
       "      <td>Alta</td>\n",
       "      <td>No</td>\n",
       "      <td>Soleado</td>\n",
       "      <td>Si</td>\n",
       "      <td>1</td>\n",
       "      <td>1</td>\n",
       "      <td>0</td>\n",
       "      <td>0</td>\n",
       "      <td>1</td>\n",
       "    </tr>\n",
       "    <tr>\n",
       "      <th>4</th>\n",
       "      <td>5</td>\n",
       "      <td>Fresco</td>\n",
       "      <td>Normal</td>\n",
       "      <td>No</td>\n",
       "      <td>Soleado</td>\n",
       "      <td>Si</td>\n",
       "      <td>0</td>\n",
       "      <td>0</td>\n",
       "      <td>0</td>\n",
       "      <td>0</td>\n",
       "      <td>1</td>\n",
       "    </tr>\n",
       "    <tr>\n",
       "      <th>5</th>\n",
       "      <td>6</td>\n",
       "      <td>Fresco</td>\n",
       "      <td>Normal</td>\n",
       "      <td>Sí</td>\n",
       "      <td>Soleado</td>\n",
       "      <td>No</td>\n",
       "      <td>0</td>\n",
       "      <td>0</td>\n",
       "      <td>1</td>\n",
       "      <td>0</td>\n",
       "      <td>0</td>\n",
       "    </tr>\n",
       "    <tr>\n",
       "      <th>6</th>\n",
       "      <td>7</td>\n",
       "      <td>Fresco</td>\n",
       "      <td>Normal</td>\n",
       "      <td>Sí</td>\n",
       "      <td>Nublado</td>\n",
       "      <td>Si</td>\n",
       "      <td>0</td>\n",
       "      <td>0</td>\n",
       "      <td>1</td>\n",
       "      <td>1</td>\n",
       "      <td>1</td>\n",
       "    </tr>\n",
       "    <tr>\n",
       "      <th>7</th>\n",
       "      <td>8</td>\n",
       "      <td>Templado</td>\n",
       "      <td>Alta</td>\n",
       "      <td>No</td>\n",
       "      <td>Lluvia</td>\n",
       "      <td>No</td>\n",
       "      <td>1</td>\n",
       "      <td>1</td>\n",
       "      <td>0</td>\n",
       "      <td>2</td>\n",
       "      <td>0</td>\n",
       "    </tr>\n",
       "    <tr>\n",
       "      <th>8</th>\n",
       "      <td>9</td>\n",
       "      <td>Fresco</td>\n",
       "      <td>Normal</td>\n",
       "      <td>No</td>\n",
       "      <td>Lluvia</td>\n",
       "      <td>Si</td>\n",
       "      <td>0</td>\n",
       "      <td>0</td>\n",
       "      <td>0</td>\n",
       "      <td>2</td>\n",
       "      <td>1</td>\n",
       "    </tr>\n",
       "    <tr>\n",
       "      <th>9</th>\n",
       "      <td>10</td>\n",
       "      <td>Templado</td>\n",
       "      <td>Normal</td>\n",
       "      <td>No</td>\n",
       "      <td>Soleado</td>\n",
       "      <td>Si</td>\n",
       "      <td>1</td>\n",
       "      <td>0</td>\n",
       "      <td>0</td>\n",
       "      <td>0</td>\n",
       "      <td>1</td>\n",
       "    </tr>\n",
       "    <tr>\n",
       "      <th>10</th>\n",
       "      <td>11</td>\n",
       "      <td>Templado</td>\n",
       "      <td>Normal</td>\n",
       "      <td>Sí</td>\n",
       "      <td>Lluvia</td>\n",
       "      <td>Si</td>\n",
       "      <td>1</td>\n",
       "      <td>0</td>\n",
       "      <td>1</td>\n",
       "      <td>2</td>\n",
       "      <td>1</td>\n",
       "    </tr>\n",
       "    <tr>\n",
       "      <th>11</th>\n",
       "      <td>12</td>\n",
       "      <td>Templado</td>\n",
       "      <td>Alta</td>\n",
       "      <td>Sí</td>\n",
       "      <td>Nublado</td>\n",
       "      <td>Si</td>\n",
       "      <td>1</td>\n",
       "      <td>1</td>\n",
       "      <td>1</td>\n",
       "      <td>1</td>\n",
       "      <td>1</td>\n",
       "    </tr>\n",
       "    <tr>\n",
       "      <th>12</th>\n",
       "      <td>13</td>\n",
       "      <td>Cálido</td>\n",
       "      <td>Normal</td>\n",
       "      <td>No</td>\n",
       "      <td>Nublado</td>\n",
       "      <td>Si</td>\n",
       "      <td>2</td>\n",
       "      <td>0</td>\n",
       "      <td>0</td>\n",
       "      <td>1</td>\n",
       "      <td>1</td>\n",
       "    </tr>\n",
       "    <tr>\n",
       "      <th>13</th>\n",
       "      <td>14</td>\n",
       "      <td>Templado</td>\n",
       "      <td>Alta</td>\n",
       "      <td>Sí</td>\n",
       "      <td>Soleado</td>\n",
       "      <td>No</td>\n",
       "      <td>1</td>\n",
       "      <td>1</td>\n",
       "      <td>1</td>\n",
       "      <td>0</td>\n",
       "      <td>0</td>\n",
       "    </tr>\n",
       "  </tbody>\n",
       "</table>\n",
       "</div>"
      ],
      "text/plain": [
       "    ID Temperatura Humedad Ventoso Pronóstico Salir a entrenar  \\\n",
       "0    1      Cálido    Alta      No     Lluvia               No   \n",
       "1    2      Cálido    Alta      Sí     Lluvia               No   \n",
       "2    3      Cálido    Alta      No    Nublado               Si   \n",
       "3    4    Templado    Alta      No    Soleado               Si   \n",
       "4    5      Fresco  Normal      No    Soleado               Si   \n",
       "5    6      Fresco  Normal      Sí    Soleado               No   \n",
       "6    7      Fresco  Normal      Sí    Nublado               Si   \n",
       "7    8    Templado    Alta      No     Lluvia               No   \n",
       "8    9      Fresco  Normal      No     Lluvia               Si   \n",
       "9   10    Templado  Normal      No    Soleado               Si   \n",
       "10  11    Templado  Normal      Sí     Lluvia               Si   \n",
       "11  12    Templado    Alta      Sí    Nublado               Si   \n",
       "12  13      Cálido  Normal      No    Nublado               Si   \n",
       "13  14    Templado    Alta      Sí    Soleado               No   \n",
       "\n",
       "    Temperatura_num  Humedad_num  Ventoso_num  Pronostico_num  Entrenar_num  \n",
       "0                 2            1            0               2             0  \n",
       "1                 2            1            1               2             0  \n",
       "2                 2            1            0               1             1  \n",
       "3                 1            1            0               0             1  \n",
       "4                 0            0            0               0             1  \n",
       "5                 0            0            1               0             0  \n",
       "6                 0            0            1               1             1  \n",
       "7                 1            1            0               2             0  \n",
       "8                 0            0            0               2             1  \n",
       "9                 1            0            0               0             1  \n",
       "10                1            0            1               2             1  \n",
       "11                1            1            1               1             1  \n",
       "12                2            0            0               1             1  \n",
       "13                1            1            1               0             0  "
      ]
     },
     "execution_count": 7,
     "metadata": {},
     "output_type": "execute_result"
    }
   ],
   "source": [
    "df"
   ]
  },
  {
   "cell_type": "markdown",
   "metadata": {
    "id": "YsL5UUGvRSXV"
   },
   "source": [
    "*No* siempre la codificación es tan simple. En algunos casos debemos utilizar una técnica que se llama *one-hot encoding*"
   ]
  },
  {
   "cell_type": "code",
   "execution_count": 8,
   "metadata": {
    "executionInfo": {
     "elapsed": 1321,
     "status": "ok",
     "timestamp": 1666737931865,
     "user": {
      "displayName": "Julio Rodriguez Martino",
      "userId": "05816779020109732306"
     },
     "user_tz": 180
    },
    "id": "1Fl74c9wTP5t"
   },
   "outputs": [],
   "source": [
    "from sklearn.tree import DecisionTreeClassifier"
   ]
  },
  {
   "cell_type": "markdown",
   "metadata": {
    "id": "2a3Uv-cU9lc7"
   },
   "source": [
    "Tenemos que separar las variables de entrada (features) de la variable objetivo (target)"
   ]
  },
  {
   "cell_type": "code",
   "execution_count": 9,
   "metadata": {
    "executionInfo": {
     "elapsed": 292,
     "status": "ok",
     "timestamp": 1666737964126,
     "user": {
      "displayName": "Julio Rodriguez Martino",
      "userId": "05816779020109732306"
     },
     "user_tz": 180
    },
    "id": "JhB8SE1gTVhi"
   },
   "outputs": [],
   "source": [
    "feature_cols = ['Temperatura_num','Humedad_num','Ventoso_num','Pronostico_num']\n",
    "X = df[feature_cols] # Variables de entrada\n",
    "y = df['Entrenar_num'] # Variable objetivo"
   ]
  },
  {
   "cell_type": "code",
   "execution_count": 10,
   "metadata": {
    "colab": {
     "base_uri": "https://localhost:8080/",
     "height": 489
    },
    "executionInfo": {
     "elapsed": 298,
     "status": "ok",
     "timestamp": 1666737966626,
     "user": {
      "displayName": "Julio Rodriguez Martino",
      "userId": "05816779020109732306"
     },
     "user_tz": 180
    },
    "id": "u9Q1BzfHUd1f",
    "outputId": "0fd6e6b6-fee5-4db5-8649-a7752883eb5b"
   },
   "outputs": [
    {
     "data": {
      "text/html": [
       "<div>\n",
       "<style scoped>\n",
       "    .dataframe tbody tr th:only-of-type {\n",
       "        vertical-align: middle;\n",
       "    }\n",
       "\n",
       "    .dataframe tbody tr th {\n",
       "        vertical-align: top;\n",
       "    }\n",
       "\n",
       "    .dataframe thead th {\n",
       "        text-align: right;\n",
       "    }\n",
       "</style>\n",
       "<table border=\"1\" class=\"dataframe\">\n",
       "  <thead>\n",
       "    <tr style=\"text-align: right;\">\n",
       "      <th></th>\n",
       "      <th>Temperatura_num</th>\n",
       "      <th>Humedad_num</th>\n",
       "      <th>Ventoso_num</th>\n",
       "      <th>Pronostico_num</th>\n",
       "    </tr>\n",
       "  </thead>\n",
       "  <tbody>\n",
       "    <tr>\n",
       "      <th>0</th>\n",
       "      <td>2</td>\n",
       "      <td>1</td>\n",
       "      <td>0</td>\n",
       "      <td>2</td>\n",
       "    </tr>\n",
       "    <tr>\n",
       "      <th>1</th>\n",
       "      <td>2</td>\n",
       "      <td>1</td>\n",
       "      <td>1</td>\n",
       "      <td>2</td>\n",
       "    </tr>\n",
       "    <tr>\n",
       "      <th>2</th>\n",
       "      <td>2</td>\n",
       "      <td>1</td>\n",
       "      <td>0</td>\n",
       "      <td>1</td>\n",
       "    </tr>\n",
       "    <tr>\n",
       "      <th>3</th>\n",
       "      <td>1</td>\n",
       "      <td>1</td>\n",
       "      <td>0</td>\n",
       "      <td>0</td>\n",
       "    </tr>\n",
       "    <tr>\n",
       "      <th>4</th>\n",
       "      <td>0</td>\n",
       "      <td>0</td>\n",
       "      <td>0</td>\n",
       "      <td>0</td>\n",
       "    </tr>\n",
       "    <tr>\n",
       "      <th>5</th>\n",
       "      <td>0</td>\n",
       "      <td>0</td>\n",
       "      <td>1</td>\n",
       "      <td>0</td>\n",
       "    </tr>\n",
       "    <tr>\n",
       "      <th>6</th>\n",
       "      <td>0</td>\n",
       "      <td>0</td>\n",
       "      <td>1</td>\n",
       "      <td>1</td>\n",
       "    </tr>\n",
       "    <tr>\n",
       "      <th>7</th>\n",
       "      <td>1</td>\n",
       "      <td>1</td>\n",
       "      <td>0</td>\n",
       "      <td>2</td>\n",
       "    </tr>\n",
       "    <tr>\n",
       "      <th>8</th>\n",
       "      <td>0</td>\n",
       "      <td>0</td>\n",
       "      <td>0</td>\n",
       "      <td>2</td>\n",
       "    </tr>\n",
       "    <tr>\n",
       "      <th>9</th>\n",
       "      <td>1</td>\n",
       "      <td>0</td>\n",
       "      <td>0</td>\n",
       "      <td>0</td>\n",
       "    </tr>\n",
       "    <tr>\n",
       "      <th>10</th>\n",
       "      <td>1</td>\n",
       "      <td>0</td>\n",
       "      <td>1</td>\n",
       "      <td>2</td>\n",
       "    </tr>\n",
       "    <tr>\n",
       "      <th>11</th>\n",
       "      <td>1</td>\n",
       "      <td>1</td>\n",
       "      <td>1</td>\n",
       "      <td>1</td>\n",
       "    </tr>\n",
       "    <tr>\n",
       "      <th>12</th>\n",
       "      <td>2</td>\n",
       "      <td>0</td>\n",
       "      <td>0</td>\n",
       "      <td>1</td>\n",
       "    </tr>\n",
       "    <tr>\n",
       "      <th>13</th>\n",
       "      <td>1</td>\n",
       "      <td>1</td>\n",
       "      <td>1</td>\n",
       "      <td>0</td>\n",
       "    </tr>\n",
       "  </tbody>\n",
       "</table>\n",
       "</div>"
      ],
      "text/plain": [
       "    Temperatura_num  Humedad_num  Ventoso_num  Pronostico_num\n",
       "0                 2            1            0               2\n",
       "1                 2            1            1               2\n",
       "2                 2            1            0               1\n",
       "3                 1            1            0               0\n",
       "4                 0            0            0               0\n",
       "5                 0            0            1               0\n",
       "6                 0            0            1               1\n",
       "7                 1            1            0               2\n",
       "8                 0            0            0               2\n",
       "9                 1            0            0               0\n",
       "10                1            0            1               2\n",
       "11                1            1            1               1\n",
       "12                2            0            0               1\n",
       "13                1            1            1               0"
      ]
     },
     "execution_count": 10,
     "metadata": {},
     "output_type": "execute_result"
    }
   ],
   "source": [
    "X"
   ]
  },
  {
   "cell_type": "markdown",
   "metadata": {
    "id": "0F9tIH7fT4NA"
   },
   "source": [
    "Normalmente, si el conjunto de datos es suficientemente grande, se separa una parte (80%) para entrenar el modelo y el resto se reserva para probarlo"
   ]
  },
  {
   "cell_type": "code",
   "execution_count": 11,
   "metadata": {
    "executionInfo": {
     "elapsed": 316,
     "status": "ok",
     "timestamp": 1666738046535,
     "user": {
      "displayName": "Julio Rodriguez Martino",
      "userId": "05816779020109732306"
     },
     "user_tz": 180
    },
    "id": "rMa9N5nmUF63"
   },
   "outputs": [],
   "source": [
    "clf = DecisionTreeClassifier()\n"
   ]
  },
  {
   "cell_type": "markdown",
   "metadata": {
    "id": "p_LIOAUw-HKa"
   },
   "source": [
    "¡Una sola línea de cóódigo para entrenar el modelo!"
   ]
  },
  {
   "cell_type": "code",
   "execution_count": 12,
   "metadata": {
    "executionInfo": {
     "elapsed": 285,
     "status": "ok",
     "timestamp": 1666738128070,
     "user": {
      "displayName": "Julio Rodriguez Martino",
      "userId": "05816779020109732306"
     },
     "user_tz": 180
    },
    "id": "DLkIpAiOUMoh"
   },
   "outputs": [],
   "source": [
    "clf = clf.fit(X,y)\n"
   ]
  },
  {
   "cell_type": "markdown",
   "metadata": {
    "id": "gLX_nuTf-RKx"
   },
   "source": [
    "Con el modelo entrenado, podemos predecir el resultado de cualquier combinación de entradas"
   ]
  },
  {
   "cell_type": "code",
   "execution_count": 13,
   "metadata": {
    "colab": {
     "base_uri": "https://localhost:8080/"
    },
    "executionInfo": {
     "elapsed": 339,
     "status": "ok",
     "timestamp": 1666738203726,
     "user": {
      "displayName": "Julio Rodriguez Martino",
      "userId": "05816779020109732306"
     },
     "user_tz": 180
    },
    "id": "UP0UNIiNUUBp",
    "outputId": "48f44958-c0a1-4072-a429-280c107bf8f5"
   },
   "outputs": [
    {
     "data": {
      "text/plain": [
       "array([0, 0, 1, 1, 1, 0, 1, 0, 1, 1, 1, 1, 1, 0], dtype=int64)"
      ]
     },
     "execution_count": 13,
     "metadata": {},
     "output_type": "execute_result"
    }
   ],
   "source": [
    "y_pred = clf.predict(X)\n",
    "y_pred"
   ]
  },
  {
   "cell_type": "code",
   "execution_count": 14,
   "metadata": {
    "colab": {
     "base_uri": "https://localhost:8080/",
     "height": 550
    },
    "executionInfo": {
     "elapsed": 305,
     "status": "ok",
     "timestamp": 1666738239337,
     "user": {
      "displayName": "Julio Rodriguez Martino",
      "userId": "05816779020109732306"
     },
     "user_tz": 180
    },
    "id": "CMntth83VL6Q",
    "outputId": "b2f8d6a7-eaa0-4cad-8df4-1611a206d0b1"
   },
   "outputs": [
    {
     "data": {
      "text/html": [
       "<div>\n",
       "<style scoped>\n",
       "    .dataframe tbody tr th:only-of-type {\n",
       "        vertical-align: middle;\n",
       "    }\n",
       "\n",
       "    .dataframe tbody tr th {\n",
       "        vertical-align: top;\n",
       "    }\n",
       "\n",
       "    .dataframe thead th {\n",
       "        text-align: right;\n",
       "    }\n",
       "</style>\n",
       "<table border=\"1\" class=\"dataframe\">\n",
       "  <thead>\n",
       "    <tr style=\"text-align: right;\">\n",
       "      <th></th>\n",
       "      <th>ID</th>\n",
       "      <th>Temperatura</th>\n",
       "      <th>Humedad</th>\n",
       "      <th>Ventoso</th>\n",
       "      <th>Pronóstico</th>\n",
       "      <th>Salir a entrenar</th>\n",
       "      <th>Temperatura_num</th>\n",
       "      <th>Humedad_num</th>\n",
       "      <th>Ventoso_num</th>\n",
       "      <th>Pronostico_num</th>\n",
       "      <th>Entrenar_num</th>\n",
       "      <th>Entrenar_prediccion</th>\n",
       "    </tr>\n",
       "  </thead>\n",
       "  <tbody>\n",
       "    <tr>\n",
       "      <th>0</th>\n",
       "      <td>1</td>\n",
       "      <td>Cálido</td>\n",
       "      <td>Alta</td>\n",
       "      <td>No</td>\n",
       "      <td>Lluvia</td>\n",
       "      <td>No</td>\n",
       "      <td>2</td>\n",
       "      <td>1</td>\n",
       "      <td>0</td>\n",
       "      <td>2</td>\n",
       "      <td>0</td>\n",
       "      <td>0</td>\n",
       "    </tr>\n",
       "    <tr>\n",
       "      <th>1</th>\n",
       "      <td>2</td>\n",
       "      <td>Cálido</td>\n",
       "      <td>Alta</td>\n",
       "      <td>Sí</td>\n",
       "      <td>Lluvia</td>\n",
       "      <td>No</td>\n",
       "      <td>2</td>\n",
       "      <td>1</td>\n",
       "      <td>1</td>\n",
       "      <td>2</td>\n",
       "      <td>0</td>\n",
       "      <td>0</td>\n",
       "    </tr>\n",
       "    <tr>\n",
       "      <th>2</th>\n",
       "      <td>3</td>\n",
       "      <td>Cálido</td>\n",
       "      <td>Alta</td>\n",
       "      <td>No</td>\n",
       "      <td>Nublado</td>\n",
       "      <td>Si</td>\n",
       "      <td>2</td>\n",
       "      <td>1</td>\n",
       "      <td>0</td>\n",
       "      <td>1</td>\n",
       "      <td>1</td>\n",
       "      <td>1</td>\n",
       "    </tr>\n",
       "    <tr>\n",
       "      <th>3</th>\n",
       "      <td>4</td>\n",
       "      <td>Templado</td>\n",
       "      <td>Alta</td>\n",
       "      <td>No</td>\n",
       "      <td>Soleado</td>\n",
       "      <td>Si</td>\n",
       "      <td>1</td>\n",
       "      <td>1</td>\n",
       "      <td>0</td>\n",
       "      <td>0</td>\n",
       "      <td>1</td>\n",
       "      <td>1</td>\n",
       "    </tr>\n",
       "    <tr>\n",
       "      <th>4</th>\n",
       "      <td>5</td>\n",
       "      <td>Fresco</td>\n",
       "      <td>Normal</td>\n",
       "      <td>No</td>\n",
       "      <td>Soleado</td>\n",
       "      <td>Si</td>\n",
       "      <td>0</td>\n",
       "      <td>0</td>\n",
       "      <td>0</td>\n",
       "      <td>0</td>\n",
       "      <td>1</td>\n",
       "      <td>1</td>\n",
       "    </tr>\n",
       "    <tr>\n",
       "      <th>5</th>\n",
       "      <td>6</td>\n",
       "      <td>Fresco</td>\n",
       "      <td>Normal</td>\n",
       "      <td>Sí</td>\n",
       "      <td>Soleado</td>\n",
       "      <td>No</td>\n",
       "      <td>0</td>\n",
       "      <td>0</td>\n",
       "      <td>1</td>\n",
       "      <td>0</td>\n",
       "      <td>0</td>\n",
       "      <td>0</td>\n",
       "    </tr>\n",
       "    <tr>\n",
       "      <th>6</th>\n",
       "      <td>7</td>\n",
       "      <td>Fresco</td>\n",
       "      <td>Normal</td>\n",
       "      <td>Sí</td>\n",
       "      <td>Nublado</td>\n",
       "      <td>Si</td>\n",
       "      <td>0</td>\n",
       "      <td>0</td>\n",
       "      <td>1</td>\n",
       "      <td>1</td>\n",
       "      <td>1</td>\n",
       "      <td>1</td>\n",
       "    </tr>\n",
       "    <tr>\n",
       "      <th>7</th>\n",
       "      <td>8</td>\n",
       "      <td>Templado</td>\n",
       "      <td>Alta</td>\n",
       "      <td>No</td>\n",
       "      <td>Lluvia</td>\n",
       "      <td>No</td>\n",
       "      <td>1</td>\n",
       "      <td>1</td>\n",
       "      <td>0</td>\n",
       "      <td>2</td>\n",
       "      <td>0</td>\n",
       "      <td>0</td>\n",
       "    </tr>\n",
       "    <tr>\n",
       "      <th>8</th>\n",
       "      <td>9</td>\n",
       "      <td>Fresco</td>\n",
       "      <td>Normal</td>\n",
       "      <td>No</td>\n",
       "      <td>Lluvia</td>\n",
       "      <td>Si</td>\n",
       "      <td>0</td>\n",
       "      <td>0</td>\n",
       "      <td>0</td>\n",
       "      <td>2</td>\n",
       "      <td>1</td>\n",
       "      <td>1</td>\n",
       "    </tr>\n",
       "    <tr>\n",
       "      <th>9</th>\n",
       "      <td>10</td>\n",
       "      <td>Templado</td>\n",
       "      <td>Normal</td>\n",
       "      <td>No</td>\n",
       "      <td>Soleado</td>\n",
       "      <td>Si</td>\n",
       "      <td>1</td>\n",
       "      <td>0</td>\n",
       "      <td>0</td>\n",
       "      <td>0</td>\n",
       "      <td>1</td>\n",
       "      <td>1</td>\n",
       "    </tr>\n",
       "    <tr>\n",
       "      <th>10</th>\n",
       "      <td>11</td>\n",
       "      <td>Templado</td>\n",
       "      <td>Normal</td>\n",
       "      <td>Sí</td>\n",
       "      <td>Lluvia</td>\n",
       "      <td>Si</td>\n",
       "      <td>1</td>\n",
       "      <td>0</td>\n",
       "      <td>1</td>\n",
       "      <td>2</td>\n",
       "      <td>1</td>\n",
       "      <td>1</td>\n",
       "    </tr>\n",
       "    <tr>\n",
       "      <th>11</th>\n",
       "      <td>12</td>\n",
       "      <td>Templado</td>\n",
       "      <td>Alta</td>\n",
       "      <td>Sí</td>\n",
       "      <td>Nublado</td>\n",
       "      <td>Si</td>\n",
       "      <td>1</td>\n",
       "      <td>1</td>\n",
       "      <td>1</td>\n",
       "      <td>1</td>\n",
       "      <td>1</td>\n",
       "      <td>1</td>\n",
       "    </tr>\n",
       "    <tr>\n",
       "      <th>12</th>\n",
       "      <td>13</td>\n",
       "      <td>Cálido</td>\n",
       "      <td>Normal</td>\n",
       "      <td>No</td>\n",
       "      <td>Nublado</td>\n",
       "      <td>Si</td>\n",
       "      <td>2</td>\n",
       "      <td>0</td>\n",
       "      <td>0</td>\n",
       "      <td>1</td>\n",
       "      <td>1</td>\n",
       "      <td>1</td>\n",
       "    </tr>\n",
       "    <tr>\n",
       "      <th>13</th>\n",
       "      <td>14</td>\n",
       "      <td>Templado</td>\n",
       "      <td>Alta</td>\n",
       "      <td>Sí</td>\n",
       "      <td>Soleado</td>\n",
       "      <td>No</td>\n",
       "      <td>1</td>\n",
       "      <td>1</td>\n",
       "      <td>1</td>\n",
       "      <td>0</td>\n",
       "      <td>0</td>\n",
       "      <td>0</td>\n",
       "    </tr>\n",
       "  </tbody>\n",
       "</table>\n",
       "</div>"
      ],
      "text/plain": [
       "    ID Temperatura Humedad Ventoso Pronóstico Salir a entrenar  \\\n",
       "0    1      Cálido    Alta      No     Lluvia               No   \n",
       "1    2      Cálido    Alta      Sí     Lluvia               No   \n",
       "2    3      Cálido    Alta      No    Nublado               Si   \n",
       "3    4    Templado    Alta      No    Soleado               Si   \n",
       "4    5      Fresco  Normal      No    Soleado               Si   \n",
       "5    6      Fresco  Normal      Sí    Soleado               No   \n",
       "6    7      Fresco  Normal      Sí    Nublado               Si   \n",
       "7    8    Templado    Alta      No     Lluvia               No   \n",
       "8    9      Fresco  Normal      No     Lluvia               Si   \n",
       "9   10    Templado  Normal      No    Soleado               Si   \n",
       "10  11    Templado  Normal      Sí     Lluvia               Si   \n",
       "11  12    Templado    Alta      Sí    Nublado               Si   \n",
       "12  13      Cálido  Normal      No    Nublado               Si   \n",
       "13  14    Templado    Alta      Sí    Soleado               No   \n",
       "\n",
       "    Temperatura_num  Humedad_num  Ventoso_num  Pronostico_num  Entrenar_num  \\\n",
       "0                 2            1            0               2             0   \n",
       "1                 2            1            1               2             0   \n",
       "2                 2            1            0               1             1   \n",
       "3                 1            1            0               0             1   \n",
       "4                 0            0            0               0             1   \n",
       "5                 0            0            1               0             0   \n",
       "6                 0            0            1               1             1   \n",
       "7                 1            1            0               2             0   \n",
       "8                 0            0            0               2             1   \n",
       "9                 1            0            0               0             1   \n",
       "10                1            0            1               2             1   \n",
       "11                1            1            1               1             1   \n",
       "12                2            0            0               1             1   \n",
       "13                1            1            1               0             0   \n",
       "\n",
       "    Entrenar_prediccion  \n",
       "0                     0  \n",
       "1                     0  \n",
       "2                     1  \n",
       "3                     1  \n",
       "4                     1  \n",
       "5                     0  \n",
       "6                     1  \n",
       "7                     0  \n",
       "8                     1  \n",
       "9                     1  \n",
       "10                    1  \n",
       "11                    1  \n",
       "12                    1  \n",
       "13                    0  "
      ]
     },
     "execution_count": 14,
     "metadata": {},
     "output_type": "execute_result"
    }
   ],
   "source": [
    "df['Entrenar_prediccion'] = y_pred\n",
    "df"
   ]
  },
  {
   "cell_type": "markdown",
   "metadata": {
    "id": "j4MkILLbVpjj"
   },
   "source": [
    "Matriz de confusión"
   ]
  },
  {
   "cell_type": "code",
   "execution_count": 15,
   "metadata": {
    "colab": {
     "base_uri": "https://localhost:8080/",
     "height": 404
    },
    "executionInfo": {
     "elapsed": 789,
     "status": "ok",
     "timestamp": 1666738299181,
     "user": {
      "displayName": "Julio Rodriguez Martino",
      "userId": "05816779020109732306"
     },
     "user_tz": 180
    },
    "id": "R-x7d4-o0JxC",
    "outputId": "8684b559-efbe-436a-e183-bb1c5020c2ee"
   },
   "outputs": [
    {
     "data": {
      "text/plain": [
       "<sklearn.metrics._plot.confusion_matrix.ConfusionMatrixDisplay at 0x162500cacf0>"
      ]
     },
     "execution_count": 15,
     "metadata": {},
     "output_type": "execute_result"
    },
    {
     "data": {
      "image/png": "[encoded data removed]",
      "text/plain": [
       "<Figure size 640x480 with 2 Axes>"
      ]
     },
     "metadata": {},
     "output_type": "display_data"
    }
   ],
   "source": [
    "#from sklearn.metrics import plot_confusion_matrix\n",
    "from sklearn.metrics import confusion_matrix, ConfusionMatrixDisplay\n",
    "import matplotlib.pyplot as plt\n",
    "\n",
    "\n",
    "\n",
    "cm = confusion_matrix(y, y_pred)\n",
    "cmd = ConfusionMatrixDisplay(cm, display_labels=['No','Si'])\n",
    "cmd.plot()\n",
    "\n"
   ]
  },
  {
   "cell_type": "markdown",
   "metadata": {
    "id": "dAr4kOwDWA62"
   },
   "source": [
    "Podemos predecir una combinación que el árbol de decisión nunca vió en su entrenamiento\n",
    "\n",
    "Temperatura: Cálido\n",
    "\n",
    "Humedad: Alta\n",
    "\n",
    "Ventoso: Sí \t\n",
    "\n",
    "Pronóstico: Lluvia\n"
   ]
  },
  {
   "cell_type": "code",
   "execution_count": 16,
   "metadata": {
    "executionInfo": {
     "elapsed": 5,
     "status": "ok",
     "timestamp": 1666738475216,
     "user": {
      "displayName": "Julio Rodriguez Martino",
      "userId": "05816779020109732306"
     },
     "user_tz": 180
    },
    "id": "65iKRXbxV4xD"
   },
   "outputs": [],
   "source": [
    "import numpy as np\n",
    "\n",
    "desconocido = np.array([2,1,1,0])\n",
    "desconocido = desconocido.reshape(1, -1)\n"
   ]
  },
  {
   "cell_type": "code",
   "execution_count": 17,
   "metadata": {
    "colab": {
     "base_uri": "https://localhost:8080/"
    },
    "executionInfo": {
     "elapsed": 273,
     "status": "ok",
     "timestamp": 1666738487272,
     "user": {
      "displayName": "Julio Rodriguez Martino",
      "userId": "05816779020109732306"
     },
     "user_tz": 180
    },
    "id": "Doda7eeNWzS5",
    "outputId": "a66c66db-d84d-4356-a9fe-7d63cf9b799f"
   },
   "outputs": [
    {
     "name": "stderr",
     "output_type": "stream",
     "text": [
      "c:\\CPE\\CPEDS\\envWindows\\Lib\\site-packages\\sklearn\\base.py:493: UserWarning: X does not have valid feature names, but DecisionTreeClassifier was fitted with feature names\n",
      "  warnings.warn(\n"
     ]
    },
    {
     "data": {
      "text/plain": [
       "array([0], dtype=int64)"
      ]
     },
     "execution_count": 17,
     "metadata": {},
     "output_type": "execute_result"
    }
   ],
   "source": [
    "y_pred_desconocido = clf.predict(desconocido)\n",
    "y_pred_desconocido"
   ]
  },
  {
   "cell_type": "markdown",
   "metadata": {
    "id": "yHuWtn9m_BSJ"
   },
   "source": [
    "¿Cómo es un árbol de decisión?"
   ]
  },
  {
   "cell_type": "code",
   "execution_count": 18,
   "metadata": {
    "colab": {
     "base_uri": "https://localhost:8080/",
     "height": 753
    },
    "executionInfo": {
     "elapsed": 1218,
     "status": "ok",
     "timestamp": 1666738533416,
     "user": {
      "displayName": "Julio Rodriguez Martino",
      "userId": "05816779020109732306"
     },
     "user_tz": 180
    },
    "id": "aLL9vtlU5o2u",
    "outputId": "de183f05-6fb2-489f-d620-2e014cc3fd3d"
   },
   "outputs": [
    {
     "data": {
      "image/png": "[encoded data removed]",
      "text/plain": [
       "<IPython.core.display.Image object>"
      ]
     },
     "execution_count": 18,
     "metadata": {},
     "output_type": "execute_result"
    }
   ],
   "source": [
    "from sklearn.tree import export_graphviz\n",
    "#from sklearn.externals.six import StringIO  \n",
    "from six import StringIO\n",
    "from IPython.display import Image  \n",
    "import pydotplus\n",
    "\n",
    "dot_data = StringIO()\n",
    "export_graphviz(clf, out_file=dot_data,  \n",
    "                filled=True, rounded=True,\n",
    "                special_characters=True,feature_names = feature_cols,class_names=['0','1'])\n",
    "graph = pydotplus.graph_from_dot_data(dot_data.getvalue())  \n",
    "graph.write_png('tree.png')\n",
    "Image(graph.create_png())"
   ]
  }
 ],
 "metadata": {
  "colab": {
   "provenance": []
  },
  "kernelspec": {
   "display_name": "envWindows",
   "language": "python",
   "name": "python3"
  },
  "language_info": {
   "codemirror_mode": {
    "name": "ipython",
    "version": 3
   },
   "file_extension": ".py",
   "mimetype": "text/x-python",
   "name": "python",
   "nbconvert_exporter": "python",
   "pygments_lexer": "ipython3",
   "version": "3.12.3"
  }
 },
 "nbformat": 4,
 "nbformat_minor": 1
}
