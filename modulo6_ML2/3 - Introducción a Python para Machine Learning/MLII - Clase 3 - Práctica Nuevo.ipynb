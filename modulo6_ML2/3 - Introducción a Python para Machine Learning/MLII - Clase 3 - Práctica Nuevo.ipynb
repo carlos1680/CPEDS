{
 "cells": [
  {
   "cell_type": "markdown",
   "metadata": {
    "id": "8Pcdbpm5Mm-t"
   },
   "source": [
    "# Repaso de python y librerías específicas de Machine Learning\n"
   ]
  },
  {
   "cell_type": "markdown",
   "metadata": {
    "id": "rOUKYjyoMFZs"
   },
   "source": [
    "# Numpy\n",
    "## Arrays"
   ]
  },
  {
   "cell_type": "code",
   "execution_count": 98,
   "metadata": {
    "colab": {
     "base_uri": "https://localhost:8080/"
    },
    "executionInfo": {
     "elapsed": 9,
     "status": "ok",
     "timestamp": 1630765548247,
     "user": {
      "displayName": "Julio Rodriguez Martino",
      "photoUrl": "https://lh3.googleusercontent.com/a-/AOh14GjFnG6s_UDbNCdqSpd-m6QHQD9P90aARfhTeS1gIQ=s64",
      "userId": "05816779020109732306"
     },
     "user_tz": 180
    },
    "id": "GjfgNZhJMFZv",
    "outputId": "92f4f3b9-b9d0-41ed-aa5e-5494f0a6fce9"
   },
   "outputs": [
    {
     "data": {
      "text/plain": [
       "array([1, 3, 4, 5, 6])"
      ]
     },
     "execution_count": 98,
     "metadata": {},
     "output_type": "execute_result"
    }
   ],
   "source": [
    "import numpy as np\n",
    "arr = np.array([1,3,4,5,6]) # operar con matrices, vectores, tensores \n",
    "arr"
   ]
  },
  {
   "cell_type": "code",
   "execution_count": 99,
   "metadata": {
    "colab": {
     "base_uri": "https://localhost:8080/"
    },
    "executionInfo": {
     "elapsed": 250,
     "status": "ok",
     "timestamp": 1630765554100,
     "user": {
      "displayName": "Julio Rodriguez Martino",
      "photoUrl": "https://lh3.googleusercontent.com/a-/AOh14GjFnG6s_UDbNCdqSpd-m6QHQD9P90aARfhTeS1gIQ=s64",
      "userId": "05816779020109732306"
     },
     "user_tz": 180
    },
    "id": "GXrtYShXMFZy",
    "outputId": "52194930-6a00-44dc-f4e7-eebe18cbd064"
   },
   "outputs": [
    {
     "data": {
      "text/plain": [
       "(5,)"
      ]
     },
     "execution_count": 99,
     "metadata": {},
     "output_type": "execute_result"
    }
   ],
   "source": [
    "arr.shape"
   ]
  },
  {
   "cell_type": "code",
   "execution_count": 100,
   "metadata": {
    "colab": {
     "base_uri": "https://localhost:8080/"
    },
    "executionInfo": {
     "elapsed": 311,
     "status": "ok",
     "timestamp": 1630765558050,
     "user": {
      "displayName": "Julio Rodriguez Martino",
      "photoUrl": "https://lh3.googleusercontent.com/a-/AOh14GjFnG6s_UDbNCdqSpd-m6QHQD9P90aARfhTeS1gIQ=s64",
      "userId": "05816779020109732306"
     },
     "user_tz": 180
    },
    "id": "t2PmjTvTMFZy",
    "outputId": "936dc697-3868-42bc-b1c0-e1bdfe8097c4"
   },
   "outputs": [
    {
     "data": {
      "text/plain": [
       "dtype('int32')"
      ]
     },
     "execution_count": 100,
     "metadata": {},
     "output_type": "execute_result"
    }
   ],
   "source": [
    "arr.dtype"
   ]
  },
  {
   "cell_type": "code",
   "execution_count": 101,
   "metadata": {
    "colab": {
     "base_uri": "https://localhost:8080/"
    },
    "executionInfo": {
     "elapsed": 249,
     "status": "ok",
     "timestamp": 1630765564460,
     "user": {
      "displayName": "Julio Rodriguez Martino",
      "photoUrl": "https://lh3.googleusercontent.com/a-/AOh14GjFnG6s_UDbNCdqSpd-m6QHQD9P90aARfhTeS1gIQ=s64",
      "userId": "05816779020109732306"
     },
     "user_tz": 180
    },
    "id": "pHjCPaK5MFZ0",
    "outputId": "a1ddfedb-82c3-4f9a-e115-73769ac38859"
   },
   "outputs": [
    {
     "data": {
      "text/plain": [
       "dtype('<U11')"
      ]
     },
     "execution_count": 101,
     "metadata": {},
     "output_type": "execute_result"
    }
   ],
   "source": [
    "arr1 = np.array([1,'st','er',3]) # mezclo los tipos de datos\n",
    "arr1.dtype"
   ]
  },
  {
   "cell_type": "markdown",
   "metadata": {
    "id": "6nCGI59_OA21"
   },
   "source": [
    "El array tiene tipos de datos mezclados, por lo tanto se almacena como texto"
   ]
  },
  {
   "cell_type": "code",
   "execution_count": 102,
   "metadata": {
    "colab": {
     "base_uri": "https://localhost:8080/"
    },
    "executionInfo": {
     "elapsed": 255,
     "status": "ok",
     "timestamp": 1630765829778,
     "user": {
      "displayName": "Julio Rodriguez Martino",
      "photoUrl": "https://lh3.googleusercontent.com/a-/AOh14GjFnG6s_UDbNCdqSpd-m6QHQD9P90aARfhTeS1gIQ=s64",
      "userId": "05816779020109732306"
     },
     "user_tz": 180
    },
    "id": "ZTa069TAN7U6",
    "outputId": "eabf03e9-0ddb-448f-b69a-0a790409c224"
   },
   "outputs": [
    {
     "data": {
      "text/plain": [
       "array(['1', 'st', 'er', '3'], dtype='<U11')"
      ]
     },
     "execution_count": 102,
     "metadata": {},
     "output_type": "execute_result"
    }
   ],
   "source": [
    "arr1 #aca no puedo sumar "
   ]
  },
  {
   "cell_type": "code",
   "execution_count": 103,
   "metadata": {
    "colab": {
     "base_uri": "https://localhost:8080/",
     "height": 360
    },
    "executionInfo": {
     "elapsed": 260,
     "status": "error",
     "timestamp": 1630765801718,
     "user": {
      "displayName": "Julio Rodriguez Martino",
      "photoUrl": "https://lh3.googleusercontent.com/a-/AOh14GjFnG6s_UDbNCdqSpd-m6QHQD9P90aARfhTeS1gIQ=s64",
      "userId": "05816779020109732306"
     },
     "user_tz": 180
    },
    "id": "GiGz1xLiMFZ0",
    "outputId": "d4898c0b-04f6-42e8-d55f-020a52f43766"
   },
   "outputs": [
    {
     "data": {
      "text/plain": [
       "19"
      ]
     },
     "execution_count": 103,
     "metadata": {},
     "output_type": "execute_result"
    }
   ],
   "source": [
    "np.sum(arr)"
   ]
  },
  {
   "cell_type": "markdown",
   "metadata": {
    "id": "0YnEPPJBMFZ1"
   },
   "source": [
    "### Creando arrays"
   ]
  },
  {
   "cell_type": "code",
   "execution_count": 104,
   "metadata": {
    "colab": {
     "base_uri": "https://localhost:8080/"
    },
    "executionInfo": {
     "elapsed": 367,
     "status": "ok",
     "timestamp": 1630766413788,
     "user": {
      "displayName": "Julio Rodriguez Martino",
      "photoUrl": "https://lh3.googleusercontent.com/a-/AOh14GjFnG6s_UDbNCdqSpd-m6QHQD9P90aARfhTeS1gIQ=s64",
      "userId": "05816779020109732306"
     },
     "user_tz": 180
    },
    "id": "VIbWzRdAMFZ1",
    "outputId": "9acfdcdc-5d2f-4cdf-b62f-e9a8ad65cea0"
   },
   "outputs": [
    {
     "data": {
      "text/plain": [
       "(3, 3)"
      ]
     },
     "execution_count": 104,
     "metadata": {},
     "output_type": "execute_result"
    }
   ],
   "source": [
    "arr = np.array([[1,2,3],[2,4,6],[8,8,8]]) #matriz\n",
    "arr.shape"
   ]
  },
  {
   "cell_type": "code",
   "execution_count": 105,
   "metadata": {
    "colab": {
     "base_uri": "https://localhost:8080/"
    },
    "executionInfo": {
     "elapsed": 263,
     "status": "ok",
     "timestamp": 1630766416288,
     "user": {
      "displayName": "Julio Rodriguez Martino",
      "photoUrl": "https://lh3.googleusercontent.com/a-/AOh14GjFnG6s_UDbNCdqSpd-m6QHQD9P90aARfhTeS1gIQ=s64",
      "userId": "05816779020109732306"
     },
     "user_tz": 180
    },
    "id": "ZD6ks0b8MFZ2",
    "outputId": "c51c0089-22e1-4151-9caa-ef24934f3b7f"
   },
   "outputs": [
    {
     "data": {
      "text/plain": [
       "array([[1, 2, 3],\n",
       "       [2, 4, 6],\n",
       "       [8, 8, 8]])"
      ]
     },
     "execution_count": 105,
     "metadata": {},
     "output_type": "execute_result"
    }
   ],
   "source": [
    "arr"
   ]
  },
  {
   "cell_type": "code",
   "execution_count": 106,
   "metadata": {
    "colab": {
     "base_uri": "https://localhost:8080/"
    },
    "executionInfo": {
     "elapsed": 268,
     "status": "ok",
     "timestamp": 1630766421429,
     "user": {
      "displayName": "Julio Rodriguez Martino",
      "photoUrl": "https://lh3.googleusercontent.com/a-/AOh14GjFnG6s_UDbNCdqSpd-m6QHQD9P90aARfhTeS1gIQ=s64",
      "userId": "05816779020109732306"
     },
     "user_tz": 180
    },
    "id": "xma2UcXVMFZ3",
    "outputId": "cebcc08b-6f60-4285-b1a1-58fb6279b7e7"
   },
   "outputs": [
    {
     "data": {
      "text/plain": [
       "array([[0., 0., 0., 0.],\n",
       "       [0., 0., 0., 0.]])"
      ]
     },
     "execution_count": 106,
     "metadata": {},
     "output_type": "execute_result"
    }
   ],
   "source": [
    "arr = np.zeros((2,4))\n",
    "arr"
   ]
  },
  {
   "cell_type": "code",
   "execution_count": 107,
   "metadata": {
    "colab": {
     "base_uri": "https://localhost:8080/"
    },
    "executionInfo": {
     "elapsed": 280,
     "status": "ok",
     "timestamp": 1630766423742,
     "user": {
      "displayName": "Julio Rodriguez Martino",
      "photoUrl": "https://lh3.googleusercontent.com/a-/AOh14GjFnG6s_UDbNCdqSpd-m6QHQD9P90aARfhTeS1gIQ=s64",
      "userId": "05816779020109732306"
     },
     "user_tz": 180
    },
    "id": "o4ACq5OQMFZ3",
    "outputId": "24381e1a-5bbe-4e39-8197-95f7e8250bd6"
   },
   "outputs": [
    {
     "data": {
      "text/plain": [
       "array([[1., 1., 1., 1.],\n",
       "       [1., 1., 1., 1.]])"
      ]
     },
     "execution_count": 107,
     "metadata": {},
     "output_type": "execute_result"
    }
   ],
   "source": [
    "arr = np.ones((2,4))\n",
    "arr"
   ]
  },
  {
   "cell_type": "code",
   "execution_count": 108,
   "metadata": {
    "colab": {
     "base_uri": "https://localhost:8080/"
    },
    "executionInfo": {
     "elapsed": 256,
     "status": "ok",
     "timestamp": 1630766425974,
     "user": {
      "displayName": "Julio Rodriguez Martino",
      "photoUrl": "https://lh3.googleusercontent.com/a-/AOh14GjFnG6s_UDbNCdqSpd-m6QHQD9P90aARfhTeS1gIQ=s64",
      "userId": "05816779020109732306"
     },
     "user_tz": 180
    },
    "id": "GtUByCIlMFZ4",
    "outputId": "dc88ce60-967e-493d-9df1-67bd4c8e4b41"
   },
   "outputs": [
    {
     "data": {
      "text/plain": [
       "array([[1., 0., 0.],\n",
       "       [0., 1., 0.],\n",
       "       [0., 0., 1.]])"
      ]
     },
     "execution_count": 108,
     "metadata": {},
     "output_type": "execute_result"
    }
   ],
   "source": [
    "arr = np.identity(3) #unos en la diagonal y es cuadrada de grado 3 \n",
    "arr"
   ]
  },
  {
   "cell_type": "code",
   "execution_count": 109,
   "metadata": {
    "colab": {
     "base_uri": "https://localhost:8080/"
    },
    "executionInfo": {
     "elapsed": 255,
     "status": "ok",
     "timestamp": 1630766431345,
     "user": {
      "displayName": "Julio Rodriguez Martino",
      "photoUrl": "https://lh3.googleusercontent.com/a-/AOh14GjFnG6s_UDbNCdqSpd-m6QHQD9P90aARfhTeS1gIQ=s64",
      "userId": "05816779020109732306"
     },
     "user_tz": 180
    },
    "id": "muIn-MibMFZ4",
    "outputId": "e5b4db75-c532-4132-e64a-75a5ff728329"
   },
   "outputs": [
    {
     "data": {
      "text/plain": [
       "array([[-0.23238983,  0.28796793, -0.2410245 , -0.45593829],\n",
       "       [ 0.84304998,  0.51605027, -0.22895998, -0.57777928],\n",
       "       [-0.48040871,  0.00437056, -0.06064173,  0.72026096]])"
      ]
     },
     "execution_count": 109,
     "metadata": {},
     "output_type": "execute_result"
    }
   ],
   "source": [
    "arr = np.random.randn(3,4) #numeros aleatorios \n",
    "arr"
   ]
  },
  {
   "cell_type": "code",
   "execution_count": 110,
   "metadata": {
    "colab": {
     "base_uri": "https://localhost:8080/"
    },
    "executionInfo": {
     "elapsed": 305,
     "status": "ok",
     "timestamp": 1630766436162,
     "user": {
      "displayName": "Julio Rodriguez Martino",
      "photoUrl": "https://lh3.googleusercontent.com/a-/AOh14GjFnG6s_UDbNCdqSpd-m6QHQD9P90aARfhTeS1gIQ=s64",
      "userId": "05816779020109732306"
     },
     "user_tz": 180
    },
    "id": "GfhHubc1MFZ5",
    "outputId": "505c5d43-5ea3-4561-8a85-a666cd852f02"
   },
   "outputs": [
    {
     "data": {
      "text/plain": [
       "array([[ 2. , 23. , 33. ],\n",
       "       [32. , 42. , 63.4],\n",
       "       [35. , 77. , 12. ]])"
      ]
     },
     "execution_count": 110,
     "metadata": {},
     "output_type": "execute_result"
    }
   ],
   "source": [
    "from io import BytesIO # representacion en texto y lo paso a numero \n",
    "b = BytesIO(b\"2,23,33\\n32,42,63.4\\n35,77,12\")\n",
    "arr = np.genfromtxt(b, delimiter=\",\")\n",
    "arr"
   ]
  },
  {
   "cell_type": "markdown",
   "metadata": {
    "id": "YvgojWYDMFZ5"
   },
   "source": [
    "### Seleccionando elementos de un array\n",
    "#### Indexado simple"
   ]
  },
  {
   "cell_type": "code",
   "execution_count": 111,
   "metadata": {
    "colab": {
     "base_uri": "https://localhost:8080/"
    },
    "executionInfo": {
     "elapsed": 233,
     "status": "ok",
     "timestamp": 1630766652569,
     "user": {
      "displayName": "Julio Rodriguez Martino",
      "photoUrl": "https://lh3.googleusercontent.com/a-/AOh14GjFnG6s_UDbNCdqSpd-m6QHQD9P90aARfhTeS1gIQ=s64",
      "userId": "05816779020109732306"
     },
     "user_tz": 180
    },
    "id": "5ny9Tp_FMFZ5",
    "outputId": "77b1b76b-b2da-4fd0-c58a-0218c8a225e8"
   },
   "outputs": [
    {
     "data": {
      "text/plain": [
       "array([32. , 42. , 63.4])"
      ]
     },
     "execution_count": 111,
     "metadata": {},
     "output_type": "execute_result"
    }
   ],
   "source": [
    "arr[1] #accedo por el numero de elemento, empieza en 0 "
   ]
  },
  {
   "cell_type": "code",
   "execution_count": 112,
   "metadata": {
    "colab": {
     "base_uri": "https://localhost:8080/"
    },
    "executionInfo": {
     "elapsed": 4,
     "status": "ok",
     "timestamp": 1630766654571,
     "user": {
      "displayName": "Julio Rodriguez Martino",
      "photoUrl": "https://lh3.googleusercontent.com/a-/AOh14GjFnG6s_UDbNCdqSpd-m6QHQD9P90aARfhTeS1gIQ=s64",
      "userId": "05816779020109732306"
     },
     "user_tz": 180
    },
    "id": "0yFP0pZ0MFZ6",
    "outputId": "e4177ef6-6d34-4bbb-d20e-87491f267b99"
   },
   "outputs": [
    {
     "data": {
      "text/plain": [
       "array([[[ 0,  1,  2],\n",
       "        [ 3,  4,  5]],\n",
       "\n",
       "       [[ 6,  7,  8],\n",
       "        [ 9, 10, 11]]])"
      ]
     },
     "execution_count": 112,
     "metadata": {},
     "output_type": "execute_result"
    }
   ],
   "source": [
    "arr = np.arange(12).reshape(2,2,3) #empieza en 0 hasta 11, tiene 12 elementos y realiza el reshape, 3 columnas y 2 filas de c/matriz\n",
    "arr"
   ]
  },
  {
   "cell_type": "code",
   "execution_count": 113,
   "metadata": {
    "colab": {
     "base_uri": "https://localhost:8080/"
    },
    "executionInfo": {
     "elapsed": 298,
     "status": "ok",
     "timestamp": 1630766672819,
     "user": {
      "displayName": "Julio Rodriguez Martino",
      "photoUrl": "https://lh3.googleusercontent.com/a-/AOh14GjFnG6s_UDbNCdqSpd-m6QHQD9P90aARfhTeS1gIQ=s64",
      "userId": "05816779020109732306"
     },
     "user_tz": 180
    },
    "id": "BooqgufHMFZ6",
    "outputId": "bf51bdd1-c9a2-4a67-a16f-2619c843acf1"
   },
   "outputs": [
    {
     "data": {
      "text/plain": [
       "array([[0, 1, 2],\n",
       "       [3, 4, 5]])"
      ]
     },
     "execution_count": 113,
     "metadata": {},
     "output_type": "execute_result"
    }
   ],
   "source": [
    "arr[0] #el primer elemento ahora es una matriz"
   ]
  },
  {
   "cell_type": "code",
   "execution_count": 114,
   "metadata": {
    "colab": {
     "base_uri": "https://localhost:8080/"
    },
    "executionInfo": {
     "elapsed": 249,
     "status": "ok",
     "timestamp": 1630766761362,
     "user": {
      "displayName": "Julio Rodriguez Martino",
      "photoUrl": "https://lh3.googleusercontent.com/a-/AOh14GjFnG6s_UDbNCdqSpd-m6QHQD9P90aARfhTeS1gIQ=s64",
      "userId": "05816779020109732306"
     },
     "user_tz": 180
    },
    "id": "25bw5vPUMFZ6",
    "outputId": "f1b8156b-e386-4240-c9c0-15aba761427c"
   },
   "outputs": [
    {
     "data": {
      "text/plain": [
       "array([5, 6, 7, 8, 9])"
      ]
     },
     "execution_count": 114,
     "metadata": {},
     "output_type": "execute_result"
    }
   ],
   "source": [
    "arr = np.arange(10) #creo otro array de 10 elementos \n",
    "arr[5:] #desde el quinto elemento en adelante\n"
   ]
  },
  {
   "cell_type": "code",
   "execution_count": 115,
   "metadata": {
    "colab": {
     "base_uri": "https://localhost:8080/"
    },
    "executionInfo": {
     "elapsed": 288,
     "status": "ok",
     "timestamp": 1630766896048,
     "user": {
      "displayName": "Julio Rodriguez Martino",
      "photoUrl": "https://lh3.googleusercontent.com/a-/AOh14GjFnG6s_UDbNCdqSpd-m6QHQD9P90aARfhTeS1gIQ=s64",
      "userId": "05816779020109732306"
     },
     "user_tz": 180
    },
    "id": "iLKg_-wVMFZ6",
    "outputId": "18164672-5fa9-4446-cdf5-16b89a887000"
   },
   "outputs": [
    {
     "data": {
      "text/plain": [
       "array([5, 6, 7])"
      ]
     },
     "execution_count": 115,
     "metadata": {},
     "output_type": "execute_result"
    }
   ],
   "source": [
    "arr[5:8]"
   ]
  },
  {
   "cell_type": "code",
   "execution_count": 116,
   "metadata": {
    "colab": {
     "base_uri": "https://localhost:8080/"
    },
    "executionInfo": {
     "elapsed": 254,
     "status": "ok",
     "timestamp": 1630766920630,
     "user": {
      "displayName": "Julio Rodriguez Martino",
      "photoUrl": "https://lh3.googleusercontent.com/a-/AOh14GjFnG6s_UDbNCdqSpd-m6QHQD9P90aARfhTeS1gIQ=s64",
      "userId": "05816779020109732306"
     },
     "user_tz": 180
    },
    "id": "vjE-M8HwMFZ7",
    "outputId": "7e4af17c-e75b-44a0-bec8-52179fb47a2d"
   },
   "outputs": [
    {
     "data": {
      "text/plain": [
       "array([0, 1, 2, 3, 4])"
      ]
     },
     "execution_count": 116,
     "metadata": {},
     "output_type": "execute_result"
    }
   ],
   "source": [
    "arr[:-5]"
   ]
  },
  {
   "cell_type": "code",
   "execution_count": 117,
   "metadata": {
    "colab": {
     "base_uri": "https://localhost:8080/"
    },
    "executionInfo": {
     "elapsed": 262,
     "status": "ok",
     "timestamp": 1630767131936,
     "user": {
      "displayName": "Julio Rodriguez Martino",
      "photoUrl": "https://lh3.googleusercontent.com/a-/AOh14GjFnG6s_UDbNCdqSpd-m6QHQD9P90aARfhTeS1gIQ=s64",
      "userId": "05816779020109732306"
     },
     "user_tz": 180
    },
    "id": "Dpk1hYxlMFZ7",
    "outputId": "acf614ed-09cd-4f4d-a43b-c0a8901293be"
   },
   "outputs": [
    {
     "data": {
      "text/plain": [
       "array([[[ 0,  1,  2],\n",
       "        [ 3,  4,  5]],\n",
       "\n",
       "       [[ 6,  7,  8],\n",
       "        [ 9, 10, 11]]])"
      ]
     },
     "execution_count": 117,
     "metadata": {},
     "output_type": "execute_result"
    }
   ],
   "source": [
    "arr = np.arange(12).reshape(2,2,3)\n",
    "arr"
   ]
  },
  {
   "cell_type": "code",
   "execution_count": 118,
   "metadata": {
    "colab": {
     "base_uri": "https://localhost:8080/"
    },
    "executionInfo": {
     "elapsed": 360,
     "status": "ok",
     "timestamp": 1630767135128,
     "user": {
      "displayName": "Julio Rodriguez Martino",
      "photoUrl": "https://lh3.googleusercontent.com/a-/AOh14GjFnG6s_UDbNCdqSpd-m6QHQD9P90aARfhTeS1gIQ=s64",
      "userId": "05816779020109732306"
     },
     "user_tz": 180
    },
    "id": "DCGpTbI0MFZ7",
    "outputId": "0de9327d-7d56-4ca4-fee1-720cdf0ed641"
   },
   "outputs": [
    {
     "data": {
      "text/plain": [
       "array([[[ 6,  7,  8],\n",
       "        [ 9, 10, 11]]])"
      ]
     },
     "execution_count": 118,
     "metadata": {},
     "output_type": "execute_result"
    }
   ],
   "source": [
    "arr[1:2]"
   ]
  },
  {
   "cell_type": "code",
   "execution_count": 119,
   "metadata": {
    "colab": {
     "base_uri": "https://localhost:8080/"
    },
    "executionInfo": {
     "elapsed": 260,
     "status": "ok",
     "timestamp": 1630767160162,
     "user": {
      "displayName": "Julio Rodriguez Martino",
      "photoUrl": "https://lh3.googleusercontent.com/a-/AOh14GjFnG6s_UDbNCdqSpd-m6QHQD9P90aARfhTeS1gIQ=s64",
      "userId": "05816779020109732306"
     },
     "user_tz": 180
    },
    "id": "lzTXXVH-MFZ7",
    "outputId": "784f3690-946d-407f-c203-04cc1c9afa2d"
   },
   "outputs": [
    {
     "data": {
      "text/plain": [
       "array([[[ 0,  1,  2],\n",
       "        [ 3,  4,  5],\n",
       "        [ 6,  7,  8]],\n",
       "\n",
       "       [[ 9, 10, 11],\n",
       "        [12, 13, 14],\n",
       "        [15, 16, 17]],\n",
       "\n",
       "       [[18, 19, 20],\n",
       "        [21, 22, 23],\n",
       "        [24, 25, 26]]])"
      ]
     },
     "execution_count": 119,
     "metadata": {},
     "output_type": "execute_result"
    }
   ],
   "source": [
    "arr = np.arange(27).reshape(3,3,3) # 3 matrices de 3x3, 3 dimensiones\n",
    "arr"
   ]
  },
  {
   "cell_type": "code",
   "execution_count": 120,
   "metadata": {
    "colab": {
     "base_uri": "https://localhost:8080/"
    },
    "executionInfo": {
     "elapsed": 248,
     "status": "ok",
     "timestamp": 1630767163705,
     "user": {
      "displayName": "Julio Rodriguez Martino",
      "photoUrl": "https://lh3.googleusercontent.com/a-/AOh14GjFnG6s_UDbNCdqSpd-m6QHQD9P90aARfhTeS1gIQ=s64",
      "userId": "05816779020109732306"
     },
     "user_tz": 180
    },
    "id": "blcPFs-eMFZ7",
    "outputId": "dccefe6d-2a97-45b1-d4da-d2efa9814c8f"
   },
   "outputs": [
    {
     "data": {
      "text/plain": [
       "array([[ 2,  5,  8],\n",
       "       [11, 14, 17],\n",
       "       [20, 23, 26]])"
      ]
     },
     "execution_count": 120,
     "metadata": {},
     "output_type": "execute_result"
    }
   ],
   "source": [
    "arr[:,:,2] # : (dos puntos) en las primeras dos posiciones significa que seleccionas todas las \"capas\"\n",
    "           # El resultado es un array 2D con las terceras columnas de cada una de las capas (matriz)"
   ]
  },
  {
   "cell_type": "code",
   "execution_count": 121,
   "metadata": {
    "colab": {
     "base_uri": "https://localhost:8080/"
    },
    "executionInfo": {
     "elapsed": 246,
     "status": "ok",
     "timestamp": 1630767182585,
     "user": {
      "displayName": "Julio Rodriguez Martino",
      "photoUrl": "https://lh3.googleusercontent.com/a-/AOh14GjFnG6s_UDbNCdqSpd-m6QHQD9P90aARfhTeS1gIQ=s64",
      "userId": "05816779020109732306"
     },
     "user_tz": 180
    },
    "id": "yFznSt3lMFZ8",
    "outputId": "83bc91a9-c794-44c6-8d0c-7bc3b4b94a3c"
   },
   "outputs": [
    {
     "data": {
      "text/plain": [
       "array([[ 2,  5,  8],\n",
       "       [11, 14, 17],\n",
       "       [20, 23, 26]])"
      ]
     },
     "execution_count": 121,
     "metadata": {},
     "output_type": "execute_result"
    }
   ],
   "source": [
    "arr[...,2]"
   ]
  },
  {
   "cell_type": "markdown",
   "metadata": {
    "id": "IiLatGI8MFZ8"
   },
   "source": [
    "#### Indexado advanzado"
   ]
  },
  {
   "cell_type": "code",
   "execution_count": 122,
   "metadata": {
    "colab": {
     "base_uri": "https://localhost:8080/"
    },
    "executionInfo": {
     "elapsed": 243,
     "status": "ok",
     "timestamp": 1630767231593,
     "user": {
      "displayName": "Julio Rodriguez Martino",
      "photoUrl": "https://lh3.googleusercontent.com/a-/AOh14GjFnG6s_UDbNCdqSpd-m6QHQD9P90aARfhTeS1gIQ=s64",
      "userId": "05816779020109732306"
     },
     "user_tz": 180
    },
    "id": "T_Qxme2AMFZ8",
    "outputId": "e3831b59-66a8-4a07-cda8-6ef31b6a6992"
   },
   "outputs": [
    {
     "data": {
      "text/plain": [
       "array([[0, 1, 2],\n",
       "       [3, 4, 5],\n",
       "       [6, 7, 8]])"
      ]
     },
     "execution_count": 122,
     "metadata": {},
     "output_type": "execute_result"
    }
   ],
   "source": [
    "arr = np.arange(9).reshape(3,3)\n",
    "arr"
   ]
  },
  {
   "cell_type": "markdown",
   "metadata": {},
   "source": [
    "Esta selección está utilizando indexación avanzada en NumPy, lo que significa que está seleccionando elementos específicos del array usando dos listas de índices.\n",
    "\n",
    "[0, 1, 2] son los índices de las filas.\n",
    "[1, 0, 0] son los índices de las columnas.\n",
    "\n",
    "Lo que NumPy hará es combinar cada índice de la primera lista (filas) con el índice correspondiente de la segunda lista (columnas) para seleccionar los elementos:\n",
    "\n",
    "- El primer par de índices es (0, 1): Selecciona el elemento en la fila 0, columna 1, que es 1.\n",
    "\n",
    "- El segundo par de índices es (1, 0): Selecciona el elemento en la fila 1, columna 0, que es 3.\n",
    "\n",
    "- El tercer par de índices es (2, 0): Selecciona el elemento en la fila 2, columna 0, que es 6."
   ]
  },
  {
   "cell_type": "code",
   "execution_count": 123,
   "metadata": {
    "colab": {
     "base_uri": "https://localhost:8080/"
    },
    "executionInfo": {
     "elapsed": 248,
     "status": "ok",
     "timestamp": 1630767403524,
     "user": {
      "displayName": "Julio Rodriguez Martino",
      "photoUrl": "https://lh3.googleusercontent.com/a-/AOh14GjFnG6s_UDbNCdqSpd-m6QHQD9P90aARfhTeS1gIQ=s64",
      "userId": "05816779020109732306"
     },
     "user_tz": 180
    },
    "id": "YwRj_qrDMFZ8",
    "outputId": "7fa8fe52-32d3-42e3-e663-b27d4a06bf30"
   },
   "outputs": [
    {
     "data": {
      "text/plain": [
       "array([1, 3, 6])"
      ]
     },
     "execution_count": 123,
     "metadata": {},
     "output_type": "execute_result"
    }
   ],
   "source": [
    "arr[[0,1,2],[1,0,0]]"
   ]
  },
  {
   "cell_type": "markdown",
   "metadata": {
    "id": "eV_b5YWjMFZ8"
   },
   "source": [
    "##### Indexado booleano"
   ]
  },
  {
   "cell_type": "code",
   "execution_count": 124,
   "metadata": {
    "colab": {
     "base_uri": "https://localhost:8080/"
    },
    "executionInfo": {
     "elapsed": 258,
     "status": "ok",
     "timestamp": 1630767437432,
     "user": {
      "displayName": "Julio Rodriguez Martino",
      "photoUrl": "https://lh3.googleusercontent.com/a-/AOh14GjFnG6s_UDbNCdqSpd-m6QHQD9P90aARfhTeS1gIQ=s64",
      "userId": "05816779020109732306"
     },
     "user_tz": 180
    },
    "id": "SrPPKC4nMFZ9",
    "outputId": "0fc95e89-7a4e-4534-956d-200c2f004c02"
   },
   "outputs": [
    {
     "data": {
      "text/plain": [
       "array([[ 0.30650172, -0.17810627,  0.29500615],\n",
       "       [ 1.85305745, -1.01535223, -0.04902214],\n",
       "       [-0.37794336, -0.16536411,  2.1036866 ],\n",
       "       [-0.97724974, -0.36901836, -0.72737483],\n",
       "       [-2.71763277,  1.68548993,  0.20167489]])"
      ]
     },
     "execution_count": 124,
     "metadata": {},
     "output_type": "execute_result"
    }
   ],
   "source": [
    "cities = np.array([\"delhi\",\"banglaore\",\"mumbai\",\"chennai\",\"bhopal\"])\n",
    "city_data = np.random.randn(5,3)\n",
    "city_data"
   ]
  },
  {
   "cell_type": "code",
   "execution_count": 125,
   "metadata": {
    "colab": {
     "base_uri": "https://localhost:8080/"
    },
    "executionInfo": {
     "elapsed": 246,
     "status": "ok",
     "timestamp": 1630767456556,
     "user": {
      "displayName": "Julio Rodriguez Martino",
      "photoUrl": "https://lh3.googleusercontent.com/a-/AOh14GjFnG6s_UDbNCdqSpd-m6QHQD9P90aARfhTeS1gIQ=s64",
      "userId": "05816779020109732306"
     },
     "user_tz": 180
    },
    "id": "bnixsvLvMFZ9",
    "outputId": "ccbfa42b-fb38-4745-e4f2-073857832f13"
   },
   "outputs": [
    {
     "data": {
      "text/plain": [
       "array([[ 0.30650172, -0.17810627,  0.29500615]])"
      ]
     },
     "execution_count": 125,
     "metadata": {},
     "output_type": "execute_result"
    }
   ],
   "source": [
    "city_data[cities ==\"delhi\"]"
   ]
  },
  {
   "cell_type": "code",
   "execution_count": 126,
   "metadata": {},
   "outputs": [
    {
     "data": {
      "text/plain": [
       "array([ 0.30650172, -0.17810627,  0.29500615])"
      ]
     },
     "execution_count": 126,
     "metadata": {},
     "output_type": "execute_result"
    }
   ],
   "source": [
    "city_data[0]"
   ]
  },
  {
   "cell_type": "code",
   "execution_count": 127,
   "metadata": {
    "colab": {
     "base_uri": "https://localhost:8080/"
    },
    "executionInfo": {
     "elapsed": 255,
     "status": "ok",
     "timestamp": 1630767509438,
     "user": {
      "displayName": "Julio Rodriguez Martino",
      "photoUrl": "https://lh3.googleusercontent.com/a-/AOh14GjFnG6s_UDbNCdqSpd-m6QHQD9P90aARfhTeS1gIQ=s64",
      "userId": "05816779020109732306"
     },
     "user_tz": 180
    },
    "id": "vjsJfZPQMFZ9",
    "outputId": "f28cab8c-5b96-4a28-9dbd-e43097e7714c"
   },
   "outputs": [
    {
     "data": {
      "text/plain": [
       "array([0.30650172, 0.29500615, 1.85305745, 2.1036866 , 1.68548993,\n",
       "       0.20167489])"
      ]
     },
     "execution_count": 127,
     "metadata": {},
     "output_type": "execute_result"
    }
   ],
   "source": [
    "city_data[city_data > 0]"
   ]
  },
  {
   "cell_type": "code",
   "execution_count": 128,
   "metadata": {
    "colab": {
     "base_uri": "https://localhost:8080/"
    },
    "executionInfo": {
     "elapsed": 247,
     "status": "ok",
     "timestamp": 1630767514078,
     "user": {
      "displayName": "Julio Rodriguez Martino",
      "photoUrl": "https://lh3.googleusercontent.com/a-/AOh14GjFnG6s_UDbNCdqSpd-m6QHQD9P90aARfhTeS1gIQ=s64",
      "userId": "05816779020109732306"
     },
     "user_tz": 180
    },
    "id": "9VavwjGFMFZ9",
    "outputId": "e46b3e57-f951-4dd0-ce4f-06bc3eeff576"
   },
   "outputs": [
    {
     "data": {
      "text/plain": [
       "array([[ 0.        , -0.17810627,  0.        ],\n",
       "       [ 0.        , -1.01535223, -0.04902214],\n",
       "       [-0.37794336, -0.16536411,  0.        ],\n",
       "       [-0.97724974, -0.36901836, -0.72737483],\n",
       "       [-2.71763277,  0.        ,  0.        ]])"
      ]
     },
     "execution_count": 128,
     "metadata": {},
     "output_type": "execute_result"
    }
   ],
   "source": [
    "city_data[city_data > 0] = 0 # solo numeros neg\n",
    "city_data\n"
   ]
  },
  {
   "cell_type": "markdown",
   "metadata": {
    "id": "pjMLSCBLMFZ-"
   },
   "source": [
    "#### Operaciones sobre arrays"
   ]
  },
  {
   "cell_type": "code",
   "execution_count": 129,
   "metadata": {
    "colab": {
     "base_uri": "https://localhost:8080/"
    },
    "executionInfo": {
     "elapsed": 257,
     "status": "ok",
     "timestamp": 1630767548773,
     "user": {
      "displayName": "Julio Rodriguez Martino",
      "photoUrl": "https://lh3.googleusercontent.com/a-/AOh14GjFnG6s_UDbNCdqSpd-m6QHQD9P90aARfhTeS1gIQ=s64",
      "userId": "05816779020109732306"
     },
     "user_tz": 180
    },
    "id": "NYkIFn4ZMFZ-",
    "outputId": "6b93946d-733e-44a7-d5ef-682d6d1f16b8"
   },
   "outputs": [
    {
     "data": {
      "text/plain": [
       "array([[ 0,  1,  2,  3,  4],\n",
       "       [ 5,  6,  7,  8,  9],\n",
       "       [10, 11, 12, 13, 14]])"
      ]
     },
     "execution_count": 129,
     "metadata": {},
     "output_type": "execute_result"
    }
   ],
   "source": [
    "arr = np.arange(15).reshape(3,5)\n",
    "arr"
   ]
  },
  {
   "cell_type": "code",
   "execution_count": 130,
   "metadata": {
    "colab": {
     "base_uri": "https://localhost:8080/"
    },
    "executionInfo": {
     "elapsed": 248,
     "status": "ok",
     "timestamp": 1630767551445,
     "user": {
      "displayName": "Julio Rodriguez Martino",
      "photoUrl": "https://lh3.googleusercontent.com/a-/AOh14GjFnG6s_UDbNCdqSpd-m6QHQD9P90aARfhTeS1gIQ=s64",
      "userId": "05816779020109732306"
     },
     "user_tz": 180
    },
    "id": "-dcHMIKTMFZ-",
    "outputId": "696ca30a-d068-4f6c-d972-e52cc5b52baa"
   },
   "outputs": [
    {
     "data": {
      "text/plain": [
       "array([[ 5,  6,  7,  8,  9],\n",
       "       [10, 11, 12, 13, 14],\n",
       "       [15, 16, 17, 18, 19]])"
      ]
     },
     "execution_count": 130,
     "metadata": {},
     "output_type": "execute_result"
    }
   ],
   "source": [
    "arr + 5 #sumo 5 a c/u de los elementos del array"
   ]
  },
  {
   "cell_type": "code",
   "execution_count": 131,
   "metadata": {
    "colab": {
     "base_uri": "https://localhost:8080/"
    },
    "executionInfo": {
     "elapsed": 340,
     "status": "ok",
     "timestamp": 1630767556327,
     "user": {
      "displayName": "Julio Rodriguez Martino",
      "photoUrl": "https://lh3.googleusercontent.com/a-/AOh14GjFnG6s_UDbNCdqSpd-m6QHQD9P90aARfhTeS1gIQ=s64",
      "userId": "05816779020109732306"
     },
     "user_tz": 180
    },
    "id": "ZybtWKjfMFZ-",
    "outputId": "ce396b24-c1ad-4c47-b3d5-d34581034487"
   },
   "outputs": [
    {
     "data": {
      "text/plain": [
       "array([[ 0,  2,  4,  6,  8],\n",
       "       [10, 12, 14, 16, 18],\n",
       "       [20, 22, 24, 26, 28]])"
      ]
     },
     "execution_count": 131,
     "metadata": {},
     "output_type": "execute_result"
    }
   ],
   "source": [
    "arr * 2 #multiplico por un escalar "
   ]
  },
  {
   "cell_type": "code",
   "execution_count": 132,
   "metadata": {
    "colab": {
     "base_uri": "https://localhost:8080/"
    },
    "executionInfo": {
     "elapsed": 286,
     "status": "ok",
     "timestamp": 1630767559768,
     "user": {
      "displayName": "Julio Rodriguez Martino",
      "photoUrl": "https://lh3.googleusercontent.com/a-/AOh14GjFnG6s_UDbNCdqSpd-m6QHQD9P90aARfhTeS1gIQ=s64",
      "userId": "05816779020109732306"
     },
     "user_tz": 180
    },
    "id": "M-C7uLdEMFZ_",
    "outputId": "78c5f2a8-2d31-422e-8709-9f8e8d47d853"
   },
   "outputs": [],
   "source": [
    "arr1 = np.arange(15).reshape(5,3)\n",
    "arr2 = np.arange(5).reshape(5,1)\n",
    "\n"
   ]
  },
  {
   "cell_type": "code",
   "execution_count": 133,
   "metadata": {
    "colab": {
     "base_uri": "https://localhost:8080/"
    },
    "executionInfo": {
     "elapsed": 253,
     "status": "ok",
     "timestamp": 1630767575652,
     "user": {
      "displayName": "Julio Rodriguez Martino",
      "photoUrl": "https://lh3.googleusercontent.com/a-/AOh14GjFnG6s_UDbNCdqSpd-m6QHQD9P90aARfhTeS1gIQ=s64",
      "userId": "05816779020109732306"
     },
     "user_tz": 180
    },
    "id": "6Ks61PJAMFZ_",
    "outputId": "e2213587-e3a1-4bbb-b0ea-dcbd507a4a13"
   },
   "outputs": [
    {
     "data": {
      "text/plain": [
       "array([[ 0,  1,  2],\n",
       "       [ 3,  4,  5],\n",
       "       [ 6,  7,  8],\n",
       "       [ 9, 10, 11],\n",
       "       [12, 13, 14]])"
      ]
     },
     "execution_count": 133,
     "metadata": {},
     "output_type": "execute_result"
    }
   ],
   "source": [
    "arr1"
   ]
  },
  {
   "cell_type": "code",
   "execution_count": 134,
   "metadata": {
    "colab": {
     "base_uri": "https://localhost:8080/"
    },
    "executionInfo": {
     "elapsed": 251,
     "status": "ok",
     "timestamp": 1630767578559,
     "user": {
      "displayName": "Julio Rodriguez Martino",
      "photoUrl": "https://lh3.googleusercontent.com/a-/AOh14GjFnG6s_UDbNCdqSpd-m6QHQD9P90aARfhTeS1gIQ=s64",
      "userId": "05816779020109732306"
     },
     "user_tz": 180
    },
    "id": "97MzIf8UMFZ_",
    "outputId": "cf8a18c0-0ddb-443d-c6dc-4f7c76460e91"
   },
   "outputs": [
    {
     "data": {
      "text/plain": [
       "array([[0],\n",
       "       [1],\n",
       "       [2],\n",
       "       [3],\n",
       "       [4]])"
      ]
     },
     "execution_count": 134,
     "metadata": {},
     "output_type": "execute_result"
    }
   ],
   "source": [
    "arr2"
   ]
  },
  {
   "cell_type": "code",
   "execution_count": 135,
   "metadata": {},
   "outputs": [
    {
     "data": {
      "text/plain": [
       "array([[ 0,  1,  2],\n",
       "       [ 4,  5,  6],\n",
       "       [ 8,  9, 10],\n",
       "       [12, 13, 14],\n",
       "       [16, 17, 18]])"
      ]
     },
     "execution_count": 135,
     "metadata": {},
     "output_type": "execute_result"
    }
   ],
   "source": [
    "arr2 + arr1"
   ]
  },
  {
   "cell_type": "code",
   "execution_count": 136,
   "metadata": {
    "colab": {
     "base_uri": "https://localhost:8080/"
    },
    "executionInfo": {
     "elapsed": 251,
     "status": "ok",
     "timestamp": 1630767629394,
     "user": {
      "displayName": "Julio Rodriguez Martino",
      "photoUrl": "https://lh3.googleusercontent.com/a-/AOh14GjFnG6s_UDbNCdqSpd-m6QHQD9P90aARfhTeS1gIQ=s64",
      "userId": "05816779020109732306"
     },
     "user_tz": 180
    },
    "id": "fjLHiF6dMFaA",
    "outputId": "b1569b21-cb95-4543-b4ef-b71c5f98f9a6"
   },
   "outputs": [
    {
     "data": {
      "text/plain": [
       "array([[ 0.81635814, -0.32205837,  0.87227169],\n",
       "       [ 0.24979975, -0.05700051,  0.0984454 ],\n",
       "       [ 0.25123767,  0.615566  ,  0.15152085],\n",
       "       [-0.05837062,  0.95558278, -0.50515131],\n",
       "       [-0.01976601, -0.03667921,  1.40386295]])"
      ]
     },
     "execution_count": 136,
     "metadata": {},
     "output_type": "execute_result"
    }
   ],
   "source": [
    "arr1 = np.random.randn(5,3)\n",
    "arr1"
   ]
  },
  {
   "cell_type": "code",
   "execution_count": 137,
   "metadata": {
    "colab": {
     "base_uri": "https://localhost:8080/"
    },
    "executionInfo": {
     "elapsed": 256,
     "status": "ok",
     "timestamp": 1630767692582,
     "user": {
      "displayName": "Julio Rodriguez Martino",
      "photoUrl": "https://lh3.googleusercontent.com/a-/AOh14GjFnG6s_UDbNCdqSpd-m6QHQD9P90aARfhTeS1gIQ=s64",
      "userId": "05816779020109732306"
     },
     "user_tz": 180
    },
    "id": "Xu1W45ISMFaA",
    "outputId": "2d58ab3a-fb75-4032-dae1-892e58d6d249"
   },
   "outputs": [
    {
     "data": {
      "text/plain": [
       "(array([[ 0.81635814, -0.32205837,  0.87227169],\n",
       "        [ 0.24979975, -0.05700051,  0.0984454 ],\n",
       "        [ 0.25123767,  0.615566  ,  0.15152085],\n",
       "        [-0.05837062,  0.95558278, -0.50515131],\n",
       "        [-0.01976601, -0.03667921,  0.40386295]]),\n",
       " array([[ 0., -0.,  0.],\n",
       "        [ 0., -0.,  0.],\n",
       "        [ 0.,  0.,  0.],\n",
       "        [-0.,  0., -0.],\n",
       "        [-0., -0.,  1.]]))"
      ]
     },
     "execution_count": 137,
     "metadata": {},
     "output_type": "execute_result"
    }
   ],
   "source": [
    "np.modf(arr1) # Separa las partes entera y decimal"
   ]
  },
  {
   "cell_type": "markdown",
   "metadata": {
    "id": "7yjJgAuPMFaA"
   },
   "source": [
    "#### Algebra lineal usando numpy"
   ]
  },
  {
   "cell_type": "code",
   "execution_count": 138,
   "metadata": {
    "colab": {
     "base_uri": "https://localhost:8080/"
    },
    "executionInfo": {
     "elapsed": 239,
     "status": "ok",
     "timestamp": 1630767723987,
     "user": {
      "displayName": "Julio Rodriguez Martino",
      "photoUrl": "https://lh3.googleusercontent.com/a-/AOh14GjFnG6s_UDbNCdqSpd-m6QHQD9P90aARfhTeS1gIQ=s64",
      "userId": "05816779020109732306"
     },
     "user_tz": 180
    },
    "id": "9ykvG4esMFaB",
    "outputId": "6e6644f6-7c1d-41ea-db90-8f8f9899a4b8"
   },
   "outputs": [
    {
     "data": {
      "text/plain": [
       "array([[ 24,  24,  24],\n",
       "       [ 72,  69,  66],\n",
       "       [120, 114, 108]])"
      ]
     },
     "execution_count": 138,
     "metadata": {},
     "output_type": "execute_result"
    }
   ],
   "source": [
    "A = np.array([[1,2,3],[4,5,6],[7,8,9]])\n",
    "B = np.array([[9,8,7],[6,5,4],[1,2,3]])\n",
    "A.dot(B) # producto matricial entre A  y B \n"
   ]
  },
  {
   "cell_type": "markdown",
   "metadata": {},
   "source": [
    "C es una nueva matriz resultante, y cada elemento C[i,j] de la matriz resultante se calcula como el producto punto entre la fila \n",
    "i de la matriz 𝐴 y la columna 𝑗 de la matriz 𝐵.\n",
    "El producto punto es una operación entre dos vectores que da como resultado un número (escalar) al multiplicar sus componentes correspondientes y sumar los productos."
   ]
  },
  {
   "cell_type": "markdown",
   "metadata": {},
   "source": [
    "El producto matricial consiste en calcular el producto punto entre las filas de 𝐴 y las columnas de 𝐵 generando una nueva matriz 𝐶 como resultado"
   ]
  },
  {
   "cell_type": "code",
   "execution_count": 139,
   "metadata": {
    "colab": {
     "base_uri": "https://localhost:8080/"
    },
    "executionInfo": {
     "elapsed": 258,
     "status": "ok",
     "timestamp": 1630767727466,
     "user": {
      "displayName": "Julio Rodriguez Martino",
      "photoUrl": "https://lh3.googleusercontent.com/a-/AOh14GjFnG6s_UDbNCdqSpd-m6QHQD9P90aARfhTeS1gIQ=s64",
      "userId": "05816779020109732306"
     },
     "user_tz": 180
    },
    "id": "DmFVr4xDMFaB",
    "outputId": "1ac59c3d-6e41-48b2-9f5e-a3e883d5ba10"
   },
   "outputs": [
    {
     "data": {
      "text/plain": [
       "array([[ 0,  1,  2,  3,  4],\n",
       "       [ 5,  6,  7,  8,  9],\n",
       "       [10, 11, 12, 13, 14]])"
      ]
     },
     "execution_count": 139,
     "metadata": {},
     "output_type": "execute_result"
    }
   ],
   "source": [
    "A = np.arange(15).reshape(3,5)\n",
    "A"
   ]
  },
  {
   "cell_type": "code",
   "execution_count": 140,
   "metadata": {},
   "outputs": [
    {
     "data": {
      "text/plain": [
       "array([[ 0,  5, 10],\n",
       "       [ 1,  6, 11],\n",
       "       [ 2,  7, 12],\n",
       "       [ 3,  8, 13],\n",
       "       [ 4,  9, 14]])"
      ]
     },
     "execution_count": 140,
     "metadata": {},
     "output_type": "execute_result"
    }
   ],
   "source": [
    "A.T #transpuesta, cambia filas por columnas"
   ]
  },
  {
   "cell_type": "markdown",
   "metadata": {
    "id": "k-TWkgt0WD3b"
   },
   "source": [
    "Resolver el sistema de ecuaciones x0 + 2 * x1 = 1 and 3 * x0 + 5 * x1 = 2:\n"
   ]
  },
  {
   "cell_type": "code",
   "execution_count": 141,
   "metadata": {
    "colab": {
     "base_uri": "https://localhost:8080/"
    },
    "executionInfo": {
     "elapsed": 252,
     "status": "ok",
     "timestamp": 1630768005166,
     "user": {
      "displayName": "Julio Rodriguez Martino",
      "photoUrl": "https://lh3.googleusercontent.com/a-/AOh14GjFnG6s_UDbNCdqSpd-m6QHQD9P90aARfhTeS1gIQ=s64",
      "userId": "05816779020109732306"
     },
     "user_tz": 180
    },
    "id": "G_jBu8SnMFaB",
    "outputId": "b102feba-37f4-4e5e-b279-c061738fba0e"
   },
   "outputs": [
    {
     "data": {
      "text/plain": [
       "array([-1.,  1.])"
      ]
     },
     "execution_count": 141,
     "metadata": {},
     "output_type": "execute_result"
    }
   ],
   "source": [
    "a = np.array([[1, 2], [3, 5]])\n",
    "\n",
    "b = np.array([1, 2])\n",
    "\n",
    "x = np.linalg.solve(a, b)\n",
    "\n",
    "x"
   ]
  },
  {
   "cell_type": "code",
   "execution_count": 142,
   "metadata": {
    "colab": {
     "base_uri": "https://localhost:8080/"
    },
    "executionInfo": {
     "elapsed": 443,
     "status": "ok",
     "timestamp": 1630768013465,
     "user": {
      "displayName": "Julio Rodriguez Martino",
      "photoUrl": "https://lh3.googleusercontent.com/a-/AOh14GjFnG6s_UDbNCdqSpd-m6QHQD9P90aARfhTeS1gIQ=s64",
      "userId": "05816779020109732306"
     },
     "user_tz": 180
    },
    "id": "kZM-9viuMFaB",
    "outputId": "3ea48144-2126-4cda-c7d3-0d0809a6399c"
   },
   "outputs": [
    {
     "data": {
      "text/plain": [
       "True"
      ]
     },
     "execution_count": 142,
     "metadata": {},
     "output_type": "execute_result"
    }
   ],
   "source": [
    "np.allclose(np.dot(a, x), b) #chequea la solución"
   ]
  },
  {
   "cell_type": "markdown",
   "metadata": {
    "id": "39DSAuswMFaB"
   },
   "source": [
    "# Pandas\n",
    "## Data frames"
   ]
  },
  {
   "cell_type": "code",
   "execution_count": 143,
   "metadata": {
    "colab": {
     "base_uri": "https://localhost:8080/",
     "height": 143
    },
    "executionInfo": {
     "elapsed": 253,
     "status": "ok",
     "timestamp": 1630768060523,
     "user": {
      "displayName": "Julio Rodriguez Martino",
      "photoUrl": "https://lh3.googleusercontent.com/a-/AOh14GjFnG6s_UDbNCdqSpd-m6QHQD9P90aARfhTeS1gIQ=s64",
      "userId": "05816779020109732306"
     },
     "user_tz": 180
    },
    "id": "v2K-YFs6MFaC",
    "outputId": "b3ddfd88-5c98-4e09-aed9-01a5f6f50f43"
   },
   "outputs": [
    {
     "data": {
      "text/html": [
       "<div>\n",
       "<style scoped>\n",
       "    .dataframe tbody tr th:only-of-type {\n",
       "        vertical-align: middle;\n",
       "    }\n",
       "\n",
       "    .dataframe tbody tr th {\n",
       "        vertical-align: top;\n",
       "    }\n",
       "\n",
       "    .dataframe thead th {\n",
       "        text-align: right;\n",
       "    }\n",
       "</style>\n",
       "<table border=\"1\" class=\"dataframe\">\n",
       "  <thead>\n",
       "    <tr style=\"text-align: right;\">\n",
       "      <th></th>\n",
       "      <th>city</th>\n",
       "      <th>data</th>\n",
       "    </tr>\n",
       "  </thead>\n",
       "  <tbody>\n",
       "    <tr>\n",
       "      <th>0</th>\n",
       "      <td>Delhi</td>\n",
       "      <td>1000</td>\n",
       "    </tr>\n",
       "    <tr>\n",
       "      <th>1</th>\n",
       "      <td>Banglaore</td>\n",
       "      <td>2000</td>\n",
       "    </tr>\n",
       "    <tr>\n",
       "      <th>2</th>\n",
       "      <td>Mumbai</td>\n",
       "      <td>1000</td>\n",
       "    </tr>\n",
       "  </tbody>\n",
       "</table>\n",
       "</div>"
      ],
      "text/plain": [
       "        city  data\n",
       "0      Delhi  1000\n",
       "1  Banglaore  2000\n",
       "2     Mumbai  1000"
      ]
     },
     "execution_count": 143,
     "metadata": {},
     "output_type": "execute_result"
    }
   ],
   "source": [
    "import pandas as pd\n",
    "d =  [{'city':'Delhi',\"data\":1000},  #diccionario\n",
    "      {'city':'Banglaore',\"data\":2000},\n",
    "      {'city':'Mumbai',\"data\":1000}]\n",
    "pd.DataFrame(d)"
   ]
  },
  {
   "cell_type": "code",
   "execution_count": 144,
   "metadata": {
    "id": "94H7aLKHMFaC"
   },
   "outputs": [],
   "source": [
    "df = pd.DataFrame(d)"
   ]
  },
  {
   "cell_type": "markdown",
   "metadata": {
    "id": "k5dmAVRkMFaC"
   },
   "source": [
    "### Leyendo datos"
   ]
  },
  {
   "cell_type": "code",
   "execution_count": 145,
   "metadata": {
    "colab": {
     "base_uri": "https://localhost:8080/",
     "height": 76,
     "resources": {
      "http://localhost:8080/nbextensions/google.colab/files.js": {
       "data": "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",
       "headers": [
        [
         "content-type",
         "application/javascript"
        ]
       ],
       "ok": true,
       "status": 200,
       "status_text": "OK"
      }
     }
    },
    "executionInfo": {
     "elapsed": 69364,
     "status": "ok",
     "timestamp": 1630768841681,
     "user": {
      "displayName": "Julio Rodriguez Martino",
      "photoUrl": "https://lh3.googleusercontent.com/a-/AOh14GjFnG6s_UDbNCdqSpd-m6QHQD9P90aARfhTeS1gIQ=s64",
      "userId": "05816779020109732306"
     },
     "user_tz": 180
    },
    "id": "yKEaP05dYxUa",
    "outputId": "a8c95b90-fd51-49d4-9c47-63dbb7b33f08"
   },
   "outputs": [],
   "source": [
    "#from google.colab import files\n",
    "#data_to_load = files.upload()"
   ]
  },
  {
   "cell_type": "code",
   "execution_count": 146,
   "metadata": {
    "id": "c_LWBBGFY5jD"
   },
   "outputs": [],
   "source": [
    "import io\n",
    "import pandas as pd\n",
    "\n",
    "\n",
    "city_data = pd.read_csv('2 - MLII - Clase 3 - datos.csv')"
   ]
  },
  {
   "cell_type": "code",
   "execution_count": 147,
   "metadata": {
    "colab": {
     "base_uri": "https://localhost:8080/",
     "height": 363
    },
    "executionInfo": {
     "elapsed": 251,
     "status": "ok",
     "timestamp": 1630768896207,
     "user": {
      "displayName": "Julio Rodriguez Martino",
      "photoUrl": "https://lh3.googleusercontent.com/a-/AOh14GjFnG6s_UDbNCdqSpd-m6QHQD9P90aARfhTeS1gIQ=s64",
      "userId": "05816779020109732306"
     },
     "user_tz": 180
    },
    "id": "Zyd1zUWLMFaD",
    "outputId": "a882305f-d49d-4e0f-dcb9-c86b1b8cb400"
   },
   "outputs": [
    {
     "data": {
      "text/html": [
       "<div>\n",
       "<style scoped>\n",
       "    .dataframe tbody tr th:only-of-type {\n",
       "        vertical-align: middle;\n",
       "    }\n",
       "\n",
       "    .dataframe tbody tr th {\n",
       "        vertical-align: top;\n",
       "    }\n",
       "\n",
       "    .dataframe thead th {\n",
       "        text-align: right;\n",
       "    }\n",
       "</style>\n",
       "<table border=\"1\" class=\"dataframe\">\n",
       "  <thead>\n",
       "    <tr style=\"text-align: right;\">\n",
       "      <th></th>\n",
       "      <th>city</th>\n",
       "      <th>city_ascii</th>\n",
       "      <th>lat</th>\n",
       "      <th>lng</th>\n",
       "      <th>pop</th>\n",
       "      <th>country</th>\n",
       "      <th>iso2</th>\n",
       "      <th>iso3</th>\n",
       "      <th>province</th>\n",
       "    </tr>\n",
       "  </thead>\n",
       "  <tbody>\n",
       "    <tr>\n",
       "      <th>0</th>\n",
       "      <td>Qal eh-ye Now</td>\n",
       "      <td>Qal eh-ye</td>\n",
       "      <td>34.983000</td>\n",
       "      <td>63.133300</td>\n",
       "      <td>2997.0</td>\n",
       "      <td>Afghanistan</td>\n",
       "      <td>AF</td>\n",
       "      <td>AFG</td>\n",
       "      <td>Badghis</td>\n",
       "    </tr>\n",
       "    <tr>\n",
       "      <th>1</th>\n",
       "      <td>Chaghcharan</td>\n",
       "      <td>Chaghcharan</td>\n",
       "      <td>34.516701</td>\n",
       "      <td>65.250001</td>\n",
       "      <td>15000.0</td>\n",
       "      <td>Afghanistan</td>\n",
       "      <td>AF</td>\n",
       "      <td>AFG</td>\n",
       "      <td>Ghor</td>\n",
       "    </tr>\n",
       "    <tr>\n",
       "      <th>2</th>\n",
       "      <td>Lashkar Gah</td>\n",
       "      <td>Lashkar Gah</td>\n",
       "      <td>31.582998</td>\n",
       "      <td>64.360000</td>\n",
       "      <td>201546.0</td>\n",
       "      <td>Afghanistan</td>\n",
       "      <td>AF</td>\n",
       "      <td>AFG</td>\n",
       "      <td>Hilmand</td>\n",
       "    </tr>\n",
       "    <tr>\n",
       "      <th>3</th>\n",
       "      <td>Zaranj</td>\n",
       "      <td>Zaranj</td>\n",
       "      <td>31.112001</td>\n",
       "      <td>61.886998</td>\n",
       "      <td>49851.0</td>\n",
       "      <td>Afghanistan</td>\n",
       "      <td>AF</td>\n",
       "      <td>AFG</td>\n",
       "      <td>Nimroz</td>\n",
       "    </tr>\n",
       "    <tr>\n",
       "      <th>4</th>\n",
       "      <td>Tarin Kowt</td>\n",
       "      <td>Tarin Kowt</td>\n",
       "      <td>32.633298</td>\n",
       "      <td>65.866699</td>\n",
       "      <td>10000.0</td>\n",
       "      <td>Afghanistan</td>\n",
       "      <td>AF</td>\n",
       "      <td>AFG</td>\n",
       "      <td>Uruzgan</td>\n",
       "    </tr>\n",
       "    <tr>\n",
       "      <th>5</th>\n",
       "      <td>Zareh Sharan</td>\n",
       "      <td>Zareh Sharan</td>\n",
       "      <td>32.850000</td>\n",
       "      <td>68.416705</td>\n",
       "      <td>13737.0</td>\n",
       "      <td>Afghanistan</td>\n",
       "      <td>AF</td>\n",
       "      <td>AFG</td>\n",
       "      <td>Paktika</td>\n",
       "    </tr>\n",
       "    <tr>\n",
       "      <th>6</th>\n",
       "      <td>Asadabad</td>\n",
       "      <td>Asadabad</td>\n",
       "      <td>34.866000</td>\n",
       "      <td>71.150005</td>\n",
       "      <td>48400.0</td>\n",
       "      <td>Afghanistan</td>\n",
       "      <td>AF</td>\n",
       "      <td>AFG</td>\n",
       "      <td>Kunar</td>\n",
       "    </tr>\n",
       "    <tr>\n",
       "      <th>7</th>\n",
       "      <td>Taloqan</td>\n",
       "      <td>Taloqan</td>\n",
       "      <td>36.729999</td>\n",
       "      <td>69.540004</td>\n",
       "      <td>64256.0</td>\n",
       "      <td>Afghanistan</td>\n",
       "      <td>AF</td>\n",
       "      <td>AFG</td>\n",
       "      <td>Takhar</td>\n",
       "    </tr>\n",
       "    <tr>\n",
       "      <th>8</th>\n",
       "      <td>Mahmud-E Eraqi</td>\n",
       "      <td>Mahmud-E Eraqi</td>\n",
       "      <td>35.016696</td>\n",
       "      <td>69.333301</td>\n",
       "      <td>7407.0</td>\n",
       "      <td>Afghanistan</td>\n",
       "      <td>AF</td>\n",
       "      <td>AFG</td>\n",
       "      <td>Kapisa</td>\n",
       "    </tr>\n",
       "    <tr>\n",
       "      <th>9</th>\n",
       "      <td>Mehtar Lam</td>\n",
       "      <td>Mehtar Lam</td>\n",
       "      <td>34.650000</td>\n",
       "      <td>70.166701</td>\n",
       "      <td>17345.0</td>\n",
       "      <td>Afghanistan</td>\n",
       "      <td>AF</td>\n",
       "      <td>AFG</td>\n",
       "      <td>Laghman</td>\n",
       "    </tr>\n",
       "  </tbody>\n",
       "</table>\n",
       "</div>"
      ],
      "text/plain": [
       "             city      city_ascii        lat        lng       pop  \\\n",
       "0   Qal eh-ye Now       Qal eh-ye  34.983000  63.133300    2997.0   \n",
       "1     Chaghcharan     Chaghcharan  34.516701  65.250001   15000.0   \n",
       "2     Lashkar Gah     Lashkar Gah  31.582998  64.360000  201546.0   \n",
       "3          Zaranj          Zaranj  31.112001  61.886998   49851.0   \n",
       "4      Tarin Kowt      Tarin Kowt  32.633298  65.866699   10000.0   \n",
       "5    Zareh Sharan    Zareh Sharan  32.850000  68.416705   13737.0   \n",
       "6        Asadabad        Asadabad  34.866000  71.150005   48400.0   \n",
       "7         Taloqan         Taloqan  36.729999  69.540004   64256.0   \n",
       "8  Mahmud-E Eraqi  Mahmud-E Eraqi  35.016696  69.333301    7407.0   \n",
       "9      Mehtar Lam      Mehtar Lam  34.650000  70.166701   17345.0   \n",
       "\n",
       "       country iso2 iso3 province  \n",
       "0  Afghanistan   AF  AFG  Badghis  \n",
       "1  Afghanistan   AF  AFG     Ghor  \n",
       "2  Afghanistan   AF  AFG  Hilmand  \n",
       "3  Afghanistan   AF  AFG   Nimroz  \n",
       "4  Afghanistan   AF  AFG  Uruzgan  \n",
       "5  Afghanistan   AF  AFG  Paktika  \n",
       "6  Afghanistan   AF  AFG    Kunar  \n",
       "7  Afghanistan   AF  AFG   Takhar  \n",
       "8  Afghanistan   AF  AFG   Kapisa  \n",
       "9  Afghanistan   AF  AFG  Laghman  "
      ]
     },
     "execution_count": 147,
     "metadata": {},
     "output_type": "execute_result"
    }
   ],
   "source": [
    "city_data.head(n=10)"
   ]
  },
  {
   "cell_type": "code",
   "execution_count": 148,
   "metadata": {
    "colab": {
     "base_uri": "https://localhost:8080/",
     "height": 206
    },
    "executionInfo": {
     "elapsed": 260,
     "status": "ok",
     "timestamp": 1630768902377,
     "user": {
      "displayName": "Julio Rodriguez Martino",
      "photoUrl": "https://lh3.googleusercontent.com/a-/AOh14GjFnG6s_UDbNCdqSpd-m6QHQD9P90aARfhTeS1gIQ=s64",
      "userId": "05816779020109732306"
     },
     "user_tz": 180
    },
    "id": "EMhzuG74MFaD",
    "outputId": "75eefa43-dca3-4ee8-afac-9dc649aa9b52"
   },
   "outputs": [
    {
     "data": {
      "text/html": [
       "<div>\n",
       "<style scoped>\n",
       "    .dataframe tbody tr th:only-of-type {\n",
       "        vertical-align: middle;\n",
       "    }\n",
       "\n",
       "    .dataframe tbody tr th {\n",
       "        vertical-align: top;\n",
       "    }\n",
       "\n",
       "    .dataframe thead th {\n",
       "        text-align: right;\n",
       "    }\n",
       "</style>\n",
       "<table border=\"1\" class=\"dataframe\">\n",
       "  <thead>\n",
       "    <tr style=\"text-align: right;\">\n",
       "      <th></th>\n",
       "      <th>city</th>\n",
       "      <th>city_ascii</th>\n",
       "      <th>lat</th>\n",
       "      <th>lng</th>\n",
       "      <th>pop</th>\n",
       "      <th>country</th>\n",
       "      <th>iso2</th>\n",
       "      <th>iso3</th>\n",
       "      <th>province</th>\n",
       "    </tr>\n",
       "  </thead>\n",
       "  <tbody>\n",
       "    <tr>\n",
       "      <th>7317</th>\n",
       "      <td>Mutare</td>\n",
       "      <td>Mutare</td>\n",
       "      <td>-18.970019</td>\n",
       "      <td>32.650038</td>\n",
       "      <td>216785.0</td>\n",
       "      <td>Zimbabwe</td>\n",
       "      <td>ZW</td>\n",
       "      <td>ZWE</td>\n",
       "      <td>Manicaland</td>\n",
       "    </tr>\n",
       "    <tr>\n",
       "      <th>7318</th>\n",
       "      <td>Kadoma</td>\n",
       "      <td>Kadoma</td>\n",
       "      <td>-18.330006</td>\n",
       "      <td>29.909947</td>\n",
       "      <td>56400.0</td>\n",
       "      <td>Zimbabwe</td>\n",
       "      <td>ZW</td>\n",
       "      <td>ZWE</td>\n",
       "      <td>Mashonaland West</td>\n",
       "    </tr>\n",
       "    <tr>\n",
       "      <th>7319</th>\n",
       "      <td>Chitungwiza</td>\n",
       "      <td>Chitungwiza</td>\n",
       "      <td>-18.000001</td>\n",
       "      <td>31.100003</td>\n",
       "      <td>331071.0</td>\n",
       "      <td>Zimbabwe</td>\n",
       "      <td>ZW</td>\n",
       "      <td>ZWE</td>\n",
       "      <td>Harare</td>\n",
       "    </tr>\n",
       "    <tr>\n",
       "      <th>7320</th>\n",
       "      <td>Harare</td>\n",
       "      <td>Harare</td>\n",
       "      <td>-17.817790</td>\n",
       "      <td>31.044709</td>\n",
       "      <td>1557406.5</td>\n",
       "      <td>Zimbabwe</td>\n",
       "      <td>ZW</td>\n",
       "      <td>ZWE</td>\n",
       "      <td>Harare</td>\n",
       "    </tr>\n",
       "    <tr>\n",
       "      <th>7321</th>\n",
       "      <td>Bulawayo</td>\n",
       "      <td>Bulawayo</td>\n",
       "      <td>-20.169998</td>\n",
       "      <td>28.580002</td>\n",
       "      <td>697096.0</td>\n",
       "      <td>Zimbabwe</td>\n",
       "      <td>ZW</td>\n",
       "      <td>ZWE</td>\n",
       "      <td>Bulawayo</td>\n",
       "    </tr>\n",
       "  </tbody>\n",
       "</table>\n",
       "</div>"
      ],
      "text/plain": [
       "             city   city_ascii        lat        lng        pop   country  \\\n",
       "7317       Mutare       Mutare -18.970019  32.650038   216785.0  Zimbabwe   \n",
       "7318       Kadoma       Kadoma -18.330006  29.909947    56400.0  Zimbabwe   \n",
       "7319  Chitungwiza  Chitungwiza -18.000001  31.100003   331071.0  Zimbabwe   \n",
       "7320       Harare       Harare -17.817790  31.044709  1557406.5  Zimbabwe   \n",
       "7321     Bulawayo     Bulawayo -20.169998  28.580002   697096.0  Zimbabwe   \n",
       "\n",
       "     iso2 iso3          province  \n",
       "7317   ZW  ZWE        Manicaland  \n",
       "7318   ZW  ZWE  Mashonaland West  \n",
       "7319   ZW  ZWE            Harare  \n",
       "7320   ZW  ZWE            Harare  \n",
       "7321   ZW  ZWE          Bulawayo  "
      ]
     },
     "execution_count": 148,
     "metadata": {},
     "output_type": "execute_result"
    }
   ],
   "source": [
    "city_data.tail()"
   ]
  },
  {
   "cell_type": "code",
   "execution_count": 149,
   "metadata": {
    "id": "9NX3fkTTMFaD"
   },
   "outputs": [],
   "source": [
    "series_es = city_data.lat # solo la columna latitud "
   ]
  },
  {
   "cell_type": "code",
   "execution_count": 150,
   "metadata": {
    "colab": {
     "base_uri": "https://localhost:8080/"
    },
    "executionInfo": {
     "elapsed": 5,
     "status": "ok",
     "timestamp": 1630768909187,
     "user": {
      "displayName": "Julio Rodriguez Martino",
      "photoUrl": "https://lh3.googleusercontent.com/a-/AOh14GjFnG6s_UDbNCdqSpd-m6QHQD9P90aARfhTeS1gIQ=s64",
      "userId": "05816779020109732306"
     },
     "user_tz": 180
    },
    "id": "TgOg-LWRMFaD",
    "outputId": "31e9f928-c710-4060-b5fa-6ee19c5e0073"
   },
   "outputs": [
    {
     "data": {
      "text/plain": [
       "pandas.core.series.Series"
      ]
     },
     "execution_count": 150,
     "metadata": {},
     "output_type": "execute_result"
    }
   ],
   "source": [
    "type(series_es)"
   ]
  },
  {
   "cell_type": "code",
   "execution_count": 151,
   "metadata": {
    "colab": {
     "base_uri": "https://localhost:8080/"
    },
    "executionInfo": {
     "elapsed": 316,
     "status": "ok",
     "timestamp": 1630768911797,
     "user": {
      "displayName": "Julio Rodriguez Martino",
      "photoUrl": "https://lh3.googleusercontent.com/a-/AOh14GjFnG6s_UDbNCdqSpd-m6QHQD9P90aARfhTeS1gIQ=s64",
      "userId": "05816779020109732306"
     },
     "user_tz": 180
    },
    "id": "dEsD7IFfMFaE",
    "outputId": "8f8f9217-60c6-437c-dc13-c9bf2fe5a886"
   },
   "outputs": [
    {
     "data": {
      "text/plain": [
       "1    34.516701\n",
       "3    31.112001\n",
       "5    32.850000\n",
       "7    36.729999\n",
       "9    34.650000\n",
       "Name: lat, dtype: float64"
      ]
     },
     "execution_count": 151,
     "metadata": {},
     "output_type": "execute_result"
    }
   ],
   "source": [
    "series_es[1:10:2] #va de a dos"
   ]
  },
  {
   "cell_type": "code",
   "execution_count": 152,
   "metadata": {
    "colab": {
     "base_uri": "https://localhost:8080/"
    },
    "executionInfo": {
     "elapsed": 405,
     "status": "ok",
     "timestamp": 1630768917968,
     "user": {
      "displayName": "Julio Rodriguez Martino",
      "photoUrl": "https://lh3.googleusercontent.com/a-/AOh14GjFnG6s_UDbNCdqSpd-m6QHQD9P90aARfhTeS1gIQ=s64",
      "userId": "05816779020109732306"
     },
     "user_tz": 180
    },
    "id": "ZtBo6Fo5MFaE",
    "outputId": "d6c237eb-e7ac-48a4-857a-f09dd2fbf4b3"
   },
   "outputs": [
    {
     "data": {
      "text/plain": [
       "0    34.983000\n",
       "1    34.516701\n",
       "2    31.582998\n",
       "3    31.112001\n",
       "4    32.633298\n",
       "5    32.850000\n",
       "6    34.866000\n",
       "Name: lat, dtype: float64"
      ]
     },
     "execution_count": 152,
     "metadata": {},
     "output_type": "execute_result"
    }
   ],
   "source": [
    "series_es[:7] "
   ]
  },
  {
   "cell_type": "code",
   "execution_count": 153,
   "metadata": {
    "colab": {
     "base_uri": "https://localhost:8080/"
    },
    "executionInfo": {
     "elapsed": 263,
     "status": "ok",
     "timestamp": 1630768928322,
     "user": {
      "displayName": "Julio Rodriguez Martino",
      "photoUrl": "https://lh3.googleusercontent.com/a-/AOh14GjFnG6s_UDbNCdqSpd-m6QHQD9P90aARfhTeS1gIQ=s64",
      "userId": "05816779020109732306"
     },
     "user_tz": 180
    },
    "id": "Tqb1e2QmMFaE",
    "outputId": "ab3456f3-d8c0-4fad-d83e-a31053af7072"
   },
   "outputs": [
    {
     "data": {
      "text/plain": [
       "0    34.983000\n",
       "1    34.516701\n",
       "2    31.582998\n",
       "3    31.112001\n",
       "4    32.633298\n",
       "5    32.850000\n",
       "6    34.866000\n",
       "Name: lat, dtype: float64"
      ]
     },
     "execution_count": 153,
     "metadata": {},
     "output_type": "execute_result"
    }
   ],
   "source": [
    "series_es[:-7315]"
   ]
  },
  {
   "cell_type": "code",
   "execution_count": 154,
   "metadata": {
    "colab": {
     "base_uri": "https://localhost:8080/",
     "height": 269
    },
    "executionInfo": {
     "elapsed": 253,
     "status": "ok",
     "timestamp": 1630768934299,
     "user": {
      "displayName": "Julio Rodriguez Martino",
      "photoUrl": "https://lh3.googleusercontent.com/a-/AOh14GjFnG6s_UDbNCdqSpd-m6QHQD9P90aARfhTeS1gIQ=s64",
      "userId": "05816779020109732306"
     },
     "user_tz": 180
    },
    "id": "65bex54YMFaE",
    "outputId": "4dfe3d40-3b91-4fc2-e192-60c7d3df2bf2"
   },
   "outputs": [
    {
     "data": {
      "text/html": [
       "<div>\n",
       "<style scoped>\n",
       "    .dataframe tbody tr th:only-of-type {\n",
       "        vertical-align: middle;\n",
       "    }\n",
       "\n",
       "    .dataframe tbody tr th {\n",
       "        vertical-align: top;\n",
       "    }\n",
       "\n",
       "    .dataframe thead th {\n",
       "        text-align: right;\n",
       "    }\n",
       "</style>\n",
       "<table border=\"1\" class=\"dataframe\">\n",
       "  <thead>\n",
       "    <tr style=\"text-align: right;\">\n",
       "      <th></th>\n",
       "      <th>city</th>\n",
       "      <th>city_ascii</th>\n",
       "      <th>lat</th>\n",
       "      <th>lng</th>\n",
       "      <th>pop</th>\n",
       "      <th>country</th>\n",
       "      <th>iso2</th>\n",
       "      <th>iso3</th>\n",
       "      <th>province</th>\n",
       "    </tr>\n",
       "  </thead>\n",
       "  <tbody>\n",
       "    <tr>\n",
       "      <th>0</th>\n",
       "      <td>Qal eh-ye Now</td>\n",
       "      <td>Qal eh-ye</td>\n",
       "      <td>34.983000</td>\n",
       "      <td>63.133300</td>\n",
       "      <td>2997.0</td>\n",
       "      <td>Afghanistan</td>\n",
       "      <td>AF</td>\n",
       "      <td>AFG</td>\n",
       "      <td>Badghis</td>\n",
       "    </tr>\n",
       "    <tr>\n",
       "      <th>1</th>\n",
       "      <td>Chaghcharan</td>\n",
       "      <td>Chaghcharan</td>\n",
       "      <td>34.516701</td>\n",
       "      <td>65.250001</td>\n",
       "      <td>15000.0</td>\n",
       "      <td>Afghanistan</td>\n",
       "      <td>AF</td>\n",
       "      <td>AFG</td>\n",
       "      <td>Ghor</td>\n",
       "    </tr>\n",
       "    <tr>\n",
       "      <th>2</th>\n",
       "      <td>Lashkar Gah</td>\n",
       "      <td>Lashkar Gah</td>\n",
       "      <td>31.582998</td>\n",
       "      <td>64.360000</td>\n",
       "      <td>201546.0</td>\n",
       "      <td>Afghanistan</td>\n",
       "      <td>AF</td>\n",
       "      <td>AFG</td>\n",
       "      <td>Hilmand</td>\n",
       "    </tr>\n",
       "    <tr>\n",
       "      <th>3</th>\n",
       "      <td>Zaranj</td>\n",
       "      <td>Zaranj</td>\n",
       "      <td>31.112001</td>\n",
       "      <td>61.886998</td>\n",
       "      <td>49851.0</td>\n",
       "      <td>Afghanistan</td>\n",
       "      <td>AF</td>\n",
       "      <td>AFG</td>\n",
       "      <td>Nimroz</td>\n",
       "    </tr>\n",
       "    <tr>\n",
       "      <th>4</th>\n",
       "      <td>Tarin Kowt</td>\n",
       "      <td>Tarin Kowt</td>\n",
       "      <td>32.633298</td>\n",
       "      <td>65.866699</td>\n",
       "      <td>10000.0</td>\n",
       "      <td>Afghanistan</td>\n",
       "      <td>AF</td>\n",
       "      <td>AFG</td>\n",
       "      <td>Uruzgan</td>\n",
       "    </tr>\n",
       "    <tr>\n",
       "      <th>5</th>\n",
       "      <td>Zareh Sharan</td>\n",
       "      <td>Zareh Sharan</td>\n",
       "      <td>32.850000</td>\n",
       "      <td>68.416705</td>\n",
       "      <td>13737.0</td>\n",
       "      <td>Afghanistan</td>\n",
       "      <td>AF</td>\n",
       "      <td>AFG</td>\n",
       "      <td>Paktika</td>\n",
       "    </tr>\n",
       "    <tr>\n",
       "      <th>6</th>\n",
       "      <td>Asadabad</td>\n",
       "      <td>Asadabad</td>\n",
       "      <td>34.866000</td>\n",
       "      <td>71.150005</td>\n",
       "      <td>48400.0</td>\n",
       "      <td>Afghanistan</td>\n",
       "      <td>AF</td>\n",
       "      <td>AFG</td>\n",
       "      <td>Kunar</td>\n",
       "    </tr>\n",
       "  </tbody>\n",
       "</table>\n",
       "</div>"
      ],
      "text/plain": [
       "            city    city_ascii        lat        lng       pop      country  \\\n",
       "0  Qal eh-ye Now     Qal eh-ye  34.983000  63.133300    2997.0  Afghanistan   \n",
       "1    Chaghcharan   Chaghcharan  34.516701  65.250001   15000.0  Afghanistan   \n",
       "2    Lashkar Gah   Lashkar Gah  31.582998  64.360000  201546.0  Afghanistan   \n",
       "3         Zaranj        Zaranj  31.112001  61.886998   49851.0  Afghanistan   \n",
       "4     Tarin Kowt    Tarin Kowt  32.633298  65.866699   10000.0  Afghanistan   \n",
       "5   Zareh Sharan  Zareh Sharan  32.850000  68.416705   13737.0  Afghanistan   \n",
       "6       Asadabad      Asadabad  34.866000  71.150005   48400.0  Afghanistan   \n",
       "\n",
       "  iso2 iso3 province  \n",
       "0   AF  AFG  Badghis  \n",
       "1   AF  AFG     Ghor  \n",
       "2   AF  AFG  Hilmand  \n",
       "3   AF  AFG   Nimroz  \n",
       "4   AF  AFG  Uruzgan  \n",
       "5   AF  AFG  Paktika  \n",
       "6   AF  AFG    Kunar  "
      ]
     },
     "execution_count": 154,
     "metadata": {},
     "output_type": "execute_result"
    }
   ],
   "source": [
    "city_data[:7] #todas las columnas hasta el 7mo elemento"
   ]
  },
  {
   "cell_type": "code",
   "execution_count": 155,
   "metadata": {
    "colab": {
     "base_uri": "https://localhost:8080/",
     "height": 206
    },
    "executionInfo": {
     "elapsed": 358,
     "status": "ok",
     "timestamp": 1630768939064,
     "user": {
      "displayName": "Julio Rodriguez Martino",
      "photoUrl": "https://lh3.googleusercontent.com/a-/AOh14GjFnG6s_UDbNCdqSpd-m6QHQD9P90aARfhTeS1gIQ=s64",
      "userId": "05816779020109732306"
     },
     "user_tz": 180
    },
    "id": "y8srw-hZMFaF",
    "outputId": "daa43c67-cd92-47b1-9ad6-e00ce1dc6855"
   },
   "outputs": [
    {
     "data": {
      "text/html": [
       "<div>\n",
       "<style scoped>\n",
       "    .dataframe tbody tr th:only-of-type {\n",
       "        vertical-align: middle;\n",
       "    }\n",
       "\n",
       "    .dataframe tbody tr th {\n",
       "        vertical-align: top;\n",
       "    }\n",
       "\n",
       "    .dataframe thead th {\n",
       "        text-align: right;\n",
       "    }\n",
       "</style>\n",
       "<table border=\"1\" class=\"dataframe\">\n",
       "  <thead>\n",
       "    <tr style=\"text-align: right;\">\n",
       "      <th></th>\n",
       "      <th>city</th>\n",
       "      <th>city_ascii</th>\n",
       "      <th>lat</th>\n",
       "      <th>lng</th>\n",
       "    </tr>\n",
       "  </thead>\n",
       "  <tbody>\n",
       "    <tr>\n",
       "      <th>0</th>\n",
       "      <td>Qal eh-ye Now</td>\n",
       "      <td>Qal eh-ye</td>\n",
       "      <td>34.983000</td>\n",
       "      <td>63.133300</td>\n",
       "    </tr>\n",
       "    <tr>\n",
       "      <th>1</th>\n",
       "      <td>Chaghcharan</td>\n",
       "      <td>Chaghcharan</td>\n",
       "      <td>34.516701</td>\n",
       "      <td>65.250001</td>\n",
       "    </tr>\n",
       "    <tr>\n",
       "      <th>2</th>\n",
       "      <td>Lashkar Gah</td>\n",
       "      <td>Lashkar Gah</td>\n",
       "      <td>31.582998</td>\n",
       "      <td>64.360000</td>\n",
       "    </tr>\n",
       "    <tr>\n",
       "      <th>3</th>\n",
       "      <td>Zaranj</td>\n",
       "      <td>Zaranj</td>\n",
       "      <td>31.112001</td>\n",
       "      <td>61.886998</td>\n",
       "    </tr>\n",
       "    <tr>\n",
       "      <th>4</th>\n",
       "      <td>Tarin Kowt</td>\n",
       "      <td>Tarin Kowt</td>\n",
       "      <td>32.633298</td>\n",
       "      <td>65.866699</td>\n",
       "    </tr>\n",
       "  </tbody>\n",
       "</table>\n",
       "</div>"
      ],
      "text/plain": [
       "            city   city_ascii        lat        lng\n",
       "0  Qal eh-ye Now    Qal eh-ye  34.983000  63.133300\n",
       "1    Chaghcharan  Chaghcharan  34.516701  65.250001\n",
       "2    Lashkar Gah  Lashkar Gah  31.582998  64.360000\n",
       "3         Zaranj       Zaranj  31.112001  61.886998\n",
       "4     Tarin Kowt   Tarin Kowt  32.633298  65.866699"
      ]
     },
     "execution_count": 155,
     "metadata": {},
     "output_type": "execute_result"
    }
   ],
   "source": [
    "city_data.iloc[:5,:4] # 5 filas y las 4 primeras columnas"
   ]
  },
  {
   "cell_type": "code",
   "execution_count": 156,
   "metadata": {
    "colab": {
     "base_uri": "https://localhost:8080/",
     "height": 394
    },
    "executionInfo": {
     "elapsed": 1167,
     "status": "ok",
     "timestamp": 1630768947328,
     "user": {
      "displayName": "Julio Rodriguez Martino",
      "photoUrl": "https://lh3.googleusercontent.com/a-/AOh14GjFnG6s_UDbNCdqSpd-m6QHQD9P90aARfhTeS1gIQ=s64",
      "userId": "05816779020109732306"
     },
     "user_tz": 180
    },
    "id": "sYjDWkxkMFaF",
    "outputId": "1e73828b-7d1b-48f3-fa41-0b376c4733d1"
   },
   "outputs": [
    {
     "data": {
      "text/html": [
       "<div>\n",
       "<style scoped>\n",
       "    .dataframe tbody tr th:only-of-type {\n",
       "        vertical-align: middle;\n",
       "    }\n",
       "\n",
       "    .dataframe tbody tr th {\n",
       "        vertical-align: top;\n",
       "    }\n",
       "\n",
       "    .dataframe thead th {\n",
       "        text-align: right;\n",
       "    }\n",
       "</style>\n",
       "<table border=\"1\" class=\"dataframe\">\n",
       "  <thead>\n",
       "    <tr style=\"text-align: right;\">\n",
       "      <th></th>\n",
       "      <th>lat</th>\n",
       "      <th>lng</th>\n",
       "    </tr>\n",
       "  </thead>\n",
       "  <tbody>\n",
       "    <tr>\n",
       "      <th>360</th>\n",
       "      <td>-34.602502</td>\n",
       "      <td>-58.397531</td>\n",
       "    </tr>\n",
       "    <tr>\n",
       "      <th>1171</th>\n",
       "      <td>-23.558680</td>\n",
       "      <td>-46.625020</td>\n",
       "    </tr>\n",
       "    <tr>\n",
       "      <th>2068</th>\n",
       "      <td>31.216452</td>\n",
       "      <td>121.436505</td>\n",
       "    </tr>\n",
       "    <tr>\n",
       "      <th>3098</th>\n",
       "      <td>28.669993</td>\n",
       "      <td>77.230004</td>\n",
       "    </tr>\n",
       "    <tr>\n",
       "      <th>3110</th>\n",
       "      <td>19.016990</td>\n",
       "      <td>72.856989</td>\n",
       "    </tr>\n",
       "    <tr>\n",
       "      <th>3492</th>\n",
       "      <td>35.685017</td>\n",
       "      <td>139.751407</td>\n",
       "    </tr>\n",
       "    <tr>\n",
       "      <th>4074</th>\n",
       "      <td>19.442442</td>\n",
       "      <td>-99.130988</td>\n",
       "    </tr>\n",
       "    <tr>\n",
       "      <th>4513</th>\n",
       "      <td>24.869992</td>\n",
       "      <td>66.990009</td>\n",
       "    </tr>\n",
       "    <tr>\n",
       "      <th>5394</th>\n",
       "      <td>55.752164</td>\n",
       "      <td>37.615523</td>\n",
       "    </tr>\n",
       "    <tr>\n",
       "      <th>6124</th>\n",
       "      <td>41.104996</td>\n",
       "      <td>29.010002</td>\n",
       "    </tr>\n",
       "    <tr>\n",
       "      <th>7071</th>\n",
       "      <td>40.749979</td>\n",
       "      <td>-73.980017</td>\n",
       "    </tr>\n",
       "  </tbody>\n",
       "</table>\n",
       "</div>"
      ],
      "text/plain": [
       "            lat         lng\n",
       "360  -34.602502  -58.397531\n",
       "1171 -23.558680  -46.625020\n",
       "2068  31.216452  121.436505\n",
       "3098  28.669993   77.230004\n",
       "3110  19.016990   72.856989\n",
       "3492  35.685017  139.751407\n",
       "4074  19.442442  -99.130988\n",
       "4513  24.869992   66.990009\n",
       "5394  55.752164   37.615523\n",
       "6124  41.104996   29.010002\n",
       "7071  40.749979  -73.980017"
      ]
     },
     "execution_count": 156,
     "metadata": {},
     "output_type": "execute_result"
    }
   ],
   "source": [
    "city_data[city_data['pop'] > 10000000][city_data.columns[pd.Series(city_data.columns).str.startswith('l')]]\n",
    "# selecciono las columnas que empiezan con l donde la poblacion sea mayor a 10000000 habitantes "
   ]
  },
  {
   "cell_type": "code",
   "execution_count": 157,
   "metadata": {
    "colab": {
     "base_uri": "https://localhost:8080/",
     "height": 394
    },
    "executionInfo": {
     "elapsed": 245,
     "status": "ok",
     "timestamp": 1630769082016,
     "user": {
      "displayName": "Julio Rodriguez Martino",
      "photoUrl": "https://lh3.googleusercontent.com/a-/AOh14GjFnG6s_UDbNCdqSpd-m6QHQD9P90aARfhTeS1gIQ=s64",
      "userId": "05816779020109732306"
     },
     "user_tz": 180
    },
    "id": "vNbmrEjhMFaG",
    "outputId": "504ac757-4ee5-49cd-fe2d-cb0caca7ea4f"
   },
   "outputs": [
    {
     "data": {
      "text/html": [
       "<div>\n",
       "<style scoped>\n",
       "    .dataframe tbody tr th:only-of-type {\n",
       "        vertical-align: middle;\n",
       "    }\n",
       "\n",
       "    .dataframe tbody tr th {\n",
       "        vertical-align: top;\n",
       "    }\n",
       "\n",
       "    .dataframe thead th {\n",
       "        text-align: right;\n",
       "    }\n",
       "</style>\n",
       "<table border=\"1\" class=\"dataframe\">\n",
       "  <thead>\n",
       "    <tr style=\"text-align: right;\">\n",
       "      <th></th>\n",
       "      <th>city</th>\n",
       "      <th>city_ascii</th>\n",
       "      <th>lat</th>\n",
       "      <th>lng</th>\n",
       "      <th>pop</th>\n",
       "      <th>country</th>\n",
       "      <th>iso2</th>\n",
       "      <th>iso3</th>\n",
       "      <th>province</th>\n",
       "    </tr>\n",
       "  </thead>\n",
       "  <tbody>\n",
       "    <tr>\n",
       "      <th>360</th>\n",
       "      <td>Buenos Aires</td>\n",
       "      <td>Buenos Aires</td>\n",
       "      <td>-34.602502</td>\n",
       "      <td>-58.397531</td>\n",
       "      <td>11862073.0</td>\n",
       "      <td>Argentina</td>\n",
       "      <td>AR</td>\n",
       "      <td>ARG</td>\n",
       "      <td>Ciudad de Buenos Aires</td>\n",
       "    </tr>\n",
       "    <tr>\n",
       "      <th>1171</th>\n",
       "      <td>Sao Paulo</td>\n",
       "      <td>Sao Paulo</td>\n",
       "      <td>-23.558680</td>\n",
       "      <td>-46.625020</td>\n",
       "      <td>14433147.5</td>\n",
       "      <td>Brazil</td>\n",
       "      <td>BR</td>\n",
       "      <td>BRA</td>\n",
       "      <td>São Paulo</td>\n",
       "    </tr>\n",
       "    <tr>\n",
       "      <th>2068</th>\n",
       "      <td>Shanghai</td>\n",
       "      <td>Shanghai</td>\n",
       "      <td>31.216452</td>\n",
       "      <td>121.436505</td>\n",
       "      <td>14797756.0</td>\n",
       "      <td>China</td>\n",
       "      <td>CN</td>\n",
       "      <td>CHN</td>\n",
       "      <td>Shanghai</td>\n",
       "    </tr>\n",
       "    <tr>\n",
       "      <th>3098</th>\n",
       "      <td>Delhi</td>\n",
       "      <td>Delhi</td>\n",
       "      <td>28.669993</td>\n",
       "      <td>77.230004</td>\n",
       "      <td>11779606.5</td>\n",
       "      <td>India</td>\n",
       "      <td>IN</td>\n",
       "      <td>IND</td>\n",
       "      <td>Delhi</td>\n",
       "    </tr>\n",
       "    <tr>\n",
       "      <th>3110</th>\n",
       "      <td>Mumbai</td>\n",
       "      <td>Mumbai</td>\n",
       "      <td>19.016990</td>\n",
       "      <td>72.856989</td>\n",
       "      <td>15834918.0</td>\n",
       "      <td>India</td>\n",
       "      <td>IN</td>\n",
       "      <td>IND</td>\n",
       "      <td>Maharashtra</td>\n",
       "    </tr>\n",
       "    <tr>\n",
       "      <th>3492</th>\n",
       "      <td>Tokyo</td>\n",
       "      <td>Tokyo</td>\n",
       "      <td>35.685017</td>\n",
       "      <td>139.751407</td>\n",
       "      <td>22006299.5</td>\n",
       "      <td>Japan</td>\n",
       "      <td>JP</td>\n",
       "      <td>JPN</td>\n",
       "      <td>Tokyo</td>\n",
       "    </tr>\n",
       "    <tr>\n",
       "      <th>4074</th>\n",
       "      <td>Mexico City</td>\n",
       "      <td>Mexico City</td>\n",
       "      <td>19.442442</td>\n",
       "      <td>-99.130988</td>\n",
       "      <td>14919501.0</td>\n",
       "      <td>Mexico</td>\n",
       "      <td>MX</td>\n",
       "      <td>MEX</td>\n",
       "      <td>Distrito Federal</td>\n",
       "    </tr>\n",
       "    <tr>\n",
       "      <th>4513</th>\n",
       "      <td>Karachi</td>\n",
       "      <td>Karachi</td>\n",
       "      <td>24.869992</td>\n",
       "      <td>66.990009</td>\n",
       "      <td>11877109.5</td>\n",
       "      <td>Pakistan</td>\n",
       "      <td>PK</td>\n",
       "      <td>PAK</td>\n",
       "      <td>Sind</td>\n",
       "    </tr>\n",
       "    <tr>\n",
       "      <th>5394</th>\n",
       "      <td>Moscow</td>\n",
       "      <td>Moscow</td>\n",
       "      <td>55.752164</td>\n",
       "      <td>37.615523</td>\n",
       "      <td>10452000.0</td>\n",
       "      <td>Russia</td>\n",
       "      <td>RU</td>\n",
       "      <td>RUS</td>\n",
       "      <td>Moskva</td>\n",
       "    </tr>\n",
       "    <tr>\n",
       "      <th>6124</th>\n",
       "      <td>Istanbul</td>\n",
       "      <td>Istanbul</td>\n",
       "      <td>41.104996</td>\n",
       "      <td>29.010002</td>\n",
       "      <td>10003305.0</td>\n",
       "      <td>Turkey</td>\n",
       "      <td>TR</td>\n",
       "      <td>TUR</td>\n",
       "      <td>Istanbul</td>\n",
       "    </tr>\n",
       "    <tr>\n",
       "      <th>7071</th>\n",
       "      <td>New York</td>\n",
       "      <td>New York</td>\n",
       "      <td>40.749979</td>\n",
       "      <td>-73.980017</td>\n",
       "      <td>13524139.0</td>\n",
       "      <td>United States of America</td>\n",
       "      <td>US</td>\n",
       "      <td>USA</td>\n",
       "      <td>New York</td>\n",
       "    </tr>\n",
       "  </tbody>\n",
       "</table>\n",
       "</div>"
      ],
      "text/plain": [
       "              city    city_ascii        lat         lng         pop  \\\n",
       "360   Buenos Aires  Buenos Aires -34.602502  -58.397531  11862073.0   \n",
       "1171     Sao Paulo     Sao Paulo -23.558680  -46.625020  14433147.5   \n",
       "2068      Shanghai      Shanghai  31.216452  121.436505  14797756.0   \n",
       "3098         Delhi         Delhi  28.669993   77.230004  11779606.5   \n",
       "3110        Mumbai        Mumbai  19.016990   72.856989  15834918.0   \n",
       "3492         Tokyo         Tokyo  35.685017  139.751407  22006299.5   \n",
       "4074   Mexico City   Mexico City  19.442442  -99.130988  14919501.0   \n",
       "4513       Karachi       Karachi  24.869992   66.990009  11877109.5   \n",
       "5394        Moscow        Moscow  55.752164   37.615523  10452000.0   \n",
       "6124      Istanbul      Istanbul  41.104996   29.010002  10003305.0   \n",
       "7071      New York      New York  40.749979  -73.980017  13524139.0   \n",
       "\n",
       "                       country iso2 iso3                province  \n",
       "360                  Argentina   AR  ARG  Ciudad de Buenos Aires  \n",
       "1171                    Brazil   BR  BRA               São Paulo  \n",
       "2068                     China   CN  CHN                Shanghai  \n",
       "3098                     India   IN  IND                   Delhi  \n",
       "3110                     India   IN  IND             Maharashtra  \n",
       "3492                     Japan   JP  JPN                   Tokyo  \n",
       "4074                    Mexico   MX  MEX        Distrito Federal  \n",
       "4513                  Pakistan   PK  PAK                    Sind  \n",
       "5394                    Russia   RU  RUS                  Moskva  \n",
       "6124                    Turkey   TR  TUR                Istanbul  \n",
       "7071  United States of America   US  USA                New York  "
      ]
     },
     "execution_count": 157,
     "metadata": {},
     "output_type": "execute_result"
    }
   ],
   "source": [
    "city_greater_10mil = city_data[city_data['pop'] > 10000000]\n",
    "city_greater_10mil"
   ]
  },
  {
   "cell_type": "code",
   "execution_count": 158,
   "metadata": {
    "colab": {
     "base_uri": "https://localhost:8080/"
    },
    "executionInfo": {
     "elapsed": 256,
     "status": "ok",
     "timestamp": 1630769101816,
     "user": {
      "displayName": "Julio Rodriguez Martino",
      "photoUrl": "https://lh3.googleusercontent.com/a-/AOh14GjFnG6s_UDbNCdqSpd-m6QHQD9P90aARfhTeS1gIQ=s64",
      "userId": "05816779020109732306"
     },
     "user_tz": 180
    },
    "id": "2bq9ukF-aLxl",
    "outputId": "beb69510-05ea-4975-9779-ad13a1cd8f17"
   },
   "outputs": [
    {
     "name": "stderr",
     "output_type": "stream",
     "text": [
      "C:\\Users\\carlos\\AppData\\Local\\Temp\\ipykernel_22420\\1069009551.py:1: SettingWithCopyWarning: \n",
      "A value is trying to be set on a copy of a slice from a DataFrame\n",
      "\n",
      "See the caveats in the documentation: https://pandas.pydata.org/pandas-docs/stable/user_guide/indexing.html#returning-a-view-versus-a-copy\n",
      "  city_greater_10mil.rename(columns={'pop':'population'}, inplace=True)\n"
     ]
    }
   ],
   "source": [
    "city_greater_10mil.rename(columns={'pop':'population'}, inplace=True)\n",
    "# con implace modifico el dataset original"
   ]
  },
  {
   "cell_type": "code",
   "execution_count": 159,
   "metadata": {
    "colab": {
     "base_uri": "https://localhost:8080/",
     "height": 394
    },
    "executionInfo": {
     "elapsed": 257,
     "status": "ok",
     "timestamp": 1630769138778,
     "user": {
      "displayName": "Julio Rodriguez Martino",
      "photoUrl": "https://lh3.googleusercontent.com/a-/AOh14GjFnG6s_UDbNCdqSpd-m6QHQD9P90aARfhTeS1gIQ=s64",
      "userId": "05816779020109732306"
     },
     "user_tz": 180
    },
    "id": "asf9Y-rSaasM",
    "outputId": "ffc0d149-b27f-45f4-c844-20b6a3fa4923"
   },
   "outputs": [
    {
     "data": {
      "text/html": [
       "<div>\n",
       "<style scoped>\n",
       "    .dataframe tbody tr th:only-of-type {\n",
       "        vertical-align: middle;\n",
       "    }\n",
       "\n",
       "    .dataframe tbody tr th {\n",
       "        vertical-align: top;\n",
       "    }\n",
       "\n",
       "    .dataframe thead th {\n",
       "        text-align: right;\n",
       "    }\n",
       "</style>\n",
       "<table border=\"1\" class=\"dataframe\">\n",
       "  <thead>\n",
       "    <tr style=\"text-align: right;\">\n",
       "      <th></th>\n",
       "      <th>city</th>\n",
       "      <th>city_ascii</th>\n",
       "      <th>lat</th>\n",
       "      <th>lng</th>\n",
       "      <th>population</th>\n",
       "      <th>country</th>\n",
       "      <th>iso2</th>\n",
       "      <th>iso3</th>\n",
       "      <th>province</th>\n",
       "    </tr>\n",
       "  </thead>\n",
       "  <tbody>\n",
       "    <tr>\n",
       "      <th>360</th>\n",
       "      <td>NaN</td>\n",
       "      <td>NaN</td>\n",
       "      <td>NaN</td>\n",
       "      <td>NaN</td>\n",
       "      <td>NaN</td>\n",
       "      <td>NaN</td>\n",
       "      <td>NaN</td>\n",
       "      <td>NaN</td>\n",
       "      <td>NaN</td>\n",
       "    </tr>\n",
       "    <tr>\n",
       "      <th>1171</th>\n",
       "      <td>NaN</td>\n",
       "      <td>NaN</td>\n",
       "      <td>NaN</td>\n",
       "      <td>NaN</td>\n",
       "      <td>NaN</td>\n",
       "      <td>NaN</td>\n",
       "      <td>NaN</td>\n",
       "      <td>NaN</td>\n",
       "      <td>NaN</td>\n",
       "    </tr>\n",
       "    <tr>\n",
       "      <th>2068</th>\n",
       "      <td>NaN</td>\n",
       "      <td>NaN</td>\n",
       "      <td>NaN</td>\n",
       "      <td>NaN</td>\n",
       "      <td>NaN</td>\n",
       "      <td>NaN</td>\n",
       "      <td>NaN</td>\n",
       "      <td>NaN</td>\n",
       "      <td>NaN</td>\n",
       "    </tr>\n",
       "    <tr>\n",
       "      <th>3098</th>\n",
       "      <td>NaN</td>\n",
       "      <td>NaN</td>\n",
       "      <td>NaN</td>\n",
       "      <td>NaN</td>\n",
       "      <td>NaN</td>\n",
       "      <td>NaN</td>\n",
       "      <td>NaN</td>\n",
       "      <td>NaN</td>\n",
       "      <td>NaN</td>\n",
       "    </tr>\n",
       "    <tr>\n",
       "      <th>3110</th>\n",
       "      <td>Mumbai</td>\n",
       "      <td>Mumbai</td>\n",
       "      <td>19.016990</td>\n",
       "      <td>72.856989</td>\n",
       "      <td>15834918.0</td>\n",
       "      <td>India</td>\n",
       "      <td>IN</td>\n",
       "      <td>IND</td>\n",
       "      <td>Maharashtra</td>\n",
       "    </tr>\n",
       "    <tr>\n",
       "      <th>3492</th>\n",
       "      <td>Tokyo</td>\n",
       "      <td>Tokyo</td>\n",
       "      <td>35.685017</td>\n",
       "      <td>139.751407</td>\n",
       "      <td>22006299.5</td>\n",
       "      <td>Japan</td>\n",
       "      <td>JP</td>\n",
       "      <td>JPN</td>\n",
       "      <td>Tokyo</td>\n",
       "    </tr>\n",
       "    <tr>\n",
       "      <th>4074</th>\n",
       "      <td>NaN</td>\n",
       "      <td>NaN</td>\n",
       "      <td>NaN</td>\n",
       "      <td>NaN</td>\n",
       "      <td>NaN</td>\n",
       "      <td>NaN</td>\n",
       "      <td>NaN</td>\n",
       "      <td>NaN</td>\n",
       "      <td>NaN</td>\n",
       "    </tr>\n",
       "    <tr>\n",
       "      <th>4513</th>\n",
       "      <td>NaN</td>\n",
       "      <td>NaN</td>\n",
       "      <td>NaN</td>\n",
       "      <td>NaN</td>\n",
       "      <td>NaN</td>\n",
       "      <td>NaN</td>\n",
       "      <td>NaN</td>\n",
       "      <td>NaN</td>\n",
       "      <td>NaN</td>\n",
       "    </tr>\n",
       "    <tr>\n",
       "      <th>5394</th>\n",
       "      <td>NaN</td>\n",
       "      <td>NaN</td>\n",
       "      <td>NaN</td>\n",
       "      <td>NaN</td>\n",
       "      <td>NaN</td>\n",
       "      <td>NaN</td>\n",
       "      <td>NaN</td>\n",
       "      <td>NaN</td>\n",
       "      <td>NaN</td>\n",
       "    </tr>\n",
       "    <tr>\n",
       "      <th>6124</th>\n",
       "      <td>NaN</td>\n",
       "      <td>NaN</td>\n",
       "      <td>NaN</td>\n",
       "      <td>NaN</td>\n",
       "      <td>NaN</td>\n",
       "      <td>NaN</td>\n",
       "      <td>NaN</td>\n",
       "      <td>NaN</td>\n",
       "      <td>NaN</td>\n",
       "    </tr>\n",
       "    <tr>\n",
       "      <th>7071</th>\n",
       "      <td>NaN</td>\n",
       "      <td>NaN</td>\n",
       "      <td>NaN</td>\n",
       "      <td>NaN</td>\n",
       "      <td>NaN</td>\n",
       "      <td>NaN</td>\n",
       "      <td>NaN</td>\n",
       "      <td>NaN</td>\n",
       "      <td>NaN</td>\n",
       "    </tr>\n",
       "  </tbody>\n",
       "</table>\n",
       "</div>"
      ],
      "text/plain": [
       "        city city_ascii        lat         lng  population country iso2 iso3  \\\n",
       "360      NaN        NaN        NaN         NaN         NaN     NaN  NaN  NaN   \n",
       "1171     NaN        NaN        NaN         NaN         NaN     NaN  NaN  NaN   \n",
       "2068     NaN        NaN        NaN         NaN         NaN     NaN  NaN  NaN   \n",
       "3098     NaN        NaN        NaN         NaN         NaN     NaN  NaN  NaN   \n",
       "3110  Mumbai     Mumbai  19.016990   72.856989  15834918.0   India   IN  IND   \n",
       "3492   Tokyo      Tokyo  35.685017  139.751407  22006299.5   Japan   JP  JPN   \n",
       "4074     NaN        NaN        NaN         NaN         NaN     NaN  NaN  NaN   \n",
       "4513     NaN        NaN        NaN         NaN         NaN     NaN  NaN  NaN   \n",
       "5394     NaN        NaN        NaN         NaN         NaN     NaN  NaN  NaN   \n",
       "6124     NaN        NaN        NaN         NaN         NaN     NaN  NaN  NaN   \n",
       "7071     NaN        NaN        NaN         NaN         NaN     NaN  NaN  NaN   \n",
       "\n",
       "         province  \n",
       "360           NaN  \n",
       "1171          NaN  \n",
       "2068          NaN  \n",
       "3098          NaN  \n",
       "3110  Maharashtra  \n",
       "3492        Tokyo  \n",
       "4074          NaN  \n",
       "4513          NaN  \n",
       "5394          NaN  \n",
       "6124          NaN  \n",
       "7071          NaN  "
      ]
     },
     "execution_count": 159,
     "metadata": {},
     "output_type": "execute_result"
    }
   ],
   "source": [
    "city_greater_10mil.where(city_greater_10mil.population > 15000000)\n",
    "#cuando no es mayor a 15M me devuelve NAN"
   ]
  },
  {
   "cell_type": "code",
   "execution_count": 160,
   "metadata": {},
   "outputs": [
    {
     "data": {
      "text/html": [
       "<div>\n",
       "<style scoped>\n",
       "    .dataframe tbody tr th:only-of-type {\n",
       "        vertical-align: middle;\n",
       "    }\n",
       "\n",
       "    .dataframe tbody tr th {\n",
       "        vertical-align: top;\n",
       "    }\n",
       "\n",
       "    .dataframe thead th {\n",
       "        text-align: right;\n",
       "    }\n",
       "</style>\n",
       "<table border=\"1\" class=\"dataframe\">\n",
       "  <thead>\n",
       "    <tr style=\"text-align: right;\">\n",
       "      <th></th>\n",
       "      <th>city</th>\n",
       "      <th>city_ascii</th>\n",
       "      <th>lat</th>\n",
       "      <th>lng</th>\n",
       "      <th>population</th>\n",
       "      <th>country</th>\n",
       "      <th>iso2</th>\n",
       "      <th>iso3</th>\n",
       "      <th>province</th>\n",
       "    </tr>\n",
       "  </thead>\n",
       "  <tbody>\n",
       "    <tr>\n",
       "      <th>3110</th>\n",
       "      <td>Mumbai</td>\n",
       "      <td>Mumbai</td>\n",
       "      <td>19.016990</td>\n",
       "      <td>72.856989</td>\n",
       "      <td>15834918.0</td>\n",
       "      <td>India</td>\n",
       "      <td>IN</td>\n",
       "      <td>IND</td>\n",
       "      <td>Maharashtra</td>\n",
       "    </tr>\n",
       "    <tr>\n",
       "      <th>3492</th>\n",
       "      <td>Tokyo</td>\n",
       "      <td>Tokyo</td>\n",
       "      <td>35.685017</td>\n",
       "      <td>139.751407</td>\n",
       "      <td>22006299.5</td>\n",
       "      <td>Japan</td>\n",
       "      <td>JP</td>\n",
       "      <td>JPN</td>\n",
       "      <td>Tokyo</td>\n",
       "    </tr>\n",
       "  </tbody>\n",
       "</table>\n",
       "</div>"
      ],
      "text/plain": [
       "        city city_ascii        lat         lng  population country iso2 iso3  \\\n",
       "3110  Mumbai     Mumbai  19.016990   72.856989  15834918.0   India   IN  IND   \n",
       "3492   Tokyo      Tokyo  35.685017  139.751407  22006299.5   Japan   JP  JPN   \n",
       "\n",
       "         province  \n",
       "3110  Maharashtra  \n",
       "3492        Tokyo  "
      ]
     },
     "execution_count": 160,
     "metadata": {},
     "output_type": "execute_result"
    }
   ],
   "source": [
    "city_greater_10mil[city_greater_10mil.population > 15000000] # solo me devuelve las que me interesan"
   ]
  },
  {
   "cell_type": "markdown",
   "metadata": {
    "id": "j5ZeHuisMFaG"
   },
   "source": [
    "### Operaciones sobre dataframes"
   ]
  },
  {
   "cell_type": "code",
   "execution_count": 161,
   "metadata": {
    "id": "ASoEEdjJMFaG"
   },
   "outputs": [],
   "source": [
    "df = pd.DataFrame(np.random.randn(8, 3),\n",
    "columns=['A', 'B', 'C'])"
   ]
  },
  {
   "cell_type": "code",
   "execution_count": 162,
   "metadata": {
    "colab": {
     "base_uri": "https://localhost:8080/"
    },
    "executionInfo": {
     "elapsed": 296,
     "status": "ok",
     "timestamp": 1630769185041,
     "user": {
      "displayName": "Julio Rodriguez Martino",
      "photoUrl": "https://lh3.googleusercontent.com/a-/AOh14GjFnG6s_UDbNCdqSpd-m6QHQD9P90aARfhTeS1gIQ=s64",
      "userId": "05816779020109732306"
     },
     "user_tz": 180
    },
    "id": "EmF4h-3WMFaG",
    "outputId": "36300e8d-9bb8-438b-a8e1-a3e75edffb07"
   },
   "outputs": [
    {
     "data": {
      "text/plain": [
       "numpy.ndarray"
      ]
     },
     "execution_count": 162,
     "metadata": {},
     "output_type": "execute_result"
    }
   ],
   "source": [
    "nparray = df.values # los valores del dataframe los puedo convertir en un array, hacer operaciones y volverlo a meter en un dataframe\n",
    "type(nparray)"
   ]
  },
  {
   "cell_type": "code",
   "execution_count": 163,
   "metadata": {},
   "outputs": [
    {
     "data": {
      "text/html": [
       "<div>\n",
       "<style scoped>\n",
       "    .dataframe tbody tr th:only-of-type {\n",
       "        vertical-align: middle;\n",
       "    }\n",
       "\n",
       "    .dataframe tbody tr th {\n",
       "        vertical-align: top;\n",
       "    }\n",
       "\n",
       "    .dataframe thead th {\n",
       "        text-align: right;\n",
       "    }\n",
       "</style>\n",
       "<table border=\"1\" class=\"dataframe\">\n",
       "  <thead>\n",
       "    <tr style=\"text-align: right;\">\n",
       "      <th></th>\n",
       "      <th>A</th>\n",
       "      <th>B</th>\n",
       "      <th>C</th>\n",
       "    </tr>\n",
       "  </thead>\n",
       "  <tbody>\n",
       "    <tr>\n",
       "      <th>0</th>\n",
       "      <td>-0.693670</td>\n",
       "      <td>0.236564</td>\n",
       "      <td>2.062386</td>\n",
       "    </tr>\n",
       "    <tr>\n",
       "      <th>1</th>\n",
       "      <td>-0.004486</td>\n",
       "      <td>0.869050</td>\n",
       "      <td>-1.837513</td>\n",
       "    </tr>\n",
       "    <tr>\n",
       "      <th>2</th>\n",
       "      <td>-1.573256</td>\n",
       "      <td>-0.024910</td>\n",
       "      <td>0.651718</td>\n",
       "    </tr>\n",
       "    <tr>\n",
       "      <th>3</th>\n",
       "      <td>2.106830</td>\n",
       "      <td>0.588231</td>\n",
       "      <td>0.513573</td>\n",
       "    </tr>\n",
       "    <tr>\n",
       "      <th>4</th>\n",
       "      <td>0.398093</td>\n",
       "      <td>-1.297165</td>\n",
       "      <td>0.041006</td>\n",
       "    </tr>\n",
       "    <tr>\n",
       "      <th>5</th>\n",
       "      <td>-0.281750</td>\n",
       "      <td>-0.312493</td>\n",
       "      <td>1.139094</td>\n",
       "    </tr>\n",
       "    <tr>\n",
       "      <th>6</th>\n",
       "      <td>0.324952</td>\n",
       "      <td>0.361828</td>\n",
       "      <td>0.592348</td>\n",
       "    </tr>\n",
       "    <tr>\n",
       "      <th>7</th>\n",
       "      <td>0.297024</td>\n",
       "      <td>0.196043</td>\n",
       "      <td>-0.064191</td>\n",
       "    </tr>\n",
       "  </tbody>\n",
       "</table>\n",
       "</div>"
      ],
      "text/plain": [
       "          A         B         C\n",
       "0 -0.693670  0.236564  2.062386\n",
       "1 -0.004486  0.869050 -1.837513\n",
       "2 -1.573256 -0.024910  0.651718\n",
       "3  2.106830  0.588231  0.513573\n",
       "4  0.398093 -1.297165  0.041006\n",
       "5 -0.281750 -0.312493  1.139094\n",
       "6  0.324952  0.361828  0.592348\n",
       "7  0.297024  0.196043 -0.064191"
      ]
     },
     "execution_count": 163,
     "metadata": {},
     "output_type": "execute_result"
    }
   ],
   "source": [
    "df"
   ]
  },
  {
   "cell_type": "code",
   "execution_count": 164,
   "metadata": {
    "id": "VQSqw6L-MFaG"
   },
   "outputs": [],
   "source": [
    "from numpy import nan\n",
    "df.iloc[4,2] = nan  # reemplazo por nan"
   ]
  },
  {
   "cell_type": "code",
   "execution_count": 165,
   "metadata": {
    "colab": {
     "base_uri": "https://localhost:8080/",
     "height": 300
    },
    "executionInfo": {
     "elapsed": 246,
     "status": "ok",
     "timestamp": 1630769191796,
     "user": {
      "displayName": "Julio Rodriguez Martino",
      "photoUrl": "https://lh3.googleusercontent.com/a-/AOh14GjFnG6s_UDbNCdqSpd-m6QHQD9P90aARfhTeS1gIQ=s64",
      "userId": "05816779020109732306"
     },
     "user_tz": 180
    },
    "id": "3vNvdCmxMFaH",
    "outputId": "d301cc26-3507-4575-9961-dfad3be309e3"
   },
   "outputs": [
    {
     "data": {
      "text/html": [
       "<div>\n",
       "<style scoped>\n",
       "    .dataframe tbody tr th:only-of-type {\n",
       "        vertical-align: middle;\n",
       "    }\n",
       "\n",
       "    .dataframe tbody tr th {\n",
       "        vertical-align: top;\n",
       "    }\n",
       "\n",
       "    .dataframe thead th {\n",
       "        text-align: right;\n",
       "    }\n",
       "</style>\n",
       "<table border=\"1\" class=\"dataframe\">\n",
       "  <thead>\n",
       "    <tr style=\"text-align: right;\">\n",
       "      <th></th>\n",
       "      <th>A</th>\n",
       "      <th>B</th>\n",
       "      <th>C</th>\n",
       "    </tr>\n",
       "  </thead>\n",
       "  <tbody>\n",
       "    <tr>\n",
       "      <th>0</th>\n",
       "      <td>-0.693670</td>\n",
       "      <td>0.236564</td>\n",
       "      <td>2.062386</td>\n",
       "    </tr>\n",
       "    <tr>\n",
       "      <th>1</th>\n",
       "      <td>-0.004486</td>\n",
       "      <td>0.869050</td>\n",
       "      <td>-1.837513</td>\n",
       "    </tr>\n",
       "    <tr>\n",
       "      <th>2</th>\n",
       "      <td>-1.573256</td>\n",
       "      <td>-0.024910</td>\n",
       "      <td>0.651718</td>\n",
       "    </tr>\n",
       "    <tr>\n",
       "      <th>3</th>\n",
       "      <td>2.106830</td>\n",
       "      <td>0.588231</td>\n",
       "      <td>0.513573</td>\n",
       "    </tr>\n",
       "    <tr>\n",
       "      <th>4</th>\n",
       "      <td>0.398093</td>\n",
       "      <td>-1.297165</td>\n",
       "      <td>NaN</td>\n",
       "    </tr>\n",
       "    <tr>\n",
       "      <th>5</th>\n",
       "      <td>-0.281750</td>\n",
       "      <td>-0.312493</td>\n",
       "      <td>1.139094</td>\n",
       "    </tr>\n",
       "    <tr>\n",
       "      <th>6</th>\n",
       "      <td>0.324952</td>\n",
       "      <td>0.361828</td>\n",
       "      <td>0.592348</td>\n",
       "    </tr>\n",
       "    <tr>\n",
       "      <th>7</th>\n",
       "      <td>0.297024</td>\n",
       "      <td>0.196043</td>\n",
       "      <td>-0.064191</td>\n",
       "    </tr>\n",
       "  </tbody>\n",
       "</table>\n",
       "</div>"
      ],
      "text/plain": [
       "          A         B         C\n",
       "0 -0.693670  0.236564  2.062386\n",
       "1 -0.004486  0.869050 -1.837513\n",
       "2 -1.573256 -0.024910  0.651718\n",
       "3  2.106830  0.588231  0.513573\n",
       "4  0.398093 -1.297165       NaN\n",
       "5 -0.281750 -0.312493  1.139094\n",
       "6  0.324952  0.361828  0.592348\n",
       "7  0.297024  0.196043 -0.064191"
      ]
     },
     "execution_count": 165,
     "metadata": {},
     "output_type": "execute_result"
    }
   ],
   "source": [
    "df"
   ]
  },
  {
   "cell_type": "code",
   "execution_count": 166,
   "metadata": {
    "colab": {
     "base_uri": "https://localhost:8080/",
     "height": 300
    },
    "executionInfo": {
     "elapsed": 318,
     "status": "ok",
     "timestamp": 1630769197313,
     "user": {
      "displayName": "Julio Rodriguez Martino",
      "photoUrl": "https://lh3.googleusercontent.com/a-/AOh14GjFnG6s_UDbNCdqSpd-m6QHQD9P90aARfhTeS1gIQ=s64",
      "userId": "05816779020109732306"
     },
     "user_tz": 180
    },
    "id": "Z6nppCdvMFaH",
    "outputId": "e3436bbd-fff6-494e-fdd5-524eb301613e"
   },
   "outputs": [
    {
     "data": {
      "text/html": [
       "<div>\n",
       "<style scoped>\n",
       "    .dataframe tbody tr th:only-of-type {\n",
       "        vertical-align: middle;\n",
       "    }\n",
       "\n",
       "    .dataframe tbody tr th {\n",
       "        vertical-align: top;\n",
       "    }\n",
       "\n",
       "    .dataframe thead th {\n",
       "        text-align: right;\n",
       "    }\n",
       "</style>\n",
       "<table border=\"1\" class=\"dataframe\">\n",
       "  <thead>\n",
       "    <tr style=\"text-align: right;\">\n",
       "      <th></th>\n",
       "      <th>A</th>\n",
       "      <th>B</th>\n",
       "      <th>C</th>\n",
       "    </tr>\n",
       "  </thead>\n",
       "  <tbody>\n",
       "    <tr>\n",
       "      <th>0</th>\n",
       "      <td>-0.693670</td>\n",
       "      <td>0.236564</td>\n",
       "      <td>2.062386</td>\n",
       "    </tr>\n",
       "    <tr>\n",
       "      <th>1</th>\n",
       "      <td>-0.004486</td>\n",
       "      <td>0.869050</td>\n",
       "      <td>-1.837513</td>\n",
       "    </tr>\n",
       "    <tr>\n",
       "      <th>2</th>\n",
       "      <td>-1.573256</td>\n",
       "      <td>-0.024910</td>\n",
       "      <td>0.651718</td>\n",
       "    </tr>\n",
       "    <tr>\n",
       "      <th>3</th>\n",
       "      <td>2.106830</td>\n",
       "      <td>0.588231</td>\n",
       "      <td>0.513573</td>\n",
       "    </tr>\n",
       "    <tr>\n",
       "      <th>4</th>\n",
       "      <td>0.398093</td>\n",
       "      <td>-1.297165</td>\n",
       "      <td>0.000000</td>\n",
       "    </tr>\n",
       "    <tr>\n",
       "      <th>5</th>\n",
       "      <td>-0.281750</td>\n",
       "      <td>-0.312493</td>\n",
       "      <td>1.139094</td>\n",
       "    </tr>\n",
       "    <tr>\n",
       "      <th>6</th>\n",
       "      <td>0.324952</td>\n",
       "      <td>0.361828</td>\n",
       "      <td>0.592348</td>\n",
       "    </tr>\n",
       "    <tr>\n",
       "      <th>7</th>\n",
       "      <td>0.297024</td>\n",
       "      <td>0.196043</td>\n",
       "      <td>-0.064191</td>\n",
       "    </tr>\n",
       "  </tbody>\n",
       "</table>\n",
       "</div>"
      ],
      "text/plain": [
       "          A         B         C\n",
       "0 -0.693670  0.236564  2.062386\n",
       "1 -0.004486  0.869050 -1.837513\n",
       "2 -1.573256 -0.024910  0.651718\n",
       "3  2.106830  0.588231  0.513573\n",
       "4  0.398093 -1.297165  0.000000\n",
       "5 -0.281750 -0.312493  1.139094\n",
       "6  0.324952  0.361828  0.592348\n",
       "7  0.297024  0.196043 -0.064191"
      ]
     },
     "execution_count": 166,
     "metadata": {},
     "output_type": "execute_result"
    }
   ],
   "source": [
    "df.fillna(0)"
   ]
  },
  {
   "cell_type": "code",
   "execution_count": 167,
   "metadata": {
    "id": "4CyMGDbKMFaH"
   },
   "outputs": [],
   "source": [
    "columns_numeric = ['lat','lng','pop']"
   ]
  },
  {
   "cell_type": "code",
   "execution_count": 168,
   "metadata": {
    "colab": {
     "base_uri": "https://localhost:8080/"
    },
    "executionInfo": {
     "elapsed": 247,
     "status": "ok",
     "timestamp": 1630769207104,
     "user": {
      "displayName": "Julio Rodriguez Martino",
      "photoUrl": "https://lh3.googleusercontent.com/a-/AOh14GjFnG6s_UDbNCdqSpd-m6QHQD9P90aARfhTeS1gIQ=s64",
      "userId": "05816779020109732306"
     },
     "user_tz": 180
    },
    "id": "Wt-cYxu_MFaH",
    "outputId": "968e9c17-210b-4b77-886a-192ac990627a"
   },
   "outputs": [
    {
     "data": {
      "text/plain": [
       "lat        20.662876\n",
       "lng        10.711914\n",
       "pop    265463.071633\n",
       "dtype: float64"
      ]
     },
     "execution_count": 168,
     "metadata": {},
     "output_type": "execute_result"
    }
   ],
   "source": [
    "city_data[columns_numeric].mean()"
   ]
  },
  {
   "cell_type": "code",
   "execution_count": 169,
   "metadata": {
    "colab": {
     "base_uri": "https://localhost:8080/"
    },
    "executionInfo": {
     "elapsed": 244,
     "status": "ok",
     "timestamp": 1630769213300,
     "user": {
      "displayName": "Julio Rodriguez Martino",
      "photoUrl": "https://lh3.googleusercontent.com/a-/AOh14GjFnG6s_UDbNCdqSpd-m6QHQD9P90aARfhTeS1gIQ=s64",
      "userId": "05816779020109732306"
     },
     "user_tz": 180
    },
    "id": "djJYW5I6MFaH",
    "outputId": "096d8fa6-5d0c-424b-b417-b1f1e8ccb2fe"
   },
   "outputs": [
    {
     "data": {
      "text/plain": [
       "lat    1.512936e+05\n",
       "lng    7.843263e+04\n",
       "pop    1.943721e+09\n",
       "dtype: float64"
      ]
     },
     "execution_count": 169,
     "metadata": {},
     "output_type": "execute_result"
    }
   ],
   "source": [
    "city_data[columns_numeric].sum()"
   ]
  },
  {
   "cell_type": "code",
   "execution_count": 170,
   "metadata": {
    "colab": {
     "base_uri": "https://localhost:8080/"
    },
    "executionInfo": {
     "elapsed": 243,
     "status": "ok",
     "timestamp": 1630769221327,
     "user": {
      "displayName": "Julio Rodriguez Martino",
      "photoUrl": "https://lh3.googleusercontent.com/a-/AOh14GjFnG6s_UDbNCdqSpd-m6QHQD9P90aARfhTeS1gIQ=s64",
      "userId": "05816779020109732306"
     },
     "user_tz": 180
    },
    "id": "Xfypy7slMFaI",
    "outputId": "f6c4bd9c-f56b-49f7-89d0-d507581cfbb3"
   },
   "outputs": [
    {
     "data": {
      "text/plain": [
       "lat    7322\n",
       "lng    7322\n",
       "pop    7322\n",
       "dtype: int64"
      ]
     },
     "execution_count": 170,
     "metadata": {},
     "output_type": "execute_result"
    }
   ],
   "source": [
    "city_data[columns_numeric].count()"
   ]
  },
  {
   "cell_type": "code",
   "execution_count": 171,
   "metadata": {
    "colab": {
     "base_uri": "https://localhost:8080/"
    },
    "executionInfo": {
     "elapsed": 251,
     "status": "ok",
     "timestamp": 1630769224847,
     "user": {
      "displayName": "Julio Rodriguez Martino",
      "photoUrl": "https://lh3.googleusercontent.com/a-/AOh14GjFnG6s_UDbNCdqSpd-m6QHQD9P90aARfhTeS1gIQ=s64",
      "userId": "05816779020109732306"
     },
     "user_tz": 180
    },
    "id": "KvQYyIWeMFaI",
    "outputId": "6ef02013-1541-4614-ba4d-f00016f6e744"
   },
   "outputs": [
    {
     "data": {
      "text/plain": [
       "lat       26.792730\n",
       "lng       18.617509\n",
       "pop    61322.750000\n",
       "dtype: float64"
      ]
     },
     "execution_count": 171,
     "metadata": {},
     "output_type": "execute_result"
    }
   ],
   "source": [
    "city_data[columns_numeric].median()"
   ]
  },
  {
   "cell_type": "code",
   "execution_count": 172,
   "metadata": {
    "colab": {
     "base_uri": "https://localhost:8080/"
    },
    "executionInfo": {
     "elapsed": 278,
     "status": "ok",
     "timestamp": 1630769227771,
     "user": {
      "displayName": "Julio Rodriguez Martino",
      "photoUrl": "https://lh3.googleusercontent.com/a-/AOh14GjFnG6s_UDbNCdqSpd-m6QHQD9P90aARfhTeS1gIQ=s64",
      "userId": "05816779020109732306"
     },
     "user_tz": 180
    },
    "id": "b8kdcdh3MFaJ",
    "outputId": "126a9a09-9725-4b0e-a9dd-294933a7048d"
   },
   "outputs": [
    {
     "data": {
      "text/plain": [
       "lat        46.852480\n",
       "lng        89.900018\n",
       "pop    269210.000000\n",
       "Name: 0.8, dtype: float64"
      ]
     },
     "execution_count": 172,
     "metadata": {},
     "output_type": "execute_result"
    }
   ],
   "source": [
    "city_data[columns_numeric].quantile(0.8)"
   ]
  },
  {
   "cell_type": "code",
   "execution_count": 173,
   "metadata": {
    "colab": {
     "base_uri": "https://localhost:8080/"
    },
    "executionInfo": {
     "elapsed": 265,
     "status": "ok",
     "timestamp": 1630769235240,
     "user": {
      "displayName": "Julio Rodriguez Martino",
      "photoUrl": "https://lh3.googleusercontent.com/a-/AOh14GjFnG6s_UDbNCdqSpd-m6QHQD9P90aARfhTeS1gIQ=s64",
      "userId": "05816779020109732306"
     },
     "user_tz": 180
    },
    "id": "FTA8csvAMFaJ",
    "outputId": "ea261b85-8be0-419b-83ab-8ddc9f83dfe8"
   },
   "outputs": [
    {
     "data": {
      "text/plain": [
       "0      3095.116300\n",
       "1     15099.766702\n",
       "2    201641.942998\n",
       "3     49943.998999\n",
       "4     10098.499997\n",
       "dtype: float64"
      ]
     },
     "execution_count": 173,
     "metadata": {},
     "output_type": "execute_result"
    }
   ],
   "source": [
    "city_data[columns_numeric].sum(axis = 1).head()"
   ]
  },
  {
   "cell_type": "code",
   "execution_count": 174,
   "metadata": {
    "colab": {
     "base_uri": "https://localhost:8080/",
     "height": 300
    },
    "executionInfo": {
     "elapsed": 258,
     "status": "ok",
     "timestamp": 1630769247849,
     "user": {
      "displayName": "Julio Rodriguez Martino",
      "photoUrl": "https://lh3.googleusercontent.com/a-/AOh14GjFnG6s_UDbNCdqSpd-m6QHQD9P90aARfhTeS1gIQ=s64",
      "userId": "05816779020109732306"
     },
     "user_tz": 180
    },
    "id": "mcxGpdlhMFaJ",
    "outputId": "45544bbb-1e21-4fa8-e660-37f79494410a"
   },
   "outputs": [
    {
     "data": {
      "text/html": [
       "<div>\n",
       "<style scoped>\n",
       "    .dataframe tbody tr th:only-of-type {\n",
       "        vertical-align: middle;\n",
       "    }\n",
       "\n",
       "    .dataframe tbody tr th {\n",
       "        vertical-align: top;\n",
       "    }\n",
       "\n",
       "    .dataframe thead th {\n",
       "        text-align: right;\n",
       "    }\n",
       "</style>\n",
       "<table border=\"1\" class=\"dataframe\">\n",
       "  <thead>\n",
       "    <tr style=\"text-align: right;\">\n",
       "      <th></th>\n",
       "      <th>lat</th>\n",
       "      <th>lng</th>\n",
       "      <th>pop</th>\n",
       "    </tr>\n",
       "  </thead>\n",
       "  <tbody>\n",
       "    <tr>\n",
       "      <th>count</th>\n",
       "      <td>7322.000000</td>\n",
       "      <td>7322.000000</td>\n",
       "      <td>7.322000e+03</td>\n",
       "    </tr>\n",
       "    <tr>\n",
       "      <th>mean</th>\n",
       "      <td>20.662876</td>\n",
       "      <td>10.711914</td>\n",
       "      <td>2.654631e+05</td>\n",
       "    </tr>\n",
       "    <tr>\n",
       "      <th>std</th>\n",
       "      <td>29.134818</td>\n",
       "      <td>79.044615</td>\n",
       "      <td>8.287622e+05</td>\n",
       "    </tr>\n",
       "    <tr>\n",
       "      <th>min</th>\n",
       "      <td>-89.982894</td>\n",
       "      <td>-179.589979</td>\n",
       "      <td>-9.900000e+01</td>\n",
       "    </tr>\n",
       "    <tr>\n",
       "      <th>25%</th>\n",
       "      <td>-0.324710</td>\n",
       "      <td>-64.788472</td>\n",
       "      <td>1.734425e+04</td>\n",
       "    </tr>\n",
       "    <tr>\n",
       "      <th>50%</th>\n",
       "      <td>26.792730</td>\n",
       "      <td>18.617509</td>\n",
       "      <td>6.132275e+04</td>\n",
       "    </tr>\n",
       "    <tr>\n",
       "      <th>75%</th>\n",
       "      <td>43.575448</td>\n",
       "      <td>73.103628</td>\n",
       "      <td>2.001726e+05</td>\n",
       "    </tr>\n",
       "    <tr>\n",
       "      <th>max</th>\n",
       "      <td>82.483323</td>\n",
       "      <td>179.383304</td>\n",
       "      <td>2.200630e+07</td>\n",
       "    </tr>\n",
       "  </tbody>\n",
       "</table>\n",
       "</div>"
      ],
      "text/plain": [
       "               lat          lng           pop\n",
       "count  7322.000000  7322.000000  7.322000e+03\n",
       "mean     20.662876    10.711914  2.654631e+05\n",
       "std      29.134818    79.044615  8.287622e+05\n",
       "min     -89.982894  -179.589979 -9.900000e+01\n",
       "25%      -0.324710   -64.788472  1.734425e+04\n",
       "50%      26.792730    18.617509  6.132275e+04\n",
       "75%      43.575448    73.103628  2.001726e+05\n",
       "max      82.483323   179.383304  2.200630e+07"
      ]
     },
     "execution_count": 174,
     "metadata": {},
     "output_type": "execute_result"
    }
   ],
   "source": [
    "city_data[columns_numeric].describe()"
   ]
  },
  {
   "cell_type": "code",
   "execution_count": 175,
   "metadata": {
    "colab": {
     "base_uri": "https://localhost:8080/",
     "height": 143
    },
    "executionInfo": {
     "elapsed": 253,
     "status": "ok",
     "timestamp": 1630769272047,
     "user": {
      "displayName": "Julio Rodriguez Martino",
      "photoUrl": "https://lh3.googleusercontent.com/a-/AOh14GjFnG6s_UDbNCdqSpd-m6QHQD9P90aARfhTeS1gIQ=s64",
      "userId": "05816779020109732306"
     },
     "user_tz": 180
    },
    "id": "pZLaXQsEMFaJ",
    "outputId": "e0fa3f25-b1a8-4c9a-81bb-479ca46346aa"
   },
   "outputs": [
    {
     "data": {
      "text/html": [
       "<div>\n",
       "<style scoped>\n",
       "    .dataframe tbody tr th:only-of-type {\n",
       "        vertical-align: middle;\n",
       "    }\n",
       "\n",
       "    .dataframe tbody tr th {\n",
       "        vertical-align: top;\n",
       "    }\n",
       "\n",
       "    .dataframe thead th {\n",
       "        text-align: right;\n",
       "    }\n",
       "</style>\n",
       "<table border=\"1\" class=\"dataframe\">\n",
       "  <thead>\n",
       "    <tr style=\"text-align: right;\">\n",
       "      <th></th>\n",
       "      <th>city</th>\n",
       "      <th>city_ascii</th>\n",
       "      <th>lat</th>\n",
       "      <th>lng</th>\n",
       "      <th>pop</th>\n",
       "      <th>country</th>\n",
       "      <th>iso2</th>\n",
       "      <th>iso3</th>\n",
       "      <th>province</th>\n",
       "    </tr>\n",
       "  </thead>\n",
       "  <tbody>\n",
       "    <tr>\n",
       "      <th>6493</th>\n",
       "      <td>Sand Point</td>\n",
       "      <td>Sand Point</td>\n",
       "      <td>55.339709</td>\n",
       "      <td>-160.497191</td>\n",
       "      <td>667.0</td>\n",
       "      <td>United States of America</td>\n",
       "      <td>US</td>\n",
       "      <td>USA</td>\n",
       "      <td>Alaska</td>\n",
       "    </tr>\n",
       "    <tr>\n",
       "      <th>5742</th>\n",
       "      <td>Harnosand</td>\n",
       "      <td>Harnosand</td>\n",
       "      <td>62.633997</td>\n",
       "      <td>17.934004</td>\n",
       "      <td>17016.0</td>\n",
       "      <td>Sweden</td>\n",
       "      <td>SE</td>\n",
       "      <td>SWE</td>\n",
       "      <td>Västernorrland</td>\n",
       "    </tr>\n",
       "    <tr>\n",
       "      <th>260</th>\n",
       "      <td>Concepcion del Uruguay</td>\n",
       "      <td>Concepcion del Uruguay</td>\n",
       "      <td>-32.479996</td>\n",
       "      <td>-58.239996</td>\n",
       "      <td>48275.0</td>\n",
       "      <td>Argentina</td>\n",
       "      <td>AR</td>\n",
       "      <td>ARG</td>\n",
       "      <td>Entre Ríos</td>\n",
       "    </tr>\n",
       "  </tbody>\n",
       "</table>\n",
       "</div>"
      ],
      "text/plain": [
       "                        city              city_ascii        lat         lng  \\\n",
       "6493              Sand Point              Sand Point  55.339709 -160.497191   \n",
       "5742               Harnosand               Harnosand  62.633997   17.934004   \n",
       "260   Concepcion del Uruguay  Concepcion del Uruguay -32.479996  -58.239996   \n",
       "\n",
       "          pop                   country iso2 iso3        province  \n",
       "6493    667.0  United States of America   US  USA          Alaska  \n",
       "5742  17016.0                    Sweden   SE  SWE  Västernorrland  \n",
       "260   48275.0                 Argentina   AR  ARG      Entre Ríos  "
      ]
     },
     "execution_count": 175,
     "metadata": {},
     "output_type": "execute_result"
    }
   ],
   "source": [
    "city_data1 = city_data.sample(3)\n",
    "city_data1"
   ]
  },
  {
   "cell_type": "markdown",
   "metadata": {
    "id": "db3jBAiQMFaJ"
   },
   "source": [
    "### Concatenando data frames"
   ]
  },
  {
   "cell_type": "code",
   "execution_count": 176,
   "metadata": {
    "colab": {
     "base_uri": "https://localhost:8080/",
     "height": 238
    },
    "executionInfo": {
     "elapsed": 258,
     "status": "ok",
     "timestamp": 1630769299019,
     "user": {
      "displayName": "Julio Rodriguez Martino",
      "photoUrl": "https://lh3.googleusercontent.com/a-/AOh14GjFnG6s_UDbNCdqSpd-m6QHQD9P90aARfhTeS1gIQ=s64",
      "userId": "05816779020109732306"
     },
     "user_tz": 180
    },
    "id": "nVNypfOYMFaJ",
    "outputId": "bd9b0414-03f2-4c20-e0b2-3d7a8aadedf4"
   },
   "outputs": [
    {
     "data": {
      "text/html": [
       "<div>\n",
       "<style scoped>\n",
       "    .dataframe tbody tr th:only-of-type {\n",
       "        vertical-align: middle;\n",
       "    }\n",
       "\n",
       "    .dataframe tbody tr th {\n",
       "        vertical-align: top;\n",
       "    }\n",
       "\n",
       "    .dataframe thead th {\n",
       "        text-align: right;\n",
       "    }\n",
       "</style>\n",
       "<table border=\"1\" class=\"dataframe\">\n",
       "  <thead>\n",
       "    <tr style=\"text-align: right;\">\n",
       "      <th></th>\n",
       "      <th>city</th>\n",
       "      <th>city_ascii</th>\n",
       "      <th>lat</th>\n",
       "      <th>lng</th>\n",
       "      <th>pop</th>\n",
       "      <th>country</th>\n",
       "      <th>iso2</th>\n",
       "      <th>iso3</th>\n",
       "      <th>province</th>\n",
       "    </tr>\n",
       "  </thead>\n",
       "  <tbody>\n",
       "    <tr>\n",
       "      <th>3256</th>\n",
       "      <td>Chabahar</td>\n",
       "      <td>Chabahar</td>\n",
       "      <td>25.300405</td>\n",
       "      <td>60.629932</td>\n",
       "      <td>56544.0</td>\n",
       "      <td>Iran</td>\n",
       "      <td>IR</td>\n",
       "      <td>IRN</td>\n",
       "      <td>Sistan and Baluchestan</td>\n",
       "    </tr>\n",
       "    <tr>\n",
       "      <th>6641</th>\n",
       "      <td>St. Charles</td>\n",
       "      <td>St. Charles</td>\n",
       "      <td>38.784285</td>\n",
       "      <td>-90.506166</td>\n",
       "      <td>213139.5</td>\n",
       "      <td>United States of America</td>\n",
       "      <td>US</td>\n",
       "      <td>USA</td>\n",
       "      <td>Missouri</td>\n",
       "    </tr>\n",
       "    <tr>\n",
       "      <th>2817</th>\n",
       "      <td>Kissidougou</td>\n",
       "      <td>Kissidougou</td>\n",
       "      <td>9.190458</td>\n",
       "      <td>-10.120013</td>\n",
       "      <td>56957.0</td>\n",
       "      <td>Guinea</td>\n",
       "      <td>GN</td>\n",
       "      <td>GIN</td>\n",
       "      <td>Faranah</td>\n",
       "    </tr>\n",
       "  </tbody>\n",
       "</table>\n",
       "</div>"
      ],
      "text/plain": [
       "             city   city_ascii        lat        lng       pop  \\\n",
       "3256     Chabahar     Chabahar  25.300405  60.629932   56544.0   \n",
       "6641  St. Charles  St. Charles  38.784285 -90.506166  213139.5   \n",
       "2817  Kissidougou  Kissidougou   9.190458 -10.120013   56957.0   \n",
       "\n",
       "                       country iso2 iso3                province  \n",
       "3256                      Iran   IR  IRN  Sistan and Baluchestan  \n",
       "6641  United States of America   US  USA                Missouri  \n",
       "2817                    Guinea   GN  GIN                 Faranah  "
      ]
     },
     "execution_count": 176,
     "metadata": {},
     "output_type": "execute_result"
    }
   ],
   "source": [
    "city_data2 = city_data.sample(3)\n",
    "city_data2"
   ]
  },
  {
   "cell_type": "code",
   "execution_count": 177,
   "metadata": {},
   "outputs": [
    {
     "data": {
      "text/html": [
       "<div>\n",
       "<style scoped>\n",
       "    .dataframe tbody tr th:only-of-type {\n",
       "        vertical-align: middle;\n",
       "    }\n",
       "\n",
       "    .dataframe tbody tr th {\n",
       "        vertical-align: top;\n",
       "    }\n",
       "\n",
       "    .dataframe thead th {\n",
       "        text-align: right;\n",
       "    }\n",
       "</style>\n",
       "<table border=\"1\" class=\"dataframe\">\n",
       "  <thead>\n",
       "    <tr style=\"text-align: right;\">\n",
       "      <th></th>\n",
       "      <th>city</th>\n",
       "      <th>city_ascii</th>\n",
       "      <th>lat</th>\n",
       "      <th>lng</th>\n",
       "      <th>pop</th>\n",
       "      <th>country</th>\n",
       "      <th>iso2</th>\n",
       "      <th>iso3</th>\n",
       "      <th>province</th>\n",
       "    </tr>\n",
       "  </thead>\n",
       "  <tbody>\n",
       "    <tr>\n",
       "      <th>6493</th>\n",
       "      <td>Sand Point</td>\n",
       "      <td>Sand Point</td>\n",
       "      <td>55.339709</td>\n",
       "      <td>-160.497191</td>\n",
       "      <td>667.0</td>\n",
       "      <td>United States of America</td>\n",
       "      <td>US</td>\n",
       "      <td>USA</td>\n",
       "      <td>Alaska</td>\n",
       "    </tr>\n",
       "    <tr>\n",
       "      <th>5742</th>\n",
       "      <td>Harnosand</td>\n",
       "      <td>Harnosand</td>\n",
       "      <td>62.633997</td>\n",
       "      <td>17.934004</td>\n",
       "      <td>17016.0</td>\n",
       "      <td>Sweden</td>\n",
       "      <td>SE</td>\n",
       "      <td>SWE</td>\n",
       "      <td>Västernorrland</td>\n",
       "    </tr>\n",
       "    <tr>\n",
       "      <th>260</th>\n",
       "      <td>Concepcion del Uruguay</td>\n",
       "      <td>Concepcion del Uruguay</td>\n",
       "      <td>-32.479996</td>\n",
       "      <td>-58.239996</td>\n",
       "      <td>48275.0</td>\n",
       "      <td>Argentina</td>\n",
       "      <td>AR</td>\n",
       "      <td>ARG</td>\n",
       "      <td>Entre Ríos</td>\n",
       "    </tr>\n",
       "  </tbody>\n",
       "</table>\n",
       "</div>"
      ],
      "text/plain": [
       "                        city              city_ascii        lat         lng  \\\n",
       "6493              Sand Point              Sand Point  55.339709 -160.497191   \n",
       "5742               Harnosand               Harnosand  62.633997   17.934004   \n",
       "260   Concepcion del Uruguay  Concepcion del Uruguay -32.479996  -58.239996   \n",
       "\n",
       "          pop                   country iso2 iso3        province  \n",
       "6493    667.0  United States of America   US  USA          Alaska  \n",
       "5742  17016.0                    Sweden   SE  SWE  Västernorrland  \n",
       "260   48275.0                 Argentina   AR  ARG      Entre Ríos  "
      ]
     },
     "execution_count": 177,
     "metadata": {},
     "output_type": "execute_result"
    }
   ],
   "source": [
    "city_data1"
   ]
  },
  {
   "cell_type": "code",
   "execution_count": 178,
   "metadata": {},
   "outputs": [
    {
     "data": {
      "text/html": [
       "<div>\n",
       "<style scoped>\n",
       "    .dataframe tbody tr th:only-of-type {\n",
       "        vertical-align: middle;\n",
       "    }\n",
       "\n",
       "    .dataframe tbody tr th {\n",
       "        vertical-align: top;\n",
       "    }\n",
       "\n",
       "    .dataframe thead th {\n",
       "        text-align: right;\n",
       "    }\n",
       "</style>\n",
       "<table border=\"1\" class=\"dataframe\">\n",
       "  <thead>\n",
       "    <tr style=\"text-align: right;\">\n",
       "      <th></th>\n",
       "      <th>city</th>\n",
       "      <th>city_ascii</th>\n",
       "      <th>lat</th>\n",
       "      <th>lng</th>\n",
       "      <th>pop</th>\n",
       "      <th>country</th>\n",
       "      <th>iso2</th>\n",
       "      <th>iso3</th>\n",
       "      <th>province</th>\n",
       "    </tr>\n",
       "  </thead>\n",
       "  <tbody>\n",
       "    <tr>\n",
       "      <th>6493</th>\n",
       "      <td>Sand Point</td>\n",
       "      <td>Sand Point</td>\n",
       "      <td>55.339709</td>\n",
       "      <td>-160.497191</td>\n",
       "      <td>667.0</td>\n",
       "      <td>United States of America</td>\n",
       "      <td>US</td>\n",
       "      <td>USA</td>\n",
       "      <td>Alaska</td>\n",
       "    </tr>\n",
       "    <tr>\n",
       "      <th>5742</th>\n",
       "      <td>Harnosand</td>\n",
       "      <td>Harnosand</td>\n",
       "      <td>62.633997</td>\n",
       "      <td>17.934004</td>\n",
       "      <td>17016.0</td>\n",
       "      <td>Sweden</td>\n",
       "      <td>SE</td>\n",
       "      <td>SWE</td>\n",
       "      <td>Västernorrland</td>\n",
       "    </tr>\n",
       "    <tr>\n",
       "      <th>260</th>\n",
       "      <td>Concepcion del Uruguay</td>\n",
       "      <td>Concepcion del Uruguay</td>\n",
       "      <td>-32.479996</td>\n",
       "      <td>-58.239996</td>\n",
       "      <td>48275.0</td>\n",
       "      <td>Argentina</td>\n",
       "      <td>AR</td>\n",
       "      <td>ARG</td>\n",
       "      <td>Entre Ríos</td>\n",
       "    </tr>\n",
       "    <tr>\n",
       "      <th>3256</th>\n",
       "      <td>Chabahar</td>\n",
       "      <td>Chabahar</td>\n",
       "      <td>25.300405</td>\n",
       "      <td>60.629932</td>\n",
       "      <td>56544.0</td>\n",
       "      <td>Iran</td>\n",
       "      <td>IR</td>\n",
       "      <td>IRN</td>\n",
       "      <td>Sistan and Baluchestan</td>\n",
       "    </tr>\n",
       "    <tr>\n",
       "      <th>6641</th>\n",
       "      <td>St. Charles</td>\n",
       "      <td>St. Charles</td>\n",
       "      <td>38.784285</td>\n",
       "      <td>-90.506166</td>\n",
       "      <td>213139.5</td>\n",
       "      <td>United States of America</td>\n",
       "      <td>US</td>\n",
       "      <td>USA</td>\n",
       "      <td>Missouri</td>\n",
       "    </tr>\n",
       "    <tr>\n",
       "      <th>2817</th>\n",
       "      <td>Kissidougou</td>\n",
       "      <td>Kissidougou</td>\n",
       "      <td>9.190458</td>\n",
       "      <td>-10.120013</td>\n",
       "      <td>56957.0</td>\n",
       "      <td>Guinea</td>\n",
       "      <td>GN</td>\n",
       "      <td>GIN</td>\n",
       "      <td>Faranah</td>\n",
       "    </tr>\n",
       "  </tbody>\n",
       "</table>\n",
       "</div>"
      ],
      "text/plain": [
       "                        city              city_ascii        lat         lng  \\\n",
       "6493              Sand Point              Sand Point  55.339709 -160.497191   \n",
       "5742               Harnosand               Harnosand  62.633997   17.934004   \n",
       "260   Concepcion del Uruguay  Concepcion del Uruguay -32.479996  -58.239996   \n",
       "3256                Chabahar                Chabahar  25.300405   60.629932   \n",
       "6641             St. Charles             St. Charles  38.784285  -90.506166   \n",
       "2817             Kissidougou             Kissidougou   9.190458  -10.120013   \n",
       "\n",
       "           pop                   country iso2 iso3                province  \n",
       "6493     667.0  United States of America   US  USA                  Alaska  \n",
       "5742   17016.0                    Sweden   SE  SWE          Västernorrland  \n",
       "260    48275.0                 Argentina   AR  ARG              Entre Ríos  \n",
       "3256   56544.0                      Iran   IR  IRN  Sistan and Baluchestan  \n",
       "6641  213139.5  United States of America   US  USA                Missouri  \n",
       "2817   56957.0                    Guinea   GN  GIN                 Faranah  "
      ]
     },
     "execution_count": 178,
     "metadata": {},
     "output_type": "execute_result"
    }
   ],
   "source": [
    "city_data_combine = pd.concat([city_data1,city_data2])\n",
    "city_data_combine\n",
    "\n",
    "# axis{0/’index’, 1/’columns’}, default 0"
   ]
  },
  {
   "cell_type": "code",
   "execution_count": 179,
   "metadata": {
    "id": "ryusdclkMFaK"
   },
   "outputs": [],
   "source": [
    "df1 = pd.DataFrame({'col1': ['col10', 'col11', 'col12', 'col13'],\n",
    "                    'col2': ['col20', 'col21', 'col22', 'col23'],\n",
    "                    'col3': ['col30', 'col31', 'col32', 'col33'],\n",
    "                    'col4': ['col40', 'col41', 'col42', 'col43']},\n",
    "                   index=[0, 1, 2, 3])"
   ]
  },
  {
   "cell_type": "code",
   "execution_count": 180,
   "metadata": {
    "colab": {
     "base_uri": "https://localhost:8080/",
     "height": 175
    },
    "executionInfo": {
     "elapsed": 280,
     "status": "ok",
     "timestamp": 1630769331272,
     "user": {
      "displayName": "Julio Rodriguez Martino",
      "photoUrl": "https://lh3.googleusercontent.com/a-/AOh14GjFnG6s_UDbNCdqSpd-m6QHQD9P90aARfhTeS1gIQ=s64",
      "userId": "05816779020109732306"
     },
     "user_tz": 180
    },
    "id": "0Dm11tUfMFaK",
    "outputId": "330ea312-10d8-4d41-8ecb-27b46ddad62e"
   },
   "outputs": [
    {
     "data": {
      "text/html": [
       "<div>\n",
       "<style scoped>\n",
       "    .dataframe tbody tr th:only-of-type {\n",
       "        vertical-align: middle;\n",
       "    }\n",
       "\n",
       "    .dataframe tbody tr th {\n",
       "        vertical-align: top;\n",
       "    }\n",
       "\n",
       "    .dataframe thead th {\n",
       "        text-align: right;\n",
       "    }\n",
       "</style>\n",
       "<table border=\"1\" class=\"dataframe\">\n",
       "  <thead>\n",
       "    <tr style=\"text-align: right;\">\n",
       "      <th></th>\n",
       "      <th>col1</th>\n",
       "      <th>col2</th>\n",
       "      <th>col3</th>\n",
       "      <th>col4</th>\n",
       "    </tr>\n",
       "  </thead>\n",
       "  <tbody>\n",
       "    <tr>\n",
       "      <th>0</th>\n",
       "      <td>col10</td>\n",
       "      <td>col20</td>\n",
       "      <td>col30</td>\n",
       "      <td>col40</td>\n",
       "    </tr>\n",
       "    <tr>\n",
       "      <th>1</th>\n",
       "      <td>col11</td>\n",
       "      <td>col21</td>\n",
       "      <td>col31</td>\n",
       "      <td>col41</td>\n",
       "    </tr>\n",
       "    <tr>\n",
       "      <th>2</th>\n",
       "      <td>col12</td>\n",
       "      <td>col22</td>\n",
       "      <td>col32</td>\n",
       "      <td>col42</td>\n",
       "    </tr>\n",
       "    <tr>\n",
       "      <th>3</th>\n",
       "      <td>col13</td>\n",
       "      <td>col23</td>\n",
       "      <td>col33</td>\n",
       "      <td>col43</td>\n",
       "    </tr>\n",
       "  </tbody>\n",
       "</table>\n",
       "</div>"
      ],
      "text/plain": [
       "    col1   col2   col3   col4\n",
       "0  col10  col20  col30  col40\n",
       "1  col11  col21  col31  col41\n",
       "2  col12  col22  col32  col42\n",
       "3  col13  col23  col33  col43"
      ]
     },
     "execution_count": 180,
     "metadata": {},
     "output_type": "execute_result"
    }
   ],
   "source": [
    "df1"
   ]
  },
  {
   "cell_type": "code",
   "execution_count": 181,
   "metadata": {
    "colab": {
     "base_uri": "https://localhost:8080/",
     "height": 238
    },
    "executionInfo": {
     "elapsed": 249,
     "status": "ok",
     "timestamp": 1630769335005,
     "user": {
      "displayName": "Julio Rodriguez Martino",
      "photoUrl": "https://lh3.googleusercontent.com/a-/AOh14GjFnG6s_UDbNCdqSpd-m6QHQD9P90aARfhTeS1gIQ=s64",
      "userId": "05816779020109732306"
     },
     "user_tz": 180
    },
    "id": "nEpd3f3RMFaK",
    "outputId": "2d55b24f-29fd-4da0-a6cf-cc2e9b454f72"
   },
   "outputs": [
    {
     "data": {
      "text/html": [
       "<div>\n",
       "<style scoped>\n",
       "    .dataframe tbody tr th:only-of-type {\n",
       "        vertical-align: middle;\n",
       "    }\n",
       "\n",
       "    .dataframe tbody tr th {\n",
       "        vertical-align: top;\n",
       "    }\n",
       "\n",
       "    .dataframe thead th {\n",
       "        text-align: right;\n",
       "    }\n",
       "</style>\n",
       "<table border=\"1\" class=\"dataframe\">\n",
       "  <thead>\n",
       "    <tr style=\"text-align: right;\">\n",
       "      <th></th>\n",
       "      <th>col2</th>\n",
       "      <th>Col4</th>\n",
       "      <th>col6</th>\n",
       "    </tr>\n",
       "  </thead>\n",
       "  <tbody>\n",
       "    <tr>\n",
       "      <th>2</th>\n",
       "      <td>col22</td>\n",
       "      <td>Col42</td>\n",
       "      <td>col62</td>\n",
       "    </tr>\n",
       "    <tr>\n",
       "      <th>3</th>\n",
       "      <td>col23</td>\n",
       "      <td>Col43</td>\n",
       "      <td>col63</td>\n",
       "    </tr>\n",
       "    <tr>\n",
       "      <th>6</th>\n",
       "      <td>col26</td>\n",
       "      <td>Col46</td>\n",
       "      <td>col66</td>\n",
       "    </tr>\n",
       "    <tr>\n",
       "      <th>7</th>\n",
       "      <td>col27</td>\n",
       "      <td>Col47</td>\n",
       "      <td>col67</td>\n",
       "    </tr>\n",
       "  </tbody>\n",
       "</table>\n",
       "</div>"
      ],
      "text/plain": [
       "    col2   Col4   col6\n",
       "2  col22  Col42  col62\n",
       "3  col23  Col43  col63\n",
       "6  col26  Col46  col66\n",
       "7  col27  Col47  col67"
      ]
     },
     "execution_count": 181,
     "metadata": {},
     "output_type": "execute_result"
    }
   ],
   "source": [
    "df4 = pd.DataFrame({'col2': ['col22', 'col23', 'col26', 'col27'],\n",
    "                    'Col4': ['Col42', 'Col43', 'Col46', 'Col47'],\n",
    "                    'col6': ['col62', 'col63', 'col66', 'col67']},\n",
    "                   index=[2, 3, 6, 7])\n",
    "\n",
    "df4"
   ]
  },
  {
   "cell_type": "code",
   "execution_count": 182,
   "metadata": {},
   "outputs": [
    {
     "data": {
      "text/html": [
       "<div>\n",
       "<style scoped>\n",
       "    .dataframe tbody tr th:only-of-type {\n",
       "        vertical-align: middle;\n",
       "    }\n",
       "\n",
       "    .dataframe tbody tr th {\n",
       "        vertical-align: top;\n",
       "    }\n",
       "\n",
       "    .dataframe thead th {\n",
       "        text-align: right;\n",
       "    }\n",
       "</style>\n",
       "<table border=\"1\" class=\"dataframe\">\n",
       "  <thead>\n",
       "    <tr style=\"text-align: right;\">\n",
       "      <th></th>\n",
       "      <th>col1</th>\n",
       "      <th>col2</th>\n",
       "      <th>col3</th>\n",
       "      <th>col4</th>\n",
       "      <th>col2</th>\n",
       "      <th>Col4</th>\n",
       "      <th>col6</th>\n",
       "    </tr>\n",
       "  </thead>\n",
       "  <tbody>\n",
       "    <tr>\n",
       "      <th>0</th>\n",
       "      <td>col10</td>\n",
       "      <td>col20</td>\n",
       "      <td>col30</td>\n",
       "      <td>col40</td>\n",
       "      <td>NaN</td>\n",
       "      <td>NaN</td>\n",
       "      <td>NaN</td>\n",
       "    </tr>\n",
       "    <tr>\n",
       "      <th>1</th>\n",
       "      <td>col11</td>\n",
       "      <td>col21</td>\n",
       "      <td>col31</td>\n",
       "      <td>col41</td>\n",
       "      <td>NaN</td>\n",
       "      <td>NaN</td>\n",
       "      <td>NaN</td>\n",
       "    </tr>\n",
       "    <tr>\n",
       "      <th>2</th>\n",
       "      <td>col12</td>\n",
       "      <td>col22</td>\n",
       "      <td>col32</td>\n",
       "      <td>col42</td>\n",
       "      <td>col22</td>\n",
       "      <td>Col42</td>\n",
       "      <td>col62</td>\n",
       "    </tr>\n",
       "    <tr>\n",
       "      <th>3</th>\n",
       "      <td>col13</td>\n",
       "      <td>col23</td>\n",
       "      <td>col33</td>\n",
       "      <td>col43</td>\n",
       "      <td>col23</td>\n",
       "      <td>Col43</td>\n",
       "      <td>col63</td>\n",
       "    </tr>\n",
       "    <tr>\n",
       "      <th>6</th>\n",
       "      <td>NaN</td>\n",
       "      <td>NaN</td>\n",
       "      <td>NaN</td>\n",
       "      <td>NaN</td>\n",
       "      <td>col26</td>\n",
       "      <td>Col46</td>\n",
       "      <td>col66</td>\n",
       "    </tr>\n",
       "    <tr>\n",
       "      <th>7</th>\n",
       "      <td>NaN</td>\n",
       "      <td>NaN</td>\n",
       "      <td>NaN</td>\n",
       "      <td>NaN</td>\n",
       "      <td>col27</td>\n",
       "      <td>Col47</td>\n",
       "      <td>col67</td>\n",
       "    </tr>\n",
       "  </tbody>\n",
       "</table>\n",
       "</div>"
      ],
      "text/plain": [
       "    col1   col2   col3   col4   col2   Col4   col6\n",
       "0  col10  col20  col30  col40    NaN    NaN    NaN\n",
       "1  col11  col21  col31  col41    NaN    NaN    NaN\n",
       "2  col12  col22  col32  col42  col22  Col42  col62\n",
       "3  col13  col23  col33  col43  col23  Col43  col63\n",
       "6    NaN    NaN    NaN    NaN  col26  Col46  col66\n",
       "7    NaN    NaN    NaN    NaN  col27  Col47  col67"
      ]
     },
     "execution_count": 182,
     "metadata": {},
     "output_type": "execute_result"
    }
   ],
   "source": [
    "pd.concat([df1,df4], axis=1) # agrega las columnas, donde no puede concatenar pone un NaN "
   ]
  },
  {
   "cell_type": "code",
   "execution_count": 183,
   "metadata": {
    "id": "N_isBOJgMFaK"
   },
   "outputs": [],
   "source": [
    "country_data = city_data[['iso3','country']].drop_duplicates()"
   ]
  },
  {
   "cell_type": "code",
   "execution_count": 184,
   "metadata": {
    "id": "i3KdvxabMFaK",
    "outputId": "848ae409-42a1-4dd3-f06e-340bda94a227"
   },
   "outputs": [
    {
     "data": {
      "text/plain": [
       "(223, 2)"
      ]
     },
     "execution_count": 184,
     "metadata": {},
     "output_type": "execute_result"
    }
   ],
   "source": [
    "country_data.shape"
   ]
  },
  {
   "cell_type": "code",
   "execution_count": 185,
   "metadata": {
    "colab": {
     "base_uri": "https://localhost:8080/",
     "height": 206
    },
    "executionInfo": {
     "elapsed": 246,
     "status": "ok",
     "timestamp": 1630769350322,
     "user": {
      "displayName": "Julio Rodriguez Martino",
      "photoUrl": "https://lh3.googleusercontent.com/a-/AOh14GjFnG6s_UDbNCdqSpd-m6QHQD9P90aARfhTeS1gIQ=s64",
      "userId": "05816779020109732306"
     },
     "user_tz": 180
    },
    "id": "8EK0rYq5MFaL",
    "outputId": "db3d325a-4e07-4cd7-dea9-0a0a5ba4482d"
   },
   "outputs": [
    {
     "data": {
      "text/html": [
       "<div>\n",
       "<style scoped>\n",
       "    .dataframe tbody tr th:only-of-type {\n",
       "        vertical-align: middle;\n",
       "    }\n",
       "\n",
       "    .dataframe tbody tr th {\n",
       "        vertical-align: top;\n",
       "    }\n",
       "\n",
       "    .dataframe thead th {\n",
       "        text-align: right;\n",
       "    }\n",
       "</style>\n",
       "<table border=\"1\" class=\"dataframe\">\n",
       "  <thead>\n",
       "    <tr style=\"text-align: right;\">\n",
       "      <th></th>\n",
       "      <th>iso3</th>\n",
       "      <th>country</th>\n",
       "    </tr>\n",
       "  </thead>\n",
       "  <tbody>\n",
       "    <tr>\n",
       "      <th>0</th>\n",
       "      <td>AFG</td>\n",
       "      <td>Afghanistan</td>\n",
       "    </tr>\n",
       "    <tr>\n",
       "      <th>33</th>\n",
       "      <td>ALD</td>\n",
       "      <td>Aland</td>\n",
       "    </tr>\n",
       "    <tr>\n",
       "      <th>34</th>\n",
       "      <td>ALB</td>\n",
       "      <td>Albania</td>\n",
       "    </tr>\n",
       "    <tr>\n",
       "      <th>60</th>\n",
       "      <td>DZA</td>\n",
       "      <td>Algeria</td>\n",
       "    </tr>\n",
       "    <tr>\n",
       "      <th>111</th>\n",
       "      <td>ASM</td>\n",
       "      <td>American Samoa</td>\n",
       "    </tr>\n",
       "  </tbody>\n",
       "</table>\n",
       "</div>"
      ],
      "text/plain": [
       "    iso3         country\n",
       "0    AFG     Afghanistan\n",
       "33   ALD           Aland\n",
       "34   ALB         Albania\n",
       "60   DZA         Algeria\n",
       "111  ASM  American Samoa"
      ]
     },
     "execution_count": 185,
     "metadata": {},
     "output_type": "execute_result"
    }
   ],
   "source": [
    "country_data.head()"
   ]
  },
  {
   "cell_type": "code",
   "execution_count": 186,
   "metadata": {
    "id": "FHVgduPJMFaL"
   },
   "outputs": [],
   "source": [
    "del(city_data['country']) # borro la columna pais en el original"
   ]
  },
  {
   "cell_type": "code",
   "execution_count": 187,
   "metadata": {
    "colab": {
     "base_uri": "https://localhost:8080/",
     "height": 206
    },
    "executionInfo": {
     "elapsed": 411,
     "status": "ok",
     "timestamp": 1630769361174,
     "user": {
      "displayName": "Julio Rodriguez Martino",
      "photoUrl": "https://lh3.googleusercontent.com/a-/AOh14GjFnG6s_UDbNCdqSpd-m6QHQD9P90aARfhTeS1gIQ=s64",
      "userId": "05816779020109732306"
     },
     "user_tz": 180
    },
    "id": "urCHd6TvMFaM",
    "outputId": "4ef31ef4-8d48-4c7c-c80e-52c9be7c0f69"
   },
   "outputs": [
    {
     "data": {
      "text/html": [
       "<div>\n",
       "<style scoped>\n",
       "    .dataframe tbody tr th:only-of-type {\n",
       "        vertical-align: middle;\n",
       "    }\n",
       "\n",
       "    .dataframe tbody tr th {\n",
       "        vertical-align: top;\n",
       "    }\n",
       "\n",
       "    .dataframe thead th {\n",
       "        text-align: right;\n",
       "    }\n",
       "</style>\n",
       "<table border=\"1\" class=\"dataframe\">\n",
       "  <thead>\n",
       "    <tr style=\"text-align: right;\">\n",
       "      <th></th>\n",
       "      <th>city</th>\n",
       "      <th>city_ascii</th>\n",
       "      <th>lat</th>\n",
       "      <th>lng</th>\n",
       "      <th>pop</th>\n",
       "      <th>iso2</th>\n",
       "      <th>iso3</th>\n",
       "      <th>province</th>\n",
       "      <th>country</th>\n",
       "    </tr>\n",
       "  </thead>\n",
       "  <tbody>\n",
       "    <tr>\n",
       "      <th>0</th>\n",
       "      <td>Qal eh-ye Now</td>\n",
       "      <td>Qal eh-ye</td>\n",
       "      <td>34.983000</td>\n",
       "      <td>63.133300</td>\n",
       "      <td>2997.0</td>\n",
       "      <td>AF</td>\n",
       "      <td>AFG</td>\n",
       "      <td>Badghis</td>\n",
       "      <td>Afghanistan</td>\n",
       "    </tr>\n",
       "    <tr>\n",
       "      <th>1</th>\n",
       "      <td>Chaghcharan</td>\n",
       "      <td>Chaghcharan</td>\n",
       "      <td>34.516701</td>\n",
       "      <td>65.250001</td>\n",
       "      <td>15000.0</td>\n",
       "      <td>AF</td>\n",
       "      <td>AFG</td>\n",
       "      <td>Ghor</td>\n",
       "      <td>Afghanistan</td>\n",
       "    </tr>\n",
       "    <tr>\n",
       "      <th>2</th>\n",
       "      <td>Lashkar Gah</td>\n",
       "      <td>Lashkar Gah</td>\n",
       "      <td>31.582998</td>\n",
       "      <td>64.360000</td>\n",
       "      <td>201546.0</td>\n",
       "      <td>AF</td>\n",
       "      <td>AFG</td>\n",
       "      <td>Hilmand</td>\n",
       "      <td>Afghanistan</td>\n",
       "    </tr>\n",
       "    <tr>\n",
       "      <th>3</th>\n",
       "      <td>Zaranj</td>\n",
       "      <td>Zaranj</td>\n",
       "      <td>31.112001</td>\n",
       "      <td>61.886998</td>\n",
       "      <td>49851.0</td>\n",
       "      <td>AF</td>\n",
       "      <td>AFG</td>\n",
       "      <td>Nimroz</td>\n",
       "      <td>Afghanistan</td>\n",
       "    </tr>\n",
       "    <tr>\n",
       "      <th>4</th>\n",
       "      <td>Tarin Kowt</td>\n",
       "      <td>Tarin Kowt</td>\n",
       "      <td>32.633298</td>\n",
       "      <td>65.866699</td>\n",
       "      <td>10000.0</td>\n",
       "      <td>AF</td>\n",
       "      <td>AFG</td>\n",
       "      <td>Uruzgan</td>\n",
       "      <td>Afghanistan</td>\n",
       "    </tr>\n",
       "  </tbody>\n",
       "</table>\n",
       "</div>"
      ],
      "text/plain": [
       "            city   city_ascii        lat        lng       pop iso2 iso3  \\\n",
       "0  Qal eh-ye Now    Qal eh-ye  34.983000  63.133300    2997.0   AF  AFG   \n",
       "1    Chaghcharan  Chaghcharan  34.516701  65.250001   15000.0   AF  AFG   \n",
       "2    Lashkar Gah  Lashkar Gah  31.582998  64.360000  201546.0   AF  AFG   \n",
       "3         Zaranj       Zaranj  31.112001  61.886998   49851.0   AF  AFG   \n",
       "4     Tarin Kowt   Tarin Kowt  32.633298  65.866699   10000.0   AF  AFG   \n",
       "\n",
       "  province      country  \n",
       "0  Badghis  Afghanistan  \n",
       "1     Ghor  Afghanistan  \n",
       "2  Hilmand  Afghanistan  \n",
       "3   Nimroz  Afghanistan  \n",
       "4  Uruzgan  Afghanistan  "
      ]
     },
     "execution_count": 187,
     "metadata": {},
     "output_type": "execute_result"
    }
   ],
   "source": [
    "city_data.merge(country_data, 'inner').head() # tengo una tabla con la letra pais y otra con el nombre del pais, la PK es iso3"
   ]
  },
  {
   "cell_type": "markdown",
   "metadata": {
    "id": "IjSA0cytMFaM"
   },
   "source": [
    "# Scikit-learn"
   ]
  },
  {
   "cell_type": "markdown",
   "metadata": {
    "id": "lD-sZss2cHbi"
   },
   "source": [
    "## Precios de casas en Boston \n",
    "\n",
    "Detalles:\n",
    "\n",
    "    Number of Instances 506\n",
    "    Number of Attributes 13 numeric/categorical predictive. Median Value (attribute 14) is usually the target.\n",
    "    \n",
    "    Attribute Information (in order)\n",
    "\n",
    "            CRIM per capita crime rate by town\n",
    "\n",
    "            ZN proportion of residential land zoned for lots over 25,000 sq.ft.\n",
    "\n",
    "            INDUS proportion of non-retail business acres per town\n",
    "\n",
    "            CHAS Charles River dummy variable (= 1 if tract bounds river; 0 otherwise)\n",
    "\n",
    "            NOX nitric oxides concentration (parts per 10 million)\n",
    "\n",
    "            RM average number of rooms per dwelling\n",
    "\n",
    "            AGE proportion of owner-occupied units built prior to 1940\n",
    "\n",
    "            DIS weighted distances to five Boston employment centres\n",
    "\n",
    "            RAD index of accessibility to radial highways\n",
    "\n",
    "            TAX full-value property-tax rate per $10,000\n",
    "\n",
    "            PTRATIO pupil-teacher ratio by town\n",
    "\n",
    "            B 1000(Bk - 0.63)^2 where Bk is the proportion of black people by town\n",
    "\n",
    "            LSTAT % lower status of the population\n",
    "\n",
    "            MEDV Median value of owner-occupied homes in $1000’s\n",
    "\n",
    "    Missing Attribute Values\n",
    "\n",
    "        None\n",
    "    Creator\n",
    "\n",
    "        Harrison, D. and Rubinfeld, D.L.\n",
    "\n",
    "This is a copy of UCI ML housing dataset. https://archive.ics.uci.edu/ml/machine-learning-databases/housing/\n",
    "\n",
    "This dataset was taken from the StatLib library which is maintained at Carnegie Mellon University.\n",
    "\n",
    "The Boston house-price data of Harrison, D. and Rubinfeld, D.L. ‘Hedonic prices and the demand for clean air’, J. Environ. Economics & Management, vol.5, 81-102, 1978. Used in Belsley, Kuh & Welsch, ‘Regression diagnostics …’, Wiley, 1980. N.B. Various transformations are used in the table on pages 244-261 of the latter.\n",
    "\n",
    "The Boston house-price data has been used in many machine learning papers that address regression problems.\n"
   ]
  },
  {
   "cell_type": "code",
   "execution_count": 188,
   "metadata": {
    "id": "np36PcK4MFaM"
   },
   "outputs": [
    {
     "ename": "ImportError",
     "evalue": "\n`load_boston` has been removed from scikit-learn since version 1.2.\n\nThe Boston housing prices dataset has an ethical problem: as\ninvestigated in [1], the authors of this dataset engineered a\nnon-invertible variable \"B\" assuming that racial self-segregation had a\npositive impact on house prices [2]. Furthermore the goal of the\nresearch that led to the creation of this dataset was to study the\nimpact of air quality but it did not give adequate demonstration of the\nvalidity of this assumption.\n\nThe scikit-learn maintainers therefore strongly discourage the use of\nthis dataset unless the purpose of the code is to study and educate\nabout ethical issues in data science and machine learning.\n\nIn this special case, you can fetch the dataset from the original\nsource::\n\n    import pandas as pd\n    import numpy as np\n\n    data_url = \"http://lib.stat.cmu.edu/datasets/boston\"\n    raw_df = pd.read_csv(data_url, sep=\"\\s+\", skiprows=22, header=None)\n    data = np.hstack([raw_df.values[::2, :], raw_df.values[1::2, :2]])\n    target = raw_df.values[1::2, 2]\n\nAlternative datasets include the California housing dataset and the\nAmes housing dataset. You can load the datasets as follows::\n\n    from sklearn.datasets import fetch_california_housing\n    housing = fetch_california_housing()\n\nfor the California housing dataset and::\n\n    from sklearn.datasets import fetch_openml\n    housing = fetch_openml(name=\"house_prices\", as_frame=True)\n\nfor the Ames housing dataset.\n\n[1] M Carlisle.\n\"Racist data destruction?\"\n<https://medium.com/@docintangible/racist-data-destruction-113e3eff54a8>\n\n[2] Harrison Jr, David, and Daniel L. Rubinfeld.\n\"Hedonic housing prices and the demand for clean air.\"\nJournal of environmental economics and management 5.1 (1978): 81-102.\n<https://www.researchgate.net/publication/4974606_Hedonic_housing_prices_and_the_demand_for_clean_air>\n",
     "output_type": "error",
     "traceback": [
      "\u001b[1;31m---------------------------------------------------------------------------\u001b[0m",
      "\u001b[1;31mImportError\u001b[0m                               Traceback (most recent call last)",
      "Cell \u001b[1;32mIn[188], line 2\u001b[0m\n\u001b[0;32m      1\u001b[0m \u001b[38;5;28;01mfrom\u001b[39;00m \u001b[38;5;21;01msklearn\u001b[39;00m \u001b[38;5;28;01mimport\u001b[39;00m datasets\n\u001b[1;32m----> 2\u001b[0m boston \u001b[38;5;241m=\u001b[39m \u001b[43mdatasets\u001b[49m\u001b[38;5;241;43m.\u001b[39;49m\u001b[43mload_boston\u001b[49m()\n",
      "File \u001b[1;32mc:\\CPE\\CPEDS\\envWindows\\Lib\\site-packages\\sklearn\\datasets\\__init__.py:156\u001b[0m, in \u001b[0;36m__getattr__\u001b[1;34m(name)\u001b[0m\n\u001b[0;32m    105\u001b[0m \u001b[38;5;28;01mif\u001b[39;00m name \u001b[38;5;241m==\u001b[39m \u001b[38;5;124m\"\u001b[39m\u001b[38;5;124mload_boston\u001b[39m\u001b[38;5;124m\"\u001b[39m:\n\u001b[0;32m    106\u001b[0m     msg \u001b[38;5;241m=\u001b[39m textwrap\u001b[38;5;241m.\u001b[39mdedent(\n\u001b[0;32m    107\u001b[0m \u001b[38;5;250m        \u001b[39m\u001b[38;5;124;03m\"\"\"\u001b[39;00m\n\u001b[0;32m    108\u001b[0m \u001b[38;5;124;03m        `load_boston` has been removed from scikit-learn since version 1.2.\u001b[39;00m\n\u001b[1;32m   (...)\u001b[0m\n\u001b[0;32m    154\u001b[0m \u001b[38;5;124;03m        \"\"\"\u001b[39;00m\n\u001b[0;32m    155\u001b[0m     )\n\u001b[1;32m--> 156\u001b[0m     \u001b[38;5;28;01mraise\u001b[39;00m \u001b[38;5;167;01mImportError\u001b[39;00m(msg)\n\u001b[0;32m    157\u001b[0m \u001b[38;5;28;01mtry\u001b[39;00m:\n\u001b[0;32m    158\u001b[0m     \u001b[38;5;28;01mreturn\u001b[39;00m \u001b[38;5;28mglobals\u001b[39m()[name]\n",
      "\u001b[1;31mImportError\u001b[0m: \n`load_boston` has been removed from scikit-learn since version 1.2.\n\nThe Boston housing prices dataset has an ethical problem: as\ninvestigated in [1], the authors of this dataset engineered a\nnon-invertible variable \"B\" assuming that racial self-segregation had a\npositive impact on house prices [2]. Furthermore the goal of the\nresearch that led to the creation of this dataset was to study the\nimpact of air quality but it did not give adequate demonstration of the\nvalidity of this assumption.\n\nThe scikit-learn maintainers therefore strongly discourage the use of\nthis dataset unless the purpose of the code is to study and educate\nabout ethical issues in data science and machine learning.\n\nIn this special case, you can fetch the dataset from the original\nsource::\n\n    import pandas as pd\n    import numpy as np\n\n    data_url = \"http://lib.stat.cmu.edu/datasets/boston\"\n    raw_df = pd.read_csv(data_url, sep=\"\\s+\", skiprows=22, header=None)\n    data = np.hstack([raw_df.values[::2, :], raw_df.values[1::2, :2]])\n    target = raw_df.values[1::2, 2]\n\nAlternative datasets include the California housing dataset and the\nAmes housing dataset. You can load the datasets as follows::\n\n    from sklearn.datasets import fetch_california_housing\n    housing = fetch_california_housing()\n\nfor the California housing dataset and::\n\n    from sklearn.datasets import fetch_openml\n    housing = fetch_openml(name=\"house_prices\", as_frame=True)\n\nfor the Ames housing dataset.\n\n[1] M Carlisle.\n\"Racist data destruction?\"\n<https://medium.com/@docintangible/racist-data-destruction-113e3eff54a8>\n\n[2] Harrison Jr, David, and Daniel L. Rubinfeld.\n\"Hedonic housing prices and the demand for clean air.\"\nJournal of environmental economics and management 5.1 (1978): 81-102.\n<https://www.researchgate.net/publication/4974606_Hedonic_housing_prices_and_the_demand_for_clean_air>\n"
     ]
    }
   ],
   "source": [
    "from sklearn import datasets\n",
    "boston = datasets.load_boston()\n"
   ]
  },
  {
   "cell_type": "code",
   "execution_count": 121,
   "metadata": {},
   "outputs": [],
   "source": [
    "from sklearn.datasets import fetch_california_housing\n",
    "boston = fetch_california_housing()"
   ]
  },
  {
   "cell_type": "code",
   "execution_count": null,
   "metadata": {},
   "outputs": [],
   "source": [
    "boston"
   ]
  },
  {
   "cell_type": "code",
   "execution_count": 124,
   "metadata": {},
   "outputs": [],
   "source": [
    "X = boston.data\n",
    "y = boston.target"
   ]
  },
  {
   "cell_type": "code",
   "execution_count": null,
   "metadata": {
    "colab": {
     "base_uri": "https://localhost:8080/"
    },
    "executionInfo": {
     "elapsed": 256,
     "status": "ok",
     "timestamp": 1630770606150,
     "user": {
      "displayName": "Julio Rodriguez Martino",
      "photoUrl": "https://lh3.googleusercontent.com/a-/AOh14GjFnG6s_UDbNCdqSpd-m6QHQD9P90aARfhTeS1gIQ=s64",
      "userId": "05816779020109732306"
     },
     "user_tz": 180
    },
    "id": "LjATCUr0MFaM",
    "outputId": "0a712fdf-2f90-4359-c510-458175a8bc38"
   },
   "outputs": [],
   "source": [
    "X[:5]"
   ]
  },
  {
   "cell_type": "code",
   "execution_count": null,
   "metadata": {
    "colab": {
     "base_uri": "https://localhost:8080/"
    },
    "executionInfo": {
     "elapsed": 258,
     "status": "ok",
     "timestamp": 1630770610833,
     "user": {
      "displayName": "Julio Rodriguez Martino",
      "photoUrl": "https://lh3.googleusercontent.com/a-/AOh14GjFnG6s_UDbNCdqSpd-m6QHQD9P90aARfhTeS1gIQ=s64",
      "userId": "05816779020109732306"
     },
     "user_tz": 180
    },
    "id": "4tQraOW8MFaM",
    "outputId": "f694881d-587d-4913-a5c3-93c183f9958f"
   },
   "outputs": [],
   "source": [
    "y[:10]"
   ]
  },
  {
   "cell_type": "code",
   "execution_count": 127,
   "metadata": {
    "id": "_fnAZs5ZMFaM"
   },
   "outputs": [],
   "source": [
    "feature_names=['CRIM','ZN','INDUS','CHAS','NOX','RM','AGE','DIS','RAD','TAX','PTRATIO','B','LSTAT']"
   ]
  },
  {
   "cell_type": "markdown",
   "metadata": {
    "id": "qU2e_5-eMFaM"
   },
   "source": [
    "## Regresión"
   ]
  },
  {
   "cell_type": "markdown",
   "metadata": {},
   "source": [
    "Regresión Lineal:\n",
    "\n",
    "En la regresión lineal, tratamos de ajustar una línea recta que relacione la variable dependiente 𝑦 con las variables independientes \n",
    "X. El modelo predice 𝑦 a partir de 𝑋 minimizando la suma de los errores."
   ]
  },
  {
   "cell_type": "markdown",
   "metadata": {},
   "source": [
    "La regularización es una técnica que introduce una penalización en el modelo para evitar el sobreajuste y reducir la complejidad del modelo."
   ]
  },
  {
   "cell_type": "markdown",
   "metadata": {},
   "source": [
    "https://github.com/bcamandone/Machine-Learning/blob/main/Documentos%20te%C3%B3ricos/Sesgo%20y%20Varianza.pdf"
   ]
  },
  {
   "cell_type": "markdown",
   "metadata": {},
   "source": [
    "### ¿Cómo funciona Lasso?\n",
    "\n",
    "- Penalización L1: Lasso introduce la penalización en la forma de la norma L1 de los coeficientes de las variables independientes. Esto fuerza a algunos coeficientes a hacerse exactamente cero, lo que tiene el efecto de seleccionar características importantes y descartar las menos relevantes.\n",
    "    \n",
    "    \n",
    "- Selección de variables: Una de las propiedades más importantes de Lasso es que realiza una selección automática de variables. Las características con coeficientes que se vuelven cero son efectivamente eliminadas del modelo. Esto simplifica el modelo al enfocarse solo en las características que realmente importan.\n",
    "    \n",
    "- Reducir el overfitting: Al penalizar las variables irrelevantes y reducir los coeficientes grandes, Lasso ayuda a crear un modelo más simple y generalizable."
   ]
  },
  {
   "cell_type": "code",
   "execution_count": 128,
   "metadata": {
    "colab": {
     "base_uri": "https://localhost:8080/"
    },
    "executionInfo": {
     "elapsed": 727,
     "status": "ok",
     "timestamp": 1630770624371,
     "user": {
      "displayName": "Julio Rodriguez Martino",
      "photoUrl": "https://lh3.googleusercontent.com/a-/AOh14GjFnG6s_UDbNCdqSpd-m6QHQD9P90aARfhTeS1gIQ=s64",
      "userId": "05816779020109732306"
     },
     "user_tz": 180
    },
    "id": "ZuTFoyeLMFaN",
    "outputId": "6acca909-28c2-4d8e-867e-4c38e07382de"
   },
   "outputs": [],
   "source": [
    "from sklearn import datasets\n",
    "from sklearn.linear_model import Lasso\n",
    "\n",
    "from sklearn import linear_model, datasets\n",
    "from sklearn.model_selection import GridSearchCV\n",
    "\n"
   ]
  },
  {
   "cell_type": "markdown",
   "metadata": {},
   "source": [
    "GridSearchCV es una técnica de búsqueda exhaustiva utilizada en Machine Learning para encontrar los mejores hiperparámetros para un modelo. Es especialmente útil cuando estás trabajando con modelos que tienen hiperparámetros que afectan su rendimiento, y deseas encontrar la combinación que optimice los resultados.\n",
    "\n",
    "En Machine Learning, los hiperparámetros son parámetros que no se aprenden directamente del modelo, sino que deben ser establecidos antes del proceso de entrenamiento."
   ]
  },
  {
   "cell_type": "markdown",
   "metadata": {},
   "source": [
    "### ¿Cómo funciona GridSearchCV?\n",
    "\n",
    "Especificar el modelo y los hiperparámetros:\n",
    "\n",
    "Seleccionas el modelo que deseas ajustar (como un árbol de decisión, regresión logística, etc.).\n",
    "Luego, defines un conjunto de hiperparámetros que deseas probar. Cada hiperparámetro tendrá un conjunto de valores posibles  (como un rango de valores de regularización, el número de vecinos para k-NN, etc.).\n",
    "\n",
    "Búsqueda en la cuadrícula (grid):\n",
    "\n",
    "GridSearchCV crea una \"cuadrícula\" de todas las combinaciones posibles de los hiperparámetros que has especificado.\n",
    "Por ejemplo, si tienes dos hiperparámetros con 3 valores posibles cada uno, se probarán 9 combinaciones en total.\n",
    "Entrenamiento y validación cruzada:\n",
    "\n",
    "Para cada combinación de hiperparámetros, GridSearchCV entrena el modelo utilizando validación cruzada, dividendo el conjunto de datos en varias particiones (folds).\n",
    "\n",
    "El modelo se entrena en una parte y se valida en la otra, repitiendo esto para todas las particiones.\n",
    "\n",
    "Evaluación del rendimiento:\n",
    "\n",
    "Después de probar todas las combinaciones, GridSearchCV evalúa el rendimiento del modelo (por ejemplo, utilizando precisión, F1-score, o cualquier métrica relevante) y selecciona la mejor combinación de hiperparámetros basada en el rendimiento promedio en las validaciones cruzadas.\n",
    "\n",
    "Mejores hiperparámetros:\n",
    "\n",
    "Una vez que se completa la búsqueda, GridSearchCV te dice cuál es la mejor combinación de hiperparámetros que maximiza el rendimiento del modelo."
   ]
  },
  {
   "cell_type": "markdown",
   "metadata": {},
   "source": [
    "https://scikit-learn.org/dev/api/sklearn.linear_model.html"
   ]
  },
  {
   "cell_type": "code",
   "execution_count": 132,
   "metadata": {},
   "outputs": [],
   "source": [
    "\n",
    "X_train = boston.data[:310]  # primeras 310 para entrenar \n",
    "y_train = boston.target[:310]\n",
    "\n",
    "X_test = boston.data[310:]\n",
    "y_test = boston.target[310:]\n",
    "\n"
   ]
  },
  {
   "cell_type": "code",
   "execution_count": null,
   "metadata": {},
   "outputs": [],
   "source": [
    "lasso = Lasso(random_state=0) # semilla para reproducir el mismo experimento \n",
    "\n",
    "alphas = np.logspace(-4, -0.5, 30) # parametro alpha por defecto vale 1 \n",
    "\n",
    "scores = list() # lista para guardar los scores, diferencia entre valor del precio del inmueble y valos predicho\n",
    "scores_std = list()\n",
    "\n",
    "estimator = GridSearchCV(lasso,\n",
    "                         param_grid = dict(alpha=alphas)) # prueba con todos los valores de alpha hasta que encuentra el mejor\n",
    "\n",
    "estimator.fit(X_train, y_train)"
   ]
  },
  {
   "cell_type": "code",
   "execution_count": null,
   "metadata": {
    "colab": {
     "base_uri": "https://localhost:8080/"
    },
    "executionInfo": {
     "elapsed": 256,
     "status": "ok",
     "timestamp": 1630770630977,
     "user": {
      "displayName": "Julio Rodriguez Martino",
      "photoUrl": "https://lh3.googleusercontent.com/a-/AOh14GjFnG6s_UDbNCdqSpd-m6QHQD9P90aARfhTeS1gIQ=s64",
      "userId": "05816779020109732306"
     },
     "user_tz": 180
    },
    "id": "w6du56jgMFaN",
    "outputId": "21e99a31-2760-49e6-a40f-0a0182676380"
   },
   "outputs": [],
   "source": [
    "estimator.best_score_ #menor diferencia en promedio entre el valor predicho y el valor real R²"
   ]
  },
  {
   "cell_type": "markdown",
   "metadata": {},
   "source": [
    "El atributo estimator.best_score_ te indica el mejor puntaje (score) obtenido durante la validación cruzada utilizando los hiperparámetros óptimos que fueron encontrados durante el proceso de búsqueda.\n",
    "\n",
    "Este valor indica que el modelo captura parte de la relación entre las variables, pero, también sugiere que hay margen para mejorar el rendimiento, ya que el 59.2% de la variabilidad de los precios de las casas no se está explicando."
   ]
  },
  {
   "cell_type": "code",
   "execution_count": null,
   "metadata": {
    "colab": {
     "base_uri": "https://localhost:8080/"
    },
    "executionInfo": {
     "elapsed": 248,
     "status": "ok",
     "timestamp": 1630770633449,
     "user": {
      "displayName": "Julio Rodriguez Martino",
      "photoUrl": "https://lh3.googleusercontent.com/a-/AOh14GjFnG6s_UDbNCdqSpd-m6QHQD9P90aARfhTeS1gIQ=s64",
      "userId": "05816779020109732306"
     },
     "user_tz": 180
    },
    "id": "pK3UWFOXMFaO",
    "outputId": "1208afbf-6731-4641-d774-3de2f5bc06d8"
   },
   "outputs": [],
   "source": [
    "estimator.best_estimator_"
   ]
  },
  {
   "cell_type": "code",
   "execution_count": 137,
   "metadata": {
    "id": "A5F0tsBZMFaP"
   },
   "outputs": [],
   "source": [
    "pred = estimator.predict(X_test) # uso el conjunto de test "
   ]
  },
  {
   "cell_type": "code",
   "execution_count": 138,
   "metadata": {
    "id": "0gaRq-utfDeR"
   },
   "outputs": [],
   "source": [
    "dif = pred - y_test # Diferencia entre la predicción y el valor real"
   ]
  },
  {
   "cell_type": "code",
   "execution_count": null,
   "metadata": {
    "colab": {
     "base_uri": "https://localhost:8080/",
     "height": 281
    },
    "executionInfo": {
     "elapsed": 794,
     "status": "ok",
     "timestamp": 1630770641340,
     "user": {
      "displayName": "Julio Rodriguez Martino",
      "photoUrl": "https://lh3.googleusercontent.com/a-/AOh14GjFnG6s_UDbNCdqSpd-m6QHQD9P90aARfhTeS1gIQ=s64",
      "userId": "05816779020109732306"
     },
     "user_tz": 180
    },
    "id": "dQaV3Es_fILc",
    "outputId": "d04f8940-aa30-4aa8-d4bb-892871f063b7"
   },
   "outputs": [],
   "source": [
    "from matplotlib import pyplot as plt \n",
    "plt.hist(dif, bins = 50) \n",
    "plt.title(\"Diferencia entre la predicción y el valor real\") #histograma de la diferencia \n",
    "plt.show()"
   ]
  },
  {
   "cell_type": "markdown",
   "metadata": {},
   "source": [
    " Valores negativos: Mi predicción es mucho mas chica que el valor real \n",
    " \n",
    " \n",
    " Debería tener un histograma centrado en 0, la diferencia es cercana a cero "
   ]
  },
  {
   "cell_type": "markdown",
   "metadata": {
    "id": "ulJx7CpUhQlX"
   },
   "source": [
    "## Ejercicio: buscar otro modelo de regresión en la documentación de scikit learn y probarlo"
   ]
  }
 ],
 "metadata": {
  "colab": {
   "authorship_tag": "ABX9TyNg6lMiCMuIPEJgqreWlK2k",
   "name": "MLII - Clase 3 - Práctica",
   "provenance": []
  },
  "kernelspec": {
   "display_name": "envWindows",
   "language": "python",
   "name": "python3"
  },
  "language_info": {
   "codemirror_mode": {
    "name": "ipython",
    "version": 3
   },
   "file_extension": ".py",
   "mimetype": "text/x-python",
   "name": "python",
   "nbconvert_exporter": "python",
   "pygments_lexer": "ipython3",
   "version": "3.12.3"
  }
 },
 "nbformat": 4,
 "nbformat_minor": 1
}
