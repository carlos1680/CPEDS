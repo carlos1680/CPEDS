{
  "nbformat": 4,
  "nbformat_minor": 0,
  "metadata": {
    "colab": {
      "name": "MLII - Clase 6 - Práctica",
      "provenance": []
    },
    "kernelspec": {
      "name": "python3",
      "display_name": "Python 3"
    },
    "language_info": {
      "name": "python"
    }
  },
  "cells": [
    {
      "cell_type": "markdown",
      "metadata": {
        "id": "raSWau7SkwdI"
      },
      "source": [
        "#Feature Engineering para datos numéricos\n",
        "\n"
      ]
    },
    {
      "cell_type": "markdown",
      "metadata": {
        "id": "rLHHtqTCkEKJ"
      },
      "source": [
        "## Importar librerias y definir configuraciones\n"
      ]
    },
    {
      "cell_type": "code",
      "metadata": {
        "id": "8ANZRIsRkEKN"
      },
      "source": [
        "import pandas as pd\n",
        "import matplotlib.pyplot as plt\n",
        "import matplotlib as mpl\n",
        "import numpy as np\n",
        "import scipy.stats as spstats\n",
        "import io\n",
        "\n",
        "%matplotlib inline\n",
        "mpl.style.reload_library()\n",
        "mpl.style.use('classic')\n",
        "mpl.rcParams['figure.facecolor'] = (1, 1, 1, 0)\n",
        "mpl.rcParams['figure.figsize'] = [6.0, 4.0]\n",
        "mpl.rcParams['figure.dpi'] = 100"
      ],
      "execution_count": null,
      "outputs": []
    },
    {
      "cell_type": "markdown",
      "metadata": {
        "id": "gnsBjXVQkEKP"
      },
      "source": [
        "# Mediciones en crudo"
      ]
    },
    {
      "cell_type": "markdown",
      "metadata": {
        "id": "OIXHc-mRkEKQ"
      },
      "source": [
        "## Valores"
      ]
    },
    {
      "cell_type": "code",
      "metadata": {
        "colab": {
          "resources": {
            "http://localhost:8080/nbextensions/google.colab/files.js": {
              "data": "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",
              "ok": true,
              "headers": [
                [
                  "content-type",
                  "application/javascript"
                ]
              ],
              "status": 200,
              "status_text": "OK"
            }
          },
          "base_uri": "https://localhost:8080/",
          "height": 76
        },
        "id": "yKEaP05dYxUa",
        "outputId": "fb42e608-9ab9-4055-a05f-4531d696fb34"
      },
      "source": [
        "from google.colab import files\n",
        "data_to_load = files.upload()"
      ],
      "execution_count": null,
      "outputs": [
        {
          "output_type": "display_data",
          "data": {
            "text/html": [
              "\n",
              "     <input type=\"file\" id=\"files-854d52d7-88e5-4a2f-b505-111a18fc0cf5\" name=\"files[]\" multiple disabled\n",
              "        style=\"border:none\" />\n",
              "     <output id=\"result-854d52d7-88e5-4a2f-b505-111a18fc0cf5\">\n",
              "      Upload widget is only available when the cell has been executed in the\n",
              "      current browser session. Please rerun this cell to enable.\n",
              "      </output>\n",
              "      <script src=\"/nbextensions/google.colab/files.js\"></script> "
            ],
            "text/plain": [
              "<IPython.core.display.HTML object>"
            ]
          },
          "metadata": {}
        },
        {
          "output_type": "stream",
          "name": "stdout",
          "text": [
            "Saving Pokemon.csv to Pokemon.csv\n"
          ]
        }
      ]
    },
    {
      "cell_type": "code",
      "metadata": {
        "id": "_gbKDfA7kEKQ",
        "colab": {
          "base_uri": "https://localhost:8080/",
          "height": 206
        },
        "outputId": "be0d4702-53c7-4fd0-d799-a5407da7012a"
      },
      "source": [
        "poke_df = pd.read_csv(io.BytesIO(data_to_load['Pokemon.csv']))\n",
        "poke_df.head()"
      ],
      "execution_count": null,
      "outputs": [
        {
          "output_type": "execute_result",
          "data": {
            "text/html": [
              "<div>\n",
              "<style scoped>\n",
              "    .dataframe tbody tr th:only-of-type {\n",
              "        vertical-align: middle;\n",
              "    }\n",
              "\n",
              "    .dataframe tbody tr th {\n",
              "        vertical-align: top;\n",
              "    }\n",
              "\n",
              "    .dataframe thead th {\n",
              "        text-align: right;\n",
              "    }\n",
              "</style>\n",
              "<table border=\"1\" class=\"dataframe\">\n",
              "  <thead>\n",
              "    <tr style=\"text-align: right;\">\n",
              "      <th></th>\n",
              "      <th>#</th>\n",
              "      <th>Name</th>\n",
              "      <th>Type 1</th>\n",
              "      <th>Type 2</th>\n",
              "      <th>Total</th>\n",
              "      <th>HP</th>\n",
              "      <th>Attack</th>\n",
              "      <th>Defense</th>\n",
              "      <th>Sp. Atk</th>\n",
              "      <th>Sp. Def</th>\n",
              "      <th>Speed</th>\n",
              "      <th>Generation</th>\n",
              "      <th>Legendary</th>\n",
              "    </tr>\n",
              "  </thead>\n",
              "  <tbody>\n",
              "    <tr>\n",
              "      <th>0</th>\n",
              "      <td>1</td>\n",
              "      <td>Bulbasaur</td>\n",
              "      <td>Grass</td>\n",
              "      <td>Poison</td>\n",
              "      <td>318</td>\n",
              "      <td>45</td>\n",
              "      <td>49</td>\n",
              "      <td>49</td>\n",
              "      <td>65</td>\n",
              "      <td>65</td>\n",
              "      <td>45</td>\n",
              "      <td>Gen 1</td>\n",
              "      <td>False</td>\n",
              "    </tr>\n",
              "    <tr>\n",
              "      <th>1</th>\n",
              "      <td>2</td>\n",
              "      <td>Ivysaur</td>\n",
              "      <td>Grass</td>\n",
              "      <td>Poison</td>\n",
              "      <td>405</td>\n",
              "      <td>60</td>\n",
              "      <td>62</td>\n",
              "      <td>63</td>\n",
              "      <td>80</td>\n",
              "      <td>80</td>\n",
              "      <td>60</td>\n",
              "      <td>Gen 1</td>\n",
              "      <td>False</td>\n",
              "    </tr>\n",
              "    <tr>\n",
              "      <th>2</th>\n",
              "      <td>3</td>\n",
              "      <td>Venusaur</td>\n",
              "      <td>Grass</td>\n",
              "      <td>Poison</td>\n",
              "      <td>525</td>\n",
              "      <td>80</td>\n",
              "      <td>82</td>\n",
              "      <td>83</td>\n",
              "      <td>100</td>\n",
              "      <td>100</td>\n",
              "      <td>80</td>\n",
              "      <td>Gen 1</td>\n",
              "      <td>False</td>\n",
              "    </tr>\n",
              "    <tr>\n",
              "      <th>3</th>\n",
              "      <td>3</td>\n",
              "      <td>VenusaurMega Venusaur</td>\n",
              "      <td>Grass</td>\n",
              "      <td>Poison</td>\n",
              "      <td>625</td>\n",
              "      <td>80</td>\n",
              "      <td>100</td>\n",
              "      <td>123</td>\n",
              "      <td>122</td>\n",
              "      <td>120</td>\n",
              "      <td>80</td>\n",
              "      <td>Gen 1</td>\n",
              "      <td>False</td>\n",
              "    </tr>\n",
              "    <tr>\n",
              "      <th>4</th>\n",
              "      <td>4</td>\n",
              "      <td>Charmander</td>\n",
              "      <td>Fire</td>\n",
              "      <td>NaN</td>\n",
              "      <td>309</td>\n",
              "      <td>39</td>\n",
              "      <td>52</td>\n",
              "      <td>43</td>\n",
              "      <td>60</td>\n",
              "      <td>50</td>\n",
              "      <td>65</td>\n",
              "      <td>Gen 1</td>\n",
              "      <td>False</td>\n",
              "    </tr>\n",
              "  </tbody>\n",
              "</table>\n",
              "</div>"
            ],
            "text/plain": [
              "   #                   Name Type 1  ... Speed  Generation  Legendary\n",
              "0  1              Bulbasaur  Grass  ...    45       Gen 1      False\n",
              "1  2                Ivysaur  Grass  ...    60       Gen 1      False\n",
              "2  3               Venusaur  Grass  ...    80       Gen 1      False\n",
              "3  3  VenusaurMega Venusaur  Grass  ...    80       Gen 1      False\n",
              "4  4             Charmander   Fire  ...    65       Gen 1      False\n",
              "\n",
              "[5 rows x 13 columns]"
            ]
          },
          "metadata": {},
          "execution_count": 4
        }
      ]
    },
    {
      "cell_type": "code",
      "metadata": {
        "id": "cB9zHgezkEKS",
        "colab": {
          "base_uri": "https://localhost:8080/",
          "height": 206
        },
        "outputId": "006b5575-0fbd-425d-bd8f-9c02e075ed12"
      },
      "source": [
        "poke_df[['HP', 'Attack', 'Defense']].head()"
      ],
      "execution_count": null,
      "outputs": [
        {
          "output_type": "execute_result",
          "data": {
            "text/html": [
              "<div>\n",
              "<style scoped>\n",
              "    .dataframe tbody tr th:only-of-type {\n",
              "        vertical-align: middle;\n",
              "    }\n",
              "\n",
              "    .dataframe tbody tr th {\n",
              "        vertical-align: top;\n",
              "    }\n",
              "\n",
              "    .dataframe thead th {\n",
              "        text-align: right;\n",
              "    }\n",
              "</style>\n",
              "<table border=\"1\" class=\"dataframe\">\n",
              "  <thead>\n",
              "    <tr style=\"text-align: right;\">\n",
              "      <th></th>\n",
              "      <th>HP</th>\n",
              "      <th>Attack</th>\n",
              "      <th>Defense</th>\n",
              "    </tr>\n",
              "  </thead>\n",
              "  <tbody>\n",
              "    <tr>\n",
              "      <th>0</th>\n",
              "      <td>45</td>\n",
              "      <td>49</td>\n",
              "      <td>49</td>\n",
              "    </tr>\n",
              "    <tr>\n",
              "      <th>1</th>\n",
              "      <td>60</td>\n",
              "      <td>62</td>\n",
              "      <td>63</td>\n",
              "    </tr>\n",
              "    <tr>\n",
              "      <th>2</th>\n",
              "      <td>80</td>\n",
              "      <td>82</td>\n",
              "      <td>83</td>\n",
              "    </tr>\n",
              "    <tr>\n",
              "      <th>3</th>\n",
              "      <td>80</td>\n",
              "      <td>100</td>\n",
              "      <td>123</td>\n",
              "    </tr>\n",
              "    <tr>\n",
              "      <th>4</th>\n",
              "      <td>39</td>\n",
              "      <td>52</td>\n",
              "      <td>43</td>\n",
              "    </tr>\n",
              "  </tbody>\n",
              "</table>\n",
              "</div>"
            ],
            "text/plain": [
              "   HP  Attack  Defense\n",
              "0  45      49       49\n",
              "1  60      62       63\n",
              "2  80      82       83\n",
              "3  80     100      123\n",
              "4  39      52       43"
            ]
          },
          "metadata": {},
          "execution_count": 5
        }
      ]
    },
    {
      "cell_type": "code",
      "metadata": {
        "id": "gI2SImUKkEKS",
        "colab": {
          "base_uri": "https://localhost:8080/",
          "height": 300
        },
        "outputId": "66414487-0ef1-47bf-af08-46f96bca6077"
      },
      "source": [
        "poke_df[['HP', 'Attack', 'Defense']].describe()"
      ],
      "execution_count": null,
      "outputs": [
        {
          "output_type": "execute_result",
          "data": {
            "text/html": [
              "<div>\n",
              "<style scoped>\n",
              "    .dataframe tbody tr th:only-of-type {\n",
              "        vertical-align: middle;\n",
              "    }\n",
              "\n",
              "    .dataframe tbody tr th {\n",
              "        vertical-align: top;\n",
              "    }\n",
              "\n",
              "    .dataframe thead th {\n",
              "        text-align: right;\n",
              "    }\n",
              "</style>\n",
              "<table border=\"1\" class=\"dataframe\">\n",
              "  <thead>\n",
              "    <tr style=\"text-align: right;\">\n",
              "      <th></th>\n",
              "      <th>HP</th>\n",
              "      <th>Attack</th>\n",
              "      <th>Defense</th>\n",
              "    </tr>\n",
              "  </thead>\n",
              "  <tbody>\n",
              "    <tr>\n",
              "      <th>count</th>\n",
              "      <td>800.000000</td>\n",
              "      <td>800.000000</td>\n",
              "      <td>800.000000</td>\n",
              "    </tr>\n",
              "    <tr>\n",
              "      <th>mean</th>\n",
              "      <td>69.258750</td>\n",
              "      <td>79.001250</td>\n",
              "      <td>73.842500</td>\n",
              "    </tr>\n",
              "    <tr>\n",
              "      <th>std</th>\n",
              "      <td>25.534669</td>\n",
              "      <td>32.457366</td>\n",
              "      <td>31.183501</td>\n",
              "    </tr>\n",
              "    <tr>\n",
              "      <th>min</th>\n",
              "      <td>1.000000</td>\n",
              "      <td>5.000000</td>\n",
              "      <td>5.000000</td>\n",
              "    </tr>\n",
              "    <tr>\n",
              "      <th>25%</th>\n",
              "      <td>50.000000</td>\n",
              "      <td>55.000000</td>\n",
              "      <td>50.000000</td>\n",
              "    </tr>\n",
              "    <tr>\n",
              "      <th>50%</th>\n",
              "      <td>65.000000</td>\n",
              "      <td>75.000000</td>\n",
              "      <td>70.000000</td>\n",
              "    </tr>\n",
              "    <tr>\n",
              "      <th>75%</th>\n",
              "      <td>80.000000</td>\n",
              "      <td>100.000000</td>\n",
              "      <td>90.000000</td>\n",
              "    </tr>\n",
              "    <tr>\n",
              "      <th>max</th>\n",
              "      <td>255.000000</td>\n",
              "      <td>190.000000</td>\n",
              "      <td>230.000000</td>\n",
              "    </tr>\n",
              "  </tbody>\n",
              "</table>\n",
              "</div>"
            ],
            "text/plain": [
              "               HP      Attack     Defense\n",
              "count  800.000000  800.000000  800.000000\n",
              "mean    69.258750   79.001250   73.842500\n",
              "std     25.534669   32.457366   31.183501\n",
              "min      1.000000    5.000000    5.000000\n",
              "25%     50.000000   55.000000   50.000000\n",
              "50%     65.000000   75.000000   70.000000\n",
              "75%     80.000000  100.000000   90.000000\n",
              "max    255.000000  190.000000  230.000000"
            ]
          },
          "metadata": {},
          "execution_count": 6
        }
      ]
    },
    {
      "cell_type": "markdown",
      "metadata": {
        "id": "EY2MYH1NkEKT"
      },
      "source": [
        "## Cuentas"
      ]
    },
    {
      "cell_type": "code",
      "metadata": {
        "id": "JOmbAmSbkEKT",
        "colab": {
          "resources": {
            "http://localhost:8080/nbextensions/google.colab/files.js": {
              "data": "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",
              "ok": true,
              "headers": [
                [
                  "content-type",
                  "application/javascript"
                ]
              ],
              "status": 200,
              "status_text": "OK"
            }
          },
          "base_uri": "https://localhost:8080/",
          "height": 422
        },
        "outputId": "af243f37-1ef3-4e9a-89bf-a971b01ed435"
      },
      "source": [
        "data_to_load = files.upload()\n",
        "popsong_df = pd.read_csv(io.BytesIO(data_to_load['song_views.csv']))\n",
        "popsong_df.head(10)"
      ],
      "execution_count": null,
      "outputs": [
        {
          "output_type": "display_data",
          "data": {
            "text/html": [
              "\n",
              "     <input type=\"file\" id=\"files-3a82183e-9bd6-45d9-8f3f-a24999cdcb60\" name=\"files[]\" multiple disabled\n",
              "        style=\"border:none\" />\n",
              "     <output id=\"result-3a82183e-9bd6-45d9-8f3f-a24999cdcb60\">\n",
              "      Upload widget is only available when the cell has been executed in the\n",
              "      current browser session. Please rerun this cell to enable.\n",
              "      </output>\n",
              "      <script src=\"/nbextensions/google.colab/files.js\"></script> "
            ],
            "text/plain": [
              "<IPython.core.display.HTML object>"
            ]
          },
          "metadata": {}
        },
        {
          "output_type": "stream",
          "name": "stdout",
          "text": [
            "Saving song_views.csv to song_views.csv\n"
          ]
        },
        {
          "output_type": "execute_result",
          "data": {
            "text/html": [
              "<div>\n",
              "<style scoped>\n",
              "    .dataframe tbody tr th:only-of-type {\n",
              "        vertical-align: middle;\n",
              "    }\n",
              "\n",
              "    .dataframe tbody tr th {\n",
              "        vertical-align: top;\n",
              "    }\n",
              "\n",
              "    .dataframe thead th {\n",
              "        text-align: right;\n",
              "    }\n",
              "</style>\n",
              "<table border=\"1\" class=\"dataframe\">\n",
              "  <thead>\n",
              "    <tr style=\"text-align: right;\">\n",
              "      <th></th>\n",
              "      <th>user_id</th>\n",
              "      <th>song_id</th>\n",
              "      <th>title</th>\n",
              "      <th>listen_count</th>\n",
              "    </tr>\n",
              "  </thead>\n",
              "  <tbody>\n",
              "    <tr>\n",
              "      <th>0</th>\n",
              "      <td>b6b799f34a204bd928ea014c243ddad6d0be4f8f</td>\n",
              "      <td>SOBONKR12A58A7A7E0</td>\n",
              "      <td>You're The One</td>\n",
              "      <td>2</td>\n",
              "    </tr>\n",
              "    <tr>\n",
              "      <th>1</th>\n",
              "      <td>b41ead730ac14f6b6717b9cf8859d5579f3f8d4d</td>\n",
              "      <td>SOBONKR12A58A7A7E0</td>\n",
              "      <td>You're The One</td>\n",
              "      <td>0</td>\n",
              "    </tr>\n",
              "    <tr>\n",
              "      <th>2</th>\n",
              "      <td>4c84359a164b161496d05282707cecbd50adbfc4</td>\n",
              "      <td>SOBONKR12A58A7A7E0</td>\n",
              "      <td>You're The One</td>\n",
              "      <td>0</td>\n",
              "    </tr>\n",
              "    <tr>\n",
              "      <th>3</th>\n",
              "      <td>779b5908593756abb6ff7586177c966022668b06</td>\n",
              "      <td>SOBONKR12A58A7A7E0</td>\n",
              "      <td>You're The One</td>\n",
              "      <td>0</td>\n",
              "    </tr>\n",
              "    <tr>\n",
              "      <th>4</th>\n",
              "      <td>dd88ea94f605a63d9fc37a214127e3f00e85e42d</td>\n",
              "      <td>SOBONKR12A58A7A7E0</td>\n",
              "      <td>You're The One</td>\n",
              "      <td>0</td>\n",
              "    </tr>\n",
              "    <tr>\n",
              "      <th>5</th>\n",
              "      <td>68f0359a2f1cedb0d15c98d88017281db79f9bc6</td>\n",
              "      <td>SOBONKR12A58A7A7E0</td>\n",
              "      <td>You're The One</td>\n",
              "      <td>0</td>\n",
              "    </tr>\n",
              "    <tr>\n",
              "      <th>6</th>\n",
              "      <td>116a4c95d63623a967edf2f3456c90ebbf964e6f</td>\n",
              "      <td>SOBONKR12A58A7A7E0</td>\n",
              "      <td>You're The One</td>\n",
              "      <td>17</td>\n",
              "    </tr>\n",
              "    <tr>\n",
              "      <th>7</th>\n",
              "      <td>45544491ccfcdc0b0803c34f201a6287ed4e30f8</td>\n",
              "      <td>SOBONKR12A58A7A7E0</td>\n",
              "      <td>You're The One</td>\n",
              "      <td>0</td>\n",
              "    </tr>\n",
              "    <tr>\n",
              "      <th>8</th>\n",
              "      <td>e701a24d9b6c59f5ac37ab28462ca82470e27cfb</td>\n",
              "      <td>SOBONKR12A58A7A7E0</td>\n",
              "      <td>You're The One</td>\n",
              "      <td>68</td>\n",
              "    </tr>\n",
              "    <tr>\n",
              "      <th>9</th>\n",
              "      <td>edc8b7b1fd592a3b69c3d823a742e1a064abec95</td>\n",
              "      <td>SOBONKR12A58A7A7E0</td>\n",
              "      <td>You're The One</td>\n",
              "      <td>0</td>\n",
              "    </tr>\n",
              "  </tbody>\n",
              "</table>\n",
              "</div>"
            ],
            "text/plain": [
              "                                    user_id  ... listen_count\n",
              "0  b6b799f34a204bd928ea014c243ddad6d0be4f8f  ...            2\n",
              "1  b41ead730ac14f6b6717b9cf8859d5579f3f8d4d  ...            0\n",
              "2  4c84359a164b161496d05282707cecbd50adbfc4  ...            0\n",
              "3  779b5908593756abb6ff7586177c966022668b06  ...            0\n",
              "4  dd88ea94f605a63d9fc37a214127e3f00e85e42d  ...            0\n",
              "5  68f0359a2f1cedb0d15c98d88017281db79f9bc6  ...            0\n",
              "6  116a4c95d63623a967edf2f3456c90ebbf964e6f  ...           17\n",
              "7  45544491ccfcdc0b0803c34f201a6287ed4e30f8  ...            0\n",
              "8  e701a24d9b6c59f5ac37ab28462ca82470e27cfb  ...           68\n",
              "9  edc8b7b1fd592a3b69c3d823a742e1a064abec95  ...            0\n",
              "\n",
              "[10 rows x 4 columns]"
            ]
          },
          "metadata": {},
          "execution_count": 7
        }
      ]
    },
    {
      "cell_type": "markdown",
      "metadata": {
        "id": "MStSnc7UkEKU"
      },
      "source": [
        "# Binarización"
      ]
    },
    {
      "cell_type": "markdown",
      "metadata": {
        "id": "PdjEuX5UuZ6i"
      },
      "source": [
        "A menudo, las frecuencias numéricas o los recuentos no son necesarios en la construcción de modelos, especialmente con respecto a\n",
        "métodos aplicados en la construcción de sistemas de recomendación. Por ejemplo si quiero saber si una persona está interesada\n",
        "o ha escuchado una canción en particular, no necesito saber el número total de veces que la ha escuchado. Me preocupan más las distintas canciones que ha escuchado. En este caso, una característica binaria es preferible. Podemos binarizar el campo listen_count de nuestro conjunto de datos anterior de la siguiente manera."
      ]
    },
    {
      "cell_type": "code",
      "metadata": {
        "id": "N_Y4tdd8kEKU",
        "colab": {
          "base_uri": "https://localhost:8080/",
          "height": 363
        },
        "outputId": "e39a7347-2233-45a4-84cd-a94d2110f582"
      },
      "source": [
        "escuchada = np.array(popsong_df['listen_count']) \n",
        "escuchada[escuchada >= 1] = 1\n",
        "popsong_df['escuchada'] = escuchada\n",
        "popsong_df.head(10)"
      ],
      "execution_count": null,
      "outputs": [
        {
          "output_type": "execute_result",
          "data": {
            "text/html": [
              "<div>\n",
              "<style scoped>\n",
              "    .dataframe tbody tr th:only-of-type {\n",
              "        vertical-align: middle;\n",
              "    }\n",
              "\n",
              "    .dataframe tbody tr th {\n",
              "        vertical-align: top;\n",
              "    }\n",
              "\n",
              "    .dataframe thead th {\n",
              "        text-align: right;\n",
              "    }\n",
              "</style>\n",
              "<table border=\"1\" class=\"dataframe\">\n",
              "  <thead>\n",
              "    <tr style=\"text-align: right;\">\n",
              "      <th></th>\n",
              "      <th>user_id</th>\n",
              "      <th>song_id</th>\n",
              "      <th>title</th>\n",
              "      <th>listen_count</th>\n",
              "      <th>escuchada</th>\n",
              "    </tr>\n",
              "  </thead>\n",
              "  <tbody>\n",
              "    <tr>\n",
              "      <th>0</th>\n",
              "      <td>b6b799f34a204bd928ea014c243ddad6d0be4f8f</td>\n",
              "      <td>SOBONKR12A58A7A7E0</td>\n",
              "      <td>You're The One</td>\n",
              "      <td>2</td>\n",
              "      <td>1</td>\n",
              "    </tr>\n",
              "    <tr>\n",
              "      <th>1</th>\n",
              "      <td>b41ead730ac14f6b6717b9cf8859d5579f3f8d4d</td>\n",
              "      <td>SOBONKR12A58A7A7E0</td>\n",
              "      <td>You're The One</td>\n",
              "      <td>0</td>\n",
              "      <td>0</td>\n",
              "    </tr>\n",
              "    <tr>\n",
              "      <th>2</th>\n",
              "      <td>4c84359a164b161496d05282707cecbd50adbfc4</td>\n",
              "      <td>SOBONKR12A58A7A7E0</td>\n",
              "      <td>You're The One</td>\n",
              "      <td>0</td>\n",
              "      <td>0</td>\n",
              "    </tr>\n",
              "    <tr>\n",
              "      <th>3</th>\n",
              "      <td>779b5908593756abb6ff7586177c966022668b06</td>\n",
              "      <td>SOBONKR12A58A7A7E0</td>\n",
              "      <td>You're The One</td>\n",
              "      <td>0</td>\n",
              "      <td>0</td>\n",
              "    </tr>\n",
              "    <tr>\n",
              "      <th>4</th>\n",
              "      <td>dd88ea94f605a63d9fc37a214127e3f00e85e42d</td>\n",
              "      <td>SOBONKR12A58A7A7E0</td>\n",
              "      <td>You're The One</td>\n",
              "      <td>0</td>\n",
              "      <td>0</td>\n",
              "    </tr>\n",
              "    <tr>\n",
              "      <th>5</th>\n",
              "      <td>68f0359a2f1cedb0d15c98d88017281db79f9bc6</td>\n",
              "      <td>SOBONKR12A58A7A7E0</td>\n",
              "      <td>You're The One</td>\n",
              "      <td>0</td>\n",
              "      <td>0</td>\n",
              "    </tr>\n",
              "    <tr>\n",
              "      <th>6</th>\n",
              "      <td>116a4c95d63623a967edf2f3456c90ebbf964e6f</td>\n",
              "      <td>SOBONKR12A58A7A7E0</td>\n",
              "      <td>You're The One</td>\n",
              "      <td>17</td>\n",
              "      <td>1</td>\n",
              "    </tr>\n",
              "    <tr>\n",
              "      <th>7</th>\n",
              "      <td>45544491ccfcdc0b0803c34f201a6287ed4e30f8</td>\n",
              "      <td>SOBONKR12A58A7A7E0</td>\n",
              "      <td>You're The One</td>\n",
              "      <td>0</td>\n",
              "      <td>0</td>\n",
              "    </tr>\n",
              "    <tr>\n",
              "      <th>8</th>\n",
              "      <td>e701a24d9b6c59f5ac37ab28462ca82470e27cfb</td>\n",
              "      <td>SOBONKR12A58A7A7E0</td>\n",
              "      <td>You're The One</td>\n",
              "      <td>68</td>\n",
              "      <td>1</td>\n",
              "    </tr>\n",
              "    <tr>\n",
              "      <th>9</th>\n",
              "      <td>edc8b7b1fd592a3b69c3d823a742e1a064abec95</td>\n",
              "      <td>SOBONKR12A58A7A7E0</td>\n",
              "      <td>You're The One</td>\n",
              "      <td>0</td>\n",
              "      <td>0</td>\n",
              "    </tr>\n",
              "  </tbody>\n",
              "</table>\n",
              "</div>"
            ],
            "text/plain": [
              "                                    user_id  ... escuchada\n",
              "0  b6b799f34a204bd928ea014c243ddad6d0be4f8f  ...         1\n",
              "1  b41ead730ac14f6b6717b9cf8859d5579f3f8d4d  ...         0\n",
              "2  4c84359a164b161496d05282707cecbd50adbfc4  ...         0\n",
              "3  779b5908593756abb6ff7586177c966022668b06  ...         0\n",
              "4  dd88ea94f605a63d9fc37a214127e3f00e85e42d  ...         0\n",
              "5  68f0359a2f1cedb0d15c98d88017281db79f9bc6  ...         0\n",
              "6  116a4c95d63623a967edf2f3456c90ebbf964e6f  ...         1\n",
              "7  45544491ccfcdc0b0803c34f201a6287ed4e30f8  ...         0\n",
              "8  e701a24d9b6c59f5ac37ab28462ca82470e27cfb  ...         1\n",
              "9  edc8b7b1fd592a3b69c3d823a742e1a064abec95  ...         0\n",
              "\n",
              "[10 rows x 5 columns]"
            ]
          },
          "metadata": {},
          "execution_count": 8
        }
      ]
    },
    {
      "cell_type": "code",
      "metadata": {
        "id": "2DrG3k3ZkEKV",
        "colab": {
          "base_uri": "https://localhost:8080/",
          "height": 394
        },
        "outputId": "21095375-7e40-4866-cb49-d0312b88640f"
      },
      "source": [
        "from sklearn.preprocessing import Binarizer\n",
        "\n",
        "bn = Binarizer(threshold=0.9)\n",
        "bin_escuchada = bn.transform([popsong_df['listen_count']])[0]\n",
        "popsong_df['bin_escuchada'] = bin_escuchada\n",
        "popsong_df.head(11)"
      ],
      "execution_count": null,
      "outputs": [
        {
          "output_type": "execute_result",
          "data": {
            "text/html": [
              "<div>\n",
              "<style scoped>\n",
              "    .dataframe tbody tr th:only-of-type {\n",
              "        vertical-align: middle;\n",
              "    }\n",
              "\n",
              "    .dataframe tbody tr th {\n",
              "        vertical-align: top;\n",
              "    }\n",
              "\n",
              "    .dataframe thead th {\n",
              "        text-align: right;\n",
              "    }\n",
              "</style>\n",
              "<table border=\"1\" class=\"dataframe\">\n",
              "  <thead>\n",
              "    <tr style=\"text-align: right;\">\n",
              "      <th></th>\n",
              "      <th>user_id</th>\n",
              "      <th>song_id</th>\n",
              "      <th>title</th>\n",
              "      <th>listen_count</th>\n",
              "      <th>escuchada</th>\n",
              "      <th>bin_escuchada</th>\n",
              "    </tr>\n",
              "  </thead>\n",
              "  <tbody>\n",
              "    <tr>\n",
              "      <th>0</th>\n",
              "      <td>b6b799f34a204bd928ea014c243ddad6d0be4f8f</td>\n",
              "      <td>SOBONKR12A58A7A7E0</td>\n",
              "      <td>You're The One</td>\n",
              "      <td>2</td>\n",
              "      <td>1</td>\n",
              "      <td>1</td>\n",
              "    </tr>\n",
              "    <tr>\n",
              "      <th>1</th>\n",
              "      <td>b41ead730ac14f6b6717b9cf8859d5579f3f8d4d</td>\n",
              "      <td>SOBONKR12A58A7A7E0</td>\n",
              "      <td>You're The One</td>\n",
              "      <td>0</td>\n",
              "      <td>0</td>\n",
              "      <td>0</td>\n",
              "    </tr>\n",
              "    <tr>\n",
              "      <th>2</th>\n",
              "      <td>4c84359a164b161496d05282707cecbd50adbfc4</td>\n",
              "      <td>SOBONKR12A58A7A7E0</td>\n",
              "      <td>You're The One</td>\n",
              "      <td>0</td>\n",
              "      <td>0</td>\n",
              "      <td>0</td>\n",
              "    </tr>\n",
              "    <tr>\n",
              "      <th>3</th>\n",
              "      <td>779b5908593756abb6ff7586177c966022668b06</td>\n",
              "      <td>SOBONKR12A58A7A7E0</td>\n",
              "      <td>You're The One</td>\n",
              "      <td>0</td>\n",
              "      <td>0</td>\n",
              "      <td>0</td>\n",
              "    </tr>\n",
              "    <tr>\n",
              "      <th>4</th>\n",
              "      <td>dd88ea94f605a63d9fc37a214127e3f00e85e42d</td>\n",
              "      <td>SOBONKR12A58A7A7E0</td>\n",
              "      <td>You're The One</td>\n",
              "      <td>0</td>\n",
              "      <td>0</td>\n",
              "      <td>0</td>\n",
              "    </tr>\n",
              "    <tr>\n",
              "      <th>5</th>\n",
              "      <td>68f0359a2f1cedb0d15c98d88017281db79f9bc6</td>\n",
              "      <td>SOBONKR12A58A7A7E0</td>\n",
              "      <td>You're The One</td>\n",
              "      <td>0</td>\n",
              "      <td>0</td>\n",
              "      <td>0</td>\n",
              "    </tr>\n",
              "    <tr>\n",
              "      <th>6</th>\n",
              "      <td>116a4c95d63623a967edf2f3456c90ebbf964e6f</td>\n",
              "      <td>SOBONKR12A58A7A7E0</td>\n",
              "      <td>You're The One</td>\n",
              "      <td>17</td>\n",
              "      <td>1</td>\n",
              "      <td>1</td>\n",
              "    </tr>\n",
              "    <tr>\n",
              "      <th>7</th>\n",
              "      <td>45544491ccfcdc0b0803c34f201a6287ed4e30f8</td>\n",
              "      <td>SOBONKR12A58A7A7E0</td>\n",
              "      <td>You're The One</td>\n",
              "      <td>0</td>\n",
              "      <td>0</td>\n",
              "      <td>0</td>\n",
              "    </tr>\n",
              "    <tr>\n",
              "      <th>8</th>\n",
              "      <td>e701a24d9b6c59f5ac37ab28462ca82470e27cfb</td>\n",
              "      <td>SOBONKR12A58A7A7E0</td>\n",
              "      <td>You're The One</td>\n",
              "      <td>68</td>\n",
              "      <td>1</td>\n",
              "      <td>1</td>\n",
              "    </tr>\n",
              "    <tr>\n",
              "      <th>9</th>\n",
              "      <td>edc8b7b1fd592a3b69c3d823a742e1a064abec95</td>\n",
              "      <td>SOBONKR12A58A7A7E0</td>\n",
              "      <td>You're The One</td>\n",
              "      <td>0</td>\n",
              "      <td>0</td>\n",
              "      <td>0</td>\n",
              "    </tr>\n",
              "    <tr>\n",
              "      <th>10</th>\n",
              "      <td>fb41d1c374d093ab643ef3bcd70eeb258d479076</td>\n",
              "      <td>SOBONKR12A58A7A7E0</td>\n",
              "      <td>You're The One</td>\n",
              "      <td>1</td>\n",
              "      <td>1</td>\n",
              "      <td>1</td>\n",
              "    </tr>\n",
              "  </tbody>\n",
              "</table>\n",
              "</div>"
            ],
            "text/plain": [
              "                                     user_id  ... bin_escuchada\n",
              "0   b6b799f34a204bd928ea014c243ddad6d0be4f8f  ...             1\n",
              "1   b41ead730ac14f6b6717b9cf8859d5579f3f8d4d  ...             0\n",
              "2   4c84359a164b161496d05282707cecbd50adbfc4  ...             0\n",
              "3   779b5908593756abb6ff7586177c966022668b06  ...             0\n",
              "4   dd88ea94f605a63d9fc37a214127e3f00e85e42d  ...             0\n",
              "5   68f0359a2f1cedb0d15c98d88017281db79f9bc6  ...             0\n",
              "6   116a4c95d63623a967edf2f3456c90ebbf964e6f  ...             1\n",
              "7   45544491ccfcdc0b0803c34f201a6287ed4e30f8  ...             0\n",
              "8   e701a24d9b6c59f5ac37ab28462ca82470e27cfb  ...             1\n",
              "9   edc8b7b1fd592a3b69c3d823a742e1a064abec95  ...             0\n",
              "10  fb41d1c374d093ab643ef3bcd70eeb258d479076  ...             1\n",
              "\n",
              "[11 rows x 6 columns]"
            ]
          },
          "metadata": {},
          "execution_count": 9
        }
      ]
    },
    {
      "cell_type": "markdown",
      "metadata": {
        "id": "L_dByPTekEKV"
      },
      "source": [
        "# Redondeo"
      ]
    },
    {
      "cell_type": "markdown",
      "metadata": {
        "id": "07437hL4CNne"
      },
      "source": [
        "A menudo, cuando se trata de atributos numéricos como proporciones o porcentajes, puede que no necesitemos valores con una \n",
        "precisión elevada. Por lo tanto, tiene sentido redondear estos porcentajes de alta precisión en números enteros. Estos enteros pueden utilizarse directamente como valores numéricos crudos o incluso como características categóricas (basadas en clases discretas).Intentemos aplicar este concepto en un conjunto de datos ficticio que represente los artículos de la tienda y sus \n",
        "porcentajes de popularidad\n"
      ]
    },
    {
      "cell_type": "code",
      "metadata": {
        "id": "hsRs_VLskEKW",
        "colab": {
          "resources": {
            "http://localhost:8080/nbextensions/google.colab/files.js": {
              "data": "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",
              "ok": true,
              "headers": [
                [
                  "content-type",
                  "application/javascript"
                ]
              ],
              "status": 200,
              "status_text": "OK"
            }
          },
          "base_uri": "https://localhost:8080/",
          "height": 328
        },
        "outputId": "df1c42f3-051d-4859-b2d0-9b3f18de08e1"
      },
      "source": [
        "data_to_load = files.upload()\n",
        "items_popularity = pd.read_csv(io.BytesIO(data_to_load['item_popularity.csv']))\n",
        "items_popularity"
      ],
      "execution_count": null,
      "outputs": [
        {
          "output_type": "display_data",
          "data": {
            "text/html": [
              "\n",
              "     <input type=\"file\" id=\"files-c727f824-fa09-4cbe-8dcd-9da145274b51\" name=\"files[]\" multiple disabled\n",
              "        style=\"border:none\" />\n",
              "     <output id=\"result-c727f824-fa09-4cbe-8dcd-9da145274b51\">\n",
              "      Upload widget is only available when the cell has been executed in the\n",
              "      current browser session. Please rerun this cell to enable.\n",
              "      </output>\n",
              "      <script src=\"/nbextensions/google.colab/files.js\"></script> "
            ],
            "text/plain": [
              "<IPython.core.display.HTML object>"
            ]
          },
          "metadata": {}
        },
        {
          "output_type": "stream",
          "name": "stdout",
          "text": [
            "Saving item_popularity.csv to item_popularity.csv\n"
          ]
        },
        {
          "output_type": "execute_result",
          "data": {
            "text/html": [
              "<div>\n",
              "<style scoped>\n",
              "    .dataframe tbody tr th:only-of-type {\n",
              "        vertical-align: middle;\n",
              "    }\n",
              "\n",
              "    .dataframe tbody tr th {\n",
              "        vertical-align: top;\n",
              "    }\n",
              "\n",
              "    .dataframe thead th {\n",
              "        text-align: right;\n",
              "    }\n",
              "</style>\n",
              "<table border=\"1\" class=\"dataframe\">\n",
              "  <thead>\n",
              "    <tr style=\"text-align: right;\">\n",
              "      <th></th>\n",
              "      <th>item_id</th>\n",
              "      <th>pop_percent</th>\n",
              "    </tr>\n",
              "  </thead>\n",
              "  <tbody>\n",
              "    <tr>\n",
              "      <th>0</th>\n",
              "      <td>it_01345</td>\n",
              "      <td>0.98324</td>\n",
              "    </tr>\n",
              "    <tr>\n",
              "      <th>1</th>\n",
              "      <td>it_03431</td>\n",
              "      <td>0.56123</td>\n",
              "    </tr>\n",
              "    <tr>\n",
              "      <th>2</th>\n",
              "      <td>it_04572</td>\n",
              "      <td>0.12098</td>\n",
              "    </tr>\n",
              "    <tr>\n",
              "      <th>3</th>\n",
              "      <td>it_98021</td>\n",
              "      <td>0.35476</td>\n",
              "    </tr>\n",
              "    <tr>\n",
              "      <th>4</th>\n",
              "      <td>it_01298</td>\n",
              "      <td>0.92101</td>\n",
              "    </tr>\n",
              "    <tr>\n",
              "      <th>5</th>\n",
              "      <td>it_90120</td>\n",
              "      <td>0.81212</td>\n",
              "    </tr>\n",
              "    <tr>\n",
              "      <th>6</th>\n",
              "      <td>it_10123</td>\n",
              "      <td>0.56502</td>\n",
              "    </tr>\n",
              "  </tbody>\n",
              "</table>\n",
              "</div>"
            ],
            "text/plain": [
              "    item_id  pop_percent\n",
              "0  it_01345      0.98324\n",
              "1  it_03431      0.56123\n",
              "2  it_04572      0.12098\n",
              "3  it_98021      0.35476\n",
              "4  it_01298      0.92101\n",
              "5  it_90120      0.81212\n",
              "6  it_10123      0.56502"
            ]
          },
          "metadata": {},
          "execution_count": 10
        }
      ]
    },
    {
      "cell_type": "code",
      "metadata": {
        "id": "UK_ooztKkEKW",
        "colab": {
          "base_uri": "https://localhost:8080/",
          "height": 269
        },
        "outputId": "9ea7cf07-a319-4859-f856-ab6423307fe1"
      },
      "source": [
        "items_popularity['popularity_scale_10'] = np.array(np.round((items_popularity['pop_percent'] * 10)), dtype='int')\n",
        "items_popularity['popularity_scale_100'] = np.array(np.round((items_popularity['pop_percent'] * 100)), dtype='int')\n",
        "items_popularity"
      ],
      "execution_count": null,
      "outputs": [
        {
          "output_type": "execute_result",
          "data": {
            "text/html": [
              "<div>\n",
              "<style scoped>\n",
              "    .dataframe tbody tr th:only-of-type {\n",
              "        vertical-align: middle;\n",
              "    }\n",
              "\n",
              "    .dataframe tbody tr th {\n",
              "        vertical-align: top;\n",
              "    }\n",
              "\n",
              "    .dataframe thead th {\n",
              "        text-align: right;\n",
              "    }\n",
              "</style>\n",
              "<table border=\"1\" class=\"dataframe\">\n",
              "  <thead>\n",
              "    <tr style=\"text-align: right;\">\n",
              "      <th></th>\n",
              "      <th>item_id</th>\n",
              "      <th>pop_percent</th>\n",
              "      <th>popularity_scale_10</th>\n",
              "      <th>popularity_scale_100</th>\n",
              "    </tr>\n",
              "  </thead>\n",
              "  <tbody>\n",
              "    <tr>\n",
              "      <th>0</th>\n",
              "      <td>it_01345</td>\n",
              "      <td>0.98324</td>\n",
              "      <td>10</td>\n",
              "      <td>98</td>\n",
              "    </tr>\n",
              "    <tr>\n",
              "      <th>1</th>\n",
              "      <td>it_03431</td>\n",
              "      <td>0.56123</td>\n",
              "      <td>6</td>\n",
              "      <td>56</td>\n",
              "    </tr>\n",
              "    <tr>\n",
              "      <th>2</th>\n",
              "      <td>it_04572</td>\n",
              "      <td>0.12098</td>\n",
              "      <td>1</td>\n",
              "      <td>12</td>\n",
              "    </tr>\n",
              "    <tr>\n",
              "      <th>3</th>\n",
              "      <td>it_98021</td>\n",
              "      <td>0.35476</td>\n",
              "      <td>4</td>\n",
              "      <td>35</td>\n",
              "    </tr>\n",
              "    <tr>\n",
              "      <th>4</th>\n",
              "      <td>it_01298</td>\n",
              "      <td>0.92101</td>\n",
              "      <td>9</td>\n",
              "      <td>92</td>\n",
              "    </tr>\n",
              "    <tr>\n",
              "      <th>5</th>\n",
              "      <td>it_90120</td>\n",
              "      <td>0.81212</td>\n",
              "      <td>8</td>\n",
              "      <td>81</td>\n",
              "    </tr>\n",
              "    <tr>\n",
              "      <th>6</th>\n",
              "      <td>it_10123</td>\n",
              "      <td>0.56502</td>\n",
              "      <td>6</td>\n",
              "      <td>57</td>\n",
              "    </tr>\n",
              "  </tbody>\n",
              "</table>\n",
              "</div>"
            ],
            "text/plain": [
              "    item_id  pop_percent  popularity_scale_10  popularity_scale_100\n",
              "0  it_01345      0.98324                   10                    98\n",
              "1  it_03431      0.56123                    6                    56\n",
              "2  it_04572      0.12098                    1                    12\n",
              "3  it_98021      0.35476                    4                    35\n",
              "4  it_01298      0.92101                    9                    92\n",
              "5  it_90120      0.81212                    8                    81\n",
              "6  it_10123      0.56502                    6                    57"
            ]
          },
          "metadata": {},
          "execution_count": 11
        }
      ]
    },
    {
      "cell_type": "markdown",
      "metadata": {
        "id": "JDq70lNkkEKW"
      },
      "source": [
        "# Interacciones"
      ]
    },
    {
      "cell_type": "markdown",
      "metadata": {
        "id": "Ri0O3V42ItJw"
      },
      "source": [
        "Un modelo suele construirse de forma que se intenta modelar las respuestas de salida (clases discretas o \n",
        "valores continuos) en función de las variables de entrada. Por ejemplo, una ecuación de regresión lineal simple \n",
        "lineal simple puede representarse como:"
      ]
    },
    {
      "cell_type": "markdown",
      "metadata": {
        "id": "9uQIuLe4IvSG"
      },
      "source": [
        "![imagen.png](data:image/png;base64,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)"
      ]
    },
    {
      "cell_type": "markdown",
      "metadata": {
        "id": "CJGkeRDGMYjo"
      },
      "source": [
        "donde las características de entrada están representadas por las variables {x1, x2,..., xn} con pesos o coeficientes {c1, c2,..., cn} respectivamente y el objetivo es predecir la respuesta y.  \n",
        "En este caso, este modelo lineal simple describe la relación entre la salida y las entradas, basándose únicamente en las \n",
        "características de entrada individuales y separadas.\n",
        "Sin embargo, a menudo, en varios conjuntos de datos y escenarios del mundo real, tiene sentido intentar capturar también las \n",
        "interacciones entre estas variables de características como parte del conjunto de características de entrada. Una representación sencilla de la \n",
        "extensión de la formulación de regresión lineal anterior con características de interacción sería\n"
      ]
    },
    {
      "cell_type": "markdown",
      "metadata": {
        "id": "v57MoWtENKnB"
      },
      "source": [
        "![imagen.png](data:image/png;base64,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)"
      ]
    },
    {
      "cell_type": "code",
      "metadata": {
        "id": "CaeSjsv3kEKX",
        "colab": {
          "base_uri": "https://localhost:8080/",
          "height": 206
        },
        "outputId": "32832774-40e1-4b2c-aabf-98d42f99b4b2"
      },
      "source": [
        "atk_def = poke_df[['Attack', 'Defense']]\n",
        "atk_def.head()"
      ],
      "execution_count": null,
      "outputs": [
        {
          "output_type": "execute_result",
          "data": {
            "text/html": [
              "<div>\n",
              "<style scoped>\n",
              "    .dataframe tbody tr th:only-of-type {\n",
              "        vertical-align: middle;\n",
              "    }\n",
              "\n",
              "    .dataframe tbody tr th {\n",
              "        vertical-align: top;\n",
              "    }\n",
              "\n",
              "    .dataframe thead th {\n",
              "        text-align: right;\n",
              "    }\n",
              "</style>\n",
              "<table border=\"1\" class=\"dataframe\">\n",
              "  <thead>\n",
              "    <tr style=\"text-align: right;\">\n",
              "      <th></th>\n",
              "      <th>Attack</th>\n",
              "      <th>Defense</th>\n",
              "    </tr>\n",
              "  </thead>\n",
              "  <tbody>\n",
              "    <tr>\n",
              "      <th>0</th>\n",
              "      <td>49</td>\n",
              "      <td>49</td>\n",
              "    </tr>\n",
              "    <tr>\n",
              "      <th>1</th>\n",
              "      <td>62</td>\n",
              "      <td>63</td>\n",
              "    </tr>\n",
              "    <tr>\n",
              "      <th>2</th>\n",
              "      <td>82</td>\n",
              "      <td>83</td>\n",
              "    </tr>\n",
              "    <tr>\n",
              "      <th>3</th>\n",
              "      <td>100</td>\n",
              "      <td>123</td>\n",
              "    </tr>\n",
              "    <tr>\n",
              "      <th>4</th>\n",
              "      <td>52</td>\n",
              "      <td>43</td>\n",
              "    </tr>\n",
              "  </tbody>\n",
              "</table>\n",
              "</div>"
            ],
            "text/plain": [
              "   Attack  Defense\n",
              "0      49       49\n",
              "1      62       63\n",
              "2      82       83\n",
              "3     100      123\n",
              "4      52       43"
            ]
          },
          "metadata": {},
          "execution_count": 12
        }
      ]
    },
    {
      "cell_type": "code",
      "metadata": {
        "id": "rzKY0Pq9kEKX",
        "outputId": "72add0be-12cf-4cbf-979c-caa8d3e9e10b"
      },
      "source": [
        "from sklearn.preprocessing import PolynomialFeatures\n",
        "\n",
        "pf = PolynomialFeatures(degree=2, interaction_only=False, include_bias=False)\n",
        "res = pf.fit_transform(atk_def)\n",
        "res"
      ],
      "execution_count": null,
      "outputs": [
        {
          "data": {
            "text/plain": [
              "array([[    49.,     49.,   2401.,   2401.,   2401.],\n",
              "       [    62.,     63.,   3844.,   3906.,   3969.],\n",
              "       [    82.,     83.,   6724.,   6806.,   6889.],\n",
              "       ..., \n",
              "       [   110.,     60.,  12100.,   6600.,   3600.],\n",
              "       [   160.,     60.,  25600.,   9600.,   3600.],\n",
              "       [   110.,    120.,  12100.,  13200.,  14400.]])"
            ]
          },
          "execution_count": 11,
          "metadata": {},
          "output_type": "execute_result"
        }
      ]
    },
    {
      "cell_type": "code",
      "metadata": {
        "id": "kZ-l0HR-kEKY",
        "outputId": "017c9521-6423-4742-8912-c74f9a548fcf"
      },
      "source": [
        "pd.DataFrame(pf.powers_, columns=['Attack_degree', 'Defense_degree'])"
      ],
      "execution_count": null,
      "outputs": [
        {
          "data": {
            "text/html": [
              "<div>\n",
              "<style>\n",
              "    .dataframe thead tr:only-child th {\n",
              "        text-align: right;\n",
              "    }\n",
              "\n",
              "    .dataframe thead th {\n",
              "        text-align: left;\n",
              "    }\n",
              "\n",
              "    .dataframe tbody tr th {\n",
              "        vertical-align: top;\n",
              "    }\n",
              "</style>\n",
              "<table border=\"1\" class=\"dataframe\">\n",
              "  <thead>\n",
              "    <tr style=\"text-align: right;\">\n",
              "      <th></th>\n",
              "      <th>Attack_degree</th>\n",
              "      <th>Defense_degree</th>\n",
              "    </tr>\n",
              "  </thead>\n",
              "  <tbody>\n",
              "    <tr>\n",
              "      <th>0</th>\n",
              "      <td>1</td>\n",
              "      <td>0</td>\n",
              "    </tr>\n",
              "    <tr>\n",
              "      <th>1</th>\n",
              "      <td>0</td>\n",
              "      <td>1</td>\n",
              "    </tr>\n",
              "    <tr>\n",
              "      <th>2</th>\n",
              "      <td>2</td>\n",
              "      <td>0</td>\n",
              "    </tr>\n",
              "    <tr>\n",
              "      <th>3</th>\n",
              "      <td>1</td>\n",
              "      <td>1</td>\n",
              "    </tr>\n",
              "    <tr>\n",
              "      <th>4</th>\n",
              "      <td>0</td>\n",
              "      <td>2</td>\n",
              "    </tr>\n",
              "  </tbody>\n",
              "</table>\n",
              "</div>"
            ],
            "text/plain": [
              "   Attack_degree  Defense_degree\n",
              "0              1               0\n",
              "1              0               1\n",
              "2              2               0\n",
              "3              1               1\n",
              "4              0               2"
            ]
          },
          "execution_count": 12,
          "metadata": {},
          "output_type": "execute_result"
        }
      ]
    },
    {
      "cell_type": "markdown",
      "metadata": {
        "id": "jU11FED2N3kz"
      },
      "source": [
        "Le damos un nombre adecuado a cada nueva feature"
      ]
    },
    {
      "cell_type": "code",
      "metadata": {
        "id": "nM2uQMVykEKY",
        "outputId": "a49ad743-e9b8-423d-af41-1bcdbfd79f3b"
      },
      "source": [
        "intr_features = pd.DataFrame(res, columns=['Attack', 'Defense', 'Attack^2', 'Attack x Defense', 'Defense^2'])\n",
        "intr_features.head(5)  "
      ],
      "execution_count": null,
      "outputs": [
        {
          "data": {
            "text/html": [
              "<div>\n",
              "<style>\n",
              "    .dataframe thead tr:only-child th {\n",
              "        text-align: right;\n",
              "    }\n",
              "\n",
              "    .dataframe thead th {\n",
              "        text-align: left;\n",
              "    }\n",
              "\n",
              "    .dataframe tbody tr th {\n",
              "        vertical-align: top;\n",
              "    }\n",
              "</style>\n",
              "<table border=\"1\" class=\"dataframe\">\n",
              "  <thead>\n",
              "    <tr style=\"text-align: right;\">\n",
              "      <th></th>\n",
              "      <th>Attack</th>\n",
              "      <th>Defense</th>\n",
              "      <th>Attack^2</th>\n",
              "      <th>Attack x Defense</th>\n",
              "      <th>Defense^2</th>\n",
              "    </tr>\n",
              "  </thead>\n",
              "  <tbody>\n",
              "    <tr>\n",
              "      <th>0</th>\n",
              "      <td>49.0</td>\n",
              "      <td>49.0</td>\n",
              "      <td>2401.0</td>\n",
              "      <td>2401.0</td>\n",
              "      <td>2401.0</td>\n",
              "    </tr>\n",
              "    <tr>\n",
              "      <th>1</th>\n",
              "      <td>62.0</td>\n",
              "      <td>63.0</td>\n",
              "      <td>3844.0</td>\n",
              "      <td>3906.0</td>\n",
              "      <td>3969.0</td>\n",
              "    </tr>\n",
              "    <tr>\n",
              "      <th>2</th>\n",
              "      <td>82.0</td>\n",
              "      <td>83.0</td>\n",
              "      <td>6724.0</td>\n",
              "      <td>6806.0</td>\n",
              "      <td>6889.0</td>\n",
              "    </tr>\n",
              "    <tr>\n",
              "      <th>3</th>\n",
              "      <td>100.0</td>\n",
              "      <td>123.0</td>\n",
              "      <td>10000.0</td>\n",
              "      <td>12300.0</td>\n",
              "      <td>15129.0</td>\n",
              "    </tr>\n",
              "    <tr>\n",
              "      <th>4</th>\n",
              "      <td>52.0</td>\n",
              "      <td>43.0</td>\n",
              "      <td>2704.0</td>\n",
              "      <td>2236.0</td>\n",
              "      <td>1849.0</td>\n",
              "    </tr>\n",
              "  </tbody>\n",
              "</table>\n",
              "</div>"
            ],
            "text/plain": [
              "   Attack  Defense  Attack^2  Attack x Defense  Defense^2\n",
              "0    49.0     49.0    2401.0            2401.0     2401.0\n",
              "1    62.0     63.0    3844.0            3906.0     3969.0\n",
              "2    82.0     83.0    6724.0            6806.0     6889.0\n",
              "3   100.0    123.0   10000.0           12300.0    15129.0\n",
              "4    52.0     43.0    2704.0            2236.0     1849.0"
            ]
          },
          "execution_count": 13,
          "metadata": {},
          "output_type": "execute_result"
        }
      ]
    },
    {
      "cell_type": "markdown",
      "metadata": {
        "id": "VfhxpbsOkEKZ"
      },
      "source": [
        "La función fit_transform(...) \n",
        "de scikit-learn es útil para construir un objeto con los datos de entrenamiento \n",
        "que puede ser reutilizado en nuevos datos durante las predicciones del modelo llamando a la función transform(...). \n",
        "Tomemos algunas observaciones nuevas de ejemplo para las características de ataque y defensa de los Pokémon e intentemos transformarlas \n",
        "utilizando este mismo mecanismo\n"
      ]
    },
    {
      "cell_type": "code",
      "metadata": {
        "id": "1ctaDNhCkEKZ",
        "outputId": "2e151f19-dede-48c7-f439-ea3c1395e683"
      },
      "source": [
        "new_df = pd.DataFrame([[95, 75],[121, 120], [77, 60]], \n",
        "                      columns=['Attack', 'Defense'])\n",
        "new_df"
      ],
      "execution_count": null,
      "outputs": [
        {
          "data": {
            "text/html": [
              "<div>\n",
              "<style>\n",
              "    .dataframe thead tr:only-child th {\n",
              "        text-align: right;\n",
              "    }\n",
              "\n",
              "    .dataframe thead th {\n",
              "        text-align: left;\n",
              "    }\n",
              "\n",
              "    .dataframe tbody tr th {\n",
              "        vertical-align: top;\n",
              "    }\n",
              "</style>\n",
              "<table border=\"1\" class=\"dataframe\">\n",
              "  <thead>\n",
              "    <tr style=\"text-align: right;\">\n",
              "      <th></th>\n",
              "      <th>Attack</th>\n",
              "      <th>Defense</th>\n",
              "    </tr>\n",
              "  </thead>\n",
              "  <tbody>\n",
              "    <tr>\n",
              "      <th>0</th>\n",
              "      <td>95</td>\n",
              "      <td>75</td>\n",
              "    </tr>\n",
              "    <tr>\n",
              "      <th>1</th>\n",
              "      <td>121</td>\n",
              "      <td>120</td>\n",
              "    </tr>\n",
              "    <tr>\n",
              "      <th>2</th>\n",
              "      <td>77</td>\n",
              "      <td>60</td>\n",
              "    </tr>\n",
              "  </tbody>\n",
              "</table>\n",
              "</div>"
            ],
            "text/plain": [
              "   Attack  Defense\n",
              "0      95       75\n",
              "1     121      120\n",
              "2      77       60"
            ]
          },
          "execution_count": 14,
          "metadata": {},
          "output_type": "execute_result"
        }
      ]
    },
    {
      "cell_type": "code",
      "metadata": {
        "id": "IT8WBZE4kEKZ",
        "outputId": "c9f0c3d5-06f7-466b-f6ca-3c1ef827d643"
      },
      "source": [
        "new_res = pf.transform(new_df)\n",
        "new_intr_features = pd.DataFrame(new_res, \n",
        "                                 columns=['Attack', 'Defense', \n",
        "                                          'Attack^2', 'Attack x Defense', 'Defense^2'])\n",
        "new_intr_features"
      ],
      "execution_count": null,
      "outputs": [
        {
          "data": {
            "text/html": [
              "<div>\n",
              "<style>\n",
              "    .dataframe thead tr:only-child th {\n",
              "        text-align: right;\n",
              "    }\n",
              "\n",
              "    .dataframe thead th {\n",
              "        text-align: left;\n",
              "    }\n",
              "\n",
              "    .dataframe tbody tr th {\n",
              "        vertical-align: top;\n",
              "    }\n",
              "</style>\n",
              "<table border=\"1\" class=\"dataframe\">\n",
              "  <thead>\n",
              "    <tr style=\"text-align: right;\">\n",
              "      <th></th>\n",
              "      <th>Attack</th>\n",
              "      <th>Defense</th>\n",
              "      <th>Attack^2</th>\n",
              "      <th>Attack x Defense</th>\n",
              "      <th>Defense^2</th>\n",
              "    </tr>\n",
              "  </thead>\n",
              "  <tbody>\n",
              "    <tr>\n",
              "      <th>0</th>\n",
              "      <td>95.0</td>\n",
              "      <td>75.0</td>\n",
              "      <td>9025.0</td>\n",
              "      <td>7125.0</td>\n",
              "      <td>5625.0</td>\n",
              "    </tr>\n",
              "    <tr>\n",
              "      <th>1</th>\n",
              "      <td>121.0</td>\n",
              "      <td>120.0</td>\n",
              "      <td>14641.0</td>\n",
              "      <td>14520.0</td>\n",
              "      <td>14400.0</td>\n",
              "    </tr>\n",
              "    <tr>\n",
              "      <th>2</th>\n",
              "      <td>77.0</td>\n",
              "      <td>60.0</td>\n",
              "      <td>5929.0</td>\n",
              "      <td>4620.0</td>\n",
              "      <td>3600.0</td>\n",
              "    </tr>\n",
              "  </tbody>\n",
              "</table>\n",
              "</div>"
            ],
            "text/plain": [
              "   Attack  Defense  Attack^2  Attack x Defense  Defense^2\n",
              "0    95.0     75.0    9025.0            7125.0     5625.0\n",
              "1   121.0    120.0   14641.0           14520.0    14400.0\n",
              "2    77.0     60.0    5929.0            4620.0     3600.0"
            ]
          },
          "execution_count": 15,
          "metadata": {},
          "output_type": "execute_result"
        }
      ]
    },
    {
      "cell_type": "markdown",
      "metadata": {
        "id": "lR4LgN1ekEKa"
      },
      "source": [
        "# Binning"
      ]
    },
    {
      "cell_type": "markdown",
      "metadata": {
        "id": "8XhmOxP8F79h"
      },
      "source": [
        "A menudo, al trabajar con datos numéricos, es posible que se encuentre con características o atributos que representan medidas sin procesar, como valores o frecuencias. En muchos casos, las distribuciones de estos atributos están sesgadas en el sentido de que algunos conjuntos de valores ocurrirán mucho y algunos serán muy raros. Además de eso, también existe el problema añadido de variar el rango de estos valores. Supongamos que estamos hablando de conteo de reproducciones de canciones o videos. En algunos casos, el conteo de vistas será anormalmente grande y en algunos casos muy pequeño. El uso directo de estas funciones en el modelado puede causar problemas. Las métricas como las medidas de similitud, las distancias de los clusters, los coeficientes de regresión y otras podrían verse afectadas negativamente si usamos características numéricas sin procesar que tengan valores que abarquen varios órdenes de magnitud. Hay varias formas de diseñar características a partir de estos valores sin procesar para poder resolver estos problemas. Estos métodos incluyen transformaciones, escalado y agrupamiento / cuantificación."
      ]
    },
    {
      "cell_type": "code",
      "metadata": {
        "id": "HPoKiku0kEKa",
        "outputId": "c362e3c3-ce5d-4100-cf2a-e3eab4817ce6"
      },
      "source": [
        "fcc_survey_df = pd.read_csv('fcc_2016_coder_survey_subset.csv', encoding='utf-8')\n",
        "fcc_survey_df[['ID.x', 'EmploymentField', 'Age', 'Income']].head()"
      ],
      "execution_count": null,
      "outputs": [
        {
          "data": {
            "text/html": [
              "<div>\n",
              "<style>\n",
              "    .dataframe thead tr:only-child th {\n",
              "        text-align: right;\n",
              "    }\n",
              "\n",
              "    .dataframe thead th {\n",
              "        text-align: left;\n",
              "    }\n",
              "\n",
              "    .dataframe tbody tr th {\n",
              "        vertical-align: top;\n",
              "    }\n",
              "</style>\n",
              "<table border=\"1\" class=\"dataframe\">\n",
              "  <thead>\n",
              "    <tr style=\"text-align: right;\">\n",
              "      <th></th>\n",
              "      <th>ID.x</th>\n",
              "      <th>EmploymentField</th>\n",
              "      <th>Age</th>\n",
              "      <th>Income</th>\n",
              "    </tr>\n",
              "  </thead>\n",
              "  <tbody>\n",
              "    <tr>\n",
              "      <th>0</th>\n",
              "      <td>cef35615d61b202f1dc794ef2746df14</td>\n",
              "      <td>office and administrative support</td>\n",
              "      <td>28.0</td>\n",
              "      <td>32000.0</td>\n",
              "    </tr>\n",
              "    <tr>\n",
              "      <th>1</th>\n",
              "      <td>323e5a113644d18185c743c241407754</td>\n",
              "      <td>food and beverage</td>\n",
              "      <td>22.0</td>\n",
              "      <td>15000.0</td>\n",
              "    </tr>\n",
              "    <tr>\n",
              "      <th>2</th>\n",
              "      <td>b29a1027e5cd062e654a63764157461d</td>\n",
              "      <td>finance</td>\n",
              "      <td>19.0</td>\n",
              "      <td>48000.0</td>\n",
              "    </tr>\n",
              "    <tr>\n",
              "      <th>3</th>\n",
              "      <td>04a11e4bcb573a1261eb0d9948d32637</td>\n",
              "      <td>arts, entertainment, sports, or media</td>\n",
              "      <td>26.0</td>\n",
              "      <td>43000.0</td>\n",
              "    </tr>\n",
              "    <tr>\n",
              "      <th>4</th>\n",
              "      <td>9368291c93d5d5f5c8cdb1a575e18bec</td>\n",
              "      <td>education</td>\n",
              "      <td>20.0</td>\n",
              "      <td>6000.0</td>\n",
              "    </tr>\n",
              "  </tbody>\n",
              "</table>\n",
              "</div>"
            ],
            "text/plain": [
              "                               ID.x                        EmploymentField  \\\n",
              "0  cef35615d61b202f1dc794ef2746df14      office and administrative support   \n",
              "1  323e5a113644d18185c743c241407754                      food and beverage   \n",
              "2  b29a1027e5cd062e654a63764157461d                                finance   \n",
              "3  04a11e4bcb573a1261eb0d9948d32637  arts, entertainment, sports, or media   \n",
              "4  9368291c93d5d5f5c8cdb1a575e18bec                              education   \n",
              "\n",
              "    Age   Income  \n",
              "0  28.0  32000.0  \n",
              "1  22.0  15000.0  \n",
              "2  19.0  48000.0  \n",
              "3  26.0  43000.0  \n",
              "4  20.0   6000.0  "
            ]
          },
          "execution_count": 16,
          "metadata": {},
          "output_type": "execute_result"
        }
      ]
    },
    {
      "cell_type": "markdown",
      "metadata": {
        "id": "Z7ofCH-7kEKa"
      },
      "source": [
        "## Binning de ancho fijo\n"
      ]
    },
    {
      "cell_type": "markdown",
      "metadata": {
        "id": "cB2cYcnGkEKb"
      },
      "source": [
        "### Distribution de edades"
      ]
    },
    {
      "cell_type": "code",
      "metadata": {
        "id": "M3-yFBxskEKb",
        "outputId": "7ddc88d7-118a-42c1-cf96-a6c1e512dc3e"
      },
      "source": [
        "fig, ax = plt.subplots()\n",
        "fcc_survey_df['Age'].hist(color='#A9C5D3')\n",
        "ax.set_title('Developer Age Histogram', fontsize=12)\n",
        "ax.set_xlabel('Age', fontsize=12)\n",
        "ax.set_ylabel('Frequency', fontsize=12)"
      ],
      "execution_count": null,
      "outputs": [
        {
          "data": {
            "text/plain": [
              "<matplotlib.text.Text at 0x1d51313ffd0>"
            ]
          },
          "execution_count": 17,
          "metadata": {},
          "output_type": "execute_result"
        },
        {
          "data": {
            "image/png": "[encoded data removed]",
            "text/plain": [
              "<matplotlib.figure.Figure at 0x1d512e978d0>"
            ]
          },
          "metadata": {},
          "output_type": "display_data"
        }
      ]
    },
    {
      "cell_type": "markdown",
      "metadata": {
        "id": "hmL8IITfkEKb"
      },
      "source": [
        "### Binning basado en redondeo\n",
        "\n",
        "``` \n",
        "Age Range: Bin\n",
        "---------------\n",
        " 0 -  9  : 0\n",
        "10 - 19  : 1\n",
        "20 - 29  : 2\n",
        "30 - 39  : 3\n",
        "40 - 49  : 4\n",
        "50 - 59  : 5\n",
        "60 - 69  : 6\n",
        "  ... and so on\n",
        "```"
      ]
    },
    {
      "cell_type": "code",
      "metadata": {
        "id": "6t-833_AkEKb",
        "outputId": "46f1e560-9ef8-47bf-c4f9-b2596b303eb3"
      },
      "source": [
        "fcc_survey_df['Age_bin_round'] = np.array(np.floor(np.array(fcc_survey_df['Age']) / 10.))\n",
        "fcc_survey_df[['ID.x', 'Age', 'Age_bin_round']].iloc[1071:1076]"
      ],
      "execution_count": null,
      "outputs": [
        {
          "data": {
            "text/html": [
              "<div>\n",
              "<style>\n",
              "    .dataframe thead tr:only-child th {\n",
              "        text-align: right;\n",
              "    }\n",
              "\n",
              "    .dataframe thead th {\n",
              "        text-align: left;\n",
              "    }\n",
              "\n",
              "    .dataframe tbody tr th {\n",
              "        vertical-align: top;\n",
              "    }\n",
              "</style>\n",
              "<table border=\"1\" class=\"dataframe\">\n",
              "  <thead>\n",
              "    <tr style=\"text-align: right;\">\n",
              "      <th></th>\n",
              "      <th>ID.x</th>\n",
              "      <th>Age</th>\n",
              "      <th>Age_bin_round</th>\n",
              "    </tr>\n",
              "  </thead>\n",
              "  <tbody>\n",
              "    <tr>\n",
              "      <th>1071</th>\n",
              "      <td>6a02aa4618c99fdb3e24de522a099431</td>\n",
              "      <td>17.0</td>\n",
              "      <td>1.0</td>\n",
              "    </tr>\n",
              "    <tr>\n",
              "      <th>1072</th>\n",
              "      <td>f0e5e47278c5f248fe861c5f7214c07a</td>\n",
              "      <td>38.0</td>\n",
              "      <td>3.0</td>\n",
              "    </tr>\n",
              "    <tr>\n",
              "      <th>1073</th>\n",
              "      <td>6e14f6d0779b7e424fa3fdd9e4bd3bf9</td>\n",
              "      <td>21.0</td>\n",
              "      <td>2.0</td>\n",
              "    </tr>\n",
              "    <tr>\n",
              "      <th>1074</th>\n",
              "      <td>c2654c07dc929cdf3dad4d1aec4ffbb3</td>\n",
              "      <td>53.0</td>\n",
              "      <td>5.0</td>\n",
              "    </tr>\n",
              "    <tr>\n",
              "      <th>1075</th>\n",
              "      <td>f07449fc9339b2e57703ec7886232523</td>\n",
              "      <td>35.0</td>\n",
              "      <td>3.0</td>\n",
              "    </tr>\n",
              "  </tbody>\n",
              "</table>\n",
              "</div>"
            ],
            "text/plain": [
              "                                  ID.x   Age  Age_bin_round\n",
              "1071  6a02aa4618c99fdb3e24de522a099431  17.0            1.0\n",
              "1072  f0e5e47278c5f248fe861c5f7214c07a  38.0            3.0\n",
              "1073  6e14f6d0779b7e424fa3fdd9e4bd3bf9  21.0            2.0\n",
              "1074  c2654c07dc929cdf3dad4d1aec4ffbb3  53.0            5.0\n",
              "1075  f07449fc9339b2e57703ec7886232523  35.0            3.0"
            ]
          },
          "execution_count": 18,
          "metadata": {},
          "output_type": "execute_result"
        }
      ]
    },
    {
      "cell_type": "markdown",
      "metadata": {
        "id": "WS4LKkWjkEKc"
      },
      "source": [
        "### Binning basado en rangos personalizados\n",
        "\n",
        "``` \n",
        "Age Range : Bin\n",
        "---------------\n",
        " 0 -  15  : 1\n",
        "16 -  30  : 2\n",
        "31 -  45  : 3\n",
        "46 -  60  : 4\n",
        "61 -  75  : 5\n",
        "75 - 100  : 6\n",
        "```"
      ]
    },
    {
      "cell_type": "code",
      "metadata": {
        "id": "Vo9XeOt4kEKc",
        "outputId": "cd35ebab-9c02-415f-8339-a05f48f7da9f"
      },
      "source": [
        "bin_ranges = [0, 15, 30, 45, 60, 75, 100]\n",
        "bin_names = [1, 2, 3, 4, 5, 6]\n",
        "fcc_survey_df['Age_bin_custom_range'] = pd.cut(np.array(fcc_survey_df['Age']), \n",
        "                                               bins=bin_ranges)\n",
        "fcc_survey_df['Age_bin_custom_label'] = pd.cut(np.array(fcc_survey_df['Age']), \n",
        "                                               bins=bin_ranges, labels=bin_names)\n",
        "fcc_survey_df[['ID.x', 'Age', 'Age_bin_round', \n",
        "               'Age_bin_custom_range', 'Age_bin_custom_label']].iloc[1071:1076]"
      ],
      "execution_count": null,
      "outputs": [
        {
          "data": {
            "text/html": [
              "<div>\n",
              "<style>\n",
              "    .dataframe thead tr:only-child th {\n",
              "        text-align: right;\n",
              "    }\n",
              "\n",
              "    .dataframe thead th {\n",
              "        text-align: left;\n",
              "    }\n",
              "\n",
              "    .dataframe tbody tr th {\n",
              "        vertical-align: top;\n",
              "    }\n",
              "</style>\n",
              "<table border=\"1\" class=\"dataframe\">\n",
              "  <thead>\n",
              "    <tr style=\"text-align: right;\">\n",
              "      <th></th>\n",
              "      <th>ID.x</th>\n",
              "      <th>Age</th>\n",
              "      <th>Age_bin_round</th>\n",
              "      <th>Age_bin_custom_range</th>\n",
              "      <th>Age_bin_custom_label</th>\n",
              "    </tr>\n",
              "  </thead>\n",
              "  <tbody>\n",
              "    <tr>\n",
              "      <th>1071</th>\n",
              "      <td>6a02aa4618c99fdb3e24de522a099431</td>\n",
              "      <td>17.0</td>\n",
              "      <td>1.0</td>\n",
              "      <td>(15, 30]</td>\n",
              "      <td>2</td>\n",
              "    </tr>\n",
              "    <tr>\n",
              "      <th>1072</th>\n",
              "      <td>f0e5e47278c5f248fe861c5f7214c07a</td>\n",
              "      <td>38.0</td>\n",
              "      <td>3.0</td>\n",
              "      <td>(30, 45]</td>\n",
              "      <td>3</td>\n",
              "    </tr>\n",
              "    <tr>\n",
              "      <th>1073</th>\n",
              "      <td>6e14f6d0779b7e424fa3fdd9e4bd3bf9</td>\n",
              "      <td>21.0</td>\n",
              "      <td>2.0</td>\n",
              "      <td>(15, 30]</td>\n",
              "      <td>2</td>\n",
              "    </tr>\n",
              "    <tr>\n",
              "      <th>1074</th>\n",
              "      <td>c2654c07dc929cdf3dad4d1aec4ffbb3</td>\n",
              "      <td>53.0</td>\n",
              "      <td>5.0</td>\n",
              "      <td>(45, 60]</td>\n",
              "      <td>4</td>\n",
              "    </tr>\n",
              "    <tr>\n",
              "      <th>1075</th>\n",
              "      <td>f07449fc9339b2e57703ec7886232523</td>\n",
              "      <td>35.0</td>\n",
              "      <td>3.0</td>\n",
              "      <td>(30, 45]</td>\n",
              "      <td>3</td>\n",
              "    </tr>\n",
              "  </tbody>\n",
              "</table>\n",
              "</div>"
            ],
            "text/plain": [
              "                                  ID.x   Age  Age_bin_round  \\\n",
              "1071  6a02aa4618c99fdb3e24de522a099431  17.0            1.0   \n",
              "1072  f0e5e47278c5f248fe861c5f7214c07a  38.0            3.0   \n",
              "1073  6e14f6d0779b7e424fa3fdd9e4bd3bf9  21.0            2.0   \n",
              "1074  c2654c07dc929cdf3dad4d1aec4ffbb3  53.0            5.0   \n",
              "1075  f07449fc9339b2e57703ec7886232523  35.0            3.0   \n",
              "\n",
              "     Age_bin_custom_range Age_bin_custom_label  \n",
              "1071             (15, 30]                    2  \n",
              "1072             (30, 45]                    3  \n",
              "1073             (15, 30]                    2  \n",
              "1074             (45, 60]                    4  \n",
              "1075             (30, 45]                    3  "
            ]
          },
          "execution_count": 19,
          "metadata": {},
          "output_type": "execute_result"
        }
      ]
    },
    {
      "cell_type": "markdown",
      "metadata": {
        "id": "XMmfpJ3qkEKc"
      },
      "source": [
        "## Binning basado en cuantiles "
      ]
    },
    {
      "cell_type": "markdown",
      "metadata": {
        "id": "QdbxK2ikK5Ir"
      },
      "source": [
        "El binning basado en cuantiles es una buena estrategia para el binning adaptativo. Los cuantiles son valores específicos o puntos de corte que ayudan a dividir la distribución de valores continuos de un campo numérico específico en intervalos discretos y contiguos. Así, los q-cuantiles ayudan a dividir un atributo numérico en q particiones iguales. Ejemplos populares de cuantiles incluyen el 2-cuantil conocido como la mediana que divide la distribución de datos en dos intervalos iguales, 4-cuantiles conocidos como los cuartiles, que dividen los datos en cuatro intervalos iguales y 10-cuantiles también conocidos como los deciles que crean 10 intervalos de igual ancho. Veamos ahora una porción de datos correspondientes a los valores de ingresos de los desarrolladores en los datos de nuestra encuesta de codificadores\n"
      ]
    },
    {
      "cell_type": "code",
      "metadata": {
        "id": "Wc1duJohkEKd",
        "outputId": "9d3b6975-1bb4-4527-b04a-a9b6dd1b14b1"
      },
      "source": [
        "fcc_survey_df[['ID.x', 'Age', 'Income']].iloc[4:9]"
      ],
      "execution_count": null,
      "outputs": [
        {
          "data": {
            "text/html": [
              "<div>\n",
              "<style>\n",
              "    .dataframe thead tr:only-child th {\n",
              "        text-align: right;\n",
              "    }\n",
              "\n",
              "    .dataframe thead th {\n",
              "        text-align: left;\n",
              "    }\n",
              "\n",
              "    .dataframe tbody tr th {\n",
              "        vertical-align: top;\n",
              "    }\n",
              "</style>\n",
              "<table border=\"1\" class=\"dataframe\">\n",
              "  <thead>\n",
              "    <tr style=\"text-align: right;\">\n",
              "      <th></th>\n",
              "      <th>ID.x</th>\n",
              "      <th>Age</th>\n",
              "      <th>Income</th>\n",
              "    </tr>\n",
              "  </thead>\n",
              "  <tbody>\n",
              "    <tr>\n",
              "      <th>4</th>\n",
              "      <td>9368291c93d5d5f5c8cdb1a575e18bec</td>\n",
              "      <td>20.0</td>\n",
              "      <td>6000.0</td>\n",
              "    </tr>\n",
              "    <tr>\n",
              "      <th>5</th>\n",
              "      <td>dd0e77eab9270e4b67c19b0d6bbf621b</td>\n",
              "      <td>34.0</td>\n",
              "      <td>40000.0</td>\n",
              "    </tr>\n",
              "    <tr>\n",
              "      <th>6</th>\n",
              "      <td>7599c0aa0419b59fd11ffede98a3665d</td>\n",
              "      <td>23.0</td>\n",
              "      <td>32000.0</td>\n",
              "    </tr>\n",
              "    <tr>\n",
              "      <th>7</th>\n",
              "      <td>6dff182db452487f07a47596f314bddc</td>\n",
              "      <td>35.0</td>\n",
              "      <td>40000.0</td>\n",
              "    </tr>\n",
              "    <tr>\n",
              "      <th>8</th>\n",
              "      <td>9dc233f8ed1c6eb2432672ab4bb39249</td>\n",
              "      <td>33.0</td>\n",
              "      <td>80000.0</td>\n",
              "    </tr>\n",
              "  </tbody>\n",
              "</table>\n",
              "</div>"
            ],
            "text/plain": [
              "                               ID.x   Age   Income\n",
              "4  9368291c93d5d5f5c8cdb1a575e18bec  20.0   6000.0\n",
              "5  dd0e77eab9270e4b67c19b0d6bbf621b  34.0  40000.0\n",
              "6  7599c0aa0419b59fd11ffede98a3665d  23.0  32000.0\n",
              "7  6dff182db452487f07a47596f314bddc  35.0  40000.0\n",
              "8  9dc233f8ed1c6eb2432672ab4bb39249  33.0  80000.0"
            ]
          },
          "execution_count": 20,
          "metadata": {},
          "output_type": "execute_result"
        }
      ]
    },
    {
      "cell_type": "code",
      "metadata": {
        "id": "f2cbjhJDkEKd",
        "outputId": "bb8d2b41-2c59-4389-844b-715d0d4d98b9"
      },
      "source": [
        "fig, ax = plt.subplots()\n",
        "fcc_survey_df['Income'].hist(bins=30, color='#A9C5D3')\n",
        "ax.set_title('Developer Income Histogram', fontsize=12)\n",
        "ax.set_xlabel('Developer Income', fontsize=12)\n",
        "ax.set_ylabel('Frequency', fontsize=12)"
      ],
      "execution_count": null,
      "outputs": [
        {
          "data": {
            "text/plain": [
              "<matplotlib.text.Text at 0x1d51322a208>"
            ]
          },
          "execution_count": 21,
          "metadata": {},
          "output_type": "execute_result"
        },
        {
          "data": {
            "image/png": "[encoded data removed]",
            "text/plain": [
              "<matplotlib.figure.Figure at 0x1d513130710>"
            ]
          },
          "metadata": {},
          "output_type": "display_data"
        }
      ]
    },
    {
      "cell_type": "code",
      "metadata": {
        "id": "q7Rwvt2XkEKd",
        "outputId": "fe95a36e-5fc0-4598-fa8c-144601785ab3"
      },
      "source": [
        "quantile_list = [0, .25, .5, .75, 1.]\n",
        "quantiles = fcc_survey_df['Income'].quantile(quantile_list)\n",
        "quantiles"
      ],
      "execution_count": null,
      "outputs": [
        {
          "data": {
            "text/plain": [
              "0.00      6000.0\n",
              "0.25     20000.0\n",
              "0.50     37000.0\n",
              "0.75     60000.0\n",
              "1.00    200000.0\n",
              "Name: Income, dtype: float64"
            ]
          },
          "execution_count": 22,
          "metadata": {},
          "output_type": "execute_result"
        }
      ]
    },
    {
      "cell_type": "code",
      "metadata": {
        "id": "co-RbE2vkEKd",
        "outputId": "ca48bc42-5745-4cb1-e174-8fdca750619c"
      },
      "source": [
        "fig, ax = plt.subplots()\n",
        "fcc_survey_df['Income'].hist(bins=30, color='#A9C5D3')\n",
        "\n",
        "for quantile in quantiles:\n",
        "    qvl = plt.axvline(quantile, color='r')\n",
        "ax.legend([qvl], ['Quantiles'], fontsize=10)\n",
        "\n",
        "ax.set_title('Developer Income Histogram with Quantiles', fontsize=12)\n",
        "ax.set_xlabel('Developer Income', fontsize=12)\n",
        "ax.set_ylabel('Frequency', fontsize=12)"
      ],
      "execution_count": null,
      "outputs": [
        {
          "data": {
            "text/plain": [
              "<matplotlib.text.Text at 0x1d51333fe80>"
            ]
          },
          "execution_count": 23,
          "metadata": {},
          "output_type": "execute_result"
        },
        {
          "data": {
            "image/png": "[encoded data removed]",
            "text/plain": [
              "<matplotlib.figure.Figure at 0x1d5132c65c0>"
            ]
          },
          "metadata": {},
          "output_type": "display_data"
        }
      ]
    },
    {
      "cell_type": "code",
      "metadata": {
        "id": "rhMtDOjYkEKe",
        "outputId": "d4dcb426-a72a-4ce7-8eab-0dcbcdab22a0"
      },
      "source": [
        "quantile_labels = ['0-25Q', '25-50Q', '50-75Q', '75-100Q']\n",
        "fcc_survey_df['Income_quantile_range'] = pd.qcut(fcc_survey_df['Income'], \n",
        "                                                 q=quantile_list)\n",
        "fcc_survey_df['Income_quantile_label'] = pd.qcut(fcc_survey_df['Income'], \n",
        "                                                 q=quantile_list, labels=quantile_labels)\n",
        "fcc_survey_df[['ID.x', 'Age', 'Income', \n",
        "               'Income_quantile_range', 'Income_quantile_label']].iloc[4:9]"
      ],
      "execution_count": null,
      "outputs": [
        {
          "data": {
            "text/html": [
              "<div>\n",
              "<style>\n",
              "    .dataframe thead tr:only-child th {\n",
              "        text-align: right;\n",
              "    }\n",
              "\n",
              "    .dataframe thead th {\n",
              "        text-align: left;\n",
              "    }\n",
              "\n",
              "    .dataframe tbody tr th {\n",
              "        vertical-align: top;\n",
              "    }\n",
              "</style>\n",
              "<table border=\"1\" class=\"dataframe\">\n",
              "  <thead>\n",
              "    <tr style=\"text-align: right;\">\n",
              "      <th></th>\n",
              "      <th>ID.x</th>\n",
              "      <th>Age</th>\n",
              "      <th>Income</th>\n",
              "      <th>Income_quantile_range</th>\n",
              "      <th>Income_quantile_label</th>\n",
              "    </tr>\n",
              "  </thead>\n",
              "  <tbody>\n",
              "    <tr>\n",
              "      <th>4</th>\n",
              "      <td>9368291c93d5d5f5c8cdb1a575e18bec</td>\n",
              "      <td>20.0</td>\n",
              "      <td>6000.0</td>\n",
              "      <td>(5999.999, 20000.0]</td>\n",
              "      <td>0-25Q</td>\n",
              "    </tr>\n",
              "    <tr>\n",
              "      <th>5</th>\n",
              "      <td>dd0e77eab9270e4b67c19b0d6bbf621b</td>\n",
              "      <td>34.0</td>\n",
              "      <td>40000.0</td>\n",
              "      <td>(37000.0, 60000.0]</td>\n",
              "      <td>50-75Q</td>\n",
              "    </tr>\n",
              "    <tr>\n",
              "      <th>6</th>\n",
              "      <td>7599c0aa0419b59fd11ffede98a3665d</td>\n",
              "      <td>23.0</td>\n",
              "      <td>32000.0</td>\n",
              "      <td>(20000.0, 37000.0]</td>\n",
              "      <td>25-50Q</td>\n",
              "    </tr>\n",
              "    <tr>\n",
              "      <th>7</th>\n",
              "      <td>6dff182db452487f07a47596f314bddc</td>\n",
              "      <td>35.0</td>\n",
              "      <td>40000.0</td>\n",
              "      <td>(37000.0, 60000.0]</td>\n",
              "      <td>50-75Q</td>\n",
              "    </tr>\n",
              "    <tr>\n",
              "      <th>8</th>\n",
              "      <td>9dc233f8ed1c6eb2432672ab4bb39249</td>\n",
              "      <td>33.0</td>\n",
              "      <td>80000.0</td>\n",
              "      <td>(60000.0, 200000.0]</td>\n",
              "      <td>75-100Q</td>\n",
              "    </tr>\n",
              "  </tbody>\n",
              "</table>\n",
              "</div>"
            ],
            "text/plain": [
              "                               ID.x   Age   Income Income_quantile_range  \\\n",
              "4  9368291c93d5d5f5c8cdb1a575e18bec  20.0   6000.0   (5999.999, 20000.0]   \n",
              "5  dd0e77eab9270e4b67c19b0d6bbf621b  34.0  40000.0    (37000.0, 60000.0]   \n",
              "6  7599c0aa0419b59fd11ffede98a3665d  23.0  32000.0    (20000.0, 37000.0]   \n",
              "7  6dff182db452487f07a47596f314bddc  35.0  40000.0    (37000.0, 60000.0]   \n",
              "8  9dc233f8ed1c6eb2432672ab4bb39249  33.0  80000.0   (60000.0, 200000.0]   \n",
              "\n",
              "  Income_quantile_label  \n",
              "4                 0-25Q  \n",
              "5                50-75Q  \n",
              "6                25-50Q  \n",
              "7                50-75Q  \n",
              "8               75-100Q  "
            ]
          },
          "execution_count": 24,
          "metadata": {},
          "output_type": "execute_result"
        }
      ]
    },
    {
      "cell_type": "markdown",
      "metadata": {
        "id": "sIuGDJWCkEKe"
      },
      "source": [
        "# Transformaciones matematicas\n",
        "\n",
        "\n"
      ]
    },
    {
      "cell_type": "markdown",
      "metadata": {
        "id": "PTFzUuVCkEKe"
      },
      "source": [
        "## Logaritmo"
      ]
    },
    {
      "cell_type": "markdown",
      "metadata": {
        "id": "jOT3_2cjLut5"
      },
      "source": [
        "Las transformaciones logaritmicas son útiles cuando se aplican a distribuciones sesgadas, ya que tienden a expandir los valores que caen en el rango de las magnitudes más bajas y tienden a comprimir o reducir los valores que caen en el rango de las magnitudes más altas. Esto tiende a hacer que la distribución sesgada sea lo más normal posible. "
      ]
    },
    {
      "cell_type": "code",
      "metadata": {
        "id": "qFQF0E5-kEKe",
        "colab": {
          "base_uri": "https://localhost:8080/",
          "height": 184
        },
        "outputId": "5f812e2c-2481-4030-8b21-d88796b35c6e"
      },
      "source": [
        "fcc_survey_df['Income_log'] = np.log((1+ fcc_survey_df['Income']))\n",
        "fcc_survey_df[['ID.x', 'Age', 'Income', 'Income_log']].iloc[4:9]"
      ],
      "execution_count": null,
      "outputs": [
        {
          "output_type": "error",
          "ename": "NameError",
          "evalue": "ignored",
          "traceback": [
            "\u001b[0;31m---------------------------------------------------------------------------\u001b[0m",
            "\u001b[0;31mNameError\u001b[0m                                 Traceback (most recent call last)",
            "\u001b[0;32m<ipython-input-1-6dc9f76ef82c>\u001b[0m in \u001b[0;36m<module>\u001b[0;34m()\u001b[0m\n\u001b[0;32m----> 1\u001b[0;31m \u001b[0mfcc_survey_df\u001b[0m\u001b[0;34m[\u001b[0m\u001b[0;34m'Income_log'\u001b[0m\u001b[0;34m]\u001b[0m \u001b[0;34m=\u001b[0m \u001b[0mnp\u001b[0m\u001b[0;34m.\u001b[0m\u001b[0mlog\u001b[0m\u001b[0;34m(\u001b[0m\u001b[0;34m(\u001b[0m\u001b[0;36m1\u001b[0m\u001b[0;34m+\u001b[0m \u001b[0mfcc_survey_df\u001b[0m\u001b[0;34m[\u001b[0m\u001b[0;34m'Income'\u001b[0m\u001b[0;34m]\u001b[0m\u001b[0;34m)\u001b[0m\u001b[0;34m)\u001b[0m\u001b[0;34m\u001b[0m\u001b[0;34m\u001b[0m\u001b[0m\n\u001b[0m\u001b[1;32m      2\u001b[0m \u001b[0mfcc_survey_df\u001b[0m\u001b[0;34m[\u001b[0m\u001b[0;34m[\u001b[0m\u001b[0;34m'ID.x'\u001b[0m\u001b[0;34m,\u001b[0m \u001b[0;34m'Age'\u001b[0m\u001b[0;34m,\u001b[0m \u001b[0;34m'Income'\u001b[0m\u001b[0;34m,\u001b[0m \u001b[0;34m'Income_log'\u001b[0m\u001b[0;34m]\u001b[0m\u001b[0;34m]\u001b[0m\u001b[0;34m.\u001b[0m\u001b[0miloc\u001b[0m\u001b[0;34m[\u001b[0m\u001b[0;36m4\u001b[0m\u001b[0;34m:\u001b[0m\u001b[0;36m9\u001b[0m\u001b[0;34m]\u001b[0m\u001b[0;34m\u001b[0m\u001b[0;34m\u001b[0m\u001b[0m\n",
            "\u001b[0;31mNameError\u001b[0m: name 'np' is not defined"
          ]
        }
      ]
    },
    {
      "cell_type": "code",
      "metadata": {
        "id": "evCot1XOkEKe"
      },
      "source": [
        "income_log_mean = np.round(np.mean(fcc_survey_df['Income_log']), 2)\n",
        "\n",
        "fig, ax = plt.subplots()\n",
        "fcc_survey_df['Income_log'].hist(bins=30, color='#A9C5D3')\n",
        "plt.axvline(income_log_mean, color='r')\n",
        "ax.set_title('Developer Income Histogram after Log Transform', fontsize=12)\n",
        "ax.set_xlabel('Developer Income (log scale)', fontsize=12)\n",
        "ax.set_ylabel('Frequency', fontsize=12)\n",
        "ax.text(11.5, 450, r'$\\mu$='+str(income_log_mean), fontsize=10)"
      ],
      "execution_count": null,
      "outputs": []
    },
    {
      "cell_type": "markdown",
      "metadata": {
        "id": "9UbTx9-jpKq3"
      },
      "source": [
        "#Feature Engineering para datos categóricos"
      ]
    },
    {
      "cell_type": "markdown",
      "metadata": {
        "id": "f0NUGWwSMa5U"
      },
      "source": [
        "Los datos categóricos nominales son tales que no existe el concepto de orden entre los valores, es decir, no tiene sentido clasificarlos u ordenarlos. Los géneros de películas o videojuegos, las estaciones del año y los nombres de los países son algunos ejemplos de atributos nominales. Las variables categóricas ordinales pueden ordenarse y clasificarse en función de sus valores y, por lo tanto, estos valores tienen un significado específico que hace que su orden tenga sentido. Algunos ejemplos de atributos ordinales son la talla de ropa, el nivel educativo, etc.\n"
      ]
    },
    {
      "cell_type": "markdown",
      "metadata": {
        "id": "xgQdEiSGow3b"
      },
      "source": [
        "# Transformando características nominales\n",
        "\n",
        "\n"
      ]
    },
    {
      "cell_type": "code",
      "metadata": {
        "id": "RDEVLa3zow3c",
        "outputId": "7639f903-3fdb-444a-ec05-f783d6a41362"
      },
      "source": [
        "vg_df = pd.read_csv('vgsales.csv', encoding='utf-8')\n",
        "vg_df[['Name', 'Platform', 'Year', 'Genre', 'Publisher']].iloc[1:7]"
      ],
      "execution_count": null,
      "outputs": [
        {
          "data": {
            "text/html": [
              "<div>\n",
              "<style>\n",
              "    .dataframe thead tr:only-child th {\n",
              "        text-align: right;\n",
              "    }\n",
              "\n",
              "    .dataframe thead th {\n",
              "        text-align: left;\n",
              "    }\n",
              "\n",
              "    .dataframe tbody tr th {\n",
              "        vertical-align: top;\n",
              "    }\n",
              "</style>\n",
              "<table border=\"1\" class=\"dataframe\">\n",
              "  <thead>\n",
              "    <tr style=\"text-align: right;\">\n",
              "      <th></th>\n",
              "      <th>Name</th>\n",
              "      <th>Platform</th>\n",
              "      <th>Year</th>\n",
              "      <th>Genre</th>\n",
              "      <th>Publisher</th>\n",
              "    </tr>\n",
              "  </thead>\n",
              "  <tbody>\n",
              "    <tr>\n",
              "      <th>1</th>\n",
              "      <td>Super Mario Bros.</td>\n",
              "      <td>NES</td>\n",
              "      <td>1985.0</td>\n",
              "      <td>Platform</td>\n",
              "      <td>Nintendo</td>\n",
              "    </tr>\n",
              "    <tr>\n",
              "      <th>2</th>\n",
              "      <td>Mario Kart Wii</td>\n",
              "      <td>Wii</td>\n",
              "      <td>2008.0</td>\n",
              "      <td>Racing</td>\n",
              "      <td>Nintendo</td>\n",
              "    </tr>\n",
              "    <tr>\n",
              "      <th>3</th>\n",
              "      <td>Wii Sports Resort</td>\n",
              "      <td>Wii</td>\n",
              "      <td>2009.0</td>\n",
              "      <td>Sports</td>\n",
              "      <td>Nintendo</td>\n",
              "    </tr>\n",
              "    <tr>\n",
              "      <th>4</th>\n",
              "      <td>Pokemon Red/Pokemon Blue</td>\n",
              "      <td>GB</td>\n",
              "      <td>1996.0</td>\n",
              "      <td>Role-Playing</td>\n",
              "      <td>Nintendo</td>\n",
              "    </tr>\n",
              "    <tr>\n",
              "      <th>5</th>\n",
              "      <td>Tetris</td>\n",
              "      <td>GB</td>\n",
              "      <td>1989.0</td>\n",
              "      <td>Puzzle</td>\n",
              "      <td>Nintendo</td>\n",
              "    </tr>\n",
              "    <tr>\n",
              "      <th>6</th>\n",
              "      <td>New Super Mario Bros.</td>\n",
              "      <td>DS</td>\n",
              "      <td>2006.0</td>\n",
              "      <td>Platform</td>\n",
              "      <td>Nintendo</td>\n",
              "    </tr>\n",
              "  </tbody>\n",
              "</table>\n",
              "</div>"
            ],
            "text/plain": [
              "                       Name Platform    Year         Genre Publisher\n",
              "1         Super Mario Bros.      NES  1985.0      Platform  Nintendo\n",
              "2            Mario Kart Wii      Wii  2008.0        Racing  Nintendo\n",
              "3         Wii Sports Resort      Wii  2009.0        Sports  Nintendo\n",
              "4  Pokemon Red/Pokemon Blue       GB  1996.0  Role-Playing  Nintendo\n",
              "5                    Tetris       GB  1989.0        Puzzle  Nintendo\n",
              "6     New Super Mario Bros.       DS  2006.0      Platform  Nintendo"
            ]
          },
          "execution_count": 2,
          "metadata": {},
          "output_type": "execute_result"
        }
      ]
    },
    {
      "cell_type": "code",
      "metadata": {
        "id": "OpAj7S16ow3e",
        "outputId": "9c5e7b1a-583e-4dd1-9481-1b307a609125"
      },
      "source": [
        "genres = np.unique(vg_df['Genre'])\n",
        "genres"
      ],
      "execution_count": null,
      "outputs": [
        {
          "data": {
            "text/plain": [
              "array(['Action', 'Adventure', 'Fighting', 'Misc', 'Platform', 'Puzzle',\n",
              "       'Racing', 'Role-Playing', 'Shooter', 'Simulation', 'Sports',\n",
              "       'Strategy'], dtype=object)"
            ]
          },
          "execution_count": 3,
          "metadata": {},
          "output_type": "execute_result"
        }
      ]
    },
    {
      "cell_type": "code",
      "metadata": {
        "id": "MlnKPg2Cow3f",
        "outputId": "c9fb3637-09c9-479c-ede9-02a735170e83"
      },
      "source": [
        "from sklearn.preprocessing import LabelEncoder\n",
        "\n",
        "gle = LabelEncoder()\n",
        "genre_labels = gle.fit_transform(vg_df['Genre'])\n",
        "genre_mappings = {index: label for index, label in enumerate(gle.classes_)}\n",
        "genre_mappings"
      ],
      "execution_count": null,
      "outputs": [
        {
          "data": {
            "text/plain": [
              "{0: 'Action',\n",
              " 1: 'Adventure',\n",
              " 2: 'Fighting',\n",
              " 3: 'Misc',\n",
              " 4: 'Platform',\n",
              " 5: 'Puzzle',\n",
              " 6: 'Racing',\n",
              " 7: 'Role-Playing',\n",
              " 8: 'Shooter',\n",
              " 9: 'Simulation',\n",
              " 10: 'Sports',\n",
              " 11: 'Strategy'}"
            ]
          },
          "execution_count": 4,
          "metadata": {},
          "output_type": "execute_result"
        }
      ]
    },
    {
      "cell_type": "code",
      "metadata": {
        "id": "HrAAJfLAow3f",
        "outputId": "42292997-65bd-447e-ecde-fb238f808d5c"
      },
      "source": [
        "vg_df['GenreLabel'] = genre_labels\n",
        "vg_df[['Name', 'Platform', 'Year', 'Genre', 'GenreLabel']].iloc[1:7]"
      ],
      "execution_count": null,
      "outputs": [
        {
          "data": {
            "text/html": [
              "<div>\n",
              "<style>\n",
              "    .dataframe thead tr:only-child th {\n",
              "        text-align: right;\n",
              "    }\n",
              "\n",
              "    .dataframe thead th {\n",
              "        text-align: left;\n",
              "    }\n",
              "\n",
              "    .dataframe tbody tr th {\n",
              "        vertical-align: top;\n",
              "    }\n",
              "</style>\n",
              "<table border=\"1\" class=\"dataframe\">\n",
              "  <thead>\n",
              "    <tr style=\"text-align: right;\">\n",
              "      <th></th>\n",
              "      <th>Name</th>\n",
              "      <th>Platform</th>\n",
              "      <th>Year</th>\n",
              "      <th>Genre</th>\n",
              "      <th>GenreLabel</th>\n",
              "    </tr>\n",
              "  </thead>\n",
              "  <tbody>\n",
              "    <tr>\n",
              "      <th>1</th>\n",
              "      <td>Super Mario Bros.</td>\n",
              "      <td>NES</td>\n",
              "      <td>1985.0</td>\n",
              "      <td>Platform</td>\n",
              "      <td>4</td>\n",
              "    </tr>\n",
              "    <tr>\n",
              "      <th>2</th>\n",
              "      <td>Mario Kart Wii</td>\n",
              "      <td>Wii</td>\n",
              "      <td>2008.0</td>\n",
              "      <td>Racing</td>\n",
              "      <td>6</td>\n",
              "    </tr>\n",
              "    <tr>\n",
              "      <th>3</th>\n",
              "      <td>Wii Sports Resort</td>\n",
              "      <td>Wii</td>\n",
              "      <td>2009.0</td>\n",
              "      <td>Sports</td>\n",
              "      <td>10</td>\n",
              "    </tr>\n",
              "    <tr>\n",
              "      <th>4</th>\n",
              "      <td>Pokemon Red/Pokemon Blue</td>\n",
              "      <td>GB</td>\n",
              "      <td>1996.0</td>\n",
              "      <td>Role-Playing</td>\n",
              "      <td>7</td>\n",
              "    </tr>\n",
              "    <tr>\n",
              "      <th>5</th>\n",
              "      <td>Tetris</td>\n",
              "      <td>GB</td>\n",
              "      <td>1989.0</td>\n",
              "      <td>Puzzle</td>\n",
              "      <td>5</td>\n",
              "    </tr>\n",
              "    <tr>\n",
              "      <th>6</th>\n",
              "      <td>New Super Mario Bros.</td>\n",
              "      <td>DS</td>\n",
              "      <td>2006.0</td>\n",
              "      <td>Platform</td>\n",
              "      <td>4</td>\n",
              "    </tr>\n",
              "  </tbody>\n",
              "</table>\n",
              "</div>"
            ],
            "text/plain": [
              "                       Name Platform    Year         Genre  GenreLabel\n",
              "1         Super Mario Bros.      NES  1985.0      Platform           4\n",
              "2            Mario Kart Wii      Wii  2008.0        Racing           6\n",
              "3         Wii Sports Resort      Wii  2009.0        Sports          10\n",
              "4  Pokemon Red/Pokemon Blue       GB  1996.0  Role-Playing           7\n",
              "5                    Tetris       GB  1989.0        Puzzle           5\n",
              "6     New Super Mario Bros.       DS  2006.0      Platform           4"
            ]
          },
          "execution_count": 5,
          "metadata": {},
          "output_type": "execute_result"
        }
      ]
    },
    {
      "cell_type": "markdown",
      "metadata": {
        "id": "txA2rNDQow3g"
      },
      "source": [
        "# Transformando características ordinales"
      ]
    },
    {
      "cell_type": "markdown",
      "metadata": {
        "id": "tr-LzrTGQya9"
      },
      "source": [
        "Las características ordinales son similares a las nominales, salvo que el orden importa y es una propiedad inherente con la que podemos interpretar los valores de estas características. Al igual que los datos nominales, incluso los datos ordinales pueden estar presentes en forma de texto y es necesario mapearlos y transformarlos en su representación numérica. Carguemos ahora nuestro conjunto de datos de Pokémon que utilizamos antes y veamos los distintos valores del atributo **Generación** de cada Pokémon.\n"
      ]
    },
    {
      "cell_type": "code",
      "metadata": {
        "id": "KHfiIbLdow3g",
        "outputId": "6cec8af6-7404-4f5d-805a-409b62b372c1"
      },
      "source": [
        "poke_df = pd.read_csv('Pokemon.csv', encoding='utf-8')\n",
        "poke_df = poke_df.sample(random_state=1, frac=1).reset_index(drop=True)\n",
        "\n",
        "np.unique(poke_df['Generation'])"
      ],
      "execution_count": null,
      "outputs": [
        {
          "data": {
            "text/plain": [
              "array(['Gen 1', 'Gen 2', 'Gen 3', 'Gen 4', 'Gen 5', 'Gen 6'], dtype=object)"
            ]
          },
          "execution_count": 6,
          "metadata": {},
          "output_type": "execute_result"
        }
      ]
    },
    {
      "cell_type": "code",
      "metadata": {
        "id": "bib9lpPXow3h",
        "outputId": "e9569b0a-a56e-46e6-9100-161bc6ae3c62"
      },
      "source": [
        "gen_ord_map = {'Gen 1': 1, 'Gen 2': 2, 'Gen 3': 3, \n",
        "               'Gen 4': 4, 'Gen 5': 5, 'Gen 6': 6}\n",
        "\n",
        "poke_df['GenerationLabel'] = poke_df['Generation'].map(gen_ord_map)\n",
        "poke_df[['Name', 'Generation', 'GenerationLabel']].iloc[4:10]"
      ],
      "execution_count": null,
      "outputs": [
        {
          "data": {
            "text/html": [
              "<div>\n",
              "<style>\n",
              "    .dataframe thead tr:only-child th {\n",
              "        text-align: right;\n",
              "    }\n",
              "\n",
              "    .dataframe thead th {\n",
              "        text-align: left;\n",
              "    }\n",
              "\n",
              "    .dataframe tbody tr th {\n",
              "        vertical-align: top;\n",
              "    }\n",
              "</style>\n",
              "<table border=\"1\" class=\"dataframe\">\n",
              "  <thead>\n",
              "    <tr style=\"text-align: right;\">\n",
              "      <th></th>\n",
              "      <th>Name</th>\n",
              "      <th>Generation</th>\n",
              "      <th>GenerationLabel</th>\n",
              "    </tr>\n",
              "  </thead>\n",
              "  <tbody>\n",
              "    <tr>\n",
              "      <th>4</th>\n",
              "      <td>Octillery</td>\n",
              "      <td>Gen 2</td>\n",
              "      <td>2</td>\n",
              "    </tr>\n",
              "    <tr>\n",
              "      <th>5</th>\n",
              "      <td>Helioptile</td>\n",
              "      <td>Gen 6</td>\n",
              "      <td>6</td>\n",
              "    </tr>\n",
              "    <tr>\n",
              "      <th>6</th>\n",
              "      <td>Dialga</td>\n",
              "      <td>Gen 4</td>\n",
              "      <td>4</td>\n",
              "    </tr>\n",
              "    <tr>\n",
              "      <th>7</th>\n",
              "      <td>DeoxysDefense Forme</td>\n",
              "      <td>Gen 3</td>\n",
              "      <td>3</td>\n",
              "    </tr>\n",
              "    <tr>\n",
              "      <th>8</th>\n",
              "      <td>Rapidash</td>\n",
              "      <td>Gen 1</td>\n",
              "      <td>1</td>\n",
              "    </tr>\n",
              "    <tr>\n",
              "      <th>9</th>\n",
              "      <td>Swanna</td>\n",
              "      <td>Gen 5</td>\n",
              "      <td>5</td>\n",
              "    </tr>\n",
              "  </tbody>\n",
              "</table>\n",
              "</div>"
            ],
            "text/plain": [
              "                  Name Generation  GenerationLabel\n",
              "4            Octillery      Gen 2                2\n",
              "5           Helioptile      Gen 6                6\n",
              "6               Dialga      Gen 4                4\n",
              "7  DeoxysDefense Forme      Gen 3                3\n",
              "8             Rapidash      Gen 1                1\n",
              "9               Swanna      Gen 5                5"
            ]
          },
          "execution_count": 7,
          "metadata": {},
          "output_type": "execute_result"
        }
      ]
    },
    {
      "cell_type": "markdown",
      "metadata": {
        "id": "YYqUJ_9Eow3h"
      },
      "source": [
        "# Codificando características categóricas"
      ]
    },
    {
      "cell_type": "markdown",
      "metadata": {
        "id": "h6CMXBf1ow3i"
      },
      "source": [
        "## One-hot Encoding"
      ]
    },
    {
      "cell_type": "code",
      "metadata": {
        "id": "TSjFAHZ3ow3i",
        "outputId": "45ef1c8b-bc19-4314-8744-035daf546873"
      },
      "source": [
        "poke_df[['Name', 'Generation', 'Legendary']].iloc[4:10]"
      ],
      "execution_count": null,
      "outputs": [
        {
          "data": {
            "text/html": [
              "<div>\n",
              "<style>\n",
              "    .dataframe thead tr:only-child th {\n",
              "        text-align: right;\n",
              "    }\n",
              "\n",
              "    .dataframe thead th {\n",
              "        text-align: left;\n",
              "    }\n",
              "\n",
              "    .dataframe tbody tr th {\n",
              "        vertical-align: top;\n",
              "    }\n",
              "</style>\n",
              "<table border=\"1\" class=\"dataframe\">\n",
              "  <thead>\n",
              "    <tr style=\"text-align: right;\">\n",
              "      <th></th>\n",
              "      <th>Name</th>\n",
              "      <th>Generation</th>\n",
              "      <th>Legendary</th>\n",
              "    </tr>\n",
              "  </thead>\n",
              "  <tbody>\n",
              "    <tr>\n",
              "      <th>4</th>\n",
              "      <td>Octillery</td>\n",
              "      <td>Gen 2</td>\n",
              "      <td>False</td>\n",
              "    </tr>\n",
              "    <tr>\n",
              "      <th>5</th>\n",
              "      <td>Helioptile</td>\n",
              "      <td>Gen 6</td>\n",
              "      <td>False</td>\n",
              "    </tr>\n",
              "    <tr>\n",
              "      <th>6</th>\n",
              "      <td>Dialga</td>\n",
              "      <td>Gen 4</td>\n",
              "      <td>True</td>\n",
              "    </tr>\n",
              "    <tr>\n",
              "      <th>7</th>\n",
              "      <td>DeoxysDefense Forme</td>\n",
              "      <td>Gen 3</td>\n",
              "      <td>True</td>\n",
              "    </tr>\n",
              "    <tr>\n",
              "      <th>8</th>\n",
              "      <td>Rapidash</td>\n",
              "      <td>Gen 1</td>\n",
              "      <td>False</td>\n",
              "    </tr>\n",
              "    <tr>\n",
              "      <th>9</th>\n",
              "      <td>Swanna</td>\n",
              "      <td>Gen 5</td>\n",
              "      <td>False</td>\n",
              "    </tr>\n",
              "  </tbody>\n",
              "</table>\n",
              "</div>"
            ],
            "text/plain": [
              "                  Name Generation  Legendary\n",
              "4            Octillery      Gen 2      False\n",
              "5           Helioptile      Gen 6      False\n",
              "6               Dialga      Gen 4       True\n",
              "7  DeoxysDefense Forme      Gen 3       True\n",
              "8             Rapidash      Gen 1      False\n",
              "9               Swanna      Gen 5      False"
            ]
          },
          "execution_count": 8,
          "metadata": {},
          "output_type": "execute_result"
        }
      ]
    },
    {
      "cell_type": "code",
      "metadata": {
        "id": "lEOXR2KRow3j",
        "outputId": "fc15c9a4-75d3-49bd-f7fc-553dd038e99c"
      },
      "source": [
        "from sklearn.preprocessing import OneHotEncoder, LabelEncoder\n",
        "\n",
        "gen_le = LabelEncoder()\n",
        "gen_labels = gen_le.fit_transform(poke_df['Generation'])\n",
        "poke_df['Gen_Label'] = gen_labels\n",
        "\n",
        "leg_le = LabelEncoder()\n",
        "leg_labels = leg_le.fit_transform(poke_df['Legendary'])\n",
        "poke_df['Lgnd_Label'] = leg_labels\n",
        "\n",
        "poke_df_sub = poke_df[['Name', 'Generation', 'Gen_Label', 'Legendary', 'Lgnd_Label']]\n",
        "poke_df_sub.iloc[4:10]"
      ],
      "execution_count": null,
      "outputs": [
        {
          "data": {
            "text/html": [
              "<div>\n",
              "<style>\n",
              "    .dataframe thead tr:only-child th {\n",
              "        text-align: right;\n",
              "    }\n",
              "\n",
              "    .dataframe thead th {\n",
              "        text-align: left;\n",
              "    }\n",
              "\n",
              "    .dataframe tbody tr th {\n",
              "        vertical-align: top;\n",
              "    }\n",
              "</style>\n",
              "<table border=\"1\" class=\"dataframe\">\n",
              "  <thead>\n",
              "    <tr style=\"text-align: right;\">\n",
              "      <th></th>\n",
              "      <th>Name</th>\n",
              "      <th>Generation</th>\n",
              "      <th>Gen_Label</th>\n",
              "      <th>Legendary</th>\n",
              "      <th>Lgnd_Label</th>\n",
              "    </tr>\n",
              "  </thead>\n",
              "  <tbody>\n",
              "    <tr>\n",
              "      <th>4</th>\n",
              "      <td>Octillery</td>\n",
              "      <td>Gen 2</td>\n",
              "      <td>1</td>\n",
              "      <td>False</td>\n",
              "      <td>0</td>\n",
              "    </tr>\n",
              "    <tr>\n",
              "      <th>5</th>\n",
              "      <td>Helioptile</td>\n",
              "      <td>Gen 6</td>\n",
              "      <td>5</td>\n",
              "      <td>False</td>\n",
              "      <td>0</td>\n",
              "    </tr>\n",
              "    <tr>\n",
              "      <th>6</th>\n",
              "      <td>Dialga</td>\n",
              "      <td>Gen 4</td>\n",
              "      <td>3</td>\n",
              "      <td>True</td>\n",
              "      <td>1</td>\n",
              "    </tr>\n",
              "    <tr>\n",
              "      <th>7</th>\n",
              "      <td>DeoxysDefense Forme</td>\n",
              "      <td>Gen 3</td>\n",
              "      <td>2</td>\n",
              "      <td>True</td>\n",
              "      <td>1</td>\n",
              "    </tr>\n",
              "    <tr>\n",
              "      <th>8</th>\n",
              "      <td>Rapidash</td>\n",
              "      <td>Gen 1</td>\n",
              "      <td>0</td>\n",
              "      <td>False</td>\n",
              "      <td>0</td>\n",
              "    </tr>\n",
              "    <tr>\n",
              "      <th>9</th>\n",
              "      <td>Swanna</td>\n",
              "      <td>Gen 5</td>\n",
              "      <td>4</td>\n",
              "      <td>False</td>\n",
              "      <td>0</td>\n",
              "    </tr>\n",
              "  </tbody>\n",
              "</table>\n",
              "</div>"
            ],
            "text/plain": [
              "                  Name Generation  Gen_Label  Legendary  Lgnd_Label\n",
              "4            Octillery      Gen 2          1      False           0\n",
              "5           Helioptile      Gen 6          5      False           0\n",
              "6               Dialga      Gen 4          3       True           1\n",
              "7  DeoxysDefense Forme      Gen 3          2       True           1\n",
              "8             Rapidash      Gen 1          0      False           0\n",
              "9               Swanna      Gen 5          4      False           0"
            ]
          },
          "execution_count": 9,
          "metadata": {},
          "output_type": "execute_result"
        }
      ]
    },
    {
      "cell_type": "code",
      "metadata": {
        "id": "e77Z88Uzow3j"
      },
      "source": [
        "gen_ohe = OneHotEncoder()\n",
        "gen_feature_arr = gen_ohe.fit_transform(poke_df[['Gen_Label']]).toarray()\n",
        "gen_feature_labels = list(gen_le.classes_)\n",
        "gen_features = pd.DataFrame(gen_feature_arr, columns=gen_feature_labels)\n",
        "\n",
        "leg_ohe = OneHotEncoder()\n",
        "leg_feature_arr = leg_ohe.fit_transform(poke_df[['Lgnd_Label']]).toarray()\n",
        "leg_feature_labels = ['Legendary_'+str(cls_label) for cls_label in leg_le.classes_]\n",
        "leg_features = pd.DataFrame(leg_feature_arr, columns=leg_feature_labels)"
      ],
      "execution_count": null,
      "outputs": []
    },
    {
      "cell_type": "code",
      "metadata": {
        "id": "Q8fVZwHYow3k",
        "outputId": "dc1facaf-f408-4ced-e7b0-8b6fd7e82c90"
      },
      "source": [
        "poke_df_ohe = pd.concat([poke_df_sub, gen_features, leg_features], axis=1)\n",
        "columns = sum([['Name', 'Generation', 'Gen_Label'],gen_feature_labels,\n",
        "              ['Legendary', 'Lgnd_Label'],leg_feature_labels], [])\n",
        "poke_df_ohe[columns].iloc[4:10]"
      ],
      "execution_count": null,
      "outputs": [
        {
          "data": {
            "text/html": [
              "<div>\n",
              "<style>\n",
              "    .dataframe thead tr:only-child th {\n",
              "        text-align: right;\n",
              "    }\n",
              "\n",
              "    .dataframe thead th {\n",
              "        text-align: left;\n",
              "    }\n",
              "\n",
              "    .dataframe tbody tr th {\n",
              "        vertical-align: top;\n",
              "    }\n",
              "</style>\n",
              "<table border=\"1\" class=\"dataframe\">\n",
              "  <thead>\n",
              "    <tr style=\"text-align: right;\">\n",
              "      <th></th>\n",
              "      <th>Name</th>\n",
              "      <th>Generation</th>\n",
              "      <th>Gen_Label</th>\n",
              "      <th>Gen 1</th>\n",
              "      <th>Gen 2</th>\n",
              "      <th>Gen 3</th>\n",
              "      <th>Gen 4</th>\n",
              "      <th>Gen 5</th>\n",
              "      <th>Gen 6</th>\n",
              "      <th>Legendary</th>\n",
              "      <th>Lgnd_Label</th>\n",
              "      <th>Legendary_False</th>\n",
              "      <th>Legendary_True</th>\n",
              "    </tr>\n",
              "  </thead>\n",
              "  <tbody>\n",
              "    <tr>\n",
              "      <th>4</th>\n",
              "      <td>Octillery</td>\n",
              "      <td>Gen 2</td>\n",
              "      <td>1</td>\n",
              "      <td>0.0</td>\n",
              "      <td>1.0</td>\n",
              "      <td>0.0</td>\n",
              "      <td>0.0</td>\n",
              "      <td>0.0</td>\n",
              "      <td>0.0</td>\n",
              "      <td>False</td>\n",
              "      <td>0</td>\n",
              "      <td>1.0</td>\n",
              "      <td>0.0</td>\n",
              "    </tr>\n",
              "    <tr>\n",
              "      <th>5</th>\n",
              "      <td>Helioptile</td>\n",
              "      <td>Gen 6</td>\n",
              "      <td>5</td>\n",
              "      <td>0.0</td>\n",
              "      <td>0.0</td>\n",
              "      <td>0.0</td>\n",
              "      <td>0.0</td>\n",
              "      <td>0.0</td>\n",
              "      <td>1.0</td>\n",
              "      <td>False</td>\n",
              "      <td>0</td>\n",
              "      <td>1.0</td>\n",
              "      <td>0.0</td>\n",
              "    </tr>\n",
              "    <tr>\n",
              "      <th>6</th>\n",
              "      <td>Dialga</td>\n",
              "      <td>Gen 4</td>\n",
              "      <td>3</td>\n",
              "      <td>0.0</td>\n",
              "      <td>0.0</td>\n",
              "      <td>0.0</td>\n",
              "      <td>1.0</td>\n",
              "      <td>0.0</td>\n",
              "      <td>0.0</td>\n",
              "      <td>True</td>\n",
              "      <td>1</td>\n",
              "      <td>0.0</td>\n",
              "      <td>1.0</td>\n",
              "    </tr>\n",
              "    <tr>\n",
              "      <th>7</th>\n",
              "      <td>DeoxysDefense Forme</td>\n",
              "      <td>Gen 3</td>\n",
              "      <td>2</td>\n",
              "      <td>0.0</td>\n",
              "      <td>0.0</td>\n",
              "      <td>1.0</td>\n",
              "      <td>0.0</td>\n",
              "      <td>0.0</td>\n",
              "      <td>0.0</td>\n",
              "      <td>True</td>\n",
              "      <td>1</td>\n",
              "      <td>0.0</td>\n",
              "      <td>1.0</td>\n",
              "    </tr>\n",
              "    <tr>\n",
              "      <th>8</th>\n",
              "      <td>Rapidash</td>\n",
              "      <td>Gen 1</td>\n",
              "      <td>0</td>\n",
              "      <td>1.0</td>\n",
              "      <td>0.0</td>\n",
              "      <td>0.0</td>\n",
              "      <td>0.0</td>\n",
              "      <td>0.0</td>\n",
              "      <td>0.0</td>\n",
              "      <td>False</td>\n",
              "      <td>0</td>\n",
              "      <td>1.0</td>\n",
              "      <td>0.0</td>\n",
              "    </tr>\n",
              "    <tr>\n",
              "      <th>9</th>\n",
              "      <td>Swanna</td>\n",
              "      <td>Gen 5</td>\n",
              "      <td>4</td>\n",
              "      <td>0.0</td>\n",
              "      <td>0.0</td>\n",
              "      <td>0.0</td>\n",
              "      <td>0.0</td>\n",
              "      <td>1.0</td>\n",
              "      <td>0.0</td>\n",
              "      <td>False</td>\n",
              "      <td>0</td>\n",
              "      <td>1.0</td>\n",
              "      <td>0.0</td>\n",
              "    </tr>\n",
              "  </tbody>\n",
              "</table>\n",
              "</div>"
            ],
            "text/plain": [
              "                  Name Generation  Gen_Label  Gen 1  Gen 2  Gen 3  Gen 4  \\\n",
              "4            Octillery      Gen 2          1    0.0    1.0    0.0    0.0   \n",
              "5           Helioptile      Gen 6          5    0.0    0.0    0.0    0.0   \n",
              "6               Dialga      Gen 4          3    0.0    0.0    0.0    1.0   \n",
              "7  DeoxysDefense Forme      Gen 3          2    0.0    0.0    1.0    0.0   \n",
              "8             Rapidash      Gen 1          0    1.0    0.0    0.0    0.0   \n",
              "9               Swanna      Gen 5          4    0.0    0.0    0.0    0.0   \n",
              "\n",
              "   Gen 5  Gen 6  Legendary  Lgnd_Label  Legendary_False  Legendary_True  \n",
              "4    0.0    0.0      False           0              1.0             0.0  \n",
              "5    0.0    1.0      False           0              1.0             0.0  \n",
              "6    0.0    0.0       True           1              0.0             1.0  \n",
              "7    0.0    0.0       True           1              0.0             1.0  \n",
              "8    0.0    0.0      False           0              1.0             0.0  \n",
              "9    1.0    0.0      False           0              1.0             0.0  "
            ]
          },
          "execution_count": 11,
          "metadata": {},
          "output_type": "execute_result"
        }
      ]
    },
    {
      "cell_type": "code",
      "metadata": {
        "id": "mgUbtqVbow3k",
        "outputId": "de0e6439-ccfb-4b76-c8cc-567ad4488e7d"
      },
      "source": [
        "new_poke_df = pd.DataFrame([['PikaZoom', 'Gen 3', True], \n",
        "                           ['CharMyToast', 'Gen 4', False]],\n",
        "                           columns=['Name', 'Generation', 'Legendary'])\n",
        "new_poke_df"
      ],
      "execution_count": null,
      "outputs": [
        {
          "data": {
            "text/html": [
              "<div>\n",
              "<style>\n",
              "    .dataframe thead tr:only-child th {\n",
              "        text-align: right;\n",
              "    }\n",
              "\n",
              "    .dataframe thead th {\n",
              "        text-align: left;\n",
              "    }\n",
              "\n",
              "    .dataframe tbody tr th {\n",
              "        vertical-align: top;\n",
              "    }\n",
              "</style>\n",
              "<table border=\"1\" class=\"dataframe\">\n",
              "  <thead>\n",
              "    <tr style=\"text-align: right;\">\n",
              "      <th></th>\n",
              "      <th>Name</th>\n",
              "      <th>Generation</th>\n",
              "      <th>Legendary</th>\n",
              "    </tr>\n",
              "  </thead>\n",
              "  <tbody>\n",
              "    <tr>\n",
              "      <th>0</th>\n",
              "      <td>PikaZoom</td>\n",
              "      <td>Gen 3</td>\n",
              "      <td>True</td>\n",
              "    </tr>\n",
              "    <tr>\n",
              "      <th>1</th>\n",
              "      <td>CharMyToast</td>\n",
              "      <td>Gen 4</td>\n",
              "      <td>False</td>\n",
              "    </tr>\n",
              "  </tbody>\n",
              "</table>\n",
              "</div>"
            ],
            "text/plain": [
              "          Name Generation  Legendary\n",
              "0     PikaZoom      Gen 3       True\n",
              "1  CharMyToast      Gen 4      False"
            ]
          },
          "execution_count": 12,
          "metadata": {},
          "output_type": "execute_result"
        }
      ]
    },
    {
      "cell_type": "code",
      "metadata": {
        "id": "Oaf5p9G1ow3l",
        "outputId": "68e3c94a-fec9-4136-9260-b4ec7a26c34d"
      },
      "source": [
        "new_gen_labels = gen_le.transform(new_poke_df['Generation'])\n",
        "new_poke_df['Gen_Label'] = new_gen_labels\n",
        "\n",
        "new_leg_labels = leg_le.transform(new_poke_df['Legendary'])\n",
        "new_poke_df['Lgnd_Label'] = new_leg_labels\n",
        "\n",
        "new_poke_df[['Name', 'Generation', 'Gen_Label', 'Legendary', 'Lgnd_Label']]"
      ],
      "execution_count": null,
      "outputs": [
        {
          "data": {
            "text/html": [
              "<div>\n",
              "<style>\n",
              "    .dataframe thead tr:only-child th {\n",
              "        text-align: right;\n",
              "    }\n",
              "\n",
              "    .dataframe thead th {\n",
              "        text-align: left;\n",
              "    }\n",
              "\n",
              "    .dataframe tbody tr th {\n",
              "        vertical-align: top;\n",
              "    }\n",
              "</style>\n",
              "<table border=\"1\" class=\"dataframe\">\n",
              "  <thead>\n",
              "    <tr style=\"text-align: right;\">\n",
              "      <th></th>\n",
              "      <th>Name</th>\n",
              "      <th>Generation</th>\n",
              "      <th>Gen_Label</th>\n",
              "      <th>Legendary</th>\n",
              "      <th>Lgnd_Label</th>\n",
              "    </tr>\n",
              "  </thead>\n",
              "  <tbody>\n",
              "    <tr>\n",
              "      <th>0</th>\n",
              "      <td>PikaZoom</td>\n",
              "      <td>Gen 3</td>\n",
              "      <td>2</td>\n",
              "      <td>True</td>\n",
              "      <td>1</td>\n",
              "    </tr>\n",
              "    <tr>\n",
              "      <th>1</th>\n",
              "      <td>CharMyToast</td>\n",
              "      <td>Gen 4</td>\n",
              "      <td>3</td>\n",
              "      <td>False</td>\n",
              "      <td>0</td>\n",
              "    </tr>\n",
              "  </tbody>\n",
              "</table>\n",
              "</div>"
            ],
            "text/plain": [
              "          Name Generation  Gen_Label  Legendary  Lgnd_Label\n",
              "0     PikaZoom      Gen 3          2       True           1\n",
              "1  CharMyToast      Gen 4          3      False           0"
            ]
          },
          "execution_count": 13,
          "metadata": {},
          "output_type": "execute_result"
        }
      ]
    },
    {
      "cell_type": "code",
      "metadata": {
        "id": "tUHtn8Msow3l",
        "outputId": "b5dcfc8d-2403-4397-d15b-5cff64d7ed73"
      },
      "source": [
        "new_gen_feature_arr = gen_ohe.transform(new_poke_df[['Gen_Label']]).toarray()\n",
        "new_gen_features = pd.DataFrame(new_gen_feature_arr, columns=gen_feature_labels)\n",
        "\n",
        "new_leg_feature_arr = leg_ohe.transform(new_poke_df[['Lgnd_Label']]).toarray()\n",
        "new_leg_features = pd.DataFrame(new_leg_feature_arr, columns=leg_feature_labels)\n",
        "\n",
        "new_poke_ohe = pd.concat([new_poke_df, new_gen_features, new_leg_features], axis=1)\n",
        "columns = sum([['Name', 'Generation', 'Gen_Label'], gen_feature_labels,\n",
        "               ['Legendary', 'Lgnd_Label'], leg_feature_labels], [])\n",
        "new_poke_ohe[columns]"
      ],
      "execution_count": null,
      "outputs": [
        {
          "data": {
            "text/html": [
              "<div>\n",
              "<style>\n",
              "    .dataframe thead tr:only-child th {\n",
              "        text-align: right;\n",
              "    }\n",
              "\n",
              "    .dataframe thead th {\n",
              "        text-align: left;\n",
              "    }\n",
              "\n",
              "    .dataframe tbody tr th {\n",
              "        vertical-align: top;\n",
              "    }\n",
              "</style>\n",
              "<table border=\"1\" class=\"dataframe\">\n",
              "  <thead>\n",
              "    <tr style=\"text-align: right;\">\n",
              "      <th></th>\n",
              "      <th>Name</th>\n",
              "      <th>Generation</th>\n",
              "      <th>Gen_Label</th>\n",
              "      <th>Gen 1</th>\n",
              "      <th>Gen 2</th>\n",
              "      <th>Gen 3</th>\n",
              "      <th>Gen 4</th>\n",
              "      <th>Gen 5</th>\n",
              "      <th>Gen 6</th>\n",
              "      <th>Legendary</th>\n",
              "      <th>Lgnd_Label</th>\n",
              "      <th>Legendary_False</th>\n",
              "      <th>Legendary_True</th>\n",
              "    </tr>\n",
              "  </thead>\n",
              "  <tbody>\n",
              "    <tr>\n",
              "      <th>0</th>\n",
              "      <td>PikaZoom</td>\n",
              "      <td>Gen 3</td>\n",
              "      <td>2</td>\n",
              "      <td>0.0</td>\n",
              "      <td>0.0</td>\n",
              "      <td>1.0</td>\n",
              "      <td>0.0</td>\n",
              "      <td>0.0</td>\n",
              "      <td>0.0</td>\n",
              "      <td>True</td>\n",
              "      <td>1</td>\n",
              "      <td>0.0</td>\n",
              "      <td>1.0</td>\n",
              "    </tr>\n",
              "    <tr>\n",
              "      <th>1</th>\n",
              "      <td>CharMyToast</td>\n",
              "      <td>Gen 4</td>\n",
              "      <td>3</td>\n",
              "      <td>0.0</td>\n",
              "      <td>0.0</td>\n",
              "      <td>0.0</td>\n",
              "      <td>1.0</td>\n",
              "      <td>0.0</td>\n",
              "      <td>0.0</td>\n",
              "      <td>False</td>\n",
              "      <td>0</td>\n",
              "      <td>1.0</td>\n",
              "      <td>0.0</td>\n",
              "    </tr>\n",
              "  </tbody>\n",
              "</table>\n",
              "</div>"
            ],
            "text/plain": [
              "          Name Generation  Gen_Label  Gen 1  Gen 2  Gen 3  Gen 4  Gen 5  \\\n",
              "0     PikaZoom      Gen 3          2    0.0    0.0    1.0    0.0    0.0   \n",
              "1  CharMyToast      Gen 4          3    0.0    0.0    0.0    1.0    0.0   \n",
              "\n",
              "   Gen 6  Legendary  Lgnd_Label  Legendary_False  Legendary_True  \n",
              "0    0.0       True           1              0.0             1.0  \n",
              "1    0.0      False           0              1.0             0.0  "
            ]
          },
          "execution_count": 14,
          "metadata": {},
          "output_type": "execute_result"
        }
      ]
    },
    {
      "cell_type": "code",
      "metadata": {
        "id": "h94dvApiow3l",
        "outputId": "50135fa4-38a8-4187-84c7-45196394466c"
      },
      "source": [
        "gen_onehot_features = pd.get_dummies(poke_df['Generation'])\n",
        "pd.concat([poke_df[['Name', 'Generation']], gen_onehot_features], axis=1).iloc[4:10]"
      ],
      "execution_count": null,
      "outputs": [
        {
          "data": {
            "text/html": [
              "<div>\n",
              "<style>\n",
              "    .dataframe thead tr:only-child th {\n",
              "        text-align: right;\n",
              "    }\n",
              "\n",
              "    .dataframe thead th {\n",
              "        text-align: left;\n",
              "    }\n",
              "\n",
              "    .dataframe tbody tr th {\n",
              "        vertical-align: top;\n",
              "    }\n",
              "</style>\n",
              "<table border=\"1\" class=\"dataframe\">\n",
              "  <thead>\n",
              "    <tr style=\"text-align: right;\">\n",
              "      <th></th>\n",
              "      <th>Name</th>\n",
              "      <th>Generation</th>\n",
              "      <th>Gen 1</th>\n",
              "      <th>Gen 2</th>\n",
              "      <th>Gen 3</th>\n",
              "      <th>Gen 4</th>\n",
              "      <th>Gen 5</th>\n",
              "      <th>Gen 6</th>\n",
              "    </tr>\n",
              "  </thead>\n",
              "  <tbody>\n",
              "    <tr>\n",
              "      <th>4</th>\n",
              "      <td>Octillery</td>\n",
              "      <td>Gen 2</td>\n",
              "      <td>0</td>\n",
              "      <td>1</td>\n",
              "      <td>0</td>\n",
              "      <td>0</td>\n",
              "      <td>0</td>\n",
              "      <td>0</td>\n",
              "    </tr>\n",
              "    <tr>\n",
              "      <th>5</th>\n",
              "      <td>Helioptile</td>\n",
              "      <td>Gen 6</td>\n",
              "      <td>0</td>\n",
              "      <td>0</td>\n",
              "      <td>0</td>\n",
              "      <td>0</td>\n",
              "      <td>0</td>\n",
              "      <td>1</td>\n",
              "    </tr>\n",
              "    <tr>\n",
              "      <th>6</th>\n",
              "      <td>Dialga</td>\n",
              "      <td>Gen 4</td>\n",
              "      <td>0</td>\n",
              "      <td>0</td>\n",
              "      <td>0</td>\n",
              "      <td>1</td>\n",
              "      <td>0</td>\n",
              "      <td>0</td>\n",
              "    </tr>\n",
              "    <tr>\n",
              "      <th>7</th>\n",
              "      <td>DeoxysDefense Forme</td>\n",
              "      <td>Gen 3</td>\n",
              "      <td>0</td>\n",
              "      <td>0</td>\n",
              "      <td>1</td>\n",
              "      <td>0</td>\n",
              "      <td>0</td>\n",
              "      <td>0</td>\n",
              "    </tr>\n",
              "    <tr>\n",
              "      <th>8</th>\n",
              "      <td>Rapidash</td>\n",
              "      <td>Gen 1</td>\n",
              "      <td>1</td>\n",
              "      <td>0</td>\n",
              "      <td>0</td>\n",
              "      <td>0</td>\n",
              "      <td>0</td>\n",
              "      <td>0</td>\n",
              "    </tr>\n",
              "    <tr>\n",
              "      <th>9</th>\n",
              "      <td>Swanna</td>\n",
              "      <td>Gen 5</td>\n",
              "      <td>0</td>\n",
              "      <td>0</td>\n",
              "      <td>0</td>\n",
              "      <td>0</td>\n",
              "      <td>1</td>\n",
              "      <td>0</td>\n",
              "    </tr>\n",
              "  </tbody>\n",
              "</table>\n",
              "</div>"
            ],
            "text/plain": [
              "                  Name Generation  Gen 1  Gen 2  Gen 3  Gen 4  Gen 5  Gen 6\n",
              "4            Octillery      Gen 2      0      1      0      0      0      0\n",
              "5           Helioptile      Gen 6      0      0      0      0      0      1\n",
              "6               Dialga      Gen 4      0      0      0      1      0      0\n",
              "7  DeoxysDefense Forme      Gen 3      0      0      1      0      0      0\n",
              "8             Rapidash      Gen 1      1      0      0      0      0      0\n",
              "9               Swanna      Gen 5      0      0      0      0      1      0"
            ]
          },
          "execution_count": 15,
          "metadata": {},
          "output_type": "execute_result"
        }
      ]
    },
    {
      "cell_type": "markdown",
      "metadata": {
        "id": "Mg7FM_Exow3m"
      },
      "source": [
        "## Codificación **Dummy**"
      ]
    },
    {
      "cell_type": "code",
      "metadata": {
        "id": "nIBEcMe4ow3m",
        "outputId": "62e486fc-9a0f-4d3f-a449-06bd329699b4"
      },
      "source": [
        "gen_dummy_features = pd.get_dummies(poke_df['Generation'], drop_first=True)\n",
        "pd.concat([poke_df[['Name', 'Generation']], gen_dummy_features], axis=1).iloc[4:10]"
      ],
      "execution_count": null,
      "outputs": [
        {
          "data": {
            "text/html": [
              "<div>\n",
              "<style>\n",
              "    .dataframe thead tr:only-child th {\n",
              "        text-align: right;\n",
              "    }\n",
              "\n",
              "    .dataframe thead th {\n",
              "        text-align: left;\n",
              "    }\n",
              "\n",
              "    .dataframe tbody tr th {\n",
              "        vertical-align: top;\n",
              "    }\n",
              "</style>\n",
              "<table border=\"1\" class=\"dataframe\">\n",
              "  <thead>\n",
              "    <tr style=\"text-align: right;\">\n",
              "      <th></th>\n",
              "      <th>Name</th>\n",
              "      <th>Generation</th>\n",
              "      <th>Gen 2</th>\n",
              "      <th>Gen 3</th>\n",
              "      <th>Gen 4</th>\n",
              "      <th>Gen 5</th>\n",
              "      <th>Gen 6</th>\n",
              "    </tr>\n",
              "  </thead>\n",
              "  <tbody>\n",
              "    <tr>\n",
              "      <th>4</th>\n",
              "      <td>Octillery</td>\n",
              "      <td>Gen 2</td>\n",
              "      <td>1</td>\n",
              "      <td>0</td>\n",
              "      <td>0</td>\n",
              "      <td>0</td>\n",
              "      <td>0</td>\n",
              "    </tr>\n",
              "    <tr>\n",
              "      <th>5</th>\n",
              "      <td>Helioptile</td>\n",
              "      <td>Gen 6</td>\n",
              "      <td>0</td>\n",
              "      <td>0</td>\n",
              "      <td>0</td>\n",
              "      <td>0</td>\n",
              "      <td>1</td>\n",
              "    </tr>\n",
              "    <tr>\n",
              "      <th>6</th>\n",
              "      <td>Dialga</td>\n",
              "      <td>Gen 4</td>\n",
              "      <td>0</td>\n",
              "      <td>0</td>\n",
              "      <td>1</td>\n",
              "      <td>0</td>\n",
              "      <td>0</td>\n",
              "    </tr>\n",
              "    <tr>\n",
              "      <th>7</th>\n",
              "      <td>DeoxysDefense Forme</td>\n",
              "      <td>Gen 3</td>\n",
              "      <td>0</td>\n",
              "      <td>1</td>\n",
              "      <td>0</td>\n",
              "      <td>0</td>\n",
              "      <td>0</td>\n",
              "    </tr>\n",
              "    <tr>\n",
              "      <th>8</th>\n",
              "      <td>Rapidash</td>\n",
              "      <td>Gen 1</td>\n",
              "      <td>0</td>\n",
              "      <td>0</td>\n",
              "      <td>0</td>\n",
              "      <td>0</td>\n",
              "      <td>0</td>\n",
              "    </tr>\n",
              "    <tr>\n",
              "      <th>9</th>\n",
              "      <td>Swanna</td>\n",
              "      <td>Gen 5</td>\n",
              "      <td>0</td>\n",
              "      <td>0</td>\n",
              "      <td>0</td>\n",
              "      <td>1</td>\n",
              "      <td>0</td>\n",
              "    </tr>\n",
              "  </tbody>\n",
              "</table>\n",
              "</div>"
            ],
            "text/plain": [
              "                  Name Generation  Gen 2  Gen 3  Gen 4  Gen 5  Gen 6\n",
              "4            Octillery      Gen 2      1      0      0      0      0\n",
              "5           Helioptile      Gen 6      0      0      0      0      1\n",
              "6               Dialga      Gen 4      0      0      1      0      0\n",
              "7  DeoxysDefense Forme      Gen 3      0      1      0      0      0\n",
              "8             Rapidash      Gen 1      0      0      0      0      0\n",
              "9               Swanna      Gen 5      0      0      0      1      0"
            ]
          },
          "execution_count": 16,
          "metadata": {},
          "output_type": "execute_result"
        }
      ]
    },
    {
      "cell_type": "code",
      "metadata": {
        "id": "tXVgCfxAow3m",
        "outputId": "9df789af-aa3b-42b2-f0c1-1844a0601893"
      },
      "source": [
        "gen_onehot_features = pd.get_dummies(poke_df['Generation'])\n",
        "gen_dummy_features = gen_onehot_features.iloc[:,:-1]\n",
        "pd.concat([poke_df[['Name', 'Generation']], gen_dummy_features], axis=1).iloc[4:10]"
      ],
      "execution_count": null,
      "outputs": [
        {
          "data": {
            "text/html": [
              "<div>\n",
              "<style>\n",
              "    .dataframe thead tr:only-child th {\n",
              "        text-align: right;\n",
              "    }\n",
              "\n",
              "    .dataframe thead th {\n",
              "        text-align: left;\n",
              "    }\n",
              "\n",
              "    .dataframe tbody tr th {\n",
              "        vertical-align: top;\n",
              "    }\n",
              "</style>\n",
              "<table border=\"1\" class=\"dataframe\">\n",
              "  <thead>\n",
              "    <tr style=\"text-align: right;\">\n",
              "      <th></th>\n",
              "      <th>Name</th>\n",
              "      <th>Generation</th>\n",
              "      <th>Gen 1</th>\n",
              "      <th>Gen 2</th>\n",
              "      <th>Gen 3</th>\n",
              "      <th>Gen 4</th>\n",
              "      <th>Gen 5</th>\n",
              "    </tr>\n",
              "  </thead>\n",
              "  <tbody>\n",
              "    <tr>\n",
              "      <th>4</th>\n",
              "      <td>Octillery</td>\n",
              "      <td>Gen 2</td>\n",
              "      <td>0</td>\n",
              "      <td>1</td>\n",
              "      <td>0</td>\n",
              "      <td>0</td>\n",
              "      <td>0</td>\n",
              "    </tr>\n",
              "    <tr>\n",
              "      <th>5</th>\n",
              "      <td>Helioptile</td>\n",
              "      <td>Gen 6</td>\n",
              "      <td>0</td>\n",
              "      <td>0</td>\n",
              "      <td>0</td>\n",
              "      <td>0</td>\n",
              "      <td>0</td>\n",
              "    </tr>\n",
              "    <tr>\n",
              "      <th>6</th>\n",
              "      <td>Dialga</td>\n",
              "      <td>Gen 4</td>\n",
              "      <td>0</td>\n",
              "      <td>0</td>\n",
              "      <td>0</td>\n",
              "      <td>1</td>\n",
              "      <td>0</td>\n",
              "    </tr>\n",
              "    <tr>\n",
              "      <th>7</th>\n",
              "      <td>DeoxysDefense Forme</td>\n",
              "      <td>Gen 3</td>\n",
              "      <td>0</td>\n",
              "      <td>0</td>\n",
              "      <td>1</td>\n",
              "      <td>0</td>\n",
              "      <td>0</td>\n",
              "    </tr>\n",
              "    <tr>\n",
              "      <th>8</th>\n",
              "      <td>Rapidash</td>\n",
              "      <td>Gen 1</td>\n",
              "      <td>1</td>\n",
              "      <td>0</td>\n",
              "      <td>0</td>\n",
              "      <td>0</td>\n",
              "      <td>0</td>\n",
              "    </tr>\n",
              "    <tr>\n",
              "      <th>9</th>\n",
              "      <td>Swanna</td>\n",
              "      <td>Gen 5</td>\n",
              "      <td>0</td>\n",
              "      <td>0</td>\n",
              "      <td>0</td>\n",
              "      <td>0</td>\n",
              "      <td>1</td>\n",
              "    </tr>\n",
              "  </tbody>\n",
              "</table>\n",
              "</div>"
            ],
            "text/plain": [
              "                  Name Generation  Gen 1  Gen 2  Gen 3  Gen 4  Gen 5\n",
              "4            Octillery      Gen 2      0      1      0      0      0\n",
              "5           Helioptile      Gen 6      0      0      0      0      0\n",
              "6               Dialga      Gen 4      0      0      0      1      0\n",
              "7  DeoxysDefense Forme      Gen 3      0      0      1      0      0\n",
              "8             Rapidash      Gen 1      1      0      0      0      0\n",
              "9               Swanna      Gen 5      0      0      0      0      1"
            ]
          },
          "execution_count": 17,
          "metadata": {},
          "output_type": "execute_result"
        }
      ]
    },
    {
      "cell_type": "markdown",
      "metadata": {
        "id": "Db9VZckxow3m"
      },
      "source": [
        "## Codificación **Efecto**"
      ]
    },
    {
      "cell_type": "code",
      "metadata": {
        "id": "SzoaZxUIow3n",
        "outputId": "643dcba3-6cce-47e2-b86d-eaa8e4447c36"
      },
      "source": [
        "gen_onehot_features = pd.get_dummies(poke_df['Generation'])\n",
        "gen_effect_features = gen_onehot_features.iloc[:,:-1]\n",
        "gen_effect_features.loc[np.all(gen_effect_features == 0, axis=1)] = -1.\n",
        "pd.concat([poke_df[['Name', 'Generation']], gen_effect_features], axis=1).iloc[4:10]"
      ],
      "execution_count": null,
      "outputs": [
        {
          "name": "stderr",
          "output_type": "stream",
          "text": [
            "C:\\Program Files\\Anaconda3\\lib\\site-packages\\pandas\\core\\indexing.py:517: SettingWithCopyWarning: \n",
            "A value is trying to be set on a copy of a slice from a DataFrame.\n",
            "Try using .loc[row_indexer,col_indexer] = value instead\n",
            "\n",
            "See the caveats in the documentation: http://pandas.pydata.org/pandas-docs/stable/indexing.html#indexing-view-versus-copy\n",
            "  self.obj[item] = s\n"
          ]
        },
        {
          "data": {
            "text/html": [
              "<div>\n",
              "<style>\n",
              "    .dataframe thead tr:only-child th {\n",
              "        text-align: right;\n",
              "    }\n",
              "\n",
              "    .dataframe thead th {\n",
              "        text-align: left;\n",
              "    }\n",
              "\n",
              "    .dataframe tbody tr th {\n",
              "        vertical-align: top;\n",
              "    }\n",
              "</style>\n",
              "<table border=\"1\" class=\"dataframe\">\n",
              "  <thead>\n",
              "    <tr style=\"text-align: right;\">\n",
              "      <th></th>\n",
              "      <th>Name</th>\n",
              "      <th>Generation</th>\n",
              "      <th>Gen 1</th>\n",
              "      <th>Gen 2</th>\n",
              "      <th>Gen 3</th>\n",
              "      <th>Gen 4</th>\n",
              "      <th>Gen 5</th>\n",
              "    </tr>\n",
              "  </thead>\n",
              "  <tbody>\n",
              "    <tr>\n",
              "      <th>4</th>\n",
              "      <td>Octillery</td>\n",
              "      <td>Gen 2</td>\n",
              "      <td>0.0</td>\n",
              "      <td>1.0</td>\n",
              "      <td>0.0</td>\n",
              "      <td>0.0</td>\n",
              "      <td>0.0</td>\n",
              "    </tr>\n",
              "    <tr>\n",
              "      <th>5</th>\n",
              "      <td>Helioptile</td>\n",
              "      <td>Gen 6</td>\n",
              "      <td>-1.0</td>\n",
              "      <td>-1.0</td>\n",
              "      <td>-1.0</td>\n",
              "      <td>-1.0</td>\n",
              "      <td>-1.0</td>\n",
              "    </tr>\n",
              "    <tr>\n",
              "      <th>6</th>\n",
              "      <td>Dialga</td>\n",
              "      <td>Gen 4</td>\n",
              "      <td>0.0</td>\n",
              "      <td>0.0</td>\n",
              "      <td>0.0</td>\n",
              "      <td>1.0</td>\n",
              "      <td>0.0</td>\n",
              "    </tr>\n",
              "    <tr>\n",
              "      <th>7</th>\n",
              "      <td>DeoxysDefense Forme</td>\n",
              "      <td>Gen 3</td>\n",
              "      <td>0.0</td>\n",
              "      <td>0.0</td>\n",
              "      <td>1.0</td>\n",
              "      <td>0.0</td>\n",
              "      <td>0.0</td>\n",
              "    </tr>\n",
              "    <tr>\n",
              "      <th>8</th>\n",
              "      <td>Rapidash</td>\n",
              "      <td>Gen 1</td>\n",
              "      <td>1.0</td>\n",
              "      <td>0.0</td>\n",
              "      <td>0.0</td>\n",
              "      <td>0.0</td>\n",
              "      <td>0.0</td>\n",
              "    </tr>\n",
              "    <tr>\n",
              "      <th>9</th>\n",
              "      <td>Swanna</td>\n",
              "      <td>Gen 5</td>\n",
              "      <td>0.0</td>\n",
              "      <td>0.0</td>\n",
              "      <td>0.0</td>\n",
              "      <td>0.0</td>\n",
              "      <td>1.0</td>\n",
              "    </tr>\n",
              "  </tbody>\n",
              "</table>\n",
              "</div>"
            ],
            "text/plain": [
              "                  Name Generation  Gen 1  Gen 2  Gen 3  Gen 4  Gen 5\n",
              "4            Octillery      Gen 2    0.0    1.0    0.0    0.0    0.0\n",
              "5           Helioptile      Gen 6   -1.0   -1.0   -1.0   -1.0   -1.0\n",
              "6               Dialga      Gen 4    0.0    0.0    0.0    1.0    0.0\n",
              "7  DeoxysDefense Forme      Gen 3    0.0    0.0    1.0    0.0    0.0\n",
              "8             Rapidash      Gen 1    1.0    0.0    0.0    0.0    0.0\n",
              "9               Swanna      Gen 5    0.0    0.0    0.0    0.0    1.0"
            ]
          },
          "execution_count": 18,
          "metadata": {},
          "output_type": "execute_result"
        }
      ]
    },
    {
      "cell_type": "markdown",
      "metadata": {
        "id": "8Py-yONiow3n"
      },
      "source": [
        "## Feature Hashing"
      ]
    },
    {
      "cell_type": "markdown",
      "metadata": {
        "id": "ztFyHS4hTkRF"
      },
      "source": [
        "El esquema de hash de características es otro esquema de ingeniería de características útil para tratar con características categóricas a gran escala. En este esquema se suele utilizar una función hash con el número de características codificadas preestablecido (como un vector de longitud predefinida) de manera que los valores hash de las características se utilizan como índices en este vector predefinido y los valores se actualizan en consecuencia. Dado que una función hash asigna un gran número de valores a un pequeño conjunto finito de valores, varios valores diferentes pueden crear el mismo hash, lo que se denomina colisiones. Normalmente, se utiliza una función hash con signo para que el signo del valor obtenido del hash se utilice como signo del valor que se almacena en el vector de características final en el índice apropiado. Los esquemas de hash funcionan con cadenas, números y otras estructuras como vectores. Se puede pensar en las salidas con hash como un conjunto finito de h bins, de manera que cuando se aplica la función hash a los mismos valores, éstos se asignan al mismo bin de los h bins basándose en el valor hash. Podemos asignar el valor de h, que se convierte en el tamaño final del vector de características codificado para cada característica categórica que codificamos utilizando el esquema de hash de características."
      ]
    },
    {
      "cell_type": "code",
      "metadata": {
        "id": "G4VfeS3now3o",
        "outputId": "b9d2bb90-6bc1-4a6b-d447-6acf74e50ff9"
      },
      "source": [
        "unique_genres = np.unique(vg_df[['Genre']])\n",
        "print(\"Total game genres:\", len(unique_genres))\n",
        "print(unique_genres)"
      ],
      "execution_count": null,
      "outputs": [
        {
          "name": "stdout",
          "output_type": "stream",
          "text": [
            "Total game genres: 12\n",
            "['Action' 'Adventure' 'Fighting' 'Misc' 'Platform' 'Puzzle' 'Racing'\n",
            " 'Role-Playing' 'Shooter' 'Simulation' 'Sports' 'Strategy']\n"
          ]
        }
      ]
    },
    {
      "cell_type": "code",
      "metadata": {
        "id": "e0GHuLSpFsvU"
      },
      "source": [
        ""
      ],
      "execution_count": null,
      "outputs": []
    },
    {
      "cell_type": "code",
      "metadata": {
        "id": "eaVBzseDow3o",
        "outputId": "4bb0285a-be24-4ec4-dd96-0af270b52d3d"
      },
      "source": [
        "from sklearn.feature_extraction import FeatureHasher\n",
        "\n",
        "fh = FeatureHasher(n_features=6, input_type='string')\n",
        "hashed_features = fh.fit_transform(vg_df['Genre'])\n",
        "hashed_features = hashed_features.toarray()\n",
        "pd.concat([vg_df[['Name', 'Genre']], pd.DataFrame(hashed_features)], axis=1).iloc[1:7]"
      ],
      "execution_count": null,
      "outputs": [
        {
          "data": {
            "text/html": [
              "<div>\n",
              "<style>\n",
              "    .dataframe thead tr:only-child th {\n",
              "        text-align: right;\n",
              "    }\n",
              "\n",
              "    .dataframe thead th {\n",
              "        text-align: left;\n",
              "    }\n",
              "\n",
              "    .dataframe tbody tr th {\n",
              "        vertical-align: top;\n",
              "    }\n",
              "</style>\n",
              "<table border=\"1\" class=\"dataframe\">\n",
              "  <thead>\n",
              "    <tr style=\"text-align: right;\">\n",
              "      <th></th>\n",
              "      <th>Name</th>\n",
              "      <th>Genre</th>\n",
              "      <th>0</th>\n",
              "      <th>1</th>\n",
              "      <th>2</th>\n",
              "      <th>3</th>\n",
              "      <th>4</th>\n",
              "      <th>5</th>\n",
              "    </tr>\n",
              "  </thead>\n",
              "  <tbody>\n",
              "    <tr>\n",
              "      <th>1</th>\n",
              "      <td>Super Mario Bros.</td>\n",
              "      <td>Platform</td>\n",
              "      <td>0.0</td>\n",
              "      <td>2.0</td>\n",
              "      <td>2.0</td>\n",
              "      <td>-1.0</td>\n",
              "      <td>1.0</td>\n",
              "      <td>0.0</td>\n",
              "    </tr>\n",
              "    <tr>\n",
              "      <th>2</th>\n",
              "      <td>Mario Kart Wii</td>\n",
              "      <td>Racing</td>\n",
              "      <td>-1.0</td>\n",
              "      <td>0.0</td>\n",
              "      <td>0.0</td>\n",
              "      <td>0.0</td>\n",
              "      <td>0.0</td>\n",
              "      <td>-1.0</td>\n",
              "    </tr>\n",
              "    <tr>\n",
              "      <th>3</th>\n",
              "      <td>Wii Sports Resort</td>\n",
              "      <td>Sports</td>\n",
              "      <td>-2.0</td>\n",
              "      <td>2.0</td>\n",
              "      <td>0.0</td>\n",
              "      <td>-2.0</td>\n",
              "      <td>0.0</td>\n",
              "      <td>0.0</td>\n",
              "    </tr>\n",
              "    <tr>\n",
              "      <th>4</th>\n",
              "      <td>Pokemon Red/Pokemon Blue</td>\n",
              "      <td>Role-Playing</td>\n",
              "      <td>-1.0</td>\n",
              "      <td>1.0</td>\n",
              "      <td>2.0</td>\n",
              "      <td>0.0</td>\n",
              "      <td>1.0</td>\n",
              "      <td>-1.0</td>\n",
              "    </tr>\n",
              "    <tr>\n",
              "      <th>5</th>\n",
              "      <td>Tetris</td>\n",
              "      <td>Puzzle</td>\n",
              "      <td>0.0</td>\n",
              "      <td>1.0</td>\n",
              "      <td>1.0</td>\n",
              "      <td>-2.0</td>\n",
              "      <td>1.0</td>\n",
              "      <td>-1.0</td>\n",
              "    </tr>\n",
              "    <tr>\n",
              "      <th>6</th>\n",
              "      <td>New Super Mario Bros.</td>\n",
              "      <td>Platform</td>\n",
              "      <td>0.0</td>\n",
              "      <td>2.0</td>\n",
              "      <td>2.0</td>\n",
              "      <td>-1.0</td>\n",
              "      <td>1.0</td>\n",
              "      <td>0.0</td>\n",
              "    </tr>\n",
              "  </tbody>\n",
              "</table>\n",
              "</div>"
            ],
            "text/plain": [
              "                       Name         Genre    0    1    2    3    4    5\n",
              "1         Super Mario Bros.      Platform  0.0  2.0  2.0 -1.0  1.0  0.0\n",
              "2            Mario Kart Wii        Racing -1.0  0.0  0.0  0.0  0.0 -1.0\n",
              "3         Wii Sports Resort        Sports -2.0  2.0  0.0 -2.0  0.0  0.0\n",
              "4  Pokemon Red/Pokemon Blue  Role-Playing -1.0  1.0  2.0  0.0  1.0 -1.0\n",
              "5                    Tetris        Puzzle  0.0  1.0  1.0 -2.0  1.0 -1.0\n",
              "6     New Super Mario Bros.      Platform  0.0  2.0  2.0 -1.0  1.0  0.0"
            ]
          },
          "execution_count": 20,
          "metadata": {},
          "output_type": "execute_result"
        }
      ]
    },
    {
      "cell_type": "code",
      "metadata": {
        "id": "97DWdiKJow3o",
        "outputId": "9035da12-59d4-45d4-aa60-80146795f8cf"
      },
      "source": [
        "fh.get_params()"
      ],
      "execution_count": null,
      "outputs": [
        {
          "data": {
            "text/plain": [
              "{'dtype': numpy.float64,\n",
              " 'input_type': 'string',\n",
              " 'n_features': 6,\n",
              " 'non_negative': False}"
            ]
          },
          "execution_count": 21,
          "metadata": {},
          "output_type": "execute_result"
        }
      ]
    },
    {
      "cell_type": "markdown",
      "metadata": {
        "id": "6uWI3kekUsgT"
      },
      "source": [
        "## Tambien se puede hacer ingeniería de características en:\n",
        "\n",
        "*   Datos de texto\n",
        "*   Datos de imagen\n",
        "*   Datos temporales (series de tiempo)\n",
        "\n"
      ]
    }
  ]
}