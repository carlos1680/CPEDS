{
  "nbformat": 4,
  "nbformat_minor": 0,
  "metadata": {
    "colab": {
      "name": "MLII - Clase 7 - Práctica",
      "provenance": []
    },
    "kernelspec": {
      "name": "python3",
      "display_name": "Python 3"
    },
    "language_info": {
      "name": "python"
    }
  },
  "cells": [
    {
      "cell_type": "code",
      "metadata": {
        "collapsed": true,
        "id": "RqVEP9YLofe0"
      },
      "source": [
        "from sklearn.preprocessing import StandardScaler, MinMaxScaler, RobustScaler\n",
        "import numpy as np\n",
        "import pandas as pd\n",
        "np.set_printoptions(suppress=True)"
      ],
      "execution_count": null,
      "outputs": []
    },
    {
      "cell_type": "markdown",
      "metadata": {
        "id": "jPQGrgeKofe3"
      },
      "source": [
        "# Datos de ejemplo de visualizaciones de video\n",
        "\n",
        "\n",
        "---\n",
        "\n"
      ]
    },
    {
      "cell_type": "code",
      "metadata": {
        "colab": {
          "base_uri": "https://localhost:8080/",
          "height": 238
        },
        "id": "goHRK6O3ofe4",
        "outputId": "1e578887-ab2f-46c1-96b2-e975ad55017b"
      },
      "source": [
        "views = pd.DataFrame([1295., 25., 19000., 5., 1., 300.], columns=['views'])\n",
        "views"
      ],
      "execution_count": null,
      "outputs": [
        {
          "output_type": "execute_result",
          "data": {
            "text/html": [
              "<div>\n",
              "<style scoped>\n",
              "    .dataframe tbody tr th:only-of-type {\n",
              "        vertical-align: middle;\n",
              "    }\n",
              "\n",
              "    .dataframe tbody tr th {\n",
              "        vertical-align: top;\n",
              "    }\n",
              "\n",
              "    .dataframe thead th {\n",
              "        text-align: right;\n",
              "    }\n",
              "</style>\n",
              "<table border=\"1\" class=\"dataframe\">\n",
              "  <thead>\n",
              "    <tr style=\"text-align: right;\">\n",
              "      <th></th>\n",
              "      <th>views</th>\n",
              "    </tr>\n",
              "  </thead>\n",
              "  <tbody>\n",
              "    <tr>\n",
              "      <th>0</th>\n",
              "      <td>1295.0</td>\n",
              "    </tr>\n",
              "    <tr>\n",
              "      <th>1</th>\n",
              "      <td>25.0</td>\n",
              "    </tr>\n",
              "    <tr>\n",
              "      <th>2</th>\n",
              "      <td>19000.0</td>\n",
              "    </tr>\n",
              "    <tr>\n",
              "      <th>3</th>\n",
              "      <td>5.0</td>\n",
              "    </tr>\n",
              "    <tr>\n",
              "      <th>4</th>\n",
              "      <td>1.0</td>\n",
              "    </tr>\n",
              "    <tr>\n",
              "      <th>5</th>\n",
              "      <td>300.0</td>\n",
              "    </tr>\n",
              "  </tbody>\n",
              "</table>\n",
              "</div>"
            ],
            "text/plain": [
              "     views\n",
              "0   1295.0\n",
              "1     25.0\n",
              "2  19000.0\n",
              "3      5.0\n",
              "4      1.0\n",
              "5    300.0"
            ]
          },
          "metadata": {},
          "execution_count": 2
        }
      ]
    },
    {
      "cell_type": "markdown",
      "metadata": {
        "id": "ok1JNGsYofe6"
      },
      "source": [
        "# Escalador estandar $\\frac{x_i - \\mu}{\\sigma}$ $\\mu$: valor medio, $\\sigma$: desviación estándar"
      ]
    },
    {
      "cell_type": "code",
      "metadata": {
        "id": "8hO_lHceofe6",
        "colab": {
          "base_uri": "https://localhost:8080/",
          "height": 238
        },
        "outputId": "1c48aaa9-92dc-4f3c-8b1e-dbeae2c1e8b4"
      },
      "source": [
        "ss = StandardScaler()\n",
        "views['zscore'] = ss.fit_transform(views[['views']])\n",
        "views"
      ],
      "execution_count": null,
      "outputs": [
        {
          "output_type": "execute_result",
          "data": {
            "text/html": [
              "<div>\n",
              "<style scoped>\n",
              "    .dataframe tbody tr th:only-of-type {\n",
              "        vertical-align: middle;\n",
              "    }\n",
              "\n",
              "    .dataframe tbody tr th {\n",
              "        vertical-align: top;\n",
              "    }\n",
              "\n",
              "    .dataframe thead th {\n",
              "        text-align: right;\n",
              "    }\n",
              "</style>\n",
              "<table border=\"1\" class=\"dataframe\">\n",
              "  <thead>\n",
              "    <tr style=\"text-align: right;\">\n",
              "      <th></th>\n",
              "      <th>views</th>\n",
              "      <th>zscore</th>\n",
              "    </tr>\n",
              "  </thead>\n",
              "  <tbody>\n",
              "    <tr>\n",
              "      <th>0</th>\n",
              "      <td>1295.0</td>\n",
              "      <td>-0.307214</td>\n",
              "    </tr>\n",
              "    <tr>\n",
              "      <th>1</th>\n",
              "      <td>25.0</td>\n",
              "      <td>-0.489306</td>\n",
              "    </tr>\n",
              "    <tr>\n",
              "      <th>2</th>\n",
              "      <td>19000.0</td>\n",
              "      <td>2.231317</td>\n",
              "    </tr>\n",
              "    <tr>\n",
              "      <th>3</th>\n",
              "      <td>5.0</td>\n",
              "      <td>-0.492173</td>\n",
              "    </tr>\n",
              "    <tr>\n",
              "      <th>4</th>\n",
              "      <td>1.0</td>\n",
              "      <td>-0.492747</td>\n",
              "    </tr>\n",
              "    <tr>\n",
              "      <th>5</th>\n",
              "      <td>300.0</td>\n",
              "      <td>-0.449877</td>\n",
              "    </tr>\n",
              "  </tbody>\n",
              "</table>\n",
              "</div>"
            ],
            "text/plain": [
              "     views    zscore\n",
              "0   1295.0 -0.307214\n",
              "1     25.0 -0.489306\n",
              "2  19000.0  2.231317\n",
              "3      5.0 -0.492173\n",
              "4      1.0 -0.492747\n",
              "5    300.0 -0.449877"
            ]
          },
          "metadata": {},
          "execution_count": 3
        }
      ]
    },
    {
      "cell_type": "code",
      "metadata": {
        "id": "u4RY9yhIofe7",
        "colab": {
          "base_uri": "https://localhost:8080/"
        },
        "outputId": "35556a62-e851-494f-9570-e8831320247f"
      },
      "source": [
        "vw = np.array(views['views'])\n",
        "(vw - np.mean(vw)) / np.std(vw)"
      ],
      "execution_count": null,
      "outputs": [
        {
          "output_type": "execute_result",
          "data": {
            "text/plain": [
              "array([-0.30721413, -0.4893059 ,  2.23131709, -0.49217348, -0.492747  ,\n",
              "       -0.44987658])"
            ]
          },
          "metadata": {},
          "execution_count": 5
        }
      ]
    },
    {
      "cell_type": "markdown",
      "metadata": {
        "id": "8jrkUucYofe8"
      },
      "source": [
        "# Escalador Min-Max $\\frac{x_i - min(x)}{max(x) - min(x)}$\n",
        "\n",
        "---\n",
        "\n"
      ]
    },
    {
      "cell_type": "code",
      "metadata": {
        "id": "8tY-T8oTofe9",
        "colab": {
          "base_uri": "https://localhost:8080/",
          "height": 238
        },
        "outputId": "98384dad-264b-416e-c506-c0b2a1bb5590"
      },
      "source": [
        "mms = MinMaxScaler()\n",
        "views['minmax'] = mms.fit_transform(views[['views']])\n",
        "views"
      ],
      "execution_count": null,
      "outputs": [
        {
          "output_type": "execute_result",
          "data": {
            "text/html": [
              "<div>\n",
              "<style scoped>\n",
              "    .dataframe tbody tr th:only-of-type {\n",
              "        vertical-align: middle;\n",
              "    }\n",
              "\n",
              "    .dataframe tbody tr th {\n",
              "        vertical-align: top;\n",
              "    }\n",
              "\n",
              "    .dataframe thead th {\n",
              "        text-align: right;\n",
              "    }\n",
              "</style>\n",
              "<table border=\"1\" class=\"dataframe\">\n",
              "  <thead>\n",
              "    <tr style=\"text-align: right;\">\n",
              "      <th></th>\n",
              "      <th>views</th>\n",
              "      <th>zscore</th>\n",
              "      <th>minmax</th>\n",
              "    </tr>\n",
              "  </thead>\n",
              "  <tbody>\n",
              "    <tr>\n",
              "      <th>0</th>\n",
              "      <td>1295.0</td>\n",
              "      <td>-0.307214</td>\n",
              "      <td>0.068109</td>\n",
              "    </tr>\n",
              "    <tr>\n",
              "      <th>1</th>\n",
              "      <td>25.0</td>\n",
              "      <td>-0.489306</td>\n",
              "      <td>0.001263</td>\n",
              "    </tr>\n",
              "    <tr>\n",
              "      <th>2</th>\n",
              "      <td>19000.0</td>\n",
              "      <td>2.231317</td>\n",
              "      <td>1.000000</td>\n",
              "    </tr>\n",
              "    <tr>\n",
              "      <th>3</th>\n",
              "      <td>5.0</td>\n",
              "      <td>-0.492173</td>\n",
              "      <td>0.000211</td>\n",
              "    </tr>\n",
              "    <tr>\n",
              "      <th>4</th>\n",
              "      <td>1.0</td>\n",
              "      <td>-0.492747</td>\n",
              "      <td>0.000000</td>\n",
              "    </tr>\n",
              "    <tr>\n",
              "      <th>5</th>\n",
              "      <td>300.0</td>\n",
              "      <td>-0.449877</td>\n",
              "      <td>0.015738</td>\n",
              "    </tr>\n",
              "  </tbody>\n",
              "</table>\n",
              "</div>"
            ],
            "text/plain": [
              "     views    zscore    minmax\n",
              "0   1295.0 -0.307214  0.068109\n",
              "1     25.0 -0.489306  0.001263\n",
              "2  19000.0  2.231317  1.000000\n",
              "3      5.0 -0.492173  0.000211\n",
              "4      1.0 -0.492747  0.000000\n",
              "5    300.0 -0.449877  0.015738"
            ]
          },
          "metadata": {},
          "execution_count": 6
        }
      ]
    },
    {
      "cell_type": "code",
      "metadata": {
        "id": "71vbzW7Rofe_",
        "colab": {
          "base_uri": "https://localhost:8080/"
        },
        "outputId": "fd9c7ef7-75bc-4736-af0f-bcd27ae6d8a7"
      },
      "source": [
        "(vw - np.min(vw)) / (np.max(vw) - np.min(vw))"
      ],
      "execution_count": null,
      "outputs": [
        {
          "output_type": "execute_result",
          "data": {
            "text/plain": [
              "array([0.06810885, 0.00126322, 1.        , 0.00021054, 0.        ,\n",
              "       0.01573767])"
            ]
          },
          "metadata": {},
          "execution_count": 7
        }
      ]
    },
    {
      "cell_type": "markdown",
      "metadata": {
        "id": "6yBudrb8offB"
      },
      "source": [
        "# Escalador Robusto  $\\frac{x_i - mediana(x)}{IQR_{(1,3)}(x)}$"
      ]
    },
    {
      "cell_type": "code",
      "metadata": {
        "id": "D_o208kOoffD",
        "colab": {
          "base_uri": "https://localhost:8080/",
          "height": 238
        },
        "outputId": "0c651d01-cdd7-419a-c26f-97e0d9cb2718"
      },
      "source": [
        "rs = RobustScaler()\n",
        "views['robust'] = rs.fit_transform(views[['views']])\n",
        "views"
      ],
      "execution_count": null,
      "outputs": [
        {
          "output_type": "execute_result",
          "data": {
            "text/html": [
              "<div>\n",
              "<style scoped>\n",
              "    .dataframe tbody tr th:only-of-type {\n",
              "        vertical-align: middle;\n",
              "    }\n",
              "\n",
              "    .dataframe tbody tr th {\n",
              "        vertical-align: top;\n",
              "    }\n",
              "\n",
              "    .dataframe thead th {\n",
              "        text-align: right;\n",
              "    }\n",
              "</style>\n",
              "<table border=\"1\" class=\"dataframe\">\n",
              "  <thead>\n",
              "    <tr style=\"text-align: right;\">\n",
              "      <th></th>\n",
              "      <th>views</th>\n",
              "      <th>zscore</th>\n",
              "      <th>minmax</th>\n",
              "      <th>robust</th>\n",
              "    </tr>\n",
              "  </thead>\n",
              "  <tbody>\n",
              "    <tr>\n",
              "      <th>0</th>\n",
              "      <td>1295.0</td>\n",
              "      <td>-0.307214</td>\n",
              "      <td>0.068109</td>\n",
              "      <td>1.092883</td>\n",
              "    </tr>\n",
              "    <tr>\n",
              "      <th>1</th>\n",
              "      <td>25.0</td>\n",
              "      <td>-0.489306</td>\n",
              "      <td>0.001263</td>\n",
              "      <td>-0.132690</td>\n",
              "    </tr>\n",
              "    <tr>\n",
              "      <th>2</th>\n",
              "      <td>19000.0</td>\n",
              "      <td>2.231317</td>\n",
              "      <td>1.000000</td>\n",
              "      <td>18.178528</td>\n",
              "    </tr>\n",
              "    <tr>\n",
              "      <th>3</th>\n",
              "      <td>5.0</td>\n",
              "      <td>-0.492173</td>\n",
              "      <td>0.000211</td>\n",
              "      <td>-0.151990</td>\n",
              "    </tr>\n",
              "    <tr>\n",
              "      <th>4</th>\n",
              "      <td>1.0</td>\n",
              "      <td>-0.492747</td>\n",
              "      <td>0.000000</td>\n",
              "      <td>-0.155850</td>\n",
              "    </tr>\n",
              "    <tr>\n",
              "      <th>5</th>\n",
              "      <td>300.0</td>\n",
              "      <td>-0.449877</td>\n",
              "      <td>0.015738</td>\n",
              "      <td>0.132690</td>\n",
              "    </tr>\n",
              "  </tbody>\n",
              "</table>\n",
              "</div>"
            ],
            "text/plain": [
              "     views    zscore    minmax     robust\n",
              "0   1295.0 -0.307214  0.068109   1.092883\n",
              "1     25.0 -0.489306  0.001263  -0.132690\n",
              "2  19000.0  2.231317  1.000000  18.178528\n",
              "3      5.0 -0.492173  0.000211  -0.151990\n",
              "4      1.0 -0.492747  0.000000  -0.155850\n",
              "5    300.0 -0.449877  0.015738   0.132690"
            ]
          },
          "metadata": {},
          "execution_count": 8
        }
      ]
    },
    {
      "cell_type": "code",
      "metadata": {
        "id": "GuQl62hIoffF",
        "colab": {
          "base_uri": "https://localhost:8080/"
        },
        "outputId": "6f0d3d01-c930-4fe2-ad8f-b956925d1b10"
      },
      "source": [
        "quartiles = np.percentile(vw, (25., 75.))\n",
        "iqr = quartiles[1] - quartiles[0]\n",
        "(vw - np.median(vw)) / iqr"
      ],
      "execution_count": null,
      "outputs": [
        {
          "output_type": "execute_result",
          "data": {
            "text/plain": [
              "array([ 1.09288299, -0.13268999, 18.17852835, -0.15199035, -0.15585042,\n",
              "        0.13268999])"
            ]
          },
          "metadata": {},
          "execution_count": 9
        }
      ]
    },
    {
      "cell_type": "markdown",
      "metadata": {
        "id": "H84ehVzS4TnY"
      },
      "source": [
        "# Selección de atributos"
      ]
    },
    {
      "cell_type": "code",
      "metadata": {
        "id": "i7UR0VYu4Tni"
      },
      "source": [
        "import numpy as np\n",
        "import pandas as pd\n",
        "np.set_printoptions(suppress=True)\n",
        "pt = np.get_printoptions()['threshold']"
      ],
      "execution_count": null,
      "outputs": []
    },
    {
      "cell_type": "markdown",
      "metadata": {
        "id": "VXty1Q_z4Tnm"
      },
      "source": [
        "# Métodos basados en umbral\n",
        "\n",
        "\n"
      ]
    },
    {
      "cell_type": "markdown",
      "metadata": {
        "id": "-WejfsWGzi87"
      },
      "source": [
        "Se trata de una estrategia de selección de características basada en un filtro, en la que se puede utilizar algún tipo de corte o umbral para\n",
        "limitar el número total de características durante la selección. Los umbrales \n",
        "pueden utilizarse durante el propio proceso de ingeniería de características, donde se pueden especificar parámetros de umbral.\n",
        "Un ejemplo sencillo sería limitar los términos de las características en el modelo Bag of Words.\n",
        "\n",
        "Scikit-learn proporciona parámetros como min_df y max_\n",
        "df que pueden utilizarse para especificar los umbrales para ignorar los términos que tienen una frecuencia de documento superior o inferior a los umbrales especificados por el usuario.\n"
      ]
    },
    {
      "cell_type": "markdown",
      "metadata": {
        "id": "aI7d4OpB4Tnn"
      },
      "source": [
        "## Limitando características en el modelo *bag of words*"
      ]
    },
    {
      "cell_type": "code",
      "metadata": {
        "id": "qC3KEWRu4Tno",
        "colab": {
          "base_uri": "https://localhost:8080/"
        },
        "outputId": "1658a5cf-da1e-484a-85f7-17b573f7c58e"
      },
      "source": [
        "from sklearn.feature_extraction.text import CountVectorizer\n",
        "\n",
        "cv = CountVectorizer(min_df=0.1, max_df=0.85, max_features=2000)\n",
        "cv"
      ],
      "execution_count": null,
      "outputs": [
        {
          "output_type": "execute_result",
          "data": {
            "text/plain": [
              "CountVectorizer(analyzer='word', binary=False, decode_error='strict',\n",
              "                dtype=<class 'numpy.int64'>, encoding='utf-8', input='content',\n",
              "                lowercase=True, max_df=0.85, max_features=2000, min_df=0.1,\n",
              "                ngram_range=(1, 1), preprocessor=None, stop_words=None,\n",
              "                strip_accents=None, token_pattern='(?u)\\\\b\\\\w\\\\w+\\\\b',\n",
              "                tokenizer=None, vocabulary=None)"
            ]
          },
          "metadata": {},
          "execution_count": 1
        }
      ]
    },
    {
      "cell_type": "markdown",
      "metadata": {
        "id": "NZNM0YK93FJ2"
      },
      "source": [
        "Esto básicamente construye un vectorizador de conteo que ignora los términos ocurren en menos del 10% del\n",
        "total del corpus y también ignora los términos que aparecen en más del 85% del total. Además, también\n",
        "un límite de 2000 características máximas en el conjunto de características."
      ]
    },
    {
      "cell_type": "markdown",
      "metadata": {
        "id": "gO_lcM-Z4Tns"
      },
      "source": [
        "## Umbral basado en varianza"
      ]
    },
    {
      "cell_type": "markdown",
      "metadata": {
        "id": "8CJmNogk3fYj"
      },
      "source": [
        "En este método se eliminan las características que tienen una varianza baja (por debajo del umbral especificado por el usuario).\n",
        "\n",
        "Esto significa que queremos eliminar las características que\n",
        "tienen valores más o menos constantes en todas las observaciones de nuestros conjuntos de datos. Podemos aplicar esto a\n",
        "nuestro conjunto de datos de Pokémon, que hemos utilizado anteriormente en este capítulo. Primero convertimos la característica Generación en una característica\n",
        "categórica de la siguiente manera.\n"
      ]
    },
    {
      "cell_type": "code",
      "metadata": {
        "id": "8aa38ONq4Tnt",
        "colab": {
          "base_uri": "https://localhost:8080/",
          "height": 198
        },
        "outputId": "5da6ad5a-1ff1-4dee-a389-f75e994df8d9"
      },
      "source": [
        "df = pd.read_csv('Pokemon.csv')\n",
        "poke_gen = pd.get_dummies(df['Generation'])\n",
        "poke_gen.head()"
      ],
      "execution_count": null,
      "outputs": [
        {
          "output_type": "error",
          "ename": "NameError",
          "evalue": "ignored",
          "traceback": [
            "\u001b[0;31m---------------------------------------------------------------------------\u001b[0m",
            "\u001b[0;31mNameError\u001b[0m                                 Traceback (most recent call last)",
            "\u001b[0;32m<ipython-input-2-2f2f785c4b17>\u001b[0m in \u001b[0;36m<module>\u001b[0;34m()\u001b[0m\n\u001b[0;32m----> 1\u001b[0;31m \u001b[0mdf\u001b[0m \u001b[0;34m=\u001b[0m \u001b[0mpd\u001b[0m\u001b[0;34m.\u001b[0m\u001b[0mread_csv\u001b[0m\u001b[0;34m(\u001b[0m\u001b[0;34m'Pokemon.csv'\u001b[0m\u001b[0;34m)\u001b[0m\u001b[0;34m\u001b[0m\u001b[0;34m\u001b[0m\u001b[0m\n\u001b[0m\u001b[1;32m      2\u001b[0m \u001b[0mpoke_gen\u001b[0m \u001b[0;34m=\u001b[0m \u001b[0mpd\u001b[0m\u001b[0;34m.\u001b[0m\u001b[0mget_dummies\u001b[0m\u001b[0;34m(\u001b[0m\u001b[0mdf\u001b[0m\u001b[0;34m[\u001b[0m\u001b[0;34m'Generation'\u001b[0m\u001b[0;34m]\u001b[0m\u001b[0;34m)\u001b[0m\u001b[0;34m\u001b[0m\u001b[0;34m\u001b[0m\u001b[0m\n\u001b[1;32m      3\u001b[0m \u001b[0mpoke_gen\u001b[0m\u001b[0;34m.\u001b[0m\u001b[0mhead\u001b[0m\u001b[0;34m(\u001b[0m\u001b[0;34m)\u001b[0m\u001b[0;34m\u001b[0m\u001b[0;34m\u001b[0m\u001b[0m\n",
            "\u001b[0;31mNameError\u001b[0m: name 'pd' is not defined"
          ]
        }
      ]
    },
    {
      "cell_type": "markdown",
      "metadata": {
        "id": "g14E8-5L4HwR"
      },
      "source": [
        "A continuación, queremos eliminar las características en las que la varianza es inferior a 0.15"
      ]
    },
    {
      "cell_type": "code",
      "metadata": {
        "id": "wBVm-v6E4Tnv",
        "outputId": "ab2e993e-a225-4af7-d74f-d4e9e93a4505"
      },
      "source": [
        "from sklearn.feature_selection import VarianceThreshold\n",
        "\n",
        "vt = VarianceThreshold(threshold=.15)\n",
        "vt.fit(poke_gen)"
      ],
      "execution_count": null,
      "outputs": [
        {
          "data": {
            "text/plain": [
              "VarianceThreshold(threshold=0.15)"
            ]
          },
          "execution_count": 4,
          "metadata": {},
          "output_type": "execute_result"
        }
      ]
    },
    {
      "cell_type": "markdown",
      "metadata": {
        "id": "6nTs5tST4YHc"
      },
      "source": [
        "Para ver las varianzas, así como las características que fueron finalmente seleccionadas por este algoritmo, podemos utilizar la propiedad\n",
        "variances_ y la función get_support(...) respectivamente."
      ]
    },
    {
      "cell_type": "code",
      "metadata": {
        "id": "jYoG9WNm4Tny",
        "outputId": "2a83947a-7fa6-410d-b006-2f7388974457"
      },
      "source": [
        "pd.DataFrame({'variance': vt.variances_,\n",
        "              'select_feature': vt.get_support()},\n",
        "            index=poke_gen.columns).T"
      ],
      "execution_count": null,
      "outputs": [
        {
          "data": {
            "text/html": [
              "<div>\n",
              "<style>\n",
              "    .dataframe thead tr:only-child th {\n",
              "        text-align: right;\n",
              "    }\n",
              "\n",
              "    .dataframe thead th {\n",
              "        text-align: left;\n",
              "    }\n",
              "\n",
              "    .dataframe tbody tr th {\n",
              "        vertical-align: top;\n",
              "    }\n",
              "</style>\n",
              "<table border=\"1\" class=\"dataframe\">\n",
              "  <thead>\n",
              "    <tr style=\"text-align: right;\">\n",
              "      <th></th>\n",
              "      <th>Gen 1</th>\n",
              "      <th>Gen 2</th>\n",
              "      <th>Gen 3</th>\n",
              "      <th>Gen 4</th>\n",
              "      <th>Gen 5</th>\n",
              "      <th>Gen 6</th>\n",
              "    </tr>\n",
              "  </thead>\n",
              "  <tbody>\n",
              "    <tr>\n",
              "      <th>select_feature</th>\n",
              "      <td>True</td>\n",
              "      <td>False</td>\n",
              "      <td>True</td>\n",
              "      <td>False</td>\n",
              "      <td>True</td>\n",
              "      <td>False</td>\n",
              "    </tr>\n",
              "    <tr>\n",
              "      <th>variance</th>\n",
              "      <td>0.164444</td>\n",
              "      <td>0.114944</td>\n",
              "      <td>0.16</td>\n",
              "      <td>0.128373</td>\n",
              "      <td>0.163711</td>\n",
              "      <td>0.0919937</td>\n",
              "    </tr>\n",
              "  </tbody>\n",
              "</table>\n",
              "</div>"
            ],
            "text/plain": [
              "                   Gen 1     Gen 2 Gen 3     Gen 4     Gen 5      Gen 6\n",
              "select_feature      True     False  True     False      True      False\n",
              "variance        0.164444  0.114944  0.16  0.128373  0.163711  0.0919937"
            ]
          },
          "execution_count": 5,
          "metadata": {},
          "output_type": "execute_result"
        }
      ]
    },
    {
      "cell_type": "code",
      "metadata": {
        "id": "cQEErfa94Tn0",
        "outputId": "02b25740-6d95-46ef-ada9-c961f87dd1c7"
      },
      "source": [
        "poke_gen_subset = poke_gen.iloc[:,vt.get_support()].head()\n",
        "poke_gen_subset"
      ],
      "execution_count": null,
      "outputs": [
        {
          "data": {
            "text/html": [
              "<div>\n",
              "<style>\n",
              "    .dataframe thead tr:only-child th {\n",
              "        text-align: right;\n",
              "    }\n",
              "\n",
              "    .dataframe thead th {\n",
              "        text-align: left;\n",
              "    }\n",
              "\n",
              "    .dataframe tbody tr th {\n",
              "        vertical-align: top;\n",
              "    }\n",
              "</style>\n",
              "<table border=\"1\" class=\"dataframe\">\n",
              "  <thead>\n",
              "    <tr style=\"text-align: right;\">\n",
              "      <th></th>\n",
              "      <th>Gen 1</th>\n",
              "      <th>Gen 3</th>\n",
              "      <th>Gen 5</th>\n",
              "    </tr>\n",
              "  </thead>\n",
              "  <tbody>\n",
              "    <tr>\n",
              "      <th>0</th>\n",
              "      <td>1</td>\n",
              "      <td>0</td>\n",
              "      <td>0</td>\n",
              "    </tr>\n",
              "    <tr>\n",
              "      <th>1</th>\n",
              "      <td>1</td>\n",
              "      <td>0</td>\n",
              "      <td>0</td>\n",
              "    </tr>\n",
              "    <tr>\n",
              "      <th>2</th>\n",
              "      <td>1</td>\n",
              "      <td>0</td>\n",
              "      <td>0</td>\n",
              "    </tr>\n",
              "    <tr>\n",
              "      <th>3</th>\n",
              "      <td>1</td>\n",
              "      <td>0</td>\n",
              "      <td>0</td>\n",
              "    </tr>\n",
              "    <tr>\n",
              "      <th>4</th>\n",
              "      <td>1</td>\n",
              "      <td>0</td>\n",
              "      <td>0</td>\n",
              "    </tr>\n",
              "  </tbody>\n",
              "</table>\n",
              "</div>"
            ],
            "text/plain": [
              "   Gen 1  Gen 3  Gen 5\n",
              "0      1      0      0\n",
              "1      1      0      0\n",
              "2      1      0      0\n",
              "3      1      0      0\n",
              "4      1      0      0"
            ]
          },
          "execution_count": 6,
          "metadata": {},
          "output_type": "execute_result"
        }
      ]
    },
    {
      "cell_type": "markdown",
      "metadata": {
        "id": "I08Qp4kr4Tn2"
      },
      "source": [
        "# Métodos estadísticos"
      ]
    },
    {
      "cell_type": "markdown",
      "metadata": {
        "id": "96MjYKsF5Mdd"
      },
      "source": [
        "Otro método de selección de características basado en un filtro, que es ligeramente más sofisticado, consiste en\n",
        "seleccionar características basadas en pruebas estadísticas univariadas. Se pueden utilizar varias pruebas estadísticas para los modelos de regresión y clasificación, como la información mutua, el ANOVA (análisis de varianza) y las pruebas de chi-cuadrado. A partir de las puntuaciones obtenidas en estas pruebas estadísticas, se pueden seleccionar las mejores características en función de su puntuación.\n",
        "\n",
        "Carguemos ahora un conjunto de datos de muestra con 30 características. Este conjunto de datos se conoce como Wisconsin\n",
        "Diagnostic Breast Cancer, que también está disponible en su formato nativo o crudo en https://archive.ics.uci.edu/ml/datasets/Breast+Cancer+Wisconsin+(Diagnostic), que es el repositorio de aprendizaje automático de la UCI.\n",
        "\n",
        "Utilizaremos scikit-learn para cargar las características de los datos y la variable de clase de respuesta.\n"
      ]
    },
    {
      "cell_type": "code",
      "metadata": {
        "id": "LMVDeJ4I4Tn3",
        "outputId": "21590a53-d7a4-4cf4-8cd4-f265e12cb65d"
      },
      "source": [
        "from sklearn.datasets import load_breast_cancer\n",
        "\n",
        "bc_data = load_breast_cancer()\n",
        "bc_features = pd.DataFrame(bc_data.data, columns=bc_data.feature_names)\n",
        "bc_classes = pd.DataFrame(bc_data.target, columns=['IsMalignant'])\n",
        "\n",
        "# build featureset and response class labels \n",
        "bc_X = np.array(bc_features)\n",
        "bc_y = np.array(bc_classes).T[0]\n",
        "print('Feature set shape:', bc_X.shape)\n",
        "print('Response class shape:', bc_y.shape)"
      ],
      "execution_count": null,
      "outputs": [
        {
          "name": "stdout",
          "output_type": "stream",
          "text": [
            "Feature set shape: (569, 30)\n",
            "Response class shape: (569,)\n"
          ]
        }
      ]
    },
    {
      "cell_type": "code",
      "metadata": {
        "id": "m2HZSzJU4Tn5",
        "outputId": "bf084147-f2b9-4751-913c-df52681006b9"
      },
      "source": [
        "np.set_printoptions(threshold=30)\n",
        "print('Feature set data [shape: '+str(bc_X.shape)+']')\n",
        "print(np.round(bc_X, 2), '\\n')\n",
        "print('Feature names:')\n",
        "print(np.array(bc_features.columns), '\\n')\n",
        "print('Predictor Class label data [shape: '+str(bc_y.shape)+']')\n",
        "print(bc_y, '\\n')\n",
        "print('Predictor name:', np.array(bc_classes.columns))\n",
        "np.set_printoptions(threshold=pt)"
      ],
      "execution_count": null,
      "outputs": [
        {
          "name": "stdout",
          "output_type": "stream",
          "text": [
            "Feature set data [shape: (569, 30)]\n",
            "[[  17.99   10.38  122.8  ...,    0.27    0.46    0.12]\n",
            " [  20.57   17.77  132.9  ...,    0.19    0.28    0.09]\n",
            " [  19.69   21.25  130.   ...,    0.24    0.36    0.09]\n",
            " ..., \n",
            " [  16.6    28.08  108.3  ...,    0.14    0.22    0.08]\n",
            " [  20.6    29.33  140.1  ...,    0.26    0.41    0.12]\n",
            " [   7.76   24.54   47.92 ...,    0.      0.29    0.07]] \n",
            "\n",
            "Feature names:\n",
            "['mean radius' 'mean texture' 'mean perimeter' 'mean area'\n",
            " 'mean smoothness' 'mean compactness' 'mean concavity'\n",
            " 'mean concave points' 'mean symmetry' 'mean fractal dimension'\n",
            " 'radius error' 'texture error' 'perimeter error' 'area error'\n",
            " 'smoothness error' 'compactness error' 'concavity error'\n",
            " 'concave points error' 'symmetry error' 'fractal dimension error'\n",
            " 'worst radius' 'worst texture' 'worst perimeter' 'worst area'\n",
            " 'worst smoothness' 'worst compactness' 'worst concavity'\n",
            " 'worst concave points' 'worst symmetry' 'worst fractal dimension'] \n",
            "\n",
            "Predictor Class label data [shape: (569,)]\n",
            "[0 0 0 ..., 0 0 1] \n",
            "\n",
            "Predictor name: ['IsMalignant']\n"
          ]
        }
      ]
    },
    {
      "cell_type": "markdown",
      "metadata": {
        "id": "aJb1eyRG6lvu"
      },
      "source": [
        "Esto nos da una mejor perspectiva de los datos que estamos tratando. La variable objetivo es una clase binaria\n",
        "donde 1 indica que el tumor detectado era benigno y 0 que era maligno. También podemos ver\n",
        "las 30 características que son números reales que describen las características de los núcleos celulares presentes en las imágenes digitalizadas de la masa mamaria.\n",
        "Utilicemos ahora la prueba de chi-cuadrado en este conjunto de características y seleccionemos las 15 mejores características"
      ]
    },
    {
      "cell_type": "code",
      "metadata": {
        "id": "qT5iWT514Tn6",
        "outputId": "27a378ce-71d8-4470-85d8-059d5df20c66"
      },
      "source": [
        "from sklearn.feature_selection import chi2, SelectKBest\n",
        "\n",
        "skb = SelectKBest(score_func=chi2, k=15)\n",
        "skb.fit(bc_X, bc_y)"
      ],
      "execution_count": null,
      "outputs": [
        {
          "data": {
            "text/plain": [
              "SelectKBest(k=15, score_func=<function chi2 at 0x00000166BF43A7B8>)"
            ]
          },
          "execution_count": 9,
          "metadata": {},
          "output_type": "execute_result"
        }
      ]
    },
    {
      "cell_type": "markdown",
      "metadata": {
        "id": "3CWKNiGJ60jZ"
      },
      "source": [
        "Se puede ver que hemos pasado nuestras características de entrada (bc_X) y las correspondientes salidas de la clase objetivo\n",
        "(bc_y) a la función fit(...) al calcular las métricas necesarias. La prueba de chi-cuadrado calculará\n",
        "estadísticas entre cada característica y la variable de clase (pruebas univariadas). Seleccionar las K principales características elimina las que tengan una puntuación baja y, en consecuencia, poca correlación con la variable objetivo. Por lo tanto, no son útiles para construir modelos. \n",
        "Clasificamos las puntuaciones para ver las características más relevantes\n",
        "relevantes:"
      ]
    },
    {
      "cell_type": "code",
      "metadata": {
        "id": "hBI85Oh84Tn7",
        "outputId": "a0f3af22-72e5-4b55-88a5-5994fc3ffc8b"
      },
      "source": [
        "feature_scores = [(item, score) for item, score in zip(bc_data.feature_names, skb.scores_)]\n",
        "sorted(feature_scores, key=lambda x: -x[1])[:10]"
      ],
      "execution_count": null,
      "outputs": [
        {
          "data": {
            "text/plain": [
              "[('worst area', 112598.43156405364),\n",
              " ('mean area', 53991.655923750892),\n",
              " ('area error', 8758.5047053344697),\n",
              " ('worst perimeter', 3665.0354163405909),\n",
              " ('mean perimeter', 2011.1028637679051),\n",
              " ('worst radius', 491.68915743332195),\n",
              " ('mean radius', 266.10491719517802),\n",
              " ('perimeter error', 250.57189635982184),\n",
              " ('worst texture', 174.44939960571074),\n",
              " ('mean texture', 93.897508098633352)]"
            ]
          },
          "execution_count": 10,
          "metadata": {},
          "output_type": "execute_result"
        }
      ]
    },
    {
      "cell_type": "code",
      "metadata": {
        "id": "FvPwF-bI4Tn9",
        "outputId": "8ea111b9-d195-445f-9977-4ad7bf137668"
      },
      "source": [
        "select_features_kbest = skb.get_support()\n",
        "feature_names_kbest = bc_data.feature_names[select_features_kbest]\n",
        "feature_subset_df = bc_features[feature_names_kbest]\n",
        "bc_SX = np.array(feature_subset_df)\n",
        "print(bc_SX.shape)\n",
        "print(feature_names_kbest)"
      ],
      "execution_count": null,
      "outputs": [
        {
          "name": "stdout",
          "output_type": "stream",
          "text": [
            "(569, 15)\n",
            "['mean radius' 'mean texture' 'mean perimeter' 'mean area' 'mean concavity'\n",
            " 'radius error' 'perimeter error' 'area error' 'worst radius'\n",
            " 'worst texture' 'worst perimeter' 'worst area' 'worst compactness'\n",
            " 'worst concavity' 'worst concave points']\n"
          ]
        }
      ]
    },
    {
      "cell_type": "code",
      "metadata": {
        "id": "6-dlyT7_4Tn_",
        "outputId": "49f789a1-164d-4bcb-9d9d-845276d62693"
      },
      "source": [
        "np.round(feature_subset_df.iloc[20:25], 2)"
      ],
      "execution_count": null,
      "outputs": [
        {
          "data": {
            "text/html": [
              "<div>\n",
              "<style>\n",
              "    .dataframe thead tr:only-child th {\n",
              "        text-align: right;\n",
              "    }\n",
              "\n",
              "    .dataframe thead th {\n",
              "        text-align: left;\n",
              "    }\n",
              "\n",
              "    .dataframe tbody tr th {\n",
              "        vertical-align: top;\n",
              "    }\n",
              "</style>\n",
              "<table border=\"1\" class=\"dataframe\">\n",
              "  <thead>\n",
              "    <tr style=\"text-align: right;\">\n",
              "      <th></th>\n",
              "      <th>mean radius</th>\n",
              "      <th>mean texture</th>\n",
              "      <th>mean perimeter</th>\n",
              "      <th>mean area</th>\n",
              "      <th>mean concavity</th>\n",
              "      <th>radius error</th>\n",
              "      <th>perimeter error</th>\n",
              "      <th>area error</th>\n",
              "      <th>worst radius</th>\n",
              "      <th>worst texture</th>\n",
              "      <th>worst perimeter</th>\n",
              "      <th>worst area</th>\n",
              "      <th>worst compactness</th>\n",
              "      <th>worst concavity</th>\n",
              "      <th>worst concave points</th>\n",
              "    </tr>\n",
              "  </thead>\n",
              "  <tbody>\n",
              "    <tr>\n",
              "      <th>20</th>\n",
              "      <td>13.08</td>\n",
              "      <td>15.71</td>\n",
              "      <td>85.63</td>\n",
              "      <td>520.0</td>\n",
              "      <td>0.05</td>\n",
              "      <td>0.19</td>\n",
              "      <td>1.38</td>\n",
              "      <td>14.67</td>\n",
              "      <td>14.50</td>\n",
              "      <td>20.49</td>\n",
              "      <td>96.09</td>\n",
              "      <td>630.5</td>\n",
              "      <td>0.28</td>\n",
              "      <td>0.19</td>\n",
              "      <td>0.07</td>\n",
              "    </tr>\n",
              "    <tr>\n",
              "      <th>21</th>\n",
              "      <td>9.50</td>\n",
              "      <td>12.44</td>\n",
              "      <td>60.34</td>\n",
              "      <td>273.9</td>\n",
              "      <td>0.03</td>\n",
              "      <td>0.28</td>\n",
              "      <td>1.91</td>\n",
              "      <td>15.70</td>\n",
              "      <td>10.23</td>\n",
              "      <td>15.66</td>\n",
              "      <td>65.13</td>\n",
              "      <td>314.9</td>\n",
              "      <td>0.11</td>\n",
              "      <td>0.09</td>\n",
              "      <td>0.06</td>\n",
              "    </tr>\n",
              "    <tr>\n",
              "      <th>22</th>\n",
              "      <td>15.34</td>\n",
              "      <td>14.26</td>\n",
              "      <td>102.50</td>\n",
              "      <td>704.4</td>\n",
              "      <td>0.21</td>\n",
              "      <td>0.44</td>\n",
              "      <td>3.38</td>\n",
              "      <td>44.91</td>\n",
              "      <td>18.07</td>\n",
              "      <td>19.08</td>\n",
              "      <td>125.10</td>\n",
              "      <td>980.9</td>\n",
              "      <td>0.60</td>\n",
              "      <td>0.63</td>\n",
              "      <td>0.24</td>\n",
              "    </tr>\n",
              "    <tr>\n",
              "      <th>23</th>\n",
              "      <td>21.16</td>\n",
              "      <td>23.04</td>\n",
              "      <td>137.20</td>\n",
              "      <td>1404.0</td>\n",
              "      <td>0.11</td>\n",
              "      <td>0.69</td>\n",
              "      <td>4.30</td>\n",
              "      <td>93.99</td>\n",
              "      <td>29.17</td>\n",
              "      <td>35.59</td>\n",
              "      <td>188.00</td>\n",
              "      <td>2615.0</td>\n",
              "      <td>0.26</td>\n",
              "      <td>0.32</td>\n",
              "      <td>0.20</td>\n",
              "    </tr>\n",
              "    <tr>\n",
              "      <th>24</th>\n",
              "      <td>16.65</td>\n",
              "      <td>21.38</td>\n",
              "      <td>110.00</td>\n",
              "      <td>904.6</td>\n",
              "      <td>0.15</td>\n",
              "      <td>0.81</td>\n",
              "      <td>5.46</td>\n",
              "      <td>102.60</td>\n",
              "      <td>26.46</td>\n",
              "      <td>31.56</td>\n",
              "      <td>177.00</td>\n",
              "      <td>2215.0</td>\n",
              "      <td>0.36</td>\n",
              "      <td>0.47</td>\n",
              "      <td>0.21</td>\n",
              "    </tr>\n",
              "  </tbody>\n",
              "</table>\n",
              "</div>"
            ],
            "text/plain": [
              "    mean radius  mean texture  mean perimeter  mean area  mean concavity  \\\n",
              "20        13.08         15.71           85.63      520.0            0.05   \n",
              "21         9.50         12.44           60.34      273.9            0.03   \n",
              "22        15.34         14.26          102.50      704.4            0.21   \n",
              "23        21.16         23.04          137.20     1404.0            0.11   \n",
              "24        16.65         21.38          110.00      904.6            0.15   \n",
              "\n",
              "    radius error  perimeter error  area error  worst radius  worst texture  \\\n",
              "20          0.19             1.38       14.67         14.50          20.49   \n",
              "21          0.28             1.91       15.70         10.23          15.66   \n",
              "22          0.44             3.38       44.91         18.07          19.08   \n",
              "23          0.69             4.30       93.99         29.17          35.59   \n",
              "24          0.81             5.46      102.60         26.46          31.56   \n",
              "\n",
              "    worst perimeter  worst area  worst compactness  worst concavity  \\\n",
              "20            96.09       630.5               0.28             0.19   \n",
              "21            65.13       314.9               0.11             0.09   \n",
              "22           125.10       980.9               0.60             0.63   \n",
              "23           188.00      2615.0               0.26             0.32   \n",
              "24           177.00      2215.0               0.36             0.47   \n",
              "\n",
              "    worst concave points  \n",
              "20                  0.07  \n",
              "21                  0.06  \n",
              "22                  0.24  \n",
              "23                  0.20  \n",
              "24                  0.21  "
            ]
          },
          "execution_count": 12,
          "metadata": {},
          "output_type": "execute_result"
        }
      ]
    },
    {
      "cell_type": "markdown",
      "metadata": {
        "id": "UFmPBD5a8gdX"
      },
      "source": [
        "Construyamos ahora un sencillo\n",
        "modelo de clasificación utilizando la regresión logística en el conjunto original de 30 características y comparemos el\n",
        "con otro modelo construido con las 15 características seleccionadas. Para la evaluación del modelo,\n",
        "utilizaremos la métrica de precisión (porcentaje de predicciones correctas)"
      ]
    },
    {
      "cell_type": "code",
      "metadata": {
        "id": "PgoMpKAU4ToA",
        "outputId": "e48d93b5-7d6c-44f7-bbc2-a864dc17b048"
      },
      "source": [
        "from sklearn.linear_model import LogisticRegression\n",
        "from sklearn.model_selection import cross_val_score\n",
        "\n",
        "lr = LogisticRegression()\n",
        "\n",
        "full_feat_acc = np.average(cross_val_score(lr, bc_X, bc_y, scoring='accuracy', cv=5))\n",
        "\n",
        "sel_feat_acc = np.average(cross_val_score(lr, bc_SX, bc_y, scoring='accuracy', cv=5))\n",
        "\n",
        "print('Model accuracy statistics with 5-fold cross validation')\n",
        "print('Model accuracy with complete feature set', bc_X.shape, ':', full_feat_acc)\n",
        "print('Model accuracy with selected feature set', bc_SX.shape, ':', sel_feat_acc)"
      ],
      "execution_count": null,
      "outputs": [
        {
          "name": "stdout",
          "output_type": "stream",
          "text": [
            "Model accuracy statistics with 5-fold cross validation\n",
            "Model accuracy with complete feature set (569, 30) : 0.950904193921\n",
            "Model accuracy with selected feature set (569, 15) : 0.952643324356\n"
          ]
        }
      ]
    },
    {
      "cell_type": "markdown",
      "metadata": {
        "id": "WKGI5QVZ4ToC"
      },
      "source": [
        "# Eliminación recursiva de características\n",
        "\n",
        "\n"
      ]
    },
    {
      "cell_type": "markdown",
      "metadata": {
        "id": "GDRtAXWl_js6"
      },
      "source": [
        "También se pueden clasificar y puntuar las características con la ayuda de un modelo de *machine learning*, de manera que\n",
        "se sigan eliminando recursivamente las características con menor puntuación hasta llegar al subconjunto de características específicas.\n",
        "La eliminación recursiva de características, también conocida como RFE, es una técnica popular de método envolvente. La idea básica es comenzar con un estimador específico de ML\n",
        "como el algoritmo de Regresión Logística que utilizamos para la clasificación. A continuación, tomamos las 30 características y lavariable objetivo. RFE asigna pesos a estas características\n",
        "basándose en el ajuste del modelo. Las características con los pesos más pequeños se eliminan y luego se ajusta un modelo de nuevo.\n",
        "\n",
        "Este proceso se lleva a cabo recursivamente varias veces y cada vez se eliminan las características con las puntuaciones/pesos más bajos, hasta que el subconjunto de características podado contenga el número deseado de características que el usuario quería seleccionar (esto se toma como parámetro de entrada al\n",
        "al principio). Esta estrategia también se conoce popularmente como *backward elimination*. "
      ]
    },
    {
      "cell_type": "code",
      "metadata": {
        "id": "6ToqW-XD4ToD",
        "outputId": "89f67416-adf8-444c-9310-a056d8bfbb0d"
      },
      "source": [
        "from sklearn.feature_selection import RFE\n",
        "\n",
        "lr = LogisticRegression()\n",
        "rfe = RFE(estimator=lr, n_features_to_select=15, step=1)\n",
        "rfe.fit(bc_X, bc_y)"
      ],
      "execution_count": null,
      "outputs": [
        {
          "data": {
            "text/plain": [
              "RFE(estimator=LogisticRegression(C=1.0, class_weight=None, dual=False, fit_intercept=True,\n",
              "          intercept_scaling=1, max_iter=100, multi_class='ovr', n_jobs=1,\n",
              "          penalty='l2', random_state=None, solver='liblinear', tol=0.0001,\n",
              "          verbose=0, warm_start=False),\n",
              "  n_features_to_select=15, step=1, verbose=0)"
            ]
          },
          "execution_count": 14,
          "metadata": {},
          "output_type": "execute_result"
        }
      ]
    },
    {
      "cell_type": "code",
      "metadata": {
        "id": "tWVZ4viH4ToE",
        "outputId": "fa566c0a-a863-4bd7-9b77-f134ffd02dba"
      },
      "source": [
        "select_features_rfe = rfe.get_support()\n",
        "feature_names_rfe = bc_data.feature_names[select_features_rfe]\n",
        "print(feature_names_rfe)"
      ],
      "execution_count": null,
      "outputs": [
        {
          "name": "stdout",
          "output_type": "stream",
          "text": [
            "['mean radius' 'mean texture' 'mean perimeter' 'mean smoothness'\n",
            " 'mean concavity' 'mean concave points' 'mean symmetry' 'texture error'\n",
            " 'worst radius' 'worst texture' 'worst smoothness' 'worst concavity'\n",
            " 'worst concave points' 'worst symmetry' 'worst fractal dimension']\n"
          ]
        }
      ]
    },
    {
      "cell_type": "markdown",
      "metadata": {
        "id": "ograHFPrBFkI"
      },
      "source": [
        "¿Podemos comparar este subconjunto de características con el que obtuvimos mediante pruebas estadísticas y ver qué características son comunes entre ambos subconjuntos?\n",
        "Utilizamos las operaciones de conjunto\n",
        "para obtener la lista de características seleccionadas por ambas técnicas."
      ]
    },
    {
      "cell_type": "code",
      "metadata": {
        "id": "56dHCnXx4ToF",
        "outputId": "f2222659-b11b-4500-df10-ee60a5197587"
      },
      "source": [
        "set(feature_names_kbest) & set(feature_names_rfe)"
      ],
      "execution_count": null,
      "outputs": [
        {
          "data": {
            "text/plain": [
              "{'mean concavity',\n",
              " 'mean perimeter',\n",
              " 'mean radius',\n",
              " 'mean texture',\n",
              " 'worst concave points',\n",
              " 'worst concavity',\n",
              " 'worst radius',\n",
              " 'worst texture'}"
            ]
          },
          "execution_count": 16,
          "metadata": {},
          "output_type": "execute_result"
        }
      ]
    },
    {
      "cell_type": "markdown",
      "metadata": {
        "id": "ul_yTBGw4ToG"
      },
      "source": [
        "# Selección basada en modelos\n"
      ]
    },
    {
      "cell_type": "markdown",
      "metadata": {
        "id": "LUw3GPyQC5Z6"
      },
      "source": [
        "Los árboles de decisión y *random forests* pueden\n",
        "utilizarse no sólo para el modelado, sino también para la selección de características. Pueden utilizarse para calcular la importancia de cada\n",
        "características, seleccionar las mejores y\n",
        "descartar las irrelevantes con puntuaciones más bajas"
      ]
    },
    {
      "cell_type": "code",
      "metadata": {
        "id": "633MlZmC4ToG",
        "outputId": "8aa834c5-c059-4383-9037-301ad3e3d7ef"
      },
      "source": [
        "from sklearn.ensemble import RandomForestClassifier\n",
        "\n",
        "rfc = RandomForestClassifier()\n",
        "rfc.fit(bc_X, bc_y)"
      ],
      "execution_count": null,
      "outputs": [
        {
          "data": {
            "text/plain": [
              "RandomForestClassifier(bootstrap=True, class_weight=None, criterion='gini',\n",
              "            max_depth=None, max_features='auto', max_leaf_nodes=None,\n",
              "            min_impurity_split=1e-07, min_samples_leaf=1,\n",
              "            min_samples_split=2, min_weight_fraction_leaf=0.0,\n",
              "            n_estimators=10, n_jobs=1, oob_score=False, random_state=None,\n",
              "            verbose=0, warm_start=False)"
            ]
          },
          "execution_count": 17,
          "metadata": {},
          "output_type": "execute_result"
        }
      ]
    },
    {
      "cell_type": "code",
      "metadata": {
        "id": "m_IbSXwL4ToH",
        "outputId": "3483b44e-d25c-4c93-c170-dc925a0667d3"
      },
      "source": [
        "importance_scores = rfc.feature_importances_\n",
        "feature_importances = [(feature, score) for feature, score in zip(bc_data.feature_names, importance_scores)]\n",
        "sorted(feature_importances, key=lambda x: -x[1])[:10]"
      ],
      "execution_count": null,
      "outputs": [
        {
          "data": {
            "text/plain": [
              "[('worst concave points', 0.22465186401289805),\n",
              " ('worst area', 0.22183657032316897),\n",
              " ('mean concave points', 0.18192574025833769),\n",
              " ('worst perimeter', 0.099521838900566054),\n",
              " ('worst radius', 0.084068507192381611),\n",
              " ('worst texture', 0.02243708745933972),\n",
              " ('mean perimeter', 0.020073882937172081),\n",
              " ('worst smoothness', 0.014608966775322443),\n",
              " ('mean radius', 0.01374196961657885),\n",
              " ('worst concavity', 0.011340255118074721)]"
            ]
          },
          "execution_count": 18,
          "metadata": {},
          "output_type": "execute_result"
        }
      ]
    },
    {
      "cell_type": "markdown",
      "metadata": {
        "id": "_gR1jbm-GZZv"
      },
      "source": [
        "Ahora podemos filtrar las n características principales según sea necesario \n",
        "\n",
        "Ejercicio: Encontrar cuántas de las características mejor clasificadas del modelo de *Random Forest* son comunes con los dos selectores de características anteriores"
      ]
    },
    {
      "cell_type": "markdown",
      "metadata": {
        "id": "fhyS3Bcd4ToI"
      },
      "source": [
        "# Reducción de dimensionalidad"
      ]
    },
    {
      "cell_type": "code",
      "metadata": {
        "id": "np4g6FQA4ToL",
        "outputId": "222ff607-f4f9-41c9-8b95-0cac849a13ef"
      },
      "source": [
        "from sklearn.decomposition import PCA\n",
        "pca = PCA(n_components=3)\n",
        "pca.fit(bc_X)"
      ],
      "execution_count": null,
      "outputs": [
        {
          "data": {
            "text/plain": [
              "PCA(copy=True, iterated_power='auto', n_components=3, random_state=None,\n",
              "  svd_solver='auto', tol=0.0, whiten=False)"
            ]
          },
          "execution_count": 21,
          "metadata": {},
          "output_type": "execute_result"
        }
      ]
    },
    {
      "cell_type": "code",
      "metadata": {
        "id": "Ox8xjARH4ToM",
        "outputId": "4b8af074-9e21-433f-8809-83487d222d68"
      },
      "source": [
        "pca.explained_variance_ratio_"
      ],
      "execution_count": null,
      "outputs": [
        {
          "data": {
            "text/plain": [
              "array([ 0.98204467,  0.01617649,  0.00155751])"
            ]
          },
          "execution_count": 22,
          "metadata": {},
          "output_type": "execute_result"
        }
      ]
    },
    {
      "cell_type": "code",
      "metadata": {
        "id": "cGSlW6jS4ToM",
        "outputId": "f77b2d07-d48e-41b7-a768-fd73ad435aaf"
      },
      "source": [
        "bc_pca = pca.transform(bc_X)\n",
        "np.round(bc_pca, 2)"
      ],
      "execution_count": null,
      "outputs": [
        {
          "data": {
            "text/plain": [
              "array([[ 1160.14,  -293.92,    48.58],\n",
              "       [ 1269.12,    15.63,   -35.39],\n",
              "       [  995.79,    39.16,    -1.71],\n",
              "       ..., \n",
              "       [  314.5 ,    47.55,   -10.44],\n",
              "       [ 1124.86,    34.13,   -19.74],\n",
              "       [ -771.53,   -88.64,    23.89]])"
            ]
          },
          "execution_count": 23,
          "metadata": {},
          "output_type": "execute_result"
        }
      ]
    },
    {
      "cell_type": "markdown",
      "metadata": {
        "id": "PxLUN6YSpvAz"
      },
      "source": [
        "Construyamos un modelo de regresión logística como antes y utilicemos la precisión del modelo para evaluar la calidad, utilizando sólo tres características."
      ]
    },
    {
      "cell_type": "code",
      "metadata": {
        "id": "XjJQLics4ToN",
        "outputId": "3b7a662b-915b-4063-a927-4fb6c037509b"
      },
      "source": [
        "np.average(cross_val_score(lr, bc_pca, bc_y, scoring='accuracy', cv=5))"
      ],
      "execution_count": null,
      "outputs": [
        {
          "data": {
            "text/plain": [
              "0.92808003078106949"
            ]
          },
          "execution_count": 24,
          "metadata": {},
          "output_type": "execute_result"
        }
      ]
    },
    {
      "cell_type": "markdown",
      "metadata": {
        "id": "9RfZyo3Dp_k3"
      },
      "source": [
        "Podemos ver en el resultado anterior que, a pesar de utilizar sólo tres características derivadas de los\n",
        "componentes principales en lugar de las 30 características originales, seguimos obteniendo una precisión del modelo cercana al 93%,\n",
        "lo que es bastante decente."
      ]
    }
  ]
}